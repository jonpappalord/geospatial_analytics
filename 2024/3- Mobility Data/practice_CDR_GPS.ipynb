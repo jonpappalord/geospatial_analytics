{
 "cells": [
  {
   "cell_type": "code",
   "execution_count": null,
   "id": "2a21a50e-4e29-45ee-826e-c9b0d6cd1a57",
   "metadata": {},
   "outputs": [],
   "source": [
    "import warnings\n",
    "warnings.filterwarnings(\"ignore\")\n",
    "\n",
    "import osmnx as ox\n",
    "import networkx as nx\n",
    "import pandas as pd\n",
    "import skmob\n",
    "import geopandas as gpd\n",
    "import shapely\n",
    "from shapely import Point\n",
    "import numpy as np\n",
    "from matplotlib import pyplot as plt\n",
    "from geovoronoi import voronoi_regions_from_coords"
   ]
  },
  {
   "cell_type": "markdown",
   "id": "e6b95683-504b-4d3b-a0be-507db1234b74",
   "metadata": {},
   "source": [
    "# Exercise 1: Differences between GPS and CDR trajectories in Pisa\n",
    "\n",
    "In this exercise, you will explore the differences between trajectories derived from GPS data and those based on call detail records (CDR) in the city of Pisa. You will need to identify a specific route within the city and compare the trajectories obtained using two different data sources."
   ]
  },
  {
   "cell_type": "markdown",
   "id": "e1d1afab-8c48-4b8a-a4f2-3c45d487e8b9",
   "metadata": {},
   "source": [
    "Steps:\n",
    "\n",
    "1. Obtain some GPS data\n",
    "2. Position of the antennas -> public dataset -> OpenCellID\n",
    "3. Get a tessellation (Voronoi) based on the antennas\n",
    "4. Spatial join to associate to each GPS point the closest antenna\n",
    "5. Take the centroid of the voronoi cell as the CDR point of the GPS point"
   ]
  },
  {
   "cell_type": "markdown",
   "id": "b38b195d-b256-4919-9f9c-f2565695df9c",
   "metadata": {},
   "source": [
    "**Pseudocode to obtain a CDR-like trajectory from a GPS trajectory**\n",
    "```\n",
    "cdr_trajectory = []\n",
    "For each (gps_point, time) in gps_trajectory: # take into account time\n",
    "    1. voronoi_cell = spatial_join(...)\n",
    "    2. cdr_point = voronoi_cell.centroid\n",
    "    3. cdr_trajectory.append(cdr_point, time)\n",
    "\n",
    "visualize gps and cdr trajectories\n",
    "```"
   ]
  },
  {
   "cell_type": "markdown",
   "id": "46ad133f-d401-45d4-b802-65b70600af2b",
   "metadata": {},
   "source": [
    "## Step 1. Obtain some GPS data\n",
    "\n",
    "Download the road network of Pisa. Create a route on it and translate into a sequence of GPS points.\n"
   ]
  },
  {
   "cell_type": "code",
   "execution_count": null,
   "id": "ab5c609d-c2f4-485c-8063-0e1de51ef675",
   "metadata": {},
   "outputs": [],
   "source": [
    "# Central point around which build the road network\n",
    "center_point = (43.7159556489785, 10.401897839562224)"
   ]
  },
  {
   "cell_type": "code",
   "execution_count": null,
   "id": "ff197bf6-726c-4834-87bb-ab86f46221e1",
   "metadata": {},
   "outputs": [],
   "source": [
    "# download and plot the road network\n",
    "G = ox.graph.graph_from_point(center_point, dist=2000, network_type='walk')\n",
    "ox.plot.plot_graph(G)"
   ]
  },
  {
   "cell_type": "code",
   "execution_count": null,
   "id": "2aff628b-74ae-4b06-93e3-542af6fd1bba",
   "metadata": {},
   "outputs": [],
   "source": [
    "# start and ending location of the trip\n",
    "\n",
    "start_loc = (43.72044281717659, 10.408522048226846)\n",
    "end_loc = (43.70850381626197, 10.398664981308885)"
   ]
  },
  {
   "cell_type": "code",
   "execution_count": null,
   "id": "58ae4b24-4e51-458f-9248-ca443c1e4fc8",
   "metadata": {},
   "outputs": [],
   "source": [
    "# associate to the starting and ending position the closest node\n",
    "\n",
    "start_node = ox.distance.nearest_nodes(G, start_loc[1], start_loc[0], return_dist=False)\n",
    "print(start_node)\n",
    "\n",
    "end_node = ox.distance.nearest_nodes(G, end_loc[1], end_loc[0], return_dist=False)\n",
    "print(end_node)"
   ]
  },
  {
   "cell_type": "code",
   "execution_count": null,
   "id": "04a27c97-1262-4040-b7df-f4f8c8b30c92",
   "metadata": {},
   "outputs": [],
   "source": [
    "# compute the shortest path and visualize it\n",
    "\n",
    "shortest_path = nx.shortest_path(G, start_node, end_node, weight=\"length\")\n",
    "ox.plot.plot_graph_route(G, shortest_path)"
   ]
  },
  {
   "cell_type": "code",
   "execution_count": null,
   "id": "97364518-5c9a-413c-8be6-07eea6625965",
   "metadata": {},
   "outputs": [],
   "source": [
    "# translate the sequence of nodes into a sequence of coordinates and create a TrajDataFrame\n",
    "\n",
    "list_lat, list_lng = [], []\n",
    "\n",
    "for node in shortest_path:\n",
    "\n",
    "    lng = G.nodes[node][\"x\"]\n",
    "    lat = G.nodes[node][\"y\"]\n",
    "\n",
    "    list_lat.append(lat)\n",
    "    list_lng.append(lng)\n",
    "\n",
    "df_traj = pd.DataFrame()\n",
    "df_traj[\"uid\"] = [42] * len(shortest_path)\n",
    "df_traj[\"lat\"] = list_lat\n",
    "df_traj[\"lng\"] = list_lng\n",
    "\n",
    "start_date = pd.to_datetime(\"2024-10-18 12:00:00\")\n",
    "\n",
    "# Generate a sequence of datetimes every 10 seconds for 10 minutes\n",
    "time_sequence = pd.date_range(start=start_date, periods=len(shortest_path), freq='10S')\n",
    "df_traj[\"datetime\"] = time_sequence\n",
    "tdf = skmob.TrajDataFrame(df_traj)"
   ]
  },
  {
   "cell_type": "code",
   "execution_count": null,
   "id": "287ef89c-35ef-4ffe-a9b5-a1a1adcf2262",
   "metadata": {},
   "outputs": [],
   "source": []
  },
  {
   "cell_type": "code",
   "execution_count": null,
   "id": "c43cb7e5-b369-4778-a4e3-2aeb8a817b4b",
   "metadata": {},
   "outputs": [],
   "source": [
    "# plot the trajectory\n",
    "\n",
    "tdf.plot_trajectory()"
   ]
  },
  {
   "cell_type": "markdown",
   "id": "7e4e4416-2c51-4863-901c-873f8ce5bcff",
   "metadata": {},
   "source": [
    "## Step 2. Obtain the position of the antennas\n",
    "\n",
    "Download the dataset from https://opencellid.org.\n"
   ]
  },
  {
   "cell_type": "code",
   "execution_count": null,
   "id": "1ac4d67c-c4e0-4403-855b-9f8653a67fb7",
   "metadata": {},
   "outputs": [],
   "source": [
    "# load the dataset\n",
    "\n",
    "df_antennas = pd.read_csv(\"./222.csv.gz\", compression=\"gzip\", header=None)"
   ]
  },
  {
   "cell_type": "code",
   "execution_count": null,
   "id": "3dfda58e-b3b3-4bc2-9466-bd52db3a0a91",
   "metadata": {},
   "outputs": [],
   "source": [
    "# create a GeoDataFrame describing it\n",
    "\n",
    "geometry_list = [Point(x, y) for x, y in zip(df_antennas[6], df_antennas[7])]\n",
    "gpd_antennas = gpd.GeoDataFrame(geometry=geometry_list)\n",
    "gpd_antennas[\"ID\"] = np.arange(len(gpd_antennas))\n",
    "gpd_antennas.plot(markersize=1)"
   ]
  },
  {
   "cell_type": "code",
   "execution_count": null,
   "id": "60caa4df-3f03-4677-9d6e-04a16faf3770",
   "metadata": {},
   "outputs": [],
   "source": [
    "# filter the antennas to retain only the ones in Pisa\n",
    "\n",
    "# shapefile of Pisa\n",
    "city_shape = ox.geocode_to_gdf(\"Pisa, Italy\")\n",
    "\n",
    "# spatial join to keep only the antennas within the shapefile of Pisa\n",
    "antennas_pisa = gpd.sjoin(gpd_antennas, city_shape, predicate=\"within\")"
   ]
  },
  {
   "cell_type": "markdown",
   "id": "20ba3a6c-5eb9-4024-bdb5-75585a561d14",
   "metadata": {},
   "source": [
    "## Step 3. Get a tessellation (Voronoi) based on the antennas"
   ]
  },
  {
   "cell_type": "code",
   "execution_count": null,
   "id": "20b3e28f-7b97-4c78-b257-0098ddcac80d",
   "metadata": {},
   "outputs": [],
   "source": [
    "# Generate the Voronoi tessellation\n",
    "coords = [Point(geom.x, geom.y) for geom in antennas_pisa.geometry]\n",
    "region_polys, region_pts = voronoi_regions_from_coords(coords, city_shape.iloc[0].geometry)"
   ]
  },
  {
   "cell_type": "code",
   "execution_count": null,
   "id": "68454cdf-1352-4c2e-9e2c-edef8426a816",
   "metadata": {},
   "outputs": [],
   "source": [
    "# Create a GeoDataFrame\n",
    "\n",
    "geometry_voronoi = []\n",
    "\n",
    "for id, surface in region_polys.items():\n",
    "    if isinstance(surface, shapely.Polygon):\n",
    "        geometry_voronoi.append(surface)\n",
    "\n",
    "gpd_voronoi = gpd.GeoDataFrame(geometry=geometry_voronoi)\n",
    "gpd_voronoi[\"tile_ID\"] = np.arange(len(gpd_voronoi))\n",
    "\n",
    "fig, ax = plt.subplots(1,1)\n",
    "\n",
    "gpd_voronoi.plot(ax=ax)\n",
    "gpd_voronoi.centroid.plot(ax=ax, color=\"red\", markersize=1)\n",
    "plt.xlim(10.3, 10.5)\n",
    "plt.ylim(43.6, 43.8)"
   ]
  },
  {
   "cell_type": "markdown",
   "id": "6edf426e-1c36-4760-a753-5271d8977e17",
   "metadata": {},
   "source": [
    "## Step 4. Spatial join to associate to each GPS point the closest antenna"
   ]
  },
  {
   "cell_type": "code",
   "execution_count": null,
   "id": "7c6e6218-01a5-484e-a4dc-6a2e5b21e682",
   "metadata": {},
   "outputs": [],
   "source": [
    "# associate to each GPS point the closest antenna\n",
    "\n",
    "tdf_cdr = tdf.mapping(gpd_voronoi)"
   ]
  },
  {
   "cell_type": "markdown",
   "id": "8d5ba70f-fc2f-4a5d-8bee-7e8ace476bdb",
   "metadata": {},
   "source": [
    "## Step 5. Take the centroid of the voronoi cell as the CDR point of the GPS point"
   ]
  },
  {
   "cell_type": "code",
   "execution_count": null,
   "id": "0c63daf5-70d8-4d61-8fd1-a311b89d1a43",
   "metadata": {},
   "outputs": [],
   "source": [
    "# create a dictionary in which we associate at each antenna its centroid\n",
    "\n",
    "dict_antenna_to_centroid = {}\n",
    "\n",
    "for geo, tid in zip(gpd_voronoi[\"geometry\"], gpd_voronoi[\"tile_ID\"]):\n",
    "    centroid = geo.centroid\n",
    "    dict_antenna_to_centroid[tid] = [centroid.y, centroid.x]\n",
    "    "
   ]
  },
  {
   "cell_type": "code",
   "execution_count": null,
   "id": "d2a49af7-039a-41f5-a24a-893be6be20a1",
   "metadata": {},
   "outputs": [],
   "source": [
    "# lat e lng are associated with the coordinates of the centroid\n",
    "\n",
    "tdf_cdr[\"lat\"] = tdf_cdr[\"tile_ID\"].apply(lambda x: dict_antenna_to_centroid[x][0])\n",
    "tdf_cdr[\"lng\"] = tdf_cdr[\"tile_ID\"].apply(lambda x: dict_antenna_to_centroid[x][1])"
   ]
  },
  {
   "cell_type": "code",
   "execution_count": null,
   "id": "23af3e64-1f25-401e-b2de-1ed4f6fc735a",
   "metadata": {},
   "outputs": [],
   "source": [
    "map_f = tdf.plot_trajectory(hex_color=\"black\", start_end_markers=True)\n",
    "tdf_cdr.plot_trajectory(hex_color=\"red\", start_end_markers=True, map_f=map_f)"
   ]
  }
 ],
 "metadata": {
  "kernelspec": {
   "display_name": "Python 3 (ipykernel)",
   "language": "python",
   "name": "python3"
  },
  "language_info": {
   "codemirror_mode": {
    "name": "ipython",
    "version": 3
   },
   "file_extension": ".py",
   "mimetype": "text/x-python",
   "name": "python",
   "nbconvert_exporter": "python",
   "pygments_lexer": "ipython3",
   "version": "3.8.19"
  }
 },
 "nbformat": 4,
 "nbformat_minor": 5
}
