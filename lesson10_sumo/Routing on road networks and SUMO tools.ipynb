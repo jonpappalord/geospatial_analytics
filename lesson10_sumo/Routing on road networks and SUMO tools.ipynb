{
 "cells": [
  {
   "cell_type": "markdown",
   "id": "3acdc8a8",
   "metadata": {},
   "source": [
    "#  Geospatial Analytics - Routing on Road Networks and SUMO tools"
   ]
  },
  {
   "cell_type": "markdown",
   "id": "c12feac6",
   "metadata": {},
   "source": [
    "Author: Giuliano Cornacchia\n",
    "</br>Geospatial Analytics, Master degree in Data Science and Business Informatics, University of Pisa"
   ]
  },
  {
   "cell_type": "markdown",
   "id": "95621ff2",
   "metadata": {},
   "source": [
    "___\n",
    "In this lesson, we will learn how to handle and use SUMO tools in Python and from command line.\n",
    "\n",
    "1. [sumolib](#sumolib)\n",
    "2. [duarouter](#duarouter)\n",
    "3. [TraCi](#traci)\n",
    "4. [Routing](#routing)"
   ]
  },
  {
   "cell_type": "markdown",
   "id": "c2516180",
   "metadata": {},
   "source": [
    "<a id='sumolib'></a>\n",
    "## sumolib\n",
    "\n",
    "sumolib is a python library for working with SUMO networks.\n",
    "\n",
    "ref: https://sumo.dlr.de/docs/Tools/Sumolib.html"
   ]
  },
  {
   "cell_type": "code",
   "execution_count": null,
   "id": "a14569f8",
   "metadata": {},
   "outputs": [],
   "source": [
    "# import the sumolib library\n",
    "import sumolib\n",
    "\n",
    "# read the road network\n",
    "net = sumolib.net.readNet('road_network_pisa.net.xml')"
   ]
  },
  {
   "cell_type": "code",
   "execution_count": null,
   "id": "ffddd987",
   "metadata": {},
   "outputs": [],
   "source": [
    "# get the list of edges\n",
    "edge_list = net.getEdges()\n",
    "\n",
    "# get the list of nodes\n",
    "node_list = net.getNodes()\n",
    "\n",
    "print(f\"The road network has {len(edge_list)} edges and {len(node_list)} nodes.\")"
   ]
  },
  {
   "cell_type": "code",
   "execution_count": null,
   "id": "c401f7fc",
   "metadata": {},
   "outputs": [],
   "source": [
    "# get the coordinate of an edge (we consider the from node)\n",
    "\n",
    "e = edge_list[42]\n",
    "\n",
    "x, y = e.getFromNode().getCoord()\n",
    "lon, lat = net.convertXY2LonLat(x, y)\n",
    "\n",
    "print(f\"SUMO reference coordinates (x,y): {x,y}\")\n",
    "print(f\"GPS coordinates (lon,lat): {lon, lat}\")"
   ]
  },
  {
   "cell_type": "markdown",
   "id": "872565d9",
   "metadata": {},
   "source": [
    "#### Retrieve the closest edge to a GPS point"
   ]
  },
  {
   "cell_type": "code",
   "execution_count": null,
   "id": "b1369a03",
   "metadata": {},
   "outputs": [],
   "source": [
    "lon_polo_fibonacci, lat_polo_fibonacci = 10.407580310750713, 43.72082373893976\n",
    "\n",
    "# convert into SUMO coordinates (x, y)\n",
    "x_polo_fibonacci, y_polo_fibonacci = net.convertLonLat2XY(lon_polo_fibonacci, lat_polo_fibonacci)\n",
    "print(f\"SUMO reference coordinates (x,y): {x_polo_fibonacci,y_polo_fibonacci}\")"
   ]
  },
  {
   "cell_type": "code",
   "execution_count": null,
   "id": "fd2cae8c",
   "metadata": {},
   "outputs": [],
   "source": [
    "# retrieve the set of Neighboring edges\n",
    "candiates_edges = net.getNeighboringEdges(x_polo_fibonacci, y_polo_fibonacci, r=25)\n",
    "\n",
    "# IMPORTANT! the result of net.getNeighboringEdges is not sorted by distance\n",
    "edges_and_dist = sorted(candiates_edges, key = lambda x: x[1])\n",
    "edges_and_dist"
   ]
  },
  {
   "cell_type": "code",
   "execution_count": null,
   "id": "506a27c8",
   "metadata": {},
   "outputs": [],
   "source": [
    "closest_edge_fibonacci = edges_and_dist[0][0]\n",
    "\n",
    "print(f\"Name: {closest_edge_fibonacci.getName()}\")\n",
    "print(f\"Edge ID: {closest_edge_fibonacci.getID()}\")"
   ]
  },
  {
   "cell_type": "markdown",
   "id": "7f8b3cc9",
   "metadata": {},
   "source": [
    "#### Compute the shortest and the fastest path between two edges"
   ]
  },
  {
   "cell_type": "code",
   "execution_count": null,
   "id": "08fcb43f",
   "metadata": {},
   "outputs": [],
   "source": [
    "# get the shortest path (minimizes length) and fastest path (minimzes travel time)\n",
    "\n",
    "e_origin, e_destination = e, closest_edge_fibonacci"
   ]
  },
  {
   "cell_type": "code",
   "execution_count": null,
   "id": "ff00a299",
   "metadata": {},
   "outputs": [],
   "source": [
    "# shortest path\n",
    "\n",
    "shortest_path = net.getOptimalPath(e_origin, e_destination, fastest=False)\n",
    "\n",
    "print(f\"Number of edges in the path: {len(shortest_path[0])}\")\n",
    "print(f\"Cost [m]: {shortest_path[1]}\")"
   ]
  },
  {
   "cell_type": "code",
   "execution_count": null,
   "id": "6bdc5afd",
   "metadata": {},
   "outputs": [],
   "source": [
    "# fastest path\n",
    "\n",
    "fastest_path = net.getOptimalPath(e_origin, e_destination, fastest=True)\n",
    "\n",
    "print(f\"Number of edges in the path: {len(fastest_path[0])}\")\n",
    "print(f\"Cost [s]: {fastest_path[1]}\")"
   ]
  },
  {
   "cell_type": "markdown",
   "id": "2f2b8384",
   "metadata": {},
   "source": [
    "<a id='duarouter'></a>\n",
    "## duarouter\n",
    "\n",
    "Duarouter is a python tool that computes vehicle routes that may be used by SUMO.\n",
    "\n",
    "In other words, duarouter converts **Incomplete Routes** into **Routes** according to a specified routing algorithm.\n",
    "\n",
    "ref: https://sumo.dlr.de/docs/duarouter.html"
   ]
  },
  {
   "cell_type": "code",
   "execution_count": null,
   "id": "5a21e2a8",
   "metadata": {},
   "outputs": [],
   "source": [
    "import subprocess\n",
    "\n",
    "# prepare the command string for duarouter\n",
    "\n",
    "command_str = \"duarouter --route-files traffic_demand_pisa.rou.xml \"+\\\n",
    "        \" --net-file road_network_pisa.net.xml\"+\\\n",
    "        \" --output-file traffic_demand_pisa_duarouter.rou.xml\""
   ]
  },
  {
   "cell_type": "markdown",
   "id": "19c6ad9f",
   "metadata": {},
   "source": [
    "Let's call the duarouter python application"
   ]
  },
  {
   "cell_type": "code",
   "execution_count": null,
   "id": "068d34c3",
   "metadata": {},
   "outputs": [],
   "source": [
    "p = subprocess.Popen(command_str, shell=True, stdout=subprocess.PIPE, \n",
    "                                     stderr=subprocess.STDOUT)\n",
    "retval = p.wait()"
   ]
  },
  {
   "cell_type": "markdown",
   "id": "ef3f0cfb",
   "metadata": {},
   "source": [
    "Look in the current folder, you will find the outputs of duarouter.\n",
    "- `traffic_demand_pisa_duarouter.rou.xml`: the generated traffic demand file with vehicles and routes;`\n",
    "- `traffic_demand_pisa_duarouter.rou.alt.xml`: additionally, a `.rou.alt.xml` file will be generated; it contains route ditribution.\n",
    "\n"
   ]
  },
  {
   "cell_type": "markdown",
   "id": "2ae9225b",
   "metadata": {},
   "source": [
    "Duarouter supports different routing algorithms (e.g., dijkstra and A*).\n",
    "\n",
    "You can specify which algorithm to use using the option `--routing-algorithm <ALG>`\n",
    "\n",
    "see https://sumo.dlr.de/docs/Simulation/Routing.html#routing_algorithms"
   ]
  },
  {
   "cell_type": "code",
   "execution_count": null,
   "id": "a619be13",
   "metadata": {},
   "outputs": [],
   "source": [
    "command_str_astar = \"duarouter --route-files traffic_demand_pisa.rou.xml \"+\\\n",
    "        \" --net-file road_network_pisa.net.xml\"+\\\n",
    "        \" --output-file traffic_demand_pisa_duarouter_astar.rou.xml --routing-algorithm astar\"\n",
    "\n",
    "p = subprocess.Popen(command_str_astar, shell=True, stdout=subprocess.PIPE, \n",
    "                                     stderr=subprocess.STDOUT)\n",
    "retval = p.wait()"
   ]
  },
  {
   "cell_type": "markdown",
   "id": "d04676f5",
   "metadata": {},
   "source": [
    "#### Random perturbation\n",
    "\n",
    "Duarouter allows perturbing the fastest path using a randomisation parameter\n",
    "𝑤 ∈ \\[1, $+\\infty$\\), where 𝑤 = 1 means no randomisation (i.e., the fastest path), and the higher 𝑤, the more randomly perturbed the fastest\n",
    "path is.\n",
    "\n",
    "You can specify the degree of perturbation ($w$) with the option `--weights.random-factor <WEIGHT>`"
   ]
  },
  {
   "cell_type": "markdown",
   "id": "cfb1c117",
   "metadata": {},
   "source": [
    "<img src=\"https://i.ibb.co/9bc7yb5/Screenshot-2022-11-16-at-14-24-58-How-Routing-Strategies-Impact-Urban-Emissions-How-Routing-Strategi.png\" width=\"300px\" border=\"0\">"
   ]
  },
  {
   "cell_type": "code",
   "execution_count": null,
   "id": "54333ad7",
   "metadata": {},
   "outputs": [],
   "source": [
    "command_str_w = \"duarouter --route-files traffic_demand_pisa.rou.xml \"+\\\n",
    "        \" --net-file road_network_pisa.net.xml\"+\\\n",
    "        \" --output-file traffic_demand_pisa_duarouter_w.rou.xml --weights.random-factor 300\"\n",
    "\n",
    "p = subprocess.Popen(command_str_w, shell=True, stdout=subprocess.PIPE, \n",
    "                                     stderr=subprocess.STDOUT)\n",
    "retval = p.wait()"
   ]
  },
  {
   "cell_type": "markdown",
   "id": "bea72b8e",
   "metadata": {},
   "source": [
    "<a id=\"traci\"></a>\n",
    "## TraCi\n",
    "\n",
    "TraCi is a Python controller that allows to control and manipulate at runtime any aspect of the simulation, e.g., the internal data structures of SUMO; the cost to pay is an overhead.\n",
    "With TraCi is possible to retrieve several simulations variables (e.g., vehicles' GPS positions, vehicles' emissions and so on). <br>\n",
    "TraCi allows us to make the vehicles communicate or coordinate with themselves and many more. <br><br>\n",
    "See https://sumo.dlr.de/docs/TraCI.html#value_retrieval for a list of variable you can extract with TraCi.\n",
    "\n",
    "ref: https://sumo.dlr.de/docs/TraCI.html"
   ]
  },
  {
   "cell_type": "code",
   "execution_count": null,
   "id": "fcb3fcf0",
   "metadata": {},
   "outputs": [],
   "source": [
    "# import the traci library\n",
    "import traci\n",
    "from utils import init_traci"
   ]
  },
  {
   "cell_type": "code",
   "execution_count": null,
   "id": "4166d896",
   "metadata": {},
   "outputs": [],
   "source": [
    "# initialize TraCi by specifing the configuration file\n",
    "\n",
    "init_traci(\"./sumo_config_pisa.sumocfg\")\n",
    "\n",
    "n_steps = 10\n",
    "\n",
    "# simulate each step\n",
    "for step in range(n_steps):\n",
    "    \n",
    "    # perform a simulation step\n",
    "    traci.simulationStep()\n",
    "    \n",
    "    # get the list of active vehicles (vehicles inserted in the simulation)\n",
    "    vehicle_list = traci.vehicle.getIDList()\n",
    "    \n",
    "    # value retrieval\n",
    "    for v_id in vehicle_list:\n",
    "        \n",
    "        # some examples of value you can retrieve\n",
    "        \n",
    "        # Speed [m/s]\n",
    "        speed_ms = traci.vehicle.getSpeed(v_id)\n",
    "        \n",
    "        # CO2 emissions [mg/s] \n",
    "        co2_emissions = traci.vehicle.getCO2Emission(v_id)\n",
    "        \n",
    "        # Position\n",
    "        x, y = traci.vehicle.getPosition(v_id)\n",
    "        lon, lat = traci.simulation.convertGeo(x, y)\n",
    "        \n",
    "        print(f\"Vehicle ID: {v_id}\")\n",
    "        print(f\"position [lon, lat]: {lon, lat}\")\n",
    "        print(f\"speed [m/s]: {speed_ms}\")\n",
    "        print(f\"CO2 emissions [mg/s]: {co2_emissions}\\n\")\n",
    "        \n",
    "        \n",
    "# close TraCi when the total number of steps to simulate is reached\n",
    "traci.close()"
   ]
  },
  {
   "cell_type": "markdown",
   "id": "4b3edd2a",
   "metadata": {},
   "source": [
    "<a id=\"routing\"></a>\n",
    "## Routing"
   ]
  },
  {
   "cell_type": "markdown",
   "id": "4b01d3ca",
   "metadata": {},
   "source": [
    "So far we have seen three ways to define routes (routing strategies) between an origin and destination edges:<br>\n",
    "1. Shortest Path;<br>\n",
    "2. Fastest Path;<br>\n",
    "3. Random perturbation of 1 or 2.<br><br>\n",
    "\n",
    "However, GPS navigation apps such as TomTom, Google Maps,\n",
    "and Waze, which use routing algorithms, heuristics and AI to suggest the best path to reach a user’s desired destination should be consider to generate realist traffic scenarios.<br>\n",
    "In this section of the notebook, we will see how to query OpenStreetMap (OSM) and how to make a SUMO vehicle follow the path suggested by OSM.\n",
    "___"
   ]
  },
  {
   "cell_type": "markdown",
   "id": "e6c00540",
   "metadata": {},
   "source": [
    "### OpenStreetMap routing API\n",
    "\n",
    "For obtaining a **key** you need to register at https://openrouteservice.org/dev/#/signup.\n",
    "\n",
    "In the Free plan, you have **2000 free requests daily**. Once registered, on the web profile there is a counter of the daily requests made (the \"free non-tile requests\" in the \"Activity\" section).\n",
    "\n",
    "See https://openrouteservice.org/dev/#/api-docs/directions for the routing parameters that affect the routing algorithm.\n",
    "\n",
    "The **most important parameter** is `preference`, which specifies the type of optimization used when calculating routes (can be `fastest`, `shortest`, `recommended`). Default is `recommended`.\n",
    "- `fastest`: Route calculation is optimized by travel time, while keeping the routes sensible. For example, the calculation may avoid shortcuts along inconvenient side roads or long detours that only save very little time.\n",
    "- `shortest`: Route calculation is optimized by travel distance, while keeping the routes sensible. For example, straight routes are preferred over those incurring turns.\n",
    "- `recommended`: Route calculation is optimized susing an internal OpenStreetMap algorithm that takes into account both distance and travel time.\n",
    "\n",
    "In our analysis we use `recommended`.\n",
    "\n",
    "Other parameters are, for example: \n",
    "- `profile` (`driving-car`, `cycling-regular`, `foot-walking`, ...). Default is `driving-car`.\n",
    "- `geometry_simplify`"
   ]
  },
  {
   "cell_type": "code",
   "execution_count": null,
   "id": "a61d523d",
   "metadata": {},
   "outputs": [],
   "source": [
    "# coordinates of origin and destination (using sumolib)\n",
    "\n",
    "# origin\n",
    "x_origin, y_origin = e_origin.getFromNode().getCoord()\n",
    "lon_origin, lat_origin = net.convertXY2LonLat(x_origin, y_origin)\n",
    "\n",
    "# destination\n",
    "x_dest, y_dest = e_destination.getFromNode().getCoord()\n",
    "lon_dest, lat_dest = net.convertXY2LonLat(x_dest, y_dest)\n",
    "\n",
    "coordinates = [[lon_origin, lat_origin], [lon_dest, lat_dest]]"
   ]
  },
  {
   "cell_type": "code",
   "execution_count": null,
   "id": "ce340d17",
   "metadata": {},
   "outputs": [],
   "source": [
    "# import OSM\n",
    "import openrouteservice as ors\n",
    "\n",
    "\n",
    "#init the connection\n",
    "client = ors.Client(key=\"<YOUR-KEY>\")\n",
    "\n",
    "# make the query to OSM\n",
    "route_osm = client.directions(\n",
    "        coordinates=coordinates,\n",
    "        profile='driving-car',\n",
    "        preference=\"recommended\",\n",
    "        format='geojson',\n",
    "        geometry_simplify=False,\n",
    "        validate=True)\n",
    "\n",
    "# extract the GPS points (lon, lat) of the suggested route\n",
    "gps_points_osm = [coord for coord in route_osm['features'][0]['geometry']['coordinates']]"
   ]
  },
  {
   "cell_type": "code",
   "execution_count": null,
   "id": "052a9203",
   "metadata": {},
   "outputs": [],
   "source": [
    "# visualize the suggestion on a folium map\n",
    "\n",
    "import folium\n",
    "\n",
    "m = folium.Map(location=[lat_origin, lon_origin], tiles='cartodbpositron', zoom_start=13)\n",
    "\n",
    "# reverse the GPS points into (lat, lon) for folium\n",
    "folium.PolyLine(locations=[list(reversed(coord)) \n",
    "                           for coord in gps_points_osm]).add_to(m)\n",
    "m"
   ]
  },
  {
   "cell_type": "markdown",
   "id": "a694d2b1",
   "metadata": {},
   "source": [
    "### Map-Matching (in a very naive way)\n",
    "\n",
    "To make a vehicle follow the sequence of GPS points suggested from OSM we need to \"translate\" the sequence of GPS point into a sequence of SUMO edges.\n",
    "\n",
    "A very naive way is to assign to each GPS point the closest SUMO edge."
   ]
  },
  {
   "cell_type": "code",
   "execution_count": null,
   "id": "4ca974a5",
   "metadata": {},
   "outputs": [],
   "source": [
    "import itertools\n",
    "\n",
    "edges_osm = []\n",
    "\n",
    "for p in gps_points_osm:\n",
    "    \n",
    "    # we use sumolib to get the closest edge\n",
    "    # project p (lon, lat) into SUMO coordinates (x, y)\n",
    "    x, y = net.convertLonLat2XY(p[0], p[1])\n",
    "    \n",
    "    # retrieve the set of Neighboring edges\n",
    "    candiates_edges = net.getNeighboringEdges(x, y, r=25)\n",
    "\n",
    "    # IMPORTANT! the result of net.getNeighboringEdges is not sorted by distance\n",
    "    edges_and_dist = sorted(candiates_edges, key = lambda x: x[1])\n",
    "    \n",
    "    # take the closest edge ID\n",
    "    matched_edge = edges_and_dist[0][0].getID()\n",
    "    \n",
    "    # append the edge to the list\n",
    "    edges_osm.append(matched_edge)"
   ]
  },
  {
   "cell_type": "code",
   "execution_count": null,
   "id": "f986a754",
   "metadata": {},
   "outputs": [],
   "source": [
    "# Hint: to be more robust we can consider only \"pivot\" edges, i.e, edges that are matched at least three consecutive times\n",
    "\n",
    "pivot_edges = [(k, sum(1 for _ in vs)) for k, vs in itertools.groupby(edges_osm)]\n",
    "pivot_edges = [elem[0] for elem in pivot_edges if elem[1]>2]"
   ]
  },
  {
   "cell_type": "markdown",
   "id": "930ba773",
   "metadata": {},
   "source": [
    "We can copy (by hand for now) the list of edges into the traffic demand file.\n",
    "See the flow with ID \"flow_osm\" in the traffic demand file \"traffic_demand_pisa.rou.xml\" in the folder of this notebook"
   ]
  },
  {
   "cell_type": "markdown",
   "id": "23b83685",
   "metadata": {},
   "source": [
    "## Homework\n",
    "\n",
    "Homework 10.2\n",
    "Download the road network of La Spezia (Italy) from OSMWebWizard:\n",
    "\n",
    "(i) Create a python function that, given a list of tuples in the form (type, n_vehicles, edge_list, departure_time) create an xml ﬁle describing the corresponding traﬃc demand; use the script to compute the mobility demands\n",
    "for the following points. Type can be route or ﬂow.\n",
    "\n",
    "(ii) Create a traﬃc demand of 1000 vehicles moving through a random origin and\n",
    "destination edges. Ensure that origin and destination are connected. Departure\n",
    "time is chosen uniformly at random in [0, 200].\n",
    "\n",
    "(iii) Use OpenStreetMap to compute the suggested paths for the 500 vehicles\n",
    "and create a traﬃc demand to describe them.\n",
    "\n",
    "(iv) Use duarouter with a randomization parameter $w \\in \\{2, 5, 10, 15\\}$ to compute a perturbed mobility demand for the 1000 vehicles and create a traﬃc demand to describe them.\n",
    "\n",
    "(v) Compare the total emissions and distance traveled for the route provided by OpenStreetMap and the ones defined in point (iv).\n"
   ]
  },
  {
   "cell_type": "code",
   "execution_count": null,
   "id": "7c206d25",
   "metadata": {},
   "outputs": [],
   "source": []
  }
 ],
 "metadata": {
  "kernelspec": {
   "display_name": "Python 3 (ipykernel)",
   "language": "python",
   "name": "python3"
  },
  "language_info": {
   "codemirror_mode": {
    "name": "ipython",
    "version": 3
   },
   "file_extension": ".py",
   "mimetype": "text/x-python",
   "name": "python",
   "nbconvert_exporter": "python",
   "pygments_lexer": "ipython3",
   "version": "3.9.7"
  }
 },
 "nbformat": 4,
 "nbformat_minor": 5
}
