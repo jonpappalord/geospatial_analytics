{
 "cells": [
  {
   "cell_type": "markdown",
   "id": "3acdc8a8",
   "metadata": {},
   "source": [
    "#  Geospatial Analytics - Lesson 10: Routing on road networks and SUMO tools"
   ]
  },
  {
   "cell_type": "markdown",
   "id": "c12feac6",
   "metadata": {},
   "source": [
    "Author: Giuliano Cornacchia\n",
    "</br>Geospatial Analytics, Master degree in Data Science and Business Informatics, University of Pisa"
   ]
  },
  {
   "cell_type": "markdown",
   "id": "95621ff2",
   "metadata": {},
   "source": [
    "___\n",
    "In this lesson, we will learn how to handle and use SUMO tools in Python and from command line.\n",
    "\n",
    "1. [sumolib](#sumolib)\n",
    "2. [duarouter](#duarouter)\n",
    "3. [TraCi](#traci)\n",
    "4. [Routing](#routing)"
   ]
  },
  {
   "cell_type": "markdown",
   "id": "c2516180",
   "metadata": {},
   "source": [
    "<a id='sumolib'></a>\n",
    "## sumolib\n",
    "\n",
    "sumolib is a python library for working with SUMO networks.\n",
    "\n",
    "ref: https://sumo.dlr.de/docs/Tools/Sumolib.html"
   ]
  },
  {
   "cell_type": "code",
   "execution_count": 1,
   "id": "a14569f8",
   "metadata": {},
   "outputs": [],
   "source": [
    "# import the sumolib library\n",
    "import sumolib\n",
    "\n",
    "# read the road network\n",
    "net = sumolib.net.readNet('road_network_pisa.net.xml')"
   ]
  },
  {
   "cell_type": "code",
   "execution_count": 2,
   "id": "ffddd987",
   "metadata": {},
   "outputs": [
    {
     "name": "stdout",
     "output_type": "stream",
     "text": [
      "The road network has 5436 edges and 2695 nodes.\n"
     ]
    }
   ],
   "source": [
    "# get the list of edges\n",
    "edge_list = net.getEdges()\n",
    "\n",
    "# get the list of nodes\n",
    "node_list = net.getNodes()\n",
    "\n",
    "print(f\"The road network has {len(edge_list)} edges and {len(node_list)} nodes.\")"
   ]
  },
  {
   "cell_type": "code",
   "execution_count": 3,
   "id": "c401f7fc",
   "metadata": {},
   "outputs": [
    {
     "name": "stdout",
     "output_type": "stream",
     "text": [
      "SUMO reference coordinates (x,y): (6401.3, 8556.03)\n",
      "GPS coordinates (lon,lat): (10.430917392312276, 43.721093738985964)\n"
     ]
    }
   ],
   "source": [
    "# get the coordinate of an edge (we consider the from node)\n",
    "\n",
    "e = edge_list[42]\n",
    "\n",
    "x, y = e.getFromNode().getCoord()\n",
    "lon, lat = net.convertXY2LonLat(x, y)\n",
    "\n",
    "print(f\"SUMO reference coordinates (x,y): {x,y}\")\n",
    "print(f\"GPS coordinates (lon,lat): {lon, lat}\")"
   ]
  },
  {
   "cell_type": "markdown",
   "id": "872565d9",
   "metadata": {},
   "source": [
    "#### Retrieve the closest edge to a GPS point"
   ]
  },
  {
   "cell_type": "code",
   "execution_count": 4,
   "id": "b1369a03",
   "metadata": {},
   "outputs": [
    {
     "name": "stdout",
     "output_type": "stream",
     "text": [
      "SUMO reference coordinates (x,y): (4522.0103448751615, 8493.85369954072)\n"
     ]
    }
   ],
   "source": [
    "lon_polo_fibonacci, lat_polo_fibonacci = 10.407580310750713, 43.72082373893976\n",
    "\n",
    "# convert into SUMO coordinates (x, y)\n",
    "x_polo_fibonacci, y_polo_fibonacci = net.convertLonLat2XY(lon_polo_fibonacci, lat_polo_fibonacci)\n",
    "print(f\"SUMO reference coordinates (x,y): {x_polo_fibonacci,y_polo_fibonacci}\")"
   ]
  },
  {
   "cell_type": "code",
   "execution_count": 5,
   "id": "fd2cae8c",
   "metadata": {},
   "outputs": [
    {
     "data": {
      "text/plain": [
       "[(<edge id=\"313284660#0\" from=\"303595336\" to=\"246382226\"/>, 17.52380688345678),\n",
       " (<edge id=\"-313284660#0\" from=\"246382226\" to=\"303595336\"/>,\n",
       "  20.72474590039968)]"
      ]
     },
     "execution_count": 5,
     "metadata": {},
     "output_type": "execute_result"
    }
   ],
   "source": [
    "# retrieve the set of Neighboring edges\n",
    "candiates_edges = net.getNeighboringEdges(x_polo_fibonacci, y_polo_fibonacci, r=25)\n",
    "\n",
    "# IMPORTANT! the result of net.getNeighboringEdges is not sorted by distance\n",
    "edges_and_dist = sorted(candiates_edges, key = lambda x: x[1])\n",
    "edges_and_dist"
   ]
  },
  {
   "cell_type": "code",
   "execution_count": 6,
   "id": "506a27c8",
   "metadata": {},
   "outputs": [
    {
     "name": "stdout",
     "output_type": "stream",
     "text": [
      "Name: Via Filippo Buonarroti\n",
      "Edge ID: 313284660#0\n"
     ]
    }
   ],
   "source": [
    "closest_edge_fibonacci = edges_and_dist[0][0]\n",
    "\n",
    "print(f\"Name: {closest_edge_fibonacci.getName()}\")\n",
    "print(f\"Edge ID: {closest_edge_fibonacci.getID()}\")"
   ]
  },
  {
   "cell_type": "markdown",
   "id": "7f8b3cc9",
   "metadata": {},
   "source": [
    "#### Compute the shortest and the fastest path between two edges"
   ]
  },
  {
   "cell_type": "code",
   "execution_count": 7,
   "id": "08fcb43f",
   "metadata": {},
   "outputs": [],
   "source": [
    "# get the shortest path (minimizes length) and fastest path (minimzes travel time)\n",
    "\n",
    "e_origin, e_destination = e, closest_edge_fibonacci"
   ]
  },
  {
   "cell_type": "code",
   "execution_count": 8,
   "id": "ff00a299",
   "metadata": {},
   "outputs": [
    {
     "name": "stdout",
     "output_type": "stream",
     "text": [
      "Number of edges in the path: 48\n",
      "Cost [m]: 2182.6500000000005\n"
     ]
    }
   ],
   "source": [
    "# shortest path\n",
    "\n",
    "shortest_path = net.getOptimalPath(e_origin, e_destination, fastest=False)\n",
    "\n",
    "print(f\"Number of edges in the path: {len(shortest_path[0])}\")\n",
    "print(f\"Cost [m]: {shortest_path[1]}\")"
   ]
  },
  {
   "cell_type": "code",
   "execution_count": 9,
   "id": "6bdc5afd",
   "metadata": {},
   "outputs": [
    {
     "name": "stdout",
     "output_type": "stream",
     "text": [
      "Number of edges in the path: 48\n",
      "Cost [s]: 163.008742192388\n"
     ]
    }
   ],
   "source": [
    "# fastest path\n",
    "\n",
    "fastest_path = net.getOptimalPath(e_origin, e_destination, fastest=True)\n",
    "\n",
    "print(f\"Number of edges in the path: {len(fastest_path[0])}\")\n",
    "print(f\"Cost [s]: {fastest_path[1]}\")"
   ]
  },
  {
   "cell_type": "markdown",
   "id": "2f2b8384",
   "metadata": {},
   "source": [
    "<a id='duarouter'></a>\n",
    "## duarouter\n",
    "\n",
    "Duarouter is a python tool that computes vehicle routes that may be used by SUMO.\n",
    "\n",
    "In other words, duarouter converts **Incomplete Routes** into **Routes** according to a specified routing algorithm.\n",
    "\n",
    "ref: https://sumo.dlr.de/docs/duarouter.html"
   ]
  },
  {
   "cell_type": "code",
   "execution_count": 10,
   "id": "5a21e2a8",
   "metadata": {},
   "outputs": [],
   "source": [
    "import subprocess\n",
    "\n",
    "# prepare the command string for duarouter\n",
    "\n",
    "command_str = \"duarouter --route-files traffic_demand_pisa.rou.xml \"+\\\n",
    "        \" --net-file road_network_pisa.net.xml\"+\\\n",
    "        \" --output-file traffic_demand_pisa_duarouter.rou.xml\""
   ]
  },
  {
   "cell_type": "markdown",
   "id": "19c6ad9f",
   "metadata": {},
   "source": [
    "Let's call the duarouter python application"
   ]
  },
  {
   "cell_type": "code",
   "execution_count": 11,
   "id": "068d34c3",
   "metadata": {},
   "outputs": [],
   "source": [
    "p = subprocess.Popen(command_str, shell=True, stdout=subprocess.PIPE, \n",
    "                                     stderr=subprocess.STDOUT)\n",
    "retval = p.wait()"
   ]
  },
  {
   "cell_type": "markdown",
   "id": "ef3f0cfb",
   "metadata": {},
   "source": [
    "Look in the current folder, you will find the outputs of duarouter.\n",
    "- `traffic_demand_pisa_duarouter.rou.xml`: the generated traffic demand file with vehicles and routes;`\n",
    "- `traffic_demand_pisa_duarouter.rou.alt.xml`: additionally, a `.rou.alt.xml` file will be generated; it contains route ditribution.\n",
    "\n"
   ]
  },
  {
   "cell_type": "markdown",
   "id": "2ae9225b",
   "metadata": {},
   "source": [
    "Duarouter supports different routing algorithms (e.g., dijkstra and A*).\n",
    "\n",
    "You can specify which algorithm to use using the option `--routing-algorithm <ALG>`\n",
    "\n",
    "see https://sumo.dlr.de/docs/Simulation/Routing.html#routing_algorithms"
   ]
  },
  {
   "cell_type": "code",
   "execution_count": 12,
   "id": "a619be13",
   "metadata": {},
   "outputs": [],
   "source": [
    "command_str_astar = \"duarouter --route-files traffic_demand_pisa.rou.xml \"+\\\n",
    "        \" --net-file road_network_pisa.net.xml\"+\\\n",
    "        \" --output-file traffic_demand_pisa_duarouter_astar.rou.xml --routing-algorithm astar\"\n",
    "\n",
    "p = subprocess.Popen(command_str_astar, shell=True, stdout=subprocess.PIPE, \n",
    "                                     stderr=subprocess.STDOUT)\n",
    "retval = p.wait()"
   ]
  },
  {
   "cell_type": "markdown",
   "id": "d04676f5",
   "metadata": {},
   "source": [
    "#### random perturbation\n",
    "\n",
    "Duarouter allows perturbing the fastest path using a randomisation parameter\n",
    "𝑤 ∈ \\[1, $+\\infty$\\), where 𝑤 = 1 means no randomisation (i.e., the fastest path), and the higher 𝑤, the more randomly perturbed the fastest\n",
    "path is.\n",
    "\n",
    "You can specify the degree of perturbation ($w$) with the option `--weights.random-factor <WEIGHT>`"
   ]
  },
  {
   "cell_type": "markdown",
   "id": "cfb1c117",
   "metadata": {},
   "source": [
    "<img src=\"https://i.ibb.co/9bc7yb5/Screenshot-2022-11-16-at-14-24-58-How-Routing-Strategies-Impact-Urban-Emissions-How-Routing-Strategi.png\" width=\"300px\" border=\"0\">"
   ]
  },
  {
   "cell_type": "code",
   "execution_count": 13,
   "id": "54333ad7",
   "metadata": {},
   "outputs": [],
   "source": [
    "command_str_w = \"duarouter --route-files traffic_demand_pisa.rou.xml \"+\\\n",
    "        \" --net-file road_network_pisa.net.xml\"+\\\n",
    "        \" --output-file traffic_demand_pisa_duarouter_w.rou.xml --weights.random-factor 300\"\n",
    "\n",
    "p = subprocess.Popen(command_str_w, shell=True, stdout=subprocess.PIPE, \n",
    "                                     stderr=subprocess.STDOUT)\n",
    "retval = p.wait()"
   ]
  },
  {
   "cell_type": "markdown",
   "id": "bea72b8e",
   "metadata": {},
   "source": [
    "<a id=\"traci\"></a>\n",
    "## TraCi\n",
    "\n",
    "TraCi is a Python controller that allows to control and manipulate at runtime any aspect of the simulation, e.g., the internal data structures of SUMO; the cost to pay is an overhead.\n",
    "With TraCi is possible to retrieve several simulations variables (e.g., vehicles' GPS positions, vehicles' emissions and so on). <br>\n",
    "TraCi allows us to make the vehicles communicate or coordinate with themselves and many more. <br><br>\n",
    "See https://sumo.dlr.de/docs/TraCI.html#value_retrieval for a list of variable you can extract with TraCi.\n",
    "\n",
    "ref: https://sumo.dlr.de/docs/TraCI.html"
   ]
  },
  {
   "cell_type": "code",
   "execution_count": 14,
   "id": "fcb3fcf0",
   "metadata": {},
   "outputs": [],
   "source": [
    "# import the traci library\n",
    "import traci\n",
    "from utils import init_traci"
   ]
  },
  {
   "cell_type": "code",
   "execution_count": 15,
   "id": "4166d896",
   "metadata": {},
   "outputs": [
    {
     "name": "stdout",
     "output_type": "stream",
     "text": [
      "Vehicle ID: flow_0.0\n",
      "position [lon, lat]: (10.430849628417304, 43.721135474381505)\n",
      "speed [m/s]: 1.8798571447376162\n",
      "CO2 emissions [mg/s]: 3329.7118399280153\n",
      "\n",
      "Vehicle ID: flow_osm.0\n",
      "position [lon, lat]: (10.429803034985646, 43.721654024739436)\n",
      "speed [m/s]: 1.4338497789110989\n",
      "CO2 emissions [mg/s]: 2990.7303919361098\n",
      "\n",
      "Vehicle ID: flow_0.0\n",
      "position [lon, lat]: (10.430807539029978, 43.721151336329065)\n",
      "speed [m/s]: 3.8211460547521714\n",
      "CO2 emissions [mg/s]: 4177.159503894869\n",
      "\n",
      "Vehicle ID: flow_osm.0\n",
      "position [lon, lat]: (10.429829708429862, 43.72168475206212)\n",
      "speed [m/s]: 4.033343723951839\n",
      "CO2 emissions [mg/s]: 4962.098029013955\n",
      "\n",
      "Vehicle ID: flow_0.0\n",
      "position [lon, lat]: (10.430738713378283, 43.72117727414366)\n",
      "speed [m/s]: 6.248432177538052\n",
      "CO2 emissions [mg/s]: 6073.936609609667\n",
      "\n",
      "Vehicle ID: flow_osm.0\n",
      "position [lon, lat]: (10.429870752710245, 43.72173203425156)\n",
      "speed [m/s]: 6.206377868866548\n",
      "CO2 emissions [mg/s]: 5637.345415400625\n",
      "\n",
      "Vehicle ID: flow_0.0\n",
      "position [lon, lat]: (10.430650199876556, 43.72121063147952)\n",
      "speed [m/s]: 8.035812895651906\n",
      "CO2 emissions [mg/s]: 5832.9538644333825\n",
      "\n",
      "Vehicle ID: flow_osm.0\n",
      "position [lon, lat]: (10.429928150840354, 43.72179765709244)\n",
      "speed [m/s]: 8.632488870783709\n",
      "CO2 emissions [mg/s]: 7548.8777933389065\n",
      "\n",
      "Vehicle ID: flow_0.0\n",
      "position [lon, lat]: (10.430541719905756, 43.721251513266864)\n",
      "speed [m/s]: 9.848482324043289\n",
      "CO2 emissions [mg/s]: 6761.706079103738\n",
      "\n",
      "Vehicle ID: flow_osm.0\n",
      "position [lon, lat]: (10.429999417956962, 43.72187860339855)\n",
      "speed [m/s]: 10.66834688889794\n",
      "CO2 emissions [mg/s]: 7795.42294934175\n",
      "\n",
      "Vehicle ID: flow_0.0\n",
      "position [lon, lat]: (10.43041235240188, 43.7213002665288)\n",
      "speed [m/s]: 11.744763945788145\n",
      "CO2 emissions [mg/s]: 7989.07041180828\n",
      "\n",
      "Vehicle ID: flow_osm.0\n",
      "position [lon, lat]: (10.430085284480214, 43.721976131582956)\n",
      "speed [m/s]: 12.853769812219113\n",
      "CO2 emissions [mg/s]: 9576.285180212075\n",
      "\n",
      "Vehicle ID: flow_0.0\n",
      "position [lon, lat]: (10.4302554492687, 43.72135939652986)\n",
      "speed [m/s]: 14.244588901102542\n",
      "CO2 emissions [mg/s]: 11651.390879684408\n",
      "\n",
      "Vehicle ID: flow_osm.0\n",
      "position [lon, lat]: (10.430164829356737, 43.722066479221006)\n",
      "speed [m/s]: 11.907414783326246\n",
      "CO2 emissions [mg/s]: 0.0\n",
      "\n",
      "Vehicle ID: flow_0.0\n",
      "position [lon, lat]: (10.430107421538485, 43.721415181473354)\n",
      "speed [m/s]: 13.438801602885688\n",
      "CO2 emissions [mg/s]: 0.0\n",
      "\n",
      "Vehicle ID: flow_osm.0\n",
      "position [lon, lat]: (10.430243414794363, 43.72215600349654)\n",
      "speed [m/s]: 11.788803016113386\n",
      "CO2 emissions [mg/s]: 1821.5978706239866\n",
      "\n",
      "Vehicle ID: flow_0.0\n",
      "position [lon, lat]: (10.429958003619888, 43.72147149001825)\n",
      "speed [m/s]: 13.564985197966312\n",
      "CO2 emissions [mg/s]: 2755.3122115762853\n",
      "\n",
      "Vehicle ID: flow_osm.0\n",
      "position [lon, lat]: (10.430325082810027, 43.722250756608375)\n",
      "speed [m/s]: 12.412484114429251\n",
      "CO2 emissions [mg/s]: 4241.583242284615\n",
      "\n",
      "Vehicle ID: flow_0.0\n",
      "position [lon, lat]: (10.429858152912661, 43.721509118859444)\n",
      "speed [m/s]: 9.064985197966312\n",
      "CO2 emissions [mg/s]: 0.0\n",
      "\n",
      "Vehicle ID: flow_osm.0\n",
      "position [lon, lat]: (10.430402609847045, 43.7223407049238)\n",
      "speed [m/s]: 11.783072271918215\n",
      "CO2 emissions [mg/s]: 0.0\n",
      "\n"
     ]
    }
   ],
   "source": [
    "# initialize TraCi by specifing the configuration file\n",
    "\n",
    "init_traci(\"./sumo_config_pisa.sumocfg\")\n",
    "\n",
    "n_steps = 10\n",
    "\n",
    "# simulate each step\n",
    "for step in range(n_steps):\n",
    "    \n",
    "    # perform a simulation step\n",
    "    traci.simulationStep()\n",
    "    \n",
    "    # get the list of active vehicles (vehicles inserted in the simulation)\n",
    "    vehicle_list = traci.vehicle.getIDList()\n",
    "    \n",
    "    # value retrieval\n",
    "    for v_id in vehicle_list:\n",
    "        \n",
    "        # some examples of value you can retrieve\n",
    "        \n",
    "        # Speed [m/s]\n",
    "        speed_ms = traci.vehicle.getSpeed(v_id)\n",
    "        \n",
    "        # CO2 emissions [mg/s] \n",
    "        co2_emissions = traci.vehicle.getCO2Emission(v_id)\n",
    "        \n",
    "        # Position\n",
    "        x, y = traci.vehicle.getPosition(v_id)\n",
    "        lon, lat = traci.simulation.convertGeo(x, y)\n",
    "        \n",
    "        print(f\"Vehicle ID: {v_id}\")\n",
    "        print(f\"position [lon, lat]: {lon, lat}\")\n",
    "        print(f\"speed [m/s]: {speed_ms}\")\n",
    "        print(f\"CO2 emissions [mg/s]: {co2_emissions}\\n\")\n",
    "        \n",
    "        \n",
    "# close TraCi when the total number of steps to simulate is reached\n",
    "traci.close()"
   ]
  },
  {
   "cell_type": "markdown",
   "id": "4b3edd2a",
   "metadata": {},
   "source": [
    "<a id=\"routing\"></a>\n",
    "## Routing"
   ]
  },
  {
   "cell_type": "markdown",
   "id": "4b01d3ca",
   "metadata": {},
   "source": [
    "So far we have seen three ways to define routes (routing strategies) between an origin and destination edges:<br>\n",
    "1. Shortest Path;<br>\n",
    "2. Fastest Path;<br>\n",
    "3. Random perturbation of 1 or 2.<br><br>\n",
    "\n",
    "However, GPS navigation apps such as TomTom, Google Maps,\n",
    "and Waze, which use routing algorithms, heuristics and AI to suggest the best path to reach a user’s desired destination should be consider to generate realist traffic scenarios.<br>\n",
    "In this section of the notebook, we will see how to query OpenStreetMap (OSM) and how to make a SUMO vehicle follow the path suggested by OSM.\n",
    "___"
   ]
  },
  {
   "cell_type": "markdown",
   "id": "e6c00540",
   "metadata": {},
   "source": [
    "### OpenStreetMap routing API\n",
    "\n",
    "For obtaining a **key** you need to register at https://openrouteservice.org/dev/#/signup.\n",
    "\n",
    "In the Free plan, you have **2000 free requests daily**. Once registered, on the web profile there is a counter of the daily requests made (the \"free non-tile requests\" in the \"Activity\" section).\n",
    "\n",
    "See https://openrouteservice.org/dev/#/api-docs/directions for the routing parameters that affect the routing algorithm.\n",
    "\n",
    "The **most important parameter** is `preference`, which specifies the type of optimization used when calculating routes (can be `fastest`, `shortest`, `recommended`). Default is `recommended`.\n",
    "- `fastest`: Route calculation is optimized by travel time, while keeping the routes sensible. For example, the calculation may avoid shortcuts along inconvenient side roads or long detours that only save very little time.\n",
    "- `shortest`: Route calculation is optimized by travel distance, while keeping the routes sensible. For example, straight routes are preferred over those incurring turns.\n",
    "- `recommended`: Route calculation is optimized susing an internal OpenStreetMap algorithm that takes into account both distance and travel time.\n",
    "\n",
    "In our analysis we use `recommended`.\n",
    "\n",
    "Other parameters are, for example: \n",
    "- `profile` (`driving-car`, `cycling-regular`, `foot-walking`, ...). Default is `driving-car`.\n",
    "- `geometry_simplify`"
   ]
  },
  {
   "cell_type": "code",
   "execution_count": 16,
   "id": "a61d523d",
   "metadata": {},
   "outputs": [],
   "source": [
    "# coordinates of origin and destination (using sumolib)\n",
    "\n",
    "# origin\n",
    "x_origin, y_origin = e_origin.getFromNode().getCoord()\n",
    "lon_origin, lat_origin = net.convertXY2LonLat(x_origin, y_origin)\n",
    "\n",
    "# destination\n",
    "x_dest, y_dest = e_destination.getFromNode().getCoord()\n",
    "lon_dest, lat_dest = net.convertXY2LonLat(x_dest, y_dest)\n",
    "\n",
    "coordinates = [[lon_origin, lat_origin], [lon_dest, lat_dest]]"
   ]
  },
  {
   "cell_type": "code",
   "execution_count": 17,
   "id": "ce340d17",
   "metadata": {},
   "outputs": [],
   "source": [
    "# import OSM\n",
    "import openrouteservice as ors\n",
    "\n",
    "\n",
    "#init the connection\n",
    "client = ors.Client(key=\"<YOUR-KEY>\")\n",
    "\n",
    "# make the query to OSM\n",
    "route_osm = client.directions(\n",
    "        coordinates=coordinates,\n",
    "        profile='driving-car',\n",
    "        preference=\"recommended\",\n",
    "        format='geojson',\n",
    "        geometry_simplify=False,\n",
    "        validate=True)\n",
    "\n",
    "# extract the GPS points (lon, lat) of the suggested route\n",
    "gps_points_osm = [coord for coord in route_osm['features'][0]['geometry']['coordinates']]"
   ]
  },
  {
   "cell_type": "code",
   "execution_count": 18,
   "id": "052a9203",
   "metadata": {
    "collapsed": true
   },
   "outputs": [
    {
     "data": {
      "text/html": [
       "<div style=\"width:100%;\"><div style=\"position:relative;width:100%;height:0;padding-bottom:60%;\"><span style=\"color:#565656\">Make this Notebook Trusted to load map: File -> Trust Notebook</span><iframe src=\"about:blank\" style=\"position:absolute;width:100%;height:100%;left:0;top:0;border:none !important;\" data-html=%3C%21DOCTYPE%20html%3E%0A%3Chead%3E%20%20%20%20%0A%20%20%20%20%3Cmeta%20http-equiv%3D%22content-type%22%20content%3D%22text/html%3B%20charset%3DUTF-8%22%20/%3E%0A%20%20%20%20%0A%20%20%20%20%20%20%20%20%3Cscript%3E%0A%20%20%20%20%20%20%20%20%20%20%20%20L_NO_TOUCH%20%3D%20false%3B%0A%20%20%20%20%20%20%20%20%20%20%20%20L_DISABLE_3D%20%3D%20false%3B%0A%20%20%20%20%20%20%20%20%3C/script%3E%0A%20%20%20%20%0A%20%20%20%20%3Cstyle%3Ehtml%2C%20body%20%7Bwidth%3A%20100%25%3Bheight%3A%20100%25%3Bmargin%3A%200%3Bpadding%3A%200%3B%7D%3C/style%3E%0A%20%20%20%20%3Cstyle%3E%23map%20%7Bposition%3Aabsolute%3Btop%3A0%3Bbottom%3A0%3Bright%3A0%3Bleft%3A0%3B%7D%3C/style%3E%0A%20%20%20%20%3Cscript%20src%3D%22https%3A//cdn.jsdelivr.net/npm/leaflet%401.6.0/dist/leaflet.js%22%3E%3C/script%3E%0A%20%20%20%20%3Cscript%20src%3D%22https%3A//code.jquery.com/jquery-1.12.4.min.js%22%3E%3C/script%3E%0A%20%20%20%20%3Cscript%20src%3D%22https%3A//maxcdn.bootstrapcdn.com/bootstrap/3.2.0/js/bootstrap.min.js%22%3E%3C/script%3E%0A%20%20%20%20%3Cscript%20src%3D%22https%3A//cdnjs.cloudflare.com/ajax/libs/Leaflet.awesome-markers/2.0.2/leaflet.awesome-markers.js%22%3E%3C/script%3E%0A%20%20%20%20%3Clink%20rel%3D%22stylesheet%22%20href%3D%22https%3A//cdn.jsdelivr.net/npm/leaflet%401.6.0/dist/leaflet.css%22/%3E%0A%20%20%20%20%3Clink%20rel%3D%22stylesheet%22%20href%3D%22https%3A//maxcdn.bootstrapcdn.com/bootstrap/3.2.0/css/bootstrap.min.css%22/%3E%0A%20%20%20%20%3Clink%20rel%3D%22stylesheet%22%20href%3D%22https%3A//maxcdn.bootstrapcdn.com/bootstrap/3.2.0/css/bootstrap-theme.min.css%22/%3E%0A%20%20%20%20%3Clink%20rel%3D%22stylesheet%22%20href%3D%22https%3A//maxcdn.bootstrapcdn.com/font-awesome/4.6.3/css/font-awesome.min.css%22/%3E%0A%20%20%20%20%3Clink%20rel%3D%22stylesheet%22%20href%3D%22https%3A//cdnjs.cloudflare.com/ajax/libs/Leaflet.awesome-markers/2.0.2/leaflet.awesome-markers.css%22/%3E%0A%20%20%20%20%3Clink%20rel%3D%22stylesheet%22%20href%3D%22https%3A//cdn.jsdelivr.net/gh/python-visualization/folium/folium/templates/leaflet.awesome.rotate.min.css%22/%3E%0A%20%20%20%20%0A%20%20%20%20%20%20%20%20%20%20%20%20%3Cmeta%20name%3D%22viewport%22%20content%3D%22width%3Ddevice-width%2C%0A%20%20%20%20%20%20%20%20%20%20%20%20%20%20%20%20initial-scale%3D1.0%2C%20maximum-scale%3D1.0%2C%20user-scalable%3Dno%22%20/%3E%0A%20%20%20%20%20%20%20%20%20%20%20%20%3Cstyle%3E%0A%20%20%20%20%20%20%20%20%20%20%20%20%20%20%20%20%23map_56ad531c70974d1cac466689bd171a0f%20%7B%0A%20%20%20%20%20%20%20%20%20%20%20%20%20%20%20%20%20%20%20%20position%3A%20relative%3B%0A%20%20%20%20%20%20%20%20%20%20%20%20%20%20%20%20%20%20%20%20width%3A%20100.0%25%3B%0A%20%20%20%20%20%20%20%20%20%20%20%20%20%20%20%20%20%20%20%20height%3A%20100.0%25%3B%0A%20%20%20%20%20%20%20%20%20%20%20%20%20%20%20%20%20%20%20%20left%3A%200.0%25%3B%0A%20%20%20%20%20%20%20%20%20%20%20%20%20%20%20%20%20%20%20%20top%3A%200.0%25%3B%0A%20%20%20%20%20%20%20%20%20%20%20%20%20%20%20%20%7D%0A%20%20%20%20%20%20%20%20%20%20%20%20%3C/style%3E%0A%20%20%20%20%20%20%20%20%0A%3C/head%3E%0A%3Cbody%3E%20%20%20%20%0A%20%20%20%20%0A%20%20%20%20%20%20%20%20%20%20%20%20%3Cdiv%20class%3D%22folium-map%22%20id%3D%22map_56ad531c70974d1cac466689bd171a0f%22%20%3E%3C/div%3E%0A%20%20%20%20%20%20%20%20%0A%3C/body%3E%0A%3Cscript%3E%20%20%20%20%0A%20%20%20%20%0A%20%20%20%20%20%20%20%20%20%20%20%20var%20map_56ad531c70974d1cac466689bd171a0f%20%3D%20L.map%28%0A%20%20%20%20%20%20%20%20%20%20%20%20%20%20%20%20%22map_56ad531c70974d1cac466689bd171a0f%22%2C%0A%20%20%20%20%20%20%20%20%20%20%20%20%20%20%20%20%7B%0A%20%20%20%20%20%20%20%20%20%20%20%20%20%20%20%20%20%20%20%20center%3A%20%5B43.721093738985964%2C%2010.430917392312276%5D%2C%0A%20%20%20%20%20%20%20%20%20%20%20%20%20%20%20%20%20%20%20%20crs%3A%20L.CRS.EPSG3857%2C%0A%20%20%20%20%20%20%20%20%20%20%20%20%20%20%20%20%20%20%20%20zoom%3A%2013%2C%0A%20%20%20%20%20%20%20%20%20%20%20%20%20%20%20%20%20%20%20%20zoomControl%3A%20true%2C%0A%20%20%20%20%20%20%20%20%20%20%20%20%20%20%20%20%20%20%20%20preferCanvas%3A%20false%2C%0A%20%20%20%20%20%20%20%20%20%20%20%20%20%20%20%20%7D%0A%20%20%20%20%20%20%20%20%20%20%20%20%29%3B%0A%0A%20%20%20%20%20%20%20%20%20%20%20%20%0A%0A%20%20%20%20%20%20%20%20%0A%20%20%20%20%0A%20%20%20%20%20%20%20%20%20%20%20%20var%20tile_layer_821748718e23477b93fc02701848dd52%20%3D%20L.tileLayer%28%0A%20%20%20%20%20%20%20%20%20%20%20%20%20%20%20%20%22https%3A//cartodb-basemaps-%7Bs%7D.global.ssl.fastly.net/light_all/%7Bz%7D/%7Bx%7D/%7By%7D.png%22%2C%0A%20%20%20%20%20%20%20%20%20%20%20%20%20%20%20%20%7B%22attribution%22%3A%20%22%5Cu0026copy%3B%20%5Cu003ca%20href%3D%5C%22http%3A//www.openstreetmap.org/copyright%5C%22%5Cu003eOpenStreetMap%5Cu003c/a%5Cu003e%20contributors%20%5Cu0026copy%3B%20%5Cu003ca%20href%3D%5C%22http%3A//cartodb.com/attributions%5C%22%5Cu003eCartoDB%5Cu003c/a%5Cu003e%2C%20CartoDB%20%5Cu003ca%20href%20%3D%5C%22http%3A//cartodb.com/attributions%5C%22%5Cu003eattributions%5Cu003c/a%5Cu003e%22%2C%20%22detectRetina%22%3A%20false%2C%20%22maxNativeZoom%22%3A%2018%2C%20%22maxZoom%22%3A%2018%2C%20%22minZoom%22%3A%200%2C%20%22noWrap%22%3A%20false%2C%20%22opacity%22%3A%201%2C%20%22subdomains%22%3A%20%22abc%22%2C%20%22tms%22%3A%20false%7D%0A%20%20%20%20%20%20%20%20%20%20%20%20%29.addTo%28map_56ad531c70974d1cac466689bd171a0f%29%3B%0A%20%20%20%20%20%20%20%20%0A%20%20%20%20%0A%20%20%20%20%20%20%20%20%20%20%20%20var%20poly_line_079b2e70172f4457bc5aefbf3e63e4d6%20%3D%20L.polyline%28%0A%20%20%20%20%20%20%20%20%20%20%20%20%20%20%20%20%5B%5B43.721094%2C%2010.430917%5D%2C%20%5B43.721555%2C%2010.429693%5D%2C%20%5B43.72177%2C%2010.42988%5D%2C%20%5B43.722151%2C%2010.430216%5D%2C%20%5B43.722455%2C%2010.430478%5D%2C%20%5B43.72262%2C%2010.430625%5D%2C%20%5B43.722681%2C%2010.430648%5D%2C%20%5B43.722749%2C%2010.430666%5D%2C%20%5B43.722826%2C%2010.430676%5D%2C%20%5B43.722914%2C%2010.430685%5D%2C%20%5B43.722956%2C%2010.430683%5D%2C%20%5B43.723052%2C%2010.430668%5D%2C%20%5B43.722908%2C%2010.429053%5D%2C%20%5B43.72286%2C%2010.428495%5D%2C%20%5B43.722854%2C%2010.428434%5D%2C%20%5B43.722809%2C%2010.427926%5D%2C%20%5B43.722772%2C%2010.427478%5D%2C%20%5B43.722747%2C%2010.427216%5D%2C%20%5B43.722741%2C%2010.427162%5D%2C%20%5B43.722731%2C%2010.427044%5D%2C%20%5B43.722736%2C%2010.426872%5D%2C%20%5B43.722755%2C%2010.426782%5D%2C%20%5B43.722775%2C%2010.42674%5D%2C%20%5B43.722805%2C%2010.426711%5D%2C%20%5B43.722818%2C%2010.426693%5D%2C%20%5B43.722828%2C%2010.426672%5D%2C%20%5B43.722839%2C%2010.426641%5D%2C%20%5B43.722838%2C%2010.426515%5D%2C%20%5B43.722826%2C%2010.426486%5D%2C%20%5B43.722809%2C%2010.426456%5D%2C%20%5B43.722787%2C%2010.426432%5D%2C%20%5B43.722762%2C%2010.426415%5D%2C%20%5B43.722739%2C%2010.426373%5D%2C%20%5B43.722685%2C%2010.426236%5D%2C%20%5B43.722661%2C%2010.426125%5D%2C%20%5B43.722649%2C%2010.425928%5D%2C%20%5B43.722602%2C%2010.425196%5D%2C%20%5B43.722552%2C%2010.424997%5D%2C%20%5B43.722473%2C%2010.424813%5D%2C%20%5B43.722415%2C%2010.424712%5D%2C%20%5B43.722269%2C%2010.424453%5D%2C%20%5B43.722167%2C%2010.424268%5D%2C%20%5B43.722097%2C%2010.424148%5D%2C%20%5B43.721954%2C%2010.423878%5D%2C%20%5B43.721864%2C%2010.423704%5D%2C%20%5B43.721816%2C%2010.423623%5D%2C%20%5B43.721773%2C%2010.423551%5D%2C%20%5B43.721482%2C%2010.423063%5D%2C%20%5B43.72144%2C%2010.422995%5D%2C%20%5B43.721356%2C%2010.422864%5D%2C%20%5B43.721277%2C%2010.422744%5D%2C%20%5B43.721243%2C%2010.422666%5D%2C%20%5B43.72119%2C%2010.422578%5D%2C%20%5B43.721112%2C%2010.422393%5D%2C%20%5B43.72079%2C%2010.421833%5D%2C%20%5B43.720763%2C%2010.421771%5D%2C%20%5B43.720762%2C%2010.421751%5D%2C%20%5B43.720737%2C%2010.42168%5D%2C%20%5B43.720727%2C%2010.421665%5D%2C%20%5B43.720712%2C%2010.42165%5D%2C%20%5B43.72064%2C%2010.421632%5D%2C%20%5B43.720626%2C%2010.421637%5D%2C%20%5B43.720613%2C%2010.421645%5D%2C%20%5B43.720504%2C%2010.421593%5D%2C%20%5B43.720314%2C%2010.421325%5D%2C%20%5B43.719842%2C%2010.420693%5D%2C%20%5B43.719748%2C%2010.420577%5D%2C%20%5B43.719648%2C%2010.42048%5D%2C%20%5B43.719527%2C%2010.42038%5D%2C%20%5B43.719431%2C%2010.420309%5D%2C%20%5B43.719262%2C%2010.420102%5D%2C%20%5B43.719198%2C%2010.419967%5D%2C%20%5B43.71917%2C%2010.419838%5D%2C%20%5B43.719172%2C%2010.419757%5D%2C%20%5B43.719162%2C%2010.419625%5D%2C%20%5B43.719115%2C%2010.419456%5D%2C%20%5B43.719027%2C%2010.419308%5D%2C%20%5B43.718952%2C%2010.419236%5D%2C%20%5B43.718921%2C%2010.419217%5D%2C%20%5B43.718897%2C%2010.41921%5D%2C%20%5B43.718891%2C%2010.419166%5D%2C%20%5B43.718582%2C%2010.418803%5D%2C%20%5B43.718388%2C%2010.418557%5D%2C%20%5B43.718356%2C%2010.418503%5D%2C%20%5B43.71829%2C%2010.418393%5D%2C%20%5B43.718186%2C%2010.41822%5D%2C%20%5B43.718049%2C%2010.417994%5D%2C%20%5B43.717934%2C%2010.417802%5D%2C%20%5B43.717915%2C%2010.41777%5D%2C%20%5B43.717421%2C%2010.416951%5D%2C%20%5B43.717368%2C%2010.416861%5D%2C%20%5B43.717122%2C%2010.416459%5D%2C%20%5B43.71695%2C%2010.416186%5D%2C%20%5B43.716746%2C%2010.415884%5D%2C%20%5B43.71621%2C%2010.415079%5D%2C%20%5B43.716119%2C%2010.414921%5D%2C%20%5B43.716089%2C%2010.414841%5D%2C%20%5B43.716074%2C%2010.414786%5D%2C%20%5B43.716058%2C%2010.414725%5D%2C%20%5B43.715978%2C%2010.414401%5D%2C%20%5B43.715964%2C%2010.414334%5D%2C%20%5B43.715907%2C%2010.414059%5D%2C%20%5B43.715764%2C%2010.413422%5D%2C%20%5B43.715712%2C%2010.413215%5D%2C%20%5B43.715688%2C%2010.413112%5D%2C%20%5B43.715664%2C%2010.413002%5D%2C%20%5B43.715598%2C%2010.41275%5D%2C%20%5B43.715562%2C%2010.412627%5D%2C%20%5B43.715528%2C%2010.412485%5D%2C%20%5B43.715514%2C%2010.412433%5D%2C%20%5B43.715362%2C%2010.411692%5D%2C%20%5B43.715335%2C%2010.411573%5D%2C%20%5B43.715065%2C%2010.410411%5D%2C%20%5B43.714918%2C%2010.409769%5D%2C%20%5B43.714908%2C%2010.409726%5D%2C%20%5B43.714816%2C%2010.409285%5D%2C%20%5B43.714805%2C%2010.409239%5D%2C%20%5B43.714792%2C%2010.409161%5D%2C%20%5B43.714777%2C%2010.409074%5D%2C%20%5B43.714775%2C%2010.408973%5D%2C%20%5B43.715045%2C%2010.409007%5D%2C%20%5B43.715135%2C%2010.409015%5D%2C%20%5B43.715922%2C%2010.409086%5D%2C%20%5B43.716171%2C%2010.409047%5D%2C%20%5B43.716369%2C%2010.408958%5D%2C%20%5B43.716529%2C%2010.408859%5D%2C%20%5B43.716602%2C%2010.408813%5D%2C%20%5B43.716699%2C%2010.408749%5D%2C%20%5B43.716798%2C%2010.408685%5D%2C%20%5B43.716829%2C%2010.408724%5D%2C%20%5B43.716955%2C%2010.408793%5D%2C%20%5B43.71738%2C%2010.409202%5D%2C%20%5B43.717632%2C%2010.409439%5D%2C%20%5B43.717708%2C%2010.409513%5D%2C%20%5B43.718666%2C%2010.410433%5D%2C%20%5B43.718717%2C%2010.410457%5D%2C%20%5B43.718785%2C%2010.410457%5D%2C%20%5B43.718771%2C%2010.410302%5D%2C%20%5B43.718766%2C%2010.41024%5D%2C%20%5B43.718713%2C%2010.409453%5D%2C%20%5B43.71869%2C%2010.409126%5D%2C%20%5B43.718683%2C%2010.409047%5D%2C%20%5B43.718672%2C%2010.408932%5D%2C%20%5B43.71866%2C%2010.408809%5D%2C%20%5B43.718618%2C%2010.408281%5D%2C%20%5B43.718554%2C%2010.407469%5D%2C%20%5B43.718548%2C%2010.407387%5D%2C%20%5B43.718603%2C%2010.407388%5D%2C%20%5B43.719556%2C%2010.407401%5D%2C%20%5B43.719734%2C%2010.407361%5D%2C%20%5B43.719908%2C%2010.407353%5D%2C%20%5B43.719991%2C%2010.407351%5D%2C%20%5B43.719991%2C%2010.407351%5D%5D%2C%0A%20%20%20%20%20%20%20%20%20%20%20%20%20%20%20%20%7B%22bubblingMouseEvents%22%3A%20true%2C%20%22color%22%3A%20%22%233388ff%22%2C%20%22dashArray%22%3A%20null%2C%20%22dashOffset%22%3A%20null%2C%20%22fill%22%3A%20false%2C%20%22fillColor%22%3A%20%22%233388ff%22%2C%20%22fillOpacity%22%3A%200.2%2C%20%22fillRule%22%3A%20%22evenodd%22%2C%20%22lineCap%22%3A%20%22round%22%2C%20%22lineJoin%22%3A%20%22round%22%2C%20%22noClip%22%3A%20false%2C%20%22opacity%22%3A%201.0%2C%20%22smoothFactor%22%3A%201.0%2C%20%22stroke%22%3A%20true%2C%20%22weight%22%3A%203%7D%0A%20%20%20%20%20%20%20%20%20%20%20%20%29.addTo%28map_56ad531c70974d1cac466689bd171a0f%29%3B%0A%20%20%20%20%20%20%20%20%0A%3C/script%3E onload=\"this.contentDocument.open();this.contentDocument.write(    decodeURIComponent(this.getAttribute('data-html')));this.contentDocument.close();\" allowfullscreen webkitallowfullscreen mozallowfullscreen></iframe></div></div>"
      ],
      "text/plain": [
       "<folium.folium.Map at 0x2d5c597ce20>"
      ]
     },
     "execution_count": 18,
     "metadata": {},
     "output_type": "execute_result"
    }
   ],
   "source": [
    "# visualize the suggestion on a folium map\n",
    "\n",
    "import folium\n",
    "\n",
    "m = folium.Map(location=[lat_origin, lon_origin], tiles='cartodbpositron', zoom_start=13)\n",
    "\n",
    "# reverse the GPS points into (lat, lon) for folium\n",
    "folium.PolyLine(locations=[list(reversed(coord)) \n",
    "                           for coord in gps_points_osm]).add_to(m)\n",
    "m"
   ]
  },
  {
   "cell_type": "markdown",
   "id": "a694d2b1",
   "metadata": {},
   "source": [
    "### Map-Matching (in a very naive way)\n",
    "\n",
    "To make a vehicle follow the sequence of GPS points suggested from OSM we need to \"translate\" the sequence of GPS point into a sequence of SUMO edges.\n",
    "\n",
    "A very naive way is to assign to each GPS point the closest SUMO edge."
   ]
  },
  {
   "cell_type": "code",
   "execution_count": 21,
   "id": "4ca974a5",
   "metadata": {},
   "outputs": [],
   "source": [
    "import itertools\n",
    "\n",
    "edges_osm = []\n",
    "\n",
    "for p in gps_points_osm:\n",
    "    \n",
    "    # we use sumolib to get the closest edge\n",
    "    # project p (lon, lat) into SUMO coordinates (x, y)\n",
    "    x, y = net.convertLonLat2XY(p[0], p[1])\n",
    "    \n",
    "    # retrieve the set of Neighboring edges\n",
    "    candiates_edges = net.getNeighboringEdges(x, y, r=25)\n",
    "\n",
    "    # IMPORTANT! the result of net.getNeighboringEdges is not sorted by distance\n",
    "    edges_and_dist = sorted(candiates_edges, key = lambda x: x[1])\n",
    "    \n",
    "    # take the closest edge ID\n",
    "    matched_edge = edges_and_dist[0][0].getID()\n",
    "    \n",
    "    # append the edge to the list\n",
    "    edges_osm.append(matched_edge)"
   ]
  },
  {
   "cell_type": "code",
   "execution_count": 22,
   "id": "f986a754",
   "metadata": {},
   "outputs": [],
   "source": [
    "# Hint: to be more robust we can consider only \"pivot\" edges, i.e, edges that are matched at least three consecutive times\n",
    "\n",
    "pivot_edges = [(k, sum(1 for _ in vs)) for k, vs in itertools.groupby(edges_osm)]\n",
    "pivot_edges = [elem[0] for elem in pivot_edges if elem[1]>2]"
   ]
  },
  {
   "cell_type": "markdown",
   "id": "930ba773",
   "metadata": {},
   "source": [
    "We can copy (by hand for now) the list of edges into the traffic demand file.\n",
    "See the flow with ID \"flow_osm\" in the traffic demand file \"traffic_demand_pisa.rou.xml\" in the folder of this notebook"
   ]
  }
 ],
 "metadata": {
  "kernelspec": {
   "display_name": "Python 3 (ipykernel)",
   "language": "python",
   "name": "python3"
  },
  "language_info": {
   "codemirror_mode": {
    "name": "ipython",
    "version": 3
   },
   "file_extension": ".py",
   "mimetype": "text/x-python",
   "name": "python",
   "nbconvert_exporter": "python",
   "pygments_lexer": "ipython3",
   "version": "3.9.7"
  }
 },
 "nbformat": 4,
 "nbformat_minor": 5
}
