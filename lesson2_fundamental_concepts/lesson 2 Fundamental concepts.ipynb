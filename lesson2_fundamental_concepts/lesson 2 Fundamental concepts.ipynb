{
 "cells": [
  {
   "cell_type": "markdown",
   "id": "571f32b9",
   "metadata": {},
   "source": [
    "Author: Luca Pappalardo\n",
    "\n",
    "Geospatial Analytics, Master degree in Data Science and Business Informatics, University of Pisa"
   ]
  },
  {
   "cell_type": "markdown",
   "id": "4f993710",
   "metadata": {},
   "source": [
    "# Geospatial Analytics - Lesson 2: Fundamental Concepts\n",
    "\n",
    "In this lesson, we will learn how to handle spatial data in Python using Shapely, Geopandas, and scikit-mobility.\n",
    "\n",
    "1. [Shapely](#shapely)\n",
    "    - [Point](#point)\n",
    "    - [LineString](#linestring)\n",
    "    - [Polygon](#polygon)\n",
    "    - [Geometry Collections](#geometrycollections)\n",
    "    - [Practice](#practice)\n",
    "2. [Geopandas](#geopandas)\n",
    "    - [Reading a shapefile](#readingshapefile)\n",
    "    - [Geometries](#geometriesgeopandas)\n",
    "    - [Writing data](#writingdata)\n",
    "    - [Practice](#practicegeopandas)\n",
    "3. [Folium](#folium)\n",
    "    - [Creating a map](#creatingmap)\n",
    "    - [Markers](#markers)\n",
    "    - [Overlays](#overlays)\n",
    "4. [scikit-mobility](#scikitmobility)\n",
    "    - [Data Structures](#datastructures)\n",
    "        - [TrajDataFrame](#trajdataframe)\n",
    "        - [Tessellation](#tessellation)\n",
    "        - [FlowDataFrame](#flowdataframe)"
   ]
  },
  {
   "cell_type": "markdown",
   "id": "0aa81fcc",
   "metadata": {},
   "source": [
    "<a id='shapely'></a>\n",
    "# Shapely"
   ]
  },
  {
   "cell_type": "markdown",
   "id": "7949c0b6",
   "metadata": {},
   "source": [
    "In [**Shapely**](https://shapely.readthedocs.io/en/stable/manual.html), the most fundamental geometric objects are `Points`, `Lines` and `Polygons`, the basic ingredients when working with spatial data in vector data format. \n",
    "\n",
    "Python has a specific module called `Shapely` for doing various geometric operations. Basic knowledge of using Shapely is fundamental for understanding how geometries are stored and handled in `GeoPandas` and `scikit-mobility`."
   ]
  },
  {
   "cell_type": "markdown",
   "id": "760ebca3",
   "metadata": {},
   "source": [
    "Geometric objects consist of coordinate tuples where:\n",
    "\n",
    "- `Point` object: represents a single point in space. Points can be either two-dimensional $(x, y)$ or three dimensional $(x, y, z)$\n",
    "\n",
    "- `LineString` object: (i.e., a line) represents a sequence of points joined together to form a line. Hence, a line consist of a list of at least two coordinate tuples\n",
    "\n",
    "- `Polygon` object: represents a filled area that consists of a list of at least three coordinate tuples that forms the outerior ring and a (possible) list of hole polygons"
   ]
  },
  {
   "cell_type": "markdown",
   "id": "8916aaf2",
   "metadata": {},
   "source": [
    "It is also possible to have a collection of geometric objects (e.g., `Polygon`s with multiple parts):\n",
    "\n",
    "- `MultiPoint` object: represents a collection of `Point`s and consists of a list of coordinate-tuples\n",
    "\n",
    "- `MultiLineString` object: represents a collection of `LineString`s and consists of a list of line-like sequences\n",
    "\n",
    "- `MultiPolygon` object: represents a collection of `Polygon`s that consists of a list of polygon-like sequences that construct from exterior ring and (possible) hole list tuples"
   ]
  },
  {
   "cell_type": "markdown",
   "id": "7292e0f7",
   "metadata": {},
   "source": [
    "![](https://autogis-site.readthedocs.io/en/latest/_images/SpatialDataModel.PNG)"
   ]
  },
  {
   "cell_type": "markdown",
   "id": "406e783a",
   "metadata": {},
   "source": [
    "<a id=\"point\"></a>\n",
    "## Point\n",
    "Creating point is easy, you pass $x$ and $y$ coordinates into `Point()` object (+ possibly also $z$ coordinate):"
   ]
  },
  {
   "cell_type": "code",
   "execution_count": null,
   "id": "4866265b",
   "metadata": {},
   "outputs": [],
   "source": [
    "# Import necessary geometric objects from shapely module\n",
    "from shapely.geometry import Point, LineString, Polygon"
   ]
  },
  {
   "cell_type": "code",
   "execution_count": null,
   "id": "5ed4ee79-dfee-4370-b1e3-b319eadbabd3",
   "metadata": {},
   "outputs": [],
   "source": [
    "# Create Point geometric object(s) with coordinates\n",
    "point1 = Point(2.2, 4.2)\n",
    "point2 = Point(7.2, -25.1)\n",
    "point3 = Point(9.26, -2.456)\n",
    "point3D = Point(9.26, -2.456, 0.57)"
   ]
  },
  {
   "cell_type": "code",
   "execution_count": null,
   "id": "eef50fef",
   "metadata": {},
   "outputs": [],
   "source": [
    "point1"
   ]
  },
  {
   "cell_type": "code",
   "execution_count": null,
   "id": "6366522c",
   "metadata": {},
   "outputs": [],
   "source": [
    "type(point1)"
   ]
  },
  {
   "cell_type": "markdown",
   "id": "0d2820b1",
   "metadata": {},
   "source": [
    "The type of the point is Shapely’s `Point`. The point object is represented in a specific format based on GEOS C++ library that is one of the standard libraries behind various GIS, e.g., QGIS."
   ]
  },
  {
   "cell_type": "code",
   "execution_count": null,
   "id": "d4d12c65",
   "metadata": {},
   "outputs": [],
   "source": [
    "print(point1)"
   ]
  },
  {
   "cell_type": "code",
   "execution_count": null,
   "id": "675f23d1",
   "metadata": {},
   "outputs": [],
   "source": [
    "print(point3D)"
   ]
  },
  {
   "cell_type": "markdown",
   "id": "59e5867c",
   "metadata": {},
   "source": [
    "### Point attributes and functions\n",
    "`Point`s and other Shapely objects have useful built-in attributes and methods. Using the available attributes, we can for example extract the coordinate values of a `Point` and calculate the Euclidian distance between points.\n",
    "\n",
    "`geom_type` attribute contains information about the geometry type of the Shapely object:"
   ]
  },
  {
   "cell_type": "code",
   "execution_count": null,
   "id": "1675240e",
   "metadata": {},
   "outputs": [],
   "source": [
    "point1.geom_type"
   ]
  },
  {
   "cell_type": "markdown",
   "id": "d6c32745",
   "metadata": {},
   "source": [
    "Extracting the coordinates of a `Point` can be done in a couple of different ways:\n",
    "\n",
    "- `coords` attribute contains the coordinate information as a `CoordinateSequence` (list) which is another data type related to Shapely\n",
    "- Using the attributes `x` and `y` to get the coordinates directly as plain decimal numbers"
   ]
  },
  {
   "cell_type": "code",
   "execution_count": null,
   "id": "79911401",
   "metadata": {},
   "outputs": [],
   "source": [
    "# Get xy coordinate tuple\n",
    "list(point1.coords)"
   ]
  },
  {
   "cell_type": "code",
   "execution_count": null,
   "id": "90d5efbd",
   "metadata": {},
   "outputs": [],
   "source": [
    "# Read x and y coordinates separately\n",
    "x = point1.x\n",
    "y = point1.y\n",
    "x, y"
   ]
  },
  {
   "cell_type": "markdown",
   "id": "5f921e94",
   "metadata": {},
   "source": [
    "It is also possible to calculate the distance between two objects using the `distance` method. In our example, the distance is calculated in a cartesian coordinate system. When working with real GIS data the distance is based on the used coordinate reference system. \n",
    "\n",
    "Let’s calculate the distance between `point1` and `point2`:"
   ]
  },
  {
   "cell_type": "code",
   "execution_count": null,
   "id": "b340f436",
   "metadata": {},
   "outputs": [],
   "source": [
    "# Calculate the distance between point1 and point2\n",
    "dist = point1.distance(point2)\n",
    "\n",
    "# Print out a nicely formatted info message\n",
    "print(f\"Distance between the points is {dist} units\")"
   ]
  },
  {
   "cell_type": "markdown",
   "id": "cb6dae08",
   "metadata": {},
   "source": [
    "<a id=\"linestring\"></a>\n",
    "## LineString\n",
    "Creating `LineString` objects is fairly similar to creating Shapely `Point`s.\n",
    "\n",
    "Now instead using a single coordinate-tuple we can construct the line using either a list of Shapely `Point` objects or pass the points as coordinate-tuples:"
   ]
  },
  {
   "cell_type": "code",
   "execution_count": null,
   "id": "7a62f7fc",
   "metadata": {},
   "outputs": [],
   "source": [
    "# Create a LineString from our Point objects\n",
    "line = LineString([point1, point2, point3])\n",
    "\n",
    "# It is also possible to produce the same outcome using coordinate tuples\n",
    "line2 = LineString([(2.2, 4.2), (7.2, -25.1), (9.26, -2.456)])\n",
    "\n",
    "# Check if lines are identical\n",
    "line == line2 "
   ]
  },
  {
   "cell_type": "code",
   "execution_count": null,
   "id": "116b4715",
   "metadata": {},
   "outputs": [],
   "source": [
    "# Check data type of the line object\n",
    "type(line)"
   ]
  },
  {
   "cell_type": "code",
   "execution_count": null,
   "id": "bfb5d16c",
   "metadata": {},
   "outputs": [],
   "source": [
    "# Check geometry type of the line object\n",
    "line.geom_type"
   ]
  },
  {
   "cell_type": "code",
   "execution_count": null,
   "id": "624545e2",
   "metadata": {},
   "outputs": [],
   "source": [
    "line"
   ]
  },
  {
   "cell_type": "code",
   "execution_count": null,
   "id": "6f09885a",
   "metadata": {},
   "outputs": [],
   "source": [
    "print(line)"
   ]
  },
  {
   "cell_type": "markdown",
   "id": "72a46bfa",
   "metadata": {},
   "source": [
    "### LineString attributes and functions\n",
    "`LineString` object has many useful built-in attributes and functionalities. It is for instance possible to extract the coordinates or the length of a `LineString` (line), calculate the centroid of the line, create points along the line at specific distance, calculate the closest distance from a line to specified `Point` and simplify the geometry. \n",
    "\n",
    "We can extract the coordinates of a `LineString` similarly as with `Point`:"
   ]
  },
  {
   "cell_type": "code",
   "execution_count": null,
   "id": "3cc19588",
   "metadata": {},
   "outputs": [],
   "source": [
    "# Get xy coordinate tuples\n",
    "list(line.coords)"
   ]
  },
  {
   "cell_type": "markdown",
   "id": "778e1416",
   "metadata": {},
   "source": [
    "If you would need to access all x-coordinates or all y-coordinates of the line, you can do it directly using the `xy` attribute:"
   ]
  },
  {
   "cell_type": "code",
   "execution_count": null,
   "id": "4c5369a0",
   "metadata": {},
   "outputs": [],
   "source": [
    "# Extract x and y coordinates separately\n",
    "xcoords = list(line.xy[0])\n",
    "ycoords = list(line.xy[1])\n",
    "\n",
    "print(xcoords)\n",
    "print(ycoords)"
   ]
  },
  {
   "cell_type": "markdown",
   "id": "61c3e97a",
   "metadata": {},
   "source": [
    "It is possible to retrieve specific attributes such as the `length` of the line and center of the line (`centroid`) straight from the `LineString` object itself:"
   ]
  },
  {
   "cell_type": "code",
   "execution_count": null,
   "id": "87d00f92",
   "metadata": {},
   "outputs": [],
   "source": [
    "# Get the lenght of the line\n",
    "l_length = line.length\n",
    "print(f\"Length of our line: {l_length} units\")"
   ]
  },
  {
   "cell_type": "code",
   "execution_count": null,
   "id": "210dc6b4",
   "metadata": {},
   "outputs": [],
   "source": [
    "# Get the centroid of the line\n",
    "print(line.centroid)"
   ]
  },
  {
   "cell_type": "markdown",
   "id": "74249f85",
   "metadata": {},
   "source": [
    "<a id=\"polygon\"></a>\n",
    "## Polygon\n",
    "Creating a `Polygon` object continues the same logic of how `Point` and `LineString` were created but `Polygon` object only accepts a sequence of coordinates as input.\n",
    "\n",
    "`Polygon` needs at least three coordinate-tuples (three points are reguired to form a surface):"
   ]
  },
  {
   "cell_type": "code",
   "execution_count": null,
   "id": "91be3eec",
   "metadata": {},
   "outputs": [],
   "source": [
    "# Create a Polygon from the coordinates\n",
    "poly = Polygon([(2.2, 4.2), (7.2, -25.1), (9.26, -2.456)])"
   ]
  },
  {
   "cell_type": "code",
   "execution_count": null,
   "id": "ee351038",
   "metadata": {},
   "outputs": [],
   "source": [
    "print(poly)"
   ]
  },
  {
   "cell_type": "code",
   "execution_count": null,
   "id": "9180f9d5",
   "metadata": {},
   "outputs": [],
   "source": [
    "poly.area"
   ]
  },
  {
   "cell_type": "code",
   "execution_count": null,
   "id": "efe40e8b",
   "metadata": {},
   "outputs": [],
   "source": [
    "# Data type\n",
    "type(poly)"
   ]
  },
  {
   "cell_type": "code",
   "execution_count": null,
   "id": "9ecfc8b4",
   "metadata": {},
   "outputs": [],
   "source": [
    "# Geometry type\n",
    "poly.geom_type"
   ]
  },
  {
   "cell_type": "code",
   "execution_count": null,
   "id": "561e792b",
   "metadata": {},
   "outputs": [],
   "source": [
    "poly"
   ]
  },
  {
   "cell_type": "markdown",
   "id": "962f7123",
   "metadata": {},
   "source": [
    "We can also use information from the Shapely `Point` objects created earlier, but we cannot use the `Point` objects directly. Instead, we need to get information of the $x,y$ coordinate pairs as a sequence. We can achieve this by using a list comprehension."
   ]
  },
  {
   "cell_type": "code",
   "execution_count": null,
   "id": "c5ebf891",
   "metadata": {},
   "outputs": [],
   "source": [
    "# Create a Polygon based on information from the Shapely points\n",
    "poly2 = Polygon([[p.x, p.y] for p in [point1, point2, point3]])"
   ]
  },
  {
   "cell_type": "code",
   "execution_count": null,
   "id": "8172481d",
   "metadata": {},
   "outputs": [],
   "source": [
    "poly2"
   ]
  },
  {
   "cell_type": "code",
   "execution_count": null,
   "id": "730c7942",
   "metadata": {},
   "outputs": [],
   "source": [
    "poly == poly2"
   ]
  },
  {
   "cell_type": "code",
   "execution_count": null,
   "id": "bc5bac18",
   "metadata": {},
   "outputs": [],
   "source": [
    "# Define the outer border\n",
    "border = [(-180, 90), (-180, -90), (180, -90), (180, 90)]"
   ]
  },
  {
   "cell_type": "code",
   "execution_count": null,
   "id": "48447ae0",
   "metadata": {},
   "outputs": [],
   "source": [
    "# Outer polygon\n",
    "world = Polygon(shell=border)\n",
    "print(world)"
   ]
  },
  {
   "cell_type": "code",
   "execution_count": null,
   "id": "296b735a",
   "metadata": {},
   "outputs": [],
   "source": [
    "world"
   ]
  },
  {
   "cell_type": "markdown",
   "id": "edf74823",
   "metadata": {},
   "source": [
    "### Polygon attributes and functions¶\n",
    "We can again access different attributes directly from the `Polygon` object itself that can be really useful for many analyses, such as `area`, `centroid`, bounding box (`bounds`), `exterior`, and exterior-length (`exterior.length`). \n",
    "\n",
    "Here, we can see a few of the available attributes and how to access them:"
   ]
  },
  {
   "cell_type": "code",
   "execution_count": null,
   "id": "31eb5a7f",
   "metadata": {},
   "outputs": [],
   "source": [
    "# Print the outputs\n",
    "print(f\"Polygon centroid: {world.centroid}\")\n",
    "print(f\"Polygon Area: {world.area}\")\n",
    "print(f\"Polygon Bounding Box: {world.bounds}\")\n",
    "print(f\"Polygon Exterior: {world.exterior}\")\n",
    "print(f\"Polygon Exterior Length: {world.exterior.length}\")"
   ]
  },
  {
   "cell_type": "markdown",
   "id": "6f01e978-db79-4fcf-bf03-c60f436d8c0d",
   "metadata": {},
   "source": [
    "<a id=\"geometrycollections\"></a>\n",
    "## Geometry collections\n",
    "In some occassions it is useful to store multiple geometries (for example, several points or several polygons) in a single feature. For example, when country is composed of several islands, the polygons share the same attributes on the country-level and it might be reasonable to store that country as geometry collection that contains all the polygons. The attribute table would then contain one row of information with country-level attributes, and the geometry related to those attributes would represent several polygons.\n",
    "\n",
    "In Shapely, collections of `Point`s are implemented by using a `MultiPoint` object, collections of `LineString`s by using a `MultiLineString` object, and collections of `Polygon`s by a `MultiPolygon` object."
   ]
  },
  {
   "cell_type": "code",
   "execution_count": null,
   "id": "af0e7593-b8cc-4fb4-9753-f8683864c591",
   "metadata": {},
   "outputs": [],
   "source": [
    "from shapely.geometry import Point, LineString, Polygon\n",
    "from shapely.geometry import MultiPoint, MultiLineString, MultiPolygon"
   ]
  },
  {
   "cell_type": "code",
   "execution_count": null,
   "id": "1f9f6e62-ff36-4f75-a619-c744774474db",
   "metadata": {},
   "outputs": [],
   "source": [
    "point1, point2, point3 = (2.2, 4.2), (7.2, -25.1), (9.26, -2.456)\n",
    "\n",
    "# Create a MultiPoint object of our points 1,2 and 3\n",
    "multi_point = MultiPoint([point1, point2, point3])\n",
    "\n",
    "# It is also possible to pass coordinate tuples inside\n",
    "multi_point2 = MultiPoint([(2.2, 4.2), (7.2, -25.1), (9.26, -2.456)])\n",
    "\n",
    "# We can also create a MultiLineString with two lines\n",
    "line1 = LineString([point1, point2])\n",
    "line2 = LineString([point2, point3])\n",
    "multi_line = MultiLineString([line1, line2])\n",
    "\n",
    "# Print object definitions\n",
    "print(multi_point)\n",
    "print(multi_line)"
   ]
  },
  {
   "cell_type": "code",
   "execution_count": null,
   "id": "60f2181d-85ad-4a7b-a5fd-6585fc5d3719",
   "metadata": {},
   "outputs": [],
   "source": [
    "multi_point"
   ]
  },
  {
   "cell_type": "code",
   "execution_count": null,
   "id": "8c9f0302-b86c-41a3-8159-7a961a76dc04",
   "metadata": {},
   "outputs": [],
   "source": [
    "multi_line"
   ]
  },
  {
   "cell_type": "markdown",
   "id": "2a4be3fc-a767-4697-a736-7dbd6c777bc1",
   "metadata": {},
   "source": [
    "`MultiPolygon`s are constructed in a similar manner. Let’s create a bounding box for “the world” by combining two separate polygons that represent the western and eastern hemispheres."
   ]
  },
  {
   "cell_type": "code",
   "execution_count": null,
   "id": "68fe6e72-f5a9-4829-936b-c814209d64a1",
   "metadata": {},
   "outputs": [],
   "source": [
    "# Let's create the exterior of the western part of the world\n",
    "west_exterior = [(-180, 90), (-180, -90), (0, -90), (0, 90)]\n",
    "\n",
    "# Let's create a hole --> remember there can be multiple holes, thus we need to have a list of hole(s). \n",
    "# Here we have just one.\n",
    "west_hole = [[(-170, 80), (-170, -80), (-10, -80), (-10, 80)]]\n",
    "\n",
    "# Create the Polygon\n",
    "west_poly = Polygon(shell=west_exterior, holes=west_hole)\n",
    "\n",
    "# Print object definition\n",
    "print(west_poly)"
   ]
  },
  {
   "cell_type": "code",
   "execution_count": null,
   "id": "671aa292-b389-4626-958d-43c26617d680",
   "metadata": {},
   "outputs": [],
   "source": [
    "west_poly"
   ]
  },
  {
   "cell_type": "markdown",
   "id": "d4c3a898-2220-448e-91c8-f0eb64892774",
   "metadata": {},
   "source": [
    "Shapely also has a tool for creating a bounding box based on minimum and maximum $x$ and $y$ coordinates. Instead of using the `Polygon` constructor, let’s use the box constructor for creating the polygon:"
   ]
  },
  {
   "cell_type": "code",
   "execution_count": null,
   "id": "acf96784-8003-4601-942d-467a458eacd4",
   "metadata": {},
   "outputs": [],
   "source": [
    "from shapely.geometry import box"
   ]
  },
  {
   "cell_type": "code",
   "execution_count": null,
   "id": "3e5f3efd-3255-4183-a80f-a55137d14c5d",
   "metadata": {},
   "outputs": [],
   "source": [
    "# Specify the bbox extent (lower-left corner coordinates and upper-right corner coordinates)\n",
    "min_x, min_y = 0, -90\n",
    "max_x, max_y = 180, 90\n",
    "\n",
    "# Create the polygon using Shapely\n",
    "east_poly = box(minx=min_x, miny=min_y, maxx=max_x, maxy=max_y)\n",
    "\n",
    "# Print object definition\n",
    "print(east_poly)"
   ]
  },
  {
   "cell_type": "code",
   "execution_count": null,
   "id": "d655d030-dbac-49d6-b9e9-2edc733c1823",
   "metadata": {},
   "outputs": [],
   "source": [
    "east_poly"
   ]
  },
  {
   "cell_type": "markdown",
   "id": "c77f4aeb-05cb-4da3-a294-41f7c58108a7",
   "metadata": {},
   "source": [
    "Finally, we can combine the two polygons into a `MultiPolygon`:"
   ]
  },
  {
   "cell_type": "code",
   "execution_count": null,
   "id": "7f2cd913-d950-46e4-8346-aa8b156131db",
   "metadata": {},
   "outputs": [],
   "source": [
    "# Let's create our MultiPolygon. We can pass multiple Polygon -objects into our MultiPolygon as a list\n",
    "multi_poly = MultiPolygon([west_poly, east_poly])\n",
    "\n",
    "# Print object definition\n",
    "print(multi_poly)"
   ]
  },
  {
   "cell_type": "code",
   "execution_count": null,
   "id": "72f718b3-1e21-4b63-959b-0d2642056612",
   "metadata": {},
   "outputs": [],
   "source": [
    "multi_poly"
   ]
  },
  {
   "cell_type": "markdown",
   "id": "c089622b-44ad-467d-be0a-d3278bd6e3e0",
   "metadata": {},
   "source": [
    "We can check if we have a \"valid\" `MultiPolygon`, i.e., if the individual polygons does notintersect with each other. Here, because the polygons have a common 0-meridian, we should NOT have a valid polygon. \n",
    "\n",
    "We can check the validity of an object from the `is_valid` attribute that tells if the polygons or lines intersect with each other. This can be really useful information when trying to find topological errors from your data:"
   ]
  },
  {
   "cell_type": "code",
   "execution_count": null,
   "id": "a7564706-88a4-4fd5-9aa5-f76e7c8dff0f",
   "metadata": {},
   "outputs": [],
   "source": [
    "print(f\"Is polygon valid?: {multi_poly.is_valid}\")"
   ]
  },
  {
   "cell_type": "markdown",
   "id": "54e3d8db-6ce6-49a6-9cca-71d732ff1498",
   "metadata": {},
   "source": [
    "### Convex hull and envelope\n",
    "Convex hull refers to the smalles possible polygon that contains all objects in a collection. Alongside with the minimum bounding box, convex hull is a useful shape when aiming to describe the extent of your data."
   ]
  },
  {
   "cell_type": "code",
   "execution_count": null,
   "id": "360187c0-306b-42d0-9739-065b53716e39",
   "metadata": {},
   "outputs": [],
   "source": [
    "# Check input geometry\n",
    "multi_point"
   ]
  },
  {
   "cell_type": "code",
   "execution_count": null,
   "id": "7f7cac37-2278-40f6-9744-998e7603e517",
   "metadata": {},
   "outputs": [],
   "source": [
    "# Convex Hull (smallest polygon around the geometry collection)\n",
    "multi_point.convex_hull"
   ]
  },
  {
   "cell_type": "code",
   "execution_count": null,
   "id": "4462acf6-e48c-4238-bd4f-81023635d732",
   "metadata": {},
   "outputs": [],
   "source": [
    "# Envelope (smalles rectangular polygon around the geometry collection): \n",
    "multi_point.envelope"
   ]
  },
  {
   "cell_type": "markdown",
   "id": "68352dfc-6ab2-4b8e-aea3-23f07ef83e98",
   "metadata": {},
   "source": [
    "<a id=\"practice\"></a>\n",
    "## Practice"
   ]
  },
  {
   "cell_type": "markdown",
   "id": "d2bdff55",
   "metadata": {},
   "source": [
    "### Practice 1\n",
    "Plot these shapes using Shapely!\n",
    "\n",
    "- Pentagon, example coords: $(30, 2.01), (31.91, 0.62), (31.18, -1.63), (28.82, -1.63), (28.09, 0.62)$\n",
    "- Triangle\n",
    "- Square\n",
    "- Circle"
   ]
  },
  {
   "cell_type": "code",
   "execution_count": null,
   "id": "1d72fb3b",
   "metadata": {},
   "outputs": [],
   "source": [
    "pentagon = Polygon([(30, 2.01), (31.91, 0.62), (31.18, -1.63), (28.82, -1.63), (28.09, 0.62)])\n",
    "pentagon"
   ]
  },
  {
   "cell_type": "code",
   "execution_count": null,
   "id": "af328399",
   "metadata": {},
   "outputs": [],
   "source": [
    "triangle = Polygon([(0,0), (1, 1), (1, 0)])\n",
    "triangle"
   ]
  },
  {
   "cell_type": "code",
   "execution_count": null,
   "id": "994d244a",
   "metadata": {},
   "outputs": [],
   "source": [
    "square = Polygon([(0,0), (0, 1), (1, 1), (1, 0)])\n",
    "square"
   ]
  },
  {
   "cell_type": "code",
   "execution_count": null,
   "id": "4e5e657a",
   "metadata": {},
   "outputs": [],
   "source": [
    "# Circle (using a buffer around a point)\n",
    "point = Point((0,0))\n",
    "point.buffer(1)"
   ]
  },
  {
   "cell_type": "markdown",
   "id": "c75d4087",
   "metadata": {},
   "source": [
    "### Practice 2"
   ]
  },
  {
   "cell_type": "markdown",
   "id": "ac9bd93d",
   "metadata": {},
   "source": [
    "In this problem you will create custom-made functions for creating geometries. We start with a very simple function, and proceed to creating functions that can handle invalid input values.\n",
    "\n",
    "1. Create a function called `create_point_geom()` that has two parameters (`x_coord`, `y_coord`). The function should create and return a shapely `Point` geometry object."
   ]
  },
  {
   "cell_type": "code",
   "execution_count": null,
   "id": "a8783fb0",
   "metadata": {},
   "outputs": [],
   "source": [
    "def create_point_geom(x_coord, y_coord):\n",
    "    return Point(x_coord, y_coord)"
   ]
  },
  {
   "cell_type": "markdown",
   "id": "4a2cb2f9",
   "metadata": {},
   "source": [
    "Test your function by running these code cells:"
   ]
  },
  {
   "cell_type": "code",
   "execution_count": null,
   "id": "0d6edffd",
   "metadata": {},
   "outputs": [],
   "source": [
    "# Demonstrate the usage of the function\n",
    "point1 = create_point_geom(0.0, 1.1)"
   ]
  },
  {
   "cell_type": "code",
   "execution_count": null,
   "id": "ae5c0506",
   "metadata": {},
   "outputs": [],
   "source": [
    "print(point1)\n",
    "print(point1.geom_type)"
   ]
  },
  {
   "cell_type": "markdown",
   "id": "cdbc641b",
   "metadata": {},
   "source": [
    "2. Create a function called `create_line_geom()` that takes a list of Shapely `Point` objects as parameter called points and returns a `LineString` object of those input points. In addition, you should take care that the function is used as it should:\n",
    "\n",
    "    - Inside the function, you should first check with `assert` functionality that the input is a list. If something else than a list is passed for the function, you should return an error message: `\"Input should be a list!\"`\n",
    "    - You should also check with `assert` that the input list contains at least two values. If not, return an error message: `\"LineString object requires at least two Points!\"`"
   ]
  },
  {
   "cell_type": "code",
   "execution_count": null,
   "id": "a519a165",
   "metadata": {},
   "outputs": [],
   "source": [
    "def create_line_geom(points_list):\n",
    "    assert isinstance(points_list, list), \"Input should be a list!\"\n",
    "    assert len(points_list) >= 2, \"LineString object requires at least two Points!\"\n",
    "    return LineString(points_list)"
   ]
  },
  {
   "cell_type": "code",
   "execution_count": null,
   "id": "145bd946",
   "metadata": {},
   "outputs": [],
   "source": [
    "create_line_geom([(1, 2), (2, 2)])"
   ]
  },
  {
   "cell_type": "markdown",
   "id": "9070db02",
   "metadata": {},
   "source": [
    "Create a line object with two points: `Point(45.2, 22.34)` and `Point(100.22, -3.20)` and store the result in a variable called `line1`:"
   ]
  },
  {
   "cell_type": "code",
   "execution_count": null,
   "id": "5f274266",
   "metadata": {},
   "outputs": [],
   "source": [
    "point1, point2 = Point(45.2, 22.34), Point(100.22, -3.20)\n",
    "line1 = create_line_geom([point1, point2])"
   ]
  },
  {
   "cell_type": "markdown",
   "id": "02950315",
   "metadata": {},
   "source": [
    "Run these code cells to check your solution:"
   ]
  },
  {
   "cell_type": "code",
   "execution_count": null,
   "id": "12251d5a",
   "metadata": {},
   "outputs": [],
   "source": [
    "print(line1)\n",
    "print(line1.geom_type)"
   ]
  },
  {
   "cell_type": "markdown",
   "id": "39d6f964",
   "metadata": {},
   "source": [
    "3. Create a function called `create_poly_geom()` that has one parameter called `coords`, which should containt a list of coordinate tuples. The function should create and return a `Polygon` object based on these coordinates.\n",
    "\n",
    "    - Inside the function, you should first check with `assert` that the input is a list. If something else than a list is passed for the function, you should return an error message: `\"Input should be a list!\"`\n",
    "    - You should also check with `assert` that the input list contains at least three values. If not, return an error message: `\"Polygon object requires at least three Points!\"`\n",
    "    - Check the data type of the objects in the input list. All values in the input list should be tuples. If not, return an error message: `\"All list values should be coordinate tuples!\"` using `assert`."
   ]
  },
  {
   "cell_type": "code",
   "execution_count": null,
   "id": "9798d5b0",
   "metadata": {},
   "outputs": [],
   "source": [
    "def create_poly_geom(coords):\n",
    "    assert isinstance(coords, list), \"Input should be a list!\"\n",
    "    assert len(coords) >= 3, \"Polygon object requires at least three Points!\"\n",
    "    for p in coords:\n",
    "        assert isinstance(p, tuple), \"All list values should be coordinate tuples!\" \n",
    "    return Polygon(coords)"
   ]
  },
  {
   "cell_type": "code",
   "execution_count": null,
   "id": "7ef6e8ae",
   "metadata": {},
   "outputs": [],
   "source": [
    "create_poly_geom([(1, 2), (2, 2), (3, 3), 4])"
   ]
  },
  {
   "cell_type": "markdown",
   "id": "68c25bde",
   "metadata": {},
   "source": [
    "Demonstrate the usage of the function. For example, create a `Polygon` with three points: `(45.2, 22.34)`, `(100.22, -3.20)`,  `(70.0, 10.20)`."
   ]
  },
  {
   "cell_type": "code",
   "execution_count": null,
   "id": "a1b7e453",
   "metadata": {},
   "outputs": [],
   "source": [
    "coords = [(45.2, 22.34), (100.22, -3.20), (70.0, 10.20)]\n",
    "poly1 = create_poly_geom(coords)"
   ]
  },
  {
   "cell_type": "code",
   "execution_count": null,
   "id": "87a7ebf6",
   "metadata": {},
   "outputs": [],
   "source": [
    "print(coords)\n",
    "print(poly1)\n",
    "print(poly1.geom_type)"
   ]
  },
  {
   "cell_type": "markdown",
   "id": "d5bf97ed",
   "metadata": {},
   "source": [
    "### Practice 3\n",
    "1. Create a function called `get_centroid()` that has one parameter called `geom`. The function should take any kind of Shapely's geometric object as an input, and return a centroid of that geometry. In addition, you should take care that the function is used as it should:\n",
    "\n",
    "    - Inside the function, you should first check with `assert` that the input is a Shapely `Point`, `LineString` or `Polygon` geometry. If something else than a list is passed for the function, you should return an error message: `\"Input should be a Shapely geometry!\"`"
   ]
  },
  {
   "cell_type": "code",
   "execution_count": null,
   "id": "5a0b3304",
   "metadata": {},
   "outputs": [],
   "source": [
    "def get_centroid(geom):\n",
    "    assert isinstance(geom, Point) or isinstance(geom, LineString) or isinstance(geom, Polygon), \"Input should be a Shapely geometry!\"\n",
    "    return geom.centroid"
   ]
  },
  {
   "cell_type": "markdown",
   "id": "faad8384",
   "metadata": {},
   "source": [
    "Test and demonstrate the usage of the function. You can, for example, create Shapely objects using the functions you created in the previous exercise and print out information about their centroids:"
   ]
  },
  {
   "cell_type": "code",
   "execution_count": null,
   "id": "7cb077d9",
   "metadata": {},
   "outputs": [],
   "source": [
    "point1, point2 = Point(45.2, 22.34), Point(100.22, -3.20)\n",
    "line1 = create_line_geom([point1, point2])\n",
    "print(get_centroid(line1))"
   ]
  },
  {
   "cell_type": "markdown",
   "id": "47f50a45",
   "metadata": {},
   "source": [
    "2. Create a function called `get_area()` with one parameter called `polygon`. Function should take a Shapely's `Polygon` object as input and returns the area of that geometry.\n",
    "\n",
    "    - Inside the function, you should first check with `assert` that the input is a Shapely `Polygon` geometry. If something else than a list is passed for the function, you should return an error message: `\"Input should be a Shapely Polygon object!\"`"
   ]
  },
  {
   "cell_type": "code",
   "execution_count": null,
   "id": "cb547d05",
   "metadata": {},
   "outputs": [],
   "source": [
    "def get_area(polygon):\n",
    "    return polygon.area"
   ]
  },
  {
   "cell_type": "code",
   "execution_count": null,
   "id": "bc0a2d27",
   "metadata": {},
   "outputs": [],
   "source": [
    "def create_poly_geom(coords):\n",
    "    assert isinstance(coords, list), \"Input should be a list!\"\n",
    "    assert len(coords) >= 3, \"Polygon object requires at least three Points!\"\n",
    "    for p in coords:\n",
    "        assert isinstance(p, tuple), \"All list values should be coordinate tuples!\" \n",
    "    return Polygon(shell=coords)"
   ]
  },
  {
   "cell_type": "code",
   "execution_count": null,
   "id": "a99edf3e",
   "metadata": {},
   "outputs": [],
   "source": [
    "points_list = [(-180, 90), (-180, -90), (180, -90), (180, 90)]\n",
    "poly1 = create_poly_geom(points_list)\n",
    "print(poly1)"
   ]
  },
  {
   "cell_type": "code",
   "execution_count": null,
   "id": "92eb2732",
   "metadata": {},
   "outputs": [],
   "source": [
    "poly1.area"
   ]
  },
  {
   "cell_type": "markdown",
   "id": "3f574435",
   "metadata": {},
   "source": [
    "3. Create a function called `get_length()` with parameter called `geom`. The function should accept either a Shapely `LineString` or `Polygon` object as input. Function should check the type of the input and returns the length of the line if input is `LineString` and length of the exterior ring if input is `Polygon`. If something else is passed to the function, you should return an error `\"'geom' should be either LineString or Polygon!\"`. (Use `assert`)."
   ]
  },
  {
   "cell_type": "code",
   "execution_count": null,
   "id": "a03b7f59",
   "metadata": {},
   "outputs": [],
   "source": [
    "def get_length(geom):\n",
    "    if isinstance(geom, LineString) or isinstance(geom, Polygon):\n",
    "        return geom.length\n",
    "    print(\"'geom' should be either LineString or Polygon!\")"
   ]
  },
  {
   "cell_type": "code",
   "execution_count": null,
   "id": "9efcc82d",
   "metadata": {},
   "outputs": [],
   "source": [
    "line_length = get_length(line1)\n",
    "print(\"Line length:\", round(line_length,2))"
   ]
  },
  {
   "cell_type": "code",
   "execution_count": null,
   "id": "55371ea5",
   "metadata": {},
   "outputs": [],
   "source": [
    "poly_exterior_length = get_length(poly1)\n",
    "print(\"Polygon exterior length:\", round(poly_exterior_length,2))"
   ]
  },
  {
   "cell_type": "markdown",
   "id": "3c32e45f",
   "metadata": {},
   "source": [
    "<a id=\"geopandas\"></a>\n",
    "# Geopandas\n",
    "\n",
    "[**Geopandas**](http://geopandas.org/) makes it possible to work with geospatial data in Python in a relatively easy way. Geopandas combines the capabilities of the data analysis library pandas with other packages like Shapely and fiona for managing spatial data.\n",
    "\n",
    "The main data structures in geopandas are `GeoSeries` and `GeoDataFrame` which extend the capabilities of `Series` and `DataFrame`s from pandas. This means that we can use all our pandas skills also when working with geopandas!\n",
    "\n",
    "The main difference between `GeoDataFrame`s and pandas `DataFrame`s is that a `GeoDataFrame` should contain one column for geometries. By default, the name of this column is `'geometry'`. The geometry column is a `GeoSeries` which contains the geometries (`Point`, `LineString`, `Polygon`) as shapely objects.\n",
    "\n",
    "![](https://autogis-site.readthedocs.io/en/latest/_images/geodataframe.png)"
   ]
  },
  {
   "cell_type": "code",
   "execution_count": null,
   "id": "facbd07a",
   "metadata": {},
   "outputs": [],
   "source": [
    "import geopandas as gpd"
   ]
  },
  {
   "cell_type": "markdown",
   "id": "6753f9df",
   "metadata": {},
   "source": [
    "<a id=\"readingshapefile\"></a>\n",
    "## Reading a Shapefile"
   ]
  },
  {
   "cell_type": "code",
   "execution_count": null,
   "id": "fbb1a87d",
   "metadata": {},
   "outputs": [],
   "source": [
    "fp = \"data/L2_data/NLS/2018/L4/L41/L4132R.shp/m_L4132R_p.shp\"\n",
    "# Read file using gpd.read_file()\n",
    "data = gpd.read_file(fp)\n",
    "data.head()"
   ]
  },
  {
   "cell_type": "code",
   "execution_count": null,
   "id": "ab5b56a2",
   "metadata": {},
   "outputs": [],
   "source": [
    "type(data)"
   ]
  },
  {
   "cell_type": "code",
   "execution_count": null,
   "id": "c9ea321e",
   "metadata": {},
   "outputs": [],
   "source": [
    "data.columns.values"
   ]
  },
  {
   "cell_type": "markdown",
   "id": "baccc40e",
   "metadata": {},
   "source": [
    "As you might guess, the column names are in Finnish. Let’s select only the useful columns and rename them into English:"
   ]
  },
  {
   "cell_type": "code",
   "execution_count": null,
   "id": "26cc1ef2",
   "metadata": {},
   "outputs": [],
   "source": [
    "data = data[['RYHMA', 'LUOKKA',  'geometry']]"
   ]
  },
  {
   "cell_type": "code",
   "execution_count": null,
   "id": "c296034d",
   "metadata": {},
   "outputs": [],
   "source": [
    "colnames = {'RYHMA':'GROUP', 'LUOKKA':'CLASS'}"
   ]
  },
  {
   "cell_type": "code",
   "execution_count": null,
   "id": "a9e9c07b",
   "metadata": {},
   "outputs": [],
   "source": [
    "data.rename(columns=colnames, inplace=True)"
   ]
  },
  {
   "cell_type": "code",
   "execution_count": null,
   "id": "ecfb5f4e",
   "metadata": {},
   "outputs": [],
   "source": [
    "data.head()"
   ]
  },
  {
   "cell_type": "markdown",
   "id": "2c3fa0e2",
   "metadata": {},
   "source": [
    "Here we see that our data variable is a `GeoDataFrame`. `GeoDataFrame` extends the functionalities of `pandas.DataFrame` in a way that it is possible to handle spatial data using similar approaches and datastructures as in pandas (hence the name geopandas)."
   ]
  },
  {
   "cell_type": "markdown",
   "id": "11cd334d",
   "metadata": {},
   "source": [
    "It is always a good idea to explore your data also on a map. Creating a simple map from a GeoDataFrame is really easy: you can use `.plot()` function from geopandas that creates a map based on the geometries of the data. Geopandas actually uses matplotlib for plotting."
   ]
  },
  {
   "cell_type": "code",
   "execution_count": null,
   "id": "2ea6eb66-3f4b-44cc-8397-6a033dac0f98",
   "metadata": {},
   "outputs": [],
   "source": [
    "import matplotlib.pyplot as plt"
   ]
  },
  {
   "cell_type": "code",
   "execution_count": null,
   "id": "4c25475f",
   "metadata": {},
   "outputs": [],
   "source": [
    "fig = plt.figure(figsize=(6, 6))\n",
    "ax = plt.axes()\n",
    "data.plot(ax=ax)"
   ]
  },
  {
   "cell_type": "markdown",
   "id": "80b38ddb",
   "metadata": {},
   "source": [
    "<a id=\"geometriesgeopandas\"></a>\n",
    "## Geometries in Geopandas\n",
    "Geopandas takes advantage of Shapely’s geometric objects. Geometries are stored in a column called geometry that is a default column name for storing geometric information in geopandas."
   ]
  },
  {
   "cell_type": "code",
   "execution_count": null,
   "id": "f79b7d56",
   "metadata": {},
   "outputs": [],
   "source": [
    "data['geometry'].head()"
   ]
  },
  {
   "cell_type": "markdown",
   "id": "7f874b93",
   "metadata": {},
   "source": [
    "The geometry column contains familiar looking values, namely Shapely `Polygon` objects. Since the spatial data is stored as Shapely objects, it is possible to use Shapely methods when dealing with geometries in geopandas."
   ]
  },
  {
   "cell_type": "code",
   "execution_count": null,
   "id": "2a0c38e1",
   "metadata": {},
   "outputs": [],
   "source": [
    "# Access the geometry on the first row of data\n",
    "data.at[0, \"geometry\"]"
   ]
  },
  {
   "cell_type": "code",
   "execution_count": null,
   "id": "b73168d6",
   "metadata": {},
   "outputs": [],
   "source": [
    "# Print information about the area \n",
    "print(\"Area:\", round(data.at[0, \"geometry\"].area, 0), \"square meters\")"
   ]
  },
  {
   "cell_type": "markdown",
   "id": "c9126a16",
   "metadata": {},
   "source": [
    "Iterate over the GeoDataFrame rows using the `iterrows()` function. For each row, print the area of the polygon:"
   ]
  },
  {
   "cell_type": "code",
   "execution_count": null,
   "id": "09b86766",
   "metadata": {
    "scrolled": true
   },
   "outputs": [],
   "source": [
    "for i, row in data.iterrows():\n",
    "    area = row['geometry'].area\n",
    "    print(\"Area:\", round(area, 0), \"square meters\")"
   ]
  },
  {
   "cell_type": "markdown",
   "id": "f7452c1a",
   "metadata": {},
   "source": [
    "As you see from here, all pandas methods, such as the `iterrows()` function, are directly available in Geopandas without the need to call pandas separately because Geopandas is an extension for pandas.\n",
    "\n",
    "In practice, it is not necessary to use the `iterrows()` approach to calculate the area for all features. Geodataframes and geoseries have an attribute area which we can use for accessing the area for each feature at once:"
   ]
  },
  {
   "cell_type": "code",
   "execution_count": null,
   "id": "b33f8586",
   "metadata": {},
   "outputs": [],
   "source": [
    "data.area"
   ]
  },
  {
   "cell_type": "markdown",
   "id": "25c9be7c",
   "metadata": {},
   "source": [
    "Let’s next create a new column into our GeoDataFrame where we calculate and store the areas of individual polygons:"
   ]
  },
  {
   "cell_type": "code",
   "execution_count": null,
   "id": "46462b65",
   "metadata": {},
   "outputs": [],
   "source": [
    "# Create a new column called 'area' \n",
    "data['area'] = data.area"
   ]
  },
  {
   "cell_type": "code",
   "execution_count": null,
   "id": "e33bdefe",
   "metadata": {},
   "outputs": [],
   "source": [
    "data.head()"
   ]
  },
  {
   "cell_type": "markdown",
   "id": "cc323f89",
   "metadata": {},
   "source": [
    "<a id=\"writingdata\"></a>\n",
    "## Writing data into a shapefile\n",
    "It is possible to export `GeoDataFrame`s into various data formats using the `to_file()` method. In our case, we want to export subsets of the data into Shapefiles (one file for each feature class).\n",
    "\n",
    "Let’s first select one class (class number 36200, “Lake water”) from the data as a new `GeoDataFrame`:"
   ]
  },
  {
   "cell_type": "code",
   "execution_count": null,
   "id": "73fd264f",
   "metadata": {},
   "outputs": [],
   "source": [
    "# Select a class\n",
    "selection = data.loc[data[\"CLASS\"]==36200]"
   ]
  },
  {
   "cell_type": "code",
   "execution_count": null,
   "id": "f0d84d35",
   "metadata": {},
   "outputs": [],
   "source": [
    "fig = plt.figure(figsize=(6, 6))\n",
    "ax = plt.axes()\n",
    "selection.plot(ax=ax)"
   ]
  },
  {
   "cell_type": "markdown",
   "id": "f8887167",
   "metadata": {},
   "source": [
    "write this layer into a new Shapefile using the `gpd.to_file()` function:"
   ]
  },
  {
   "cell_type": "code",
   "execution_count": null,
   "id": "4f2817d5",
   "metadata": {},
   "outputs": [],
   "source": [
    "# Create a output path for the data\n",
    "output_fp = \"created_files/Class_36200.shp\"\n",
    "# Write those rows into a new file (the default output file format is Shapefile)\n",
    "selection.to_file(output_fp)"
   ]
  },
  {
   "cell_type": "code",
   "execution_count": null,
   "id": "e7f93267",
   "metadata": {},
   "outputs": [],
   "source": [
    "temp = gpd.read_file(output_fp)\n",
    "temp.head()"
   ]
  },
  {
   "cell_type": "code",
   "execution_count": null,
   "id": "256cc0fd",
   "metadata": {},
   "outputs": [],
   "source": [
    "data.to_file('created_files/Class_36200.geojson', driver='GeoJSON')"
   ]
  },
  {
   "cell_type": "code",
   "execution_count": null,
   "id": "6bdd546b",
   "metadata": {},
   "outputs": [],
   "source": [
    "temp = gpd.read_file('created_files/Class_36200.geojson')\n",
    "temp.head()"
   ]
  },
  {
   "cell_type": "code",
   "execution_count": null,
   "id": "28f9de73",
   "metadata": {},
   "outputs": [],
   "source": [
    "import geopandas as gpd\n",
    "from fiona.drvsupport import supported_drivers\n",
    "\n",
    "# Check supported format drivers\n",
    "supported_drivers"
   ]
  },
  {
   "cell_type": "markdown",
   "id": "7f352fd4-549f-4c15-b49b-9f7deecbec28",
   "metadata": {},
   "source": [
    "<a id=\"practicegeopandas\"></a>\n",
    "## Practice"
   ]
  },
  {
   "cell_type": "markdown",
   "id": "b6149899",
   "metadata": {},
   "source": [
    "### Practice 4: Points to map\n",
    "The aim is to plot a map based on a set of longitude and latitude coordinates that are stored in a csv file. The coordinates are in WGS84 decimal degrees (`EPSG:4326`), and the data is stored in `some_posts.csv` comma separated file in the folder data.\n",
    "\n",
    "1. Import the needed modules\n",
    "    - Read the data from `some_posts.csv` into a pandas `DataFrame` called `data`\n",
    "    - Create an empty column called `geometry` where you will store shapely `Point` objects\n",
    "    - Insert `Point` objects into the column `geometry` based on the coordinate columns"
   ]
  },
  {
   "cell_type": "code",
   "execution_count": null,
   "id": "cdf55154",
   "metadata": {},
   "outputs": [],
   "source": [
    "import pandas as pd\n",
    "import geopandas as gpd"
   ]
  },
  {
   "cell_type": "code",
   "execution_count": null,
   "id": "ea67c335",
   "metadata": {},
   "outputs": [],
   "source": [
    "df = pd.read_csv('data/some_posts.csv')\n",
    "df.head()"
   ]
  },
  {
   "cell_type": "code",
   "execution_count": null,
   "id": "8ec345be",
   "metadata": {},
   "outputs": [],
   "source": [
    "df['geometry'] = None"
   ]
  },
  {
   "cell_type": "code",
   "execution_count": null,
   "id": "1dff75df",
   "metadata": {},
   "outputs": [],
   "source": [
    "df.head()"
   ]
  },
  {
   "cell_type": "code",
   "execution_count": null,
   "id": "fe9c3dd9",
   "metadata": {},
   "outputs": [],
   "source": [
    "points = []\n",
    "for i, row in df.iterrows():\n",
    "    points.append(Point(row['lat'], row['lon']))\n",
    "df['geometry'] = gpd.GeoSeries(points)"
   ]
  },
  {
   "cell_type": "code",
   "execution_count": null,
   "id": "81c0c456",
   "metadata": {},
   "outputs": [],
   "source": [
    "df.head()"
   ]
  },
  {
   "cell_type": "markdown",
   "id": "139242fd",
   "metadata": {},
   "source": [
    "Next:\n",
    "- Convert that `DataFrame` into a `GeoDataFrame` using the `geopandas.GeoDataFrame` constructor\n",
    "- Update the CRS for coordinate system as WGS84 (i.e. epsg code: 4326)\n",
    "- Save the data into a Shapefile called `Kruger_posts.shp`"
   ]
  },
  {
   "cell_type": "code",
   "execution_count": null,
   "id": "8d82204e",
   "metadata": {},
   "outputs": [],
   "source": [
    "data = gpd.GeoDataFrame(df)\n",
    "data.crs = 'epsg: 4326'\n",
    "print(type(data))"
   ]
  },
  {
   "cell_type": "code",
   "execution_count": null,
   "id": "92c73d74",
   "metadata": {},
   "outputs": [],
   "source": [
    "data.to_file('created_files/Kruger_posts.shp')"
   ]
  },
  {
   "cell_type": "markdown",
   "id": "709745b4",
   "metadata": {},
   "source": [
    "Finally:\n",
    "- Create a simple map of the points using the `plot()` function."
   ]
  },
  {
   "cell_type": "code",
   "execution_count": null,
   "id": "d638a04f",
   "metadata": {},
   "outputs": [],
   "source": [
    "fig = plt.figure(figsize=(6, 6))\n",
    "ax = plt.axes()\n",
    "data.plot(ax=ax)"
   ]
  },
  {
   "cell_type": "markdown",
   "id": "49a98106-b5ea-43fc-bf43-e33edd16cc70",
   "metadata": {},
   "source": [
    "<a id=\"folium\"></a>\n",
    "## Folium\n",
    "\n",
    "[**folium**](http://python-visualization.github.io/folium/) builds on the data wrangling strengths of the Python ecosystem and the mapping strengths of the `leaflet.js` library. Manipulate your data in Python, then visualize it in on a Leaflet map via folium.\n",
    "\n",
    "Concepts\n",
    "folium makes it easy to visualize data that’s been manipulated in Python on an interactive leaflet map. It enables both the binding of data to a map for choropleth visualizations as well as passing rich vector/raster/HTML visualizations as markers on the map.\n",
    "\n",
    "The library has a number of built-in tilesets from OpenStreetMap, Mapbox, and Stamen, and supports custom tilesets with Mapbox or Cloudmade API keys. folium supports both Image, Video, GeoJSON and TopoJSON overlays.\n",
    "\n",
    "See also [this link](https://python-visualization.github.io/folium/quickstart.html#)."
   ]
  },
  {
   "cell_type": "markdown",
   "id": "c6dadd8a-0045-4e4c-877c-6d0aa4c9f762",
   "metadata": {},
   "source": [
    "<a id='creatingmap'></a>\n",
    "### Creating a map"
   ]
  },
  {
   "cell_type": "markdown",
   "id": "eaf650b6-795e-45c9-bd93-6a7c59e54e05",
   "metadata": {},
   "source": [
    "To create a base map, simply pass your starting coordinates to Folium:"
   ]
  },
  {
   "cell_type": "code",
   "execution_count": 1,
   "id": "d8486176-8de2-40b3-9f92-3517659421c5",
   "metadata": {},
   "outputs": [],
   "source": [
    "import folium"
   ]
  },
  {
   "cell_type": "code",
   "execution_count": 4,
   "id": "96a2beb3-e044-407f-be5a-2f5e51ceb3b0",
   "metadata": {},
   "outputs": [],
   "source": [
    "map_f = folium.Map(location=[45.5236, -122.6750])"
   ]
  },
  {
   "cell_type": "markdown",
   "id": "4fe0861f-c6ff-49b2-9084-775bd49fa42a",
   "metadata": {},
   "source": [
    "To display it in a Jupyter notebook, simply ask for the object representation:"
   ]
  },
  {
   "cell_type": "code",
   "execution_count": 5,
   "id": "9303aa26-a0c8-42fe-939a-3b15c6b72b7e",
   "metadata": {},
   "outputs": [
    {
     "data": {
      "text/html": [
       "<div style=\"width:100%;\"><div style=\"position:relative;width:100%;height:0;padding-bottom:60%;\"><span style=\"color:#565656\">Make this Notebook Trusted to load map: File -> Trust Notebook</span><iframe srcdoc=\"&lt;!DOCTYPE html&gt;\n",
       "&lt;head&gt;    \n",
       "    &lt;meta http-equiv=&quot;content-type&quot; content=&quot;text/html; charset=UTF-8&quot; /&gt;\n",
       "    \n",
       "        &lt;script&gt;\n",
       "            L_NO_TOUCH = false;\n",
       "            L_DISABLE_3D = false;\n",
       "        &lt;/script&gt;\n",
       "    \n",
       "    &lt;style&gt;html, body {width: 100%;height: 100%;margin: 0;padding: 0;}&lt;/style&gt;\n",
       "    &lt;style&gt;#map {position:absolute;top:0;bottom:0;right:0;left:0;}&lt;/style&gt;\n",
       "    &lt;script src=&quot;https://cdn.jsdelivr.net/npm/leaflet@1.6.0/dist/leaflet.js&quot;&gt;&lt;/script&gt;\n",
       "    &lt;script src=&quot;https://code.jquery.com/jquery-1.12.4.min.js&quot;&gt;&lt;/script&gt;\n",
       "    &lt;script src=&quot;https://maxcdn.bootstrapcdn.com/bootstrap/3.2.0/js/bootstrap.min.js&quot;&gt;&lt;/script&gt;\n",
       "    &lt;script src=&quot;https://cdnjs.cloudflare.com/ajax/libs/Leaflet.awesome-markers/2.0.2/leaflet.awesome-markers.js&quot;&gt;&lt;/script&gt;\n",
       "    &lt;link rel=&quot;stylesheet&quot; href=&quot;https://cdn.jsdelivr.net/npm/leaflet@1.6.0/dist/leaflet.css&quot;/&gt;\n",
       "    &lt;link rel=&quot;stylesheet&quot; href=&quot;https://maxcdn.bootstrapcdn.com/bootstrap/3.2.0/css/bootstrap.min.css&quot;/&gt;\n",
       "    &lt;link rel=&quot;stylesheet&quot; href=&quot;https://maxcdn.bootstrapcdn.com/bootstrap/3.2.0/css/bootstrap-theme.min.css&quot;/&gt;\n",
       "    &lt;link rel=&quot;stylesheet&quot; href=&quot;https://maxcdn.bootstrapcdn.com/font-awesome/4.6.3/css/font-awesome.min.css&quot;/&gt;\n",
       "    &lt;link rel=&quot;stylesheet&quot; href=&quot;https://cdnjs.cloudflare.com/ajax/libs/Leaflet.awesome-markers/2.0.2/leaflet.awesome-markers.css&quot;/&gt;\n",
       "    &lt;link rel=&quot;stylesheet&quot; href=&quot;https://cdn.jsdelivr.net/gh/python-visualization/folium/folium/templates/leaflet.awesome.rotate.min.css&quot;/&gt;\n",
       "    \n",
       "            &lt;meta name=&quot;viewport&quot; content=&quot;width=device-width,\n",
       "                initial-scale=1.0, maximum-scale=1.0, user-scalable=no&quot; /&gt;\n",
       "            &lt;style&gt;\n",
       "                #map_124fe2835359c5c1010c53d9ebfa619c {\n",
       "                    position: relative;\n",
       "                    width: 100.0%;\n",
       "                    height: 100.0%;\n",
       "                    left: 0.0%;\n",
       "                    top: 0.0%;\n",
       "                }\n",
       "            &lt;/style&gt;\n",
       "        \n",
       "&lt;/head&gt;\n",
       "&lt;body&gt;    \n",
       "    \n",
       "            &lt;div class=&quot;folium-map&quot; id=&quot;map_124fe2835359c5c1010c53d9ebfa619c&quot; &gt;&lt;/div&gt;\n",
       "        \n",
       "&lt;/body&gt;\n",
       "&lt;script&gt;    \n",
       "    \n",
       "            var map_124fe2835359c5c1010c53d9ebfa619c = L.map(\n",
       "                &quot;map_124fe2835359c5c1010c53d9ebfa619c&quot;,\n",
       "                {\n",
       "                    center: [45.5236, -122.675],\n",
       "                    crs: L.CRS.EPSG3857,\n",
       "                    zoom: 10,\n",
       "                    zoomControl: true,\n",
       "                    preferCanvas: false,\n",
       "                }\n",
       "            );\n",
       "\n",
       "            \n",
       "\n",
       "        \n",
       "    \n",
       "            var tile_layer_6cd7ab806ba754f691e8e25ddd38d978 = L.tileLayer(\n",
       "                &quot;https://{s}.tile.openstreetmap.org/{z}/{x}/{y}.png&quot;,\n",
       "                {&quot;attribution&quot;: &quot;Data by \\u0026copy; \\u003ca href=\\&quot;http://openstreetmap.org\\&quot;\\u003eOpenStreetMap\\u003c/a\\u003e, under \\u003ca href=\\&quot;http://www.openstreetmap.org/copyright\\&quot;\\u003eODbL\\u003c/a\\u003e.&quot;, &quot;detectRetina&quot;: false, &quot;maxNativeZoom&quot;: 18, &quot;maxZoom&quot;: 18, &quot;minZoom&quot;: 0, &quot;noWrap&quot;: false, &quot;opacity&quot;: 1, &quot;subdomains&quot;: &quot;abc&quot;, &quot;tms&quot;: false}\n",
       "            ).addTo(map_124fe2835359c5c1010c53d9ebfa619c);\n",
       "        \n",
       "&lt;/script&gt;\" style=\"position:absolute;width:100%;height:100%;left:0;top:0;border:none !important;\" allowfullscreen webkitallowfullscreen mozallowfullscreen></iframe></div></div>"
      ],
      "text/plain": [
       "<folium.folium.Map at 0x15a547d00>"
      ]
     },
     "execution_count": 5,
     "metadata": {},
     "output_type": "execute_result"
    }
   ],
   "source": [
    "map_f"
   ]
  },
  {
   "cell_type": "markdown",
   "id": "bbb986a6-4bce-4916-89e6-28dd0bf48284",
   "metadata": {},
   "source": [
    "to save it in a file,"
   ]
  },
  {
   "cell_type": "code",
   "execution_count": 7,
   "id": "c29248f5-3582-4aa6-a76a-91d28a7be50a",
   "metadata": {},
   "outputs": [],
   "source": [
    "map_f.save(\"index.html\")"
   ]
  },
  {
   "cell_type": "markdown",
   "id": "ffe5d407-d962-492b-b6b5-f7bbbfb1aa46",
   "metadata": {},
   "source": [
    "The default tiles are set to OpenStreetMap, but Stamen Terrain, Stamen Toner, Mapbox Bright, and Mapbox Control Room, and many others tiles are built in."
   ]
  },
  {
   "cell_type": "code",
   "execution_count": 12,
   "id": "56f4396c-6698-4529-bd4a-bdd68a088f70",
   "metadata": {},
   "outputs": [
    {
     "data": {
      "text/html": [
       "<div style=\"width:100%;\"><div style=\"position:relative;width:100%;height:0;padding-bottom:60%;\"><span style=\"color:#565656\">Make this Notebook Trusted to load map: File -> Trust Notebook</span><iframe srcdoc=\"&lt;!DOCTYPE html&gt;\n",
       "&lt;head&gt;    \n",
       "    &lt;meta http-equiv=&quot;content-type&quot; content=&quot;text/html; charset=UTF-8&quot; /&gt;\n",
       "    \n",
       "        &lt;script&gt;\n",
       "            L_NO_TOUCH = false;\n",
       "            L_DISABLE_3D = false;\n",
       "        &lt;/script&gt;\n",
       "    \n",
       "    &lt;style&gt;html, body {width: 100%;height: 100%;margin: 0;padding: 0;}&lt;/style&gt;\n",
       "    &lt;style&gt;#map {position:absolute;top:0;bottom:0;right:0;left:0;}&lt;/style&gt;\n",
       "    &lt;script src=&quot;https://cdn.jsdelivr.net/npm/leaflet@1.6.0/dist/leaflet.js&quot;&gt;&lt;/script&gt;\n",
       "    &lt;script src=&quot;https://code.jquery.com/jquery-1.12.4.min.js&quot;&gt;&lt;/script&gt;\n",
       "    &lt;script src=&quot;https://maxcdn.bootstrapcdn.com/bootstrap/3.2.0/js/bootstrap.min.js&quot;&gt;&lt;/script&gt;\n",
       "    &lt;script src=&quot;https://cdnjs.cloudflare.com/ajax/libs/Leaflet.awesome-markers/2.0.2/leaflet.awesome-markers.js&quot;&gt;&lt;/script&gt;\n",
       "    &lt;link rel=&quot;stylesheet&quot; href=&quot;https://cdn.jsdelivr.net/npm/leaflet@1.6.0/dist/leaflet.css&quot;/&gt;\n",
       "    &lt;link rel=&quot;stylesheet&quot; href=&quot;https://maxcdn.bootstrapcdn.com/bootstrap/3.2.0/css/bootstrap.min.css&quot;/&gt;\n",
       "    &lt;link rel=&quot;stylesheet&quot; href=&quot;https://maxcdn.bootstrapcdn.com/bootstrap/3.2.0/css/bootstrap-theme.min.css&quot;/&gt;\n",
       "    &lt;link rel=&quot;stylesheet&quot; href=&quot;https://maxcdn.bootstrapcdn.com/font-awesome/4.6.3/css/font-awesome.min.css&quot;/&gt;\n",
       "    &lt;link rel=&quot;stylesheet&quot; href=&quot;https://cdnjs.cloudflare.com/ajax/libs/Leaflet.awesome-markers/2.0.2/leaflet.awesome-markers.css&quot;/&gt;\n",
       "    &lt;link rel=&quot;stylesheet&quot; href=&quot;https://cdn.jsdelivr.net/gh/python-visualization/folium/folium/templates/leaflet.awesome.rotate.min.css&quot;/&gt;\n",
       "    \n",
       "            &lt;meta name=&quot;viewport&quot; content=&quot;width=device-width,\n",
       "                initial-scale=1.0, maximum-scale=1.0, user-scalable=no&quot; /&gt;\n",
       "            &lt;style&gt;\n",
       "                #map_d7ebd26b21cd8b97ed60db96c34478be {\n",
       "                    position: relative;\n",
       "                    width: 100.0%;\n",
       "                    height: 100.0%;\n",
       "                    left: 0.0%;\n",
       "                    top: 0.0%;\n",
       "                }\n",
       "            &lt;/style&gt;\n",
       "        \n",
       "&lt;/head&gt;\n",
       "&lt;body&gt;    \n",
       "    \n",
       "            &lt;div class=&quot;folium-map&quot; id=&quot;map_d7ebd26b21cd8b97ed60db96c34478be&quot; &gt;&lt;/div&gt;\n",
       "        \n",
       "&lt;/body&gt;\n",
       "&lt;script&gt;    \n",
       "    \n",
       "            var map_d7ebd26b21cd8b97ed60db96c34478be = L.map(\n",
       "                &quot;map_d7ebd26b21cd8b97ed60db96c34478be&quot;,\n",
       "                {\n",
       "                    center: [45.5236, -122.675],\n",
       "                    crs: L.CRS.EPSG3857,\n",
       "                    zoom: 10,\n",
       "                    zoomControl: true,\n",
       "                    preferCanvas: false,\n",
       "                }\n",
       "            );\n",
       "\n",
       "            \n",
       "\n",
       "        \n",
       "    \n",
       "            var tile_layer_cfbeb48420b145c14345118da6006217 = L.tileLayer(\n",
       "                &quot;https://stamen-tiles-{s}.a.ssl.fastly.net/terrain/{z}/{x}/{y}.jpg&quot;,\n",
       "                {&quot;attribution&quot;: &quot;Map tiles by \\u003ca href=\\&quot;http://stamen.com\\&quot;\\u003eStamen Design\\u003c/a\\u003e, under \\u003ca href=\\&quot;http://creativecommons.org/licenses/by/3.0\\&quot;\\u003eCC BY 3.0\\u003c/a\\u003e. Data by \\u0026copy; \\u003ca href=\\&quot;http://openstreetmap.org\\&quot;\\u003eOpenStreetMap\\u003c/a\\u003e, under \\u003ca href=\\&quot;http://creativecommons.org/licenses/by-sa/3.0\\&quot;\\u003eCC BY SA\\u003c/a\\u003e.&quot;, &quot;detectRetina&quot;: false, &quot;maxNativeZoom&quot;: 18, &quot;maxZoom&quot;: 18, &quot;minZoom&quot;: 0, &quot;noWrap&quot;: false, &quot;opacity&quot;: 1, &quot;subdomains&quot;: &quot;abc&quot;, &quot;tms&quot;: false}\n",
       "            ).addTo(map_d7ebd26b21cd8b97ed60db96c34478be);\n",
       "        \n",
       "&lt;/script&gt;\" style=\"position:absolute;width:100%;height:100%;left:0;top:0;border:none !important;\" allowfullscreen webkitallowfullscreen mozallowfullscreen></iframe></div></div>"
      ],
      "text/plain": [
       "<folium.folium.Map at 0x162d84f10>"
      ]
     },
     "execution_count": 12,
     "metadata": {},
     "output_type": "execute_result"
    }
   ],
   "source": [
    "folium.Map(location=[45.5236, -122.6750], tiles='StamenTerrain')"
   ]
  },
  {
   "cell_type": "code",
   "execution_count": 13,
   "id": "e11209e5-1e21-4c99-8001-886982953ad7",
   "metadata": {},
   "outputs": [
    {
     "data": {
      "text/html": [
       "<div style=\"width:100%;\"><div style=\"position:relative;width:100%;height:0;padding-bottom:60%;\"><span style=\"color:#565656\">Make this Notebook Trusted to load map: File -> Trust Notebook</span><iframe srcdoc=\"&lt;!DOCTYPE html&gt;\n",
       "&lt;head&gt;    \n",
       "    &lt;meta http-equiv=&quot;content-type&quot; content=&quot;text/html; charset=UTF-8&quot; /&gt;\n",
       "    \n",
       "        &lt;script&gt;\n",
       "            L_NO_TOUCH = false;\n",
       "            L_DISABLE_3D = false;\n",
       "        &lt;/script&gt;\n",
       "    \n",
       "    &lt;style&gt;html, body {width: 100%;height: 100%;margin: 0;padding: 0;}&lt;/style&gt;\n",
       "    &lt;style&gt;#map {position:absolute;top:0;bottom:0;right:0;left:0;}&lt;/style&gt;\n",
       "    &lt;script src=&quot;https://cdn.jsdelivr.net/npm/leaflet@1.6.0/dist/leaflet.js&quot;&gt;&lt;/script&gt;\n",
       "    &lt;script src=&quot;https://code.jquery.com/jquery-1.12.4.min.js&quot;&gt;&lt;/script&gt;\n",
       "    &lt;script src=&quot;https://maxcdn.bootstrapcdn.com/bootstrap/3.2.0/js/bootstrap.min.js&quot;&gt;&lt;/script&gt;\n",
       "    &lt;script src=&quot;https://cdnjs.cloudflare.com/ajax/libs/Leaflet.awesome-markers/2.0.2/leaflet.awesome-markers.js&quot;&gt;&lt;/script&gt;\n",
       "    &lt;link rel=&quot;stylesheet&quot; href=&quot;https://cdn.jsdelivr.net/npm/leaflet@1.6.0/dist/leaflet.css&quot;/&gt;\n",
       "    &lt;link rel=&quot;stylesheet&quot; href=&quot;https://maxcdn.bootstrapcdn.com/bootstrap/3.2.0/css/bootstrap.min.css&quot;/&gt;\n",
       "    &lt;link rel=&quot;stylesheet&quot; href=&quot;https://maxcdn.bootstrapcdn.com/bootstrap/3.2.0/css/bootstrap-theme.min.css&quot;/&gt;\n",
       "    &lt;link rel=&quot;stylesheet&quot; href=&quot;https://maxcdn.bootstrapcdn.com/font-awesome/4.6.3/css/font-awesome.min.css&quot;/&gt;\n",
       "    &lt;link rel=&quot;stylesheet&quot; href=&quot;https://cdnjs.cloudflare.com/ajax/libs/Leaflet.awesome-markers/2.0.2/leaflet.awesome-markers.css&quot;/&gt;\n",
       "    &lt;link rel=&quot;stylesheet&quot; href=&quot;https://cdn.jsdelivr.net/gh/python-visualization/folium/folium/templates/leaflet.awesome.rotate.min.css&quot;/&gt;\n",
       "    \n",
       "            &lt;meta name=&quot;viewport&quot; content=&quot;width=device-width,\n",
       "                initial-scale=1.0, maximum-scale=1.0, user-scalable=no&quot; /&gt;\n",
       "            &lt;style&gt;\n",
       "                #map_b85a774f7f9dc7b9fcc5d9ab2b97fae9 {\n",
       "                    position: relative;\n",
       "                    width: 100.0%;\n",
       "                    height: 100.0%;\n",
       "                    left: 0.0%;\n",
       "                    top: 0.0%;\n",
       "                }\n",
       "            &lt;/style&gt;\n",
       "        \n",
       "&lt;/head&gt;\n",
       "&lt;body&gt;    \n",
       "    \n",
       "            &lt;div class=&quot;folium-map&quot; id=&quot;map_b85a774f7f9dc7b9fcc5d9ab2b97fae9&quot; &gt;&lt;/div&gt;\n",
       "        \n",
       "&lt;/body&gt;\n",
       "&lt;script&gt;    \n",
       "    \n",
       "            var map_b85a774f7f9dc7b9fcc5d9ab2b97fae9 = L.map(\n",
       "                &quot;map_b85a774f7f9dc7b9fcc5d9ab2b97fae9&quot;,\n",
       "                {\n",
       "                    center: [45.5236, -122.675],\n",
       "                    crs: L.CRS.EPSG3857,\n",
       "                    zoom: 13,\n",
       "                    zoomControl: true,\n",
       "                    preferCanvas: false,\n",
       "                }\n",
       "            );\n",
       "\n",
       "            \n",
       "\n",
       "        \n",
       "    \n",
       "            var tile_layer_7f0f871f7a462fc5bcbf8177a7ede91a = L.tileLayer(\n",
       "                &quot;https://{s}.tile.openstreetmap.org/{z}/{x}/{y}.png&quot;,\n",
       "                {&quot;attribution&quot;: &quot;Data by \\u0026copy; \\u003ca href=\\&quot;http://openstreetmap.org\\&quot;\\u003eOpenStreetMap\\u003c/a\\u003e, under \\u003ca href=\\&quot;http://www.openstreetmap.org/copyright\\&quot;\\u003eODbL\\u003c/a\\u003e.&quot;, &quot;detectRetina&quot;: false, &quot;maxNativeZoom&quot;: 18, &quot;maxZoom&quot;: 18, &quot;minZoom&quot;: 0, &quot;noWrap&quot;: false, &quot;opacity&quot;: 1, &quot;subdomains&quot;: &quot;abc&quot;, &quot;tms&quot;: false}\n",
       "            ).addTo(map_b85a774f7f9dc7b9fcc5d9ab2b97fae9);\n",
       "        \n",
       "&lt;/script&gt;\" style=\"position:absolute;width:100%;height:100%;left:0;top:0;border:none !important;\" allowfullscreen webkitallowfullscreen mozallowfullscreen></iframe></div></div>"
      ],
      "text/plain": [
       "<folium.folium.Map at 0x16395ec10>"
      ]
     },
     "execution_count": 13,
     "metadata": {},
     "output_type": "execute_result"
    }
   ],
   "source": [
    "folium.Map(location=[45.5236, -122.6750], zoom_start=13)"
   ]
  },
  {
   "cell_type": "markdown",
   "id": "b28097b9-1222-47f0-806e-d3a9b98f22d8",
   "metadata": {},
   "source": [
    "<a id='markers'></a>\n",
    "### Markers\n",
    "There are numerous marker types, starting with a simple Leaflet style location marker with a popup and tooltip HTML."
   ]
  },
  {
   "cell_type": "code",
   "execution_count": 19,
   "id": "bafe219f-6c7f-45aa-8bb0-e4ca4c88bcbe",
   "metadata": {},
   "outputs": [],
   "source": [
    "map_f = folium.Map(location=[45.372, -121.6972], zoom_start=12, tiles=\"Stamen Terrain\")"
   ]
  },
  {
   "cell_type": "code",
   "execution_count": 20,
   "id": "46873da4-f159-422d-99cf-683d6d96da11",
   "metadata": {},
   "outputs": [
    {
     "data": {
      "text/plain": [
       "<folium.map.Marker at 0x163962880>"
      ]
     },
     "execution_count": 20,
     "metadata": {},
     "output_type": "execute_result"
    }
   ],
   "source": [
    "tooltip = \"Click me!\"\n",
    "folium.Marker([45.3288, -121.6625], popup=\"<i>Mt. Hood Meadows</i>\", tooltip=tooltip).add_to(map_f)\n",
    "folium.Marker([45.3311, -121.7113], popup=\"<b>Timberline Lodge</b>\", tooltip=tooltip).add_to(map_f)"
   ]
  },
  {
   "cell_type": "code",
   "execution_count": 21,
   "id": "2515ce56-c1ad-4b4f-871b-10014d282417",
   "metadata": {},
   "outputs": [
    {
     "data": {
      "text/html": [
       "<div style=\"width:100%;\"><div style=\"position:relative;width:100%;height:0;padding-bottom:60%;\"><span style=\"color:#565656\">Make this Notebook Trusted to load map: File -> Trust Notebook</span><iframe srcdoc=\"&lt;!DOCTYPE html&gt;\n",
       "&lt;head&gt;    \n",
       "    &lt;meta http-equiv=&quot;content-type&quot; content=&quot;text/html; charset=UTF-8&quot; /&gt;\n",
       "    \n",
       "        &lt;script&gt;\n",
       "            L_NO_TOUCH = false;\n",
       "            L_DISABLE_3D = false;\n",
       "        &lt;/script&gt;\n",
       "    \n",
       "    &lt;style&gt;html, body {width: 100%;height: 100%;margin: 0;padding: 0;}&lt;/style&gt;\n",
       "    &lt;style&gt;#map {position:absolute;top:0;bottom:0;right:0;left:0;}&lt;/style&gt;\n",
       "    &lt;script src=&quot;https://cdn.jsdelivr.net/npm/leaflet@1.6.0/dist/leaflet.js&quot;&gt;&lt;/script&gt;\n",
       "    &lt;script src=&quot;https://code.jquery.com/jquery-1.12.4.min.js&quot;&gt;&lt;/script&gt;\n",
       "    &lt;script src=&quot;https://maxcdn.bootstrapcdn.com/bootstrap/3.2.0/js/bootstrap.min.js&quot;&gt;&lt;/script&gt;\n",
       "    &lt;script src=&quot;https://cdnjs.cloudflare.com/ajax/libs/Leaflet.awesome-markers/2.0.2/leaflet.awesome-markers.js&quot;&gt;&lt;/script&gt;\n",
       "    &lt;link rel=&quot;stylesheet&quot; href=&quot;https://cdn.jsdelivr.net/npm/leaflet@1.6.0/dist/leaflet.css&quot;/&gt;\n",
       "    &lt;link rel=&quot;stylesheet&quot; href=&quot;https://maxcdn.bootstrapcdn.com/bootstrap/3.2.0/css/bootstrap.min.css&quot;/&gt;\n",
       "    &lt;link rel=&quot;stylesheet&quot; href=&quot;https://maxcdn.bootstrapcdn.com/bootstrap/3.2.0/css/bootstrap-theme.min.css&quot;/&gt;\n",
       "    &lt;link rel=&quot;stylesheet&quot; href=&quot;https://maxcdn.bootstrapcdn.com/font-awesome/4.6.3/css/font-awesome.min.css&quot;/&gt;\n",
       "    &lt;link rel=&quot;stylesheet&quot; href=&quot;https://cdnjs.cloudflare.com/ajax/libs/Leaflet.awesome-markers/2.0.2/leaflet.awesome-markers.css&quot;/&gt;\n",
       "    &lt;link rel=&quot;stylesheet&quot; href=&quot;https://cdn.jsdelivr.net/gh/python-visualization/folium/folium/templates/leaflet.awesome.rotate.min.css&quot;/&gt;\n",
       "    \n",
       "            &lt;meta name=&quot;viewport&quot; content=&quot;width=device-width,\n",
       "                initial-scale=1.0, maximum-scale=1.0, user-scalable=no&quot; /&gt;\n",
       "            &lt;style&gt;\n",
       "                #map_dc16293a50542f7ff53bf8128fa9a6d2 {\n",
       "                    position: relative;\n",
       "                    width: 100.0%;\n",
       "                    height: 100.0%;\n",
       "                    left: 0.0%;\n",
       "                    top: 0.0%;\n",
       "                }\n",
       "            &lt;/style&gt;\n",
       "        \n",
       "&lt;/head&gt;\n",
       "&lt;body&gt;    \n",
       "    \n",
       "            &lt;div class=&quot;folium-map&quot; id=&quot;map_dc16293a50542f7ff53bf8128fa9a6d2&quot; &gt;&lt;/div&gt;\n",
       "        \n",
       "&lt;/body&gt;\n",
       "&lt;script&gt;    \n",
       "    \n",
       "            var map_dc16293a50542f7ff53bf8128fa9a6d2 = L.map(\n",
       "                &quot;map_dc16293a50542f7ff53bf8128fa9a6d2&quot;,\n",
       "                {\n",
       "                    center: [45.372, -121.6972],\n",
       "                    crs: L.CRS.EPSG3857,\n",
       "                    zoom: 12,\n",
       "                    zoomControl: true,\n",
       "                    preferCanvas: false,\n",
       "                }\n",
       "            );\n",
       "\n",
       "            \n",
       "\n",
       "        \n",
       "    \n",
       "            var tile_layer_aeb98625f879d1af704332bc4ef63f63 = L.tileLayer(\n",
       "                &quot;https://stamen-tiles-{s}.a.ssl.fastly.net/terrain/{z}/{x}/{y}.jpg&quot;,\n",
       "                {&quot;attribution&quot;: &quot;Map tiles by \\u003ca href=\\&quot;http://stamen.com\\&quot;\\u003eStamen Design\\u003c/a\\u003e, under \\u003ca href=\\&quot;http://creativecommons.org/licenses/by/3.0\\&quot;\\u003eCC BY 3.0\\u003c/a\\u003e. Data by \\u0026copy; \\u003ca href=\\&quot;http://openstreetmap.org\\&quot;\\u003eOpenStreetMap\\u003c/a\\u003e, under \\u003ca href=\\&quot;http://creativecommons.org/licenses/by-sa/3.0\\&quot;\\u003eCC BY SA\\u003c/a\\u003e.&quot;, &quot;detectRetina&quot;: false, &quot;maxNativeZoom&quot;: 18, &quot;maxZoom&quot;: 18, &quot;minZoom&quot;: 0, &quot;noWrap&quot;: false, &quot;opacity&quot;: 1, &quot;subdomains&quot;: &quot;abc&quot;, &quot;tms&quot;: false}\n",
       "            ).addTo(map_dc16293a50542f7ff53bf8128fa9a6d2);\n",
       "        \n",
       "    \n",
       "            var marker_29a171fea705ea4745dabf62f2449e84 = L.marker(\n",
       "                [45.3288, -121.6625],\n",
       "                {}\n",
       "            ).addTo(map_dc16293a50542f7ff53bf8128fa9a6d2);\n",
       "        \n",
       "    \n",
       "        var popup_5113905c3f9c86b62add995d26ea4ab2 = L.popup({&quot;maxWidth&quot;: &quot;100%&quot;});\n",
       "\n",
       "        \n",
       "            var html_31c65dab3e340938223d22070d791e9f = $(`&lt;div id=&quot;html_31c65dab3e340938223d22070d791e9f&quot; style=&quot;width: 100.0%; height: 100.0%;&quot;&gt;&lt;i&gt;Mt. Hood Meadows&lt;/i&gt;&lt;/div&gt;`)[0];\n",
       "            popup_5113905c3f9c86b62add995d26ea4ab2.setContent(html_31c65dab3e340938223d22070d791e9f);\n",
       "        \n",
       "\n",
       "        marker_29a171fea705ea4745dabf62f2449e84.bindPopup(popup_5113905c3f9c86b62add995d26ea4ab2)\n",
       "        ;\n",
       "\n",
       "        \n",
       "    \n",
       "    \n",
       "            marker_29a171fea705ea4745dabf62f2449e84.bindTooltip(\n",
       "                `&lt;div&gt;\n",
       "                     Click me!\n",
       "                 &lt;/div&gt;`,\n",
       "                {&quot;sticky&quot;: true}\n",
       "            );\n",
       "        \n",
       "    \n",
       "            var marker_1661c3508ae6629b03a087fe89b81599 = L.marker(\n",
       "                [45.3311, -121.7113],\n",
       "                {}\n",
       "            ).addTo(map_dc16293a50542f7ff53bf8128fa9a6d2);\n",
       "        \n",
       "    \n",
       "        var popup_af12cf2e9b44c038658b5e25aafd79da = L.popup({&quot;maxWidth&quot;: &quot;100%&quot;});\n",
       "\n",
       "        \n",
       "            var html_545a6fa0db3182b6d9e072fb22c074a0 = $(`&lt;div id=&quot;html_545a6fa0db3182b6d9e072fb22c074a0&quot; style=&quot;width: 100.0%; height: 100.0%;&quot;&gt;&lt;b&gt;Timberline Lodge&lt;/b&gt;&lt;/div&gt;`)[0];\n",
       "            popup_af12cf2e9b44c038658b5e25aafd79da.setContent(html_545a6fa0db3182b6d9e072fb22c074a0);\n",
       "        \n",
       "\n",
       "        marker_1661c3508ae6629b03a087fe89b81599.bindPopup(popup_af12cf2e9b44c038658b5e25aafd79da)\n",
       "        ;\n",
       "\n",
       "        \n",
       "    \n",
       "    \n",
       "            marker_1661c3508ae6629b03a087fe89b81599.bindTooltip(\n",
       "                `&lt;div&gt;\n",
       "                     Click me!\n",
       "                 &lt;/div&gt;`,\n",
       "                {&quot;sticky&quot;: true}\n",
       "            );\n",
       "        \n",
       "&lt;/script&gt;\" style=\"position:absolute;width:100%;height:100%;left:0;top:0;border:none !important;\" allowfullscreen webkitallowfullscreen mozallowfullscreen></iframe></div></div>"
      ],
      "text/plain": [
       "<folium.folium.Map at 0x162d86d60>"
      ]
     },
     "execution_count": 21,
     "metadata": {},
     "output_type": "execute_result"
    }
   ],
   "source": [
    "map_f"
   ]
  },
  {
   "cell_type": "markdown",
   "id": "01aac7b8-60d1-4f9b-baf9-4f2357125c96",
   "metadata": {},
   "source": [
    "There is built in support for colors and marker icon types from bootstrap."
   ]
  },
  {
   "cell_type": "code",
   "execution_count": 22,
   "id": "1641a4a8-00ec-4f80-84be-659380786e73",
   "metadata": {},
   "outputs": [],
   "source": [
    "map_f = folium.Map(location=[45.372, -121.6972], zoom_start=12, tiles=\"Stamen Terrain\")"
   ]
  },
  {
   "cell_type": "code",
   "execution_count": 23,
   "id": "f3a9038e-9908-4429-a1f2-deaf39304218",
   "metadata": {},
   "outputs": [
    {
     "data": {
      "text/plain": [
       "<folium.map.Marker at 0x16397b5e0>"
      ]
     },
     "execution_count": 23,
     "metadata": {},
     "output_type": "execute_result"
    }
   ],
   "source": [
    "folium.Marker(\n",
    "    location=[45.3288, -121.6625],\n",
    "    popup=\"Mt. Hood Meadows\",\n",
    "    icon=folium.Icon(icon=\"cloud\"),\n",
    ").add_to(map_f)\n",
    "\n",
    "folium.Marker(\n",
    "    location=[45.3311, -121.7113],\n",
    "    popup=\"Timberline Lodge\",\n",
    "    icon=folium.Icon(color=\"green\"),\n",
    ").add_to(map_f)\n",
    "\n",
    "folium.Marker(\n",
    "    location=[45.3300, -121.6823],\n",
    "    popup=\"Some Other Location\",\n",
    "    icon=folium.Icon(color=\"red\", icon=\"info-sign\"),\n",
    ").add_to(map_f)"
   ]
  },
  {
   "cell_type": "code",
   "execution_count": 24,
   "id": "5bc96af5-d474-4532-af59-a8017e82d8cc",
   "metadata": {},
   "outputs": [
    {
     "data": {
      "text/html": [
       "<div style=\"width:100%;\"><div style=\"position:relative;width:100%;height:0;padding-bottom:60%;\"><span style=\"color:#565656\">Make this Notebook Trusted to load map: File -> Trust Notebook</span><iframe srcdoc=\"&lt;!DOCTYPE html&gt;\n",
       "&lt;head&gt;    \n",
       "    &lt;meta http-equiv=&quot;content-type&quot; content=&quot;text/html; charset=UTF-8&quot; /&gt;\n",
       "    \n",
       "        &lt;script&gt;\n",
       "            L_NO_TOUCH = false;\n",
       "            L_DISABLE_3D = false;\n",
       "        &lt;/script&gt;\n",
       "    \n",
       "    &lt;style&gt;html, body {width: 100%;height: 100%;margin: 0;padding: 0;}&lt;/style&gt;\n",
       "    &lt;style&gt;#map {position:absolute;top:0;bottom:0;right:0;left:0;}&lt;/style&gt;\n",
       "    &lt;script src=&quot;https://cdn.jsdelivr.net/npm/leaflet@1.6.0/dist/leaflet.js&quot;&gt;&lt;/script&gt;\n",
       "    &lt;script src=&quot;https://code.jquery.com/jquery-1.12.4.min.js&quot;&gt;&lt;/script&gt;\n",
       "    &lt;script src=&quot;https://maxcdn.bootstrapcdn.com/bootstrap/3.2.0/js/bootstrap.min.js&quot;&gt;&lt;/script&gt;\n",
       "    &lt;script src=&quot;https://cdnjs.cloudflare.com/ajax/libs/Leaflet.awesome-markers/2.0.2/leaflet.awesome-markers.js&quot;&gt;&lt;/script&gt;\n",
       "    &lt;link rel=&quot;stylesheet&quot; href=&quot;https://cdn.jsdelivr.net/npm/leaflet@1.6.0/dist/leaflet.css&quot;/&gt;\n",
       "    &lt;link rel=&quot;stylesheet&quot; href=&quot;https://maxcdn.bootstrapcdn.com/bootstrap/3.2.0/css/bootstrap.min.css&quot;/&gt;\n",
       "    &lt;link rel=&quot;stylesheet&quot; href=&quot;https://maxcdn.bootstrapcdn.com/bootstrap/3.2.0/css/bootstrap-theme.min.css&quot;/&gt;\n",
       "    &lt;link rel=&quot;stylesheet&quot; href=&quot;https://maxcdn.bootstrapcdn.com/font-awesome/4.6.3/css/font-awesome.min.css&quot;/&gt;\n",
       "    &lt;link rel=&quot;stylesheet&quot; href=&quot;https://cdnjs.cloudflare.com/ajax/libs/Leaflet.awesome-markers/2.0.2/leaflet.awesome-markers.css&quot;/&gt;\n",
       "    &lt;link rel=&quot;stylesheet&quot; href=&quot;https://cdn.jsdelivr.net/gh/python-visualization/folium/folium/templates/leaflet.awesome.rotate.min.css&quot;/&gt;\n",
       "    \n",
       "            &lt;meta name=&quot;viewport&quot; content=&quot;width=device-width,\n",
       "                initial-scale=1.0, maximum-scale=1.0, user-scalable=no&quot; /&gt;\n",
       "            &lt;style&gt;\n",
       "                #map_37a4324133938bd002d06f39069a4fb4 {\n",
       "                    position: relative;\n",
       "                    width: 100.0%;\n",
       "                    height: 100.0%;\n",
       "                    left: 0.0%;\n",
       "                    top: 0.0%;\n",
       "                }\n",
       "            &lt;/style&gt;\n",
       "        \n",
       "&lt;/head&gt;\n",
       "&lt;body&gt;    \n",
       "    \n",
       "            &lt;div class=&quot;folium-map&quot; id=&quot;map_37a4324133938bd002d06f39069a4fb4&quot; &gt;&lt;/div&gt;\n",
       "        \n",
       "&lt;/body&gt;\n",
       "&lt;script&gt;    \n",
       "    \n",
       "            var map_37a4324133938bd002d06f39069a4fb4 = L.map(\n",
       "                &quot;map_37a4324133938bd002d06f39069a4fb4&quot;,\n",
       "                {\n",
       "                    center: [45.372, -121.6972],\n",
       "                    crs: L.CRS.EPSG3857,\n",
       "                    zoom: 12,\n",
       "                    zoomControl: true,\n",
       "                    preferCanvas: false,\n",
       "                }\n",
       "            );\n",
       "\n",
       "            \n",
       "\n",
       "        \n",
       "    \n",
       "            var tile_layer_f64d253c270eb21a6869237e0d3f063d = L.tileLayer(\n",
       "                &quot;https://stamen-tiles-{s}.a.ssl.fastly.net/terrain/{z}/{x}/{y}.jpg&quot;,\n",
       "                {&quot;attribution&quot;: &quot;Map tiles by \\u003ca href=\\&quot;http://stamen.com\\&quot;\\u003eStamen Design\\u003c/a\\u003e, under \\u003ca href=\\&quot;http://creativecommons.org/licenses/by/3.0\\&quot;\\u003eCC BY 3.0\\u003c/a\\u003e. Data by \\u0026copy; \\u003ca href=\\&quot;http://openstreetmap.org\\&quot;\\u003eOpenStreetMap\\u003c/a\\u003e, under \\u003ca href=\\&quot;http://creativecommons.org/licenses/by-sa/3.0\\&quot;\\u003eCC BY SA\\u003c/a\\u003e.&quot;, &quot;detectRetina&quot;: false, &quot;maxNativeZoom&quot;: 18, &quot;maxZoom&quot;: 18, &quot;minZoom&quot;: 0, &quot;noWrap&quot;: false, &quot;opacity&quot;: 1, &quot;subdomains&quot;: &quot;abc&quot;, &quot;tms&quot;: false}\n",
       "            ).addTo(map_37a4324133938bd002d06f39069a4fb4);\n",
       "        \n",
       "    \n",
       "            var marker_9b7963539be7f167259af7fcd6ae4152 = L.marker(\n",
       "                [45.3288, -121.6625],\n",
       "                {}\n",
       "            ).addTo(map_37a4324133938bd002d06f39069a4fb4);\n",
       "        \n",
       "    \n",
       "            var icon_ec8e986c8df9c4574bf8e2107ae53c01 = L.AwesomeMarkers.icon(\n",
       "                {&quot;extraClasses&quot;: &quot;fa-rotate-0&quot;, &quot;icon&quot;: &quot;cloud&quot;, &quot;iconColor&quot;: &quot;white&quot;, &quot;markerColor&quot;: &quot;blue&quot;, &quot;prefix&quot;: &quot;glyphicon&quot;}\n",
       "            );\n",
       "            marker_9b7963539be7f167259af7fcd6ae4152.setIcon(icon_ec8e986c8df9c4574bf8e2107ae53c01);\n",
       "        \n",
       "    \n",
       "        var popup_92b4f888798ff9789771960135031d06 = L.popup({&quot;maxWidth&quot;: &quot;100%&quot;});\n",
       "\n",
       "        \n",
       "            var html_1e071f2e178ccd1420c7609226cb197b = $(`&lt;div id=&quot;html_1e071f2e178ccd1420c7609226cb197b&quot; style=&quot;width: 100.0%; height: 100.0%;&quot;&gt;Mt. Hood Meadows&lt;/div&gt;`)[0];\n",
       "            popup_92b4f888798ff9789771960135031d06.setContent(html_1e071f2e178ccd1420c7609226cb197b);\n",
       "        \n",
       "\n",
       "        marker_9b7963539be7f167259af7fcd6ae4152.bindPopup(popup_92b4f888798ff9789771960135031d06)\n",
       "        ;\n",
       "\n",
       "        \n",
       "    \n",
       "    \n",
       "            var marker_bedb0bc96c2f87ef549cd06aa0dc024a = L.marker(\n",
       "                [45.3311, -121.7113],\n",
       "                {}\n",
       "            ).addTo(map_37a4324133938bd002d06f39069a4fb4);\n",
       "        \n",
       "    \n",
       "            var icon_2a2702beb2d41a5db79baa4ace161756 = L.AwesomeMarkers.icon(\n",
       "                {&quot;extraClasses&quot;: &quot;fa-rotate-0&quot;, &quot;icon&quot;: &quot;info-sign&quot;, &quot;iconColor&quot;: &quot;white&quot;, &quot;markerColor&quot;: &quot;green&quot;, &quot;prefix&quot;: &quot;glyphicon&quot;}\n",
       "            );\n",
       "            marker_bedb0bc96c2f87ef549cd06aa0dc024a.setIcon(icon_2a2702beb2d41a5db79baa4ace161756);\n",
       "        \n",
       "    \n",
       "        var popup_816f541dfd34b8f411fa084a85c784ae = L.popup({&quot;maxWidth&quot;: &quot;100%&quot;});\n",
       "\n",
       "        \n",
       "            var html_0cb566e94efa8ff719ccbec59cc18a38 = $(`&lt;div id=&quot;html_0cb566e94efa8ff719ccbec59cc18a38&quot; style=&quot;width: 100.0%; height: 100.0%;&quot;&gt;Timberline Lodge&lt;/div&gt;`)[0];\n",
       "            popup_816f541dfd34b8f411fa084a85c784ae.setContent(html_0cb566e94efa8ff719ccbec59cc18a38);\n",
       "        \n",
       "\n",
       "        marker_bedb0bc96c2f87ef549cd06aa0dc024a.bindPopup(popup_816f541dfd34b8f411fa084a85c784ae)\n",
       "        ;\n",
       "\n",
       "        \n",
       "    \n",
       "    \n",
       "            var marker_a4387d155b5988da9193c4fe889dbeec = L.marker(\n",
       "                [45.33, -121.6823],\n",
       "                {}\n",
       "            ).addTo(map_37a4324133938bd002d06f39069a4fb4);\n",
       "        \n",
       "    \n",
       "            var icon_c4b94fcacaae548d24c8008b4bb9e2ec = L.AwesomeMarkers.icon(\n",
       "                {&quot;extraClasses&quot;: &quot;fa-rotate-0&quot;, &quot;icon&quot;: &quot;info-sign&quot;, &quot;iconColor&quot;: &quot;white&quot;, &quot;markerColor&quot;: &quot;red&quot;, &quot;prefix&quot;: &quot;glyphicon&quot;}\n",
       "            );\n",
       "            marker_a4387d155b5988da9193c4fe889dbeec.setIcon(icon_c4b94fcacaae548d24c8008b4bb9e2ec);\n",
       "        \n",
       "    \n",
       "        var popup_17ff3d82c55a8dd166d38f8cc1a781a9 = L.popup({&quot;maxWidth&quot;: &quot;100%&quot;});\n",
       "\n",
       "        \n",
       "            var html_0fe1f16a537352a4052c8e18af526f13 = $(`&lt;div id=&quot;html_0fe1f16a537352a4052c8e18af526f13&quot; style=&quot;width: 100.0%; height: 100.0%;&quot;&gt;Some Other Location&lt;/div&gt;`)[0];\n",
       "            popup_17ff3d82c55a8dd166d38f8cc1a781a9.setContent(html_0fe1f16a537352a4052c8e18af526f13);\n",
       "        \n",
       "\n",
       "        marker_a4387d155b5988da9193c4fe889dbeec.bindPopup(popup_17ff3d82c55a8dd166d38f8cc1a781a9)\n",
       "        ;\n",
       "\n",
       "        \n",
       "    \n",
       "&lt;/script&gt;\" style=\"position:absolute;width:100%;height:100%;left:0;top:0;border:none !important;\" allowfullscreen webkitallowfullscreen mozallowfullscreen></iframe></div></div>"
      ],
      "text/plain": [
       "<folium.folium.Map at 0x16396a4f0>"
      ]
     },
     "execution_count": 24,
     "metadata": {},
     "output_type": "execute_result"
    }
   ],
   "source": [
    "map_f"
   ]
  },
  {
   "cell_type": "markdown",
   "id": "b722b101-c543-4481-88e8-65bd106b03f7",
   "metadata": {},
   "source": [
    "Leaflet’s `Circle` and `CircleMarker`, implemented to reflect radii in units of meters and pixels respectively, are available as features."
   ]
  },
  {
   "cell_type": "code",
   "execution_count": 25,
   "id": "514f43a9-8423-413f-9292-e5ef3ac355f2",
   "metadata": {},
   "outputs": [],
   "source": [
    "map_f = folium.Map(location=[45.5236, -122.6750], tiles=\"Stamen Toner\", zoom_start=13)"
   ]
  },
  {
   "cell_type": "code",
   "execution_count": 28,
   "id": "53c0f7a5-a253-46d7-9cc3-5f517af703a7",
   "metadata": {},
   "outputs": [
    {
     "data": {
      "text/plain": [
       "<folium.vector_layers.CircleMarker at 0x163990580>"
      ]
     },
     "execution_count": 28,
     "metadata": {},
     "output_type": "execute_result"
    }
   ],
   "source": [
    "folium.Circle(\n",
    "    radius=100,\n",
    "    location=[45.5244, -122.6699],\n",
    "    popup=\"The Waterfront\",\n",
    "    color=\"crimson\",\n",
    "    fill=False,\n",
    ").add_to(map_f)\n",
    "\n",
    "folium.CircleMarker(\n",
    "    location=[45.5215, -122.6261],\n",
    "    radius=50,\n",
    "    popup=\"Laurelhurst Park\",\n",
    "    color=\"#3186cc\",\n",
    "    fill=True,\n",
    "    fill_color=\"#3186cc\",\n",
    ").add_to(map_f)"
   ]
  },
  {
   "cell_type": "code",
   "execution_count": 29,
   "id": "0876ed96-9401-4af0-b81c-33faef619682",
   "metadata": {},
   "outputs": [
    {
     "data": {
      "text/html": [
       "<div style=\"width:100%;\"><div style=\"position:relative;width:100%;height:0;padding-bottom:60%;\"><span style=\"color:#565656\">Make this Notebook Trusted to load map: File -> Trust Notebook</span><iframe srcdoc=\"&lt;!DOCTYPE html&gt;\n",
       "&lt;head&gt;    \n",
       "    &lt;meta http-equiv=&quot;content-type&quot; content=&quot;text/html; charset=UTF-8&quot; /&gt;\n",
       "    \n",
       "        &lt;script&gt;\n",
       "            L_NO_TOUCH = false;\n",
       "            L_DISABLE_3D = false;\n",
       "        &lt;/script&gt;\n",
       "    \n",
       "    &lt;style&gt;html, body {width: 100%;height: 100%;margin: 0;padding: 0;}&lt;/style&gt;\n",
       "    &lt;style&gt;#map {position:absolute;top:0;bottom:0;right:0;left:0;}&lt;/style&gt;\n",
       "    &lt;script src=&quot;https://cdn.jsdelivr.net/npm/leaflet@1.6.0/dist/leaflet.js&quot;&gt;&lt;/script&gt;\n",
       "    &lt;script src=&quot;https://code.jquery.com/jquery-1.12.4.min.js&quot;&gt;&lt;/script&gt;\n",
       "    &lt;script src=&quot;https://maxcdn.bootstrapcdn.com/bootstrap/3.2.0/js/bootstrap.min.js&quot;&gt;&lt;/script&gt;\n",
       "    &lt;script src=&quot;https://cdnjs.cloudflare.com/ajax/libs/Leaflet.awesome-markers/2.0.2/leaflet.awesome-markers.js&quot;&gt;&lt;/script&gt;\n",
       "    &lt;link rel=&quot;stylesheet&quot; href=&quot;https://cdn.jsdelivr.net/npm/leaflet@1.6.0/dist/leaflet.css&quot;/&gt;\n",
       "    &lt;link rel=&quot;stylesheet&quot; href=&quot;https://maxcdn.bootstrapcdn.com/bootstrap/3.2.0/css/bootstrap.min.css&quot;/&gt;\n",
       "    &lt;link rel=&quot;stylesheet&quot; href=&quot;https://maxcdn.bootstrapcdn.com/bootstrap/3.2.0/css/bootstrap-theme.min.css&quot;/&gt;\n",
       "    &lt;link rel=&quot;stylesheet&quot; href=&quot;https://maxcdn.bootstrapcdn.com/font-awesome/4.6.3/css/font-awesome.min.css&quot;/&gt;\n",
       "    &lt;link rel=&quot;stylesheet&quot; href=&quot;https://cdnjs.cloudflare.com/ajax/libs/Leaflet.awesome-markers/2.0.2/leaflet.awesome-markers.css&quot;/&gt;\n",
       "    &lt;link rel=&quot;stylesheet&quot; href=&quot;https://cdn.jsdelivr.net/gh/python-visualization/folium/folium/templates/leaflet.awesome.rotate.min.css&quot;/&gt;\n",
       "    \n",
       "            &lt;meta name=&quot;viewport&quot; content=&quot;width=device-width,\n",
       "                initial-scale=1.0, maximum-scale=1.0, user-scalable=no&quot; /&gt;\n",
       "            &lt;style&gt;\n",
       "                #map_5526da58e7ef527750320a40ae922fc4 {\n",
       "                    position: relative;\n",
       "                    width: 100.0%;\n",
       "                    height: 100.0%;\n",
       "                    left: 0.0%;\n",
       "                    top: 0.0%;\n",
       "                }\n",
       "            &lt;/style&gt;\n",
       "        \n",
       "&lt;/head&gt;\n",
       "&lt;body&gt;    \n",
       "    \n",
       "            &lt;div class=&quot;folium-map&quot; id=&quot;map_5526da58e7ef527750320a40ae922fc4&quot; &gt;&lt;/div&gt;\n",
       "        \n",
       "&lt;/body&gt;\n",
       "&lt;script&gt;    \n",
       "    \n",
       "            var map_5526da58e7ef527750320a40ae922fc4 = L.map(\n",
       "                &quot;map_5526da58e7ef527750320a40ae922fc4&quot;,\n",
       "                {\n",
       "                    center: [45.5236, -122.675],\n",
       "                    crs: L.CRS.EPSG3857,\n",
       "                    zoom: 13,\n",
       "                    zoomControl: true,\n",
       "                    preferCanvas: false,\n",
       "                }\n",
       "            );\n",
       "\n",
       "            \n",
       "\n",
       "        \n",
       "    \n",
       "            var tile_layer_e184bdbdc4a0e217b524ba1ceb361de3 = L.tileLayer(\n",
       "                &quot;https://stamen-tiles-{s}.a.ssl.fastly.net/toner/{z}/{x}/{y}.png&quot;,\n",
       "                {&quot;attribution&quot;: &quot;Map tiles by \\u003ca href=\\&quot;http://stamen.com\\&quot;\\u003eStamen Design\\u003c/a\\u003e, under \\u003ca href=\\&quot;http://creativecommons.org/licenses/by/3.0\\&quot;\\u003eCC BY 3.0\\u003c/a\\u003e. Data by \\u0026copy; \\u003ca href=\\&quot;http://openstreetmap.org\\&quot;\\u003eOpenStreetMap\\u003c/a\\u003e, under \\u003ca href=\\&quot;http://www.openstreetmap.org/copyright\\&quot;\\u003eODbL\\u003c/a\\u003e.&quot;, &quot;detectRetina&quot;: false, &quot;maxNativeZoom&quot;: 18, &quot;maxZoom&quot;: 18, &quot;minZoom&quot;: 0, &quot;noWrap&quot;: false, &quot;opacity&quot;: 1, &quot;subdomains&quot;: &quot;abc&quot;, &quot;tms&quot;: false}\n",
       "            ).addTo(map_5526da58e7ef527750320a40ae922fc4);\n",
       "        \n",
       "    \n",
       "            var circle_b97059d2586191cae9c89b8d3219e5db = L.circle(\n",
       "                [45.5244, -122.6699],\n",
       "                {&quot;bubblingMouseEvents&quot;: true, &quot;color&quot;: &quot;crimson&quot;, &quot;dashArray&quot;: null, &quot;dashOffset&quot;: null, &quot;fill&quot;: false, &quot;fillColor&quot;: &quot;crimson&quot;, &quot;fillOpacity&quot;: 0.2, &quot;fillRule&quot;: &quot;evenodd&quot;, &quot;lineCap&quot;: &quot;round&quot;, &quot;lineJoin&quot;: &quot;round&quot;, &quot;opacity&quot;: 1.0, &quot;radius&quot;: 100, &quot;stroke&quot;: true, &quot;weight&quot;: 3}\n",
       "            ).addTo(map_5526da58e7ef527750320a40ae922fc4);\n",
       "        \n",
       "    \n",
       "        var popup_57d2339f5f098a8171561cd2b21a4fdb = L.popup({&quot;maxWidth&quot;: &quot;100%&quot;});\n",
       "\n",
       "        \n",
       "            var html_293f1cf1b9530e72de20e985814ba8e1 = $(`&lt;div id=&quot;html_293f1cf1b9530e72de20e985814ba8e1&quot; style=&quot;width: 100.0%; height: 100.0%;&quot;&gt;The Waterfront&lt;/div&gt;`)[0];\n",
       "            popup_57d2339f5f098a8171561cd2b21a4fdb.setContent(html_293f1cf1b9530e72de20e985814ba8e1);\n",
       "        \n",
       "\n",
       "        circle_b97059d2586191cae9c89b8d3219e5db.bindPopup(popup_57d2339f5f098a8171561cd2b21a4fdb)\n",
       "        ;\n",
       "\n",
       "        \n",
       "    \n",
       "    \n",
       "            var circle_marker_8c1b84342e2624ba80438ec16b217b7e = L.circleMarker(\n",
       "                [45.5215, -122.6261],\n",
       "                {&quot;bubblingMouseEvents&quot;: true, &quot;color&quot;: &quot;#3186cc&quot;, &quot;dashArray&quot;: null, &quot;dashOffset&quot;: null, &quot;fill&quot;: true, &quot;fillColor&quot;: &quot;#3186cc&quot;, &quot;fillOpacity&quot;: 0.2, &quot;fillRule&quot;: &quot;evenodd&quot;, &quot;lineCap&quot;: &quot;round&quot;, &quot;lineJoin&quot;: &quot;round&quot;, &quot;opacity&quot;: 1.0, &quot;radius&quot;: 50, &quot;stroke&quot;: true, &quot;weight&quot;: 3}\n",
       "            ).addTo(map_5526da58e7ef527750320a40ae922fc4);\n",
       "        \n",
       "    \n",
       "        var popup_7680906917aa17789207a87a52a0d29d = L.popup({&quot;maxWidth&quot;: &quot;100%&quot;});\n",
       "\n",
       "        \n",
       "            var html_e29f2ef7e85dbdd1583194e4839c6353 = $(`&lt;div id=&quot;html_e29f2ef7e85dbdd1583194e4839c6353&quot; style=&quot;width: 100.0%; height: 100.0%;&quot;&gt;Laurelhurst Park&lt;/div&gt;`)[0];\n",
       "            popup_7680906917aa17789207a87a52a0d29d.setContent(html_e29f2ef7e85dbdd1583194e4839c6353);\n",
       "        \n",
       "\n",
       "        circle_marker_8c1b84342e2624ba80438ec16b217b7e.bindPopup(popup_7680906917aa17789207a87a52a0d29d)\n",
       "        ;\n",
       "\n",
       "        \n",
       "    \n",
       "    \n",
       "            var circle_675384b49a0aaf04ed449bfadc96f7b4 = L.circle(\n",
       "                [45.5244, -122.6699],\n",
       "                {&quot;bubblingMouseEvents&quot;: true, &quot;color&quot;: &quot;crimson&quot;, &quot;dashArray&quot;: null, &quot;dashOffset&quot;: null, &quot;fill&quot;: false, &quot;fillColor&quot;: &quot;crimson&quot;, &quot;fillOpacity&quot;: 0.2, &quot;fillRule&quot;: &quot;evenodd&quot;, &quot;lineCap&quot;: &quot;round&quot;, &quot;lineJoin&quot;: &quot;round&quot;, &quot;opacity&quot;: 1.0, &quot;radius&quot;: 100, &quot;stroke&quot;: true, &quot;weight&quot;: 3}\n",
       "            ).addTo(map_5526da58e7ef527750320a40ae922fc4);\n",
       "        \n",
       "    \n",
       "        var popup_bf6fc3c0627faa6b58d8065e4fc0f55c = L.popup({&quot;maxWidth&quot;: &quot;100%&quot;});\n",
       "\n",
       "        \n",
       "            var html_139eba81dd591135f11fc2a35b41ddfc = $(`&lt;div id=&quot;html_139eba81dd591135f11fc2a35b41ddfc&quot; style=&quot;width: 100.0%; height: 100.0%;&quot;&gt;The Waterfront&lt;/div&gt;`)[0];\n",
       "            popup_bf6fc3c0627faa6b58d8065e4fc0f55c.setContent(html_139eba81dd591135f11fc2a35b41ddfc);\n",
       "        \n",
       "\n",
       "        circle_675384b49a0aaf04ed449bfadc96f7b4.bindPopup(popup_bf6fc3c0627faa6b58d8065e4fc0f55c)\n",
       "        ;\n",
       "\n",
       "        \n",
       "    \n",
       "    \n",
       "            var circle_marker_6306838969c5b581c3208fce74487dda = L.circleMarker(\n",
       "                [45.5215, -122.6261],\n",
       "                {&quot;bubblingMouseEvents&quot;: true, &quot;color&quot;: &quot;#3186cc&quot;, &quot;dashArray&quot;: null, &quot;dashOffset&quot;: null, &quot;fill&quot;: true, &quot;fillColor&quot;: &quot;#3186cc&quot;, &quot;fillOpacity&quot;: 0.2, &quot;fillRule&quot;: &quot;evenodd&quot;, &quot;lineCap&quot;: &quot;round&quot;, &quot;lineJoin&quot;: &quot;round&quot;, &quot;opacity&quot;: 1.0, &quot;radius&quot;: 50, &quot;stroke&quot;: true, &quot;weight&quot;: 3}\n",
       "            ).addTo(map_5526da58e7ef527750320a40ae922fc4);\n",
       "        \n",
       "    \n",
       "        var popup_d4a68607457eb5acf0c2ce4d5b0b33b9 = L.popup({&quot;maxWidth&quot;: &quot;100%&quot;});\n",
       "\n",
       "        \n",
       "            var html_36f25e66970b317324485c105ade18d9 = $(`&lt;div id=&quot;html_36f25e66970b317324485c105ade18d9&quot; style=&quot;width: 100.0%; height: 100.0%;&quot;&gt;Laurelhurst Park&lt;/div&gt;`)[0];\n",
       "            popup_d4a68607457eb5acf0c2ce4d5b0b33b9.setContent(html_36f25e66970b317324485c105ade18d9);\n",
       "        \n",
       "\n",
       "        circle_marker_6306838969c5b581c3208fce74487dda.bindPopup(popup_d4a68607457eb5acf0c2ce4d5b0b33b9)\n",
       "        ;\n",
       "\n",
       "        \n",
       "    \n",
       "&lt;/script&gt;\" style=\"position:absolute;width:100%;height:100%;left:0;top:0;border:none !important;\" allowfullscreen webkitallowfullscreen mozallowfullscreen></iframe></div></div>"
      ],
      "text/plain": [
       "<folium.folium.Map at 0x163983b50>"
      ]
     },
     "execution_count": 29,
     "metadata": {},
     "output_type": "execute_result"
    }
   ],
   "source": [
    "map_f"
   ]
  },
  {
   "cell_type": "markdown",
   "id": "15ef35a1-30ac-4dbc-ab50-f7f70b5b8d59",
   "metadata": {},
   "source": [
    "a convenience function to enable lat/lon popovers. This can help users to find a location by interactively browsing the map."
   ]
  },
  {
   "cell_type": "code",
   "execution_count": 30,
   "id": "b251e1ad-256b-4148-9d9d-f42144a40d30",
   "metadata": {},
   "outputs": [
    {
     "data": {
      "text/html": [
       "<div style=\"width:100%;\"><div style=\"position:relative;width:100%;height:0;padding-bottom:60%;\"><span style=\"color:#565656\">Make this Notebook Trusted to load map: File -> Trust Notebook</span><iframe srcdoc=\"&lt;!DOCTYPE html&gt;\n",
       "&lt;head&gt;    \n",
       "    &lt;meta http-equiv=&quot;content-type&quot; content=&quot;text/html; charset=UTF-8&quot; /&gt;\n",
       "    \n",
       "        &lt;script&gt;\n",
       "            L_NO_TOUCH = false;\n",
       "            L_DISABLE_3D = false;\n",
       "        &lt;/script&gt;\n",
       "    \n",
       "    &lt;style&gt;html, body {width: 100%;height: 100%;margin: 0;padding: 0;}&lt;/style&gt;\n",
       "    &lt;style&gt;#map {position:absolute;top:0;bottom:0;right:0;left:0;}&lt;/style&gt;\n",
       "    &lt;script src=&quot;https://cdn.jsdelivr.net/npm/leaflet@1.6.0/dist/leaflet.js&quot;&gt;&lt;/script&gt;\n",
       "    &lt;script src=&quot;https://code.jquery.com/jquery-1.12.4.min.js&quot;&gt;&lt;/script&gt;\n",
       "    &lt;script src=&quot;https://maxcdn.bootstrapcdn.com/bootstrap/3.2.0/js/bootstrap.min.js&quot;&gt;&lt;/script&gt;\n",
       "    &lt;script src=&quot;https://cdnjs.cloudflare.com/ajax/libs/Leaflet.awesome-markers/2.0.2/leaflet.awesome-markers.js&quot;&gt;&lt;/script&gt;\n",
       "    &lt;link rel=&quot;stylesheet&quot; href=&quot;https://cdn.jsdelivr.net/npm/leaflet@1.6.0/dist/leaflet.css&quot;/&gt;\n",
       "    &lt;link rel=&quot;stylesheet&quot; href=&quot;https://maxcdn.bootstrapcdn.com/bootstrap/3.2.0/css/bootstrap.min.css&quot;/&gt;\n",
       "    &lt;link rel=&quot;stylesheet&quot; href=&quot;https://maxcdn.bootstrapcdn.com/bootstrap/3.2.0/css/bootstrap-theme.min.css&quot;/&gt;\n",
       "    &lt;link rel=&quot;stylesheet&quot; href=&quot;https://maxcdn.bootstrapcdn.com/font-awesome/4.6.3/css/font-awesome.min.css&quot;/&gt;\n",
       "    &lt;link rel=&quot;stylesheet&quot; href=&quot;https://cdnjs.cloudflare.com/ajax/libs/Leaflet.awesome-markers/2.0.2/leaflet.awesome-markers.css&quot;/&gt;\n",
       "    &lt;link rel=&quot;stylesheet&quot; href=&quot;https://cdn.jsdelivr.net/gh/python-visualization/folium/folium/templates/leaflet.awesome.rotate.min.css&quot;/&gt;\n",
       "    \n",
       "            &lt;meta name=&quot;viewport&quot; content=&quot;width=device-width,\n",
       "                initial-scale=1.0, maximum-scale=1.0, user-scalable=no&quot; /&gt;\n",
       "            &lt;style&gt;\n",
       "                #map_98bf418f761fd3810093f61926d40daa {\n",
       "                    position: relative;\n",
       "                    width: 100.0%;\n",
       "                    height: 100.0%;\n",
       "                    left: 0.0%;\n",
       "                    top: 0.0%;\n",
       "                }\n",
       "            &lt;/style&gt;\n",
       "        \n",
       "&lt;/head&gt;\n",
       "&lt;body&gt;    \n",
       "    \n",
       "            &lt;div class=&quot;folium-map&quot; id=&quot;map_98bf418f761fd3810093f61926d40daa&quot; &gt;&lt;/div&gt;\n",
       "        \n",
       "&lt;/body&gt;\n",
       "&lt;script&gt;    \n",
       "    \n",
       "            var map_98bf418f761fd3810093f61926d40daa = L.map(\n",
       "                &quot;map_98bf418f761fd3810093f61926d40daa&quot;,\n",
       "                {\n",
       "                    center: [46.1991, -122.1889],\n",
       "                    crs: L.CRS.EPSG3857,\n",
       "                    zoom: 13,\n",
       "                    zoomControl: true,\n",
       "                    preferCanvas: false,\n",
       "                }\n",
       "            );\n",
       "\n",
       "            \n",
       "\n",
       "        \n",
       "    \n",
       "            var tile_layer_01a3933275374e4c4421a9411d384cb5 = L.tileLayer(\n",
       "                &quot;https://stamen-tiles-{s}.a.ssl.fastly.net/terrain/{z}/{x}/{y}.jpg&quot;,\n",
       "                {&quot;attribution&quot;: &quot;Map tiles by \\u003ca href=\\&quot;http://stamen.com\\&quot;\\u003eStamen Design\\u003c/a\\u003e, under \\u003ca href=\\&quot;http://creativecommons.org/licenses/by/3.0\\&quot;\\u003eCC BY 3.0\\u003c/a\\u003e. Data by \\u0026copy; \\u003ca href=\\&quot;http://openstreetmap.org\\&quot;\\u003eOpenStreetMap\\u003c/a\\u003e, under \\u003ca href=\\&quot;http://creativecommons.org/licenses/by-sa/3.0\\&quot;\\u003eCC BY SA\\u003c/a\\u003e.&quot;, &quot;detectRetina&quot;: false, &quot;maxNativeZoom&quot;: 18, &quot;maxZoom&quot;: 18, &quot;minZoom&quot;: 0, &quot;noWrap&quot;: false, &quot;opacity&quot;: 1, &quot;subdomains&quot;: &quot;abc&quot;, &quot;tms&quot;: false}\n",
       "            ).addTo(map_98bf418f761fd3810093f61926d40daa);\n",
       "        \n",
       "    \n",
       "                var lat_lng_popup_c241c09c7dc31c564d7a07ffd393d1cc = L.popup();\n",
       "                function latLngPop(e) {\n",
       "                    lat_lng_popup_c241c09c7dc31c564d7a07ffd393d1cc\n",
       "                        .setLatLng(e.latlng)\n",
       "                        .setContent(&quot;Latitude: &quot; + e.latlng.lat.toFixed(4) +\n",
       "                                    &quot;&lt;br&gt;Longitude: &quot; + e.latlng.lng.toFixed(4))\n",
       "                        .openOn(map_98bf418f761fd3810093f61926d40daa);\n",
       "                    }\n",
       "                map_98bf418f761fd3810093f61926d40daa.on(&#x27;click&#x27;, latLngPop);\n",
       "            \n",
       "&lt;/script&gt;\" style=\"position:absolute;width:100%;height:100%;left:0;top:0;border:none !important;\" allowfullscreen webkitallowfullscreen mozallowfullscreen></iframe></div></div>"
      ],
      "text/plain": [
       "<folium.folium.Map at 0x163973490>"
      ]
     },
     "execution_count": 30,
     "metadata": {},
     "output_type": "execute_result"
    }
   ],
   "source": [
    "map_f = folium.Map(location=[46.1991, -122.1889], tiles=\"Stamen Terrain\", zoom_start=13)\n",
    "map_f.add_child(folium.LatLngPopup())\n",
    "map_f"
   ]
  },
  {
   "cell_type": "markdown",
   "id": "87ffe429-804a-4f65-b2c0-6ca950207240",
   "metadata": {},
   "source": [
    "and click-for-marker functionality for on-the-fly placement of markers:"
   ]
  },
  {
   "cell_type": "code",
   "execution_count": 31,
   "id": "12eac5bb-d1bc-4755-9b8d-2e39ac4a6b2d",
   "metadata": {},
   "outputs": [
    {
     "data": {
      "text/html": [
       "<div style=\"width:100%;\"><div style=\"position:relative;width:100%;height:0;padding-bottom:60%;\"><span style=\"color:#565656\">Make this Notebook Trusted to load map: File -> Trust Notebook</span><iframe srcdoc=\"&lt;!DOCTYPE html&gt;\n",
       "&lt;head&gt;    \n",
       "    &lt;meta http-equiv=&quot;content-type&quot; content=&quot;text/html; charset=UTF-8&quot; /&gt;\n",
       "    \n",
       "        &lt;script&gt;\n",
       "            L_NO_TOUCH = false;\n",
       "            L_DISABLE_3D = false;\n",
       "        &lt;/script&gt;\n",
       "    \n",
       "    &lt;style&gt;html, body {width: 100%;height: 100%;margin: 0;padding: 0;}&lt;/style&gt;\n",
       "    &lt;style&gt;#map {position:absolute;top:0;bottom:0;right:0;left:0;}&lt;/style&gt;\n",
       "    &lt;script src=&quot;https://cdn.jsdelivr.net/npm/leaflet@1.6.0/dist/leaflet.js&quot;&gt;&lt;/script&gt;\n",
       "    &lt;script src=&quot;https://code.jquery.com/jquery-1.12.4.min.js&quot;&gt;&lt;/script&gt;\n",
       "    &lt;script src=&quot;https://maxcdn.bootstrapcdn.com/bootstrap/3.2.0/js/bootstrap.min.js&quot;&gt;&lt;/script&gt;\n",
       "    &lt;script src=&quot;https://cdnjs.cloudflare.com/ajax/libs/Leaflet.awesome-markers/2.0.2/leaflet.awesome-markers.js&quot;&gt;&lt;/script&gt;\n",
       "    &lt;link rel=&quot;stylesheet&quot; href=&quot;https://cdn.jsdelivr.net/npm/leaflet@1.6.0/dist/leaflet.css&quot;/&gt;\n",
       "    &lt;link rel=&quot;stylesheet&quot; href=&quot;https://maxcdn.bootstrapcdn.com/bootstrap/3.2.0/css/bootstrap.min.css&quot;/&gt;\n",
       "    &lt;link rel=&quot;stylesheet&quot; href=&quot;https://maxcdn.bootstrapcdn.com/bootstrap/3.2.0/css/bootstrap-theme.min.css&quot;/&gt;\n",
       "    &lt;link rel=&quot;stylesheet&quot; href=&quot;https://maxcdn.bootstrapcdn.com/font-awesome/4.6.3/css/font-awesome.min.css&quot;/&gt;\n",
       "    &lt;link rel=&quot;stylesheet&quot; href=&quot;https://cdnjs.cloudflare.com/ajax/libs/Leaflet.awesome-markers/2.0.2/leaflet.awesome-markers.css&quot;/&gt;\n",
       "    &lt;link rel=&quot;stylesheet&quot; href=&quot;https://cdn.jsdelivr.net/gh/python-visualization/folium/folium/templates/leaflet.awesome.rotate.min.css&quot;/&gt;\n",
       "    \n",
       "            &lt;meta name=&quot;viewport&quot; content=&quot;width=device-width,\n",
       "                initial-scale=1.0, maximum-scale=1.0, user-scalable=no&quot; /&gt;\n",
       "            &lt;style&gt;\n",
       "                #map_591db325bcc95ea7f05d58c3d35a21aa {\n",
       "                    position: relative;\n",
       "                    width: 100.0%;\n",
       "                    height: 100.0%;\n",
       "                    left: 0.0%;\n",
       "                    top: 0.0%;\n",
       "                }\n",
       "            &lt;/style&gt;\n",
       "        \n",
       "&lt;/head&gt;\n",
       "&lt;body&gt;    \n",
       "    \n",
       "            &lt;div class=&quot;folium-map&quot; id=&quot;map_591db325bcc95ea7f05d58c3d35a21aa&quot; &gt;&lt;/div&gt;\n",
       "        \n",
       "&lt;/body&gt;\n",
       "&lt;script&gt;    \n",
       "    \n",
       "            var map_591db325bcc95ea7f05d58c3d35a21aa = L.map(\n",
       "                &quot;map_591db325bcc95ea7f05d58c3d35a21aa&quot;,\n",
       "                {\n",
       "                    center: [46.8527, -121.7649],\n",
       "                    crs: L.CRS.EPSG3857,\n",
       "                    zoom: 13,\n",
       "                    zoomControl: true,\n",
       "                    preferCanvas: false,\n",
       "                }\n",
       "            );\n",
       "\n",
       "            \n",
       "\n",
       "        \n",
       "    \n",
       "            var tile_layer_805180b3d5139c641f93487fae65b41a = L.tileLayer(\n",
       "                &quot;https://stamen-tiles-{s}.a.ssl.fastly.net/terrain/{z}/{x}/{y}.jpg&quot;,\n",
       "                {&quot;attribution&quot;: &quot;Map tiles by \\u003ca href=\\&quot;http://stamen.com\\&quot;\\u003eStamen Design\\u003c/a\\u003e, under \\u003ca href=\\&quot;http://creativecommons.org/licenses/by/3.0\\&quot;\\u003eCC BY 3.0\\u003c/a\\u003e. Data by \\u0026copy; \\u003ca href=\\&quot;http://openstreetmap.org\\&quot;\\u003eOpenStreetMap\\u003c/a\\u003e, under \\u003ca href=\\&quot;http://creativecommons.org/licenses/by-sa/3.0\\&quot;\\u003eCC BY SA\\u003c/a\\u003e.&quot;, &quot;detectRetina&quot;: false, &quot;maxNativeZoom&quot;: 18, &quot;maxZoom&quot;: 18, &quot;minZoom&quot;: 0, &quot;noWrap&quot;: false, &quot;opacity&quot;: 1, &quot;subdomains&quot;: &quot;abc&quot;, &quot;tms&quot;: false}\n",
       "            ).addTo(map_591db325bcc95ea7f05d58c3d35a21aa);\n",
       "        \n",
       "    \n",
       "            var marker_3538b2e3b0109768ead61fa24eaad40e = L.marker(\n",
       "                [46.8354, -121.7325],\n",
       "                {}\n",
       "            ).addTo(map_591db325bcc95ea7f05d58c3d35a21aa);\n",
       "        \n",
       "    \n",
       "        var popup_8fb8d6fb4e4a3f1dd9f8e85c5f03dcbd = L.popup({&quot;maxWidth&quot;: &quot;100%&quot;});\n",
       "\n",
       "        \n",
       "            var html_fb8123797f9ef1bad6db193f5f0de417 = $(`&lt;div id=&quot;html_fb8123797f9ef1bad6db193f5f0de417&quot; style=&quot;width: 100.0%; height: 100.0%;&quot;&gt;Camp Muir&lt;/div&gt;`)[0];\n",
       "            popup_8fb8d6fb4e4a3f1dd9f8e85c5f03dcbd.setContent(html_fb8123797f9ef1bad6db193f5f0de417);\n",
       "        \n",
       "\n",
       "        marker_3538b2e3b0109768ead61fa24eaad40e.bindPopup(popup_8fb8d6fb4e4a3f1dd9f8e85c5f03dcbd)\n",
       "        ;\n",
       "\n",
       "        \n",
       "    \n",
       "    \n",
       "                function newMarker(e){\n",
       "                    var new_mark = L.marker().setLatLng(e.latlng).addTo(map_591db325bcc95ea7f05d58c3d35a21aa);\n",
       "                    new_mark.dragging.enable();\n",
       "                    new_mark.on(&#x27;dblclick&#x27;, function(e){ map_591db325bcc95ea7f05d58c3d35a21aa.removeLayer(e.target)})\n",
       "                    var lat = e.latlng.lat.toFixed(4),\n",
       "                       lng = e.latlng.lng.toFixed(4);\n",
       "                    new_mark.bindPopup(&quot;Waypoint&quot;);\n",
       "                    };\n",
       "                map_591db325bcc95ea7f05d58c3d35a21aa.on(&#x27;click&#x27;, newMarker);\n",
       "            \n",
       "&lt;/script&gt;\" style=\"position:absolute;width:100%;height:100%;left:0;top:0;border:none !important;\" allowfullscreen webkitallowfullscreen mozallowfullscreen></iframe></div></div>"
      ],
      "text/plain": [
       "<folium.folium.Map at 0x1639963a0>"
      ]
     },
     "execution_count": 31,
     "metadata": {},
     "output_type": "execute_result"
    }
   ],
   "source": [
    "map_f = folium.Map(location=[46.8527, -121.7649], tiles=\"Stamen Terrain\", zoom_start=13)\n",
    "folium.Marker([46.8354, -121.7325], popup=\"Camp Muir\").add_to(map_f)\n",
    "map_f.add_child(folium.ClickForMarker(popup=\"Waypoint\"))\n",
    "map_f"
   ]
  },
  {
   "cell_type": "markdown",
   "id": "1667c782-944f-4861-a0d7-4990db04f164",
   "metadata": {},
   "source": [
    "<a id=\"overlays\"></a>\n",
    "### Overlays\n",
    "\n",
    "Both GeoJSON and TopoJSON layers can be passed to the map as an overlay, and multiple layers can be visualized on the same map:"
   ]
  },
  {
   "cell_type": "code",
   "execution_count": 32,
   "id": "cf5df1d1-b739-49de-b026-6f28f4d68c00",
   "metadata": {},
   "outputs": [],
   "source": [
    "url = (\n",
    "    \"https://raw.githubusercontent.com/python-visualization/folium/master/examples/data\"\n",
    ")\n",
    "antarctic_ice_edge = f\"{url}/antarctic_ice_edge.json\"\n",
    "antarctic_ice_shelf_topo = f\"{url}/antarctic_ice_shelf_topo.json\""
   ]
  },
  {
   "cell_type": "code",
   "execution_count": 36,
   "id": "2cd67883-0231-4eee-be31-6341c638a938",
   "metadata": {},
   "outputs": [],
   "source": [
    "import json\n",
    "import requests"
   ]
  },
  {
   "cell_type": "code",
   "execution_count": 40,
   "id": "90e9728f-43b8-4331-869b-331449319487",
   "metadata": {},
   "outputs": [
    {
     "data": {
      "text/plain": [
       "<folium.map.LayerControl at 0x162e0c790>"
      ]
     },
     "execution_count": 40,
     "metadata": {},
     "output_type": "execute_result"
    }
   ],
   "source": [
    "map_f = folium.Map(\n",
    "    location=[-59.1759, -11.6016],\n",
    "    tiles=\"cartodbpositron\",\n",
    "    zoom_start=2,\n",
    ")\n",
    "\n",
    "folium.GeoJson(antarctic_ice_edge, name=\"geojson\").add_to(map_f)\n",
    "\n",
    "folium.TopoJson(\n",
    "    json.loads(requests.get(antarctic_ice_shelf_topo).text),\n",
    "    \"objects.antarctic_ice_shelf\",\n",
    "    name=\"topojson\",\n",
    ").add_to(map_f)\n",
    "\n",
    "folium.LayerControl().add_to(map_f)"
   ]
  },
  {
   "cell_type": "code",
   "execution_count": 41,
   "id": "eee79165-28c8-4491-8112-2c1eb74aa4a7",
   "metadata": {},
   "outputs": [
    {
     "data": {
      "text/html": [
       "<div style=\"width:100%;\"><div style=\"position:relative;width:100%;height:0;padding-bottom:60%;\"><span style=\"color:#565656\">Make this Notebook Trusted to load map: File -> Trust Notebook</span><iframe srcdoc=\"&lt;!DOCTYPE html&gt;\n",
       "&lt;head&gt;    \n",
       "    &lt;meta http-equiv=&quot;content-type&quot; content=&quot;text/html; charset=UTF-8&quot; /&gt;\n",
       "    \n",
       "        &lt;script&gt;\n",
       "            L_NO_TOUCH = false;\n",
       "            L_DISABLE_3D = false;\n",
       "        &lt;/script&gt;\n",
       "    \n",
       "    &lt;style&gt;html, body {width: 100%;height: 100%;margin: 0;padding: 0;}&lt;/style&gt;\n",
       "    &lt;style&gt;#map {position:absolute;top:0;bottom:0;right:0;left:0;}&lt;/style&gt;\n",
       "    &lt;script src=&quot;https://cdn.jsdelivr.net/npm/leaflet@1.6.0/dist/leaflet.js&quot;&gt;&lt;/script&gt;\n",
       "    &lt;script src=&quot;https://code.jquery.com/jquery-1.12.4.min.js&quot;&gt;&lt;/script&gt;\n",
       "    &lt;script src=&quot;https://maxcdn.bootstrapcdn.com/bootstrap/3.2.0/js/bootstrap.min.js&quot;&gt;&lt;/script&gt;\n",
       "    &lt;script src=&quot;https://cdnjs.cloudflare.com/ajax/libs/Leaflet.awesome-markers/2.0.2/leaflet.awesome-markers.js&quot;&gt;&lt;/script&gt;\n",
       "    &lt;link rel=&quot;stylesheet&quot; href=&quot;https://cdn.jsdelivr.net/npm/leaflet@1.6.0/dist/leaflet.css&quot;/&gt;\n",
       "    &lt;link rel=&quot;stylesheet&quot; href=&quot;https://maxcdn.bootstrapcdn.com/bootstrap/3.2.0/css/bootstrap.min.css&quot;/&gt;\n",
       "    &lt;link rel=&quot;stylesheet&quot; href=&quot;https://maxcdn.bootstrapcdn.com/bootstrap/3.2.0/css/bootstrap-theme.min.css&quot;/&gt;\n",
       "    &lt;link rel=&quot;stylesheet&quot; href=&quot;https://maxcdn.bootstrapcdn.com/font-awesome/4.6.3/css/font-awesome.min.css&quot;/&gt;\n",
       "    &lt;link rel=&quot;stylesheet&quot; href=&quot;https://cdnjs.cloudflare.com/ajax/libs/Leaflet.awesome-markers/2.0.2/leaflet.awesome-markers.css&quot;/&gt;\n",
       "    &lt;link rel=&quot;stylesheet&quot; href=&quot;https://cdn.jsdelivr.net/gh/python-visualization/folium/folium/templates/leaflet.awesome.rotate.min.css&quot;/&gt;\n",
       "    \n",
       "            &lt;meta name=&quot;viewport&quot; content=&quot;width=device-width,\n",
       "                initial-scale=1.0, maximum-scale=1.0, user-scalable=no&quot; /&gt;\n",
       "            &lt;style&gt;\n",
       "                #map_9dd0aa18bfb66d176a45fdc34e92683a {\n",
       "                    position: relative;\n",
       "                    width: 100.0%;\n",
       "                    height: 100.0%;\n",
       "                    left: 0.0%;\n",
       "                    top: 0.0%;\n",
       "                }\n",
       "            &lt;/style&gt;\n",
       "        \n",
       "    &lt;script src=&quot;https://cdnjs.cloudflare.com/ajax/libs/topojson/1.6.9/topojson.min.js&quot;&gt;&lt;/script&gt;\n",
       "&lt;/head&gt;\n",
       "&lt;body&gt;    \n",
       "    \n",
       "            &lt;div class=&quot;folium-map&quot; id=&quot;map_9dd0aa18bfb66d176a45fdc34e92683a&quot; &gt;&lt;/div&gt;\n",
       "        \n",
       "&lt;/body&gt;\n",
       "&lt;script&gt;    \n",
       "    \n",
       "            var map_9dd0aa18bfb66d176a45fdc34e92683a = L.map(\n",
       "                &quot;map_9dd0aa18bfb66d176a45fdc34e92683a&quot;,\n",
       "                {\n",
       "                    center: [-59.1759, -11.6016],\n",
       "                    crs: L.CRS.EPSG3857,\n",
       "                    zoom: 2,\n",
       "                    zoomControl: true,\n",
       "                    preferCanvas: false,\n",
       "                }\n",
       "            );\n",
       "\n",
       "            \n",
       "\n",
       "        \n",
       "    \n",
       "            var tile_layer_c210b895cb3d4f257adfb5d995fb30ee = L.tileLayer(\n",
       "                &quot;https://cartodb-basemaps-{s}.global.ssl.fastly.net/light_all/{z}/{x}/{y}.png&quot;,\n",
       "                {&quot;attribution&quot;: &quot;\\u0026copy; \\u003ca href=\\&quot;http://www.openstreetmap.org/copyright\\&quot;\\u003eOpenStreetMap\\u003c/a\\u003e contributors \\u0026copy; \\u003ca href=\\&quot;http://cartodb.com/attributions\\&quot;\\u003eCartoDB\\u003c/a\\u003e, CartoDB \\u003ca href =\\&quot;http://cartodb.com/attributions\\&quot;\\u003eattributions\\u003c/a\\u003e&quot;, &quot;detectRetina&quot;: false, &quot;maxNativeZoom&quot;: 18, &quot;maxZoom&quot;: 18, &quot;minZoom&quot;: 0, &quot;noWrap&quot;: false, &quot;opacity&quot;: 1, &quot;subdomains&quot;: &quot;abc&quot;, &quot;tms&quot;: false}\n",
       "            ).addTo(map_9dd0aa18bfb66d176a45fdc34e92683a);\n",
       "        \n",
       "    \n",
       "\n",
       "        function geo_json_62f4396c8ab549344f5212ecc885d1f1_onEachFeature(feature, layer) {\n",
       "            layer.on({\n",
       "            });\n",
       "        };\n",
       "        var geo_json_62f4396c8ab549344f5212ecc885d1f1 = L.geoJson(null, {\n",
       "                onEachFeature: geo_json_62f4396c8ab549344f5212ecc885d1f1_onEachFeature,\n",
       "            \n",
       "        });\n",
       "\n",
       "        function geo_json_62f4396c8ab549344f5212ecc885d1f1_add (data) {\n",
       "            geo_json_62f4396c8ab549344f5212ecc885d1f1\n",
       "                .addData(data)\n",
       "                .addTo(map_9dd0aa18bfb66d176a45fdc34e92683a);\n",
       "        }\n",
       "            geo_json_62f4396c8ab549344f5212ecc885d1f1_add({&quot;features&quot;: [{&quot;geometry&quot;: {&quot;coordinates&quot;: [[56.68866417829628, -66.86041472764771], [56.676055128816984, -66.84444671006958], [56.644119093660606, -66.79633595160578], [56.682876417879584, -66.78315846137141], [56.76907270694238, -66.76822397243905], [56.80783003116136, -66.74620981228264], [56.800905389234174, -66.74155893337638], [56.7825085793383, -66.71324024848047]], &quot;type&quot;: &quot;LineString&quot;}, &quot;properties&quot;: {&quot;featurecla&quot;: &quot;Antarctic Ice Shelf Edge&quot;, &quot;scalerank&quot;: 5}, &quot;type&quot;: &quot;Feature&quot;}, {&quot;geometry&quot;: {&quot;coordinates&quot;: [[76.8398889505122, -69.283057549923], [76.84071577342894, -69.28279916776157], [76.80412885936636, -69.25783945096461], [76.77653364452243, -69.24905445747498], [76.75121219269943, -69.2488994281781], [76.69746870311587, -69.26218027127715], [76.7033598163971, -69.26977670682405], [76.70790734243889, -69.27809661242301], [76.71121463410543, -69.28708831164181], [76.71328169139719, -69.29659677518349], [76.65736779165735, -69.32088469836069], [76.64134809764693, -69.33364877713674], [76.62532840363639, -69.34248544705866], [76.60672488801129, -69.34450082791813], [76.58967166535501, -69.34837656033996], [76.57809614452168, -69.36263925565248], [76.57602908722993, -69.36785857531402], [76.5725150898341, -69.37597177518381]], &quot;type&quot;: &quot;LineString&quot;}, &quot;properties&quot;: {&quot;featurecla&quot;: &quot;Antarctic Ice Shelf Edge&quot;, &quot;scalerank&quot;: 5}, &quot;type&quot;: &quot;Feature&quot;}, {&quot;geometry&quot;: {&quot;coordinates&quot;: [[58.29404422387552, -67.14809742621657], [58.280608351479714, -67.13988087348218], [58.27761111840675, -67.1286154112425], [58.28174523299015, -67.11249236436748], [58.292390578042216, -67.0917701150184], [58.28153852726092, -67.09161508572154], [58.27109988793802, -67.08990976345592], [58.26107466007329, -67.08675750108611], [58.25135949080243, -67.08195159288299], [58.27078982934421, -67.06634531033086], [58.27874799991724, -67.06246957790893], [58.25053266788581, -67.05476978949744], [58.10449507022895, -67.05120411566934], [58.08454796736436, -67.06138437283077], [58.081447381426756, -67.09404387803929]], &quot;type&quot;: &quot;LineString&quot;}, &quot;properties&quot;: {&quot;featurecla&quot;: &quot;Antarctic Ice Shelf Edge&quot;, &quot;scalerank&quot;: 5}, &quot;type&quot;: &quot;Feature&quot;}, {&quot;geometry&quot;: {&quot;coordinates&quot;: [[58.84233117049234, -67.35299448025384], [58.83768029158608, -67.34679330837882], [58.92687381372184, -67.3122734516079], [58.952815382732354, -67.30540048611303]], &quot;type&quot;: &quot;LineString&quot;}, &quot;properties&quot;: {&quot;featurecla&quot;: &quot;Antarctic Ice Shelf Edge&quot;, &quot;scalerank&quot;: 5}, &quot;type&quot;: &quot;Feature&quot;}, {&quot;geometry&quot;: {&quot;coordinates&quot;: [[56.44702518089946, -66.39723886501565], [56.37974246605546, -66.39847909939067], [56.298093703034226, -66.39403492621355]], &quot;type&quot;: &quot;LineString&quot;}, &quot;properties&quot;: {&quot;featurecla&quot;: &quot;Antarctic Ice Shelf Edge&quot;, &quot;scalerank&quot;: 5}, &quot;type&quot;: &quot;Feature&quot;}, {&quot;geometry&quot;: {&quot;coordinates&quot;: [[50.00700483582159, -67.16184335720621], [49.980546502488096, -67.14401498806548], [49.9744486834777, -67.14292978298741], [49.93352094910256, -67.14541025173736], [49.91202355326914, -67.14313648871656], [49.89559044780026, -67.13507496527906], [49.89290327332117, -67.1321810850707], [49.89083621602953, -67.1290804991332], [49.88918257019611, -67.1259282367634], [49.884635044154436, -67.1178667133258]], &quot;type&quot;: &quot;LineString&quot;}, &quot;properties&quot;: {&quot;featurecla&quot;: &quot;Antarctic Ice Shelf Edge&quot;, &quot;scalerank&quot;: 5}, &quot;type&quot;: &quot;Feature&quot;}, {&quot;geometry&quot;: {&quot;coordinates&quot;: [[56.933403761630586, -67.04738005967968], [56.933300408766, -67.04520964952347], [56.94218875512013, -67.02660613389841], [56.95417768741186, -67.01420379014837], [56.98352990095361, -66.99058766059093], [56.97856896345371, -66.987590427518], [56.969267205641074, -66.98035572699712], [56.964306268141115, -66.97772022895029], [57.047401971266424, -66.97647999457527], [57.06228478376647, -66.97348276150234], [57.0851257668395, -66.96614470811687], [57.0999052264749, -66.95555103949704], [57.090500115797795, -66.94258025499181], [57.055153436110174, -66.92552703233551], [57.02001346215178, -66.91410654079897], [56.98311648949533, -66.91203948350733], [56.942602166578524, -66.92304656358547], [56.93433393741179, -66.92273650499175], [56.924102003818064, -66.9076469867625], [56.91531701032841, -66.90392628363743], [56.884311150953295, -66.90609669379374], [56.855372348869764, -66.90061899197076], [56.81454796735926, -66.89720834743952], [56.79563439314046, -66.89896534613743], [56.75915083194229, -66.9152950987417], [56.74034061058808, -66.92056609483544], [56.72256391787971, -66.91457162868957], [56.71780968610881, -66.91116098415833], [56.71305545433796, -66.90857716254379], [56.70199669782761, -66.90356454861141]], &quot;type&quot;: &quot;LineString&quot;}, &quot;properties&quot;: {&quot;featurecla&quot;: &quot;Antarctic Ice Shelf Edge&quot;, &quot;scalerank&quot;: 5}, &quot;type&quot;: &quot;Feature&quot;}, {&quot;geometry&quot;: {&quot;coordinates&quot;: [[[1.243366326511961, -70.02843840930103], [1.191689894220048, -69.9711809223216], [1.139083286146871, -69.9464279112538], [1.025085076511061, -69.92012460721725], [0.998730096042209, -69.9181092263579], [0.945916782239891, -69.92327686958706], [0.921215447604396, -69.92188160591516], [0.881424594739656, -69.8992473285713], [0.862200961927016, -69.89754200630568], [0.852899204114578, -69.92229501737347], [0.850005323906231, -69.91547372831099], [0.841943800468641, -69.90224456164424], [0.838739861666539, -69.89542327258175], [0.827887810885272, -69.90482838325886], [0.817035760103977, -69.90637867622762], [0.800292596041402, -69.9068954405505], [0.768459913749609, -69.92493051542039], [0.453104485688499, -70.02151376737388], [0.277094557302291, -70.12197275174931], [0.289858636078463, -70.09908009224401], [0.350371738292182, -70.0267847634677], [0.355797763682887, -70.00916310005613], [0.365306227224551, -69.9975875792228], [0.398172438162135, -69.97004404081125], [0.404993727224735, -69.9585201964101], [0.405768873709064, -69.93536915474337], [0.395846998709061, -69.9131999652901], [0.378070306000609, -69.89707691841508], [0.355642734386009, -69.89216765734739], [0.324843580740065, -69.90095265083693], [0.281021966156516, -69.93443897896208], [0.255132073578295, -69.94989023221734], [0.259834628916849, -69.92606739693083], [0.261462436534089, -69.90658538195677], [0.267069329437732, -69.88911874784216], [0.294354485687848, -69.86183359159203], [0.300503981130589, -69.85041310005548], [0.298824497081057, -69.83873422635757], [0.285827874359654, -69.82814055773773], [0.251721429047052, -69.83041432075854], [0.225108066416681, -69.86080006294617], [0.209811842458294, -69.90172779732134], [0.20947594564845, -69.93547250760794], [0.1962209407655, -69.92400033963918], [0.19087243002329, -69.90792896919638], [0.191518385426946, -69.88994557075878], [0.195755852874925, -69.87237558377959], [0.19337873698953, -69.854392185342], [0.175782911794158, -69.84679574979509], [0.16955590170295, -69.83940601997733], [0.146249830739322, -69.75243458443009], [0.127646315114276, -69.70990488065387], [0.110438063161013, -69.69331674588825], [0.115786573903222, -69.64763477974222], [0.105993889983893, -69.61316659940351], [0.078372836923933, -69.59146249784094], [0.029977858082617, -69.58391773872631], [-0.2731173364173, -69.61755909614833], [-0.576212530917218, -69.65120045357034], [-0.963217332351036, -69.6410201964088], [-1.024040493158594, -69.65771168403909], [-1.063883022455627, -69.66194915148705], [-1.083235846348913, -69.6662382953673], [-1.091323208002621, -69.67207773221628], [-1.0994105696563, -69.68261972440384], [-1.104888271479297, -69.69471200956013], [-1.104965786127678, -69.70520232531531], [-1.098557908523503, -69.70912973416954], [-1.06393469888792, -69.72106699002897], [-1.174883999018618, -69.70742441190392], [-1.286556769201354, -69.71254037870078], [-1.317485113927972, -69.72086028429982], [-1.398177862951798, -69.76809254341461], [-1.505070563147484, -69.80814177844078], [-1.500497198889718, -69.82674529406584], [-1.48830156086882, -69.83553028755549], [-1.452593146155067, -69.84105966581066], [-1.489645148108337, -69.87718149198272], [-1.508946295569416, -69.88870533638377], [-1.586900193681686, -69.91077117297243], [-1.609276088864078, -69.92126148872771], [-1.631962042640225, -69.93547250760794], [-1.547212693681502, -69.94033009224336], [-1.462670050452033, -69.93366383247775], [-1.466985032548365, -69.96477304471742], [-1.47742367187135, -69.99707081489983], [-1.473806321610937, -70.02280567818119], [-1.435953334957077, -70.03453622831148], [-1.355958217769285, -70.03339934680103], [-1.313764410802975, -70.037636814249], [-1.291414353836757, -70.05122771594176], [-1.543931240230989, -70.0811225320226], [-1.796448126625222, -70.11101734810345], [-1.810917527666987, -70.1184070779212], [-1.841458299151498, -70.14047291450979], [-1.858201463214073, -70.14775929146296], [-1.876985846352085, -70.14967131945775], [-1.901351284177764, -70.16698292427549], [-2.157743902993872, -70.18879037870273], [-2.314426845702798, -70.17561288846827], [-2.793854946290651, -70.29276336047398]], [[4.101796502304609, -70.27333302193222], [4.082366163762828, -70.27033578885928], [4.077095167669114, -70.26940561307799], [4.071514112981561, -70.26759693794779], [4.065726352564837, -70.26465138130715], [4.053530714544053, -70.25395435982273], [4.054977654648127, -70.2446526020102], [4.063245883814886, -70.23493743273936], [4.071617465846145, -70.22284514758306], [4.088360629908692, -70.17628468208802], [4.097145623398347, -70.16279713325991], [4.107687615585888, -70.15044646594217], [4.118126254908873, -70.13530527128064], [4.120193312200513, -70.12238616320762], [4.105827264023418, -70.11654672635862], [4.050016717148139, -70.11716684354619], [4.03172326011682, -70.1139112283118], [3.98965864423127, -70.09592782987421], [3.979116652043729, -70.09458424263461], [3.865635206730786, -70.11897551867638], [3.800729607772155, -70.1238331033118], [3.756081170271983, -70.11375619901494], [3.768793572615749, -70.11236093534305], [3.761868930688706, -70.10249073677525], [3.758871697615774, -70.09349903755646], [3.760938754907414, -70.08579924914497], [3.769103631209504, -70.0798564594314], [3.628026971052691, -70.0532947732334], [3.577177361677514, -70.05386321398859], [3.47795861167711, -70.06704070422305], [3.456667921572858, -70.06750579211365], [3.413156365583148, -70.06388844185324], [3.393002556989245, -70.06559376411886], [3.370988396832928, -70.07505055122826], [3.336468540062015, -70.10073373807734], [3.31352420412432, -70.10714161568151], [3.122734816102792, -70.10212900174923], [3.046770460633724, -70.12755380643686], [3.021552361675333, -70.12734710070762], [3.029303826519111, -70.12321298612434], [3.0513179866754, -70.10791676216594], [3.030544060894044, -70.09360239042104], [3.004189080425192, -70.09380909615028], [2.977007277039746, -70.10218067818153], [2.9534428239146, -70.11246428820763], [2.932565545268659, -70.11789031359822], [2.887607049174761, -70.11897551867638], [2.836447381205744, -70.12631357206185], [2.758002556986725, -70.12522836698369], [2.658680454121736, -70.1436251768796], [2.455488722350083, -70.15551075630674], [2.356269972349764, -70.13695891711397], [2.27317426922437, -70.08445566190537], [2.295911899432809, -70.07303517036891], [2.30438683432871, -70.07060637805115], [2.271210564797286, -70.04549163195733], [2.228215773130472, -70.02936858508224], [2.182430454119867, -70.0263713520093], [2.140572543963401, -70.04089242948336], [2.121865675473742, -70.05649871203549], [2.111427036150786, -70.06269988391051], [2.102021925473679, -70.06264820747822], [2.097887810890285, -70.05587859484802], [2.101505161150783, -70.04709360135838], [2.107292921567506, -70.03748178495212], [2.109773390317457, -70.02843840930103], [2.103262159848697, -70.01035165799887], [2.091066521827798, -69.99924122505614], [2.020786573910868, -69.97014739367582], [1.977895135108611, -69.9585201964101], [1.93366010906675, -69.95175058377991], [1.766745232764009, -69.94534270617574], [1.749898715836878, -69.94813323351943], [1.716929152034623, -69.96549651476954], [1.702356398128359, -69.96957895292056], [1.644375441096855, -69.97660694771227], [1.498957960627536, -70.04507822049902], [1.4637146338045, -70.05624032987404], [1.418859490575073, -70.04797210070738]], [[7.423454217161634, -70.20444833768715], [7.42820844893248, -70.20320810331214], [7.408157993203247, -70.19917734159333], [7.399579705442846, -70.19669687284338], [7.391724887734483, -70.19313119901526], [7.41156863773449, -70.16548430773904], [7.412705519244923, -70.1533920225828], [7.398132765338659, -70.14047291450979], [7.386247185911515, -70.13773406359832], [7.356378208046777, -70.13587371203582], [7.350073683307158, -70.13184295031702], [7.266461215858982, -70.06332000109808], [7.279793735390228, -70.06394011828553], [7.268424920286037, -70.0546900369053], [7.259329868202656, -70.04487151476988], [7.249511346067152, -70.0371717263584], [7.235868767942179, -70.0343811990146], [7.231424594765087, -70.00606251411863], [7.193287387733676, -69.99820769641028], [6.842662794633299, -70.02045440051192], [6.492038201532921, -70.04270110461357], [6.297218051792584, -70.00229013456135], [5.969589471062079, -70.00585580838947], [5.641960890331575, -70.00942148221758], [5.620256788769012, -70.02089365018642], [5.609404737987745, -70.0443030740146], [5.597725864289743, -70.05262297961366], [5.524655389029022, -70.09065683378049], [5.532613559602026, -70.11851043078579], [5.582326287466771, -70.15463225695774], [5.732601352571521, -70.24573780708835]], [[5.525998976268596, -70.23865813586434], [5.488585239289336, -70.23426563911951], [5.473599073924674, -70.22945973091637], [5.434945102570367, -70.21199309680176], [5.405696241893196, -70.19395802193188], [5.383268670278483, -70.1714787738849], [5.365698683299286, -70.14527882271292], [5.351332635122105, -70.11608163846802], [5.331798943715739, -70.10429941190546], [5.298415968455174, -70.10466114693156], [5.234957309600816, -70.11561655057743], [5.214906853871582, -70.13261809680145], [4.873015577828511, -70.19049570096836], [4.496397739285356, -70.21323333117678], [4.507353142931208, -70.22501555773928], [4.506629672879171, -70.23369719836434], [4.497017856472809, -70.23974334094248], [4.473970167670728, -70.24620289497895]], [[-3.441619025069315, -70.44861948026627], [-3.463064744470444, -70.4408680154225], [-3.505206875004461, -70.42138600044845], [-3.527040167647783, -70.41611500435462], [-4.020997958448372, -70.3963057053094], [-4.514955749248959, -70.37649640626418], [-5.008913540049548, -70.35668710721896], [-5.115082770193197, -70.37823617948476], [-5.567716640637713, -70.39694304797439], [-5.600221116549278, -70.38469573352121], [-5.588438889986719, -70.3776160622972], [-5.5503533593876, -70.36273324979712], [-5.56993872722623, -70.35126108182837], [-5.593606533215961, -70.34723032010956], [-5.618152838554579, -70.349245700969], [-5.640347866223948, -70.35565357857318], [-5.678485073255359, -70.37374032987535], [-5.689931403008018, -70.38288705839102], [-5.698561367200682, -70.39322234484932], [-5.70000830730487, -70.4000436339119], [-5.700395880547092, -70.40748504016193], [-5.70587358237006, -70.419370619589], [-5.741581997083699, -70.43761240018804], [-5.790467902031821, -70.44169483833912], [-5.826667242852267, -70.45104827258395], [-5.824677700209008, -70.48499968859969], [-5.851575283216931, -70.46407073352154], [-5.880901658542598, -70.44588062935479], [-5.941208055027175, -70.42412485135993]], [[-6.414951748062975, -70.45016977323503], [-6.444536505550104, -70.43564869576097], [-6.465542975276719, -70.42939584745366], [-6.609022589535073, -70.41425465279214], [-6.618195156266921, -70.4144613585213], [-6.629279750993476, -70.41973235461512], [-6.644498460303481, -70.4342017556568], [-6.65648739259521, -70.43776742948491], [-6.650002000342539, -70.44278004341729], [-6.648451707373795, -70.44567392362563], [-6.648270839860743, -70.44892953886001], [-6.645661180030004, -70.45513071073503], [-6.734777187517381, -70.45947153104757], [-6.753690761736152, -70.45647429797464], [-6.790329352231112, -70.44572560005793], [-7.062715826841554, -70.42381479276611], [-7.243505825214697, -70.44071298612555], [-7.284614427102952, -70.45683603300066], [-7.289084438496161, -70.48282927844346], [-7.388173997415805, -70.5065487608654], [-7.427499762389942, -70.52861459745407], [-7.429050055358687, -70.56478810005842], [-7.447059292012483, -70.56742359810524], [-7.436775681986376, -70.60013477974604], [-7.439798753275397, -70.61160694771479], [-7.454449021830129, -70.6192033832617], [-7.753836432313165, -70.68509083443384], [-8.047849493837703, -70.6753239887307], [-8.10017188153327, -70.65796070748067], [-8.149522874371968, -70.62349252714195], [-8.150401373720968, -70.60984994901688], [-8.14489783368191, -70.59667245878242], [-8.137766486025583, -70.58375335070949], [-8.13381323895527, -70.5711443012303], [-8.13957516115579, -70.54143035266242], [-8.15828202964542, -70.52814950956346], [-8.184197760439844, -70.52835621529263], [-8.211612107770662, -70.53915658964162], [-8.197297736025831, -70.50592864367792], [-8.237140265322864, -70.50649708443319], [-8.318840704776278, -70.51915781034467], [-8.39537350100062, -70.5131633441988], [-8.523169318058365, -70.53259368274058], [-8.556526455102755, -70.54840667102187], [-8.570685797550794, -70.55305754992813], [-8.585852830428422, -70.55212737414683], [-8.615075852889504, -70.5438074685479], [-8.657269659855814, -70.54365243925102], [-8.720805833358668, -70.5284595681572], [-8.754033779322356, -70.53083668404258], [-9.014043748398876, -70.57905079537093], [-9.027350429714119, -70.58313323352203], [-9.02996008954483, -70.58912769966781], [-9.02996008954483, -70.59563893013664], [-9.035670335313057, -70.6016850727148], [-9.06770972333402, -70.61124521268877], [-9.288548956733365, -70.64209604276701], [-9.69420895022455, -70.74834278755915], [-9.738211432321037, -70.77438770943425], [-9.75193152509459, -70.79092416776757], [-9.774539964222242, -70.837019545372], [-9.788983527047833, -70.85665658964284], [-9.810274217152084, -70.87014413847103], [-10.000055914743939, -70.92063201282019]]], &quot;type&quot;: &quot;MultiLineString&quot;}, &quot;properties&quot;: {&quot;featurecla&quot;: &quot;Antarctic Ice Shelf Edge&quot;, &quot;scalerank&quot;: 5}, &quot;type&quot;: &quot;Feature&quot;}, {&quot;geometry&quot;: {&quot;coordinates&quot;: [[75.79395796092479, -69.54960458768454], [75.79550825389344, -69.54815764758038], [75.76346886587248, -69.54231821073137], [75.5970707538927, -69.5543071430231], [75.56627160024675, -69.565624281695], [75.55190555206957, -69.59569996528889], [75.53185509634034, -69.59445973091387], [75.49475141795477, -69.59983407987227], [75.46157514842338, -69.58748341255443], [75.44565880727754, -69.58650156034093], [75.38323367706892, -69.58991220487218], [75.3190515481624, -69.58588144315338], [75.23502566925583, -69.56670948677314], [75.2179724465995, -69.56521087023668], [75.1997823424328, -69.56800139758045], [75.18303917837022, -69.57265227648672], [75.1686731301931, -69.57415089302319], [75.142628208318, -69.55962981554913], [75.12288781118247, -69.56118010851787], [75.03545128774465, -69.59223764432537], [75.05178104034883, -69.59647511177323], [75.08444054555736, -69.60985930773684], [75.09777306508869, -69.61874765409107], [75.04930057159879, -69.64303557726825], [75.03276411326544, -69.64210540148696], [75.00124148956746, -69.65171721789322], [74.96155398956722, -69.64515431099218], [74.9388163593589, -69.64675628039322], [74.89675174347326, -69.665308119586], [74.87587446482729, -69.67068246854438], [74.84827924998342, -69.66711679471629], [74.80497439972288, -69.64164031359635], [74.79763634633741, -69.6324935850807], [74.79722293487913, -69.62432870877862], [74.79474246612904, -69.61637053820559], [74.78120324086859, -69.60768889758062], [74.7389319192539, -69.60050587349201], [74.68911583852446, -69.60593189888262], [74.5691231627427, -69.63342376086199], [74.55527387888856, -69.64081349067965], [74.5488660012843, -69.6540426573464], [74.53512007029468, -69.74178923937797], [74.52716189972176, -69.75703378690407], [74.50948855987798, -69.74220265083636], [74.48230675649245, -69.73512297961236], [74.45264448435682, -69.73341765734673], [74.42804650258591, -69.73465789172175], [74.38381147654417, -69.74380462023741], [74.36861860545025, -69.74142750435195], [74.34588097524181, -69.72669972114882], [74.32107628774173, -69.71920663846649], [74.20645796091833, -69.73150562935194]], &quot;type&quot;: &quot;LineString&quot;}, &quot;properties&quot;: {&quot;featurecla&quot;: &quot;Antarctic Ice Shelf Edge&quot;, &quot;scalerank&quot;: 5}, &quot;type&quot;: &quot;Feature&quot;}, {&quot;geometry&quot;: {&quot;coordinates&quot;: [[76.52218224478185, -69.40134490343917], [76.4423938333232, -69.39245655708494], [76.40735721222927, -69.39684905382975], [76.37790164582293, -69.4056857237517]], &quot;type&quot;: &quot;LineString&quot;}, &quot;properties&quot;: {&quot;featurecla&quot;: &quot;Antarctic Ice Shelf Edge&quot;, &quot;scalerank&quot;: 5}, &quot;type&quot;: &quot;Feature&quot;}, {&quot;geometry&quot;: {&quot;coordinates&quot;: [[73.88399702341707, -69.74587167752905], [73.88699425648997, -69.7447347960186], [73.86518680206285, -69.74654347114881], [73.85805545440661, -69.74809376411766], [73.84978722523988, -69.74866220487283], [73.82673953643769, -69.74716358833636], [73.73134484242695, -69.75786060982078], [73.70250939320806, -69.75429493599268], [73.68442264190588, -69.73884368273733], [73.71573855987481, -69.72685475044568], [73.71832238148932, -69.70370370877885], [73.70416303904136, -69.67616017036728], [73.6852494648225, -69.65047698351829], [73.69692833852048, -69.64096851997652], [73.71129438669772, -69.61642221463788], [73.72162967315609, -69.60500172310142], [73.73392866404157, -69.59740528755451], [73.74643436065617, -69.59259937935138], [73.90993859242758, -69.56862151476793], [73.90559777211513, -69.55776946398663], [73.92285770050057, -69.55926808052311], [73.9345365741986, -69.55420379015852], [73.94518191925073, -69.54676238390849], [73.95934126169868, -69.54118132922093], [73.97360395701116, -69.5408712706272], [73.99923546742798, -69.54738250109595], [74.0126713398239, -69.54882944120013], [74.02011274607395, -69.54634897245018], [74.03468549998018, -69.53596200955948], [74.04212690623024, -69.53327483508029], [74.04708784373025, -69.53472177518447], [74.05949018748026, -69.54169809354391], [74.0674483580533, -69.54273162218968], [74.09545698435545, -69.53699553820528], [74.10847944529297, -69.53193124784069], [74.12170861195972, -69.52495492948134], [74.11075320831378, -69.51813364041877], [74.13783165883484, -69.51198414497603], [74.14930382680359, -69.50635141385618], [74.1604659361787, -69.49751474393435], [74.1140604999805, -69.483820489377], [74.09752404164709, -69.48165007922069], [74.08295128774085, -69.47684417101755], [74.05349572133451, -69.4559668923716], [74.038716261699, -69.44816375109554], [73.96440555206323, -69.43627817166848], [73.94063439320894, -69.42666635526213], [74.02455691925104, -69.41844980252776], [74.19198855987668, -69.42480600369964], [74.27684126169999, -69.4186565082569], [74.26381880076235, -69.39881275825684], [74.24108117055391, -69.37860727323073], [74.21534630727257, -69.36134734484526], [74.19353885284539, -69.35008188260558], [74.25193322133521, -69.35747161242332], [74.27219038279361, -69.35442270291811], [74.25441369008524, -69.33364877713674], [74.23157270701228, -69.32005787544406], [74.18113650909538, -69.30021412544397], [74.0741662942512, -69.23205291125096], [74.02590050649053, -69.21267424914149], [73.90435753774011, -69.13872527453184], [73.88048302602124, -69.13050872179747], [73.83552452992734, -69.12730478299537], [73.81919477732316, -69.12187875760469], [73.80782596221889, -69.11578093859424], [73.78829227081258, -69.10110483182332], [73.71449832549979, -69.02911956164075], [73.6186902200306, -68.96183684679673], [73.59285200388467, -68.94793588651022], [73.5689774921658, -68.94168303820291], [73.54551639190532, -68.93847909940082], [73.52370893747815, -68.93108936958308], [73.50479536325929, -68.91243417752572], [73.51006635935312, -68.91227914822886], [73.52598270049896, -68.91010873807264], [73.48660525909264, -68.87905120226516], [73.44164676299863, -68.86168792101512], [73.34449507028995, -68.83714161567649], [73.20476199737266, -68.76732675565013], [73.15463585804963, -68.74908497505109], [73.09861860544521, -68.73931812934796], [72.93428755075712, -68.7328585753115], [72.86049360544433, -68.7176657042177], [72.78060184112104, -68.71559864692595], [72.76830285023556, -68.71027597439993], [72.76809614450633, -68.69756357205607], [72.77264367054806, -68.68340422960813], [72.77429731638142, -68.6740507953633], [72.7467021015375, -68.64650725695174], [72.70412072132905, -68.63296803169125], [72.5651111184639, -68.61922210070162], [72.4681661314844, -68.62940235786314], [72.41814334502584, -68.62883391710795], [72.19975874216044, -68.59152353299318], [71.89032026559664, -68.59452076606611], [71.65405561715824, -68.65007293077984], [71.60703006377253, -68.65002125434756], [71.4611991718449, -68.60743987413912], [71.41283003121976, -68.60139373156098], [71.36394412627163, -68.60945525499848], [71.31671186715687, -68.62723194770683], [71.27382042835461, -68.65038298937367], [71.2549068541357, -68.67012338650918], [71.2505660338233, -68.68774504992065], [71.24384809762529, -68.6992172178895], [71.218113234344, -68.70066415799367], [71.15010704944785, -68.69275766385294], [71.12767947783317, -68.69353281033736], [71.07889692574963, -68.70123259874885], [71.05998335153083, -68.69802865994676], [71.01740197132233, -68.6708985329935], [70.86454308460293, -68.60774993273286], [70.83839480986319, -68.60402922960779], [70.81720747262358, -68.61508798611833], [70.7802071471026, -68.64836760851422], [70.76418745309206, -68.65617074979028], [70.73018436064405, -68.66748788846226], [70.71488813668566, -68.67513600044146], [70.70703331897732, -68.68252573025921], [70.69163374215435, -68.70076751085824], [70.68408898303971, -68.7054700661968], [70.60874474475821, -68.71683888130097], [70.47448937366386, -68.70831226997278], [70.42456994006989, -68.71311817817599], [70.39945519397611, -68.7126530902853], [70.37392703642388, -68.70671030057173], [70.35118940621544, -68.69585824979045], [70.3315523619446, -68.68009693794146], [70.28783410022567, -68.62402800890474], [70.2791524596006, -68.60857675564948], [70.26633670439224, -68.55917408637848], [70.25352094918378, -68.53488616320129], [70.23574425647541, -68.51400888455534], [70.2139368020483, -68.49943613064909], [70.2040149270482, -68.49602548611784], [70.1932662291315, -68.49416513455526], [70.17859012236056, -68.49514698676884]], &quot;type&quot;: &quot;LineString&quot;}, &quot;properties&quot;: {&quot;featurecla&quot;: &quot;Antarctic Ice Shelf Edge&quot;, &quot;scalerank&quot;: 5}, &quot;type&quot;: &quot;Feature&quot;}, {&quot;geometry&quot;: {&quot;coordinates&quot;: [[60.90349734888599, -67.46544239692099], [60.88427371607338, -67.45851775499385], [60.878175897063045, -67.45355681749385], [60.87331831242756, -67.44425505968132], [60.87021772649001, -67.42957895291039], [60.86370649602128, -67.42084563585304], [60.85058068221912, -67.41748666775408], [60.834767693937806, -67.4178484027802], [60.82081505721902, -67.42022551866557], [60.8128568866461, -67.42472136827497], [60.807895949146086, -67.4362452126761], [60.79363325383349, -67.44368661892605]], &quot;type&quot;: &quot;LineString&quot;}, &quot;properties&quot;: {&quot;featurecla&quot;: &quot;Antarctic Ice Shelf Edge&quot;, &quot;scalerank&quot;: 5}, &quot;type&quot;: &quot;Feature&quot;}, {&quot;geometry&quot;: {&quot;coordinates&quot;: [[61.448683709565216, -67.56507455837972], [61.34698449081486, -67.54564421983795], [61.37985070175256, -67.53381031684309], [61.38801557805465, -67.50957407009827], [61.37468305852332, -67.48678476345755], [61.34295372909605, -67.47903329861377], [61.32796756373148, -67.4848210590304], [61.29871870305425, -67.50523324978573], [61.28311242050211, -67.50952239366597], [61.26905643091874, -67.50430307400445], [61.24518191919992, -67.48368417752005], [61.23484663274144, -67.48094532660855], [61.17345503117872, -67.50151254666068], [61.16487674341829, -67.50523324978573], [61.16704715357463, -67.50533660265032]], &quot;type&quot;: &quot;LineString&quot;}, &quot;properties&quot;: {&quot;featurecla&quot;: &quot;Antarctic Ice Shelf Edge&quot;, &quot;scalerank&quot;: 5}, &quot;type&quot;: &quot;Feature&quot;}, {&quot;geometry&quot;: {&quot;coordinates&quot;: [[49.51618208191337, -67.02335051866403], [49.465125766809024, -67.00991464626813], [49.38564741394413, -66.9781853168409], [49.34533979675649, -66.95183033637207]], &quot;type&quot;: &quot;LineString&quot;}, &quot;properties&quot;: {&quot;featurecla&quot;: &quot;Antarctic Ice Shelf Edge&quot;, &quot;scalerank&quot;: 5}, &quot;type&quot;: &quot;Feature&quot;}, {&quot;geometry&quot;: {&quot;coordinates&quot;: [[48.74723676941028, -67.21739552191994], [48.76646040222289, -67.22271819444605], [48.77958621602505, -67.22664560330027], [48.789508091025084, -67.23258839301376], [48.795605910035476, -67.24127003363881], [48.77028445821253, -67.25563608181592], [48.7569519386812, -67.26101043077432], [48.742895949097715, -67.26462778103472], [48.76542687357704, -67.29248137804011], [48.7863041522229, -67.29909596137344], [48.84480187357735, -67.2903109678838], [48.94092003764024, -67.30204151801408], [49.00086469909883, -67.29372161241504], [49.18658979675587, -67.30633066189432], [49.221833123578904, -67.3127385394985]], &quot;type&quot;: &quot;LineString&quot;}, &quot;properties&quot;: {&quot;featurecla&quot;: &quot;Antarctic Ice Shelf Edge&quot;, &quot;scalerank&quot;: 5}, &quot;type&quot;: &quot;Feature&quot;}, {&quot;geometry&quot;: {&quot;coordinates&quot;: [[40.84311974463907, -68.72009449653535], [40.78317508318054, -68.70634856554571], [40.76136762875336, -68.70696868273328], [40.70245649594068, -68.72712249132708]], &quot;type&quot;: &quot;LineString&quot;}, &quot;properties&quot;: {&quot;featurecla&quot;: &quot;Antarctic Ice Shelf Edge&quot;, &quot;scalerank&quot;: 5}, &quot;type&quot;: &quot;Feature&quot;}, {&quot;geometry&quot;: {&quot;coordinates&quot;: [[37.28106326676027, -69.72840504341444], [37.286024204260286, -69.7290251606019], [37.27341515478105, -69.71641611112271], [37.26628380712475, -69.71207529081018], [37.27124474462488, -69.70184335721636], [37.27806603368737, -69.69145639432568], [37.28158003108325, -69.68292978299758], [37.28643761571857, -69.67631519966423], [37.29790978368743, -69.67161264432559], [37.290054965979095, -69.66246591580993], [37.31144900894793, -69.65574797961202], [37.334393344885484, -69.64226043078384], [37.3545471534793, -69.62489714953378], [37.36798302587522, -69.60686207466391], [37.37997195816695, -69.59554493599202], [37.452835727698414, -69.56335051867418], [37.51763797379249, -69.52345631294487], [37.5544315935843, -69.50702320747604], [37.56776411311563, -69.49555103950719], [37.555568475094674, -69.49172698351764], [37.582543572751035, -69.47219329211129], [37.69158084488686, -69.44227263781426], [37.8225289243145, -69.38057097765778], [37.84257938004373, -69.37426645291819], [37.827799920408324, -69.37126921984526], [37.84505984879377, -69.36372446073065], [37.90025027848151, -69.35147714627746], [37.894669223793926, -69.34171030057433], [37.994508090981924, -69.32227996203257], [38.046494581867535, -69.30398650500123], [38.062617628742544, -69.28538298937619], [38.04349734879452, -69.27763152453241], [38.009597609211085, -69.27504770291779], [37.953063592283854, -69.27747649523553], [37.64124799983466, -69.32992807401178], [37.60021691259493, -69.34605112088687], [37.35392703629182, -69.4764049213431], [37.10763715998871, -69.60675872179934], [37.095751580561625, -69.62582732531507], [37.07208377457192, -69.67641855252882], [37.06081831233229, -69.67889902127877], [37.04407514826971, -69.66339609159121], [37.02474816259263, -69.6513554828672], [37.00387088394666, -69.64226043078384], [36.982373488113296, -69.63574920031508], [36.9096130714463, -69.62489714953378], [36.885945265456655, -69.61699065539315], [36.86176069514403, -69.61233977648689], [36.80946414566466, -69.6195228005754], [36.80470991389376, -69.61606047961186], [36.813081495925076, -69.610944512815], [36.81979943212298, -69.60293466580978], [36.72326785660175, -69.58371103299716], [36.65515831884113, -69.58407276802319], [36.62105187352853, -69.57823333117418], [36.52338341649687, -69.54727914823138], [36.5062268409759, -69.53859750760631], [36.500025669100864, -69.5300708962782], [36.50157596206964, -69.51503305448125], [36.499818963371695, -69.4990650369031], [36.49444461441334, -69.48397551867387], [36.48514285660087, -69.47183155708527], [36.47139692561126, -69.46413176867378], [36.4393575375903, -69.45855071398623], [36.42447472509019, -69.45420989367369], [36.37641564305869, -69.41819142036631], [36.392331984204645, -69.41271371854333], [36.223039992016425, -69.36150237414213], [36.16423221206833, -69.35964202257955], [36.19379113133925, -69.35437102648582], [36.223763462068575, -69.3562830544806], [36.60554894384086, -69.43570973091322], [36.66683719253905, -69.43689828885596], [36.71086551285174, -69.41772633247562], [36.7033207537371, -69.38987273547032], [36.655261671705716, -69.35979705187651], [36.51511518733014, -69.30160938911587], [36.179941847485054, -69.24967457466252], [35.844665154775385, -69.14937061958398], [35.797019484202224, -69.14906056099024], [35.78430708185846, -69.15293629341207], [35.77366173680633, -69.15810393664131], [35.76280968602504, -69.16161793403714], [35.749270460764535, -69.16068775825585], [35.73697146987905, -69.15789723091217], [35.710099725087275, -69.15500335070381], [35.697490675608094, -69.15603687934959], [35.67361616388928, -69.16358163846421], [35.65087853368084, -69.1766040994018], [35.64426395034741, -69.19148691190188], [35.668448520660036, -69.20461272570397], [35.639303012847506, -69.2031141091675], [35.614188266753615, -69.19717131945393], [35.59124393081595, -69.18590585721432], [35.54990278498252, -69.15479664497457], [35.50918175633649, -69.1304053689328], [35.49119835789901, -69.11547088000052], [35.4526477394092, -69.0962989236202], [35.23839725112708, -69.07490488065136], [35.13297732925167, -69.04245208117207], [35.07851036961597, -69.03428720487], [35.058459913886736, -69.03723276151064], [35.05081180190757, -69.04586272570332], [35.04574751154297, -69.05717986437529], [35.03365522638666, -69.06865203234403], [35.023113234199116, -69.07252776476597], [35.01091759617833, -69.07433643989617], [34.92957889175085, -69.07175261828155], [34.90136355971953, -69.06400115343777], [34.87790245945894, -69.04927337023456], [34.904050734198734, -69.02880950304701], [34.88400027846939, -69.00421152127609], [34.85599165216723, -68.97713307075512], [34.858368768052685, -68.94958953234355], [34.84441613133379, -68.94323333117167], [34.843796014146335, -68.93393157335913], [34.84699995294841, -68.9238029926299], [34.84441613133379, -68.91512135200492], [34.83645796076087, -68.91093556098926], [34.80607221857326, -68.90302906684862], [34.826122674302496, -68.89419239692668], [34.83490766779215, -68.88845631294227], [34.84338260268805, -68.88137664171833], [34.82302208836495, -68.87858611437456], [34.78405805841692, -68.88085987739535], [34.76349083836482, -68.8770358214058], [34.70375288263534, -68.84391122830668], [34.69806847508329, -68.83771005643166], [34.69507124201027, -68.82282724393158], [34.688973422999936, -68.81874480578058], [34.521231723780545, -68.78748056424395], [34.48547163263453, -68.78525847765545], [34.41477827325929, -68.79993458442627], [34.39596805190496, -68.79905608507737], [34.384805942529965, -68.7939401182805], [34.38490929539449, -68.79425017687424]], &quot;type&quot;: &quot;LineString&quot;}, &quot;properties&quot;: {&quot;featurecla&quot;: &quot;Antarctic Ice Shelf Edge&quot;, &quot;scalerank&quot;: 5}, &quot;type&quot;: &quot;Feature&quot;}, {&quot;geometry&quot;: {&quot;coordinates&quot;: [[38.815129835776816, -70.05531015409275], [38.81502648291223, -70.05520680122818], [38.779266391766214, -70.04445810331148], [38.75394493994321, -70.02554452909268], [38.73627160009937, -70.0007398415926], [38.730173781089036, -69.97242115669661], [38.73885542171399, -69.94198373807669], [38.758699171714056, -69.91661060982143], [38.80727501806848, -69.87516611112336], [38.79115197119336, -69.8682931456285], [38.798696730307995, -69.85904306424825], [38.71394738134933, -69.83237802518569], [38.61875939306765, -69.81832203560222], [38.5264652849944, -69.82721038195645], [38.45101769384826, -69.86943002713895], [38.421768833171086, -69.9015727680245], [38.40678266780645, -69.91201140734745], [38.38797244645224, -69.91464690539428], [38.37577680843134, -69.91102955513388], [38.35820682145214, -69.89676685982135], [38.34776818212919, -69.88999724719108], [38.33805301285821, -69.88674163195668], [38.31634891129568, -69.88229745877959], [38.23470014827444, -69.84679574979509], [38.22188439306609, -69.83320484810231], [38.2272587420245, -69.82266285591476], [38.259504835774635, -69.79160532010738], [38.271493768066364, -69.77563730252913], [38.26487918473293, -69.77605071398753], [38.258781365722484, -69.77553394966455], [38.24400190608708, -69.77181324653958]], &quot;type&quot;: &quot;LineString&quot;}, &quot;properties&quot;: {&quot;featurecla&quot;: &quot;Antarctic Ice Shelf Edge&quot;, &quot;scalerank&quot;: 5}, &quot;type&quot;: &quot;Feature&quot;}, {&quot;geometry&quot;: {&quot;coordinates&quot;: [[9.08051069503287, -70.08931324654088], [9.086711866907905, -70.08760792427526], [9.030074497116004, -70.09143198026482], [9.011987745813826, -70.08977833443149], [8.996071404667958, -70.08383554471791], [8.983979119511673, -70.07231170031677], [9.086091749720424, -70.0497290994053], [9.06345747237657, -70.04642180773862], [9.043303663782751, -70.04104745878024], [9.025010206751432, -70.03190073026457], [9.00785363123046, -70.01670785917075], [9.039686313522253, -70.0173279763583], [9.05539594893898, -70.01474415474368], [9.070795525762037, -70.00988657010826], [9.045887485397287, -69.99510711047276], [9.017672153365965, -69.98559864693107], [8.988113234095039, -69.98130950305082], [8.934163038782259, -69.98208464953517], [8.823575473677693, -69.96022551867573], [8.75577599451077, -69.93412892036834], [8.730041131229399, -69.92777271919645], [8.647875603885296, -69.9172307270089], [8.536151157270268, -69.8764063454983], [8.479203728884642, -69.86612273547227], [8.428147413780238, -69.88550139758166], [8.420085890342733, -69.9033297667224], [8.40799360518642, -69.96368783963926], [8.407890252321835, -69.97805388781646], [8.433418409874037, -69.9899911436759], [8.490985955447144, -70.00730274849364], [8.512276645551395, -70.02476938260827], [8.404479607790591, -70.00218678169678], [8.354973585654932, -69.9854952940665], [8.310221795290175, -69.9536109353424], [8.242422316123282, -69.88911874784216], [8.218134392946098, -69.87588958117541], [8.188885532268898, -69.8736158181546], [8.153022088258297, -69.88054046008168], [8.125943637737407, -69.89676685982135], [8.12273969893522, -69.92234669380576], [8.111577589560227, -69.92493051542039], [8.101035597372743, -69.92942636502978], [8.081811964560131, -69.94244882596738], [8.09607465987267, -69.94188038521212], [8.110130649456039, -69.94296559029027], [8.123979933310267, -69.94565276476948], [8.13751915857074, -69.94989023221734], [8.115504998414423, -69.94782317492569], [8.092974073935153, -69.94952849719131], [8.049152459351603, -69.9585718728424], [8.0581441585704, -69.96596160266014], [8.068169386435073, -69.9720077452383], [8.079021437216369, -69.97634856555084], [8.090390252320617, -69.97913909289461], [8.032822706747453, -69.98172291450913], [8.014322543986964, -69.98627044055084], [8.030962355184954, -69.99557219836336], [8.046051873414115, -70.00730274849364], [8.02279747888278, -70.0156226540926], [8.012048780966069, -70.0214104145093], [8.002023553101509, -70.0286451150302], [8.01669965987233, -70.04027231229581], [7.99592573409106, -70.04957407010843], [7.986107211955556, -70.06347503039493], [7.97339480961179, -70.09939015083773], [7.961922641642929, -70.11422128690555], [7.944662713257486, -70.12972421659309], [7.925542433309431, -70.14300505969213], [7.908075799194819, -70.15132496529108], [7.839966261434171, -70.1647091612547]], &quot;type&quot;: &quot;LineString&quot;}, &quot;properties&quot;: {&quot;featurecla&quot;: &quot;Antarctic Ice Shelf Edge&quot;, &quot;scalerank&quot;: 5}, &quot;type&quot;: &quot;Feature&quot;}, {&quot;geometry&quot;: {&quot;coordinates&quot;: [[10.574372999726364, -70.00900807075926], [10.513188103892787, -69.99371184680086], [10.497065057017664, -69.98575367622794], [10.489933709361452, -69.9720077452383], [10.48083865727807, -69.96368783963926], [10.459444614309234, -69.96549651476954], [10.434846632538324, -69.97035409940497], [10.415209588267402, -69.97169768664457], [10.428955519257045, -69.9679769835195], [10.44104780441333, -69.96244760526433], [10.45127973800706, -69.95423105252986], [10.459341261444678, -69.94275888456112], [10.380069614308923, -69.92839283638392], [10.346996697642084, -69.93051157010794], [10.337178175506665, -69.91681731555059], [10.311339959360708, -69.91309661242553], [10.226693963266655, -69.91118458443074], [10.144528435922552, -69.91847096138392], [9.905163201546571, -69.9711809223216], [9.899788852588244, -69.9814645323477], [9.88955691899443, -69.98451344185293], [9.862685174202625, -69.98503020617581], [9.867439405973556, -69.98854420357172], [9.880565219775633, -70.00104990018633], [9.841704542692185, -70.01582935982185], [9.849456007535963, -70.01825815213951], [9.87105675623394, -70.02771493924891], [9.703521762743662, -70.01298715604577], [9.645540805712159, -70.02104867948329], [9.383231235398682, -70.08631601346795], [9.337239210658907, -70.0888481586502]], &quot;type&quot;: &quot;LineString&quot;}, &quot;properties&quot;: {&quot;featurecla&quot;: &quot;Antarctic Ice Shelf Edge&quot;, &quot;scalerank&quot;: 5}, &quot;type&quot;: &quot;Feature&quot;}, {&quot;geometry&quot;: {&quot;coordinates&quot;: [[12.426559685931664, -70.08543751411895], [12.430383741921304, -70.08218189888457], [12.401651645567, -70.08321542753043], [12.328271111712553, -70.0816134581294], [12.25788781093101, -70.06357838325951], [11.999195590877918, -69.95402434680071], [11.970566847388199, -69.93640268338922], [11.953203566138143, -69.92963307075894], [11.938940870825519, -69.93211353950898], [11.931292758846325, -69.9459628233632], [11.936150343481756, -69.95965707792055], [11.947932570044316, -69.97128427518618], [11.960955030981921, -69.97851897570706], [11.88550743983572, -69.95004526151429], [11.86680057134609, -69.94999358508191], [11.855535109106484, -69.96472136828513], [11.861839633846103, -69.9823430316967], [11.889021437231634, -70.01345224393637], [11.855741814835653, -69.99820769641028], [11.837861769262645, -69.99541716906649], [11.826492954158454, -70.00415048612385], [11.815950961970913, -70.0254411762281], [11.80427208827291, -70.03556975695726], [11.766031528376942, -70.04952239367614], [11.734612257543517, -70.05531015409275], [11.549817335667768, -70.0330892882073], [11.412874790094264, -69.99014617297277], [11.376494581760767, -69.98606373482167], [11.343318312229457, -69.99247161242585], [11.304354282281338, -69.95510955187886], [11.192009718478829, -69.95655649198304], [10.992228631238419, -69.98316985461332], [10.99646609868637, -69.99448699328529], [11.003597446342582, -70.00337533963943], [11.013312615613529, -70.00926645292071], [11.025198195040673, -70.01174692167075], [11.008661736707268, -70.01722462349373], [10.999359978894717, -70.0249760883375], [10.992331984103004, -70.03360605253019], [10.978482700248776, -70.04306283963959]], &quot;type&quot;: &quot;LineString&quot;}, &quot;properties&quot;: {&quot;featurecla&quot;: &quot;Antarctic Ice Shelf Edge&quot;, &quot;scalerank&quot;: 5}, &quot;type&quot;: &quot;Feature&quot;}, {&quot;geometry&quot;: {&quot;coordinates&quot;: [[15.609001092194376, -69.82049244575853], [15.576548292715103, -69.82591847114914], [15.554120721100475, -69.82550505969083], [15.530349562246187, -69.81914885851893], [15.504407993235645, -69.80581633898761], [15.522184685944097, -69.8076766905501], [15.538204379954522, -69.80659148547204], [15.551330193756712, -69.79966684354488], [15.560631951569235, -69.78411223742503], [15.520324334381513, -69.7690227191958], [15.50616499193356, -69.76623219185203], [15.543061964589953, -69.76261484159163], [15.559495070058802, -69.7560002582583], [15.57076053229838, -69.74266773872696], [15.547196079173318, -69.7385336241436], [15.524561801829464, -69.73088551216439], [15.536860792714947, -69.72985198351853], [15.54833296068378, -69.72654469185187], [15.558254835683783, -69.72065357857058], [15.566109653392118, -69.71186858508102], [15.49582970547516, -69.69326506945596], [15.496449822662726, -69.69114633573194], [15.501204054433572, -69.68902760200801], [15.509575636464803, -69.68680551541941], [15.5356205583399, -69.68261972440384], [15.546472609121196, -69.67895069771106], [15.556807895579595, -69.67398976021106], [15.566006300527533, -69.66742685331002], [15.573757765371312, -69.65895191841412], [15.519187452871165, -69.63786793403901], [15.34689822761004, -69.59518320096592], [15.411183709381106, -69.60231454862222], [15.426479933339522, -69.6006092263566], [15.444876743235426, -69.59569996528889], [15.454281853912534, -69.58825855903885], [15.442499627349946, -69.5790601540909], [15.44260298021453, -69.57647633247628], [15.442499627349946, -69.57575286242422], [15.4480806820375, -69.57389251086165], [15.487044711985618, -69.57260060005443], [15.50451134610023, -69.56970671984607], [15.510505812246095, -69.56298878364808], [15.497276645579348, -69.55053476346575], [15.48156701016265, -69.54386850370014], [15.42327599453742, -69.53218963000214], [15.444256626047945, -69.53115610135636], [15.454488559641675, -69.52908904406462], [15.464513787506348, -69.52588510526255], [15.162981805083277, -69.49617115669471], [14.861449822660205, -69.46645720812687], [14.534389682684932, -69.48084909452015], [14.207329542709658, -69.49524098091345], [13.878047316145768, -69.54960458768454], [13.834432407291473, -69.56593434028872], [13.809937778385148, -69.5709469542211], [13.817585890364342, -69.58185068143467], [13.760018344791149, -69.57875009549716], [13.734800245832758, -69.5808171527888], [13.7400712419265, -69.58851694120028], [13.85272586432282, -69.63621428820568], [13.744308709374451, -69.61885100695564], [13.714543084374299, -69.62737761828375], [13.746995883853657, -69.64071013781506], [13.738107537499445, -69.64086516711194], [13.731079542707704, -69.64226043078384], [13.715783318749317, -69.64794483833596], [13.782445916405862, -69.66287932726833], [13.761465284895337, -69.65848683052351], [13.741931593489, -69.65791838976824], [13.726221958072273, -69.66453297310167], [13.716403435936854, -69.68127613716423], [13.70679161953052, -69.69161142362263], [13.689118279686738, -69.69869109484657], [13.653358188540722, -69.70649423612262], [13.634237908592752, -69.71326384875292], [13.599718051821753, -69.73124724719042], [13.581217889061264, -69.73760344836239], [13.561684197654927, -69.7394121234926], [13.504013299217263, -69.73073048286753], [13.349087355206166, -69.67941578560175], [13.269298943747515, -69.67274952583604], [13.250798780987026, -69.72566619250296], [13.255242954164146, -69.73279754015917], [13.268678826560063, -69.74488982531548], [13.273226352601739, -69.75486337674785], [13.270229119528807, -69.76142628364889], [13.2608240088517, -69.76525033963853], [13.039132114319557, -69.8166167133366], [12.909320916402379, -69.88379607531604], [12.893197869527256, -69.89583668404006], [12.862192010152171, -69.93335377388401], [12.854130486714666, -69.9495801736236], [12.862295363016727, -69.96275766385807], [12.879141879943887, -69.9706124815664], [12.897021925516896, -69.9706641579987], [12.940946892964945, -69.9563497862539], [12.957173292704624, -69.95557463976947], [12.938259718485824, -69.96508310331114], [12.92823449062115, -69.9765035948477], [12.92596072760037, -69.99102467232167], [12.93009484218365, -70.00993824654056], [12.941050245829501, -70.0223405902906], [12.980427687235931, -70.03680999133228], [12.997584262756902, -70.04533660266048], [12.999547967183986, -70.048798923624]], &quot;type&quot;: &quot;LineString&quot;}, &quot;properties&quot;: {&quot;featurecla&quot;: &quot;Antarctic Ice Shelf Edge&quot;, &quot;scalerank&quot;: 5}, &quot;type&quot;: &quot;Feature&quot;}, {&quot;geometry&quot;: {&quot;coordinates&quot;: [[25.91224816254811, -70.28490854276563], [25.9153487484856, -70.28242807401558], [25.908424106558556, -70.2814978982343], [25.88847700369388, -70.27343637479679], [25.89312788260014, -70.24454924914562], [25.908630812287697, -70.21168303820804], [25.921136508902322, -70.19147755318184], [25.874214308381283, -70.17938526802563], [25.612421502390646, -70.18543141060377], [25.565602654734192, -70.1979371072184], [25.544518670359167, -70.23307708117687], [25.51278934093193, -70.19251108182772], [25.78553755056842, -70.14078297310353], [25.85964155447502, -70.09980356229615], [25.839074334422804, -70.07417205187934], [25.83411339692279, -70.06078785591573], [25.836593865672853, -70.04766204211356], [25.746883579214114, -70.0272498513583], [25.556197544057085, -70.04223601672297], [25.46266320160879, -70.0371717263584], [25.47444542817138, -70.03525969836352], [25.446126743275386, -70.01629444771244], [25.204694451607736, -70.00404713325926], [25.15198449067009, -70.00895639432699], [25.112503696399074, -70.02445932401453], [25.136791619576258, -70.03515634549895], [25.145163201607488, -70.03779184354585], [25.104752231555295, -70.04771371854585], [24.84357954275214, -70.06776417427517], [24.803375278429087, -70.08099334094183], [24.85267459483552, -70.1094670551347], [24.926675245877533, -70.1143763162024], [25.06692508311761, -70.10460947049927], [24.82197879405416, -70.12672698352016], [24.807716098741622, -70.13391000760876], [24.8069926286895, -70.14843108508273], [24.815157504991674, -70.16377898547341], [24.827353143012544, -70.17328744901519], [24.81309044769995, -70.18413949979646], [24.866937290148144, -70.22119150174973], [24.897116326606522, -70.23597096138522], [24.927502068794155, -70.24377410266129], [24.885850864366944, -70.24098357531751], [24.712528110460028, -70.19101246529124], [24.69444135915785, -70.19282114042144], [24.660644972438973, -70.20517180773919], [24.653616977647232, -70.21462859484868], [24.664365675563943, -70.22951140734867], [24.65020633311599, -70.23783131294772], [24.73815962087673, -70.27591684354684], [24.722966749782984, -70.28072275174996], [24.733715447699694, -70.29126474393752], [24.68999718598073, -70.2913680968021], [24.67563113780355, -70.29421030057816], [24.683796014105724, -70.30273691190627], [24.673667433376465, -70.30273691190627], [24.66374555837649, -70.3043905577396], [24.654340447699298, -70.30749114367711], [24.645658807074312, -70.31229705188025], [24.658681268011804, -70.31648284289591], [24.643695102647143, -70.31493254992715], [24.632429640407565, -70.31999684029174], [24.626125115667975, -70.33069386177615], [24.62602176280339, -70.34619679146378], [24.598943312282415, -70.34133920682828], [24.54199588389679, -70.32454436633341], [24.492489861761214, -70.32542286568241], [24.437919549260954, -70.31462249133341], [24.338184034937683, -70.28211801542184], [24.311415643010434, -70.27777719510932], [24.285680779729148, -70.27937916451037], [24.252194451603913, -70.28578704211455], [24.230490350041435, -70.29653574003125], [24.240515577906024, -70.31178028755735], [24.219431593530913, -70.31012664172403], [24.16165734222858, -70.29617400500523], [24.143053826603534, -70.2962256814375], [24.10719038259299, -70.30506235135945], [24.089827101342877, -70.30640593859904], [23.966940545352827, -70.27746713651558], [23.92849327972769, -70.28180795682803], [23.93965538910271, -70.28738901151559], [23.91712446462344, -70.30485564563028], [23.873922967227458, -70.31193531685422], [23.793307732852185, -70.30981658313029], [23.75775434743531, -70.2994812966719], [23.730055779726882, -70.28025766385927], [23.707318149518443, -70.25416106555188], [23.68664757660173, -70.22362029406739], [23.704010857851785, -70.21757415148923], [23.709901971133064, -70.21654062284345], [23.68871463389337, -70.21152800891116], [23.652231072695315, -70.19220102323398], [23.630733676861894, -70.18744679146313], [23.160064731547493, -70.13577035917123], [23.087304314880583, -70.09830494575968], [23.04865034352619, -70.08848642362418], [23.06084598154709, -70.07820281359807], [23.01712771982821, -70.07691090279084], [22.996147088317684, -70.07866790148876], [22.974132928161396, -70.08579924914497], [22.982711215921768, -70.09561777128047], [22.954289178161304, -70.10419605904087], [22.82365115732739, -70.08977833443149], [22.758538852639674, -70.09003671659292], [22.726912876077023, -70.09592782987421], [22.731357049254143, -70.11246428820763], [22.7298067562854, -70.14052459094208], [22.72329552581664, -70.16884327583807], [22.71337365081655, -70.18574146919751], [22.68980919769149, -70.19881560656731], [22.66645145029551, -70.20765227648923], [22.298825310971154, -70.25746835721864], [22.035223829850295, -70.21077870064293], [21.771622348729437, -70.16408904406723], [21.521508416436774, -70.08458485298618], [21.27139448414411, -70.00508066190514], [21.302193637790054, -69.97738209419661], [21.443477003676094, -69.94126026802465], [21.430144484144762, -69.9351624490142], [21.40885379404051, -69.91692066841517], [21.39572798023832, -69.91164967232135], [21.367099236748686, -69.90839405708698], [21.353766717217383, -69.90482838325886], [21.341157667738173, -69.8974386534411], [21.38084516773833, -69.87418425890979], [21.332992791436084, -69.8718588194566], [21.318420037529734, -69.86813811633164], [21.306017693779694, -69.85924976997741], [21.29134158700876, -69.83733896268569], [21.28379682789415, -69.8314478494044], [21.190055779716715, -69.81620330187829], [20.717939894298155, -69.79589446398762], [20.67897586435012, -69.80281910591468], [20.663472934662565, -69.80287078234696], [20.287630242603754, -69.7632349587791], [19.911787550544943, -69.72359913521122], [19.811018507575767, -69.73636321398737], [19.711076287523326, -69.76106454862287], [19.72833621590877, -69.7811666807844], [19.723892042731677, -69.79000335070633], [19.705495232835773, -69.78938323351886], [19.662810499762685, -69.77656747831043], [19.643070102627178, -69.77641244901355], [19.62529340991881, -69.78240691515941], [19.613201124762526, -69.79573943469074], [19.62332970549167, -69.79966684354488], [19.632218051845882, -69.80529957466473], [19.63996951668966, -69.81248259875332], [19.646480747158506, -69.82126759224286], [19.626843702887584, -69.81806365344079], [19.605242954189578, -69.81754688911789], [19.584469028408222, -69.82131926867515], [19.567312452887336, -69.83103443794609], [19.697330356533683, -69.88023040148794], [19.68420454273152, -69.88415781034216], [19.707665642992083, -69.8952165668526], [19.801716749763244, -69.90761891060264], [19.923466424242918, -69.95433440539443], [19.804507277107007, -69.93345712674858], [19.833342726325895, -69.96069060656633], [19.350478142990625, -69.92973642362352], [19.225731235438076, -69.9423454731028], [19.19885949064627, -69.94968352648817], [19.182116326583696, -69.9675118956289], [19.16578657397943, -69.9800692686758], [19.136434360437676, -69.98637379341541], [19.0302909685102, -69.9922649066967], [18.978821241947458, -69.98389332466544], [18.821518182050994, -69.92994312935267], [18.511459588299715, -69.88136728299838], [18.3947742041847, -69.8395610492742], [18.090761753011634, -69.78000396105782], [17.78674930183857, -69.72044687284142], [17.76442508308844, -69.70649423612262], [17.75408979663007, -69.68763233833613], [17.74613162605712, -69.66820199979435], [17.73073204923415, -69.65228565864848], [17.726081170327888, -69.66251759224231], [17.72339399584868, -69.66639332466414], [17.711715122150707, -69.67207773221628], [17.701793247150704, -69.693626804482], [17.659418572671342, -69.70494394315386], [17.555135532306366, -69.71517587674768], [17.46346154142057, -69.70628753039347], [17.42749474454547, -69.71140349719033], [17.365689731524327, -69.73341765734673], [17.335820753659675, -69.74008391711234], [16.96736779141861, -69.69920785916945], [16.585685662510798, -69.72783660265918]], &quot;type&quot;: &quot;LineString&quot;}, &quot;properties&quot;: {&quot;featurecla&quot;: &quot;Antarctic Ice Shelf Edge&quot;, &quot;scalerank&quot;: 5}, &quot;type&quot;: &quot;Feature&quot;}, {&quot;geometry&quot;: {&quot;coordinates&quot;: [[32.51349897637658, -69.09449024848999], [32.511018507626545, -69.09180307401078], [32.49768598809533, -69.11019988390669], [32.46450971856393, -69.1208969053911], [32.05636925632268, -69.14260100695368], [31.5886975440813, -69.09262989692749], [31.564099562310275, -69.09604054145873], [31.537951287570593, -69.10622079862027], [31.49960737481007, -69.12864837023488], [31.481934034966287, -69.13541798286516], [31.45857628757028, -69.13774342231827], [31.04630171074575, -69.07805714302114], [31.014158969860205, -69.07836720161488], [30.998345981578836, -69.0764551736201], [30.990181105276747, -69.07061573677112], [30.9837732276726, -69.06038380317739], [30.97364464694334, -69.05500945421898], [30.900780877411762, -69.04431243273456], [30.748335402150815, -69.0535625141148], [30.696348911265204, -69.06756682726598], [30.6625525245463, -69.09821095161504], [30.686737094858927, -69.11071664822967], [30.694901971161016, -69.11345549914107], [30.653974236785814, -69.1052389464067], [30.612219679494046, -69.10368865343794], [30.59237592949387, -69.10647918078172], [30.546693963347934, -69.12466928494847], [30.531914503712414, -69.14306609484437], [30.52778038912902, -69.17381357205802], [30.519305454233233, -69.20244231554776], [30.491710239389363, -69.21443124783939], [30.50390587741026, -69.22616179796967], [30.503492465951922, -69.2313811176312], [30.51899539563948, -69.23665211372494], [30.531087680795792, -69.24579884224059], [30.53718549980624, -69.25938974393337], [30.524679803191532, -69.26083668403754], [30.48995324069142, -69.27039682401153], [30.477654249805994, -69.27024179471465], [30.44912885918086, -69.26347218208446], [30.38546349459733, -69.26388559354277], [30.22640343600284, -69.24497201932388], [30.156846958138033, -69.25200001411562], [30.12966515475256, -69.24745248807393], [30.056698032356337, -69.22114918403739], [29.993136020637394, -69.20931528104252], [29.97494591647063, -69.21195077908943], [29.91603478365795, -69.23200123481867], [29.877897576626424, -69.25039804471457], [29.74167850110507, -69.29437468859498], [29.717493930792443, -69.29887053820437], [29.654345330531783, -69.29794036242309], [29.631917758917098, -69.30197112414189], [29.391829054489165, -69.39545379015787], [29.37022830579116, -69.39912281685056], [29.35007449719734, -69.39819264106936], [29.308733351363855, -69.39095794054847], [29.28795942558247, -69.39033782336092], [29.2654285011032, -69.39560881945474], [29.24723839693644, -69.40599578234543], [29.243310988082328, -69.4191215961475], [29.27948449068657, -69.44258269640808], [29.289819777144942, -69.45653533312688], [29.30170535657203, -69.4685759418509], [29.322375929488828, -69.47384693794461], [29.313384230270003, -69.47405364367378], [29.30625288261382, -69.47555226021024], [29.290543247197093, -69.48134002062696], [29.333021274540954, -69.48955657336133], [29.31400434745757, -69.4959644509656], [29.3462504412077, -69.50237232856978], [29.31483117037419, -69.51239755643434], [29.332814568811784, -69.51911549263234], [29.31607140474921, -69.53255136502824], [29.306149529749234, -69.55389373156478], [29.295814243290806, -69.56986174914294], [29.278037550582383, -69.5669161925023], [29.28537560396785, -69.59414967232013], [29.315554640426342, -69.61109954211186], [29.34645714693687, -69.62288176867443], [29.35606896334309, -69.63481902453378], [29.334881626103424, -69.64794483833596], [29.303772413863783, -69.64768645617451], [29.24207075370731, -69.64040007922134], [29.315968051884624, -69.67724537544544], [29.290336541467866, -69.69099130643508], [29.221606886519737, -69.69827768338826], [29.137167596154768, -69.72390919380504], [29.078256463342058, -69.73460621528946], [28.938936801883187, -69.74504485461235], [28.864316033653694, -69.73631153755508], [28.851810337038984, -69.73228077583627], [28.82824588391395, -69.720550225706], [28.81470665865345, -69.7177596983623], [28.783080682090883, -69.7231857237529], [28.729853956830254, -69.7479387348207], [28.70153527193426, -69.75083261502905], [28.694713982871775, -69.74804208768528], [28.68386193209048, -69.7394121234926], [28.66680870943418, -69.73558806750295], [28.666705356569594, -69.72938689562793], [28.668255649538253, -69.7218938129456], [28.664741652142453, -69.71574431750287], [28.629394972454804, -69.70349700304969], [28.616579217246453, -69.69564218534134], [28.560561964642034, -69.67595346463813], [28.49813683443344, -69.68525522245065], [28.381038038860112, -69.73109221789355], [28.42620324068315, -69.7366732725811], [28.41080366386018, -69.74070403429991], [28.442326287558274, -69.75398487739885], [28.39013309094338, -69.75103932075821], [28.409873488078887, -69.7613746072166], [28.41669477714146, -69.7668006326073], [28.430854119589412, -69.78648935331051], [28.347034946412066, -69.81723683052417], [28.162240024536317, -69.84028451932633], [28.152318149536228, -69.83857919706071], [28.132060988077853, -69.83248137805026], [28.121725701619454, -69.83072437935235], [28.110666945109017, -69.83186126086271], [28.095990838338082, -69.83811410917002], [28.08741255057768, -69.83702890409195], [28.05175581229622, -69.8237997374252], [28.03449588391078, -69.82312794380536], [27.979615512816792, -69.84235157661797], [27.97341434094176, -69.8520667458889], [27.98922732922304, -69.87077361437855], [28.006383904743927, -69.8772848448473], [28.07790408703599, -69.88302092883171], [28.097541131306826, -69.88736174914425], [28.112837355265242, -69.89402800890986], [28.125756463338234, -69.90301970812865], [28.137745395629878, -69.9145435525297], [28.094750603963064, -69.9262224262277], [27.75017215344087, -69.97107756945701], [27.509876743283684, -69.9706124815664], [27.41913292817918, -69.94296559029027], [27.36962690604352, -69.94079518013396], [27.116309034948813, -70.00869801216552], [27.07011030447981, -70.01427906685308], [27.024324985469207, -70.01071339302489], [26.79229780447875, -69.9432239724517], [26.49464155447754, -69.92973642362352], [26.443791945102333, -69.93831471138401], [26.403587680779196, -69.9612073708893], [26.454540643019044, -69.9778471820873], [26.558927036248605, -69.9594503721914], [26.611843702915536, -69.95929534289453], [26.58455854666539, -69.96198251737364], [26.5527258643736, -69.96911386502995], [26.527507765415123, -69.98311817818103], [26.520066359165156, -70.00632089628007], [26.54683475109232, -70.00451222114987], [26.597270949009186, -69.99107634875396], [26.62362592947801, -69.98730396919669], [26.614324171665487, -69.99117970161853], [26.606262648227982, -69.99660572700923], [26.599648064894637, -70.00368539823324], [26.59437706880081, -70.01226368599364], [26.640265740676, -70.01841318143637], [26.662486606561544, -70.0253894997958], [26.67633589041577, -70.03820525500416], [26.666103956821956, -70.043837986124], [26.655355258905246, -70.04833383573342], [26.64408979666564, -70.05158945096778], [26.63251427583222, -70.05324309680111], [26.646776971144845, -70.06797088000434], [26.68026329926991, -70.08063160591581], [26.694319288853364, -70.09520435982208], [26.666620721144852, -70.09980356229615], [26.67313195161367, -70.10264576607213]], &quot;type&quot;: &quot;LineString&quot;}, &quot;properties&quot;: {&quot;featurecla&quot;: &quot;Antarctic Ice Shelf Edge&quot;, &quot;scalerank&quot;: 5}, &quot;type&quot;: &quot;Feature&quot;}, {&quot;geometry&quot;: {&quot;coordinates&quot;: [[42.565288527198106, -68.21919483833028], [42.551232537614624, -68.22203704210625], [42.53976036964582, -68.2290133604657], [42.53614301938552, -68.23547291450215], [42.53273237485416, -68.24430958442409], [42.525290968604224, -68.25107919705428], [42.50968468605197, -68.25128590278354], [42.490047641781075, -68.24803028754914], [42.481469354020646, -68.2500456684085], [42.47227094907271, -68.26591033312208], [42.44126508969754, -68.29024993273156], [42.43330691912462, -68.30156707140344], [42.431549920426676, -68.31050709418994], [42.42751915870798, -68.31629485460667], [42.41263634620782, -68.31820688260143], [42.36509402849936, -68.318826999789], [42.31796512224918, -68.32518320096088], [42.33088423032211, -68.34027271919012], [42.31424441912412, -68.35334685655991], [42.29677778500951, -68.36125335070065], [42.277760857926125, -68.36564584744536], [42.257090285009326, -68.36812631619541], [42.25409305193642, -68.38140715929445]], &quot;type&quot;: &quot;LineString&quot;}, &quot;properties&quot;: {&quot;featurecla&quot;: &quot;Antarctic Ice Shelf Edge&quot;, &quot;scalerank&quot;: 5}, &quot;type&quot;: &quot;Feature&quot;}, {&quot;geometry&quot;: {&quot;coordinates&quot;: [[47.83814497253161, -67.55758147569739], [47.783367954302264, -67.54300872179104], [47.74636762878134, -67.5530339496557], [47.7155684751354, -67.54202686957754], [47.68301232279151, -67.52569711697329], [47.65490034362466, -67.51680877061906], [47.60498091003069, -67.52394011827538]], &quot;type&quot;: &quot;LineString&quot;}, &quot;properties&quot;: {&quot;featurecla&quot;: &quot;Antarctic Ice Shelf Edge&quot;, &quot;scalerank&quot;: 5}, &quot;type&quot;: &quot;Feature&quot;}, {&quot;geometry&quot;: {&quot;coordinates&quot;: [[47.55888553242636, -67.52089120877017], [47.563639764197205, -67.52120126736389], [47.53284061055126, -67.50213266384823], [47.52043826680125, -67.4959831684055], [47.50028445820743, -67.47655282986372], [47.465144484248924, -67.42802865994165], [47.44106326680088, -67.40942514431657]], &quot;type&quot;: &quot;LineString&quot;}, &quot;properties&quot;: {&quot;featurecla&quot;: &quot;Antarctic Ice Shelf Edge&quot;, &quot;scalerank&quot;: 5}, &quot;type&quot;: &quot;Feature&quot;}, {&quot;geometry&quot;: {&quot;coordinates&quot;: [[48.57184695821172, -67.5230099424941], [48.567299432170046, -67.52853932074936], [48.558411085815806, -67.53350025824935], [48.516966587117736, -67.54099334093169], [48.4820333188884, -67.55427418403073], [48.473661736857196, -67.55892506293699], [48.45237104675283, -67.5764433734839], [48.442449171752855, -67.57737354926519], [48.42374230326311, -67.5745313454891], [48.398524204304806, -67.5655913227026], [48.387052036335945, -67.56419605903072], [48.37568322123178, -67.57008717231201], [48.389325799356754, -67.57768360785892], [48.32927778503364, -67.56708993923908], [48.301579217325184, -67.56605641059329], [48.184997186074725, -67.58693368923915], [48.15946902852255, -67.59608041775482], [48.14872033060584, -67.60445199978615], [48.1395219256579, -67.61473560981216], [48.129186639199474, -67.62295216254662], [48.11420047383484, -67.625329278432], [48.00805708190728, -67.62527760199973], [47.979738397011374, -67.62140186957788], [47.95183312357375, -67.6141154926247], [47.912765740761074, -67.58925912869233]], &quot;type&quot;: &quot;LineString&quot;}, &quot;properties&quot;: {&quot;featurecla&quot;: &quot;Antarctic Ice Shelf Edge&quot;, &quot;scalerank&quot;: 5}, &quot;type&quot;: &quot;Feature&quot;}, {&quot;geometry&quot;: {&quot;coordinates&quot;: [[44.64392133970637, -67.83063974392769], [44.56464969257064, -67.86934539171426], [44.5284761899664, -67.8809209125476], [44.48930545428914, -67.88577849718311], [44.49498986184125, -67.88732879015186], [44.51204308449746, -67.89451181424037], [44.49912397642453, -67.90851612739147], [44.62066694517506, -67.94530974718336], [44.65880415220647, -67.96313811632399], [44.63348270038341, -67.96034758898021], [44.56464969257064, -67.96995940538656], [44.55493452329972, -67.96944264106358], [44.531266717310075, -67.9671688780428]], &quot;type&quot;: &quot;LineString&quot;}, &quot;properties&quot;: {&quot;featurecla&quot;: &quot;Antarctic Ice Shelf Edge&quot;, &quot;scalerank&quot;: 5}, &quot;type&quot;: &quot;Feature&quot;}, {&quot;geometry&quot;: {&quot;coordinates&quot;: [[46.35038048684862, -67.5687952615047], [46.34655643085898, -67.56791676215579], [46.36795047382782, -67.57949228298912], [46.376735467317474, -67.5867786599423], [46.38045617044247, -67.59556365343192], [46.368984002473724, -67.60502044054132], [46.25415896992115, -67.6504957009582], [46.23979292174397, -67.65318287543731], [46.22522016783773, -67.65612843207795]], &quot;type&quot;: &quot;LineString&quot;}, &quot;properties&quot;: {&quot;featurecla&quot;: &quot;Antarctic Ice Shelf Edge&quot;, &quot;scalerank&quot;: 5}, &quot;type&quot;: &quot;Feature&quot;}, {&quot;geometry&quot;: {&quot;coordinates&quot;: [[45.208227980333675, -67.72470305772927], [45.131126743354116, -67.71845020942197], [45.020849236843276, -67.73162769965643]], &quot;type&quot;: &quot;LineString&quot;}, &quot;properties&quot;: {&quot;featurecla&quot;: &quot;Antarctic Ice Shelf Edge&quot;, &quot;scalerank&quot;: 5}, &quot;type&quot;: &quot;Feature&quot;}, {&quot;geometry&quot;: {&quot;coordinates&quot;: [[45.75062381366911, -67.76025644314615], [45.72292524596077, -67.7438750141096], [45.71021284361689, -67.74185963325024], [45.67310916523127, -67.75477874132318], [45.649027947783395, -67.75824106228671], [45.62484337747071, -67.75746591580238], [45.603966098824856, -67.75271168403154], [45.58391564309562, -67.74728565864085]], &quot;type&quot;: &quot;LineString&quot;}, &quot;properties&quot;: {&quot;featurecla&quot;: &quot;Antarctic Ice Shelf Edge&quot;, &quot;scalerank&quot;: 5}, &quot;type&quot;: &quot;Feature&quot;}, {&quot;geometry&quot;: {&quot;coordinates&quot;: [[59.644659458256, -67.44146453233753], [59.633704054610064, -67.44430673611362], [59.629156528568444, -67.44420338324903], [59.62357547388092, -67.4425497374157], [59.59980431502669, -67.43236948025417], [59.58554161971409, -67.43293792100934], [59.556292759036864, -67.44332488390003], [59.54885135278681, -67.44513355903024], [59.53386518742218, -67.43557341905625], [59.523013136640884, -67.42255095811875], [59.518982374922075, -67.40653126410822], [59.5104040871617, -67.4062212055145], [59.486219516849076, -67.40172535590509], [59.50337609237005, -67.39273365668629], [59.488493279869886, -67.38224334093104], [59.47278364445327, -67.37599049262371], [59.456040480390584, -67.37319996527995], [59.438057081953104, -67.37319996527995], [59.43020226424477, -67.37511199327481], [59.4130456887238, -67.38234669379561], [59.40694786971335, -67.38374195746749], [59.39971316919247, -67.38172657660814], [59.38762088403621, -67.3738200824675], [59.382039829348685, -67.37170134874347], [59.255742628827306, -67.37118458442059], [59.26380415226481, -67.36829070421223], [59.26711144393158, -67.36534514757159], [59.26938520695245, -67.36183115017577], [59.27393273299407, -67.3571802712695], [59.24912804549399, -67.35154754014967], [59.22721723820223, -67.35051401150389], [59.13337283716015, -67.36689544054035], [59.12820519393097, -67.37133961371745], [59.12014367049346, -67.39800465278012], [59.1412276548686, -67.40539438259778], [59.16324181502489, -67.40916676215514], [59.15921105330608, -67.41474781684269], [59.15197635278531, -67.41996713650413], [59.14215783064981, -67.42456633897811], [59.12737837101429, -67.43019907009796]], &quot;type&quot;: &quot;LineString&quot;}, &quot;properties&quot;: {&quot;featurecla&quot;: &quot;Antarctic Ice Shelf Edge&quot;, &quot;scalerank&quot;: 5}, &quot;type&quot;: &quot;Feature&quot;}, {&quot;geometry&quot;: {&quot;coordinates&quot;: [[126.82350467336846, -66.44354094834914], [126.80603803925379, -66.4261776670991], [126.77358523977449, -66.4019414203542], [126.75715213430567, -66.39522348415629], [126.73286421112857, -66.39429330837501]], &quot;type&quot;: &quot;LineString&quot;}, &quot;properties&quot;: {&quot;featurecla&quot;: &quot;Antarctic Ice Shelf Edge&quot;, &quot;scalerank&quot;: 5}, &quot;type&quot;: &quot;Feature&quot;}, {&quot;geometry&quot;: {&quot;coordinates&quot;: [[76.9893371927003, -69.21959889106863], [76.95440392447102, -69.22616179796967], [76.94076134634605, -69.22833220812598], [76.90128055207504, -69.2296757953655], [76.89394249868957, -69.23794402453225], [76.89435591014785, -69.25086313260518], [76.8910486184812, -69.27267058703241]], &quot;type&quot;: &quot;LineString&quot;}, &quot;properties&quot;: {&quot;featurecla&quot;: &quot;Antarctic Ice Shelf Edge&quot;, &quot;scalerank&quot;: 5}, &quot;type&quot;: &quot;Feature&quot;}, {&quot;geometry&quot;: {&quot;coordinates&quot;: [[129.39223676973296, -66.85974293402796], [129.15597212129444, -66.93751596462715], [128.9032743673872, -66.96909026475751], [128.88115685436634, -66.98185434353358], [128.86596398327242, -66.9952385394972], [128.83154747936607, -67.01875131619005], [128.8036422059285, -67.03141204210155]], &quot;type&quot;: &quot;LineString&quot;}, &quot;properties&quot;: {&quot;featurecla&quot;: &quot;Antarctic Ice Shelf Edge&quot;, &quot;scalerank&quot;: 5}, &quot;type&quot;: &quot;Feature&quot;}, {&quot;geometry&quot;: {&quot;coordinates&quot;: [[[128.75444624238662, -67.03585621527856], [128.72375044160526, -67.02939666124217], [128.71093468639685, -67.02154184353373], [128.7072139832719, -67.00913949978371], [128.7168257996782, -66.99105274848154], [128.6795154155633, -66.99120777777847], [128.57440555228186, -67.01513396592958], [128.4314685405625, -67.03048186632026], [128.081722446811, -67.02598601671076], [128.08192915254017, -67.02614104600775]], [[128.74152713431363, -67.03384083441921], [128.74152713431363, -67.03368580512233], [128.74152713431363, -67.03358245225769]]], &quot;type&quot;: &quot;MultiLineString&quot;}, &quot;properties&quot;: {&quot;featurecla&quot;: &quot;Antarctic Ice Shelf Edge&quot;, &quot;scalerank&quot;: 5}, &quot;type&quot;: &quot;Feature&quot;}, {&quot;geometry&quot;: {&quot;coordinates&quot;: [[124.82920779836053, -66.6974272601991], [124.82011274627712, -66.68910735460017], [124.81060428273537, -66.6821827126731], [124.82238650929793, -66.67344939561573], [124.792827590027, -66.65696461371462], [124.6917484884641, -66.63944630316772], [124.74280480356845, -66.6359839822041], [124.79179406138115, -66.62616546006868], [124.83757938039173, -66.60833709092795], [124.8787138204961, -66.5806385232195], [124.89059939992325, -66.55759083441734], [124.88491499237114, -66.53216602972971], [124.86693159393354, -66.51252898545887], [124.84181684783971, -66.50663787217758], [124.68988813690163, -66.5429147276464], [124.50292280486957, -66.55200977972979], [124.48194217335913, -66.54741057725582], [124.43801720591102, -66.53247608832353], [124.33879845591059, -66.51614633571927], [124.32071170460841, -66.51583627712554], [124.3069657736188, -66.52146900824529], [124.2947701355979, -66.5290654437922], [124.2813342632021, -66.53449146918288], [124.2687252137228, -66.53562835069333], [124.24081994028523, -66.53402638129228], [124.04537967335733, -66.54368987413083], [124.01871463429478, -66.55340504340168], [124.01075646372175, -66.56022633246425], [124.00393517465926, -66.56937306097991], [123.99204959523212, -66.59350595486015]], &quot;type&quot;: &quot;LineString&quot;}, &quot;properties&quot;: {&quot;featurecla&quot;: &quot;Antarctic Ice Shelf Edge&quot;, &quot;scalerank&quot;: 5}, &quot;type&quot;: &quot;Feature&quot;}, {&quot;geometry&quot;: {&quot;coordinates&quot;: [[126.43655154836694, -66.35527760199469], [126.43386437388773, -66.34731943142167], [126.43417443248148, -66.34297861110923], [126.43562137258567, -66.3367774392342], [126.43500125539816, -66.32773406358311], [126.43107384654394, -66.32142953884352], [126.42569949758558, -66.31496998480696], [126.42332238170019, -66.3084587543382], [126.42890343638771, -66.30205087673403], [126.43634484263771, -66.29714161566633], [126.44295942597108, -66.29068206162987], [126.44668012909608, -66.28287892035371], [126.44533654185659, -66.27388722113491], [126.42063520722098, -66.2604513487391], [126.37474653534582, -66.25176970811404], [126.23987104706401, -66.2415894509525], [126.18530073456378, -66.24680877061404], [126.16152957570955, -66.25275156032761], [126.11915490123022, -66.27192351670786], [126.09497033091759, -66.27946827582247], [126.00908410044849, -66.28866668077042], [125.96794966034417, -66.30024220160384], [125.95006961477122, -66.30380787543194]], &quot;type&quot;: &quot;LineString&quot;}, &quot;properties&quot;: {&quot;featurecla&quot;: &quot;Antarctic Ice Shelf Edge&quot;, &quot;scalerank&quot;: 5}, &quot;type&quot;: &quot;Feature&quot;}, {&quot;geometry&quot;: {&quot;coordinates&quot;: [[138.34765913304994, -66.53779876084954], [138.3537569520604, -66.51578460069325], [138.28461388565393, -66.52534474066722], [138.25381473200798, -66.5205388324641], [138.24864708877874, -66.4931503233494], [138.1437439312262, -66.50028167100561]], &quot;type&quot;: &quot;LineString&quot;}, &quot;properties&quot;: {&quot;featurecla&quot;: &quot;Antarctic Ice Shelf Edge&quot;, &quot;scalerank&quot;: 5}, &quot;type&quot;: &quot;Feature&quot;}, {&quot;geometry&quot;: {&quot;coordinates&quot;: [[136.0281107931969, -66.2514596495203], [135.9500793804362, -66.22675831488479], [135.91483605361316, -66.20737965277532], [135.81696089085233, -66.19048145941588], [135.80734907444605, -66.19115325303564], [135.79887413955015, -66.19032643011901], [135.79205285048766, -66.18464202256689], [135.78151085830012, -66.15968230576993], [135.77468956923758, -66.14893360785322], [135.76383751845628, -66.14423105251467], [135.61252892470566, -66.15911386501476], [135.52416222548663, -66.15766692491059]], &quot;type&quot;: &quot;LineString&quot;}, &quot;properties&quot;: {&quot;featurecla&quot;: &quot;Antarctic Ice Shelf Edge&quot;, &quot;scalerank&quot;: 5}, &quot;type&quot;: &quot;Feature&quot;}, {&quot;geometry&quot;: {&quot;coordinates&quot;: [[136.66373091038702, -66.39243295681251], [136.61143436090765, -66.41082976670842], [136.59810184137632, -66.41460214626576], [136.58228885309495, -66.41553232204697], [136.54838911351158, -66.41300017686464]], &quot;type&quot;: &quot;LineString&quot;}, &quot;properties&quot;: {&quot;featurecla&quot;: &quot;Antarctic Ice Shelf Edge&quot;, &quot;scalerank&quot;: 5}, &quot;type&quot;: &quot;Feature&quot;}, {&quot;geometry&quot;: {&quot;coordinates&quot;: [[120.52373416553075, -66.88780323676241], [120.53551639209331, -66.88315235785615], [120.50750776579116, -66.88144703559053], [120.4902478374056, -66.86749439887174], [120.44663292855125, -66.86599578233526], [120.36095340381132, -66.87297210069462], [120.27951134651943, -66.87043995551238], [120.23806684782136, -66.87803639105928], [120.21687951058169, -66.9009290505646], [120.10711876839372, -66.92402841579906], [120.06722456266442, -66.92103118272613], [120.0253666525079, -66.91152271918443], [120.0061430196954, -66.91152271918443], [119.95239953011179, -66.92723235460113], [119.83974490771556, -66.93942799262203], [119.75902632047564, -66.93379526150218], [119.71964887906921, -66.93575896592924], [119.63965376188139, -66.9557577452262], [119.57681522021448, -66.96459441514813], [119.52648237516217, -66.98216440212741], [119.49971398323498, -66.98448984158048], [119.4187886902659, -66.95462086371583], [119.39780805875546, -66.9534323057731], [119.352229445474, -66.96598967882001], [118.92083458870138, -66.97012379340339], [118.84621382047197, -66.95059010199704], [118.82047895719069, -66.94769622178868], [118.73025190640897, -66.95048674913247], [118.71981326708601, -66.94686939887205], [118.70317345588813, -66.9363790831168], [118.69066775927342, -66.9336402322053], [118.62142134000231, -66.94134002061679], [118.54711063036655, -66.93596567165841], [118.39187462776181, -66.95586109809085], [118.28242394416759, -66.98454151801278], [118.26320031135509, -66.98500660590346], [118.21989546109444, -66.97756519965343], [118.19726118375058, -66.9785987282992], [118.1731799663026, -66.98237110785655], [118.14630822151082, -66.98355966579929], [118.11995324104197, -66.98061410915865], [118.07468468635432, -66.96547291449713], [117.74633263557178, -66.97710011176274], [117.65496870327968, -66.99751230251809], [117.60370568244622, -67.0014913878045], [117.49260135301859, -66.99668547960138], [117.48195600796652, -66.99415333441914], [117.47368777879979, -66.99100107204924], [117.4641793152581, -66.98929574978362], [117.42717898973711, -66.99575530382018], [117.41570682176837, -66.99637542100764], [117.40392459520581, -66.99461842230974], [117.3836674337474, -66.98386972439303], [117.35462527879929, -66.95529265733559], [117.30573937385128, -66.94258025499181], [117.26966922411151, -66.91777556749173], [117.2491020040593, -66.90914560329897], [117.20693403530913, -66.90067066840305], [117.19380822150697, -66.89534799587705], [117.18595340379864, -66.88868173611141], [117.18223270067358, -66.8816537413197], [117.17737511603826, -66.87540089301237], [117.1659029480694, -66.87090504340298], [117.14595584520475, -66.86656422309045], [117.06368696499607, -66.83736703884554], [116.972839797027, -66.81907358181422], [116.93067182827679, -66.8056377094183], [116.91155154832882, -66.80269215277767], [116.88302615770368, -66.80496591579856], [116.79889692593252, -66.82176075629343], [116.77336876838041, -66.82191578559028], [116.70587934780713, -66.80558603298603], [116.65048221239027, -66.80233041775165], [116.6215434103068, -66.79633595160578], [116.60542036343179, -66.7809880512151], [116.60945112515049, -66.76290129991293], [116.62764122931725, -66.74977548611085], [116.67166954962994, -66.73442758572017], [116.64500451056739, -66.73339405707429], [116.6258842306193, -66.7244023578555], [116.59167443244212, -66.69592864366274], [116.5491964050982, -66.67468962999077], [116.5218078959835, -66.65288217556352], [116.42992719936854, -66.63660409939165], [116.38631229051418, -66.62259978624056], [116.38383182176415, -66.5999655088967], [116.37039594936834, -66.58776987087582], [116.35416954962864, -66.58322234483413], [116.31830610561809, -66.57965667100594], [116.2712805522325, -66.56265512478191], [116.25278038947198, -66.56162159613615], [116.14539676316951, -66.58420419704763], [116.06354129441917, -66.56172494900072], [116.00742068895016, -66.55335336696939], [115.95088667202293, -66.55164804470377], [115.90417117723104, -66.55697071722987], [115.88205366421005, -66.56513559353196], [115.7928601420744, -66.60957732530296], [115.74748823452211, -66.6444072406677], [115.72568078009488, -66.6538640277771], [115.71358849493856, -66.65432911566771], [115.7025297384281, -66.65226205837607], [115.69250451056348, -66.6480762673604], [115.68144575405302, -66.64404550564169]], &quot;type&quot;: &quot;LineString&quot;}, &quot;properties&quot;: {&quot;featurecla&quot;: &quot;Antarctic Ice Shelf Edge&quot;, &quot;scalerank&quot;: 5}, &quot;type&quot;: &quot;Feature&quot;}, {&quot;geometry&quot;: {&quot;coordinates&quot;: [[120.89218712777182, -66.84821908962684], [120.87110314339674, -66.85095794053832], [120.86056115120914, -66.85571217230915], [120.85074262907375, -66.86191334418419], [120.8459883973029, -66.86646087022586], [120.82996870329237, -66.88981861762177]], &quot;type&quot;: &quot;LineString&quot;}, &quot;properties&quot;: {&quot;featurecla&quot;: &quot;Antarctic Ice Shelf Edge&quot;, &quot;scalerank&quot;: 5}, &quot;type&quot;: &quot;Feature&quot;}, {&quot;geometry&quot;: {&quot;coordinates&quot;: [[122.57394494027858, -66.81044361762144], [122.55937218637223, -66.80222706488706], [122.56898400277856, -66.79587086371518], [122.55844201059102, -66.78941130967871], [122.58882775277857, -66.78491546006933], [122.60732791553914, -66.77525196723067], [122.60815473845577, -66.76026580186611], [122.58500369678899, -66.74006031683992], [122.57373823454941, -66.73726978949622], [122.53622114470545, -66.74584807725662], [122.52278527230953, -66.74398772569414], [122.51286339730956, -66.73757984808996], [122.4004154806425, -66.63892953884474], [122.3617615092881, -66.61758717230819], [122.33685346892344, -66.60828541449565], [122.31287560433998, -66.60332447699565], [122.26161258350652, -66.60213591905293], [122.24342247933976, -66.5985702452248], [122.18916222543322, -66.56673756293301], [122.14451378793308, -66.54983936957356], [122.10162234913082, -66.54208790472978], [121.96695356657824, -66.54198455186521], [121.7761641785566, -66.56591074001629], [121.6253723491289, -66.6237883441832], [121.52543012907643, -66.64637094509477], [121.42920861214895, -66.65334726345421], [121.23139122933571, -66.6422368305114], [121.23738569548158, -66.64564747504272], [121.25361209522117, -66.6588249652771], [121.2264302918357, -66.6736561013449], [121.16545210173126, -66.68109750759494], [121.14157759001239, -66.69236296983453], [121.15222293506451, -66.70135466905333], [121.13930382699152, -66.72409229926177], [121.15584028532493, -66.73535776150136], [121.18074832568959, -66.74398772569414], [121.19377078662717, -66.75856047960049], [121.19335737516889, -66.76042083116297], [121.1919104350647, -66.76228118272547], [121.17454715381467, -66.77902434678803]], &quot;type&quot;: &quot;LineString&quot;}, &quot;properties&quot;: {&quot;featurecla&quot;: &quot;Antarctic Ice Shelf Edge&quot;, &quot;scalerank&quot;: 5}, &quot;type&quot;: &quot;Feature&quot;}, {&quot;geometry&quot;: {&quot;coordinates&quot;: [[130.7007873882277, -66.1513624001709], [130.58461876843558, -66.15492807399909], [130.52994510307082, -66.16624521267099], [130.50968794161236, -66.16417815537933], [130.48788048718518, -66.15198251735845], [130.44850304577875, -66.12335377386873], [130.40860884004945, -66.11823780707186], [130.34659712129923, -66.12433562608231], [130.2893396343198, -66.14020029079587], [130.26443159395512, -66.1643331846762], [130.28096805228853, -66.1603024229574], [130.29533410046565, -66.16510833116052], [130.3221024923929, -66.18495208116062], [130.23631961478833, -66.21125538519716], [130.22939497286126, -66.228566990015], [130.21316857312166, -66.23699024847852], [129.96977257702684, -66.2748690733485], [129.95737023327683, -66.27920989366103], [129.95003217989137, -66.28768482855693], [129.9497221212976, -66.2963664691819], [129.95726688041225, -66.30995737087468], [129.95747358614148, -66.31807057074448], [129.9525126486414, -66.329129327255], [129.94569135957892, -66.33719085069251], [129.93742313041213, -66.34292693467694], [129.9255375509851, -66.35083342881757]], &quot;type&quot;: &quot;LineString&quot;}, &quot;properties&quot;: {&quot;featurecla&quot;: &quot;Antarctic Ice Shelf Edge&quot;, &quot;scalerank&quot;: 5}, &quot;type&quot;: &quot;Feature&quot;}, {&quot;geometry&quot;: {&quot;coordinates&quot;: [[135.33998742079837, -66.10263152451974], [135.2580285991835, -66.08687021267065], [135.07891808485988, -66.09472503037901], [135.02868859267215, -66.09053923936344], [135.01514936741165, -66.0853199197019], [135.00502078668245, -66.07896371853002], [134.9938586773074, -66.07612151475394], [134.97680545465113, -66.0812374815509], [134.9485901226197, -66.09792896918108], [134.9362911317342, -66.1013912901447], [134.91407026584875, -66.10294158311348], [134.83810591037968, -66.09570688259258], [134.79283735569197, -66.08004892360816], [134.7149092957959, -66.02165455511837], [134.67046756402482, -66.00046721787868], [134.6446293478789, -65.99535125108173], [134.62354536350387, -65.99674651475362], [134.60483849501423, -66.00609994899844], [134.58582156793074, -66.0251168760819], [134.57011193251407, -66.05012826931113], [134.56081017470154, -66.05979176214969], [134.54871788954523, -66.06165211371226], [134.5259802593368, -66.0569495583737], [134.50272586480548, -66.05529591254029], [134.51037397678465, -66.07968718858206], [134.51554162001383, -66.08733530056125], [134.48515587782617, -66.09730885199363], [134.3919315939716, -66.11022796006655], [134.36082238173196, -66.1203048643635], [134.33343387261726, -66.13306894313956], [134.2414498231377, -66.19378875108254], [134.20217573459587, -66.2115137673587], [134.16186811740823, -66.2214356423587], [134.12156050022054, -66.22608652126496]], &quot;type&quot;: &quot;LineString&quot;}, &quot;properties&quot;: {&quot;featurecla&quot;: &quot;Antarctic Ice Shelf Edge&quot;, &quot;scalerank&quot;: 5}, &quot;type&quot;: &quot;Feature&quot;}, {&quot;geometry&quot;: {&quot;coordinates&quot;: [[129.47254194551448, -66.71727101019928], [129.46840783093108, -66.72156015407944], [129.4700614767645, -66.72548756293367], [129.4727486512437, -66.72900156032948], [129.4764693543687, -66.73184376410555], [129.49073204968118, -66.73892343532955], [129.4956929871812, -66.74341928493897], [129.49765669160837, -66.75070566189206], [129.49796675020207, -66.76352141710049], [129.4997237489, -66.77385670355879], [129.50406456921252, -66.78253834418385], [129.51264285697295, -66.79065154405374]], &quot;type&quot;: &quot;LineString&quot;}, &quot;properties&quot;: {&quot;featurecla&quot;: &quot;Antarctic Ice Shelf Edge&quot;, &quot;scalerank&quot;: 5}, &quot;type&quot;: &quot;Feature&quot;}, {&quot;geometry&quot;: {&quot;coordinates&quot;: [[127.91139692597693, -67.02732960395045], [127.88710900279978, -67.00898447048684], [127.87067589733101, -66.99616871527849], [127.85982384654966, -66.98526498806491], [127.85103885306012, -66.97167408637213], [127.84277062389333, -66.95265715928869], [127.83243533743496, -66.94066822699705], [127.81538211477874, -66.9331751443147], [127.72102094941374, -66.91937753689278], [127.70117719941368, -66.92351165147608], [127.68546756399695, -66.92862761827303], [127.66965457571558, -66.93017791124177], [127.65363488170516, -66.92821420681463], [127.63792524628843, -66.922426446398], [127.6533248231114, -66.91183277777816], [127.65725223196551, -66.90557992947086], [127.65001753144475, -66.88594288519994], [127.6515678244134, -66.87137013129359], [127.67688927623647, -66.82811695746531], [127.66159305227808, -66.82310434353302], [127.65022423717392, -66.81581796657984], [127.63089725149672, -66.79742115668394], [127.60505903535073, -66.77886931749117], [127.60195844941325, -66.77364999782964], [127.59803104055902, -66.76011077256916], [127.59472374889236, -66.75535654079832], [127.57208947154851, -66.74682992947021], [127.48558312389196, -66.73556446723052], [127.45912479055846, -66.72698617947012], [127.43338992727718, -66.71453215928778], [127.4123059429021, -66.6969621723085], [127.39918012909999, -66.67257089626673], [127.39576948456869, -66.64047983181348], [127.39256554576656, -66.6274056944437], [127.38719119680826, -66.61510670355824], [127.38016320201655, -66.60435800564153], [127.37117150279772, -66.59515960069356], [127.3605261577456, -66.58709807725597], [127.36972456269353, -66.57727955512055], [127.21903608613042, -66.56038136176112], [127.18162234915116, -66.55154469183918], [127.11444298717169, -66.52751515082343], [127.07961307180705, -66.52022877387036], [126.99651736868168, -66.5169214822036], [126.95517622284814, -66.51072031032858], [126.91869266165008, -66.49454558702128], [126.9101143738896, -66.48948129665669], [126.88200239472286, -66.47862924587533], [126.87135704967073, -66.4724280740003], [126.86794640513949, -66.46638193142215], [126.86639611217072, -66.46023243597942], [126.861125116077, -66.45372120551067], [126.85223676972271, -66.45186085394818]], &quot;type&quot;: &quot;LineString&quot;}, &quot;properties&quot;: {&quot;featurecla&quot;: &quot;Antarctic Ice Shelf Edge&quot;, &quot;scalerank&quot;: 5}, &quot;type&quot;: &quot;Feature&quot;}, {&quot;geometry&quot;: {&quot;coordinates&quot;: [[[88.75771447139323, -66.78718922309012], [88.70262739457007, -66.75210092556394], [88.69373904821589, -66.75034392686602], [88.66645389196583, -66.74900033962643], [88.65735883988248, -66.74543466579831], [88.64330285029911, -66.73256723415759], [88.63410444535117, -66.72765797308988], [88.6136405781636, -66.72404062282948], [88.57085249222592, -66.72145680121486], [88.54966515498626, -66.71696095160546], [88.53364546097572, -66.70492034288145], [88.54945844925709, -66.69468840928772], [88.60061811722602, -66.68202768337613], [88.4861031432672, -66.63489877712603], [88.47948855993377, -66.61670867295928], [88.45840457555869, -66.61143767686545], [88.41551313675643, -66.60849212022481], [88.3941190937876, -66.60368621202167], [88.34978071488126, -66.576659437933], [88.33272749222488, -66.56968311957365], [88.21201134639102, -66.54803069444337], [87.86619266149393, -66.54105437608393], [87.58620975133647, -66.4881377094171], [87.540631138055, -66.48472706488576], [87.49091841019026, -66.47170460394827], [87.4518510273777, -66.45671843858361], [87.40885623571086, -66.45279102972938], [87.34219363805431, -66.43253386827098], [87.08288130081365, -66.40925363552351], [86.823568963573, -66.38597340277605], [86.77075564977076, -66.38778207790625], [86.71267133987465, -66.3987891579844], [86.68683312372872, -66.39356983832296], [86.67422407424954, -66.36897185655204], [86.66202843622864, -66.36385588975509], [86.58565066930123, -66.3619438617603], [86.5355245299782, -66.34959319444255], [86.43661583857153, -66.31321298610905], [86.35879113153987, -66.31321298610905], [86.30577111200847, -66.30644337347886], [86.27920942581045, -66.30840707790593], [86.23270063674772, -66.3201893044685], [86.20872277216426, -66.32323821397372], [86.14061323440365, -66.30954395941637], [86.0347799010699, -66.30236093532777], [85.83375857945447, -66.32856088649973], [85.7869397317981, -66.34277190538006], [85.68668745315182, -66.39279469183853], [85.48576948440103, -66.43150033962522], [85.41404259637989, -66.42679778428666], [85.38934126174433, -66.42896819444289], [85.18976688023315, -66.48948129665669], [85.13674686070175, -66.51805836371405]], [[85.07318484898269, -66.61526173285509], [85.08031619663893, -66.63309010199573], [85.0795927265869, -66.64420053493856], [85.072874790389, -66.65427743923541], [85.05912885939927, -66.66295907986049], [85.03794152215966, -66.67040048611052], [85.02357547398248, -66.67024545681366], [85.01096642450335, -66.6633724913188], [84.96445763544062, -66.6259587543395], [84.95050499872173, -66.6183623187926], [84.93045454299249, -66.61309132269878], [84.87991499221113, -66.60797535590191], [84.86275841669016, -66.60399627061541], [84.79444217320037, -66.58012175889662], [84.75992231642937, -66.57226694118827], [84.7251957539292, -66.57231861762057], [84.69181277866869, -66.57634937933926], [84.55352664585564, -66.56999317816738], [84.51921349481387, -66.57919158311533], [84.41586063023004, -66.63019622178747], [84.38092736200076, -66.63944630316772], [84.08006717319745, -66.66698984157928], [84.00813357944725, -66.68864226670956], [84.01970910028058, -66.69809905381896], [83.96007449741575, -66.71106983832416], [84.00007205600963, -66.74584807725662], [84.00420617059302, -66.75623504014732], [83.99552452996795, -66.76724212022546], [83.9661723164262, -66.78336516710057], [83.95656050001992, -66.7975761859808], [83.97712772007213, -66.79096160264749], [84.00544640496804, -66.7913750141058], [84.05970665887446, -66.79824797960056], [84.07541629429119, -66.80558603298603], [84.1165507343955, -66.83654021592884], [84.13835818882268, -66.84630706163205], [84.11717085158307, -66.85684905381962], [84.11841108595809, -66.86909636827278], [84.1247156106977, -66.88372079861134], [84.11841108595809, -66.90098072699688], [84.1879675638229, -66.89493458441873], [84.1632662291874, -66.90284107855936], [84.25483686720861, -66.90981739691873], [84.29121707554202, -66.9068201638458], [84.3035160664275, -66.90842213324683], [84.31281782424003, -66.91317636501776], [84.32708051955262, -66.92526865017399], [84.33410851434428, -66.92681894314273], [84.35519249871936, -66.92573373806468], [84.42722944533432, -66.9331751443147], [84.44655643101152, -66.93157317491367], [84.48355675653238, -66.92413176866363], [84.50319380080333, -66.92490691514796], [84.46877729689697, -66.93808440538243], [84.48169640496991, -66.94593922309078], [84.4871741067929, -66.94707610460122], [84.49802615757415, -66.9458358702262], [84.49843956903248, -66.9669198546013], [84.46815717970941, -66.96609303168458], [84.13561933791121, -66.99379159939302], [83.80308149611301, -67.02149016710146], [83.55896202996627, -67.08334685655487], [83.56929731642458, -67.08970305772677], [83.57673872267458, -67.09843637478411], [83.58118289585173, -67.10903004340395], [83.58242313022674, -67.12112232856018], [83.5718811380392, -67.12117400499255], [83.56154585158089, -67.11977874132066], [83.5516239765808, -67.1169882139769], [83.54201216017452, -67.11264739366436], [83.53022993361196, -67.11311248155496], [83.51906782423691, -67.12691008897689], [83.51100630079935, -67.14246469509672], [83.49695031121598, -67.15848438910726], [83.48134402866384, -67.16509897244057], [83.40227908725723, -67.17016326280525], [83.34140425001738, -67.1505778949666], [83.31783979689237, -67.14809742621657], [83.19433312371473, -67.16246347439376], [82.99847944532854, -67.2067501768679], [82.90825239454693, -67.21543181749287], [82.83735232944252, -67.2305730121544], [82.61710737501448, -67.24938323350861], [82.32637576694049, -67.21274464301376], [82.16948611850233, -67.21868743272725], [82.11543257032497, -67.22855763129505], [82.02861616407472, -67.26617807400348], [81.98293419792867, -67.27356780382124], [81.89136355990746, -67.276358331165], [81.78335981641743, -67.29692555121721], [81.71618045443807, -67.30054290147763], [81.69375288282333, -67.30886280707657], [81.70811893100046, -67.32994679145168], [81.7268257994902, -67.33888681423818], [81.74759972527147, -67.3450879861132], [81.76816694532369, -67.35790374132155], [81.7132865742297, -67.37278655382164], [81.67949018751074, -67.37738575629561], [81.66967166537535, -67.38038298936854], [81.54502811068738, -67.46621754340534], [81.34307661329075, -67.50735198350966], [81.3477274921969, -67.51003915798887], [81.35651248568655, -67.5175839171035], [81.36116336459281, -67.520684503041], [81.34700402214486, -67.55163868598382], [81.35682254428036, -67.5759782855933], [81.40157433464503, -67.626207777781], [81.37645958855131, -67.63473438910911], [81.35609907422821, -67.65375131619257], [81.31940880730099, -67.69881316515105], [81.33201785678028, -67.70470427843233], [81.34224979037401, -67.71230071397923], [81.35103478386367, -67.72160247179177], [81.35909630730117, -67.73255787543764], [81.36043989454078, -67.73875904731266], [81.37511600131171, -67.7735889626774], [81.38007693881161, -67.77632781358889], [81.37738976433252, -67.78221892687017], [81.37273888542626, -67.78733489366704], [81.36633100782205, -67.79183074327644], [81.35599572136368, -67.80247608832856]]], &quot;type&quot;: &quot;MultiLineString&quot;}, &quot;properties&quot;: {&quot;featurecla&quot;: &quot;Antarctic Ice Shelf Edge&quot;, &quot;scalerank&quot;: 5}, &quot;type&quot;: &quot;Feature&quot;}, {&quot;geometry&quot;: {&quot;coordinates&quot;: [[94.16658328651909, -66.66900522243864], [94.13692101438352, -66.66357919704794], [94.04245649615393, -66.64109994900105], [93.95853397011194, -66.60477141709984], [93.9021033060493, -66.58792490017268], [93.86582645058036, -66.56518726996424], [93.8397815287052, -66.55356007269855], [93.8330635925073, -66.55200977972979], [93.82944624224689, -66.55443857204754], [93.82624230344481, -66.55769418728192], [93.82107466021557, -66.55852101019863], [93.79740685422593, -66.55371510199541], [93.77663292844454, -66.55185475043292], [93.7556522969341, -66.55557545355799], [93.73084760943402, -66.56751270941743], [93.74676395057992, -66.58043181749036], [93.71276085813179, -66.58694304795911], [93.66563195188166, -66.59112883897478]], &quot;type&quot;: &quot;LineString&quot;}, &quot;properties&quot;: {&quot;featurecla&quot;: &quot;Antarctic Ice Shelf Edge&quot;, &quot;scalerank&quot;: 5}, &quot;type&quot;: &quot;Feature&quot;}, {&quot;geometry&quot;: {&quot;coordinates&quot;: [[90.74787723181788, -66.69561858506891], [90.60928104041108, -66.68740203233455], [90.56318566280675, -66.69525685004288], [90.47047814327516, -66.72342050564193], [90.45559533077511, -66.74527963650145], [90.3994747253061, -66.7576303038192], [90.33363895056624, -66.76031747829839], [90.2893005716598, -66.75375457139727], [90.30542361853492, -66.73985361111076], [90.3113147318162, -66.7360295551212], [90.11184370316954, -66.7706527647567]], &quot;type&quot;: &quot;LineString&quot;}, &quot;properties&quot;: {&quot;featurecla&quot;: &quot;Antarctic Ice Shelf Edge&quot;, &quot;scalerank&quot;: 5}, &quot;type&quot;: &quot;Feature&quot;}, {&quot;geometry&quot;: {&quot;coordinates&quot;: [[78.51616906119608, -68.62309783312355], [78.41436648958103, -68.64108123156115], [78.14218672069978, -68.656997572707], [77.87000695181854, -68.67291391385285], [77.83176639192243, -68.68733163846234], [77.8475793802038, -68.70484994900924], [77.86039513541215, -68.71482350044161], [77.87620812369346, -68.71962940864475], [77.97728722525636, -68.7328585753115], [78.05056440624634, -68.73327198676981], [78.08808149609018, -68.73818124783753], [78.11733035676735, -68.75327076606676], [78.11867394400696, -68.75513111762925], [78.1190873554653, -68.7571464984887], [78.11857059114232, -68.75926523221263], [78.1177437682257, -68.7643295225772], [78.11867394400696, -68.76391611111889]], &quot;type&quot;: &quot;LineString&quot;}, &quot;properties&quot;: {&quot;featurecla&quot;: &quot;Antarctic Ice Shelf Edge&quot;, &quot;scalerank&quot;: 5}, &quot;type&quot;: &quot;Feature&quot;}, {&quot;geometry&quot;: {&quot;coordinates&quot;: [[77.84912967317257, -69.07015064888051], [77.85057661327676, -69.0692721495316], [77.77791954947435, -69.07666187934926], [77.74660363150542, -69.07309620552115], [77.70743289582822, -69.06291594835963], [77.67156945181762, -69.06136565539086], [77.65017540884878, -69.08327646268268], [77.6662984557239, -69.08797901802123], [77.65461958202599, -69.09164804471392], [77.68469526561978, -69.09960621528685], [77.65430952343218, -69.11082000109425], [77.61317508332792, -69.1114401182817], [77.49762658072325, -69.10084644966187], [77.47850630077522, -69.10332691841191], [77.46600060416057, -69.1133004698442], [77.43902550650421, -69.1483370909381], [77.42941369009793, -69.16606210721426], [77.43385786327502, -69.17923959744871], [77.43344445181674, -69.18544076932373]], &quot;type&quot;: &quot;LineString&quot;}, &quot;properties&quot;: {&quot;featurecla&quot;: &quot;Antarctic Ice Shelf Edge&quot;, &quot;scalerank&quot;: 5}, &quot;type&quot;: &quot;Feature&quot;}, {&quot;geometry&quot;: {&quot;coordinates&quot;: [[77.93873660676661, -68.91992726020806], [77.93532596223537, -68.92313119901014], [77.92013309114157, -68.92597340278621], [77.90545698437063, -68.93057260526018], [77.89129764192279, -68.9367737771352], [77.91052127473529, -68.94018442166644], [77.93687625520414, -68.95010629666653], [77.9456612486938, -68.95858123156235], [77.94442101431878, -68.97222380968742], [77.91424197786029, -68.98416106554686], [77.9032865742144, -68.99418629341152], [77.91351850780825, -69.00576181424483], [77.90649051301654, -69.00968922309906], [77.89346805207902, -69.02002450955737], [77.88654341015183, -69.02415862414074], [77.89212446483941, -69.02896453234388], [77.8976021666623, -69.03454558703143]], &quot;type&quot;: &quot;LineString&quot;}, &quot;properties&quot;: {&quot;featurecla&quot;: &quot;Antarctic Ice Shelf Edge&quot;, &quot;scalerank&quot;: 5}, &quot;type&quot;: &quot;Feature&quot;}, {&quot;geometry&quot;: {&quot;coordinates&quot;: [[109.11440473840173, -66.88759653103327], [109.06768924361, -66.88227385850715], [109.04588178918277, -66.8847026508249], [109.02448774621394, -66.89090382269993], [109.01218875532845, -66.89100717556451], [108.9879008321513, -66.87684783311656], [108.97549848840123, -66.87245533637173], [108.96371626183867, -66.87343718858531], [108.92640587772394, -66.88558115017382], [108.92144494022398, -66.8905937641062], [108.91782758996357, -66.90888722113752], [108.91234988814051, -66.91607024522602], [108.90263471886965, -66.92041106553856], [108.89281619673426, -66.92258147569487], [108.87224897668204, -66.92351165147608], [108.86253380741118, -66.92227141710114], [108.8557125183487, -66.91994597764796], [108.84827111209859, -66.91839568467921], [108.83690229699442, -66.91968759548652], [108.82687706912975, -66.92366668077294], [108.81158084517142, -66.93488046658032], [108.80403608605678, -66.93875619900217], [108.78884321496298, -66.94201181423655], [108.7707564636608, -66.94485401801262]], &quot;type&quot;: &quot;LineString&quot;}, &quot;properties&quot;: {&quot;featurecla&quot;: &quot;Antarctic Ice Shelf Edge&quot;, &quot;scalerank&quot;: 5}, &quot;type&quot;: &quot;Feature&quot;}, {&quot;geometry&quot;: {&quot;coordinates&quot;: [[110.63152143762659, -66.51568124782867], [110.61374474491816, -66.51568124782867], [110.60041222538695, -66.51428598415677], [110.58821658736605, -66.5097384581151], [110.57777794804309, -66.50152190538063], [110.56227501835554, -66.4926335590265], [110.54429161991794, -66.49284026475566], [110.52661828007416, -66.49893808376609], [110.49065148319897, -66.51811004014633], [110.46967085168848, -66.51857512803701], [110.39959760950074, -66.50560434353172], [110.38874555871945, -66.50141855251604], [110.35732628788594, -66.47676889431284], [110.34668094283381, -66.47087778103156], [110.3345886576775, -66.46875904730763], [110.31381473189617, -66.47506357204722], [110.30658003137535, -66.48870615017228], [110.3042029154899, -66.50462249131814], [110.29851850793779, -66.51754159939117], [110.26399865116684, -66.53821217230785], [110.1388383321559, -66.56348194769862], [110.16033572798932, -66.56916635525076], [110.22048709517702, -66.59738168728208], [110.2098417501249, -66.60058562608417], [110.19878299361449, -66.60244597764665], [110.17625206913527, -66.60384124131855], [110.19258182173945, -66.61433155707381], [110.2483923686147, -66.62750904730828], [110.18172977095816, -66.63805103949582], [110.03310835168668, -66.64378712348015], [109.96706587121764, -66.63174651475623], [109.87394494022772, -66.59004363389661], [109.72677046106048, -66.59081878038104], [109.68987348840409, -66.60229094834979], [109.70217247928952, -66.61588185004257], [109.56223270064311, -66.65086679470417], [109.56926069543482, -66.65872161241253], [109.57597863163284, -66.66833342881878], [109.58093956913285, -66.67861703884489], [109.58259321496615, -66.68859059027727], [109.57835574751829, -66.72455738715237], [109.58104292199738, -66.7279680316837], [109.56336958215354, -66.73416920355872], [109.52523237512224, -66.72920826605863], [109.50910932824712, -66.74037037543374], [109.54311242069514, -66.76496835720467], [109.52378543501806, -66.77297820420989], [109.51386356001797, -66.7872408995224], [109.50528527225748, -66.80310556423606], [109.49050581262208, -66.81571461371527], [109.51293338423676, -66.82315601996531], [109.53629113163265, -66.8268767230903], [109.4899890482991, -66.83638518663197], [109.43614220585096, -66.82698007595486], [109.3835355977779, -66.82465463650178], [109.34126427616309, -66.85529876085084], [109.34694868371525, -66.85705575954876], [109.35800744022566, -66.86212004991333], [109.36389855350694, -66.86382537217895], [109.34023074751724, -66.87374724717904], [109.31315229699635, -66.88041350694466], [109.28545372928784, -66.88392750434058], [109.25971886600655, -66.88408253363735], [109.24979699100646, -66.88242888780411], [109.23005659387104, -66.87695118598114], [109.21992801314178, -66.87560759874154], [109.20855919803756, -66.87762297960089], [109.1934696798084, -66.88759653103327], [109.1741426941312, -66.89178232204893]], &quot;type&quot;: &quot;LineString&quot;}, &quot;properties&quot;: {&quot;featurecla&quot;: &quot;Antarctic Ice Shelf Edge&quot;, &quot;scalerank&quot;: 5}, &quot;type&quot;: &quot;Feature&quot;}, {&quot;geometry&quot;: {&quot;coordinates&quot;: [[[100.30998091024156, -65.66420867295545], [100.3168021993041, -65.68059010199201], [100.26512576701225, -65.6999687641014], [100.25417036336637, -65.71154428493482], [100.2434216654496, -65.72828744899738], [100.23132938029335, -65.73448862087241], [100.216756626387, -65.73417856227859], [100.1978430521682, -65.73143971136719], [100.16011925659512, -65.73061288845048], [100.0851884297719, -65.73820932399738], [100.0085006042508, -65.73712411891923], [99.88747439982325, -65.75180022569015], [99.73285851440596, -65.73769255967449], [99.67932173055158, -65.72549692165362], [99.6568941589369, -65.72399830511714], [99.6073881368012, -65.72968271266927], [99.61059207560339, -65.74404876084638], [99.56883751831157, -65.75242034287771], [99.48729210815492, -65.78063567490904], [99.44677778523806, -65.78880055121112], [99.41318810424843, -65.78699187608092], [99.3045642435709, -65.76337574652356], [99.27262820841452, -65.74720102321618], [99.22177859903934, -65.68539601019513], [99.16483117065371, -65.6424528949606], [99.15118859252857, -65.63806039821577], [99.09165734252844, -65.64658700954388], [98.97476525268416, -65.63806039821577], [98.7337463724748, -65.65568206162726], [98.58553836466172, -65.64886077256477], [98.54337039591161, -65.65371835720019], [98.42864871622362, -65.69299244574205], [98.42823530476534, -65.69940032334623], [98.40363732299431, -65.70849537542959], [98.38906456908808, -65.72549692165362], [98.39609256387979, -65.72740894964838], [98.40994184773393, -65.7331967100651], [98.41676313679648, -65.73485035589843], [98.38720421752555, -65.74503061305995], [98.15621056518091, -65.74782114040364], [98.13884728393077, -65.7444104958724], [98.12789188028489, -65.73753753037764], [98.11817671101409, -65.72942433050774], [98.10391401570143, -65.72244801214839], [98.08717085163897, -65.72058766058589], [97.98257775268019, -65.73386850368485], [97.96697147012804, -65.73262826930991], [97.95332889200296, -65.72756397894526], [97.92935102741961, -65.71510995876292], [97.91446821491945, -65.7134563129296], [97.91343468627366, -65.69878020615866], [97.90010216674233, -65.68958180121072], [97.86465213419012, -65.68121021917946], [97.84873579304417, -65.67418222438775], [97.83891727090878, -65.65123788845014], [97.82548139851286, -65.6406958962626], [97.83788374226287, -65.6298955219136], [97.85255984903381, -65.61335906358028], [97.85597049356505, -65.6033855121479], [97.87643436075268, -65.5710877419655], [97.87984500528387, -65.56199268988212], [97.87736453653389, -65.55139902126228], [97.8705432474714, -65.54462940863208], [97.86661583861718, -65.53749806097576], [97.87302371622138, -65.5257158344132], [97.86568566283597, -65.5234420713924], [97.85204308471094, -65.51656910589753], [97.84501508991917, -65.5139336078507], [97.8556604349713, -65.50561370225168], [97.74744998575221, -65.48179086696517], [97.715720656325, -65.47114552191303], [97.69618696491864, -65.4592082660536], [97.65897993366843, -65.41900400173046], [97.66456098835596, -65.41574838649609], [97.6747929219498, -65.40654998154812], [97.68047732950185, -65.40329436631376], [97.65763634642883, -65.39156381618355], [97.559761183668, -65.38339893988137], [97.55366336465767, -65.37900644313656], [97.54973595580344, -65.3730119769907], [97.54467166543884, -65.36727589300637], [97.53474979043887, -65.36371021917816], [97.49361535033444, -65.35787078232917], [97.44689985554265, -65.33745859157392], [97.45206749877178, -65.32831186305825], [97.45919884642808, -65.32242074977697], [97.46798383991774, -65.31973357529785], [97.47862918496986, -65.32025033962074], [97.47377160033437, -65.2983912087613], [97.46364301960512, -65.28681568792788], [97.41806440632377, -65.26821217230282], [97.41103641153205, -65.26681690863094], [97.40576541543828, -65.26325123480282], [97.40008100788617, -65.2531226540736], [97.39708377481321, -65.23885995876105], [97.39491336465699, -65.23276213975062], [97.38974572142774, -65.2288347308964], [97.28752973835452, -65.20061939886507], [97.26107140502103, -65.1812407367556], [97.27130333861481, -65.179897149516], [97.28112186075026, -65.17726165146908], [97.29042361856278, -65.17333424261494], [97.29920861205244, -65.16801157008885], [97.28339562377107, -65.16134531032321], [97.24959923705228, -65.15126840602628], [97.21332238158334, -65.14460214626065], [97.19854292194782, -65.13747079860434], [97.15461795449971, -65.10811858506258], [97.13115685423924, -65.08848154079165], [97.00072553913458, -65.04755380641654], [96.94842898965521, -65.04031910589566], [96.78068729043576, -65.0401640765988], [96.46008670449697, -64.98368173610378], [96.25379438678789, -64.97996103297871], [96.20625206907926, -64.99370696396835], [96.18279096881878, -65.01184539170282], [96.17886355996467, -65.03086231878626], [96.18072391152714, -65.05086109808322], [96.17452273965205, -65.07184172959366], [96.1579862813187, -65.08579436631254], [96.13545535683943, -65.09401091904692], [95.98176964720346, -65.11581837347407], [95.930713332099, -65.1317863910523], [95.8962968281927, -65.16522104274506], [95.87479943235928, -65.21906788519327], [95.85991661985918, -65.24506113063609], [95.83996951699453, -65.25968556097463], [95.7907735534526, -65.26852223089656], [95.5338383320975, -65.25922047308403], [95.54892785032672, -65.36774098089697], [95.54520714720167, -65.41895232529816], [95.5094470560557, -65.4624122048557], [95.48050825397229, -65.47310922634011], [95.44846886595127, -65.4785352517307], [95.42025353391989, -65.48856047959536], [95.4026835469407, -65.51315846136629], [95.41219201048239, -65.5252507465226], [95.48526248574308, -65.56514495225191], [95.51709516803493, -65.60684783311143], [95.5365255065766, -65.65692229600228], [95.5382825052746, -65.70797861110663], [95.50562300006607, -65.7736076801173], [95.49105024615983, -65.85737517686245], [95.49973188678479, -65.87995777777402], [95.52102257688904, -65.8998015277741], [95.53580203652456, -65.919076837019], [95.52474328001404, -65.939799086368], [95.53724897662875, -65.94708546332117], [95.52226281126406, -65.95333831162847], [95.50975711464946, -65.96331186306077], [95.50148888548279, -65.97633432399836], [95.49890506386816, -65.9918372536859], [95.5054162943369, -66.00734018337346], [95.51885216673281, -66.0174687641027], [95.5328048034516, -66.02434172959747], [95.54065962115999, -66.0300261371496], [95.5446903828788, -66.04552906683716], [95.53869591673293, -66.06568287543098], [95.54117638548297, -66.07767180772271], [95.55037479043091, -66.08873056423315], [95.56195031126424, -66.09720549912905], [95.57166548053516, -66.10604216905098], [95.57548953652474, -66.11844451280102], [95.5707353047539, -66.15296436957195], [95.5581262552746, -66.16903574001475], [95.33798465371132, -66.23859221787957], [95.3105961445965, -66.24096933376504], [94.9512382344389, -66.22205575954624], [94.92157596230334, -66.21497608832223], [94.90669314980323, -66.21311573675973], [94.8924304544907, -66.21631967556183], [94.88860639850117, -66.22221078884311], [94.88674604693858, -66.24308806748897], [94.88002811074068, -66.25394011827026], [94.85904747923024, -66.27590260199436], [94.84778201699055, -66.29621143988504], [94.84809207558436, -66.31729542426015], [94.86183800657392, -66.34199675889565], [94.88467898964694, -66.35853321722905], [94.93728559772012, -66.37176238389581], [94.95888634641801, -66.39181283962505], [94.96798139850148, -66.41889129014592], [94.96219363808478, -66.44106047959919], [94.9455538268868, -66.45857879014609], [94.91630496620951, -66.47552865993782], [94.91713178912619, -66.47542530707324]], [[102.55222130738593, -65.88181812933651], [102.39181766155201, -65.86683196397185], [102.1291980326447, -65.87101775498752], [102.06480919800902, -65.85406788519578], [102.08858035686325, -65.8503988585031], [102.13488244019675, -65.85546314886767], [102.15710330608226, -65.85158741644574], [102.14718143108229, -65.83990854274784], [102.134572381603, -65.8315369607165], [102.12030968629045, -65.82564584743523], [102.1054268737904, -65.82130502712278], [102.14480431519684, -65.81784270615915], [102.10708051962382, -65.79500172308613], [102.04248497925892, -65.79014413845073], [101.92135542196678, -65.79453663519554], [101.83546919149762, -65.78368458441426], [101.774801059987, -65.78259937933609], [101.6912919454034, -65.76807830186212], [101.73170291545563, -65.72332651149739], [101.72043745321594, -65.68172698350236], [101.67609907430949, -65.64896412542936], [101.48499962769415, -65.6038506000385], [101.26620161337036, -65.58597055446558], [101.23560916545358, -65.57258635850195], [101.23540245972441, -65.57139780055923], [101.23426557821398, -65.57026091904878]]], &quot;type&quot;: &quot;MultiLineString&quot;}, &quot;properties&quot;: {&quot;featurecla&quot;: &quot;Antarctic Ice Shelf Edge&quot;, &quot;scalerank&quot;: 5}, &quot;type&quot;: &quot;Feature&quot;}, {&quot;geometry&quot;: {&quot;coordinates&quot;: [[114.59262332566323, -66.4859156228285], [114.57877404180903, -66.47542530707324], [114.57370975144448, -66.47258310329718], [114.56895551967364, -66.46891407660448], [114.56471805222566, -66.46457325629196], [114.57288292852775, -66.45573658637002], [114.5587235860798, -66.44803679795854], [114.55148888555891, -66.44519459418257], [114.54177371628805, -66.44447112413043], [114.55769005743394, -66.43191375108353], [114.51159467982961, -66.44860523871381], [114.48699669805865, -66.45377288194297], [114.467049595194, -66.45077564887004], [114.47779829311071, -66.43470427842729], [114.48927046107957, -66.41253508897404], [114.49247439988164, -66.37450123480721], [114.49071740118376, -66.36819671006762], [114.48606652227738, -66.3659746234791], [114.4829659363399, -66.36287403754159], [114.48575646368363, -66.35403736761967], [114.48834028529825, -66.35036834092698], [114.48999393113161, -66.34649260850505], [114.49061404831917, -66.34235849392167], [114.49020063686078, -66.33796599717684], [114.4927844584754, -66.30287769965075], [114.421367629048, -66.29083709092673], [114.4073116394647, -66.28587615342664], [114.42281456915214, -66.27171681097869], [114.51314497279844, -66.22520802191605], [114.4683931824336, -66.22939381293162], [114.44958296107939, -66.22505299261917], [114.42839562383972, -66.22505299261917], [114.42984256394391, -66.22598316840038]], &quot;type&quot;: &quot;LineString&quot;}, &quot;properties&quot;: {&quot;featurecla&quot;: &quot;Antarctic Ice Shelf Edge&quot;, &quot;scalerank&quot;: 5}, &quot;type&quot;: &quot;Feature&quot;}, {&quot;geometry&quot;: {&quot;coordinates&quot;: [[114.25713992722444, -66.13761646918125], [114.2578633972766, -66.12490406683747], [114.25682986863069, -66.11518889756664], [114.25755333868284, -66.10630055121243], [114.26034386602652, -66.09844573350406], [114.2411202332139, -66.09322641384253], [114.22489383347431, -66.0866635069415], [114.20825402227632, -66.08201262803523], [114.18851362514084, -66.08247771592583], [114.1742509298283, -66.08077239366021], [114.1468624207136, -66.0682666970456], [114.13383995977603, -66.06888681423305], [114.12433149623433, -66.07209075303524], [114.11327273972381, -66.07410613389459], [114.08733117071336, -66.07555307399878], [114.08774458217175, -66.07570810329563]], &quot;type&quot;: &quot;LineString&quot;}, &quot;properties&quot;: {&quot;featurecla&quot;: &quot;Antarctic Ice Shelf Edge&quot;, &quot;scalerank&quot;: 5}, &quot;type&quot;: &quot;Feature&quot;}, {&quot;geometry&quot;: {&quot;coordinates&quot;: [[103.17223514202385, -65.46060352972549], [103.16954796754464, -65.45931161891818], [103.18174360556554, -65.47130055120991], [103.1820536641593, -65.48225595485576], [103.17285525921142, -65.49574350368397], [103.12965376181535, -65.53997852972581], [103.09782107952361, -65.56333627712172], [103.0494519388983, -65.57832244248638], [102.93958784384586, -65.56705698024669], [102.8882214701477, -65.57155282985609], [102.91137251181442, -65.58266326279882], [102.95829471233549, -65.59413543076766], [102.99116092327318, -65.62441782009071], [103.02847130738786, -65.64979094834598], [103.04469770712757, -65.6635885557679], [103.07518680217976, -65.70105396917955], [103.0839717956693, -65.72131113063794], [103.08738244020066, -65.74596078884116], [103.07963097535679, -65.76539112738293], [103.06061404827341, -65.78156585069033], [103.03725630087752, -65.79277963649763], [103.0166890808253, -65.79665536891947], [103.00697391155438, -65.7673031553777], [102.97162723186682, -65.76539112738293], [102.93007938030416, -65.77846526475273], [102.90196740113731, -65.79438160589868], [102.8940092305644, -65.81096974066438], [102.89917687379358, -65.82843637477899], [102.90661828004369, -65.84554127386758], [102.90548139853325, -65.86073414496141], [102.90238081259565, -65.86497161240936], [102.899073520929, -65.86848560980518], [102.89555952353317, -65.87127613714895], [102.88698123577268, -65.87716725043023]], &quot;type&quot;: &quot;LineString&quot;}, &quot;properties&quot;: {&quot;featurecla&quot;: &quot;Antarctic Ice Shelf Edge&quot;, &quot;scalerank&quot;: 5}, &quot;type&quot;: &quot;Feature&quot;}, {&quot;geometry&quot;: {&quot;coordinates&quot;: [[103.90231977744338, -65.97871143988374], [103.89487837119339, -65.97204518011812], [103.88743696494339, -65.96734262477956], [103.88071902874543, -65.96098642360768], [103.87503462119338, -65.95287322373788], [103.91472212119345, -65.95333831162847], [103.93280887249563, -65.94961760850342], [103.94913862509986, -65.93747364691491], [103.94386762900615, -65.93287444444084], [103.9343591654644, -65.92217742295642], [103.92888146364146, -65.91799163194085], [103.95689008994367, -65.91370248806061], [103.9912032409855, -65.9034705544668], [104.02375939332939, -65.889517917748], [104.04670372926694, -65.8741700173573], [104.03471479697521, -65.8621294086333], [104.03078738812098, -65.84838347764365], [104.03006391806889, -65.81649911891955], [104.02551639202727, -65.80631886175811], [103.99843794150632, -65.77686329535169], [104.06789106650666, -65.74048308701828], [104.08391076051709, -65.72275807074212], [104.07956994020464, -65.70844369899731], [104.07099165244415, -65.69521453233055], [104.07409223838158, -65.68121021917946], [104.0773995300483, -65.65258147568974], [104.04608361207949, -65.6267949359761], [104.00195193890221, -65.60700286240831], [103.96650190634989, -65.5962541644916], [103.97146284385002, -65.58157805772075], [103.97332319541249, -65.55713510524669], [103.98148807171458, -65.5436992328508], [103.85767133994324, -65.52592254014235], [103.82077436728684, -65.51253834417882], [103.83989464723481, -65.50881764105375], [103.85808475140158, -65.50194467555897], [103.8332800639015, -65.48871550889223], [103.81364301963055, -65.49181609482974], [103.79565962119295, -65.49868906032461], [103.77591922405747, -65.49677703232973], [103.79379926963048, -65.48070566188701], [103.78005333864093, -65.47099049261608], [103.75204471233866, -65.46737314235568], [103.72703331910941, -65.46944019964732], [103.71204715374478, -65.46633961370982], [103.66409142457792, -65.42711720160034], [103.6446610860362, -65.42205291123568], [103.62254357301521, -65.4251534971732], [103.57810184124429, -65.43967457464726], [103.55092003785865, -65.4439120420952], [103.51009565634814, -65.43585051865762], [103.44973758343127, -65.4322848448295], [103.41015343629567, -65.42530852647015]], &quot;type&quot;: &quot;LineString&quot;}, &quot;properties&quot;: {&quot;featurecla&quot;: &quot;Antarctic Ice Shelf Edge&quot;, &quot;scalerank&quot;: 5}, &quot;type&quot;: &quot;Feature&quot;}, {&quot;geometry&quot;: {&quot;coordinates&quot;: [[108.1514660990751, -66.6229098448343], [108.13523969933533, -66.61696705512071], [108.12418094282486, -66.61340138129262], [108.11105512902282, -66.60384124131855], [108.09679243371028, -66.59040536892273], [108.07932579959555, -66.57903655381847], [108.05689822798087, -66.5753158506935], [107.90879357303243, -66.61200611762072], [107.86476525271974, -66.60926726670922]], &quot;type&quot;: &quot;LineString&quot;}, &quot;properties&quot;: {&quot;featurecla&quot;: &quot;Antarctic Ice Shelf Edge&quot;, &quot;scalerank&quot;: 5}, &quot;type&quot;: &quot;Feature&quot;}, {&quot;geometry&quot;: {&quot;coordinates&quot;: [[-111.88910803917501, -74.22999073679175], [-112.26654624108082, -74.2143973733477], [-112.64398444298664, -74.19880400990363], [-113.02142264489245, -74.18321064645957], [-113.39886084679826, -74.16761728301552], [-113.42299374067858, -74.16126108184355], [-113.43973690474115, -74.15624846791127], [-113.43699805382965, -74.16126108184355]], &quot;type&quot;: &quot;LineString&quot;}, &quot;properties&quot;: {&quot;featurecla&quot;: &quot;Antarctic Ice Shelf Edge&quot;, &quot;scalerank&quot;: 5}, &quot;type&quot;: &quot;Feature&quot;}, {&quot;geometry&quot;: {&quot;coordinates&quot;: [[-101.42636166055249, -74.27991017038573], [-101.42041887083892, -74.27649952585449], [-101.47958838581305, -74.28848845814622], [-101.73453406452498, -74.31014088327649], [-101.747453172598, -74.33876962676621], [-101.80246273477266, -74.34125009551617], [-101.90963965534608, -74.32667734160991], [-101.89044186074956, -74.34476409291207], [-101.88028744180423, -74.3572697895267], [-101.88225114623138, -74.36905201608919], [-101.89956275104913, -74.38502003366742], [-101.91829545775495, -74.39644052520389], [-101.93832007526801, -74.40408863718308], [-102.39025631387658, -74.48392872507401], [-102.45976111530919, -74.51328093861586], [-102.4350856188898, -74.51963713978775], [-102.40738705118136, -74.51912037546487], [-102.35320431192332, -74.5117823220794], [-102.32460140664979, -74.51131723418871], [-102.06224015990391, -74.55679249460559], [-102.03412818073717, -74.56547413523064], [-102.01221737344544, -74.58201059356406], [-102.03195777058095, -74.5876950011161], [-102.07151607950034, -74.59456796661097], [-102.08911190469573, -74.60190601999642], [-102.04727983275544, -74.61074268991827], [-101.90235327839291, -74.60784880971], [-101.63038021524076, -74.64999094024402], [-101.35840715208862, -74.69213307077804], [-101.28639604368995, -74.69559539174156], [-101.26660397012216, -74.70469044382494], [-101.28678361693207, -74.71399220163747], [-101.26414933958822, -74.70903126413748], [-101.24073991576002, -74.70675750111658], [-101.2174338447964, -74.70810108835619], [-101.19510962604629, -74.71425058379893], [-101.26151384154139, -74.73042530710632], [-101.2893157621144, -74.7434994444761], [-101.34342098672396, -74.78453053171587], [-101.40331397175022, -74.81770680124728], [-101.6019065010479, -74.95759490346134], [-101.611828376048, -74.99113290801877], [-101.64888037800125, -75.01764291778457], [-101.79062883177788, -75.06358326609202], [-101.78305823444707, -75.06523691192537], [-101.76101823607458, -75.08291025176914], [-101.76070817748085, -75.08291025176914]], &quot;type&quot;: &quot;LineString&quot;}, &quot;properties&quot;: {&quot;featurecla&quot;: &quot;Antarctic Ice Shelf Edge&quot;, &quot;scalerank&quot;: 5}, &quot;type&quot;: &quot;Feature&quot;}, {&quot;geometry&quot;: {&quot;coordinates&quot;: [[[-127.25791154672346, -73.72624887481061], [-127.2496433175568, -73.74263030384715], [-127.25860917855941, -73.77859710072225], [-127.2847574532991, -73.81539072051406], [-127.3107248605258, -73.83880014434234], [-127.45978552947172, -73.90866668080089], [-127.49570064991453, -73.93124928171247], [-127.50745703826091, -73.94458180124379], [-127.52944536020111, -73.98235727324916], [-127.54182186573505, -73.99413949981167], [-127.6048671131311, -74.03604908640042], [-127.62148108611292, -74.04256031686917], [-127.69261369516276, -74.05372242624419], [-127.70922766814458, -74.05883839304106], [-127.8455759347467, -74.13103036895288], [-127.95786882211691, -74.15480152780708], [-127.98636837452587, -74.16715219512483], [-128.05339270720845, -74.20580616647922], [-128.20056718637568, -74.26011809681793], [-128.26927100310778, -74.29629159942228], [-128.19002519418814, -74.30145924265143], [-128.25790218800353, -74.31851246530773], [-128.68796637664457, -74.3427228738365], [-129.1180305652856, -74.36693328236524], [-129.54809475392665, -74.391143690894], [-129.9781589425677, -74.41535409942276], [-130.07479387095356, -74.40372690215706], [-130.4293975493403, -74.41018645619351], [-130.5218725249266, -74.38951588327683], [-130.52905554901523, -74.38579518015175], [-130.8834525216729, -74.3747881000736], [-130.94804806203774, -74.38078256621947], [-130.96461035858727, -74.40408863718308], [-130.97706437876957, -74.4116333962977]], [[-119.89686214890754, -73.82882659290996], [-119.9868308175277, -73.84448455189438], [-120.07568844285362, -73.84494963978507], [-120.34908260789375, -73.81373707468072], [-120.35926286505529, -73.8093962543682], [-120.37598019090166, -73.79926767363904]], [[-123.34920956103076, -73.84541472767566], [-123.34977800178602, -73.83880014434234], [-123.34962297248907, -73.83709482207672], [-123.6883232288381, -73.84675831491526], [-124.02702348518713, -73.85642180775382]], [[-117.29609066452221, -74.06328256621816], [-117.30815711146232, -74.06111215606194], [-117.39866838262157, -74.04498910918693], [-117.82000356057462, -74.01493065107046], [-118.24133873852769, -73.98487219295399], [-118.66267391648074, -73.95481373483751], [-118.76677608933275, -73.92577157988948], [-118.83687516973666, -73.92199920033221], [-118.86007788783569, -73.91548796986346], [-118.86653744187224, -73.9125940896551], [-118.87149837937224, -73.90959685658217], [-118.87441809779669, -73.90530771270193], [-118.87449561244517, -73.89368051543623], [-118.87542578822637, -73.89057992949881], [-118.87728613978895, -73.8888746072331], [-118.87759619838268, -73.88877125436852]], [[-115.12487952356295, -74.09490854278081], [-115.12265743697444, -74.09392669056724], [-115.14190690800315, -74.09661386504644], [-115.1632492745397, -74.09744068796314], [-115.20745846236537, -74.10193653757256], [-115.38439856653277, -74.08297128692138], [-115.57495541060904, -74.08648528431729], [-115.73690934941177, -74.06674488718178], [-116.12313900436128, -73.95832773223343], [-116.15269792363219, -73.93745045358747], [-116.16106950566343, -73.9153329405666]], [[-132.16531226288902, -74.419643243303], [-132.34377682180894, -74.40512216582894]], [[-132.88583675833456, -74.4296167947353], [-132.89263220918096, -74.42785979603738], [-132.90725663951952, -74.42558603301649], [-132.94554887584778, -74.42977182403216], [-133.0577384103535, -74.46026091908436], [-133.34981360566718, -74.49793303822517], [-133.44368384492526, -74.49054330840742], [-133.7915265234206, -74.50761375654116], [-134.13936920191597, -74.5246842046749], [-134.4872118804113, -74.54175465280863], [-134.540283576375, -74.55849781687121], [-134.52798458548955, -74.56810963327754], [-134.56100582572407, -74.59348276153281], [-134.60007320853668, -74.60795216257458], [-134.64348141166192, -74.61368824655892], [-134.7539914621181, -74.61947600697562]]], &quot;type&quot;: &quot;MultiLineString&quot;}, &quot;properties&quot;: {&quot;featurecla&quot;: &quot;Antarctic Ice Shelf Edge&quot;, &quot;scalerank&quot;: 5}, &quot;type&quot;: &quot;Feature&quot;}, {&quot;geometry&quot;: {&quot;coordinates&quot;: [[-95.69089779334203, -72.05126067493414], [-95.84789079464468, -71.99048919055888], [-95.89160905636362, -71.96320403430875], [-95.91419165727521, -71.95989674264209], [-95.96467953162437, -71.96124032988169], [-95.99537533240573, -71.95503915800667], [-96.017027757536, -71.94356699003782], [-96.06617204464555, -71.91540333443879]], &quot;type&quot;: &quot;LineString&quot;}, &quot;properties&quot;: {&quot;featurecla&quot;: &quot;Antarctic Ice Shelf Edge&quot;, &quot;scalerank&quot;: 5}, &quot;type&quot;: &quot;Feature&quot;}, {&quot;geometry&quot;: {&quot;coordinates&quot;: [[-101.69420060912125, -73.33583342884552], [-101.70484595417338, -73.3337146951215], [-101.69107418496755, -73.34498015736119], [-101.67745744505868, -73.35454029733516], [-101.64810523151682, -73.3943311501999], [-101.64252417682935, -73.40735361113741], [-101.64508216022779, -73.41432992949686], [-101.66133439818357, -73.42513030384585], [-101.69688778360036, -73.46042530710119], [-101.70218461791028, -73.48021738066899], [-101.68701758503265, -73.50161142363783], [-101.66143775104815, -73.51458220814312], [-101.57146908242798, -73.52930999134625], [-101.5507209948628, -73.53928354277863], [-101.51989600300077, -73.56672372832563], [-101.50160254596943, -73.57494028106], [-101.46573910195883, -73.58176157012248], [-101.43101253945875, -73.59235523874233], [-101.42240841348207, -73.59902149850802], [-101.41669816771385, -73.60775481556539], [-101.40982520221907, -73.61591969186748], [-101.39791378457574, -73.62108733509662], [-101.36874243854702, -73.62863209421124], [-101.3553582425834, -73.63870899850819], [-101.33414506712762, -73.67793141061767]], &quot;type&quot;: &quot;LineString&quot;}, &quot;properties&quot;: {&quot;featurecla&quot;: &quot;Antarctic Ice Shelf Edge&quot;, &quot;scalerank&quot;: 5}, &quot;type&quot;: &quot;Feature&quot;}, {&quot;geometry&quot;: {&quot;coordinates&quot;: [[-83.42301612011582, -73.68645802194587], [-83.42203426790226, -73.68196217233645], [-83.42141415071478, -73.68077361439373], [-83.42110409212106, -73.67953338001871], [-83.42115576855335, -73.6781381163469], [-83.41534216992054, -73.66759612415936], [-83.40461931021991, -73.6544186339249], [-83.40268144400895, -73.64067270293526], [-83.4231711494127, -73.62873544707583], [-83.4074098375637, -73.61643645619036], [-83.39402564160008, -73.60170867298723], [-83.44955196809772, -73.6023287901747], [-83.47541602245977, -73.59922820423719], [-83.49164242219945, -73.5888929177788], [-83.48978207063695, -73.58326018665895], [-83.48476945670458, -73.57550872181517], [-83.48531205924365, -73.56656869902875], [-83.50029822460831, -73.55742197051309], [-83.51122779003808, -73.55618173613806], [-83.54910661490806, -73.56067758574747], [-83.68509314648406, -73.54331430449733], [-83.7280879381509, -73.5538562966849], [-83.74454688183593, -73.56021249785678], [-83.75167822949214, -73.56160776152866]], &quot;type&quot;: &quot;LineString&quot;}, &quot;properties&quot;: {&quot;featurecla&quot;: &quot;Antarctic Ice Shelf Edge&quot;, &quot;scalerank&quot;: 5}, &quot;type&quot;: &quot;Feature&quot;}, {&quot;geometry&quot;: {&quot;coordinates&quot;: [[-109.28143775107863, -75.1764962706497], [-109.30453711631309, -75.16802133575388], [-109.39316219769364, -75.14492197051942], [-109.45600073936065, -75.10327076609211], [-109.41845781130051, -75.09495086049316], [-109.14601966025778, -75.12419972117034], [-109.10462683799199, -75.11923878367034], [-109.12263607464577, -75.09324553822754], [-109.1539778308308, -75.07831104929517], [-109.22255245648203, -75.05841562286278], [-109.20144263389084, -75.05314462676907], [-109.2491658191124, -75.04218922312319], [-109.28174780967244, -75.02968352650849], [-109.28882748089637, -75.02317229603975], [-109.29340084515425, -75.01635100697726], [-109.30283179404746, -75.00787607208134], [-109.33040117067522, -74.99392343536255], [-109.59697404665286, -74.9425053852321], [-109.64818539105406, -74.91857919708102], [-109.62294145387948, -74.91227467234143], [-109.59738745811117, -74.90204273874761], [-109.57382300498611, -74.88850351348712], [-109.55449601930891, -74.8719670551537], [-109.53713273805889, -74.8620451801537], [-109.46457902712105, -74.84798919057033], [-109.52940711143121, -74.80158375437217], [-109.61004818402266, -74.78055144642946], [-109.69510759157511, -74.76820077911161], [-109.77313900433583, -74.74830535267924], [-109.91044328493537, -74.67874887481443], [-110.03369157595142, -74.66050709421538], [-110.05389706097762, -74.64092172637675], [-110.04557715537858, -74.63926808054342], [-110.02575924359469, -74.63032805775691], [-110.05069312217545, -74.62531544382462], [-110.09787370485793, -74.60908904408494], [-110.12712256553513, -74.590330499163]], &quot;type&quot;: &quot;LineString&quot;}, &quot;properties&quot;: {&quot;featurecla&quot;: &quot;Antarctic Ice Shelf Edge&quot;, &quot;scalerank&quot;: 5}, &quot;type&quot;: &quot;Feature&quot;}, {&quot;geometry&quot;: {&quot;coordinates&quot;: [[-110.18042680544426, -74.43964202259987], [-110.18321733278803, -74.434526055803], [-110.18918596071771, -74.40589731231337], [-110.2044305082438, -74.39261646921433], [-110.19117550336095, -74.39261646921433], [-110.19913367393389, -74.38160938913617], [-110.21874487998862, -74.37215260202669], [-110.27775936566599, -74.35742481882357]], &quot;type&quot;: &quot;LineString&quot;}, &quot;properties&quot;: {&quot;featurecla&quot;: &quot;Antarctic Ice Shelf Edge&quot;, &quot;scalerank&quot;: 5}, &quot;type&quot;: &quot;Feature&quot;}, {&quot;geometry&quot;: {&quot;coordinates&quot;: [[-103.52473487019627, -75.11536305124841], [-103.61925106485813, -75.11308928822761], [-103.60888994018354, -75.10719817494632], [-103.62111141642062, -75.10115203236818], [-103.57196712931106, -75.09081674590978], [-103.55656755248809, -75.08539072051917], [-103.67017818888169, -75.08167001739412], [-103.77655412475451, -75.09453744903485], [-104.16461829305035, -75.09166940704263], [-104.5526824613462, -75.08880136505041], [-104.98216529012397, -74.99376840606568], [-105.16236100952575, -74.92147307728938], [-105.19832780640084, -74.89460133249756], [-105.18396175822375, -74.89408456817468], [-105.17135270874455, -74.88927865997155], [-105.16091406942157, -74.88054534291419], [-105.1531626045778, -74.86845305775788], [-105.1913773262576, -74.86395720814849], [-105.26465450724747, -74.82111744577853], [-105.30310177287262, -74.81439950958062], [-105.27051978231258, -74.80204884226278], [-105.25760067423964, -74.79274708445024], [-105.25201961955209, -74.77817433054398], [-105.26873694539856, -74.77662403757523], [-105.30338599325025, -74.76923430775747], [-105.31819129110185, -74.76876921986687], [-105.39283789754744, -74.78923308705443], [-105.71850277385083, -74.80042103464564], [-106.04416765015422, -74.81160898223683], [-106.12338762085767, -74.83682708119522], [-106.16229997437351, -74.84256316517966], [-106.20519141317575, -74.83114267364319], [-106.25821143270716, -74.78809620554398], [-106.27529049357965, -74.78111988718463], [-106.44223120809858, -74.79104176218462], [-106.55914913615895, -74.77791594838254], [-106.54687598348958, -74.76711557403354], [-106.55181108277348, -74.75781381622102], [-106.55181108277348, -74.74877044056993], [-106.54741858602866, -74.74019215280944], [-106.53902116578124, -74.73238901153337], [-106.62216854533882, -74.7417424457782], [-106.77626766643321, -74.80835336700247], [-106.85618526897261, -74.83016082142962], [-106.9173184883739, -74.83589690541403], [-106.93636125367345, -74.84147796010149], [-106.99196509481948, -74.88018360788817], [-107.00638281942896, -74.88684986765378], [-107.07418229859587, -74.89088062937259], [-107.11012325725487, -74.90865732208093], [-107.1319565498982, -74.91289478952889], [-107.5483652413061, -74.92555551544038], [-107.56869991741297, -74.92943124786231], [-107.62652584514758, -74.95149708445089], [-107.84467790406772, -74.97314950958118], [-107.88627743206266, -74.98570688262816], [-107.86953426800008, -74.99640390411258], [-107.8502072823229, -75.00120981231572], [-107.80966712118992, -75.00151987090945], [-107.81672095419775, -75.02797820424287], [-107.82217281780463, -75.03572966908663], [-107.83289567750515, -75.04249928171693], [-107.84826941611202, -75.04606495554503], [-108.16323727093099, -75.0534546853628], [-108.20959103069677, -75.06322153106592], [-108.18628495973316, -75.06544361765452], [-108.13964697958974, -75.06404835398263], [-108.1165217761391, -75.06632211700344], [-108.2359201729495, -75.0713347309358], [-108.27041419150433, -75.08182504669098], [-108.1285882230792, -75.1001185037224], [-107.92090064169824, -75.09634612416505], [-107.88749182822148, -75.1010486795036], [-107.85857886435423, -75.11288258249846], [-107.83907101116407, -75.12595671986826], [-107.83007931194527, -75.12838551218601], [-107.79946102581229, -75.13014251088393], [-107.78434566936696, -75.13344980255059], [-107.75618201376783, -75.14388844187356], [-107.79457760296077, -75.14182138458192], [-107.83336076539574, -75.14399179473813], [-108.01608862997985, -75.17437753692576], [-108.04518246136017, -75.19256764109252], [-107.7922263252915, -75.18259408966014], [-107.76517371298662, -75.19184417104039], [-107.91072038453672, -75.20595183705613], [-107.98428178590423, -75.2214030903114], [-108.08662696005825, -75.22062794382697], [-108.10621232789688, -75.22378020619678], [-108.1649684314127, -75.2442957498167], [-108.1861299304363, -75.24863657012924], [-108.20044430218111, -75.24992848093646]], &quot;type&quot;: &quot;LineString&quot;}, &quot;properties&quot;: {&quot;featurecla&quot;: &quot;Antarctic Ice Shelf Edge&quot;, &quot;scalerank&quot;: 5}, &quot;type&quot;: &quot;Feature&quot;}, {&quot;geometry&quot;: {&quot;coordinates&quot;: [[-97.05122819699324, -71.88078012480321], [-97.33668880897358, -71.88651620878763], [-97.47551754432567, -71.90894378040232]], &quot;type&quot;: &quot;LineString&quot;}, &quot;properties&quot;: {&quot;featurecla&quot;: &quot;Antarctic Ice Shelf Edge&quot;, &quot;scalerank&quot;: 5}, &quot;type&quot;: &quot;Feature&quot;}, {&quot;geometry&quot;: {&quot;coordinates&quot;: [[-85.39421362988932, -73.39696664824682], [-85.39214657259768, -73.3966049132207], [-85.44219519727235, -73.38198048288216], [-85.4608762275459, -73.37360890085083], [-85.47090145541046, -73.3646688780644], [-85.46681901725947, -73.34932097767373], [-85.42620134147802, -73.31247568144954], [-85.41193864616548, -73.29309701934014], [-85.43560645215513, -73.2928386371787], [-85.44315121126974, -73.29387216582447], [-85.42682145866547, -73.28395029082448], [-85.41382483594407, -73.2708244770223], [-85.39191402865234, -73.23847503040761], [-85.58502885612714, -73.20137135202206]], &quot;type&quot;: &quot;LineString&quot;}, &quot;properties&quot;: {&quot;featurecla&quot;: &quot;Antarctic Ice Shelf Edge&quot;, &quot;scalerank&quot;: 5}, &quot;type&quot;: &quot;Feature&quot;}, {&quot;geometry&quot;: {&quot;coordinates&quot;: [[[-93.33292802607994, -72.56383920683722], [-93.38941036657496, -72.55128183379031], [-93.7781980049229, -72.53505543405063], [-94.16698564327083, -72.51882903431095], [-94.47789689815491, -72.46157154733159], [-94.6319443428169, -72.4530449360034], [-94.67031409379365, -72.44632699980548], [-94.91558336055894, -72.36496245716194], [-95.16085262732423, -72.28359791451841], [-95.276065233119, -72.26721648548187], [-95.31345313188217, -72.25786305123705], [-95.35016923702548, -72.24199838652339], [-95.34482072628327, -72.24024138782548], [-95.33440792517649, -72.23528045032548], [-95.34404557979894, -72.22768401477856], [-95.35277889685631, -72.21848560983062], [-95.3671449450334, -72.195179538867], [-95.37585242387456, -72.18716969186178], [-95.40696163611435, -72.16861785266892], [-95.477732510138, -72.10614104602811], [-95.50630957719542, -72.09105152779888], [-95.53687618689611, -72.08128468209566], [-95.61353817420104, -72.0675904275383]], [[-102.29209693073823, -72.12686329537712], [-102.28938391804284, -72.1458285460282], [-102.320570644931, -72.15001433704387], [-102.4426820544367, -72.20386117949207], [-102.710779385167, -72.26918018990892], [-103.00481828490774, -72.25036996855471], [-103.29885718464847, -72.23155974720049], [-103.34552100300807, -72.2351770974609], [-103.39262407104209, -72.24923308704427], [-103.40631832559944, -72.26561451608082], [-103.39626725951868, -72.2854582660809], [-103.37469234903679, -72.3038550759768], [-103.35384090860703, -72.31563730253939], [-103.32857113321626, -72.32385385527375], [-103.25211585164048, -72.33739308053424], [-103.05298071980371, -72.4103085264981], [-102.98990963419146, -72.4530449360034], [-102.96763709187371, -72.46353525175866], [-102.80772437214652, -72.49014861438903], [-102.78434078653443, -72.49981210722757], [-102.76478125691199, -72.51443653756613], [-102.74850318074002, -72.5373808735038], [-102.74876156290145, -72.55551930123818], [-102.76111223021921, -72.57246917103], [-102.78095598021929, -72.59179615670709], [-102.75842505574009, -72.60667896920718], [-102.7377544828233, -72.62714283639473], [-102.73018388549258, -72.64874358509272], [-102.74705624063583, -72.66672698353031], [-102.80847368041475, -72.70295216256694], [-102.85146847208158, -72.71566456491072]], [[-89.42471696649403, -72.64347258899899], [-89.42425187860343, -72.64336923613442], [-89.45766069208008, -72.6375814757177], [-89.47900305861663, -72.6299333637385], [-89.52018917515326, -72.61008961373842], [-89.54277177606474, -72.60218311959778], [-89.80368608270643, -72.58766204212372], [-89.84761105015457, -72.57221078886846], [-89.83642310256334, -72.56321908964966], [-89.84414872919103, -72.53732919707143], [-89.86877254917806, -72.53562387480581], [-89.87825517450364, -72.53577890410267], [-89.88755693231616, -72.53443531686315], [-89.89662614618345, -72.53174814238396], [-89.84838619663898, -72.52223967884228], [-89.86722225620929, -72.51567677194114], [-89.90052771682147, -72.5104574522797], [-89.82469255243316, -72.50885548287866], [-89.78518591994597, -72.50069060657657], [-89.75877926304483, -72.48332732532646], [-89.87104631219893, -72.4565589333993], [-90.03832292352769, -72.46369028105552], [-90.0724810452727, -72.47888315214934], [-90.07896643752525, -72.48663461699311], [-90.09139461949147, -72.51495330188911], [-90.0975957913665, -72.52187794381616], [-90.10514055048111, -72.52559864694123], [-90.1133312649994, -72.52849252714958], [-90.121418626653, -72.53288502389441], [-90.15431067580687, -72.5594983865247], [-90.18278438999963, -72.59071095162895], [-90.20903601760389, -72.60698902780092], [-90.24608801955713, -72.6114848774103], [-90.31758236363302, -72.61029631946758], [-90.33856299514355, -72.61577402129055], [-90.3787672594666, -72.6348943012385], [-90.39731909865935, -72.64006194446775], [-90.44478390171949, -72.63985523873859], [-90.45770300979243, -72.64259408964999], [-90.47204321975343, -72.6528260232438], [-90.48118994826908, -72.66538339629071], [-90.49266211623785, -72.67814747506687], [-90.51415951207125, -72.68915455514502], [-90.70512976760594, -72.74780730579626], [-90.74489478225448, -72.74413827910357], [-90.74722022170766, -72.74336313261915], [-90.75104427769722, -72.74114104603063], [-90.77925960972863, -72.73127084746284]], [[-91.68550920283116, -72.6110197895197], [-91.69602535680261, -72.61194996530091], [-91.7157915921542, -72.6209416645197], [-91.74671993688091, -72.61768604928534], [-91.7660727607742, -72.60636891061344], [-91.78539974645139, -72.60238982532694], [-92.18627966995555, -72.60626555774887], [-92.37626807327663, -72.63639291777497], [-92.4321819730165, -72.63458424264476], [-92.64483049189755, -72.57680999134243], [-93.08588884150865, -72.53717416777457], [-93.16565141475118, -72.54683766061319], [-93.16146562373552, -72.5472510720715]]], &quot;type&quot;: &quot;MultiLineString&quot;}, &quot;properties&quot;: {&quot;featurecla&quot;: &quot;Antarctic Ice Shelf Edge&quot;, &quot;scalerank&quot;: 5}, &quot;type&quot;: &quot;Feature&quot;}, {&quot;geometry&quot;: {&quot;coordinates&quot;: [[-85.7869545153076, -73.16948699329797], [-85.80134640170087, -73.16271738066777], [-85.80747005892744, -73.15682626738649], [-85.80343929720871, -73.148247979626], [-85.78617936882316, -73.13651742949571], [-85.79276811394038, -73.13434701933949], [-85.80560970736494, -73.12773243600617], [-85.81222429069837, -73.12571705514671], [-85.77514645052892, -73.10142913196952], [-85.76165890170071, -73.09533131295908], [-85.77468136263823, -73.08918181751636], [-85.80491207552899, -73.06236174915692], [-85.80757341179199, -73.05652231230792], [-85.80545467806806, -73.05125131621419], [-85.80514461947433, -73.04706552519852], [-85.81328365756033, -73.0444300271516], [-85.82842485222176, -73.04520517363603], [-85.85436642123238, -73.04055429472977], [-85.92482723666228, -73.03946908965162], [-86.41500403516685, -72.94670989368768], [-86.45988501661236, -72.94758839303668], [-86.48138241244578, -72.9403020160835], [-86.49652360710729, -72.94169727975539], [-86.57460669630032, -72.9295016417345], [-86.60261532260247, -72.92857146595321], [-86.71144588900924, -72.9407671039741], [-87.11493547234411, -72.92216358834904], [-87.18955624057358, -72.91032968535418], [-87.21120866570388, -72.91436044707297], [-87.23151750359463, -72.92076832467714], [-87.25433264845148, -72.9237138813178], [-87.39887162957189, -72.92557423288028], [-87.70719906284134, -72.8935606830755], [-88.0155264961108, -72.86154713327073], [-88.1092933825044, -72.84268523548414], [-88.10877661818142, -72.84330535267169]], &quot;type&quot;: &quot;LineString&quot;}, &quot;properties&quot;: {&quot;featurecla&quot;: &quot;Antarctic Ice Shelf Edge&quot;, &quot;scalerank&quot;: 5}, &quot;type&quot;: &quot;Feature&quot;}, {&quot;geometry&quot;: {&quot;coordinates&quot;: [[-97.76157243527737, -71.88599944446474], [-97.90220984575967, -71.87736948027197], [-97.9846854316975, -71.86186655058441]], &quot;type&quot;: &quot;LineString&quot;}, &quot;properties&quot;: {&quot;featurecla&quot;: &quot;Antarctic Ice Shelf Edge&quot;, &quot;scalerank&quot;: 5}, &quot;type&quot;: &quot;Feature&quot;}, {&quot;geometry&quot;: {&quot;coordinates&quot;: [[-99.15257280149386, -71.91617848092312], [-99.15040239133764, -71.91385304147005], [-99.16835995155904, -71.91467986438667], [-99.21910620806965, -71.89855681751165], [-99.32705827512741, -71.89685149524603], [-99.40870703814853, -71.91106251412626], [-99.84565711139244, -71.90356943144394], [-99.95012101927048, -71.89034026477718], [-99.94438493528607, -71.8938025857408]], &quot;type&quot;: &quot;LineString&quot;}, &quot;properties&quot;: {&quot;featurecla&quot;: &quot;Antarctic Ice Shelf Edge&quot;, &quot;scalerank&quot;: 5}, &quot;type&quot;: &quot;Feature&quot;}, {&quot;geometry&quot;: {&quot;coordinates&quot;: [[-113.84382076704748, -74.02323333119199], [-113.87423234745121, -74.0109860167388], [-113.90280941450864, -73.99982390736379], [-113.92900936568061, -73.9858195942127], [-113.95138526086293, -73.96938648874387], [-113.96391679569373, -73.95667408640008], [-113.96523454471715, -73.95047291452508], [-113.96244401737337, -73.94504688913439], [-113.96259904667033, -73.93465992624371], [-113.96337419315466, -73.9310425759833], [-113.96345170780315, -73.93000904733744]], &quot;type&quot;: &quot;LineString&quot;}, &quot;properties&quot;: {&quot;featurecla&quot;: &quot;Antarctic Ice Shelf Edge&quot;, &quot;scalerank&quot;: 5}, &quot;type&quot;: &quot;Feature&quot;}, {&quot;geometry&quot;: {&quot;coordinates&quot;: [[-110.68070634646186, -74.24756072377103], [-110.87193498415789, -74.28967701608886]], &quot;type&quot;: &quot;LineString&quot;}, &quot;properties&quot;: {&quot;featurecla&quot;: &quot;Antarctic Ice Shelf Edge&quot;, &quot;scalerank&quot;: 5}, &quot;type&quot;: &quot;Feature&quot;}, {&quot;geometry&quot;: {&quot;coordinates&quot;: [[-156.79659949443283, -77.17193002716812], [-156.96111141663397, -77.15089771922538], [-156.9721960113606, -77.14516163524095], [-156.99043779195966, -77.12402597443358], [-157.0014965484701, -77.11518930451163], [-156.96653744202467, -77.10449228302721], [-156.99514034729822, -77.10531910594393], [-157.0805098134444, -77.09100473419903], [-157.11035295309296, -77.08108285919903], [-157.08407548727251, -77.07167774852192], [-157.0737143625979, -77.06568328237606], [-157.06642798564485, -77.05462452586562], [-157.1667061025072, -77.03793303823534], [-157.1901413645516, -77.0269259581571], [-157.1182336090174, -77.01364511505815], [-157.0972271392908, -77.00330982859975], [-157.15748185934308, -77.00961435333934], [-157.14794755758527, -77.00346485789662], [-157.1401444163091, -76.99504159943308], [-157.1793151519864, -76.98920216258409], [-157.19151079000727, -76.98181243276633], [-157.18443111878338, -76.96842823680271], [-157.26091223857526, -76.96553435659436], [-157.33863359274224, -76.97235564565693], [-157.4892703928731, -77.00449838654248], [-157.47462012431834, -77.01540211375605], [-157.4932236399434, -77.01715911245397], [-157.48128638408397, -77.02956145620401], [-157.69685462138955, -77.0704375141469], [-157.65466081442315, -77.09260670360007], [-157.56091976624575, -77.10878142690746], [-157.51658138733933, -77.12640309031903], [-157.54564938050353, -77.13229420360032], [-157.60394039612876, -77.13234588003252], [-157.63060543519134, -77.13927052195967], [-157.6194174876002, -77.13932219839197], [-157.60848792217044, -77.14071746206386], [-157.5978684153344, -77.14345631297533], [-157.5875331288761, -77.14764210399092], [-157.59670569560785, -77.14779713328787], [-157.6220271474309, -77.1539983051629]], &quot;type&quot;: &quot;LineString&quot;}, &quot;properties&quot;: {&quot;featurecla&quot;: &quot;Antarctic Ice Shelf Edge&quot;, &quot;scalerank&quot;: 5}, &quot;type&quot;: &quot;Feature&quot;}, {&quot;geometry&quot;: {&quot;coordinates&quot;: [[-155.30263383687475, -77.13492970164714], [-155.3014711171482, -77.11188201284497], [-155.28198910217415, -77.09705087677719], [-155.25736528218704, -77.08314991649067], [-155.24106136779898, -77.07152271922506], [-155.27447018127572, -77.06273772573542], [-155.51688432515687, -77.03488412873011], [-155.51572160543031, -77.01193979279253], [-155.54290340881585, -77.00563526805293], [-155.60770565490984, -77.00920094188103], [-155.6573408681262, -77.00077768341743], [-155.68137040914192, -77.0008293598497], [-155.70511572978003, -77.01038949982376], [-155.69335934143356, -77.02108652130818], [-155.68700314026168, -77.02558237091759], [-155.67896745504038, -77.02894133901654], [-155.70366878967576, -77.02770110464152], [-155.60540605367282, -77.06258269643854], [-155.62341529032653, -77.06191090281871], [-155.589851447553, -77.07849903758441], [-155.60587114156345, -77.0789124490428], [-155.59370134175873, -77.08759408966779], [-155.61090959371194, -77.08671559031887], [-155.64447343648544, -77.09043629344384], [-155.66057064514445, -77.09131479279284]], &quot;type&quot;: &quot;LineString&quot;}, &quot;properties&quot;: {&quot;featurecla&quot;: &quot;Antarctic Ice Shelf Edge&quot;, &quot;scalerank&quot;: 5}, &quot;type&quot;: &quot;Feature&quot;}, {&quot;geometry&quot;: {&quot;coordinates&quot;: [[126.68232466034704, -66.40519703558857], [126.5135494324818, -66.37419117621349]], &quot;type&quot;: &quot;LineString&quot;}, &quot;properties&quot;: {&quot;featurecla&quot;: &quot;Antarctic Ice Shelf Edge&quot;, &quot;scalerank&quot;: 5}, &quot;type&quot;: &quot;Feature&quot;}, {&quot;geometry&quot;: {&quot;coordinates&quot;: [[-154.52467098693677, -77.08966114695951], [-154.523120693968, -77.0893510883657], [-154.58781958719743, -77.09224496857405], [-154.63381161193718, -77.08826588328762], [-154.62177100321315, -77.0807728006053], [-154.63879838765337, -77.08216806427718], [-154.68967383524466, -77.07787892039694], [-154.67052771708052, -77.06831878042297], [-154.69587500711975, -77.06718189891252], [-154.90020362040178, -77.1040788715689], [-154.89441585998506, -77.10371713654288]], &quot;type&quot;: &quot;LineString&quot;}, &quot;properties&quot;: {&quot;featurecla&quot;: &quot;Antarctic Ice Shelf Edge&quot;, &quot;scalerank&quot;: 5}, &quot;type&quot;: &quot;Feature&quot;}, {&quot;geometry&quot;: {&quot;coordinates&quot;: [[-153.42264523009644, -77.20293588654329], [-153.44336747944544, -77.19389251089221], [-153.45755266010957, -77.18820810334009], [-153.47866248270077, -77.17534067169944], [-153.49716264546126, -77.1580290668816], [-153.48695655008362, -77.1507426899285], [-153.47571692606013, -77.14521331167325], [-153.4637538319846, -77.1414409321159], [-153.45137732645065, -77.13942555125655], [-153.4735465159039, -77.1342579080274], [-153.49721432189355, -77.13172576284506], [-153.47463172098196, -77.12826344188153], [-153.45367692768764, -77.12061532990234], [-153.6070525787299, -77.10340707794916], [-153.7224460520377, -77.10712778107413], [-153.8252304758662, -77.0812378884959], [-154.0996581695522, -77.08557870880843]], &quot;type&quot;: &quot;LineString&quot;}, &quot;properties&quot;: {&quot;featurecla&quot;: &quot;Antarctic Ice Shelf Edge&quot;, &quot;scalerank&quot;: 5}, &quot;type&quot;: &quot;Feature&quot;}, {&quot;geometry&quot;: {&quot;coordinates&quot;: [[-152.4212851633606, -77.28928720490298], [-152.40255245665477, -77.28882211701237], [-152.38469824929797, -77.28618661896547], [-152.36862687885522, -77.27905527130915], [-152.35552690326924, -77.26551604604876], [-152.537143724559, -77.26236378367896], [-152.52073645730636, -77.25688608185598], [-152.50231380919428, -77.25430226024136], [-152.48657833556138, -77.25037485138724], [-152.47810340066553, -77.2406596821163], [-152.4932445953271, -77.2415381814653], [-152.5078948638818, -77.23947112417366], [-152.52210588276205, -77.23497527456426], [-152.53572262267093, -77.22846404409542], [-152.48027381082176, -77.2217461078975], [-152.5062670562646, -77.2123409972204], [-152.42423072000125, -77.21404631948602], [-152.41619503477983, -77.2087753233922], [-152.43112952371223, -77.20102385854844], [-152.4549781972149, -77.19404754018908], [-152.9194201324381, -77.16944955841815], [-152.9634484527508, -77.1728602029494], [-152.97481726785506, -77.1799915506057], [-152.95856502989926, -77.19327239370466], [-152.99499691466497, -77.19099863068385], [-153.12299943745197, -77.2060364724808]], &quot;type&quot;: &quot;LineString&quot;}, &quot;properties&quot;: {&quot;featurecla&quot;: &quot;Antarctic Ice Shelf Edge&quot;, &quot;scalerank&quot;: 5}, &quot;type&quot;: &quot;Feature&quot;}, {&quot;geometry&quot;: {&quot;coordinates&quot;: [[139.5984355002425, -66.6260104307718], [139.59006391821123, -66.61965422959992], [139.58830691951323, -66.61453826280297], [139.59037397680498, -66.60751026801132], [139.59709191300288, -66.59810515733422], [139.56267540909653, -66.5924207497821], [139.45477501847108, -66.59443613064144]], &quot;type&quot;: &quot;LineString&quot;}, &quot;properties&quot;: {&quot;featurecla&quot;: &quot;Antarctic Ice Shelf Edge&quot;, &quot;scalerank&quot;: 5}, &quot;type&quot;: &quot;Feature&quot;}, {&quot;geometry&quot;: {&quot;coordinates&quot;: [[[-149.6397753570344, -76.4300114887537], [-149.64047298887036, -76.42980478302454], [-150.07676418760258, -76.46577157989968], [-150.51305538633477, -76.50173837677482], [-150.55692867735053, -76.5157943663582], [-150.57568722227253, -76.53424285268639], [-150.56847835996786, -76.54897063588962], [-150.5466450673245, -76.55982268667088], [-150.5215044830145, -76.56674732859804], [-150.49527869362635, -76.57036467885845], [-150.14496415911975, -76.54574085887138], [-149.79464962461316, -76.52111703888431], [-149.93156633197046, -76.55470671987402], [-150.02375708717915, -76.56271656687925], [-150.0531609771532, -76.56969288523868], [-150.03988013405421, -76.57403370555113], [-150.01357683001768, -76.57847787872825], [-150.00016679583788, -76.58281869904077], [-150.1254304677134, -76.61997405385861], [-150.1841865712293, -76.64596729930142], [-150.39065975645144, -76.69381967560375]], [[-150.43107072650366, -76.78781910594263], [-150.38283077695917, -76.8063192687031], [-150.35730261940705, -76.8117452940938], [-150.3449261138731, -76.81649952586464], [-150.37489844460242, -76.81035003042192], [-150.38941952207642, -76.80972991323443], [-150.4030362619854, -76.81422576284376], [-150.38001441139932, -76.81960011180215], [-150.35787106016224, -76.82781666453653], [-150.37761145729775, -76.83246754344279], [-150.29529090065677, -76.86181975698456], [-150.21007646380747, -76.87938974396384], [-150.0935461089893, -76.87468718862529], [-150.0804719716195, -76.87608245229717], [-150.0693615386768, -76.87980315542215]], [[-150.80115149636194, -76.990080661933], [-150.79983374733854, -76.98703175242778], [-150.80934221088023, -76.99338795359975], [-150.8269897125079, -77.00051930125596], [-150.84654924213032, -77.0039299457873], [-150.86502356667472, -77.0039299457873], [-150.9719421050866, -76.9815023741726], [-151.0088649159591, -76.97840178823509], [-150.9965917632898, -76.96584441518819], [-151.13397355853772, -76.93917937612554], [-151.5329931304795, -76.94057463979742], [-151.55622168679463, -76.94574228302666], [-151.59472062885203, -76.94584563589115], [-151.65066036680798, -76.93917937612554], [-151.70070899148274, -76.94031625763597], [-151.72148291726404, -76.96393238719332], [-151.61893103738083, -76.95964324331317], [-151.5972786122506, -76.96553435659436], [-151.6015677561308, -76.98026213979759], [-151.69344845274566, -77.0043950336779], [-151.66127987364402, -77.00821908966745], [-151.71057919005045, -77.01162973419879], [-151.6991328602978, -77.02630584096963], [-151.69316423236813, -77.03193857208947], [-151.68450842995924, -77.03684783315718], [-151.70380957742026, -77.0421705056832], [-151.75726884662618, -77.06811207469381], [-151.81101233620967, -77.08557870880843], [-151.82659278054572, -77.0965341124543], [-151.6767569651155, -77.06883554474587], [-151.70249182839677, -77.08046274201148], [-151.7569846262486, -77.09632740672514], [-151.78049740294136, -77.10971160268875], [-151.7679658681106, -77.11084848419911], [-151.74199846088396, -77.10991830841792], [-151.7216121083448, -77.11177865998039], [-151.71605689187342, -77.11007333771477], [-151.71187110085776, -77.11095183706377], [-151.70747860411294, -77.11901336050128], [-151.70691016335775, -77.1243360330273], [-151.70499813536298, -77.12764332469396], [-151.7017425201285, -77.12888355906898], [-151.69711747943845, -77.12805673615236], [-151.55503312885196, -77.14423145945968], [-151.2795977447363, -77.11766977326168], [-151.11206275124601, -77.08309824005838], [-151.07185848692296, -77.08433847443341], [-151.17745927631137, -77.11069345490225], [-151.21236670632447, -77.13084726349607], [-151.22905819395476, -77.13699675893888], [-151.37641354063504, -77.17089649852232], [-151.32918128152028, -77.19952524201196], [-151.13128638405854, -77.21745696401726], [-151.13082129616794, -77.21735361115269]], [[-151.5118574696721, -77.27776336050194], [-151.5449820627711, -77.28101897573632], [-151.7368566558709, -77.22846404409542], [-151.76241065163921, -77.22768889761109], [-151.84672075092345, -77.24029794709028], [-151.83049435118375, -77.23078948354859], [-151.81532731830612, -77.2241232237829], [-151.80907446999882, -77.21528655386105], [-151.81971981505095, -77.19931853628282], [-151.82971920469942, -77.19513274526714], [-151.9471797352988, -77.16102629995453], [-151.98014929910102, -77.15663380320971], [-152.1225437082813, -77.15694386180354], [-152.15923397520856, -77.1616464171421], [-152.2713459950658, -77.20303923940787], [-152.2594604156386, -77.20722503042344], [-152.2762035797012, -77.2141496723506], [-152.28677141010485, -77.2245366352413], [-152.29524634500075, -77.23647389110073], [-152.30560746967527, -77.24810108836635], [-152.21434689024778, -77.2828793272988], [-151.9695297922651, -77.32711435334065], [-151.92976477761644, -77.3484050434449], [-151.96983985085882, -77.35512297964281], [-151.9608739898561, -77.36271941518973], [-151.82026241759002, -77.3812712543825], [-151.79186621804564, -77.39977141714297]]], &quot;type&quot;: &quot;MultiLineString&quot;}, &quot;properties&quot;: {&quot;featurecla&quot;: &quot;Antarctic Ice Shelf Edge&quot;, &quot;scalerank&quot;: 5}, &quot;type&quot;: &quot;Feature&quot;}, {&quot;geometry&quot;: {&quot;coordinates&quot;: [[-152.00521236876264, -77.38979786571069], [-151.9960398020308, -77.3794625792523], [-151.97565344949163, -77.37295134878354], [-151.99337846576776, -77.34762989696048], [-152.00125912169221, -77.33786305125736], [-152.01596106667935, -77.3318169086792], [-152.06177222390605, -77.32308359162185], [-152.27253455300843, -77.31543547964264]], &quot;type&quot;: &quot;LineString&quot;}, &quot;properties&quot;: {&quot;featurecla&quot;: &quot;Antarctic Ice Shelf Edge&quot;, &quot;scalerank&quot;: 5}, &quot;type&quot;: &quot;Feature&quot;}, {&quot;geometry&quot;: {&quot;coordinates&quot;: [[-135.69514848523377, -74.6752865538509], [-135.70385596407502, -74.67730193471024], [-135.71850623262975, -74.6824695779394], [-135.73558529350217, -74.68427825306969], [-135.75579077852836, -74.68164275502278], [-135.7249916248823, -74.67053232208005], [-135.7417089507288, -74.67068735137691], [-135.77312822156222, -74.67854216908526], [-135.78899288627588, -74.68071257924149], [-135.83697445365888, -74.67203093861652], [-135.85467363171884, -74.6743563780696], [-135.9506109282687, -74.70970305775722], [-135.98805050346414, -74.71735116973643]], &quot;type&quot;: &quot;LineString&quot;}, &quot;properties&quot;: {&quot;featurecla&quot;: &quot;Antarctic Ice Shelf Edge&quot;, &quot;scalerank&quot;: 5}, &quot;type&quot;: &quot;Feature&quot;}, {&quot;geometry&quot;: {&quot;coordinates&quot;: [[-141.2988116118838, -75.5016443826302], [-141.28558244521713, -75.49983570750001], [-141.32410722549076, -75.4958049457812], [-141.33888668512617, -75.49115406687494], [-141.34247819717046, -75.4796302224739], [-141.33617367243085, -75.45926970815084], [-141.3167433338891, -75.42288949981734], [-141.3632779611679, -75.40743824656208], [-141.45257483616834, -75.4257833800257], [-141.49660315648094, -75.42428476348923], [-141.5358255685905, -75.41818694447879], [-141.99207678929542, -75.44185475046851], [-141.93766150609213, -75.50190276479165]], &quot;type&quot;: &quot;LineString&quot;}, &quot;properties&quot;: {&quot;featurecla&quot;: &quot;Antarctic Ice Shelf Edge&quot;, &quot;scalerank&quot;: 5}, &quot;type&quot;: &quot;Feature&quot;}, {&quot;geometry&quot;: {&quot;coordinates&quot;: [[-137.00806576225733, -75.00999480580528], [-137.00429338269998, -75.00865121856577], [-137.00984859917133, -75.00983977650841], [-137.00806576225733, -75.00999480580528]], &quot;type&quot;: &quot;LineString&quot;}, &quot;properties&quot;: {&quot;featurecla&quot;: &quot;Antarctic Ice Shelf Edge&quot;, &quot;scalerank&quot;: 5}, &quot;type&quot;: &quot;Feature&quot;}, {&quot;geometry&quot;: {&quot;coordinates&quot;: [[-124.5998308989264, -73.72692066843035], [-124.61905453173901, -73.72056446725847], [-124.62618587939524, -73.71792896921164], [-124.63254208056712, -73.7141565896543], [-124.6258241443692, -73.6934860167376], [-124.6159797840176, -73.6934860167376], [-124.59205359586643, -73.68769825632089], [-124.8591819934912, -73.6676219623755], [-125.12631039111598, -73.64754566843013], [-125.22560665576486, -73.62212086374248]], &quot;type&quot;: &quot;LineString&quot;}, &quot;properties&quot;: {&quot;featurecla&quot;: &quot;Antarctic Ice Shelf Edge&quot;, &quot;scalerank&quot;: 5}, &quot;type&quot;: &quot;Feature&quot;}, {&quot;geometry&quot;: {&quot;coordinates&quot;: [[[-142.48059994196666, -75.43306975697888], [-142.84509965713738, -75.38945484812453], [-143.20959937230813, -75.34583993927019], [-143.58719906306487, -75.39085011179647], [-143.7149173654742, -75.37787932729117], [-143.9680802072721, -75.38025644317659], [-144.22124304906998, -75.382633559062], [-144.1995906239397, -75.37844776804643], [-144.18039282934328, -75.36744068796818], [-144.47735144750857, -75.35999928171815], [-144.63168311254822, -75.37942962025991], [-144.7609775461425, -75.37291838979115], [-144.8036881174317, -75.37689747507758], [-144.74441524959292, -75.38433888132762], [-144.76792802628574, -75.39131519968706], [-144.78947709855146, -75.39379566843702], [-144.84937008357772, -75.39441578562457], [-144.88208126521846, -75.4019605447392], [-144.84151526586936, -75.40852345164024], [-145.0044252186695, -75.41854867950491], [-145.1849826730973, -75.40294239695277], [-145.30647396541548, -75.41415618276008], [-145.3363946197125, -75.40991871531213], [-145.32091752824104, -75.39426075632771], [-145.3152847971213, -75.38966155385373], [-145.40564103898356, -75.41250253692675], [-145.43706030981707, -75.41508635854129], [-145.43806800024674, -75.40521615997358], [-145.44225379126232, -75.39245208119752], [-145.44798987524675, -75.38128997182241], [-145.45370012101506, -75.37601897572867], [-145.46540483292915, -75.37617400502555], [-145.4752750314969, -75.38020476674433], [-145.4944728260933, -75.39203866973911], [-145.5187090728382, -75.40180551544233], [-145.59268388566403, -75.41818694447879], [-145.6686999175654, -75.44779754018208], [-145.68738094783885, -75.4513632140102], [-145.7005842762895, -75.44299163197896], [-145.6845129058467, -75.4311060525518], [-145.6575119699742, -75.4203573546351], [-145.55751807348935, -75.40087533966104], [-145.542919481367, -75.39420907989542], [-145.54493486222634, -75.3745720356245], [-145.56751746313785, -75.37162647898384], [-145.76675594783916, -75.40893686309855], [-145.81703711645918, -75.42562835072883], [-145.79918290910234, -75.43622201934866], [-145.81866492407642, -75.43978769317687], [-145.8201377023967, -75.45291350697894], [-145.81161109106858, -75.47017343536442], [-145.8011724517456, -75.4858830707812], [-145.81471167700607, -75.48882862742185], [-145.8182773508342, -75.49425465281246], [-145.81316138403733, -75.50066253041663], [-145.79817521867267, -75.51141122833333]], [[-146.12174719946825, -75.54758473093767], [-146.15616370337466, -75.55182219838562], [-146.17164079484604, -75.56169239695333], [-146.18859066463773, -75.56928883250023], [-146.21411882218996, -75.57192433054715], [-146.2668804595599, -75.56773853953149], [-146.30354488827106, -75.5752832986461], [-146.36416134334937, -75.57512826934925], [-146.45136532284192, -75.593680108542], [-146.42976457414395, -75.57915903106803], [-146.44637854712573, -75.57993417755237], [-146.49552283423532, -75.59140634552122], [-146.46389685767275, -75.57931406036491], [-146.45257971900077, -75.57032236114611], [-146.4484714426336, -75.55368254994812], [-146.54293596086313, -75.56861703888049], [-146.56745642798558, -75.58194955841182], [-146.58916052954825, -75.59786589955768], [-146.6132159087801, -75.6076844216931], [-146.63897661027755, -75.61336882924522], [-146.99451046444568, -75.65083424265688], [-147.1004988270763, -75.68685271596426], [-147.19196611223293, -75.73237965281342], [-147.24167884009768, -75.74333505645929], [-147.2941562570901, -75.7297958311988], [-147.28333004452497, -75.72137257273528], [-147.54899858293743, -75.72824553823006], [-147.5864123199168, -75.7338782693499], [-147.60196692603665, -75.73186288849054], [-147.60819393612786, -75.72013233836026], [-147.78012142636288, -75.72452483510507], [-147.8255708485636, -75.73930429474049], [-147.83327063697504, -75.74943287546972], [-147.83575110572508, -75.76049163198017], [-147.8414871897095, -75.76720956817817], [-147.8589796620402, -75.76452239369897], [-147.86701534726166, -75.75863128041769], [-147.8797019113893, -75.73951100046973], [-147.88605811256122, -75.7325346821103], [-147.9121030344363, -75.721682631329], [-147.9408092925745, -75.71889210398524], [-147.9996170725226, -75.72199268992274], [-147.97519995826474, -75.75305022573022], [-147.99744666236637, -75.74612558380306], [-148.03398189999677, -75.72896900828218], [-148.2831139800758, -75.73992441192804], [-148.31205278215924, -75.75914804474057], [-148.33672827857865, -75.74814096466241], [-148.36437516985478, -75.74478199656346], [-148.39021338600074, -75.75129322703222], [-148.40954037167793, -75.76994841908966], [-148.35339392799273, -75.81361500437623], [-148.33776180722452, -75.83097828562629], [-148.30809953508893, -75.88523853953279], [-148.29512875058373, -75.90182667429849], [-148.22407365618233, -75.96187468862163], [-148.14586137590865, -76.0141195616687], [-148.17503272193736, -76.03876921987191], [-148.20797644752344, -76.05773447052309], [-148.24407243547927, -76.07184213653875], [-148.28652462460713, -76.08796518341376]]], &quot;type&quot;: &quot;MultiLineString&quot;}, &quot;properties&quot;: {&quot;featurecla&quot;: &quot;Antarctic Ice Shelf Edge&quot;, &quot;scalerank&quot;: 5}, &quot;type&quot;: &quot;Feature&quot;}, {&quot;geometry&quot;: {&quot;coordinates&quot;: [[-35.621231045054856, -78.0841740864166], [-35.630300258922034, -78.0868095844635], [-35.635416225718984, -78.0935791970937], [-35.638646002737175, -78.099832045401], [-35.63934363457312, -78.1025708963125], [-35.647870245901316, -78.10195077912502], [-35.663424852021166, -78.09450937287498], [-35.6712796697295, -78.0922356098541], [-35.712078213023915, -78.08897999461972], [-35.74124955905273, -78.07921314891658], [-35.75321265312826, -78.08463917430718], [-35.764607306448625, -78.09497446076558], [-35.780497809378375, -78.10401783641666], [-35.79463131361024, -78.10603321727602], [-35.91485653333726, -78.10939218537499], [-35.94976396335039, -78.12210458771884], [-35.96232133639731, -78.12474008576567], [-35.951314256319165, -78.13910613394285], [-35.97893530937921, -78.15409229930751], [-36.06053239596804, -78.17765675243257], [-35.97113216810314, -78.18086069123467], [-35.951081712373906, -78.19259124136494]], &quot;type&quot;: &quot;LineString&quot;}, &quot;properties&quot;: {&quot;featurecla&quot;: &quot;Antarctic Ice Shelf Edge&quot;, &quot;scalerank&quot;: 5}, &quot;type&quot;: &quot;Feature&quot;}, {&quot;geometry&quot;: {&quot;coordinates&quot;: [[-60.86987077497352, -65.91122201931057], [-60.859354621002154, -65.91225554795642], [-60.941907721588365, -65.88259327582094], [-61.015159064362166, -65.8494686827218], [-61.03864600283873, -65.8428024229562], [-61.11083797875054, -65.83086516709675], [-61.30426286481898, -65.75505584092454], [-61.27746863467564, -65.73350676865883], [-61.28356645368609, -65.70942555121078], [-61.29444434268356, -65.68369068792943], [-61.28204199893352, -65.65707732529916], [-61.27025977237096, -65.65464853298148], [-61.25416256371204, -65.65583709092412], [-61.23979651553495, -65.6541317686585], [-61.233130255769225, -65.64348642360638], [-61.27532406273562, -65.60028492621039], [-61.30136898461063, -65.58886443467392], [-61.43304053409031, -65.56679859808526], [-61.48438106957238, -65.57553191514259], [-61.49983232282764, -65.57620370876236], [-61.516963060132326, -65.57336150498628], [-61.5682519191821, -65.55408619574148], [-61.60855953636974, -65.54938364040292], [-61.6216853501719, -65.54121876410075], [-61.63320919457294, -65.53191700628821], [-61.64907385928652, -65.5252507465226], [-61.660313483310006, -65.52757618597578], [-61.68855465355753, -65.53904835394452], [-61.704496832919574, -65.5436992328508], [-61.700982835523746, -65.54571461371015]], &quot;type&quot;: &quot;LineString&quot;}, &quot;properties&quot;: {&quot;featurecla&quot;: &quot;Antarctic Ice Shelf Edge&quot;, &quot;scalerank&quot;: 5}, &quot;type&quot;: &quot;Feature&quot;}, {&quot;geometry&quot;: {&quot;coordinates&quot;: [[[-60.74770768903551, -68.70557341906138], [-60.744813808827246, -68.6969434548686], [-60.72959509951724, -68.67399911893102], [-60.7081752183322, -68.66087330512893], [-60.65864335798054, -68.67508432400916], [-60.63582821312363, -68.66810800564973], [-60.62864518903501, -68.6530184874205], [-60.63913550479029, -68.64371672960796], [-60.65375993512893, -68.63488005968603], [-60.65910844587114, -68.62108245226419], [-60.67561906598837, -68.60557952257655], [-60.76458004417884, -68.58087818794104], [-60.792640346913316, -68.56372161242017], [-60.71892391624891, -68.53648813260233], [-60.6790038723035, -68.51478403103977], [-60.65926347516799, -68.49168466580531], [-60.6646119859102, -68.47256438585727], [-60.682104458241014, -68.45737151476345], [-60.70228410505101, -68.44465911241969], [-60.71569413923072, -68.43308359158635], [-60.718381313709926, -68.41401498807059], [-60.70460954450411, -68.36843637478916], [-60.70533301455623, -68.34554371528384], [-60.69300818545457, -68.3385673969245], [-60.68223364932169, -68.32347787869526], [-60.67877132835815, -68.30694142036184], [-60.698046637603056, -68.28301523221067], [-60.6911219956759, -68.26456674588248], [-60.663811001209694, -68.23128712348658], [-60.6529847886446, -68.21320037218442], [-60.644354824451824, -68.17361622504882], [-60.637740241118394, -68.1543925922362], [-60.628696865467305, -68.14188689562158], [-60.59448706729012, -68.10829721463188], [-60.57182695173017, -68.08008188260055], [-60.55901119652182, -68.06974659614215], [-60.51867774111798, -68.04742237739202], [-60.503820766834025, -68.03584685655869], [-60.49940243187308, -68.02096404405862], [-60.509375983305375, -67.99982838325121], [-60.52588660342269, -67.9864441872876], [-60.54312069359196, -67.9779175759595], [-60.55381771507638, -67.9657736143709], [-60.550794643787356, -67.94158904405829], [-60.539503343331575, -67.90929127387588], [-60.53206193708152, -67.89451181424037], [-60.5204347398159, -67.87973235460495], [-60.55970882835766, -67.85539275499548], [-60.610377570219896, -67.84195688259956], [-60.71109493675675, -67.8311048318183], [-60.73391008161357, -67.82381845486512], [-60.74902543805902, -67.80955575955258], [-60.77773169619712, -67.77028167101074], [-60.79398393415289, -67.75457203559402], [-60.81747087262957, -67.73736378364086], [-60.84002763532496, -67.73111093533355], [-60.853799404530776, -67.74816415798985], [-60.86974158389282, -67.73622690213041], [-60.88219560407515, -67.71617644640116], [-60.891213141510065, -67.69354216905731], [-60.89663916690074, -67.67344003689578], [-60.898189459869485, -67.6504957009582], [-60.89237586123659, -67.63401091905706], [-60.84131954613227, -67.5602686501766], [-60.81617896182226, -67.53112314236398], [-60.78377783877528, -67.51293303819722], [-60.73595130068912, -67.50580169054092], [-60.453617112862474, -67.50797210069723], [-60.41672014020611, -67.49923878363987], [-60.40501542829202, -67.49097055447312], [-60.39904680036224, -67.48104867947313], [-60.39506771507581, -67.47148853949915], [-60.389254116443, -67.46404713324911], [-60.38008154971115, -67.46022307725947], [-60.358196580635536, -67.45619231554076], [-60.34837805850012, -67.45123137804067], [-60.33290096702868, -67.43262786241561], [-60.2980968898801, -67.359919122181], [-60.29003536644251, -67.34813689561842], [-60.284919399645645, -67.34364104600903], [-60.28241309267952, -67.33795663845689], [-60.282103034085765, -67.32260873806621], [-60.280320197171676, -67.31299692165994], [-60.275333421455485, -67.3028683409307], [-60.26846045596071, -67.29372161241504], [-60.24673051618194, -67.2714490700973], [-60.24507687034861, -67.25682463975866], [-60.26267269554401, -67.18897348415946], [-60.262646857327894, -67.17605437608644], [-60.259339565661236, -67.16773447048749], [-60.24817745628613, -67.1542469216593], [-60.24665300153356, -67.14572031033119], [-60.24693722191111, -67.10727304470605], [-60.24910763206742, -67.08990976345592], [-60.270320807523206, -67.0589555805131], [-60.27835649274462, -67.0432976215287], [-60.289725307848784, -67.03079192491398], [-60.312127041247294, -67.02386728298691], [-60.382251959867375, -67.02407398871608], [-60.404085252510725, -67.01900969835151], [-60.38356970889089, -67.00216318142435], [-60.28396338564826, -66.97627328884612], [-60.2568590969112, -66.95715300889808], [-60.189240485257244, -66.8919373513458], [-60.13397254092115, -66.85855437608524], [-60.07588823102509, -66.83194101345495], [-60.06444190127243, -66.82145069769969], [-60.06103125674119, -66.80698129665791], [-60.064364386623964, -66.7926669249131], [-60.07317521832971, -66.78274504991302], [-60.08418229840794, -66.78072966905366], [-60.115265672431434, -66.78331349066828], [-60.12846900088198, -66.78259002061614], [-60.09568030459289, -66.76465829861084], [-60.09172705752246, -66.75282439561607], [-60.10645484072569, -66.73556446723052], [-60.1207433742544, -66.72977670681391], [-60.21613806826517, -66.72280038845446], [-60.29313595238011, -66.700579522569], [-60.366697353747554, -66.66802337022506], [-60.397057257718984, -66.64513071071976], [-60.411759202706094, -66.61433155707381], [-60.40124304873464, -66.57324879340176], [-60.38661861839611, -66.5564539529069], [-60.3695912339559, -66.54198455186521], [-60.35767981631264, -66.52549976996409], [-60.358532477445465, -66.50260711045878], [-60.365715501534055, -66.49413217556297], [-60.45369462751097, -66.42695281358353], [-60.482297532784486, -66.39450001410415], [-60.48671586774543, -66.38685190212496], [-60.48702592633916, -66.37620655707283], [-60.48309851748502, -66.36799000433845], [-60.46591610374796, -66.34416716905196], [-60.471342129138634, -66.329129327255], [-60.50475094261529, -66.28070851019748], [-60.5097635565476, -66.26127817165572], [-60.51219234886534, -66.22608652126496], [-60.517282477446116, -66.2078964170982], [-60.51976294619615, -66.18758757920753], [-60.510461188383545, -66.15368783962407], [-60.51782507998519, -66.13802988063966], [-60.53283708356594, -66.12888315212399], [-60.568132086821294, -66.12076995225411], [-60.58435848656097, -66.11379363389474], [-60.59838863792817, -66.10020273220198], [-60.60730282249847, -66.08283945095195], [-60.61084265811047, -66.06320240668101], [-60.61484758161319, -66.0426351866288]], [[-61.29341081403771, -69.85149830513365], [-61.229021979402035, -69.83196461372728], [-60.89922298851536, -69.81103565864913], [-60.91020423037733, -69.80411101672199], [-60.89547644717419, -69.80354257596682], [-60.87312639020789, -69.79790984484697], [-60.85209408226507, -69.78881479276359], [-60.84124203148377, -69.77811777127917], [-60.844549323150545, -69.7654570453677], [-60.871937832265246, -69.70861296984666], [-60.88883602562467, -69.69796762479452], [-60.93035803897115, -69.68851083768503], [-60.948729010650936, -69.6813794900288], [-60.97689266624997, -69.6598820941954], [-60.99195634626312, -69.65218230578391], [-61.010714891185046, -69.65058033638286], [-61.06053097191446, -69.65337086372665], [-61.11052792015681, -69.65027027778905], [-61.157915208568454, -69.64034840278904], [-61.19972144229257, -69.62241668078374], [-61.21969438337342, -69.6095492491431], [-61.2929974025794, -69.54278329862197], [-61.31074825707165, -69.52976083768448], [-61.330256110261814, -69.5197356098198], [-61.40048438174645, -69.49441415799683], [-61.41115556501478, -69.4865593402884], [-61.42198177757987, -69.47141814562687], [-61.429138963452374, -69.46413176867378], [-61.47004085961137, -69.44278940213724], [-61.48714575869997, -69.4299736469288], [-61.49854041202033, -69.40770110461105], [-61.48941952172086, -69.3652230772671], [-61.44766496442895, -69.3396949197149], [-61.35211524112134, -69.30212615343876], [-61.197551032136346, -69.19003997179772], [-61.027793952057436, -69.10007130317754], [-60.84578955752556, -69.0428138161981], [-60.798324754465426, -69.03501067492203], [-60.775716315337775, -69.02679412218765], [-60.76178951683508, -69.01025766385425], [-60.75272030296787, -68.98984547309898], [-60.71241268578018, -68.92984913520806], [-60.736881476470415, -68.9247331684112], [-60.766827968983534, -68.91057382596324], [-60.785250617095556, -68.89202198677046], [-60.775044521717916, -68.87378020617143], [-60.826953497955145, -68.85615854275986], [-60.842017177968216, -68.84628834419215], [-60.79576677106701, -68.8411723773952], [-60.77287411156169, -68.83481617622331], [-60.75398637555901, -68.823602390416], [-60.76509680850174, -68.81435230903577], [-60.777576666900245, -68.80722096137944], [-60.79111589216075, -68.80226002387946], [-60.8015545314837, -68.7881006814315]], [[-60.6013858710011, -70.50789234810499], [-60.5734805975635, -70.49306121203728], [-60.56787370465983, -70.48437957141222], [-60.57324805361816, -70.46376067492781], [-60.58763994001146, -70.44396860135993], [-60.62575130882675, -70.4220061176359], [-60.641409267811184, -70.40727833443279], [-60.64133175316269, -70.39849334094313], [-60.63753353538925, -70.3870728494066], [-60.6377660793346, -70.37513559354724], [-60.64980668805859, -70.36459360135969], [-60.658798387277386, -70.35947763456274], [-60.68386145693893, -70.33906544380747], [-60.736468065012104, -70.30811126086466], [-60.86103410505157, -70.19866057727043], [-60.91674129906227, -70.16000660591615], [-60.938109503815014, -70.13003427518683], [-60.95203630231762, -70.11639169706176], [-60.96456783714842, -70.11101734810345], [-60.989966803619865, -70.10884693794713], [-61.00048295759123, -70.10507455838987], [-61.00541805687513, -70.09933847440546], [-61.01358293317722, -70.08362883898874], [-61.02012000186215, -70.07680754992617], [-61.010172288645975, -70.06207976672304], [-61.02309139671888, -70.04409636828545], [-61.0140996975002, -69.99862110786859], [-61.03151465518252, -69.98441008898834], [-61.10771155459685, -69.95919199002986], [-61.10541195335986, -69.96384286893621]], [[-60.691742112863466, -70.90946990344517], [-60.68039913597539, -70.91117522571079], [-60.69685807966033, -70.89603403104927], [-60.701353929269715, -70.88130624784614], [-60.7001395331109, -70.86399464302829], [-60.67758277041551, -70.80032927844476], [-60.674688890207165, -70.77872852974669], [-60.67998572451708, -70.75206349068412], [-60.69269812686085, -70.72048919055376], [-60.698821784087386, -70.70658823026724]], [[-60.19249610049164, -72.17616261178354], [-60.23481909853871, -72.15781747831993], [-60.27876990420293, -72.13657846464795], [-60.311145189033795, -72.10634775175728], [-60.32078284365625, -72.06614348743415], [-60.31920671247133, -72.05580820097583], [-60.31571855329159, -72.04309579863197], [-60.30946570498429, -72.03059010201736], [-60.299492153551995, -72.02097828561108], [-60.289027676012836, -72.01792937610587], [-60.278614874906054, -72.01823943469961], [-60.267840338773254, -72.01668914173084], [-60.256213141507544, -72.00816253040264], [-60.25205318870806, -71.99007577910056], [-60.2625951808956, -71.96956023548064], [-60.29574561221082, -71.93235320423052], [-60.271070115791446, -71.9437220193347], [-60.259339565661236, -71.9459441059233], [-60.24673051618194, -71.94310190214722], [-60.26233679873417, -71.92863250110545], [-60.28145707868211, -71.9144731586575], [-60.3021793280312, -71.90367278430851], [-60.32248816592187, -71.8996420225898], [-60.28179297549204, -71.89752328886578], [-60.251613939033575, -71.88496591581887], [-60.24184709333042, -71.8619182270167], [-60.26244015159875, -71.8282768695947], [-60.304143032458256, -71.80218027128731], [-60.30918148460674, -71.79132822050602], [-60.29923377139056, -71.77985605253718], [-60.28148291689823, -71.77789234811011], [-60.26722022158569, -71.7730347634747], [-60.26776282412476, -71.7528292784485], [-60.25169145368204, -71.74073699329227], [-60.268253750231565, -71.72042815540152], [-60.29892371279672, -71.70048105253684], [-60.439897020089035, -71.64467050566168], [-60.449353807198435, -71.63686736438561], [-60.45444393577921, -71.62172616972408], [-60.45656266950314, -71.5915988096979], [-60.45322953962037, -71.5866378721979], [-60.44666663271923, -71.58415740344785], [-60.44124060732864, -71.57950652454159], [-60.44131812197702, -71.568241062302], [-60.44434119326607, -71.56307341907275], [-60.50072018089659, -71.51733977649452], [-60.512166510649166, -71.5035421690725], [-60.525240648019036, -71.46478484485363], [-60.531467658110245, -71.45171070748384], [-60.52167497419083, -71.44767994576503], [-60.51389767113096, -71.44163380318687], [-60.508187425362735, -71.43357227974937], [-60.50446672223768, -71.42354705188471], [-60.52704932314924, -71.41750090930657], [-60.534439052967, -71.40613209420238], [-60.5293747626024, -71.39228281034818], [-60.51475033226379, -71.37910532011371], [-60.5043116929408, -71.37481617623347], [-60.4799979315475, -71.36908009224913], [-60.46891333682089, -71.36329233183243], [-60.46227291527137, -71.35585092558239], [-60.44410864932081, -71.3302194151656], [-60.40873613141699, -71.31952239368118], [-60.40186316592221, -71.31120248808222], [-60.47219479027146, -71.2600944965455], [-60.48981645368292, -71.25084441516526], [-60.4997900051153, -71.23983733508712], [-60.53994259300606, -71.15700001412326], [-60.546557176339405, -71.14712981555546], [-60.55534216982903, -71.14191049589402], [-60.58066362165209, -71.13658782336799], [-60.58500444196463, -71.1312134744096], [-60.58965532087089, -71.11974130644076], [-60.594099494047924, -71.10036264433137], [-60.59086971702973, -71.08573821399273], [-60.581903856027026, -71.07452442818541], [-60.566478440987964, -71.05602426542494]], [[-60.03558061383737, -72.86883351022382], [-60.030309617743626, -72.86945362741136], [-59.99726253929299, -72.85601775501547], [-59.967651943589686, -72.8388095030623], [-59.94274390322502, -72.81772551868718], [-59.92501888694889, -72.79576303496309], [-59.926414150620786, -72.78770151152557], [-59.93791215680571, -72.75674732858278], [-59.9401600816104, -72.74305307402543], [-59.937860480373416, -72.73297616972846], [-59.93339046898021, -72.7229509418639], [-59.89584754092019, -72.66424651478036], [-59.878484259670046, -72.64936370228028], [-59.855281541571, -72.64192229603023], [-59.802933315659374, -72.63995859160318], [-59.78076412620621, -72.63334400826975], [-59.760377773667045, -72.61567066842598], [-59.76042945009934, -72.61050302519673], [-59.76709570986495, -72.5953618305353], [-59.76763831240402, -72.58962574655087], [-59.76285824241708, -72.58543995553521], [-59.74738115094564, -72.57996225371224], [-59.74200680198723, -72.5760348448581], [-59.72575456403146, -72.55159189238404], [-59.71926917177879, -72.52647714629015], [-59.679142422104235, -72.49190561308694], [-59.67245032412242, -72.47128671660244], [-59.677178717677066, -72.46622242623786], [-59.686222093328155, -72.46141651803472], [-59.69552385114068, -72.45454355253986], [-59.70115658226052, -72.4431230610034], [-59.70495480003399, -72.4304623350919], [-59.7107683986668, -72.42596648548252], [-59.88884538434462, -72.37904428496147], [-59.911712205633734, -72.34814177845095], [-59.93589677594636, -72.32369882597689], [-59.991707322821526, -72.31046965931014], [-60.09389746767877, -72.29832569772154], [-60.10513709170226, -72.29413990670596], [-60.11774614118147, -72.28711191191422], [-60.12826229515284, -72.27765512480484], [-60.13311987978824, -72.26628630970058], [-60.13311987978824, -72.26282398873704], [-60.132577277249254, -72.25972340279952], [-60.131569586819495, -72.25693287545576], [-60.130587734605996, -72.25264373157552]]], &quot;type&quot;: &quot;MultiLineString&quot;}, &quot;properties&quot;: {&quot;featurecla&quot;: &quot;Antarctic Ice Shelf Edge&quot;, &quot;scalerank&quot;: 5}, &quot;type&quot;: &quot;Feature&quot;}, {&quot;geometry&quot;: {&quot;coordinates&quot;: [[-60.741144782134455, -73.71198617949807], [-60.73608049176988, -73.70170256947196], [-60.73755327009016, -73.69265919382087], [-60.747656012603215, -73.68542449329999], [-60.767964850493996, -73.68056690866457], [-60.70714168968644, -73.67793141061767], [-60.688589850493656, -73.6719369444719], [-60.7486120266006, -73.63617685332585], [-60.76737057152263, -73.63002735788314], [-60.79111589216075, -73.63219776803935], [-60.814628668853516, -73.6395874978571], [-60.83692704938744, -73.6417579080134], [-60.85090552432243, -73.62863209421124], [-60.59805274111832, -73.54398609811719], [-60.58211056175628, -73.53049854928898], [-60.58027604840987, -73.51799285267437], [-60.58329911969892, -73.50202483509614], [-60.57578019880049, -73.47804697051276], [-60.56172420921712, -73.4630608051481], [-60.54048519554513, -73.44791961048657], [-60.336544155505266, -73.34461842233509], [-60.25223405622103, -73.31769500111108]], &quot;type&quot;: &quot;LineString&quot;}, &quot;properties&quot;: {&quot;featurecla&quot;: &quot;Antarctic Ice Shelf Edge&quot;, &quot;scalerank&quot;: 5}, &quot;type&quot;: &quot;Feature&quot;}, {&quot;geometry&quot;: {&quot;coordinates&quot;: [[-61.56357520205964, -65.1421216775106], [-61.5539117092211, -65.13550709417729], [-61.547090420158526, -65.13142465602618], [-61.53889970564023, -65.12878915797937], [-61.528951992424055, -65.12806568792723], [-61.54378312849187, -65.12243295680747], [-61.55794247093979, -65.11933237086988], [-61.5701122707446, -65.11380299261471], [-61.57892310245032, -65.10067717881253], [-61.581687791577906, -65.08718962998434], [-61.57850969099201, -65.07804290146868], [-61.569492153557036, -65.07199675889052], [-61.45580400251495, -65.0375285785519], [-61.43169694685082, -65.0348414040727], [-61.41032874209807, -65.03411793402066]], &quot;type&quot;: &quot;LineString&quot;}, &quot;properties&quot;: {&quot;featurecla&quot;: &quot;Antarctic Ice Shelf Edge&quot;, &quot;scalerank&quot;: 5}, &quot;type&quot;: &quot;Feature&quot;}, {&quot;geometry&quot;: {&quot;coordinates&quot;: [[-61.23251013858177, -65.01070851019236], [-61.13644365095115, -65.04155934027068], [-61.094353196849426, -65.04786386501029], [-60.93276099307272, -65.0999020323282], [-60.882324795155824, -65.1012456195678], [-60.89245337588508, -65.09349415472403], [-60.850853847890136, -65.08238372178121], [-60.47681983096152, -65.09556121201567], [-60.46537350120886, -65.0931840961302], [-60.46157528343542, -65.08858489365622], [-60.462298753487545, -65.08212533961976], [-60.46165279808389, -65.07664763779687], [-60.453591274646385, -65.07530405055728], [-60.43759741885205, -65.07618254990618], [-60.38599850120855, -65.06610564560933], [-60.362253180570434, -65.06553720485405], [-60.33791358096104, -65.06781096787495], [-60.16402238629885, -65.10300261826572], [-60.060695359931174, -65.11013396592193], [-60.04167843284782, -65.1164901670939], [-60.01806230329046, -65.15214690537528], [-60.00274024111587, -65.16289560329199], [-59.72699479840648, -65.21607065212034], [-59.70761613629699, -65.2117298318078], [-59.699167039617265, -65.20206633896925], [-59.77776689313316, -65.17431609482844], [-59.84153561058136, -65.12739389430749], [-59.790866868719235, -65.09757659287501], [-59.91349504254785, -65.0891016579792], [-59.991138882066366, -65.06708749782281], [-60.02170549176705, -65.04776051214571], [-60.00664181175392, -65.0267282042029], [-60.019225023017015, -65.01768482855181], [-60.05028255882439, -65.00936492295277], [-60.059558478420826, -65.00213022243197], [-60.068240119045896, -64.98580046982771], [-60.07759355329071, -64.97453500758812], [-60.08986670595999, -64.9674553363641], [-60.10735917829078, -64.96373463323911], [-60.137305670803926, -64.96357960394225], [-60.19993750674166, -64.97081430446305], [-60.30016394717177, -64.9619776345412], [-60.458242153552646, -64.91314340602538], [-60.5604581366259, -64.89324797959301], [-60.58397091331875, -64.88198251735332], [-60.61986019554547, -64.85846974066055], [-60.643243781157565, -64.8484445127959], [-60.654225023019535, -64.84193328232715], [-60.65810075544147, -64.83547372829068], [-60.65755815290237, -64.82829070420209], [-60.65820410830602, -64.82007415146771], [-60.66585222028522, -64.81082407008746], [-60.706133999256764, -64.77955982855083], [-60.704919603097835, -64.781006768655]], &quot;type&quot;: &quot;LineString&quot;}, &quot;properties&quot;: {&quot;featurecla&quot;: &quot;Antarctic Ice Shelf Edge&quot;, &quot;scalerank&quot;: 5}, &quot;type&quot;: &quot;Feature&quot;}, {&quot;geometry&quot;: {&quot;coordinates&quot;: [[-21.990099249752888, -74.11144500111423], [-21.961625535560046, -74.12069508249448], [-21.951755336992335, -74.12384734486427], [-21.944365607174575, -74.12922169382267], [-21.940076463294332, -74.13728321726018], [-21.9465360173308, -74.16074431752065], [-21.97177995450548, -74.17469695423947], [-22.05420386401093, -74.19438567494268], [-22.08195410815165, -74.20678801869272], [-22.08789689786522, -74.21412607207817], [-22.091333380612667, -74.22544321075006], [-22.09735368497462, -74.23727711374492], [-22.111022101315882, -74.246320489396], [-22.095570848060618, -74.26352874134918], [-22.089834764076187, -74.26817962025544], [-22.129212205482617, -74.25830942168773], [-22.26411353198057, -74.25257333770332], [-22.35056820320483, -74.2364502908283], [-22.433922288491658, -74.21040536895319], [-22.451414760822388, -74.20058684681769], [-22.484436001056935, -74.17660898223431], [-22.49761349129139, -74.1695809874426], [-22.521901414468573, -74.1668421365311], [-22.54848893888277, -74.1677723123124], [-22.57233761238544, -74.16586028431762], [-22.58864152677353, -74.15438811634877], [-22.599829474364725, -74.1389885395258], [-22.61362708178666, -74.12798145944765], [-22.63049943692991, -74.12353728627053], [-22.69933244474268, -74.1398670388748], [-22.719047003662098, -74.15139088327584], [-22.72219926603188, -74.17273324981238], [-22.742688971435626, -74.16172616973424], [-22.757287563558066, -74.15686858509882], [-22.772635463948745, -74.15723032012484], [-22.81475175626659, -74.16570525502067], [-22.897924974040365, -74.17335336699986], [-22.965259365316683, -74.16446502064574], [-23.003990851319458, -74.16384490345817], [-23.02494564461378, -74.16027922963006], [-23.039104987061734, -74.1497889138748], [-23.042929043051373, -74.14456959421335], [-23.047502407309167, -74.14064218535913], [-23.058251105225963, -74.13356251413512], [-23.063263719158243, -74.12730966582781], [-23.06008561857226, -74.12276213978612], [-23.05512468107227, -74.11836964304139], [-23.054840460694635, -74.11237517689553], [-23.082151455160925, -74.08090422962974], [-23.134137946046565, -74.04979501739007], [-23.204547085044197, -73.99424285267624], [-23.227026333091175, -73.96613087350948], [-23.246663377362097, -73.96613087350948], [-23.288598802166973, -73.98416594837937], [-23.31156897632067, -73.97507089629599], [-23.359292161542243, -73.97274545684283], [-23.447193772870662, -73.9786882465564], [-23.46649492033177, -73.98736988718146], [-23.49584713387344, -74.01749724720756], [-23.515251634199103, -74.03046803171287], [-23.538738572675783, -74.03408538197326], [-23.55313045906908, -74.02586882923889], [-23.553104620852878, -74.01181283965552], [-23.533235032636696, -73.9979635558013], [-23.544526333092392, -73.98809335723351], [-23.54863460945967, -73.97786142363978], [-23.544578009524685, -73.96824960723342], [-23.531348842858023, -73.96008473093133], [-23.55364722339195, -73.95124806100941], [-23.56369828947271, -73.9441167133531], [-23.568039109785246, -73.9351250141344], [-23.570752122480542, -73.9220508767645], [-23.57759924975923, -73.91703826283222], [-23.66823971199915, -73.89450733835294], [-23.691468268314367, -73.89383554473318], [-23.755366176843353, -73.90375741973318], [-23.778052130619386, -73.90267221465503], [-23.800996466556995, -73.89357716257166], [-23.830322841882662, -73.86582691843093], [-23.853603074630087, -73.85611174916008], [-23.903315802494916, -73.8551815733788], [-23.99465389657078, -73.88024464304041], [-24.042273728927768, -73.88644581491543], [-24.066613328537244, -73.88158823028002], [-24.098265143316013, -73.86246795033198], [-24.11836727547754, -73.8591606586653], [-24.142009243251067, -73.86293303822256], [-24.160380214930854, -73.86990935658201], [-24.198310716233124, -73.8893396951238], [-24.295591600022476, -73.92236093535824], [-24.61006852873473, -73.96442555124386], [-24.71259457040182, -73.95729420358757], [-25.18821153410812, -74.02315581654355], [-25.66382849781442, -74.08901742949953], [-25.681863572684307, -74.09749236439544], [-25.68726375985881, -74.1205917296299], [-25.678142869559338, -74.1389368630935], [-25.675481533296306, -74.15438811634877], [-25.720310838309445, -74.17939950957802], [-25.741730719494484, -74.19634937936974], [-25.76046342620029, -74.21598642364066], [-25.772633226004984, -74.23474496856268], [-25.74087805836166, -74.2468372537189], [-25.71093156584854, -74.25288339629705], [-25.614942592866385, -74.25748259877102], [-25.602075161225656, -74.26265024200026], [-25.588174200939164, -74.28642140085448], [-25.57662451832192, -74.29525807077641], [-25.563188645926033, -74.30176930124517], [-25.505285203543025, -74.31804737741714], [-25.43973364918071, -74.34466074004742], [-25.388754848724773, -74.37556324655802], [-25.38642940927167, -74.40114308054244], [-25.33901628264394, -74.42739470814678], [-25.319198370859965, -74.44501637155827], [-25.313462286875534, -74.46687550241771], [-25.317673916107395, -74.47710743601152], [-25.323254970794864, -74.48558237090742], [-25.325632086680315, -74.49317880645434], [-25.32012854664123, -74.5009302712981], [-25.311989508555257, -74.50863005970959], [-25.30465145516979, -74.51808684681899], [-25.292429978932716, -74.5382406554128], [-25.31369483082088, -74.55472543731393], [-25.361004604584053, -74.60583342885056], [-25.381390957123216, -74.61606536244437], [-25.623107469168474, -74.65585621530911], [-25.67279435881713, -74.67916228627274], [-25.625200364676232, -74.68055754994462], [-25.414851447032163, -74.73378427520527], [-25.398030768321206, -74.74386117950213], [-25.38978837737065, -74.7596741677835], [-25.386067674245652, -74.77801930124713], [-25.37909135588623, -74.79553761179403], [-25.360849575287176, -74.80881845489307], [-25.27101009774779, -74.8585311827578], [-25.24974524585963, -74.86623097116929], [-25.087842983489253, -74.88571298614335], [-25.043142869556817, -74.8975468891382], [-25.006943528736286, -74.92085296010183], [-25.027226528410864, -74.93299692169042], [-25.097377285247035, -74.95320240671651], [-25.151017421966003, -74.98400156036254], [-25.197836269622485, -75.0022433409615], [-25.197629563893315, -75.017022800597], [-25.18512386727869, -75.0341276996856], [-25.17458187509115, -75.05231780385235], [-25.1766230941667, -75.07267831817532], [-25.19031734872405, -75.0897315408317], [-25.209799363698096, -75.10254729604006], [-25.22915218759141, -75.11014373158697], [-25.220341355885665, -75.1212541645297], [-25.321937221771435, -75.18739999786337], [-25.359299282318432, -75.20455657338425], [-25.668815273530612, -75.25460519805891], [-25.978331264742792, -75.30465382273357], [-26.003316819755923, -75.31297372833261], [-26.09147681324589, -75.3637716612755], [-26.116203986097503, -75.37152312611927], [-26.168500535576953, -75.38144500111936], [-26.193201870212363, -75.39048837677035], [-26.25983862965282, -75.4262484679164], [-26.283480597426262, -75.43399993276016], [-26.685742865494333, -75.45885629669252], [-27.088005133562405, -75.48371266062489], [-27.18660376637527, -75.50722543731776], [-27.37584286142811, -75.52743092234385], [-27.425529751076766, -75.5406600890106], [-27.450954555764298, -75.54422576283872], [-27.499323696389524, -75.54231373484394], [-27.522061326597964, -75.5447942035939], [-27.628308071390023, -75.58846078888057], [-27.64394019215834, -75.60081145619833], [-27.638850063577564, -75.61863982533905], [-27.615363125100913, -75.62990528757865], [-27.56128373870743, -75.64230763132869], [-27.492140672300934, -75.67248666778715], [-27.467542690530024, -75.6786361632299], [-27.07872921396597, -75.7235429828915], [-26.79957312672525, -75.80710377390749], [-26.65927161305288, -75.88218963002757], [-26.6371024235996, -75.89743417755368], [-26.61992000986254, -75.91898324981938], [-26.615966762792226, -75.93893035268404], [-26.61640601246671, -75.95784392690283], [-26.612401088964106, -75.97649911896028], [-26.60183325856036, -75.98781625763215], [-26.59025773772703, -75.9933973123197], [-26.58291968434159, -76.00114877716348], [-26.585167609146282, -76.01892546987183], [-26.607698533625552, -76.06372893666895], [-26.617439541112503, -76.07633798614813], [-26.629325120539647, -76.08770680125232], [-26.636844041438167, -76.09504485463778], [-26.626508754979767, -76.09514820750235]], &quot;type&quot;: &quot;LineString&quot;}, &quot;properties&quot;: {&quot;featurecla&quot;: &quot;Antarctic Ice Shelf Edge&quot;, &quot;scalerank&quot;: 5}, &quot;type&quot;: &quot;Feature&quot;}, {&quot;geometry&quot;: {&quot;coordinates&quot;: [[-16.5165573796138, -72.53035287871208], [-16.54133622889779, -72.51691700631616], [-16.541181199600828, -72.5019308409515], [-16.54614213710093, -72.4960914041026], [-16.565469122778097, -72.4893734679046], [-16.586191372127104, -72.48642791126396], [-16.94239701991499, -72.51000958986647], [-17.29860266770287, -72.533591268469], [-17.654808315490754, -72.5571729470715], [-17.601736619526974, -72.57407114043104], [-17.64010637050373, -72.57712004993617], [-17.658038092508946, -72.5828044574883], [-17.670828009501207, -72.59474171334773], [-17.66085445806891, -72.59815235787897], [-17.65271541998294, -72.6034233539728], [-17.64654008632411, -72.6106063780613], [-17.642405971740715, -72.61980478300927], [-17.744389410868735, -72.63019174589995], [-17.8150569320278, -72.65044890735834], [-18.000575323955673, -72.67101612741055], [-18.017447679099007, -72.66652027780115], [-17.993909064190063, -72.64812346790525], [-18.012409226950552, -72.64176726673337], [-18.04669653977612, -72.64006194446775], [-18.07064856614349, -72.6353077126969], [-18.060287441468972, -72.61856454863434], [-18.105711025453473, -72.62693613066557], [-18.119947882549894, -72.62461069121248], [-18.10695125982849, -72.60688567493634], [-18.12806108241969, -72.60595549915504], [-18.16816199387827, -72.61055470162901], [-18.18779903814911, -72.60843596790508], [-18.165474819399066, -72.5953618305353], [-18.2044388493471, -72.59644703561335], [-18.319444749412696, -72.58419972116019], [-18.724820522526286, -72.62623849882962], [-19.130196295639877, -72.66827727649907], [-19.287731899481685, -72.71204721465031], [-19.437748582424973, -72.7825855447287], [-19.38741573737269, -72.8127645811872], [-19.36961320644815, -72.83157480254141], [-19.38976701504197, -72.84263355905185], [-19.541463182034704, -72.84718108509352], [-19.58644751634486, -72.8598934874373], [-19.719772711657896, -72.93224049264599], [-19.796176316801393, -72.95394459420856], [-19.864931809965782, -72.9815914854847], [-19.88536983893721, -72.99978158965146], [-19.876843227609015, -73.02143401478173], [-19.863304002348542, -73.0413294412141], [-19.868704189523044, -73.05424854928712], [-20.011098598703313, -73.10137745553723], [-20.153467169667437, -73.17873707467821], [-20.349114142324453, -73.25216928496496], [-20.394098476634554, -73.27625050241299], [-20.4378942530019, -73.30596445098078], [-20.478098517324952, -73.34063933704866], [-20.51230831550214, -73.37960336699669], [-20.581063808666528, -73.48765878691903], [-20.587135789460774, -73.50729583118995], [-20.584009365307168, -73.52631275827332], [-20.571942918367057, -73.55029062285678], [-20.595869106518137, -73.55995411569533], [-20.621500616934924, -73.56527678822144], [-20.647803920971455, -73.56703378691935], [-20.67364213711741, -73.5659485818412], [-20.658940192130387, -73.56951425566939], [-20.647287156648588, -73.57571542754442], [-20.63943233894014, -73.58377695098193], [-20.63325700528131, -73.58920297637252]], &quot;type&quot;: &quot;LineString&quot;}, &quot;properties&quot;: {&quot;featurecla&quot;: &quot;Antarctic Ice Shelf Edge&quot;, &quot;scalerank&quot;: 5}, &quot;type&quot;: &quot;Feature&quot;}, {&quot;geometry&quot;: {&quot;coordinates&quot;: [[-12.911015183961382, -72.01265838001206], [-12.963389248089129, -72.00583709094957], [-13.21608700199647, -72.0371013324861], [-13.247661302126744, -72.01653411243399], [-13.261794806358608, -72.01188323352771], [-13.273266974327356, -72.00521697376209], [-13.29603044275197, -71.98713022245992], [-13.312437710004616, -71.97813852324113], [-13.329620123741705, -71.9742111143869], [-13.429097255903542, -71.96940520618378], [-13.698202277063473, -71.9984990375641], [-13.967307298223403, -72.02759286894442], [-14.070195074916512, -72.05518808378827], [-14.524405076545975, -72.07270639433527], [-14.954172125701291, -72.13869719837197], [-15.003342251027021, -72.13890390410114], [-15.072175258839792, -72.12903370553343], [-15.098271857147182, -72.1322893207678], [-15.20203813318929, -72.16856617623662], [-15.344923468476281, -72.15885100696579], [-15.37965003097645, -72.16939299915335], [-15.362751837616997, -72.1804000792315], [-15.348618333385161, -72.19409433378885], [-15.416521165416725, -72.20618661894515], [-15.529770066784323, -72.26902516061206], [-15.59552832687578, -72.28525156035175], [-15.696762457735531, -72.28499317819029], [-15.76094458664204, -72.30276987089866], [-16.06401394292581, -72.34958871855508], [-16.367083299209582, -72.39640756621151], [-16.381113450576862, -72.40291879668035], [-16.392404751032558, -72.41454599394596], [-16.399742804418025, -72.43294280384187], [-16.410672369847788, -72.4413143858732], [-16.415814174860827, -72.45903940214926], [-16.40961300298582, -72.45661060983159]], &quot;type&quot;: &quot;LineString&quot;}, &quot;properties&quot;: {&quot;featurecla&quot;: &quot;Antarctic Ice Shelf Edge&quot;, &quot;scalerank&quot;: 5}, &quot;type&quot;: &quot;Feature&quot;}, {&quot;geometry&quot;: {&quot;coordinates&quot;: [[-12.048793911171487, -71.66337737415131], [-12.059335903358942, -71.67898365670344], [-12.08951493981749, -71.70084278756288], [-12.124138149452989, -71.71887786243275], [-12.151759202513034, -71.7285413552714], [-12.41631669763126, -71.76207935982883], [-12.478070034220082, -71.76151091907357], [-12.507990688517026, -71.76616179797983], [-12.611498582397672, -71.81220549915187], [-12.743841925497122, -71.84863738391766], [-12.933391079143718, -71.87643930449067], [-12.988762376344482, -71.90496469511582], [-12.954991827841724, -71.92470509225132], [-12.899491339560257, -71.92336150501173], [-12.636044887736318, -71.87618092232924], [-12.584523484741283, -71.8736487771469], [-12.881404588258107, -71.94589242949101], [-12.915666062867672, -71.96666635527228], [-12.872516241903952, -71.97906869902232], [-12.858899501995012, -71.98573495878804], [-12.862826910849236, -72.0015996235016]], &quot;type&quot;: &quot;LineString&quot;}, &quot;properties&quot;: {&quot;featurecla&quot;: &quot;Antarctic Ice Shelf Edge&quot;, &quot;scalerank&quot;: 5}, &quot;type&quot;: &quot;Feature&quot;}, {&quot;geometry&quot;: {&quot;coordinates&quot;: [[-10.448142259146778, -70.99313404732574], [-10.458245001659918, -70.9951494281851], [-10.510929124381391, -70.98419402453924], [-10.66278032067109, -70.98372893664855], [-10.763084275749634, -70.96155974719537], [-10.81633683922638, -70.95944101347143], [-10.84338945153118, -70.98171355578918], [-10.720063645866617, -71.00419280383619], [-10.899975144890874, -70.99809498482574], [-10.9200772770524, -71.00233245227369], [-10.958162807651519, -71.02336476021651], [-10.972063767937925, -71.02238290800292], [-10.984931199578654, -71.01602670683104], [-11.003250494826176, -71.01215097440911], [-11.086191168654608, -71.0211943500602], [-11.412036912470967, -71.11731251412309], [-11.434929571976255, -71.13116179797731], [-11.435988938838307, -71.13865488065964], [-11.421545376012745, -71.15829192493057], [-11.41852230472361, -71.16991912219618], [-11.423405727575215, -71.1806161436806], [-11.433275926142926, -71.19048634224839], [-11.44516150557007, -71.19865121855048], [-11.607322150101965, -71.26918954862887], [-11.660135463904226, -71.27647592558205]], &quot;type&quot;: &quot;LineString&quot;}, &quot;properties&quot;: {&quot;featurecla&quot;: &quot;Antarctic Ice Shelf Edge&quot;, &quot;scalerank&quot;: 5}, &quot;type&quot;: &quot;Feature&quot;}, {&quot;geometry&quot;: {&quot;coordinates&quot;: [[-34.746684943163274, -77.70130339956604], [-34.79714697929634, -77.71437753693593], [-34.801927049283364, -77.71747812287344], [-34.803089769009915, -77.7221290017797], [-34.80510514986926, -77.72559132274324], [-34.81244320325473, -77.72497120555576], [-34.832674526497016, -77.71933847443592], [-34.83978003593714, -77.7185116515193], [-34.99470597994815, -77.72295582469641], [-35.144464280730006, -77.7544267719621], [-35.12828955742262, -77.78641448355079], [-35.09697363945378, -77.8016073546446], [-35.043049282357174, -77.82439666128533]], &quot;type&quot;: &quot;LineString&quot;}, &quot;properties&quot;: {&quot;featurecla&quot;: &quot;Antarctic Ice Shelf Edge&quot;, &quot;scalerank&quot;: 5}, &quot;type&quot;: &quot;Feature&quot;}, {&quot;geometry&quot;: {&quot;coordinates&quot;: [[-60.3565946112345, -64.63135182073773], [-60.353338996000105, -64.62995655706584], [-60.35227962913814, -64.61972462347211], [-60.35256384951569, -64.60918263128457], [-60.35124610049229, -64.59838225693557], [-60.345820075101585, -64.59212940862827], [-60.33641496442448, -64.58954558701365], [-60.32564042829168, -64.58861541123235], [-60.2842217678097, -64.57652312607604], [-60.279312506742, -64.57068368922714]], &quot;type&quot;: &quot;LineString&quot;}, &quot;properties&quot;: {&quot;featurecla&quot;: &quot;Antarctic Ice Shelf Edge&quot;, &quot;scalerank&quot;: 5}, &quot;type&quot;: &quot;Feature&quot;}, {&quot;geometry&quot;: {&quot;coordinates&quot;: [[-60.72225704613177, -74.23722543731263], [-60.718536343006804, -74.22916391387513], [-60.71758032900942, -74.22668344512508], [-60.71597835960836, -74.22389291778131], [-60.698175828683816, -74.20162037546356], [-60.68401648623578, -74.17919280384885], [-60.6781512111707, -74.15521493926548], [-60.68745296898322, -74.1313921039789], [-60.70644405785049, -74.11867970163513], [-60.75437394880123, -74.1075692686923], [-60.77488949242107, -74.09552865996838], [-60.83007992210878, -74.04069996530669], [-60.81863359235612, -74.03222503041079], [-60.81656653506448, -74.0218380675201], [-60.823206956614, -74.0132081033274], [-60.83785722516873, -74.01021087025447], [-60.855969814687, -74.00881560658259], [-60.871627773671406, -74.00261443470757], [-60.88033525251268, -73.990832208145], [-60.87777726911415, -73.97295216257197], [-60.91183203799457, -73.96964487090531], [-60.98270626488278, -73.97248707468137], [-61.02252295596372, -73.96390878692098]], &quot;type&quot;: &quot;LineString&quot;}, &quot;properties&quot;: {&quot;featurecla&quot;: &quot;Antarctic Ice Shelf Edge&quot;, &quot;scalerank&quot;: 5}, &quot;type&quot;: &quot;Feature&quot;}, {&quot;geometry&quot;: {&quot;coordinates&quot;: [[[-48.817634853701406, -77.73928557730059], [-49.248538784367156, -77.6776872700087], [-49.679442715032906, -77.61608896271682], [-49.811760219916266, -77.57495452261247], [-49.83227576353619, -77.56162200308114], [-49.87007707375767, -77.52984099722161], [-49.88865475116663, -77.5213660623258], [-49.91353695331509, -77.51366627391431], [-49.98257666685711, -77.47816456492981], [-50.053476731961524, -77.46095631297655], [-50.07213192401889, -77.45144784943487], [-50.080400153185536, -77.43904550568483], [-50.07686031757362, -77.4297437478723], [-50.071485968615235, -77.42111378367952], [-50.074276495959, -77.41114023224725], [-50.08285478371948, -77.40271697378361], [-50.09306087909712, -77.39537892039816], [-50.10414547382365, -77.38933277782], [-50.410380011585374, -77.27244068797583], [-50.4843806626273, -77.23373504018923], [-50.5508107163385, -77.2160100239131], [-50.571894700713614, -77.20712167755887], [-50.45595862486681, -77.22536345815791], [-50.29067155618122, -77.2317196593298], [-50.12075944680555, -77.25735116974658], [-49.960614183133, -77.2491346170122], [-49.93518937844547, -77.23781747834025], [-50.10507564960494, -77.18402231232442], [-50.1816084458292, -77.14164763784505], [-50.272378099149904, -77.05136891063115], [-50.31795671243134, -77.0227918435738], [-50.36661007343412, -77.00031259552682], [-50.40598751484055, -76.98946054474553], [-50.51091651060918, -76.99075245555284], [-50.614631110218994, -77.00749561961541], [-50.60992855488044, -77.03426401154256], [-50.63106421568773, -77.05235076284472], [-50.68705563007606, -77.07369312938127], [-50.70961239277145, -77.09426034943348], [-50.71317806659954, -77.1193750955273], [-50.694367845245324, -77.17937143341814], [-51.142376674999724, -77.10260609324858], [-51.590385504754124, -77.02584075307902], [-51.61420834004073, -77.01628061310497], [-51.7391877915386, -76.93969614044842], [-51.93896887877892, -76.86481699005749], [-52.002634243362536, -76.8522079405783], [-52.01418392597978, -76.85200123484914], [-52.0279556951856, -76.85639373159395], [-52.04787695983407, -76.86900278107316], [-52.0598658921258, -76.87380868927629], [-52.106684739782196, -76.87887297964096], [-52.576190965370046, -76.8692611632346], [-52.69837988952415, -76.83815195099493], [-52.77031348327452, -76.83613657013557], [-53.15932720601368, -76.71403807973793], [-53.548340928752836, -76.59193958934029], [-53.937354651491994, -76.46984109894265], [-54.32636837423115, -76.34774260854502], [-54.35236161967407, -76.32614185984703], [-54.34254309753857, -76.3244365375814], [-54.33339636902289, -76.32128427521161], [-54.32497311055937, -76.31663339630535], [-54.31740251322856, -76.31048390086261], [-54.775219927342974, -76.22400935408743], [-55.23303734145739, -76.13753480731224], [-55.690854755571806, -76.05106026053706], [-56.14867216968623, -75.96458571376186], [-56.606489583800645, -75.87811116698668], [-57.06430699791506, -75.7916366202115], [-57.52212441202948, -75.70516207343631], [-57.97994182614389, -75.61868752666113], [-58.43775924025831, -75.53221297988595], [-58.89557665437273, -75.44573843311076], [-59.35339406848715, -75.35926388633558], [-59.811211482601564, -75.27278933956039], [-60.26902889671598, -75.18631479278521], [-60.66337175153518, -75.04653004343564], [-61.01650265160171, -74.96446786895616], [-61.369633551668244, -74.88240569447669], [-61.560526292554414, -74.87010670359122], [-61.60840450707286, -74.86101165150785], [-61.64522396508076, -74.83760222767965], [-61.60752600772386, -74.81889535919001], [-61.52357764346576, -74.73734994903339], [-61.487171596916056, -74.71476734812181], [-61.46115251325716, -74.69295989369466], [-61.458387824129574, -74.66769011830398], [-61.491719122957846, -74.63441049590799], [-61.45575232608266, -74.61730559681939], [-61.437148810457586, -74.60443816517866], [-61.428648037345596, -74.59188079213178], [-61.43407406273619, -74.57891000762655], [-61.44916358096543, -74.57586109812132], [-61.46794796410353, -74.57575774525675], [-61.484536098869256, -74.57162363067337], [-61.2606737941808, -74.52955901478774]], [[-47.53468990740717, -77.81814381297802], [-47.67062476255097, -77.80439788198838], [-47.75113664406166, -77.78615610138934], [-48.03039608416698, -77.76357350047782], [-48.3096555242723, -77.7409908995663], [-48.45582231300986, -77.75685556427987], [-48.554162563661265, -77.74869068797778], [-48.574497239768135, -77.75251474396734], [-48.61247941750267, -77.76460702912364], [-48.63012691913025, -77.76140309032155], [-48.620618455588584, -77.75504688914967], [-48.6330466375548, -77.75411671336838], [-48.64529395200796, -77.75484018342051], [-48.65720536965122, -77.75752735789962], [-48.668496670107004, -77.76248829539962], [-48.65668860532833, -77.77401213980075], [-48.76585506854494, -77.7495175108944], [-48.770945197125684, -77.75013762808196]], [[-36.02766618503037, -78.2255608051671], [-36.02534074557727, -78.22173674917755], [-36.04533952487421, -78.23584441519321], [-36.04854346367631, -78.23811817821411], [-36.0638655258509, -78.24328582144327], [-36.4775973780661, -78.23756007274532], [-36.8913292302813, -78.23183432404738], [-37.30506108249649, -78.22610857534943], [-37.71879293471169, -78.22038282665149], [-38.13252478692689, -78.21465707795355], [-38.1787751938281, -78.19786223745868], [-38.15743282729156, -78.1985857075108], [-38.13624549005186, -78.19605356232847], [-38.49539669448039, -78.17336760855233], [-38.85454789890892, -78.15068165477618], [-38.91860083673467, -78.15988005972414], [-38.98691708022457, -78.15352385855225], [-39.10057939305045, -78.16587452587001], [-39.258218349756845, -78.13915781037514], [-39.33741248224422, -78.13564381297932], [-39.314468146306524, -78.15119841909916], [-39.21886674656662, -78.16871672964606], [-39.571463656832776, -78.14496279626925], [-39.924060567098934, -78.12120886289244], [-40.27665747736509, -78.09745492951564], [-40.69916398778352, -78.01224049266631], [-41.004778408357566, -78.0020085590725], [-41.085729539542854, -78.01797657665072], [-41.18536170100157, -78.0190101052965], [-41.21569576675691, -78.02464283641635], [-41.22034664566317, -78.02836353954132], [-41.226211920728275, -78.03508147573932], [-41.233808356275176, -78.04205779409867], [-41.24370439305909, -78.04686370230189], [-41.25610673680913, -78.04748381948936], [-41.296801927239045, -78.03869882599972], [-41.40333289240863, -78.0275367166247], [-41.42857682958331, -78.03461638784863], [-41.46989213720062, -78.0652605121978], [-41.49131201838554, -78.06546721792695], [-41.47102901871105, -78.05213469839562], [-41.47921973322934, -78.03926726675499], [-41.50131140803413, -78.02929371532261], [-41.52270545100296, -78.02464283641635], [-41.88110734716315, -78.044589939281], [-42.05236304377851, -78.09218393342181], [-42.44877295588947, -78.11652353303128], [-42.665452236489216, -78.10458627717185], [-43.00165910498016, -78.14236174917724], [-43.33786597347111, -78.18013722118262], [-43.439255133627825, -78.1663396137607], [-43.844811774254424, -78.17734669383884], [-43.94410803890321, -78.16654631948984], [-44.09836218929448, -78.16556446727627]]], &quot;type&quot;: &quot;MultiLineString&quot;}, &quot;properties&quot;: {&quot;featurecla&quot;: &quot;Antarctic Ice Shelf Edge&quot;, &quot;scalerank&quot;: 5}, &quot;type&quot;: &quot;Feature&quot;}, {&quot;geometry&quot;: {&quot;coordinates&quot;: [[-81.20862931997678, -73.7168437641335], [-81.22129004588825, -73.7204094379616], [-81.26766964387022, -73.73213998809189], [-81.73916541210124, -73.76846851999309], [-81.83133032909382, -73.80050790801405], [-82.22404537629589, -73.83843840931623], [-82.33765601268959, -73.83115203236315]], &quot;type&quot;: &quot;LineString&quot;}, &quot;properties&quot;: {&quot;featurecla&quot;: &quot;Antarctic Ice Shelf Edge&quot;, &quot;scalerank&quot;: 5}, &quot;type&quot;: &quot;Feature&quot;}, {&quot;geometry&quot;: {&quot;coordinates&quot;: [[[-71.89511511909316, -69.68975107206006], [-71.91384782579891, -69.68623707466423], [-71.92790381538236, -69.68592701607051], [-71.93922095405426, -69.68081104927354], [-71.95314775255696, -69.67362802518504], [-71.95539567736165, -69.67305958442978]], [[-72.55081153022857, -69.68282643013299], [-72.53962358263738, -69.68928598416946], [-72.52670447456444, -69.69765756620077], [-72.51551652697324, -69.70907805773724], [-72.50634396024148, -69.7241158995342], [-72.48513078478561, -69.77067636502913], [-72.48505327013723, -69.79217376086254], [-72.50171891955131, -69.8090202777897], [-72.522906256791, -69.82235279732103], [-72.55752946642659, -69.85284189237323], [-72.57667558459073, -69.86632944120143], [-72.67809058296345, -69.8974386534411], [-72.7105950588751, -69.91878101997766], [-72.67328467476031, -69.94348235461317], [-72.69230160184378, -69.95252573026424], [-72.6768761868046, -69.9701990701081], [-72.66679928250775, -69.97665862414456], [-72.65468115913527, -69.97882903430079], [-72.68346493192183, -70.0083362771395], [-72.72863013374499, -70.02373585396248], [-73.17526953804364, -70.04921233508232], [-73.1903073798405, -70.0577906228428], [-73.20247717964529, -70.07132984810329], [-73.21144304064788, -70.08817636503044], [-73.2086525133042, -70.09737476997839], [-73.18552730985357, -70.11975066516081], [-73.17893856473631, -70.13432341906707], [-73.19273617215825, -70.138199151489], [-73.19113420275721, -70.15427052193172], [-73.20239966499682, -70.1745793598224], [-73.2194787258693, -70.1939063454996], [-73.23503333198914, -70.20672210070795], [-73.25262915718451, -70.21638559354659], [-73.2899912177316, -70.231165053182], [-73.38006323921624, -70.2523007139894], [-73.41592668322687, -70.26945728951029], [-73.43018937853938, -70.2720927875572], [-73.45910234240665, -70.27317799263534], [-73.47062618680778, -70.27705372505719], [-73.49137427437296, -70.29431365344274], [-73.503776618123, -70.29917123807816], [-73.60891231962088, -70.29694915148956], [-73.85443996854762, -70.24235300077322], [-74.09996761747436, -70.18775685005687], [-74.21140784371184, -70.14858611437958], [-74.2308898586858, -70.13618377062954], [-74.26639156767038, -70.10683155708779], [-74.28626115588656, -70.09546274198361], [-74.33023779976699, -70.08280201607204], [-74.47159868030141, -70.06425017687927], [-74.55950029162983, -70.04182260526466], [-74.64949479846621, -70.00900807075926]], [[-72.01849260119002, -69.71093840929973], [-72.01017269559105, -69.71595102323202], [-71.97038184272631, -69.75181446724264], [-72.00257626004415, -69.75176279081035], [-72.03461564806511, -69.74070403429991], [-72.10910722521382, -69.7012232400289], [-72.141534186477, -69.68840748482054], [-72.15848405626872, -69.68479013456005], [-72.16760494656822, -69.68406666450801], [-72.17897376167247, -69.68448007596632], [-72.18990332710214, -69.68649545682567], [-72.19770646837821, -69.6908362771382], [-72.20310665555272, -69.70044809354448], [-72.19899837918553, -69.70618417752888], [-72.19098853218028, -69.71130014432575], [-72.18473568387299, -69.7191549620342], [-72.18520077176359, -69.72933521919563], [-72.19346900093026, -69.73372771594046], [-72.20530290392512, -69.73445118599258]], [[-74.74672400582335, -70.15990325305157], [-74.68995744495069, -70.15695769641093], [-74.63468950061451, -70.16310719185365], [-74.28582190621208, -70.33498300565643], [-73.93695431180964, -70.50685881945921], [-73.9381170315362, -70.53233530057905], [-73.95010596382792, -70.53801970813117], [-73.96219824898424, -70.54205046984998], [-74.01010230171877, -70.55197234484997]], [[-73.65932267932158, -70.78529143664781], [-73.56974158394362, -70.78239755643946], [-73.3183099026275, -70.83722625110116], [-73.28931942411174, -70.85050709420011], [-73.26676266141638, -70.87035084420019], [-73.26084570991898, -70.89629241321072], [-73.27107764351271, -70.912983900841], [-73.30787126330452, -70.94564340604951], [-73.3178964911692, -70.96269662870583], [-73.29872453478885, -70.99235890084131], [-73.24438676623396, -71.00491627388823], [-73.07806616890258, -71.01401132597161], [-73.03233252632427, -71.02894581490398], [-72.99055213081627, -71.053027032352], [-72.94698889839427, -71.08651336047714], [-72.98112118192307, -71.10211964302928]]], &quot;type&quot;: &quot;MultiLineString&quot;}, &quot;properties&quot;: {&quot;featurecla&quot;: &quot;Antarctic Ice Shelf Edge&quot;, &quot;scalerank&quot;: 5}, &quot;type&quot;: &quot;Feature&quot;}, {&quot;geometry&quot;: {&quot;coordinates&quot;: [[-73.1014239162985, -71.15622486763883], [-73.09465430366828, -71.16790374133683], [-73.12876074898091, -71.18314828886294], [-73.20405331083015, -71.18319996529522], [-73.2405368720282, -71.19043466581611], [-73.24779741076529, -71.19508554472237], [-73.28027604846068, -71.2246444639933], [-73.2806377834867, -71.22852019641523], [-73.27707210965858, -71.23198251737875], [-73.2765811835518, -71.25001759224864], [-73.27234371610385, -71.25627044055595], [-73.27193030464554, -71.26298837675387], [-73.2828598700753, -71.2735820453737], [-73.30993832059625, -71.29141041451443], [-73.34590511747135, -71.30432952258735], [-73.4018448554273, -71.31626677844679]], &quot;type&quot;: &quot;LineString&quot;}, &quot;properties&quot;: {&quot;featurecla&quot;: &quot;Antarctic Ice Shelf Edge&quot;, &quot;scalerank&quot;: 5}, &quot;type&quot;: &quot;Feature&quot;}, {&quot;geometry&quot;: {&quot;coordinates&quot;: [[-73.65596371122263, -71.35187184029587], [-73.7198616197515, -71.37414438261371], [-73.784922248007, -71.39104257597315], [-73.8510422431244, -71.40096445097313], [-74.05004818388048, -71.40241139107732]], &quot;type&quot;: &quot;LineString&quot;}, &quot;properties&quot;: {&quot;featurecla&quot;: &quot;Antarctic Ice Shelf Edge&quot;, &quot;scalerank&quot;: 5}, &quot;type&quot;: &quot;Feature&quot;}, {&quot;geometry&quot;: {&quot;coordinates&quot;: [[-74.46539750842638, -70.66199146919938], [-74.50077002633012, -70.68627939237658], [-74.66396419950789, -70.69733814888701], [-74.6809140692996, -70.69811329537143]], &quot;type&quot;: &quot;LineString&quot;}, &quot;properties&quot;: {&quot;featurecla&quot;: &quot;Antarctic Ice Shelf Edge&quot;, &quot;scalerank&quot;: 5}, &quot;type&quot;: &quot;Feature&quot;}, {&quot;geometry&quot;: {&quot;coordinates&quot;: [[-67.25315039739493, -68.94437021268212], [-67.21568498398327, -68.95661752713528], [-67.1796406724597, -68.96953663520821], [-67.16222571477738, -68.97920012804686], [-67.15096025253769, -68.98860523872396], [-67.1428212144518, -68.9973902322136], [-67.13264095729028, -69.00421152127609], [-67.06814876979001, -69.01754404080742], [-66.99680945501112, -69.02369353625015], [-66.9744077216125, -69.03113494250019], [-66.99339881047976, -69.03893808377626], [-67.02776363795391, -69.05795501085962], [-67.04737484400866, -69.06276091906275], [-67.11656958684745, -69.06229583117215], [-67.12403683131367, -69.06580982856798], [-67.1297987535142, -69.0715459125524], [-67.13610327825378, -69.07661020291698], [-67.14530168320175, -69.07821217231802], [-67.15235551620958, -69.07805714302114], [-67.15961605494667, -69.07883228950557], [-67.16674740260288, -69.08048593533891], [-67.17341366236849, -69.08301808052124], [-67.18602271184778, -69.09102792752645], [-67.19615129257693, -69.10146656684944], [-67.20248165553272, -69.11350717557336], [-67.20377356634003, -69.12621957791723], [-67.23723405624898, -69.14089568468806], [-67.18739213730348, -69.18487232856847], [-67.17261267766807, -69.21040048612068], [-67.19103532578006, -69.2318978819541], [-67.17147579615761, -69.2327763813031], [-67.15434505885284, -69.23871917101658], [-67.12091040715998, -69.25659921658959], [-67.12295162623553, -69.2606299783084]], &quot;type&quot;: &quot;LineString&quot;}, &quot;properties&quot;: {&quot;featurecla&quot;: &quot;Antarctic Ice Shelf Edge&quot;, &quot;scalerank&quot;: 5}, &quot;type&quot;: &quot;Feature&quot;}, {&quot;geometry&quot;: {&quot;coordinates&quot;: [[-80.35736345083271, -73.32374114368922], [-80.35715674510357, -73.32095061634544], [-80.42764339874967, -73.33526498809026], [-80.60711564809941, -73.33557504668408]], &quot;type&quot;: &quot;LineString&quot;}, &quot;properties&quot;: {&quot;featurecla&quot;: &quot;Antarctic Ice Shelf Edge&quot;, &quot;scalerank&quot;: 5}, &quot;type&quot;: &quot;Feature&quot;}, {&quot;geometry&quot;: {&quot;coordinates&quot;: [[-74.15748348661523, -70.58592376086571], [-74.15575232613344, -70.58463185005849], [-74.19275265165439, -70.59160816841785], [-74.21006425647224, -70.59842945748042], [-74.22983049182383, -70.602615248496], [-74.24972591825622, -70.6061292458919], [-74.24845984566508, -70.60649098091793]], &quot;type&quot;: &quot;LineString&quot;}, &quot;properties&quot;: {&quot;featurecla&quot;: &quot;Antarctic Ice Shelf Edge&quot;, &quot;scalerank&quot;: 5}, &quot;type&quot;: &quot;Feature&quot;}, {&quot;geometry&quot;: {&quot;coordinates&quot;: [[-67.85791968450667, -69.36382781359522], [-67.84877295599102, -69.34610279731916], [-67.85301042343897, -69.33819630317842], [-67.8753863186214, -69.32853281033988], [-67.8848431057308, -69.32259002062631], [-67.91414364284026, -69.30848235461065], [-67.92543494329604, -69.30553679797], [-67.95313351100447, -69.30662200304815], [-67.97749894883006, -69.31091114692839], [-68.0087115139344, -69.32760263455859]], &quot;type&quot;: &quot;LineString&quot;}, &quot;properties&quot;: {&quot;featurecla&quot;: &quot;Antarctic Ice Shelf Edge&quot;, &quot;scalerank&quot;: 5}, &quot;type&quot;: &quot;Feature&quot;}, {&quot;geometry&quot;: {&quot;coordinates&quot;: [[-74.42775122750177, -71.49976978951524], [-74.4280612860955, -71.50385222766633], [-74.42434058297044, -71.51279225045275], [-74.4209816148715, -71.53651173287476], [-74.43653622099131, -71.54927581165083], [-74.46056576200706, -71.55501189563523], [-74.69520260282832, -71.5794548481093], [-74.72845638700812, -71.57439055774472], [-74.76894487170881, -71.56560556425508]], &quot;type&quot;: &quot;LineString&quot;}, &quot;properties&quot;: {&quot;featurecla&quot;: &quot;Antarctic Ice Shelf Edge&quot;, &quot;scalerank&quot;: 5}, &quot;type&quot;: &quot;Feature&quot;}, {&quot;geometry&quot;: {&quot;coordinates&quot;: [[[-68.42798824733447, -70.08647104276481], [-68.43028784857145, -70.08559254341581], [-68.50255733913164, -70.0851791319575], [-68.55255428737402, -70.09081186307735], [-68.8423040432346, -70.04135751737397], [-69.00810787624309, -70.03463958117607], [-69.04053483750627, -70.04146087023855], [-69.05329891628233, -70.04848886503027], [-69.07598487005848, -70.06512867622827], [-69.08789628770171, -70.06797088000434], [-69.13231218125662, -70.04068572375421], [-69.15882219102232, -70.0357764626865]], [[-75.7323744371424, -72.88536996855723], [-75.78792660185613, -72.87079721465096], [-75.91226009795034, -72.81369475696839], [-76.01158220081533, -72.78863168730686], [-76.0584268866879, -72.76682423287971], [-76.06328447132341, -72.73669687285353], [-76.0974684312844, -72.73540496204622], [-76.13123897978718, -72.7300306130879], [-76.1477237616883, -72.7238294412128], [-76.17958228219621, -72.70713795358262], [-76.19431006539943, -72.70336557402526], [-76.26337561715746, -72.70321054472839], [-76.29745622425398, -72.69861134225441], [-76.3278936428739, -72.68527882272309], [-76.30934180368112, -72.67473683053552], [-76.37455746123351, -72.68062794381682], [-76.37419572620749, -72.66662363066573], [-76.41016252308259, -72.66884571725433], [-76.42747412790033, -72.66548674915529], [-76.44111670602538, -72.65587493274903], [-76.44158179391599, -72.64755502715008], [-76.43220252145508, -72.60238982532694], [-76.43212500680659, -72.57190073027473], [-76.44589677601243, -72.55035165800902], [-76.46995215524427, -72.53629566842565], [-76.50077714710639, -72.52880258574332], [-76.53237728545287, -72.52616708769641], [-76.59699866403386, -72.53133473092565], [-76.62741024443761, -72.53903451933714], [-76.71089352080512, -72.57221078886846], [-77.14190080433545, -72.60652393991032], [-77.30155514190122, -72.58611174915497], [-77.32788428415395, -72.57727507923312], [-77.34434322783889, -72.5621338845716], [-77.33948564320346, -72.5382593728527], [-77.31527523467474, -72.50994068795681], [-77.31310482451843, -72.4966081684255], [-77.32617896188833, -72.47903818144621], [-77.33620418975289, -72.47263030384204], [-77.3760983954823, -72.4530449360034], [-77.39803504099012, -72.43893726998773], [-77.42149614125069, -72.42793018990957], [-77.46983944365974, -72.41557952259183], [-77.62858944366039, -72.39914641712299], [-77.73132219105662, -72.41878346139391], [-77.93438473174751, -72.48927011504003], [-78.02587785512031, -72.50766692493593], [-78.12644019236023, -72.5123178038422], [-78.42275285512187, -72.47960662220147], [-78.46541174997887, -72.45826425566491], [-78.48334347198409, -72.41878346139391], [-78.50455664743995, -72.38674407337295], [-78.55344255238805, -72.36266285592492], [-78.65062008331293, -72.33661793404981], [-78.64700273305243, -72.32493906035191], [-78.88039933949867, -72.2971888162111], [-78.95592444529325, -72.30028940214861], [-79.19043209503383, -72.34731495553423], [-79.19647823761198, -72.3506222472009], [-79.19472123891398, -72.36545338326869], [-79.26011776397942, -72.41800831490959], [-79.2795739407373, -72.45102955514403], [-79.2637867906721, -72.47604094837328], [-79.22756161163548, -72.4925257302744], [-79.01915056020238, -72.51443653756613], [-78.9319207424937, -72.53722584420686], [-78.84815324574856, -72.57329599394662], [-78.81683732777972, -72.5922612445977], [-78.78802771677695, -72.61499887480613], [-78.74852108428982, -72.6353077126969], [-78.73606706410752, -72.64672820423337], [-78.74387020538356, -72.66114592884276], [-78.6750113593547, -72.7094117166034], [-78.66384924997959, -72.7287387022806], [-78.6736677721151, -72.7512179503275], [-78.69968685577402, -72.76842620228076], [-78.73038265655538, -72.78031178170782], [-78.90657345245455, -72.81974089954655], [-79.00617977569715, -72.81359140410382], [-79.28670528839359, -72.87281259551033], [-79.30455949575042, -72.88536996855723], [-79.3392343818183, -72.92355885202093], [-79.28918575714354, -72.95916391387], [-79.23355607778134, -72.9829867491566], [-79.21921586782042, -72.99296030058888], [-79.2072269355287, -73.00670623157852], [-79.1951088121562, -73.01688648874006], [-79.17730628123167, -73.02422454212551], [-79.11945451528095, -73.04060597116205], [-78.98765377472048, -73.09486622506849], [-78.90727108429047, -73.11305632923523], [-78.82580318878232, -73.11812061959981], [-78.74834021677685, -73.10742359811539], [-78.67630327016192, -73.08639129017266], [-78.65263546417228, -73.08287729277676], [-78.61550594757054, -73.08148202910488], [-78.58780737986211, -73.0736788878288], [-78.58214881052618, -73.07073333118817], [-78.57703284372931, -73.06520395293299], [-78.57307959665889, -73.05223316842768], [-78.57015987823445, -73.04815073027669], [-78.5469571601354, -73.03962411894848], [-78.47008846710122, -73.02794524525049], [-78.40319332549942, -72.99699106230767], [-78.3812825182076, -72.99435556426076], [-78.33578141957463, -72.99507903431291], [-78.19429134795953, -72.98143645618784], [-78.10049862334981, -72.9887745095733], [-78.04649675160474, -72.97880095814094], [-77.71667192250187, -72.98329680775034], [-77.38684709339901, -72.98779265735973], [-77.36700334339892, -72.99430388782848], [-77.37211931019579, -73.00825652454736], [-77.40377112497455, -73.04024423613595], [-77.37888892282598, -73.05812428170896], [-77.3963555569407, -73.07419565215179], [-77.45816056996173, -73.0934709613966], [-77.44374284535235, -73.09812184030287], [-77.42707719593815, -73.10587330514664], [-77.41495907256575, -73.11662200306334], [-77.41389970570378, -73.13036793405298], [-77.41576005726628, -73.14401051217804], [-77.40948137074287, -73.15398406361041], [-77.39790584990945, -73.15925505970415], [-77.38390153675837, -73.1589966775427], [-77.43423438181065, -73.16127044056358], [-77.45883236358159, -73.16736825957395], [-77.48004553903738, -73.1792021625688], [-77.36020789255255, -73.21465219512102], [-77.32142473011749, -73.21387704863668], [-77.34046749541704, -73.22524586374087], [-77.34896826852903, -73.23232553496487], [-77.35679724802131, -73.24038705840238], [-77.34886491566448, -73.24364267363677], [-77.32780676950546, -73.25697519316809], [-77.34617774118527, -73.26777556751708], [-77.38912085641982, -73.27113453561604], [-77.40829281280014, -73.27733570749106], [-77.3963555569407, -73.29263193144945], [-77.45152014841221, -73.29531910592866], [-77.57412248402471, -73.31991708769958], [-77.62471371123846, -73.3036390115277], [-77.59781612823053, -73.28844614043388], [-77.58164140492315, -73.27454518014737], [-77.58285580108208, -73.25971404407957], [-77.60804806182435, -73.24147226348055], [-77.63101823597805, -73.23325571074616], [-77.6810926988689, -73.22302377715235], [-77.70553565134296, -73.21310190215226], [-77.69941199411642, -73.19997608835018], [-77.804160122372, -73.18498992298552], [-77.8374655829841, -73.1752230772824], [-77.8302308824633, -73.1751714008501], [-77.80868181019758, -73.171088962699], [-77.8477491930102, -73.14328704212599], [-77.9200961982188, -73.131608168428], [-78.05393815785479, -73.13217660918326], [-78.12202185739932, -73.14364877715202], [-78.22421200225648, -73.17227752064174], [-78.29069373239997, -73.20664234811579], [-78.32573035349387, -73.21542734160545], [-78.31777218292095, -73.23279062285548], [-78.30668758819431, -73.24488290801179], [-78.29221818715263, -73.25371957793371], [-78.27413143585045, -73.26110930775147], [-78.2603855048608, -73.27144459420987], [-78.26131568064201, -73.28395029082448], [-78.26648332387126, -73.29795460397557], [-78.26547563344158, -73.31299244577252], [-78.24452084014723, -73.32921884551212], [-78.17594621449592, -73.34467009876737], [-78.14726579457391, -73.3624467914758], [-78.17850419789434, -73.3706116677779], [-78.27718034535567, -73.38285898223116], [-78.33195736358508, -73.39681161894995], [-78.36032772491328, -73.4006873513718], [-78.38515825062953, -73.39495126738737], [-78.37443539092902, -73.38750986113733], [-78.54336564809111, -73.39474456165821], [-78.61726294626845, -73.38084360137171], [-78.69834326853442, -73.39014535918423], [-78.70325252960211, -73.39298756296031], [-78.70929867218027, -73.39774179473115], [-78.71772193064388, -73.39960214629363], [-78.72978837758401, -73.39407276803846], [-78.73906429718045, -73.38632130319468], [-78.74340511749296, -73.38415089303837]], [[-72.36332943387364, -72.67230803821786], [-72.35237403022776, -72.68067962024911], [-72.33630265978505, -72.69752613717625], [-72.33061825223291, -72.71023853952012], [-72.33588924832674, -72.72088388457216], [-72.35526791043611, -72.7292037901712], [-72.39464535184254, -72.73354461048373], [-72.41345557319676, -72.73943572376501], [-72.41299048530618, -72.75023609811402], [-72.40746110705089, -72.7646538227234], [-72.4114918687697, -72.78077686959851], [-72.4128871324416, -72.79808847441626], [-72.3993479071811, -72.81607187285385], [-72.36291602241533, -72.8454757628279], [-72.34720638699861, -72.86449268991137], [-72.34116024442045, -72.88397470488533], [-72.34839494494136, -72.89524016712502], [-72.38281144884769, -72.90629892363546], [-72.39707414416031, -72.91405038847924], [-72.30255794949846, -72.9479501280627], [-72.23532691108673, -72.95714853301064], [-72.22090918647723, -72.9560633279325], [-72.20421769884695, -72.95099903756793], [-72.14442806668526, -72.96681202584921], [-72.1344286770368, -72.97404672637009], [-72.1231373765811, -72.98954965605763], [-72.1141456773623, -73.00717131946921], [-72.11096757677632, -73.02091725045884], [-72.11776302762271, -73.0359034158235], [-72.13117306180243, -73.04479176217764], [-72.14641760932852, -73.05207813913081], [-72.15874243843018, -73.06194833769861], [-72.16080949572182, -73.07135344837572], [-72.15734717475829, -73.08117197051114], [-72.15274797228432, -73.08959522897476], [-72.15135270861242, -73.09445281361018], [-72.15879411486247, -73.10173919056335], [-72.16664893257081, -73.10478810006856], [-72.17460710314376, -73.10664845163106], [-72.18256527371668, -73.11042083118832], [-72.21628414578717, -73.13362354928745], [-72.22525000678976, -73.13620737090199], [-72.2349910142768, -73.13155649199572], [-72.2453779771675, -73.1235466449905], [-72.25816789415973, -73.11672535592791], [-72.27506608751918, -73.11579518014672], [-72.31263485379532, -73.12447682077178], [-72.33149675158191, -73.12525196725612], [-72.34162533231105, -73.11750050241234], [-72.35748999702471, -73.10912892038101], [-72.6490225897993, -73.14809295032913], [-72.91311499702692, -73.1189991189488], [-72.93719621447494, -73.1189991189488], [-72.94990861681873, -73.12447682077178], [-72.96737525093343, -73.14085824980825], [-72.97471330431881, -73.14302865996456], [-72.9877616034725, -73.13780934030302], [-73.01522762723567, -73.11424488717796], [-73.03424455431906, -73.10189421986021], [-73.171445482054, -73.03853891387033], [-73.19392473010097, -73.03580006295884], [-73.20516435412449, -73.04107105905265], [-73.21653316922865, -73.05109628691733], [-73.23485246447618, -73.0723353005892], [-73.24469682482768, -73.08065520618825], [-73.25601396349967, -73.08484099720391], [-73.44967139351346, -73.12525196725612], [-73.5051202053626, -73.12990284616238], [-73.52276770699027, -73.1285075824905], [-73.5383223131102, -73.13016122832383], [-73.52248348661274, -73.13016122832383]], [[-73.88721574572872, -73.12091114694358], [-73.90767961291627, -73.1195158832717], [-73.93734188505186, -73.11688038522479], [-74.02493343778656, -73.09889698678728], [-74.23691016304787, -73.10323780709982], [-74.28729468453244, -73.0916106098341], [-74.32320980497525, -73.06716765736005]]], &quot;type&quot;: &quot;MultiLineString&quot;}, &quot;properties&quot;: {&quot;featurecla&quot;: &quot;Antarctic Ice Shelf Edge&quot;, &quot;scalerank&quot;: 5}, &quot;type&quot;: &quot;Feature&quot;}, {&quot;geometry&quot;: {&quot;coordinates&quot;: [[-67.25307288274647, -69.27303232205844], [-67.24410702174384, -69.26915658963651], [-67.27188310410068, -69.27106861763136], [-67.40898067897103, -69.29561492297], [-67.51716528997414, -69.29080901476678], [-67.5483520168622, -69.30042083117314], [-67.56574113632843, -69.30812061958463], [-67.5866184149744, -69.31277149849089], [-67.64465104843816, -69.31685393664188], [-67.67020504420648, -69.3302898090378], [-67.68705156113361, -69.33509571724092], [-67.68232316757897, -69.33804127388157], [-67.67335730657626, -69.34527597440245], [-67.66855139837315, -69.34806650174622], [-67.69100480820396, -69.35054697049618], [-67.73201005722751, -69.36822031034004], [-67.76916541204542, -69.37747039172028]], &quot;type&quot;: &quot;LineString&quot;}, &quot;properties&quot;: {&quot;featurecla&quot;: &quot;Antarctic Ice Shelf Edge&quot;, &quot;scalerank&quot;: 5}, &quot;type&quot;: &quot;Feature&quot;}, {&quot;geometry&quot;: {&quot;coordinates&quot;: [[-73.6345179918215, -72.05115732206957], [-73.59041215686031, -72.04888355904868], [-73.3321591864817, -72.06164763782473], [-73.27722713895545, -72.0708460427727], [-73.19997087267913, -72.10355722441349], [-73.08080501981408, -72.1318759093094], [-73.06442359077752, -72.14339975371053], [-73.05359737821234, -72.16081471139286], [-73.04300370959251, -72.18489592884089], [-73.01316056994403, -72.22044931425768], [-72.96866716174074, -72.24013803496089], [-72.81782365588072, -72.26576954537768], [-72.71534929064595, -72.26380584095062], [-72.6711401028202, -72.27150562936211]], &quot;type&quot;: &quot;LineString&quot;}, &quot;properties&quot;: {&quot;featurecla&quot;: &quot;Antarctic Ice Shelf Edge&quot;, &quot;scalerank&quot;: 5}, &quot;type&quot;: &quot;Feature&quot;}, {&quot;geometry&quot;: {&quot;coordinates&quot;: [[-72.6625359768436, -72.60238982532694], [-72.61602718778096, -72.60109791451963], [-72.55670264350988, -72.60957284941554], [-72.52435319689516, -72.60781585071763], [-72.51639502632224, -72.60931446725408], [-72.51192501492895, -72.61303517037906], [-72.5075841946165, -72.61809946074365], [-72.5049486965695, -72.6124150531916]], &quot;type&quot;: &quot;LineString&quot;}, &quot;properties&quot;: {&quot;featurecla&quot;: &quot;Antarctic Ice Shelf Edge&quot;, &quot;scalerank&quot;: 5}, &quot;type&quot;: &quot;Feature&quot;}, {&quot;geometry&quot;: {&quot;coordinates&quot;: [[167.07283084540444, -73.51861296986183], [167.09587853420663, -73.50745086048681], [167.09866906155042, -73.50595224395036], [167.12275027899847, -73.51127491647637], [167.22548302639467, -73.58532724395067], [167.23995242743644, -73.59070159290899], [167.28873497951997, -73.59576588327366], [167.30248091050953, -73.59302703236216], [167.30640831936375, -73.58295012806522], [167.29142215399906, -73.57116790150272], [167.22548302639467, -73.53669972116401], [167.182694940457, -73.50574553822119], [167.13308556545684, -73.48791716908048], [167.11727257717547, -73.4787704405648]], &quot;type&quot;: &quot;LineString&quot;}, &quot;properties&quot;: {&quot;featurecla&quot;: &quot;Antarctic Ice Shelf Edge&quot;, &quot;scalerank&quot;: 5}, &quot;type&quot;: &quot;Feature&quot;}, {&quot;geometry&quot;: {&quot;coordinates&quot;: [[167.4346692243122, -73.50326506947107], [167.43115522691642, -73.5045569802785], [167.43156863837476, -73.50450530384609], [167.45099897691637, -73.50145639434095], [167.46329796780185, -73.50062957142427], [167.47559695868733, -73.50378183379416], [167.5231392763959, -73.5254342589244], [167.5468070823855, -73.53272063587741], [167.95277713447047, -73.54129892363801], [168.30345340400322, -73.59845305775275], [168.39781456936817, -73.59860808704963], [168.51946089098328, -73.58114145293501], [168.5401314638999, -73.57457854603399], [168.55470421780626, -73.56269296660685], [168.5653495628585, -73.5457947732474], [168.5652462099937, -73.53096363717958], [168.54674604723346, -73.52553761178899], [168.58188602119185, -73.52181690866394], [168.56948367744178, -73.51639088327323], [168.58374637275438, -73.50962127064304], [168.5978023623377, -73.5075025369191], [168.61020470608787, -73.50373015736176], [168.6194031110357, -73.49168954863785], [168.60162641832744, -73.48254282012215], [168.62953169176478, -73.48300790801267], [168.61712934801494, -73.47773691191895], [168.63273563056703, -73.47277597441894], [168.61723270087953, -73.46228565866369], [168.58260949124406, -73.45468922311676], [168.5653495628585, -73.4483330219449], [168.5856067243168, -73.45148528431469], [168.59614871650422, -73.4511235492887], [168.60483035712934, -73.44817799264803], [168.6161991722338, -73.44042652780416], [168.61723270087953, -73.43608570749171], [168.61351199775459, -73.43040129993966], [168.6051404157232, -73.39712167754368], [168.59397830634816, -73.38378915801235], [168.57981896390004, -73.3723169900436], [168.5659696800459, -73.35629729603306], [168.58932742744196, -73.36218840931434], [168.64069380113995, -73.35800261829871], [168.615372349317, -73.36606414173622], [168.73546837796323, -73.42786915475733], [168.89401167223468, -73.4788221169971], [168.92946170478683, -73.49551360462738], [168.96615197171423, -73.50605559681492], [169.00821658759992, -73.50362680449717], [169.13224002510026, -73.47184579863773], [169.1544608909859, -73.46238901152827], [169.16613976468375, -73.45107187285629], [169.16603641181916, -73.4389279112678], [169.1554944196315, -73.41944589629372], [169.15394412666285, -73.41231454863743], [169.15890506416292, -73.40590667103322], [169.18484663317338, -73.38425424590298], [169.1597318870796, -73.38771656686657], [169.08025353421465, -73.37278207793412], [169.03539839098528, -73.369216404106], [168.9919901878601, -73.36105152780391], [169.05451867093336, -73.3458586567101], [169.09906375556886, -73.32100229277773], [169.10867557197514, -73.31232065215266], [169.08914188056883, -73.29929819121509], [169.06278690009992, -73.2887561990276], [169.03498497952694, -73.2816765278036], [169.014831170933, -73.2705660948609], [169.00780317614135, -73.27103118275147]], &quot;type&quot;: &quot;LineString&quot;}, &quot;properties&quot;: {&quot;featurecla&quot;: &quot;Antarctic Ice Shelf Edge&quot;, &quot;scalerank&quot;: 5}, &quot;type&quot;: &quot;Feature&quot;}, {&quot;geometry&quot;: {&quot;coordinates&quot;: [[165.79311567612848, -73.87249317819663], [165.78701785711803, -73.87471526478515], [165.83776411362874, -73.87957284942057], [166.12467166571315, -73.91522958770202], [166.15195682196327, -73.90665129994153], [165.91672570217065, -73.86458668405591], [165.84262169826417, -73.83631967559229], [165.85636762925373, -73.8223153624412]], &quot;type&quot;: &quot;LineString&quot;}, &quot;properties&quot;: {&quot;featurecla&quot;: &quot;Antarctic Ice Shelf Edge&quot;, &quot;scalerank&quot;: 5}, &quot;type&quot;: &quot;Feature&quot;}, {&quot;geometry&quot;: {&quot;coordinates&quot;: [[166.29427371649513, -73.72578378692], [166.29199995347432, -73.72645558053975], [166.3373718610265, -73.72872934356064], [166.32682986883896, -73.74082162871696], [166.34832726467238, -73.74232024525341], [166.38357059149553, -73.75833993926386], [166.4043445172768, -73.75647958770136], [166.39411258368307, -73.76102711374305], [166.38842817613096, -73.76572966908161], [166.3805733584225, -73.77937224720668], [166.4205709170165, -73.77621998483687], [166.40816857326644, -73.78583180124313], [166.44702925034989, -73.79776905710258], [166.75708784410108, -73.75275888457631], [166.80142622300758, -73.73772104277936], [166.7842696474866, -73.73446542754498], [166.75574425686153, -73.71606861764907], [166.7376575055594, -73.71048756296162], [166.7509900250907, -73.70444142038346], [166.73424686102817, -73.70072071725839], [166.69032189358, -73.68273731882088], [166.6775061383716, -73.67395232533124], [166.6613830914966, -73.66744109486248], [166.58975955634003, -73.67038665150314], [166.59895796128797, -73.66733774199783], [166.60402225165257, -73.66387542103429], [166.61342736232967, -73.65224822376868], [166.5317785993086, -73.65550383900305], [166.50552697170428, -73.65317839954987], [166.5135884951418, -73.6512146951228], [166.54066694566274, -73.6323527973363], [166.5673319847254, -73.61871021921124], [166.59534061102755, -73.60790984486225], [166.6243827659756, -73.60119190866425], [166.65425174384035, -73.59948658639863], [166.6613830914966, -73.60150196725807], [166.6806067243092, -73.60909840280489], [166.6862911318613, -73.60971851999244], [166.6701680849862, -73.61902027780498], [166.68856489488212, -73.62367115671124], [166.70737511623634, -73.62615162546129], [166.7163668154551, -73.62935556426336], [166.7187439313406, -73.6355567361384], [166.71977745998635, -73.642222995904], [166.72484175035106, -73.64692555124256], [166.73703738837185, -73.64935434356032], [166.83594607977852, -73.65198984160723], [166.84721154201821, -73.65720916126867], [166.85858035712238, -73.66465056751872], [166.8693290550391, -73.66635588978434], [166.87883751858084, -73.65478036895092], [166.90012820868503, -73.66542571400305], [166.92586307196638, -73.66981821074788], [166.99841678290414, -73.66842294707598], [167.0209477073834, -73.6620150694718], [167.04110151597723, -73.65090463652908], [167.05536421128977, -73.63509164824771], [167.02394494045632, -73.62770191843003], [166.87708051988284, -73.61194060658096], [166.8655049990495, -73.60646290475808], [166.86209435451826, -73.60186370228409], [166.8598205914974, -73.59685108835171], [166.8587870628515, -73.59147673939341], [166.85796023993487, -73.58543059681526]], &quot;type&quot;: &quot;LineString&quot;}, &quot;properties&quot;: {&quot;featurecla&quot;: &quot;Antarctic Ice Shelf Edge&quot;, &quot;scalerank&quot;: 5}, &quot;type&quot;: &quot;Feature&quot;}, {&quot;geometry&quot;: {&quot;coordinates&quot;: [[170.22478315661505, -72.32566253040395], [170.1813749534898, -72.32256194446644], [170.16649214098976, -72.31548227324242], [170.14954227119802, -72.29119435006533], [170.13869022041672, -72.2854582660809], [170.12143029203128, -72.2854582660809], [170.0539408714581, -72.29507008248717], [170.03699100166637, -72.2953801410809], [170.00474490791618, -72.29305470162781]], &quot;type&quot;: &quot;LineString&quot;}, &quot;properties&quot;: {&quot;featurecla&quot;: &quot;Antarctic Ice Shelf Edge&quot;, &quot;scalerank&quot;: 5}, &quot;type&quot;: &quot;Feature&quot;}, {&quot;geometry&quot;: {&quot;coordinates&quot;: [[170.21227746000034, -72.00568206165269], [170.2335681501046, -72.0061471495433], [170.39293826729272, -72.01544890735582], [170.45846398343883, -72.0083175596996], [170.48182173083484, -72.01002288196523], [170.5042493024494, -72.00888600045478], [170.52440311104334, -71.9989641254547], [170.49742801338692, -71.99653533313703], [170.48667931547027, -71.99172942493391], [170.47841108630348, -71.98180754993382], [170.4946374860432, -71.97844858183487], [170.51096723864742, -71.97705331816297], [170.5448669782309, -71.97565805449108]], &quot;type&quot;: &quot;LineString&quot;}, &quot;properties&quot;: {&quot;featurecla&quot;: &quot;Antarctic Ice Shelf Edge&quot;, &quot;scalerank&quot;: 5}, &quot;type&quot;: &quot;Feature&quot;}, {&quot;geometry&quot;: {&quot;coordinates&quot;: [[140.11954064347373, -66.72920826605863], [140.1081718283695, -66.71959644965237], [140.10228071508828, -66.71355030707421], [140.15984826066136, -66.69670379014707], [140.08264367081733, -66.67313933702201], [140.04502322810885, -66.66885019314176], [140.00450890519198, -66.6754647764751], [139.94570112524383, -66.69639373155334], [139.92647749243133, -66.69856414170955], [139.91097456274377, -66.69618702582417], [139.85950483618103, -66.68900400173558]], &quot;type&quot;: &quot;LineString&quot;}, &quot;properties&quot;: {&quot;featurecla&quot;: &quot;Antarctic Ice Shelf Edge&quot;, &quot;scalerank&quot;: 5}, &quot;type&quot;: &quot;Feature&quot;}, {&quot;geometry&quot;: {&quot;coordinates&quot;: [[164.86025272039558, -74.08369475697351], [164.8733785341978, -74.0810592589266], [164.87854617742693, -74.07873381947343], [164.88526411362494, -74.07677011504636], [164.90438439357285, -74.08002573028074], [164.96474246648984, -74.11976490671319], [164.98820356675031, -74.12870492949969], [165.06013716050057, -74.13382089629664], [164.9994690289899, -74.14327768340604], [165.04060346909426, -74.16043425892693], [165.08421837794856, -74.16761728301552], [165.12369917221963, -74.15847055449987], [165.1526379743031, -74.1264311664789], [165.1387886904488, -74.12317555124451], [165.15150109279267, -74.10999806101006], [165.137755161803, -74.10663909291111], [165.14612674383426, -74.09785409942145], [165.13186404852172, -74.08881072377038], [165.11636111883416, -74.08121428822346], [165.10375206935498, -74.07227426543696], [165.0978609560737, -74.0567713357494]], &quot;type&quot;: &quot;LineString&quot;}, &quot;properties&quot;: {&quot;featurecla&quot;: &quot;Antarctic Ice Shelf Edge&quot;, &quot;scalerank&quot;: 5}, &quot;type&quot;: &quot;Feature&quot;}, {&quot;geometry&quot;: {&quot;coordinates&quot;: [[169.87255659411358, -72.70915333444196], [169.86552859932186, -72.69359872832212], [169.91627485583257, -72.68589893991063], [170.0912512555728, -72.71457935983256], [170.1145056501041, -72.71173715605659], [170.14334109932298, -72.70341725045753], [170.1675256696356, -72.68889617298356], [170.17631066312526, -72.66755380644702], [170.16556196520855, -72.65556487415529], [170.14199751208338, -72.64502288196775], [170.093938430052, -72.6312769509781], [170.110061476927, -72.63174203886871], [170.16814578682306, -72.61701425566557], [170.15171268135424, -72.61768604928534]], &quot;type&quot;: &quot;LineString&quot;}, &quot;properties&quot;: {&quot;featurecla&quot;: &quot;Antarctic Ice Shelf Edge&quot;, &quot;scalerank&quot;: 5}, &quot;type&quot;: &quot;Feature&quot;}, {&quot;geometry&quot;: {&quot;coordinates&quot;: [[[-158.63708146872403, -77.8645492491761], [-158.63744320375005, -77.8626888976136], [-158.65093075257823, -77.867184747223], [-158.69625098369823, -77.87354094839489], [-158.72627499085976, -77.87307586050429], [-158.73449154359423, -77.87493621206679], [-158.74022762757858, -77.88056894318662], [-158.74826331279996, -77.89121428823876], [-158.75963212790424, -77.89974089956686], [-158.7745407786204, -77.90470183706694], [-159.24956489881183, -77.97869674628309], [-159.72458901900325, -78.05269165549923], [-160.19961313919467, -78.12668656471538], [-160.6746372593861, -78.20068147393154], [-161.14966137957754, -78.27467638314768], [-161.62468549976896, -78.34867129236383], [-162.09970961996038, -78.42266620157999], [-162.5747337401518, -78.49666111079613], [-163.04975786034322, -78.57065602001228], [-163.03376400454889, -78.57329151805918], [-163.06029985253076, -78.58186980581958], [-163.42328803205694, -78.59197254833268], [-163.78627621158313, -78.60207529084576], [-163.96556759341982, -78.58429859813734], [-163.99494564517778, -78.59267018016857], [-164.35355424706722, -78.5795185281503], [-164.71216284895667, -78.56636687613204], [-164.81693681542845, -78.59070647574151], [-164.80533545637894, -78.59484059032488], [-164.983825853515, -78.61199716584576], [-165.4809391364624, -78.59773447053321], [-165.9780524194098, -78.58347177522064], [-166.47516570235723, -78.56920907990809], [-166.97227898530463, -78.55494638459554], [-167.46939226825205, -78.54068368928297], [-167.96650555119945, -78.52642099397042], [-168.46361883414687, -78.51215829865787], [-168.96073211709427, -78.4978956033453], [-169.4578454000417, -78.48363290803275], [-169.9549586829891, -78.4693702127202], [-170.4520719659365, -78.45510751740763], [-170.9491852488839, -78.44084482209507], [-171.44629853183133, -78.42658212678252], [-171.94341181477876, -78.41231943146995], [-172.44052509772615, -78.3980567361574], [-172.93763838067358, -78.38379404084485], [-173.43475166362097, -78.36953134553228], [-173.9318649465684, -78.35526865021973], [-174.4289782295158, -78.34100595490717], [-174.92609151246322, -78.32674325959461], [-175.4232047954106, -78.31248056428205], [-175.92031807835804, -78.2982178689695], [-176.41743136130543, -78.28395517365693], [-176.91454464425286, -78.26969247834438], [-176.95663509835458, -78.26013233837041], [-176.93340654203936, -78.25129566844848], [-176.86826839913545, -78.21357187287546], [-176.91550065825024, -78.20390838003684], [-176.85204199939585, -78.14184498485434], [-176.84323116769002, -78.13063119904695], [-176.8604652578594, -78.12205291128654], [-177.30897022102235, -78.0867137853251], [-177.7574751841853, -78.05137465936366], [-178.20598014734824, -78.01603553340222], [-178.65448511051116, -77.98069640744079], [-179.1029900736741, -77.94535728147935], [-179.55149503683705, -77.9100181555179], [-180.0, -77.87467902955646]], [[-164.30089596256175, -79.30187753694227], [-164.32655331119463, -79.28745981233287], [-164.31841427310874, -79.28807992952034], [-164.2764013336554, -79.28110361116097], [-164.22263200585576, -79.28565113720268], [-164.23394914452766, -79.27366220491095], [-164.2472299876267, -79.26281015412965], [-164.29784705305653, -79.23004729605655], [-164.30534013573885, -79.22012542105657], [-164.30074093326488, -79.20958342886901], [-164.28880367740553, -79.20255543407728], [-164.28061296288726, -79.19945484813977], [-164.27650468651998, -79.19382211702], [-164.2768147451138, -79.17883595165534], [-164.28833858951484, -79.14266244905102], [-164.28932044172842, -79.13568613069165], [-164.285883958981, -79.13222380972803], [-164.27516109928047, -79.12617766714988], [-164.27156958723617, -79.12080331819158], [-164.27087195540022, -79.11537729280089], [-164.27169877831685, -79.11010629670716], [-164.27541948144193, -79.0995643045196], [-164.23611955468388, -79.09940927522274], [-164.2153197906864, -79.09517180777479], [-164.20260738834264, -79.08400969839977], [-164.20470028385046, -79.07109059032675], [-164.21692176008753, -79.05863657014442], [-164.23276058658493, -79.04871469514443], [-164.24565385644175, -79.04328866975374], [-164.23849667056933, -79.03967131949334], [-164.21477718814734, -79.03140309032659], [-164.2014446686161, -79.0227214497016], [-164.17777686262636, -79.003497816889], [-164.1631524322878, -78.99626311636811], [-164.14808875227467, -78.99218067821711], [-163.99241349999545, -78.96809946076908], [-163.98411943261257, -78.96541228628988], [-163.9772981435501, -78.96143320100346], [-163.9647666087193, -78.95182138459711], [-163.95786780500833, -78.94825571076899], [-163.94037533267752, -78.94350147899814], [-163.7940793528592, -78.93404469188876], [-163.77867977603623, -78.93032398876369], [-163.7752174550727, -78.92112558381574], [-163.83361182356248, -78.9069662413678], [-163.8183155996041, -78.89849130647188], [-163.7716517812446, -78.88743254996143], [-163.7366926747991, -78.87203297313846], [-163.7244711985621, -78.86857065217494], [-163.69101070865304, -78.864694919753], [-163.67982276106193, -78.86211109813847], [-163.63848161522844, -78.84474781688834], [-163.48391740624345, -78.8112614887632], [-163.4706624013605, -78.80252817170594], [-163.30028520409422, -78.77338266389333], [-163.265016039055, -78.75720794058594], [-163.27276750389876, -78.75297047313798], [-163.31095638736255, -78.7209827615493], [-163.2429760406825, -78.70641000764304], [-162.7980807159737, -78.72953521109363], [-162.3531853912649, -78.75266041454424], [-162.34186825259303, -78.75498585399743], [-162.33383256737164, -78.75994679149741], [-162.32161109113457, -78.77338266389333], [-162.31424719953299, -78.77911874787766], [-162.29647050682456, -78.78392465608087], [-162.14410254621208, -78.7923995909767], [-161.7629888580595, -78.87583119091192], [-161.3818751699069, -78.95926279084715], [-161.35614030662552, -78.97445566194097], [-161.35324642641717, -78.97776295360762], [-161.36668229881306, -78.98210377392016], [-161.37247005922978, -78.98582447704523], [-161.3733485585787, -78.99114714957125], [-161.36404680076618, -78.99683155712339], [-160.94298723045196, -79.09178700145969], [-160.52192766013775, -79.186742445796], [-160.2948355784311, -79.26580738720259], [-160.11404558005808, -79.29288583772347], [-159.99332943422425, -79.32735401806218], [-159.84212419333824, -79.34859303173415], [-159.5664045888449, -79.43251555777617], [-159.5602034169699, -79.43571949657826], [-159.5557334055767, -79.4400086404585], [-159.5489121165141, -79.4499305154585], [-159.54472632549846, -79.45442636506789], [-159.539145270811, -79.45768198030227], [-159.5264845448995, -79.46228118277625], [-159.52113603415728, -79.46558847444291], [-159.50764848532907, -79.48227996207319], [-159.50204159242543, -79.48646575308885], [-159.4941092600686, -79.48879119254204], [-159.46604895733415, -79.49090992626597], [-159.33494584860964, -79.52827198681295], [-159.3216650055106, -79.53679859814116], [-159.32375790101844, -79.54713388459955], [-159.3347908193128, -79.55173308707353], [-159.34959611716437, -79.55271493928701], [-159.37721717022436, -79.55064788199536], [-159.25316789450775, -79.58160206493818], [-159.23515865785396, -79.58909514762051], [-159.21503068747634, -79.60191090282886], [-159.20474707745024, -79.6178272439748], [-159.21650346579662, -79.63441537874051], [-159.20443701885648, -79.64418222444365], [-159.1891407948981, -79.65276051220414], [-158.97481279196754, -79.72231699006895], [-158.95840552471486, -79.73993865348052], [-158.96204871319145, -79.74562306103256], [-158.97667314353004, -79.75523487743891], [-158.97843014222804, -79.7620561665014], [-158.97432186586076, -79.76541513460035], [-158.96662207744924, -79.76758554475666], [-158.95305701397268, -79.76975595491288], [-158.99041907451965, -79.79021982210052], [-159.0032865061604, -79.79507740673594], [-159.0280911936605, -79.79952157991306], [-159.0359201731527, -79.80272551871514], [-159.05069963278814, -79.81295745230895], [-159.05796017152522, -79.8163680968402], [-159.06979407452, -79.81874521272559], [-159.4805700348081, -79.82768523551209], [-159.89134599509623, -79.8366252582986], [-160.30212195538434, -79.8455652810851], [-160.71289791567244, -79.8545053038716], [-161.174334005084, -79.7937079812802], [-161.6357700944956, -79.73291065868882], [-162.09720618390716, -79.67211333609742], [-162.55864227331872, -79.61131601350603], [-163.02007836273032, -79.55051869091464], [-163.48151445214188, -79.48972136832325], [-163.5708630035745, -79.45463307079706], [-163.93662879133635, -79.41168995556251], [-164.16093034569923, -79.33340016064034], [-164.30089596256175, -79.30187753694227]], [[-163.04875016991355, -79.76830901480871], [-163.062470262687, -79.76489837027746], [-163.0773013987548, -79.7638648416316], [-163.1468062001874, -79.74825855907947], [-163.16290340884632, -79.73988697704823], [-163.09965145572102, -79.74531300243882], [-162.7342215647691, -79.79383717236092], [-162.70760820213872, -79.80210540152758], [-162.6873510406803, -79.81486948030374], [-162.7319736399644, -79.83507496532984], [-162.7826682200427, -79.84174122509546], [-163.06584214989408, -79.81977874137145], [-163.3490160797455, -79.79781625764744], [-163.4001240712821, -79.78293344514735], [-163.30912187401617, -79.77895435986085], [-163.2479886546149, -79.76841236767328], [-163.15158627017433, -79.76779225048583], [-163.065648363273, -79.78205494579835], [-163.03810482486142, -79.77709400829835], [-163.04875016991355, -79.76830901480871]], [[-155.8278989329055, -79.81543792105892], [-155.85539079488478, -79.79745452262132], [-155.82360978902526, -79.77828256624107], [-155.79048519592612, -79.77006601350662], [-155.71935258687637, -79.76913583772543], [-155.58163489481854, -79.78283009228278], [-155.6164389719671, -79.7952841124651], [-155.6540852528918, -79.8038624002255], [-155.79309485575695, -79.82008879996518], [-155.8278989329055, -79.81543792105892]], [[-153.9425359771688, -80.03878346142439], [-154.11410173237778, -80.03702646272647], [-154.36186438700122, -80.03056690869002], [-154.33540605366773, -80.02529591259619], [-154.30982621968332, -80.0166142719712], [-154.36767798563403, -80.00705413199715], [-154.40974260151955, -80.00922454215346], [-154.42320431213165, -80.00472869254406], [-154.43049068908476, -79.99899260855965], [-154.4428930328349, -79.98633188264816], [-154.45260820210572, -79.98121591585121], [-154.51392228902006, -79.96431772249177], [-154.98782101135265, -79.92938445426253], [-155.02859371643098, -79.91569019970518], [-155.01828426818867, -79.89620818473114], [-155.47874711812545, -79.85765756624141], [-155.66529903869912, -79.8168331847308], [-155.66186255595167, -79.81610971467876], [-155.6482716542589, -79.81001189566831], [-155.61351925354262, -79.80277719514743], [-155.57693233947998, -79.80034840282968], [-155.16225480855385, -79.85177937206818], [-154.74757727762773, -79.90321034130667], [-154.33289974670163, -79.95464131054517], [-153.9182222157755, -80.00607227978367], [-153.89460608621806, -80.02090341585136], [-153.9425359771688, -80.03878346142439]], [[-160.44534318748123, -81.59052337028479], [-160.48766618552827, -81.5971379536181], [-160.5710719472474, -81.59889495231602], [-161.02212968650701, -81.58213702355852], [-161.4731874257666, -81.56537909480102], [-161.92424516502624, -81.54862116604352], [-162.37530290428586, -81.53186323728603], [-162.82636064354548, -81.51510530852853], [-163.27741838280508, -81.49834737977103], [-163.7284761220647, -81.48158945101353], [-163.7531516184841, -81.4704790180707], [-163.74857825422623, -81.4687220193728], [-163.67098609114, -81.46536305127384], [-163.65822201236386, -81.46164234814887], [-163.67013343000718, -81.45440764762799], [-163.94882442935724, -81.4188542622112], [-163.99006222232617, -81.40345468538823], [-163.96985673730006, -81.39311939892983], [-163.94921200259944, -81.37833993929434], [-163.93213294172696, -81.36102833447657], [-163.92267615461756, -81.34330331820043], [-163.85120764875788, -81.31891204215866], [-163.41755194807251, -81.29462411898152], [-162.98389624738718, -81.27033619580436], [-162.5222551747942, -81.30884547314825], [-162.0606141022012, -81.34735475049214], [-161.59897302960826, -81.38586402783602], [-161.13733195701528, -81.42437330517991], [-160.6756908844223, -81.4628825825238], [-160.632256843081, -81.49089120882606], [-160.62853613995594, -81.49673064567506], [-160.67150509340667, -81.50794443148237], [-160.68512183331552, -81.51471404411257], [-160.64719133201328, -81.51791798291465], [-160.44219092511142, -81.56024098096172], [-160.4138722402155, -81.57362517692533], [-160.44534318748123, -81.59052337028479]], [[-157.92076860251024, -82.08480844515653], [-157.99086768291411, -82.09777922966182], [-158.0671679351931, -82.10227507927124], [-158.09848385316195, -82.09581552523468], [-158.08509965719844, -82.0871338846097], [-158.06923499248478, -82.08150115348985], [-158.03696306051853, -82.07561004020857], [-158.06701290589626, -82.04868661898456], [-158.10969763896935, -82.03530242302094], [-158.39365963441313, -81.99365121859371], [-158.69710364483103, -81.90605966585898], [-159.0005476552489, -81.81846811312423], [-159.01912533265786, -81.78761728304599], [-159.00305396221506, -81.78027922966052], [-158.97858517152488, -81.77795379020735], [-158.89218217673283, -81.781777846197], [-158.63896765850265, -81.8312063536842], [-158.38575314027247, -81.88063486117139], [-158.37146460674376, -81.88657765088496], [-158.34676327210826, -81.90151213981724], [-158.30413021546747, -81.93003753044238], [-158.2464851552459, -81.95448048291644], [-157.91487748922893, -82.01819752393234], [-157.8566123118199, -82.0197994933334], [-157.82744096579108, -82.0247087544011], [-157.80857906800458, -82.03912647901049], [-157.92076860251024, -82.08480844515653]], [[-168.84713009343932, -83.22690927523922], [-169.32467200424853, -83.20548939405424], [-169.80221391505773, -83.18406951286927], [-169.81611487534425, -83.18024545687972], [-169.82825883693286, -83.17290740349425], [-169.8499887767116, -83.15451059359835], [-169.86314042872988, -83.14737924594203], [-170.35509360459446, -83.07640166618914], [-170.84704678045907, -83.00542408643625], [-171.33899995632368, -82.93444650668334], [-171.83095313218826, -82.86346892693045], [-171.90136227118597, -82.84207488396162], [-171.82051449286527, -82.824608249847], [-171.35548258504008, -82.87954029737327], [-170.89045067721486, -82.93447234489953], [-170.42541876938964, -82.9894043924258], [-169.96038686156444, -83.04433643995208], [-169.49535495373925, -83.09926848747834], [-169.03032304591403, -83.1542005350046], [-168.89862565821824, -83.1888754210724], [-168.81018144435063, -83.20189788201], [-168.78731462306152, -83.21378346143706], [-168.84713009343932, -83.22690927523922]], [[-161.81329586489562, -83.03865203239994], [-161.84417253318995, -83.04547332146242], [-161.8731113352734, -83.05828907667087], [-161.9373193023961, -83.10056039828557], [-161.97003048403684, -83.11627003370236], [-162.01266354067764, -83.12608855583778], [-162.40240719302295, -83.14830942172333], [-162.83185126447648, -83.11466806430131], [-163.26129533593001, -83.0810267068793], [-163.28387793684158, -83.063094984874], [-163.28103573306552, -83.05761728305103], [-163.27020952050034, -83.05115772901456], [-163.26863338931548, -83.04573170362397], [-163.29555681053958, -83.02661142367593], [-163.5070942861263, -83.01095346469151], [-163.60155880435588, -82.99017953891014], [-163.61946468814497, -82.98170460401433], [-163.6295932688742, -82.9705941710716], [-163.62509741926482, -82.95286915479545], [-163.60520199283246, -82.94036345818083], [-163.562284715814, -82.92408538200885], [-163.57851111555368, -82.91390512484733], [-163.60243730370476, -82.90785898226918], [-163.73038815005947, -82.88977223096708], [-163.7527640452419, -82.87995370883158], [-163.72113806867924, -82.87318409620138], [-163.68876278384843, -82.87147877393576], [-163.7100017975203, -82.86140186963881], [-163.81141679589314, -82.8470358214617], [-163.7496892975205, -82.8335999490658], [-163.32695024315686, -82.8479487717655], [-162.9042111887932, -82.86229759446522], [-162.48147213442957, -82.87664641716492], [-162.40902177635627, -82.89638681430043], [-162.33985287173357, -82.92377532341513], [-162.26740251366041, -82.94656463005585], [-161.92160966697935, -82.98547698357163], [-161.57581682029831, -83.02438933708741], [-161.81329586489562, -83.03865203239994]]], &quot;type&quot;: &quot;MultiLineString&quot;}, &quot;properties&quot;: {&quot;featurecla&quot;: &quot;Antarctic Ice Shelf Edge&quot;, &quot;scalerank&quot;: 5}, &quot;type&quot;: &quot;Feature&quot;}, {&quot;geometry&quot;: {&quot;coordinates&quot;: [[168.2453690941071, -71.18810922636294], [168.20196089098187, -71.1788591449827], [168.18501102119023, -71.17141773873266], [168.17353885322137, -71.16077239368053], [168.15762251207553, -71.14263396594606], [168.141602818065, -71.13400400175337], [168.1002616722315, -71.1208781879512], [168.0997449079086, -71.12010304146688], [168.0943705589503, -71.11529713326374]], &quot;type&quot;: &quot;LineString&quot;}, &quot;properties&quot;: {&quot;featurecla&quot;: &quot;Antarctic Ice Shelf Edge&quot;, &quot;scalerank&quot;: 5}, &quot;type&quot;: &quot;Feature&quot;}, {&quot;geometry&quot;: {&quot;coordinates&quot;: [[[180.0, -77.87467780958346], [179.52898229399398, -77.85301246788534], [179.05796458798793, -77.8313471261872], [178.58694688198187, -77.80968178448907], [178.1159291759758, -77.78801644279093], [177.6449114699697, -77.76635110109281], [177.17389376396366, -77.74468575939468], [176.7028760579576, -77.72302041769655], [176.23185835195153, -77.70135507599842], [176.1167232608052, -77.66481983836806], [176.07538211497177, -77.64332244253464], [176.04809695872166, -77.63619109487834], [175.58666616945698, -77.62170579339592], [175.12523538019232, -77.60722049191348], [174.66380459092764, -77.59273519043106], [174.202373801663, -77.57824988894862], [173.7409430123983, -77.5637645874662], [173.27951222313365, -77.54927928598377], [172.81808143386897, -77.53479398450133], [172.35665064460431, -77.52030868301891], [171.89521985533963, -77.50582338153649], [171.43378906607498, -77.49133808005405], [170.9723582768103, -77.47685277857163], [170.51092748754564, -77.46236747708919], [170.04949669828096, -77.44788217560676], [170.03668094307255, -77.45108611440884], [170.0279993024476, -77.45914763784636], [170.01993777900998, -77.47201506948709], [170.01053266833287, -77.48069671011206], [169.99906050036412, -77.485812676909], [169.98397098213485, -77.48829314565896], [169.93157107979096, -77.49010182078916], [169.44880984932024, -77.45315317170049], [169.3111438336947, -77.46622730907038]], [[169.35940962145526, -77.49816334422675], [169.36437055895533, -77.52198617951326], [169.318275181351, -77.53717905060708], [169.05028120348527, -77.56983855581561], [168.9122017764014, -77.63024830516476], [168.87251427640126, -77.640376885894], [168.40091515530565, -77.69623910920146], [168.08744591702316, -77.64559620555545], [167.74777672756863, -77.64476938263877], [167.4081075381141, -77.6439425597221], [167.34495893785345, -77.666938572092], [167.28367068915531, -77.70672942495673], [167.2577291201448, -77.7158761534724], [167.06890343655033, -77.7454350727433], [166.89351362535166, -77.79370086050396]], [[166.76742313055956, -77.84646249787392], [166.80990115790348, -77.85560922638959], [166.8287113792577, -77.86072519318654], [166.839563430039, -77.86982024526992], [166.83966678290358, -77.8837728819887], [166.8130017438409, -77.90067107534814], [166.76256554592402, -77.90966277456694], [166.70892540920516, -77.91281503693673], [166.27623864162527, -77.86850249624645], [165.84355187404537, -77.82418995555616], [165.5732324567266, -77.85405893342087], [165.30291303940783, -77.88392791128558], [165.2881335797723, -77.88950896597314], [165.27418094305352, -77.89834563589497], [165.26498253810558, -77.90842254019192], [165.26136518784512, -77.92366708771803], [165.25289025294927, -77.93317555125971], [165.20927534409498, -77.96226938264003], [165.1864343610219, -77.97213958120783], [165.16018273341763, -77.97983936961931], [164.88030317612493, -78.0176665180569], [164.81095340398917, -78.04531340933305], [164.78800906805157, -78.05099781688517], [164.59959679591543, -78.05812916454148], [164.4635844261232, -78.08066008902077], [164.43898644435222, -78.07879973745818], [164.41666222560218, -78.06743092235402]]], &quot;type&quot;: &quot;MultiLineString&quot;}, &quot;properties&quot;: {&quot;featurecla&quot;: &quot;Antarctic Ice Shelf Edge&quot;, &quot;scalerank&quot;: 5}, &quot;type&quot;: &quot;Feature&quot;}, {&quot;geometry&quot;: {&quot;coordinates&quot;: [[164.49614057846708, -77.85400725698854], [164.50895633367543, -77.84196664826462], [164.52187544174842, -77.83230315542596], [164.5289034365402, -77.82837574657184], [164.4835315289879, -77.79432097769143], [164.47309288966488, -77.78145354605078], [164.47081912664402, -77.77122161245697], [164.47319624252947, -77.76403858836846], [164.4741264183108, -77.75613209422772], [164.46709842351902, -77.74362639761311], [164.45790001857108, -77.73303272899327], [164.45262902247737, -77.72874358511312], [164.35857791570612, -77.684818617665], [164.32777876206018, -77.6750000955295], [164.19155968653877, -77.65846363719608], [163.90919966049597, -77.6978927550348]], &quot;type&quot;: &quot;LineString&quot;}, &quot;properties&quot;: {&quot;featurecla&quot;: &quot;Antarctic Ice Shelf Edge&quot;, &quot;scalerank&quot;: 5}, &quot;type&quot;: &quot;Feature&quot;}, {&quot;geometry&quot;: {&quot;coordinates&quot;: [[162.59217410710528, -76.22010182078412], [162.68694868392862, -76.2117302387528], [162.82089399642916, -76.2207219379716], [162.87629113184602, -76.21188526804967], [162.93375532455457, -76.2113168272945], [162.9625907737734, -76.20418547963818], [163.01106326726324, -76.18000090932566], [163.0305969586696, -76.16423959747658], [163.0475468284613, -76.14320728953385], [162.9557694847109, -76.13395720815362], [162.52396121648007, -76.14677296336197], [162.4753853701257, -76.14103687937754], [162.44468956934435, -76.1300297992994]], &quot;type&quot;: &quot;LineString&quot;}, &quot;properties&quot;: {&quot;featurecla&quot;: &quot;Antarctic Ice Shelf Edge&quot;, &quot;scalerank&quot;: 5}, &quot;type&quot;: &quot;Feature&quot;}, {&quot;geometry&quot;: {&quot;coordinates&quot;: [[162.65284223861596, -75.9570171039862], [162.6488114768972, -75.94730193471537], [162.7458598167413, -75.93846526479344], [163.03958865788837, -75.94342620229344], [162.99669721908612, -75.91944833770998], [162.8585144391376, -75.91526254669441], [162.82358117090837, -75.90596078888179], [162.81675988184577, -75.89996632273592], [162.80900841700202, -75.89748585398596]], &quot;type&quot;: &quot;LineString&quot;}, &quot;properties&quot;: {&quot;featurecla&quot;: &quot;Antarctic Ice Shelf Edge&quot;, &quot;scalerank&quot;: 5}, &quot;type&quot;: &quot;Feature&quot;}, {&quot;geometry&quot;: {&quot;coordinates&quot;: [[[164.24199588445566, -74.62779591257467], [164.32333458888303, -74.63601246530904], [164.35475385971654, -74.64081837351216], [164.54306277898814, -74.70034962351241], [164.5752055198737, -74.70034962351241], [164.55029747950903, -74.66324594512687], [164.54047895737352, -74.64433237090799], [164.53758507716515, -74.62598723744438], [164.53262413966513, -74.61089771921522], [164.50502892482132, -74.58433603301714], [164.49696740138376, -74.56805795684527]], [[162.65449588444932, -75.16678110137886], [162.65718305892852, -75.16517913197782], [162.66069705632435, -75.16114837025901], [162.6653479352306, -75.1576343728632], [162.67144575424106, -75.15458546335798], [162.70172814356403, -75.15272511179549], [162.80745812403325, -75.17887338653517], [162.8896236513773, -75.18181894317581], [162.90843387273156, -75.17990691518104], [162.91101769434613, -75.17189706817572], [162.90233605372111, -75.16156178171741], [162.88641971257528, -75.15251840606633], [162.83639692611672, -75.13799732859226], [162.8121090029395, -75.11877369577974], [162.77583214747062, -75.11236581817556], [162.75929568913728, -75.10394255971195], [162.85572391179392, -75.09278045033693], [162.9244535667421, -75.07655405059725], [162.99090945866942, -75.07112802520656], [163.07813927637807, -75.05040577585757], [163.12227094955534, -75.04621998484191], [163.11627648340948, -75.03572966908663], [163.09467573471153, -75.00741098419074], [163.1877966657014, -75.04901051218567], [163.17518761622227, -75.06275644317532], [163.14676557846172, -75.08595916127436], [163.1343632347116, -75.10022185658698], [163.12020389226365, -75.11293425893075], [163.08320356674267, -75.13060759877452], [163.07069787012807, -75.14037444447774], [163.06708051986766, -75.17189706817572], [163.09663943913858, -75.19106902455604], [163.13942752507626, -75.19990569447799], [163.17508426335763, -75.20062916453003], [163.21136111882652, -75.19556487416546], [163.28029747950387, -75.17665129994657], [163.37641564356676, -75.12807545359227], [163.38303022690013, -75.11923878367034], [163.37207482325425, -75.10895517364423], [163.3427226097125, -75.09293547963381], [163.38695763575436, -75.09045501088376], [163.40215050684816, -75.10611296986818], [163.4410111839316, -75.11613819773284], [163.5165621279424, -75.12363128041517], [163.55035851466124, -75.12006560658705], [163.59211307195307, -75.10967864369637], [163.6136104677865, -75.09433074330569], [163.58673872299465, -75.07614063913894], [163.60317182846347, -75.06477182403468], [163.65639855372416, -75.04730518992005], [163.6683874860159, -75.03929534291484], [163.6764490094534, -75.02947682077934], [163.68688764877635, -75.00828948353966], [163.70838504460977, -74.93806121205499], [163.72616173731814, -74.90638355906015], [163.75696089096408, -74.89346445098712], [163.74300825424535, -74.88173390085691], [163.77318729070373, -74.87615284616936], [163.83778283106858, -74.87305226023186], [163.92490929591276, -74.88664316192464], [163.93596805242322, -74.88519622182045], [163.944442987319, -74.88147551869548], [163.95105757065244, -74.87630787546624], [163.95581180242328, -74.86643767689853]]], &quot;type&quot;: &quot;MultiLineString&quot;}, &quot;properties&quot;: {&quot;featurecla&quot;: &quot;Antarctic Ice Shelf Edge&quot;, &quot;scalerank&quot;: 5}, &quot;type&quot;: &quot;Feature&quot;}, {&quot;geometry&quot;: {&quot;coordinates&quot;: [[165.06726850815693, -74.55679249460559], [165.1279366396675, -74.56712778106397], [165.26870324123064, -74.5629936664806]], &quot;type&quot;: &quot;LineString&quot;}, &quot;properties&quot;: {&quot;featurecla&quot;: &quot;Antarctic Ice Shelf Edge&quot;, &quot;scalerank&quot;: 5}, &quot;type&quot;: &quot;Feature&quot;}, {&quot;geometry&quot;: {&quot;coordinates&quot;: [[162.69470014877237, -76.64725921010873], [162.63868289616795, -76.60168059682728], [162.8405310407, -76.59062184031683], [162.87515425033558, -76.58395558055122], [162.90192264226283, -76.56943450307716], [162.86781619695012, -76.55108936961355], [162.82554487533542, -76.54509490346769], [162.740485467783, -76.54473316844165], [162.74110558497046, -76.54354461049891], [162.73748823471004, -76.53667164500415]], &quot;type&quot;: &quot;LineString&quot;}, &quot;properties&quot;: {&quot;featurecla&quot;: &quot;Antarctic Ice Shelf Edge&quot;, &quot;scalerank&quot;: 5}, &quot;type&quot;: &quot;Feature&quot;}, {&quot;geometry&quot;: {&quot;coordinates&quot;: [[169.2275313662464, -73.14747283314158], [169.26401492744446, -73.14969491973017], [169.30225548734046, -73.15155527129266], [169.3345015810906, -73.14473398223018], [169.34442345609068, -73.12333993926134], [169.37956343004907, -73.12571705514671], [169.39713341702833, -73.12494190866238], [169.41346316963262, -73.12029102975612], [169.4089156435909, -73.10933562611027]], &quot;type&quot;: &quot;LineString&quot;}, &quot;properties&quot;: {&quot;featurecla&quot;: &quot;Antarctic Ice Shelf Edge&quot;, &quot;scalerank&quot;: 5}, &quot;type&quot;: &quot;Feature&quot;}, {&quot;geometry&quot;: {&quot;coordinates&quot;: [[153.6832605328509, -68.37923674913814], [153.67581912660086, -68.37391407661212], [153.61969852113197, -68.35195159288811], [153.59933800680892, -68.3578943826016], [153.58393842998595, -68.36611093533605], [153.55282921774625, -68.38729827257575], [153.5216166526419, -68.39990732205493], [153.4865800315481, -68.4045582009612], [153.4510266461312, -68.40254282010184], [153.41805708232897, -68.39484303169027], [153.40420779847477, -68.38507618598715], [153.3851908713914, -68.38430103950282], [153.36545047425585, -68.38631642036216], [153.3621431825892, -68.36409555447662], [153.33186079326617, -68.34952280057036], [153.292173293266, -68.34161630642971], [153.2607540224326, -68.3394458962734], [153.2688155458701, -68.33097096137759], [153.24194380107826, -68.33014413846087], [153.22902469300533, -68.32797372830466], [153.221169875297, -68.32161752713276], [153.21651899639073, -68.31681161892955], [153.20804406149483, -68.31081715278377], [153.19119754456767, -68.30156707140344], [153.1743510276405, -68.29639942817428], [153.13786746644246, -68.29221363715862], [153.0796798036818, -68.29484913520554], [152.87431766175393, -68.33246957791405], [152.43325931214278, -68.35391529731518], [151.99220096253163, -68.37536101671631], [151.9525134625315, -68.38228565864337], [151.9869299664379, -68.40181935004972], [151.9994356630525, -68.40657358182057], [151.99457807841708, -68.41060434353935], [151.9856897320629, -68.42026783637792], [151.98072879456282, -68.4242985980967], [151.99902225159423, -68.4328768858571], [151.99209760966704, -68.4345822081228], [151.97835167867743, -68.44047332140401], [151.97132368388571, -68.44254037869575], [151.98403608622948, -68.45478769314892], [151.9906506695629, -68.45954192491976], [151.99974572164626, -68.46326262804473], [151.96222863180242, -68.47483814887815], [151.9691532737295, -68.47628508898234], [151.98744673076078, -68.4836231423678], [151.9721505068024, -68.49307992947719], [151.93535688701058, -68.50300180447718], [151.90156050029174, -68.5186597634617], [151.88616092346876, -68.55364470812322], [151.88140669169792, -68.56108611437325], [151.89608279846874, -68.56522022895663], [151.88791792216665, -68.56868254992017], [151.8819234560208, -68.57292001736812], [151.8703479351874, -68.58299692166507], [151.88636762919788, -68.585994154738], [151.8162943870101, -68.61472625109221], [151.74033003154102, -68.62986744575375], [151.2539514508099, -68.62945403429543], [151.15576622945537, -68.60278899523277], [151.112668084924, -68.57979298286298], [151.07897505106968, -68.5757105447119]], &quot;type&quot;: &quot;LineString&quot;}, &quot;properties&quot;: {&quot;featurecla&quot;: &quot;Antarctic Ice Shelf Edge&quot;, &quot;scalerank&quot;: 5}, &quot;type&quot;: &quot;Feature&quot;}, {&quot;geometry&quot;: {&quot;coordinates&quot;: [[156.97742638572868, -69.16084278755281], [156.95375857973903, -69.15986093533922], [156.9407361188014, -69.15944752388091], [156.94797081932234, -69.12999195747449], [156.9448702333848, -69.11815805447972], [156.930917596666, -69.11071664822967], [156.94238976463475, -69.10399871203168], [156.9166549013534, -69.10575571072958], [156.89195356671797, -69.1029135069536], [156.8676656435407, -69.1029135069536], [156.84317101463444, -69.11314544054733], [156.83428266828014, -69.12337737414116], [156.82880496645726, -69.13422942492244], [156.8213635602072, -69.14322112414123], [156.80679080630097, -69.14766529731835], [156.78560346906124, -69.1469418272662], [156.68431766176923, -69.13283416125054], [156.64618045473782, -69.11965667101609], [156.6269568219252, -69.0980559223181], [156.60204878156054, -69.08131275825554], [156.57373009666452, -69.05650807075546], [156.5623612815603, -69.03315032335954], [156.58840620343545, -69.02059295031265], [156.57600385968544, -69.00064584744797], [156.5571936383311, -68.99025888455729], [156.5344560081228, -68.98658985786452], [156.51047814353933, -68.98658985786452], [156.49683556541424, -68.98431609484372], [156.47719852114335, -68.97175872179682], [156.46634647036205, -68.96757293078115], [156.4332735536953, -68.96757293078115], [156.34656050030952, -68.95486052843737], [156.2195398297361, -68.95165658963529], [156.19783572817346, -68.95362029406235], [156.17551150942342, -68.96183684679673], [156.15835493390244, -68.97516936632806], [156.1446090029129, -68.98953541450516], [156.1296228375482, -68.99914723091152], [156.0730888206209, -68.99449635200526], [156.02172244692275, -68.99635670356773], [155.97769412661006, -69.00674366645842], [155.9550598492662, -69.02731088651055], [155.95630008364122, -69.02818938585955]], &quot;type&quot;: &quot;LineString&quot;}, &quot;properties&quot;: {&quot;featurecla&quot;: &quot;Antarctic Ice Shelf Edge&quot;, &quot;scalerank&quot;: 5}, &quot;type&quot;: &quot;Feature&quot;}, {&quot;geometry&quot;: {&quot;coordinates&quot;: [[155.15769249900262, -68.8734701475776], [155.18229048077353, -68.85925912869737], [155.2003772320757, -68.84442799262966], [155.2061649924924, -68.82964853299416], [155.1909721213986, -68.82163868598894], [155.16616743389847, -68.81295704536387], [155.15893273337764, -68.79657561632732], [155.15459191306513, -68.77797210070227], [155.13857221905465, -68.762520847447], [155.05185916566887, -68.73022307726458], [154.99057091697074, -68.72040455512908], [154.97837527894984, -68.71099944445197], [154.95553429587682, -68.6784949685404], [154.91936079327252, -68.65017628364451], [154.87553917868905, -68.63007415148289], [154.83006391827217, -68.62216765734226], [154.77446007712615, -68.62123748156105], [154.76825890525106, -68.62066904080578], [154.76918908103232, -68.62185759874852]], &quot;type&quot;: &quot;LineString&quot;}, &quot;properties&quot;: {&quot;featurecla&quot;: &quot;Antarctic Ice Shelf Edge&quot;, &quot;scalerank&quot;: 5}, &quot;type&quot;: &quot;Feature&quot;}, {&quot;geometry&quot;: {&quot;coordinates&quot;: [[146.04258995990364, -67.58672698351], [145.9768575380284, -67.5574781228328], [145.9292118674553, -67.55163868598382], [145.86048221250712, -67.53070973090558], [145.6211169781311, -67.49469125759819], [145.60830122292276, -67.4956214333794], [145.5832898296935, -67.50115081163466], [145.5726444846414, -67.50213266384823], [145.56055219948507, -67.49939381293675], [145.53554080625577, -67.49004037869193], [145.52251834531825, -67.48895517361376], [145.51259647031827, -67.49226246528043], [145.50432824115148, -67.50259775173883], [145.4930627789119, -67.50595671983778], [145.4316711773492, -67.51174448025449]], &quot;type&quot;: &quot;LineString&quot;}, &quot;properties&quot;: {&quot;featurecla&quot;: &quot;Antarctic Ice Shelf Edge&quot;, &quot;scalerank&quot;: 5}, &quot;type&quot;: &quot;Feature&quot;}, {&quot;geometry&quot;: {&quot;coordinates&quot;: [[157.56767459536644, -69.21443124783939], [157.56984500552267, -69.21370777778733], [157.54049279198097, -69.21758351020927], [157.5122774599496, -69.21820362739675], [157.48695600812653, -69.21127898546959], [157.46669884666812, -69.19453582140702], [157.5216825706267, -69.18218515408927], [157.42804487531384, -69.16032602322983], [157.39693566307415, -69.14689015083393], [157.41099165265751, -69.14058562609432], [157.39424848859494, -69.1379501280475], [157.38618696515744, -69.13469451281304], [157.3796757346886, -69.12973357531304], [157.37636844302193, -69.12306731554742], [157.37533491437614, -69.11516082140679], [157.37533491437614, -69.1083912087765], [157.37471479718857, -69.10492888781296], [157.3621057477094, -69.09650562934934], [157.3096024925008, -69.0710808246618], [157.27921675031325, -69.06860035591176], [157.25027794822972, -69.08017587674517], [157.23560184145884, -69.09929615669313], [157.2488310081256, -69.11996672960991], [157.230847609688, -69.12151702257867], [157.17183312401067, -69.14353118273496], [157.10982140526045, -69.15603687934959]], &quot;type&quot;: &quot;LineString&quot;}, &quot;properties&quot;: {&quot;featurecla&quot;: &quot;Antarctic Ice Shelf Edge&quot;, &quot;scalerank&quot;: 5}, &quot;type&quot;: &quot;Feature&quot;}, {&quot;geometry&quot;: {&quot;coordinates&quot;: [[148.67891482970595, -68.40476490669036], [148.69317752501848, -68.3821823057788], [148.70640669168523, -68.37375904731526], [148.73813602111238, -68.36202849718498], [148.61442264220562, -68.33681039822659], [148.2327405132978, -68.34544036241927], [148.13290164610993, -68.33345143012754], [147.83503869037958, -68.33097096137759], [147.76982303282728, -68.34223642361718], [147.73757693907714, -68.33934254340883], [147.72331424376455, -68.31944711697645], [147.79555789610856, -68.31934376411188], [147.80806359272327, -68.31526132596079], [147.84103315652544, -68.29614104601285], [147.85798302631724, -68.29040496202842], [147.85126509011923, -68.27960458767943], [147.8829944195465, -68.2936605772628], [147.9308467958487, -68.29552092882537], [147.97911258360938, -68.28849293403366], [148.01208214741155, -68.27557382596072], [148.02376102110952, -68.24880543403349], [147.99420210183854, -68.22818653754908], [147.94769331277587, -68.21397551866875], [147.90821251850485, -68.20637908312183], [147.75556033751474, -68.19428679796553], [147.73716352761875, -68.18906747830408], [147.71680301329576, -68.18033416124673], [147.69778608621243, -68.16906869900714], [147.68393680235812, -68.15635629666328], [147.66977745991016, -68.15005177192367], [147.64538618386848, -68.14627939236641], [147.62099490782663, -68.14560759874666], [147.60693891824326, -68.14881153754874], [147.6094193869933, -68.13036305122054], [147.6093160341287, -68.11837411892881], [147.60197798074324, -68.11108774197564], [147.5829610536598, -68.10685027452769], [147.50865034402415, -68.10705698025686], [147.36292280496104, -68.13987151476223], [147.31755089740875, -68.13997486762682], [147.27207563699199, -68.12684905382464], [147.18856652240822, -68.0897453754391], [147.1512561382935, -68.07873829536095], [147.13409956277263, -68.07098683051717], [147.12893191954345, -68.06090992622022], [147.12986209532465, -68.0524349913244], [147.12717492084556, -68.046182143017], [147.12169721902256, -68.04153126411083], [147.04521609923063, -68.0066496723138], [147.01234988829293, -67.981018161897], [147.00759565652208, -67.95337127062086], [146.9392794130323, -67.94629159939684], [146.87003299376113, -67.93667978299058]], &quot;type&quot;: &quot;LineString&quot;}, &quot;properties&quot;: {&quot;featurecla&quot;: &quot;Antarctic Ice Shelf Edge&quot;, &quot;scalerank&quot;: 5}, &quot;type&quot;: &quot;Feature&quot;}, {&quot;geometry&quot;: {&quot;coordinates&quot;: [[146.44153201719695, -67.73116261176582], [146.44308231016566, -67.73147267035957], [146.41414350808225, -67.71023365668759], [146.39843387266552, -67.7053243956199], [146.35647260964447, -67.70186207465628], [146.29322065651922, -67.67741912218222], [146.276890903915, -67.67623056423957], [146.24330122292537, -67.68238005968229], [146.22635135313362, -67.68475717556768]], &quot;type&quot;: &quot;LineString&quot;}, &quot;properties&quot;: {&quot;featurecla&quot;: &quot;Antarctic Ice Shelf Edge&quot;, &quot;scalerank&quot;: 5}, &quot;type&quot;: &quot;Feature&quot;}, {&quot;geometry&quot;: {&quot;coordinates&quot;: [[146.71975792865635, -67.95662688585523], [146.71283328672934, -67.91409718207902], [146.68565148334375, -67.91125497830294], [146.62942752501021, -67.89290984483932], [146.60028201719757, -67.8876388487456], [146.59273725808293, -67.88484832140182], [146.58405561745798, -67.87378956489138], [146.5764075054787, -67.8709990375476], [146.56173139870788, -67.87213591905805], [146.4987895041764, -67.86097380968295], [146.4945520367284, -67.85559946072463]], &quot;type&quot;: &quot;LineString&quot;}, &quot;properties&quot;: {&quot;featurecla&quot;: &quot;Antarctic Ice Shelf Edge&quot;, &quot;scalerank&quot;: 5}, &quot;type&quot;: &quot;Feature&quot;}, {&quot;geometry&quot;: {&quot;coordinates&quot;: [[160.5244966982429, -70.03246917101976], [160.47530073470102, -70.00792286568111], [160.41277225162787, -69.9734030089102], [160.44987593001338, -69.9796041807852], [160.50341271386776, -69.97552174263413], [160.5571562034513, -69.96549651476954], [160.59508670475356, -69.95402434680071], [160.57906701074313, -69.93257862739958], [160.57203901595142, -69.91164967232135], [160.56180708235757, -69.89356292101927], [160.53627892480546, -69.88059213651397], [160.50920047428446, -69.87588958117541], [160.47984826074264, -69.87418425890979], [160.42248742089868, -69.87743987414416], [160.4292053570967, -69.86751799914416], [160.43478641178416, -69.85687265409203], [160.4386104677738, -69.84555551542006], [160.44036746647168, -69.83346323026376], [160.4247611839196, -69.83630543403982], [160.42021365787787, -69.8395610492742], [160.41494266178415, -69.84803598417011], [160.40347049381535, -69.83878590278987], [160.33670454329422, -69.80690154406577]], &quot;type&quot;: &quot;LineString&quot;}, &quot;properties&quot;: {&quot;featurecla&quot;: &quot;Antarctic Ice Shelf Edge&quot;, &quot;scalerank&quot;: 5}, &quot;type&quot;: &quot;Feature&quot;}, {&quot;geometry&quot;: {&quot;coordinates&quot;: [[149.7309436383038, -68.35401865017975], [149.45426801981313, -68.31944711697645], [149.4261560406464, -68.32657846463277], [149.4205749859588, -68.34239145291406], [149.45044396382355, -68.36652434679436], [149.43804162007353, -68.3668860818204], [149.428739862261, -68.36993499132561], [149.42315880757343, -68.37613616320064], [149.42243533752134, -68.38621306749758]], &quot;type&quot;: &quot;LineString&quot;}, &quot;properties&quot;: {&quot;featurecla&quot;: &quot;Antarctic Ice Shelf Edge&quot;, &quot;scalerank&quot;: 5}, &quot;type&quot;: &quot;Feature&quot;}, {&quot;geometry&quot;: {&quot;coordinates&quot;: [[159.25945763573776, -69.4303870583872], [159.21987348860227, -69.41199024849129], [159.17388146386241, -69.40377369575683], [159.1580684755811, -69.39323170356928], [159.16137576724788, -69.37194101346502], [159.14949018782073, -69.37049407336093], [159.1678869977166, -69.35979705187651], [159.14742313052898, -69.35499114367329], [159.12654585188307, -69.35426767362125], [159.14618289615407, -69.33928150825659], [159.15383100813318, -69.33525074653787], [158.99673465396592, -69.3221249327357], [158.9587007997991, -69.33752450955868], [158.97027632063254, -69.34961679471499], [158.97647749250746, -69.35199391060036], [158.98681277896583, -69.35209726346503], [158.9641785016221, -69.36413787218896], [158.9457816917261, -69.36915048612133], [158.9305888206323, -69.36847869250148], [158.91922000552808, -69.36868539823064]], &quot;type&quot;: &quot;LineString&quot;}, &quot;properties&quot;: {&quot;featurecla&quot;: &quot;Antarctic Ice Shelf Edge&quot;, &quot;scalerank&quot;: 5}, &quot;type&quot;: &quot;Feature&quot;}, {&quot;geometry&quot;: {&quot;coordinates&quot;: [[145.2874939312548, -67.51479338975972], [145.59600223203728, -67.4048259418426], [145.58422000547472, -67.39366383246758], [145.7297408388087, -67.36152109158203], [145.83681440651748, -67.3051421039516], [145.9318990419345, -67.26752166124308], [145.955360142195, -67.26209563585248], [145.95081261615337, -67.24876311632116], [145.9803715354243, -67.24772958767528], [146.13943159401862, -67.18845671983658], [146.21229536355025, -67.13957081488846], [146.20133995990432, -67.1321810850707], [146.18955773334181, -67.12887379340404], [146.16268598854998, -67.12670338324773], [146.18366662006054, -67.1200887999144], [146.26355838438377, -67.08494882595592], [146.29807824115466, -67.06014413845584], [146.31885216693604, -67.05151417426308], [146.31761193256102, -67.02903492621607], [146.3343550966236, -67.01265349717961], [146.3577128440195, -66.99885588975769], [146.37610965391548, -66.9840247536899], [146.35657596250905, -66.98159596137214], [146.4151770367281, -66.94903980902828], [146.42158491433224, -66.9476445453564], [146.43564090391573, -66.9471794574658], [146.44184207579065, -66.9453707823356], [146.44442589740527, -66.94190846137198], [146.44401248594698, -66.93782602322098], [146.44473595599902, -66.9336402322053], [146.4510404807387, -66.92986785264796], [146.50178673724923, -66.91203948350733], [146.55232628803077, -66.88775156033013], [146.54581505756192, -66.88149871202282], [146.54168094297864, -66.87653777452283], [146.53672000547863, -66.87292042426233], [146.5271081890723, -66.87064666124154], [146.55935428282237, -66.8533350564237], [146.59645796120793, -66.84413665147574], [146.62963423073933, -66.82930551540804], [146.64999474506232, -66.79525074652763], [146.6203324729268, -66.79158171983494], [146.6064831890726, -66.78827442816828], [146.59387413959342, -66.78072966905366], [146.63573204974978, -66.77173796983486], [146.4549678895928, -66.78315846137141], [146.43998172422818, -66.78026458116307], [146.43223025938437, -66.77390837999108], [146.421894972926, -66.75747527452233], [146.410732863551, -66.75080901475663], [146.3549223166758, -66.74946542751702], [146.2440246929774, -66.79886809678811], [146.19131473203964, -66.81183888129334], [146.20836795469603, -66.79778289170997], [146.2691394390713, -66.76197112413173], [146.27523725808175, -66.7549948057723], [146.28856977761296, -66.72249032986073], [146.29415083230055, -66.71556568793358], [146.31792199115483, -66.69913258246481], [146.29580447813385, -66.69763396592836], [146.25549686094615, -66.68228606553768], [146.2345162294357, -66.67701506944385], [146.21425906797725, -66.67732512803758], [146.173124627873, -66.68523162217832], [146.0302909690182, -66.69577361436578], [145.99339399636182, -66.70724578233461], [145.6029785503967, -66.89069711697077], [145.21256310443158, -67.07414845160693], [145.14931115130634, -67.08851449978403], [145.12822716693125, -67.0985397276487], [145.0893664898478, -67.12654835395085], [145.0700395041706, -67.1349199359822], [145.02735477109752, -67.13771046332587], [145.00709760963912, -67.14608204535722], [145.04513146380594, -67.17140349718018], [145.0332458843788, -67.17450408311768], [145.02125695208707, -67.17099008572187], [144.99531538307656, -67.1592078591593], [144.98570356667028, -67.160034682076], [144.9496334169305, -67.17357390733649], [144.919971144795, -67.17610605251873], [144.89103234271153, -67.17434905382082], [144.8634371278677, -67.16664926540933], [144.8377022645863, -67.15119801215408], [144.84255984922186, -67.18339242947191], [144.81320763568, -67.20488982530532], [144.7709363140653, -67.21760222764918], [144.69869266172128, -67.22762745551375], [144.67957238177326, -67.22483692816998], [144.6626225119815, -67.21584522895118], [144.65228722552308, -67.20473479600845], [144.63709435442928, -67.18287566514903], [144.61570031146044, -67.17145517361256]], &quot;type&quot;: &quot;LineString&quot;}, &quot;properties&quot;: {&quot;featurecla&quot;: &quot;Antarctic Ice Shelf Edge&quot;, &quot;scalerank&quot;: 5}, &quot;type&quot;: &quot;Feature&quot;}, {&quot;geometry&quot;: {&quot;coordinates&quot;: [[164.03632368393397, -70.543290704225], [164.01358605372553, -70.54716643664685], [163.98805789617342, -70.55119719836564], [163.97813602117333, -70.54907846464161], [163.96542361882956, -70.54437590930306], [163.9405155784649, -70.54256723417286], [163.9313171735169, -70.5405518533135], [163.92335900294393, -70.5343506814385], [163.91023318914182, -70.51765919380821], [163.90341190007933, -70.5123365212821], [163.88232791570425, -70.50784067167271], [163.84160688705822, -70.5074272602144], [163.79995568263098, -70.49011565539664], [163.77432417221416, -70.48515471789665], [163.69184858627636, -70.48262257271432], [163.67613895085964, -70.4849480121674], [163.65836225815121, -70.49616179797479], [163.64347944565122, -70.51357675565711], [163.6324206891407, -70.53559091581351], [163.6328341005991, -70.55481454862604], [163.65278120346375, -70.56390960070942], [163.66446007716166, -70.56111907336563], [163.68533735580758, -70.54747649524057], [163.693915643568, -70.54442758573535], [163.7053878115368, -70.54861337675102], [163.72295779851612, -70.56680348091777], [163.73205285059942, -70.57259124133448], [163.75220665919323, -70.57253956490219], [163.77442752507875, -70.56866383248025], [163.79292768783927, -70.56995574328757], [163.80171268132887, -70.58514861438138], [163.77494428940167, -70.57956755969383], [163.7407344912245, -70.58091114693343], [163.6776892438284, -70.59057463977197], [163.74311160710994, -70.58850758248033], [163.76181847559957, -70.59057463977197], [163.78238569565178, -70.60054819120435], [163.79561486231847, -70.61233041776693], [163.80956749903726, -70.62023691190757], [163.83602583237075, -70.62426767362628], [163.8464644716937, -70.62271738065752]], &quot;type&quot;: &quot;LineString&quot;}, &quot;properties&quot;: {&quot;featurecla&quot;: &quot;Antarctic Ice Shelf Edge&quot;, &quot;scalerank&quot;: 5}, &quot;type&quot;: &quot;Feature&quot;}, {&quot;geometry&quot;: {&quot;coordinates&quot;: [[144.17645063697955, -67.0527544086381], [144.0882906434896, -67.04210906358597], [143.95227827369746, -67.05864552191937], [143.9387390484369, -67.05688852322146], [143.89936160703053, -67.042832533638], [143.88086144427007, -67.03823333116404]], &quot;type&quot;: &quot;LineString&quot;}, &quot;properties&quot;: {&quot;featurecla&quot;: &quot;Antarctic Ice Shelf Edge&quot;, &quot;scalerank&quot;: 5}, &quot;type&quot;: &quot;Feature&quot;}, {&quot;geometry&quot;: {&quot;coordinates&quot;: [[141.30386111873895, -66.83281951280387], [141.2770927268117, -66.82331104926217], [141.2300671734261, -66.79525074652763], [141.18128462134257, -66.7769572894964], [141.13095177629026, -66.77039438259527], [141.0827893413943, -66.77959278754321], [141.07627811092544, -66.78181487413181], [141.05777794816504, -66.78625904730893]], &quot;type&quot;: &quot;LineString&quot;}, &quot;properties&quot;: {&quot;featurecla&quot;: &quot;Antarctic Ice Shelf Edge&quot;, &quot;scalerank&quot;: 5}, &quot;type&quot;: &quot;Feature&quot;}, {&quot;geometry&quot;: {&quot;coordinates&quot;: [[167.80415571519904, -71.01230600370599], [167.79475060452194, -71.0004721007112], [167.7925801943657, -70.99809498482574], [167.7909265485323, -70.99551116321112], [167.78947960842817, -70.99272063586734], [167.80053836493863, -70.98848316841948], [167.80849653551155, -70.9807317035757], [167.81180382717832, -70.97039641711731], [167.80870324124072, -70.95866586698702], [167.7574402204072, -70.94409311308075]], &quot;type&quot;: &quot;LineString&quot;}, &quot;properties&quot;: {&quot;featurecla&quot;: &quot;Antarctic Ice Shelf Edge&quot;, &quot;scalerank&quot;: 5}, &quot;type&quot;: &quot;Feature&quot;}, {&quot;geometry&quot;: {&quot;coordinates&quot;: [[162.00409630762374, -70.42350473417238], [161.98611290918626, -70.41053394966715], [161.9676127464257, -70.40107716255775], [161.98528608626953, -70.39353240344315], [161.94787234929026, -70.36366342557841], [161.95593387272777, -70.33570647570852], [161.93484988835263, -70.31679290148963], [161.90146691309218, -70.30609588000522], [161.85681847559192, -70.30097991320835], [161.82085167871685, -70.29266000760941], [161.80813927637297, -70.29183318469269], [161.7955302268938, -70.2967941221927], [161.75925337142485, -70.32392424914595], [161.7630774274145, -70.28800912870305], [161.74168338444565, -70.28392669055205], [161.70395958887258, -70.25969044380716], [161.68122195866414, -70.2541093891196], [161.69362430241426, -70.24837330513526], [161.66344526595577, -70.2473397764894], [161.68225548731, -70.23829640083832], [161.67274702376824, -70.23209522896329], [161.63078576074724, -70.22005462023927], [161.64019087142447, -70.21059783312988], [161.6068078961639, -70.21276824328609], [161.6203471214243, -70.20253630969236], [161.60835818913267, -70.19132252388498], [161.59657596257006, -70.15628590279107], [161.58489708887208, -70.1431084125567], [161.56670698470532, -70.14016285591606], [161.18347456282885, -70.17173715604642], [161.14657759017246, -70.18010873807768], [161.12735395735984, -70.18744679146313], [161.11794884668274, -70.1970069314371], [161.1222896669953, -70.21188974393719], [161.13830936100572, -70.2172640928955], [161.15866987532877, -70.21886606229654], [161.17582645084963, -70.22253508898932], [161.1253902529328, -70.23090667102056], [161.1498848818391, -70.24222380969253], [161.17582645084963, -70.24930348091647], [161.20249148991223, -70.25250741971855], [161.2294665875686, -70.2523007139894], [161.2000110211622, -70.25870859159357], [161.1726225120475, -70.27064584745301], [161.12239301985983, -70.30128997180209], [161.11340132064106, -70.30547576281776], [161.10389285709937, -70.30738779081253], [161.09397098209928, -70.30749114367711], [161.0611047711617, -70.30501067492716]], &quot;type&quot;: &quot;LineString&quot;}, &quot;properties&quot;: {&quot;featurecla&quot;: &quot;Antarctic Ice Shelf Edge&quot;, &quot;scalerank&quot;: 5}, &quot;type&quot;: &quot;Feature&quot;}, {&quot;geometry&quot;: {&quot;coordinates&quot;: [[-52.5201995509818, -80.20047901806568], [-52.51872677266152, -80.20016895947194], [-52.5188818019584, -80.20011728303966], [-52.524023606971355, -80.20073740022713], [-52.5201995509818, -80.20047901806568]], &quot;type&quot;: &quot;LineString&quot;}, &quot;properties&quot;: {&quot;featurecla&quot;: &quot;Antarctic Ice Shelf Edge&quot;, &quot;scalerank&quot;: 5}, &quot;type&quot;: &quot;Feature&quot;}], &quot;type&quot;: &quot;FeatureCollection&quot;});\n",
       "\n",
       "        \n",
       "    \n",
       "            var topo_json_bf909eb5900b019021bdcae3cb081472_data = {&quot;arcs&quot;: [[[593, 3554], [5, -16], [1, -7], [0, -8], [1, -9], [1, -7], [0, -6], [1, -3], [2, 0], [2, -12], [3, 0], [0, -4], [2, -13], [1, -6], [8, -34], [9, -35], [3, -21], [1, -6], [7, 0], [6, 19], [2, 9], [0, 13], [0, 1], [0, 3], [1, 7], [0, 1], [2, -4], [3, 3], [0, -8], [0, -3], [2, -13], [1, -3], [9, 1], [2, 5], [6, -7], [6, 4], [1, 3], [1, 8], [1, 1], [0, -3], [2, -10], [0, -2], [2, 4], [2, 15], [4, 4], [1, -3], [0, -16], [1, -7], [-3, 7], [-5, -6], [1, -20], [3, -5], [10, 11], [0, 2], [0, 8], [0, 2], [3, 12], [0, 4], [-2, 11], [4, 9], [5, -1], [1, -2], [0, -3], [1, -8], [0, -3], [1, -4], [1, -3], [0, -5], [0, -4], [1, -4], [0, -4], [0, -1], [11, -6], [-3, -7], [-6, 0], [-2, -16], [0, -14], [1, -12], [-3, -8], [-1, -11], [1, -7], [-2, -8], [-4, 0], [-2, -5], [2, -9], [-6, -10], [-2, 3], [-3, 12], [-4, -1], [2, -15], [-1, -6], [-10, -4], [-9, -4], [-10, -4], [-2, -6], [2, -5], [0, -4], [1, -8], [-2, -7], [-11, -18], [-1, -5], [-1, -9], [0, -13], [1, -7], [10, -39], [10, -40], [11, -40], [10, -40], [0, -3], [1, -10], [1, -7], [13, -12], [13, -13], [14, -13], [13, -12], [1, -6], [3, -9], [6, 27], [3, -20], [0, -8], [1, -2], [6, 16], [3, 15], [0, 6], [0, 11], [1, 1], [3, -15], [1, -1], [8, 13], [1, -2], [-7, -32], [0, -2], [0, -5], [0, -2], [-3, -15], [3, -2], [-9, -15], [-3, -14], [3, -16], [1, -5], [2, -1], [13, 31], [1, -3], [1, -7], [-1, -3], [-1, -1], [-1, -1], [-3, -17], [-3, -15], [13, -30], [14, -31], [13, -31], [3, -12], [12, -12], [13, -11], [12, -12], [2, -9], [-1, -8], [2, -10], [11, -15], [12, -15], [11, -15], [-5, -3], [2, -7], [-1, 1], [-2, -6], [-1, -1], [-3, 1], [2, -12], [13, -19], [-7, -7], [-1, -5], [9, 0], [5, -12], [1, 2], [2, 9], [3, 3], [1, -2], [2, -4], [-3, -4], [0, -14], [-11, 2], [-12, 2], [-1, 4], [1, 6], [-5, 0], [-1, 5], [4, 0], [1, 8], [-14, 2], [-5, 11], [-8, 1], [1, -4], [2, -2], [3, -9], [-1, 0], [0, -1], [-1, -3], [10, -6], [-2, -2], [-1, -3], [2, -3], [0, -3], [-1, -7], [-2, -2], [11, -4], [1, -4], [-9, 2], [-10, 2], [-2, -5], [10, -2], [9, -2], [10, -2], [1, -9], [-9, -1], [-8, -1], [1, -8], [12, -4], [12, -4], [1, -5], [-14, -5], [-13, -5], [-4, -10], [-4, -5], [0, -2], [0, -3], [0, -5], [0, -3], [0, -1], [-11, 7], [-11, 7], [-10, 7], [-11, 7], [1, -11], [1, -6], [2, -10], [1, -7], [1, -9], [1, -11], [-10, -17], [-5, 5], [-2, -3], [-2, -14], [4, -4], [1, -7], [1, -18], [-4, -7], [9, 2], [3, -7], [2, -12], [6, -11], [1, -7], [-13, -1], [-12, -1], [4, -8], [-6, 1], [-2, -9], [8, 0], [9, 0], [1, -3], [-1, 0], [0, -2], [-1, -3], [0, -5], [10, -19], [-5, 0], [-2, -9], [3, -6], [8, 0], [8, 0], [1, -5], [-5, -8], [6, -2], [2, -5], [-6, -7], [1, -3], [9, -1], [10, 0], [0, -1], [3, -13], [8, -1], [7, -1], [3, -6], [-13, 3], [-13, 2], [-2, -8], [6, -9], [-9, -1], [-1, -2], [-1, -7], [7, -4], [8, -5], [-8, -4], [-8, -5], [10, -4], [10, -4], [10, -5], [1, -12], [-2, -1], [0, -1], [-1, -3], [8, -5], [2, -7], [-5, -3], [1, -5], [9, -6], [8, -5], [1, -7], [1, -13], [-1, -10], [-1, -6], [-13, -6], [-14, -6], [-14, -6], [-13, -6], [-14, -6], [-14, -7], [-13, -6], [-14, -6], [-13, -6], [-14, -6], [-14, -6], [-13, -6], [-14, -6], [-13, -7], [-14, -6], [-14, -6], [-13, -6], [-14, -6], [-8, -26], [-9, -26], [-1, -5], [-1, -9], [0, -7], [0, -4], [0, -5], [2, -16], [12, -13], [11, -14], [12, -13], [11, -13], [11, -14], [5, -21], [12, -14], [1, -6], [1, -4], [0, -9], [1, -3], [6, -17], [1, -5], [1, -7], [1, -4], [3, -1], [1, -1], [1, -5], [2, -22], [1, -5], [-2, -14], [-2, -8], [-7, -8], [-8, -7], [-2, -7], [-3, -20], [-6, -21], [-2, -11], [1, -10], [9, -25], [10, -26], [-4, -14], [1, -12], [12, -40], [13, -40], [12, -40], [2, -19], [3, -14], [0, -6], [2, -14], [0, -6], [2, -8], [0, -7], [1, -10], [-12, -21], [-12, -20], [-11, -20], [-12, -21], [-12, -20], [-11, -21], [-1, -7], [-1, -22], [0, -7], [-10, -38], [1, -25], [-4, -19], [-14, -6], [-13, -5], [-13, -6], [-14, -6], [-13, -6], [-14, -5], [-1, -8], [1, -12], [1, -4], [13, -6], [14, -7], [13, -6], [3, -12], [-7, -27], [-8, -27], [-1, -5], [-1, -15], [-1, -3], [-13, -11], [-13, -11], [-14, -10], [-1, -9], [-1, -12], [0, -13], [-1, -3], [-2, -5], [-8, -1], [-8, 16], [-8, 16], [-12, -4], [-12, -5], [-11, -4], [-12, -5], [-12, -4], [-6, 14], [-2, 11], [4, 5], [2, 6], [-3, 13], [-11, 12], [-1, 3], [-1, 9], [0, 1], [0, 2], [1, 1], [-1, 15], [-1, 6], [-8, 3], [-4, -11], [-5, 1], [-3, -15], [-8, -7], [-8, -7], [-1, -3], [0, -7], [0, -7], [0, -7], [1, -12], [0, -5], [1, -12], [-2, -10], [-12, 10], [-1, 4], [-1, 6], [0, 8], [0, 2], [1, 4], [0, 2], [0, 2], [-1, 5], [-2, 23], [-1, 6], [-4, 11], [-1, 0], [0, 7], [1, 11], [0, 6], [0, 2], [0, 3], [0, 3], [0, 2], [0, 2], [0, 1], [0, 1], [1, 3], [1, 0], [0, 2], [1, 8], [-7, 23], [-12, 0], [-13, 1], [-12, 0], [-13, 0], [-12, 1], [-1, -2], [-2, -11], [0, -1], [-8, 5], [-8, 4], [0, -3], [-1, -16], [-1, -4], [-12, 1], [-11, 2], [-11, 1], [-12, 1], [6, -27], [-2, -4], [-10, 18], [-11, 18], [-10, 18], [-2, 7], [0, 7], [-1, 20], [-3, 31], [-1, 4], [-12, 49], [-11, 13], [-10, 14], [-10, 13], [-6, -23], [-13, 1], [-10, 26], [-10, 26], [-10, 25], [-2, -1], [-1, -10], [1, -16], [9, -50], [12, -23], [12, -24], [12, -24], [13, -24], [12, -24], [12, -24], [12, -24], [-10, 11], [-10, 11], [-2, -5], [13, -18], [13, -18], [13, -17], [13, -18], [12, -17], [1, -2], [1, -13], [1, -1], [8, -8], [8, -8], [-7, 0], [-2, -7], [1, -9], [1, -4], [12, -7], [1, -6], [0, -14], [0, -3], [-2, -13], [0, -8], [5, -16], [3, -18], [3, -10], [14, -5], [1, -10], [-8, 0], [-8, 0], [6, -5], [2, -6], [-3, -6], [11, -14], [11, -14], [3, 6], [-2, 7], [-10, 10], [-2, 9], [11, -5], [12, -6], [11, -6], [11, -6], [2, 8], [1, 6], [1, 2], [11, 19], [1, -2], [2, -8], [12, -14], [1, -3], [1, -10], [13, -28], [13, -28], [1, -7], [1, -2], [0, -3], [0, -3], [0, -2], [-2, 0], [-1, -2], [0, -5], [-1, -1], [9, -20], [1, -9], [-12, -1], [-13, -1], [-12, -1], [-2, -7], [0, -9], [1, -6], [1, -8], [-2, 3], [-1, -3], [-1, -9], [12, -9], [3, -14], [12, -20], [-1, -4], [-1, -2], [1, -5], [3, -7], [1, 1], [-1, -5], [-1, 0], [-1, -5], [1, -3], [0, -2], [10, -7], [10, -8], [11, -8], [0, -3], [1, -6], [0, -2], [-13, 0], [-14, 0], [-13, 0], [-13, -1], [-14, 0], [-3, -8], [1, -8], [-13, 7], [-13, 7], [11, -11], [12, -10], [11, -11], [1, 1], [1, 7], [14, -2], [13, -1], [14, -2], [9, -23], [2, -7], [-12, 3], [-11, 2], [5, -16], [0, -2], [0, -1], [0, -4], [0, -1], [0, -7], [1, -2], [13, -9], [13, -9], [13, -8], [13, -9], [13, -9], [13, -9], [13, -8], [13, -9], [13, -9], [13, -9], [13, -8], [13, -9], [-1, -7], [-3, -4], [13, -3], [13, -3], [12, -3], [13, -3], [13, -3], [13, -4], [1, -6], [-8, -9], [4, -3], [1, -6], [-11, -3], [8, -3], [2, -5], [-1, 0], [-1, -2], [-12, 3], [-12, 3], [-13, 2], [-12, 3], [-2, -7], [8, -15], [9, -14], [1, -6], [1, -15], [1, -3], [13, -19], [13, -19], [13, -20], [-7, -2], [-8, -2], [-1, -3], [4, -1], [1, -7], [-1, -10], [-1, -4], [-13, -2], [-13, -2], [12, -2], [12, -2], [1, -9], [-12, 6], [-12, 5], [-12, 6], [-12, 5], [-11, 6], [-1, 2], [-5, 28], [-2, 5], [-2, 0], [-2, -4], [2, -10], [1, -7], [0, -10], [-6, 11], [-5, 27], [-14, 12], [-14, 12], [-14, 11], [-13, 12], [-14, 12], [-14, 11], [-14, 12], [-14, 12], [-3, -13], [-1, -2], [-13, 4], [-13, 5], [-3, 9], [-13, 5], [-13, 4], [-14, 5], [-13, 4], [-13, 5], [-13, 4], [-8, -11], [-7, -12], [-3, 10], [2, 5], [-1, 12], [-7, 8], [-7, 7], [-1, 5], [-3, 24], [1, 13], [-1, 2], [-2, 16], [-1, 4], [-14, 8], [-13, 8], [-14, 8], [-14, 8], [-13, 9], [-14, 8], [-14, 8], [-14, 8], [-13, 8], [-14, 8], [-14, 8], [-14, 8], [-13, 8], [-14, 8], [-1, -2], [0, -10], [1, -1], [0, -2], [1, -3], [-1, -16], [-2, -6], [-9, -12], [-9, -12], [0, 2], [-2, 13], [-1, 8], [-1, 3], [1, 1], [0, 2], [-7, 12], [-7, 13], [1, 8], [10, 5], [1, 6], [-9, 2], [-10, 2], [-10, 2], [-6, -11], [-6, 3], [-4, -9], [-8, 16], [-1, 9], [0, 5], [-5, 10], [0, 1], [1, 2], [0, 3], [-1, 1], [-3, 7], [-11, -6], [-12, -6], [-12, -6], [-11, -5], [-1, 1], [0, 98], [0, 98], [0, 97], [0, 98], [0, 98], [0, 98], [0, 98], [0, 97], [0, 98], [0, 98], [0, 98], [0, 98], [0, 97], [0, 98], [0, 98], [0, 98], [0, 98], [0, 97], [0, 98], [0, 98], [0, 98], [0, 98], [0, 97], [0, 98], [0, 98], [0, 98], [0, 98], [0, 97], [0, 98], [0, 98], [0, 98], [0, 98], [12, -17], [13, -18], [12, -17], [13, -17], [12, -17], [13, -17], [12, -17], [1, -4], [-1, -6], [-1, -29], [1, -5], [-2, -18], [0, -5], [1, -4], [14, -7], [13, -7], [14, -7], [14, -7], [14, -7], [14, -7], [13, -6], [14, -7], [14, -7], [14, -7], [14, -7], [13, -7], [14, -7], [14, -7], [14, -7], [14, -6], [13, -7], [14, -7], [14, -7], [14, -7], [14, -7], [13, -7], [14, -7], [14, -7], [5, 9], [0, 2], [3, 11], [10, -6], [10, -6], [0, 4], [5, -9], [10, 5], [11, 5], [0, 4], [0, 1], [13, 36], [13, 36], [13, 36], [14, 35], [13, 36], [13, 36], [13, 36], [13, 35], [14, 36], [0, 2], [0, 5], [0, 5], [1, 2], [0, 1], [1, 0], [1, 3], [0, 2], [0, -1]], [[438, 2874], [0, -6], [-1, 2], [-1, -3], [-1, 0], [1, -7], [4, -15], [6, -38], [10, -21], [3, -17], [13, -29], [12, -29], [13, -30], [13, -29], [13, -30], [13, -29], [11, 4], [12, 5], [11, 4], [11, 4], [1, 2], [0, 1], [0, 5], [0, 2], [1, 2], [1, 2], [1, 10], [-1, 1], [0, 1], [0, 2], [0, 3], [0, 5], [0, 2], [0, 9], [-6, 34], [0, 4], [-1, 4], [1, 8], [-1, 8], [0, 6], [-1, 4], [-3, 15], [1, -1], [0, 3], [0, 5], [0, 4], [-4, 18], [0, 1], [-1, 1], [0, 2], [0, 8], [0, 2], [-1, 2], [0, 1], [0, 3], [0, 4], [0, 2], [0, 2], [-8, 41], [-4, 10], [-4, 16], [-5, 14], [-6, 38], [-12, 46], [-11, 45], [-1, 3], [0, 3], [1, 2], [0, 2], [0, 1], [-1, 8], [-10, 40], [-11, 40], [-4, 4], [-1, 3], [0, 2], [0, 7], [-1, 2], [0, 1], [-12, 12], [-13, 11], [-1, -7], [1, -16], [0, -2], [-1, -8], [-5, -14], [0, -4], [-5, -16], [-1, -8], [0, -2], [-1, -2], [0, -1], [-1, -8], [-2, -5], [0, -4], [2, -7], [0, -4], [-1, -2], [-4, -5], [0, -2], [-1, -2], [0, -4], [0, -2], [0, -2], [-5, -11], [0, -2], [-1, -4], [0, -9], [-1, -4], [0, -4], [0, -2], [0, -3], [0, -4], [1, -6], [0, -7], [-1, -5], [0, -2], [-1, 0], [0, -5], [0, -3], [0, -2], [0, -3], [-1, -3], [0, -2], [0, -3], [1, -17], [0, -8], [0, -2], [-1, -2], [0, -3], [0, -5], [0, -5], [2, -16], [0, -5]], [[671, 2621], [0, -9], [1, -2], [4, 8], [1, 4], [1, 6], [-4, 6], [-2, 0], [-1, -4], [0, -9]], [[676, 2611], [5, -19], [13, -19], [0, -9], [1, -7], [13, -17], [2, -8], [0, -3], [0, -6], [0, -2], [1, -3], [1, 1], [2, -4], [-1, -4], [-1, -3], [7, -3], [5, -1], [1, 9], [-1, 7], [-11, 25], [-12, 25], [-11, 24], [-12, 25], [-1, -1], [-1, -3], [0, -3], [0, -1]], [[469, 2646], [-1, 2], [0, -4], [2, -7], [0, -1], [1, -1], [0, -5], [-1, -2], [-2, 7], [-3, 0], [-1, -5], [-3, -2], [1, -7], [8, -11], [8, -11], [2, 3], [1, 10], [-1, 6], [0, 4], [-11, 24]], [[452, 1807], [12, -8], [13, -8], [13, -8], [12, -8], [13, -8], [12, -9], [13, -8], [2, 1], [1, 3], [1, 9], [-1, 6], [-5, 21], [-2, 1], [1, 3], [1, 6], [0, 3], [-1, 13], [-13, 19], [-13, 18], [-13, 19], [-13, 19], [-12, 18], [-12, -12], [-12, -11], [-2, -12], [-1, -9], [0, -8], [-1, -7], [0, -5], [1, -8], [8, -17], [0, -3], [0, -2], [-3, -2], [0, -1], [1, -5]], [[608, 1510], [1, -3], [2, 2], [2, 7], [3, 22], [0, 7], [-1, 2], [-2, 1], [-9, 31], [-1, 11], [-2, 14], [0, 7], [-1, 3], [-7, 24], [-7, 24], [-2, 2], [-1, -1], [0, -4], [0, -15], [9, -42], [8, -42], [8, -20], [1, -7], [1, -13], [-1, -3], [0, -2], [-1, -5]], [[227, 1139], [14, -34], [13, -34], [14, -34], [14, -35], [0, -3], [1, -9], [0, -4], [0, -1], [14, -11], [13, -10], [1, 6], [0, 6], [-3, 6], [-3, 17], [-13, 27], [-13, 26], [-13, 27], [-13, 26], [-13, 27], [-13, 26], [-2, -8], [2, -11]], [[465, 1034], [12, -16], [12, -16], [11, 11], [1, 4], [1, 8], [1, 20], [1, 7], [1, 3], [7, 7], [-10, 19], [-9, 18], [-2, 11], [-2, 14], [-2, 9], [-12, 7], [-12, 7], [-12, 7], [-1, -7], [2, -7], [1, -4], [-1, -1], [-1, -3], [1, -5], [3, -9], [1, -3], [1, -5], [-2, -8], [0, -6], [0, -8], [0, -6], [0, -4], [3, -10], [6, -7], [1, -10], [0, -2], [-1, -3], [0, -3], [1, -9]], [[9489, 7256], [-1, -5], [1, 1], [0, -4], [1, -6], [0, -3], [0, -5], [1, 0], [-1, -3], [1, -3], [1, -11], [0, -2], [0, -18], [1, 14], [1, 2], [1, -4], [1, -3], [1, -5], [1, -9], [0, -14], [1, -14], [-1, -4], [1, -4], [0, -7], [0, -7], [0, -12], [0, -13], [1, -7], [0, -7], [0, -8], [0, -8], [0, -4], [-1, -4], [0, -5], [1, -12], [0, -5], [0, -5], [0, -6], [0, -3], [1, -6], [0, -3], [0, -7], [0, -8], [-1, -12], [0, -5], [0, -7], [0, -13], [0, -5], [0, -2], [0, -2], [0, -6], [0, -14], [0, -5], [1, -3], [1, -1], [1, 6], [1, -1], [1, -5], [0, -3], [0, -4], [0, -14], [1, -13], [0, -4], [1, -1], [1, 0], [0, -2], [3, -47], [-1, -2], [0, -6], [1, -5], [0, -4], [0, -3], [0, -8], [-1, -7], [-1, -4], [0, 1], [-2, 12], [0, 3], [-2, 0], [-2, 7], [-1, 11], [-1, 14], [0, 3], [0, 4], [0, 5], [1, 5], [-2, 14], [-1, 12], [-2, 8], [-1, -1], [-3, -8], [-2, 0], [-1, 8], [0, 5], [-1, 13], [0, 4], [0, -1], [-1, -7], [0, -1], [-2, 0], [-3, -11], [-1, -1], [-1, 3], [0, 5], [-1, 7], [0, 7], [0, 2], [0, 7], [0, 9], [0, 8], [0, 5], [0, 6], [2, 16], [2, 31], [-3, 10], [-1, 8], [-1, 12], [0, 11], [0, 17], [0, 12], [0, 7], [-1, -3], [0, -7], [-1, -9], [0, -7], [-1, 3], [0, 9], [0, 12], [1, 5], [1, 6], [0, 6], [0, 9], [0, 8], [-1, 19], [-1, 5], [-2, 15], [0, 19], [0, 11], [-1, 7], [1, -2], [0, 1], [1, 2], [1, 15], [1, 6], [1, 3], [-1, 0], [-1, 1], [-1, 4], [0, 5], [1, 4], [0, 2], [-1, 1], [0, 3], [0, 7], [0, 4], [0, 4], [1, 4], [11, 15], [1, -1], [0, -7], [0, -17], [1, -5]], [[9660, 6871], [0, -6], [-8, 4], [-7, -17], [-2, 4], [-1, 16], [1, 2], [1, 7], [6, 8], [1, 6], [8, 3], [1, -7], [0, -6], [0, -5], [0, -4], [0, -2], [0, -1], [0, -1], [0, -1]], [[8921, 8911], [1, -9], [1, -13], [1, -5], [0, -10], [0, -4], [-1, 2], [-6, 34], [1, 3], [0, 1], [1, 4], [2, -3]], [[8997, 8776], [1, -1], [4, 8], [2, -5], [-1, -10], [0, -10], [0, -33], [-1, -7], [0, 2], [0, 9], [-1, 9], [0, 14], [0, 7], [0, 3], [-1, -1], [-8, -25], [1, 9], [2, 13], [1, 10], [0, 10], [0, 5], [0, 2], [0, -2], [1, -7]], [[9554, 7091], [0, -2], [0, -1], [1, 2], [1, 1], [0, -4], [4, -42], [0, -1], [-1, -4], [-1, -6], [0, -7], [-1, -5], [0, -5], [0, -8], [-1, -5], [0, -10], [0, -4], [0, -2], [-1, -4], [0, -4], [0, -6], [0, -2], [-1, 4], [-1, 0], [-1, -1], [0, 1], [-1, 6], [0, 8], [0, 31], [0, 9], [0, 14], [0, 7], [-1, 2], [0, -1], [-1, 2], [0, 4], [0, 6], [-1, 5], [-1, 1], [-1, -1], [1, 4], [1, 1], [1, -3], [0, 8], [-1, 0], [0, -2], [-1, 0], [0, 3], [-1, 9], [0, 2], [0, -2], [-1, -6], [0, -2], [-1, 5], [0, 9], [1, 11], [0, 8], [1, 6], [0, 1], [2, -1], [1, -3], [1, -8], [1, 0], [1, -3], [0, -2], [0, -8], [1, -3], [0, -1], [1, -1]], [[9043, 8613], [0, -5], [-8, -53], [0, -1], [-2, -6], [-5, -52], [-3, -40], [-1, -9], [-1, -6], [-1, -2], [-5, 3], [-1, -2], [-1, -5], [-3, -16], [-1, -14], [-2, -37], [-2, -22], [-1, -4], [-1, 2], [0, 5], [-1, 0], [-1, -6], [0, 8], [0, 8], [0, 16], [-3, -24], [-2, -5], [-2, 6], [0, 13], [1, 7], [0, 6], [0, 9], [0, 6], [1, 8], [-3, -7], [0, 17], [1, 15], [1, 12], [2, 19], [1, 9], [2, 9], [0, 7], [1, 9], [1, 18], [0, 6], [0, 7], [0, 9], [0, 11], [0, 7], [0, 7], [0, 9], [0, 7], [-1, 5], [0, 5], [0, 2], [-1, 1], [-1, 3], [0, 10], [1, 3], [0, 1], [1, 5], [0, 6], [0, 5], [0, 4], [0, 7], [1, 7], [1, -9], [0, -13], [1, -11], [1, -3], [0, 2], [1, 5], [2, 20], [0, 3], [1, 7], [0, 5], [1, 5], [0, 21], [1, 5], [0, 10], [0, 7], [0, 5], [-1, 5], [-1, 3], [-1, -2], [-1, 2], [0, 6], [-1, 11], [1, 5], [1, -5], [2, -7], [1, -5], [2, 1], [1, 5], [0, 6], [1, -5], [0, -11], [1, -5], [0, -4], [1, -2], [2, 5], [1, 6], [1, 11], [-1, 15], [1, -7], [1, -4], [1, -1], [0, 1], [1, 7], [1, 0], [0, -5], [1, -2], [0, 1], [-1, 13], [1, 4], [1, 1], [0, 4], [1, 14], [1, 4], [2, 7], [11, 89], [10, 89], [1, 5], [4, 5], [2, 4], [1, -2], [1, -8], [0, -8], [0, -4], [-1, -15], [0, -4], [-2, -17], [0, -7], [1, 6], [4, 24], [1, 0], [0, -4], [1, -8], [0, -3], [0, -1], [5, 5], [-1, -4], [0, -3], [1, -2], [1, -2], [-1, -16], [-1, -7], [-1, -5], [-1, -8], [1, -1], [0, -2], [0, -3], [0, -3], [-1, -11], [-2, -9], [0, -2], [0, -2], [0, -2], [0, -1], [0, -1], [-1, 0], [0, -1], [-1, -16], [0, -1], [0, -7], [-1, -7], [-1, -8], [1, -11], [-1, -4], [-1, -12], [-2, -17], [-1, -3], [1, -1], [0, -2], [1, -3], [-2, -24], [-5, -28], [-1, -1], [0, -6], [0, -3], [-3, -18], [-3, -27], [-4, -16]], [[9420, 7663], [0, -5], [0, -1], [0, -10], [1, -5], [1, -4], [1, -9], [-1, 1], [-1, -3], [-1, -13], [-1, -19], [0, -7], [0, 1], [-1, 5], [-1, 3], [0, 3], [-1, 16], [-1, 11], [0, 18], [-1, 8], [-1, 6], [1, 0], [1, 2], [0, 6], [0, 1], [0, 6], [1, 7], [4, -6], [0, -2], [-1, -7], [1, -1], [0, -2]], [[9160, 8121], [1, -3], [0, -6], [2, -16], [-2, -10], [-1, -1], [-9, 33], [-1, 14], [0, 2], [0, 4], [0, 3], [0, 2], [0, 12], [0, 7], [1, 4], [7, -17], [-1, -7], [1, -9], [0, -7], [1, -4], [1, -1]], [[9455, 7432], [0, -5], [0, 4], [0, 2], [1, 1], [0, -5], [0, -6], [-1, -5], [0, -5], [2, 2], [1, -1], [0, -2], [1, -7], [0, -8], [1, -11], [0, -10], [-1, -5], [-2, -5], [-1, -2], [-1, 3], [2, -17], [1, -12], [-8, 22], [-3, 9], [-2, -11], [-1, -2], [-2, 3], [-2, -1], [0, 1], [0, 2], [0, 8], [-1, 7], [0, 10], [-1, 5], [0, 1], [-1, 2], [0, 4], [0, 11], [0, 6], [1, 0], [2, -4], [3, 5], [3, -8], [1, 1], [1, 5], [2, 1], [1, 2], [1, 4], [1, 6], [0, 10], [0, 10], [2, -15]], [[9069, 8387], [1, -5], [1, 0], [0, -1], [0, -5], [0, -2], [1, -2], [2, -9], [0, -1], [1, -21], [-1, -1], [-1, 2], [1, 6], [0, 2], [-1, -1], [-1, -2], [0, -3], [-1, -5], [-1, -10], [0, -4], [0, 1], [-1, 7], [0, 6], [0, 6], [1, 5], [-1, 1], [-2, -6], [-1, -2], [-1, 18], [2, 8], [1, 12], [0, 9], [1, -3]], [[9066, 8460], [1, -10], [-1, -11], [-1, -19], [-1, -18], [-1, -10], [-1, 8], [0, 6], [-1, 12], [-1, 7], [0, 7], [-2, 2], [0, 7], [2, 21], [1, 9], [0, 1], [0, 2], [1, 3], [1, -1], [2, -12], [1, -2], [0, -2]], [[9084, 8317], [2, -17], [0, -2], [0, -3], [0, -4], [0, -5], [1, -4], [1, -5], [2, -18], [1, -6], [2, 0], [4, 15], [2, 0], [0, -2], [0, -3], [0, -6], [0, -9], [1, 2], [0, -1], [1, -1], [0, -3], [1, -7], [0, -5], [1, -4], [0, -3], [5, -6], [1, -3], [1, -7], [1, -10], [0, -13], [-1, -6], [-2, -4], [-1, 1], [-1, 7], [0, -5], [0, -3], [-1, -9], [0, -2], [-2, 0], [0, -10], [1, -1], [2, 5], [8, -1], [3, -6], [10, 4], [4, -12], [-1, -5], [-1, -5], [0, -10], [0, -1], [-1, -2], [0, -4], [0, -6], [-1, -4], [0, -4], [0, -5], [0, -5], [-2, 8], [-3, -11], [-4, 4], [1, 10], [-1, 9], [0, 5], [-1, 1], [-1, -2], [-2, -13], [-1, -1], [-1, 4], [-1, -2], [0, -3], [0, -4], [-1, -3], [0, 1], [0, 4], [0, 4], [0, 5], [0, 6], [-2, 3], [-1, 5], [-1, 17], [-1, 2], [-1, -3], [-1, 1], [-2, 7], [-1, 0], [-3, -9], [-2, -7], [-1, 5], [0, 2], [-1, -1], [-3, -15], [-1, -2], [-1, 1], [0, 7], [-1, 0], [-2, -12], [-1, -1], [-1, 3], [0, 11], [1, 6], [1, 10], [0, 9], [0, 15], [0, 8], [-4, -11], [0, 1], [0, 2], [0, 4], [0, 3], [-2, 1], [-2, -12], [-1, -2], [-1, 3], [0, 7], [0, 7], [0, 8], [2, 14], [2, 16], [3, 18], [1, 11], [1, 7], [0, 8], [1, 8], [0, 12], [-1, 11], [0, 7], [-1, 3], [-1, -9], [-5, -42], [-3, -15], [-2, -6], [-1, 2], [0, 13], [-1, 4], [2, 27], [5, 42], [2, 30], [0, 1], [2, -5], [2, -3], [0, -14], [1, -12]], [[9374, 7735], [0, -3], [1, 0], [1, 2], [0, -1], [-1, -8], [-1, -6], [0, -8], [0, -9], [0, -22], [0, -12], [1, -6], [0, -3], [2, -1], [1, -6], [-2, -7], [-1, -7], [0, -9], [-1, 4], [-1, 5], [0, 2], [-1, -14], [-1, 3], [0, 9], [0, 12], [0, 16], [-1, 15], [-3, 32], [-1, 17], [-1, 25], [-1, 4], [-1, 3], [2, 6], [2, 10], [0, 1], [0, 10], [0, 9], [1, 6], [1, -1], [1, -13], [1, -4], [0, -1], [0, -4], [0, -3], [0, -4], [0, -2], [0, -2], [1, -1], [-1, -3], [1, -6], [3, -11], [-2, -6], [1, -8]], [[9042, 8562], [1, -1], [1, 3], [7, -17], [2, -10], [1, -3], [2, -14], [-4, -1], [-3, 7], [-2, -9], [0, -25], [-1, -27], [-1, -18], [-1, 0], [-1, 4], [-1, 8], [0, 11], [0, 5], [0, 7], [0, 7], [0, 5], [-1, 5], [-1, 3], [0, 13], [0, 10], [0, 20], [-1, 10], [0, 1], [2, 3], [0, 1], [0, 5], [0, 2], [1, -1], [0, -4]], [[9301, 8016], [1, -10], [1, -14], [1, -15], [0, -5], [2, -5], [2, -15], [1, -8], [0, -9], [0, -8], [1, -4], [0, -4], [0, -7], [0, -7], [-1, -7], [-1, 2], [0, -3], [-2, -10], [0, -3], [-1, 2], [-1, 6], [0, 9], [0, 11], [0, 13], [-1, 7], [-3, 37], [-1, 8], [-2, 0], [-1, -10], [-2, -28], [-1, -8], [-2, 1], [2, 24], [0, 13], [0, 10], [-2, 14], [-1, 12], [-1, 13], [6, -2], [1, -7], [0, -1], [1, 2], [1, 10], [2, 0], [1, -4]], [[9359, 7760], [1, -1], [-3, -14], [-1, -2], [-1, 1], [0, 1], [0, 7], [-1, 2], [-2, -1], [-1, 2], [-3, -13], [-2, -5], [-4, 2], [-1, 5], [-1, 8], [0, 11], [-1, 9], [-2, 9], [-1, 6], [-1, 2], [0, -1], [-2, -7], [-1, 2], [0, 5], [0, 6], [0, 6], [0, 11], [-1, 7], [0, 5], [0, 1], [1, 10], [1, 5], [1, 1], [2, -3], [0, 5], [1, 7], [0, 6], [1, 4], [0, 1], [4, -1], [2, -6], [1, 0], [1, -2], [0, -6], [1, -2], [1, -1], [0, -5], [1, -10], [-1, -6], [0, -11], [1, -12], [1, -8], [0, -11], [1, -6], [3, -7], [1, 0], [0, 2], [0, 4], [1, 5], [0, 5], [0, 5], [1, 0], [1, -1], [1, 1], [-1, -3], [1, -4], [0, -6], [0, -14]], [[9259, 8144], [0, -10], [1, 0], [1, -5], [1, -3], [1, -1], [1, 2], [0, 6], [1, 10], [1, 4], [0, 3], [2, -11], [0, -2], [0, -20], [1, -14], [3, -13], [1, -8], [-1, -13], [-1, -5], [-1, -1], [-1, -7], [2, -33], [0, -12], [1, -45], [1, -13], [-3, 0], [-2, -3], [-2, -13], [-2, -1], [-1, 2], [-3, 11], [-1, -4], [0, -4], [0, -1], [0, -2], [-1, -30], [0, -3], [0, -1], [-1, 1], [0, -1], [-1, -3], [0, -3], [0, -2], [-1, 0], [-1, 2], [-2, -3], [-2, 2], [-1, 7], [-2, 14], [-1, 15], [-1, 5], [-3, 15], [0, 2], [-3, -7], [0, 2], [-1, 7], [-1, 14], [-1, 4], [0, -1], [-1, -4], [-1, 0], [0, 2], [0, 7], [-1, 2], [-1, 2], [-5, -18], [-1, -1], [-2, 13], [-2, 4], [-1, 4], [0, 5], [0, 1], [-1, -1], [0, 1], [-1, 6], [0, 1], [-8, -15], [-1, 3], [-1, 0], [0, -8], [0, -9], [1, -23], [-1, -1], [0, -3], [0, -12], [1, -17], [-1, -36], [-2, 7], [-1, 2], [-1, 2], [0, 4], [-3, 21], [-1, 7], [-1, -2], [-2, -18], [0, -4], [0, 6], [-2, 19], [-2, 24], [0, 7], [0, 9], [-1, 8], [0, 5], [1, 13], [2, 55], [1, -2], [1, -11], [3, -13], [13, 0], [2, 7], [2, 14], [0, 1], [0, 5], [0, 2], [0, 2], [0, 2], [0, 4], [1, 17], [1, 7], [1, 5], [0, 4], [-1, 4], [0, 1], [1, 5], [0, 2], [0, 2], [0, 6], [0, 1], [0, 3], [0, 1], [0, 4], [0, 2], [0, 5], [0, 2], [0, 2], [-1, 9], [1, 4], [12, 10], [13, 11], [5, 18], [2, 1], [1, -2], [0, -3], [1, -4], [0, -3], [0, -2], [0, -3], [1, -1], [1, -1], [-1, -4], [1, -1], [1, -4], [1, -7]], [[9704, 5853], [0, -2], [1, 0], [0, 1], [0, -6], [0, -2], [-1, 0], [-1, 1], [0, -10], [-1, -4], [-1, 1], [-1, 1], [0, 8], [-2, 14], [3, 11], [2, 2], [0, -2], [0, -5], [1, -4], [0, -4]], [[9515, 4197], [3, -7], [1, 3], [1, 3], [0, -3], [0, -1], [2, 0], [1, -3], [1, -9], [-1, -7], [-1, -3], [-5, -5], [1, -22], [1, -2], [-6, -3], [-1, 3], [-1, 5], [1, 18], [0, 2], [0, 4], [1, 9], [0, 2], [1, 1], [1, 3], [-1, 1], [0, 4], [0, 1], [1, 6]], [[9590, 5149], [-4, -2], [-2, 5], [1, 2], [0, 4], [1, 7], [1, 2], [2, -10], [1, -8]], [[9542, 5236], [0, -23], [0, -12], [1, 4], [1, -3], [1, -10], [0, -7], [0, -13], [0, -14], [0, -12], [0, -7], [0, -6], [0, -5], [1, -4], [1, 2], [2, -6], [1, 3], [4, 16], [-1, 13], [5, 4], [5, 23], [1, 0], [1, -3], [3, -25], [0, -4], [1, -8], [0, -13], [1, -7], [0, -9], [0, -9], [1, -18], [-1, 0], [-6, 29], [0, 2], [-3, 4], [0, 1], [0, 4], [0, 2], [0, 6], [0, 5], [1, 6], [0, 3], [1, 6], [0, 3], [-1, 1], [-7, -25], [-6, -42], [0, -5], [-2, -8], [-1, -4], [0, -1], [1, -11], [0, -4], [0, -8], [0, -4], [0, -3], [1, -2], [0, -2], [0, -2], [0, -2], [0, -1], [0, -1], [0, -1], [1, -8], [1, -2], [1, 0], [0, 3], [0, 1], [0, 3], [1, -1], [1, -3], [0, -2], [0, -1], [0, -6], [0, -3], [0, -3], [0, -2], [0, -2], [0, -5], [0, -2], [0, -2], [0, -1], [-3, 7], [-2, -2], [-1, -3], [1, -5], [-1, -6], [0, -16], [-1, -34], [0, -10], [-1, -5], [0, -3], [-1, -9], [-1, -5], [1, -9], [-1, -8], [-1, -5], [-1, -1], [-2, 3], [-1, 5], [0, 8], [-2, -2], [1, -7], [0, -5], [0, -5], [-2, -23], [-2, -9], [-1, -3], [-1, 1], [-1, 4], [-1, 9], [0, 16], [0, 4], [1, 9], [1, 6], [0, 7], [1, 11], [0, 7], [-3, 20], [1, -14], [0, -5], [-1, -2], [-2, -10], [-2, -3], [-2, -7], [-3, -6], [1, -4], [1, -3], [0, -9], [2, -7], [0, -5], [0, -5], [0, -4], [-3, 1], [-2, 13], [-1, -1], [0, -2], [-1, -1], [0, -2], [0, -1], [-1, 6], [0, 3], [-1, 5], [0, 7], [-1, 11], [2, 3], [1, 6], [1, 15], [-1, 2], [0, 2], [-1, 5], [3, 2], [1, 6], [1, 12], [-1, 10], [-2, 5], [-4, 3], [-1, 5], [-1, 10], [0, 19], [-2, 13], [-1, 7], [1, 2], [2, -13], [1, -3], [1, 3], [1, 7], [1, 11], [0, 17], [0, 2], [0, 4], [0, 6], [-1, 8], [4, 9], [1, 9], [1, 3], [0, 9], [0, 4], [0, 2], [1, 3], [0, 2], [0, 7], [0, 7], [0, 16], [0, -1], [1, -2], [1, 0], [0, 3], [1, 1], [0, -2], [1, -5], [1, -29], [0, -12], [1, -3], [1, 3], [0, 7], [0, 7], [0, 6], [2, 25], [1, 6], [1, 4], [1, 22], [-1, 19], [0, 10], [-1, 12], [0, 4], [-2, 1], [-1, 4], [0, 5], [1, 4], [0, 3], [0, 2], [2, 0], [1, -3], [1, 1], [1, 6], [3, 18], [2, 10], [1, 3], [1, -2], [0, -10], [0, -11]], [[9544, 5007], [0, -2], [-1, -5], [1, -12], [0, -8], [1, -1], [1, 11], [0, 9], [0, 8], [-1, 5], [-1, 2], [0, -4], [0, -3]], [[9528, 4483], [-8, 2], [-3, -4], [0, -5], [-1, 6], [0, 1], [-1, 0], [0, 1], [-1, 4], [0, 5], [1, 5], [0, 1], [5, -3], [1, 4], [0, 3], [1, 2], [0, -1], [0, -3], [1, -5], [4, -2], [1, -11]], [[9512, 4387], [2, -3], [12, 7], [2, -5], [0, -10], [-1, -8], [-1, -11], [-1, -4], [-2, 0], [-1, -4], [-4, 4], [-3, -4], [0, 2], [0, 1], [-3, -3], [-1, -7], [-2, -20], [-1, 0], [-2, 9], [-2, 3], [0, 16], [-1, 6], [0, 2], [-1, 0], [0, 15], [2, 7], [2, 4], [3, -2], [2, 2], [0, 8], [1, -5]], [[9568, 3588], [1, -16], [0, -2], [0, -5], [-1, -5], [-8, -2], [-9, -1], [-2, -9], [-2, -1], [-1, 15], [4, 16], [4, 6], [4, -4], [2, 2], [1, 12], [-8, 34], [-1, 2], [0, 3], [0, 2], [8, 19], [4, -8], [1, -5], [2, -21], [0, -2], [1, -5], [0, -6], [0, -4], [0, -3], [0, -5], [0, -7]], [[9723, 3756], [12, -7], [13, -7], [13, -7], [13, -7], [13, -7], [13, -7], [12, -7], [13, -7], [13, -7], [13, -7], [13, -7], [12, -7], [13, -7], [1, -4], [1, -10], [3, -18], [13, -10], [14, -11], [13, -10], [13, -11], [13, -10], [13, -10], [13, -11], [13, -10], [0, -241], [0, -241], [0, -241], [0, -240], [0, -241], [0, -241], [0, -241], [0, -240], [0, -241], [0, -241], [0, -241], [0, -240], [0, -241], [-8, 10], [-3, 10], [3, 4], [2, 9], [-1, 7], [-11, 35], [-13, 7], [-3, 6], [-6, -6], [-2, 2], [-2, 11], [3, 17], [-3, 2], [-5, -13], [-1, 0], [-1, 10], [-1, 3], [-7, 6], [-7, 6], [-2, 6], [2, 3], [-2, 7], [-13, 12], [-13, 12], [-13, 11], [-13, 12], [-11, -11], [0, 2], [-3, 11], [6, 14], [1, 12], [-8, 17], [-5, 18], [-9, -8], [-9, -8], [-10, -8], [0, 1], [-1, 5], [0, 2], [-1, 1], [-1, -6], [-12, -2], [-3, 11], [10, 31], [2, 14], [-3, 7], [-6, -6], [-3, 4], [0, 2], [0, 6], [0, 2], [-2, 9], [-11, 22], [-13, -5], [-7, -19], [-3, 0], [-3, 14], [2, 5], [1, 4], [1, 5], [-5, 7], [1, 3], [1, 3], [1, 6], [-5, 5], [-2, 9], [0, 2], [-11, 15], [-9, -6], [-1, 3], [2, 8], [-2, 0], [0, 2], [-1, 3], [7, 2], [7, 1], [2, 5], [2, 9], [-1, 3], [-2, 2], [-2, 9], [-4, 4], [-2, 8], [-10, 11], [-2, -1], [0, -3], [0, -4], [0, -4], [0, -2], [-8, -5], [-1, -2], [0, -8], [0, -3], [-1, -1], [-5, 4], [-2, 10], [-1, 7], [0, 2], [0, 5], [0, 2], [-1, 1], [0, 3], [0, 4], [1, 4], [-13, 17], [0, -2], [-1, -9], [0, -3], [1, -8], [-1, 0], [0, -1], [0, -4], [-1, -6], [0, -4], [0, -2], [-3, 1], [-1, 7], [-1, 6], [0, 6], [1, 12], [0, 6], [0, 3], [0, 5], [0, 4], [-1, 3], [0, 2], [-10, -15], [-10, -14], [-1, 1], [0, 2], [-2, 11], [-1, 5], [-1, 2], [-3, -6], [-1, 0], [-1, 6], [-4, -7], [-3, 4], [-2, 4], [-1, 11], [3, 10], [-14, 20], [-13, 19], [-1, 5], [-1, 8], [7, 4], [7, -15], [7, -16], [1, 2], [2, 8], [1, 1], [7, -8], [7, -8], [3, 8], [1, 8], [-10, 5], [-3, 19], [9, -2], [10, -2], [1, 4], [1, 6], [1, 11], [0, 1], [-2, 18], [-1, 7], [-3, 11], [-2, 8], [0, 12], [0, 3], [1, 4], [0, 4], [0, 1], [-1, 3], [-13, 18], [-2, -5], [-4, -25], [-5, -15], [-2, -3], [-1, 1], [-2, 9], [-3, 7], [0, 3], [0, 4], [1, 6], [0, 9], [-10, 5], [-1, 7], [8, 1], [0, 4], [1, 10], [-6, 12], [0, 1], [4, 19], [1, 7], [-1, 7], [-1, 6], [-11, 29], [-9, -13], [-1, 1], [0, 2], [-1, 3], [-1, 7], [0, 3], [-1, 0], [1, 4], [2, 19], [-9, 29], [-1, 0], [-2, -5], [-10, 11], [-10, 12], [-2, 13], [1, 0], [1, 2], [2, 8], [0, 16], [1, 4], [1, 4], [1, 7], [-3, 8], [-1, 5], [-2, 16], [-3, 20], [-10, 6], [-4, 12], [-2, 8], [-13, -14], [-12, -14], [-13, -14], [-4, -12], [5, -16], [2, -14], [1, -16], [-8, 15], [-1, -3], [0, -10], [-1, -2], [-4, 7], [-5, 21], [-6, 5], [-1, -1], [-2, -7], [-11, -1], [-11, -1], [-11, -1], [-11, 0], [-1, 4], [-2, 8], [-1, 12], [-2, 13], [13, 14], [13, 13], [12, 13], [13, 13], [13, 14], [12, 13], [13, 13], [1, 7], [1, 13], [-8, 20], [3, 3], [1, 6], [-6, 3], [-2, 10], [3, 2], [0, 4], [-10, 25], [0, 4], [1, 3], [-5, 12], [-5, 24], [2, -2], [1, 1], [1, 5], [-3, 3], [-1, 7], [-1, 3], [-6, -4], [-1, 5], [2, 10], [1, 2], [7, -3], [2, 3], [2, 7], [-2, 10], [-1, 7], [-2, 4], [-1, 11], [-2, 1], [-1, -4], [-1, -9], [0, -2], [0, -4], [0, -2], [-3, 6], [-9, -7], [-1, 2], [0, 4], [-1, 6], [3, 1], [3, 8], [-2, 4], [6, 21], [-1, 3], [-2, 1], [-1, 7], [-1, 2], [3, 4], [-2, 4], [0, 3], [0, 5], [0, 3], [-7, 10], [-6, 10], [-2, 7], [1, 2], [1, 5], [-12, 7], [-2, 10], [2, 3], [1, 3], [-8, 5], [-8, 6], [12, 28], [1, 6], [1, 12], [-2, 14], [-12, -12], [-3, -9], [-1, -2], [-1, 6], [1, 10], [-1, 5], [3, 3], [1, 2], [2, 16], [-5, 13], [-11, -9], [-2, -8], [-2, 0], [-1, 6], [2, 9], [0, 12], [1, 5], [5, 1], [1, 4], [0, -1], [-7, 12], [-1, 3], [-2, 13], [0, 5], [-2, 7], [-1, 6], [-1, 9], [11, -16], [11, -16], [6, 13], [-1, 12], [-6, -3], [-8, 15], [5, -3], [1, 5], [0, 8], [-1, 8], [-6, 18], [6, -3], [1, 13], [-4, 15], [-2, 10], [0, 1], [1, 2], [0, 1], [-1, 6], [-1, 9], [10, 7], [0, 10], [-1, 10], [-1, 2], [-4, -5], [-1, 2], [-1, 9], [1, 1], [1, -5], [0, -1], [5, 15], [-8, 12], [0, 2], [0, 6], [0, 2], [-12, 10], [-11, 9], [-7, -12], [0, 5], [0, 5], [2, 13], [0, 4], [-1, 3], [0, 2], [-1, 4], [2, 6], [4, -12], [9, -2], [3, 7], [10, -3], [10, -4], [10, -3], [3, 9], [-9, 12], [2, 8], [1, 5], [0, 5], [0, 12], [1, 5], [0, 1], [1, 1], [0, 4], [0, 13], [-1, 5], [-1, -1], [0, -3], [-1, -1], [-4, 13], [-3, 5], [-8, -17], [-8, -16], [-11, 14], [-1, 4], [0, 17], [-2, 17], [1, 1], [4, 9], [0, -1], [3, -16], [1, -3], [7, 11], [8, 11], [1, 8], [-1, 3], [-1, 7], [-1, 17], [2, 2], [8, -26], [2, 0], [1, 12], [-1, 19], [-1, 5], [-1, 2], [-1, -2], [0, 3], [0, 2], [-1, 10], [0, 4], [-1, 7], [-1, 6], [-1, 1], [-12, -9], [-12, -10], [-12, -9], [-12, -9], [-12, -10], [0, 2], [-1, 6], [0, 2], [-8, 2], [-2, 4], [0, 12], [1, 7], [7, 19], [7, 20], [2, 12], [0, 20], [12, 25], [12, 25], [12, 25], [12, 25], [12, 25], [12, 25], [1, 5], [1, 13], [0, 4], [-4, 12], [-13, -39], [-1, 2], [-5, 20], [-5, 8], [-2, 17], [-1, 0], [-10, -30], [-4, -1], [-5, 8], [-4, 16], [2, 6], [1, 5], [1, 9], [-1, 4], [-2, 0], [-1, 3], [4, 6], [4, 13], [8, 4], [9, 29], [10, 30], [2, 15], [-14, -10], [-13, -11], [0, 2], [-2, 11], [-1, 5], [-1, 4], [0, 7], [0, 6], [0, 7], [0, 7], [-1, 5], [-1, 3], [0, 3], [-1, 6], [13, -26], [1, 0], [1, 4], [2, 11], [0, 4], [5, 8], [1, 5], [0, 8], [1, 10], [1, 5], [3, 8], [2, -1], [1, -8], [8, -7], [0, 4], [0, 15], [-2, 7], [-7, 4], [-1, 7], [-1, 6], [0, 7], [1, 5], [1, 5], [1, 8], [-2, 10], [-2, 5], [-3, -1], [-1, 5], [0, 12], [1, 3], [1, 7], [0, 8], [-1, 7], [0, 3], [0, 7], [0, 3], [-3, 15], [9, 34], [1, 11], [-1, 18], [10, -13], [1, 2], [1, 5], [0, 22], [1, 7], [0, 5], [1, 8], [-6, 14], [6, -5], [1, 2], [0, 3], [0, 4], [1, 3], [0, 2], [2, 0], [1, -3], [1, -18], [1, -7], [1, -9], [0, -14], [8, -24], [8, 1], [-4, 34], [-1, 17], [-2, 6], [0, 5], [0, 5], [0, 6], [-1, 3], [-4, 19], [2, 2], [1, 4], [0, 10], [-1, 11], [-1, 4], [-1, 2], [-3, -1], [0, 5], [0, 4], [0, 5], [1, 13], [-2, 7], [0, 6], [-1, 15], [0, 6], [-1, 6], [0, 12], [-1, 14], [0, 11], [-1, 4], [0, 2], [3, 15], [1, 3], [0, 9], [0, 3], [2, 5], [1, -1], [3, -7], [1, 4], [1, 10], [1, 6], [1, -10], [1, -11], [-1, -6], [-1, -9], [-1, -22], [-1, -5], [3, -22], [1, -7], [2, -1], [0, -2], [3, -20], [1, -15], [1, -5], [5, -17], [3, 7], [1, 1], [2, -9], [-2, -16], [0, -4], [0, -6], [0, -7], [0, -6], [0, -7], [2, -1], [1, -8], [0, -11], [1, -6], [2, 0], [2, 3], [1, 7], [3, 18], [0, 3], [0, 3], [0, 9], [0, 5], [0, 6], [0, 5], [0, 5], [0, 1], [1, 2], [1, 3], [0, 5], [1, 14], [1, 9], [1, 3], [0, -1], [1, -3], [1, 0], [2, 6], [1, 0], [3, -6], [1, 1], [0, 2], [1, 2], [0, 1], [0, -5], [1, -18], [0, -1], [2, 6], [0, 3], [0, 7], [0, 3], [0, -1], [1, 0], [0, 2], [0, 2], [0, 2], [0, 4], [0, 2], [2, 2], [5, -10], [2, 0], [0, 2], [1, 9], [0, 3], [1, 1], [2, -3], [1, 3], [-3, 10], [3, -1], [9, 40], [12, 0], [13, 0], [5, 9], [0, 1], [-1, 2], [0, 3], [0, 5], [9, -1], [9, -1], [3, -10], [5, -34], [1, -13], [3, -13], [8, 1], [7, 2], [2, 5], [2, 7], [0, 6], [1, 10], [-1, 12], [0, 11], [-3, 35], [-1, 9], [-2, 4], [-12, -3], [-6, 17], [-6, 1], [-10, 24], [-1, 10], [-2, 17], [2, 5], [0, 4], [1, 6], [-1, 1], [0, 2], [0, 1], [0, 7], [0, 10], [-1, 9], [-1, 5], [0, 3], [-3, 0], [-2, 5], [-1, 8], [-3, 8], [0, 6], [7, 30], [0, 7], [1, 10], [0, 13], [-1, 7], [0, 7], [-1, 6], [-1, 3], [-1, 4], [-1, 0], [-1, -3], [-3, -30], [-2, -15], [-2, -23], [1, -8], [1, -5], [-1, -1], [0, -2], [-1, -5], [-1, -5], [0, -13], [-1, -4], [-9, -18], [-3, -14], [-1, -2], [-2, 2], [-1, 2], [-1, 14], [-1, 2], [-2, 2], [-5, 26], [-2, 5], [-5, -7], [-3, 1], [1, 3], [4, 24], [5, 14], [3, 17], [2, 5], [1, 6], [0, 8], [1, -5], [0, -1], [4, 11], [5, 3], [1, 3], [2, 14], [8, 18], [1, 4], [0, 4], [1, 14], [1, 5], [0, 7], [0, 5], [0, 4], [1, 3], [7, 15], [8, 14], [12, -21], [12, -22], [1, 2], [2, 4], [0, 8], [0, 7], [0, 4], [0, 3], [-2, 4], [1, 1], [3, 25], [5, 23], [5, 14], [1, 5], [2, 19], [1, 11], [10, 0], [9, -1], [9, -24], [13, 27], [1, 5], [4, 29], [7, 16], [2, 7], [-1, 11], [0, 9], [-1, 7], [4, 6], [13, -18], [2, 1], [0, 1], [1, 3], [0, 4], [0, 6], [0, 4], [1, 2]], [[9649, 3484], [-1, -23], [-8, -47], [-8, -27], [0, 5], [-4, 19], [-9, 24], [-4, -1], [-1, 11], [-1, 4], [-2, -3], [-1, -10], [1, -42], [2, -34], [1, -10], [2, -6], [3, -5], [11, 16], [5, 24], [1, 3], [10, -15], [3, 2], [3, 10], [2, 20], [2, 27], [0, 1], [0, 1], [-1, 21], [0, 13], [0, 12], [-1, 14], [-2, 5], [-1, -2], [-2, -7]], [[9670, 6802], [1, -9], [0, -5], [0, -4], [2, -4], [-2, -6], [-1, -1], [-1, 3], [-10, -15], [0, 2], [-1, 7], [1, 7], [0, 5], [2, 6], [0, 5], [1, 8], [0, 6], [1, -1], [0, -4], [1, -2], [1, 4], [0, 1], [1, -4], [1, 0], [1, 3], [0, 6], [0, 5], [0, -2], [0, -1], [2, -6], [0, -4]], [[9685, 6214], [12, -61], [5, -2], [2, 11], [1, -3], [4, -20], [0, -1], [0, 1], [1, 6], [0, 1], [1, -2], [0, -4], [1, -13], [1, -2], [0, -2], [1, -2], [3, 1], [1, -2], [1, -7], [1, -2], [3, -13], [1, -6], [1, -3], [1, 1], [-2, -8], [0, 1], [1, -7], [1, -5], [0, -6], [0, -10], [-1, -7], [-1, -4], [0, -2], [-5, 14], [-1, -3], [0, -8], [-6, 21], [-1, 1], [-2, -4], [-1, -6], [-1, -1], [0, 2], [-2, 9], [0, 4], [0, 4], [0, 3], [-1, 7], [0, 4], [-1, 11], [-1, 9], [-11, -3], [-1, 3], [-8, 49], [-8, 49], [3, 3], [5, -9], [2, 2], [1, 9], [0, 2]], [[9579, 5422], [5, -9], [0, -3], [0, -12], [0, -3], [1, -1], [0, -7], [1, -5], [0, -3], [0, -5], [0, -4], [1, -2], [-1, -6], [1, -2], [-1, -15], [-1, -5], [-1, 4], [-2, 8], [2, 5], [-2, 2], [-1, 5], [-1, 19], [-1, 1], [0, -1], [0, -1], [-1, -1], [0, 9], [-1, 12], [-1, 9], [0, 2], [-1, -2], [-1, -9], [0, -3], [-1, 1], [0, 5], [0, 8], [0, 9], [-2, -10], [0, 10], [0, 6], [0, 3], [-2, 10], [-2, 4], [-1, 4], [2, 7], [1, 2], [2, -1], [6, -19], [2, -16]], [[8889, 8963], [1, -2], [2, -11], [-1, -8], [0, -3], [0, -5], [-1, -2], [0, -5], [-1, -9], [0, -6], [-2, 11], [-1, -3], [-2, -9], [-1, -10], [0, 13], [1, 10], [0, 8], [1, 6], [-1, 14], [0, 1], [2, -3], [0, -1], [0, 1], [2, 10], [1, 3]], [[9737, 6411], [0, -2], [-1, 1], [0, -11], [-1, 0], [0, -1], [0, -2], [0, -4], [0, -3], [1, -1], [-1, -5], [-1, 1], [-2, -4], [-4, 5], [-1, 0], [0, 3], [1, 11], [0, 12], [0, 6], [-3, 4], [3, 28], [2, 25], [1, 10], [0, -8], [1, -7], [0, -6], [1, -7], [0, -3], [0, -4], [1, -5], [1, -6], [2, -20], [0, -5], [0, -2]], [[9725, 6247], [1, -12], [0, -3], [1, -2], [-2, -13], [-1, -5], [-1, -14], [0, -4], [-3, -12], [-2, -2], [-1, 8], [1, 8], [3, 43], [0, 7], [1, -1], [1, 0], [2, 5], [0, -3]], [[9621, 5631], [1, -9], [0, -3], [1, -1], [0, 2], [0, 2], [0, 2], [3, -5], [1, 0], [0, 5], [1, 9], [0, 11], [0, 10], [2, 13], [1, 3], [1, -6], [1, -12], [-1, -8], [1, -1], [0, -3], [0, -5], [0, -2], [0, -5], [0, -3], [0, -5], [1, -1], [0, 3], [0, -3], [0, -3], [0, -2], [0, -2], [1, -3], [4, -8], [0, -3], [0, -8], [0, -5], [-1, -3], [-2, -1], [-1, 2], [0, 5], [-1, -5], [0, 1], [0, 3], [-1, 3], [-2, 1], [-1, 1], [0, 2], [0, 4], [0, 3], [0, 1], [-1, 1], [0, 3], [0, 4], [0, 4], [-1, 1], [-1, -1], [0, -3], [-1, -5], [-1, -7], [-1, -9], [0, -1], [1, -1], [2, 1], [0, -5], [0, -2], [0, -1], [2, 1], [0, -3], [0, -4], [2, -9], [0, -2], [0, -3], [0, -2], [1, -9], [0, -2], [-1, -7], [-8, -22], [-2, 6], [1, 5], [-1, -2], [0, 7], [0, 2], [0, 2], [0, -1], [-1, 8], [-1, 1], [1, 6], [-2, 1], [0, 8], [-2, 3], [-2, 1], [1, 2], [0, 2], [0, 4], [1, 6], [-6, 24], [-4, 7], [-1, 5], [0, 9], [2, 6], [7, -4], [2, 4], [-3, 24], [0, 11], [1, 6], [2, -4], [5, -37]], [[9614, 5467], [0, -5], [-8, 18], [-2, 2], [0, 1], [-3, 9], [-1, 10], [-1, 14], [2, 4], [5, -13], [0, -6], [2, -14], [6, -20]], [[9682, 5730], [-1, 2], [1, -7], [0, -6], [1, -6], [0, -16], [0, -3], [0, -2], [0, -4], [-1, -1], [0, -1], [-1, 2], [1, -3], [1, -4], [0, -5], [0, -2], [0, -3], [-1, 0], [1, -4], [0, -6], [-1, -2], [0, -1], [0, -3], [0, -2], [-1, -2], [0, -3], [0, -7], [0, -8], [0, -6], [-1, -3], [-3, -9], [-3, 0], [-10, 28], [-11, 4], [-1, 4], [-1, 10], [0, 2], [-1, -1], [0, -1], [-2, 6], [-1, 5], [-1, 2], [-1, -2], [-1, 2], [2, 12], [-1, 4], [-1, 5], [0, 8], [0, 3], [1, 3], [3, 5], [1, 0], [1, -5], [1, 3], [0, -1], [1, -9], [5, -14], [1, 1], [1, 7], [-2, 14], [-1, 10], [-1, 11], [4, -4], [5, 4], [-14, 27], [-3, -5], [-1, 5], [0, 3], [0, 8], [1, 3], [-6, 11], [-4, -11], [-1, -12], [-3, -27], [-1, -5], [-1, 18], [3, 52], [-1, 6], [-1, 9], [-1, 13], [-1, 20], [0, 2], [1, 6], [0, 9], [0, 10], [-6, 18], [-2, 16], [-1, 4], [-1, 4], [-1, 15], [0, 9], [-1, 7], [1, 5], [0, 2], [3, 0], [2, 9], [1, 0], [0, -7], [-1, -16], [1, -13], [1, -8], [6, -12], [3, -13], [1, -6], [1, -8], [1, -18], [0, -16], [1, -3], [3, -11], [9, 2], [1, 4], [2, 11], [1, 1], [1, -14], [1, -4], [2, 0], [0, 2], [2, 9], [1, 1], [1, -4], [1, 2], [1, 5], [1, 2], [1, -3], [2, -14], [1, -1], [0, 2], [1, 5], [0, 1], [1, -3], [1, -10], [1, 0], [1, 2], [0, 6], [1, 9], [0, 13], [-1, 17], [-1, 20], [-1, 17], [1, 10], [1, 1], [1, -2], [4, -18], [0, -5], [2, -17], [0, -6], [1, -3], [2, 1], [1, -3], [0, -10], [-1, -1], [0, -2], [0, -3], [0, -4], [1, -2], [1, 0], [0, 2], [1, 8], [3, 7], [1, -2], [1, -9], [-1, -1], [-1, -1], [0, -2], [0, -6], [0, -2], [-1, -6], [-1, -7], [0, -8], [0, -7], [1, -8], [0, -1], [0, -4], [0, -1], [0, -7], [1, -2], [1, 1], [0, -12], [1, -3], [0, -5], [1, -4], [1, -5], [0, -6], [0, -4], [-1, -13], [-2, -7], [1, -4], [2, -1], [2, -8], [1, 2], [-1, -11], [0, -3], [0, -3], [0, -9], [0, -6], [0, -6], [-1, -4], [-3, -16], [-1, -1], [-1, 5], [-1, 8], [-5, 25], [-3, 30], [0, 4], [-1, -2]], [[9643, 5660], [1, -15], [2, -16], [0, -6], [0, -5], [0, -1], [-1, 2], [-1, 3], [-3, 36], [0, 2], [0, -1], [-1, -5], [0, 3], [-1, 6], [-1, 17], [1, 1], [2, -8], [1, -4], [1, -9]], [[2986, 6103], [0, -6], [0, -5], [0, -3], [-1, 3], [0, 1], [0, 1], [-1, -1], [-1, 4], [-2, 0], [1, 1], [3, 18], [1, 3], [2, 1], [-2, -17]], [[2995, 6532], [-1, -3], [1, 4], [1, -1], [3, -16], [0, -2], [1, -4], [0, -2], [0, -2], [2, -8], [0, -2], [0, -3], [1, -6], [0, -2], [1, 0], [0, -2], [1, -15], [0, -5], [-1, -5], [0, -2], [0, -2], [0, -2], [0, -3], [0, -4], [0, -3], [0, -5], [2, 0], [8, 28], [3, 3], [2, -3], [4, -19], [1, -3], [2, 2], [5, 17], [1, -2], [1, -11], [2, -11], [0, -5], [0, -3], [-1, -4], [0, -6], [0, -8], [0, -2], [1, -4], [0, -3], [0, -6], [-1, -4], [-9, -29], [-13, -17], [-13, -17], [0, -7], [-1, -12], [11, -29], [-1, -7], [0, -1], [4, -21], [5, -4], [9, 14], [9, 38], [8, 19], [1, -2], [1, -6], [1, -9], [0, -11], [1, -6], [3, -6], [2, -8], [0, -1], [-1, -2], [0, -1], [-1, -10], [0, -3], [-11, -36], [0, -1], [-1, -1], [0, -4], [0, -2], [0, -2], [0, -3], [0, -2], [0, -1], [-1, -3], [-1, -4], [-11, 8], [-11, 8], [-11, 7], [-5, 15], [-1, -1], [-1, -2], [0, -3], [0, -4], [0, -4], [0, -6], [-1, -1], [-2, 6], [0, 2], [0, 3], [0, 3], [-1, 8], [0, 6], [-1, 4], [-4, 9], [-6, 3], [-1, 3], [-3, -1], [-4, 13], [-1, 9], [-1, 17], [-1, 12], [0, 8], [0, 6], [-4, 14], [-2, 15], [-1, 5], [-7, 6], [-2, -1], [4, 19], [-10, 71], [2, 13], [8, 1], [3, -7], [5, -23], [5, -14], [2, -1], [3, 4], [2, 9], [1, 8], [1, 12], [0, 1], [0, 15], [1, 11], [0, 7], [0, 3], [0, 1], [0, 6], [0, 8], [0, 6], [0, 4], [1, 0], [2, -8], [1, 8], [2, 17], [0, 9], [0, 6], [1, 4], [0, 3], [1, 4], [1, 2], [0, 3], [0, 6], [0, 3], [3, -5], [0, -2], [-1, -4], [0, -2], [3, -16], [0, -4], [0, -9]], [[3043, 6278], [-3, 3], [-1, -2], [-1, -3], [-1, -9], [2, -15], [1, 1], [4, 20], [-1, 5]], [[3131, 7698], [0, -11], [0, -24], [-1, -3], [0, -1], [0, -1], [0, -2], [-1, -10], [0, -7], [1, -6], [0, -4], [1, -6], [0, -7], [-1, -5], [-1, -6], [-1, -11], [-1, -1], [-1, 3], [0, 6], [-1, 16], [-1, 10], [-7, 27], [1, 4], [1, 9], [1, 1], [0, 1], [0, 4], [-1, 1], [1, 2], [1, 7], [1, 2], [1, 2], [0, 4], [1, 5], [3, -3], [4, 12], [1, 1], [0, -2], [-1, -7]], [[2902, 5569], [0, -7], [-1, -2], [-1, -1], [-2, 2], [-1, 0], [-3, -9], [-3, 1], [0, -2], [-1, -3], [0, -4], [0, -3], [-7, -15], [-1, -1], [0, -4], [-1, -10], [0, -3], [-1, -1], [-6, 3], [0, 3], [-1, 10], [-1, 1], [-5, -1], [-4, -21], [-3, -18], [-1, -4], [-2, 4], [-2, 18], [-1, 10], [7, 50], [0, 4], [1, 11], [0, 5], [6, 37], [1, 9], [0, 12], [0, 12], [-2, 16], [-2, 12], [-1, 3], [-5, -2], [-1, -4], [-2, -10], [-1, -8], [-1, -2], [-2, 2], [-1, 2], [-2, 15], [-2, 3], [-1, 0], [-9, -27], [-3, 0], [-7, -16], [-8, 0], [-1, -2], [-1, -11], [-6, -14], [-1, 1], [-1, 5], [0, 8], [0, 20], [0, 3], [0, 4], [0, 4], [0, 5], [1, 11], [1, 9], [1, 10], [0, 16], [0, 14], [1, -1], [0, -4], [0, -2], [1, 3], [0, 1], [2, 5], [2, -7], [5, 3], [-1, -3], [1, -3], [1, 2], [1, 7], [3, 6], [1, 3], [-1, 9], [-2, 8], [0, 7], [0, 8], [0, 6], [0, 6], [-1, 5], [0, 4], [0, 4], [-1, 6], [0, 9], [1, 4], [2, 16], [3, 14], [2, 6], [3, 0], [2, -6], [1, -13], [0, -2], [0, -5], [3, -7], [0, -6], [1, -5], [1, -5], [1, -4], [1, -9], [0, -7], [-1, -7], [-1, -7], [2, -8], [3, 12], [2, 1], [-1, 8], [1, 3], [1, 1], [1, 5], [-1, 7], [0, 1], [0, 4], [0, 4], [1, 5], [-1, 0], [-4, 17], [1, 6], [1, 3], [1, 1], [-1, 2], [0, 5], [0, 7], [0, 6], [0, 5], [0, 4], [-1, 2], [2, 10], [0, 7], [0, 9], [0, 16], [1, 6], [-1, 3], [-9, 3], [-9, 2], [-2, -5], [-2, 4], [-4, -7], [-2, 0], [0, -1], [-2, -15], [-2, -6], [-1, -4], [0, -2], [0, -6], [0, -3], [0, -1], [-1, -4], [-1, 0], [-1, -2], [-2, -10], [-2, -5], [-2, 2], [-2, 9], [-4, 26], [-2, 8], [0, 3], [0, 5], [-1, 7], [0, 5], [-2, 11], [-1, 18], [1, 18], [0, 6], [8, 29], [3, -3], [5, 19], [1, 5], [0, 9], [1, 11], [-1, 9], [-2, 23], [1, 7], [-1, 6], [-1, 10], [-1, 11], [-1, 9], [-2, 17], [-2, 11], [-6, 11], [-1, 8], [0, 12], [0, 16], [2, 25], [0, 7], [0, 2], [6, 23], [3, 1], [6, -13], [0, -6], [3, -13], [1, -11], [1, -16], [0, -19], [1, -10], [9, -16], [2, 2], [3, 9], [6, 34], [2, 10], [5, -8], [1, -6], [1, -5], [0, -7], [1, -10], [1, -3], [0, -8], [0, -7], [-1, -13], [0, -12], [1, -7], [0, -4], [5, -10], [12, 16], [2, 16], [1, 4], [2, 2], [1, -1], [1, -3], [0, -7], [1, -11], [0, -14], [-1, -22], [0, -4], [1, -5], [0, -1], [1, 1], [0, -7], [2, 3], [-1, -5], [1, -7], [1, -2], [2, 0], [1, -2], [0, -8], [1, -3], [1, -3], [1, 0], [0, -15], [1, -10], [3, -12], [3, -28], [2, -7], [-1, -4], [0, -1], [2, -13], [5, -32], [3, -7], [6, -1], [4, -16], [0, -1], [-1, -7], [-8, 4], [-2, -4], [0, -9], [1, -16], [-3, -3], [-6, 27], [-3, 5], [-5, -18], [-1, -7], [-1, -12], [-1, -17], [0, -10], [2, -40], [1, -11], [4, -30], [10, -38]], [[2902, 5699], [0, -130]], [[2902, 5699], [13, -46], [13, -45], [2, 4], [1, 11], [1, 8], [1, 9], [0, 11], [1, 22], [0, 9], [-2, 13], [-1, 9], [0, 6], [-1, 5], [-1, 2], [0, 16], [0, 11], [0, 8], [-1, 3], [-4, 0], [-1, 3], [2, 13], [5, 12], [0, 21], [2, 13], [1, 7], [0, 7], [0, 16], [0, 8], [2, 17], [1, -12], [2, -5], [5, 2], [3, -9], [1, -1], [0, -1], [0, -14], [0, -4], [1, -2], [0, -3], [0, -6], [0, -4], [-1, -3], [0, -5], [-3, -6], [-1, 0], [-1, -1], [1, -3], [1, -10], [0, -2], [-3, -10], [-1, -3], [0, -5], [0, -3], [0, -3], [0, -3], [0, -8], [2, -14], [0, -6], [0, -7], [0, -6], [1, -4], [0, -3], [1, 0], [0, 4], [0, 9], [1, 6], [0, -1], [1, -2], [1, 0], [0, 4], [2, 15], [2, 10], [1, 11], [1, 4], [0, 5], [0, 5], [0, 7], [-1, 4], [0, 1], [1, 10], [0, 6], [4, 36], [0, 1], [1, -1], [1, 2], [6, 20], [0, 2], [0, 4], [1, 10], [0, 5], [1, 2], [0, -1], [4, -31], [1, -6], [0, -11], [1, -2], [0, 1], [0, 7], [1, 3], [8, -14], [8, 19], [0, -4], [0, -4], [1, 0], [1, 5], [1, -1], [0, -3], [0, -4], [0, -2], [1, 1], [1, 11], [0, 2], [0, 1], [0, 1], [0, 4], [0, 2], [0, 4], [0, 5], [0, 5], [1, 4], [0, 4], [0, 4], [1, 7], [0, 7], [-1, 9], [0, 7], [0, 4], [-2, 7], [0, -2], [-1, -1], [-2, 5], [-2, 16], [0, 4], [1, 5], [0, 6], [0, 9], [0, 9], [-1, 14], [-1, 9], [0, 8], [0, 8], [0, 7], [0, 5], [1, 3], [1, 2], [0, 4], [1, 6], [-1, 6], [0, 8], [0, 4], [12, 10], [13, 11], [7, -6], [8, -5], [0, 3], [1, 6], [0, 6], [0, 7], [0, 7], [1, 5], [0, 1], [1, 0], [0, 1], [1, 6], [0, 2], [1, 1], [0, -2], [1, -5], [0, -11], [0, -12], [0, -11], [1, -8], [0, -4], [4, 0], [7, 18], [5, -2], [12, 22], [12, 22], [2, 20], [-1, 13], [-1, 3], [0, 21], [1, 0], [0, 2], [1, 3], [0, 4], [0, 4], [0, 4], [0, 3], [0, 3], [0, 1], [4, 5], [1, -2], [1, 1], [0, 3], [1, 6], [0, 2], [0, 4], [0, 2], [0, 3], [0, 3], [0, 2], [0, 3], [0, 5], [-1, 3], [2, 0], [2, 9], [1, 5], [0, 3], [-1, 5], [0, 6], [1, 6], [0, 3], [1, 1], [1, -1], [3, -13], [2, -4], [2, 5], [0, 11], [0, 31], [1, 17], [1, 17], [0, 6], [0, 7], [0, 6], [0, 6], [0, 5], [0, 4], [-2, 10], [0, 2], [0, 3], [0, 7], [0, 10], [-1, 10], [0, 8], [-1, 6], [2, 3], [3, -2], [2, 6], [1, 12], [0, 18], [0, 59], [0, 17], [0, 15], [1, 13], [0, 13], [-1, 5], [0, 8], [0, 23], [-1, 11], [0, 11], [-1, 11], [0, 3], [0, 4], [0, 3], [1, 3], [-1, 10], [0, 10], [1, 8], [1, 5], [-1, 6], [0, 5], [0, 4], [0, 5], [0, 31], [0, 19], [0, 13], [-1, 26], [0, 8], [0, 3], [0, 3], [0, 3], [0, 3], [0, 8], [-1, 20], [1, 9], [0, 3], [-1, 43], [0, 16], [0, 7], [-1, 9], [-3, 6], [-1, 7], [1, -1], [4, 6], [-1, 1], [0, 11], [-1, 5], [0, 3], [0, 2], [0, 7], [0, 3], [0, 3], [0, 1], [-1, 1], [0, 7], [0, 19], [0, 8], [-1, 3], [0, 3], [0, 2], [0, 5], [0, 3], [0, 2], [0, 2], [0, 3], [-1, 7], [-2, 11], [0, 7], [-1, 11], [-1, 31], [-1, 17], [-1, 30], [-9, 101], [-3, 53], [0, 7], [0, -3], [2, -13], [0, 1], [1, 8], [0, 4], [1, 3], [4, -3], [8, -24], [2, 3], [2, 0], [0, -1], [2, -7], [1, -4], [0, -6], [1, -15], [0, -5], [1, -6], [0, -7], [1, -17], [1, -5], [3, -10], [0, -2], [1, -3], [0, -8], [0, -1], [1, 0], [0, -1], [1, -12], [1, -18], [1, -20], [0, -25], [1, -28], [0, -5], [2, -10], [0, -11], [3, -35], [0, -6], [0, -10], [0, -7], [0, -6], [0, -16], [0, -7], [-1, -7], [0, -7], [0, -6], [0, -6], [1, -9], [0, -7], [1, -16], [0, -7], [1, -5], [1, -8], [0, -6], [1, -16], [0, -6], [3, -19], [0, -10], [0, -11], [0, -9], [0, -7], [-1, -4], [-1, -6], [-1, -10], [1, -10], [1, -17], [0, -11], [-2, -4], [-1, -4], [2, -3], [1, -5], [0, -8], [0, -1], [-1, -3], [0, -5], [0, -7], [0, -4], [-1, -7], [-1, -15], [-1, -8], [0, -5], [-1, -11], [0, -28], [2, -19], [1, -16], [1, -16], [0, -23], [2, -16], [8, -49], [1, -15], [-2, -4], [0, -3], [5, -53], [0, -4], [2, -2], [1, -4], [0, -5], [0, -3], [0, -8], [1, -7], [0, -1], [0, 1], [0, -1], [1, -3], [0, -1], [0, -2], [1, -7], [0, -5], [0, -20], [0, -10], [0, -11], [1, -11], [-1, -10], [0, -13], [-1, -8], [0, -7], [-3, -20], [0, -5], [0, -6], [0, -6], [0, -7], [0, -7], [-1, -7], [0, -4], [-1, -4], [0, -20], [0, -6], [-2, -9], [-1, -13], [0, -3], [-1, -5], [-1, -3], [-1, -15], [0, -11], [0, -8], [-1, -9], [1, -17], [-1, -16], [0, -3], [-1, -13], [-3, -21], [-2, -24], [-1, -8], [0, -3], [-1, -2], [0, -12], [0, -1], [0, -11], [0, -12], [0, -9], [0, -6], [-2, -4], [0, -3], [-1, -6], [-1, -2], [-1, 3], [0, 5], [-1, 4], [-1, 1], [0, -2], [-2, -7], [-2, -24], [-1, -5], [-7, -21], [-7, -21], [-2, -18], [-2, -2], [0, -4], [-1, -7], [-1, -4], [-3, -10], [-2, -2], [-2, 5], [-11, -37], [-8, -10], [-8, -9], [-11, -36], [-1, -1], [0, 2], [-3, 11], [-2, -3], [-10, 9], [-5, -5], [-10, -42], [-4, -4], [-5, 5], [-4, -13], [-3, 2], [-7, -7], [-5, -23], [2, -9], [-1, -7], [-1, 0], [-3, 4], [-3, -4], [-5, 12], [-7, 0], [-1, -3], [0, -4], [-1, -5], [0, -7], [-2, -31], [0, -6], [-3, -5], [-2, 4], [-2, -1], [-1, -9], [0, -5], [-2, -23], [0, -2], [0, 2], [-1, 6], [0, 8], [0, 9], [-1, 5], [-1, -3], [-2, -22], [0, -7], [-1, -5], [-2, -3], [-2, -21], [-3, -7], [-2, 4], [-4, 24], [-1, 1], [-1, -5], [-2, 1], [-1, -2], [0, -4], [-2, -11], [0, -5], [-3, -9], [-1, 0], [-1, 10], [-1, 13], [-2, 9], [-3, 13], [-10, 11], [-1, -2], [-2, -6], [-4, -28]], [[2951, 5717], [0, 4], [1, 5], [-1, 7], [-1, -2], [0, -6], [-1, -8], [0, -2], [1, -2], [0, 2], [1, 2]], [[3002, 5780], [2, 6], [1, 12], [-1, 10], [-1, 5], [-3, 4], [-1, -1], [-2, -5], [0, -10], [1, -14], [2, -7], [2, 0]], [[2933, 6600], [0, -11], [2, -14], [1, -6], [0, -5], [0, -8], [0, -3], [-2, -5], [-1, 0], [-7, 20], [-3, 30], [1, -5], [1, -2], [6, 12], [1, 2], [0, 7], [0, 11], [0, 4], [0, 2], [1, -7], [0, -11], [0, -11]], [[3114, 7681], [0, -3], [1, -4], [0, -4], [0, -9], [-3, -5], [-1, 4], [0, 19], [0, 8], [1, 2], [1, 0], [0, -1], [1, -7]], [[2940, 7067], [1, -31], [-1, 4], [-1, 3], [-2, 18], [1, 2], [0, 2], [1, 3], [1, 3], [0, -4]], [[2771, 5703], [-1, -3], [-3, 4], [-6, 38], [5, 1], [2, 7], [0, -2], [0, -5], [0, -5], [0, -9], [3, -17], [1, -2], [-1, -7]], [[3141, 7822], [-1, -9], [1, 1], [2, 6], [1, 0], [1, -17], [0, -1], [-2, -8], [-2, -5], [-1, -5], [0, -6], [1, -5], [1, -15], [1, -6], [-1, -13], [0, -9], [0, -5], [-4, -15], [-3, 1], [0, 2], [-1, 9], [0, 3], [-1, 0], [1, 10], [-1, 13], [-1, 21], [1, 7], [0, 6], [0, 6], [0, 5], [1, 4], [0, 1], [0, 1], [1, 0], [0, 1], [0, 2], [0, 3], [0, 2], [2, 0], [1, 2], [1, 9], [0, 4], [0, 4], [-2, 3], [-2, 6], [0, 3], [-1, 5], [0, 4], [0, 5], [-1, 6], [-1, 6], [10, -10], [1, -4], [0, -12], [0, -2], [-1, -6], [-1, -8]], [[2928, 6971], [0, -1], [-3, 44], [0, 3], [1, 0], [4, 5], [1, 12], [0, -43], [0, -6], [-3, -14]], [[2959, 6583], [-2, -5], [-1, 18], [-5, 28], [-1, 12], [-2, 15], [-5, 25], [5, 1], [2, 5], [2, 8], [2, 11], [-1, -8], [0, -10], [1, -11], [2, -22], [5, -20], [2, -19], [-4, -28]], [[2991, 6731], [4, -20], [-1, -1], [0, -2], [0, -2], [0, -5], [0, -4], [0, -6], [-10, 4], [-1, -5], [-1, -12], [0, -2], [-3, -1], [-9, 22], [-9, 21], [1, 6], [1, 6], [1, 9], [0, 5], [0, 3], [0, 3], [0, 9], [0, 1], [0, 2], [1, 15], [0, 2], [1, 3], [2, 0], [1, 8], [0, 5], [1, -12], [5, -24], [8, -14], [8, -14]], [[3004, 7474], [-1, -1], [0, -3], [0, -4], [0, -5], [0, -3], [1, -4], [0, -3], [0, -2], [0, -22], [-1, -8], [0, -7], [-1, -7], [1, -8], [-1, -11], [0, -3], [0, -7], [0, -6], [1, -7], [1, -4], [0, -2], [0, -4], [1, -9], [0, -3], [1, -8], [2, -16], [4, -17], [4, -8], [1, -3], [0, -4], [1, -10], [0, -4], [1, -3], [4, -5], [1, -5], [1, -8], [0, -4], [1, 0], [1, 6], [1, -1], [0, -4], [1, 2], [3, 25], [1, 3], [0, 1], [0, 3], [0, 1], [0, 7], [1, 4], [2, 5], [1, 0], [0, -2], [2, -19], [1, -3], [2, -1], [7, 15], [1, -2], [0, -2], [0, -3], [0, -4], [1, -5], [-1, -3], [-1, -2], [-1, -6], [1, -15], [0, -3], [0, -3], [3, -3], [12, -54], [2, -11], [1, -8], [0, -12], [-1, -3], [-2, 2], [-11, 42], [-1, 2], [-12, -33], [-12, -33], [-1, -9], [0, -14], [0, -2], [-1, -11], [0, -4], [-1, -6], [-4, -32], [-1, -11], [0, -15], [1, -4], [0, -2], [0, -3], [0, -11], [0, -4], [1, -4], [0, -3], [1, -5], [4, -5], [6, -26], [3, -6], [8, 6], [5, -10], [2, -8], [0, -1], [4, 4], [0, -3], [2, -11], [0, -1], [0, 2], [1, 2], [1, 14], [0, 3], [0, 1], [1, -1], [1, -7], [0, -3], [0, -4], [0, -4], [0, -4], [0, -3], [0, -5], [-1, -12], [0, -8], [0, -10], [0, -11], [0, -10], [1, -18], [-1, -3], [0, -7], [0, -9], [0, -8], [0, -1], [0, -3], [0, -1], [0, -2], [0, -4], [0, -1], [0, -10], [0, -4], [-1, 3], [0, -1], [0, -4], [-1, -1], [-1, -1], [-2, 4], [0, 4], [-3, 50], [-3, 26], [-2, 17], [-3, 3], [-9, -25], [-2, 0], [-6, 17], [-1, -2], [-2, -12], [-1, -3], [-1, 1], [-4, 14], [0, -2], [-1, -9], [1, -8], [0, -6], [1, -2], [0, -5], [-1, -9], [0, -4], [-1, -5], [-5, -32], [-4, -11], [-9, 23], [-10, 22], [-4, -5], [-7, 6], [-1, -2], [0, -2], [-1, -9], [0, -2], [-2, -3], [-2, -1], [1, 8], [-1, 16], [-1, 12], [-1, 7], [-5, 4], [-1, 6], [-1, 15], [0, 8], [1, 16], [1, 8], [0, 12], [-1, 10], [-1, 6], [-7, 27], [-2, -1], [1, 5], [1, 12], [1, 16], [-2, 22], [-8, 48], [-3, 9], [1, 5], [1, 2], [0, 3], [0, 12], [-10, 83], [-9, 83], [-2, 3], [-2, -1], [1, 9], [2, 9], [1, 4], [0, 4], [1, 7], [0, 8], [-1, 9], [0, 5], [-1, 5], [0, 7], [0, 6], [3, -16], [2, -11], [4, -9], [1, -6], [1, -6], [1, -14], [0, -6], [3, -19], [7, -26], [7, -27], [3, -1], [0, 3], [1, 8], [0, 2], [1, 0], [0, 2], [1, 8], [3, 10], [1, 7], [0, 5], [1, 6], [0, 10], [1, 9], [0, 8], [0, 2], [0, 7], [-1, 11], [0, 4], [0, 8], [1, 7], [0, 4], [12, 12], [2, 8], [1, 14], [-1, 1], [0, 3], [-1, 9], [1, 4], [-1, 12], [1, 10], [3, 15], [0, 7], [1, 15], [1, 6], [0, 8], [0, 11], [0, 22], [-1, 7], [0, 6], [0, 4], [-1, 3], [10, -25], [0, 1], [1, 2], [0, 5], [-1, 3], [0, 3], [0, 3], [0, 4], [0, 2], [1, 1], [0, 1], [0, -1], [1, -2], [1, -6], [2, -19], [1, -5], [1, 0], [-2, 17], [0, 3], [2, 13], [0, 5], [0, -4], [1, -2], [1, -2], [-1, -4], [0, -5], [1, -7], [0, -8], [1, -6]], [[3034, 7226], [0, -9], [0, -10], [0, -11], [1, -4], [1, 0], [1, 4], [0, 4], [1, 6], [0, 2], [-1, 4], [0, 3], [0, 5], [0, 4], [0, 4], [1, 3], [-1, 4], [-1, 3], [0, 1], [-1, -1], [0, -5], [-1, -7]], [[3018, 7197], [1, 13], [-3, 16], [-2, -6], [-3, -10], [-2, 1], [0, 15], [-2, -3], [-2, -12], [1, -17], [0, -3], [0, -3], [0, -4], [0, -5], [0, -4], [0, -8], [1, -6], [0, -5], [1, -5], [0, -1], [0, -1], [0, -2], [0, -1], [1, -8], [1, -3], [1, 1], [2, 7], [3, 28], [1, 13], [1, 13]], [[2743, 5552], [-13, -47], [-2, 0], [-3, 4], [-1, -4], [-2, -21], [-2, -8], [-2, -1], [-2, 4], [-2, 10], [-1, 14], [3, -3], [11, 18], [2, 15], [13, 18], [2, 6], [0, 1], [-1, -6]], [[3541, 2426], [0, 1], [1, 2], [4, 32], [1, 13], [0, 11], [0, 8], [-2, 4], [-1, -1], [-6, -25], [-2, -18], [-6, -16], [-5, -2], [-2, 3], [-1, 7], [-4, 26], [-2, 0], [-1, -26], [0, -3], [0, -3], [0, -4], [1, -5], [-5, -19], [-5, -62], [-7, -54], [-1, -10], [0, -8], [-1, -17], [0, -7], [-1, -5], [0, 4], [0, 8], [-1, 7], [-1, 4], [-2, -7], [-3, -20], [1, -9], [-1, -7], [0, -6], [0, -8], [-1, -11], [0, -13], [0, -14], [0, -11], [1, -6], [1, -9], [0, -5], [2, -27], [0, -8], [3, -11], [14, 5], [13, 4], [14, 5], [13, 5], [13, 4], [14, 5], [13, 4], [14, 5], [13, 5], [3, 11], [0, 3], [-1, 9], [0, 1], [-1, 9], [1, 7], [0, 6], [1, 5], [2, 3]], [[3621, 2195], [0, -205], [0, -204], [0, -205]], [[3621, 1581], [-13, -11], [-13, -10], [-5, 16], [0, 1], [-14, -25], [-13, -24], [-13, -25], [-13, -24], [-8, 9], [-8, 8], [-1, -2], [0, -6], [-1, -2], [0, -3], [-14, -20], [-3, 7], [-11, -6], [1, -5], [8, 2], [2, -4], [-10, -23], [2, 0], [1, -4], [-2, -6], [-7, -6], [-8, -6], [-1, -8], [0, -4], [-1, -9], [0, -2], [-4, 0], [-1, -3], [-2, -15], [0, -5], [-1, -15], [0, -6], [0, -3], [-1, -7], [1, -15], [-1, -10], [-1, -4], [-5, 6], [-1, 3], [0, 3], [0, 4], [0, 3], [0, 1], [-2, 1], [-2, 7], [-3, 0], [-3, -13], [-1, 1], [0, 4], [-1, 5], [0, 2], [-2, -7], [0, -3], [0, -2], [0, -8], [0, -3], [0, -2], [-2, -13], [-8, -38], [-1, -8], [0, -4], [-13, -43], [-12, -42], [-13, -43], [-6, -48], [-11, -54], [-10, -55], [-11, -54], [-11, -55], [-10, 1], [-1, 2], [0, 10], [-1, 3], [-7, -10], [-8, -10], [-5, 20], [-2, -1], [-6, -22], [-1, -1], [-5, 14], [3, 12], [3, 17], [-6, -12], [-1, 2], [-1, 14], [-2, 2], [-4, -7], [-2, -8], [-1, 1], [0, 6], [0, 9], [0, 8], [-1, 3], [-5, -5], [-2, -6], [-1, 0], [0, 3], [6, 27], [4, 27], [4, 20], [2, 2], [2, 6], [2, 16], [2, 22], [1, 22], [1, 33], [0, 15], [-1, 14], [-2, 17], [0, 2], [-1, -6], [0, -15], [-1, -7], [-1, 2], [-1, 10], [-1, 20], [0, 4], [-1, 1], [-1, -1], [0, -4], [0, -6], [-1, -19], [0, -8], [-5, -18], [0, -3], [0, -7], [-1, -13], [0, -4], [-1, -2], [-1, 3], [-4, 30], [-1, 1], [-1, -1], [-1, -12], [-1, -4], [-5, -4], [-2, 1], [0, 7], [4, 3], [2, 6], [1, 14], [-4, 39], [0, 5], [0, 5], [0, 4], [0, 4], [0, 2], [-9, 50], [-1, 10], [0, 3], [-1, 0], [-1, -3], [-1, 2], [1, 2], [0, 4], [1, 13], [-7, 50], [-1, 12], [-1, 17], [11, 14], [12, 15], [6, 27], [13, 29], [5, -1], [8, 31], [9, 32], [3, 21], [-8, -13], [1, 15], [-2, 3], [-12, -20], [-13, -21], [-13, -20], [-11, 15], [-7, -6], [-8, -6], [0, 3], [0, 11], [-5, -3], [-1, -5], [1, -13], [-2, -17], [-2, -5], [-7, 9], [-7, 10], [-8, -26], [-8, -27], [-2, 3], [-1, 13], [1, 5], [1, 6], [-8, -12], [-9, -13], [0, 2], [-1, 5], [1, 9], [0, 3], [-1, 2], [-1, 4], [0, 3], [-1, 4], [1, 7], [0, 3], [0, 3], [0, 3], [0, 3], [0, 2], [-1, 2], [0, 1], [0, 4], [0, 4], [-1, 4], [0, 3], [0, 2], [-4, -3], [-3, -15], [-8, -5], [-7, -4], [-2, 10], [5, 14], [1, 8], [-3, -2], [-1, 5], [2, 2], [1, 4], [1, 8], [-5, -2], [0, 9], [1, 13], [1, 9], [1, 26], [1, 8], [4, 26], [2, 5], [1, 5], [1, 9], [-2, 9], [-8, 5], [-8, 5], [13, 29], [12, 1], [13, 2], [12, 1], [12, 2], [13, 2], [1, 4], [1, 12], [0, 1], [-1, 3], [0, 13], [1, 11], [-10, -2], [-11, -2], [-11, -3], [-1, -3], [-2, 1], [-5, -10], [-1, 2], [2, 9], [-10, 3], [-10, 3], [-2, 3], [0, 2], [0, 2], [0, 4], [-1, 15], [0, 5], [1, 3], [0, 1], [8, 5], [3, -8], [9, 11], [5, 28], [5, 9], [1, -2], [2, -8], [-5, -18], [-1, -11], [7, 3], [7, 2], [3, 11], [5, 27], [1, 4], [1, -10], [-6, -32], [1, -4], [8, 4], [7, 23], [3, 4], [2, -8], [-4, -25], [2, -7], [11, 3], [11, 4], [11, 4], [1, 4], [1, 6], [1, 13], [-1, -1], [0, 1], [-1, 2], [0, 5], [-1, 11], [0, 4], [0, 4], [-2, 2], [-4, 14], [-12, 3], [-12, 2], [-12, 2], [-12, 2], [-12, 3], [-1, 2], [-2, 7], [-7, 1], [-7, 0], [-12, 28], [-13, 28], [-13, 27], [-12, 28], [-13, 28], [-13, 28], [-13, 27], [-1, 11], [4, -1], [5, 19], [1, 6], [-3, 6], [-2, 11], [-2, 0], [-4, 13], [-6, 8], [-8, -12], [-4, -20], [-2, -2], [-7, 13], [-7, 13], [-3, -4], [-5, 4], [-1, 3], [-1, 5], [0, 8], [0, 7], [0, 8], [0, 10], [-3, -2], [-1, 3], [-4, 24], [-2, 6], [0, 2], [1, 7], [0, 7], [-1, 6], [0, 9], [0, 7], [1, 13], [0, 7], [0, 11], [-1, 8], [-1, 5], [-11, 23], [-3, -7], [-1, 0], [-2, 11], [-2, 0], [-4, -30], [-7, -25], [-1, 0], [-1, 7], [-1, 1], [-9, -16], [-9, -16], [-2, 8], [-2, 2], [-1, -3], [-2, -9], [-1, -14], [-1, -16], [-1, -38], [1, -4], [0, -6], [0, -15], [-5, -3], [-9, 19], [-9, 19], [-10, 20], [-1, 6], [-1, 2], [-2, -3], [-2, 6], [-1, 10], [-2, 4], [-1, -2], [-4, -11], [-5, -5], [-3, -18], [-1, -1], [-2, 0], [-1, -6], [-2, -11], [-1, -5], [-2, 16], [-1, -1], [-1, -3], [0, -1], [-2, 8], [-1, -2], [-1, 9], [-1, 1], [-2, -9], [-4, 0], [-3, -7], [-2, 2], [-1, 4], [0, 3], [-1, 3], [0, 9], [0, 4], [-1, 1], [-3, 2], [1, 9], [11, 9], [4, 14], [4, -11], [2, 2], [1, 10], [-2, -1], [-3, 13], [-3, 2], [-3, 9], [-1, 5], [0, 3], [-3, 1], [-5, 20], [-1, 12], [0, 12], [1, 8], [0, 5], [4, 7], [2, 7], [1, 7], [0, 11], [0, 15], [-1, 3], [-1, 3], [0, 10], [-1, 4], [0, 2], [-1, 4], [0, 11], [-1, 4], [-8, 46], [-1, 1], [-1, -4], [-1, 5], [1, 10], [0, 3], [0, 1], [-2, 2], [0, -1], [-1, -1], [0, -7], [-1, -3], [0, 1], [-1, 6], [-1, 17], [0, 7], [-2, 14], [0, 9], [-1, 14], [0, 10], [1, 12], [0, 10], [-1, 4], [-13, -17], [-13, -16], [-13, -16], [-1, 2], [-2, 8], [-3, 6], [-11, -14], [0, 1], [-2, 12], [-12, 21], [-12, 21], [-12, 21], [-1, 18], [13, -3], [12, -3], [13, -3], [13, -3], [12, -3], [11, 18], [11, 18], [6, 29], [4, 35], [3, 19], [2, 17], [1, 13], [1, 28], [0, 13], [2, 15], [0, 10], [1, 13], [0, 11], [-1, 1], [0, -2], [-1, -1], [-1, 13], [0, 16], [-1, 14], [-2, 5], [-1, 11], [-1, 5], [-3, 7], [-6, 31], [-14, 3], [-13, 3], [-14, 4], [-13, 3], [-14, 3], [-13, 3], [-14, 4], [-13, 3], [-2, -7], [-1, -15], [0, -9], [-1, -34], [0, -10], [1, -8], [0, -8], [3, -20], [1, -10], [0, -13], [-1, -8], [-1, -6], [-1, -5], [0, -1], [-9, 26], [-9, 26], [-1, 10], [-4, 60], [0, 13], [1, 21], [2, 10], [3, 15], [-5, 4], [-1, -1], [-1, -9], [-1, 0], [-1, 3], [-1, 10], [1, 7], [-1, 3], [-5, 32], [-1, 3], [-1, 2], [0, 5], [-1, 7], [-9, 24], [-9, 23], [-2, 0], [0, 1], [-1, 5], [-2, 6], [-1, 7], [0, 9], [1, 8], [0, 13], [-2, 2], [-2, -6], [-6, 8], [-9, 42], [-4, 28], [-1, 9], [-3, 32], [-5, 33], [-2, 29], [-2, 27], [0, 12], [2, -1], [2, 2], [0, 10], [0, 2], [0, 4], [0, 5], [0, 7], [0, 2], [0, 7], [1, 4], [0, 3], [6, -12], [1, 2], [1, -2], [0, -6], [-1, -3], [0, -4], [-1, -7], [2, -6], [1, 1], [2, 6], [2, -3], [1, -9], [1, -12], [1, -14], [0, -1], [-1, -5], [0, -2], [1, -9], [2, 0], [2, 6], [1, 9], [-2, 4], [0, 2], [0, 12], [0, 4], [-5, 33], [-1, 12], [-1, 7], [-1, 9], [-2, 2], [-6, 35], [0, 4], [0, 7], [0, 9], [1, 3], [-2, 2], [-1, 3], [-1, 6], [-1, 10], [-1, 12], [0, 30], [-1, 6], [-1, 11], [0, 8], [0, 7], [0, 4], [1, 2], [0, 1], [1, -1], [1, -5], [1, -16], [11, -73], [11, -73], [11, -73], [1, -2], [2, 0], [11, -37], [12, -36], [12, -36], [12, -37], [11, -36], [12, 9], [12, 9], [12, 9], [11, 9], [12, 9], [12, 9], [1, 2], [0, 3], [1, 9], [9, 39], [0, 4], [1, 6], [0, 3], [0, 5], [-1, 9], [0, 5], [1, 12], [0, 4], [-1, 7], [0, 5], [0, 26], [-2, 13], [-13, 30], [-13, 30], [-13, 30], [-13, 30], [-12, 30], [-13, 30], [-13, 30], [-13, 30], [-13, 30], [-2, 10], [8, 4], [6, -10], [11, 31], [2, 12], [1, 19], [-1, 10], [-1, 7], [-1, 10], [5, -26], [6, -14], [4, -22], [6, -9], [1, 1], [8, -15], [8, -16], [3, 1], [3, 14], [1, 1], [13, -17], [12, -16], [13, -17], [1, 1], [2, 8], [13, -21], [14, -21], [14, -20], [14, -21], [13, -21], [2, -11], [1, -7], [0, -4], [1, -5], [0, -5], [0, -4], [0, -3], [1, -3], [1, 1], [0, 5], [1, 9], [0, 6], [-1, 2], [1, 1], [2, 7], [12, 7], [12, 8], [3, 12], [-2, 0], [-5, -11], [-2, 3], [9, 25], [9, 25], [2, 13], [1, 0], [0, -3], [0, -4], [0, -3], [1, 0], [0, 2], [1, 7], [-2, 7], [1, 3], [0, 2], [1, 2], [1, 11], [5, 29], [1, 6], [0, 6], [1, 2], [1, 1], [0, 4], [0, 9], [2, 15], [6, 48], [1, 9], [1, 12], [0, 9], [-1, 9], [0, 9], [2, 12], [-13, 13], [-14, 14], [-13, 13], [-13, 14], [-13, 13], [-5, -10], [-1, -7], [-2, -13], [-2, -24], [0, -2], [-2, 6], [-1, 3], [0, 4], [0, 7], [0, 4], [-1, 7], [-2, 21], [-1, 4], [-2, 6], [-1, 5], [-3, 24], [1, 7], [-1, 7], [-5, 2], [-5, 22], [-1, 11], [-5, 48], [-6, 40], [-1, 1], [-3, -3], [-4, 24], [0, 4], [0, 3], [0, 3], [0, 2], [1, 0], [3, -9], [0, 2], [1, 9], [-1, 10], [-1, 6], [-3, 12], [-1, 11], [-4, 48], [-10, 47], [-1, 15], [1, 4], [0, 3], [0, 4], [0, 13], [0, 5], [1, 4], [-3, 34], [-2, 12], [-1, 9], [1, 14], [2, -30], [1, -14], [1, -9], [1, -7], [2, -8], [-1, 15], [-1, 8], [0, 12], [2, 0], [1, 5], [-1, 23], [-1, 8], [3, -26], [1, -10], [1, -4], [5, 1], [5, -20], [5, -33], [1, -2], [-1, 12], [0, 10], [-1, 11], [0, 14], [4, 6], [0, 3], [0, 3], [0, 3], [0, 4], [1, 9], [2, 2], [1, -4], [3, -21], [2, 0], [5, 9], [2, -6], [5, -29], [2, -8], [3, -3], [2, 7], [1, 4], [0, 6], [0, 10], [-1, 4], [-1, 9], [1, 0], [8, -20], [2, 3], [0, 15], [2, 0], [10, -21], [10, -20], [11, -21], [3, 0], [6, -12], [0, 11], [-1, 5], [-3, 3], [-1, 4], [0, 9], [12, -9], [12, -10], [3, -10], [1, 1], [0, 2], [0, 2], [0, 4], [1, 6], [0, 3], [0, 2], [9, -16], [4, 7], [10, -18], [10, -17], [10, 6], [10, 5], [5, -6], [0, 2], [1, 6], [0, 1], [5, -8], [2, 8], [3, 1], [0, 2], [1, 6], [-4, -2], [-2, 4], [7, 16], [9, -8], [1, 4], [1, 9], [-1, 2], [-3, -6], [1, 13], [2, 8], [3, 4], [1, 5], [-4, -5], [-3, 3], [-1, 14], [0, 11], [2, 8], [2, 7], [3, 1], [1, 5], [-5, 1], [-1, 10], [8, 14], [-1, 7], [-2, 2], [-6, -10], [-1, 2], [-2, 9], [1, 3], [1, 9], [5, 16], [2, -2], [0, 1], [2, 8], [2, 4], [3, 15], [2, 5], [1, 0], [0, -1], [1, -4], [0, -1], [10, 15], [11, 15], [11, 15], [10, 15], [-2, -3], [0, 2], [-1, 4], [-1, 10], [0, 3], [-1, 8], [0, 6], [1, 3], [13, 16], [13, 17], [13, 16], [13, 17], [2, 12], [11, 35], [11, 34], [0, 5], [2, 17], [1, 3], [7, 2], [13, 46], [13, 45], [12, 46], [13, 46], [2, 11], [0, 17], [-9, 6], [-9, 7], [-10, -13], [-3, 7], [0, -1], [-3, -14], [-1, 1], [0, 6], [0, 9], [-1, 2], [-1, 1], [0, 5], [0, 8], [1, 5], [1, 5], [2, 19], [1, 2], [1, 0], [1, 6], [10, 16], [9, 15], [1, -1], [2, -6], [2, -1], [8, 14], [-1, 13], [-5, 46], [-1, 5], [-2, 4], [-8, -7], [-7, -7], [-1, 2], [-1, 9], [-1, 2], [-2, 1], [0, 4], [1, 9], [11, 18], [1, 3], [0, 7], [0, 3], [1, 22], [1, 1], [3, -15], [7, -10], [2, 3], [1, 3], [0, 7], [0, 12], [-1, 22], [-1, 16], [-4, 34], [0, 22], [0, 3], [1, 1], [1, -2], [1, 2], [0, 5], [1, 2], [0, -1], [7, -25], [1, -2], [1, 2], [2, 13], [1, 0], [1, -12], [-1, -7], [0, -9], [0, -8], [1, -5], [1, 1], [0, -1], [1, -5], [0, -10], [0, -13], [0, -13], [0, -12], [0, -13], [0, -12], [0, -13], [0, -12], [2, -10], [1, -1], [10, 23], [7, 48], [1, 15], [1, 20], [1, 28], [-1, 4], [0, 3], [0, 1], [-1, 0], [-1, 1], [0, 4], [0, 6], [0, 4], [-1, 3], [0, 3], [-1, 3], [0, 11], [-2, 17], [0, 6], [-1, 5], [-2, 2], [0, 2], [-2, 23], [-2, 13], [-2, 16], [-1, 27], [5, -14], [2, -16], [12, -20], [0, 1], [1, 3], [2, -19], [1, -3], [8, 7], [-6, -21], [0, -2], [1, 0], [0, -1], [0, -6], [0, -7], [0, -6], [-1, -8], [0, -16], [0, -12], [0, -11], [-1, -11], [-3, -39], [-1, -9], [1, -11], [2, -5], [5, -6], [10, -39], [10, -40], [11, -68], [12, -41], [13, -42], [13, -42], [12, -42], [13, -42], [13, -41], [13, -42], [12, -42], [13, -42], [13, -41], [12, -42], [13, -42], [13, -42], [0, -3], [-1, -2], [0, -1], [0, -1], [1, -11], [10, -59], [11, -59], [11, -59], [11, -59], [2, -1], [3, -15], [13, -4], [2, 2], [0, 2], [0, 7], [1, 2], [2, -7], [5, -36], [4, -37], [1, -4], [12, -37], [12, -38], [0, 29], [0, 13], [1, 10], [1, 10], [1, 9], [0, 13], [3, 8], [2, 0], [2, -5], [1, -11], [1, -14], [3, -43], [2, -21], [5, -26], [-1, -5], [-5, -4], [-4, 12], [-5, 3], [-3, 9], [0, -4], [2, -9], [2, -18], [9, -57], [0, -3], [0, -3], [1, -4], [0, -5], [0, -4], [0, -5], [0, -6], [0, -5], [2, -8], [2, -17], [1, -4], [0, -4], [1, -15], [1, -7], [4, -20], [12, -29], [12, -30], [-1, -2], [-4, -20], [-10, -22], [-2, -11], [-1, -5], [0, -1], [1, -6], [1, -1], [3, 4], [1, 3], [13, 56], [3, -12], [0, 6], [0, 2], [0, 1], [1, 1], [0, -1], [0, -3], [0, -1], [1, 6], [1, 1], [3, -4], [4, 8], [7, -11], [8, -11], [2, -8], [4, -7], [-10, -27], [-11, -27], [-11, -27], [-10, -27], [-2, -6], [0, -8], [1, -4], [-1, -8], [-3, -18], [0, -4], [0, -6], [0, -9], [0, -4], [-1, -10], [-9, -61], [-8, -61], [-2, -10], [-1, -7], [-1, -5], [0, -12], [-1, -5], [-4, -28], [0, -6], [-1, -8], [0, -18], [-1, -6], [0, -4], [-2, -2], [0, -4], [0, -2], [1, -12], [0, -1], [1, 1], [0, -1], [-4, -44], [1, -9], [2, -3], [3, 3], [-1, -15], [-1, -14], [-2, -10], [-1, -8], [-4, -8], [-1, -7], [1, -7], [2, -4], [0, -10], [0, -9], [-1, -28], [0, -7], [0, -10], [0, -7], [0, -4], [-1, -11], [-3, -40], [-3, -19], [1, 1], [7, -15], [2, -9], [1, -17], [0, -16], [1, -8], [1, -5], [1, -8], [0, -3], [0, -2], [0, -2], [0, -3], [0, -1], [0, -7], [0, -7], [0, -14], [-1, -6], [0, -4], [-2, -5], [-1, -8], [-4, -32], [-11, -46], [-4, -32], [-7, -32], [-4, -30], [-13, -62], [-13, -63], [-3, -7]], [[3337, 2542], [0, 5], [0, 3], [2, 4], [1, -3], [1, -7], [0, -2], [1, 2], [0, 2], [-1, 6], [0, 3], [0, 3], [0, 2], [-1, 5], [1, 3], [2, 0], [0, 8], [-1, 2], [-2, 1], [0, -1], [0, -3], [-1, -4], [-1, -3], [-1, 2], [-1, 9], [0, 1], [0, 2], [0, 1], [0, 8], [0, 6], [1, 4], [1, 2], [1, 0], [4, -8], [-2, 12], [-1, 4], [-1, -4], [-1, 0], [0, 1], [-1, 3], [1, 4], [0, 5], [0, 5], [1, 7], [-1, 2], [-8, 3], [-8, 3], [-3, 10], [8, 15], [2, 0], [1, 5], [1, 0], [0, 1], [0, 2], [1, 4], [0, 5], [0, 5], [-1, 2], [-13, -36], [-14, -36], [-1, -13], [-1, -20], [-10, -4], [-1, -2], [0, -3], [0, -1], [1, -9], [5, -16], [1, -14], [1, -2], [0, -3], [-1, -9], [0, -2], [-1, -3], [-11, -1], [1, -10], [0, -1], [-3, 0], [0, -2], [-1, -1], [0, -3], [0, -3], [0, -4], [1, -9], [1, -3], [0, -4], [0, -9], [1, -4], [1, -5], [0, -4], [0, -6], [0, -3], [0, -1], [0, -2], [0, -3], [0, -2], [2, -11], [1, -4], [0, -3], [0, -6], [0, -3], [1, -3], [2, -4], [7, -1], [0, -1], [-1, -9], [-7, -23], [-8, -23], [-12, -2], [-13, -1], [-13, -1], [-13, -2], [-13, -1], [-13, -2], [-13, -1], [-13, -2], [-12, -1], [-7, 18], [-1, 7], [-1, 11], [0, 3], [0, 10], [1, 10], [0, 8], [-1, 3], [1, 6], [1, 5], [0, 4], [-1, 5], [0, 4], [0, 2], [-1, 1], [-1, 0], [0, -3], [0, -6], [0, 1], [-2, -4], [-7, -4], [-5, -30], [-1, -9], [0, -10], [0, -3], [0, -2], [0, -2], [1, -2], [0, -5], [0, -10], [0, -5], [0, -2], [2, -9], [13, -33], [14, -33], [13, -33], [14, -32], [13, -33], [2, 3], [1, 6], [0, 3], [0, 9], [0, 5], [1, 9], [0, 3], [0, 2], [-1, 1], [0, 1], [1, 5], [7, 4], [1, 1], [0, 2], [0, 4], [1, 7], [0, 3], [1, 2], [9, 3], [9, 4], [1, -8], [1, -3], [0, -5], [0, -8], [0, -10], [0, -3], [1, -3], [1, -7], [0, -4], [1, -6], [0, -4], [-1, -4], [0, -5], [0, -11], [1, -8], [12, -43], [13, -12], [13, -11], [13, -12], [13, -11], [8, 21], [7, 42], [8, 41], [0, 3], [1, 12], [1, 9], [1, 8], [0, 3], [1, 2], [0, 2], [0, 9], [0, 2], [-1, 0], [-2, -7], [-3, 5], [1, 18], [0, 6], [0, 4], [1, 2], [2, 3], [3, 13], [0, 2], [0, 6], [1, 2], [0, 1], [0, -1], [1, -3], [0, -1], [0, -2], [2, 6], [0, 5], [0, 6], [1, 5], [0, 3], [-1, 1], [-1, -1], [0, -2], [0, 1], [-1, 1], [0, 4], [0, 2], [-2, 0], [0, -1], [-1, -2], [0, -3], [1, -3], [-1, -4], [0, -3], [0, -2], [-4, -8], [-1, 2], [1, 5], [0, 11], [1, 12], [0, 10], [0, 7], [0, 2], [0, 3], [0, 2], [1, 3], [-1, 3], [0, 4], [0, 10], [0, 1], [0, 3], [0, 1], [0, 2], [0, 4], [0, 2], [1, 8], [0, 2], [1, -1], [0, 1], [1, 3], [0, 10], [1, 6], [0, 3], [1, -2], [1, 2], [0, 2], [0, 5], [-1, 2], [0, 1], [-1, 2], [0, 3], [1, 4], [0, 6], [0, 5], [0, 3], [0, 1], [1, 2], [5, 4], [1, -1], [1, -6], [0, -1], [1, 2], [0, 3], [-1, 6], [1, 2], [0, 2], [0, 2], [0, 2], [-1, 1], [0, 1], [0, 3], [-1, 2], [0, 2], [-4, -4], [1, 6], [1, 5], [0, 5], [0, 4], [-3, 8], [-10, -2], [0, 1], [-1, 2], [-1, 12], [1, 4], [4, 6], [0, 3], [0, 6], [0, 6], [0, 5], [-1, 10], [0, 2], [-1, 9], [0, 5], [0, 4]], [[3179, 2628], [0, 2], [-1, -2], [-1, 3], [-1, 8], [-1, 4], [-9, -11], [-3, 3], [-4, 22], [-9, 10], [-2, 5], [-1, 11], [0, 3], [1, 1], [11, -6], [7, 13], [0, -1], [1, -3], [0, -1], [0, -2], [1, 1], [4, 15], [0, 1], [-1, 8], [-1, 3], [-8, -13], [-8, 3], [-9, 3], [-2, 7], [-1, 7], [0, 1], [-3, 1], [2, 5], [0, 4], [0, -1], [-8, 0], [-7, 0], [-2, 9], [-1, -1], [-2, 3], [-1, -3], [0, 7], [0, 1], [0, 3], [-1, 1], [-3, -6], [0, -4], [-1, -6], [0, -10], [1, -3], [1, -1], [0, -3], [2, -21], [11, -38], [10, -37], [2, -3], [2, 3], [0, -2], [-1, -9], [0, -3], [-4, -26], [-1, -11], [0, -7], [1, -4], [6, 1], [1, -9], [9, -11], [0, -4], [1, -3], [0, -6], [1, -6], [0, -8], [-2, -6], [0, -2], [0, -2], [1, -3], [0, -3], [0, -1], [-1, -4], [3, -10], [2, -3], [12, 29], [1, 4], [0, 8], [1, 3], [0, 2], [6, 13], [1, 6], [1, 0], [-1, 3], [-1, 3], [0, 3], [0, 5], [0, 4], [0, 5], [0, 5], [0, 4], [-1, 1], [-9, 17], [-1, 4], [0, 1], [1, 3], [8, 9], [1, 2], [0, 3], [0, 2], [-1, 2], [1, 6]], [[3067, 2752], [0, 3], [-2, 13], [-1, 3], [-3, 8], [-1, 5], [1, 8], [8, 13], [-1, 2], [-2, -3], [-1, 1], [0, 2], [1, 5], [0, 2], [0, 3], [0, 6], [0, 2], [4, 37], [3, 13], [1, 9], [0, 3], [0, 7], [0, 3], [1, 4], [8, 34], [1, 4], [0, 6], [0, 2], [0, 4], [0, 3], [1, 5], [10, 52], [11, 53], [11, 52], [10, 52], [1, 4], [0, 9], [1, 4], [0, 2], [1, 3], [1, 7], [3, 25], [3, 12], [1, 7], [-1, 7], [0, 2], [5, 17], [3, 4], [1, 5], [0, 3], [-1, -1], [0, -1], [-1, -1], [-1, 2], [-1, 4], [1, 7], [5, 12], [1, 5], [1, 7], [-2, 13], [-2, 8], [-7, 7], [-8, -16], [-8, -16], [-2, -5], [-3, -18], [-12, -32], [-11, -32], [-12, -33], [-12, -32], [-1, -2], [0, -5], [-3, -18], [-1, -3], [-2, -4], [-4, -22], [-12, -20], [-3, -16], [-1, -4], [-5, -2], [-11, -52], [-12, -52], [-5, -48], [-3, -29], [-1, -31], [-1, -29], [0, -9], [-1, -12], [0, -12], [0, -13], [0, -4], [0, -6], [1, -11], [3, -28], [3, -20], [3, -14], [10, -8], [11, -7], [10, -7], [9, 23], [10, 22], [-2, 18], [0, 4], [0, 4], [0, 3], [1, 1], [5, 5], [-2, 3]], [[2905, 3129], [0, 1], [0, 1], [-1, 5], [-2, -2], [-2, -11], [-1, -6], [0, -8], [-1, -11], [0, -11], [1, -6], [1, -5], [1, -5], [1, -1], [1, 2], [0, 5], [0, 6], [-1, 8], [0, 3], [0, 6], [0, 4], [1, 3], [0, 3], [0, 6], [1, 5], [1, 8]], [[3105, 2925], [1, -8], [8, 12], [8, 11], [-3, 1], [0, -1], [0, 5], [0, 3], [-9, -7], [-5, -16]], [[3098, 2850], [1, -2], [4, 0], [12, 22], [1, -4], [3, 4], [0, 1], [0, -3], [0, -3], [0, -3], [0, -1], [1, -2], [5, 1], [1, -3], [-2, -8], [-13, -20], [-14, -19], [-1, -4], [-1, -6], [0, -5], [1, -3], [2, -2], [2, -11], [13, -9], [13, -9], [1, 3], [1, 5], [1, 8], [2, 6], [1, 3], [-2, 0], [0, 3], [0, 4], [1, 1], [-1, 5], [-1, 3], [-4, 6], [0, 2], [-1, 4], [5, 35], [2, 8], [1, 0], [0, -5], [1, 0], [3, 12], [1, 5], [0, 9], [0, 2], [-8, 12], [-7, 12], [-12, -7], [-1, -5], [-1, -3], [-1, -9], [0, -4], [-3, -8], [-5, -13], [-1, -5]], [[3621, 2195], [13, 18], [13, 18], [13, 18], [13, 17], [13, 18], [13, 18], [13, 18], [13, 17], [13, 18], [13, 18], [13, 18], [13, 17], [13, 18], [3, 17], [0, 16], [0, 11], [-1, 7], [-11, 47], [1, 0], [-1, 1], [8, 16], [8, -12], [2, 4], [2, 13], [2, 21], [2, 28], [1, 31], [0, 34], [1, 94], [0, 14], [0, 7], [0, 6], [-1, 6], [0, 6], [0, 5], [-1, 5], [-1, 9], [0, 6], [0, 4], [-1, 4], [0, 5], [0, 3], [-1, 10], [-1, 10], [-4, 23], [-2, 13], [5, 25], [1, 3], [0, 1], [-1, 10], [-3, 11], [-1, 14], [-1, 3], [0, 1], [-1, -1], [-1, -5], [0, 13], [0, 23], [0, 23], [-1, 16], [-1, 21], [-1, 16], [-5, 34], [0, 4], [-14, -3], [-14, -3], [-13, -3], [-3, 4], [-2, 12], [4, 25], [-3, 20], [1, 6], [4, 9], [11, 10], [11, 9], [11, 10], [2, 3], [0, 6], [2, 39], [1, 19], [0, 8], [2, 16], [0, 9], [0, 14], [0, 26], [-1, 19], [-2, 12], [-7, 40]], [[3775, 3409], [4, 0], [3, -6], [11, 6], [3, -7], [9, 18], [9, 19], [6, -6], [11, 11], [5, 23], [10, 10], [1, -2], [0, -5], [1, -6], [-1, -7], [1, 1], [1, 14], [1, 4], [2, -6], [2, -4], [0, 3], [0, 3], [1, 3], [0, 2], [1, 3], [2, 0], [3, 8], [8, -5], [12, -41], [10, -12], [9, -11], [10, -11], [-2, 8], [-1, 8], [2, -2], [4, -13], [4, 6], [2, -3], [1, 4], [10, -11], [10, -11], [0, -1], [-1, 0], [1, -8], [12, -2], [11, -3], [12, -3], [11, -3], [12, -3], [0, 3], [0, 1], [1, 7], [0, -2], [0, -5], [0, -5], [-1, -9], [-6, -62], [0, -3], [0, -9], [0, -3], [-1, -7], [0, -9], [-2, -40], [0, -4], [0, -8], [-1, -3], [0, -9], [-1, -10], [0, -11], [1, -24], [0, -23], [0, -11], [2, -30], [3, -17], [11, -22], [11, -22], [11, -22], [11, -21], [11, -22], [2, -7], [1, -13], [-1, -1], [0, -2], [-1, -7], [13, -17], [13, -17], [13, -17], [12, 16], [12, 17], [13, 16], [12, 16], [12, 17], [1, -2], [0, -3], [0, -7], [0, -3], [2, 5], [1, 2], [0, 2], [0, 8], [1, 2], [4, 14], [2, 1], [1, -4], [1, -15], [0, -2], [0, -3], [-1, -4], [0, -6], [6, 7], [1, -10], [-2, -16], [-12, -35], [-3, -15], [0, -13], [1, -5], [13, 11], [6, -6], [-1, -11], [0, -5], [1, -5], [1, 3], [5, 21], [1, 1], [1, -6], [-10, -46], [-11, -46], [-10, -45], [0, -12], [13, -8], [14, -8], [14, -8], [14, -7], [13, -8], [14, -8], [14, -8], [14, -8], [13, -7], [14, -8], [14, -8], [14, -8], [13, 32], [-1, -6], [0, -6], [0, -7], [0, -8], [0, -5], [0, -4], [-1, -6], [2, -9], [1, -2], [3, 3], [5, -5], [1, 1], [2, 5], [1, 1], [0, -3], [1, -4], [11, -14], [11, -14], [12, -14], [-2, -6], [-5, 1], [-2, -8], [0, -2], [0, -5], [1, -2], [-3, -10], [-10, -4], [-11, -5], [-11, -4], [-1, -5], [-3, -24], [-1, -3], [-14, -2], [-13, -2], [-14, -2], [-13, -1], [-1, -3], [-2, -10], [-1, -2], [-13, -4], [-14, -4], [-14, -3], [-13, -4], [-14, -4], [-14, -3], [-13, -4], [-2, -6], [-1, -13], [2, -9], [2, -14], [-4, 0], [-1, -1], [0, -2], [0, -6], [-1, -2], [-12, -2], [-13, -2], [-12, -2], [-1, -5], [10, -37], [10, -36], [4, 0], [1, -5], [2, -15], [-2, 1], [-3, 10], [-10, 5], [-11, 5], [-11, 5], [-10, 6], [-13, -26], [-12, -26], [-4, 6], [-2, -1], [-8, 16], [-1, 0], [1, -12], [7, -15], [-8, -29], [-13, 0], [-13, 0], [-14, 0], [-13, 0], [-3, -16], [7, -23], [-7, -22], [-7, -22], [-1, -6], [0, -1], [0, -4], [0, -8], [-1, -3], [-1, -4], [-1, -13], [-3, -9], [0, -3], [-1, -9], [0, -5], [-12, -7], [-3, -8], [-1, -10], [0, -16], [-6, 15], [-1, -6], [-2, -22], [-2, -10], [-4, -1], [0, -2], [-2, -12], [0, -2], [-1, 0], [-3, 5], [-1, 4], [-2, 19], [-6, 8], [1, 2], [0, 2], [1, 5], [-11, 20], [-11, 20], [-4, 0], [-6, 20], [-1, 4], [0, 2], [0, -2], [-1, -5], [0, -6], [2, -3], [-2, -7], [-3, 0], [-8, -22], [-9, -22], [-2, -11], [-1, -1], [-1, 0], [-4, -10], [0, -2], [-1, -12], [-7, -24], [-8, -23], [-4, 7], [-10, -17], [-1, 7], [1, 3], [1, 5], [-5, -11], [0, -3], [-1, -16], [-1, -3], [-13, -55], [-3, -28], [-1, -4], [0, -2], [-1, -3], [0, -8], [0, -3], [0, -1], [-1, 0], [0, -1], [-1, -2], [0, -3], [0, -4], [0, -4], [0, -3], [-1, -7], [-1, -21], [-1, -7], [1, -2], [0, -4], [1, -10], [-1, -14], [-2, -4], [-6, -8], [0, -3], [-2, -17], [1, -6], [-7, -31], [-8, -31], [-3, -5], [-2, -15], [-1, -3], [-3, -6], [-1, -3], [-1, -7], [-1, -12], [0, -8], [0, -7], [0, -4], [1, -14], [0, -8], [-1, -10], [-1, -8], [2, -7], [0, -4], [0, -5], [1, -8], [0, -9], [0, -5], [-3, -8], [-2, -13], [0, -5], [0, -10], [-1, -5], [-9, -43], [-9, -44], [-2, -6], [-2, 7], [2, 7], [0, 5], [1, 7], [0, 6], [0, 13], [0, 5], [0, 3], [1, 4], [0, 5], [0, 6], [-2, 7], [-1, 1], [-2, -5], [-3, -29], [-7, -31], [-13, -35], [-14, -36], [-1, 2], [-4, 38], [-3, -4], [-4, -19], [-2, -24], [0, -5], [-1, -1], [-13, 24], [2, 4], [0, 4], [0, 8], [-5, 19], [-1, 13], [10, 48], [6, 39], [1, 7], [0, 9], [0, 10], [1, 8], [2, 14], [-2, -8], [0, 8], [0, 6], [0, 5], [1, 4], [-2, 5], [-2, 23], [-2, 11], [0, 5], [-1, 7], [0, 8], [0, 8], [0, 6], [0, 13], [-1, 3], [-11, -20], [-10, -20], [-1, -5], [-3, -24], [-1, -6], [-1, -3], [-1, 1], [-2, 12], [-1, 0], [-2, -4], [-1, 0], [-1, 3], [-1, 4], [0, 9], [4, 6], [5, 18], [-3, 0], [0, 2], [0, 5], [0, 3], [0, 13], [-2, 2], [-13, -2], [-8, 15], [0, -1], [0, -2], [-1, -9], [0, -1], [-4, 14], [-12, -10], [-11, -9], [-12, -10]], [[4053, 2831], [2, 7], [2, 17], [-2, 21], [-14, 29], [-14, 29], [-14, 28], [-3, -1], [-2, -7], [-3, -22], [-1, -8], [-11, -13], [-12, -13], [1, -4], [0, -6], [1, -7], [0, -8], [0, 2], [-3, 3], [-5, 35], [-1, 5], [2, -38], [3, -18], [13, -5], [12, -5], [12, -5], [13, -6], [12, -5], [12, -5]], [[4106, 2683], [1, 4], [-1, -1], [-1, 2], [0, 7], [0, 8], [0, 3], [7, 5], [1, 5], [0, 13], [0, 5], [-8, 21], [-2, -1], [-2, -5], [-2, -8], [-1, -1], [0, -3], [1, -2], [0, -3], [0, -5], [0, -2], [-1, -4], [0, -2], [0, -6], [0, -4], [0, -2], [0, -2], [-1, -1], [-1, 1], [-1, -2], [1, -6], [1, -1], [0, -2], [-1, -4], [-2, -3], [3, -6], [9, 2]], [[4165, 2551], [-3, 5], [-3, 22], [3, 4], [2, 10], [1, 2], [1, 0], [2, -8], [1, -4], [0, -12], [1, -5], [0, -3], [2, -5], [3, -1], [0, 2], [2, 8], [-4, 28], [-4, 18], [-10, 18], [-11, 19], [0, 2], [-1, 11], [-1, 6], [0, 14], [-1, 5], [-1, 5], [-1, -1], [-1, -6], [-2, -10], [1, -2], [0, -2], [0, -1], [1, -4], [0, -8], [0, -3], [1, -7], [0, -4], [9, -21], [8, -22], [-2, -7], [-2, -1], [-3, 6], [-5, -2], [-12, 17], [-1, 3], [0, 4], [-2, 15], [-7, 28], [-4, 29], [-1, 5], [-4, 3], [-7, -9], [-1, -7], [0, -1], [1, -7], [1, -2], [1, -2], [-1, -4], [-5, -6], [5, -2], [0, -2], [0, -2], [1, -7], [0, -3], [1, -2], [1, -4], [0, -5], [-1, -3], [-5, -18], [1, -5], [2, 0], [5, 9], [3, -4], [-1, -4], [-3, -7], [0, -3], [-1, -4], [1, -3], [3, -3], [5, -19], [10, -7], [9, -6], [5, -15], [1, 0], [0, 2], [1, 6], [0, 6], [-1, 4], [0, 1], [1, 5], [3, 2], [0, -1], [0, -2], [0, -5], [0, -5], [0, -4], [1, -4], [5, -10], [1, -5], [-1, 0], [-1, -4], [-4, -2], [1, -10], [2, -4], [5, 6], [6, 19], [-1, 2], [0, 7], [0, 2], [-1, 1]], [[3304, 5438], [1, 1], [1, -4], [2, 1], [1, -1], [0, -9], [0, -6], [0, -3], [1, 0], [0, -2], [0, -4], [0, -5], [0, -4], [1, -27], [1, -6], [1, -5], [1, -6], [0, -12], [0, -11], [0, -11], [-1, -11], [0, -1], [0, -1], [0, -4], [-1, 1], [-3, -5], [-6, -27], [-6, -14], [-5, 1], [-5, 15], [-6, -15], [0, 1], [-1, 8], [0, 1], [1, 3], [0, 1], [0, 10], [-1, 6], [-1, 4], [-1, 7], [2, 0], [3, -5], [1, 1], [1, 5], [2, 24], [0, 5], [3, 3], [-1, -10], [0, -8], [1, -6], [1, -4], [0, 1], [1, 5], [1, -2], [-1, -2], [0, -3], [0, -4], [0, -5], [2, 2], [5, 19], [3, 22], [1, 14], [1, 16], [0, 14], [-1, 5], [-8, -2], [0, 6], [-1, 11], [-1, 6], [-1, 2], [-8, -13], [-3, 6], [6, 18], [2, 11], [-5, 19], [-1, 12], [3, 9], [1, 2], [3, -5], [3, 10], [1, -4], [1, -5], [0, -5], [0, -5], [0, -4], [1, -3], [3, -15], [5, -4]], [[3324, 9968], [-1, -1], [0, -4], [0, -5], [0, -5], [0, -5], [0, 1], [0, 5], [0, 5], [-1, 7], [-1, 33], [2, -3], [0, -3], [2, -16], [0, -3], [-1, -6]], [[4035, 3628], [0, -9], [-1, -8], [2, -2], [1, -6], [0, -14], [5, -14], [0, -3], [0, -8], [-1, -4], [-2, 3], [-2, -3], [-11, 14], [-1, 11], [-1, 7], [-1, 16], [5, 15], [4, 2], [1, -3], [0, 1], [0, 3], [0, 1], [1, 6], [1, -5]], [[4708, 6878], [1, -5], [0, 1], [1, -13], [2, -6], [4, -4], [3, -11], [2, -11], [1, -16], [-1, -17], [-2, -13], [-7, -28], [-7, -28], [-1, -13], [-2, -18], [0, -13], [-1, -10], [1, -9], [2, -25], [1, -10], [0, -13], [-2, -15], [-2, -9], [-3, -4], [-3, 4], [-2, 8], [-1, 6], [-4, 39], [-2, 14], [-2, 7], [-7, 3], [-1, 4], [-1, 8], [-1, 18], [0, 13], [1, 11], [1, 14], [1, 4], [5, 34], [0, 4], [0, 5], [0, 5], [0, 5], [0, 10], [0, 3], [1, 7], [9, 47], [2, 4], [0, -2], [1, -3], [1, 10], [1, 2], [5, -3], [-4, 11], [1, 10], [2, -1], [2, -10], [5, -1]], [[4673, 6530], [6, -24], [8, 3], [8, 3], [2, -6], [1, -12], [-2, -25], [0, -10], [0, -6], [0, -7], [0, -8], [0, -7], [0, -6], [-1, -15], [0, -2], [0, -2], [0, -2], [0, -2], [0, -1], [-1, -4], [-1, -12], [-2, -6], [0, -4], [0, -6], [1, 1], [1, 0], [0, -6], [-2, -7], [0, -2], [-1, -7], [-3, -9], [-1, -6], [1, -4], [0, -2], [0, -4], [0, -2], [-3, -12], [-1, -4], [1, -3], [2, 7], [1, -1], [0, -6], [0, -6], [-1, -6], [0, -2], [0, -6], [0, -6], [0, -4], [0, -4], [-2, -4], [0, -3], [0, -9], [0, -4], [-1, -2], [0, -4], [0, -2], [0, -7], [2, -4], [0, -8], [-1, -17], [0, -8], [0, -6], [-1, -4], [-2, -12], [-1, -2], [-1, 1], [-10, -23], [-10, -24], [-2, -10], [0, -1], [-2, 4], [-1, 1], [0, -3], [-2, -11], [-1, -1], [-1, 0], [-8, -33], [0, -3], [0, -4], [0, -6], [-1, -6], [0, -4], [0, -1], [-1, -1], [0, -3], [-1, -8], [0, -2], [-1, -1], [0, -3], [-1, -5], [-2, -19], [-1, -5], [-1, -2], [-2, -1], [-1, -2], [-1, -10], [-1, -2], [-2, 2], [-1, -7], [-1, 0], [-2, 10], [-1, 13], [-1, 3], [-4, 3], [-3, 7], [-3, 16], [-5, 13], [-4, 1], [-1, -2], [-1, -5], [1, -9], [2, -8], [2, -9], [0, -4], [0, -6], [0, -9], [0, -5], [1, -4], [1, -6], [4, -29], [4, -38], [-2, -4], [0, -10], [-1, -13], [-1, -11], [1, -6], [1, -7], [1, -7], [-1, -3], [-1, -7], [-1, -1], [-1, 2], [-1, -4], [-1, 1], [-2, 6], [-1, 1], [-1, -2], [-1, -3], [0, -7], [-1, -2], [-1, 7], [-1, -14], [-1, -2], [0, 3], [-1, 18], [-3, 19], [-8, 19], [-3, -5], [-5, 4], [-1, -1], [0, -3], [-1, -9], [0, -4], [-5, -5], [-3, 6], [-1, -1], [-2, -11], [-6, -18], [-1, -5], [-2, -21], [-1, -10], [1, -12], [0, -13], [0, -12], [0, -6], [-13, -53], [-3, -27], [0, -7], [-1, -9], [1, -13], [-1, -10], [0, -11], [-1, -14], [0, -16], [0, -16], [1, -9], [1, -5], [1, -8], [3, -4], [1, 1], [1, 5], [11, -20], [2, -6], [1, -12], [-1, -10], [-1, -4], [-8, -8], [-6, -22], [-1, 1], [-2, 10], [-1, -4], [1, -10], [1, -5], [6, 0], [0, -3], [2, -14], [0, -4], [14, -5], [12, 36], [13, 35], [1, 9], [1, 1], [0, -4], [1, -11], [0, -8], [1, -5], [1, -2], [5, 1], [2, -8], [-1, -15], [-1, -9], [-3, -13], [0, -3], [0, -11], [0, -4], [0, -2], [-1, -5], [-1, 0], [-3, -7], [0, -4], [-1, -6], [-1, -21], [-1, -8], [-4, -10], [0, -3], [-1, -8], [-1, -2], [-2, 2], [0, -3], [0, -3], [-1, -9], [0, -4], [0, -1], [0, -1], [-1, -6], [-1, -3], [0, -3], [0, -3], [0, -3], [0, -3], [-2, -2], [-1, -3], [0, -4], [0, -13], [0, -4], [0, -5], [0, -2], [0, -4], [0, -15], [1, -9], [2, -11], [-10, -19], [0, 1], [-1, -1], [0, -1], [0, -10], [-1, -4], [-3, 1], [-5, 25], [-9, 17], [-9, 17], [-12, -7], [-12, -7], [-2, -6], [-2, -10], [-1, -16], [1, -21], [0, -3], [-1, -6], [0, -3], [1, -3], [0, -4], [0, -7], [1, -7], [-1, -2], [-1, -16], [0, -16], [0, -5], [-1, 4], [-1, 0], [-3, -15], [-3, -8], [-1, 1], [0, -3], [0, -10], [0, -4], [0, -7], [1, -3], [0, -5], [0, -3], [0, -2], [1, 0], [0, -2], [0, -6], [1, -9], [0, -6], [0, -5], [1, -5], [-1, -7], [0, -3], [-2, -2], [-2, -10], [-1, -4], [0, -8], [-1, -5], [-1, -7], [-1, -6], [-1, -9], [0, -10], [1, -7], [-1, -5], [-1, -3], [-1, -5], [0, -9], [-1, -2], [-1, 4], [-2, -7], [0, -5], [-1, -7], [-1, -4], [0, 1], [-1, 2], [-1, -1], [0, -14], [0, -25], [-1, -21], [-1, -5], [-2, 4], [0, -1], [-1, -5], [0, -4], [0, -12], [0, -5], [-1, -6], [0, -3], [-1, -2], [0, -1], [-2, 3], [0, -2], [-1, -10], [1, -7], [1, -4], [0, -1], [1, -3], [1, -10], [2, -5], [1, -4], [0, -5], [2, -14], [0, -9], [1, -14], [0, -5], [8, -21], [-5, -10], [-1, 0], [-2, 7], [-1, 1], [-1, -1], [-1, -8], [-1, 0], [-9, 19], [-1, -5], [3, -18], [-1, -11], [-1, -3], [-7, 9], [0, -11], [0, -12], [-3, 9], [0, -1], [-1, -5], [0, -1], [-6, 3], [-2, 6], [-1, -1], [-1, -9], [-1, -1], [-8, 19], [-9, 18], [-1, -4], [-2, -8], [-6, -15], [0, -6], [0, -11], [0, -7], [2, -16], [0, -5], [-1, 0], [-1, 6], [-1, 2], [-1, -1], [-1, -9], [-1, -5], [-2, 2], [-2, -6], [-2, -17], [-3, -12], [-2, -5], [-12, 21], [-2, -14], [-1, -4], [-2, 0], [-5, 13], [0, -2], [-1, -10], [-6, 30], [-1, -3], [0, -9], [-1, -3], [0, -1], [-4, 17], [-1, -1], [-1, -15], [-1, -4], [-1, -3], [-2, 0], [-3, -9], [-7, 2], [-2, -3], [-1, -1], [0, -2], [-1, -6], [-1, -4], [-13, -5], [-13, -4], [-3, -11], [-11, -19], [-12, -18], [-11, -19], [-11, -18], [-5, -20], [-3, -6], [-2, -5], [-2, -17], [-1, -5], [-3, -6], [-2, -17], [-1, -3], [0, 4], [0, 5], [0, 6], [1, 22], [0, 9], [0, 3], [0, 3], [-1, 6], [0, 9], [0, 9], [0, 9], [0, 11], [-1, 7], [-4, 36], [-8, 41], [-10, 22], [-1, 2], [-2, 15], [-2, 6], [0, 5], [0, 9], [0, 6], [3, 21], [1, 1], [1, -1], [1, 2], [1, 7], [5, 9], [3, 12], [11, 12], [11, 12], [1, 3], [2, 18], [1, 4], [1, 5], [1, 4], [2, 24], [1, 4], [9, 24], [8, 25], [1, 8], [3, 32], [0, 5], [0, 4], [1, 6], [0, 8], [0, 10], [0, 9], [0, 8], [0, 7], [1, 9], [1, 15], [2, 10], [1, 6], [-1, 11], [-1, 6], [-5, 9], [0, 4], [-3, 24], [0, 6], [-1, 9], [0, 8], [0, 8], [0, 5], [-6, 26], [-2, 0], [2, 12], [7, 19], [0, 5], [1, 24], [1, 8], [0, 10], [-1, 5], [0, 3], [0, 4], [0, 4], [0, 4], [0, 5], [0, 10], [0, 9], [-2, 13], [0, 12], [-1, 15], [-2, 13], [-2, 8], [0, 3], [0, 4], [-1, 12], [0, 2], [-3, 2], [0, 3], [-1, 6], [0, 9], [1, 10], [0, 8], [1, 12], [0, 7], [0, 9], [0, 11], [1, 4], [13, 32], [13, 32], [3, -3], [9, 20], [2, 16], [1, 9], [1, 4], [1, 2], [0, -2], [1, -9], [1, -3], [1, 3], [3, 12], [1, 0], [1, -5], [0, -13], [1, -4], [1, -1], [1, 5], [1, -1], [3, -10], [0, -3], [0, -6], [0, -5], [0, -3], [1, -4], [0, -4], [-1, -5], [1, -5], [0, -5], [-1, -6], [0, -7], [1, -4], [0, 2], [1, 6], [1, 15], [0, 4], [3, 3], [1, -1], [1, -5], [1, 9], [1, -14], [2, -27], [1, -15], [1, -15], [0, -3], [0, -2], [0, -2], [0, -3], [0, -3], [0, -2], [1, -3], [0, -5], [1, -2], [1, 0], [2, -4], [2, 3], [1, 4], [0, 1], [1, -3], [0, -5], [0, 10], [1, 6], [2, 8], [0, -2], [1, -6], [0, -7], [1, -6], [0, -1], [1, 1], [1, -1], [0, -4], [1, -11], [0, -5], [3, -13], [2, -8], [4, -2], [1, -5], [0, 2], [-1, 8], [1, 5], [0, 6], [0, 5], [0, 4], [1, 6], [2, 9], [1, 7], [0, 11], [0, 4], [0, 3], [0, 1], [-1, 5], [7, 11], [12, -9], [5, -18], [1, -9], [2, -12], [1, -11], [0, -14], [2, -66], [1, -13], [0, -4], [0, -3], [0, -7], [0, -4], [1, -11], [1, -6], [7, -13], [2, 1], [1, 5], [0, 3], [1, 3], [1, 13], [0, 4], [0, 4], [0, 4], [0, 16], [-1, 15], [0, 14], [-1, 11], [-4, 43], [-1, 13], [-1, 31], [-1, 13], [0, 5], [0, 6], [1, 6], [0, 6], [0, 5], [0, 8], [0, 4], [0, 6], [1, 3], [0, 5], [1, 9], [-1, 10], [0, 8], [0, 8], [1, 15], [0, 5], [0, 6], [0, 5], [0, 9], [1, 8], [1, 12], [-1, 17], [0, 9], [0, 12], [1, 10], [0, 8], [0, 9], [-1, 10], [0, 9], [-1, 7], [-1, 5], [-1, 3], [0, 3], [0, 3], [0, 3], [-1, 2], [1, 0], [1, 1], [0, 2], [1, 5], [0, 11], [0, 10], [0, 9], [2, 52], [1, 19], [1, 17], [1, 14], [1, 12], [6, 35], [4, 38], [4, 22], [0, 7], [-1, 9], [0, 11], [1, 8], [2, 14], [2, 10], [3, 35], [2, 6], [4, 3], [1, 5], [-1, 9], [-1, 15], [4, 34], [4, 21], [11, 20], [12, 20], [3, -5], [1, 0], [-1, -6], [1, -1], [1, 2], [1, 0], [-1, -9], [1, -1], [1, 4], [0, -8], [0, -3], [1, 0], [1, -3], [-1, -9], [1, -3], [5, 10], [2, 10], [2, 5], [0, 5], [0, 3], [0, 3], [0, 1], [0, 6], [1, 3], [1, 1], [-2, 9], [10, 11], [10, 11], [10, 12], [0, -2], [1, -3], [0, -3], [0, -7], [1, -7], [0, -19], [1, -25], [1, -20], [2, -13], [2, -8], [3, -1], [2, 11], [0, 14], [-1, 12], [-1, 20], [-3, 51], [-1, 7], [0, 5], [-1, 3], [-1, 1], [0, -2], [0, -1], [0, 8], [0, 5], [0, 8], [1, 6], [0, 3], [8, 23], [9, 22], [2, 9], [2, 0], [2, 8], [3, 30], [2, 6], [0, 7], [-1, 5], [1, 5], [4, -5], [3, 18], [1, 1], [2, -4], [1, 0], [12, 32], [13, 8], [3, 13], [7, 14], [8, 14], [2, -2], [1, -2], [0, -4], [1, -9], [0, -3], [1, -2], [0, -10], [7, 15], [2, -3], [-2, -22], [1, -17], [1, -14], [1, -11], [4, -20], [2, -7], [2, 2], [3, 14], [-1, 19], [-2, 13], [-2, 20], [-2, 15], [-2, 13], [-2, 0], [0, 8], [0, 3], [-1, 6], [1, 10], [8, 35], [-1, -1], [-8, -23], [-1, -1], [-1, 10], [1, 13], [6, 14], [3, 17], [3, 23], [1, 2], [2, 0], [7, 16], [1, 4], [1, 9], [1, 11], [0, 7], [2, -7], [6, -13]], [[3325, 9788], [2, -4], [2, 3], [1, 0], [1, -2], [0, -3], [0, -6], [0, -8], [1, -3], [0, -4], [1, -4], [-1, -11], [1, -9], [2, -11], [4, -4], [-2, -14], [2, -23], [2, -13], [0, -5], [0, -2], [-8, 26], [-1, 5], [0, 17], [-1, 3], [-3, 4], [-4, 17], [-1, 1], [-1, 0], [-1, -5], [-1, 0], [0, -1], [0, -2], [0, -3], [0, -3], [0, -1], [-11, 7], [-1, -6], [0, -3], [-1, 0], [-4, 25], [-2, 3], [-2, 15], [1, 6], [1, 0], [2, -5], [1, -1], [1, 11], [4, 60], [1, 10], [3, 16], [0, 14], [0, 1], [2, -15], [0, -5], [0, -4], [0, -3], [0, -3], [0, -3], [1, -5], [1, -12], [0, -5], [3, -10], [5, -23]], [[3293, 9751], [-4, -16], [0, -3], [0, -5], [0, -6], [0, -7], [1, -2], [0, -2], [1, -2], [-1, -1], [0, -1], [0, -2], [0, -3], [-1, 5], [0, 3], [-1, 0], [-2, 3], [0, 3], [-1, 9], [0, 1], [0, 2], [0, 7], [-1, 39], [0, 8], [1, 4], [5, -3], [1, -2], [2, -15], [0, -3], [0, -3], [1, -6], [-1, 0], [0, -2]], [[3277, 5854], [13, -34], [3, 6], [0, 2], [1, -17], [1, -5], [1, 0], [1, 3], [2, -2], [-1, -4], [0, -8], [0, -9], [1, -13], [2, -23], [1, -9], [1, -4], [3, -3], [0, 1], [1, 4], [0, 6], [0, 7], [1, 10], [0, 12], [0, 10], [1, 4], [1, -33], [0, -12], [0, -7], [0, -7], [0, -10], [1, -5], [1, -2], [1, 0], [0, 4], [1, 9], [0, 18], [1, 54], [1, 13], [0, 5], [3, -13], [1, -7], [0, -36], [2, -10], [3, 0], [1, 2], [-2, -13], [-6, -50], [-1, -7], [0, -7], [0, -12], [0, -8], [0, -6], [-1, -6], [-7, -41], [1, -6], [0, 1], [1, 3], [1, 1], [0, -3], [2, -17], [-1, -3], [-1, -1], [0, -3], [1, -3], [0, -4], [-1, -5], [0, 5], [-1, 3], [-1, -2], [-1, -2], [-2, -16], [-1, -5], [-5, 4], [4, 18], [0, 3], [0, 7], [-1, 4], [4, 12], [2, 12], [1, 21], [-9, 26], [-1, 1], [0, -1], [-2, -7], [0, 2], [-1, 4], [0, 8], [-1, 7], [-4, 9], [-1, 0], [0, -2], [-1, -3], [0, -5], [-1, -15], [0, -4], [-1, -3], [-2, 0], [-1, 4], [-1, 9], [0, 9], [0, 10], [0, 8], [0, 5], [-2, 12], [-2, 2], [-1, 3], [0, 3], [-1, 7], [0, 11], [2, 3], [5, -5], [3, -8], [1, 0], [-1, 19], [-1, 13], [-3, 11], [-2, 21], [-6, 14], [2, 3], [5, -10], [3, -11], [1, -8], [-1, 16], [-8, 32], [-1, 6], [-2, 21], [0, 1], [0, 3], [1, 5], [0, 3]], [[3313, 9226], [0, -3], [1, 7], [0, 12], [-1, 13], [1, 11], [1, -4], [0, -2], [1, 6], [0, -10], [0, -10], [0, -8], [1, -7], [0, -3], [1, -4], [1, -4], [0, -8], [0, -16], [0, -10], [0, -9], [0, -17], [0, -9], [1, -24], [0, -7], [0, -11], [-1, -4], [0, -6], [1, -3], [0, -16], [3, -32], [0, -4], [0, -12], [0, -8], [-1, -6], [0, -9], [0, -19], [0, -15], [1, -11], [2, -16], [2, -11], [3, -3], [0, -3], [0, -8], [0, -6], [-1, -9], [1, 0], [1, 1], [0, -1], [0, -5], [0, -7], [0, -7], [0, -5], [-2, -12], [-1, -17], [-2, -31], [-1, -9], [-3, -13], [0, -8], [0, -2], [2, 0], [1, -4], [0, -6], [0, -7], [1, -15], [0, -9], [0, -18], [0, -4], [0, -7], [0, -4], [0, -6], [0, -33], [0, -7], [0, -11], [-1, -4], [0, -5], [0, -5], [0, -7], [0, -3], [0, -2], [0, -6], [-1, -35], [-1, -9], [0, -2], [-1, -2], [0, -2], [0, -4], [0, -4], [0, -5], [-1, -4], [-1, -4], [-7, 1], [-2, -4], [-1, -8], [0, -14], [-2, -36], [0, -8], [0, -11], [0, -10], [0, -11], [1, -9], [0, -6], [1, 8], [0, -3], [1, -8], [0, -8], [1, -19], [1, -7], [0, -3], [3, -6], [1, -6], [2, -12], [-1, -7], [0, -7], [0, -16], [0, -11], [0, -6], [0, -4], [1, -7], [0, -10], [0, -7], [0, -6], [-2, -11], [0, -5], [-1, -13], [0, -16], [-1, -6], [0, -10], [0, -19], [0, -9], [-1, -16], [0, -9], [0, -11], [0, -8], [0, -7], [-1, -4], [0, -11], [0, -22], [0, -9], [0, -6], [1, -6], [1, -7], [0, -9], [-1, -12], [-1, -10], [-2, -13], [1, -8], [2, -12], [1, -8], [0, -7], [0, -4], [1, -4], [-1, -8], [0, -3], [-2, 7], [0, -6], [-1, -12], [0, -4], [-1, 7], [-3, 6], [-2, -2], [-1, -11], [0, -8], [3, -18], [3, -14], [0, -6], [0, -3], [1, -3], [0, -5], [0, -5], [-1, -3], [-1, -3], [0, -4], [1, -9], [0, -9], [1, -9], [1, -7], [0, -2], [-1, -29], [0, -10], [-1, -8], [0, -4], [-1, -4], [-6, -27], [-4, -44], [-5, -54], [-2, -18], [-1, -12], [-1, -21], [1, -11], [0, -6], [1, -10], [1, -4], [0, -7], [0, -4], [2, -12], [1, -5], [0, -6], [2, -32], [1, -7], [1, -8], [1, -5], [2, -2], [1, 2], [0, -1], [1, -4], [1, -10], [0, -4], [1, -4], [1, -5], [1, -28], [0, -6], [-1, -5], [0, -4], [-1, -3], [0, -4], [-9, -10], [-2, -9], [-1, -4], [-1, -3], [0, -4], [0, -5], [-1, -5], [0, -6], [0, -17], [1, -10], [1, -7], [1, -4], [1, -1], [2, 3], [2, 8], [0, 3], [2, -13], [1, -6], [0, -22], [0, -9], [0, -7], [0, -4], [0, -7], [0, -3], [1, -2], [0, -1], [1, -2], [0, -7], [1, -14], [1, -19], [4, -53], [1, -15], [1, -10], [0, -2], [0, -5], [0, -6], [0, -6], [0, -4], [1, -7], [1, -11], [0, -9], [0, -10], [0, -4], [-1, -7], [-6, -3], [-2, -4], [-2, -8], [0, -5], [0, -5], [0, -6], [0, -6], [0, -1], [0, -5], [0, -7], [0, -5], [2, -32], [0, -6], [1, -5], [1, -2], [3, 2], [1, 2], [0, -7], [0, -15], [0, -13], [0, -11], [0, -31], [0, -8], [0, -7], [0, -7], [0, 1], [-4, -4], [-2, -12], [-2, -17], [2, -20], [4, -15], [4, -7], [1, 4], [0, -9], [0, -6], [-1, -7], [1, -9], [0, -6], [0, -2], [1, -3], [0, -2], [0, -5], [1, -40], [0, -5], [1, -5], [2, -25], [0, -4], [-1, -5], [-1, -12], [0, -4], [0, -3], [-1, -2], [0, -2], [-1, -7], [0, -6], [0, -6], [1, -3], [0, -5], [0, -4], [0, -2], [-1, -2], [0, -7], [1, -18], [0, -7], [2, -22], [0, -3], [0, -5], [0, -2], [-1, -2], [0, -2], [0, -15], [1, -7], [0, -4], [4, -27], [1, -9], [0, -10], [0, -6], [0, -10], [-1, -2], [0, -1], [-1, -5], [1, -6], [1, -12], [0, -17], [0, -11], [-1, -6], [-1, -1], [1, -2], [0, -5], [1, -7], [0, -7], [0, -1], [-1, 1], [0, 5], [1, -18], [0, -9], [0, -9], [0, -4], [-1, -1], [0, -1], [-1, -5], [0, -6], [0, -6], [0, -5], [0, -20], [1, -14], [1, -11], [2, -8], [-2, -1], [0, -13], [0, -16], [2, -9], [1, 2], [0, -2], [0, -2], [0, -1], [0, -2], [0, -5], [1, -5], [0, -3], [0, -2], [3, -6], [2, -7], [0, -12], [1, -14], [5, -23], [0, -2], [0, -6], [0, -6], [1, -3], [0, -3], [0, -2], [0, -10], [-1, -17], [0, -12], [-1, -12], [0, -2], [0, -2], [-1, -2], [0, -3], [1, -7], [0, -3], [-1, -8], [-1, -3], [-1, -1], [-1, -4], [0, -7], [-1, -29], [0, -4], [0, -5], [0, -7], [0, -15], [0, -4], [0, -10], [-1, -11], [-1, -8], [-1, -6], [-1, 0], [0, -3], [-1, -6], [-2, -34], [-1, -18], [0, -10], [-1, -9], [-1, -6], [-1, -4], [-1, 1], [-2, 17], [-2, 11], [-1, 6], [0, 1], [-1, -6], [0, -8], [-1, -6], [-3, -21], [-1, -4], [-1, 11], [1, 7], [3, 38], [1, 7], [-1, 1], [0, 3], [0, 4], [0, 5], [1, 7], [1, 6], [1, 13], [1, 17], [0, 17], [0, 17], [0, 17], [0, 19], [-1, 13], [-2, 3], [-3, -2], [-4, -13], [-4, -3], [-1, -7], [0, -8], [-1, -17], [-1, -7], [0, -6], [-1, -2], [-1, 7], [-1, 3], [0, 5], [0, 10], [0, 6], [0, 6], [-1, 8], [-4, 10], [0, 12], [4, -4], [1, 7], [-1, 40], [0, 15], [-2, 1], [-1, -5], [-1, 0], [-1, 5], [-1, 12], [2, 7], [0, 1], [1, 4], [0, 4], [0, 4], [-2, 7], [0, 6], [-1, 11], [9, -23], [9, -5], [4, 9], [1, 8], [0, 11], [0, 10], [-1, 6], [-8, 2], [-1, 7], [4, 19], [1, 1], [2, -2], [1, -7], [1, 1], [0, 3], [1, 6], [-1, 6], [0, 6], [1, 7], [0, 8], [-1, 7], [0, 5], [-2, 13], [-2, 8], [-2, 1], [-3, -5], [-2, 2], [2, 18], [0, 2], [2, -4], [2, 4], [2, 8], [3, 7], [1, 6], [0, 14], [0, 18], [-1, 15], [0, 6], [-2, -6], [-3, -18], [-2, -3], [-3, 3], [-2, -2], [-2, -8], [0, -9], [0, -10], [1, -11], [0, -12], [0, -7], [-1, 2], [-3, 15], [-2, 27], [-2, 6], [-7, 9], [-1, -1], [-5, -21], [-6, -9], [-4, -12], [-1, 2], [-1, 17], [3, 22], [2, 6], [1, 5], [0, 9], [-5, 11], [-3, 13], [-1, 20], [8, 5], [7, 5], [2, 3], [2, 11], [7, 7], [5, -10], [7, 2], [0, 2], [0, 7], [0, 3], [1, 7], [-1, 3], [0, 3], [-1, 7], [2, 4], [-2, 16], [-1, 5], [0, 12], [0, 5], [2, 5], [0, -2], [1, -10], [0, -4], [2, -15], [3, -8], [1, 0], [1, 3], [1, 11], [-1, 8], [-1, 7], [0, 8], [1, 5], [0, 5], [0, 7], [-1, 7], [-2, 2], [-2, -4], [0, 3], [-1, 10], [1, 6], [0, 2], [1, 2], [-1, 6], [-3, 8], [0, 8], [-1, 6], [0, 6], [0, 4], [-1, 3], [0, 1], [-1, -1], [-2, -12], [0, -2], [0, -3], [0, -3], [0, -3], [-1, -6], [-7, -47], [-1, -2], [-2, 7], [-11, 3], [-1, 2], [0, 5], [-1, 10], [1, 0], [0, 7], [1, 1], [5, -4], [2, 2], [2, 11], [1, 3], [0, 6], [-1, 25], [4, 2], [1, 12], [0, 28], [4, -9], [2, 0], [3, 12], [2, 11], [1, 1], [-5, 20], [-1, 2], [0, 3], [-1, 11], [0, 4], [-1, 5], [1, 6], [2, -2], [7, -25], [2, 0], [1, 13], [-1, 16], [-1, 10], [-3, 9], [-2, 2], [-2, 6], [0, 12], [1, 4], [7, -8], [1, 6], [0, 19], [-1, 13], [-1, 9], [-3, 11], [-2, 2], [-1, 4], [0, 9], [1, 13], [0, 11], [-1, 3], [-1, -1], [-2, -6], [0, 3], [-1, 9], [1, 4], [1, 9], [0, 14], [1, 14], [0, 18], [0, 12], [-1, 6], [-7, 7], [-3, -4], [-1, -2], [0, -4], [-1, -5], [0, -13], [-1, -5], [-1, -4], [-3, 0], [-2, -3], [-1, 2], [0, 9], [-1, 8], [0, 7], [0, 6], [1, 6], [0, 5], [0, 14], [0, 7], [-1, 4], [-2, 7], [0, 4], [0, 6], [0, 6], [0, 6], [3, 2], [4, -9], [1, 1], [4, 14], [1, 6], [1, 12], [0, 10], [-1, 8], [-1, 7], [7, 14], [2, 14], [-1, 21], [0, 7], [-1, 4], [-1, 1], [-2, -4], [-11, 1], [-4, -24], [-2, -2], [-1, 7], [1, 10], [1, 11], [0, 12], [-1, 16], [0, 7], [-1, 3], [-5, 1], [-1, 4], [0, 7], [0, 18], [0, 8], [0, 3], [0, 2], [0, 4], [-1, 7], [1, 3], [2, 3], [1, 7], [-2, 12], [0, 6], [0, 10], [0, 2], [2, -5], [1, 3], [1, 0], [0, -3], [1, -9], [0, -2], [2, -1], [1, -3], [1, -4], [1, -13], [3, 20], [1, 9], [0, 11], [0, 10], [-2, 21], [-1, 9], [0, 15], [-1, 9], [-2, 10], [-2, 24], [-1, 3], [-2, 0], [-1, 2], [-1, 6], [1, 6], [0, 4], [0, 4], [1, 1], [-1, 5], [0, 11], [-1, 4], [-5, 23], [0, 6], [0, 4], [1, 10], [1, 3], [0, 4], [0, 12], [0, 4], [0, 5], [1, 5], [0, 6], [0, 10], [1, 7], [0, 12], [0, 13], [0, 12], [-1, 12], [0, 12], [1, 21], [-1, 10], [-1, 14], [-3, -3], [-1, 12], [-1, 23], [-1, 15], [-1, 10], [-1, 8], [-2, 2], [-4, -15], [-1, 2], [-1, 7], [-1, 15], [0, 11], [0, 11], [0, 9], [0, 6], [-2, 30], [0, 8], [-1, 5], [-1, -2], [0, -6], [-1, -4], [-3, -4], [-1, 5], [-1, 14], [2, 17], [1, 12], [0, 12], [0, 8], [0, 3], [-9, 3], [-5, 16], [-1, 0], [0, 2], [-1, 4], [0, 7], [0, 8], [0, 5], [2, 7], [5, -9], [5, 7], [1, 5], [-2, 6], [1, 10], [1, 2], [1, 9], [-3, 21], [-1, 11], [3, -2], [4, -20], [2, 10], [-2, 19], [-3, 12], [-12, 27], [-1, 20], [1, -1], [1, 1], [0, 3], [-1, 4], [0, 5], [0, 6], [0, 10], [1, 13], [1, 5], [0, 5], [1, 7], [1, 4], [6, 1], [1, 4], [3, 32], [1, 8], [1, 4], [2, 0], [1, -5], [4, -22], [1, -2], [1, 1], [0, 5], [1, 17], [1, 13], [-1, 6], [-12, 3], [-8, -18], [-8, -18], [-2, 0], [-1, -1], [-2, -19], [-2, -7], [0, -7], [0, -13], [-2, 7], [-1, -1], [0, -11], [1, -6], [1, -5], [1, -6], [-1, -8], [-3, 7], [-1, -4], [2, -15], [5, -20], [2, -19], [-1, -2], [-3, 5], [-1, 0], [1, -11], [2, -14], [1, -5], [0, -11], [-1, 1], [-6, 25], [-2, 19], [-2, 1], [1, -9], [1, -6], [0, -8], [-3, 9], [0, 1], [-1, -2], [0, -2], [-1, -1], [-1, 8], [0, 3], [-2, 20], [0, 6], [0, 8], [0, 4], [-1, 1], [-1, -3], [-2, -6], [-1, 0], [-7, 19], [-1, -2], [0, 1], [-1, 4], [0, 4], [0, 3], [-1, 2], [-2, -2], [0, 5], [0, 17], [-2, 3], [0, 2], [0, 5], [0, 7], [-1, 7], [1, 4], [3, 5], [0, 6], [1, 8], [3, 12], [2, 19], [1, 7], [-3, 19], [0, 2], [-1, -1], [-2, 2], [-6, -11], [-1, 2], [-1, 7], [0, 6], [-1, 9], [0, 9], [1, 4], [2, 5], [1, 5], [1, 4], [0, 6], [1, 7], [1, -2], [1, 9], [1, 11], [1, 4], [1, -1], [1, -8], [1, -2], [1, 3], [6, 29], [1, 9], [0, 5], [-1, 5], [1, 4], [0, 4], [-1, 11], [-1, 4], [0, 3], [0, -3], [0, -8], [0, -4], [-4, 1], [-1, 5], [2, 23], [0, 9], [-2, -7], [0, -3], [0, -10], [-1, -5], [-2, -19], [-3, -24], [-2, -4], [-2, 15], [0, 1], [-3, -10], [0, 1], [-1, 2], [0, 3], [0, 2], [-7, -11], [0, 10], [0, 8], [-1, 16], [1, 4], [2, -3], [1, 3], [0, 5], [1, 11], [0, 3], [1, 2], [2, -1], [4, 16], [1, 14], [-2, 13], [-1, 2], [-1, 0], [-1, 2], [-2, 17], [-3, 12], [-1, 14], [2, -1], [1, 2], [1, 6], [1, 16], [-1, 28], [0, 12], [1, 4], [5, 8], [0, 4], [0, 13], [1, 5], [-2, 6], [-1, 4], [0, 5], [0, 5], [0, 5], [0, 2], [0, 1], [-3, 13], [-1, 9], [0, 15], [-1, 3], [0, 5], [0, 6], [1, 5], [0, 4], [2, 3], [0, 4], [0, 8], [0, 18], [-1, 6], [-1, 5], [-1, 8], [1, 28], [0, -8], [1, -8], [1, -4], [1, 0], [0, 3], [1, 5], [0, 7], [0, 7], [0, 4], [-1, 10], [0, 7], [2, -14], [0, -6], [0, -7], [0, -8], [0, -7], [1, -16], [1, -8], [1, -1], [1, 4], [0, 2], [0, 9], [1, 2], [0, 1], [0, 1], [0, 1], [1, 14], [1, 4], [0, -2], [1, -12], [1, -6], [1, 2], [0, 10], [0, 6], [0, 3], [1, 9], [0, 3], [1, -2], [0, -3], [1, -9], [1, -3], [2, 2], [2, 10], [-1, 22], [-6, 12], [-2, 17], [3, 0], [2, 4], [1, 13], [0, -2], [3, 4], [2, 7], [-1, 9], [0, 6], [0, 9], [-2, 4], [-1, -2], [0, -7], [-1, -2], [0, 1], [-1, 6], [0, 8], [0, 7], [-1, 5], [-1, 7], [0, 4], [1, 14], [1, 10], [0, 10], [0, 10], [-1, 8], [-1, 14], [1, -2], [1, -4], [1, -12], [1, -9], [0, -9], [1, -7], [1, -3], [1, 0], [0, 2], [0, 4], [0, 20], [0, 5], [0, 11], [-1, 18], [-1, 11], [3, 12], [1, 9], [1, 14], [0, 2], [0, -1], [0, -1], [0, -1], [2, 9], [0, -37], [0, -9], [0, -5], [0, -6], [0, -10], [1, -5], [2, 3], [2, -6], [0, 13], [1, 16], [0, 7], [1, -2], [1, -3], [1, -13], [1, -6], [2, -20], [2, -4], [6, 9], [2, 10], [1, 17], [-2, 26], [0, 2], [1, 6], [0, 2], [-3, 23], [-2, 17], [-2, 4], [-3, 4], [0, 5], [-1, 11], [0, 6], [0, 3], [1, 2], [1, 3], [0, 12], [0, 9], [1, 9], [0, 3], [1, -4], [1, -16], [1, -4], [1, 2], [0, 3], [3, 4], [-1, 7], [0, 7], [0, 8], [0, 6], [-3, 14], [1, 12], [0, 8], [0, 6], [1, 3], [3, 3], [-3, 5], [-1, 8], [0, 13], [8, -6], [1, 1], [0, 11], [0, 5], [-1, 3], [-1, 9], [-3, 7], [0, 2], [1, 5], [0, 2], [-2, 1], [-2, 4], [-1, 9], [1, 4], [3, 1], [1, 5], [-2, 5], [0, 4], [1, 9], [-1, 5], [-1, 7], [4, -12], [2, 1], [1, 6], [0, 1], [0, -3], [1, -9], [1, -3], [0, -1], [1, 0], [0, -1], [0, -2], [1, -6], [0, -3], [0, -1], [2, 0], [0, -1], [0, -2], [1, -1], [0, 1], [2, 10], [0, 2], [1, -5], [0, -6], [0, -4], [0, -5], [0, -8], [0, -4], [1, -9], [0, -5], [0, -9], [7, -60], [1, -8], [1, -10], [0, -11], [0, -15], [0, -7], [0, -2], [1, -1], [0, -5], [0, -5], [0, -19], [1, -8], [3, -26], [1, -3], [1, 0], [2, 3], [0, 3], [1, 5], [0, 6], [1, 9], [0, 14], [-1, -6], [-1, -3], [-1, -2], [0, 11], [0, 8], [1, 15], [-3, 1], [-2, 6], [-1, 18], [1, 16], [2, 8], [3, 7], [-1, 32], [-2, 16], [-2, 12], [-2, 19], [0, 13], [1, 13], [1, 11], [1, 5], [5, 8], [0, 2], [2, 10], [0, 1], [2, -1], [2, 6], [1, 0], [1, -5], [1, -9], [1, -1], [4, 4], [0, -1], [1, -4], [0, -7], [-1, -9], [0, -14], [0, -3], [1, -6], [1, -13], [0, -2], [0, -2], [0, -2], [1, -31], [1, -13], [0, -12], [1, -10], [0, -5], [1, -1], [1, 2], [1, 7], [0, 7], [1, 25], [-1, 12], [0, 6], [0, 5], [0, 6], [0, 7], [0, 8], [-1, 10], [-1, 12], [0, 12], [0, 8], [0, 5], [1, 1], [4, -8], [0, -4], [2, -12], [1, -4], [-1, 13], [0, 19], [0, 19], [1, 12], [0, 7], [1, -4], [1, -9], [0, -7], [1, -2], [2, 3], [1, -2], [2, -11], [1, -9], [0, -11], [0, -16], [0, -12], [0, -12], [0, -13], [1, -7], [1, -3], [1, 1], [1, 4], [1, 8], [2, 27], [0, 6], [0, 6], [0, 8], [0, 4], [0, 10], [1, 6], [-3, 15], [-1, 11], [-1, 13], [1, 11], [0, 5], [2, 2], [0, 1], [0, 3], [1, 7], [0, 3], [2, -3], [0, -1], [0, -3], [0, -11], [0, -4], [1, -6], [2, -13]], [[3200, 8517], [1, -9], [0, -2], [-4, 8], [-1, 0], [0, -7], [0, -3], [0, -5], [0, -4], [0, -5], [0, -5], [-1, -1], [1, -4], [1, 2], [2, 12], [1, 1], [0, -2], [1, -5], [0, -6], [0, -4], [1, -1], [1, 3], [1, 4], [2, 20], [0, 4], [-5, 9], [-1, 0]], [[3265, 7766], [-2, -6], [-2, -14], [1, -20], [1, -22], [1, -23], [5, -45], [1, -21], [2, -23], [0, -10], [0, -4], [0, -6], [0, -4], [0, -3], [0, -2], [0, -3], [0, -4], [0, -3], [0, -2], [0, -3], [0, -4], [0, -10], [2, -20], [0, -10], [0, -5], [0, -4], [0, -5], [1, -5], [1, -2], [1, 2], [1, 4], [1, 6], [-1, 11], [1, 7], [0, 3], [1, 2], [0, 1], [-1, 10], [0, 4], [1, 6], [1, 9], [0, 2], [0, 3], [-1, 8], [0, 16], [1, 7], [1, -3], [1, 1], [0, 10], [1, 1], [0, 2], [1, 4], [0, 3], [0, 5], [-1, 6], [0, 5], [0, 5], [0, 3], [-1, 8], [-1, 5], [0, 6], [0, 7], [0, 6], [-1, 5], [-4, 38], [-1, 14], [-1, 13], [-3, 19], [-5, 18], [-2, 1]], [[3306, 6102], [1, -3], [3, 6], [1, 4], [0, 7], [-1, 8], [-2, 2], [0, -2], [-2, -13], [0, -9]], [[3291, 9492], [0, -1], [1, 0], [1, 5], [4, -11], [1, -6], [1, -20], [0, -6], [-1, 0], [-1, -1], [0, -13], [0, -12], [1, -12], [-1, -10], [5, -37], [2, -6], [1, -3], [2, -16], [2, -14], [-2, -2], [-1, 2], [-1, -1], [0, -5], [0, -43], [0, -10], [-1, -1], [-1, 1], [0, 2], [0, 3], [-1, 14], [0, 5], [-2, 20], [-1, 10], [-1, 4], [0, 1], [-2, -4], [-1, -6], [1, -11], [0, -13], [1, -8], [-1, -9], [0, -11], [0, -11], [1, -12], [-1, 0], [-7, 31], [-1, 1], [-1, -6], [0, -15], [1, -23], [1, -13], [0, -13], [-3, 10], [-1, 3], [0, 13], [-1, 5], [0, -2], [-1, -7], [-2, -6], [-1, 0], [-3, 10], [-6, 50], [-1, 5], [0, 7], [0, 6], [0, 16], [0, 5], [0, 3], [-3, 3], [1, 22], [0, 5], [0, 5], [0, 5], [-1, 6], [0, 6], [1, 9], [1, 5], [1, 2], [1, 2], [0, 11], [1, 4], [0, 2], [1, 3], [1, 5], [1, 7], [1, 9], [0, 13], [0, 8], [0, 4], [-1, 2], [0, 5], [0, 10], [0, 4], [1, 2], [0, 1], [3, 13], [1, -6], [1, -1], [3, 4], [1, 4], [1, 8], [0, 1], [0, 2], [1, 6], [0, 1], [1, -4], [0, -4], [0, -4], [1, -2], [2, -10]], [[4009, 3440], [1, -1], [0, 2], [0, 3], [0, 3], [0, 1], [0, -7], [0, -11], [1, -8], [0, -6], [0, -4], [-1, -1], [-4, 2], [-1, 2], [0, 1], [-1, -2], [0, -10], [0, -3], [0, -1], [-2, -1], [-1, -3], [-1, 6], [-2, 1], [2, 12], [1, 7], [0, 7], [0, 1], [1, 6], [3, 2], [1, 1], [0, 4], [0, 5], [1, 3], [1, -5], [1, -2], [0, -1], [0, -3]], [[1042, 4729], [-1, -2], [-2, -7], [1, -18], [1, -8], [0, -6], [0, -6], [0, -3], [-1, -2], [-1, 1], [-1, -1], [0, -2], [0, -4], [-1, -3], [0, -1], [-10, 6], [-10, 5], [-10, -18], [-10, -18], [-6, -1], [-1, -4], [1, -9], [3, -9], [5, -3], [1, -4], [1, -10], [-6, -8], [-1, -3], [0, -8], [0, -7], [1, -26], [-1, -7], [0, -1], [-2, -2], [-1, 5], [-2, 1], [-5, -15], [-9, 1], [-4, -16], [-4, -4], [-1, -5], [1, -7], [-11, 6], [-10, 6], [-7, -16], [-3, -24], [0, -3], [0, -8], [0, -3], [-2, -10], [0, -2], [0, -6], [0, -3], [-2, -6], [-1, -6], [-1, -12], [9, -41], [8, -42], [10, -27], [1, -3], [0, -4], [1, -12], [3, -27], [0, -12], [-10, -14], [-6, 10], [-2, 13], [-4, 4], [-2, -6], [-1, -1], [-4, 16], [0, 7], [-2, 18], [0, 5], [-1, -1], [-1, -5], [-1, -7], [0, -2], [-5, 22], [-5, 7], [-6, 20], [-1, 8], [0, -1], [0, 1], [1, 1], [0, 3], [-10, 23], [-9, 24], [-10, 23], [-2, 0], [1, 8], [1, 6], [1, 10], [1, 11], [-2, 26], [-2, 29], [-1, 8], [-1, 26], [0, 8], [-2, 21], [1, 9], [1, 4], [0, -2], [1, -5], [1, 9], [7, 5], [1, -8], [0, -3], [0, 15], [1, 1], [1, -1], [1, -6], [0, -3], [0, -9], [1, -3], [0, -1], [0, 3], [0, 5], [1, 5], [1, 7], [5, 2], [0, -5], [0, -1], [1, 3], [8, 3], [-1, -4], [2, -7], [1, 6], [3, 22], [3, 17], [10, 18], [0, 3], [1, 5], [1, 7], [0, 7], [3, 7], [0, -8], [-1, -4], [0, -6], [1, 5], [0, 1], [0, -7], [2, 9], [2, -1], [1, 4], [1, -2], [1, 1], [1, 4], [0, 5], [1, 2], [0, -4], [-1, -7], [0, -2], [1, -7], [3, -16], [9, -23], [8, -24], [4, 0], [0, 2], [1, 5], [1, 9], [-1, 2], [-1, 7], [-3, 25], [-1, 12], [-1, 5], [-8, 30], [-2, 3], [0, 5], [-1, 4], [0, 2], [1, 2], [0, 7], [-1, 9], [0, 6], [1, 2], [-1, 5], [2, 8], [5, 18], [1, -2], [0, -9], [0, -3], [-3, -10], [-1, -5], [0, -6], [0, -4], [1, 2], [2, 14], [2, 8], [0, 5], [1, 6], [0, 2], [1, 0], [0, -3], [0, -5], [0, -6], [0, -5], [1, 1], [2, 11], [0, -2], [0, -8], [1, -2], [3, 6], [5, -8], [5, 5], [-2, 3], [1, 4], [2, 0], [1, 1], [0, 4], [-1, 3], [1, 2], [3, -3], [5, 9], [8, -3], [-1, -5], [0, -2], [7, 1], [7, 1], [3, -6], [11, 21], [10, -21], [10, -21]], [[904, 4417], [0, -9], [3, -21], [-1, -1], [0, -3], [-1, 0], [1, -5], [9, -24], [1, -8], [-1, -4], [-1, -1], [1, -5], [7, -23], [1, -2], [2, 3], [1, 8], [0, 8], [-1, 19], [0, 7], [-4, 26], [-1, 3], [0, 5], [0, 5], [0, 5], [-1, 4], [-4, 15], [-8, 6], [-2, -3], [-1, -5]], [[1538, 5560], [0, -2], [0, -2], [1, -3], [-1, -1], [-4, -22], [-4, -10], [-1, -9], [0, -5], [0, -2], [0, -2], [0, -6], [0, -4], [1, -3], [0, -5], [-2, -6], [-2, 1], [0, 2], [-1, 5], [1, 2], [0, 2], [0, 7], [-1, 5], [-1, 4], [-1, 2], [-1, 3], [-1, 9], [-1, 2], [-3, 0], [-6, -15], [-2, -2], [-3, 8], [-2, 14], [-2, 13], [0, 15], [1, 9], [2, 1], [2, -6], [13, 8], [1, 3], [0, 6], [1, 9], [0, 10], [-1, 9], [3, -12], [8, -10], [7, -10], [-1, -2], [0, -10]], [[1074, 4734], [0, -18], [0, -9], [0, -6], [0, -2], [1, -2], [0, -1], [-1, -12], [1, -19], [2, -16], [11, -41], [4, -30], [-2, 2], [-1, -1], [4, -31], [-5, 3], [0, 2], [-1, 3], [-1, 12], [0, 2], [-11, 6], [-2, 5], [-1, -2], [0, -5], [0, -5], [-1, -1], [-2, 0], [-1, 2], [-1, 15], [-2, 12], [0, 5], [0, 13], [-1, 8], [-1, 13], [-4, 51], [-1, 8], [-1, 1], [-1, 29], [12, 11], [1, -3], [2, 0], [2, 9], [1, -8]], [[1230, 5094], [2, -10], [0, -7], [-1, -7], [0, -3], [0, -4], [-1, -3], [-4, -1], [0, 2], [-2, 11], [-2, 3], [1, 4], [3, 17], [1, 1], [1, -4], [0, 1], [1, 3], [1, 1], [-1, -6], [0, -1], [1, 1], [0, 2], [1, 1], [-1, -1]], [[778, 3784], [-2, -3], [-1, 2], [-1, 4], [0, 4], [-1, 17], [0, 3], [-1, 4], [-2, 5], [6, -4], [1, -4], [1, -3], [0, -5], [0, -12], [0, -3], [0, -5]], [[843, 4248], [11, -13], [11, -12], [11, -12], [7, 19], [3, 1], [2, 8], [13, 3], [13, 4], [13, -48], [5, -7], [1, -6], [0, -1], [-1, -4], [-1, -11], [1, -12], [1, -5], [2, 0], [1, -1], [3, -16], [2, -18], [0, -2], [0, -2], [8, -7], [8, -7], [2, -7], [2, -13], [-2, 0], [0, -1], [-1, -7], [0, -2], [-6, -14], [-2, 1], [-2, 5], [-1, -1], [-1, -6], [-1, -13], [1, -11], [1, -8], [1, -6], [2, -5], [6, 1], [0, -4], [1, -11], [0, -10], [-1, -6], [6, -23], [1, -5], [1, -9], [-1, 1], [-5, -11], [0, 1], [-1, 2], [0, 7], [0, 2], [-11, 15], [-11, 16], [-1, -6], [2, -13], [4, -14], [3, -4], [2, 2], [1, -2], [9, -37], [9, -38], [1, -5], [-5, -7], [-2, 6], [-1, -1], [0, -1], [0, -4], [0, -2], [-1, 0], [-4, 4], [-3, -4], [-1, 3], [0, 5], [-1, 3], [-1, -2], [-1, -11], [1, -12], [2, -17], [0, -1], [-1, -4], [0, -2], [1, -2], [1, -2], [1, -5], [-2, 1], [-1, -1], [-1, -6], [0, -1], [6, -3], [2, -8], [2, -20], [0, -3], [0, -3], [0, -3], [1, -3], [4, -13], [-1, -1], [0, -1], [0, -3], [-1, -3], [1, -1], [0, -3], [0, -2], [-1, -8], [-1, -1], [-8, 23], [-6, -1], [1, -5], [0, -3], [1, -1], [-2, -10], [-8, 10], [-1, -2], [-1, 0], [-1, 4], [-2, 27], [-11, 89], [-3, 9], [-8, -11], [0, -5], [0, -8], [1, -13], [-1, 0], [-1, -2], [-2, -12], [-3, -6], [-3, -15], [0, 1], [-2, 13], [-1, 4], [0, -4], [0, -8], [2, -21], [-1, -3], [-1, 6], [-2, 20], [0, 27], [-2, 24], [-9, 37], [-9, 38], [-8, 2], [-1, -4], [-1, -7], [0, -5], [-2, -24], [-1, -13], [0, -7], [5, -3], [-6, -11], [-1, -3], [0, -6], [-1, -9], [0, -13], [1, -6], [0, -2], [12, -20], [12, -20], [12, -20], [-1, -14], [-3, -4], [-4, 2], [-7, -16], [-8, -15], [-5, 3], [-2, -4], [0, -2], [1, -5], [0, -2], [0, -2], [3, -44], [-6, -16], [-2, 0], [-7, 24], [-8, 24], [-4, 0], [-4, -8], [1, -7], [0, -2], [-1, 1], [0, -1], [-1, -2], [7, -1], [1, -9], [1, -4], [2, -7], [0, -2], [1, -9], [0, -2], [2, -2], [1, -2], [1, -12], [0, -3], [-7, -7], [-3, -14], [-7, -9], [-3, 2], [-1, 2], [-1, 10], [-2, 6], [-4, 3], [0, 3], [-2, 15], [-1, 8], [-2, 14], [0, 4], [-13, 44], [-3, 15], [-11, 24], [-1, 11], [0, 2], [1, 4], [1, 11], [-4, 17], [-8, 8], [0, 9], [-4, 9], [0, 4], [1, 3], [-1, 10], [-7, 21], [-3, 17], [1, 6], [0, 6], [0, 5], [0, 3], [0, 2], [3, 20], [1, 2], [4, 0], [1, -2], [3, -16], [1, -2], [0, -8], [0, -4], [-1, -3], [0, -5], [2, 6], [1, 0], [5, -26], [1, 2], [0, -4], [1, -4], [9, -13], [9, -13], [9, -13], [3, 1], [0, 2], [1, 2], [0, 4], [1, 5], [-3, -1], [-1, 2], [-1, 3], [-1, 11], [-12, 45], [-4, 2], [-6, 9], [-1, 14], [4, 16], [1, 3], [1, 10], [2, 12], [-1, 1], [-4, -17], [-8, -13], [-4, 8], [0, 1], [0, 1], [0, 3], [0, 4], [-1, -1], [0, 1], [-1, 0], [0, 7], [2, 7], [1, 6], [-4, -13], [0, 5], [1, 8], [2, 13], [0, 2], [0, 3], [0, 2], [0, 8], [1, 1], [-1, 2], [3, 12], [0, 7], [-1, 3], [-3, -2], [1, 11], [1, 1], [2, -4], [1, 0], [1, 3], [11, 1], [4, -13], [-1, -6], [1, -2], [3, -11], [1, 0], [0, 2], [1, 3], [0, 3], [0, -1], [1, -8], [5, -15], [5, -25], [7, -2], [8, -2], [2, -4], [0, 1], [0, -3], [-1, -6], [3, -3], [11, -5], [2, 3], [1, 7], [-2, 10], [-1, 6], [-3, 3], [0, 4], [0, 4], [0, 4], [-1, 2], [0, 4], [1, 4], [0, 2], [0, 2], [-7, 43], [-2, 5], [0, 15], [-2, 8], [-4, 4], [-3, -5], [0, 2], [0, 1], [-4, -3], [-2, 9], [-2, 14], [0, 2], [0, 4], [-1, 3], [0, 2], [1, 0], [1, -3], [-1, 2], [0, 3], [-2, 9], [6, 5], [2, 5], [1, 5], [1, 8], [0, 3], [-1, 2], [1, 5], [0, 2], [0, 3], [-3, 10], [-6, -3], [6, 23], [2, 13], [3, 18], [0, 2], [-1, 2], [0, 2], [1, 3], [2, 4], [4, 16], [-10, -11], [-10, -12], [0, 1], [-1, 4], [-1, 5], [0, 7], [1, 9], [1, 7], [12, 17], [12, 18]], [[908, 4205], [0, -7], [1, -4], [0, -3], [0, -4], [0, -8], [0, 1], [-1, -5], [-1, 0], [0, -1], [0, -2], [1, -7], [-1, 0], [0, -2], [-1, -6], [2, -5], [0, -2], [0, -4], [1, -7], [0, -3], [6, -21], [3, -6], [2, 1], [1, 7], [-2, 8], [-1, 7], [-1, 2], [-1, 2], [2, 1], [0, 2], [-3, 10], [0, 3], [7, -11], [1, 1], [1, 4], [0, 1], [-1, 2], [0, 6], [-1, 6], [0, 3], [0, 3], [0, 4], [0, 4], [-4, 7], [-1, -1], [1, 2], [1, 9], [-1, 2], [-3, -6], [0, 1], [-1, 2], [-1, 7], [1, 0], [0, 1], [0, 3], [0, 3], [0, 2], [-2, 4], [-2, 0], [-1, -2], [-1, -4]], [[877, 4098], [-9, 11], [0, -2], [-1, -5], [0, -2], [0, -1], [-8, 6], [-7, 5], [-1, -2], [-1, -6], [-3, -17], [10, -34], [6, -6], [4, 5], [1, 2], [0, 2], [0, 8], [1, 2], [0, 2], [5, 4], [3, -2], [2, 4], [1, 13], [0, 5], [-3, 8]], [[913, 4050], [1, -8], [0, -3], [-1, -10], [2, -19], [1, -4], [0, -13], [-1, -9], [0, -2], [-1, -5], [2, -7], [2, -1], [13, 27], [2, 9], [0, 1], [0, 2], [0, 1], [0, 1], [0, 3], [0, 2], [0, 1], [0, 4], [0, 3], [0, 1], [1, 1], [1, -2], [0, -5], [1, 0], [-1, -2], [0, -1], [0, -1], [1, -9], [1, -4], [3, -9], [1, 1], [0, 3], [-1, 4], [0, 2], [0, 3], [-1, 12], [0, 3], [-1, 2], [0, 2], [0, 3], [-1, 3], [-11, 13], [-11, 14], [-1, -2], [-1, -5]], [[874, 3996], [-9, 13], [-10, 13], [-2, -7], [0, -5], [0, -4], [0, -5], [1, -5], [0, -3], [-1, -4], [0, -2], [1, -9], [0, -4], [9, -15], [12, 13], [1, 4], [1, 9], [-1, 0], [-2, 11]], [[876, 4128], [-10, 32], [-5, 2], [-4, -14], [0, -1], [6, -23], [4, -8], [0, 1], [1, -2], [1, -1], [4, 0], [1, 5], [2, 8], [0, 1]], [[896, 4139], [3, -6], [2, 2], [-2, 20], [-3, 18], [-4, 12], [-2, 0], [-1, -7], [0, -1], [0, -2], [0, -6], [0, -2], [0, -1], [7, -27]], [[844, 3835], [2, -7], [0, -4], [0, 1], [-1, 0], [-1, 4], [-1, 1], [-1, -5], [3, -17], [5, -21], [12, -7], [1, 2], [0, 4], [0, 5], [-8, 17], [0, 4], [0, 2], [0, 4], [0, 2], [-1, 5], [0, 3], [-2, 7], [-5, 5], [-3, -5]], [[855, 3752], [6, -12], [1, 1], [2, 8], [2, 7], [-7, 12], [-1, 0], [-3, -8], [0, -2], [1, -2], [-1, -4]], [[904, 3851], [2, -4], [1, 2], [1, 5], [0, 1], [0, 1], [0, 2], [-1, 2], [4, 8], [0, 3], [-1, 10], [-8, 13], [-1, -2], [-1, -9], [0, -4], [3, -10], [0, -1], [0, -3], [0, -3], [0, -2], [0, -2], [1, -2], [0, -3], [0, -1], [0, -1]], [[8877, 8989], [0, -2], [0, -3], [-1, -1], [-1, -9], [-1, -2], [-1, 0], [0, 4], [-1, 9], [1, 14], [3, 1], [1, -3], [0, -4], [0, -4]], [[703, 3935], [1, -3], [1, 1], [0, -4], [1, -1], [2, 1], [-1, -5], [0, -7], [0, -1], [0, -2], [0, -1], [0, -2], [1, -4], [9, -9], [4, 8], [0, 3], [0, 9], [0, 4], [0, 2], [0, 1], [-2, 6], [8, 2], [3, -13], [3, 2], [4, -8], [0, -4], [-1, -2], [1, -1], [0, -2], [0, -1], [0, -2], [-1, -3], [0, -3], [1, -9], [0, -6], [1, -3], [0, -4], [-1, -4], [1, -10], [9, -16], [1, 2], [0, 4], [0, 1], [1, 2], [0, 2], [0, 1], [-1, 6], [0, 6], [-1, 5], [3, 7], [1, -1], [0, 6], [0, 4], [1, 1], [13, -12], [1, -3], [0, -4], [0, -2], [-2, 1], [0, -5], [-1, -3], [0, -3], [1, -3], [0, -1], [0, 1], [0, -5], [0, -2], [-1, -1], [0, -3], [5, -1], [-1, -7], [0, -3], [0, -1], [-1, -1], [2, -6], [-2, -1], [-2, -7], [1, -11], [-1, -22], [0, -10], [-2, -9], [-1, -6], [0, -13], [1, -8], [0, -9], [-5, 5], [-1, 2], [-1, 7], [0, 2], [-1, 1], [-1, -1], [-1, -5], [0, -1], [-2, 4], [-2, 0], [-5, 12], [-8, 1], [-9, 1], [-1, 4], [-1, 9], [1, 5], [12, 4], [2, 8], [2, 21], [-6, 40], [-8, 10], [-8, 10], [0, 3], [-2, 11], [0, 4], [-6, 11], [-10, 0], [0, 3], [-2, 12], [0, 5], [-2, 4], [6, 18], [1, -1], [-1, -4]], [[8517, 9088], [0, -3], [-2, -11], [0, -2], [-1, 5], [-1, 1], [0, 4], [0, 9], [0, 15], [5, -15], [-1, -3]], [[676, 3972], [1, -4], [2, 1], [1, -3], [0, -11], [7, -13], [1, -4], [-1, -6], [0, -7], [-1, -7], [0, -11], [0, -1], [0, -6], [0, -7], [0, -3], [-1, 0], [-1, 2], [-3, -1], [-1, 3], [-2, 23], [-2, 11], [1, 2], [1, 0], [0, 4], [-1, 8], [1, 0], [-3, 17], [1, -1], [-1, 2], [0, 2], [0, 5], [0, 5], [1, 0]], [[635, 3970], [-1, -2], [2, 3], [0, -5], [-2, -7], [0, -5], [3, -8], [0, -6], [-1, -2], [0, -5], [1, -5], [2, -7], [1, 1], [-1, -5], [0, -5], [1, -10], [0, -3], [4, -10], [-1, -8], [1, -1], [2, -17], [1, -4], [5, -7], [2, -6], [-10, -28], [-2, 0], [0, -4], [0, -5], [0, -5], [-1, -3], [-2, 6], [0, -7], [-1, -1], [-1, 3], [-5, 24], [-2, 10], [1, 0], [1, 2], [0, 2], [-4, 11], [-3, 24], [-2, 7], [0, 4], [-1, 4], [0, 6], [0, 2], [0, 3], [1, 0], [-1, 2], [0, 1], [0, 1], [-1, 0], [1, 3], [2, 0], [0, 3], [-1, 9], [-2, 7], [-2, 11], [6, 20], [0, 6], [1, 1], [-1, 5], [4, 16], [3, 3], [2, -2], [0, -6], [0, -4], [1, -2], [0, -5]], [[1923, 5265], [-1, -1], [-1, 1], [0, 5], [-1, 9], [0, 3], [5, 20], [0, -3], [-1, -24], [0, -8], [-1, -2]], [[1837, 5416], [0, -6], [-1, 0], [-8, -26], [-2, 0], [-1, 9], [8, 44], [1, 9], [0, 9], [0, -2], [0, -5], [0, -3], [0, -3], [0, -6], [1, -8], [1, -6], [1, -6]], [[2226, 6434], [12, -3], [3, 6], [3, 0], [1, -8], [1, 0], [0, -1], [1, -2], [4, -24], [5, -15], [1, -9], [3, -38], [-1, -4], [-2, 1], [-2, 6], [-5, 4], [-1, 6], [-5, 36], [-5, 26], [-3, 6], [-1, 0], [-2, -4], [-1, -8], [-1, -29], [-1, -8], [-1, -4], [-3, -4], [-1, 1], [0, 8], [1, 16], [-2, 9], [-3, 3], [-12, -13], [2, 15], [2, 7], [8, 5], [1, 5], [2, 19], [-1, 2], [3, -7]], [[2284, 6353], [0, -11], [0, -23], [-2, -9], [-3, -2], [2, 21], [1, 2], [-4, 16], [-2, 3], [-2, -3], [-1, -4], [-3, -28], [-1, -2], [-1, -1], [1, 10], [0, 4], [1, 23], [0, 5], [1, 8], [0, 4], [0, 9], [0, 5], [-1, 4], [-1, 16], [5, 13], [2, 15], [2, 26], [2, -7], [4, -4], [-2, -5], [-1, -7], [1, -11], [0, -6], [0, -17], [-1, -19], [1, -15], [0, -5], [1, -2], [1, -3]], [[2555, 5971], [8, -15], [9, -15], [4, 0], [1, 2], [0, 3], [1, 2], [2, -6], [11, -9], [3, 6], [1, 0], [2, -6], [1, -3], [1, 0], [14, -44], [2, -1], [1, -2], [0, -1], [0, -2], [0, -3], [0, -3], [1, -12], [0, -3], [0, -3], [-1, -12], [0, -1], [1, -3], [0, -1], [-1, -6], [0, -4], [0, -3], [1, -3], [-3, -4], [-3, -12], [-2, -22], [-4, -15], [-1, -1], [-1, 3], [0, 5], [-1, 3], [-1, 0], [0, -2], [-1, -6], [-1, -18], [0, -8], [-1, -4], [-4, -6], [-2, -11], [-7, -6], [-3, 3], [-1, 5], [-2, 7], [1, 21], [-1, 11], [-1, 5], [-4, 4], [-1, 6], [-1, 14], [1, 4], [0, 3], [1, 5], [0, 9], [0, 5], [-1, 2], [-3, -13], [-1, -3], [-4, 4], [-5, -13], [-2, -13], [-1, -3], [-3, 5], [-1, 2], [-1, 9], [0, 3], [-1, 2], [-1, 1], [-1, -2], [-1, -4], [-3, -22], [-1, -2], [-1, 3], [-1, 10], [-2, 27], [0, 11], [-2, 7], [-2, 11], [-1, 4], [8, 39], [1, 8], [0, 15], [-1, 10], [0, 7], [0, 10], [1, 8], [1, 5], [2, 4], [3, 11], [2, 16], [0, 1], [3, -10]], [[2347, 6344], [1, -8], [2, -30], [0, -9], [1, -4], [0, -11], [0, -4], [1, -4], [-1, -2], [0, -1], [1, -8], [1, -4], [3, -8], [7, -40], [7, -39], [1, -3], [4, -4], [9, -28], [11, -8], [11, -8], [1, -6], [-1, -7], [0, -11], [1, -8], [1, -6], [1, -3], [1, 1], [1, 4], [1, 6], [1, 10], [0, 16], [-1, 6], [0, 1], [2, 4], [12, -19], [6, -28], [2, -1], [5, 15], [11, 2], [1, -2], [0, -6], [1, -1], [1, 4], [0, 1], [0, -11], [2, -18], [2, -42], [0, -13], [6, -55], [-2, -15], [-1, -6], [0, -5], [-1, -12], [0, -28], [0, -13], [0, -6], [0, -5], [-1, -20], [-1, -32], [1, -3], [3, -7], [5, 9], [5, 21], [3, 24], [3, 31], [2, 27], [0, 17], [1, 16], [0, 13], [-1, 10], [0, 7], [-1, 4], [-2, 3], [-1, -1], [-1, -5], [0, 7], [1, 7], [3, 36], [0, 6], [1, -4], [0, -1], [0, -1], [1, -2], [5, 29], [1, 5], [0, 6], [1, 6], [0, 5], [0, 2], [2, -1], [0, 3], [1, 9], [1, 3], [2, -1], [1, 2], [1, 8], [0, 15], [1, 13], [1, 2], [0, 2], [0, 2], [0, 3], [1, 14], [0, 3], [1, 8], [4, 3], [3, -13], [0, -8], [-1, -4], [-2, -1], [0, -2], [1, -4], [-1, -4], [0, -2], [1, -1], [0, -12], [0, -5], [1, -7], [7, -7], [1, -4], [1, -10], [1, -3], [1, -3], [2, -16], [5, -26], [1, -17], [1, -21], [0, -9], [-1, -26], [0, -10], [1, -6], [1, -4], [0, -3], [0, -6], [-1, -6], [0, -3], [-4, -28], [-1, -10], [0, -12], [0, -12], [1, -11], [-1, 2], [-5, -7], [-2, 8], [-6, -18], [-2, -1], [-2, 8], [-2, 0], [-3, -7], [-3, 1], [0, -2], [-1, -3], [-4, -35], [-5, -28], [-1, -1], [-2, 3], [0, -1], [-3, -14], [-9, -14], [0, 1], [-1, 4], [0, 7], [0, 4], [0, 1], [-8, 14], [-7, 13], [-5, -5], [-1, 2], [-2, 13], [0, 5], [0, 6], [0, 5], [-1, 3], [-8, 5], [-8, 4], [-5, -8], [0, 2], [-1, 6], [0, 5], [0, 4], [-1, 2], [0, 1], [-2, -6], [-1, -9], [-2, -3], [-1, -7], [-8, 5], [-7, 4], [-1, -1], [0, -3], [0, -4], [-1, -8], [0, -4], [0, -4], [-1, 1], [-1, 5], [-1, 0], [-1, -2], [-1, -3], [-4, -27], [-5, -16], [-6, -5], [-1, 6], [-4, 31], [-1, 5], [-12, -4], [-6, 17], [-1, -1], [0, -2], [-1, -6], [-2, 3], [-1, -1], [-3, -11], [-5, 0], [-2, -5], [-1, -10], [0, -4], [-1, -13], [0, -6], [-1, -4], [-8, 8], [-9, 8], [-3, 11], [-3, 4], [-6, 19], [-2, 13], [0, 5], [-5, 3], [-1, 3], [-1, 13], [-1, 2], [-1, 0], [0, -1], [-1, 0], [-2, 12], [-1, 1], [-4, -6], [-5, -28], [-1, -4], [-2, 1], [-1, 6], [-2, 9], [4, 28], [1, 9], [2, 32], [-13, 1], [-14, 1], [-14, 1], [-13, 1], [-5, 11], [-5, -14], [-2, 2], [-1, -1], [-3, -19], [-2, -4], [-1, 2], [-8, 26], [-3, 17], [-8, -3], [-7, -4], [-3, -11], [-8, -10], [-7, -10], [-1, 7], [0, 26], [-3, 4], [-8, -6], [-8, -7], [-1, 4], [4, 16], [2, 1], [0, 2], [1, 7], [1, 1], [2, 1], [0, 2], [1, 4], [0, 4], [0, 5], [1, 3], [2, 4], [1, 6], [-1, 10], [0, 2], [1, 3], [0, 4], [0, 5], [0, 10], [0, 8], [1, 5], [1, 6], [-5, 8], [-2, 8], [-7, 6], [-7, 5], [1, 6], [2, 18], [0, 8], [0, 11], [-1, 10], [0, 7], [0, 9], [1, 8], [0, 9], [-1, 11], [0, 7], [-1, 5], [-4, 13], [-1, 5], [-2, 20], [-5, 36], [-2, 6], [-1, 4], [-1, 6], [0, 9], [-1, 9], [1, 8], [1, 7], [1, 2], [9, -9], [8, -9], [7, 31], [4, 26], [0, 2], [0, 9], [3, -18], [6, -14], [2, 1], [5, 14], [1, -2], [2, -11], [11, -11], [11, -11], [11, -12], [2, -12], [1, -1], [3, 8], [2, -5], [5, -19], [2, -6], [4, -20], [8, 0], [8, -1], [-2, -16], [-4, -9], [-2, -16], [2, -18], [12, 8], [12, 8], [-2, -22], [-1, -9], [-1, -6], [2, -15], [14, 4], [14, 4], [9, 24], [1, -2], [0, -4], [1, -7], [1, -6], [1, -7], [5, -10], [2, 2], [2, 5], [1, 13], [1, 10], [0, 1], [1, -5], [1, -9], [1, -7], [8, -6], [8, -5], [1, 4], [2, 14], [0, 21], [-2, 16], [-1, 7], [-2, -3], [2, 12], [8, -1], [7, 17], [1, 12], [1, 11], [0, 10], [-2, 9], [-2, 2], [-5, -10], [-2, 0], [0, 3], [-1, 4], [-2, 20], [-1, 8], [-2, 1], [-9, -18], [-1, 2], [0, 1], [1, 9], [1, 7], [3, 11], [8, 6], [8, 7], [1, 6], [2, 8], [1, 12], [-6, 23], [0, 1], [1, 5], [2, 8], [0, 4], [2, -7], [1, -4]], [[2356, 6107], [-1, -4], [-1, -13], [-1, -10], [0, -7], [2, -13], [10, 11], [10, 11], [3, 12], [-1, 5], [-2, 25], [0, 3], [0, 3], [0, 5], [0, 15], [0, 6], [-1, 5], [-1, 2], [0, -2], [-7, -32], [-10, -22]], [[2285, 6058], [-6, 12], [-3, -2], [-2, -15], [2, -10], [3, -6], [3, 4], [3, 17]], [[2389, 5944], [3, -5], [2, 1], [1, 4], [1, 6], [0, 8], [-1, 4], [0, 4], [-1, 8], [-5, 18], [-2, -3], [-2, -23], [2, -14], [2, -8]], [[2496, 5859], [4, 13], [5, -12], [3, 1], [2, 3], [1, 7], [1, 9], [1, 26], [1, 10], [4, 15], [0, 8], [-2, 16], [-4, 16], [-6, 6], [-2, -2], [0, -2], [-1, -3], [0, -5], [0, -5], [-1, -22], [-1, -13], [-1, -9], [-2, -5], [-1, 0], [-3, 20], [-2, 2], [-2, -22], [2, -30], [2, -17], [2, -5]], [[2628, 5789], [-1, -15], [0, -7], [-1, -4], [1, 0], [0, -9], [-1, -18], [0, -8], [0, -4], [0, -4], [2, -7], [-1, -5], [-1, -2], [0, 3], [-1, 6], [0, 2], [-1, 0], [0, 1], [0, 7], [1, 9], [-2, 5], [0, 4], [0, 7], [-1, 11], [0, 7], [0, 3], [-2, 6], [0, 4], [0, 7], [0, 9], [1, 4], [1, 6], [6, -18]], [[2303, 6423], [-1, -35], [0, -16], [-1, -15], [-2, -27], [-2, -28], [-3, -15], [-2, 8], [-1, 11], [0, 5], [-1, 18], [-1, 7], [-1, 5], [1, 6], [4, 18], [1, 6], [1, 10], [0, 16], [-1, -3], [-6, 18], [4, 20], [4, 11], [8, 2], [-1, -22]], [[2122, 4887], [-1, -3], [3, -1], [-8, -19], [-3, 0], [-5, 16], [-6, -2], [-6, -17], [-3, 0], [-3, 9], [-1, 3], [0, 5], [-1, 5], [0, 2], [0, 2], [-6, -1], [-1, -2], [-1, -6], [0, -10], [0, -4], [0, -1], [0, -2], [0, -3], [0, -5], [-1, -2], [-7, -10], [-7, -9], [-1, -3], [0, -9], [-1, -3], [-10, -16], [-10, -16], [0, -2], [-1, -16], [-1, -9], [-2, -3], [-2, 4], [-1, 18], [-3, 2], [-3, 10], [-6, 0], [0, -2], [-1, -8], [0, -3], [-1, -3], [-3, 1], [0, 2], [-2, 8], [0, 3], [-13, -5], [-5, 19], [-1, 9], [-1, 4], [-3, 4], [1, 0], [0, 2], [2, 10], [0, 2], [3, -1], [2, 8], [4, 7], [0, 4], [-7, -5], [0, 9], [5, 15], [2, 1], [1, -1], [-1, 5], [-1, 1], [0, 1], [-1, 1], [0, 7], [-1, 6], [-1, 2], [-6, -2], [-4, 9], [1, 5], [4, 2], [-1, 1], [-1, 0], [-1, 1], [1, 5], [9, 3], [0, 2], [1, 3], [0, 4], [0, 13], [-1, 0], [-1, 2], [0, 5], [1, 6], [6, 11], [2, 10], [0, 2], [12, 6], [1, 3], [1, 8], [1, 2], [1, 3], [1, 19], [1, 3], [2, 2], [2, 11], [4, 32], [2, 5], [0, -4], [0, -4], [0, -5], [0, -4], [0, -5], [3, -7], [5, 5], [0, -3], [2, -21], [1, -6], [1, 3], [2, 12], [9, 6], [9, 5], [2, 10], [1, 0], [1, -4], [0, -8], [0, -4], [-1, -6], [1, -3], [2, -21], [1, -2], [0, -6], [-1, -4], [0, -2], [0, -1], [1, -13], [5, -35], [12, -46], [10, -1], [11, -1], [3, 6], [3, -2], [0, -3], [-2, -4], [1, -3]], [[1939, 5225], [0, -13], [0, -3], [0, 4], [-1, 2], [-4, -6], [0, 1], [-1, 5], [-1, 4], [0, 5], [1, 6], [4, 12], [0, 7], [1, -7], [1, -5], [0, -5], [0, -7]], [[1942, 5127], [1, -8], [1, -2], [-1, -4], [0, -1], [0, -10], [4, -8], [4, -34], [2, -10], [2, -6], [2, -10], [2, -22], [-2, -7], [0, -5], [-1, -8], [-1, -6], [0, -5], [-1, -3], [1, -12], [8, -25], [1, -6], [0, -5], [0, -3], [0, -3], [1, -6], [1, -5], [0, -3], [2, -9], [1, -8], [0, -12], [-1, -3], [-8, 14], [-1, -4], [2, -20], [3, -11], [0, -4], [-10, 12], [0, 2], [-1, 1], [-1, -5], [-3, -28], [0, -5], [-1, -3], [-1, -1], [-3, 6], [-5, -9], [-4, 6], [-1, 2], [-1, 11], [-1, 3], [-10, -2], [-9, -2], [-2, -4], [-2, -14], [-1, -1], [-2, 3], [-1, 8], [-1, 8], [-1, 3], [-2, -2], [-2, 1], [3, 12], [1, 7], [-1, 2], [-2, -1], [0, 13], [2, 10], [4, 17], [2, 19], [1, 7], [7, 15], [1, 4], [1, 12], [3, 12], [3, 35], [1, 9], [0, 5], [1, 0], [2, -1], [3, 4], [5, 20], [1, 6], [0, 8], [1, 14], [-1, 9], [0, 6], [-1, 5], [-1, 8], [0, 5], [2, 21], [1, 2], [2, -1], [0, 5], [1, 4], [1, -9]], [[2675, 5642], [4, -8], [1, 2], [0, -1], [1, -4], [0, -4], [0, -4], [0, -3], [0, -5], [1, -1], [1, 0], [0, -7], [-1, -6], [1, -6], [0, -7], [0, -6], [-1, -5], [0, -1], [0, -1], [0, -2], [0, 1], [-1, -9], [-1, -12], [0, -5], [-1, 0], [0, 3], [0, 1], [-1, -2], [-1, -9], [-1, 1], [0, 8], [0, 3], [-1, 1], [-3, -9], [0, 1], [-1, 5], [0, 4], [0, 7], [1, 6], [0, 1], [-1, 4], [-1, 3], [0, 7], [0, 6], [1, 4], [1, 2], [0, -1], [1, 4], [0, 11], [0, 24], [0, 1], [1, 3], [1, 5]], [[2230, 5712], [0, -8], [-1, -16], [1, -7], [0, -2], [0, 1], [1, 5], [1, 3], [1, 0], [6, -19], [-3, -1], [-2, -5], [-1, -11], [3, -12], [9, -10], [8, -10], [0, -2], [1, -5], [1, -14], [-11, -6], [-8, 13], [-2, -8], [2, -13], [1, -7], [-1, -3], [-2, -9], [0, -3], [-3, 2], [-5, -15], [-9, 2], [-8, 2], [0, -2], [-1, -3], [0, -6], [-1, -2], [-1, 3], [0, -1], [-1, -3], [0, -9], [0, -3], [-1, -1], [-7, 2], [-7, 3], [-2, 8], [-1, 3], [0, 5], [0, 7], [0, 7], [0, 4], [0, 3], [-2, 8], [-1, 19], [0, 5], [-1, 4], [0, 2], [0, 4], [-1, 4], [0, 3], [-1, 6], [-1, 3], [0, 4], [-1, 13], [-1, 5], [-2, 7], [-1, 6], [0, 11], [0, 9], [1, 17], [0, 5], [0, 4], [0, 6], [-1, 19], [0, 5], [0, 5], [0, -1], [13, 10], [3, -7], [12, -5], [13, -6], [12, -5], [1, -2], [0, -3], [1, -5], [0, -7]], [[2333, 6409], [1, -3], [1, 1], [1, -2], [1, -13], [5, -29], [-2, -3], [-6, -42], [-13, -24], [-8, -34], [-3, -1], [-2, 8], [-3, 17], [11, 52], [3, 7], [2, 7], [1, 10], [0, 1], [-3, 20], [2, 4], [7, -9], [0, 1], [1, 4], [1, 9], [0, 12], [1, 27], [2, -14], [0, -6]], [[1486, 5552], [0, -6], [0, -7], [2, -5], [1, -5], [0, -12], [-1, -9], [-1, -7], [0, -3], [13, -39], [1, -7], [1, -8], [0, -2], [3, -4], [1, -3], [0, -2], [-1, -2], [0, -1], [0, -3], [1, -3], [1, -3], [0, -3], [0, -5], [0, -3], [1, -8], [8, -20], [9, -20], [-4, -13], [0, -1], [1, -5], [12, -31], [7, 3], [8, 3], [6, -24], [2, 1], [2, 8], [1, 7], [1, 8], [-3, 17], [1, 1], [0, 2], [1, 4], [0, 6], [0, 3], [-1, 2], [0, 2], [0, 4], [1, 5], [0, 2], [1, 2], [1, 3], [0, 4], [0, 3], [0, 1], [0, 7], [-2, 4], [0, 2], [-1, 2], [0, 6], [0, 3], [-1, 3], [-1, 4], [-1, 0], [1, 6], [0, 4], [-5, 13], [-2, 8], [0, 12], [4, 22], [1, 6], [0, 10], [9, 5], [9, 4], [0, -1], [0, -3], [0, -1], [10, 8], [1, -2], [0, -2], [0, -4], [0, -4], [0, -3], [1, -4], [0, -3], [0, -1], [10, -14], [4, 4], [2, -4], [1, -4], [-1, -4], [-5, -18], [-2, -1], [-3, -16], [-1, -2], [0, -1], [0, -2], [0, -1], [0, -1], [0, -2], [0, -2], [0, -2], [0, -1], [0, -4], [0, -6], [0, -2], [0, -2], [0, -1], [-1, -1], [-1, -2], [0, -6], [0, -2], [-1, -3], [-1, 0], [0, -1], [-1, -2], [0, -9], [0, -2], [0, -7], [0, -3], [0, -2], [3, -13], [0, -10], [1, -3], [1, -4], [0, -1], [1, -2], [0, -4], [-1, -5], [-6, -1], [-1, -3], [-1, -6], [1, -8], [0, -7], [0, -9], [2, -14], [1, -5], [6, -14], [2, -8], [1, -2], [3, 3], [6, -16], [11, 10], [10, 11], [11, 10], [4, 19], [0, 1], [0, 4], [-3, 7], [0, 4], [0, 2], [0, 3], [0, 4], [-1, 6], [0, 5], [1, 1], [1, 1], [0, 4], [0, 3], [-1, 6], [0, 5], [0, 8], [0, 5], [1, 5], [1, 4], [10, 35], [10, 35], [0, 4], [1, 3], [0, 3], [0, 8], [-1, 3], [-1, 3], [0, 3], [1, 8], [0, 1], [0, 5], [-10, 10], [-3, 9], [1, 5], [8, 10], [1, 3], [0, 5], [0, 15], [1, -4], [0, -3], [7, -15], [3, 1], [2, 7], [1, -2], [3, -9], [-1, -5], [-1, -3], [-1, -4], [2, -5], [0, -5], [0, -4], [1, -12], [0, -4], [0, -4], [3, -16], [0, -4], [1, -6], [-1, -7], [-1, -2], [-3, -3], [0, -1], [0, -3], [-1, -2], [0, -2], [0, -4], [0, -3], [0, -1], [-1, -3], [-1, -3], [-1, -6], [1, -8], [1, -6], [1, -4], [4, -2], [5, 9], [1, 3], [0, 5], [1, 5], [0, 3], [0, 3], [6, 11], [6, 29], [1, 8], [1, 9], [-1, 6], [0, 3], [1, 4], [2, 16], [0, -1], [0, -1], [0, -6], [0, -2], [0, -1], [0, -2], [1, -3], [2, -2], [3, -14], [11, -14], [12, -15], [12, -14], [2, -8], [1, -1], [-2, -8], [-1, -8], [0, -18], [0, -12], [2, -8], [1, -4], [2, -8], [12, 12], [5, 16], [2, 18], [1, 11], [-4, 8], [0, 4], [4, 11], [4, 29], [4, 17], [1, 11], [0, -10], [1, -10], [11, -53], [4, -9], [6, 1], [5, -9], [1, 2], [0, 1], [1, 1], [1, -9], [-1, -9], [0, -9], [0, -11], [1, -16], [0, -19], [0, -5], [3, -33], [0, -6], [1, -3], [1, -3], [0, -8], [0, -2], [1, -2], [0, -2], [1, -4], [-1, 0], [0, -1], [-1, -5], [0, -11], [1, -7], [0, -8], [0, -6], [1, -3], [-1, -5], [-4, -1], [-6, -15], [-5, 2], [-7, -10], [-2, 4], [-2, 10], [-2, 22], [-1, 10], [0, 6], [0, 6], [0, 6], [0, 6], [-2, -3], [-2, -7], [0, -3], [-1, -3], [0, -5], [0, -9], [0, -9], [0, -6], [1, -9], [-3, -3], [-1, 4], [0, 1], [-3, -12], [-4, 4], [-2, -4], [-5, -19], [-12, 11], [-6, -6], [-4, 6], [-3, 12], [-2, 3], [-3, -7], [-2, 4], [-1, 20], [3, 18], [-1, 8], [0, 1], [-2, -4], [-1, 1], [-1, 9], [2, 18], [1, 12], [0, 11], [-2, 21], [0, 5], [-1, 2], [-1, -3], [-1, -9], [-2, -15], [-12, -22], [-12, -22], [-3, -17], [-2, -31], [14, -3], [1, -6], [0, -11], [-2, -9], [-5, -19], [-1, 0], [-2, 4], [-2, -5], [-2, 4], [-6, -9], [0, -3], [-1, -12], [-1, -4], [0, -1], [-4, 7], [-10, -19], [-4, 2], [-3, 9], [-8, -13], [-7, -13], [-4, -13], [-3, -4], [-1, 1], [-1, 12], [0, 3], [-1, -1], [-1, -3], [-1, -11], [-2, -5], [-2, 0], [-1, 4], [0, 1], [1, 3], [0, 3], [1, 4], [-5, -5], [-1, -1], [0, -7], [0, -2], [-5, -1], [-2, 4], [-1, -3], [0, -4], [-1, -8], [0, -2], [-1, -1], [0, 2], [-3, 9], [-2, -5], [-6, 10], [0, -1], [-3, -10], [-3, 11], [-1, 1], [-7, -11], [-3, 5], [-5, -15], [-3, 0], [-2, 3], [-1, 7], [0, 9], [-3, 0], [-4, -12], [-8, -7], [-8, -7], [-1, 2], [-3, 28], [-3, 17], [-2, 3], [0, -1], [-1, -5], [0, -1], [-1, 0], [-1, 4], [-10, -11], [0, 1], [-3, 9], [-11, 2], [-11, 3], [-1, -1], [-1, -10], [-3, -12], [-1, 0], [-2, 3], [-1, -1], [-1, -6], [-14, 9], [-2, 11], [-3, 7], [-3, 11], [-1, 3], [-5, -7], [-4, 5], [0, -2], [-2, -8], [-1, -3], [-7, -6], [-3, 7], [-2, 0], [0, -2], [-1, -7], [-1, -1], [-1, 3], [-2, 1], [0, -2], [-1, -8], [0, -2], [-13, -10], [-1, -5], [-4, -19], [-1, -5], [-14, -2], [-1, 3], [0, -2], [-1, -6], [0, -2], [-10, -17], [-10, -18], [-10, 18], [-11, 18], [0, 2], [-1, 6], [-1, 3], [-4, -7], [0, 1], [-1, 6], [-8, -7], [-7, -7], [-1, 1], [-6, 30], [-8, 9], [-14, -30], [-1, 3], [-2, 7], [-1, 6], [0, 7], [-1, 4], [-1, 0], [-11, -34], [-3, 2], [-8, -22], [-8, -23], [-2, 2], [0, 2], [0, 6], [0, 6], [0, 4], [1, 1], [-4, 0], [-1, 2], [-2, 12], [-2, 0], [-3, -7], [-2, 6], [1, 5], [0, 9], [0, 8], [0, 5], [-4, 10], [0, 4], [-1, 8], [-1, 10], [1, 9], [1, 11], [1, 9], [0, 9], [-1, 7], [-6, 11], [3, 3], [1, 3], [1, 7], [1, 12], [0, 5], [1, 8], [10, 8], [9, 8], [10, 8], [3, -3], [8, 18], [3, 15], [1, 2], [0, -1], [1, -1], [1, -8], [-1, 0], [0, -2], [0, -5], [0, -5], [8, -15], [1, 1], [2, 6], [1, 14], [2, 10], [0, 5], [0, 3], [0, 2], [1, 6], [5, -7], [-1, -2], [1, 0], [1, -6], [2, -13], [0, -3], [1, 2], [0, -3], [-1, -4], [-1, -5], [0, -1], [1, -6], [4, -7], [0, -1], [0, -4], [1, -4], [0, -4], [0, -4], [1, 1], [2, 6], [1, 1], [7, -17], [7, -17], [3, 2], [1, 2], [0, 2], [0, 3], [0, 3], [1, 6], [2, 18], [0, 1], [0, 2], [0, 1], [0, 2], [0, 1], [0, 2], [0, 7], [0, 14], [0, 6], [1, 3], [0, 2], [0, 2], [-1, 3], [0, 2], [0, 3], [0, 3], [0, 2], [0, 2], [0, 1], [0, 3], [0, 12], [2, 2], [10, -5], [0, -2], [3, -10], [10, 3], [2, -5], [12, 12], [12, 11], [12, 12], [12, 12], [2, 8], [-2, 2], [2, 18], [4, 26], [2, 19], [0, 6], [4, 11], [3, 35], [1, 3], [2, 5], [0, 3], [2, 20], [0, 6], [1, 18], [0, 7], [1, 11], [4, 33], [1, 12], [1, 17], [0, 18], [0, 8], [0, -2], [1, -1], [6, -4], [1, 7], [0, 3], [0, 16], [0, 9], [1, 6], [2, 4], [1, 0], [3, -9], [5, -2], [0, -2], [-1, -5], [3, -8], [0, -2], [0, -5], [-1, -4], [0, -3]], [[1442, 5222], [-1, -2], [0, -2], [0, -2], [1, -4], [0, -3], [0, -5], [0, -6], [0, -2], [-1, -5], [1, -6], [2, 4], [0, -3], [0, -2], [1, -2], [0, -2], [1, -2], [0, -5], [1, -3], [0, -3], [0, -4], [0, -3], [0, -4], [0, -2], [10, -43], [1, -2], [3, 5], [5, 23], [0, 6], [0, 1], [1, 6], [0, 4], [-1, 11], [0, 4], [1, 5], [1, 12], [0, 2], [0, 3], [1, 4], [-1, 1], [0, 1], [0, 2], [0, 1], [0, 3], [-1, -1], [0, 2], [-1, 2], [0, 6], [0, 3], [0, 2], [-3, 9], [-1, 0], [-2, -3], [-2, 3], [-7, 30], [-11, 19], [-1, -1], [0, -5], [0, -4], [1, -10], [0, -3], [0, -8], [1, -10], [0, -3], [-1, -4], [1, -1], [1, -4]], [[1739, 5245], [1, -6], [2, 0], [3, 10], [3, 13], [3, 18], [-1, 5], [-1, 1], [-8, -14], [-1, -9], [-1, -18]], [[2186, 5289], [0, -5], [0, -6], [0, -5], [-1, -10], [-2, -8], [0, -5], [-1, -9], [0, -11], [0, -8], [1, -4], [1, -2], [-1, -8], [0, -6], [-2, -11], [2, -12], [13, -24], [9, 32], [2, 2], [2, -1], [0, 1], [1, 3], [0, -1], [1, -3], [2, 1], [2, -4], [3, 8], [1, -1], [0, -2], [2, -11], [0, -3], [1, -1], [2, 1], [0, -2], [1, -6], [1, -1], [0, 2], [1, 0], [0, -2], [1, -5], [-1, 0], [-2, -19], [-4, -12], [-1, -5], [-1, -9], [2, -3], [1, -3], [-1, -13], [0, -4], [-1, -6], [-1, -10], [0, -3], [3, -7], [1, -6], [1, -12], [-2, -13], [-1, -5], [-1, -12], [0, -7], [-2, -7], [-2, 0], [-3, 8], [-1, 1], [-5, -7], [0, -1], [0, -8], [0, -5], [0, -3], [6, -17], [6, -8], [6, 10], [4, -1], [3, -11], [1, 0], [5, 16], [1, -6], [1, -12], [1, -6], [0, -5], [0, -16], [0, -23], [-1, -11], [0, -8], [-1, -9], [10, -16], [3, -13], [1, -1], [9, 25], [3, -5], [-8, -44], [5, -1], [2, 5], [2, -1], [0, -9], [-2, -11], [-2, -5], [-1, -2], [0, -4], [-1, -10], [0, -3], [-4, -6], [-5, 2], [0, -1], [-1, -8], [-1, -2], [-11, 18], [-11, -13], [-4, -12], [-1, -5], [0, -1], [-1, 1], [0, -1], [-2, -8], [0, -1], [-1, 1], [-2, 11], [-3, 5], [-3, 0], [-3, -8], [-2, -12], [-9, -15], [-2, 1], [-3, -5], [-1, 2], [0, 7], [0, 9], [0, 11], [-11, 11], [-3, 21], [0, 5], [0, 11], [1, 4], [0, 4], [1, 9], [0, 10], [1, 9], [0, 11], [0, 13], [-1, 14], [-2, 9], [-3, 8], [-1, 9], [0, 1], [4, 22], [1, 13], [1, 16], [5, 67], [2, 16], [1, 20], [1, 7], [2, 7], [-1, 3], [0, 1], [-1, -1], [-1, -2], [1, 4], [-1, 4], [-2, 2], [-7, 20], [-8, 21], [-4, -2], [-1, 5], [0, 3], [2, 4], [0, 2], [0, 8], [-1, 4], [-8, 22], [-2, -3], [-1, -1], [0, 4], [2, 14], [12, 38], [1, 4], [0, 5], [1, 8], [0, 6], [-1, 6], [0, 9], [3, -7], [1, 1], [1, 14], [7, 10], [2, 6], [-1, -2], [2, 0], [2, 4], [0, -1]], [[1901, 5044], [0, -10], [-7, -2], [-7, -1], [-1, -2], [-1, -7], [-2, -2], [0, -3], [-1, -8], [0, -4], [-9, 8], [-2, -3], [0, -4], [0, -7], [-1, -7], [0, -4], [-1, -1], [-4, 11], [-2, 2], [-7, -19], [-7, -18], [-2, 0], [-4, -8], [-2, 3], [-1, -3], [-1, -6], [-2, -23], [-1, -5], [-2, -1], [-3, -14], [-1, -1], [-3, 8], [-1, 5], [-1, 11], [1, 8], [3, 32], [4, 12], [1, 13], [0, 12], [1, 28], [0, 9], [2, 12], [1, 5], [0, 9], [0, 8], [0, 7], [-1, 5], [-1, 4], [-2, -1], [-5, -16], [-3, 0], [-1, 2], [-2, 7], [1, 7], [5, 10], [1, 3], [2, 13], [11, 19], [1, 4], [1, 13], [7, 35], [2, 15], [1, 23], [-8, -14], [-4, -17], [-2, -1], [-2, 8], [1, 20], [-1, 3], [0, 2], [0, 4], [-1, 18], [1, 6], [0, 4], [3, 18], [-1, 2], [0, 8], [-1, 1], [-1, -1], [-4, 5], [0, 5], [1, 9], [13, 30], [0, 7], [0, 2], [0, -2], [1, -4], [10, -7], [11, -8], [10, -7], [11, -8], [-1, -5], [1, -1], [0, -4], [0, -1], [-1, -14], [1, -16], [3, -36], [1, -9], [1, -7], [6, -16], [4, -1], [0, -8], [-2, -5], [-2, -8], [-9, 5], [-1, -6], [-2, -9], [0, -6], [0, -8], [0, -9], [0, -8], [0, -8], [0, -7], [3, -19], [2, -13], [1, -18], [1, -7], [3, 6], [1, -8], [-1, -4], [0, -7], [0, -9]], [[8002, 8995], [1, -5], [0, -2], [0, -3], [0, -1], [-3, -26], [-4, -23], [0, -3], [-1, -7], [0, -15], [-1, -6], [0, -1], [0, 1], [-1, 0], [0, -3], [-1, -18], [0, -4], [-1, -2], [0, 29], [0, 15], [0, 9], [2, 21], [0, 5], [2, 8], [1, 7], [0, 9], [0, 10], [-1, 2], [2, -1], [4, 17], [0, -1], [1, -6], [0, -6]], [[7890, 9434], [0, -7], [0, -7], [0, -8], [-2, -18], [1, -14], [0, -5], [0, -15], [0, -7], [0, -6], [0, -7], [-1, -7], [-1, -5], [-1, -2], [0, -2], [1, -5], [0, -2], [-1, -6], [0, -2], [-1, 0], [0, -4], [0, -3], [0, -2], [0, -3], [-4, 0], [0, -2], [-3, -13], [-1, 0], [-1, 3], [-4, 22], [-2, 4], [0, 2], [-1, 6], [0, 2], [-1, 2], [-2, -2], [-1, 6], [-1, 0], [-1, -5], [0, 1], [-1, 5], [0, 5], [0, 5], [0, 2], [-3, 5], [-1, 0], [-1, 1], [0, 3], [1, 1], [0, 2], [0, 2], [0, 7], [0, 8], [-1, 9], [1, 8], [0, 7], [2, 7], [1, -1], [0, -14], [0, 1], [1, 6], [1, 8], [0, 9], [0, 12], [-1, 10], [0, 18], [-1, 7], [-1, 12], [-1, 14], [-1, 6], [-1, 5], [2, 2], [3, -5], [1, 7], [1, 12], [1, 21], [0, 6], [0, 6], [0, 6], [0, -1], [1, -4], [3, -1], [2, 3], [0, 3], [1, 5], [0, 6], [0, 5], [1, -3], [1, -2], [2, -4], [0, 2], [2, 7], [0, 2], [1, -3], [1, -19], [1, -1], [0, 1], [1, -2], [0, -5], [0, -8], [1, 3], [0, 1], [1, -6], [0, -3], [-1, -2], [1, -7], [4, -8], [-1, -7], [0, -12], [0, -7], [1, -5], [1, -9], [1, -13], [0, -14], [0, -6]], [[8171, 9247], [1, 0], [0, -3], [1, -3], [0, -2], [0, -4], [0, -4], [0, -5], [0, -6], [0, 1], [-1, 4], [-1, -1], [-1, 0], [0, 5], [-2, 21], [1, 1], [0, 1], [1, 1], [1, -6]], [[8178, 9178], [1, -2], [1, 2], [-2, -23], [-1, -7], [1, -2], [2, -6], [-1, -17], [0, -2], [0, -2], [0, -2], [0, -2], [0, -4], [0, -1], [0, -2], [1, -3], [-1, -18], [0, -11], [0, -7], [0, -2], [1, 3], [1, 8], [0, -6], [0, -1], [0, -1], [1, -4], [0, -4], [0, -2], [0, -2], [0, -1], [0, -5], [-7, -12], [1, 16], [3, 30], [-2, -2], [0, 1], [1, 5], [0, 2], [-1, 10], [0, 5], [0, 2], [-2, 7], [-1, -2], [1, 12], [0, 9], [2, 11], [0, 8], [0, 10], [0, 8], [1, 5], [0, 1]], [[7705, 9640], [2, -9], [0, -6], [0, -10], [-1, -1], [0, -3], [0, -5], [1, -9], [2, -3], [0, -2], [0, -3], [0, -3], [0, -2], [3, -4], [1, -5], [-1, -2], [0, -4], [0, -2], [1, -19], [1, -6], [0, -5], [3, -12], [0, -4], [0, -1], [1, -3], [0, -2], [0, -5], [0, -4], [0, -3], [0, -5], [0, -4], [-1, -16], [0, -5], [0, -8], [0, -5], [0, -5], [0, -11], [1, -4], [1, -4], [0, -4], [0, -7], [0, -1], [1, -6], [1, -2], [0, -1], [3, 6], [0, -1], [1, -3], [0, -4], [0, -3], [1, -2], [6, 2], [1, 4], [0, 1], [-1, 3], [0, 1], [1, 8], [0, 5], [0, 3], [4, 19], [1, 2], [4, -3], [7, 8], [3, -4], [1, 4], [1, -2], [1, -21], [2, -30], [1, -7], [3, -12], [1, -1], [1, 4], [2, 14], [1, 4], [0, 7], [1, 3], [1, -1], [2, -6], [4, -7], [3, 7], [2, 0], [2, 3], [1, 0], [1, -1], [1, 3], [0, 8], [0, 5], [2, 10], [0, 8], [0, -5], [1, -3], [4, 3], [1, -2], [0, -2], [0, -2], [-1, -5], [1, -4], [12, 11], [1, 8], [6, 44], [0, 2], [0, -1], [1, -7], [6, -8], [6, -22], [1, -16], [0, -20], [-1, -22], [2, -7], [2, 0], [2, -5], [4, 2], [2, -3], [1, -11], [-2, -1], [1, -2], [0, -3], [1, -4], [0, -6], [-1, -2], [-1, 3], [-1, -2], [2, -8], [7, 2], [5, -8], [-1, -4], [-5, -29], [-9, -4], [-9, -4], [-3, 9], [-7, 2], [-1, -8], [-2, -11], [-1, -8], [1, -1], [0, -2], [0, -4], [-1, -2], [0, -2], [-1, -3], [9, -14], [-1, -5], [-3, -7], [0, -3], [-1, -5], [0, -6], [-1, -13], [0, -4], [-1, -10], [-1, -2], [-1, 0], [0, -2], [0, -5], [-1, -7], [0, -9], [0, -12], [-1, -11], [-5, -48], [-1, -6], [-1, -2], [-10, -7], [2, -8], [1, -5], [-1, -13], [2, 2], [1, -5], [-2, -9], [-1, -8], [-1, -12], [-1, 22], [-1, 8], [0, 1], [-3, -14], [0, 16], [0, 8], [-1, 1], [-2, -9], [0, -1], [-1, -1], [0, -3], [-1, -8], [-1, -7], [-1, -2], [-1, 2], [-1, -4], [-1, 1], [-1, -1], [-1, -4], [-1, -9], [-1, -13], [-4, -19], [-1, -18], [-1, -10], [-1, -9], [0, -1], [-1, 11], [0, 13], [0, 12], [1, 23], [-1, -4], [-2, -12], [-1, -18], [0, -21], [-1, 0], [0, -3], [-1, -10], [0, -4], [-1, -1], [-1, 2], [-1, -2], [-1, -5], [-1, -8], [0, -9], [0, -3], [-2, 4], [0, 3], [0, 4], [-1, 10], [0, 5], [-1, 2], [-1, -3], [0, -4], [0, -8], [-2, -28], [-1, -12], [0, -14], [0, -11], [0, -11], [-1, -11], [-1, -2], [0, 4], [-1, 11], [0, 16], [0, 17], [0, 5], [0, 3], [-1, 1], [0, 2], [-1, 6], [3, 22], [0, 8], [-1, 20], [0, 7], [-1, 3], [-1, 4], [8, 43], [2, 14], [0, 17], [-2, -1], [-2, -6], [-8, -51], [-3, -7], [-1, 10], [1, 9], [1, 15], [0, 33], [0, 2], [0, 4], [-1, 9], [0, 2], [-8, 1], [-1, -6], [-1, -12], [-3, -11], [-2, -19], [-3, -4], [-1, -5], [-1, -12], [-2, -33], [-1, -10], [-1, 1], [-2, 16], [0, 1], [-2, 0], [-1, 2], [0, 2], [0, 1], [0, 4], [-1, 6], [0, 4], [0, 15], [-1, 2], [-2, -7], [-2, 24], [0, 8], [-1, 4], [-1, 4], [-3, 4], [-3, -8], [-10, -52], [-2, 0], [-3, 14], [-1, 1], [-3, -5], [-2, -7], [0, -2], [-1, 4], [-1, 15], [-1, 2], [-2, -12], [-1, -17], [-1, -13], [-2, 0], [-1, 3], [-1, 0], [-2, -4], [-1, -8], [-1, -1], [-1, 0], [0, -1], [-2, -13], [0, -2], [-2, 4], [0, 1], [0, -4], [0, 24], [1, 4], [-1, -2], [-4, 6], [0, 2], [0, 6], [0, 6], [0, 6], [-1, 21], [-1, 15], [-2, 7], [-1, 2], [-2, -3], [-1, 3], [-1, 7], [-1, 2], [-1, 1], [-1, 4], [0, 2], [1, 8], [0, 8], [0, 11], [0, 13], [-1, 10], [-1, 6], [-1, 8], [0, 12], [0, 10], [0, 10], [1, 11], [0, 5], [0, 10], [0, 3], [1, 1], [0, -1], [1, -3], [10, -9], [1, 1], [6, 34], [0, 7], [0, 17], [0, 6], [0, 4], [-1, 4], [0, 6], [0, 6], [0, 9], [0, 8], [0, 3], [0, 3], [-1, 5], [0, 7], [0, 8], [0, 6], [1, 5], [0, 3], [0, 3], [0, 10], [0, 10], [-1, 9], [0, 11], [0, 41], [1, 31], [0, 25], [-1, 24], [0, 20], [-2, 20], [-1, 6], [1, 11], [1, 5], [0, 3], [1, 5], [1, 21], [0, 25], [0, 52], [7, -4], [1, 4], [1, 7], [0, 13], [1, 26], [1, 16], [1, 8], [5, 10], [0, 4], [1, 7], [0, 10], [0, 9], [0, 10], [1, 8], [1, 7], [6, -2], [9, -27], [4, 0], [2, -4], [3, -19], [1, -10], [1, -14], [1, -3], [1, -4], [1, -4], [0, -4], [0, -2], [-1, -2], [0, -1], [0, -1], [1, -9], [3, -14], [0, -2], [0, -3], [0, -7], [0, -5], [0, -1], [0, -1]], [[7789, 9349], [1, -3], [2, 1], [3, 7], [1, -3], [0, -4], [2, -4], [4, 2], [2, 7], [1, 12], [0, 13], [0, 8], [-1, 4], [-5, 5], [-2, -4], [-3, 3], [-1, -2], [-1, -3], [-4, -31], [1, -8]], [[7676, 9179], [1, -3], [7, 4], [7, 4], [3, 19], [1, 15], [-1, 17], [-1, 15], [-2, 10], [-1, 0], [-2, -7], [-1, 0], [-1, 3], [-1, 8], [-1, 3], [-2, 2], [-1, -2], [-2, -5], [-1, -8], [-2, -12], [0, -13], [-2, -31], [1, -7], [1, -12]], [[7779, 9179], [1, -4], [2, -1], [2, 5], [1, 10], [1, 1], [-1, 1], [0, -1], [0, 1], [-1, 1], [0, 4], [0, 1], [1, 2], [1, 4], [0, 7], [0, 3], [0, 7], [0, 3], [-1, 6], [0, 2], [0, 1], [-1, 3], [0, -1], [-1, -3], [-2, -12], [-2, -22], [0, -9], [0, -9]], [[7696, 9091], [9, -13], [0, 4], [0, 9], [-1, 12], [0, 5], [-1, 4], [-1, 10], [-4, 7], [-1, -1], [-2, -8], [-1, -18], [1, -7], [1, -4]], [[7739, 9079], [1, -16], [2, -10], [1, -2], [1, 2], [1, 3], [3, 22], [0, 6], [-3, 14], [-4, 12], [-1, 1], [-1, -4], [-1, -4], [0, -4], [1, -20]], [[8066, 9042], [2, -6], [1, 9], [1, 3], [1, -4], [0, -4], [0, -2], [1, -1], [-1, -6], [1, 0], [1, -2], [0, -17], [0, -13], [0, -8], [1, -6], [-1, -21], [2, -8], [0, -6], [0, -9], [-2, -6], [-1, 1], [0, 4], [-2, 13], [-1, 9], [-2, 6], [-1, 1], [0, -1], [-4, -18], [-3, -25], [-1, -9], [-7, -16], [1, -4], [-3, -10], [2, -12], [-7, -11], [-1, -8], [0, -3], [1, -7], [0, -3], [-6, -6], [-1, 2], [-1, 10], [-1, 3], [-1, 0], [0, -1], [-1, -1], [-1, 7], [0, 2], [1, 4], [0, 1], [1, -3], [0, -1], [1, 0], [1, 2], [0, 3], [1, 5], [0, 1], [0, 2], [-1, 1], [2, 15], [1, -1], [2, -5], [1, 5], [-1, 2], [0, 3], [0, 6], [0, 8], [1, 7], [0, 4], [-1, 12], [1, 5], [1, -2], [0, 3], [0, 1], [0, 18], [0, 4], [0, 5], [0, 5], [0, 4], [3, 17], [0, 6], [1, 6], [4, 0], [3, -20], [2, -6], [4, 3], [2, 5], [-2, 7], [0, 5], [1, 1], [0, 2], [-2, 13], [0, 3], [3, 12], [1, 10], [0, 7], [0, 7], [0, 7], [1, 3], [0, -1], [1, -3], [1, -12], [0, -2]], [[8027, 8863], [0, -7], [1, 0], [0, 3], [1, 1], [1, -2], [-1, -5], [-2, -15], [0, -3], [0, -3], [0, -3], [0, -2], [0, -1], [-1, 1], [-2, -9], [-1, -1], [-1, 2], [-1, 11], [0, 1], [1, 2], [0, 2], [0, 5], [0, 2], [1, 1], [0, -1], [0, -1], [0, -1], [1, 1], [0, 1], [1, 2], [0, 3], [0, 9], [0, 3], [1, 5], [0, 1], [1, -2]], [[7166, 7865], [-1, -7], [0, -10], [2, -12], [-2, 0], [-1, -3], [0, -3], [-1, -10], [0, 3], [0, 2], [0, 2], [0, 5], [1, 2], [-1, 6], [1, 5], [0, 5], [0, 7], [0, 4], [-1, 5], [0, 2], [0, 3], [1, 2], [0, 1], [0, 2], [3, -3], [-1, -4], [0, -4]], [[7158, 7807], [1, -5], [1, -2], [2, 4], [0, -1], [-1, -6], [0, -7], [0, -7], [1, -9], [-9, -24], [-1, -4], [0, -8], [-1, 0], [0, 3], [-1, 4], [0, 2], [0, 3], [0, 7], [0, 8], [1, 17], [0, 5], [1, 1], [3, -5], [1, 0], [1, 6], [-1, 4], [1, 2], [-1, 2], [1, 10], [1, 0]], [[7179, 8009], [0, -3], [1, 1], [2, -3], [1, -8], [2, -13], [-7, -10], [0, -4], [-2, -9], [0, -3], [-6, -4], [-1, -2], [0, 2], [0, 1], [0, 1], [0, 1], [-1, 7], [-1, 3], [-2, 0], [-2, 6], [-1, 3], [0, 5], [-1, 8], [1, 7], [8, 8], [7, 7], [3, 9], [-1, -10]], [[7520, 8950], [-1, -5], [0, -1], [-1, 2], [-2, -7], [-1, -10], [-1, -2], [-1, 0], [-1, -5], [-1, -22], [-1, -10], [-1, 6], [0, 3], [-1, 1], [-1, -1], [-2, 10], [-2, 5], [-1, 0], [6, 17], [0, -2], [-1, -7], [2, -3], [1, 1], [2, 6], [0, 11], [3, 13], [1, 4], [4, -4]], [[7605, 9019], [0, -2], [1, 0], [0, 1], [0, 2], [0, -1], [1, -6], [1, -11], [1, -8], [3, -17], [2, -11], [1, -3], [-1, -2], [0, -2], [-1, -5], [0, -8], [0, -4], [0, -3], [-3, -6], [-1, -1], [0, 6], [0, 8], [0, 6], [-1, 3], [-1, 0], [-3, -28], [-1, -2], [0, 9], [-1, 11], [0, 11], [0, 8], [0, 1], [0, 5], [0, 1], [0, 4], [0, 6], [1, 13], [-2, 7], [1, 2], [1, 3], [0, 6], [1, 6], [0, 2], [1, -1]], [[7392, 9137], [2, -7], [1, 2], [1, 5], [1, 1], [1, -3], [2, 0], [3, -18], [1, -6], [3, 0], [0, -3], [0, -12], [1, -2], [2, 5], [1, 1], [7, -11], [7, -12], [2, -9], [1, -2], [2, -8], [1, -6], [1, -2], [8, -25], [10, -3], [3, -11], [0, -3], [2, -13], [0, -3], [1, -1], [1, -3], [0, -8], [3, -23], [-1, -6], [0, -5], [0, -6], [1, -2], [1, -1], [0, -2], [1, -3], [0, -6], [0, -1], [1, -1], [0, -1], [2, -17], [-1, 1], [-1, -5], [-2, -1], [-5, -21], [-2, -3], [-1, 1], [-2, -7], [-1, 3], [0, 4], [0, 16], [-1, 6], [0, 3], [0, 3], [-1, 5], [-1, 2], [-4, 1], [-1, -2], [-1, -4], [-2, -17], [0, -3], [-3, 2], [-1, -2], [-1, -6], [-2, -3], [-3, -15], [-10, -29], [-3, -15], [-2, -22], [-6, -26], [-1, 0], [-1, 3], [-2, 12], [0, 3], [-9, -10], [-3, 5], [-2, -2], [0, -2], [-1, -3], [0, -4], [0, -4], [-1, -2], [0, -2], [-2, -9], [0, -3], [0, -4], [-1, -11], [0, -2], [-3, -12], [-1, 1], [-1, -3], [-2, -8], [-1, -3], [-3, 8], [-1, -6], [0, -2], [-1, -1], [-2, 4], [-1, 7], [-4, 4], [-1, 4], [0, 8], [-1, 4], [-1, -2], [-1, 1], [1, 19], [-3, 6], [-10, -17], [-3, 1], [-1, -3], [-1, -4], [-2, -21], [-1, -7], [0, -4], [-1, -13], [0, -3], [-5, -18], [-10, -25], [-1, -8], [-1, -11], [-1, -15], [-1, -7], [-5, -15], [0, -9], [-1, -15], [2, -32], [2, -10], [2, -3], [2, -11], [0, -2], [0, -5], [-1, -6], [0, -5], [0, -3], [-4, -10], [-2, 7], [-1, 4], [-1, 14], [-1, 5], [-1, 7], [-1, 1], [-1, -1], [-1, -3], [-1, -11], [-1, 0], [-1, 3], [-1, -2], [-3, -13], [-1, 0], [0, 4], [-2, 12], [0, 2], [-3, -5], [-3, 3], [0, -2], [-1, -7], [0, -2], [-1, -1], [-2, -15], [-1, -7], [-1, -15], [0, -1], [-1, 3], [-1, -2], [0, -2], [0, -1], [-1, 3], [0, 2], [0, 3], [0, 2], [-4, 10], [-1, -1], [-2, -7], [-2, -10], [0, -1], [-1, 4], [-9, -35], [-2, -1], [-4, -13], [0, 5], [1, 2], [0, 2], [0, 3], [0, 1], [-1, 17], [0, 3], [0, 6], [0, 4], [-1, 4], [0, 3], [1, 21], [1, 10], [0, 4], [-1, 24], [0, 12], [0, 15], [0, 1], [0, 4], [0, 1], [5, 20], [4, 41], [0, 2], [1, 2], [2, 7], [-1, 6], [-1, 3], [0, 5], [0, 10], [0, 4], [2, 2], [3, 10], [3, 1], [1, 4], [2, 18], [2, 5], [4, 2], [8, -17], [6, 9], [2, 7], [3, 4], [5, 22], [4, 7], [0, -2], [2, -9], [2, 2], [1, 4], [0, 7], [0, 8], [1, 7], [0, -2], [0, -2], [1, 0], [0, 6], [0, 5], [0, 4], [-1, 3], [7, 30], [9, 13], [10, 14], [0, -1], [0, 10], [0, 4], [1, 6], [-1, 1], [-1, -4], [-1, 0], [-2, 3], [-1, 6], [0, 2], [0, 1], [-1, -1], [-3, 3], [1, 4], [-2, -3], [0, 8], [0, 7], [0, 6], [0, 5], [0, 5], [-1, 15], [-1, 4], [-1, 3], [-1, 0], [-1, -3], [1, 7], [0, 8], [1, 5], [0, 5], [-2, 17], [2, 6], [0, 5], [2, 10], [8, 13], [1, 5], [3, 25], [1, 4], [4, -3], [1, 2], [1, 0], [1, -4], [2, -11], [0, -2], [1, -3], [1, -2], [0, -4], [2, -18], [0, -3], [0, -1], [1, 4], [0, 4], [1, 5], [0, 5], [-1, 9], [2, -10], [2, -5], [2, 4], [2, 16], [-3, 12], [-1, 6], [0, 6], [-1, 15], [0, 4], [-1, -1], [2, 14], [5, 29], [1, 1], [2, -2], [5, 19], [3, 24], [2, 7], [5, 12], [3, -3]], [[7402, 8964], [-5, -5], [-1, -5], [-1, -8], [0, -13], [0, -6], [1, -9], [1, -12], [1, -3], [1, -1], [3, 5], [3, 19], [2, 13], [-2, -1], [-1, 1], [-1, 8], [0, 4], [0, 4], [0, 4], [0, 4], [-1, 1]], [[7374, 8938], [-4, 1], [-1, -2], [-1, -7], [0, -14], [0, -17], [1, -15], [1, -12], [1, -9], [7, -31], [0, 1], [0, -5], [-1, -4], [0, -12], [0, -2], [5, 8], [3, 16], [1, 12], [1, 10], [-3, 47], [-2, 12], [0, 4], [-3, 8], [-1, 3], [-2, 1], [-2, 7]], [[8538, 8977], [0, -16], [0, -11], [1, -9], [1, -6], [0, -4], [3, -5], [0, -5], [1, -2], [0, -6], [0, -3], [0, -9], [1, -9], [0, -3], [1, -3], [-1, -21], [0, -7], [0, -9], [0, -3], [0, -5], [0, -3], [1, -1], [0, 1], [0, 2], [1, 2], [3, -6], [0, -4], [0, -6], [1, -9], [0, -7], [0, -5], [1, -6], [0, -9], [-1, 4], [-1, -1], [-4, -17], [-2, 4], [-5, -11], [-1, 2], [-1, 6], [0, 5], [0, 5], [0, 14], [0, 3], [0, 3], [-1, 5], [1, 25], [-5, -24], [0, -4], [0, -7], [-1, -9], [0, -6], [0, -10], [0, -7], [0, -6], [-1, -21], [0, -4], [-1, -1], [0, 5], [0, 9], [0, 9], [0, 7], [0, 3], [-1, 2], [0, 2], [0, 4], [0, 7], [0, 3], [1, 4], [0, 10], [0, 8], [0, 7], [0, 6], [-2, 12], [0, 8], [1, 10], [1, 22], [-3, 19], [0, 1], [-7, -18], [-1, 0], [0, 6], [0, 8], [0, 22], [0, 7], [1, 8], [2, 12], [1, 11], [0, 5], [-1, 11], [-1, 3], [-1, 6], [-1, -2], [-3, -10], [1, 17], [0, 5], [1, 4], [1, 5], [1, 4], [1, 8], [0, 11], [0, 8], [0, 7], [0, 9], [1, 3], [1, 3], [0, 2], [0, 4], [1, 13], [0, -1], [0, -3], [0, -3], [0, -3], [1, -3], [0, -5], [1, -3], [1, -7], [1, -3], [2, -2], [1, -4], [2, -11], [1, -4], [4, -9], [0, -4], [0, -4], [0, -5], [1, -5], [0, -6], [0, -6]], [[8597, 8908], [0, -4], [-1, 4], [0, 4], [0, 5], [0, 7], [0, 3], [0, 2], [0, 4], [0, 1], [0, 2], [-1, 2], [1, 2], [2, -1], [1, -5], [-1, -10], [-1, -12], [0, -4]], [[8741, 9276], [2, -28], [2, -8], [2, -3], [1, 2], [0, 8], [1, 3], [0, -2], [1, -3], [0, -2], [1, -2], [5, 3], [3, -7], [-1, -3], [0, -9], [0, -17], [-1, -26], [0, -3], [-2, -12], [-1, -6], [0, -1], [0, -6], [0, -9], [0, -9], [0, -10], [-4, -16], [-1, 0], [0, 3], [-1, 7], [-1, 1], [-1, -7], [-4, -5], [1, 14], [-10, -77], [-2, -11], [-1, 1], [0, 6], [0, 4], [0, 4], [1, 3], [-5, -14], [-2, 4], [4, 30], [1, 14], [2, 22], [2, 12], [1, 6], [-1, 9], [0, 3], [-1, -1], [-2, -6], [-1, 0], [0, 3], [0, 3], [0, 10], [0, 3], [-1, 3], [-1, -3], [-2, 21], [0, 5], [1, 2], [1, 5], [1, 9], [3, 29], [0, 6], [1, 5], [3, 6], [1, 5], [0, 4], [-1, 12], [1, -1], [1, -2], [0, 5], [1, 12], [0, 9], [1, 5], [0, 1], [1, -3], [1, -10]], [[8624, 9213], [0, -6], [1, -1], [1, 5], [4, 2], [-2, -16], [-1, -6], [-1, -22], [0, -9], [-1, 10], [-2, -5], [-3, -21], [0, 3], [0, 8], [0, 3], [-1, -6], [-1, -1], [-1, 8], [0, 1], [-4, -7], [-1, -9], [-1, -18], [-1, -7], [-2, -2], [1, 4], [0, 2], [0, 4], [0, 6], [0, 4], [0, 6], [0, 4], [0, 4], [0, 3], [7, 18], [1, 4], [0, 8], [2, 13], [-1, 10], [0, 2], [0, -2], [0, 12], [2, 7], [2, 3], [1, -2], [1, -14]], [[8246, 8897], [1, 2], [0, -2], [1, -6], [3, -9], [2, -14], [1, -2], [0, -3], [0, -3], [0, -3], [1, -3], [0, -3], [1, -4], [1, -4], [1, -12], [1, -6], [1, -14], [0, -5], [1, -1], [1, 3], [1, -2], [0, -1], [3, -3], [1, 2], [3, 10], [9, 6], [1, -7], [1, -2], [1, 1], [0, 2], [1, 0], [1, -4], [1, 1], [3, 14], [4, 9], [2, -2], [2, 3], [0, -1], [1, -5], [0, -2], [3, 2], [0, -2], [3, -9], [12, 2], [1, 6], [0, -1], [3, -14], [0, 1], [2, 8], [1, 5], [3, 9], [1, 1], [2, -2], [3, 5], [2, 8], [1, -5], [1, -1], [4, 11], [0, 11], [1, 4], [3, -1], [2, 3], [1, -1], [1, -6], [0, -1], [0, -3], [0, -3], [-1, -8], [0, -4], [0, -7], [0, -8], [0, -6], [1, -3], [10, 40], [-1, -1], [0, -1], [0, 12], [0, 2], [0, 3], [1, 2], [0, 2], [2, -5], [2, 4], [2, 10], [2, 11], [1, 9], [0, 4], [-1, 0]], [[8365, 8910], [1, 8], [0, 1], [0, 1], [-1, 7], [0, 4], [-1, 6], [1, 11], [-1, 4], [1, 5], [2, 4], [0, 7], [0, 6], [0, 2], [5, -5], [3, 3], [3, 11], [4, 28], [5, 11], [4, 0], [1, -3], [1, -8], [2, -16], [0, -2], [2, 0], [0, -3], [1, -4], [1, -10], [3, -48], [1, -3], [0, -1], [1, 4], [0, -1], [1, -10], [0, -7], [-1, -5], [0, -2], [0, -3], [0, -3], [0, -4], [-1, 0], [-1, -3], [-2, -8], [-5, -6], [-2, -5], [-3, -18], [-4, -12], [0, -5], [-3, -19], [0, -4], [0, -8], [1, -1], [0, -12], [0, 2], [-1, -5], [0, 1], [0, 4], [-1, 3], [0, 2], [0, -1], [0, -3], [0, -6], [0, -2], [-1, -3], [0, -2], [-1, -3], [0, -3], [-1, 2], [0, -1], [-4, -21], [-3, 3], [-11, -26], [-1, -1], [-1, 6], [-1, 0], [-8, -37], [-2, -4], [-2, -8], [-8, -14], [-7, -15], [-4, -15], [-2, 3], [-8, -23], [-1, 0], [-1, 3], [-2, -1], [-1, -1], [0, -4], [-2, -8], [0, -3], [-1, -1], [0, 1], [0, 1], [-1, 4], [0, 1], [0, -1], [-3, -14], [-1, -5], [-1, 0], [-1, 1], [2, 19], [-2, 4], [0, 2], [0, 6], [0, 2], [0, 1], [-1, 0], [-1, -3], [0, 2], [-2, 19], [0, 2], [1, 7], [0, 2], [-1, 1], [0, 2], [-1, 3], [11, 32], [12, 32], [11, 32], [11, 32], [3, 17], [-1, 16], [-2, 5], [-9, -28], [-2, -10], [-8, -17], [-2, -14], [-4, -9], [-3, -15], [-1, -2], [-1, 1], [-2, 7], [-1, -1], [-6, -21], [-1, 0], [-1, -1], [0, -2], [0, -7], [0, -2], [0, -1], [-1, 1], [-1, 8], [0, 1], [-2, -3], [-1, -3], [-1, 0], [-1, 6], [0, 1], [-3, -3], [-1, -3], [0, -3], [0, -1], [-1, 11], [0, 2], [-4, -11], [0, 7], [0, 5], [-1, 3], [0, 1], [3, 21], [1, 7], [0, 8], [1, 20], [-2, -7], [-12, -18], [-2, -9], [-4, -32], [0, -2], [-1, 1], [0, 2], [0, 5], [0, 5], [0, 4], [-1, 6], [-2, 5], [0, 5], [-1, 10], [0, -2], [-1, -6], [-1, -4], [-5, 1], [-1, -4], [-3, -8], [-1, 0], [-3, -7], [-3, 4], [-1, 7], [0, 10], [1, 19], [1, 27], [1, 15], [0, 13], [-2, -9]], [[8246, 8819], [0, 78]], [[8246, 8819], [-2, -10], [-3, -27], [-3, -18], [-2, -16], [-1, -5], [-4, -12], [-1, 5], [-2, 19], [0, 2], [-1, -4], [-1, -22], [0, -8], [-1, -2], [-1, 9], [-1, 4], [-1, -1], [-1, -5], [0, -15], [-1, -6], [-3, -12], [-1, 1], [0, 9], [0, 11], [-1, 0], [-1, -10], [-2, -4], [-2, -1], [-2, -6], [-5, 2], [-1, -7], [-2, -12], [-1, -15], [2, -11], [-1, -6], [-5, -1], [-7, -19], [0, -4], [-1, -11], [0, -3], [-3, -10], [-1, -1], [-1, 5], [1, 11], [1, 24], [-8, -32], [-9, -33], [-4, -6], [-2, 4], [-1, -2], [-2, -6], [-1, 2], [0, 4], [0, 3], [-1, -1], [0, 9], [0, 6], [1, 7], [1, 4], [1, 12], [0, 4], [2, 8], [1, 8], [1, 16], [-1, 2], [-1, 3], [1, 10], [1, 7], [3, 39], [1, 6], [10, 33], [2, -4], [3, 7], [5, 22], [11, 8], [6, 24], [6, 41], [3, 28], [2, 36], [0, 7], [0, 9], [-1, 4], [0, 4], [-1, 3], [0, 4], [0, 4], [0, 4], [0, 5], [0, 5], [-1, 6], [1, 14], [0, -2], [0, -2], [0, -1], [1, 0], [0, 5], [2, 17], [2, 21], [1, 4], [1, 3], [2, -1], [1, -4], [2, -11], [3, 11], [1, 0], [1, -9], [1, -1], [1, -3], [0, -6], [0, -10], [1, -7], [3, -8], [1, -11], [1, -10], [1, -14], [0, -4], [1, 0], [-1, -8], [-1, -6], [0, -9], [1, -7], [0, -3], [2, -2], [2, -8], [1, 0], [2, 8]], [[8795, 9093], [0, -27], [0, -2], [2, -7], [0, -1], [0, -10], [0, -7], [-1, -14], [-1, 0], [0, 5], [-2, 28], [0, 8], [0, 10], [-1, 6], [0, 5], [1, -1], [1, 0], [0, 2], [1, 9], [0, -4]], [[8771, 9214], [0, -5], [0, -12], [0, -3], [1, 0], [3, -8], [1, -9], [2, -12], [-1, -4], [-1, -1], [-1, 2], [-1, -2], [-1, -7], [-1, -2], [0, 1], [0, 5], [-2, -4], [-1, -9], [0, -17], [-1, -12], [-1, 3], [0, 12], [0, 11], [0, 11], [-1, 16], [-1, 27], [0, 2], [-1, 2], [0, 3], [0, 8], [2, -1], [4, 8], [1, -3]], [[8839, 9048], [0, -13], [1, -2], [2, 4], [0, -10], [0, -2], [-1, -6], [-2, -23], [-2, -7], [-1, -4], [2, 41], [-1, 3], [0, 4], [0, 10], [-1, 2], [3, 3]], [[8510, 9165], [1, -4], [1, -7], [0, -4], [-1, -4], [0, -3], [0, -3], [0, -3], [0, -3], [0, -3], [0, -3], [0, -4], [0, -3], [0, -2], [0, -4], [-1, -8], [0, -9], [1, -38], [-1, -28], [0, -13], [-1, -4], [0, 4], [-1, 19], [-1, 7], [1, 5], [0, 9], [-1, 8], [-1, 3], [-1, -3], [0, -3], [-1, -5], [-2, 15], [0, 22], [0, 16], [-1, 10], [-2, 4], [0, 4], [-1, 5], [0, 4], [0, 1], [0, 1], [1, 6], [3, 4], [0, 4], [2, 9], [0, 3], [2, 3], [4, -5]], [[8467, 9042], [1, -3], [0, -10], [0, -12], [0, -11], [-1, -14], [-1, -8], [-2, -5], [-1, -2], [3, -8], [0, -8], [0, -4], [0, -4], [1, -4], [-1, -4], [0, -5], [0, -5], [-1, -7], [-1, -8], [-2, -4], [-1, 2], [0, 3], [0, 3], [-1, 9], [0, 2], [0, -3], [-1, 0], [-1, 1], [-1, -1], [-1, -3], [0, 2], [1, 6], [0, 3], [-1, -2], [0, 4], [-1, 0], [-1, -3], [0, -1], [-1, 2], [1, 9], [0, 6], [0, 6], [0, 7], [0, 3], [-3, 8], [0, 6], [0, 14], [-5, 3], [0, -1], [-1, -9], [0, -2], [-1, 0], [1, 7], [-1, 4], [0, 1], [0, -1], [-1, -1], [1, 11], [0, 5], [0, 3], [1, 5], [5, 4], [1, 0], [1, 3], [0, 3], [1, 3], [3, -8], [1, -7], [1, -2], [5, 4], [4, 18]], [[8574, 8799], [0, -6], [1, -4], [1, -3], [-1, -11], [0, -15], [-1, -9], [0, -5], [-2, -2], [-3, -11], [-1, 0], [-3, 13], [0, 4], [0, 11], [0, 4], [-1, 4], [-1, -2], [-3, -12], [0, -2], [-1, 1], [-1, 9], [0, 4], [-1, 19], [0, 5], [10, -2], [4, 7], [3, 11], [1, 1], [-1, -9]], [[8593, 8862], [1, -17], [1, -7], [0, -8], [0, -7], [0, -4], [-5, -19], [-1, -9], [0, -12], [-1, -5], [0, -3], [0, -9], [0, -3], [0, -4], [-3, -33], [-1, -3], [-1, 9], [0, 16], [0, 5], [-5, 38], [-1, 1], [1, 6], [1, 12], [0, 6], [1, 6], [7, 15], [6, 38], [0, -9]], [[7138, 7712], [-1, -8], [0, -2], [-1, 2], [-1, 2], [0, -1], [0, 11], [0, 6], [0, 4], [2, 1], [0, 1], [1, 3], [-1, -10], [0, -2], [1, -5], [0, -2]], [[8521, 9092], [1, -12], [0, -8], [-1, 4], [-1, 0], [-1, -5], [-1, 1], [0, 10], [1, 9], [1, 5], [0, -1], [1, -3]], [[6656, 8580], [0, -12], [0, -12], [-1, -4], [0, -2], [-1, 1], [-1, 4], [-1, -5], [1, -18], [2, -16], [-2, -5], [-1, -1], [0, 6], [-2, 24], [-3, 21], [-1, 8], [-1, 0], [-1, -6], [-4, -5], [0, 1], [-1, 6], [0, 1], [-1, 2], [0, 5], [1, 2], [2, 4], [0, 2], [1, 6], [0, 8], [0, 3], [0, 2], [1, 3], [0, 3], [-1, 1], [0, 4], [0, 13], [0, 2], [3, 8], [0, -1], [1, -2], [0, -3], [0, -1], [0, -2], [-1, -1], [4, 0], [0, -1], [0, -4], [1, -1], [0, 4], [0, 1], [1, 0], [0, -1], [1, -3], [0, -6], [0, -4], [0, -2], [1, 0], [0, -8], [0, -6], [0, -5], [1, 1], [0, 5], [1, 0], [1, -5], [0, 1], [0, -10]], [[6269, 8444], [1, -8], [-1, -10], [0, -11], [-1, -7], [-2, -3], [-1, 3], [-1, 10], [0, 3], [1, 5], [0, 8], [1, 8], [0, -2], [1, -3], [1, 2], [1, 6], [0, -1]], [[6254, 8445], [-1, -3], [-1, 1], [-2, 7], [3, 6], [2, -3], [-1, -8]], [[6287, 8529], [0, -1], [7, -4], [0, -6], [0, -10], [-1, -4], [-4, 2], [-1, -2], [0, -6], [0, -13], [0, -10], [0, -9], [1, -15], [-1, -8], [-1, 1], [-1, 14], [-1, 5], [-1, 20], [-1, 3], [1, 2], [0, 1], [3, 22], [1, 4], [0, 5], [-1, 3], [0, 6]], [[6239, 8388], [4, -36], [2, -15], [-1, -6], [-3, 1], [0, -4], [-1, -10], [-1, -2], [-1, 3], [-2, 17], [1, -1], [2, 4], [1, -1], [-1, 9], [-4, 17], [1, 7], [-1, 4], [1, 3], [1, 5], [2, 19], [0, -14]], [[6318, 8596], [1, -23], [0, -9], [1, -3], [1, -10], [-1, 1], [-1, -3], [-1, -7], [0, -9], [-2, -30], [2, -8], [2, -2], [7, 11], [3, 15], [1, -12], [1, -4], [1, -2], [3, 0], [0, 1], [1, 4], [0, 5], [0, 4], [1, 5], [3, 10], [1, -1], [2, -5], [-1, 4], [0, 3], [1, -1], [0, -4], [1, -2], [0, 1], [1, 8], [0, 2], [1, 7], [1, 3], [0, 3], [1, 3], [0, -18], [0, -15], [0, -5], [1, -10], [0, -8], [1, -4], [1, -10], [1, -7], [0, -11], [0, -12], [-1, -11], [-1, -43], [-1, -19], [-1, -15], [-2, -15], [-2, -19], [-1, -7], [0, -8], [-1, -5], [-3, -1], [0, 2], [-1, 8], [0, 20], [-1, 5], [0, 2], [1, 5], [0, 2], [-1, 12], [-1, 10], [7, 63], [0, 2], [1, 0], [0, 3], [0, 8], [-2, 1], [-2, 5], [-4, 29], [-1, 3], [-6, 2], [-1, -3], [-6, -45], [-3, -10], [0, -3], [0, -2], [0, -3], [-1, -4], [-1, 0], [-3, 10], [-1, 5], [-1, 9], [8, 16], [1, 9], [1, 15], [-11, 5], [0, -2], [-1, -8], [-1, -11], [-1, -6], [-1, 1], [-1, 9], [1, 1], [0, 2], [2, 10], [-2, 1], [0, 13], [1, 7], [1, 2], [1, -2], [0, 2], [1, 5], [1, 8], [1, 9], [-3, 9], [-3, 1], [-4, -17], [-1, -1], [0, 9], [1, 5], [0, 3], [0, 4], [0, 7], [0, 5], [-1, 4], [8, 21], [1, -3], [0, 1], [1, 4], [1, 8], [0, 4], [3, 11], [1, -9]], [[6325, 8541], [1, -5], [1, 5], [1, -7], [-2, -12], [-1, -4], [-1, -1], [-5, 10], [0, 2], [1, 5], [1, 8], [1, 8], [1, 4], [1, -5], [1, -8]], [[6181, 8192], [0, -7], [1, -3], [-1, -16], [0, -4], [0, -4], [0, -8], [0, -13], [-7, 1], [-1, -2], [0, 6], [1, 1], [0, 3], [1, 3], [0, 7], [0, 7], [1, 3], [2, 0], [0, 1], [0, 3], [0, 4], [0, 6], [1, 12], [0, 7], [1, 1], [0, -1], [1, 0], [0, 3], [0, 4], [0, 3], [0, 4], [1, 1], [0, -2], [-1, -11], [0, -9]], [[5447, 7270], [-4, -8], [-1, -5], [-1, -8], [-1, -21], [0, -4], [0, -6], [0, -6], [0, -4], [0, -5], [0, -6], [0, -14], [-1, -12], [-2, 0], [-1, 7], [-2, 15], [-1, 1], [-2, -3], [-11, 13], [-3, 9], [-4, -3], [0, -8], [-1, -4], [0, -2], [-2, -1], [-1, 2], [-2, 10], [-1, 1], [0, -3], [0, -1], [-1, 2], [0, 4], [0, 3], [-1, 0], [-1, 1], [0, 3], [-1, -1], [-1, -4], [0, -2], [-1, 1], [-1, 4], [0, 1], [-1, -1], [0, -1], [0, -3], [0, -3], [0, -2], [-3, 5], [0, -3], [-1, -13], [0, -2], [-1, 3], [-1, 0], [0, -2], [-1, -6], [0, -1], [-2, 2], [-5, -3], [-5, 12], [-2, 12], [-1, 4], [-4, 2], [-2, 6], [-1, 12], [-2, 29], [-1, 11], [-1, 7], [-1, 29], [-1, 8], [-2, 11], [0, 1], [0, 2], [-1, 4], [-1, 7], [0, 6], [0, 9], [0, 7], [0, 6], [0, 4], [-1, -7], [-1, 0], [0, 4], [0, 6], [0, 8], [1, 18], [0, 6], [4, 33], [6, 24], [0, 2], [0, 3], [0, 5], [0, 6], [0, 3], [0, 26], [2, -3], [5, -25], [1, -4], [1, 1], [0, 3], [1, 8], [1, 4], [1, 3], [0, 4], [0, 5], [1, 8], [0, 3], [1, 0], [0, -2], [-2, 7], [1, 3], [-1, 7], [1, 4], [3, -8], [-3, 23], [0, 3], [1, 1], [1, -1], [0, 5], [1, 3], [1, 7], [9, 27], [9, 7], [9, 7], [9, -15], [8, -14], [0, -2], [-1, -1], [2, -6], [0, -3], [0, -6], [0, -3], [0, -2], [-1, 0], [-1, -1], [0, -2], [1, -4], [-1, -4], [0, -2], [0, -1], [-2, 3], [5, -20], [1, -10], [0, -4], [0, -4], [-1, -2], [0, -2], [-1, -2], [0, -1], [0, -1], [0, -1], [2, -9], [0, -4], [-1, -3], [0, -2], [0, -4], [1, -2], [0, -6], [-1, -3], [-1, -2], [1, -1], [1, -8], [-1, -7], [0, -4], [-1, 1], [1, -7], [1, -3], [1, 3], [-1, -8], [0, -18], [0, -28], [3, -16], [6, -12], [6, -41]], [[5447, 7318], [0, -48]], [[5447, 7318], [2, 1], [0, 8], [2, 33], [0, 11], [0, 14], [0, 10], [0, 8], [0, 11], [0, 6], [1, 6], [0, 6], [1, 5], [7, 25], [2, 16], [-2, 7], [11, 14], [10, -20], [1, 4], [2, 10], [1, 3], [2, -4], [3, 4], [1, 6], [0, 10], [1, 3], [0, 2], [0, 5], [0, -8], [1, -9], [0, -9], [1, -7], [8, -29], [8, -29], [4, -20], [8, -23], [5, -26], [1, -4], [3, 2], [1, 4], [0, 6], [1, 8], [0, 4], [4, 6], [13, -15], [0, 13], [3, -10], [-4, 23], [-2, 6], [-1, 5], [1, 2], [-4, 24], [0, 4], [1, 2], [1, 0], [0, -2], [0, 4], [0, 4], [0, 3], [-1, 2], [1, 6], [0, 3], [1, 0], [1, -6], [0, -1], [0, 5], [0, 9], [3, 12], [3, 6], [10, -19], [10, -19], [1, 0], [1, 3], [13, -9], [3, -8], [0, -3], [0, -10], [1, -4], [0, -2], [1, -1], [-1, -12], [1, -3], [0, -2], [1, -1], [0, -3], [1, -9], [0, -3], [-4, -17], [-1, -14], [7, -38], [7, -38], [8, -23], [7, -22], [10, 24], [1, 4], [0, 6], [1, 8], [0, 14], [0, 14], [0, 8], [1, 2], [1, 1], [4, -7], [1, 4], [0, 4], [0, 4], [1, 1], [1, -1], [0, -5], [1, -5], [2, -18], [13, -25], [0, -2], [1, -9], [1, -3], [-1, -3], [1, -15], [1, -13], [0, -9], [1, -5], [3, -1], [1, 4], [0, 8], [0, 3], [1, 2], [4, -14], [0, 1], [1, 4], [1, 0], [1, -7], [1, -1], [0, 8], [0, 5], [1, 3], [1, 1], [0, -2], [3, -16], [2, -5], [1, 0], [2, -8], [0, -2], [0, 7], [1, 5], [0, 3], [0, -1], [0, 2], [0, 2], [1, 2], [0, 1], [0, 4], [0, 1], [1, 0], [0, 5], [1, 3], [-3, 18], [1, 4], [-1, 7], [0, 5], [1, 6], [1, 1], [5, -25], [1, -1], [-1, 4], [-1, 7], [-1, 18], [0, 5], [0, 5], [0, 7], [0, 7], [0, 4], [7, 10], [-4, -4], [-2, 2], [-2, 14], [2, 6], [7, 10], [1, 5], [0, 1], [-1, 5], [1, 8], [2, 2], [6, -6], [1, -9], [0, -1], [2, -3], [6, 8], [2, -10], [0, -6], [0, -7], [1, -12], [-2, -20], [-8, -25], [1, -20], [1, 17], [1, 6], [7, 3], [1, -6], [0, -9], [0, -16], [0, -14], [0, -4], [0, -1], [0, -1], [0, -7], [1, -8], [0, -8], [1, -7], [0, -10], [2, -11], [11, -29], [2, 3], [1, 12], [2, 4], [1, -1], [2, -7], [1, -1], [1, 3], [1, 6], [0, 7], [1, 25], [0, 7], [0, 6], [0, 7], [-2, 13], [-1, 26], [-1, 17], [-1, 28], [0, 8], [-1, 5], [0, 2], [1, 2], [0, 7], [-1, 6], [-1, 7], [1, 1], [0, 2], [0, 2], [0, 2], [0, 7], [-1, 3], [-1, 3], [0, 4], [0, 4], [1, 2], [0, 2], [-1, -2], [-1, -6], [-1, -1], [0, 11], [1, 7], [1, 3], [1, 2], [-2, 0], [-3, -9], [-1, 8], [1, 11], [1, 4], [9, -7], [6, -32], [1, -2], [2, 3], [7, 32], [1, -1], [3, -13], [6, 0], [10, 22], [1, 5], [0, 6], [-1, 4], [0, 3], [-1, 2], [-2, 3], [0, 3], [-1, 9], [1, 5], [1, 9], [1, 0], [1, -6], [0, -1], [0, 3], [1, 1], [0, -1], [0, -3], [1, -1], [5, 11], [2, 15], [0, 10], [0, 2], [-1, 5], [1, -1], [0, 6], [0, 2], [-1, 3], [3, 22], [2, 4], [1, -9], [1, -4], [1, -6], [0, -3], [0, -3], [0, -3], [0, -2], [0, -4], [1, -2], [0, 2], [2, 12], [1, 2], [0, -1], [1, -6], [0, -2], [2, -4], [4, 5], [2, 5], [2, 13], [2, 3], [1, 7], [-2, 18], [1, -4], [1, 0], [1, 6], [0, 6], [-1, 6], [-1, 8], [0, 13], [0, -1], [0, 7], [1, 11], [0, 6], [0, 3], [1, 5], [-1, 3], [0, 4], [-1, 3], [0, 3], [1, 1], [-1, 3], [0, 5], [0, 7], [-1, 12], [0, 6], [0, 5], [1, 2], [1, 0], [1, -3], [0, -1], [1, 2], [7, 45], [0, 2], [2, 0], [1, 2], [3, 21], [1, 9], [2, 10], [1, 1], [1, -6], [2, -13], [1, -2], [2, 4], [4, -9], [2, 0], [1, -4], [1, 5], [1, 1], [0, 6], [-1, 5], [0, 2], [0, 3], [-1, 5], [1, 6], [0, 14], [1, 15], [0, 9], [1, 9], [1, 1], [1, -1], [1, -4], [0, 2], [-1, 6], [1, 14], [2, 7], [4, 5], [2, -6], [0, -2], [0, -5], [0, -3], [1, -1], [1, 0], [11, -29], [1, 2], [0, 3], [1, 11], [1, 5], [1, 1], [13, -24], [11, 11], [1, 5], [0, 9], [1, -2], [0, -6], [0, -5], [5, -61], [1, -9], [1, -14], [4, -25], [1, -8], [0, -13], [1, -31], [0, -3], [0, -3], [-1, -3], [1, -3], [0, -10], [0, -4], [0, -7], [0, -25], [0, -4], [0, -3], [0, -4], [0, -4], [0, -5], [0, -3], [0, -3], [0, -9], [0, -8], [-1, -6], [0, -6], [0, -5], [-1, -7], [0, -5], [-1, -8], [0, -7], [0, -4], [-1, 0], [0, -7], [0, -4], [0, -1], [0, -6], [0, -10], [0, -4], [0, -4], [-1, -11], [0, -4], [1, -3], [0, -6], [1, -10], [-1, -12], [0, -8], [-1, -5], [-1, -4], [0, -8], [-1, -9], [0, -7], [-1, -2], [-1, -2], [-1, -9], [-2, -5], [-6, -1], [0, -2], [-1, -4], [-1, -10], [-6, -15], [-2, -8], [-4, -6], [-7, -26], [-3, -2], [-2, -9], [-4, -7], [-6, 3], [-1, 2], [-1, 7], [-1, -1], [-6, -28], [-1, -1], [-2, 7], [-5, -3], [-2, -6], [-2, 1], [-2, -5], [-1, 1], [0, 6], [0, 1], [0, -1], [-1, -5], [0, -1], [-9, -12], [0, -3], [-1, -3], [0, -3], [0, -5], [-1, -8], [0, -3], [0, -2], [-4, -3], [-4, -9], [0, -1], [0, 1], [0, -1], [-1, -1], [0, -6], [0, -2], [-2, -10], [0, -4], [0, -8], [-1, -2], [-1, 0], [-2, -10], [-1, -4], [0, -5], [-1, -11], [0, -3], [-2, -4], [0, -2], [-1, -9], [0, -4], [0, -1], [-6, -12], [-1, 1], [-2, -8], [-2, -6], [-1, -5], [-1, -12], [-2, -10], [-1, -4], [0, -3], [-4, 7], [-1, 0], [-1, -5], [0, -7], [-1, -6], [-1, -1], [-2, 5], [0, -2], [-1, -5], [-1, -2], [-11, -7], [0, -3], [-1, -6], [0, -11], [-1, -3], [0, -2], [-2, -8], [0, -1], [-1, 1], [-1, -1], [-1, -5], [0, -6], [-1, -2], [0, 7], [-1, -9], [0, -2], [-2, 4], [0, -1], [-1, -2], [-1, -6], [0, -7], [0, -7], [1, -5], [0, -4], [1, -2], [1, 0], [1, -1], [0, -7], [0, -6], [0, -7], [0, -8], [0, -8], [-1, -2], [-8, 24], [-1, 5], [-1, 3], [0, -4], [-1, -5], [0, -1], [-1, 1], [0, -2], [-1, -4], [0, -5], [-1, 2], [-2, -1], [-1, -2], [-1, -16], [-1, -4], [-2, -7], [-1, 1], [0, 1], [-1, -7], [-2, 1], [-3, 11], [-1, -4], [-2, -9], [-2, -4], [-3, 1], [-2, 3], [-2, 13], [-1, 1], [-1, 1], [-1, 5], [0, 2], [-1, -1], [0, -4], [-1, 0], [0, 1], [-1, 5], [0, 5], [-1, 3], [-1, -2], [0, -2], [0, -5], [1, -2], [-2, 0], [-2, 6], [-5, 0], [-8, 17], [-11, 48], [-1, 4], [-1, 14], [-1, 6], [-4, 27], [-1, 11], [-1, 19], [1, -2], [1, 1], [1, 3], [3, 29], [-1, 8], [0, 8], [0, 9], [0, 9], [-1, 5], [-3, 35], [-3, 18], [-2, 7], [-10, 3], [-1, -11], [-1, -33], [0, -14], [-1, -13], [-1, -7], [-1, -2], [-1, -3], [1, -5], [0, -10], [0, -11], [-1, -10], [0, -5], [0, -5], [-1, -4], [0, -2], [-1, -1], [0, -1], [-1, -2], [0, -13], [0, -12], [-3, -32], [-1, -6], [0, -1], [-3, 5], [-5, -5], [-1, -2], [0, -1], [0, 2], [-1, 5], [0, 1], [-2, 2], [0, 2], [-2, 13], [-1, 4], [-4, -1], [-1, -3], [-2, 10], [0, 1], [-1, -1], [0, -4], [-1, -2], [-1, 4], [-1, 0], [0, 1], [1, 31], [-1, 1], [-1, -1], [-2, 5], [-6, 1], [-5, 13], [0, 9], [9, 6], [9, 7], [1, 7], [1, 7], [1, 10], [0, 10], [-1, 7], [-1, 5], [-1, 13], [-1, 5], [-3, 11], [-2, 9], [-2, 25], [-4, 17], [0, 4], [0, 3], [-1, 4], [0, 4], [-1, 8], [-5, 32], [-2, 5], [-1, -5], [-2, -11], [0, -7], [-3, -54], [-1, -11], [0, -5], [0, -2], [0, -6], [0, -2], [-1, -14], [0, -6], [-3, -1], [0, -4], [-1, -8], [-2, -34], [-1, -8], [1, -9], [-1, -5], [-1, -5], [0, -8], [0, -7], [1, -7], [0, -11], [-1, -13], [0, -13], [1, -14], [0, -13], [-4, -25], [-1, -4], [-3, 8], [-2, -1], [-3, -13], [-2, -1], [-1, -2], [-1, -6], [0, -1], [-2, 1], [-2, -10], [-1, 0], [-5, 9], [-1, -2], [-2, -11], [-1, 1], [-1, 5], [-4, 3], [-3, 9], [-1, 1], [-3, -24], [-2, -2], [-8, 15], [-4, 26], [-1, 7], [-1, 23], [0, 9], [-1, 9], [0, 4], [-1, 2], [-1, -3], [0, 1], [-1, 8], [0, 28], [0, 13], [0, 9], [0, 5], [2, 6], [1, 7], [3, 49], [0, 5], [0, 5], [1, 17], [0, 3], [1, 3], [0, 3], [1, 3], [0, 7], [0, 5], [1, 4], [0, 6], [0, 13], [-2, 26], [-1, 7], [1, 9], [0, 2], [1, 1], [0, -2], [1, 0], [0, 2], [-4, 22], [-5, 15], [-2, 0], [-1, -5], [-1, -8], [0, -10], [-1, -10], [-2, -10], [-4, -2], [-1, -7], [-2, -10], [-4, -12], [-2, -1], [1, -3], [0, -2], [0, -4], [1, -2], [0, -4], [0, -4], [0, -4], [5, -62], [-2, 0], [-1, -2], [-1, -6], [0, -4], [0, -4], [0, -2], [-7, -1], [-5, 14], [-1, -2], [-2, 3], [-1, 8], [-8, 8], [-7, 7], [-1, -1], [-2, -7], [-4, 0], [-1, -2], [-1, 3], [1, 7], [-2, 12], [-10, -7], [-1, 3], [1, 6], [1, 8], [1, 10], [1, 11], [0, 15], [0, 16], [0, 15], [0, 17], [0, 3], [1, 3], [0, 5], [0, 10], [0, 7], [0, 6], [0, 6], [-1, 5], [-1, 9], [-2, 3], [-6, -11], [-3, 4], [-1, -3], [0, -10], [-1, -2], [0, -1]], [[5287, 7394], [0, -7], [1, 1], [2, -6], [0, -6], [0, -4], [-1, -3], [0, -1], [1, 3], [1, 0], [0, -4], [0, -6], [1, -4], [1, -7], [-1, -2], [1, -9], [7, -22], [3, -3], [2, 3], [0, 15], [-1, 1], [1, 5], [0, 4], [0, 4], [1, 2], [-1, 1], [0, 3], [0, 5], [0, 5], [5, 13], [3, 1], [2, -18], [0, 3], [1, -2], [4, -21], [5, -11], [1, 3], [1, 7], [1, 5], [0, 10], [0, 4], [1, -1], [1, -8], [-1, 15], [0, 9], [0, 7], [1, 0], [2, -14], [-1, 4], [0, 5], [0, 7], [0, 7], [1, 1], [0, -3], [1, -9], [7, -53], [2, -9], [2, 0], [1, 0], [0, -1], [0, -10], [1, -10], [13, -19], [1, -4], [1, -21], [1, -8], [-1, -4], [-3, -3], [-2, -8], [0, -15], [-1, -1], [-2, -11], [0, -1], [-2, 4], [-1, -3], [-2, -15], [-5, -3], [-1, -6], [-1, -12], [0, -9], [-1, -9], [0, -7], [-1, -3], [-1, -4], [-1, -5], [0, -7], [0, -14], [-1, -7], [-1, -8], [0, -28], [0, -23], [0, -11], [-1, -2], [0, -3], [-1, -14], [0, -3], [0, -3], [-3, -6], [0, -3], [0, -4], [-1, -11], [0, -3], [-1, 0], [-4, 5], [-1, -1], [-8, 18], [-1, -2], [-2, -8], [-1, 4], [-2, 10], [-1, 13], [0, 2], [-1, -2], [-3, 6], [-4, 21], [-3, 4], [0, 3], [-2, 9], [-1, 4], [-2, 13], [-2, 2], [-1, 13], [-1, 3], [-1, 1], [-1, 1], [-1, 6], [-8, 34], [-1, 4], [-2, 26], [-3, 20], [-2, 5], [-1, -2], [0, 13], [0, 12], [0, 11], [0, 10], [-1, 4], [-1, 5], [-1, 6], [0, 9], [-1, 6], [-2, 14], [0, 4], [-1, 6], [0, 10], [0, 3], [0, 2], [-2, 8], [1, 1], [7, 32], [2, 4], [5, -8], [-1, 5], [0, 1], [1, 7], [0, 6], [-1, 2], [1, 0], [0, 2], [1, 5], [6, 25], [3, 4], [2, -1], [1, -2]], [[5245, 7373], [3, -10], [1, 0], [1, -2], [1, -5], [0, -7], [0, -2], [0, -1], [-1, 0], [0, -8], [1, -4], [0, -3], [1, -1], [-3, -11], [0, -6], [1, -2], [0, -1], [2, 2], [0, -1], [-5, -47], [-1, -14], [2, -15], [2, -12], [2, -3], [1, -2], [1, -4], [0, -9], [0, -13], [0, -12], [-1, -7], [0, -1], [-2, 10], [-1, -1], [-1, -5], [0, -2], [-4, 9], [0, -14], [-1, -11], [-1, -6], [0, -2], [-2, 0], [0, -2], [-1, -8], [0, -3], [-3, -11], [-3, -5], [-2, 6], [-1, 1], [-1, -3], [-1, -9], [-1, -1], [-3, 9], [-5, 2], [-1, 4], [-1, 8], [0, 9], [-1, 15], [0, 15], [0, 13], [0, 3], [1, 4], [1, 3], [0, 4], [1, 32], [0, 13], [-1, 11], [0, 8], [-2, 6], [2, 7], [1, 4], [0, 6], [1, 8], [0, 7], [0, 17], [1, 7], [0, 4], [0, 6], [0, 4], [0, 2], [1, 4], [0, 6], [-1, 5], [1, 2], [1, 1], [0, 1], [0, 2], [-1, 3], [0, 4], [1, 4], [1, 1], [1, -1], [-1, 2], [0, 1], [-1, 1], [1, 6], [0, 2], [0, 1], [0, 13], [1, 8], [1, 3], [1, -1], [0, -7], [2, -31], [2, -15], [1, -8], [3, -11], [-1, 8], [-1, 9], [-1, 5], [0, 7], [0, 30], [1, 8], [1, 10], [2, -5], [3, -20], [2, -5], [1, -3], [2, -13]], [[6062, 7462], [0, -7], [-1, -15], [0, -6], [0, -6], [3, -17], [0, -2], [1, -2], [0, -3], [0, -7], [1, -2], [0, 1], [1, 5], [0, 16], [3, 20], [2, 5], [3, -7], [2, -13], [0, -4], [0, -4], [-1, -20], [-1, -12], [0, -15], [0, -13], [1, -12], [1, -10], [1, -5], [3, -26], [4, -18], [0, -4], [0, -9], [0, -4], [-1, -3], [-1, -5], [-2, -3], [-4, 8], [-2, 0], [0, 12], [-1, 7], [-3, 14], [-1, 5], [-2, 28], [-1, 7], [0, 6], [-1, 3], [-1, -2], [-1, -4], [-1, -2], [-1, 3], [-1, 2], [0, 5], [1, 14], [0, 4], [0, 5], [0, 8], [0, 4], [-1, 8], [-2, 21], [-1, 4], [-1, 3], [-1, 2], [0, 7], [2, 15], [3, 7], [1, 4], [0, 6], [0, 5], [0, -2]], [[5958, 7940], [5, -15], [0, -2], [0, -8], [0, -3], [2, -16], [1, -1], [1, 1], [0, -2], [0, -3], [0, -3], [-1, -4], [1, -4], [0, -2], [0, -4], [0, -5], [0, -5], [1, -3], [0, -13], [0, -13], [1, -12], [-1, -10], [1, -7], [1, -4], [2, -1], [0, 1], [1, 2], [0, 5], [0, 6], [0, 4], [1, 1], [1, -3], [3, -16], [6, -11], [1, -9], [1, -7], [1, -12], [1, -15], [1, -5], [0, -3], [1, -1], [0, 7], [0, 7], [0, 6], [1, 4], [1, -1], [0, -2], [1, 0], [0, 2], [0, 2], [1, 2], [1, 0], [9, -49], [10, -25], [4, -28], [1, -14], [0, -14], [-1, -9], [-2, 1], [-10, 38], [-1, 1], [-1, -3], [2, -1], [4, -24], [0, -3], [1, -17], [1, -3], [0, -2], [1, -4], [0, -6], [0, -7], [0, -8], [0, -7], [0, -4], [1, -4], [3, -15], [1, -3], [1, 0], [3, -9], [0, -4], [0, -3], [0, -1], [1, 3], [1, -2], [1, -4], [2, -5], [0, -3], [1, -5], [0, -5], [1, -8], [0, 1], [1, 25], [0, 9], [7, 63], [7, 63], [1, 8], [9, 25], [1, 1], [1, -1], [1, -4], [-1, -9], [-1, -9], [-3, -9], [0, -5], [-1, -6], [-1, -3], [1, -2], [-1, -3], [-4, -30], [-3, -14], [0, -10], [0, -1], [0, -6], [-1, -8], [-2, -19], [-2, -16], [-1, -5], [0, -9], [-1, -8], [0, -7], [-1, -3], [0, -4], [0, -3], [0, -3], [0, -4], [0, -5], [0, -5], [0, -2], [0, -6], [-2, -26], [0, -8], [1, -8], [0, -8], [-1, -5], [-2, -10], [-1, 0], [-1, -2], [0, -6], [-1, -3], [-1, 3], [0, 8], [-1, 12], [0, 12], [1, 8], [-1, 3], [-1, 19], [-4, 23], [0, 5], [-1, 11], [0, 5], [0, 5], [0, 4], [0, 2], [-1, 4], [-6, 4], [-2, 7], [-1, 0], [-1, -6], [1, -19], [-5, -15], [-1, -7], [-1, 1], [-1, 27], [0, 4], [-1, -1], [-2, -7], [-2, -6], [-6, 0], [-4, -16], [-2, -1], [-1, -5], [-2, -2], [-1, -6], [-1, -3], [-1, -1], [-1, 1], [-3, 17], [-1, 14], [0, 19], [1, 12], [1, 5], [1, 8], [1, 21], [-2, 9], [-1, 5], [0, 6], [0, 17], [0, 6], [1, 10], [0, 13], [0, 13], [0, 16], [0, 8], [1, 5], [0, 9], [-2, 17], [-3, 14], [-2, 19], [-1, 9], [-1, 11], [-1, 3], [-2, 8], [0, 4], [-1, 2], [-2, -1], [0, 2], [-1, 10], [1, 4], [-1, 6], [-1, 2], [-3, -7], [-1, -3], [-1, -19], [-1, -3], [-12, 5], [-2, 5], [-1, 10], [-1, 4], [0, 12], [-1, 2], [-3, -3], [-1, 4], [6, 21], [4, 29], [1, 10], [1, 14], [0, 6], [1, -1], [0, 1], [0, 13], [0, 3], [8, 23], [1, 5], [0, 1], [0, -3], [2, 7], [1, -1]], [[6132, 7959], [-1, -2], [0, 3], [-1, 7], [0, 2], [2, 10], [2, -7], [-2, -7], [0, -3], [0, -3]], [[6364, 8720], [-1, -11], [5, 10], [2, -4], [2, -20], [-1, -1], [-1, 2], [-1, 0], [0, -8], [0, -4], [0, -17], [1, -3], [-2, -5], [-1, -4], [0, -3], [-1, 3], [-6, 6], [-1, -4], [-3, 6], [-1, -4], [-1, 3], [-1, 13], [1, 2], [0, 3], [1, 7], [0, 4], [-1, 3], [0, 2], [-1, 2], [9, 32], [1, -2], [1, -8]], [[6370, 8826], [1, -12], [2, -16], [2, -6], [-1, 0], [-5, -11], [-1, 2], [0, 4], [-1, 12], [0, 3], [-1, 2], [-1, -1], [2, 14], [3, 8], [0, 1]], [[6705, 8557], [-1, -12], [-1, -5], [3, -10], [-5, -13], [0, 1], [-1, 5], [-1, 12], [-1, -1], [0, 3], [-1, 5], [1, 1], [0, 4], [0, 5], [0, 7], [1, 2], [1, 10], [1, -1], [0, -10], [1, -3], [0, 2], [1, 10], [0, 3], [1, -4], [1, -11]], [[6690, 8589], [0, -5], [1, -2], [0, -4], [-1, -2], [-1, 4], [-1, 9], [0, 3], [1, 6], [0, 2], [0, 1], [1, 1], [0, -2], [0, -4], [0, -7]], [[6950, 8072], [1, -10], [0, -12], [1, -24], [0, -7], [1, -27], [1, -8], [0, -5], [1, -3], [1, 0], [1, 2], [4, -4], [2, 5], [0, 3], [0, 8], [1, 4], [0, 4], [1, 5], [0, 4], [1, 16], [1, 5], [1, -1], [4, -31], [1, -13], [1, -2], [1, 4], [1, 0], [2, -3], [0, 6], [1, 8], [0, 10], [1, 11], [2, 9], [1, 4], [1, -3], [4, -21], [2, 0], [6, 27], [9, 1], [6, -18], [1, 0], [3, 5], [4, -7], [1, -6], [1, -13], [0, -5], [0, -7], [0, -6], [0, -3], [2, -1], [2, -7], [5, -3], [1, -5], [2, -9], [4, -33], [2, -12], [2, -9], [1, -15], [-1, -1], [1, -9], [0, -3], [1, -2], [1, -3], [0, -7], [3, -32], [2, -35], [1, -7], [0, -3], [0, -3], [2, -1], [0, -4], [4, -36], [1, -9], [3, -33], [1, -10], [1, -6], [0, -10], [0, -2], [-2, 4], [1, -6], [1, -8], [0, -10], [1, -9], [-3, -3], [-4, 3], [-3, -4], [1, -5], [2, -6], [0, -3], [1, -10], [1, -3], [0, -1], [1, -6], [0, -5], [0, -2], [-1, -3], [0, -4], [0, -3], [0, -2], [-1, -3], [-1, 4], [0, -1], [-1, -5], [0, -1], [0, 1], [-1, 3], [-1, -3], [0, -4], [0, -2], [-1, 1], [0, -6], [-4, -11], [-1, -3], [0, -3], [0, -6], [-1, -12], [0, -4], [1, -13], [0, -13], [0, -11], [-1, -6], [1, -7], [0, -2], [3, 5], [1, -1], [0, 1], [1, 1], [-2, -28], [-2, -17], [-1, -7], [0, -5], [-2, 2], [-1, 4], [-1, 17], [0, 4], [-1, 2], [-1, 0], [0, 3], [0, 5], [-1, 3], [-1, -7], [-1, -1], [0, -4], [0, -9], [-1, -3], [0, -3], [-2, -6], [-1, -5], [0, -6], [0, -8], [0, -11], [-1, -11], [0, -4], [0, -6], [0, -12], [-1, -7], [-1, 0], [0, 5], [-1, 0], [0, -5], [-1, -6], [0, -4], [-1, 1], [0, 5], [-1, 1], [0, -2], [0, -8], [-1, -2], [0, -2], [-1, 0], [0, 1], [-1, 0], [0, -7], [-3, -13], [-1, -3], [0, -3], [0, -7], [0, -4], [0, -3], [-1, -6], [-1, -12], [-1, -6], [0, -10], [0, -7], [1, -17], [1, -16], [2, -23], [1, -18], [0, -7], [0, -5], [0, -3], [1, -5], [0, -4], [0, -9], [0, -8], [0, -6], [-2, -12], [-1, -1], [-1, 4], [-1, 0], [-1, -2], [0, -5], [0, -4], [-1, -10], [0, -2], [-3, -17], [0, -5], [-1, -2], [0, -2], [-1, -3], [1, -16], [-2, -20], [-1, -14], [-1, 2], [-2, 7], [-1, 1], [-2, -7], [1, -18], [-1, 4], [-2, 11], [0, 5], [-1, 1], [-1, 0], [0, -2], [-1, -2], [0, -6], [0, -3], [-1, -3], [-2, -2], [-1, -2], [0, -6], [-2, -28], [0, -2], [1, -8], [0, -3], [2, -4], [0, -17], [0, -11], [-1, -5], [-2, 1], [0, -3], [-1, -4], [0, -6], [0, -3], [-1, 0], [0, -2], [1, -20], [-2, -1], [-1, 2], [-1, -4], [-4, -76], [-1, -16], [0, -1], [0, -2], [-1, -5], [0, -7], [1, -5], [1, -4], [3, -1], [0, -1], [1, -5], [0, -1], [-1, -4], [0, -1], [0, -9], [0, -1], [-1, -3], [-1, -11], [-4, -5], [-1, -3], [0, -9], [-1, -6], [0, -3], [-1, -2], [0, -8], [1, -7], [1, -11], [-1, -4], [-1, -12], [0, -6], [-1, -6], [0, -5], [0, -8], [1, -9], [3, -20], [2, -3], [0, -2], [1, -9], [0, -3], [4, -20], [-3, -13], [-1, -1], [-5, 15], [-1, 0], [0, -5], [-1, -3], [0, -1], [-1, 0], [0, 2], [-1, 1], [0, -3], [0, -4], [-1, -6], [0, -6], [0, -5], [1, -4], [1, -9], [3, -10], [1, -5], [-2, -12], [-1, 9], [-1, 2], [-2, -8], [-2, -2], [-3, -20], [-1, -5], [-4, -14], [-6, 2], [-1, -1], [0, -5], [0, -8], [0, -3], [3, -6], [1, -3], [1, -10], [1, -2], [1, 0], [1, -3], [0, -1], [0, -3], [-1, -1], [1, -3], [0, -6], [0, -2], [-1, -7], [-1, -17], [-4, -26], [0, -2], [-4, -1], [-3, -8], [-2, 4], [-6, -7], [-1, 0], [0, -1], [0, -16], [-1, -1], [0, 2], [0, 1], [-1, -5], [-1, -7], [0, -11], [-1, -15], [2, -3], [1, -3], [1, -10], [0, -18], [0, -4], [-2, 7], [-1, -1], [-1, -10], [0, -2], [-2, -2], [-1, -4], [0, -6], [-1, -8], [-1, -12], [0, -1], [0, -3], [1, -1], [-1, -2], [0, -5], [-1, -13], [2, -16], [-1, -10], [-1, -6], [-2, -3], [-1, 3], [1, 3], [0, 3], [0, 4], [0, 5], [-4, 8], [-6, -5], [-2, 5], [-1, -2], [-8, -36], [-1, -2], [-3, 8], [-3, 3], [-2, -3], [-3, -12], [-4, -34], [1, -5], [0, -1], [-2, -6], [-1, -7], [-1, -2], [-1, -2], [0, -3], [0, -8], [-2, -13], [-1, -9], [0, -9], [1, -8], [0, -5], [0, -7], [0, -25], [0, -11], [1, -8], [0, -6], [2, -5], [0, -5], [0, -14], [1, -7], [0, -4], [0, -7], [0, -5], [0, -11], [0, -12], [0, -6], [-2, -9], [1, -12], [-1, -14], [0, -14], [0, -15], [-1, 1], [-1, -1], [-1, -4], [-1, -8], [0, -4], [-2, -2], [-13, -57], [-3, -5], [-2, 5], [0, 17], [-2, -8], [-1, -1], [-1, 7], [2, 13], [0, 9], [0, 13], [-1, -7], [-1, -3], [-1, 3], [0, 5], [-1, 3], [-1, -1], [-5, -23], [-1, 2], [-1, 3], [0, 3], [0, 4], [-1, 0], [-1, -5], [-1, 0], [-3, 5], [-1, 3], [-1, 6], [0, 4], [0, 13], [0, 5], [-1, 4], [0, 3], [0, 3], [0, 2], [0, 1], [4, 19], [1, 5], [1, 18], [0, 3], [4, 19], [5, 10], [2, 14], [1, 10], [0, 11], [1, 32], [1, 31], [0, 17], [1, 9], [0, 19], [0, 10], [0, 6], [0, 6], [1, 28], [1, 18], [0, 6], [1, 18], [0, 8], [0, 6], [1, 5], [-1, 5], [1, 9], [2, 26], [0, 6], [0, 7], [0, 6], [0, 6], [0, 3], [0, 3], [0, 19], [0, 23], [0, 10], [1, 8], [0, 3], [0, 4], [0, 4], [0, 4], [0, 4], [0, 5], [-2, 5], [-1, 6], [1, 12], [0, 5], [3, 0], [0, 4], [1, 6], [1, 3], [0, 9], [0, 2], [1, 5], [0, 4], [1, 5], [0, 7], [0, 6], [0, 5], [0, 5], [0, 4], [-1, 16], [-1, 4], [1, 11], [3, 22], [-1, 2], [0, 4], [-1, 9], [5, 14], [2, 9], [0, 4], [0, 10], [0, 2], [2, 9], [1, 7], [0, 8], [0, 8], [-1, 6], [0, 1], [1, 2], [0, 5], [0, 8], [-1, 1], [0, 1], [-1, 5], [1, 2], [0, 3], [0, 5], [0, 6], [0, 2], [0, 7], [0, 8], [0, 6], [2, 14], [3, 38], [1, 10], [1, 7], [-1, 5], [5, 14], [2, 8], [0, 14], [0, 8], [1, 3], [5, 5], [4, 21], [-1, 2], [-1, 0], [0, 1], [-2, 8], [1, 10], [1, 6], [6, 33], [2, 21], [-1, 1], [0, 2], [0, 3], [4, 40], [1, 11], [-1, 12], [0, 10], [1, 8], [2, 22], [0, 9], [-1, 7], [1, 5], [2, 27], [1, 9], [0, 10], [0, 52], [1, 50], [0, 14], [0, 12], [-2, 44], [-1, 4], [-6, 2], [-5, -15], [-2, -9], [-1, -17], [0, -25], [0, -4], [-1, -2], [0, -7], [-1, -2], [-1, 0], [-1, 3], [0, 6], [-1, 20], [-1, 5], [-1, 0], [-7, -16], [-1, -8], [-1, -1], [-1, 6], [0, -1], [-1, -3], [0, -2], [-1, 1], [-1, 7], [0, 2], [-1, 8], [0, 5], [0, 4], [0, 3], [-3, -3], [0, 2], [-1, 6], [0, 7], [0, 5], [0, 4], [-1, -1], [-1, 2], [0, 11], [2, 11], [0, 6], [-1, 6], [-1, 1], [-12, -15], [0, 3], [-1, 8], [0, 9], [1, 5], [6, 21], [1, 3], [0, 7], [0, 12], [0, 13], [0, 10], [1, 6], [1, 3], [0, 17], [0, 11], [0, 7], [1, 5], [7, 6], [2, 11], [0, 27], [2, 7], [2, 7], [1, 16], [0, 3], [1, 3], [0, 5], [0, 9], [0, 6], [0, 5], [0, 8], [0, 13], [0, 9], [0, 5], [1, 2], [1, -3], [0, -9], [1, -12], [1, -31], [0, -6], [0, -3], [1, -4], [1, -17], [4, -29], [0, -11], [1, -11], [1, -9], [1, -3], [4, 4], [4, 12], [4, 22], [3, 35], [1, 11], [1, 14], [0, 13], [-1, 5], [-4, 6], [-4, 16], [1, 14], [2, 4], [4, -3], [2, 2], [1, 9], [1, 14], [2, 20], [-9, 29], [-4, 6], [-4, -3], [0, 15], [0, 8], [0, 5], [4, 18], [-1, 10], [-2, 13], [-1, 9], [1, 4], [1, 3], [0, 7], [1, 16], [1, 6], [1, 3], [1, 0], [7, -28], [1, -1], [3, 23], [1, 0], [4, -16], [2, 1], [1, 4], [2, 8], [1, 15], [0, 24], [0, 23], [-1, 14], [-9, 33], [-2, 1], [0, 6], [1, 6], [0, 4], [0, 4], [-1, 3], [-1, 2], [10, 31], [2, 8], [1, 12], [-1, 2], [3, 21], [1, 11], [-4, 5], [-9, -11], [-2, 7], [-1, 2], [1, 8], [-1, -1], [0, 9], [0, 5], [2, 4], [2, 15], [5, 23], [2, 10], [-1, -2], [-1, -1], [0, 1], [0, 8], [1, 25], [1, 8], [-2, 1], [-1, 5], [1, 5], [2, 5], [-1, 2], [0, 4], [0, 4], [4, 3], [2, -4], [1, 1], [1, 3], [1, 6], [1, 8], [1, 9], [0, 3], [1, -1], [1, 3], [0, 3], [2, 7], [0, -1], [1, -1], [0, -7]], [[7016, 7360], [-2, -21], [0, -6], [-1, -5], [0, -3], [-1, 4], [-1, -4], [0, -7], [1, -17], [3, 9], [5, 33], [0, 9], [-1, 1], [-1, -2], [-1, 5], [0, 2], [0, 3], [0, 4], [0, 4], [-1, -5], [0, -4]], [[6993, 7227], [-2, -8], [-1, -12], [0, -13], [-1, -2], [0, -3], [0, -6], [0, -12], [0, -24], [0, -12], [1, -17], [0, -7], [0, -7], [3, -44], [1, -8], [8, -14], [2, 1], [1, 4], [0, 6], [0, 4], [0, 8], [0, 1], [0, 1], [0, 1], [0, 1], [0, 6], [0, 5], [0, 6], [0, 6], [0, 4], [-1, 2], [-2, 0], [0, 2], [-1, 5], [0, 7], [0, 8], [0, 8], [-1, 5], [0, 2], [-1, 2], [-1, 5], [-1, 8], [-1, 9], [-1, 11], [0, 13], [0, 16], [0, 7], [-1, 9], [0, 9], [0, 5], [-1, 2]], [[6937, 6359], [0, -1], [1, 3], [0, 2], [0, 2], [0, 1], [0, 1], [0, 9], [3, 37], [0, 8], [1, 11], [-2, 9], [-1, 0], [-1, -1], [-1, -2], [0, -2], [0, -1], [0, -2], [0, -2], [0, -3], [-1, -7], [0, -1], [0, -4], [0, -1], [0, -2], [0, -2], [-1, -8], [0, -3], [1, -7], [1, -25], [-1, -8], [1, -1]], [[6900, 6237], [1, -1], [8, 24], [2, 12], [0, 6], [1, 7], [0, 9], [0, 11], [0, 8], [-1, 12], [-1, 5], [0, 1], [0, 2], [-1, 1], [0, 1], [0, 2], [0, 5], [0, 2], [-1, 1], [-1, -4], [-1, -6], [0, -6], [0, -14], [-1, -10], [-4, -38], [-2, -23], [1, -7]], [[7122, 7607], [-1, -1], [-1, 5], [0, 9], [1, 10], [0, 11], [1, 4], [1, 2], [2, -4], [0, -1], [-2, -23], [-1, -6], [0, -6]], [[7105, 7554], [0, -5], [0, -4], [-1, -5], [0, -3], [0, -7], [1, -12], [0, -15], [0, -12], [1, -7], [2, -25], [-1, 2], [0, -8], [-1, -11], [-1, -8], [0, -1], [-1, 2], [-1, -9], [-2, -4], [-1, -5], [-1, -12], [0, -2], [-1, 2], [-1, -4], [-2, -17], [-1, -2], [0, 3], [0, 6], [-1, 15], [0, 3], [-1, 0], [0, 3], [-1, 23], [0, 7], [-1, 3], [-1, -5], [-1, -9], [1, -13], [-1, -5], [-2, -23], [-1, -6], [-1, 4], [-1, 9], [-1, 21], [-1, 5], [-1, -1], [-1, -5], [-2, -16], [-1, -3], [0, 3], [-1, 11], [1, 18], [-1, 3], [-2, -6], [-2, -22], [-3, -15], [-2, -1], [0, 14], [-2, -8], [-1, -2], [-1, 6], [2, 33], [0, 9], [0, 6], [-2, 20], [0, 6], [0, 4], [-1, 4], [0, 2], [0, 1], [3, 6], [0, -4], [1, -7], [1, -1], [1, 4], [0, 1], [1, -1], [1, -4], [0, -7], [1, 8], [0, 42], [0, 6], [1, 4], [3, 13], [1, 3], [2, -4], [0, -4], [0, -4], [0, -4], [0, -4], [1, -12], [1, -2], [1, 3], [1, 9], [1, 0], [1, -3], [1, 5], [0, -1], [1, 12], [0, 4], [-1, 7], [0, 2], [2, 15], [1, 1], [0, -7], [1, 0], [0, 3], [1, 1], [0, -1], [2, -9], [2, -2], [2, 2], [0, -1], [1, -6], [1, 3], [1, -1], [0, 15], [1, 5], [5, 6], [1, -3], [0, -1], [0, -4], [1, -1], [-1, -3], [0, -4], [0, -5]], [[5083, 7061], [2, 6], [2, 15], [2, 15], [1, 22], [0, 24], [-1, 21], [-2, 9], [-3, -5], [-1, -7]], [[5083, 7161], [0, 147]], [[5083, 7308], [0, 1], [1, 0], [0, -7], [0, -8], [-1, -2], [1, 0], [2, 13], [6, -3], [0, 3], [1, 13], [1, 4], [0, 1], [2, -2], [0, 1], [3, 6], [1, 0], [4, -13], [0, -3], [0, -3], [0, -5], [0, -4], [0, -1], [1, -5], [2, 2], [3, 12], [1, -9], [1, -2], [2, 1], [0, -3], [0, -6], [0, -8], [-1, -6], [0, -6], [0, -23], [-1, -6], [0, -4], [0, -5], [0, -5], [1, -1], [0, -1], [0, -1], [0, -1], [-1, -14], [2, -48], [2, -33], [4, -17], [4, 2], [2, 14], [1, 25], [1, 33], [-1, 36], [-3, 15], [0, 3], [1, 3], [0, 4], [-1, 6], [11, 11], [9, 28], [1, 8], [2, 5], [1, 1], [0, -6], [1, -14], [0, -13], [1, -11], [0, -8], [2, -9], [0, -2], [1, -2], [-2, -8], [2, -19], [3, -17], [3, -6], [2, 18], [-2, 27], [0, 1], [-4, 44], [-2, 18], [0, 13], [2, 18], [0, 4], [1, 12], [0, 5], [9, 2], [9, 2], [6, -20], [10, 11], [9, 11], [1, -4], [0, -14], [1, -1], [0, -4], [0, -5], [1, -4], [-1, 0], [3, -33], [0, -2], [1, -1], [0, -1], [0, -6], [0, -6], [0, -13], [0, -2], [0, -1], [1, -2], [0, -1], [-1, -8], [0, -16], [1, -28], [0, -12], [1, -10], [0, -9], [5, -47], [0, -7], [0, -14], [0, 3], [-1, 7], [0, 5], [-1, -5], [0, -8], [0, -5], [-1, -2], [-1, 3], [-2, 0], [-1, 5], [-1, -1], [0, -5], [-1, -1], [-2, 2], [0, 3], [0, -9], [0, -5], [-1, -1], [-1, 2], [0, -2], [-1, -4], [0, -3], [-1, 7], [-3, 11], [-1, -1], [-2, -17], [0, 1], [-1, 7], [-1, 5], [0, -3], [-1, -9], [1, -12], [-1, -3], [0, -2], [0, -3], [-1, 1], [-1, 2], [-2, -4], [0, 2], [-2, 10], [-1, 1], [0, -1], [-1, -5], [-1, 0], [0, 3], [-1, 0], [-1, -3], [-1, -1], [0, -1], [0, -2], [0, -7], [-1, -2], [-1, -3], [-2, 9], [-1, 0], [1, -9], [0, -3], [-1, 5], [-2, 4], [0, -1], [-1, -7], [-1, 0], [-1, 6], [-1, 1], [-4, -11], [-1, 1], [-1, 3], [0, 3], [0, 3], [-1, -2], [-1, 2], [0, -1], [-1, -6], [-1, -6], [0, -5], [-4, 10], [-1, -1], [-2, -9], [-1, 0], [-2, 4], [0, -1], [-1, -2], [0, -1], [-4, 8], [-1, -2], [0, -3], [-1, -4], [0, -6], [0, -5], [0, -5], [-1, -2], [-1, 3], [-2, -1], [-6, -17], [-3, 1], [-1, -3], [-1, 0], [0, 1], [-1, 5], [0, -8], [-1, -2], [0, -1], [-1, -1], [0, -6], [0, -2], [-1, -5], [-1, -6], [-1, -4], [-4, 4], [-2, -3], [-3, -10], [-1, 0], [-1, 2], [-1, -2], [1, -7], [-2, 1], [-2, -11], [-2, -1], [-1, -6], [-7, -2], [-1, -4], [-1, -1], [-1, 4], [-1, -3], [0, -4], [-3, -10], [-2, 4]], [[5083, 6926], [0, 135]], [[5176, 7294], [-2, 1], [0, -12], [1, -11], [3, -22], [1, -4], [1, 0], [1, 8], [0, 20], [-2, 14], [-3, 6]], [[5083, 7161], [-10, -46], [-2, -14], [1, -22], [1, -16], [1, -10], [2, -3], [6, 8], [1, 3]], [[5083, 6926], [-1, 1], [-4, -3], [-2, 2], [-1, -4], [-1, -1], [-1, 1], [-1, -1], [-1, -6], [0, -1], [-1, 0], [0, 4], [-1, 1], [0, -2], [-1, -8], [-7, -16], [-1, -2], [0, -8], [-1, -2], [-5, -6], [-3, -13], [-4, -7], [-2, -14], [-1, -2], [-1, -2], [-1, -8], [0, -2], [-1, -1], [-1, -3], [0, -8], [0, -1], [-7, -15], [-8, -15], [-3, -16], [-3, -3], [0, -3], [-1, -12], [-1, -3], [-2, -3], [-1, -5], [-2, -23], [-1, -3], [-3, -5], [-2, -6], [-4, -34], [-1, -8], [-1, -18], [0, -8], [-7, -64], [-7, -64], [-1, -5], [-1, 14], [-1, 13], [0, 7], [-1, 5], [-3, 14], [-1, 0], [-2, -4], [0, 4], [-1, 7], [0, 4], [-2, 4], [1, 20], [1, 18], [1, 21], [-1, 26], [1, 2], [1, 4], [0, 7], [0, 13], [0, 8], [-3, 29], [-1, 9], [-5, 21], [-1, 0], [-2, -6], [-1, -11], [-1, -14], [0, -9], [0, -10], [0, -21], [0, -3], [-2, -12], [0, -4], [-2, -8], [-1, 0], [-2, 16], [0, -1], [-1, -5], [0, -1], [-4, 12], [-1, -2], [-2, -13], [-1, -1], [0, 1], [-1, 3], [-1, 9], [-1, -2], [-1, -15], [0, -5], [-1, -7], [-1, -2], [-1, 2], [0, 4], [-2, 13], [0, 10], [-1, 19], [0, 4], [-1, 0], [-1, -6], [-3, 4], [-2, 6], [-4, 40], [-1, 14], [-1, -12], [-1, -1]], [[4923, 6733], [0, 56]], [[4923, 6789], [1, -1], [4, 19], [8, 56], [0, 5], [0, 8], [0, 10], [1, 16], [0, 8], [0, 6], [1, 5], [0, 4], [2, 7], [0, 3], [1, 18], [1, 2], [-2, 7], [-4, 9], [-9, -23], [-3, 10], [0, 13], [4, 17], [2, 13], [-2, 10], [-1, 6], [-11, 10]], [[4916, 7027], [0, 72]], [[4916, 7099], [5, 2], [2, 6], [1, 7], [1, 12], [0, 17], [0, 23], [0, 22], [-1, 14], [-2, 10], [13, 57], [5, -6], [7, 10], [0, 9], [1, 1], [0, 3], [1, 11], [1, 3], [7, 15], [7, 14], [-1, 7], [-1, 2], [-2, -1], [-1, 6], [-1, 12], [1, 16], [0, 15], [-2, -3], [-3, 2], [1, 7], [0, 5], [3, 11], [0, 5], [1, 18], [-1, 2], [0, 5], [0, 9], [3, 19], [2, 23], [1, 4], [3, 2], [3, -6], [-1, 5], [0, 2], [0, 5], [0, 6], [0, 5], [0, 3], [1, 2], [1, 2], [2, 8], [10, -5], [9, 17], [8, 16], [2, -4], [0, -10], [1, -17], [0, -22], [0, -8], [1, -21], [0, -42], [0, -3], [1, -4], [0, -8], [0, -9], [0, -9], [0, -7], [0, -6], [0, 16], [1, 20], [0, 15], [1, 1], [1, -5], [0, -6], [0, -5], [-1, -14], [0, -8], [0, -9], [0, -12], [0, 8], [2, 16], [0, 4], [1, -2], [0, -8], [1, -11], [0, -11], [0, -6], [-1, -13], [-1, -6], [0, -8], [-1, -35], [-1, -11], [5, 49], [9, 46], [1, 9], [0, 1], [1, 4], [0, -3], [0, -6], [0, -4], [0, 12], [1, 0], [1, -11], [1, -1], [1, 2], [1, 0], [3, -13], [2, -12], [1, -28], [-6, -8], [-1, -10], [-1, -19], [0, -42], [1, -21], [2, -16], [2, -23], [0, -21], [0, -18], [1, -10], [1, 6], [0, 13], [1, 37], [1, 14], [3, 34], [2, 25], [0, 1], [0, -1], [0, 27], [-1, 15], [0, 8], [1, -4], [1, 5], [4, 33], [2, 4], [0, 2], [1, 8], [1, 1], [4, -3], [1, -3], [2, -6], [2, -14], [0, -5], [0, -9], [0, -4], [0, -5], [0, -4], [0, -3], [0, 3], [1, 7], [1, 7], [1, -1], [2, -8], [1, -12], [-1, -1], [0, -6], [2, -25], [3, -9], [5, 6], [3, 8], [2, 0], [2, 3], [1, 1], [1, 3], [0, 5], [1, 3]], [[5058, 7028], [1, 12], [-1, 16], [-1, 8], [-2, 1], [-1, -3], [0, -4], [0, -3], [0, -2], [0, -3], [1, -12], [2, -10], [1, 0]], [[4785, 6961], [-4, -6], [-1, -9], [-2, -14], [1, -10], [1, -37], [1, -9], [0, -8], [2, -11], [3, -17], [3, -24], [0, -18], [1, -24], [-1, -53], [0, -12], [0, -5], [-2, -5], [-3, -35], [0, -9], [-1, -23], [1, -11], [0, -9], [1, -8], [0, -5], [3, -10], [1, -5], [0, -9], [-1, -10], [0, -9], [-1, -3], [-2, 5], [-1, -4], [-1, -5], [-1, -3], [-7, 7], [0, 12], [0, 11], [0, 8], [-1, 6], [-1, 3], [0, -1], [-1, -3], [-1, -10], [-2, -11], [0, -4], [-1, -15], [-1, -5], [0, -3], [0, -5], [0, -1], [0, -4], [0, -3], [-1, -7], [0, -3], [-1, 0], [-3, 9], [-2, 6], [-1, 0], [-1, -3], [-1, 0], [0, 2], [1, 16], [0, 6], [0, 8], [-1, 26], [0, 9], [-1, 7], [-2, 9], [2, 29], [-2, 22], [0, 3], [-2, 0], [-2, -3], [-2, 5], [0, -1], [-1, -3], [-1, 0], [0, 5], [0, 5], [0, 6], [0, 6], [0, 6], [0, 4], [2, 18], [1, 6], [1, 9], [0, 7], [0, 9], [-1, 10], [-1, 15], [-1, 10], [-10, 42], [-11, 3], [-1, 4], [-2, 11], [-1, 16], [0, 20], [1, 21], [-1, 11], [5, 25], [1, 6], [0, 10], [1, 22], [0, 8], [1, 12], [12, 52], [6, 15], [1, 4], [0, 3], [0, 3], [0, 3], [0, 2], [7, 23], [1, 2], [2, -8], [1, 0], [1, -4], [1, 2], [1, 8], [3, 9], [2, -3], [3, 6], [1, 0], [-1, -16], [1, 6], [1, 0], [0, -7], [1, -14], [-1, -6], [0, -6], [0, -7], [0, -6], [2, -17], [1, -8], [8, -5], [1, 3]], [[4785, 7026], [0, -65]], [[4833, 7023], [-1, 3], [-8, -14], [-2, -6], [-1, -9], [-4, -37], [0, -11], [-1, -37], [0, -4], [-10, 32], [-9, 32], [-6, 3], [-6, -14]], [[4785, 7026], [7, 29], [1, 3], [0, 6], [0, 16], [0, 1], [0, 18], [1, 10], [3, 12], [0, 12], [1, 8], [5, 8], [8, -10], [1, -6], [0, -1], [3, 2], [0, 3], [0, 2], [0, 1], [0, 2], [0, 2], [0, 7], [1, 3], [4, -8], [1, -3], [0, -7], [-1, 3], [1, -13], [7, -48], [0, -2], [0, -2], [-1, -2], [1, -11], [1, -4], [1, 1], [0, 3]], [[4830, 7061], [3, -38]], [[4916, 7027], [-5, 4], [-6, -12], [-3, 6], [-2, -6], [0, -22], [4, -6], [7, -35], [5, -13], [1, -3], [0, -4], [1, -7], [0, -10], [0, -9], [-1, -7], [0, -1], [8, -28], [0, -1], [-2, -8], [-1, -4], [-1, -12], [0, -5], [-1, 1], [0, -7], [1, -6], [0, -7], [0, -8], [0, -7], [0, -15], [1, -5], [1, -1]], [[4923, 6733], [-1, 0], [-3, 8], [-1, -1], [-1, -1], [-1, -4], [0, -8], [0, -8], [0, -11], [0, -12], [-4, 3], [-1, 6], [-1, 20], [-1, 5], [-1, 2], [0, -1], [-1, -6], [0, -11], [0, -49], [-1, -7], [0, -2], [-1, 0], [-1, 5], [-1, -2], [0, -6], [-1, -9], [0, -7], [1, -18], [0, -1], [-2, 4], [-1, 2], [0, 6], [-1, 13], [-1, 4], [-1, 3], [-1, 2], [0, 11], [0, 5], [0, 5], [1, 5], [-1, 6], [0, 4], [0, 3], [-1, 3], [-3, 29], [-2, 6], [-1, -1], [0, -10], [0, -13], [1, -12], [-4, 5], [-1, 7], [-1, -1], [0, -12], [-5, 21], [-1, 2], [-6, -11], [-3, 5], [-3, -5], [-11, 7], [-1, -2], [-1, -9], [-1, -1], [-3, 8], [-2, -5], [-1, 4], [0, 1], [-1, -6], [-1, -1], [-6, 6], [-2, -10], [-5, 7], [-2, -8], [0, -1], [-1, 4], [-3, 23], [1, 2], [1, 7], [4, 29], [0, 6], [1, 8], [0, 7], [-1, 6], [-1, 9], [1, 5], [1, 14], [0, 4], [8, 34], [1, 4], [0, 7], [0, 20], [1, 8], [1, 31], [1, 5], [0, 5], [1, 6], [0, 9], [0, 11], [0, 8], [-3, 29], [0, 5], [-9, 23]], [[4830, 7061], [5, 20], [1, 8], [-2, 24], [-1, 16], [1, 20], [2, -10], [1, -9], [1, -10], [0, 16], [1, 5], [1, 1], [1, 9], [0, 6], [0, 4], [0, 3], [0, 5], [1, 4], [1, 9], [0, 3], [1, 1], [1, -2], [0, -5], [-1, -8], [0, -3], [1, -6], [12, 9], [3, 11], [14, -10], [14, -10], [14, -9], [0, -3], [1, -9], [1, -4], [-1, -5], [-1, -10], [0, -17], [0, -4], [1, -3], [1, -4], [12, 5]], [[4906, 6825], [-1, -10], [0, -3], [0, -4], [0, -10], [1, -10], [1, -10], [1, -8], [2, -10], [2, -4], [3, 0], [3, 6], [-1, 20], [-6, 36], [-1, 27], [-2, 2], [-2, -2], [-1, -6], [1, -12], [0, -1], [0, -1]], [[6567, 8838], [5, -7], [1, 1], [0, 3], [1, 7], [0, 8], [1, -3], [0, -1], [0, -2], [0, -2], [1, 2], [1, 8], [1, 1], [1, -2], [0, -2], [1, 1], [1, -2], [0, -7], [0, -1], [1, 6], [1, -1], [1, -6], [1, -8], [0, -6], [0, -5], [-1, -4], [0, -1], [-2, -1], [0, -1], [0, -4], [0, -1], [-1, -12], [0, -6], [0, -9], [0, -1], [-1, 0], [0, -3], [0, -4], [-1, -3], [0, 2], [0, 3], [-1, 1], [-4, -9], [-4, -17], [-3, -26], [-3, -33], [0, -5], [-1, -12], [0, -4], [-1, -9], [-1, -20], [-1, -11], [0, -11], [0, -13], [-1, 6], [-1, 4], [0, 6], [-1, 8], [0, 5], [2, 57], [0, 16], [-12, -32], [1, 27], [3, 18], [10, 42], [2, 15], [2, 20], [-1, 5], [-2, 1], [1, 6], [0, 3], [0, 1], [-1, 6], [-3, 6], [1, 9], [3, 2], [1, 10], [-2, 16], [2, 0], [1, -4], [1, -7], [0, -4], [0, -5], [1, -3], [0, -2]], [[6386, 8734], [0, -1], [2, 1], [0, -9], [0, -2], [0, -4], [-1, -6], [0, -14], [-1, -5], [-1, -5], [-2, -2], [-1, -7], [0, -9], [-1, -6], [-1, -1], [-1, 5], [3, 29], [1, 4], [1, 21], [1, 15], [0, 8], [0, -4], [0, -1], [0, -2], [0, -1], [1, -4]], [[6563, 9096], [2, -2], [2, 0], [0, -5], [-1, -10], [0, -16], [-1, 5], [-1, 19], [0, 7], [-1, 2]], [[6626, 8692], [1, -1], [4, -21], [6, -14], [-1, -4], [-2, -16], [0, -3], [-2, 5], [-1, 2], [-1, -3], [-1, 0], [0, 3], [0, 4], [0, 2], [-2, 13], [-1, 12], [0, 21]], [[6618, 8741], [0, -5], [1, -4], [-1, 0], [-6, -35], [0, -2], [-1, 2], [1, 11], [0, 9], [2, 13], [1, 5], [0, 7], [0, 8], [-1, 6], [0, 2], [-1, 0], [0, 16], [0, 4], [4, -1], [1, -4], [0, -2], [-1, -7], [1, -3], [0, -1], [0, -1], [1, 0], [-1, -10], [0, -8]], [[7131, 7717], [1, 0], [1, -5], [1, -12], [-1, -3], [0, -3], [1, -5], [0, -6], [-1, -9], [1, -4], [-1, -3], [0, -4], [-1, -2], [-1, 4], [0, 3], [-2, -2], [-2, -5], [-1, -6], [0, 4], [0, 3], [1, 7], [0, 2], [1, 1], [0, 4], [1, 6], [1, 12], [0, 4], [0, 5], [0, 4], [0, 3], [1, 7]], [[6556, 9009], [3, -5], [1, 1], [1, -2], [1, -12], [1, -4], [1, -2], [1, -4], [4, -26], [0, 15], [0, 11], [1, 6], [1, 3], [0, -19], [1, -14], [4, -13], [1, -2], [0, -14], [0, -2], [-1, -11], [-2, -7], [-1, -6], [1, -24], [0, -7], [-1, 4], [-1, 2], [-3, -7], [-1, 2], [-2, 12], [4, 20], [-1, 0], [-2, -7], [-1, 1], [0, -2], [-1, 1], [0, 4], [0, 11], [3, 8], [1, 7], [-1, 1], [-2, -1], [-1, 10], [-4, 11], [0, -1], [-1, -4], [-1, 4], [0, 6], [0, 5], [-1, 1], [-1, 0], [-2, 8], [2, 7], [0, 7], [0, 10], [0, 5], [-2, 7], [1, 5], [0, 1]]], &quot;objects&quot;: {&quot;antarctic_ice_shelf&quot;: {&quot;geometries&quot;: [{&quot;arcs&quot;: [[0], [1], [2], [3], [4], [5], [6], [7], [8]], &quot;properties&quot;: {&quot;style&quot;: {}}, &quot;type&quot;: &quot;Polygon&quot;}, {&quot;arcs&quot;: [[9]], &quot;properties&quot;: {&quot;style&quot;: {}}, &quot;type&quot;: &quot;Polygon&quot;}, {&quot;arcs&quot;: [[10]], &quot;properties&quot;: {&quot;style&quot;: {}}, &quot;type&quot;: &quot;Polygon&quot;}, {&quot;arcs&quot;: [[11]], &quot;properties&quot;: {&quot;style&quot;: {}}, &quot;type&quot;: &quot;Polygon&quot;}, {&quot;arcs&quot;: [[12]], &quot;properties&quot;: {&quot;style&quot;: {}}, &quot;type&quot;: &quot;Polygon&quot;}, {&quot;arcs&quot;: [[13]], &quot;properties&quot;: {&quot;style&quot;: {}}, &quot;type&quot;: &quot;Polygon&quot;}, {&quot;arcs&quot;: [[14]], &quot;properties&quot;: {&quot;style&quot;: {}}, &quot;type&quot;: &quot;Polygon&quot;}, {&quot;arcs&quot;: [[15]], &quot;properties&quot;: {&quot;style&quot;: {}}, &quot;type&quot;: &quot;Polygon&quot;}, {&quot;arcs&quot;: [[16]], &quot;properties&quot;: {&quot;style&quot;: {}}, &quot;type&quot;: &quot;Polygon&quot;}, {&quot;arcs&quot;: [[17]], &quot;properties&quot;: {&quot;style&quot;: {}}, &quot;type&quot;: &quot;Polygon&quot;}, {&quot;arcs&quot;: [[18]], &quot;properties&quot;: {&quot;style&quot;: {}}, &quot;type&quot;: &quot;Polygon&quot;}, {&quot;arcs&quot;: [[19]], &quot;properties&quot;: {&quot;style&quot;: {}}, &quot;type&quot;: &quot;Polygon&quot;}, {&quot;arcs&quot;: [[20]], &quot;properties&quot;: {&quot;style&quot;: {}}, &quot;type&quot;: &quot;Polygon&quot;}, {&quot;arcs&quot;: [[21]], &quot;properties&quot;: {&quot;style&quot;: {}}, &quot;type&quot;: &quot;Polygon&quot;}, {&quot;arcs&quot;: [[22]], &quot;properties&quot;: {&quot;style&quot;: {}}, &quot;type&quot;: &quot;Polygon&quot;}, {&quot;arcs&quot;: [[23]], &quot;properties&quot;: {&quot;style&quot;: {}}, &quot;type&quot;: &quot;Polygon&quot;}, {&quot;arcs&quot;: [[24]], &quot;properties&quot;: {&quot;style&quot;: {}}, &quot;type&quot;: &quot;Polygon&quot;}, {&quot;arcs&quot;: [[25]], &quot;properties&quot;: {&quot;style&quot;: {}}, &quot;type&quot;: &quot;Polygon&quot;}, {&quot;arcs&quot;: [[26]], &quot;properties&quot;: {&quot;style&quot;: {}}, &quot;type&quot;: &quot;Polygon&quot;}, {&quot;arcs&quot;: [[27]], &quot;properties&quot;: {&quot;style&quot;: {}}, &quot;type&quot;: &quot;Polygon&quot;}, {&quot;arcs&quot;: [[28]], &quot;properties&quot;: {&quot;style&quot;: {}}, &quot;type&quot;: &quot;Polygon&quot;}, {&quot;arcs&quot;: [[29], [30]], &quot;properties&quot;: {&quot;style&quot;: {}}, &quot;type&quot;: &quot;Polygon&quot;}, {&quot;arcs&quot;: [[[31]]], &quot;properties&quot;: {&quot;style&quot;: {}}, &quot;type&quot;: &quot;MultiPolygon&quot;}, {&quot;arcs&quot;: [[32]], &quot;properties&quot;: {&quot;style&quot;: {}}, &quot;type&quot;: &quot;Polygon&quot;}, {&quot;arcs&quot;: [[33]], &quot;properties&quot;: {&quot;style&quot;: {}}, &quot;type&quot;: &quot;Polygon&quot;}, {&quot;arcs&quot;: [[34], [35]], &quot;properties&quot;: {&quot;style&quot;: {}}, &quot;type&quot;: &quot;Polygon&quot;}, {&quot;arcs&quot;: [[36]], &quot;properties&quot;: {&quot;style&quot;: {}}, &quot;type&quot;: &quot;Polygon&quot;}, {&quot;arcs&quot;: [[37]], &quot;properties&quot;: {&quot;style&quot;: {}}, &quot;type&quot;: &quot;Polygon&quot;}, {&quot;arcs&quot;: [[38]], &quot;properties&quot;: {&quot;style&quot;: {}}, &quot;type&quot;: &quot;Polygon&quot;}, {&quot;arcs&quot;: [[39]], &quot;properties&quot;: {&quot;style&quot;: {}}, &quot;type&quot;: &quot;Polygon&quot;}, {&quot;arcs&quot;: [[40]], &quot;properties&quot;: {&quot;style&quot;: {}}, &quot;type&quot;: &quot;Polygon&quot;}, {&quot;arcs&quot;: [[41]], &quot;properties&quot;: {&quot;style&quot;: {}}, &quot;type&quot;: &quot;Polygon&quot;}, {&quot;arcs&quot;: [[42]], &quot;properties&quot;: {&quot;style&quot;: {}}, &quot;type&quot;: &quot;Polygon&quot;}, {&quot;arcs&quot;: [[43]], &quot;properties&quot;: {&quot;style&quot;: {}}, &quot;type&quot;: &quot;Polygon&quot;}, {&quot;arcs&quot;: [[44]], &quot;properties&quot;: {&quot;style&quot;: {}}, &quot;type&quot;: &quot;Polygon&quot;}, {&quot;arcs&quot;: [[45]], &quot;properties&quot;: {&quot;style&quot;: {}}, &quot;type&quot;: &quot;Polygon&quot;}, {&quot;arcs&quot;: [[46]], &quot;properties&quot;: {&quot;style&quot;: {}}, &quot;type&quot;: &quot;Polygon&quot;}, {&quot;arcs&quot;: [[47], [48]], &quot;properties&quot;: {&quot;style&quot;: {}}, &quot;type&quot;: &quot;Polygon&quot;}, {&quot;arcs&quot;: [[49]], &quot;properties&quot;: {&quot;style&quot;: {}}, &quot;type&quot;: &quot;Polygon&quot;}, {&quot;arcs&quot;: [[50, 51]], &quot;properties&quot;: {&quot;style&quot;: {}}, &quot;type&quot;: &quot;Polygon&quot;}, {&quot;arcs&quot;: [[52, -52], [53], [54]], &quot;properties&quot;: {&quot;style&quot;: {}}, &quot;type&quot;: &quot;Polygon&quot;}, {&quot;arcs&quot;: [[55]], &quot;properties&quot;: {&quot;style&quot;: {}}, &quot;type&quot;: &quot;Polygon&quot;}, {&quot;arcs&quot;: [[56]], &quot;properties&quot;: {&quot;style&quot;: {}}, &quot;type&quot;: &quot;Polygon&quot;}, {&quot;arcs&quot;: [[57]], &quot;properties&quot;: {&quot;style&quot;: {}}, &quot;type&quot;: &quot;Polygon&quot;}, {&quot;arcs&quot;: [[58]], &quot;properties&quot;: {&quot;style&quot;: {}}, &quot;type&quot;: &quot;Polygon&quot;}, {&quot;arcs&quot;: [[59]], &quot;properties&quot;: {&quot;style&quot;: {}}, &quot;type&quot;: &quot;Polygon&quot;}, {&quot;arcs&quot;: [[60]], &quot;properties&quot;: {&quot;style&quot;: {}}, &quot;type&quot;: &quot;Polygon&quot;}, {&quot;arcs&quot;: [[61]], &quot;properties&quot;: {&quot;style&quot;: {}}, &quot;type&quot;: &quot;Polygon&quot;}, {&quot;arcs&quot;: [[62]], &quot;properties&quot;: {&quot;style&quot;: {}}, &quot;type&quot;: &quot;Polygon&quot;}, {&quot;arcs&quot;: [[63], [64], [65]], &quot;properties&quot;: {&quot;style&quot;: {}}, &quot;type&quot;: &quot;Polygon&quot;}, {&quot;arcs&quot;: [[66]], &quot;properties&quot;: {&quot;style&quot;: {}}, &quot;type&quot;: &quot;Polygon&quot;}, {&quot;arcs&quot;: [[67, 68, 69], [70], [71], [72], [73], [74], [75]], &quot;properties&quot;: {&quot;style&quot;: {}}, &quot;type&quot;: &quot;Polygon&quot;}, {&quot;arcs&quot;: [[-69, 76, 77], [78], [79], [80]], &quot;properties&quot;: {&quot;style&quot;: {}}, &quot;type&quot;: &quot;Polygon&quot;}, {&quot;arcs&quot;: [[81]], &quot;properties&quot;: {&quot;style&quot;: {}}, &quot;type&quot;: &quot;Polygon&quot;}, {&quot;arcs&quot;: [[82]], &quot;properties&quot;: {&quot;style&quot;: {}}, &quot;type&quot;: &quot;Polygon&quot;}, {&quot;arcs&quot;: [[83]], &quot;properties&quot;: {&quot;style&quot;: {}}, &quot;type&quot;: &quot;Polygon&quot;}, {&quot;arcs&quot;: [[84]], &quot;properties&quot;: {&quot;style&quot;: {}}, &quot;type&quot;: &quot;Polygon&quot;}, {&quot;arcs&quot;: [[85]], &quot;properties&quot;: {&quot;style&quot;: {}}, &quot;type&quot;: &quot;Polygon&quot;}, {&quot;arcs&quot;: [[86]], &quot;properties&quot;: {&quot;style&quot;: {}}, &quot;type&quot;: &quot;Polygon&quot;}, {&quot;arcs&quot;: [[87]], &quot;properties&quot;: {&quot;style&quot;: {}}, &quot;type&quot;: &quot;Polygon&quot;}, {&quot;arcs&quot;: [[88]], &quot;properties&quot;: {&quot;style&quot;: {}}, &quot;type&quot;: &quot;Polygon&quot;}, {&quot;arcs&quot;: [[89], [90], [91], [92]], &quot;properties&quot;: {&quot;style&quot;: {}}, &quot;type&quot;: &quot;Polygon&quot;}, {&quot;arcs&quot;: [[93]], &quot;properties&quot;: {&quot;style&quot;: {}}, &quot;type&quot;: &quot;Polygon&quot;}, {&quot;arcs&quot;: [[94]], &quot;properties&quot;: {&quot;style&quot;: {}}, &quot;type&quot;: &quot;Polygon&quot;}, {&quot;arcs&quot;: [[[95], [96]]], &quot;properties&quot;: {&quot;style&quot;: {}}, &quot;type&quot;: &quot;MultiPolygon&quot;}, {&quot;arcs&quot;: [[97]], &quot;properties&quot;: {&quot;style&quot;: {}}, &quot;type&quot;: &quot;Polygon&quot;}, {&quot;arcs&quot;: [[98]], &quot;properties&quot;: {&quot;style&quot;: {}}, &quot;type&quot;: &quot;Polygon&quot;}, {&quot;arcs&quot;: [[99]], &quot;properties&quot;: {&quot;style&quot;: {}}, &quot;type&quot;: &quot;Polygon&quot;}, {&quot;arcs&quot;: [[100]], &quot;properties&quot;: {&quot;style&quot;: {}}, &quot;type&quot;: &quot;Polygon&quot;}, {&quot;arcs&quot;: [[101], [102], [103], [104], [105], [106], [107], [108], [109], [110]], &quot;properties&quot;: {&quot;style&quot;: {}}, &quot;type&quot;: &quot;Polygon&quot;}, {&quot;arcs&quot;: [[111]], &quot;properties&quot;: {&quot;style&quot;: {}}, &quot;type&quot;: &quot;Polygon&quot;}, {&quot;arcs&quot;: [[112]], &quot;properties&quot;: {&quot;style&quot;: {}}, &quot;type&quot;: &quot;Polygon&quot;}, {&quot;arcs&quot;: [[113]], &quot;properties&quot;: {&quot;style&quot;: {}}, &quot;type&quot;: &quot;Polygon&quot;}, {&quot;arcs&quot;: [[114]], &quot;properties&quot;: {&quot;style&quot;: {}}, &quot;type&quot;: &quot;Polygon&quot;}, {&quot;arcs&quot;: [[115]], &quot;properties&quot;: {&quot;style&quot;: {}}, &quot;type&quot;: &quot;Polygon&quot;}, {&quot;arcs&quot;: [[116]], &quot;properties&quot;: {&quot;style&quot;: {}}, &quot;type&quot;: &quot;Polygon&quot;}, {&quot;arcs&quot;: [[117]], &quot;properties&quot;: {&quot;style&quot;: {}}, &quot;type&quot;: &quot;Polygon&quot;}, {&quot;arcs&quot;: [[118]], &quot;properties&quot;: {&quot;style&quot;: {}}, &quot;type&quot;: &quot;Polygon&quot;}, {&quot;arcs&quot;: [[119]], &quot;properties&quot;: {&quot;style&quot;: {}}, &quot;type&quot;: &quot;Polygon&quot;}, {&quot;arcs&quot;: [[120]], &quot;properties&quot;: {&quot;style&quot;: {}}, &quot;type&quot;: &quot;Polygon&quot;}, {&quot;arcs&quot;: [[121], [122], [123], [124], [125]], &quot;properties&quot;: {&quot;style&quot;: {}}, &quot;type&quot;: &quot;Polygon&quot;}, {&quot;arcs&quot;: [[126]], &quot;properties&quot;: {&quot;style&quot;: {}}, &quot;type&quot;: &quot;Polygon&quot;}, {&quot;arcs&quot;: [[127]], &quot;properties&quot;: {&quot;style&quot;: {}}, &quot;type&quot;: &quot;Polygon&quot;}, {&quot;arcs&quot;: [[[128]]], &quot;properties&quot;: {&quot;style&quot;: {}}, &quot;type&quot;: &quot;MultiPolygon&quot;}, {&quot;arcs&quot;: [[129]], &quot;properties&quot;: {&quot;style&quot;: {}}, &quot;type&quot;: &quot;Polygon&quot;}, {&quot;arcs&quot;: [[130]], &quot;properties&quot;: {&quot;style&quot;: {}}, &quot;type&quot;: &quot;Polygon&quot;}, {&quot;arcs&quot;: [[131]], &quot;properties&quot;: {&quot;style&quot;: {}}, &quot;type&quot;: &quot;Polygon&quot;}, {&quot;arcs&quot;: [[132]], &quot;properties&quot;: {&quot;style&quot;: {}}, &quot;type&quot;: &quot;Polygon&quot;}, {&quot;arcs&quot;: [[133]], &quot;properties&quot;: {&quot;style&quot;: {}}, &quot;type&quot;: &quot;Polygon&quot;}, {&quot;arcs&quot;: [[134], [135], [136]], &quot;properties&quot;: {&quot;style&quot;: {}}, &quot;type&quot;: &quot;Polygon&quot;}, {&quot;arcs&quot;: [[137]], &quot;properties&quot;: {&quot;style&quot;: {}}, &quot;type&quot;: &quot;Polygon&quot;}, {&quot;arcs&quot;: [[138]], &quot;properties&quot;: {&quot;style&quot;: {}}, &quot;type&quot;: &quot;Polygon&quot;}, {&quot;arcs&quot;: [[139]], &quot;properties&quot;: {&quot;style&quot;: {}}, &quot;type&quot;: &quot;Polygon&quot;}, {&quot;arcs&quot;: [[140]], &quot;properties&quot;: {&quot;style&quot;: {}}, &quot;type&quot;: &quot;Polygon&quot;}, {&quot;arcs&quot;: [[141]], &quot;properties&quot;: {&quot;style&quot;: {}}, &quot;type&quot;: &quot;Polygon&quot;}, {&quot;arcs&quot;: [[142]], &quot;properties&quot;: {&quot;style&quot;: {}}, &quot;type&quot;: &quot;Polygon&quot;}, {&quot;arcs&quot;: [[143], [144], [145], [146], [147], [148]], &quot;properties&quot;: {&quot;style&quot;: {}}, &quot;type&quot;: &quot;Polygon&quot;}, {&quot;arcs&quot;: [[149]], &quot;properties&quot;: {&quot;style&quot;: {}}, &quot;type&quot;: &quot;Polygon&quot;}, {&quot;arcs&quot;: [[150]], &quot;properties&quot;: {&quot;style&quot;: {}}, &quot;type&quot;: &quot;Polygon&quot;}, {&quot;arcs&quot;: [[151]], &quot;properties&quot;: {&quot;style&quot;: {}}, &quot;type&quot;: &quot;Polygon&quot;}, {&quot;arcs&quot;: [[152]], &quot;properties&quot;: {&quot;style&quot;: {}}, &quot;type&quot;: &quot;Polygon&quot;}, {&quot;arcs&quot;: [[153]], &quot;properties&quot;: {&quot;style&quot;: {}}, &quot;type&quot;: &quot;Polygon&quot;}, {&quot;arcs&quot;: [[154]], &quot;properties&quot;: {&quot;style&quot;: {}}, &quot;type&quot;: &quot;Polygon&quot;}, {&quot;arcs&quot;: [[155]], &quot;properties&quot;: {&quot;style&quot;: {}}, &quot;type&quot;: &quot;Polygon&quot;}, {&quot;arcs&quot;: [[156], [157], [158]], &quot;properties&quot;: {&quot;style&quot;: {}}, &quot;type&quot;: &quot;Polygon&quot;}, {&quot;arcs&quot;: [[159]], &quot;properties&quot;: {&quot;style&quot;: {}}, &quot;type&quot;: &quot;Polygon&quot;}, {&quot;arcs&quot;: [[160]], &quot;properties&quot;: {&quot;style&quot;: {}}, &quot;type&quot;: &quot;Polygon&quot;}, {&quot;arcs&quot;: [[161]], &quot;properties&quot;: {&quot;style&quot;: {}}, &quot;type&quot;: &quot;Polygon&quot;}, {&quot;arcs&quot;: [[162]], &quot;properties&quot;: {&quot;style&quot;: {}}, &quot;type&quot;: &quot;Polygon&quot;}, {&quot;arcs&quot;: [[163, 164, 165]], &quot;properties&quot;: {&quot;style&quot;: {}}, &quot;type&quot;: &quot;Polygon&quot;}, {&quot;arcs&quot;: [[166, -166]], &quot;properties&quot;: {&quot;style&quot;: {}}, &quot;type&quot;: &quot;Polygon&quot;}, {&quot;arcs&quot;: [[167]], &quot;properties&quot;: {&quot;style&quot;: {}}, &quot;type&quot;: &quot;Polygon&quot;}, {&quot;arcs&quot;: [[168]], &quot;properties&quot;: {&quot;style&quot;: {}}, &quot;type&quot;: &quot;Polygon&quot;}, {&quot;arcs&quot;: [[169]], &quot;properties&quot;: {&quot;style&quot;: {}}, &quot;type&quot;: &quot;Polygon&quot;}, {&quot;arcs&quot;: [[170]], &quot;properties&quot;: {&quot;style&quot;: {}}, &quot;type&quot;: &quot;Polygon&quot;}, {&quot;arcs&quot;: [[171]], &quot;properties&quot;: {&quot;style&quot;: {}}, &quot;type&quot;: &quot;Polygon&quot;}, {&quot;arcs&quot;: [[172]], &quot;properties&quot;: {&quot;style&quot;: {}}, &quot;type&quot;: &quot;Polygon&quot;}, {&quot;arcs&quot;: [[173]], &quot;properties&quot;: {&quot;style&quot;: {}}, &quot;type&quot;: &quot;Polygon&quot;}, {&quot;arcs&quot;: [[174]], &quot;properties&quot;: {&quot;style&quot;: {}}, &quot;type&quot;: &quot;Polygon&quot;}, {&quot;arcs&quot;: [[175]], &quot;properties&quot;: {&quot;style&quot;: {}}, &quot;type&quot;: &quot;Polygon&quot;}, {&quot;arcs&quot;: [[176]], &quot;properties&quot;: {&quot;style&quot;: {}}, &quot;type&quot;: &quot;Polygon&quot;}, {&quot;arcs&quot;: [[177]], &quot;properties&quot;: {&quot;style&quot;: {}}, &quot;type&quot;: &quot;Polygon&quot;}, {&quot;arcs&quot;: [[178]], &quot;properties&quot;: {&quot;style&quot;: {}}, &quot;type&quot;: &quot;Polygon&quot;}, {&quot;arcs&quot;: [[179]], &quot;properties&quot;: {&quot;style&quot;: {}}, &quot;type&quot;: &quot;Polygon&quot;}, {&quot;arcs&quot;: [[180]], &quot;properties&quot;: {&quot;style&quot;: {}}, &quot;type&quot;: &quot;Polygon&quot;}, {&quot;arcs&quot;: [[181]], &quot;properties&quot;: {&quot;style&quot;: {}}, &quot;type&quot;: &quot;Polygon&quot;}, {&quot;arcs&quot;: [[182]], &quot;properties&quot;: {&quot;style&quot;: {}}, &quot;type&quot;: &quot;Polygon&quot;}, {&quot;arcs&quot;: [[183]], &quot;properties&quot;: {&quot;style&quot;: {}}, &quot;type&quot;: &quot;Polygon&quot;}, {&quot;arcs&quot;: [[184, 185]], &quot;properties&quot;: {&quot;style&quot;: {}}, &quot;type&quot;: &quot;Polygon&quot;}, {&quot;arcs&quot;: [[186, -186]], &quot;properties&quot;: {&quot;style&quot;: {}}, &quot;type&quot;: &quot;Polygon&quot;}, {&quot;arcs&quot;: [[187]], &quot;properties&quot;: {&quot;style&quot;: {}}, &quot;type&quot;: &quot;Polygon&quot;}, {&quot;arcs&quot;: [[188]], &quot;properties&quot;: {&quot;style&quot;: {}}, &quot;type&quot;: &quot;Polygon&quot;}, {&quot;arcs&quot;: [[189]], &quot;properties&quot;: {&quot;style&quot;: {}}, &quot;type&quot;: &quot;Polygon&quot;}, {&quot;arcs&quot;: [[190]], &quot;properties&quot;: {&quot;style&quot;: {}}, &quot;type&quot;: &quot;Polygon&quot;}, {&quot;arcs&quot;: [[191]], &quot;properties&quot;: {&quot;style&quot;: {}}, &quot;type&quot;: &quot;Polygon&quot;}, {&quot;arcs&quot;: [[192]], &quot;properties&quot;: {&quot;style&quot;: {}}, &quot;type&quot;: &quot;Polygon&quot;}, {&quot;arcs&quot;: [[193]], &quot;properties&quot;: {&quot;style&quot;: {}}, &quot;type&quot;: &quot;Polygon&quot;}, {&quot;arcs&quot;: [[194]], &quot;properties&quot;: {&quot;style&quot;: {}}, &quot;type&quot;: &quot;Polygon&quot;}, {&quot;arcs&quot;: [[195]], &quot;properties&quot;: {&quot;style&quot;: {}}, &quot;type&quot;: &quot;Polygon&quot;}, {&quot;arcs&quot;: [[196], [197], [198], [199], [200]], &quot;properties&quot;: {&quot;style&quot;: {}}, &quot;type&quot;: &quot;Polygon&quot;}, {&quot;arcs&quot;: [[201]], &quot;properties&quot;: {&quot;style&quot;: {}}, &quot;type&quot;: &quot;Polygon&quot;}, {&quot;arcs&quot;: [[202]], &quot;properties&quot;: {&quot;style&quot;: {}}, &quot;type&quot;: &quot;Polygon&quot;}, {&quot;arcs&quot;: [[203, 204, 205, 206], [207]], &quot;properties&quot;: {&quot;style&quot;: {}}, &quot;type&quot;: &quot;Polygon&quot;}, {&quot;arcs&quot;: [[208, -207, 209, 210, 211, 212, 213, -205], [214]], &quot;properties&quot;: {&quot;style&quot;: {}}, &quot;type&quot;: &quot;Polygon&quot;}, {&quot;arcs&quot;: [[215, 216]], &quot;properties&quot;: {&quot;style&quot;: {}}, &quot;type&quot;: &quot;Polygon&quot;}, {&quot;arcs&quot;: [[217, -217, 218, 219]], &quot;properties&quot;: {&quot;style&quot;: {}}, &quot;type&quot;: &quot;Polygon&quot;}, {&quot;arcs&quot;: [[220, -211, 221, -220, 222, -213], [223]], &quot;properties&quot;: {&quot;style&quot;: {}}, &quot;type&quot;: &quot;Polygon&quot;}, {&quot;arcs&quot;: [[224]], &quot;properties&quot;: {&quot;style&quot;: {}}, &quot;type&quot;: &quot;Polygon&quot;}, {&quot;arcs&quot;: [[225]], &quot;properties&quot;: {&quot;style&quot;: {}}, &quot;type&quot;: &quot;Polygon&quot;}, {&quot;arcs&quot;: [[226]], &quot;properties&quot;: {&quot;style&quot;: {}}, &quot;type&quot;: &quot;Polygon&quot;}, {&quot;arcs&quot;: [[227]], &quot;properties&quot;: {&quot;style&quot;: {}}, &quot;type&quot;: &quot;Polygon&quot;}, {&quot;arcs&quot;: [[228]], &quot;properties&quot;: {&quot;style&quot;: {}}, &quot;type&quot;: &quot;Polygon&quot;}, {&quot;arcs&quot;: [[229]], &quot;properties&quot;: {&quot;style&quot;: {}}, &quot;type&quot;: &quot;Polygon&quot;}, {&quot;arcs&quot;: [[230]], &quot;properties&quot;: {&quot;style&quot;: {}}, &quot;type&quot;: &quot;Polygon&quot;}], &quot;type&quot;: &quot;GeometryCollection&quot;}}, &quot;transform&quot;: {&quot;scale&quot;: [0.036003599298640235, 0.0020699335558555815], &quot;translate&quot;: [-179.99998938710374, -85.22210242610454]}, &quot;type&quot;: &quot;Topology&quot;};\n",
       "            var topo_json_bf909eb5900b019021bdcae3cb081472 = L.geoJson(\n",
       "                topojson.feature(\n",
       "                    topo_json_bf909eb5900b019021bdcae3cb081472_data,\n",
       "                    topo_json_bf909eb5900b019021bdcae3cb081472_data.objects.antarctic_ice_shelf\n",
       "                ),\n",
       "                {\n",
       "                }\n",
       "            ).addTo(map_9dd0aa18bfb66d176a45fdc34e92683a);\n",
       "            topo_json_bf909eb5900b019021bdcae3cb081472.setStyle(function(feature) {\n",
       "                return feature.properties.style;\n",
       "            });\n",
       "        \n",
       "    \n",
       "            var layer_control_2c9761c5acd73891949ba4c6a35eb25a = {\n",
       "                base_layers : {\n",
       "                    &quot;cartodbpositron&quot; : tile_layer_c210b895cb3d4f257adfb5d995fb30ee,\n",
       "                },\n",
       "                overlays :  {\n",
       "                    &quot;geojson&quot; : geo_json_62f4396c8ab549344f5212ecc885d1f1,\n",
       "                    &quot;topojson&quot; : topo_json_bf909eb5900b019021bdcae3cb081472,\n",
       "                },\n",
       "            };\n",
       "            L.control.layers(\n",
       "                layer_control_2c9761c5acd73891949ba4c6a35eb25a.base_layers,\n",
       "                layer_control_2c9761c5acd73891949ba4c6a35eb25a.overlays,\n",
       "                {&quot;autoZIndex&quot;: true, &quot;collapsed&quot;: true, &quot;position&quot;: &quot;topright&quot;}\n",
       "            ).addTo(map_9dd0aa18bfb66d176a45fdc34e92683a);\n",
       "        \n",
       "&lt;/script&gt;\" style=\"position:absolute;width:100%;height:100%;left:0;top:0;border:none !important;\" allowfullscreen webkitallowfullscreen mozallowfullscreen></iframe></div></div>"
      ],
      "text/plain": [
       "<folium.folium.Map at 0x162c661c0>"
      ]
     },
     "execution_count": 41,
     "metadata": {},
     "output_type": "execute_result"
    }
   ],
   "source": [
    "map_f"
   ]
  },
  {
   "cell_type": "markdown",
   "id": "61675aae-3315-46ad-a2c6-97976e7ca129",
   "metadata": {},
   "source": [
    "<a id=\"cloroplethmaps\"></a>\n",
    "### Cloropleth maps"
   ]
  },
  {
   "cell_type": "code",
   "execution_count": 42,
   "id": "31f0a5aa-6b1a-40e1-9111-272a204d9663",
   "metadata": {},
   "outputs": [],
   "source": [
    "import pandas as pd"
   ]
  },
  {
   "cell_type": "code",
   "execution_count": 43,
   "id": "bce1d6dc-654e-42b3-88e6-2b595680ecf1",
   "metadata": {},
   "outputs": [],
   "source": [
    "url = (\n",
    "    \"https://raw.githubusercontent.com/python-visualization/folium/master/examples/data\"\n",
    ")\n",
    "state_geo = f\"{url}/us-states.json\"\n",
    "state_unemployment = f\"{url}/US_Unemployment_Oct2012.csv\"\n",
    "state_data = pd.read_csv(state_unemployment)"
   ]
  },
  {
   "cell_type": "code",
   "execution_count": 45,
   "id": "a94dfbf9-d730-471f-9c8d-a30af104ea76",
   "metadata": {},
   "outputs": [
    {
     "data": {
      "text/plain": [
       "<folium.map.LayerControl at 0x162d40d60>"
      ]
     },
     "execution_count": 45,
     "metadata": {},
     "output_type": "execute_result"
    }
   ],
   "source": [
    "map_f = folium.Map(location=[48, -102], zoom_start=3)\n",
    "\n",
    "folium.Choropleth(\n",
    "    geo_data=state_geo,\n",
    "    name=\"choropleth\",\n",
    "    data=state_data,\n",
    "    columns=[\"State\", \"Unemployment\"],\n",
    "    key_on=\"feature.id\",\n",
    "    fill_color=\"YlGn\",\n",
    "    fill_opacity=0.7,\n",
    "    line_opacity=0.2,\n",
    "    legend_name=\"Unemployment Rate (%)\",\n",
    ").add_to(map_f)\n",
    "\n",
    "folium.LayerControl().add_to(map_f)"
   ]
  },
  {
   "cell_type": "code",
   "execution_count": 46,
   "id": "fe99ed1f-e6ec-456a-922a-12a606bcce2e",
   "metadata": {},
   "outputs": [
    {
     "data": {
      "text/html": [
       "<div style=\"width:100%;\"><div style=\"position:relative;width:100%;height:0;padding-bottom:60%;\"><span style=\"color:#565656\">Make this Notebook Trusted to load map: File -> Trust Notebook</span><iframe srcdoc=\"&lt;!DOCTYPE html&gt;\n",
       "&lt;head&gt;    \n",
       "    &lt;meta http-equiv=&quot;content-type&quot; content=&quot;text/html; charset=UTF-8&quot; /&gt;\n",
       "    \n",
       "        &lt;script&gt;\n",
       "            L_NO_TOUCH = false;\n",
       "            L_DISABLE_3D = false;\n",
       "        &lt;/script&gt;\n",
       "    \n",
       "    &lt;style&gt;html, body {width: 100%;height: 100%;margin: 0;padding: 0;}&lt;/style&gt;\n",
       "    &lt;style&gt;#map {position:absolute;top:0;bottom:0;right:0;left:0;}&lt;/style&gt;\n",
       "    &lt;script src=&quot;https://cdn.jsdelivr.net/npm/leaflet@1.6.0/dist/leaflet.js&quot;&gt;&lt;/script&gt;\n",
       "    &lt;script src=&quot;https://code.jquery.com/jquery-1.12.4.min.js&quot;&gt;&lt;/script&gt;\n",
       "    &lt;script src=&quot;https://maxcdn.bootstrapcdn.com/bootstrap/3.2.0/js/bootstrap.min.js&quot;&gt;&lt;/script&gt;\n",
       "    &lt;script src=&quot;https://cdnjs.cloudflare.com/ajax/libs/Leaflet.awesome-markers/2.0.2/leaflet.awesome-markers.js&quot;&gt;&lt;/script&gt;\n",
       "    &lt;link rel=&quot;stylesheet&quot; href=&quot;https://cdn.jsdelivr.net/npm/leaflet@1.6.0/dist/leaflet.css&quot;/&gt;\n",
       "    &lt;link rel=&quot;stylesheet&quot; href=&quot;https://maxcdn.bootstrapcdn.com/bootstrap/3.2.0/css/bootstrap.min.css&quot;/&gt;\n",
       "    &lt;link rel=&quot;stylesheet&quot; href=&quot;https://maxcdn.bootstrapcdn.com/bootstrap/3.2.0/css/bootstrap-theme.min.css&quot;/&gt;\n",
       "    &lt;link rel=&quot;stylesheet&quot; href=&quot;https://maxcdn.bootstrapcdn.com/font-awesome/4.6.3/css/font-awesome.min.css&quot;/&gt;\n",
       "    &lt;link rel=&quot;stylesheet&quot; href=&quot;https://cdnjs.cloudflare.com/ajax/libs/Leaflet.awesome-markers/2.0.2/leaflet.awesome-markers.css&quot;/&gt;\n",
       "    &lt;link rel=&quot;stylesheet&quot; href=&quot;https://cdn.jsdelivr.net/gh/python-visualization/folium/folium/templates/leaflet.awesome.rotate.min.css&quot;/&gt;\n",
       "    \n",
       "            &lt;meta name=&quot;viewport&quot; content=&quot;width=device-width,\n",
       "                initial-scale=1.0, maximum-scale=1.0, user-scalable=no&quot; /&gt;\n",
       "            &lt;style&gt;\n",
       "                #map_4d10ef9fb2b8a732dcd547d90b8d138d {\n",
       "                    position: relative;\n",
       "                    width: 100.0%;\n",
       "                    height: 100.0%;\n",
       "                    left: 0.0%;\n",
       "                    top: 0.0%;\n",
       "                }\n",
       "            &lt;/style&gt;\n",
       "        \n",
       "    &lt;script src=&quot;https://cdnjs.cloudflare.com/ajax/libs/d3/3.5.5/d3.min.js&quot;&gt;&lt;/script&gt;\n",
       "&lt;/head&gt;\n",
       "&lt;body&gt;    \n",
       "    \n",
       "            &lt;div class=&quot;folium-map&quot; id=&quot;map_4d10ef9fb2b8a732dcd547d90b8d138d&quot; &gt;&lt;/div&gt;\n",
       "        \n",
       "&lt;/body&gt;\n",
       "&lt;script&gt;    \n",
       "    \n",
       "            var map_4d10ef9fb2b8a732dcd547d90b8d138d = L.map(\n",
       "                &quot;map_4d10ef9fb2b8a732dcd547d90b8d138d&quot;,\n",
       "                {\n",
       "                    center: [48.0, -102.0],\n",
       "                    crs: L.CRS.EPSG3857,\n",
       "                    zoom: 3,\n",
       "                    zoomControl: true,\n",
       "                    preferCanvas: false,\n",
       "                }\n",
       "            );\n",
       "\n",
       "            \n",
       "\n",
       "        \n",
       "    \n",
       "            var tile_layer_d4e51df29099b9cb67d8fe498b2ed1d5 = L.tileLayer(\n",
       "                &quot;https://{s}.tile.openstreetmap.org/{z}/{x}/{y}.png&quot;,\n",
       "                {&quot;attribution&quot;: &quot;Data by \\u0026copy; \\u003ca href=\\&quot;http://openstreetmap.org\\&quot;\\u003eOpenStreetMap\\u003c/a\\u003e, under \\u003ca href=\\&quot;http://www.openstreetmap.org/copyright\\&quot;\\u003eODbL\\u003c/a\\u003e.&quot;, &quot;detectRetina&quot;: false, &quot;maxNativeZoom&quot;: 18, &quot;maxZoom&quot;: 18, &quot;minZoom&quot;: 0, &quot;noWrap&quot;: false, &quot;opacity&quot;: 1, &quot;subdomains&quot;: &quot;abc&quot;, &quot;tms&quot;: false}\n",
       "            ).addTo(map_4d10ef9fb2b8a732dcd547d90b8d138d);\n",
       "        \n",
       "    \n",
       "            var choropleth_0a5d275a36812bdc9d5959afd6eddbad = L.featureGroup(\n",
       "                {}\n",
       "            ).addTo(map_4d10ef9fb2b8a732dcd547d90b8d138d);\n",
       "        \n",
       "    \n",
       "        function geo_json_b318ef97fe7cf3754ca680142f92595d_styler(feature) {\n",
       "            switch(feature.id) {\n",
       "                case &quot;AZ&quot;: case &quot;CT&quot;: case &quot;FL&quot;: case &quot;GA&quot;: case &quot;IL&quot;: case &quot;IN&quot;: case &quot;KY&quot;: case &quot;MI&quot;: case &quot;MS&quot;: case &quot;NY&quot;: case &quot;OR&quot;: case &quot;PA&quot;: case &quot;SC&quot;: \n",
       "                    return {&quot;color&quot;: &quot;black&quot;, &quot;fillColor&quot;: &quot;#31a354&quot;, &quot;fillOpacity&quot;: 0.7, &quot;opacity&quot;: 0.2, &quot;weight&quot;: 1};\n",
       "                case &quot;CA&quot;: case &quot;NV&quot;: case &quot;NJ&quot;: case &quot;NC&quot;: case &quot;RI&quot;: \n",
       "                    return {&quot;color&quot;: &quot;black&quot;, &quot;fillColor&quot;: &quot;#006837&quot;, &quot;fillOpacity&quot;: 0.7, &quot;opacity&quot;: 0.2, &quot;weight&quot;: 1};\n",
       "                case &quot;HI&quot;: case &quot;IA&quot;: case &quot;OK&quot;: case &quot;SD&quot;: case &quot;UT&quot;: case &quot;VT&quot;: case &quot;WY&quot;: \n",
       "                    return {&quot;color&quot;: &quot;black&quot;, &quot;fillColor&quot;: &quot;#d9f0a3&quot;, &quot;fillOpacity&quot;: 0.7, &quot;opacity&quot;: 0.2, &quot;weight&quot;: 1};\n",
       "                case &quot;ID&quot;: case &quot;KS&quot;: case &quot;LA&quot;: case &quot;MA&quot;: case &quot;MN&quot;: case &quot;MO&quot;: case &quot;MT&quot;: case &quot;NH&quot;: case &quot;TX&quot;: case &quot;VA&quot;: \n",
       "                    return {&quot;color&quot;: &quot;black&quot;, &quot;fillColor&quot;: &quot;#addd8e&quot;, &quot;fillOpacity&quot;: 0.7, &quot;opacity&quot;: 0.2, &quot;weight&quot;: 1};\n",
       "                case &quot;NE&quot;: case &quot;ND&quot;: \n",
       "                    return {&quot;color&quot;: &quot;black&quot;, &quot;fillColor&quot;: &quot;#ffffcc&quot;, &quot;fillOpacity&quot;: 0.7, &quot;opacity&quot;: 0.2, &quot;weight&quot;: 1};\n",
       "                default:\n",
       "                    return {&quot;color&quot;: &quot;black&quot;, &quot;fillColor&quot;: &quot;#78c679&quot;, &quot;fillOpacity&quot;: 0.7, &quot;opacity&quot;: 0.2, &quot;weight&quot;: 1};\n",
       "            }\n",
       "        }\n",
       "\n",
       "        function geo_json_b318ef97fe7cf3754ca680142f92595d_onEachFeature(feature, layer) {\n",
       "            layer.on({\n",
       "            });\n",
       "        };\n",
       "        var geo_json_b318ef97fe7cf3754ca680142f92595d = L.geoJson(null, {\n",
       "                onEachFeature: geo_json_b318ef97fe7cf3754ca680142f92595d_onEachFeature,\n",
       "            \n",
       "                style: geo_json_b318ef97fe7cf3754ca680142f92595d_styler,\n",
       "        });\n",
       "\n",
       "        function geo_json_b318ef97fe7cf3754ca680142f92595d_add (data) {\n",
       "            geo_json_b318ef97fe7cf3754ca680142f92595d\n",
       "                .addData(data)\n",
       "                .addTo(choropleth_0a5d275a36812bdc9d5959afd6eddbad);\n",
       "        }\n",
       "            geo_json_b318ef97fe7cf3754ca680142f92595d_add({&quot;features&quot;: [{&quot;geometry&quot;: {&quot;coordinates&quot;: [[[-87.359296, 35.00118], [-85.606675, 34.984749], [-85.431413, 34.124869], [-85.184951, 32.859696], [-85.069935, 32.580372], [-84.960397, 32.421541], [-85.004212, 32.322956], [-84.889196, 32.262709], [-85.058981, 32.13674], [-85.053504, 32.01077], [-85.141136, 31.840985], [-85.042551, 31.539753], [-85.113751, 31.27686], [-85.004212, 31.003013], [-85.497137, 30.997536], [-87.600282, 30.997536], [-87.633143, 30.86609], [-87.408589, 30.674397], [-87.446927, 30.510088], [-87.37025, 30.427934], [-87.518128, 30.280057], [-87.655051, 30.247195], [-87.90699, 30.411504], [-87.934375, 30.657966], [-88.011052, 30.685351], [-88.10416, 30.499135], [-88.137022, 30.318396], [-88.394438, 30.367688], [-88.471115, 31.895754], [-88.241084, 33.796253], [-88.098683, 34.891641], [-88.202745, 34.995703], [-87.359296, 35.00118]]], &quot;type&quot;: &quot;Polygon&quot;}, &quot;id&quot;: &quot;AL&quot;, &quot;properties&quot;: {&quot;name&quot;: &quot;Alabama&quot;}, &quot;type&quot;: &quot;Feature&quot;}, {&quot;geometry&quot;: {&quot;coordinates&quot;: [[[[-131.602021, 55.117982], [-131.569159, 55.28229], [-131.355558, 55.183705], [-131.38842, 55.01392], [-131.645836, 55.035827], [-131.602021, 55.117982]]], [[[-131.832052, 55.42469], [-131.645836, 55.304197], [-131.749898, 55.128935], [-131.832052, 55.189182], [-131.832052, 55.42469]]], [[[-132.976733, 56.437924], [-132.735747, 56.459832], [-132.631685, 56.421493], [-132.664547, 56.273616], [-132.878148, 56.240754], [-133.069841, 56.333862], [-132.976733, 56.437924]]], [[[-133.595627, 56.350293], [-133.162949, 56.317431], [-133.05341, 56.125739], [-132.620732, 55.912138], [-132.472854, 55.780691], [-132.4619, 55.671152], [-132.357838, 55.649245], [-132.341408, 55.506844], [-132.166146, 55.364444], [-132.144238, 55.238474], [-132.029222, 55.276813], [-131.97993, 55.178228], [-131.958022, 54.789365], [-132.029222, 54.701734], [-132.308546, 54.718165], [-132.385223, 54.915335], [-132.483808, 54.898904], [-132.686455, 55.046781], [-132.746701, 54.997489], [-132.916486, 55.046781], [-132.889102, 54.898904], [-132.73027, 54.937242], [-132.626209, 54.882473], [-132.675501, 54.679826], [-132.867194, 54.701734], [-133.157472, 54.95915], [-133.239626, 55.090597], [-133.223195, 55.22752], [-133.453227, 55.216566], [-133.453227, 55.320628], [-133.277964, 55.331582], [-133.102702, 55.42469], [-133.17938, 55.588998], [-133.387503, 55.62186], [-133.420365, 55.884753], [-133.497042, 56.0162], [-133.639442, 55.923092], [-133.694212, 56.070969], [-133.546335, 56.142169], [-133.666827, 56.311955], [-133.595627, 56.350293]]], [[[-133.738027, 55.556137], [-133.546335, 55.490413], [-133.414888, 55.572568], [-133.283441, 55.534229], [-133.420365, 55.386352], [-133.633966, 55.430167], [-133.738027, 55.556137]]], [[[-133.907813, 56.930849], [-134.050213, 57.029434], [-133.885905, 57.095157], [-133.343688, 57.002049], [-133.102702, 57.007526], [-132.932917, 56.82131], [-132.620732, 56.667956], [-132.653593, 56.55294], [-132.817901, 56.492694], [-133.042456, 56.520078], [-133.201287, 56.448878], [-133.420365, 56.492694], [-133.66135, 56.448878], [-133.710643, 56.684386], [-133.688735, 56.837741], [-133.869474, 56.843218], [-133.907813, 56.930849]]], [[[-134.115936, 56.48174], [-134.25286, 56.558417], [-134.400737, 56.722725], [-134.417168, 56.848695], [-134.296675, 56.908941], [-134.170706, 56.848695], [-134.143321, 56.952757], [-133.748981, 56.772017], [-133.710643, 56.596755], [-133.847566, 56.574848], [-133.935197, 56.377678], [-133.836612, 56.322908], [-133.957105, 56.092877], [-134.110459, 56.142169], [-134.132367, 55.999769], [-134.230952, 56.070969], [-134.291198, 56.350293], [-134.115936, 56.48174]]], [[[-134.636246, 56.28457], [-134.669107, 56.169554], [-134.806031, 56.235277], [-135.178463, 56.67891], [-135.413971, 56.810356], [-135.331817, 56.914418], [-135.424925, 57.166357], [-135.687818, 57.369004], [-135.419448, 57.566174], [-135.298955, 57.48402], [-135.063447, 57.418296], [-134.849846, 57.407343], [-134.844369, 57.248511], [-134.636246, 56.728202], [-134.636246, 56.28457]]], [[[-134.712923, 58.223407], [-134.373353, 58.14673], [-134.176183, 58.157683], [-134.187137, 58.081006], [-133.902336, 57.807159], [-134.099505, 57.850975], [-134.148798, 57.757867], [-133.935197, 57.615466], [-133.869474, 57.363527], [-134.083075, 57.297804], [-134.154275, 57.210173], [-134.499322, 57.029434], [-134.603384, 57.034911], [-134.6472, 57.226604], [-134.575999, 57.341619], [-134.608861, 57.511404], [-134.729354, 57.719528], [-134.707446, 57.829067], [-134.784123, 58.097437], [-134.91557, 58.212453], [-134.953908, 58.409623], [-134.712923, 58.223407]]], [[[-135.857603, 57.330665], [-135.715203, 57.330665], [-135.567326, 57.149926], [-135.633049, 57.023957], [-135.857603, 56.996572], [-135.824742, 57.193742], [-135.857603, 57.330665]]], [[[-136.279328, 58.206976], [-135.978096, 58.201499], [-135.780926, 58.28913], [-135.496125, 58.168637], [-135.64948, 58.037191], [-135.59471, 57.987898], [-135.45231, 58.135776], [-135.107263, 58.086483], [-134.91557, 57.976944], [-135.025108, 57.779775], [-134.937477, 57.763344], [-134.822462, 57.500451], [-135.085355, 57.462112], [-135.572802, 57.675713], [-135.556372, 57.456635], [-135.709726, 57.369004], [-135.890465, 57.407343], [-136.000004, 57.544266], [-136.208128, 57.637374], [-136.366959, 57.829067], [-136.569606, 57.916698], [-136.558652, 58.075529], [-136.421728, 58.130299], [-136.377913, 58.267222], [-136.279328, 58.206976]]], [[[-147.079854, 60.200582], [-147.501579, 59.948643], [-147.53444, 59.850058], [-147.874011, 59.784335], [-147.80281, 59.937689], [-147.435855, 60.09652], [-147.205824, 60.271782], [-147.079854, 60.200582]]], [[[-147.561825, 60.578491], [-147.616594, 60.370367], [-147.758995, 60.156767], [-147.956165, 60.227967], [-147.791856, 60.474429], [-147.561825, 60.578491]]], [[[-147.786379, 70.245291], [-147.682318, 70.201475], [-147.162008, 70.15766], [-146.888161, 70.185044], [-146.510252, 70.185044], [-146.099482, 70.146706], [-145.858496, 70.168614], [-145.622988, 70.08646], [-145.195787, 69.993352], [-144.620708, 69.971444], [-144.461877, 70.026213], [-144.078491, 70.059075], [-143.914183, 70.130275], [-143.497935, 70.141229], [-143.503412, 70.091936], [-143.25695, 70.119321], [-142.747594, 70.042644], [-142.402547, 69.916674], [-142.079408, 69.856428], [-142.008207, 69.801659], [-141.712453, 69.790705], [-141.433129, 69.697597], [-141.378359, 69.63735], [-141.208574, 69.686643], [-141.00045, 69.648304], [-141.00045, 60.304644], [-140.53491, 60.22249], [-140.474664, 60.310121], [-139.987216, 60.184151], [-139.696939, 60.342983], [-139.088998, 60.359413], [-139.198537, 60.091043], [-139.045183, 59.997935], [-138.700135, 59.910304], [-138.623458, 59.767904], [-137.604747, 59.242118], [-137.445916, 58.908024], [-137.265177, 59.001132], [-136.827022, 59.159963], [-136.580559, 59.16544], [-136.465544, 59.285933], [-136.476498, 59.466672], [-136.301236, 59.466672], [-136.25742, 59.625503], [-135.945234, 59.663842], [-135.479694, 59.800766], [-135.025108, 59.565257], [-135.068924, 59.422857], [-134.959385, 59.280456], [-134.701969, 59.247595], [-134.378829, 59.033994], [-134.400737, 58.973748], [-134.25286, 58.858732], [-133.842089, 58.727285], [-133.173903, 58.152206], [-133.075318, 57.998852], [-132.867194, 57.845498], [-132.560485, 57.505928], [-132.253777, 57.21565], [-132.368792, 57.095157], [-132.05113, 57.051341], [-132.127807, 56.876079], [-131.870391, 56.804879], [-131.837529, 56.602232], [-131.580113, 56.613186], [-131.087188, 56.405062], [-130.78048, 56.366724], [-130.621648, 56.268139], [-130.468294, 56.240754], [-130.424478, 56.142169], [-130.101339, 56.114785], [-130.002754, 55.994292], [-130.150631, 55.769737], [-130.128724, 55.583521], [-129.986323, 55.276813], [-130.095862, 55.200136], [-130.336847, 54.920812], [-130.687372, 54.718165], [-130.785957, 54.822227], [-130.917403, 54.789365], [-131.010511, 54.997489], [-130.983126, 55.08512], [-131.092665, 55.189182], [-130.862634, 55.298721], [-130.928357, 55.337059], [-131.158389, 55.200136], [-131.284358, 55.287767], [-131.426759, 55.238474], [-131.843006, 55.457552], [-131.700606, 55.698537], [-131.963499, 55.616383], [-131.974453, 55.49589], [-132.182576, 55.588998], [-132.226392, 55.704014], [-132.083991, 55.829984], [-132.127807, 55.955953], [-132.324977, 55.851892], [-132.522147, 56.076446], [-132.642639, 56.032631], [-132.719317, 56.218847], [-132.527624, 56.339339], [-132.341408, 56.339339], [-132.396177, 56.487217], [-132.297592, 56.67891], [-132.450946, 56.673433], [-132.768609, 56.837741], [-132.993164, 57.034911], [-133.51895, 57.177311], [-133.507996, 57.577128], [-133.677781, 57.62642], [-133.639442, 57.790728], [-133.814705, 57.834544], [-134.072121, 58.053622], [-134.143321, 58.168637], [-134.586953, 58.206976], [-135.074401, 58.502731], [-135.282525, 59.192825], [-135.38111, 59.033994], [-135.337294, 58.891593], [-135.140124, 58.617746], [-135.189417, 58.573931], [-135.05797, 58.349376], [-135.085355, 58.201499], [-135.277048, 58.234361], [-135.430402, 58.398669], [-135.633049, 58.426053], [-135.91785, 58.382238], [-135.912373, 58.617746], [-136.087635, 58.814916], [-136.246466, 58.75467], [-136.876314, 58.962794], [-136.931084, 58.902547], [-136.586036, 58.836824], [-136.317666, 58.672516], [-136.213604, 58.667039], [-136.180743, 58.535592], [-136.043819, 58.382238], [-136.388867, 58.294607], [-136.591513, 58.349376], [-136.59699, 58.212453], [-136.859883, 58.316515], [-136.947514, 58.393192], [-137.111823, 58.393192], [-137.566409, 58.590362], [-137.900502, 58.765624], [-137.933364, 58.869686], [-138.11958, 59.02304], [-138.634412, 59.132579], [-138.919213, 59.247595], [-139.417615, 59.379041], [-139.746231, 59.505011], [-139.718846, 59.641934], [-139.625738, 59.598119], [-139.5162, 59.68575], [-139.625738, 59.88292], [-139.488815, 59.992458], [-139.554538, 60.041751], [-139.801, 59.833627], [-140.315833, 59.696704], [-140.92925, 59.745996], [-141.444083, 59.871966], [-141.46599, 59.970551], [-141.706976, 59.948643], [-141.964392, 60.019843], [-142.539471, 60.085566], [-142.873564, 60.091043], [-143.623905, 60.036274], [-143.892275, 59.997935], [-144.231845, 60.140336], [-144.65357, 60.206059], [-144.785016, 60.29369], [-144.834309, 60.441568], [-145.124586, 60.430614], [-145.223171, 60.299167], [-145.738004, 60.474429], [-145.820158, 60.551106], [-146.351421, 60.408706], [-146.608837, 60.238921], [-146.718376, 60.397752], [-146.608837, 60.485383], [-146.455483, 60.463475], [-145.951604, 60.578491], [-146.017328, 60.666122], [-146.252836, 60.622307], [-146.345944, 60.737322], [-146.565022, 60.753753], [-146.784099, 61.044031], [-146.866253, 60.972831], [-147.172962, 60.934492], [-147.271547, 60.972831], [-147.375609, 60.879723], [-147.758995, 60.912584], [-147.775426, 60.808523], [-148.032842, 60.781138], [-148.153334, 60.819476], [-148.065703, 61.005692], [-148.175242, 61.000215], [-148.350504, 60.803046], [-148.109519, 60.737322], [-148.087611, 60.594922], [-147.939734, 60.441568], [-148.027365, 60.277259], [-148.219058, 60.332029], [-148.273827, 60.249875], [-148.087611, 60.217013], [-147.983549, 59.997935], [-148.251919, 59.95412], [-148.399797, 59.997935], [-148.635305, 59.937689], [-148.755798, 59.986981], [-149.067984, 59.981505], [-149.05703, 60.063659], [-149.204907, 60.008889], [-149.287061, 59.904827], [-149.418508, 59.997935], [-149.582816, 59.866489], [-149.511616, 59.806242], [-149.741647, 59.729565], [-149.949771, 59.718611], [-150.031925, 59.61455], [-150.25648, 59.521442], [-150.409834, 59.554303], [-150.579619, 59.444764], [-150.716543, 59.450241], [-151.001343, 59.225687], [-151.308052, 59.209256], [-151.406637, 59.280456], [-151.592853, 59.159963], [-151.976239, 59.253071], [-151.888608, 59.422857], [-151.636669, 59.483103], [-151.47236, 59.472149], [-151.423068, 59.537872], [-151.127313, 59.669319], [-151.116359, 59.778858], [-151.505222, 59.63098], [-151.828361, 59.718611], [-151.8667, 59.778858], [-151.702392, 60.030797], [-151.423068, 60.211536], [-151.379252, 60.359413], [-151.297098, 60.386798], [-151.264237, 60.545629], [-151.406637, 60.720892], [-151.06159, 60.786615], [-150.404357, 61.038554], [-150.245526, 60.939969], [-150.042879, 60.912584], [-149.741647, 61.016646], [-150.075741, 61.15357], [-150.207187, 61.257632], [-150.47008, 61.246678], [-150.656296, 61.29597], [-150.711066, 61.252155], [-151.023251, 61.180954], [-151.165652, 61.044031], [-151.477837, 61.011169], [-151.800977, 60.852338], [-151.833838, 60.748276], [-152.080301, 60.693507], [-152.13507, 60.578491], [-152.310332, 60.507291], [-152.392486, 60.304644], [-152.732057, 60.173197], [-152.567748, 60.069136], [-152.704672, 59.915781], [-153.022334, 59.888397], [-153.049719, 59.691227], [-153.345474, 59.620026], [-153.438582, 59.702181], [-153.586459, 59.548826], [-153.761721, 59.543349], [-153.72886, 59.433811], [-154.117723, 59.368087], [-154.1944, 59.066856], [-153.750768, 59.050425], [-153.400243, 58.968271], [-153.301658, 58.869686], [-153.444059, 58.710854], [-153.679567, 58.612269], [-153.898645, 58.606793], [-153.920553, 58.519161], [-154.062953, 58.4863], [-153.99723, 58.376761], [-154.145107, 58.212453], [-154.46277, 58.059098], [-154.643509, 58.059098], [-154.818771, 58.004329], [-154.988556, 58.015283], [-155.120003, 57.955037], [-155.081664, 57.872883], [-155.328126, 57.829067], [-155.377419, 57.708574], [-155.547204, 57.785251], [-155.73342, 57.549743], [-156.045606, 57.566174], [-156.023698, 57.440204], [-156.209914, 57.473066], [-156.34136, 57.418296], [-156.34136, 57.248511], [-156.549484, 56.985618], [-156.883577, 56.952757], [-157.157424, 56.832264], [-157.20124, 56.766541], [-157.376502, 56.859649], [-157.672257, 56.607709], [-157.754411, 56.67891], [-157.918719, 56.657002], [-157.957058, 56.514601], [-158.126843, 56.459832], [-158.32949, 56.48174], [-158.488321, 56.339339], [-158.208997, 56.295524], [-158.510229, 55.977861], [-159.375585, 55.873799], [-159.616571, 55.594475], [-159.676817, 55.654722], [-159.643955, 55.829984], [-159.813741, 55.857368], [-160.027341, 55.791645], [-160.060203, 55.720445], [-160.394296, 55.605429], [-160.536697, 55.473983], [-160.580512, 55.567091], [-160.668143, 55.457552], [-160.865313, 55.528752], [-161.232268, 55.358967], [-161.506115, 55.364444], [-161.467776, 55.49589], [-161.588269, 55.62186], [-161.697808, 55.517798], [-161.686854, 55.408259], [-162.053809, 55.074166], [-162.179779, 55.15632], [-162.218117, 55.03035], [-162.470057, 55.052258], [-162.508395, 55.249428], [-162.661749, 55.293244], [-162.716519, 55.222043], [-162.579595, 55.134412], [-162.645319, 54.997489], [-162.847965, 54.926289], [-163.00132, 55.079643], [-163.187536, 55.090597], [-163.220397, 55.03035], [-163.034181, 54.942719], [-163.373752, 54.800319], [-163.14372, 54.76198], [-163.138243, 54.696257], [-163.329936, 54.74555], [-163.587352, 54.614103], [-164.085754, 54.61958], [-164.332216, 54.531949], [-164.354124, 54.466226], [-164.638925, 54.389548], [-164.847049, 54.416933], [-164.918249, 54.603149], [-164.710125, 54.663395], [-164.551294, 54.88795], [-164.34317, 54.893427], [-163.894061, 55.041304], [-163.532583, 55.046781], [-163.39566, 54.904381], [-163.291598, 55.008443], [-163.313505, 55.128935], [-163.105382, 55.183705], [-162.880827, 55.183705], [-162.579595, 55.446598], [-162.245502, 55.682106], [-161.807347, 55.89023], [-161.292514, 55.983338], [-161.078914, 55.939523], [-160.87079, 55.999769], [-160.816021, 55.912138], [-160.931036, 55.813553], [-160.805067, 55.736876], [-160.766728, 55.857368], [-160.509312, 55.868322], [-160.438112, 55.791645], [-160.27928, 55.76426], [-160.273803, 55.857368], [-160.536697, 55.939523], [-160.558604, 55.994292], [-160.383342, 56.251708], [-160.147834, 56.399586], [-159.830171, 56.541986], [-159.326293, 56.667956], [-158.959338, 56.848695], [-158.784076, 56.782971], [-158.641675, 56.810356], [-158.701922, 56.925372], [-158.658106, 57.034911], [-158.378782, 57.264942], [-157.995396, 57.41282], [-157.688688, 57.609989], [-157.705118, 57.719528], [-157.458656, 58.497254], [-157.07527, 58.705377], [-157.119086, 58.869686], [-158.039212, 58.634177], [-158.32949, 58.661562], [-158.40069, 58.760147], [-158.564998, 58.803962], [-158.619768, 58.913501], [-158.767645, 58.864209], [-158.860753, 58.694424], [-158.701922, 58.480823], [-158.893615, 58.387715], [-159.0634, 58.420577], [-159.392016, 58.760147], [-159.616571, 58.929932], [-159.731586, 58.929932], [-159.808264, 58.803962], [-159.906848, 58.782055], [-160.054726, 58.886116], [-160.235465, 58.902547], [-160.317619, 59.072332], [-160.854359, 58.88064], [-161.33633, 58.743716], [-161.374669, 58.667039], [-161.752577, 58.552023], [-161.938793, 58.656085], [-161.769008, 58.776578], [-161.829255, 59.061379], [-161.955224, 59.36261], [-161.703285, 59.48858], [-161.911409, 59.740519], [-162.092148, 59.88292], [-162.234548, 60.091043], [-162.448149, 60.178674], [-162.502918, 59.997935], [-162.760334, 59.959597], [-163.171105, 59.844581], [-163.66403, 59.795289], [-163.9324, 59.806242], [-164.162431, 59.866489], [-164.189816, 60.02532], [-164.386986, 60.074613], [-164.699171, 60.29369], [-164.962064, 60.337506], [-165.268773, 60.578491], [-165.060649, 60.68803], [-165.016834, 60.890677], [-165.175665, 60.846861], [-165.197573, 60.972831], [-165.120896, 61.076893], [-165.323543, 61.170001], [-165.34545, 61.071416], [-165.591913, 61.109754], [-165.624774, 61.279539], [-165.816467, 61.301447], [-165.920529, 61.416463], [-165.915052, 61.558863], [-166.106745, 61.49314], [-166.139607, 61.630064], [-165.904098, 61.662925], [-166.095791, 61.81628], [-165.756221, 61.827233], [-165.756221, 62.013449], [-165.674067, 62.139419], [-165.044219, 62.539236], [-164.912772, 62.659728], [-164.819664, 62.637821], [-164.874433, 62.807606], [-164.633448, 63.097884], [-164.425324, 63.212899], [-164.036462, 63.262192], [-163.73523, 63.212899], [-163.313505, 63.037637], [-163.039658, 63.059545], [-162.661749, 63.22933], [-162.272887, 63.486746], [-162.075717, 63.514131], [-162.026424, 63.448408], [-161.555408, 63.448408], [-161.13916, 63.503177], [-160.766728, 63.771547], [-160.766728, 63.837271], [-160.952944, 64.08921], [-160.974852, 64.237087], [-161.26513, 64.395918], [-161.374669, 64.532842], [-161.078914, 64.494503], [-160.79959, 64.609519], [-160.783159, 64.719058], [-161.144637, 64.921705], [-161.413007, 64.762873], [-161.664946, 64.790258], [-161.900455, 64.702627], [-162.168825, 64.680719], [-162.234548, 64.620473], [-162.541257, 64.532842], [-162.634365, 64.384965], [-162.787719, 64.324718], [-162.858919, 64.49998], [-163.045135, 64.538319], [-163.176582, 64.401395], [-163.253259, 64.467119], [-163.598306, 64.565704], [-164.304832, 64.560227], [-164.80871, 64.450688], [-165.000403, 64.434257], [-165.411174, 64.49998], [-166.188899, 64.576658], [-166.391546, 64.636904], [-166.484654, 64.735489], [-166.413454, 64.872412], [-166.692778, 64.987428], [-166.638008, 65.113398], [-166.462746, 65.179121], [-166.517516, 65.337952], [-166.796839, 65.337952], [-167.026871, 65.381768], [-167.47598, 65.414629], [-167.711489, 65.496784], [-168.072967, 65.578938], [-168.105828, 65.682999], [-167.541703, 65.819923], [-166.829701, 66.049954], [-166.3313, 66.186878], [-166.046499, 66.110201], [-165.756221, 66.09377], [-165.690498, 66.203309], [-165.86576, 66.21974], [-165.88219, 66.312848], [-165.186619, 66.466202], [-164.403417, 66.581218], [-163.981692, 66.592172], [-163.751661, 66.553833], [-163.872153, 66.389525], [-163.828338, 66.274509], [-163.915969, 66.192355], [-163.768091, 66.060908], [-163.494244, 66.082816], [-163.149197, 66.060908], [-162.749381, 66.088293], [-162.634365, 66.039001], [-162.371472, 66.028047], [-162.14144, 66.077339], [-161.840208, 66.02257], [-161.549931, 66.241647], [-161.341807, 66.252601], [-161.199406, 66.208786], [-161.128206, 66.334755], [-161.528023, 66.395002], [-161.911409, 66.345709], [-161.87307, 66.510017], [-162.174302, 66.68528], [-162.502918, 66.740049], [-162.601503, 66.89888], [-162.344087, 66.937219], [-162.015471, 66.778388], [-162.075717, 66.652418], [-161.916886, 66.553833], [-161.571838, 66.438817], [-161.489684, 66.55931], [-161.884024, 66.718141], [-161.714239, 67.002942], [-161.851162, 67.052235], [-162.240025, 66.991988], [-162.639842, 67.008419], [-162.700088, 67.057712], [-162.902735, 67.008419], [-163.740707, 67.128912], [-163.757138, 67.254881], [-164.009077, 67.534205], [-164.211724, 67.638267], [-164.534863, 67.725898], [-165.192096, 67.966884], [-165.493328, 68.059992], [-165.794559, 68.081899], [-166.243668, 68.246208], [-166.681824, 68.339316], [-166.703731, 68.372177], [-166.375115, 68.42147], [-166.227238, 68.574824], [-166.216284, 68.881533], [-165.329019, 68.859625], [-164.255539, 68.930825], [-163.976215, 68.985595], [-163.532583, 69.138949], [-163.110859, 69.374457], [-163.023228, 69.609966], [-162.842489, 69.812613], [-162.470057, 69.982398], [-162.311225, 70.108367], [-161.851162, 70.311014], [-161.779962, 70.256245], [-161.396576, 70.239814], [-160.837928, 70.343876], [-160.487404, 70.453415], [-159.649432, 70.792985], [-159.33177, 70.809416], [-159.298908, 70.760123], [-158.975769, 70.798462], [-158.658106, 70.787508], [-158.033735, 70.831323], [-157.420318, 70.979201], [-156.812377, 71.285909], [-156.565915, 71.351633], [-156.522099, 71.296863], [-155.585543, 71.170894], [-155.508865, 71.083263], [-155.832005, 70.968247], [-155.979882, 70.96277], [-155.974405, 70.809416], [-155.503388, 70.858708], [-155.476004, 70.940862], [-155.262403, 71.017539], [-155.191203, 70.973724], [-155.032372, 71.148986], [-154.566832, 70.990155], [-154.643509, 70.869662], [-154.353231, 70.8368], [-154.183446, 70.7656], [-153.931507, 70.880616], [-153.487874, 70.886093], [-153.235935, 70.924431], [-152.589656, 70.886093], [-152.26104, 70.842277], [-152.419871, 70.606769], [-151.817408, 70.546523], [-151.773592, 70.486276], [-151.187559, 70.382214], [-151.182082, 70.431507], [-150.760358, 70.49723], [-150.355064, 70.491753], [-150.349588, 70.436984], [-150.114079, 70.431507], [-149.867617, 70.508184], [-149.462323, 70.519138], [-149.177522, 70.486276], [-148.78866, 70.404122], [-148.607921, 70.420553], [-148.350504, 70.305537], [-148.202627, 70.349353], [-147.961642, 70.316491], [-147.786379, 70.245291]]], [[[-152.94018, 58.026237], [-152.945657, 57.982421], [-153.290705, 58.048145], [-153.044242, 58.305561], [-152.819688, 58.327469], [-152.666333, 58.562977], [-152.496548, 58.354853], [-152.354148, 58.426053], [-152.080301, 58.311038], [-152.080301, 58.152206], [-152.480117, 58.130299], [-152.655379, 58.059098], [-152.94018, 58.026237]]], [[[-153.958891, 57.538789], [-153.67409, 57.670236], [-153.931507, 57.69762], [-153.936983, 57.812636], [-153.723383, 57.889313], [-153.570028, 57.834544], [-153.548121, 57.719528], [-153.46049, 57.796205], [-153.455013, 57.96599], [-153.268797, 57.889313], [-153.235935, 57.998852], [-153.071627, 57.933129], [-152.874457, 57.933129], [-152.721103, 57.993375], [-152.469163, 57.889313], [-152.469163, 57.599035], [-152.151501, 57.620943], [-152.359625, 57.42925], [-152.74301, 57.505928], [-152.60061, 57.379958], [-152.710149, 57.275896], [-152.907319, 57.325188], [-152.912796, 57.128019], [-153.214027, 57.073249], [-153.312612, 56.991095], [-153.498828, 57.067772], [-153.695998, 56.859649], [-153.849352, 56.837741], [-154.013661, 56.744633], [-154.073907, 56.969187], [-154.303938, 56.848695], [-154.314892, 56.919895], [-154.523016, 56.991095], [-154.539447, 57.193742], [-154.742094, 57.275896], [-154.627078, 57.511404], [-154.227261, 57.659282], [-153.980799, 57.648328], [-153.958891, 57.538789]]], [[[-154.53397, 56.602232], [-154.742094, 56.399586], [-154.807817, 56.432447], [-154.53397, 56.602232]]], [[[-155.634835, 55.923092], [-155.476004, 55.912138], [-155.530773, 55.704014], [-155.793666, 55.731399], [-155.837482, 55.802599], [-155.634835, 55.923092]]], [[[-159.890418, 55.28229], [-159.950664, 55.068689], [-160.257373, 54.893427], [-160.109495, 55.161797], [-160.005433, 55.134412], [-159.890418, 55.28229]]], [[[-160.520266, 55.358967], [-160.33405, 55.358967], [-160.339527, 55.249428], [-160.525743, 55.128935], [-160.690051, 55.211089], [-160.794113, 55.134412], [-160.854359, 55.320628], [-160.79959, 55.380875], [-160.520266, 55.358967]]], [[[-162.256456, 54.981058], [-162.234548, 54.893427], [-162.349564, 54.838658], [-162.437195, 54.931766], [-162.256456, 54.981058]]], [[[-162.415287, 63.634624], [-162.563165, 63.536039], [-162.612457, 63.62367], [-162.415287, 63.634624]]], [[[-162.80415, 54.488133], [-162.590549, 54.449795], [-162.612457, 54.367641], [-162.782242, 54.373118], [-162.80415, 54.488133]]], [[[-165.548097, 54.29644], [-165.476897, 54.181425], [-165.630251, 54.132132], [-165.685021, 54.252625], [-165.548097, 54.29644]]], [[[-165.73979, 54.15404], [-166.046499, 54.044501], [-166.112222, 54.121178], [-165.980775, 54.219763], [-165.73979, 54.15404]]], [[[-166.364161, 60.359413], [-166.13413, 60.397752], [-166.084837, 60.326552], [-165.88219, 60.342983], [-165.685021, 60.277259], [-165.646682, 59.992458], [-165.750744, 59.89935], [-166.00816, 59.844581], [-166.062929, 59.745996], [-166.440838, 59.855535], [-166.6161, 59.850058], [-166.994009, 59.992458], [-167.125456, 59.992458], [-167.344534, 60.074613], [-167.421211, 60.206059], [-167.311672, 60.238921], [-166.93924, 60.206059], [-166.763978, 60.310121], [-166.577762, 60.321075], [-166.495608, 60.392275], [-166.364161, 60.359413]]], [[[-166.375115, 54.01164], [-166.210807, 53.934962], [-166.5449, 53.748746], [-166.539423, 53.715885], [-166.117699, 53.852808], [-166.112222, 53.776131], [-166.282007, 53.683023], [-166.555854, 53.622777], [-166.583239, 53.529669], [-166.878994, 53.431084], [-167.13641, 53.425607], [-167.306195, 53.332499], [-167.623857, 53.250345], [-167.793643, 53.337976], [-167.459549, 53.442038], [-167.355487, 53.425607], [-167.103548, 53.513238], [-167.163794, 53.611823], [-167.021394, 53.715885], [-166.807793, 53.666592], [-166.785886, 53.732316], [-167.015917, 53.754223], [-167.141887, 53.825424], [-167.032348, 53.945916], [-166.643485, 54.017116], [-166.561331, 53.880193], [-166.375115, 54.01164]]], [[[-168.790446, 53.157237], [-168.40706, 53.34893], [-168.385152, 53.431084], [-168.237275, 53.524192], [-168.007243, 53.568007], [-167.886751, 53.518715], [-167.842935, 53.387268], [-168.270136, 53.244868], [-168.500168, 53.036744], [-168.686384, 52.965544], [-168.790446, 53.157237]]], [[[-169.74891, 52.894344], [-169.705095, 52.795759], [-169.962511, 52.790282], [-169.989896, 52.856005], [-169.74891, 52.894344]]], [[[-170.148727, 57.221127], [-170.28565, 57.128019], [-170.313035, 57.221127], [-170.148727, 57.221127]]], [[[-170.669036, 52.697174], [-170.603313, 52.604066], [-170.789529, 52.538343], [-170.816914, 52.636928], [-170.669036, 52.697174]]], [[[-171.742517, 63.716778], [-170.94836, 63.5689], [-170.488297, 63.69487], [-170.280174, 63.683916], [-170.093958, 63.612716], [-170.044665, 63.492223], [-169.644848, 63.4265], [-169.518879, 63.366254], [-168.99857, 63.338869], [-168.686384, 63.295053], [-168.856169, 63.147176], [-169.108108, 63.180038], [-169.376478, 63.152653], [-169.513402, 63.08693], [-169.639372, 62.939052], [-169.831064, 63.075976], [-170.055619, 63.169084], [-170.263743, 63.180038], [-170.362328, 63.2841], [-170.866206, 63.415546], [-171.101715, 63.421023], [-171.463193, 63.306007], [-171.73704, 63.366254], [-171.852055, 63.486746], [-171.742517, 63.716778]]], [[[-172.432611, 52.390465], [-172.41618, 52.275449], [-172.607873, 52.253542], [-172.569535, 52.352127], [-172.432611, 52.390465]]], [[[-173.626584, 52.14948], [-173.495138, 52.105664], [-173.122706, 52.111141], [-173.106275, 52.07828], [-173.549907, 52.028987], [-173.626584, 52.14948]]], [[[-174.322156, 52.280926], [-174.327632, 52.379511], [-174.185232, 52.41785], [-173.982585, 52.319265], [-174.059262, 52.226157], [-174.179755, 52.231634], [-174.141417, 52.127572], [-174.333109, 52.116618], [-174.738403, 52.007079], [-174.968435, 52.039941], [-174.902711, 52.116618], [-174.656249, 52.105664], [-174.322156, 52.280926]]], [[[-176.469116, 51.853725], [-176.288377, 51.870156], [-176.288377, 51.744186], [-176.518409, 51.760617], [-176.80321, 51.61274], [-176.912748, 51.80991], [-176.792256, 51.815386], [-176.775825, 51.963264], [-176.627947, 51.968741], [-176.627947, 51.859202], [-176.469116, 51.853725]]], [[[-177.153734, 51.946833], [-177.044195, 51.897541], [-177.120872, 51.727755], [-177.274226, 51.678463], [-177.279703, 51.782525], [-177.153734, 51.946833]]], [[[-178.123152, 51.919448], [-177.953367, 51.913971], [-177.800013, 51.793479], [-177.964321, 51.651078], [-178.123152, 51.919448]]], [[[173.107557, 52.992929], [173.293773, 52.927205], [173.304726, 52.823143], [172.90491, 52.762897], [172.642017, 52.927205], [172.642017, 53.003883], [173.107557, 52.992929]]]], &quot;type&quot;: &quot;MultiPolygon&quot;}, &quot;id&quot;: &quot;AK&quot;, &quot;properties&quot;: {&quot;name&quot;: &quot;Alaska&quot;}, &quot;type&quot;: &quot;Feature&quot;}, {&quot;geometry&quot;: {&quot;coordinates&quot;: [[[-109.042503, 37.000263], [-109.04798, 31.331629], [-111.074448, 31.331629], [-112.246513, 31.704061], [-114.815198, 32.492741], [-114.72209, 32.717295], [-114.524921, 32.755634], [-114.470151, 32.843265], [-114.524921, 33.029481], [-114.661844, 33.034958], [-114.727567, 33.40739], [-114.524921, 33.54979], [-114.497536, 33.697668], [-114.535874, 33.933176], [-114.415382, 34.108438], [-114.256551, 34.174162], [-114.136058, 34.305608], [-114.333228, 34.448009], [-114.470151, 34.710902], [-114.634459, 34.87521], [-114.634459, 35.00118], [-114.574213, 35.138103], [-114.596121, 35.324319], [-114.678275, 35.516012], [-114.738521, 36.102045], [-114.371566, 36.140383], [-114.251074, 36.01989], [-114.152489, 36.025367], [-114.048427, 36.195153], [-114.048427, 37.000263], [-110.499369, 37.00574], [-109.042503, 37.000263]]], &quot;type&quot;: &quot;Polygon&quot;}, &quot;id&quot;: &quot;AZ&quot;, &quot;properties&quot;: {&quot;name&quot;: &quot;Arizona&quot;}, &quot;type&quot;: &quot;Feature&quot;}, {&quot;geometry&quot;: {&quot;coordinates&quot;: [[[-94.473842, 36.501861], [-90.152536, 36.496384], [-90.064905, 36.304691], [-90.218259, 36.184199], [-90.377091, 35.997983], [-89.730812, 35.997983], [-89.763673, 35.811767], [-89.911551, 35.756997], [-89.944412, 35.603643], [-90.130628, 35.439335], [-90.114197, 35.198349], [-90.212782, 35.023087], [-90.311367, 34.995703], [-90.251121, 34.908072], [-90.409952, 34.831394], [-90.481152, 34.661609], [-90.585214, 34.617794], [-90.568783, 34.420624], [-90.749522, 34.365854], [-90.744046, 34.300131], [-90.952169, 34.135823], [-90.891923, 34.026284], [-91.072662, 33.867453], [-91.231493, 33.560744], [-91.056231, 33.429298], [-91.143862, 33.347144], [-91.089093, 33.13902], [-91.16577, 33.002096], [-93.608485, 33.018527], [-94.041164, 33.018527], [-94.041164, 33.54979], [-94.183564, 33.593606], [-94.380734, 33.544313], [-94.484796, 33.637421], [-94.430026, 35.395519], [-94.616242, 36.501861], [-94.473842, 36.501861]]], &quot;type&quot;: &quot;Polygon&quot;}, &quot;id&quot;: &quot;AR&quot;, &quot;properties&quot;: {&quot;name&quot;: &quot;Arkansas&quot;}, &quot;type&quot;: &quot;Feature&quot;}, {&quot;geometry&quot;: {&quot;coordinates&quot;: [[[-123.233256, 42.006186], [-122.378853, 42.011663], [-121.037003, 41.995232], [-120.001861, 41.995232], [-119.996384, 40.264519], [-120.001861, 38.999346], [-118.71478, 38.101128], [-117.498899, 37.21934], [-116.540435, 36.501861], [-115.85034, 35.970598], [-114.634459, 35.00118], [-114.634459, 34.87521], [-114.470151, 34.710902], [-114.333228, 34.448009], [-114.136058, 34.305608], [-114.256551, 34.174162], [-114.415382, 34.108438], [-114.535874, 33.933176], [-114.497536, 33.697668], [-114.524921, 33.54979], [-114.727567, 33.40739], [-114.661844, 33.034958], [-114.524921, 33.029481], [-114.470151, 32.843265], [-114.524921, 32.755634], [-114.72209, 32.717295], [-116.04751, 32.624187], [-117.126467, 32.536556], [-117.24696, 32.668003], [-117.252437, 32.876127], [-117.329114, 33.122589], [-117.471515, 33.297851], [-117.7837, 33.538836], [-118.183517, 33.763391], [-118.260194, 33.703145], [-118.413548, 33.741483], [-118.391641, 33.840068], [-118.566903, 34.042715], [-118.802411, 33.998899], [-119.218659, 34.146777], [-119.278905, 34.26727], [-119.558229, 34.415147], [-119.875891, 34.40967], [-120.138784, 34.475393], [-120.472878, 34.448009], [-120.64814, 34.579455], [-120.609801, 34.858779], [-120.670048, 34.902595], [-120.631709, 35.099764], [-120.894602, 35.247642], [-120.905556, 35.450289], [-121.004141, 35.461243], [-121.168449, 35.636505], [-121.283465, 35.674843], [-121.332757, 35.784382], [-121.716143, 36.195153], [-121.896882, 36.315645], [-121.935221, 36.638785], [-121.858544, 36.6114], [-121.787344, 36.803093], [-121.929744, 36.978355], [-122.105006, 36.956447], [-122.335038, 37.115279], [-122.417192, 37.241248], [-122.400761, 37.361741], [-122.515777, 37.520572], [-122.515777, 37.783465], [-122.329561, 37.783465], [-122.406238, 38.15042], [-122.488392, 38.112082], [-122.504823, 37.931343], [-122.701993, 37.893004], [-122.937501, 38.029928], [-122.97584, 38.265436], [-123.129194, 38.451652], [-123.331841, 38.566668], [-123.44138, 38.698114], [-123.737134, 38.95553], [-123.687842, 39.032208], [-123.824765, 39.366301], [-123.764519, 39.552517], [-123.85215, 39.831841], [-124.109566, 40.105688], [-124.361506, 40.259042], [-124.410798, 40.439781], [-124.158859, 40.877937], [-124.109566, 41.025814], [-124.158859, 41.14083], [-124.065751, 41.442061], [-124.147905, 41.715908], [-124.257444, 41.781632], [-124.213628, 42.000709], [-123.233256, 42.006186]]], &quot;type&quot;: &quot;Polygon&quot;}, &quot;id&quot;: &quot;CA&quot;, &quot;properties&quot;: {&quot;name&quot;: &quot;California&quot;}, &quot;type&quot;: &quot;Feature&quot;}, {&quot;geometry&quot;: {&quot;coordinates&quot;: [[[-107.919731, 41.003906], [-105.728954, 40.998429], [-104.053011, 41.003906], [-102.053927, 41.003906], [-102.053927, 40.001626], [-102.042974, 36.994786], [-103.001438, 37.000263], [-104.337812, 36.994786], [-106.868158, 36.994786], [-107.421329, 37.000263], [-109.042503, 37.000263], [-109.042503, 38.166851], [-109.058934, 38.27639], [-109.053457, 39.125316], [-109.04798, 40.998429], [-107.919731, 41.003906]]], &quot;type&quot;: &quot;Polygon&quot;}, &quot;id&quot;: &quot;CO&quot;, &quot;properties&quot;: {&quot;name&quot;: &quot;Colorado&quot;}, &quot;type&quot;: &quot;Feature&quot;}, {&quot;geometry&quot;: {&quot;coordinates&quot;: [[[-73.053528, 42.039048], [-71.799309, 42.022617], [-71.799309, 42.006186], [-71.799309, 41.414677], [-71.859555, 41.321569], [-71.947186, 41.338], [-72.385341, 41.261322], [-72.905651, 41.28323], [-73.130205, 41.146307], [-73.371191, 41.102491], [-73.655992, 40.987475], [-73.727192, 41.102491], [-73.48073, 41.21203], [-73.55193, 41.294184], [-73.486206, 42.050002], [-73.053528, 42.039048]]], &quot;type&quot;: &quot;Polygon&quot;}, &quot;id&quot;: &quot;CT&quot;, &quot;properties&quot;: {&quot;name&quot;: &quot;Connecticut&quot;}, &quot;type&quot;: &quot;Feature&quot;}, {&quot;geometry&quot;: {&quot;coordinates&quot;: [[[-75.414089, 39.804456], [-75.507197, 39.683964], [-75.611259, 39.61824], [-75.589352, 39.459409], [-75.441474, 39.311532], [-75.403136, 39.065069], [-75.189535, 38.807653], [-75.09095, 38.796699], [-75.047134, 38.451652], [-75.693413, 38.462606], [-75.786521, 39.722302], [-75.616736, 39.831841], [-75.414089, 39.804456]]], &quot;type&quot;: &quot;Polygon&quot;}, &quot;id&quot;: &quot;DE&quot;, &quot;properties&quot;: {&quot;name&quot;: &quot;Delaware&quot;}, &quot;type&quot;: &quot;Feature&quot;}, {&quot;geometry&quot;: {&quot;coordinates&quot;: [[[-85.497137, 30.997536], [-85.004212, 31.003013], [-84.867289, 30.712735], [-83.498053, 30.647012], [-82.216449, 30.570335], [-82.167157, 30.356734], [-82.046664, 30.362211], [-82.002849, 30.564858], [-82.041187, 30.751074], [-81.948079, 30.827751], [-81.718048, 30.745597], [-81.444201, 30.707258], [-81.383954, 30.27458], [-81.257985, 29.787132], [-80.967707, 29.14633], [-80.524075, 28.461713], [-80.589798, 28.41242], [-80.56789, 28.094758], [-80.381674, 27.738757], [-80.091397, 27.021277], [-80.03115, 26.796723], [-80.036627, 26.566691], [-80.146166, 25.739673], [-80.239274, 25.723243], [-80.337859, 25.465826], [-80.304997, 25.383672], [-80.49669, 25.197456], [-80.573367, 25.241272], [-80.759583, 25.164595], [-81.077246, 25.120779], [-81.170354, 25.224841], [-81.126538, 25.378195], [-81.351093, 25.821827], [-81.526355, 25.903982], [-81.679709, 25.843735], [-81.800202, 26.090198], [-81.833064, 26.292844], [-82.041187, 26.517399], [-82.09048, 26.665276], [-82.057618, 26.878877], [-82.172634, 26.917216], [-82.145249, 26.791246], [-82.249311, 26.758384], [-82.566974, 27.300601], [-82.692943, 27.437525], [-82.391711, 27.837342], [-82.588881, 27.815434], [-82.720328, 27.689464], [-82.851774, 27.886634], [-82.676512, 28.434328], [-82.643651, 28.888914], [-82.764143, 28.998453], [-82.802482, 29.14633], [-82.994175, 29.179192], [-83.218729, 29.420177], [-83.399469, 29.518762], [-83.410422, 29.66664], [-83.536392, 29.721409], [-83.640454, 29.885717], [-84.02384, 30.104795], [-84.357933, 30.055502], [-84.341502, 29.902148], [-84.451041, 29.929533], [-84.867289, 29.743317], [-85.310921, 29.699501], [-85.299967, 29.80904], [-85.404029, 29.940487], [-85.924338, 30.236241], [-86.29677, 30.362211], [-86.630863, 30.395073], [-86.910187, 30.373165], [-87.518128, 30.280057], [-87.37025, 30.427934], [-87.446927, 30.510088], [-87.408589, 30.674397], [-87.633143, 30.86609], [-87.600282, 30.997536], [-85.497137, 30.997536]]], &quot;type&quot;: &quot;Polygon&quot;}, &quot;id&quot;: &quot;FL&quot;, &quot;properties&quot;: {&quot;name&quot;: &quot;Florida&quot;}, &quot;type&quot;: &quot;Feature&quot;}, {&quot;geometry&quot;: {&quot;coordinates&quot;: [[[-83.109191, 35.00118], [-83.322791, 34.787579], [-83.339222, 34.683517], [-83.005129, 34.469916], [-82.901067, 34.486347], [-82.747713, 34.26727], [-82.714851, 34.152254], [-82.55602, 33.94413], [-82.325988, 33.81816], [-82.194542, 33.631944], [-81.926172, 33.462159], [-81.937125, 33.347144], [-81.761863, 33.160928], [-81.493493, 33.007573], [-81.42777, 32.843265], [-81.416816, 32.629664], [-81.279893, 32.558464], [-81.121061, 32.290094], [-81.115584, 32.120309], [-80.885553, 32.032678], [-81.132015, 31.693108], [-81.175831, 31.517845], [-81.279893, 31.364491], [-81.290846, 31.20566], [-81.400385, 31.13446], [-81.444201, 30.707258], [-81.718048, 30.745597], [-81.948079, 30.827751], [-82.041187, 30.751074], [-82.002849, 30.564858], [-82.046664, 30.362211], [-82.167157, 30.356734], [-82.216449, 30.570335], [-83.498053, 30.647012], [-84.867289, 30.712735], [-85.004212, 31.003013], [-85.113751, 31.27686], [-85.042551, 31.539753], [-85.141136, 31.840985], [-85.053504, 32.01077], [-85.058981, 32.13674], [-84.889196, 32.262709], [-85.004212, 32.322956], [-84.960397, 32.421541], [-85.069935, 32.580372], [-85.184951, 32.859696], [-85.431413, 34.124869], [-85.606675, 34.984749], [-84.319594, 34.990226], [-83.618546, 34.984749], [-83.109191, 35.00118]]], &quot;type&quot;: &quot;Polygon&quot;}, &quot;id&quot;: &quot;GA&quot;, &quot;properties&quot;: {&quot;name&quot;: &quot;Georgia&quot;}, &quot;type&quot;: &quot;Feature&quot;}, {&quot;geometry&quot;: {&quot;coordinates&quot;: [[[[-155.634835, 18.948267], [-155.881297, 19.035898], [-155.919636, 19.123529], [-155.886774, 19.348084], [-156.062036, 19.73147], [-155.925113, 19.857439], [-155.826528, 20.032702], [-155.897728, 20.147717], [-155.87582, 20.26821], [-155.596496, 20.12581], [-155.284311, 20.021748], [-155.092618, 19.868393], [-155.092618, 19.736947], [-154.807817, 19.523346], [-154.983079, 19.348084], [-155.295265, 19.26593], [-155.514342, 19.134483], [-155.634835, 18.948267]]], [[[-156.587823, 21.029505], [-156.472807, 20.892581], [-156.324929, 20.952827], [-156.00179, 20.793996], [-156.051082, 20.651596], [-156.379699, 20.580396], [-156.445422, 20.60778], [-156.461853, 20.783042], [-156.631638, 20.821381], [-156.697361, 20.919966], [-156.587823, 21.029505]]], [[[-156.982162, 21.210244], [-157.080747, 21.106182], [-157.310779, 21.106182], [-157.239579, 21.221198], [-156.982162, 21.210244]]], [[[-157.951581, 21.697691], [-157.842042, 21.462183], [-157.896811, 21.325259], [-158.110412, 21.303352], [-158.252813, 21.582676], [-158.126843, 21.588153], [-157.951581, 21.697691]]], [[[-159.468693, 22.228955], [-159.353678, 22.218001], [-159.298908, 22.113939], [-159.33177, 21.966061], [-159.446786, 21.872953], [-159.764448, 21.987969], [-159.726109, 22.152277], [-159.468693, 22.228955]]]], &quot;type&quot;: &quot;MultiPolygon&quot;}, &quot;id&quot;: &quot;HI&quot;, &quot;properties&quot;: {&quot;name&quot;: &quot;Hawaii&quot;}, &quot;type&quot;: &quot;Feature&quot;}, {&quot;geometry&quot;: {&quot;coordinates&quot;: [[[-116.04751, 49.000239], [-116.04751, 47.976051], [-115.724371, 47.696727], [-115.718894, 47.42288], [-115.527201, 47.302388], [-115.324554, 47.258572], [-115.302646, 47.187372], [-114.930214, 46.919002], [-114.886399, 46.809463], [-114.623506, 46.705401], [-114.612552, 46.639678], [-114.322274, 46.645155], [-114.464674, 46.272723], [-114.492059, 46.037214], [-114.387997, 45.88386], [-114.568736, 45.774321], [-114.497536, 45.670259], [-114.546828, 45.560721], [-114.333228, 45.456659], [-114.086765, 45.593582], [-113.98818, 45.703121], [-113.807441, 45.604536], [-113.834826, 45.522382], [-113.736241, 45.330689], [-113.571933, 45.128042], [-113.45144, 45.056842], [-113.456917, 44.865149], [-113.341901, 44.782995], [-113.133778, 44.772041], [-113.002331, 44.448902], [-112.887315, 44.394132], [-112.783254, 44.48724], [-112.471068, 44.481763], [-112.241036, 44.569394], [-112.104113, 44.520102], [-111.868605, 44.563917], [-111.819312, 44.509148], [-111.616665, 44.547487], [-111.386634, 44.75561], [-111.227803, 44.580348], [-111.047063, 44.476286], [-111.047063, 42.000709], [-112.164359, 41.995232], [-114.04295, 41.995232], [-117.027882, 42.000709], [-117.027882, 43.830007], [-116.896436, 44.158624], [-116.97859, 44.240778], [-117.170283, 44.257209], [-117.241483, 44.394132], [-117.038836, 44.750133], [-116.934774, 44.782995], [-116.830713, 44.930872], [-116.847143, 45.02398], [-116.732128, 45.144473], [-116.671881, 45.319735], [-116.463758, 45.61549], [-116.545912, 45.752413], [-116.78142, 45.823614], [-116.918344, 45.993399], [-116.92382, 46.168661], [-117.055267, 46.343923], [-117.038836, 46.426077], [-117.044313, 47.762451], [-117.033359, 49.000239], [-116.04751, 49.000239]]], &quot;type&quot;: &quot;Polygon&quot;}, &quot;id&quot;: &quot;ID&quot;, &quot;properties&quot;: {&quot;name&quot;: &quot;Idaho&quot;}, &quot;type&quot;: &quot;Feature&quot;}, {&quot;geometry&quot;: {&quot;coordinates&quot;: [[[-90.639984, 42.510065], [-88.788778, 42.493634], [-87.802929, 42.493634], [-87.83579, 42.301941], [-87.682436, 42.077386], [-87.523605, 41.710431], [-87.529082, 39.34987], [-87.63862, 39.169131], [-87.512651, 38.95553], [-87.49622, 38.780268], [-87.62219, 38.637868], [-87.655051, 38.506421], [-87.83579, 38.292821], [-87.950806, 38.27639], [-87.923421, 38.15042], [-88.000098, 38.101128], [-88.060345, 37.865619], [-88.027483, 37.799896], [-88.15893, 37.657496], [-88.065822, 37.482234], [-88.476592, 37.389126], [-88.514931, 37.285064], [-88.421823, 37.153617], [-88.547792, 37.071463], [-88.914747, 37.224817], [-89.029763, 37.213863], [-89.183118, 37.038601], [-89.133825, 36.983832], [-89.292656, 36.994786], [-89.517211, 37.279587], [-89.435057, 37.34531], [-89.517211, 37.537003], [-89.517211, 37.690357], [-89.84035, 37.903958], [-89.949889, 37.88205], [-90.059428, 38.013497], [-90.355183, 38.216144], [-90.349706, 38.374975], [-90.179921, 38.632391], [-90.207305, 38.725499], [-90.10872, 38.845992], [-90.251121, 38.917192], [-90.470199, 38.961007], [-90.585214, 38.867899], [-90.661891, 38.928146], [-90.727615, 39.256762], [-91.061708, 39.470363], [-91.368417, 39.727779], [-91.494386, 40.034488], [-91.50534, 40.237135], [-91.417709, 40.379535], [-91.401278, 40.560274], [-91.121954, 40.669813], [-91.09457, 40.823167], [-90.963123, 40.921752], [-90.946692, 41.097014], [-91.111001, 41.239415], [-91.045277, 41.414677], [-90.656414, 41.463969], [-90.344229, 41.589939], [-90.311367, 41.743293], [-90.179921, 41.809016], [-90.141582, 42.000709], [-90.168967, 42.126679], [-90.393521, 42.225264], [-90.420906, 42.329326], [-90.639984, 42.510065]]], &quot;type&quot;: &quot;Polygon&quot;}, &quot;id&quot;: &quot;IL&quot;, &quot;properties&quot;: {&quot;name&quot;: &quot;Illinois&quot;}, &quot;type&quot;: &quot;Feature&quot;}, {&quot;geometry&quot;: {&quot;coordinates&quot;: [[[-85.990061, 41.759724], [-84.807042, 41.759724], [-84.807042, 41.694001], [-84.801565, 40.500028], [-84.817996, 39.103408], [-84.894673, 39.059592], [-84.812519, 38.785745], [-84.987781, 38.780268], [-85.173997, 38.68716], [-85.431413, 38.730976], [-85.42046, 38.533806], [-85.590245, 38.451652], [-85.655968, 38.325682], [-85.83123, 38.27639], [-85.924338, 38.024451], [-86.039354, 37.958727], [-86.263908, 38.051835], [-86.302247, 38.166851], [-86.521325, 38.040881], [-86.504894, 37.931343], [-86.729448, 37.893004], [-86.795172, 37.991589], [-87.047111, 37.893004], [-87.129265, 37.788942], [-87.381204, 37.93682], [-87.512651, 37.903958], [-87.600282, 37.975158], [-87.682436, 37.903958], [-87.934375, 37.893004], [-88.027483, 37.799896], [-88.060345, 37.865619], [-88.000098, 38.101128], [-87.923421, 38.15042], [-87.950806, 38.27639], [-87.83579, 38.292821], [-87.655051, 38.506421], [-87.62219, 38.637868], [-87.49622, 38.780268], [-87.512651, 38.95553], [-87.63862, 39.169131], [-87.529082, 39.34987], [-87.523605, 41.710431], [-87.42502, 41.644708], [-87.118311, 41.644708], [-86.822556, 41.759724], [-85.990061, 41.759724]]], &quot;type&quot;: &quot;Polygon&quot;}, &quot;id&quot;: &quot;IN&quot;, &quot;properties&quot;: {&quot;name&quot;: &quot;Indiana&quot;}, &quot;type&quot;: &quot;Feature&quot;}, {&quot;geometry&quot;: {&quot;coordinates&quot;: [[[-91.368417, 43.501391], [-91.215062, 43.501391], [-91.204109, 43.353514], [-91.056231, 43.254929], [-91.176724, 43.134436], [-91.143862, 42.909881], [-91.067185, 42.75105], [-90.711184, 42.636034], [-90.639984, 42.510065], [-90.420906, 42.329326], [-90.393521, 42.225264], [-90.168967, 42.126679], [-90.141582, 42.000709], [-90.179921, 41.809016], [-90.311367, 41.743293], [-90.344229, 41.589939], [-90.656414, 41.463969], [-91.045277, 41.414677], [-91.111001, 41.239415], [-90.946692, 41.097014], [-90.963123, 40.921752], [-91.09457, 40.823167], [-91.121954, 40.669813], [-91.401278, 40.560274], [-91.417709, 40.379535], [-91.527248, 40.412397], [-91.729895, 40.615043], [-91.833957, 40.609566], [-93.257961, 40.582182], [-94.632673, 40.571228], [-95.7664, 40.587659], [-95.881416, 40.719105], [-95.826646, 40.976521], [-95.925231, 41.201076], [-95.919754, 41.453015], [-96.095016, 41.540646], [-96.122401, 41.67757], [-96.062155, 41.798063], [-96.127878, 41.973325], [-96.264801, 42.039048], [-96.44554, 42.488157], [-96.631756, 42.707235], [-96.544125, 42.855112], [-96.511264, 43.052282], [-96.434587, 43.123482], [-96.560556, 43.222067], [-96.527695, 43.397329], [-96.582464, 43.479483], [-96.451017, 43.501391], [-91.368417, 43.501391]]], &quot;type&quot;: &quot;Polygon&quot;}, &quot;id&quot;: &quot;IA&quot;, &quot;properties&quot;: {&quot;name&quot;: &quot;Iowa&quot;}, &quot;type&quot;: &quot;Feature&quot;}, {&quot;geometry&quot;: {&quot;coordinates&quot;: [[[-101.90605, 40.001626], [-95.306337, 40.001626], [-95.207752, 39.908518], [-94.884612, 39.831841], [-95.109167, 39.541563], [-94.983197, 39.442978], [-94.824366, 39.20747], [-94.610765, 39.158177], [-94.616242, 37.000263], [-100.087706, 37.000263], [-102.042974, 36.994786], [-102.053927, 40.001626], [-101.90605, 40.001626]]], &quot;type&quot;: &quot;Polygon&quot;}, &quot;id&quot;: &quot;KS&quot;, &quot;properties&quot;: {&quot;name&quot;: &quot;Kansas&quot;}, &quot;type&quot;: &quot;Feature&quot;}, {&quot;geometry&quot;: {&quot;coordinates&quot;: [[[-83.903347, 38.769315], [-83.678792, 38.632391], [-83.519961, 38.703591], [-83.142052, 38.626914], [-83.032514, 38.725499], [-82.890113, 38.758361], [-82.846298, 38.588575], [-82.731282, 38.561191], [-82.594358, 38.424267], [-82.621743, 38.123036], [-82.50125, 37.931343], [-82.342419, 37.783465], [-82.293127, 37.668449], [-82.101434, 37.553434], [-81.969987, 37.537003], [-82.353373, 37.268633], [-82.720328, 37.120755], [-82.720328, 37.044078], [-82.868205, 36.978355], [-82.879159, 36.890724], [-83.070852, 36.852385], [-83.136575, 36.742847], [-83.673316, 36.600446], [-83.689746, 36.584015], [-84.544149, 36.594969], [-85.289013, 36.627831], [-85.486183, 36.616877], [-86.592525, 36.655216], [-87.852221, 36.633308], [-88.071299, 36.677123], [-88.054868, 36.496384], [-89.298133, 36.507338], [-89.418626, 36.496384], [-89.363857, 36.622354], [-89.215979, 36.578538], [-89.133825, 36.983832], [-89.183118, 37.038601], [-89.029763, 37.213863], [-88.914747, 37.224817], [-88.547792, 37.071463], [-88.421823, 37.153617], [-88.514931, 37.285064], [-88.476592, 37.389126], [-88.065822, 37.482234], [-88.15893, 37.657496], [-88.027483, 37.799896], [-87.934375, 37.893004], [-87.682436, 37.903958], [-87.600282, 37.975158], [-87.512651, 37.903958], [-87.381204, 37.93682], [-87.129265, 37.788942], [-87.047111, 37.893004], [-86.795172, 37.991589], [-86.729448, 37.893004], [-86.504894, 37.931343], [-86.521325, 38.040881], [-86.302247, 38.166851], [-86.263908, 38.051835], [-86.039354, 37.958727], [-85.924338, 38.024451], [-85.83123, 38.27639], [-85.655968, 38.325682], [-85.590245, 38.451652], [-85.42046, 38.533806], [-85.431413, 38.730976], [-85.173997, 38.68716], [-84.987781, 38.780268], [-84.812519, 38.785745], [-84.894673, 39.059592], [-84.817996, 39.103408], [-84.43461, 39.103408], [-84.231963, 38.895284], [-84.215533, 38.807653], [-83.903347, 38.769315]]], &quot;type&quot;: &quot;Polygon&quot;}, &quot;id&quot;: &quot;KY&quot;, &quot;properties&quot;: {&quot;name&quot;: &quot;Kentucky&quot;}, &quot;type&quot;: &quot;Feature&quot;}, {&quot;geometry&quot;: {&quot;coordinates&quot;: [[[-93.608485, 33.018527], [-91.16577, 33.002096], [-91.072662, 32.887081], [-91.143862, 32.843265], [-91.154816, 32.640618], [-91.006939, 32.514649], [-90.985031, 32.218894], [-91.105524, 31.988862], [-91.341032, 31.846462], [-91.401278, 31.621907], [-91.499863, 31.643815], [-91.516294, 31.27686], [-91.636787, 31.265906], [-91.565587, 31.068736], [-91.636787, 30.997536], [-89.747242, 30.997536], [-89.845827, 30.66892], [-89.681519, 30.449842], [-89.643181, 30.285534], [-89.522688, 30.181472], [-89.818443, 30.044549], [-89.84035, 29.945964], [-89.599365, 29.88024], [-89.495303, 30.039072], [-89.287179, 29.88024], [-89.30361, 29.754271], [-89.424103, 29.699501], [-89.648657, 29.748794], [-89.621273, 29.655686], [-89.69795, 29.513285], [-89.506257, 29.387316], [-89.199548, 29.348977], [-89.09001, 29.2011], [-89.002379, 29.179192], [-89.16121, 29.009407], [-89.336472, 29.042268], [-89.484349, 29.217531], [-89.851304, 29.310638], [-89.851304, 29.480424], [-90.032043, 29.425654], [-90.021089, 29.283254], [-90.103244, 29.151807], [-90.23469, 29.129899], [-90.333275, 29.277777], [-90.563307, 29.283254], [-90.645461, 29.129899], [-90.798815, 29.086084], [-90.963123, 29.179192], [-91.09457, 29.190146], [-91.220539, 29.436608], [-91.445094, 29.546147], [-91.532725, 29.529716], [-91.620356, 29.73784], [-91.883249, 29.710455], [-91.888726, 29.836425], [-92.146142, 29.715932], [-92.113281, 29.622824], [-92.31045, 29.535193], [-92.617159, 29.579009], [-92.97316, 29.715932], [-93.2251, 29.776178], [-93.767317, 29.726886], [-93.838517, 29.688547], [-93.926148, 29.787132], [-93.690639, 30.143133], [-93.767317, 30.334826], [-93.696116, 30.438888], [-93.728978, 30.575812], [-93.630393, 30.679874], [-93.526331, 30.93729], [-93.542762, 31.15089], [-93.816609, 31.556184], [-93.822086, 31.775262], [-94.041164, 31.994339], [-94.041164, 33.018527], [-93.608485, 33.018527]]], &quot;type&quot;: &quot;Polygon&quot;}, &quot;id&quot;: &quot;LA&quot;, &quot;properties&quot;: {&quot;name&quot;: &quot;Louisiana&quot;}, &quot;type&quot;: &quot;Feature&quot;}, {&quot;geometry&quot;: {&quot;coordinates&quot;: [[[-70.703921, 43.057759], [-70.824413, 43.128959], [-70.807983, 43.227544], [-70.966814, 43.34256], [-71.032537, 44.657025], [-71.08183, 45.303304], [-70.649151, 45.440228], [-70.720352, 45.511428], [-70.556043, 45.664782], [-70.386258, 45.735983], [-70.41912, 45.796229], [-70.260289, 45.889337], [-70.309581, 46.064599], [-70.210996, 46.327492], [-70.057642, 46.415123], [-69.997395, 46.694447], [-69.225147, 47.461219], [-69.044408, 47.428357], [-69.033454, 47.242141], [-68.902007, 47.176418], [-68.578868, 47.285957], [-68.376221, 47.285957], [-68.233821, 47.357157], [-67.954497, 47.198326], [-67.790188, 47.066879], [-67.779235, 45.944106], [-67.801142, 45.675736], [-67.456095, 45.604536], [-67.505388, 45.48952], [-67.417757, 45.379982], [-67.488957, 45.281397], [-67.346556, 45.128042], [-67.16034, 45.160904], [-66.979601, 44.804903], [-67.187725, 44.646072], [-67.308218, 44.706318], [-67.406803, 44.596779], [-67.549203, 44.624164], [-67.565634, 44.531056], [-67.75185, 44.54201], [-68.047605, 44.328409], [-68.118805, 44.476286], [-68.222867, 44.48724], [-68.173574, 44.328409], [-68.403606, 44.251732], [-68.458375, 44.377701], [-68.567914, 44.311978], [-68.82533, 44.311978], [-68.830807, 44.459856], [-68.984161, 44.426994], [-68.956777, 44.322932], [-69.099177, 44.103854], [-69.071793, 44.043608], [-69.258008, 43.923115], [-69.444224, 43.966931], [-69.553763, 43.840961], [-69.707118, 43.82453], [-69.833087, 43.720469], [-69.986442, 43.742376], [-70.030257, 43.851915], [-70.254812, 43.676653], [-70.194565, 43.567114], [-70.358873, 43.528776], [-70.369827, 43.435668], [-70.556043, 43.320652], [-70.703921, 43.057759]]], &quot;type&quot;: &quot;Polygon&quot;}, &quot;id&quot;: &quot;ME&quot;, &quot;properties&quot;: {&quot;name&quot;: &quot;Maine&quot;}, &quot;type&quot;: &quot;Feature&quot;}, {&quot;geometry&quot;: {&quot;coordinates&quot;: [[[[-75.994645, 37.95325], [-76.016553, 37.95325], [-76.043938, 37.95325], [-75.994645, 37.95325]]], [[[-79.477979, 39.722302], [-75.786521, 39.722302], [-75.693413, 38.462606], [-75.047134, 38.451652], [-75.244304, 38.029928], [-75.397659, 38.013497], [-75.671506, 37.95325], [-75.885106, 37.909435], [-75.879629, 38.073743], [-75.961783, 38.139466], [-75.846768, 38.210667], [-76.000122, 38.374975], [-76.049415, 38.303775], [-76.257538, 38.320205], [-76.328738, 38.500944], [-76.263015, 38.500944], [-76.257538, 38.736453], [-76.191815, 38.829561], [-76.279446, 39.147223], [-76.169907, 39.333439], [-76.000122, 39.366301], [-75.972737, 39.557994], [-76.098707, 39.536086], [-76.104184, 39.437501], [-76.367077, 39.311532], [-76.443754, 39.196516], [-76.460185, 38.906238], [-76.55877, 38.769315], [-76.514954, 38.539283], [-76.383508, 38.380452], [-76.399939, 38.259959], [-76.317785, 38.139466], [-76.3616, 38.057312], [-76.591632, 38.216144], [-76.920248, 38.292821], [-77.018833, 38.446175], [-77.205049, 38.358544], [-77.276249, 38.479037], [-77.128372, 38.632391], [-77.040741, 38.791222], [-76.909294, 38.895284], [-77.035264, 38.993869], [-77.117418, 38.933623], [-77.248864, 39.026731], [-77.456988, 39.076023], [-77.456988, 39.223901], [-77.566527, 39.306055], [-77.719881, 39.322485], [-77.834897, 39.601809], [-78.004682, 39.601809], [-78.174467, 39.694917], [-78.267575, 39.61824], [-78.431884, 39.623717], [-78.470222, 39.514178], [-78.765977, 39.585379], [-78.963147, 39.437501], [-79.094593, 39.470363], [-79.291763, 39.300578], [-79.488933, 39.20747], [-79.477979, 39.722302]]]], &quot;type&quot;: &quot;MultiPolygon&quot;}, &quot;id&quot;: &quot;MD&quot;, &quot;properties&quot;: {&quot;name&quot;: &quot;Maryland&quot;}, &quot;type&quot;: &quot;Feature&quot;}, {&quot;geometry&quot;: {&quot;coordinates&quot;: [[[-70.917521, 42.887974], [-70.818936, 42.871543], [-70.780598, 42.696281], [-70.824413, 42.55388], [-70.983245, 42.422434], [-70.988722, 42.269079], [-70.769644, 42.247172], [-70.638197, 42.08834], [-70.660105, 41.962371], [-70.550566, 41.929509], [-70.539613, 41.814493], [-70.260289, 41.715908], [-69.937149, 41.809016], [-70.008349, 41.672093], [-70.484843, 41.5516], [-70.660105, 41.546123], [-70.764167, 41.639231], [-70.928475, 41.611847], [-70.933952, 41.540646], [-71.120168, 41.496831], [-71.196845, 41.67757], [-71.22423, 41.710431], [-71.328292, 41.781632], [-71.383061, 42.01714], [-71.530939, 42.01714], [-71.799309, 42.006186], [-71.799309, 42.022617], [-73.053528, 42.039048], [-73.486206, 42.050002], [-73.508114, 42.08834], [-73.267129, 42.745573], [-72.456542, 42.729142], [-71.29543, 42.696281], [-71.185891, 42.789389], [-70.917521, 42.887974]]], &quot;type&quot;: &quot;Polygon&quot;}, &quot;id&quot;: &quot;MA&quot;, &quot;properties&quot;: {&quot;name&quot;: &quot;Massachusetts&quot;}, &quot;type&quot;: &quot;Feature&quot;}, {&quot;geometry&quot;: {&quot;coordinates&quot;: [[[[-83.454238, 41.732339], [-84.807042, 41.694001], [-84.807042, 41.759724], [-85.990061, 41.759724], [-86.822556, 41.759724], [-86.619909, 41.891171], [-86.482986, 42.115725], [-86.357016, 42.252649], [-86.263908, 42.444341], [-86.209139, 42.718189], [-86.231047, 43.013943], [-86.526801, 43.594499], [-86.433693, 43.813577], [-86.499417, 44.07647], [-86.269385, 44.34484], [-86.220093, 44.569394], [-86.252954, 44.689887], [-86.088646, 44.73918], [-86.066738, 44.903488], [-85.809322, 44.947303], [-85.612152, 45.128042], [-85.628583, 44.766564], [-85.524521, 44.750133], [-85.393075, 44.930872], [-85.387598, 45.237581], [-85.305444, 45.314258], [-85.031597, 45.363551], [-85.119228, 45.577151], [-84.938489, 45.75789], [-84.713934, 45.768844], [-84.461995, 45.653829], [-84.215533, 45.637398], [-84.09504, 45.494997], [-83.908824, 45.484043], [-83.596638, 45.352597], [-83.4871, 45.358074], [-83.317314, 45.144473], [-83.454238, 45.029457], [-83.322791, 44.88158], [-83.273499, 44.711795], [-83.333745, 44.339363], [-83.536392, 44.246255], [-83.585684, 44.054562], [-83.82667, 43.988839], [-83.958116, 43.758807], [-83.908824, 43.671176], [-83.667839, 43.589022], [-83.481623, 43.714992], [-83.262545, 43.972408], [-82.917498, 44.070993], [-82.747713, 43.994316], [-82.643651, 43.851915], [-82.539589, 43.435668], [-82.523158, 43.227544], [-82.413619, 42.975605], [-82.517681, 42.614127], [-82.681989, 42.559357], [-82.687466, 42.690804], [-82.797005, 42.652465], [-82.922975, 42.351234], [-83.125621, 42.236218], [-83.185868, 42.006186], [-83.437807, 41.814493], [-83.454238, 41.732339]]], [[[-85.508091, 45.730506], [-85.49166, 45.610013], [-85.623106, 45.588105], [-85.568337, 45.75789], [-85.508091, 45.730506]]], [[[-87.589328, 45.095181], [-87.742682, 45.199243], [-87.649574, 45.341643], [-87.885083, 45.363551], [-87.791975, 45.500474], [-87.781021, 45.675736], [-87.989145, 45.796229], [-88.10416, 45.922199], [-88.531362, 46.020784], [-88.662808, 45.987922], [-89.09001, 46.135799], [-90.119674, 46.338446], [-90.229213, 46.508231], [-90.415429, 46.568478], [-90.026566, 46.672539], [-89.851304, 46.793032], [-89.413149, 46.842325], [-89.128348, 46.990202], [-88.996902, 46.995679], [-88.887363, 47.099741], [-88.575177, 47.247618], [-88.416346, 47.373588], [-88.180837, 47.455742], [-87.956283, 47.384542], [-88.350623, 47.077833], [-88.443731, 46.973771], [-88.438254, 46.787555], [-88.246561, 46.929956], [-87.901513, 46.908048], [-87.633143, 46.809463], [-87.392158, 46.535616], [-87.260711, 46.486323], [-87.008772, 46.530139], [-86.948526, 46.469893], [-86.696587, 46.437031], [-86.159846, 46.667063], [-85.880522, 46.68897], [-85.508091, 46.678016], [-85.256151, 46.754694], [-85.064458, 46.760171], [-85.02612, 46.480847], [-84.82895, 46.442508], [-84.63178, 46.486323], [-84.549626, 46.4206], [-84.418179, 46.502754], [-84.127902, 46.530139], [-84.122425, 46.179615], [-83.990978, 46.031737], [-83.793808, 45.993399], [-83.7719, 46.091984], [-83.580208, 46.091984], [-83.476146, 45.987922], [-83.563777, 45.911245], [-84.111471, 45.976968], [-84.374364, 45.933153], [-84.659165, 46.053645], [-84.741319, 45.944106], [-84.70298, 45.850998], [-84.82895, 45.872906], [-85.015166, 46.00983], [-85.338305, 46.091984], [-85.502614, 46.097461], [-85.661445, 45.966014], [-85.924338, 45.933153], [-86.209139, 45.960537], [-86.324155, 45.905768], [-86.351539, 45.796229], [-86.663725, 45.703121], [-86.647294, 45.834568], [-86.784218, 45.861952], [-86.838987, 45.725029], [-87.069019, 45.719552], [-87.17308, 45.659305], [-87.326435, 45.423797], [-87.611236, 45.122565], [-87.589328, 45.095181]]], [[[-88.805209, 47.976051], [-89.057148, 47.850082], [-89.188594, 47.833651], [-89.177641, 47.937713], [-88.547792, 48.173221], [-88.668285, 48.008913], [-88.805209, 47.976051]]]], &quot;type&quot;: &quot;MultiPolygon&quot;}, &quot;id&quot;: &quot;MI&quot;, &quot;properties&quot;: {&quot;name&quot;: &quot;Michigan&quot;}, &quot;type&quot;: &quot;Feature&quot;}, {&quot;geometry&quot;: {&quot;coordinates&quot;: [[[-92.014696, 46.705401], [-92.091373, 46.749217], [-92.29402, 46.667063], [-92.29402, 46.075553], [-92.354266, 46.015307], [-92.639067, 45.933153], [-92.869098, 45.719552], [-92.885529, 45.577151], [-92.770513, 45.566198], [-92.644544, 45.440228], [-92.75956, 45.286874], [-92.737652, 45.117088], [-92.808852, 44.750133], [-92.545959, 44.569394], [-92.337835, 44.552964], [-92.233773, 44.443425], [-91.927065, 44.333886], [-91.877772, 44.202439], [-91.592971, 44.032654], [-91.43414, 43.994316], [-91.242447, 43.775238], [-91.269832, 43.616407], [-91.215062, 43.501391], [-91.368417, 43.501391], [-96.451017, 43.501391], [-96.451017, 45.297827], [-96.681049, 45.412843], [-96.856311, 45.604536], [-96.582464, 45.818137], [-96.560556, 45.933153], [-96.598895, 46.332969], [-96.719387, 46.437031], [-96.801542, 46.656109], [-96.785111, 46.924479], [-96.823449, 46.968294], [-96.856311, 47.609096], [-97.053481, 47.948667], [-97.130158, 48.140359], [-97.16302, 48.545653], [-97.097296, 48.682577], [-97.228743, 49.000239], [-95.152983, 49.000239], [-95.152983, 49.383625], [-94.955813, 49.372671], [-94.824366, 49.295994], [-94.69292, 48.775685], [-94.588858, 48.715438], [-94.260241, 48.699007], [-94.221903, 48.649715], [-93.838517, 48.627807], [-93.794701, 48.518268], [-93.466085, 48.545653], [-93.466085, 48.589469], [-93.208669, 48.644238], [-92.984114, 48.62233], [-92.726698, 48.540176], [-92.655498, 48.436114], [-92.50762, 48.447068], [-92.370697, 48.222514], [-92.304974, 48.315622], [-92.053034, 48.359437], [-92.009219, 48.266329], [-91.713464, 48.200606], [-91.713464, 48.112975], [-91.565587, 48.041775], [-91.264355, 48.080113], [-91.083616, 48.178698], [-90.837154, 48.238944], [-90.749522, 48.091067], [-90.579737, 48.123929], [-90.377091, 48.091067], [-90.141582, 48.112975], [-89.873212, 47.987005], [-89.615796, 48.008913], [-89.637704, 47.954144], [-89.971797, 47.828174], [-90.437337, 47.729589], [-90.738569, 47.625527], [-91.171247, 47.368111], [-91.357463, 47.20928], [-91.642264, 47.028541], [-92.091373, 46.787555], [-92.014696, 46.705401]]], &quot;type&quot;: &quot;Polygon&quot;}, &quot;id&quot;: &quot;MN&quot;, &quot;properties&quot;: {&quot;name&quot;: &quot;Minnesota&quot;}, &quot;type&quot;: &quot;Feature&quot;}, {&quot;geometry&quot;: {&quot;coordinates&quot;: [[[-88.471115, 34.995703], [-88.202745, 34.995703], [-88.098683, 34.891641], [-88.241084, 33.796253], [-88.471115, 31.895754], [-88.394438, 30.367688], [-88.503977, 30.323872], [-88.744962, 30.34578], [-88.843547, 30.411504], [-89.084533, 30.367688], [-89.418626, 30.252672], [-89.522688, 30.181472], [-89.643181, 30.285534], [-89.681519, 30.449842], [-89.845827, 30.66892], [-89.747242, 30.997536], [-91.636787, 30.997536], [-91.565587, 31.068736], [-91.636787, 31.265906], [-91.516294, 31.27686], [-91.499863, 31.643815], [-91.401278, 31.621907], [-91.341032, 31.846462], [-91.105524, 31.988862], [-90.985031, 32.218894], [-91.006939, 32.514649], [-91.154816, 32.640618], [-91.143862, 32.843265], [-91.072662, 32.887081], [-91.16577, 33.002096], [-91.089093, 33.13902], [-91.143862, 33.347144], [-91.056231, 33.429298], [-91.231493, 33.560744], [-91.072662, 33.867453], [-90.891923, 34.026284], [-90.952169, 34.135823], [-90.744046, 34.300131], [-90.749522, 34.365854], [-90.568783, 34.420624], [-90.585214, 34.617794], [-90.481152, 34.661609], [-90.409952, 34.831394], [-90.251121, 34.908072], [-90.311367, 34.995703], [-88.471115, 34.995703]]], &quot;type&quot;: &quot;Polygon&quot;}, &quot;id&quot;: &quot;MS&quot;, &quot;properties&quot;: {&quot;name&quot;: &quot;Mississippi&quot;}, &quot;type&quot;: &quot;Feature&quot;}, {&quot;geometry&quot;: {&quot;coordinates&quot;: [[[-91.833957, 40.609566], [-91.729895, 40.615043], [-91.527248, 40.412397], [-91.417709, 40.379535], [-91.50534, 40.237135], [-91.494386, 40.034488], [-91.368417, 39.727779], [-91.061708, 39.470363], [-90.727615, 39.256762], [-90.661891, 38.928146], [-90.585214, 38.867899], [-90.470199, 38.961007], [-90.251121, 38.917192], [-90.10872, 38.845992], [-90.207305, 38.725499], [-90.179921, 38.632391], [-90.349706, 38.374975], [-90.355183, 38.216144], [-90.059428, 38.013497], [-89.949889, 37.88205], [-89.84035, 37.903958], [-89.517211, 37.690357], [-89.517211, 37.537003], [-89.435057, 37.34531], [-89.517211, 37.279587], [-89.292656, 36.994786], [-89.133825, 36.983832], [-89.215979, 36.578538], [-89.363857, 36.622354], [-89.418626, 36.496384], [-89.484349, 36.496384], [-89.539119, 36.496384], [-89.533642, 36.249922], [-89.730812, 35.997983], [-90.377091, 35.997983], [-90.218259, 36.184199], [-90.064905, 36.304691], [-90.152536, 36.496384], [-94.473842, 36.501861], [-94.616242, 36.501861], [-94.616242, 37.000263], [-94.610765, 39.158177], [-94.824366, 39.20747], [-94.983197, 39.442978], [-95.109167, 39.541563], [-94.884612, 39.831841], [-95.207752, 39.908518], [-95.306337, 40.001626], [-95.552799, 40.264519], [-95.7664, 40.587659], [-94.632673, 40.571228], [-93.257961, 40.582182], [-91.833957, 40.609566]]], &quot;type&quot;: &quot;Polygon&quot;}, &quot;id&quot;: &quot;MO&quot;, &quot;properties&quot;: {&quot;name&quot;: &quot;Missouri&quot;}, &quot;type&quot;: &quot;Feature&quot;}, {&quot;geometry&quot;: {&quot;coordinates&quot;: [[[-104.047534, 49.000239], [-104.042057, 47.861036], [-104.047534, 45.944106], [-104.042057, 44.996596], [-104.058488, 44.996596], [-105.91517, 45.002073], [-109.080842, 45.002073], [-111.05254, 45.002073], [-111.047063, 44.476286], [-111.227803, 44.580348], [-111.386634, 44.75561], [-111.616665, 44.547487], [-111.819312, 44.509148], [-111.868605, 44.563917], [-112.104113, 44.520102], [-112.241036, 44.569394], [-112.471068, 44.481763], [-112.783254, 44.48724], [-112.887315, 44.394132], [-113.002331, 44.448902], [-113.133778, 44.772041], [-113.341901, 44.782995], [-113.456917, 44.865149], [-113.45144, 45.056842], [-113.571933, 45.128042], [-113.736241, 45.330689], [-113.834826, 45.522382], [-113.807441, 45.604536], [-113.98818, 45.703121], [-114.086765, 45.593582], [-114.333228, 45.456659], [-114.546828, 45.560721], [-114.497536, 45.670259], [-114.568736, 45.774321], [-114.387997, 45.88386], [-114.492059, 46.037214], [-114.464674, 46.272723], [-114.322274, 46.645155], [-114.612552, 46.639678], [-114.623506, 46.705401], [-114.886399, 46.809463], [-114.930214, 46.919002], [-115.302646, 47.187372], [-115.324554, 47.258572], [-115.527201, 47.302388], [-115.718894, 47.42288], [-115.724371, 47.696727], [-116.04751, 47.976051], [-116.04751, 49.000239], [-111.50165, 48.994762], [-109.453274, 49.000239], [-104.047534, 49.000239]]], &quot;type&quot;: &quot;Polygon&quot;}, &quot;id&quot;: &quot;MT&quot;, &quot;properties&quot;: {&quot;name&quot;: &quot;Montana&quot;}, &quot;type&quot;: &quot;Feature&quot;}, {&quot;geometry&quot;: {&quot;coordinates&quot;: [[[-103.324578, 43.002989], [-101.626726, 42.997512], [-98.499393, 42.997512], [-98.466531, 42.94822], [-97.951699, 42.767481], [-97.831206, 42.866066], [-97.688806, 42.844158], [-97.217789, 42.844158], [-96.692003, 42.657942], [-96.626279, 42.515542], [-96.44554, 42.488157], [-96.264801, 42.039048], [-96.127878, 41.973325], [-96.062155, 41.798063], [-96.122401, 41.67757], [-96.095016, 41.540646], [-95.919754, 41.453015], [-95.925231, 41.201076], [-95.826646, 40.976521], [-95.881416, 40.719105], [-95.7664, 40.587659], [-95.552799, 40.264519], [-95.306337, 40.001626], [-101.90605, 40.001626], [-102.053927, 40.001626], [-102.053927, 41.003906], [-104.053011, 41.003906], [-104.053011, 43.002989], [-103.324578, 43.002989]]], &quot;type&quot;: &quot;Polygon&quot;}, &quot;id&quot;: &quot;NE&quot;, &quot;properties&quot;: {&quot;name&quot;: &quot;Nebraska&quot;}, &quot;type&quot;: &quot;Feature&quot;}, {&quot;geometry&quot;: {&quot;coordinates&quot;: [[[-117.027882, 42.000709], [-114.04295, 41.995232], [-114.048427, 37.000263], [-114.048427, 36.195153], [-114.152489, 36.025367], [-114.251074, 36.01989], [-114.371566, 36.140383], [-114.738521, 36.102045], [-114.678275, 35.516012], [-114.596121, 35.324319], [-114.574213, 35.138103], [-114.634459, 35.00118], [-115.85034, 35.970598], [-116.540435, 36.501861], [-117.498899, 37.21934], [-118.71478, 38.101128], [-120.001861, 38.999346], [-119.996384, 40.264519], [-120.001861, 41.995232], [-118.698349, 41.989755], [-117.027882, 42.000709]]], &quot;type&quot;: &quot;Polygon&quot;}, &quot;id&quot;: &quot;NV&quot;, &quot;properties&quot;: {&quot;name&quot;: &quot;Nevada&quot;}, &quot;type&quot;: &quot;Feature&quot;}, {&quot;geometry&quot;: {&quot;coordinates&quot;: [[[-71.08183, 45.303304], [-71.032537, 44.657025], [-70.966814, 43.34256], [-70.807983, 43.227544], [-70.824413, 43.128959], [-70.703921, 43.057759], [-70.818936, 42.871543], [-70.917521, 42.887974], [-71.185891, 42.789389], [-71.29543, 42.696281], [-72.456542, 42.729142], [-72.544173, 42.80582], [-72.533219, 42.953697], [-72.445588, 43.008466], [-72.456542, 43.150867], [-72.379864, 43.572591], [-72.204602, 43.769761], [-72.116971, 43.994316], [-72.02934, 44.07647], [-72.034817, 44.322932], [-71.700724, 44.41604], [-71.536416, 44.585825], [-71.629524, 44.750133], [-71.4926, 44.914442], [-71.503554, 45.013027], [-71.361154, 45.270443], [-71.131122, 45.243058], [-71.08183, 45.303304]]], &quot;type&quot;: &quot;Polygon&quot;}, &quot;id&quot;: &quot;NH&quot;, &quot;properties&quot;: {&quot;name&quot;: &quot;New Hampshire&quot;}, &quot;type&quot;: &quot;Feature&quot;}, {&quot;geometry&quot;: {&quot;coordinates&quot;: [[[-74.236547, 41.14083], [-73.902454, 40.998429], [-74.022947, 40.708151], [-74.187255, 40.642428], [-74.274886, 40.489074], [-74.001039, 40.412397], [-73.979131, 40.297381], [-74.099624, 39.760641], [-74.411809, 39.360824], [-74.614456, 39.245808], [-74.795195, 38.993869], [-74.888303, 39.158177], [-75.178581, 39.240331], [-75.534582, 39.459409], [-75.55649, 39.607286], [-75.561967, 39.629194], [-75.507197, 39.683964], [-75.414089, 39.804456], [-75.145719, 39.88661], [-75.129289, 39.963288], [-74.82258, 40.127596], [-74.773287, 40.215227], [-75.058088, 40.417874], [-75.069042, 40.543843], [-75.195012, 40.576705], [-75.205966, 40.691721], [-75.052611, 40.866983], [-75.134765, 40.971045], [-74.882826, 41.179168], [-74.828057, 41.288707], [-74.69661, 41.359907], [-74.236547, 41.14083]]], &quot;type&quot;: &quot;Polygon&quot;}, &quot;id&quot;: &quot;NJ&quot;, &quot;properties&quot;: {&quot;name&quot;: &quot;New Jersey&quot;}, &quot;type&quot;: &quot;Feature&quot;}, {&quot;geometry&quot;: {&quot;coordinates&quot;: [[[-107.421329, 37.000263], [-106.868158, 36.994786], [-104.337812, 36.994786], [-103.001438, 37.000263], [-103.001438, 36.501861], [-103.039777, 36.501861], [-103.045254, 34.01533], [-103.067161, 33.002096], [-103.067161, 31.999816], [-106.616219, 31.999816], [-106.643603, 31.901231], [-106.528588, 31.786216], [-108.210008, 31.786216], [-108.210008, 31.331629], [-109.04798, 31.331629], [-109.042503, 37.000263], [-107.421329, 37.000263]]], &quot;type&quot;: &quot;Polygon&quot;}, &quot;id&quot;: &quot;NM&quot;, &quot;properties&quot;: {&quot;name&quot;: &quot;New Mexico&quot;}, &quot;type&quot;: &quot;Feature&quot;}, {&quot;geometry&quot;: {&quot;coordinates&quot;: [[[-73.343806, 45.013027], [-73.332852, 44.804903], [-73.387622, 44.618687], [-73.294514, 44.437948], [-73.321898, 44.246255], [-73.436914, 44.043608], [-73.349283, 43.769761], [-73.404052, 43.687607], [-73.245221, 43.523299], [-73.278083, 42.833204], [-73.267129, 42.745573], [-73.508114, 42.08834], [-73.486206, 42.050002], [-73.55193, 41.294184], [-73.48073, 41.21203], [-73.727192, 41.102491], [-73.655992, 40.987475], [-73.22879, 40.905321], [-73.141159, 40.965568], [-72.774204, 40.965568], [-72.587988, 40.998429], [-72.28128, 41.157261], [-72.259372, 41.042245], [-72.100541, 40.992952], [-72.467496, 40.845075], [-73.239744, 40.625997], [-73.562884, 40.582182], [-73.776484, 40.593136], [-73.935316, 40.543843], [-74.022947, 40.708151], [-73.902454, 40.998429], [-74.236547, 41.14083], [-74.69661, 41.359907], [-74.740426, 41.431108], [-74.89378, 41.436584], [-75.074519, 41.60637], [-75.052611, 41.754247], [-75.173104, 41.869263], [-75.249781, 41.863786], [-75.35932, 42.000709], [-79.76278, 42.000709], [-79.76278, 42.252649], [-79.76278, 42.269079], [-79.149363, 42.55388], [-79.050778, 42.690804], [-78.853608, 42.783912], [-78.930285, 42.953697], [-79.012439, 42.986559], [-79.072686, 43.260406], [-78.486653, 43.375421], [-77.966344, 43.369944], [-77.75822, 43.34256], [-77.533665, 43.233021], [-77.391265, 43.276836], [-76.958587, 43.271359], [-76.695693, 43.34256], [-76.41637, 43.523299], [-76.235631, 43.528776], [-76.230154, 43.802623], [-76.137046, 43.961454], [-76.3616, 44.070993], [-76.312308, 44.196962], [-75.912491, 44.366748], [-75.764614, 44.514625], [-75.282643, 44.848718], [-74.828057, 45.018503], [-74.148916, 44.991119], [-73.343806, 45.013027]]], &quot;type&quot;: &quot;Polygon&quot;}, &quot;id&quot;: &quot;NY&quot;, &quot;properties&quot;: {&quot;name&quot;: &quot;New York&quot;}, &quot;type&quot;: &quot;Feature&quot;}, {&quot;geometry&quot;: {&quot;coordinates&quot;: [[[-80.978661, 36.562108], [-80.294043, 36.545677], [-79.510841, 36.5402], [-75.868676, 36.551154], [-75.75366, 36.151337], [-76.032984, 36.189676], [-76.071322, 36.140383], [-76.410893, 36.080137], [-76.460185, 36.025367], [-76.68474, 36.008937], [-76.673786, 35.937736], [-76.399939, 35.987029], [-76.3616, 35.943213], [-76.060368, 35.992506], [-75.961783, 35.899398], [-75.781044, 35.937736], [-75.715321, 35.696751], [-75.775568, 35.581735], [-75.89606, 35.570781], [-76.147999, 35.324319], [-76.482093, 35.313365], [-76.536862, 35.14358], [-76.394462, 34.973795], [-76.279446, 34.940933], [-76.493047, 34.661609], [-76.673786, 34.694471], [-76.991448, 34.667086], [-77.210526, 34.60684], [-77.555573, 34.415147], [-77.82942, 34.163208], [-77.971821, 33.845545], [-78.179944, 33.916745], [-78.541422, 33.851022], [-79.675149, 34.80401], [-80.797922, 34.820441], [-80.781491, 34.935456], [-80.934845, 35.105241], [-81.038907, 35.044995], [-81.044384, 35.149057], [-82.276696, 35.198349], [-82.550543, 35.160011], [-82.764143, 35.066903], [-83.109191, 35.00118], [-83.618546, 34.984749], [-84.319594, 34.990226], [-84.29221, 35.225734], [-84.09504, 35.247642], [-84.018363, 35.41195], [-83.7719, 35.559827], [-83.498053, 35.565304], [-83.251591, 35.718659], [-82.994175, 35.773428], [-82.775097, 35.997983], [-82.638174, 36.063706], [-82.610789, 35.965121], [-82.216449, 36.156814], [-82.03571, 36.118475], [-81.909741, 36.304691], [-81.723525, 36.353984], [-81.679709, 36.589492], [-80.978661, 36.562108]]], &quot;type&quot;: &quot;Polygon&quot;}, &quot;id&quot;: &quot;NC&quot;, &quot;properties&quot;: {&quot;name&quot;: &quot;North Carolina&quot;}, &quot;type&quot;: &quot;Feature&quot;}, {&quot;geometry&quot;: {&quot;coordinates&quot;: [[[-97.228743, 49.000239], [-97.097296, 48.682577], [-97.16302, 48.545653], [-97.130158, 48.140359], [-97.053481, 47.948667], [-96.856311, 47.609096], [-96.823449, 46.968294], [-96.785111, 46.924479], [-96.801542, 46.656109], [-96.719387, 46.437031], [-96.598895, 46.332969], [-96.560556, 45.933153], [-104.047534, 45.944106], [-104.042057, 47.861036], [-104.047534, 49.000239], [-97.228743, 49.000239]]], &quot;type&quot;: &quot;Polygon&quot;}, &quot;id&quot;: &quot;ND&quot;, &quot;properties&quot;: {&quot;name&quot;: &quot;North Dakota&quot;}, &quot;type&quot;: &quot;Feature&quot;}, {&quot;geometry&quot;: {&quot;coordinates&quot;: [[[-80.518598, 41.978802], [-80.518598, 40.636951], [-80.666475, 40.582182], [-80.595275, 40.472643], [-80.600752, 40.319289], [-80.737675, 40.078303], [-80.830783, 39.711348], [-81.219646, 39.388209], [-81.345616, 39.344393], [-81.455155, 39.410117], [-81.57017, 39.267716], [-81.685186, 39.273193], [-81.811156, 39.0815], [-81.783771, 38.966484], [-81.887833, 38.873376], [-82.03571, 39.026731], [-82.221926, 38.785745], [-82.172634, 38.632391], [-82.293127, 38.577622], [-82.331465, 38.446175], [-82.594358, 38.424267], [-82.731282, 38.561191], [-82.846298, 38.588575], [-82.890113, 38.758361], [-83.032514, 38.725499], [-83.142052, 38.626914], [-83.519961, 38.703591], [-83.678792, 38.632391], [-83.903347, 38.769315], [-84.215533, 38.807653], [-84.231963, 38.895284], [-84.43461, 39.103408], [-84.817996, 39.103408], [-84.801565, 40.500028], [-84.807042, 41.694001], [-83.454238, 41.732339], [-83.065375, 41.595416], [-82.933929, 41.513262], [-82.835344, 41.589939], [-82.616266, 41.431108], [-82.479343, 41.381815], [-82.013803, 41.513262], [-81.739956, 41.485877], [-81.444201, 41.672093], [-81.011523, 41.852832], [-80.518598, 41.978802], [-80.518598, 41.978802]]], &quot;type&quot;: &quot;Polygon&quot;}, &quot;id&quot;: &quot;OH&quot;, &quot;properties&quot;: {&quot;name&quot;: &quot;Ohio&quot;}, &quot;type&quot;: &quot;Feature&quot;}, {&quot;geometry&quot;: {&quot;coordinates&quot;: [[[-100.087706, 37.000263], [-94.616242, 37.000263], [-94.616242, 36.501861], [-94.430026, 35.395519], [-94.484796, 33.637421], [-94.868182, 33.74696], [-94.966767, 33.861976], [-95.224183, 33.960561], [-95.289906, 33.87293], [-95.547322, 33.878407], [-95.602092, 33.933176], [-95.8376, 33.834591], [-95.936185, 33.889361], [-96.149786, 33.840068], [-96.346956, 33.686714], [-96.423633, 33.774345], [-96.631756, 33.845545], [-96.850834, 33.845545], [-96.922034, 33.960561], [-97.173974, 33.736006], [-97.256128, 33.861976], [-97.371143, 33.823637], [-97.458774, 33.905791], [-97.694283, 33.982469], [-97.869545, 33.851022], [-97.946222, 33.987946], [-98.088623, 34.004376], [-98.170777, 34.113915], [-98.36247, 34.157731], [-98.488439, 34.064623], [-98.570593, 34.146777], [-98.767763, 34.135823], [-98.986841, 34.223454], [-99.189488, 34.2125], [-99.260688, 34.404193], [-99.57835, 34.415147], [-99.698843, 34.382285], [-99.923398, 34.573978], [-100.000075, 34.563024], [-100.000075, 36.501861], [-101.812942, 36.501861], [-103.001438, 36.501861], [-103.001438, 37.000263], [-102.042974, 36.994786], [-100.087706, 37.000263]]], &quot;type&quot;: &quot;Polygon&quot;}, &quot;id&quot;: &quot;OK&quot;, &quot;properties&quot;: {&quot;name&quot;: &quot;Oklahoma&quot;}, &quot;type&quot;: &quot;Feature&quot;}, {&quot;geometry&quot;: {&quot;coordinates&quot;: [[[-123.211348, 46.174138], [-123.11824, 46.185092], [-122.904639, 46.08103], [-122.811531, 45.960537], [-122.762239, 45.659305], [-122.247407, 45.549767], [-121.809251, 45.708598], [-121.535404, 45.725029], [-121.217742, 45.670259], [-121.18488, 45.604536], [-120.637186, 45.746937], [-120.505739, 45.697644], [-120.209985, 45.725029], [-119.963522, 45.823614], [-119.525367, 45.911245], [-119.125551, 45.933153], [-118.988627, 45.998876], [-116.918344, 45.993399], [-116.78142, 45.823614], [-116.545912, 45.752413], [-116.463758, 45.61549], [-116.671881, 45.319735], [-116.732128, 45.144473], [-116.847143, 45.02398], [-116.830713, 44.930872], [-116.934774, 44.782995], [-117.038836, 44.750133], [-117.241483, 44.394132], [-117.170283, 44.257209], [-116.97859, 44.240778], [-116.896436, 44.158624], [-117.027882, 43.830007], [-117.027882, 42.000709], [-118.698349, 41.989755], [-120.001861, 41.995232], [-121.037003, 41.995232], [-122.378853, 42.011663], [-123.233256, 42.006186], [-124.213628, 42.000709], [-124.356029, 42.115725], [-124.432706, 42.438865], [-124.416275, 42.663419], [-124.553198, 42.838681], [-124.454613, 43.002989], [-124.383413, 43.271359], [-124.235536, 43.55616], [-124.169813, 43.8081], [-124.060274, 44.657025], [-124.076705, 44.772041], [-123.97812, 45.144473], [-123.939781, 45.659305], [-123.994551, 45.944106], [-123.945258, 46.113892], [-123.545441, 46.261769], [-123.370179, 46.146753], [-123.211348, 46.174138]]], &quot;type&quot;: &quot;Polygon&quot;}, &quot;id&quot;: &quot;OR&quot;, &quot;properties&quot;: {&quot;name&quot;: &quot;Oregon&quot;}, &quot;type&quot;: &quot;Feature&quot;}, {&quot;geometry&quot;: {&quot;coordinates&quot;: [[[-79.76278, 42.252649], [-79.76278, 42.000709], [-75.35932, 42.000709], [-75.249781, 41.863786], [-75.173104, 41.869263], [-75.052611, 41.754247], [-75.074519, 41.60637], [-74.89378, 41.436584], [-74.740426, 41.431108], [-74.69661, 41.359907], [-74.828057, 41.288707], [-74.882826, 41.179168], [-75.134765, 40.971045], [-75.052611, 40.866983], [-75.205966, 40.691721], [-75.195012, 40.576705], [-75.069042, 40.543843], [-75.058088, 40.417874], [-74.773287, 40.215227], [-74.82258, 40.127596], [-75.129289, 39.963288], [-75.145719, 39.88661], [-75.414089, 39.804456], [-75.616736, 39.831841], [-75.786521, 39.722302], [-79.477979, 39.722302], [-80.518598, 39.722302], [-80.518598, 40.636951], [-80.518598, 41.978802], [-80.518598, 41.978802], [-80.332382, 42.033571], [-79.76278, 42.269079], [-79.76278, 42.252649]]], &quot;type&quot;: &quot;Polygon&quot;}, &quot;id&quot;: &quot;PA&quot;, &quot;properties&quot;: {&quot;name&quot;: &quot;Pennsylvania&quot;}, &quot;type&quot;: &quot;Feature&quot;}, {&quot;geometry&quot;: {&quot;coordinates&quot;: [[[[-71.196845, 41.67757], [-71.120168, 41.496831], [-71.317338, 41.474923], [-71.196845, 41.67757]]], [[[-71.530939, 42.01714], [-71.383061, 42.01714], [-71.328292, 41.781632], [-71.22423, 41.710431], [-71.344723, 41.726862], [-71.448785, 41.578985], [-71.481646, 41.370861], [-71.859555, 41.321569], [-71.799309, 41.414677], [-71.799309, 42.006186], [-71.530939, 42.01714]]]], &quot;type&quot;: &quot;MultiPolygon&quot;}, &quot;id&quot;: &quot;RI&quot;, &quot;properties&quot;: {&quot;name&quot;: &quot;Rhode Island&quot;}, &quot;type&quot;: &quot;Feature&quot;}, {&quot;geometry&quot;: {&quot;coordinates&quot;: [[[-82.764143, 35.066903], [-82.550543, 35.160011], [-82.276696, 35.198349], [-81.044384, 35.149057], [-81.038907, 35.044995], [-80.934845, 35.105241], [-80.781491, 34.935456], [-80.797922, 34.820441], [-79.675149, 34.80401], [-78.541422, 33.851022], [-78.716684, 33.80173], [-78.935762, 33.637421], [-79.149363, 33.380005], [-79.187701, 33.171881], [-79.357487, 33.007573], [-79.582041, 33.007573], [-79.631334, 32.887081], [-79.866842, 32.755634], [-79.998289, 32.613234], [-80.206412, 32.552987], [-80.430967, 32.399633], [-80.452875, 32.328433], [-80.660998, 32.246279], [-80.885553, 32.032678], [-81.115584, 32.120309], [-81.121061, 32.290094], [-81.279893, 32.558464], [-81.416816, 32.629664], [-81.42777, 32.843265], [-81.493493, 33.007573], [-81.761863, 33.160928], [-81.937125, 33.347144], [-81.926172, 33.462159], [-82.194542, 33.631944], [-82.325988, 33.81816], [-82.55602, 33.94413], [-82.714851, 34.152254], [-82.747713, 34.26727], [-82.901067, 34.486347], [-83.005129, 34.469916], [-83.339222, 34.683517], [-83.322791, 34.787579], [-83.109191, 35.00118], [-82.764143, 35.066903]]], &quot;type&quot;: &quot;Polygon&quot;}, &quot;id&quot;: &quot;SC&quot;, &quot;properties&quot;: {&quot;name&quot;: &quot;South Carolina&quot;}, &quot;type&quot;: &quot;Feature&quot;}, {&quot;geometry&quot;: {&quot;coordinates&quot;: [[[-104.047534, 45.944106], [-96.560556, 45.933153], [-96.582464, 45.818137], [-96.856311, 45.604536], [-96.681049, 45.412843], [-96.451017, 45.297827], [-96.451017, 43.501391], [-96.582464, 43.479483], [-96.527695, 43.397329], [-96.560556, 43.222067], [-96.434587, 43.123482], [-96.511264, 43.052282], [-96.544125, 42.855112], [-96.631756, 42.707235], [-96.44554, 42.488157], [-96.626279, 42.515542], [-96.692003, 42.657942], [-97.217789, 42.844158], [-97.688806, 42.844158], [-97.831206, 42.866066], [-97.951699, 42.767481], [-98.466531, 42.94822], [-98.499393, 42.997512], [-101.626726, 42.997512], [-103.324578, 43.002989], [-104.053011, 43.002989], [-104.058488, 44.996596], [-104.042057, 44.996596], [-104.047534, 45.944106]]], &quot;type&quot;: &quot;Polygon&quot;}, &quot;id&quot;: &quot;SD&quot;, &quot;properties&quot;: {&quot;name&quot;: &quot;South Dakota&quot;}, &quot;type&quot;: &quot;Feature&quot;}, {&quot;geometry&quot;: {&quot;coordinates&quot;: [[[-88.054868, 36.496384], [-88.071299, 36.677123], [-87.852221, 36.633308], [-86.592525, 36.655216], [-85.486183, 36.616877], [-85.289013, 36.627831], [-84.544149, 36.594969], [-83.689746, 36.584015], [-83.673316, 36.600446], [-81.679709, 36.589492], [-81.723525, 36.353984], [-81.909741, 36.304691], [-82.03571, 36.118475], [-82.216449, 36.156814], [-82.610789, 35.965121], [-82.638174, 36.063706], [-82.775097, 35.997983], [-82.994175, 35.773428], [-83.251591, 35.718659], [-83.498053, 35.565304], [-83.7719, 35.559827], [-84.018363, 35.41195], [-84.09504, 35.247642], [-84.29221, 35.225734], [-84.319594, 34.990226], [-85.606675, 34.984749], [-87.359296, 35.00118], [-88.202745, 34.995703], [-88.471115, 34.995703], [-90.311367, 34.995703], [-90.212782, 35.023087], [-90.114197, 35.198349], [-90.130628, 35.439335], [-89.944412, 35.603643], [-89.911551, 35.756997], [-89.763673, 35.811767], [-89.730812, 35.997983], [-89.533642, 36.249922], [-89.539119, 36.496384], [-89.484349, 36.496384], [-89.418626, 36.496384], [-89.298133, 36.507338], [-88.054868, 36.496384]]], &quot;type&quot;: &quot;Polygon&quot;}, &quot;id&quot;: &quot;TN&quot;, &quot;properties&quot;: {&quot;name&quot;: &quot;Tennessee&quot;}, &quot;type&quot;: &quot;Feature&quot;}, {&quot;geometry&quot;: {&quot;coordinates&quot;: [[[-101.812942, 36.501861], [-100.000075, 36.501861], [-100.000075, 34.563024], [-99.923398, 34.573978], [-99.698843, 34.382285], [-99.57835, 34.415147], [-99.260688, 34.404193], [-99.189488, 34.2125], [-98.986841, 34.223454], [-98.767763, 34.135823], [-98.570593, 34.146777], [-98.488439, 34.064623], [-98.36247, 34.157731], [-98.170777, 34.113915], [-98.088623, 34.004376], [-97.946222, 33.987946], [-97.869545, 33.851022], [-97.694283, 33.982469], [-97.458774, 33.905791], [-97.371143, 33.823637], [-97.256128, 33.861976], [-97.173974, 33.736006], [-96.922034, 33.960561], [-96.850834, 33.845545], [-96.631756, 33.845545], [-96.423633, 33.774345], [-96.346956, 33.686714], [-96.149786, 33.840068], [-95.936185, 33.889361], [-95.8376, 33.834591], [-95.602092, 33.933176], [-95.547322, 33.878407], [-95.289906, 33.87293], [-95.224183, 33.960561], [-94.966767, 33.861976], [-94.868182, 33.74696], [-94.484796, 33.637421], [-94.380734, 33.544313], [-94.183564, 33.593606], [-94.041164, 33.54979], [-94.041164, 33.018527], [-94.041164, 31.994339], [-93.822086, 31.775262], [-93.816609, 31.556184], [-93.542762, 31.15089], [-93.526331, 30.93729], [-93.630393, 30.679874], [-93.728978, 30.575812], [-93.696116, 30.438888], [-93.767317, 30.334826], [-93.690639, 30.143133], [-93.926148, 29.787132], [-93.838517, 29.688547], [-94.002825, 29.68307], [-94.523134, 29.546147], [-94.70935, 29.622824], [-94.742212, 29.787132], [-94.873659, 29.672117], [-94.966767, 29.699501], [-95.016059, 29.557101], [-94.911997, 29.496854], [-94.895566, 29.310638], [-95.081782, 29.113469], [-95.383014, 28.867006], [-95.985477, 28.604113], [-96.045724, 28.647929], [-96.226463, 28.582205], [-96.23194, 28.642452], [-96.478402, 28.598636], [-96.593418, 28.724606], [-96.664618, 28.697221], [-96.401725, 28.439805], [-96.593418, 28.357651], [-96.774157, 28.406943], [-96.801542, 28.226204], [-97.026096, 28.039988], [-97.256128, 27.694941], [-97.404005, 27.333463], [-97.513544, 27.360848], [-97.540929, 27.229401], [-97.425913, 27.262263], [-97.480682, 26.99937], [-97.557359, 26.988416], [-97.562836, 26.840538], [-97.469728, 26.758384], [-97.442344, 26.457153], [-97.332805, 26.353091], [-97.30542, 26.161398], [-97.217789, 25.991613], [-97.524498, 25.887551], [-97.650467, 26.018997], [-97.885976, 26.06829], [-98.198161, 26.057336], [-98.466531, 26.221644], [-98.669178, 26.238075], [-98.822533, 26.369522], [-99.030656, 26.413337], [-99.173057, 26.539307], [-99.266165, 26.840538], [-99.446904, 27.021277], [-99.424996, 27.174632], [-99.50715, 27.33894], [-99.479765, 27.48134], [-99.605735, 27.640172], [-99.709797, 27.656603], [-99.879582, 27.799003], [-99.934351, 27.979742], [-100.082229, 28.14405], [-100.29583, 28.280974], [-100.399891, 28.582205], [-100.498476, 28.66436], [-100.629923, 28.905345], [-100.673738, 29.102515], [-100.799708, 29.244915], [-101.013309, 29.370885], [-101.062601, 29.458516], [-101.259771, 29.535193], [-101.413125, 29.754271], [-101.851281, 29.803563], [-102.114174, 29.792609], [-102.338728, 29.869286], [-102.388021, 29.765225], [-102.629006, 29.732363], [-102.809745, 29.524239], [-102.919284, 29.190146], [-102.97953, 29.184669], [-103.116454, 28.987499], [-103.280762, 28.982022], [-103.527224, 29.135376], [-104.146119, 29.381839], [-104.266611, 29.513285], [-104.507597, 29.639255], [-104.677382, 29.924056], [-104.688336, 30.181472], [-104.858121, 30.389596], [-104.896459, 30.570335], [-105.005998, 30.685351], [-105.394861, 30.855136], [-105.602985, 31.085167], [-105.77277, 31.167321], [-105.953509, 31.364491], [-106.205448, 31.468553], [-106.38071, 31.731446], [-106.528588, 31.786216], [-106.643603, 31.901231], [-106.616219, 31.999816], [-103.067161, 31.999816], [-103.067161, 33.002096], [-103.045254, 34.01533], [-103.039777, 36.501861], [-103.001438, 36.501861], [-101.812942, 36.501861]]], &quot;type&quot;: &quot;Polygon&quot;}, &quot;id&quot;: &quot;TX&quot;, &quot;properties&quot;: {&quot;name&quot;: &quot;Texas&quot;}, &quot;type&quot;: &quot;Feature&quot;}, {&quot;geometry&quot;: {&quot;coordinates&quot;: [[[-112.164359, 41.995232], [-111.047063, 42.000709], [-111.047063, 40.998429], [-109.04798, 40.998429], [-109.053457, 39.125316], [-109.058934, 38.27639], [-109.042503, 38.166851], [-109.042503, 37.000263], [-110.499369, 37.00574], [-114.048427, 37.000263], [-114.04295, 41.995232], [-112.164359, 41.995232]]], &quot;type&quot;: &quot;Polygon&quot;}, &quot;id&quot;: &quot;UT&quot;, &quot;properties&quot;: {&quot;name&quot;: &quot;Utah&quot;}, &quot;type&quot;: &quot;Feature&quot;}, {&quot;geometry&quot;: {&quot;coordinates&quot;: [[[-71.503554, 45.013027], [-71.4926, 44.914442], [-71.629524, 44.750133], [-71.536416, 44.585825], [-71.700724, 44.41604], [-72.034817, 44.322932], [-72.02934, 44.07647], [-72.116971, 43.994316], [-72.204602, 43.769761], [-72.379864, 43.572591], [-72.456542, 43.150867], [-72.445588, 43.008466], [-72.533219, 42.953697], [-72.544173, 42.80582], [-72.456542, 42.729142], [-73.267129, 42.745573], [-73.278083, 42.833204], [-73.245221, 43.523299], [-73.404052, 43.687607], [-73.349283, 43.769761], [-73.436914, 44.043608], [-73.321898, 44.246255], [-73.294514, 44.437948], [-73.387622, 44.618687], [-73.332852, 44.804903], [-73.343806, 45.013027], [-72.308664, 45.002073], [-71.503554, 45.013027]]], &quot;type&quot;: &quot;Polygon&quot;}, &quot;id&quot;: &quot;VT&quot;, &quot;properties&quot;: {&quot;name&quot;: &quot;Vermont&quot;}, &quot;type&quot;: &quot;Feature&quot;}, {&quot;geometry&quot;: {&quot;coordinates&quot;: [[[[-75.397659, 38.013497], [-75.244304, 38.029928], [-75.375751, 37.860142], [-75.512674, 37.799896], [-75.594828, 37.569865], [-75.802952, 37.197433], [-75.972737, 37.120755], [-76.027507, 37.257679], [-75.939876, 37.564388], [-75.671506, 37.95325], [-75.397659, 38.013497]]], [[[-76.016553, 37.95325], [-75.994645, 37.95325], [-76.043938, 37.95325], [-76.016553, 37.95325]]], [[[-78.349729, 39.464886], [-77.82942, 39.130793], [-77.719881, 39.322485], [-77.566527, 39.306055], [-77.456988, 39.223901], [-77.456988, 39.076023], [-77.248864, 39.026731], [-77.117418, 38.933623], [-77.040741, 38.791222], [-77.128372, 38.632391], [-77.248864, 38.588575], [-77.325542, 38.446175], [-77.281726, 38.342113], [-77.013356, 38.374975], [-76.964064, 38.216144], [-76.613539, 38.15042], [-76.514954, 38.024451], [-76.235631, 37.887527], [-76.3616, 37.608203], [-76.246584, 37.389126], [-76.383508, 37.285064], [-76.399939, 37.159094], [-76.273969, 37.082417], [-76.410893, 36.961924], [-76.619016, 37.120755], [-76.668309, 37.065986], [-76.48757, 36.95097], [-75.994645, 36.923586], [-75.868676, 36.551154], [-79.510841, 36.5402], [-80.294043, 36.545677], [-80.978661, 36.562108], [-81.679709, 36.589492], [-83.673316, 36.600446], [-83.136575, 36.742847], [-83.070852, 36.852385], [-82.879159, 36.890724], [-82.868205, 36.978355], [-82.720328, 37.044078], [-82.720328, 37.120755], [-82.353373, 37.268633], [-81.969987, 37.537003], [-81.986418, 37.454849], [-81.849494, 37.285064], [-81.679709, 37.20291], [-81.55374, 37.208387], [-81.362047, 37.339833], [-81.225123, 37.235771], [-80.967707, 37.290541], [-80.513121, 37.482234], [-80.474782, 37.421987], [-80.29952, 37.509618], [-80.294043, 37.690357], [-80.184505, 37.849189], [-79.998289, 37.997066], [-79.921611, 38.177805], [-79.724442, 38.364021], [-79.647764, 38.594052], [-79.477979, 38.457129], [-79.313671, 38.413313], [-79.209609, 38.495467], [-78.996008, 38.851469], [-78.870039, 38.763838], [-78.404499, 39.169131], [-78.349729, 39.464886]]]], &quot;type&quot;: &quot;MultiPolygon&quot;}, &quot;id&quot;: &quot;VA&quot;, &quot;properties&quot;: {&quot;name&quot;: &quot;Virginia&quot;}, &quot;type&quot;: &quot;Feature&quot;}, {&quot;geometry&quot;: {&quot;coordinates&quot;: [[[[-117.033359, 49.000239], [-117.044313, 47.762451], [-117.038836, 46.426077], [-117.055267, 46.343923], [-116.92382, 46.168661], [-116.918344, 45.993399], [-118.988627, 45.998876], [-119.125551, 45.933153], [-119.525367, 45.911245], [-119.963522, 45.823614], [-120.209985, 45.725029], [-120.505739, 45.697644], [-120.637186, 45.746937], [-121.18488, 45.604536], [-121.217742, 45.670259], [-121.535404, 45.725029], [-121.809251, 45.708598], [-122.247407, 45.549767], [-122.762239, 45.659305], [-122.811531, 45.960537], [-122.904639, 46.08103], [-123.11824, 46.185092], [-123.211348, 46.174138], [-123.370179, 46.146753], [-123.545441, 46.261769], [-123.72618, 46.300108], [-123.874058, 46.239861], [-124.065751, 46.327492], [-124.027412, 46.464416], [-123.895966, 46.535616], [-124.098612, 46.74374], [-124.235536, 47.285957], [-124.31769, 47.357157], [-124.427229, 47.740543], [-124.624399, 47.88842], [-124.706553, 48.184175], [-124.597014, 48.381345], [-124.394367, 48.288237], [-123.983597, 48.162267], [-123.704273, 48.167744], [-123.424949, 48.118452], [-123.162056, 48.167744], [-123.036086, 48.080113], [-122.800578, 48.08559], [-122.636269, 47.866512], [-122.515777, 47.882943], [-122.493869, 47.587189], [-122.422669, 47.318818], [-122.324084, 47.346203], [-122.422669, 47.576235], [-122.395284, 47.800789], [-122.230976, 48.030821], [-122.362422, 48.123929], [-122.373376, 48.288237], [-122.471961, 48.468976], [-122.422669, 48.600422], [-122.488392, 48.753777], [-122.647223, 48.775685], [-122.795101, 48.8907], [-122.756762, 49.000239], [-117.033359, 49.000239]]], [[[-122.718423, 48.310145], [-122.586977, 48.35396], [-122.608885, 48.151313], [-122.767716, 48.227991], [-122.718423, 48.310145]]], [[[-123.025132, 48.583992], [-122.915593, 48.715438], [-122.767716, 48.556607], [-122.811531, 48.419683], [-123.041563, 48.458022], [-123.025132, 48.583992]]]], &quot;type&quot;: &quot;MultiPolygon&quot;}, &quot;id&quot;: &quot;WA&quot;, &quot;properties&quot;: {&quot;name&quot;: &quot;Washington&quot;}, &quot;type&quot;: &quot;Feature&quot;}, {&quot;geometry&quot;: {&quot;coordinates&quot;: [[[-80.518598, 40.636951], [-80.518598, 39.722302], [-79.477979, 39.722302], [-79.488933, 39.20747], [-79.291763, 39.300578], [-79.094593, 39.470363], [-78.963147, 39.437501], [-78.765977, 39.585379], [-78.470222, 39.514178], [-78.431884, 39.623717], [-78.267575, 39.61824], [-78.174467, 39.694917], [-78.004682, 39.601809], [-77.834897, 39.601809], [-77.719881, 39.322485], [-77.82942, 39.130793], [-78.349729, 39.464886], [-78.404499, 39.169131], [-78.870039, 38.763838], [-78.996008, 38.851469], [-79.209609, 38.495467], [-79.313671, 38.413313], [-79.477979, 38.457129], [-79.647764, 38.594052], [-79.724442, 38.364021], [-79.921611, 38.177805], [-79.998289, 37.997066], [-80.184505, 37.849189], [-80.294043, 37.690357], [-80.29952, 37.509618], [-80.474782, 37.421987], [-80.513121, 37.482234], [-80.967707, 37.290541], [-81.225123, 37.235771], [-81.362047, 37.339833], [-81.55374, 37.208387], [-81.679709, 37.20291], [-81.849494, 37.285064], [-81.986418, 37.454849], [-81.969987, 37.537003], [-82.101434, 37.553434], [-82.293127, 37.668449], [-82.342419, 37.783465], [-82.50125, 37.931343], [-82.621743, 38.123036], [-82.594358, 38.424267], [-82.331465, 38.446175], [-82.293127, 38.577622], [-82.172634, 38.632391], [-82.221926, 38.785745], [-82.03571, 39.026731], [-81.887833, 38.873376], [-81.783771, 38.966484], [-81.811156, 39.0815], [-81.685186, 39.273193], [-81.57017, 39.267716], [-81.455155, 39.410117], [-81.345616, 39.344393], [-81.219646, 39.388209], [-80.830783, 39.711348], [-80.737675, 40.078303], [-80.600752, 40.319289], [-80.595275, 40.472643], [-80.666475, 40.582182], [-80.518598, 40.636951]]], &quot;type&quot;: &quot;Polygon&quot;}, &quot;id&quot;: &quot;WV&quot;, &quot;properties&quot;: {&quot;name&quot;: &quot;West Virginia&quot;}, &quot;type&quot;: &quot;Feature&quot;}, {&quot;geometry&quot;: {&quot;coordinates&quot;: [[[-90.415429, 46.568478], [-90.229213, 46.508231], [-90.119674, 46.338446], [-89.09001, 46.135799], [-88.662808, 45.987922], [-88.531362, 46.020784], [-88.10416, 45.922199], [-87.989145, 45.796229], [-87.781021, 45.675736], [-87.791975, 45.500474], [-87.885083, 45.363551], [-87.649574, 45.341643], [-87.742682, 45.199243], [-87.589328, 45.095181], [-87.627666, 44.974688], [-87.819359, 44.95278], [-87.983668, 44.722749], [-88.043914, 44.563917], [-87.928898, 44.536533], [-87.775544, 44.640595], [-87.611236, 44.837764], [-87.403112, 44.914442], [-87.238804, 45.166381], [-87.03068, 45.22115], [-87.047111, 45.089704], [-87.189511, 44.969211], [-87.468835, 44.552964], [-87.545512, 44.322932], [-87.540035, 44.158624], [-87.644097, 44.103854], [-87.737205, 43.8793], [-87.704344, 43.687607], [-87.791975, 43.561637], [-87.912467, 43.249452], [-87.885083, 43.002989], [-87.76459, 42.783912], [-87.802929, 42.493634], [-88.788778, 42.493634], [-90.639984, 42.510065], [-90.711184, 42.636034], [-91.067185, 42.75105], [-91.143862, 42.909881], [-91.176724, 43.134436], [-91.056231, 43.254929], [-91.204109, 43.353514], [-91.215062, 43.501391], [-91.269832, 43.616407], [-91.242447, 43.775238], [-91.43414, 43.994316], [-91.592971, 44.032654], [-91.877772, 44.202439], [-91.927065, 44.333886], [-92.233773, 44.443425], [-92.337835, 44.552964], [-92.545959, 44.569394], [-92.808852, 44.750133], [-92.737652, 45.117088], [-92.75956, 45.286874], [-92.644544, 45.440228], [-92.770513, 45.566198], [-92.885529, 45.577151], [-92.869098, 45.719552], [-92.639067, 45.933153], [-92.354266, 46.015307], [-92.29402, 46.075553], [-92.29402, 46.667063], [-92.091373, 46.749217], [-92.014696, 46.705401], [-91.790141, 46.694447], [-91.09457, 46.864232], [-90.837154, 46.95734], [-90.749522, 46.88614], [-90.886446, 46.754694], [-90.55783, 46.584908], [-90.415429, 46.568478]]], &quot;type&quot;: &quot;Polygon&quot;}, &quot;id&quot;: &quot;WI&quot;, &quot;properties&quot;: {&quot;name&quot;: &quot;Wisconsin&quot;}, &quot;type&quot;: &quot;Feature&quot;}, {&quot;geometry&quot;: {&quot;coordinates&quot;: [[[-109.080842, 45.002073], [-105.91517, 45.002073], [-104.058488, 44.996596], [-104.053011, 43.002989], [-104.053011, 41.003906], [-105.728954, 40.998429], [-107.919731, 41.003906], [-109.04798, 40.998429], [-111.047063, 40.998429], [-111.047063, 42.000709], [-111.047063, 44.476286], [-111.05254, 45.002073], [-109.080842, 45.002073]]], &quot;type&quot;: &quot;Polygon&quot;}, &quot;id&quot;: &quot;WY&quot;, &quot;properties&quot;: {&quot;name&quot;: &quot;Wyoming&quot;}, &quot;type&quot;: &quot;Feature&quot;}], &quot;type&quot;: &quot;FeatureCollection&quot;});\n",
       "\n",
       "        \n",
       "    \n",
       "    var color_map_a606beb91f97cb679be5041549affe97 = {};\n",
       "\n",
       "    \n",
       "    color_map_a606beb91f97cb679be5041549affe97.color = d3.scale.threshold()\n",
       "              .domain([3.2, 3.214228456913828, 3.2284569138276553, 3.242685370741483, 3.256913827655311, 3.2711422845691382, 3.285370741482966, 3.299599198396794, 3.3138276553106216, 3.328056112224449, 3.3422845691382768, 3.3565130260521046, 3.370741482965932, 3.3849699398797597, 3.3991983967935875, 3.413426853707415, 3.4276553106212426, 3.4418837675350704, 3.4561122244488978, 3.4703406813627256, 3.4845691382765533, 3.498797595190381, 3.5130260521042085, 3.5272545090180363, 3.541482965931864, 3.5557114228456914, 3.569939879759519, 3.584168336673347, 3.598396793587175, 3.612625250501002, 3.62685370741483, 3.6410821643286577, 3.655310621242485, 3.669539078156313, 3.6837675350701407, 3.697995991983968, 3.712224448897796, 3.7264529058116236, 3.740681362725451, 3.7549098196392787, 3.7691382765531065, 3.7833667334669343, 3.7975951903807617, 3.8118236472945894, 3.8260521042084172, 3.8402805611222446, 3.8545090180360724, 3.8687374749499, 3.8829659318637275, 3.8971943887775553, 3.911422845691383, 3.9256513026052104, 3.9398797595190382, 3.954108216432866, 3.968336673346694, 3.982565130260521, 3.996793587174349, 4.011022044088176, 4.025250501002004, 4.039478957915832, 4.05370741482966, 4.0679358717434875, 4.082164328657315, 4.096392785571142, 4.11062124248497, 4.124849699398798, 4.1390781563126255, 4.153306613226453, 4.167535070140281, 4.181763527054109, 4.195991983967936, 4.210220440881764, 4.224448897795591, 4.238677354709419, 4.252905811623247, 4.267134268537074, 4.281362725450903, 4.2955911823647295, 4.309819639278557, 4.324048096192385, 4.338276553106213, 4.352505010020041, 4.3667334669338675, 4.380961923847696, 4.395190380761523, 4.409418837675351, 4.423647294589179, 4.4378757515030065, 4.452104208416834, 4.466332665330661, 4.480561122244489, 4.494789579158317, 4.509018036072145, 4.523246492985972, 4.5374749498998, 4.551703406813628, 4.565931863727455, 4.580160320641283, 4.59438877755511, 4.608617234468938, 4.622845691382766, 4.637074148296593, 4.651302605210422, 4.6655310621242485, 4.679759519038076, 4.693987975951904, 4.708216432865732, 4.72244488977956, 4.736673346693387, 4.750901803607215, 4.765130260521042, 4.77935871743487, 4.793587174348698, 4.8078156312625255, 4.822044088176353, 4.83627254509018, 4.850501002004008, 4.864729458917836, 4.878957915831664, 4.893186372745491, 4.907414829659319, 4.921643286573147, 4.935871743486974, 4.950100200400802, 4.9643286573146295, 4.978557114228457, 4.992785571142285, 5.007014028056112, 5.021242484969941, 5.0354709418837675, 5.049699398797595, 5.063927855711423, 5.078156312625251, 5.092384769539079, 5.1066132264529065, 5.120841683366734, 5.135070140280561, 5.149298597194389, 5.163527054108217, 5.177755511022045, 5.191983967935872, 5.206212424849699, 5.220440881763528, 5.234669338677355, 5.248897795591183, 5.26312625250501, 5.277354709418838, 5.291583166332666, 5.305811623246493, 5.320040080160322, 5.3342685370741485, 5.348496993987976, 5.362725450901804, 5.376953907815632, 5.39118236472946, 5.405410821643287, 5.419639278557115, 5.433867735470942, 5.44809619238477, 5.462324649298598, 5.476553106212425, 5.490781563126253, 5.50501002004008, 5.519238476953909, 5.533466933867736, 5.547695390781563, 5.561923847695391, 5.576152304609218, 5.590380761523047, 5.604609218436874, 5.618837675350702, 5.6330661322645295, 5.647294589178356, 5.661523046092185, 5.675751503006012, 5.68997995991984, 5.7042084168336675, 5.718436873747495, 5.732665330661323, 5.74689378757515, 5.761122244488979, 5.775350701402806, 5.789579158316633, 5.803807615230461, 5.818036072144289, 5.832264529058117, 5.846492985971945, 5.860721442885772, 5.874949899799599, 5.889178356713427, 5.903406813627255, 5.917635270541083, 5.93186372745491, 5.946092184368738, 5.960320641282566, 5.974549098196393, 5.988777555110221, 6.0030060120240485, 6.017234468937876, 6.031462925851704, 6.045691382765531, 6.05991983967936, 6.074148296593187, 6.088376753507014, 6.102605210420842, 6.116833667334669, 6.131062124248498, 6.145290581162325, 6.159519038076153, 6.17374749498998, 6.187975951903808, 6.202204408817636, 6.216432865731463, 6.230661322645291, 6.244889779559118, 6.259118236472947, 6.273346693386774, 6.287575150300602, 6.3018036072144294, 6.316032064128256, 6.330260521042085, 6.344488977955912, 6.35871743486974, 6.3729458917835675, 6.387174348697395, 6.401402805611223, 6.41563126252505, 6.429859719438879, 6.444088176352706, 6.458316633266533, 6.472545090180361, 6.486773547094189, 6.501002004008017, 6.515230460921844, 6.529458917835672, 6.543687374749499, 6.557915831663327, 6.572144288577155, 6.586372745490983, 6.60060120240481, 6.614829659318637, 6.629058116232466, 6.643286573146293, 6.657515030060121, 6.6717434869739485, 6.685971943887776, 6.700200400801604, 6.714428857715431, 6.72865731462926, 6.7428857715430865, 6.757114228456914, 6.771342685370742, 6.785571142284569, 6.799799599198398, 6.814028056112225, 6.828256513026053, 6.84248496993988, 6.856713426853707, 6.870941883767536, 6.885170340681363, 6.899398797595191, 6.913627254509018, 6.927855711422846, 6.942084168336674, 6.956312625250501, 6.970541082164329, 6.984769539078156, 6.998997995991984, 7.013226452905812, 7.02745490981964, 7.0416833667334675, 7.055911823647294, 7.070140280561123, 7.08436873747495, 7.098597194388778, 7.112825651302606, 7.127054108216433, 7.141282565130261, 7.155511022044088, 7.169739478957917, 7.183967935871744, 7.198196392785571, 7.212424849699399, 7.226653306613227, 7.240881763527055, 7.255110220440883, 7.2693386773547095, 7.283567134268537, 7.297795591182365, 7.312024048096193, 7.32625250501002, 7.3404809619238485, 7.354709418837676, 7.368937875751503, 7.383166332665331, 7.397394789579159, 7.4116232464929865, 7.425851703406814, 7.440080160320642, 7.454308617234469, 7.468537074148297, 7.4827655310621255, 7.496993987975952, 7.51122244488978, 7.525450901803608, 7.539679358717435, 7.553907815631264, 7.5681362725450905, 7.582364729458918, 7.596593186372746, 7.610821643286573, 7.625050100200402, 7.639278557114229, 7.653507014028056, 7.667735470941884, 7.681963927855712, 7.69619238476954, 7.7104208416833675, 7.724649298597195, 7.738877755511022, 7.75310621242485, 7.767334669338679, 7.781563126252506, 7.795791583166333, 7.81002004008016, 7.824248496993988, 7.838476953907817, 7.852705410821644, 7.866933867735471, 7.881162324649299, 7.895390781563126, 7.909619238476955, 7.923847695390783, 7.9380761523046095, 7.952304609218437, 7.966533066132265, 7.980761523046093, 7.994989979959921, 8.009218436873748, 8.023446893787575, 8.037675350701402, 8.051903807615231, 8.06613226452906, 8.080360721442887, 8.094589178356713, 8.10881763527054, 8.12304609218437, 8.137274549098198, 8.151503006012025, 8.165731462925852, 8.179959919839678, 8.194188376753509, 8.208416833667336, 8.222645290581163, 8.23687374749499, 8.251102204408818, 8.265330661322647, 8.279559118236474, 8.2937875751503, 8.308016032064128, 8.322244488977956, 8.336472945891785, 8.350701402805612, 8.364929859719439, 8.379158316633266, 8.393386773547094, 8.407615230460923, 8.42184368737475, 8.436072144288577, 8.450300601202406, 8.464529058116232, 8.478757515030061, 8.492985971943888, 8.507214428857715, 8.521442885771544, 8.53567134268537, 8.5498997995992, 8.564128256513026, 8.578356713426853, 8.592585170340682, 8.60681362725451, 8.621042084168337, 8.635270541082164, 8.649498997995993, 8.66372745490982, 8.677955911823648, 8.692184368737475, 8.706412825651302, 8.720641282565131, 8.734869739478958, 8.749098196392787, 8.763326653306613, 8.77755511022044, 8.791783567134269, 8.806012024048098, 8.820240480961925, 8.834468937875751, 8.84869739478958, 8.862925851703407, 8.877154308617236, 8.891382765531063, 8.90561122244489, 8.919839679358718, 8.934068136272547, 8.948296593186374, 8.9625250501002, 8.976753507014028, 8.990981963927856, 9.005210420841685, 9.019438877755512, 9.033667334669339, 9.047895791583167, 9.062124248496994, 9.076352705410823, 9.09058116232465, 9.104809619238477, 9.119038076152306, 9.133266533066134, 9.147494989979961, 9.161723446893788, 9.175951903807615, 9.190180360721444, 9.204408817635272, 9.2186372745491, 9.232865731462926, 9.247094188376753, 9.261322645290582, 9.27555110220441, 9.289779559118237, 9.304008016032064, 9.318236472945893, 9.332464929859722, 9.346693386773548, 9.360921843687375, 9.375150300601202, 9.389378757515031, 9.40360721442886, 9.417835671342687, 9.432064128256513, 9.44629258517034, 9.460521042084169, 9.474749498997998, 9.488977955911825, 9.503206412825651, 9.517434869739478, 9.531663326653309, 9.545891783567136, 9.560120240480963, 9.57434869739479, 9.588577154308616, 9.602805611222447, 9.617034068136274, 9.6312625250501, 9.645490981963928, 9.659719438877756, 9.673947895791585, 9.688176352705412, 9.702404809619239, 9.716633266533066, 9.730861723446894, 9.745090180360723, 9.75931863727455, 9.773547094188377, 9.787775551102204, 9.802004008016032, 9.816232464929861, 9.830460921843688, 9.844689378757515, 9.858917835671344, 9.87314629258517, 9.887374749499, 9.901603206412826, 9.915831663326653, 9.930060120240482, 9.944288577154309, 9.958517034068137, 9.972745490981964, 9.986973947895791, 10.00120240480962, 10.015430861723448, 10.029659318637275, 10.043887775551102, 10.058116232464931, 10.072344689378758, 10.086573146292587, 10.100801603206413, 10.11503006012024, 10.129258517034069, 10.143486973947896, 10.157715430861725, 10.171943887775551, 10.186172344689378, 10.200400801603207, 10.214629258517036, 10.228857715430863, 10.24308617234469, 10.257314629258518, 10.271543086172345, 10.285771543086174, 10.3])\n",
       "              .range([&#x27;#ffffccff&#x27;, &#x27;#ffffccff&#x27;, &#x27;#ffffccff&#x27;, &#x27;#ffffccff&#x27;, &#x27;#ffffccff&#x27;, &#x27;#ffffccff&#x27;, &#x27;#ffffccff&#x27;, &#x27;#ffffccff&#x27;, &#x27;#ffffccff&#x27;, &#x27;#ffffccff&#x27;, &#x27;#ffffccff&#x27;, &#x27;#ffffccff&#x27;, &#x27;#ffffccff&#x27;, &#x27;#ffffccff&#x27;, &#x27;#ffffccff&#x27;, &#x27;#ffffccff&#x27;, &#x27;#ffffccff&#x27;, &#x27;#ffffccff&#x27;, &#x27;#ffffccff&#x27;, &#x27;#ffffccff&#x27;, &#x27;#ffffccff&#x27;, &#x27;#ffffccff&#x27;, &#x27;#ffffccff&#x27;, &#x27;#ffffccff&#x27;, &#x27;#ffffccff&#x27;, &#x27;#ffffccff&#x27;, &#x27;#ffffccff&#x27;, &#x27;#ffffccff&#x27;, &#x27;#ffffccff&#x27;, &#x27;#ffffccff&#x27;, &#x27;#ffffccff&#x27;, &#x27;#ffffccff&#x27;, &#x27;#ffffccff&#x27;, &#x27;#ffffccff&#x27;, &#x27;#ffffccff&#x27;, &#x27;#ffffccff&#x27;, &#x27;#ffffccff&#x27;, &#x27;#ffffccff&#x27;, &#x27;#ffffccff&#x27;, &#x27;#ffffccff&#x27;, &#x27;#ffffccff&#x27;, &#x27;#ffffccff&#x27;, &#x27;#ffffccff&#x27;, &#x27;#ffffccff&#x27;, &#x27;#ffffccff&#x27;, &#x27;#ffffccff&#x27;, &#x27;#ffffccff&#x27;, &#x27;#ffffccff&#x27;, &#x27;#ffffccff&#x27;, &#x27;#ffffccff&#x27;, &#x27;#ffffccff&#x27;, &#x27;#ffffccff&#x27;, &#x27;#ffffccff&#x27;, &#x27;#ffffccff&#x27;, &#x27;#ffffccff&#x27;, &#x27;#ffffccff&#x27;, &#x27;#ffffccff&#x27;, &#x27;#ffffccff&#x27;, &#x27;#ffffccff&#x27;, &#x27;#ffffccff&#x27;, &#x27;#ffffccff&#x27;, &#x27;#ffffccff&#x27;, &#x27;#ffffccff&#x27;, &#x27;#ffffccff&#x27;, &#x27;#ffffccff&#x27;, &#x27;#ffffccff&#x27;, &#x27;#ffffccff&#x27;, &#x27;#ffffccff&#x27;, &#x27;#ffffccff&#x27;, &#x27;#ffffccff&#x27;, &#x27;#ffffccff&#x27;, &#x27;#ffffccff&#x27;, &#x27;#ffffccff&#x27;, &#x27;#ffffccff&#x27;, &#x27;#ffffccff&#x27;, &#x27;#ffffccff&#x27;, &#x27;#ffffccff&#x27;, &#x27;#ffffccff&#x27;, &#x27;#ffffccff&#x27;, &#x27;#ffffccff&#x27;, &#x27;#ffffccff&#x27;, &#x27;#ffffccff&#x27;, &#x27;#ffffccff&#x27;, &#x27;#ffffccff&#x27;, &#x27;#d9f0a3ff&#x27;, &#x27;#d9f0a3ff&#x27;, &#x27;#d9f0a3ff&#x27;, &#x27;#d9f0a3ff&#x27;, &#x27;#d9f0a3ff&#x27;, &#x27;#d9f0a3ff&#x27;, &#x27;#d9f0a3ff&#x27;, &#x27;#d9f0a3ff&#x27;, &#x27;#d9f0a3ff&#x27;, &#x27;#d9f0a3ff&#x27;, &#x27;#d9f0a3ff&#x27;, &#x27;#d9f0a3ff&#x27;, &#x27;#d9f0a3ff&#x27;, &#x27;#d9f0a3ff&#x27;, &#x27;#d9f0a3ff&#x27;, &#x27;#d9f0a3ff&#x27;, &#x27;#d9f0a3ff&#x27;, &#x27;#d9f0a3ff&#x27;, &#x27;#d9f0a3ff&#x27;, &#x27;#d9f0a3ff&#x27;, &#x27;#d9f0a3ff&#x27;, &#x27;#d9f0a3ff&#x27;, &#x27;#d9f0a3ff&#x27;, &#x27;#d9f0a3ff&#x27;, &#x27;#d9f0a3ff&#x27;, &#x27;#d9f0a3ff&#x27;, &#x27;#d9f0a3ff&#x27;, &#x27;#d9f0a3ff&#x27;, &#x27;#d9f0a3ff&#x27;, &#x27;#d9f0a3ff&#x27;, &#x27;#d9f0a3ff&#x27;, &#x27;#d9f0a3ff&#x27;, &#x27;#d9f0a3ff&#x27;, &#x27;#d9f0a3ff&#x27;, &#x27;#d9f0a3ff&#x27;, &#x27;#d9f0a3ff&#x27;, &#x27;#d9f0a3ff&#x27;, &#x27;#d9f0a3ff&#x27;, &#x27;#d9f0a3ff&#x27;, &#x27;#d9f0a3ff&#x27;, &#x27;#d9f0a3ff&#x27;, &#x27;#d9f0a3ff&#x27;, &#x27;#d9f0a3ff&#x27;, &#x27;#d9f0a3ff&#x27;, &#x27;#d9f0a3ff&#x27;, &#x27;#d9f0a3ff&#x27;, &#x27;#d9f0a3ff&#x27;, &#x27;#d9f0a3ff&#x27;, &#x27;#d9f0a3ff&#x27;, &#x27;#d9f0a3ff&#x27;, &#x27;#d9f0a3ff&#x27;, &#x27;#d9f0a3ff&#x27;, &#x27;#d9f0a3ff&#x27;, &#x27;#d9f0a3ff&#x27;, &#x27;#d9f0a3ff&#x27;, &#x27;#d9f0a3ff&#x27;, &#x27;#d9f0a3ff&#x27;, &#x27;#d9f0a3ff&#x27;, &#x27;#d9f0a3ff&#x27;, &#x27;#d9f0a3ff&#x27;, &#x27;#d9f0a3ff&#x27;, &#x27;#d9f0a3ff&#x27;, &#x27;#d9f0a3ff&#x27;, &#x27;#d9f0a3ff&#x27;, &#x27;#d9f0a3ff&#x27;, &#x27;#d9f0a3ff&#x27;, &#x27;#d9f0a3ff&#x27;, &#x27;#d9f0a3ff&#x27;, &#x27;#d9f0a3ff&#x27;, &#x27;#d9f0a3ff&#x27;, &#x27;#d9f0a3ff&#x27;, &#x27;#d9f0a3ff&#x27;, &#x27;#d9f0a3ff&#x27;, &#x27;#d9f0a3ff&#x27;, &#x27;#d9f0a3ff&#x27;, &#x27;#d9f0a3ff&#x27;, &#x27;#d9f0a3ff&#x27;, &#x27;#d9f0a3ff&#x27;, &#x27;#d9f0a3ff&#x27;, &#x27;#d9f0a3ff&#x27;, &#x27;#d9f0a3ff&#x27;, &#x27;#d9f0a3ff&#x27;, &#x27;#d9f0a3ff&#x27;, &#x27;#addd8eff&#x27;, &#x27;#addd8eff&#x27;, &#x27;#addd8eff&#x27;, &#x27;#addd8eff&#x27;, &#x27;#addd8eff&#x27;, &#x27;#addd8eff&#x27;, &#x27;#addd8eff&#x27;, &#x27;#addd8eff&#x27;, &#x27;#addd8eff&#x27;, &#x27;#addd8eff&#x27;, &#x27;#addd8eff&#x27;, &#x27;#addd8eff&#x27;, &#x27;#addd8eff&#x27;, &#x27;#addd8eff&#x27;, &#x27;#addd8eff&#x27;, &#x27;#addd8eff&#x27;, &#x27;#addd8eff&#x27;, &#x27;#addd8eff&#x27;, &#x27;#addd8eff&#x27;, &#x27;#addd8eff&#x27;, &#x27;#addd8eff&#x27;, &#x27;#addd8eff&#x27;, &#x27;#addd8eff&#x27;, &#x27;#addd8eff&#x27;, &#x27;#addd8eff&#x27;, &#x27;#addd8eff&#x27;, &#x27;#addd8eff&#x27;, &#x27;#addd8eff&#x27;, &#x27;#addd8eff&#x27;, &#x27;#addd8eff&#x27;, &#x27;#addd8eff&#x27;, &#x27;#addd8eff&#x27;, &#x27;#addd8eff&#x27;, &#x27;#addd8eff&#x27;, &#x27;#addd8eff&#x27;, &#x27;#addd8eff&#x27;, &#x27;#addd8eff&#x27;, &#x27;#addd8eff&#x27;, &#x27;#addd8eff&#x27;, &#x27;#addd8eff&#x27;, &#x27;#addd8eff&#x27;, &#x27;#addd8eff&#x27;, &#x27;#addd8eff&#x27;, &#x27;#addd8eff&#x27;, &#x27;#addd8eff&#x27;, &#x27;#addd8eff&#x27;, &#x27;#addd8eff&#x27;, &#x27;#addd8eff&#x27;, &#x27;#addd8eff&#x27;, &#x27;#addd8eff&#x27;, &#x27;#addd8eff&#x27;, &#x27;#addd8eff&#x27;, &#x27;#addd8eff&#x27;, &#x27;#addd8eff&#x27;, &#x27;#addd8eff&#x27;, &#x27;#addd8eff&#x27;, &#x27;#addd8eff&#x27;, &#x27;#addd8eff&#x27;, &#x27;#addd8eff&#x27;, &#x27;#addd8eff&#x27;, &#x27;#addd8eff&#x27;, &#x27;#addd8eff&#x27;, &#x27;#addd8eff&#x27;, &#x27;#addd8eff&#x27;, &#x27;#addd8eff&#x27;, &#x27;#addd8eff&#x27;, &#x27;#addd8eff&#x27;, &#x27;#addd8eff&#x27;, &#x27;#addd8eff&#x27;, &#x27;#addd8eff&#x27;, &#x27;#addd8eff&#x27;, &#x27;#addd8eff&#x27;, &#x27;#addd8eff&#x27;, &#x27;#addd8eff&#x27;, &#x27;#addd8eff&#x27;, &#x27;#addd8eff&#x27;, &#x27;#addd8eff&#x27;, &#x27;#addd8eff&#x27;, &#x27;#addd8eff&#x27;, &#x27;#addd8eff&#x27;, &#x27;#addd8eff&#x27;, &#x27;#addd8eff&#x27;, &#x27;#addd8eff&#x27;, &#x27;#78c679ff&#x27;, &#x27;#78c679ff&#x27;, &#x27;#78c679ff&#x27;, &#x27;#78c679ff&#x27;, &#x27;#78c679ff&#x27;, &#x27;#78c679ff&#x27;, &#x27;#78c679ff&#x27;, &#x27;#78c679ff&#x27;, &#x27;#78c679ff&#x27;, &#x27;#78c679ff&#x27;, &#x27;#78c679ff&#x27;, &#x27;#78c679ff&#x27;, &#x27;#78c679ff&#x27;, &#x27;#78c679ff&#x27;, &#x27;#78c679ff&#x27;, &#x27;#78c679ff&#x27;, &#x27;#78c679ff&#x27;, &#x27;#78c679ff&#x27;, &#x27;#78c679ff&#x27;, &#x27;#78c679ff&#x27;, &#x27;#78c679ff&#x27;, &#x27;#78c679ff&#x27;, &#x27;#78c679ff&#x27;, &#x27;#78c679ff&#x27;, &#x27;#78c679ff&#x27;, &#x27;#78c679ff&#x27;, &#x27;#78c679ff&#x27;, &#x27;#78c679ff&#x27;, &#x27;#78c679ff&#x27;, &#x27;#78c679ff&#x27;, &#x27;#78c679ff&#x27;, &#x27;#78c679ff&#x27;, &#x27;#78c679ff&#x27;, &#x27;#78c679ff&#x27;, &#x27;#78c679ff&#x27;, &#x27;#78c679ff&#x27;, &#x27;#78c679ff&#x27;, &#x27;#78c679ff&#x27;, &#x27;#78c679ff&#x27;, &#x27;#78c679ff&#x27;, &#x27;#78c679ff&#x27;, &#x27;#78c679ff&#x27;, &#x27;#78c679ff&#x27;, &#x27;#78c679ff&#x27;, &#x27;#78c679ff&#x27;, &#x27;#78c679ff&#x27;, &#x27;#78c679ff&#x27;, &#x27;#78c679ff&#x27;, &#x27;#78c679ff&#x27;, &#x27;#78c679ff&#x27;, &#x27;#78c679ff&#x27;, &#x27;#78c679ff&#x27;, &#x27;#78c679ff&#x27;, &#x27;#78c679ff&#x27;, &#x27;#78c679ff&#x27;, &#x27;#78c679ff&#x27;, &#x27;#78c679ff&#x27;, &#x27;#78c679ff&#x27;, &#x27;#78c679ff&#x27;, &#x27;#78c679ff&#x27;, &#x27;#78c679ff&#x27;, &#x27;#78c679ff&#x27;, &#x27;#78c679ff&#x27;, &#x27;#78c679ff&#x27;, &#x27;#78c679ff&#x27;, &#x27;#78c679ff&#x27;, &#x27;#78c679ff&#x27;, &#x27;#78c679ff&#x27;, &#x27;#78c679ff&#x27;, &#x27;#78c679ff&#x27;, &#x27;#78c679ff&#x27;, &#x27;#78c679ff&#x27;, &#x27;#78c679ff&#x27;, &#x27;#78c679ff&#x27;, &#x27;#78c679ff&#x27;, &#x27;#78c679ff&#x27;, &#x27;#78c679ff&#x27;, &#x27;#78c679ff&#x27;, &#x27;#78c679ff&#x27;, &#x27;#78c679ff&#x27;, &#x27;#78c679ff&#x27;, &#x27;#78c679ff&#x27;, &#x27;#78c679ff&#x27;, &#x27;#31a354ff&#x27;, &#x27;#31a354ff&#x27;, &#x27;#31a354ff&#x27;, &#x27;#31a354ff&#x27;, &#x27;#31a354ff&#x27;, &#x27;#31a354ff&#x27;, &#x27;#31a354ff&#x27;, &#x27;#31a354ff&#x27;, &#x27;#31a354ff&#x27;, &#x27;#31a354ff&#x27;, &#x27;#31a354ff&#x27;, &#x27;#31a354ff&#x27;, &#x27;#31a354ff&#x27;, &#x27;#31a354ff&#x27;, &#x27;#31a354ff&#x27;, &#x27;#31a354ff&#x27;, &#x27;#31a354ff&#x27;, &#x27;#31a354ff&#x27;, &#x27;#31a354ff&#x27;, &#x27;#31a354ff&#x27;, &#x27;#31a354ff&#x27;, &#x27;#31a354ff&#x27;, &#x27;#31a354ff&#x27;, &#x27;#31a354ff&#x27;, &#x27;#31a354ff&#x27;, &#x27;#31a354ff&#x27;, &#x27;#31a354ff&#x27;, &#x27;#31a354ff&#x27;, &#x27;#31a354ff&#x27;, &#x27;#31a354ff&#x27;, &#x27;#31a354ff&#x27;, &#x27;#31a354ff&#x27;, &#x27;#31a354ff&#x27;, &#x27;#31a354ff&#x27;, &#x27;#31a354ff&#x27;, &#x27;#31a354ff&#x27;, &#x27;#31a354ff&#x27;, &#x27;#31a354ff&#x27;, &#x27;#31a354ff&#x27;, &#x27;#31a354ff&#x27;, &#x27;#31a354ff&#x27;, &#x27;#31a354ff&#x27;, &#x27;#31a354ff&#x27;, &#x27;#31a354ff&#x27;, &#x27;#31a354ff&#x27;, &#x27;#31a354ff&#x27;, &#x27;#31a354ff&#x27;, &#x27;#31a354ff&#x27;, &#x27;#31a354ff&#x27;, &#x27;#31a354ff&#x27;, &#x27;#31a354ff&#x27;, &#x27;#31a354ff&#x27;, &#x27;#31a354ff&#x27;, &#x27;#31a354ff&#x27;, &#x27;#31a354ff&#x27;, &#x27;#31a354ff&#x27;, &#x27;#31a354ff&#x27;, &#x27;#31a354ff&#x27;, &#x27;#31a354ff&#x27;, &#x27;#31a354ff&#x27;, &#x27;#31a354ff&#x27;, &#x27;#31a354ff&#x27;, &#x27;#31a354ff&#x27;, &#x27;#31a354ff&#x27;, &#x27;#31a354ff&#x27;, &#x27;#31a354ff&#x27;, &#x27;#31a354ff&#x27;, &#x27;#31a354ff&#x27;, &#x27;#31a354ff&#x27;, &#x27;#31a354ff&#x27;, &#x27;#31a354ff&#x27;, &#x27;#31a354ff&#x27;, &#x27;#31a354ff&#x27;, &#x27;#31a354ff&#x27;, &#x27;#31a354ff&#x27;, &#x27;#31a354ff&#x27;, &#x27;#31a354ff&#x27;, &#x27;#31a354ff&#x27;, &#x27;#31a354ff&#x27;, &#x27;#31a354ff&#x27;, &#x27;#31a354ff&#x27;, &#x27;#31a354ff&#x27;, &#x27;#31a354ff&#x27;, &#x27;#006837ff&#x27;, &#x27;#006837ff&#x27;, &#x27;#006837ff&#x27;, &#x27;#006837ff&#x27;, &#x27;#006837ff&#x27;, &#x27;#006837ff&#x27;, &#x27;#006837ff&#x27;, &#x27;#006837ff&#x27;, &#x27;#006837ff&#x27;, &#x27;#006837ff&#x27;, &#x27;#006837ff&#x27;, &#x27;#006837ff&#x27;, &#x27;#006837ff&#x27;, &#x27;#006837ff&#x27;, &#x27;#006837ff&#x27;, &#x27;#006837ff&#x27;, &#x27;#006837ff&#x27;, &#x27;#006837ff&#x27;, &#x27;#006837ff&#x27;, &#x27;#006837ff&#x27;, &#x27;#006837ff&#x27;, &#x27;#006837ff&#x27;, &#x27;#006837ff&#x27;, &#x27;#006837ff&#x27;, &#x27;#006837ff&#x27;, &#x27;#006837ff&#x27;, &#x27;#006837ff&#x27;, &#x27;#006837ff&#x27;, &#x27;#006837ff&#x27;, &#x27;#006837ff&#x27;, &#x27;#006837ff&#x27;, &#x27;#006837ff&#x27;, &#x27;#006837ff&#x27;, &#x27;#006837ff&#x27;, &#x27;#006837ff&#x27;, &#x27;#006837ff&#x27;, &#x27;#006837ff&#x27;, &#x27;#006837ff&#x27;, &#x27;#006837ff&#x27;, &#x27;#006837ff&#x27;, &#x27;#006837ff&#x27;, &#x27;#006837ff&#x27;, &#x27;#006837ff&#x27;, &#x27;#006837ff&#x27;, &#x27;#006837ff&#x27;, &#x27;#006837ff&#x27;, &#x27;#006837ff&#x27;, &#x27;#006837ff&#x27;, &#x27;#006837ff&#x27;, &#x27;#006837ff&#x27;, &#x27;#006837ff&#x27;, &#x27;#006837ff&#x27;, &#x27;#006837ff&#x27;, &#x27;#006837ff&#x27;, &#x27;#006837ff&#x27;, &#x27;#006837ff&#x27;, &#x27;#006837ff&#x27;, &#x27;#006837ff&#x27;, &#x27;#006837ff&#x27;, &#x27;#006837ff&#x27;, &#x27;#006837ff&#x27;, &#x27;#006837ff&#x27;, &#x27;#006837ff&#x27;, &#x27;#006837ff&#x27;, &#x27;#006837ff&#x27;, &#x27;#006837ff&#x27;, &#x27;#006837ff&#x27;, &#x27;#006837ff&#x27;, &#x27;#006837ff&#x27;, &#x27;#006837ff&#x27;, &#x27;#006837ff&#x27;, &#x27;#006837ff&#x27;, &#x27;#006837ff&#x27;, &#x27;#006837ff&#x27;, &#x27;#006837ff&#x27;, &#x27;#006837ff&#x27;, &#x27;#006837ff&#x27;, &#x27;#006837ff&#x27;, &#x27;#006837ff&#x27;, &#x27;#006837ff&#x27;, &#x27;#006837ff&#x27;, &#x27;#006837ff&#x27;, &#x27;#006837ff&#x27;, &#x27;#006837ff&#x27;]);\n",
       "    \n",
       "\n",
       "    color_map_a606beb91f97cb679be5041549affe97.x = d3.scale.linear()\n",
       "              .domain([3.2, 10.3])\n",
       "              .range([0, 400]);\n",
       "\n",
       "    color_map_a606beb91f97cb679be5041549affe97.legend = L.control({position: &#x27;topright&#x27;});\n",
       "    color_map_a606beb91f97cb679be5041549affe97.legend.onAdd = function (map) {var div = L.DomUtil.create(&#x27;div&#x27;, &#x27;legend&#x27;); return div};\n",
       "    color_map_a606beb91f97cb679be5041549affe97.legend.addTo(map_4d10ef9fb2b8a732dcd547d90b8d138d);\n",
       "\n",
       "    color_map_a606beb91f97cb679be5041549affe97.xAxis = d3.svg.axis()\n",
       "        .scale(color_map_a606beb91f97cb679be5041549affe97.x)\n",
       "        .orient(&quot;top&quot;)\n",
       "        .tickSize(1)\n",
       "        .tickValues([3.2, 4.383333333333334, 5.566666666666666, 6.75, 7.933333333333334, 9.116666666666667, 10.3]);\n",
       "\n",
       "    color_map_a606beb91f97cb679be5041549affe97.svg = d3.select(&quot;.legend.leaflet-control&quot;).append(&quot;svg&quot;)\n",
       "        .attr(&quot;id&quot;, &#x27;legend&#x27;)\n",
       "        .attr(&quot;width&quot;, 450)\n",
       "        .attr(&quot;height&quot;, 40);\n",
       "\n",
       "    color_map_a606beb91f97cb679be5041549affe97.g = color_map_a606beb91f97cb679be5041549affe97.svg.append(&quot;g&quot;)\n",
       "        .attr(&quot;class&quot;, &quot;key&quot;)\n",
       "        .attr(&quot;transform&quot;, &quot;translate(25,16)&quot;);\n",
       "\n",
       "    color_map_a606beb91f97cb679be5041549affe97.g.selectAll(&quot;rect&quot;)\n",
       "        .data(color_map_a606beb91f97cb679be5041549affe97.color.range().map(function(d, i) {\n",
       "          return {\n",
       "            x0: i ? color_map_a606beb91f97cb679be5041549affe97.x(color_map_a606beb91f97cb679be5041549affe97.color.domain()[i - 1]) : color_map_a606beb91f97cb679be5041549affe97.x.range()[0],\n",
       "            x1: i &lt; color_map_a606beb91f97cb679be5041549affe97.color.domain().length ? color_map_a606beb91f97cb679be5041549affe97.x(color_map_a606beb91f97cb679be5041549affe97.color.domain()[i]) : color_map_a606beb91f97cb679be5041549affe97.x.range()[1],\n",
       "            z: d\n",
       "          };\n",
       "        }))\n",
       "      .enter().append(&quot;rect&quot;)\n",
       "        .attr(&quot;height&quot;, 10)\n",
       "        .attr(&quot;x&quot;, function(d) { return d.x0; })\n",
       "        .attr(&quot;width&quot;, function(d) { return d.x1 - d.x0; })\n",
       "        .style(&quot;fill&quot;, function(d) { return d.z; });\n",
       "\n",
       "    color_map_a606beb91f97cb679be5041549affe97.g.call(color_map_a606beb91f97cb679be5041549affe97.xAxis).append(&quot;text&quot;)\n",
       "        .attr(&quot;class&quot;, &quot;caption&quot;)\n",
       "        .attr(&quot;y&quot;, 21)\n",
       "        .text(&#x27;Unemployment Rate (%)&#x27;);\n",
       "    \n",
       "            var layer_control_f2c57b9bb12a98d2038a4378b99f4956 = {\n",
       "                base_layers : {\n",
       "                    &quot;openstreetmap&quot; : tile_layer_d4e51df29099b9cb67d8fe498b2ed1d5,\n",
       "                },\n",
       "                overlays :  {\n",
       "                    &quot;choropleth&quot; : choropleth_0a5d275a36812bdc9d5959afd6eddbad,\n",
       "                },\n",
       "            };\n",
       "            L.control.layers(\n",
       "                layer_control_f2c57b9bb12a98d2038a4378b99f4956.base_layers,\n",
       "                layer_control_f2c57b9bb12a98d2038a4378b99f4956.overlays,\n",
       "                {&quot;autoZIndex&quot;: true, &quot;collapsed&quot;: true, &quot;position&quot;: &quot;topright&quot;}\n",
       "            ).addTo(map_4d10ef9fb2b8a732dcd547d90b8d138d);\n",
       "        \n",
       "&lt;/script&gt;\" style=\"position:absolute;width:100%;height:100%;left:0;top:0;border:none !important;\" allowfullscreen webkitallowfullscreen mozallowfullscreen></iframe></div></div>"
      ],
      "text/plain": [
       "<folium.folium.Map at 0x163b7b1c0>"
      ]
     },
     "execution_count": 46,
     "metadata": {},
     "output_type": "execute_result"
    }
   ],
   "source": [
    "map_f"
   ]
  },
  {
   "cell_type": "code",
   "execution_count": null,
   "id": "24662daf-cdf4-4b9c-bdb1-f23cc6705df2",
   "metadata": {},
   "outputs": [],
   "source": []
  },
  {
   "cell_type": "code",
   "execution_count": null,
   "id": "4a0790b0-0902-4073-b6c1-1cf962afe7bf",
   "metadata": {},
   "outputs": [],
   "source": []
  },
  {
   "cell_type": "code",
   "execution_count": null,
   "id": "5930f6fa-ad6c-4967-b163-6f19abc22043",
   "metadata": {},
   "outputs": [],
   "source": []
  },
  {
   "cell_type": "code",
   "execution_count": null,
   "id": "959ed82f-0928-4c01-9d81-67b9b9c8dff8",
   "metadata": {},
   "outputs": [],
   "source": []
  },
  {
   "cell_type": "markdown",
   "id": "ec011e0b",
   "metadata": {},
   "source": [
    "<a id=\"scikitmobility\"></a>\n",
    "# scikit-mobility\n",
    "\n",
    "![GitHub Repo stars](https://img.shields.io/github/stars/scikit-mobility/scikit-mobility?style=social)\n",
    "![GitHub](https://img.shields.io/github/license/scikit-mobility/scikit-mobility)\n",
    "![GitHub release (latest by date)](https://img.shields.io/github/v/release/scikit-mobility/scikit-mobility)\n",
    "\n",
    "[**scikit-mobility**](https://github.com/scikit-mobility/scikit-mobility) is a python library that provides scientists and practitioners with an environment to:\n",
    "\n",
    "1. load and represent mobility data, both at the individual and the collective level, through easy-to-use data structures\n",
    "(`TrajDataFrame` and `FlowDataFrame`); \n",
    "2. visualize trajectories and flows on interactive maps;\n",
    "3. clean and preprocess mobility data using state-of-the-art techniques, such as trajectory clustering, compression, segmentation, and filtering;\n",
    "4. analyze mobility data by using the main measures characterizing mobility patterns both at the individual and at the collective level, such as the computation of travel and characteristic distances, object and location entropies, location frequencies, waiting times, origin-destination matrices, and more;\n",
    "4. run the most popular mechanistic generative models to simulate individual mobility, such as the Exploration and Preferential Return model (EPR) and its variants, and commuting and migratory flows, such as the Gravity\n",
    "Model and the Radiation Model;\n",
    "5. estimate the privacy risk associated with the analysis of a given mobility dataset through the simulation of the reidentification risk associated with a vast repertoire of privacy attacks.\n",
    "\n",
    "- scikit-mobility is publicly available on GitHub at the following link: https://scikit-mobility.github.io/scikit-mobility/. \n",
    "\n",
    "- the documentation describing all the classes and functions of scikit-mobility\n",
    "is available at https://scikit-mobility.github.io/scikit-mobility/.\n",
    "\n",
    "The paper describing scikit-mobility may be found at: https://www.jstatsoft.org/article/view/v103i04"
   ]
  },
  {
   "cell_type": "code",
   "execution_count": 6,
   "id": "e0047aad",
   "metadata": {},
   "outputs": [],
   "source": [
    "# import the library\n",
    "import skmob\n",
    "\n",
    "skmob.__version__\n",
    "\n",
    "import pandas as pd\n",
    "import geopandas as gpd"
   ]
  },
  {
   "cell_type": "markdown",
   "id": "6acb6115-aa1c-4e35-ab7b-fee5315da263",
   "metadata": {},
   "source": [
    "<a id=\"datastructures\"></a>\n",
    "## Data Structures\n",
    "\n",
    "scikit-mobility provides two data structures to deal with raw trajectories and flows between places: \n",
    "- `TrajDataFrame`, for spatio-temporal trajectories; \n",
    "- `FlowDataFrame`, for mobility flows.\n",
    "\n",
    "Both the data structures are an extension of the DataFrame implemented in the data analysis library [pandas](https://pandas.pydata.org/). Thus, both `TrajDataFrame`\n",
    "and `FlowDataFrame` inherit all the functionalities provided by the `DataFrame` as well as all the efficient optimizations for reading and writing tabular data (e.g., mobility datasets). \n",
    "\n",
    "The current version of the library is designed to work with the latitude and longitude system (`epsg:4326`). Therefore, the Haversine formula is used by default when the library’s functions compute distances. "
   ]
  },
  {
   "cell_type": "markdown",
   "id": "9b2b00f0",
   "metadata": {},
   "source": [
    "<a id=\"trajdataframe\"></a>\n",
    "### The `TrajDataFrame`\n",
    "\n",
    "Mobility data describe the movements of a set of objects during a period of observation. The objects may represent individuals, private vehicles, boats, and even players on a sports field. \n",
    "\n",
    "Mobility data are generally collected in an automatic way as a by-product of human activity on electronic devices (e.g., mobile phones, GPS devices, social\n",
    "networking platforms, video cameras) and stored as trajectories, a temporally ordered sequence of spatio-temporal points where an object stopped in or went through. \n",
    "\n",
    "A `TrajDataFrame` is an extension of the pandas DataFrame that has specific columns names and data types. Each row in a `TrajDataFrame` describes a trajectory's point and contains the following columns:\n",
    "\n",
    "- `lat` - latitude of the point\n",
    "- `lng` - longitude of the point\n",
    "- `datetime` - date and time of the point\n",
    "\n",
    "For multi-user data sets, there are two optional columns:\n",
    "\n",
    "- `uid` - user's identifier to which the trajectory belongs to\n",
    "- `tid` - identifier for the trajectory\n",
    "\n",
    "\n",
    "#### Creating a `TrajDataFrame`\n",
    "\n",
    "A `TrajDataFrame` can be created from:\n",
    "\n",
    "- a python list or numpy array\n",
    "- a python dictionary\n",
    "- a pandas DataFrame\n",
    "- a text file"
   ]
  },
  {
   "cell_type": "markdown",
   "id": "46d5edec",
   "metadata": {},
   "source": [
    "#### From a python list"
   ]
  },
  {
   "cell_type": "code",
   "execution_count": null,
   "id": "0434b67f",
   "metadata": {},
   "outputs": [],
   "source": [
    "# From a list\n",
    "data_list = [[1, 39.984094, 116.319236, '2008-10-23 13:53:05'],\n",
    "             [1, 39.984198, 116.319322, '2008-10-23 13:53:06'],\n",
    "             [1, 39.984224, 116.319402, '2008-10-23 13:53:11'],\n",
    "             [1, 39.984211, 116.319389, '2008-10-23 13:53:16']]\n",
    "data_list"
   ]
  },
  {
   "cell_type": "code",
   "execution_count": null,
   "id": "a79a0a59",
   "metadata": {},
   "outputs": [],
   "source": [
    "type(data_list)"
   ]
  },
  {
   "cell_type": "markdown",
   "id": "ada0c4e3",
   "metadata": {},
   "source": [
    "We must set the indexes of the mandatory columns using arguments `latitude`, `longitude` and `datetime`."
   ]
  },
  {
   "cell_type": "code",
   "execution_count": null,
   "id": "201619ec",
   "metadata": {},
   "outputs": [],
   "source": [
    "tdf = skmob.TrajDataFrame(data_list, \n",
    "                          latitude=1, longitude=2, \n",
    "                          datetime=3)\n",
    "print(type(tdf))\n",
    "tdf"
   ]
  },
  {
   "cell_type": "markdown",
   "id": "bfa1f8ee",
   "metadata": {},
   "source": [
    "##### From a pandas DataFrame"
   ]
  },
  {
   "cell_type": "code",
   "execution_count": null,
   "id": "448d5077",
   "metadata": {},
   "outputs": [],
   "source": [
    "# build a dataframe from the 2D list\n",
    "data_df = pd.DataFrame(data_list, columns=['user', 'lat', 'lng', 'hour'])\n",
    "print(type(data_df)) # type of the structure\n",
    "data_df.head() # head of the DataFrame"
   ]
  },
  {
   "cell_type": "markdown",
   "id": "19cf906c",
   "metadata": {},
   "source": [
    "Note that:\n",
    "\n",
    "- the name of columns in `data_df` do not match the names required\n",
    "- you must specify the names of the mandatory columns using arguments `latitude`, `longitude` and `datetime`"
   ]
  },
  {
   "cell_type": "code",
   "execution_count": null,
   "id": "3fb80fc9",
   "metadata": {},
   "outputs": [],
   "source": [
    "# Create a TrajDataFrame from a DataFrame\n",
    "tdf = skmob.TrajDataFrame(data_df, datetime='hour', user_id='user')\n",
    "print(type(tdf))\n",
    "tdf.head()"
   ]
  },
  {
   "cell_type": "markdown",
   "id": "fb01cabb",
   "metadata": {},
   "source": [
    "Columns of a `TrajDataFrame` have specific types"
   ]
  },
  {
   "cell_type": "code",
   "execution_count": null,
   "id": "c5bbe105",
   "metadata": {},
   "outputs": [],
   "source": [
    "# In the DataFrame\n",
    "print(type(data_df))\n",
    "data_df.dtypes"
   ]
  },
  {
   "cell_type": "code",
   "execution_count": null,
   "id": "a7516091",
   "metadata": {
    "scrolled": true
   },
   "outputs": [],
   "source": [
    "print(type(tdf)) # In the TrajDataFrame\n",
    "tdf.dtypes"
   ]
  },
  {
   "cell_type": "code",
   "execution_count": null,
   "id": "2712659b",
   "metadata": {},
   "outputs": [],
   "source": [
    "tdf['lat'].head()"
   ]
  },
  {
   "cell_type": "markdown",
   "id": "4c2bc310",
   "metadata": {},
   "source": [
    "##### From an URL"
   ]
  },
  {
   "cell_type": "code",
   "execution_count": null,
   "id": "64a52b05",
   "metadata": {},
   "outputs": [],
   "source": [
    "# create a TrajDataFrame from a dataset of trajectories \n",
    "url = \"https://github.com/scikit-mobility/tutorials/raw/master/mda_masterbd2020/data/geolife_sample.txt.gz\"\n",
    "tdf = skmob.TrajDataFrame.from_file(url)\n",
    "print(type(tdf))\n",
    "tdf.head()"
   ]
  },
  {
   "cell_type": "markdown",
   "id": "f8d91749",
   "metadata": {},
   "source": [
    "#### Attributes of a TrajDataFrame\n",
    "- `crs`: the coordinate reference system. Default: epsg:4326 (lat/long)\n",
    "- `parameters`: dictionary to add as many as necessary additional properties"
   ]
  },
  {
   "cell_type": "code",
   "execution_count": null,
   "id": "a9b9ad96",
   "metadata": {},
   "outputs": [],
   "source": [
    "## wsg84 datum\n",
    "print(tdf.crs)\n",
    "print(tdf.parameters)"
   ]
  },
  {
   "cell_type": "code",
   "execution_count": null,
   "id": "b0492fa3",
   "metadata": {},
   "outputs": [],
   "source": [
    "# add your own parameter\n",
    "tdf.parameters['analyzed'] = 1\n",
    "tdf.parameters"
   ]
  },
  {
   "cell_type": "code",
   "execution_count": null,
   "id": "afa4db8b",
   "metadata": {
    "scrolled": true
   },
   "outputs": [],
   "source": [
    "### Visualizing a `TrajDataFrame`\n",
    "tdf.plot_trajectory()"
   ]
  },
  {
   "cell_type": "markdown",
   "id": "5c45b88b",
   "metadata": {},
   "source": [
    "<a id=\"tessellation\"></a>\n",
    "### Tessellation\n",
    "In mobility tasks, the geography is often discretized by mapping the coordinates to a *tessellation*, i.e., a covering of the\n",
    "bi-dimensional space using a countable number of geometric shapes (e.g., squares, hexagons), called tiles, with no overlaps\n",
    "and no gaps. \n",
    "\n",
    "For instance, for the analysis or prediction of mobility flows, a spatial tessellation is used to aggregate flows of people moving among locations (the tiles of the tessellation). \n",
    "\n",
    "#### Creating tessellations given a city name and a tile size\n",
    "\n",
    "##### Squared tessellations"
   ]
  },
  {
   "cell_type": "code",
   "execution_count": null,
   "id": "6997ddb3",
   "metadata": {},
   "outputs": [],
   "source": [
    "from skmob.tessellation.tilers import tiler\n",
    "from skmob.utils.plot import plot_gdf"
   ]
  },
  {
   "cell_type": "code",
   "execution_count": null,
   "id": "02e99ddc",
   "metadata": {},
   "outputs": [],
   "source": [
    "tess_squared = tiler.get('squared', base_shape='Florence, Italy', meters=1000)\n",
    "print(\"tiles = %s\" %len(tess_squared))\n",
    "tess_squared.head()"
   ]
  },
  {
   "cell_type": "code",
   "execution_count": null,
   "id": "16f50a36",
   "metadata": {},
   "outputs": [],
   "source": [
    "plot_gdf(tess_squared, zoom=11)"
   ]
  },
  {
   "cell_type": "code",
   "execution_count": null,
   "id": "5600be80",
   "metadata": {},
   "outputs": [],
   "source": [
    "tess_squared = tiler.get('squared', base_shape='Florence, Italy', meters=200)\n",
    "print(\"tiles = %s\" %len(tess_squared))\n",
    "tess_squared.head()"
   ]
  },
  {
   "cell_type": "code",
   "execution_count": null,
   "id": "ac68bf95",
   "metadata": {},
   "outputs": [],
   "source": [
    "plot_gdf(tess_squared, zoom=11)"
   ]
  },
  {
   "cell_type": "markdown",
   "id": "c3d335be",
   "metadata": {},
   "source": [
    "##### Hexagonal tessellation"
   ]
  },
  {
   "cell_type": "code",
   "execution_count": null,
   "id": "04a2a5d6",
   "metadata": {},
   "outputs": [],
   "source": [
    "tess_h3 = tiler.get('h3_tessellation', base_shape='Florence, Italy', meters=1000)\n",
    "print(\"tiles = %s\" %len(tess_h3))\n",
    "tess_h3.head()"
   ]
  },
  {
   "cell_type": "code",
   "execution_count": null,
   "id": "d22b64e2",
   "metadata": {},
   "outputs": [],
   "source": [
    "plot_gdf(tess_h3, zoom=11)"
   ]
  },
  {
   "cell_type": "code",
   "execution_count": null,
   "id": "f0683fd6",
   "metadata": {},
   "outputs": [],
   "source": [
    "tess_h3 = tiler.get('h3_tessellation', base_shape='Florence, Italy', meters=200)\n",
    "print(\"tiles = %s\" %len(tess_h3))\n",
    "tess_h3.head()"
   ]
  },
  {
   "cell_type": "code",
   "execution_count": null,
   "id": "4a5a3c6d",
   "metadata": {},
   "outputs": [],
   "source": [
    "plot_gdf(tess_h3, zoom=11)"
   ]
  },
  {
   "cell_type": "markdown",
   "id": "e6cdf445",
   "metadata": {},
   "source": [
    "##### Voronoi tessellations"
   ]
  },
  {
   "cell_type": "code",
   "execution_count": null,
   "id": "b0a59116",
   "metadata": {},
   "outputs": [],
   "source": [
    "%matplotlib inline\n",
    "import matplotlib.pyplot as plt\n",
    "from scipy.spatial import Voronoi,voronoi_plot_2d\n",
    "from geovoronoi import voronoi_regions_from_coords, points_to_coords\n",
    "import numpy as np\n",
    "import random\n",
    "from shapely.geometry import Polygon, Point\n",
    "import folium"
   ]
  },
  {
   "cell_type": "code",
   "execution_count": null,
   "id": "cc4b84f9",
   "metadata": {},
   "outputs": [],
   "source": [
    "def get_convex_hull(tess):\n",
    "    polygon = tess.at[0, 'geometry']\n",
    "    for tile in tess['geometry']:\n",
    "        polygon = polygon.union(tile)\n",
    "    return polygon.convex_hull"
   ]
  },
  {
   "cell_type": "code",
   "execution_count": null,
   "id": "30d5e2e9",
   "metadata": {},
   "outputs": [],
   "source": [
    "poly_ch = get_convex_hull(tess_squared)\n",
    "print(type(poly_ch))\n",
    "poly_ch"
   ]
  },
  {
   "cell_type": "code",
   "execution_count": null,
   "id": "cd75a299",
   "metadata": {},
   "outputs": [],
   "source": [
    "# Defining the randomization generator\n",
    "def polygon_random_points(poly, num_points):\n",
    "    min_x, min_y, max_x, max_y = poly.bounds\n",
    "    points = []\n",
    "    while len(points) < num_points:\n",
    "        random_point = Point([random.uniform(min_x, max_x), random.uniform(min_y, max_y)])\n",
    "        if (random_point.within(poly)):\n",
    "            points.append([random_point.x, random_point.y])\n",
    "    return np.array(points)"
   ]
  },
  {
   "cell_type": "code",
   "execution_count": null,
   "id": "7738c8b0",
   "metadata": {},
   "outputs": [],
   "source": [
    "# Choose the number of points desired. This example uses 20 points. \n",
    "points = polygon_random_points(poly_ch, 5)\n",
    "points[:10]"
   ]
  },
  {
   "cell_type": "code",
   "execution_count": null,
   "id": "0c6ccb5b",
   "metadata": {},
   "outputs": [],
   "source": [
    "def to_GeoDataFrame(region_polys):\n",
    "    name=[]\n",
    "    for i in range(1, len(region_polys) + 1):\n",
    "        name.append('cell ' + str(i))\n",
    "    gdf = gpd.GeoDataFrame(columns=['name','geometry'], crs={'init': 'epsg:4326'})\n",
    "    gdf['name'] = name\n",
    "    for index, row in gdf.iterrows():\n",
    "        gdf.at[index, 'geometry'] = region_polys[index]\n",
    "    return gdf\n",
    "\n",
    "\n",
    "def get_voronoi_tessellation(poly_ch, points):\n",
    "    vor = Voronoi(points, qhull_options='Qbb Qc Qx')\n",
    "    #fig = voronoi_plot_2d(vor)\n",
    "    #plt.show()\n",
    "    region_polys, region_pts = voronoi_regions_from_coords(points, poly_ch)\n",
    "    tess_voronoi = to_GeoDataFrame(region_polys)\n",
    "    return tess_voronoi"
   ]
  },
  {
   "cell_type": "code",
   "execution_count": null,
   "id": "3cb33672",
   "metadata": {},
   "outputs": [],
   "source": [
    "tess_voronoi = get_voronoi_tessellation(poly_ch, points)\n",
    "tess_voronoi.head()"
   ]
  },
  {
   "cell_type": "code",
   "execution_count": null,
   "id": "9282ce93",
   "metadata": {},
   "outputs": [],
   "source": [
    "plot_gdf(tess_voronoi, zoom=12)"
   ]
  },
  {
   "cell_type": "markdown",
   "id": "96e6e587",
   "metadata": {},
   "source": [
    "<a id=\"flowdataframe\"></a>\n",
    "### The `FlowDataFrame`\n",
    "\n",
    "Origin-destination matrices, aka *flows*, are another common representation of mobility data. While trajectories refer to movements of single objects, flows refer to aggregated movements of objects between a set of locations. An example of flows is the daily commuting flows between the neighbourhoods of a city.\n",
    "\n",
    "In scikit-mobility, an origin-destination matrix is described by a `FlowDataFrame`, an extension of the pandas DataFrame that has specific column names and data types. \n",
    "\n",
    "A row in a `FlowDataFrame` represents a flow of objects between two locations, described by three mandatory columns: \n",
    "- `origin` (any type), \n",
    "- `destination` (any type),\n",
    "- `flow` (type: integer). \n",
    "\n",
    "In mobility tasks, the geography is often discretized by mapping the coordinates to a *tessellation*, i.e., a covering of the\n",
    "bi-dimensional space using a countable number of geometric shapes (e.g., squares, hexagons), called tiles, with no overlaps\n",
    "and no gaps. \n",
    "\n",
    "For instance, for the analysis or prediction of mobility flows, a spatial tessellation is used to aggregate flows of people moving among locations (the tiles of the tessellation). \n",
    "\n",
    "For this reason, each `FlowDataFrame` is associated with a spatial tessellation, a [geopandas](https://geopandas.org/) GeoDataFrame that contains two mandatory columns: \n",
    "- `tile_ID` (any type) indicates the identifier of\n",
    "a location; \n",
    "- `geometry` indicates the geometric shape that describes the location on a territory (e.g., a square, an hexagon, the shape of a neighborhood).\n",
    "\n",
    "Each location identifier in the origin and destination columns of a `FlowDataFrame` must be present in the associated spatial tessellation. Otherwise, the library raises an exception. \n",
    "\n",
    "Similarly, scikit-mobility raises an exception if the type of the `origin` and `destination` columns in the `FlowDataFrame` and the type of\n",
    "the `tile_ID` column in the associated tessellation are different.\n",
    "\n",
    "#### Creating a `FlowDataFrame`\n",
    "\n",
    "Each `FlowDataFrame` goes in companion with a spatial tessellation. So, we must first create/upload a spatial tessellation, which as geopandas GeoDataFrame.\n",
    "\n"
   ]
  },
  {
   "cell_type": "code",
   "execution_count": null,
   "id": "dd1fccc1",
   "metadata": {},
   "outputs": [],
   "source": [
    "url = \"https://raw.githubusercontent.com/scikit-mobility/tutorials/master/mda_masterbd2020/data/NY_counties_2011.geojson\"\n",
    "tessellation = gpd.read_file(url) # load a tessellation\n",
    "tessellation.head()"
   ]
  },
  {
   "cell_type": "code",
   "execution_count": null,
   "id": "c1d2c0ff",
   "metadata": {},
   "outputs": [],
   "source": [
    "plot_gdf(tessellation, zoom=6)"
   ]
  },
  {
   "cell_type": "markdown",
   "id": "ae32ae92",
   "metadata": {},
   "source": [
    "#### Tip\n",
    "Once you have a `GeoDataFrame` or a `GeoSeries` (i.e., just the `geometry` column), you can construct a squared tessellation on it.\n",
    "(There's a bug instead for the h3 tessellation)."
   ]
  },
  {
   "cell_type": "code",
   "execution_count": null,
   "id": "5aa94d47-5def-448a-84e9-2517f048d7cc",
   "metadata": {},
   "outputs": [],
   "source": [
    "ny_tess_squared = tiler.get('squared', base_shape=tessellation, meters=10000)\n",
    "print(\"tiles = %s\" %len(ny_tess_squared))\n",
    "ny_tess_squared.head()"
   ]
  },
  {
   "cell_type": "code",
   "execution_count": null,
   "id": "2a94db85-e0ca-4210-801e-10b31676828b",
   "metadata": {},
   "outputs": [],
   "source": [
    "plot_gdf(ny_tess_squared, zoom=7)"
   ]
  },
  {
   "cell_type": "markdown",
   "id": "1ba74d66-621d-4b17-8cee-f17d88a8f5de",
   "metadata": {},
   "source": [
    "Then, we can create a `FlowDataFrame` from a file/url, specifying the spatial tessellation it refers to using argument `tessellation`. \n",
    "\n",
    "Also, you must specify the name of the column in the tessellation `GeoDataFrame` containing the identifier of the locations."
   ]
  },
  {
   "cell_type": "code",
   "execution_count": null,
   "id": "ab05626c",
   "metadata": {},
   "outputs": [],
   "source": [
    "url = \"https://github.com/scikit-mobility/tutorials/raw/master/mda_masterbd2020/data/NY_commuting_flows_2011.csv\"\n",
    "fdf = skmob.FlowDataFrame.from_file(url, tessellation=tessellation, tile_id='tile_id')\n",
    "fdf.head()"
   ]
  },
  {
   "cell_type": "code",
   "execution_count": null,
   "id": "49f3ab0f",
   "metadata": {},
   "outputs": [],
   "source": [
    "fdf.dtypes"
   ]
  },
  {
   "cell_type": "code",
   "execution_count": null,
   "id": "6caa419a",
   "metadata": {},
   "outputs": [],
   "source": [
    "type(fdf)"
   ]
  },
  {
   "cell_type": "markdown",
   "id": "b90efa96",
   "metadata": {},
   "source": [
    "You can access the spatial tessellation associated with the created `FlowDataFrame` using the attribute `.tessellation`."
   ]
  },
  {
   "cell_type": "code",
   "execution_count": null,
   "id": "e0b2c069",
   "metadata": {},
   "outputs": [],
   "source": [
    "# The tessellation is an attribute of the FlowDataFrame\n",
    "fdf.tessellation.head()"
   ]
  },
  {
   "cell_type": "code",
   "execution_count": null,
   "id": "2da0a19e",
   "metadata": {},
   "outputs": [],
   "source": [
    "fdf['origin'].unique()"
   ]
  },
  {
   "cell_type": "code",
   "execution_count": null,
   "id": "f48eb651",
   "metadata": {},
   "outputs": [],
   "source": [
    "tessellation['tile_id'].unique()"
   ]
  },
  {
   "cell_type": "code",
   "execution_count": null,
   "id": "f44a9632",
   "metadata": {},
   "outputs": [],
   "source": [
    "fdf.plot_flows()"
   ]
  },
  {
   "cell_type": "code",
   "execution_count": null,
   "id": "c582b476",
   "metadata": {},
   "outputs": [],
   "source": [
    "fdf.plot_tessellation()"
   ]
  },
  {
   "cell_type": "code",
   "execution_count": null,
   "id": "ecc2e232",
   "metadata": {},
   "outputs": [],
   "source": [
    "map_f = fdf.plot_tessellation()\n",
    "fdf.plot_flows(map_f=map_f)"
   ]
  },
  {
   "cell_type": "code",
   "execution_count": null,
   "id": "29d5f649",
   "metadata": {},
   "outputs": [],
   "source": []
  }
 ],
 "metadata": {
  "kernelspec": {
   "display_name": "Python [conda env:GSA]",
   "language": "python",
   "name": "gsa"
  },
  "language_info": {
   "codemirror_mode": {
    "name": "ipython",
    "version": 3
   },
   "file_extension": ".py",
   "mimetype": "text/x-python",
   "name": "python",
   "nbconvert_exporter": "python",
   "pygments_lexer": "ipython3",
   "version": "3.9.13"
  },
  "toc-showmarkdowntxt": false
 },
 "nbformat": 4,
 "nbformat_minor": 5
}
