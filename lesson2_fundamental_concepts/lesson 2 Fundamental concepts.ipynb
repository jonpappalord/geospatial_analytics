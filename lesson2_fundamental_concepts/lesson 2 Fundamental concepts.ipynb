{
 "cells": [
  {
   "cell_type": "markdown",
   "id": "571f32b9",
   "metadata": {},
   "source": [
    "Author: Luca Pappalardo\n",
    "\n",
    "Geospatial Analytics, Master degree in Data Science and Business Informatics, University of Pisa"
   ]
  },
  {
   "cell_type": "markdown",
   "id": "4f993710",
   "metadata": {},
   "source": [
    "# Geospatial Analytics - Lesson 2: Fundamental Concepts\n",
    "\n",
    "In this lesson, we will learn how to handle spatial data in Python using Shapely, Geopandas, and scikit-mobility.\n",
    "\n",
    "1. [Shapely](#shapely)\n",
    "    - [Point](#point)\n",
    "    - [LineString](#linestring)\n",
    "    - [Polygon](#polygon)\n",
    "    - [Geometry Collections](#geometrycollections)\n",
    "    - [Practice](#practice)\n",
    "2. [Geopandas](#geopandas)\n",
    "    - [Reading a shapefile](#readingshapefile)\n",
    "    - [Geometries](#geometriesgeopandas)\n",
    "    - [Writing data](#writingdata)\n",
    "    - [Practice](#practicegeopandas)\n",
    "3. [scikit-mobility](#scikitmobility)\n",
    "    - [Data Structures](#datastructures)\n",
    "        - [TrajDataFrame](#trajdataframe)\n",
    "        - [Tessellation](#tessellation)\n",
    "        - [FlowDataFrame](#flowdataframe)"
   ]
  },
  {
   "cell_type": "markdown",
   "id": "0aa81fcc",
   "metadata": {},
   "source": [
    "<a id='shapely'></a>\n",
    "# Shapely"
   ]
  },
  {
   "cell_type": "markdown",
   "id": "7949c0b6",
   "metadata": {},
   "source": [
    "In [**Shapely**](https://shapely.readthedocs.io/en/stable/manual.html), the most fundamental geometric objects are `Points`, `Lines` and `Polygons`, the basic ingredients when working with spatial data in vector data format. \n",
    "\n",
    "Python has a specific module called `Shapely` for doing various geometric operations. Basic knowledge of using Shapely is fundamental for understanding how geometries are stored and handled in `GeoPandas` and `scikit-mobility`."
   ]
  },
  {
   "cell_type": "markdown",
   "id": "760ebca3",
   "metadata": {},
   "source": [
    "Geometric objects consist of coordinate tuples where:\n",
    "\n",
    "- `Point` object: represents a single point in space. Points can be either two-dimensional $(x, y)$ or three dimensional $(x, y, z)$\n",
    "\n",
    "- `LineString` object: (i.e., a line) represents a sequence of points joined together to form a line. Hence, a line consist of a list of at least two coordinate tuples\n",
    "\n",
    "- `Polygon` object: represents a filled area that consists of a list of at least three coordinate tuples that forms the outerior ring and a (possible) list of hole polygons"
   ]
  },
  {
   "cell_type": "markdown",
   "id": "8916aaf2",
   "metadata": {},
   "source": [
    "It is also possible to have a collection of geometric objects (e.g., `Polygon`s with multiple parts):\n",
    "\n",
    "- `MultiPoint` object: represents a collection of `Point`s and consists of a list of coordinate-tuples\n",
    "\n",
    "- `MultiLineString` object: represents a collection of `LineString`s and consists of a list of line-like sequences\n",
    "\n",
    "- `MultiPolygon` object: represents a collection of `Polygon`s that consists of a list of polygon-like sequences that construct from exterior ring and (possible) hole list tuples"
   ]
  },
  {
   "cell_type": "markdown",
   "id": "7292e0f7",
   "metadata": {},
   "source": [
    "![](https://autogis-site.readthedocs.io/en/latest/_images/SpatialDataModel.PNG)"
   ]
  },
  {
   "cell_type": "markdown",
   "id": "406e783a",
   "metadata": {},
   "source": [
    "<a id=\"point\"></a>\n",
    "## Point\n",
    "Creating point is easy, you pass $x$ and $y$ coordinates into `Point()` object (+ possibly also $z$ coordinate):"
   ]
  },
  {
   "cell_type": "code",
   "execution_count": null,
   "id": "4866265b",
   "metadata": {},
   "outputs": [],
   "source": [
    "# Import necessary geometric objects from shapely module\n",
    "from shapely.geometry import Point, LineString, Polygon"
   ]
  },
  {
   "cell_type": "code",
   "execution_count": null,
   "id": "5ed4ee79-dfee-4370-b1e3-b319eadbabd3",
   "metadata": {},
   "outputs": [],
   "source": [
    "# Create Point geometric object(s) with coordinates\n",
    "point1 = Point(2.2, 4.2)\n",
    "point2 = Point(7.2, -25.1)\n",
    "point3 = Point(9.26, -2.456)\n",
    "point3D = Point(9.26, -2.456, 0.57)"
   ]
  },
  {
   "cell_type": "code",
   "execution_count": null,
   "id": "eef50fef",
   "metadata": {},
   "outputs": [],
   "source": [
    "point1"
   ]
  },
  {
   "cell_type": "code",
   "execution_count": null,
   "id": "6366522c",
   "metadata": {},
   "outputs": [],
   "source": [
    "type(point1)"
   ]
  },
  {
   "cell_type": "markdown",
   "id": "0d2820b1",
   "metadata": {},
   "source": [
    "The type of the point is Shapely’s `Point`. The point object is represented in a specific format based on GEOS C++ library that is one of the standard libraries behind various GIS, e.g., QGIS."
   ]
  },
  {
   "cell_type": "code",
   "execution_count": null,
   "id": "d4d12c65",
   "metadata": {},
   "outputs": [],
   "source": [
    "print(point1)"
   ]
  },
  {
   "cell_type": "code",
   "execution_count": null,
   "id": "675f23d1",
   "metadata": {},
   "outputs": [],
   "source": [
    "print(point3D)"
   ]
  },
  {
   "cell_type": "markdown",
   "id": "59e5867c",
   "metadata": {},
   "source": [
    "### Point attributes and functions\n",
    "`Point`s and other Shapely objects have useful built-in attributes and methods. Using the available attributes, we can for example extract the coordinate values of a `Point` and calculate the Euclidian distance between points.\n",
    "\n",
    "`geom_type` attribute contains information about the geometry type of the Shapely object:"
   ]
  },
  {
   "cell_type": "code",
   "execution_count": null,
   "id": "1675240e",
   "metadata": {},
   "outputs": [],
   "source": [
    "point1.geom_type"
   ]
  },
  {
   "cell_type": "markdown",
   "id": "d6c32745",
   "metadata": {},
   "source": [
    "Extracting the coordinates of a `Point` can be done in a couple of different ways:\n",
    "\n",
    "- `coords` attribute contains the coordinate information as a `CoordinateSequence` (list) which is another data type related to Shapely\n",
    "- Using the attributes `x` and `y` to get the coordinates directly as plain decimal numbers"
   ]
  },
  {
   "cell_type": "code",
   "execution_count": null,
   "id": "79911401",
   "metadata": {},
   "outputs": [],
   "source": [
    "# Get xy coordinate tuple\n",
    "list(point1.coords)"
   ]
  },
  {
   "cell_type": "code",
   "execution_count": null,
   "id": "90d5efbd",
   "metadata": {},
   "outputs": [],
   "source": [
    "# Read x and y coordinates separately\n",
    "x = point1.x\n",
    "y = point1.y\n",
    "x, y"
   ]
  },
  {
   "cell_type": "markdown",
   "id": "5f921e94",
   "metadata": {},
   "source": [
    "It is also possible to calculate the distance between two objects using the `distance` method. In our example, the distance is calculated in a cartesian coordinate system. When working with real GIS data the distance is based on the used coordinate reference system. \n",
    "\n",
    "Let’s calculate the distance between `point1` and `point2`:"
   ]
  },
  {
   "cell_type": "code",
   "execution_count": null,
   "id": "b340f436",
   "metadata": {},
   "outputs": [],
   "source": [
    "# Calculate the distance between point1 and point2\n",
    "dist = point1.distance(point2)\n",
    "\n",
    "# Print out a nicely formatted info message\n",
    "print(f\"Distance between the points is {dist} units\")"
   ]
  },
  {
   "cell_type": "markdown",
   "id": "cb6dae08",
   "metadata": {},
   "source": [
    "<a id=\"linestring\"></a>\n",
    "## LineString\n",
    "Creating `LineString` objects is fairly similar to creating Shapely `Point`s.\n",
    "\n",
    "Now instead using a single coordinate-tuple we can construct the line using either a list of Shapely `Point` objects or pass the points as coordinate-tuples:"
   ]
  },
  {
   "cell_type": "code",
   "execution_count": null,
   "id": "7a62f7fc",
   "metadata": {},
   "outputs": [],
   "source": [
    "# Create a LineString from our Point objects\n",
    "line = LineString([point1, point2, point3])\n",
    "\n",
    "# It is also possible to produce the same outcome using coordinate tuples\n",
    "line2 = LineString([(2.2, 4.2), (7.2, -25.1), (9.26, -2.456)])\n",
    "\n",
    "# Check if lines are identical\n",
    "line == line2 "
   ]
  },
  {
   "cell_type": "code",
   "execution_count": null,
   "id": "116b4715",
   "metadata": {},
   "outputs": [],
   "source": [
    "# Check data type of the line object\n",
    "type(line)"
   ]
  },
  {
   "cell_type": "code",
   "execution_count": null,
   "id": "bfb5d16c",
   "metadata": {},
   "outputs": [],
   "source": [
    "# Check geometry type of the line object\n",
    "line.geom_type"
   ]
  },
  {
   "cell_type": "code",
   "execution_count": null,
   "id": "624545e2",
   "metadata": {},
   "outputs": [],
   "source": [
    "line"
   ]
  },
  {
   "cell_type": "code",
   "execution_count": null,
   "id": "6f09885a",
   "metadata": {},
   "outputs": [],
   "source": [
    "print(line)"
   ]
  },
  {
   "cell_type": "markdown",
   "id": "72a46bfa",
   "metadata": {},
   "source": [
    "### LineString attributes and functions\n",
    "`LineString` object has many useful built-in attributes and functionalities. It is for instance possible to extract the coordinates or the length of a `LineString` (line), calculate the centroid of the line, create points along the line at specific distance, calculate the closest distance from a line to specified `Point` and simplify the geometry. \n",
    "\n",
    "We can extract the coordinates of a `LineString` similarly as with `Point`:"
   ]
  },
  {
   "cell_type": "code",
   "execution_count": null,
   "id": "3cc19588",
   "metadata": {},
   "outputs": [],
   "source": [
    "# Get xy coordinate tuples\n",
    "list(line.coords)"
   ]
  },
  {
   "cell_type": "markdown",
   "id": "778e1416",
   "metadata": {},
   "source": [
    "If you would need to access all x-coordinates or all y-coordinates of the line, you can do it directly using the `xy` attribute:"
   ]
  },
  {
   "cell_type": "code",
   "execution_count": null,
   "id": "4c5369a0",
   "metadata": {},
   "outputs": [],
   "source": [
    "# Extract x and y coordinates separately\n",
    "xcoords = list(line.xy[0])\n",
    "ycoords = list(line.xy[1])\n",
    "\n",
    "print(xcoords)\n",
    "print(ycoords)"
   ]
  },
  {
   "cell_type": "markdown",
   "id": "61c3e97a",
   "metadata": {},
   "source": [
    "It is possible to retrieve specific attributes such as the `length` of the line and center of the line (`centroid`) straight from the `LineString` object itself:"
   ]
  },
  {
   "cell_type": "code",
   "execution_count": null,
   "id": "87d00f92",
   "metadata": {},
   "outputs": [],
   "source": [
    "# Get the lenght of the line\n",
    "l_length = line.length\n",
    "print(f\"Length of our line: {l_length} units\")"
   ]
  },
  {
   "cell_type": "code",
   "execution_count": null,
   "id": "210dc6b4",
   "metadata": {},
   "outputs": [],
   "source": [
    "# Get the centroid of the line\n",
    "print(line.centroid)"
   ]
  },
  {
   "cell_type": "markdown",
   "id": "74249f85",
   "metadata": {},
   "source": [
    "<a id=\"polygon\"></a>\n",
    "## Polygon\n",
    "Creating a `Polygon` object continues the same logic of how `Point` and `LineString` were created but `Polygon` object only accepts a sequence of coordinates as input.\n",
    "\n",
    "`Polygon` needs at least three coordinate-tuples (three points are reguired to form a surface):"
   ]
  },
  {
   "cell_type": "code",
   "execution_count": null,
   "id": "91be3eec",
   "metadata": {},
   "outputs": [],
   "source": [
    "# Create a Polygon from the coordinates\n",
    "poly = Polygon([(2.2, 4.2), (7.2, -25.1), (9.26, -2.456)])"
   ]
  },
  {
   "cell_type": "code",
   "execution_count": null,
   "id": "ee351038",
   "metadata": {},
   "outputs": [],
   "source": [
    "print(poly)"
   ]
  },
  {
   "cell_type": "code",
   "execution_count": null,
   "id": "9180f9d5",
   "metadata": {},
   "outputs": [],
   "source": [
    "poly.area"
   ]
  },
  {
   "cell_type": "code",
   "execution_count": null,
   "id": "efe40e8b",
   "metadata": {},
   "outputs": [],
   "source": [
    "# Data type\n",
    "type(poly)"
   ]
  },
  {
   "cell_type": "code",
   "execution_count": null,
   "id": "9ecfc8b4",
   "metadata": {},
   "outputs": [],
   "source": [
    "# Geometry type\n",
    "poly.geom_type"
   ]
  },
  {
   "cell_type": "code",
   "execution_count": null,
   "id": "561e792b",
   "metadata": {},
   "outputs": [],
   "source": [
    "poly"
   ]
  },
  {
   "cell_type": "markdown",
   "id": "962f7123",
   "metadata": {},
   "source": [
    "We can also use information from the Shapely `Point` objects created earlier, but we cannot use the `Point` objects directly. Instead, we need to get information of the $x,y$ coordinate pairs as a sequence. We can achieve this by using a list comprehension."
   ]
  },
  {
   "cell_type": "code",
   "execution_count": null,
   "id": "c5ebf891",
   "metadata": {},
   "outputs": [],
   "source": [
    "# Create a Polygon based on information from the Shapely points\n",
    "poly2 = Polygon([[p.x, p.y] for p in [point1, point2, point3]])"
   ]
  },
  {
   "cell_type": "code",
   "execution_count": null,
   "id": "8172481d",
   "metadata": {},
   "outputs": [],
   "source": [
    "poly2"
   ]
  },
  {
   "cell_type": "code",
   "execution_count": null,
   "id": "730c7942",
   "metadata": {},
   "outputs": [],
   "source": [
    "poly == poly2"
   ]
  },
  {
   "cell_type": "code",
   "execution_count": null,
   "id": "bc5bac18",
   "metadata": {},
   "outputs": [],
   "source": [
    "# Define the outer border\n",
    "border = [(-180, 90), (-180, -90), (180, -90), (180, 90)]"
   ]
  },
  {
   "cell_type": "code",
   "execution_count": null,
   "id": "48447ae0",
   "metadata": {},
   "outputs": [],
   "source": [
    "# Outer polygon\n",
    "world = Polygon(shell=border)\n",
    "print(world)"
   ]
  },
  {
   "cell_type": "code",
   "execution_count": null,
   "id": "296b735a",
   "metadata": {},
   "outputs": [],
   "source": [
    "world"
   ]
  },
  {
   "cell_type": "markdown",
   "id": "edf74823",
   "metadata": {},
   "source": [
    "### Polygon attributes and functions¶\n",
    "We can again access different attributes directly from the `Polygon` object itself that can be really useful for many analyses, such as `area`, `centroid`, bounding box (`bounds`), `exterior`, and exterior-length (`exterior.length`). \n",
    "\n",
    "Here, we can see a few of the available attributes and how to access them:"
   ]
  },
  {
   "cell_type": "code",
   "execution_count": null,
   "id": "31eb5a7f",
   "metadata": {},
   "outputs": [],
   "source": [
    "# Print the outputs\n",
    "print(f\"Polygon centroid: {world.centroid}\")\n",
    "print(f\"Polygon Area: {world.area}\")\n",
    "print(f\"Polygon Bounding Box: {world.bounds}\")\n",
    "print(f\"Polygon Exterior: {world.exterior}\")\n",
    "print(f\"Polygon Exterior Length: {world.exterior.length}\")"
   ]
  },
  {
   "cell_type": "markdown",
   "id": "6f01e978-db79-4fcf-bf03-c60f436d8c0d",
   "metadata": {},
   "source": [
    "<a id=\"geometrycollections\"></a>\n",
    "## Geometry collections\n",
    "In some occassions it is useful to store multiple geometries (for example, several points or several polygons) in a single feature. For example, when country is composed of several islands, the polygons share the same attributes on the country-level and it might be reasonable to store that country as geometry collection that contains all the polygons. The attribute table would then contain one row of information with country-level attributes, and the geometry related to those attributes would represent several polygons.\n",
    "\n",
    "In Shapely, collections of `Point`s are implemented by using a `MultiPoint` object, collections of `LineString`s by using a `MultiLineString` object, and collections of `Polygon`s by a `MultiPolygon` object."
   ]
  },
  {
   "cell_type": "code",
   "execution_count": null,
   "id": "af0e7593-b8cc-4fb4-9753-f8683864c591",
   "metadata": {},
   "outputs": [],
   "source": [
    "from shapely.geometry import Point, LineString, Polygon\n",
    "from shapely.geometry import MultiPoint, MultiLineString, MultiPolygon"
   ]
  },
  {
   "cell_type": "code",
   "execution_count": null,
   "id": "1f9f6e62-ff36-4f75-a619-c744774474db",
   "metadata": {},
   "outputs": [],
   "source": [
    "point1, point2, point3 = (2.2, 4.2), (7.2, -25.1), (9.26, -2.456)\n",
    "\n",
    "# Create a MultiPoint object of our points 1,2 and 3\n",
    "multi_point = MultiPoint([point1, point2, point3])\n",
    "\n",
    "# It is also possible to pass coordinate tuples inside\n",
    "multi_point2 = MultiPoint([(2.2, 4.2), (7.2, -25.1), (9.26, -2.456)])\n",
    "\n",
    "# We can also create a MultiLineString with two lines\n",
    "line1 = LineString([point1, point2])\n",
    "line2 = LineString([point2, point3])\n",
    "multi_line = MultiLineString([line1, line2])\n",
    "\n",
    "# Print object definitions\n",
    "print(multi_point)\n",
    "print(multi_line)"
   ]
  },
  {
   "cell_type": "code",
   "execution_count": null,
   "id": "60f2181d-85ad-4a7b-a5fd-6585fc5d3719",
   "metadata": {},
   "outputs": [],
   "source": [
    "multi_point"
   ]
  },
  {
   "cell_type": "code",
   "execution_count": null,
   "id": "8c9f0302-b86c-41a3-8159-7a961a76dc04",
   "metadata": {},
   "outputs": [],
   "source": [
    "multi_line"
   ]
  },
  {
   "cell_type": "markdown",
   "id": "2a4be3fc-a767-4697-a736-7dbd6c777bc1",
   "metadata": {},
   "source": [
    "`MultiPolygon`s are constructed in a similar manner. Let’s create a bounding box for “the world” by combining two separate polygons that represent the western and eastern hemispheres."
   ]
  },
  {
   "cell_type": "code",
   "execution_count": null,
   "id": "68fe6e72-f5a9-4829-936b-c814209d64a1",
   "metadata": {},
   "outputs": [],
   "source": [
    "# Let's create the exterior of the western part of the world\n",
    "west_exterior = [(-180, 90), (-180, -90), (0, -90), (0, 90)]\n",
    "\n",
    "# Let's create a hole --> remember there can be multiple holes, thus we need to have a list of hole(s). \n",
    "# Here we have just one.\n",
    "west_hole = [[(-170, 80), (-170, -80), (-10, -80), (-10, 80)]]\n",
    "\n",
    "# Create the Polygon\n",
    "west_poly = Polygon(shell=west_exterior, holes=west_hole)\n",
    "\n",
    "# Print object definition\n",
    "print(west_poly)"
   ]
  },
  {
   "cell_type": "code",
   "execution_count": null,
   "id": "671aa292-b389-4626-958d-43c26617d680",
   "metadata": {},
   "outputs": [],
   "source": [
    "west_poly"
   ]
  },
  {
   "cell_type": "markdown",
   "id": "d4c3a898-2220-448e-91c8-f0eb64892774",
   "metadata": {},
   "source": [
    "Shapely also has a tool for creating a bounding box based on minimum and maximum $x$ and $y$ coordinates. Instead of using the `Polygon` constructor, let’s use the box constructor for creating the polygon:"
   ]
  },
  {
   "cell_type": "code",
   "execution_count": null,
   "id": "acf96784-8003-4601-942d-467a458eacd4",
   "metadata": {},
   "outputs": [],
   "source": [
    "from shapely.geometry import box"
   ]
  },
  {
   "cell_type": "code",
   "execution_count": null,
   "id": "3e5f3efd-3255-4183-a80f-a55137d14c5d",
   "metadata": {},
   "outputs": [],
   "source": [
    "# Specify the bbox extent (lower-left corner coordinates and upper-right corner coordinates)\n",
    "min_x, min_y = 0, -90\n",
    "max_x, max_y = 180, 90\n",
    "\n",
    "# Create the polygon using Shapely\n",
    "east_poly = box(minx=min_x, miny=min_y, maxx=max_x, maxy=max_y)\n",
    "\n",
    "# Print object definition\n",
    "print(east_poly)"
   ]
  },
  {
   "cell_type": "code",
   "execution_count": null,
   "id": "d655d030-dbac-49d6-b9e9-2edc733c1823",
   "metadata": {},
   "outputs": [],
   "source": [
    "east_poly"
   ]
  },
  {
   "cell_type": "markdown",
   "id": "c77f4aeb-05cb-4da3-a294-41f7c58108a7",
   "metadata": {},
   "source": [
    "Finally, we can combine the two polygons into a `MultiPolygon`:"
   ]
  },
  {
   "cell_type": "code",
   "execution_count": null,
   "id": "7f2cd913-d950-46e4-8346-aa8b156131db",
   "metadata": {},
   "outputs": [],
   "source": [
    "# Let's create our MultiPolygon. We can pass multiple Polygon -objects into our MultiPolygon as a list\n",
    "multi_poly = MultiPolygon([west_poly, east_poly])\n",
    "\n",
    "# Print object definition\n",
    "print(multi_poly)"
   ]
  },
  {
   "cell_type": "code",
   "execution_count": null,
   "id": "72f718b3-1e21-4b63-959b-0d2642056612",
   "metadata": {},
   "outputs": [],
   "source": [
    "multi_poly"
   ]
  },
  {
   "cell_type": "markdown",
   "id": "c089622b-44ad-467d-be0a-d3278bd6e3e0",
   "metadata": {},
   "source": [
    "We can check if we have a \"valid\" `MultiPolygon`, i.e., if the individual polygons does notintersect with each other. Here, because the polygons have a common 0-meridian, we should NOT have a valid polygon. \n",
    "\n",
    "We can check the validity of an object from the `is_valid` attribute that tells if the polygons or lines intersect with each other. This can be really useful information when trying to find topological errors from your data:"
   ]
  },
  {
   "cell_type": "code",
   "execution_count": null,
   "id": "a7564706-88a4-4fd5-9aa5-f76e7c8dff0f",
   "metadata": {},
   "outputs": [],
   "source": [
    "print(f\"Is polygon valid?: {multi_poly.is_valid}\")"
   ]
  },
  {
   "cell_type": "markdown",
   "id": "54e3d8db-6ce6-49a6-9cca-71d732ff1498",
   "metadata": {},
   "source": [
    "### Convex hull and envelope\n",
    "Convex hull refers to the smalles possible polygon that contains all objects in a collection. Alongside with the minimum bounding box, convex hull is a useful shape when aiming to describe the extent of your data."
   ]
  },
  {
   "cell_type": "code",
   "execution_count": null,
   "id": "360187c0-306b-42d0-9739-065b53716e39",
   "metadata": {},
   "outputs": [],
   "source": [
    "# Check input geometry\n",
    "multi_point"
   ]
  },
  {
   "cell_type": "code",
   "execution_count": null,
   "id": "7f7cac37-2278-40f6-9744-998e7603e517",
   "metadata": {},
   "outputs": [],
   "source": [
    "# Convex Hull (smallest polygon around the geometry collection)\n",
    "multi_point.convex_hull"
   ]
  },
  {
   "cell_type": "code",
   "execution_count": null,
   "id": "4462acf6-e48c-4238-bd4f-81023635d732",
   "metadata": {},
   "outputs": [],
   "source": [
    "# Envelope (smalles rectangular polygon around the geometry collection): \n",
    "multi_point.envelope"
   ]
  },
  {
   "cell_type": "markdown",
   "id": "68352dfc-6ab2-4b8e-aea3-23f07ef83e98",
   "metadata": {},
   "source": [
    "<a id=\"practice\"></a>\n",
    "## Practice"
   ]
  },
  {
   "cell_type": "markdown",
   "id": "d2bdff55",
   "metadata": {},
   "source": [
    "### Practice 1\n",
    "Plot these shapes using Shapely!\n",
    "\n",
    "- Pentagon, example coords: $(30, 2.01), (31.91, 0.62), (31.18, -1.63), (28.82, -1.63), (28.09, 0.62)$\n",
    "- Triangle\n",
    "- Square\n",
    "- Circle"
   ]
  },
  {
   "cell_type": "code",
   "execution_count": null,
   "id": "1d72fb3b",
   "metadata": {},
   "outputs": [],
   "source": [
    "pentagon = Polygon([(30, 2.01), (31.91, 0.62), (31.18, -1.63), (28.82, -1.63), (28.09, 0.62)])\n",
    "pentagon"
   ]
  },
  {
   "cell_type": "code",
   "execution_count": null,
   "id": "af328399",
   "metadata": {},
   "outputs": [],
   "source": [
    "triangle = Polygon([(0,0), (1, 1), (1, 0)])\n",
    "triangle"
   ]
  },
  {
   "cell_type": "code",
   "execution_count": null,
   "id": "994d244a",
   "metadata": {},
   "outputs": [],
   "source": [
    "square = Polygon([(0,0), (0, 1), (1, 1), (1, 0)])\n",
    "square"
   ]
  },
  {
   "cell_type": "code",
   "execution_count": null,
   "id": "4e5e657a",
   "metadata": {},
   "outputs": [],
   "source": [
    "# Circle (using a buffer around a point)\n",
    "point = Point((0,0))\n",
    "point.buffer(1)"
   ]
  },
  {
   "cell_type": "markdown",
   "id": "c75d4087",
   "metadata": {},
   "source": [
    "### Practice 2"
   ]
  },
  {
   "cell_type": "markdown",
   "id": "ac9bd93d",
   "metadata": {},
   "source": [
    "In this problem you will create custom-made functions for creating geometries. We start with a very simple function, and proceed to creating functions that can handle invalid input values.\n",
    "\n",
    "1. Create a function called `create_point_geom()` that has two parameters (`x_coord`, `y_coord`). The function should create and return a shapely `Point` geometry object."
   ]
  },
  {
   "cell_type": "code",
   "execution_count": null,
   "id": "a8783fb0",
   "metadata": {},
   "outputs": [],
   "source": [
    "def create_point_geom(x_coord, y_coord):\n",
    "    return Point(x_coord, y_coord)"
   ]
  },
  {
   "cell_type": "markdown",
   "id": "4a2cb2f9",
   "metadata": {},
   "source": [
    "Test your function by running these code cells:"
   ]
  },
  {
   "cell_type": "code",
   "execution_count": null,
   "id": "0d6edffd",
   "metadata": {},
   "outputs": [],
   "source": [
    "# Demonstrate the usage of the function\n",
    "point1 = create_point_geom(0.0, 1.1)"
   ]
  },
  {
   "cell_type": "code",
   "execution_count": null,
   "id": "ae5c0506",
   "metadata": {},
   "outputs": [],
   "source": [
    "print(point1)\n",
    "print(point1.geom_type)"
   ]
  },
  {
   "cell_type": "markdown",
   "id": "cdbc641b",
   "metadata": {},
   "source": [
    "2. Create a function called `create_line_geom()` that takes a list of Shapely `Point` objects as parameter called points and returns a `LineString` object of those input points. In addition, you should take care that the function is used as it should:\n",
    "\n",
    "    - Inside the function, you should first check with `assert` functionality that the input is a list. If something else than a list is passed for the function, you should return an error message: `\"Input should be a list!\"`\n",
    "    - You should also check with `assert` that the input list contains at least two values. If not, return an error message: `\"LineString object requires at least two Points!\"`"
   ]
  },
  {
   "cell_type": "code",
   "execution_count": null,
   "id": "a519a165",
   "metadata": {},
   "outputs": [],
   "source": [
    "def create_line_geom(points_list):\n",
    "    assert isinstance(points_list, list), \"Input should be a list!\"\n",
    "    assert len(points_list) >= 2, \"LineString object requires at least two Points!\"\n",
    "    return LineString(points_list)"
   ]
  },
  {
   "cell_type": "code",
   "execution_count": null,
   "id": "145bd946",
   "metadata": {},
   "outputs": [],
   "source": [
    "create_line_geom([(1, 2), (2, 2)])"
   ]
  },
  {
   "cell_type": "markdown",
   "id": "9070db02",
   "metadata": {},
   "source": [
    "Create a line object with two points: `Point(45.2, 22.34)` and `Point(100.22, -3.20)` and store the result in a variable called `line1`:"
   ]
  },
  {
   "cell_type": "code",
   "execution_count": null,
   "id": "5f274266",
   "metadata": {},
   "outputs": [],
   "source": [
    "point1, point2 = Point(45.2, 22.34), Point(100.22, -3.20)\n",
    "line1 = create_line_geom([point1, point2])"
   ]
  },
  {
   "cell_type": "markdown",
   "id": "02950315",
   "metadata": {},
   "source": [
    "Run these code cells to check your solution:"
   ]
  },
  {
   "cell_type": "code",
   "execution_count": null,
   "id": "12251d5a",
   "metadata": {},
   "outputs": [],
   "source": [
    "print(line1)\n",
    "print(line1.geom_type)"
   ]
  },
  {
   "cell_type": "markdown",
   "id": "39d6f964",
   "metadata": {},
   "source": [
    "3. Create a function called `create_poly_geom()` that has one parameter called `coords`, which should containt a list of coordinate tuples. The function should create and return a `Polygon` object based on these coordinates.\n",
    "\n",
    "    - Inside the function, you should first check with `assert` that the input is a list. If something else than a list is passed for the function, you should return an error message: `\"Input should be a list!\"`\n",
    "    - You should also check with `assert` that the input list contains at least three values. If not, return an error message: `\"Polygon object requires at least three Points!\"`\n",
    "    - Check the data type of the objects in the input list. All values in the input list should be tuples. If not, return an error message: `\"All list values should be coordinate tuples!\"` using `assert`."
   ]
  },
  {
   "cell_type": "code",
   "execution_count": null,
   "id": "9798d5b0",
   "metadata": {},
   "outputs": [],
   "source": [
    "def create_poly_geom(coords):\n",
    "    assert isinstance(coords, list), \"Input should be a list!\"\n",
    "    assert len(coords) >= 3, \"Polygon object requires at least three Points!\"\n",
    "    for p in coords:\n",
    "        assert isinstance(p, tuple), \"All list values should be coordinate tuples!\" \n",
    "    return Polygon(coords)"
   ]
  },
  {
   "cell_type": "code",
   "execution_count": null,
   "id": "7ef6e8ae",
   "metadata": {},
   "outputs": [],
   "source": [
    "create_poly_geom([(1, 2), (2, 2), (3, 3), 4])"
   ]
  },
  {
   "cell_type": "markdown",
   "id": "68c25bde",
   "metadata": {},
   "source": [
    "Demonstrate the usage of the function. For example, create a `Polygon` with three points: `(45.2, 22.34)`, `(100.22, -3.20)`,  `(70.0, 10.20)`."
   ]
  },
  {
   "cell_type": "code",
   "execution_count": null,
   "id": "a1b7e453",
   "metadata": {},
   "outputs": [],
   "source": [
    "coords = [(45.2, 22.34), (100.22, -3.20), (70.0, 10.20)]\n",
    "poly1 = create_poly_geom(coords)"
   ]
  },
  {
   "cell_type": "code",
   "execution_count": null,
   "id": "87a7ebf6",
   "metadata": {},
   "outputs": [],
   "source": [
    "print(coords)\n",
    "print(poly1)\n",
    "print(poly1.geom_type)"
   ]
  },
  {
   "cell_type": "markdown",
   "id": "d5bf97ed",
   "metadata": {},
   "source": [
    "### Practice 3\n",
    "1. Create a function called `get_centroid()` that has one parameter called `geom`. The function should take any kind of Shapely's geometric object as an input, and return a centroid of that geometry. In addition, you should take care that the function is used as it should:\n",
    "\n",
    "    - Inside the function, you should first check with `assert` that the input is a Shapely `Point`, `LineString` or `Polygon` geometry. If something else than a list is passed for the function, you should return an error message: `\"Input should be a Shapely geometry!\"`"
   ]
  },
  {
   "cell_type": "code",
   "execution_count": null,
   "id": "5a0b3304",
   "metadata": {},
   "outputs": [],
   "source": [
    "def get_centroid(geom):\n",
    "    assert isinstance(geom, Point) or isinstance(geom, LineString) or isinstance(geom, Polygon), \"Input should be a Shapely geometry!\"\n",
    "    return geom.centroid"
   ]
  },
  {
   "cell_type": "markdown",
   "id": "faad8384",
   "metadata": {},
   "source": [
    "Test and demonstrate the usage of the function. You can, for example, create Shapely objects using the functions you created in the previous exercise and print out information about their centroids:"
   ]
  },
  {
   "cell_type": "code",
   "execution_count": null,
   "id": "7cb077d9",
   "metadata": {},
   "outputs": [],
   "source": [
    "point1, point2 = Point(45.2, 22.34), Point(100.22, -3.20)\n",
    "line1 = create_line_geom([point1, point2])\n",
    "print(get_centroid(line1))"
   ]
  },
  {
   "cell_type": "markdown",
   "id": "47f50a45",
   "metadata": {},
   "source": [
    "2. Create a function called `get_area()` with one parameter called `polygon`. Function should take a Shapely's `Polygon` object as input and returns the area of that geometry.\n",
    "\n",
    "    - Inside the function, you should first check with `assert` that the input is a Shapely `Polygon` geometry. If something else than a list is passed for the function, you should return an error message: `\"Input should be a Shapely Polygon object!\"`"
   ]
  },
  {
   "cell_type": "code",
   "execution_count": null,
   "id": "cb547d05",
   "metadata": {},
   "outputs": [],
   "source": [
    "def get_area(polygon):\n",
    "    return polygon.area"
   ]
  },
  {
   "cell_type": "code",
   "execution_count": null,
   "id": "bc0a2d27",
   "metadata": {},
   "outputs": [],
   "source": [
    "def create_poly_geom(coords):\n",
    "    assert isinstance(coords, list), \"Input should be a list!\"\n",
    "    assert len(coords) >= 3, \"Polygon object requires at least three Points!\"\n",
    "    for p in coords:\n",
    "        assert isinstance(p, tuple), \"All list values should be coordinate tuples!\" \n",
    "    return Polygon(shell=coords)"
   ]
  },
  {
   "cell_type": "code",
   "execution_count": null,
   "id": "a99edf3e",
   "metadata": {},
   "outputs": [],
   "source": [
    "points_list = [(-180, 90), (-180, -90), (180, -90), (180, 90)]\n",
    "poly1 = create_poly_geom(points_list)\n",
    "print(poly1)"
   ]
  },
  {
   "cell_type": "code",
   "execution_count": null,
   "id": "92eb2732",
   "metadata": {},
   "outputs": [],
   "source": [
    "poly1.area"
   ]
  },
  {
   "cell_type": "markdown",
   "id": "3f574435",
   "metadata": {},
   "source": [
    "3. Create a function called `get_length()` with parameter called `geom`. The function should accept either a Shapely `LineString` or `Polygon` object as input. Function should check the type of the input and returns the length of the line if input is `LineString` and length of the exterior ring if input is `Polygon`. If something else is passed to the function, you should return an error `\"'geom' should be either LineString or Polygon!\"`. (Use `assert`)."
   ]
  },
  {
   "cell_type": "code",
   "execution_count": null,
   "id": "a03b7f59",
   "metadata": {},
   "outputs": [],
   "source": [
    "def get_length(geom):\n",
    "    if isinstance(geom, LineString) or isinstance(geom, Polygon):\n",
    "        return geom.length\n",
    "    print(\"'geom' should be either LineString or Polygon!\")"
   ]
  },
  {
   "cell_type": "code",
   "execution_count": null,
   "id": "9efcc82d",
   "metadata": {},
   "outputs": [],
   "source": [
    "line_length = get_length(line1)\n",
    "print(\"Line length:\", round(line_length,2))"
   ]
  },
  {
   "cell_type": "code",
   "execution_count": null,
   "id": "55371ea5",
   "metadata": {},
   "outputs": [],
   "source": [
    "poly_exterior_length = get_length(poly1)\n",
    "print(\"Polygon exterior length:\", round(poly_exterior_length,2))"
   ]
  },
  {
   "cell_type": "markdown",
   "id": "3c32e45f",
   "metadata": {},
   "source": [
    "<a id=\"geopandas\"></a>\n",
    "# Geopandas\n",
    "\n",
    "[**Geopandas**](http://geopandas.org/) makes it possible to work with geospatial data in Python in a relatively easy way. Geopandas combines the capabilities of the data analysis library pandas with other packages like Shapely and fiona for managing spatial data.\n",
    "\n",
    "The main data structures in geopandas are `GeoSeries` and `GeoDataFrame` which extend the capabilities of `Series` and `DataFrame`s from pandas. This means that we can use all our pandas skills also when working with geopandas!\n",
    "\n",
    "The main difference between `GeoDataFrame`s and pandas `DataFrame`s is that a `GeoDataFrame` should contain one column for geometries. By default, the name of this column is `'geometry'`. The geometry column is a `GeoSeries` which contains the geometries (`Point`, `LineString`, `Polygon`) as shapely objects.\n",
    "\n",
    "![](https://autogis-site.readthedocs.io/en/latest/_images/geodataframe.png)"
   ]
  },
  {
   "cell_type": "code",
   "execution_count": null,
   "id": "facbd07a",
   "metadata": {},
   "outputs": [],
   "source": [
    "import geopandas as gpd"
   ]
  },
  {
   "cell_type": "markdown",
   "id": "6753f9df",
   "metadata": {},
   "source": [
    "<a id=\"readingshapefile\"></a>\n",
    "## Reading a Shapefile"
   ]
  },
  {
   "cell_type": "code",
   "execution_count": null,
   "id": "fbb1a87d",
   "metadata": {},
   "outputs": [],
   "source": [
    "fp = \"data/L2_data/NLS/2018/L4/L41/L4132R.shp/m_L4132R_p.shp\"\n",
    "# Read file using gpd.read_file()\n",
    "data = gpd.read_file(fp)\n",
    "data.head()"
   ]
  },
  {
   "cell_type": "code",
   "execution_count": null,
   "id": "ab5b56a2",
   "metadata": {},
   "outputs": [],
   "source": [
    "type(data)"
   ]
  },
  {
   "cell_type": "code",
   "execution_count": null,
   "id": "c9ea321e",
   "metadata": {},
   "outputs": [],
   "source": [
    "data.columns.values"
   ]
  },
  {
   "cell_type": "markdown",
   "id": "baccc40e",
   "metadata": {},
   "source": [
    "As you might guess, the column names are in Finnish. Let’s select only the useful columns and rename them into English:"
   ]
  },
  {
   "cell_type": "code",
   "execution_count": null,
   "id": "26cc1ef2",
   "metadata": {},
   "outputs": [],
   "source": [
    "data = data[['RYHMA', 'LUOKKA',  'geometry']]"
   ]
  },
  {
   "cell_type": "code",
   "execution_count": null,
   "id": "c296034d",
   "metadata": {},
   "outputs": [],
   "source": [
    "colnames = {'RYHMA':'GROUP', 'LUOKKA':'CLASS'}"
   ]
  },
  {
   "cell_type": "code",
   "execution_count": null,
   "id": "a9e9c07b",
   "metadata": {},
   "outputs": [],
   "source": [
    "data.rename(columns=colnames, inplace=True)"
   ]
  },
  {
   "cell_type": "code",
   "execution_count": null,
   "id": "ecfb5f4e",
   "metadata": {},
   "outputs": [],
   "source": [
    "data.head()"
   ]
  },
  {
   "cell_type": "markdown",
   "id": "2c3fa0e2",
   "metadata": {},
   "source": [
    "Here we see that our data variable is a `GeoDataFrame`. `GeoDataFrame` extends the functionalities of `pandas.DataFrame` in a way that it is possible to handle spatial data using similar approaches and datastructures as in pandas (hence the name geopandas)."
   ]
  },
  {
   "cell_type": "markdown",
   "id": "11cd334d",
   "metadata": {},
   "source": [
    "It is always a good idea to explore your data also on a map. Creating a simple map from a GeoDataFrame is really easy: you can use `.plot()` function from geopandas that creates a map based on the geometries of the data. Geopandas actually uses matplotlib for plotting."
   ]
  },
  {
   "cell_type": "code",
   "execution_count": null,
   "id": "2ea6eb66-3f4b-44cc-8397-6a033dac0f98",
   "metadata": {},
   "outputs": [],
   "source": [
    "import matplotlib.pyplot as plt"
   ]
  },
  {
   "cell_type": "code",
   "execution_count": null,
   "id": "4c25475f",
   "metadata": {},
   "outputs": [],
   "source": [
    "fig = plt.figure(figsize=(6, 6))\n",
    "ax = plt.axes()\n",
    "data.plot(ax=ax)"
   ]
  },
  {
   "cell_type": "markdown",
   "id": "80b38ddb",
   "metadata": {},
   "source": [
    "<a id=\"geometriesgeopandas\"></a>\n",
    "## Geometries in Geopandas\n",
    "Geopandas takes advantage of Shapely’s geometric objects. Geometries are stored in a column called geometry that is a default column name for storing geometric information in geopandas."
   ]
  },
  {
   "cell_type": "code",
   "execution_count": null,
   "id": "f79b7d56",
   "metadata": {},
   "outputs": [],
   "source": [
    "data['geometry'].head()"
   ]
  },
  {
   "cell_type": "markdown",
   "id": "7f874b93",
   "metadata": {},
   "source": [
    "The geometry column contains familiar looking values, namely Shapely `Polygon` objects. Since the spatial data is stored as Shapely objects, it is possible to use Shapely methods when dealing with geometries in geopandas."
   ]
  },
  {
   "cell_type": "code",
   "execution_count": null,
   "id": "2a0c38e1",
   "metadata": {},
   "outputs": [],
   "source": [
    "# Access the geometry on the first row of data\n",
    "data.at[0, \"geometry\"]"
   ]
  },
  {
   "cell_type": "code",
   "execution_count": null,
   "id": "b73168d6",
   "metadata": {},
   "outputs": [],
   "source": [
    "# Print information about the area \n",
    "print(\"Area:\", round(data.at[0, \"geometry\"].area, 0), \"square meters\")"
   ]
  },
  {
   "cell_type": "markdown",
   "id": "c9126a16",
   "metadata": {},
   "source": [
    "Iterate over the GeoDataFrame rows using the `iterrows()` function. For each row, print the area of the polygon:"
   ]
  },
  {
   "cell_type": "code",
   "execution_count": null,
   "id": "09b86766",
   "metadata": {
    "scrolled": true
   },
   "outputs": [],
   "source": [
    "for i, row in data.iterrows():\n",
    "    area = row['geometry'].area\n",
    "    print(\"Area:\", round(area, 0), \"square meters\")"
   ]
  },
  {
   "cell_type": "markdown",
   "id": "f7452c1a",
   "metadata": {},
   "source": [
    "As you see from here, all pandas methods, such as the `iterrows()` function, are directly available in Geopandas without the need to call pandas separately because Geopandas is an extension for pandas.\n",
    "\n",
    "In practice, it is not necessary to use the `iterrows()` approach to calculate the area for all features. Geodataframes and geoseries have an attribute area which we can use for accessing the area for each feature at once:"
   ]
  },
  {
   "cell_type": "code",
   "execution_count": null,
   "id": "b33f8586",
   "metadata": {},
   "outputs": [],
   "source": [
    "data.area"
   ]
  },
  {
   "cell_type": "markdown",
   "id": "25c9be7c",
   "metadata": {},
   "source": [
    "Let’s next create a new column into our GeoDataFrame where we calculate and store the areas of individual polygons:"
   ]
  },
  {
   "cell_type": "code",
   "execution_count": null,
   "id": "46462b65",
   "metadata": {},
   "outputs": [],
   "source": [
    "# Create a new column called 'area' \n",
    "data['area'] = data.area"
   ]
  },
  {
   "cell_type": "code",
   "execution_count": null,
   "id": "e33bdefe",
   "metadata": {},
   "outputs": [],
   "source": [
    "data.head()"
   ]
  },
  {
   "cell_type": "markdown",
   "id": "cc323f89",
   "metadata": {},
   "source": [
    "<a id=\"writingdata\"></a>\n",
    "## Writing data into a shapefile\n",
    "It is possible to export `GeoDataFrame`s into various data formats using the `to_file()` method. In our case, we want to export subsets of the data into Shapefiles (one file for each feature class).\n",
    "\n",
    "Let’s first select one class (class number 36200, “Lake water”) from the data as a new `GeoDataFrame`:"
   ]
  },
  {
   "cell_type": "code",
   "execution_count": null,
   "id": "73fd264f",
   "metadata": {},
   "outputs": [],
   "source": [
    "# Select a class\n",
    "selection = data.loc[data[\"CLASS\"]==36200]"
   ]
  },
  {
   "cell_type": "code",
   "execution_count": null,
   "id": "f0d84d35",
   "metadata": {},
   "outputs": [],
   "source": [
    "fig = plt.figure(figsize=(6, 6))\n",
    "ax = plt.axes()\n",
    "selection.plot(ax=ax)"
   ]
  },
  {
   "cell_type": "markdown",
   "id": "f8887167",
   "metadata": {},
   "source": [
    "write this layer into a new Shapefile using the `gpd.to_file()` function:"
   ]
  },
  {
   "cell_type": "code",
   "execution_count": null,
   "id": "4f2817d5",
   "metadata": {},
   "outputs": [],
   "source": [
    "# Create a output path for the data\n",
    "output_fp = \"created_files/Class_36200.shp\"\n",
    "# Write those rows into a new file (the default output file format is Shapefile)\n",
    "selection.to_file(output_fp)"
   ]
  },
  {
   "cell_type": "code",
   "execution_count": null,
   "id": "e7f93267",
   "metadata": {},
   "outputs": [],
   "source": [
    "temp = gpd.read_file(output_fp)\n",
    "temp.head()"
   ]
  },
  {
   "cell_type": "code",
   "execution_count": null,
   "id": "256cc0fd",
   "metadata": {},
   "outputs": [],
   "source": [
    "data.to_file('created_files/Class_36200.geojson', driver='GeoJSON')"
   ]
  },
  {
   "cell_type": "code",
   "execution_count": null,
   "id": "6bdd546b",
   "metadata": {},
   "outputs": [],
   "source": [
    "temp = gpd.read_file('created_files/Class_36200.geojson')\n",
    "temp.head()"
   ]
  },
  {
   "cell_type": "code",
   "execution_count": null,
   "id": "28f9de73",
   "metadata": {},
   "outputs": [],
   "source": [
    "import geopandas as gpd\n",
    "from fiona.drvsupport import supported_drivers\n",
    "\n",
    "# Check supported format drivers\n",
    "supported_drivers"
   ]
  },
  {
   "cell_type": "markdown",
   "id": "7f352fd4-549f-4c15-b49b-9f7deecbec28",
   "metadata": {},
   "source": [
    "<a id=\"practicegeopandas\"></a>\n",
    "## Practice"
   ]
  },
  {
   "cell_type": "markdown",
   "id": "b6149899",
   "metadata": {},
   "source": [
    "### Practice 4: Points to map\n",
    "The aim is to plot a map based on a set of longitude and latitude coordinates that are stored in a csv file. The coordinates are in WGS84 decimal degrees (`EPSG:4326`), and the data is stored in `some_posts.csv` comma separated file in the folder data.\n",
    "\n",
    "1. Import the needed modules\n",
    "    - Read the data from `some_posts.csv` into a pandas `DataFrame` called `data`\n",
    "    - Create an empty column called `geometry` where you will store shapely `Point` objects\n",
    "    - Insert `Point` objects into the column `geometry` based on the coordinate columns"
   ]
  },
  {
   "cell_type": "code",
   "execution_count": null,
   "id": "cdf55154",
   "metadata": {},
   "outputs": [],
   "source": [
    "import pandas as pd\n",
    "import geopandas as gpd"
   ]
  },
  {
   "cell_type": "code",
   "execution_count": null,
   "id": "ea67c335",
   "metadata": {},
   "outputs": [],
   "source": [
    "df = pd.read_csv('data/some_posts.csv')\n",
    "df.head()"
   ]
  },
  {
   "cell_type": "code",
   "execution_count": null,
   "id": "8ec345be",
   "metadata": {},
   "outputs": [],
   "source": [
    "df['geometry'] = None"
   ]
  },
  {
   "cell_type": "code",
   "execution_count": null,
   "id": "1dff75df",
   "metadata": {},
   "outputs": [],
   "source": [
    "df.head()"
   ]
  },
  {
   "cell_type": "code",
   "execution_count": null,
   "id": "fe9c3dd9",
   "metadata": {},
   "outputs": [],
   "source": [
    "points = []\n",
    "for i, row in df.iterrows():\n",
    "    points.append(Point(row['lat'], row['lon']))\n",
    "df['geometry'] = gpd.GeoSeries(points)"
   ]
  },
  {
   "cell_type": "code",
   "execution_count": null,
   "id": "81c0c456",
   "metadata": {},
   "outputs": [],
   "source": [
    "df.head()"
   ]
  },
  {
   "cell_type": "markdown",
   "id": "139242fd",
   "metadata": {},
   "source": [
    "Next:\n",
    "- Convert that `DataFrame` into a `GeoDataFrame` using the `geopandas.GeoDataFrame` constructor\n",
    "- Update the CRS for coordinate system as WGS84 (i.e. epsg code: 4326)\n",
    "- Save the data into a Shapefile called `Kruger_posts.shp`"
   ]
  },
  {
   "cell_type": "code",
   "execution_count": null,
   "id": "8d82204e",
   "metadata": {},
   "outputs": [],
   "source": [
    "data = gpd.GeoDataFrame(df)\n",
    "data.crs = 'epsg: 4326'\n",
    "print(type(data))"
   ]
  },
  {
   "cell_type": "code",
   "execution_count": null,
   "id": "92c73d74",
   "metadata": {},
   "outputs": [],
   "source": [
    "data.to_file('created_files/Kruger_posts.shp')"
   ]
  },
  {
   "cell_type": "markdown",
   "id": "709745b4",
   "metadata": {},
   "source": [
    "Finally:\n",
    "- Create a simple map of the points using the `plot()` function."
   ]
  },
  {
   "cell_type": "code",
   "execution_count": null,
   "id": "d638a04f",
   "metadata": {},
   "outputs": [],
   "source": [
    "fig = plt.figure(figsize=(6, 6))\n",
    "ax = plt.axes()\n",
    "data.plot(ax=ax)"
   ]
  },
  {
   "cell_type": "markdown",
   "id": "ec011e0b",
   "metadata": {},
   "source": [
    "<a id=\"scikitmobility\"></a>\n",
    "# scikit-mobility\n",
    "\n",
    "![GitHub Repo stars](https://img.shields.io/github/stars/scikit-mobility/scikit-mobility?style=social)\n",
    "![GitHub](https://img.shields.io/github/license/scikit-mobility/scikit-mobility)\n",
    "![GitHub release (latest by date)](https://img.shields.io/github/v/release/scikit-mobility/scikit-mobility)\n",
    "\n",
    "[**scikit-mobility**](https://github.com/scikit-mobility/scikit-mobility) is a python library that provides scientists and practitioners with an environment to:\n",
    "\n",
    "1. load and represent mobility data, both at the individual and the collective level, through easy-to-use data structures\n",
    "(`TrajDataFrame` and `FlowDataFrame`); \n",
    "2. visualize trajectories and flows on interactive maps;\n",
    "3. clean and preprocess mobility data using state-of-the-art techniques, such as trajectory clustering, compression, segmentation, and filtering;\n",
    "4. analyze mobility data by using the main measures characterizing mobility patterns both at the individual and at the collective level, such as the computation of travel and characteristic distances, object and location entropies, location frequencies, waiting times, origin-destination matrices, and more;\n",
    "4. run the most popular mechanistic generative models to simulate individual mobility, such as the Exploration and Preferential Return model (EPR) and its variants, and commuting and migratory flows, such as the Gravity\n",
    "Model and the Radiation Model;\n",
    "5. estimate the privacy risk associated with the analysis of a given mobility dataset through the simulation of the reidentification risk associated with a vast repertoire of privacy attacks.\n",
    "\n",
    "- scikit-mobility is publicly available on GitHub at the following link: https://scikit-mobility.github.io/scikit-mobility/. \n",
    "\n",
    "- the documentation describing all the classes and functions of scikit-mobility\n",
    "is available at https://scikit-mobility.github.io/scikit-mobility/.\n",
    "\n",
    "The paper describing scikit-mobility may be found at: https://www.jstatsoft.org/article/view/v103i04"
   ]
  },
  {
   "cell_type": "code",
   "execution_count": null,
   "id": "e0047aad",
   "metadata": {},
   "outputs": [],
   "source": [
    "# import the library\n",
    "import skmob\n",
    "\n",
    "skmob.__version__\n",
    "\n",
    "import pandas as pd\n",
    "import geopandas as gpd"
   ]
  },
  {
   "cell_type": "markdown",
   "id": "6acb6115-aa1c-4e35-ab7b-fee5315da263",
   "metadata": {},
   "source": [
    "<a id=\"datastructures\"></a>\n",
    "## Data Structures\n",
    "\n",
    "scikit-mobility provides two data structures to deal with raw trajectories and flows between places: \n",
    "- `TrajDataFrame`, for spatio-temporal trajectories; \n",
    "- `FlowDataFrame`, for mobility flows.\n",
    "\n",
    "Both the data structures are an extension of the DataFrame implemented in the data analysis library [pandas](https://pandas.pydata.org/). Thus, both `TrajDataFrame`\n",
    "and `FlowDataFrame` inherit all the functionalities provided by the `DataFrame` as well as all the efficient optimizations for reading and writing tabular data (e.g., mobility datasets). \n",
    "\n",
    "The current version of the library is designed to work with the latitude and longitude system (`epsg:4326`). Therefore, the Haversine formula is used by default when the library’s functions compute distances. "
   ]
  },
  {
   "cell_type": "markdown",
   "id": "9b2b00f0",
   "metadata": {},
   "source": [
    "<a id=\"trajdataframe\"></a>\n",
    "### The `TrajDataFrame`\n",
    "\n",
    "Mobility data describe the movements of a set of objects during a period of observation. The objects may represent individuals, private vehicles, boats, and even players on a sports field. \n",
    "\n",
    "Mobility data are generally collected in an automatic way as a by-product of human activity on electronic devices (e.g., mobile phones, GPS devices, social\n",
    "networking platforms, video cameras) and stored as trajectories, a temporally ordered sequence of spatio-temporal points where an object stopped in or went through. \n",
    "\n",
    "A `TrajDataFrame` is an extension of the pandas DataFrame that has specific columns names and data types. Each row in a `TrajDataFrame` describes a trajectory's point and contains the following columns:\n",
    "\n",
    "- `lat` - latitude of the point\n",
    "- `lng` - longitude of the point\n",
    "- `datetime` - date and time of the point\n",
    "\n",
    "For multi-user data sets, there are two optional columns:\n",
    "\n",
    "- `uid` - user's identifier to which the trajectory belongs to\n",
    "- `tid` - identifier for the trajectory\n",
    "\n",
    "\n",
    "#### Creating a `TrajDataFrame`\n",
    "\n",
    "A `TrajDataFrame` can be created from:\n",
    "\n",
    "- a python list or numpy array\n",
    "- a python dictionary\n",
    "- a pandas DataFrame\n",
    "- a text file"
   ]
  },
  {
   "cell_type": "markdown",
   "id": "46d5edec",
   "metadata": {},
   "source": [
    "#### From a python list"
   ]
  },
  {
   "cell_type": "code",
   "execution_count": null,
   "id": "0434b67f",
   "metadata": {},
   "outputs": [],
   "source": [
    "# From a list\n",
    "data_list = [[1, 39.984094, 116.319236, '2008-10-23 13:53:05'],\n",
    "             [1, 39.984198, 116.319322, '2008-10-23 13:53:06'],\n",
    "             [1, 39.984224, 116.319402, '2008-10-23 13:53:11'],\n",
    "             [1, 39.984211, 116.319389, '2008-10-23 13:53:16']]\n",
    "data_list"
   ]
  },
  {
   "cell_type": "code",
   "execution_count": null,
   "id": "a79a0a59",
   "metadata": {},
   "outputs": [],
   "source": [
    "type(data_list)"
   ]
  },
  {
   "cell_type": "markdown",
   "id": "ada0c4e3",
   "metadata": {},
   "source": [
    "We must set the indexes of the mandatory columns using arguments `latitude`, `longitude` and `datetime`."
   ]
  },
  {
   "cell_type": "code",
   "execution_count": null,
   "id": "201619ec",
   "metadata": {},
   "outputs": [],
   "source": [
    "tdf = skmob.TrajDataFrame(data_list, \n",
    "                          latitude=1, longitude=2, \n",
    "                          datetime=3)\n",
    "print(type(tdf))\n",
    "tdf"
   ]
  },
  {
   "cell_type": "markdown",
   "id": "bfa1f8ee",
   "metadata": {},
   "source": [
    "##### From a pandas DataFrame"
   ]
  },
  {
   "cell_type": "code",
   "execution_count": null,
   "id": "448d5077",
   "metadata": {},
   "outputs": [],
   "source": [
    "# build a dataframe from the 2D list\n",
    "data_df = pd.DataFrame(data_list, columns=['user', 'lat', 'lng', 'hour'])\n",
    "print(type(data_df)) # type of the structure\n",
    "data_df.head() # head of the DataFrame"
   ]
  },
  {
   "cell_type": "markdown",
   "id": "19cf906c",
   "metadata": {},
   "source": [
    "Note that:\n",
    "\n",
    "- the name of columns in `data_df` do not match the names required\n",
    "- you must specify the names of the mandatory columns using arguments `latitude`, `longitude` and `datetime`"
   ]
  },
  {
   "cell_type": "code",
   "execution_count": null,
   "id": "3fb80fc9",
   "metadata": {},
   "outputs": [],
   "source": [
    "# Create a TrajDataFrame from a DataFrame\n",
    "tdf = skmob.TrajDataFrame(data_df, datetime='hour', user_id='user')\n",
    "print(type(tdf))\n",
    "tdf.head()"
   ]
  },
  {
   "cell_type": "markdown",
   "id": "fb01cabb",
   "metadata": {},
   "source": [
    "Columns of a `TrajDataFrame` have specific types"
   ]
  },
  {
   "cell_type": "code",
   "execution_count": null,
   "id": "c5bbe105",
   "metadata": {},
   "outputs": [],
   "source": [
    "# In the DataFrame\n",
    "print(type(data_df))\n",
    "data_df.dtypes"
   ]
  },
  {
   "cell_type": "code",
   "execution_count": null,
   "id": "a7516091",
   "metadata": {
    "scrolled": true
   },
   "outputs": [],
   "source": [
    "print(type(tdf)) # In the TrajDataFrame\n",
    "tdf.dtypes"
   ]
  },
  {
   "cell_type": "code",
   "execution_count": null,
   "id": "2712659b",
   "metadata": {},
   "outputs": [],
   "source": [
    "tdf['lat'].head()"
   ]
  },
  {
   "cell_type": "markdown",
   "id": "4c2bc310",
   "metadata": {},
   "source": [
    "##### From an URL"
   ]
  },
  {
   "cell_type": "code",
   "execution_count": null,
   "id": "64a52b05",
   "metadata": {},
   "outputs": [],
   "source": [
    "# create a TrajDataFrame from a dataset of trajectories \n",
    "url = \"https://github.com/scikit-mobility/tutorials/raw/master/mda_masterbd2020/data/geolife_sample.txt.gz\"\n",
    "tdf = skmob.TrajDataFrame.from_file(url)\n",
    "print(type(tdf))\n",
    "tdf.head()"
   ]
  },
  {
   "cell_type": "markdown",
   "id": "f8d91749",
   "metadata": {},
   "source": [
    "#### Attributes of a TrajDataFrame\n",
    "- `crs`: the coordinate reference system. Default: epsg:4326 (lat/long)\n",
    "- `parameters`: dictionary to add as many as necessary additional properties"
   ]
  },
  {
   "cell_type": "code",
   "execution_count": null,
   "id": "a9b9ad96",
   "metadata": {},
   "outputs": [],
   "source": [
    "## wsg84 datum\n",
    "print(tdf.crs)\n",
    "print(tdf.parameters)"
   ]
  },
  {
   "cell_type": "code",
   "execution_count": null,
   "id": "b0492fa3",
   "metadata": {},
   "outputs": [],
   "source": [
    "# add your own parameter\n",
    "tdf.parameters['analyzed'] = 1\n",
    "tdf.parameters"
   ]
  },
  {
   "cell_type": "code",
   "execution_count": null,
   "id": "afa4db8b",
   "metadata": {
    "scrolled": true
   },
   "outputs": [],
   "source": [
    "### Visualizing a `TrajDataFrame`\n",
    "tdf.plot_trajectory()"
   ]
  },
  {
   "cell_type": "markdown",
   "id": "5c45b88b",
   "metadata": {},
   "source": [
    "<a id=\"tessellation\"></a>\n",
    "### Tessellation\n",
    "In mobility tasks, the geography is often discretized by mapping the coordinates to a *tessellation*, i.e., a covering of the\n",
    "bi-dimensional space using a countable number of geometric shapes (e.g., squares, hexagons), called tiles, with no overlaps\n",
    "and no gaps. \n",
    "\n",
    "For instance, for the analysis or prediction of mobility flows, a spatial tessellation is used to aggregate flows of people moving among locations (the tiles of the tessellation). \n",
    "\n",
    "#### Creating tessellations given a city name and a tile size\n",
    "\n",
    "##### Squared tessellations"
   ]
  },
  {
   "cell_type": "code",
   "execution_count": null,
   "id": "6997ddb3",
   "metadata": {},
   "outputs": [],
   "source": [
    "from skmob.tessellation.tilers import tiler\n",
    "from skmob.utils.plot import plot_gdf"
   ]
  },
  {
   "cell_type": "code",
   "execution_count": null,
   "id": "02e99ddc",
   "metadata": {},
   "outputs": [],
   "source": [
    "tess_squared = tiler.get('squared', base_shape='Florence, Italy', meters=1000)\n",
    "print(\"tiles = %s\" %len(tess_squared))\n",
    "tess_squared.head()"
   ]
  },
  {
   "cell_type": "code",
   "execution_count": null,
   "id": "16f50a36",
   "metadata": {},
   "outputs": [],
   "source": [
    "plot_gdf(tess_squared, zoom=11)"
   ]
  },
  {
   "cell_type": "code",
   "execution_count": null,
   "id": "5600be80",
   "metadata": {},
   "outputs": [],
   "source": [
    "tess_squared = tiler.get('squared', base_shape='Florence, Italy', meters=200)\n",
    "print(\"tiles = %s\" %len(tess_squared))\n",
    "tess_squared.head()"
   ]
  },
  {
   "cell_type": "code",
   "execution_count": null,
   "id": "ac68bf95",
   "metadata": {},
   "outputs": [],
   "source": [
    "plot_gdf(tess_squared, zoom=11)"
   ]
  },
  {
   "cell_type": "markdown",
   "id": "c3d335be",
   "metadata": {},
   "source": [
    "##### Hexagonal tessellation"
   ]
  },
  {
   "cell_type": "code",
   "execution_count": null,
   "id": "04a2a5d6",
   "metadata": {},
   "outputs": [],
   "source": [
    "tess_h3 = tiler.get('h3_tessellation', base_shape='Florence, Italy', meters=1000)\n",
    "print(\"tiles = %s\" %len(tess_h3))\n",
    "tess_h3.head()"
   ]
  },
  {
   "cell_type": "code",
   "execution_count": null,
   "id": "d22b64e2",
   "metadata": {},
   "outputs": [],
   "source": [
    "plot_gdf(tess_h3, zoom=11)"
   ]
  },
  {
   "cell_type": "code",
   "execution_count": null,
   "id": "f0683fd6",
   "metadata": {},
   "outputs": [],
   "source": [
    "tess_h3 = tiler.get('h3_tessellation', base_shape='Florence, Italy', meters=200)\n",
    "print(\"tiles = %s\" %len(tess_h3))\n",
    "tess_h3.head()"
   ]
  },
  {
   "cell_type": "code",
   "execution_count": null,
   "id": "4a5a3c6d",
   "metadata": {},
   "outputs": [],
   "source": [
    "plot_gdf(tess_h3, zoom=11)"
   ]
  },
  {
   "cell_type": "markdown",
   "id": "e6cdf445",
   "metadata": {},
   "source": [
    "##### Voronoi tessellations"
   ]
  },
  {
   "cell_type": "code",
   "execution_count": null,
   "id": "b0a59116",
   "metadata": {},
   "outputs": [],
   "source": [
    "%matplotlib inline\n",
    "import matplotlib.pyplot as plt\n",
    "from scipy.spatial import Voronoi,voronoi_plot_2d\n",
    "from geovoronoi import voronoi_regions_from_coords, points_to_coords\n",
    "import numpy as np\n",
    "import random\n",
    "from shapely.geometry import Polygon, Point\n",
    "import folium"
   ]
  },
  {
   "cell_type": "code",
   "execution_count": null,
   "id": "cc4b84f9",
   "metadata": {},
   "outputs": [],
   "source": [
    "def get_convex_hull(tess):\n",
    "    polygon = tess.at[0, 'geometry']\n",
    "    for tile in tess['geometry']:\n",
    "        polygon = polygon.union(tile)\n",
    "    return polygon.convex_hull"
   ]
  },
  {
   "cell_type": "code",
   "execution_count": null,
   "id": "30d5e2e9",
   "metadata": {},
   "outputs": [],
   "source": [
    "poly_ch = get_convex_hull(tess_squared)\n",
    "print(type(poly_ch))\n",
    "poly_ch"
   ]
  },
  {
   "cell_type": "code",
   "execution_count": null,
   "id": "cd75a299",
   "metadata": {},
   "outputs": [],
   "source": [
    "# Defining the randomization generator\n",
    "def polygon_random_points(poly, num_points):\n",
    "    min_x, min_y, max_x, max_y = poly.bounds\n",
    "    points = []\n",
    "    while len(points) < num_points:\n",
    "        random_point = Point([random.uniform(min_x, max_x), random.uniform(min_y, max_y)])\n",
    "        if (random_point.within(poly)):\n",
    "            points.append([random_point.x, random_point.y])\n",
    "    return np.array(points)"
   ]
  },
  {
   "cell_type": "code",
   "execution_count": null,
   "id": "7738c8b0",
   "metadata": {},
   "outputs": [],
   "source": [
    "# Choose the number of points desired. This example uses 20 points. \n",
    "points = polygon_random_points(poly_ch, 5)\n",
    "points[:10]"
   ]
  },
  {
   "cell_type": "code",
   "execution_count": null,
   "id": "0c6ccb5b",
   "metadata": {},
   "outputs": [],
   "source": [
    "def to_GeoDataFrame(region_polys):\n",
    "    name=[]\n",
    "    for i in range(1, len(region_polys) + 1):\n",
    "        name.append('cell ' + str(i))\n",
    "    gdf = gpd.GeoDataFrame(columns=['name','geometry'], crs={'init': 'epsg:4326'})\n",
    "    gdf['name'] = name\n",
    "    for index, row in gdf.iterrows():\n",
    "        gdf.at[index, 'geometry'] = region_polys[index]\n",
    "    return gdf\n",
    "\n",
    "\n",
    "def get_voronoi_tessellation(poly_ch, points):\n",
    "    vor = Voronoi(points, qhull_options='Qbb Qc Qx')\n",
    "    #fig = voronoi_plot_2d(vor)\n",
    "    #plt.show()\n",
    "    region_polys, region_pts = voronoi_regions_from_coords(points, poly_ch)\n",
    "    tess_voronoi = to_GeoDataFrame(region_polys)\n",
    "    return tess_voronoi"
   ]
  },
  {
   "cell_type": "code",
   "execution_count": null,
   "id": "3cb33672",
   "metadata": {},
   "outputs": [],
   "source": [
    "tess_voronoi = get_voronoi_tessellation(poly_ch, points)\n",
    "tess_voronoi.head()"
   ]
  },
  {
   "cell_type": "code",
   "execution_count": null,
   "id": "9282ce93",
   "metadata": {},
   "outputs": [],
   "source": [
    "plot_gdf(tess_voronoi, zoom=12)"
   ]
  },
  {
   "cell_type": "markdown",
   "id": "96e6e587",
   "metadata": {},
   "source": [
    "<a id=\"flowdataframe\"></a>\n",
    "### The `FlowDataFrame`\n",
    "\n",
    "Origin-destination matrices, aka *flows*, are another common representation of mobility data. While trajectories refer to movements of single objects, flows refer to aggregated movements of objects between a set of locations. An example of flows is the daily commuting flows between the neighbourhoods of a city.\n",
    "\n",
    "In scikit-mobility, an origin-destination matrix is described by a `FlowDataFrame`, an extension of the pandas DataFrame that has specific column names and data types. \n",
    "\n",
    "A row in a `FlowDataFrame` represents a flow of objects between two locations, described by three mandatory columns: \n",
    "- `origin` (any type), \n",
    "- `destination` (any type),\n",
    "- `flow` (type: integer). \n",
    "\n",
    "In mobility tasks, the geography is often discretized by mapping the coordinates to a *tessellation*, i.e., a covering of the\n",
    "bi-dimensional space using a countable number of geometric shapes (e.g., squares, hexagons), called tiles, with no overlaps\n",
    "and no gaps. \n",
    "\n",
    "For instance, for the analysis or prediction of mobility flows, a spatial tessellation is used to aggregate flows of people moving among locations (the tiles of the tessellation). \n",
    "\n",
    "For this reason, each `FlowDataFrame` is associated with a spatial tessellation, a [geopandas](https://geopandas.org/) GeoDataFrame that contains two mandatory columns: \n",
    "- `tile_ID` (any type) indicates the identifier of\n",
    "a location; \n",
    "- `geometry` indicates the geometric shape that describes the location on a territory (e.g., a square, an hexagon, the shape of a neighborhood).\n",
    "\n",
    "Each location identifier in the origin and destination columns of a `FlowDataFrame` must be present in the associated spatial tessellation. Otherwise, the library raises an exception. \n",
    "\n",
    "Similarly, scikit-mobility raises an exception if the type of the `origin` and `destination` columns in the `FlowDataFrame` and the type of\n",
    "the `tile_ID` column in the associated tessellation are different.\n",
    "\n",
    "#### Creating a `FlowDataFrame`\n",
    "\n",
    "Each `FlowDataFrame` goes in companion with a spatial tessellation. So, we must first create/upload a spatial tessellation, which as geopandas GeoDataFrame.\n",
    "\n"
   ]
  },
  {
   "cell_type": "code",
   "execution_count": null,
   "id": "dd1fccc1",
   "metadata": {},
   "outputs": [],
   "source": [
    "url = \"https://raw.githubusercontent.com/scikit-mobility/tutorials/master/mda_masterbd2020/data/NY_counties_2011.geojson\"\n",
    "tessellation = gpd.read_file(url) # load a tessellation\n",
    "tessellation.head()"
   ]
  },
  {
   "cell_type": "code",
   "execution_count": null,
   "id": "c1d2c0ff",
   "metadata": {},
   "outputs": [],
   "source": [
    "plot_gdf(tessellation, zoom=6)"
   ]
  },
  {
   "cell_type": "markdown",
   "id": "ae32ae92",
   "metadata": {},
   "source": [
    "#### Tip\n",
    "Once you have a `GeoDataFrame` or a `GeoSeries` (i.e., just the `geometry` column), you can construct a squared tessellation on it.\n",
    "(There's a bug instead for the h3 tessellation)."
   ]
  },
  {
   "cell_type": "code",
   "execution_count": null,
   "id": "5aa94d47-5def-448a-84e9-2517f048d7cc",
   "metadata": {},
   "outputs": [],
   "source": [
    "ny_tess_squared = tiler.get('squared', base_shape=tessellation, meters=10000)\n",
    "print(\"tiles = %s\" %len(ny_tess_squared))\n",
    "ny_tess_squared.head()"
   ]
  },
  {
   "cell_type": "code",
   "execution_count": null,
   "id": "2a94db85-e0ca-4210-801e-10b31676828b",
   "metadata": {},
   "outputs": [],
   "source": [
    "plot_gdf(ny_tess_squared, zoom=7)"
   ]
  },
  {
   "cell_type": "markdown",
   "id": "1ba74d66-621d-4b17-8cee-f17d88a8f5de",
   "metadata": {},
   "source": [
    "Then, we can create a `FlowDataFrame` from a file/url, specifying the spatial tessellation it refers to using argument `tessellation`. \n",
    "\n",
    "Also, you must specify the name of the column in the tessellation `GeoDataFrame` containing the identifier of the locations."
   ]
  },
  {
   "cell_type": "code",
   "execution_count": null,
   "id": "ab05626c",
   "metadata": {},
   "outputs": [],
   "source": [
    "url = \"https://github.com/scikit-mobility/tutorials/raw/master/mda_masterbd2020/data/NY_commuting_flows_2011.csv\"\n",
    "fdf = skmob.FlowDataFrame.from_file(url, tessellation=tessellation, tile_id='tile_id')\n",
    "fdf.head()"
   ]
  },
  {
   "cell_type": "code",
   "execution_count": null,
   "id": "49f3ab0f",
   "metadata": {},
   "outputs": [],
   "source": [
    "fdf.dtypes"
   ]
  },
  {
   "cell_type": "code",
   "execution_count": null,
   "id": "6caa419a",
   "metadata": {},
   "outputs": [],
   "source": [
    "type(fdf)"
   ]
  },
  {
   "cell_type": "markdown",
   "id": "b90efa96",
   "metadata": {},
   "source": [
    "You can access the spatial tessellation associated with the created `FlowDataFrame` using the attribute `.tessellation`."
   ]
  },
  {
   "cell_type": "code",
   "execution_count": null,
   "id": "e0b2c069",
   "metadata": {},
   "outputs": [],
   "source": [
    "# The tessellation is an attribute of the FlowDataFrame\n",
    "fdf.tessellation.head()"
   ]
  },
  {
   "cell_type": "code",
   "execution_count": null,
   "id": "2da0a19e",
   "metadata": {},
   "outputs": [],
   "source": [
    "fdf['origin'].unique()"
   ]
  },
  {
   "cell_type": "code",
   "execution_count": null,
   "id": "f48eb651",
   "metadata": {},
   "outputs": [],
   "source": [
    "tessellation['tile_id'].unique()"
   ]
  },
  {
   "cell_type": "code",
   "execution_count": null,
   "id": "f44a9632",
   "metadata": {},
   "outputs": [],
   "source": [
    "fdf.plot_flows()"
   ]
  },
  {
   "cell_type": "code",
   "execution_count": null,
   "id": "c582b476",
   "metadata": {},
   "outputs": [],
   "source": [
    "fdf.plot_tessellation()"
   ]
  },
  {
   "cell_type": "code",
   "execution_count": null,
   "id": "ecc2e232",
   "metadata": {},
   "outputs": [],
   "source": [
    "map_f = fdf.plot_tessellation()\n",
    "fdf.plot_flows(map_f=map_f)"
   ]
  },
  {
   "cell_type": "code",
   "execution_count": null,
   "id": "29d5f649",
   "metadata": {},
   "outputs": [],
   "source": []
  }
 ],
 "metadata": {
  "kernelspec": {
   "display_name": "Python [conda env:GSA]",
   "language": "python",
   "name": "gsa"
  },
  "language_info": {
   "codemirror_mode": {
    "name": "ipython",
    "version": 3
   },
   "file_extension": ".py",
   "mimetype": "text/x-python",
   "name": "python",
   "nbconvert_exporter": "python",
   "pygments_lexer": "ipython3",
   "version": "3.9.13"
  },
  "toc-showmarkdowntxt": false
 },
 "nbformat": 4,
 "nbformat_minor": 5
}
