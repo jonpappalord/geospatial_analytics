{
 "cells": [
  {
   "cell_type": "markdown",
   "metadata": {
    "id": "SU7Vegp-BtOh"
   },
   "source": [
    "Author: Luca Pappalardo\n",
    "</br>Geospatial Analytics, Master degree in Data Science and Business Informatics, University of Pisa"
   ]
  },
  {
   "cell_type": "markdown",
   "metadata": {},
   "source": [
    "# Geospatial Analytics - Lesson 5: Mobility laws and models\n",
    "- Individual measures\n",
    "    1. [Jump length](#jumplength)\n",
    "    2. [Max distance](#maxdistance)\n",
    "    3. [Distance straight line](#straightline)\n",
    "    4. [Max distance from home](#distfromhome)\n",
    "    5. [Radius of gyration](#rg)\n",
    "    6. [$k$-radius of gyration](#krg)\n",
    "    7. [Location Frequency](#locfreq)\n",
    "    8. [Uncorrelated entropy](#uncentropy)\n",
    "    9. [Individual mobility network](#IMN)\n",
    "- Collective measures\n",
    "    1. [Visits per location](#visits_per_location)\n",
    "    2. [Homes per location](#homes_per_location)\n",
    "    3. [Visits per time unit](#visits_per_time_unit)\n",
    "- [Mobility models](#models)"
   ]
  },
  {
   "cell_type": "code",
   "execution_count": 78,
   "metadata": {},
   "outputs": [],
   "source": [
    "import warnings\n",
    "warnings.filterwarnings('ignore')"
   ]
  },
  {
   "cell_type": "code",
   "execution_count": 79,
   "metadata": {
    "id": "zbWyIQ6WDKoN"
   },
   "outputs": [],
   "source": [
    "# import the library\n",
    "import skmob\n",
    "import pandas as pd\n",
    "from tqdm import tqdm\n",
    "import folium\n",
    "from folium.plugins import HeatMap\n",
    "import matplotlib.pyplot as plt\n",
    "from stats_utils import *\n",
    "from skmob.utils.plot import *\n",
    "from skmob.data.load import *\n",
    "from skmob.tessellation.tilers import tiler"
   ]
  },
  {
   "cell_type": "markdown",
   "metadata": {
    "id": "ZzhoKcDUc2bv"
   },
   "source": [
    "## Measures\n",
    "We can compute on a `TrajDataFrame` two types of measures:\n",
    "\n",
    "- *individual measures*, describing features related to the mobility patterns of a single individual\n",
    "- *collective measures*, describing the mobility patterns of an entire population of individuals\n",
    "\n",
    "https://scikit-mobility.github.io/scikit-mobility/reference/measures.html"
   ]
  },
  {
   "cell_type": "markdown",
   "metadata": {
    "id": "AJpM6eePSIBT"
   },
   "source": [
    "## Loading the data\n",
    "We load data of checkins made by users on Brightkite, a location-based social network (LBSN).\n",
    "\n",
    "The dataset is freely available at the SNAP website: https://snap.stanford.edu/data/loc-brightkite.html"
   ]
  },
  {
   "cell_type": "code",
   "execution_count": 80,
   "metadata": {
    "id": "kOmhcTJ7AlSe"
   },
   "outputs": [
    {
     "data": {
      "text/html": [
       "<div>\n",
       "<style scoped>\n",
       "    .dataframe tbody tr th:only-of-type {\n",
       "        vertical-align: middle;\n",
       "    }\n",
       "\n",
       "    .dataframe tbody tr th {\n",
       "        vertical-align: top;\n",
       "    }\n",
       "\n",
       "    .dataframe thead th {\n",
       "        text-align: right;\n",
       "    }\n",
       "</style>\n",
       "<table border=\"1\" class=\"dataframe\">\n",
       "  <thead>\n",
       "    <tr style=\"text-align: right;\">\n",
       "      <th></th>\n",
       "      <th>user</th>\n",
       "      <th>check-in_time</th>\n",
       "      <th>latitude</th>\n",
       "      <th>longitude</th>\n",
       "      <th>location id</th>\n",
       "    </tr>\n",
       "  </thead>\n",
       "  <tbody>\n",
       "    <tr>\n",
       "      <th>0</th>\n",
       "      <td>0</td>\n",
       "      <td>2010-10-16T06:02:04Z</td>\n",
       "      <td>39.891383</td>\n",
       "      <td>-105.070814</td>\n",
       "      <td>7a0f88982aa015062b95e3b4843f9ca2</td>\n",
       "    </tr>\n",
       "    <tr>\n",
       "      <th>1</th>\n",
       "      <td>0</td>\n",
       "      <td>2010-10-16T03:48:54Z</td>\n",
       "      <td>39.891077</td>\n",
       "      <td>-105.068532</td>\n",
       "      <td>dd7cd3d264c2d063832db506fba8bf79</td>\n",
       "    </tr>\n",
       "    <tr>\n",
       "      <th>2</th>\n",
       "      <td>0</td>\n",
       "      <td>2010-10-14T18:25:51Z</td>\n",
       "      <td>39.750469</td>\n",
       "      <td>-104.999073</td>\n",
       "      <td>9848afcc62e500a01cf6fbf24b797732f8963683</td>\n",
       "    </tr>\n",
       "    <tr>\n",
       "      <th>3</th>\n",
       "      <td>0</td>\n",
       "      <td>2010-10-14T00:21:47Z</td>\n",
       "      <td>39.752713</td>\n",
       "      <td>-104.996337</td>\n",
       "      <td>2ef143e12038c870038df53e0478cefc</td>\n",
       "    </tr>\n",
       "    <tr>\n",
       "      <th>4</th>\n",
       "      <td>0</td>\n",
       "      <td>2010-10-13T23:31:51Z</td>\n",
       "      <td>39.752508</td>\n",
       "      <td>-104.996637</td>\n",
       "      <td>424eb3dd143292f9e013efa00486c907</td>\n",
       "    </tr>\n",
       "  </tbody>\n",
       "</table>\n",
       "</div>"
      ],
      "text/plain": [
       "   user         check-in_time   latitude   longitude  \\\n",
       "0     0  2010-10-16T06:02:04Z  39.891383 -105.070814   \n",
       "1     0  2010-10-16T03:48:54Z  39.891077 -105.068532   \n",
       "2     0  2010-10-14T18:25:51Z  39.750469 -104.999073   \n",
       "3     0  2010-10-14T00:21:47Z  39.752713 -104.996337   \n",
       "4     0  2010-10-13T23:31:51Z  39.752508 -104.996637   \n",
       "\n",
       "                                location id  \n",
       "0          7a0f88982aa015062b95e3b4843f9ca2  \n",
       "1          dd7cd3d264c2d063832db506fba8bf79  \n",
       "2  9848afcc62e500a01cf6fbf24b797732f8963683  \n",
       "3          2ef143e12038c870038df53e0478cefc  \n",
       "4          424eb3dd143292f9e013efa00486c907  "
      ]
     },
     "execution_count": 80,
     "metadata": {},
     "output_type": "execute_result"
    }
   ],
   "source": [
    "# download the dataset using pandas\n",
    "url = \"https://snap.stanford.edu/data/loc-brightkite_totalCheckins.txt.gz\"\n",
    "df = pd.read_csv(url, sep='\\t', header=0, nrows=1000000, \n",
    "                 names=['user', 'check-in_time', \"latitude\", \"longitude\", \n",
    "                        \"location id\"])\n",
    "df.head()"
   ]
  },
  {
   "cell_type": "code",
   "execution_count": 81,
   "metadata": {
    "id": "g5RH3WaaSWPb"
   },
   "outputs": [
    {
     "name": "stdout",
     "output_type": "stream",
     "text": [
      "(1000000, 5)\n"
     ]
    },
    {
     "data": {
      "text/html": [
       "<div>\n",
       "<style scoped>\n",
       "    .dataframe tbody tr th:only-of-type {\n",
       "        vertical-align: middle;\n",
       "    }\n",
       "\n",
       "    .dataframe tbody tr th {\n",
       "        vertical-align: top;\n",
       "    }\n",
       "\n",
       "    .dataframe thead th {\n",
       "        text-align: right;\n",
       "    }\n",
       "</style>\n",
       "<table border=\"1\" class=\"dataframe\">\n",
       "  <thead>\n",
       "    <tr style=\"text-align: right;\">\n",
       "      <th></th>\n",
       "      <th>uid</th>\n",
       "      <th>datetime</th>\n",
       "      <th>lat</th>\n",
       "      <th>lng</th>\n",
       "      <th>location id</th>\n",
       "    </tr>\n",
       "  </thead>\n",
       "  <tbody>\n",
       "    <tr>\n",
       "      <th>0</th>\n",
       "      <td>0</td>\n",
       "      <td>2010-10-16 06:02:04+00:00</td>\n",
       "      <td>39.891383</td>\n",
       "      <td>-105.070814</td>\n",
       "      <td>7a0f88982aa015062b95e3b4843f9ca2</td>\n",
       "    </tr>\n",
       "    <tr>\n",
       "      <th>1</th>\n",
       "      <td>0</td>\n",
       "      <td>2010-10-16 03:48:54+00:00</td>\n",
       "      <td>39.891077</td>\n",
       "      <td>-105.068532</td>\n",
       "      <td>dd7cd3d264c2d063832db506fba8bf79</td>\n",
       "    </tr>\n",
       "    <tr>\n",
       "      <th>2</th>\n",
       "      <td>0</td>\n",
       "      <td>2010-10-14 18:25:51+00:00</td>\n",
       "      <td>39.750469</td>\n",
       "      <td>-104.999073</td>\n",
       "      <td>9848afcc62e500a01cf6fbf24b797732f8963683</td>\n",
       "    </tr>\n",
       "    <tr>\n",
       "      <th>3</th>\n",
       "      <td>0</td>\n",
       "      <td>2010-10-14 00:21:47+00:00</td>\n",
       "      <td>39.752713</td>\n",
       "      <td>-104.996337</td>\n",
       "      <td>2ef143e12038c870038df53e0478cefc</td>\n",
       "    </tr>\n",
       "    <tr>\n",
       "      <th>4</th>\n",
       "      <td>0</td>\n",
       "      <td>2010-10-13 23:31:51+00:00</td>\n",
       "      <td>39.752508</td>\n",
       "      <td>-104.996637</td>\n",
       "      <td>424eb3dd143292f9e013efa00486c907</td>\n",
       "    </tr>\n",
       "  </tbody>\n",
       "</table>\n",
       "</div>"
      ],
      "text/plain": [
       "   uid                  datetime        lat         lng  \\\n",
       "0    0 2010-10-16 06:02:04+00:00  39.891383 -105.070814   \n",
       "1    0 2010-10-16 03:48:54+00:00  39.891077 -105.068532   \n",
       "2    0 2010-10-14 18:25:51+00:00  39.750469 -104.999073   \n",
       "3    0 2010-10-14 00:21:47+00:00  39.752713 -104.996337   \n",
       "4    0 2010-10-13 23:31:51+00:00  39.752508 -104.996637   \n",
       "\n",
       "                                location id  \n",
       "0          7a0f88982aa015062b95e3b4843f9ca2  \n",
       "1          dd7cd3d264c2d063832db506fba8bf79  \n",
       "2  9848afcc62e500a01cf6fbf24b797732f8963683  \n",
       "3          2ef143e12038c870038df53e0478cefc  \n",
       "4          424eb3dd143292f9e013efa00486c907  "
      ]
     },
     "execution_count": 81,
     "metadata": {},
     "output_type": "execute_result"
    }
   ],
   "source": [
    "# convert the pandas DataFrame into an skmob TrajDataFrame\n",
    "tdf = skmob.TrajDataFrame(df, latitude='latitude', \n",
    "            longitude='longitude', datetime='check-in_time', user_id='user')\n",
    "print(tdf.shape)\n",
    "tdf.head()"
   ]
  },
  {
   "cell_type": "code",
   "execution_count": 82,
   "metadata": {
    "id": "Vf0IvOq1Sh8_"
   },
   "outputs": [
    {
     "name": "stdout",
     "output_type": "stream",
     "text": [
      "number of users:\t 2757\n",
      "number of records:\t 1000000\n"
     ]
    }
   ],
   "source": [
    "print(\"number of users:\\t\", len(tdf.uid.unique()))\n",
    "print(\"number of records:\\t\", len(tdf))"
   ]
  },
  {
   "cell_type": "code",
   "execution_count": 83,
   "metadata": {},
   "outputs": [],
   "source": [
    "plot_points_heatmap(tdf, map_f=None, max_points=1000, \n",
    "                        tiles='cartodbpositron', zoom=2,\n",
    "                       min_opacity=0.5, radius=25, blur=15,\n",
    "                       gradient=None);"
   ]
  },
  {
   "cell_type": "markdown",
   "metadata": {
    "id": "-jQhIQdBc8DD"
   },
   "source": [
    "## Individual measures\n",
    "Computed on the trajectories, quantify standard mobility patterns."
   ]
  },
  {
   "cell_type": "markdown",
   "metadata": {
    "id": "VUUoyOcAXbaT"
   },
   "source": [
    "<a id='jumplength'></a>\n",
    "### Jump lengths\n",
    "- a jump length is the distance between two consecutive visits of an individual\n",
    "- given a `TrajDataFrame`, skmob computes the lengths for each individual independently\n",
    "- use the `jump_lengths` function"
   ]
  },
  {
   "cell_type": "code",
   "execution_count": 84,
   "metadata": {
    "id": "mlD1WE6GXmTj"
   },
   "outputs": [],
   "source": [
    "from skmob.measures.individual import jump_lengths"
   ]
  },
  {
   "cell_type": "code",
   "execution_count": 85,
   "metadata": {
    "id": "SIVTveC-XpEC"
   },
   "outputs": [
    {
     "name": "stderr",
     "output_type": "stream",
     "text": [
      "  2%|▏         | 42/2757 [00:00<00:18, 148.88it/s]"
     ]
    },
    {
     "name": "stderr",
     "output_type": "stream",
     "text": [
      "100%|██████████| 2757/2757 [00:06<00:00, 424.21it/s]\n"
     ]
    },
    {
     "data": {
      "text/html": [
       "<div>\n",
       "<style scoped>\n",
       "    .dataframe tbody tr th:only-of-type {\n",
       "        vertical-align: middle;\n",
       "    }\n",
       "\n",
       "    .dataframe tbody tr th {\n",
       "        vertical-align: top;\n",
       "    }\n",
       "\n",
       "    .dataframe thead th {\n",
       "        text-align: right;\n",
       "    }\n",
       "</style>\n",
       "<table border=\"1\" class=\"dataframe\">\n",
       "  <thead>\n",
       "    <tr style=\"text-align: right;\">\n",
       "      <th></th>\n",
       "      <th>uid</th>\n",
       "      <th>jump_lengths</th>\n",
       "    </tr>\n",
       "  </thead>\n",
       "  <tbody>\n",
       "    <tr>\n",
       "      <th>0</th>\n",
       "      <td>0</td>\n",
       "      <td>[19.64046732887831, 0.0, 0.0, 1.74343110103816...</td>\n",
       "    </tr>\n",
       "    <tr>\n",
       "      <th>1</th>\n",
       "      <td>1</td>\n",
       "      <td>[6.505330424378811, 46.754366003759536, 53.928...</td>\n",
       "    </tr>\n",
       "    <tr>\n",
       "      <th>2</th>\n",
       "      <td>2</td>\n",
       "      <td>[0.0, 0.0, 0.0, 0.0, 3.641009719594163, 0.0, 5...</td>\n",
       "    </tr>\n",
       "    <tr>\n",
       "      <th>3</th>\n",
       "      <td>3</td>\n",
       "      <td>[3861.270630079885, 4.061631313492122, 5.91632...</td>\n",
       "    </tr>\n",
       "    <tr>\n",
       "      <th>4</th>\n",
       "      <td>4</td>\n",
       "      <td>[15511.92758595804, 0.0, 15511.92758595804, 1....</td>\n",
       "    </tr>\n",
       "  </tbody>\n",
       "</table>\n",
       "</div>"
      ],
      "text/plain": [
       "   uid                                       jump_lengths\n",
       "0    0  [19.64046732887831, 0.0, 0.0, 1.74343110103816...\n",
       "1    1  [6.505330424378811, 46.754366003759536, 53.928...\n",
       "2    2  [0.0, 0.0, 0.0, 0.0, 3.641009719594163, 0.0, 5...\n",
       "3    3  [3861.270630079885, 4.061631313492122, 5.91632...\n",
       "4    4  [15511.92758595804, 0.0, 15511.92758595804, 1...."
      ]
     },
     "execution_count": 85,
     "metadata": {},
     "output_type": "execute_result"
    }
   ],
   "source": [
    "jl_df = jump_lengths(tdf) # disable progress bar with show_progress=False\n",
    "jl_df.head()"
   ]
  },
  {
   "cell_type": "code",
   "execution_count": 86,
   "metadata": {
    "id": "ev6PBGSEXxln"
   },
   "outputs": [
    {
     "name": "stderr",
     "output_type": "stream",
     "text": [
      "  0%|          | 6/2757 [00:00<00:46, 59.02it/s]"
     ]
    },
    {
     "name": "stderr",
     "output_type": "stream",
     "text": [
      "100%|██████████| 2757/2757 [00:05<00:00, 482.45it/s]\n"
     ]
    }
   ],
   "source": [
    "# merge=True put all distances of the individuals into a single list\n",
    "jl_list = jump_lengths(tdf, merge=True)"
   ]
  },
  {
   "cell_type": "code",
   "execution_count": 87,
   "metadata": {
    "id": "ra6Ak9r6X4YM"
   },
   "outputs": [
    {
     "data": {
      "text/plain": [
       "list"
      ]
     },
     "execution_count": 87,
     "metadata": {},
     "output_type": "execute_result"
    }
   ],
   "source": [
    "type(jl_list)"
   ]
  },
  {
   "cell_type": "code",
   "execution_count": 88,
   "metadata": {
    "id": "YJhUAiVSX5Nz"
   },
   "outputs": [
    {
     "name": "stdout",
     "output_type": "stream",
     "text": [
      "997243\n",
      "997243\n"
     ]
    }
   ],
   "source": [
    "print(len(jl_list))\n",
    "#One or all user? You have the answer...\n",
    "print(len(tdf)-len(tdf.uid.unique()))"
   ]
  },
  {
   "cell_type": "code",
   "execution_count": 89,
   "metadata": {
    "id": "fVEBXv_DX79o"
   },
   "outputs": [
    {
     "data": {
      "text/plain": [
       "[19.64046732887831,\n",
       " 0.0,\n",
       " 0.0,\n",
       " 1.743431101038163,\n",
       " 1553.5011134765616,\n",
       " 0.0,\n",
       " 30.14517724008101,\n",
       " 0.0,\n",
       " 2.563647571198179,\n",
       " 1.9309489380903868]"
      ]
     },
     "execution_count": 89,
     "metadata": {},
     "output_type": "execute_result"
    }
   ],
   "source": [
    "jl_list[:10]"
   ]
  },
  {
   "cell_type": "code",
   "execution_count": 90,
   "metadata": {
    "id": "odPE7vQNYCP7"
   },
   "outputs": [
    {
     "data": {
      "image/png": "[encoded data removed]",
      "text/plain": [
       "<Figure size 432x432 with 1 Axes>"
      ]
     },
     "metadata": {
      "needs_background": "light"
     },
     "output_type": "display_data"
    }
   ],
   "source": [
    "# let's plot the distribution of jump lengths\n",
    "fig = plt.figure(figsize=(6, 6))\n",
    "d_list = [dist for dist in jl_list[:10000] if dist >= 1]\n",
    "plt.hist(d_list)\n",
    "plt.xlabel('r [km]', fontsize=15)\n",
    "plt.ylabel('P(r)', fontsize=15)\n",
    "plt.grid(alpha=0.15)\n",
    "plt.show()"
   ]
  },
  {
   "cell_type": "code",
   "execution_count": 91,
   "metadata": {},
   "outputs": [],
   "source": [
    "x, y = zip(*lbpdf(1.5, [r for r in jl_list if r > 1.0]))"
   ]
  },
  {
   "cell_type": "code",
   "execution_count": 92,
   "metadata": {},
   "outputs": [
    {
     "data": {
      "image/png": "[encoded data removed]",
      "text/plain": [
       "<Figure size 432x432 with 1 Axes>"
      ]
     },
     "metadata": {
      "needs_background": "light"
     },
     "output_type": "display_data"
    }
   ],
   "source": [
    "# let's plot the distribution of jump lengths\n",
    "fig = plt.figure(figsize=(6, 6))\n",
    "plt.plot(x, y, marker='o', linewidth=2)\n",
    "plt.loglog()\n",
    "plt.xlabel('$r$ [km]', fontsize=15)\n",
    "plt.ylabel('$P(r)$', fontsize=15)\n",
    "plt.grid(alpha=0.15)\n",
    "plt.show()"
   ]
  },
  {
   "cell_type": "markdown",
   "metadata": {
    "id": "1JrDp9h2YYPB"
   },
   "source": [
    "<a id=\"maxdistance\"></a>\n",
    "### Max distance\n",
    "- maximum distance traveled by each individual \n",
    "- use function `maximum_distance`"
   ]
  },
  {
   "cell_type": "code",
   "execution_count": 93,
   "metadata": {},
   "outputs": [],
   "source": [
    "from skmob.measures.individual import maximum_distance"
   ]
  },
  {
   "cell_type": "code",
   "execution_count": 94,
   "metadata": {
    "id": "lkkTOMxrYmMk"
   },
   "outputs": [
    {
     "name": "stderr",
     "output_type": "stream",
     "text": [
      "  0%|          | 0/2757 [00:00<?, ?it/s]"
     ]
    },
    {
     "name": "stderr",
     "output_type": "stream",
     "text": [
      "100%|██████████| 2757/2757 [00:05<00:00, 513.09it/s]\n"
     ]
    },
    {
     "data": {
      "text/html": [
       "<div>\n",
       "<style scoped>\n",
       "    .dataframe tbody tr th:only-of-type {\n",
       "        vertical-align: middle;\n",
       "    }\n",
       "\n",
       "    .dataframe tbody tr th {\n",
       "        vertical-align: top;\n",
       "    }\n",
       "\n",
       "    .dataframe thead th {\n",
       "        text-align: right;\n",
       "    }\n",
       "</style>\n",
       "<table border=\"1\" class=\"dataframe\">\n",
       "  <thead>\n",
       "    <tr style=\"text-align: right;\">\n",
       "      <th></th>\n",
       "      <th>uid</th>\n",
       "      <th>maximum_distance</th>\n",
       "    </tr>\n",
       "  </thead>\n",
       "  <tbody>\n",
       "    <tr>\n",
       "      <th>0</th>\n",
       "      <td>0</td>\n",
       "      <td>11294.436420</td>\n",
       "    </tr>\n",
       "    <tr>\n",
       "      <th>1</th>\n",
       "      <td>1</td>\n",
       "      <td>12804.895064</td>\n",
       "    </tr>\n",
       "    <tr>\n",
       "      <th>2</th>\n",
       "      <td>2</td>\n",
       "      <td>11286.745660</td>\n",
       "    </tr>\n",
       "    <tr>\n",
       "      <th>3</th>\n",
       "      <td>3</td>\n",
       "      <td>12803.259219</td>\n",
       "    </tr>\n",
       "    <tr>\n",
       "      <th>4</th>\n",
       "      <td>4</td>\n",
       "      <td>15511.927586</td>\n",
       "    </tr>\n",
       "  </tbody>\n",
       "</table>\n",
       "</div>"
      ],
      "text/plain": [
       "   uid  maximum_distance\n",
       "0    0      11294.436420\n",
       "1    1      12804.895064\n",
       "2    2      11286.745660\n",
       "3    3      12803.259219\n",
       "4    4      15511.927586"
      ]
     },
     "execution_count": 94,
     "metadata": {},
     "output_type": "execute_result"
    }
   ],
   "source": [
    "md_df = maximum_distance(tdf)\n",
    "md_df.head()"
   ]
  },
  {
   "cell_type": "code",
   "execution_count": 95,
   "metadata": {
    "id": "u3lQEj84YsS8"
   },
   "outputs": [
    {
     "data": {
      "image/png": "[encoded data removed]",
      "text/plain": [
       "<Figure size 432x432 with 1 Axes>"
      ]
     },
     "metadata": {
      "needs_background": "light"
     },
     "output_type": "display_data"
    }
   ],
   "source": [
    "# let's plot the distribution\n",
    "fig = plt.figure(figsize=(6, 6))\n",
    "plt.hist(md_df['maximum_distance'], bins=50, rwidth=0.8)\n",
    "plt.xlabel('max $r$', fontsize=15)\n",
    "plt.ylabel('# users', fontsize=15)\n",
    "plt.show()"
   ]
  },
  {
   "cell_type": "code",
   "execution_count": 96,
   "metadata": {},
   "outputs": [],
   "source": [
    "md_df = md_df[md_df['maximum_distance'] > 1]"
   ]
  },
  {
   "cell_type": "code",
   "execution_count": 97,
   "metadata": {},
   "outputs": [],
   "source": [
    "x, y = zip(*lbpdf(1.5, list(md_df['maximum_distance'])))"
   ]
  },
  {
   "cell_type": "code",
   "execution_count": 98,
   "metadata": {},
   "outputs": [
    {
     "data": {
      "image/png": "[encoded data removed]",
      "text/plain": [
       "<Figure size 432x432 with 1 Axes>"
      ]
     },
     "metadata": {
      "needs_background": "light"
     },
     "output_type": "display_data"
    }
   ],
   "source": [
    "# let's plot the distribution of max distance\n",
    "fig = plt.figure(figsize=(6, 6))\n",
    "plt.plot(x, y, marker='o', linewidth=2)\n",
    "plt.loglog()\n",
    "plt.xlabel('max r [km]', fontsize=15)\n",
    "plt.ylabel('P(max r)', fontsize=15)\n",
    "plt.grid(alpha=0.15)\n",
    "plt.show()"
   ]
  },
  {
   "cell_type": "markdown",
   "metadata": {
    "id": "tBpGnszzY9y9"
   },
   "source": [
    "<a id=\"straightline\"></a>\n",
    "### Distance straight line\n",
    "- distance straight line traveled by each individual\n",
    "- use function `distance_straight_line`"
   ]
  },
  {
   "cell_type": "code",
   "execution_count": 99,
   "metadata": {},
   "outputs": [],
   "source": [
    "from skmob.measures.individual import distance_straight_line"
   ]
  },
  {
   "cell_type": "code",
   "execution_count": 100,
   "metadata": {
    "id": "Za3f40fHZJ3H"
   },
   "outputs": [
    {
     "name": "stderr",
     "output_type": "stream",
     "text": [
      "  0%|          | 0/2757 [00:00<?, ?it/s]"
     ]
    },
    {
     "name": "stderr",
     "output_type": "stream",
     "text": [
      "100%|██████████| 2757/2757 [00:06<00:00, 428.61it/s]\n"
     ]
    },
    {
     "data": {
      "text/html": [
       "<div>\n",
       "<style scoped>\n",
       "    .dataframe tbody tr th:only-of-type {\n",
       "        vertical-align: middle;\n",
       "    }\n",
       "\n",
       "    .dataframe tbody tr th {\n",
       "        vertical-align: top;\n",
       "    }\n",
       "\n",
       "    .dataframe thead th {\n",
       "        text-align: right;\n",
       "    }\n",
       "</style>\n",
       "<table border=\"1\" class=\"dataframe\">\n",
       "  <thead>\n",
       "    <tr style=\"text-align: right;\">\n",
       "      <th></th>\n",
       "      <th>uid</th>\n",
       "      <th>distance_straight_line</th>\n",
       "    </tr>\n",
       "  </thead>\n",
       "  <tbody>\n",
       "    <tr>\n",
       "      <th>0</th>\n",
       "      <td>0</td>\n",
       "      <td>374530.954882</td>\n",
       "    </tr>\n",
       "    <tr>\n",
       "      <th>1</th>\n",
       "      <td>1</td>\n",
       "      <td>774346.816009</td>\n",
       "    </tr>\n",
       "    <tr>\n",
       "      <th>2</th>\n",
       "      <td>2</td>\n",
       "      <td>88710.682464</td>\n",
       "    </tr>\n",
       "    <tr>\n",
       "      <th>3</th>\n",
       "      <td>3</td>\n",
       "      <td>470986.771764</td>\n",
       "    </tr>\n",
       "    <tr>\n",
       "      <th>4</th>\n",
       "      <td>4</td>\n",
       "      <td>214623.524252</td>\n",
       "    </tr>\n",
       "  </tbody>\n",
       "</table>\n",
       "</div>"
      ],
      "text/plain": [
       "   uid  distance_straight_line\n",
       "0    0           374530.954882\n",
       "1    1           774346.816009\n",
       "2    2            88710.682464\n",
       "3    3           470986.771764\n",
       "4    4           214623.524252"
      ]
     },
     "execution_count": 100,
     "metadata": {},
     "output_type": "execute_result"
    }
   ],
   "source": [
    "dsl_df = distance_straight_line(tdf)\n",
    "dsl_df.head()"
   ]
  },
  {
   "cell_type": "code",
   "execution_count": 101,
   "metadata": {
    "id": "Ik2jFoYXZVTf"
   },
   "outputs": [
    {
     "data": {
      "image/png": "[encoded data removed]",
      "text/plain": [
       "<Figure size 432x288 with 1 Axes>"
      ]
     },
     "metadata": {
      "needs_background": "light"
     },
     "output_type": "display_data"
    }
   ],
   "source": [
    "# let's plot the distribution\n",
    "fig = plt.figure()\n",
    "plt.hist(dsl_df['distance_straight_line'], bins=50, rwidth=0.8)\n",
    "plt.xlabel('sld', fontsize=15)\n",
    "plt.ylabel('# users', fontsize=15)\n",
    "plt.show()"
   ]
  },
  {
   "cell_type": "code",
   "execution_count": 102,
   "metadata": {},
   "outputs": [],
   "source": [
    "dsl_df = dsl_df[dsl_df['distance_straight_line'] > 1]"
   ]
  },
  {
   "cell_type": "code",
   "execution_count": 103,
   "metadata": {},
   "outputs": [],
   "source": [
    "x, y = zip(*lbpdf(1.5, list(dsl_df['distance_straight_line'])))"
   ]
  },
  {
   "cell_type": "code",
   "execution_count": 104,
   "metadata": {},
   "outputs": [
    {
     "data": {
      "image/png": "[encoded data removed]",
      "text/plain": [
       "<Figure size 432x432 with 1 Axes>"
      ]
     },
     "metadata": {
      "needs_background": "light"
     },
     "output_type": "display_data"
    }
   ],
   "source": [
    "# let's plot the distribution \n",
    "fig = plt.figure(figsize=(6, 6))\n",
    "plt.plot(x, y, marker='o', linewidth=2)\n",
    "plt.loglog()\n",
    "plt.xlabel('r straight line[km]', fontsize=15)\n",
    "plt.ylabel('P(r straight line)', fontsize=15)\n",
    "plt.grid(alpha=0.15)\n",
    "plt.show()"
   ]
  },
  {
   "cell_type": "markdown",
   "metadata": {
    "id": "36eHrNsLZh3I"
   },
   "source": [
    "<a id=\"distfromhome\"></a>\n",
    "### Max distance from home\n",
    "- compute the maximum distance traveled by an individual from their home\n",
    "- use the function `max_distance_from_home`"
   ]
  },
  {
   "cell_type": "code",
   "execution_count": 105,
   "metadata": {},
   "outputs": [],
   "source": [
    "from skmob.measures.individual import max_distance_from_home"
   ]
  },
  {
   "cell_type": "code",
   "execution_count": 106,
   "metadata": {
    "id": "x1PQt40IZsmi"
   },
   "outputs": [
    {
     "name": "stderr",
     "output_type": "stream",
     "text": [
      "  1%|          | 18/2757 [00:00<00:30, 89.68it/s]"
     ]
    },
    {
     "name": "stderr",
     "output_type": "stream",
     "text": [
      "100%|██████████| 2757/2757 [00:18<00:00, 152.69it/s]\n"
     ]
    },
    {
     "data": {
      "text/html": [
       "<div>\n",
       "<style scoped>\n",
       "    .dataframe tbody tr th:only-of-type {\n",
       "        vertical-align: middle;\n",
       "    }\n",
       "\n",
       "    .dataframe tbody tr th {\n",
       "        vertical-align: top;\n",
       "    }\n",
       "\n",
       "    .dataframe thead th {\n",
       "        text-align: right;\n",
       "    }\n",
       "</style>\n",
       "<table border=\"1\" class=\"dataframe\">\n",
       "  <thead>\n",
       "    <tr style=\"text-align: right;\">\n",
       "      <th></th>\n",
       "      <th>uid</th>\n",
       "      <th>max_distance_from_home</th>\n",
       "    </tr>\n",
       "  </thead>\n",
       "  <tbody>\n",
       "    <tr>\n",
       "      <th>0</th>\n",
       "      <td>0</td>\n",
       "      <td>11286.942949</td>\n",
       "    </tr>\n",
       "    <tr>\n",
       "      <th>1</th>\n",
       "      <td>1</td>\n",
       "      <td>12800.547682</td>\n",
       "    </tr>\n",
       "    <tr>\n",
       "      <th>2</th>\n",
       "      <td>2</td>\n",
       "      <td>11282.748348</td>\n",
       "    </tr>\n",
       "    <tr>\n",
       "      <th>3</th>\n",
       "      <td>3</td>\n",
       "      <td>12799.754644</td>\n",
       "    </tr>\n",
       "    <tr>\n",
       "      <th>4</th>\n",
       "      <td>4</td>\n",
       "      <td>15512.788707</td>\n",
       "    </tr>\n",
       "  </tbody>\n",
       "</table>\n",
       "</div>"
      ],
      "text/plain": [
       "   uid  max_distance_from_home\n",
       "0    0            11286.942949\n",
       "1    1            12800.547682\n",
       "2    2            11282.748348\n",
       "3    3            12799.754644\n",
       "4    4            15512.788707"
      ]
     },
     "execution_count": 106,
     "metadata": {},
     "output_type": "execute_result"
    }
   ],
   "source": [
    "mdh_df = max_distance_from_home(tdf)\n",
    "mdh_df.head()"
   ]
  },
  {
   "cell_type": "code",
   "execution_count": 107,
   "metadata": {
    "id": "Jq5K5edOZ1kh"
   },
   "outputs": [
    {
     "data": {
      "image/png": "[encoded data removed]",
      "text/plain": [
       "<Figure size 432x288 with 1 Axes>"
      ]
     },
     "metadata": {
      "needs_background": "light"
     },
     "output_type": "display_data"
    }
   ],
   "source": [
    "# let's plot the distribution\n",
    "fig = plt.figure()\n",
    "plt.hist(mdh_df['max_distance_from_home'], bins=50, rwidth=0.8)\n",
    "plt.xlabel('mdh', fontsize=15)\n",
    "plt.ylabel('# users', fontsize=15)\n",
    "plt.show()"
   ]
  },
  {
   "cell_type": "code",
   "execution_count": 108,
   "metadata": {},
   "outputs": [],
   "source": [
    "mdh_df = mdh_df[mdh_df['max_distance_from_home'] > 1]"
   ]
  },
  {
   "cell_type": "code",
   "execution_count": 109,
   "metadata": {},
   "outputs": [],
   "source": [
    "x, y = zip(*lbpdf(1.5, list(mdh_df['max_distance_from_home'])))"
   ]
  },
  {
   "cell_type": "code",
   "execution_count": 110,
   "metadata": {},
   "outputs": [
    {
     "data": {
      "image/png": "[encoded data removed]",
      "text/plain": [
       "<Figure size 432x432 with 1 Axes>"
      ]
     },
     "metadata": {
      "needs_background": "light"
     },
     "output_type": "display_data"
    }
   ],
   "source": [
    "# let's plot the distribution \n",
    "fig = plt.figure(figsize=(6, 6))\n",
    "plt.plot(x, y, marker='o', linewidth=2)\n",
    "plt.loglog()\n",
    "plt.xlabel('r from home [km]', fontsize=15)\n",
    "plt.ylabel('P(r from home)', fontsize=15)\n",
    "plt.grid(alpha=0.15)\n",
    "plt.show()"
   ]
  },
  {
   "cell_type": "markdown",
   "metadata": {
    "id": "GDrwtindS1rU"
   },
   "source": [
    "<a id=\"rg\"></a>\n",
    "### Radius of gyration $r_g$\n",
    "characteristic distance traveled by an individual:\n",
    "\n",
    "$$r_g = \\sqrt{\\frac{1}{N} \\sum_{i=1}^N (\\mathbf{r}_i - \\mathbf{r}_{cm})^2}$$\n",
    "\n",
    "$r_{cm}$ is the position vector of the center of mass of the set of locations visited by the individual"
   ]
  },
  {
   "cell_type": "code",
   "execution_count": 111,
   "metadata": {
    "id": "HLaJ7OQ7S-vm"
   },
   "outputs": [],
   "source": [
    "from skmob.measures.individual import radius_of_gyration"
   ]
  },
  {
   "cell_type": "code",
   "execution_count": 112,
   "metadata": {
    "id": "wgwhr7ZWTBKO"
   },
   "outputs": [
    {
     "name": "stderr",
     "output_type": "stream",
     "text": [
      "  0%|          | 0/2757 [00:00<?, ?it/s]"
     ]
    },
    {
     "name": "stderr",
     "output_type": "stream",
     "text": [
      "100%|██████████| 2757/2757 [00:04<00:00, 653.62it/s] \n"
     ]
    },
    {
     "data": {
      "text/html": [
       "<div>\n",
       "<style scoped>\n",
       "    .dataframe tbody tr th:only-of-type {\n",
       "        vertical-align: middle;\n",
       "    }\n",
       "\n",
       "    .dataframe tbody tr th {\n",
       "        vertical-align: top;\n",
       "    }\n",
       "\n",
       "    .dataframe thead th {\n",
       "        text-align: right;\n",
       "    }\n",
       "</style>\n",
       "<table border=\"1\" class=\"dataframe\">\n",
       "  <thead>\n",
       "    <tr style=\"text-align: right;\">\n",
       "      <th></th>\n",
       "      <th>uid</th>\n",
       "      <th>radius_of_gyration</th>\n",
       "    </tr>\n",
       "  </thead>\n",
       "  <tbody>\n",
       "    <tr>\n",
       "      <th>0</th>\n",
       "      <td>0</td>\n",
       "      <td>1564.436792</td>\n",
       "    </tr>\n",
       "    <tr>\n",
       "      <th>1</th>\n",
       "      <td>1</td>\n",
       "      <td>2467.773523</td>\n",
       "    </tr>\n",
       "    <tr>\n",
       "      <th>2</th>\n",
       "      <td>2</td>\n",
       "      <td>1439.649774</td>\n",
       "    </tr>\n",
       "    <tr>\n",
       "      <th>3</th>\n",
       "      <td>3</td>\n",
       "      <td>1752.604191</td>\n",
       "    </tr>\n",
       "    <tr>\n",
       "      <th>4</th>\n",
       "      <td>4</td>\n",
       "      <td>5380.503250</td>\n",
       "    </tr>\n",
       "  </tbody>\n",
       "</table>\n",
       "</div>"
      ],
      "text/plain": [
       "   uid  radius_of_gyration\n",
       "0    0         1564.436792\n",
       "1    1         2467.773523\n",
       "2    2         1439.649774\n",
       "3    3         1752.604191\n",
       "4    4         5380.503250"
      ]
     },
     "execution_count": 112,
     "metadata": {},
     "output_type": "execute_result"
    }
   ],
   "source": [
    "rg_df = radius_of_gyration(tdf)\n",
    "rg_df.head()"
   ]
  },
  {
   "cell_type": "code",
   "execution_count": 113,
   "metadata": {
    "id": "7eIA1v4RfpzY"
   },
   "outputs": [
    {
     "data": {
      "text/plain": [
       "pandas.core.frame.DataFrame"
      ]
     },
     "execution_count": 113,
     "metadata": {},
     "output_type": "execute_result"
    }
   ],
   "source": [
    "type(rg_df)"
   ]
  },
  {
   "cell_type": "code",
   "execution_count": 114,
   "metadata": {
    "id": "T075wp8sgO28"
   },
   "outputs": [
    {
     "data": {
      "text/plain": [
       "<AxesSubplot:ylabel='Frequency'>"
      ]
     },
     "execution_count": 114,
     "metadata": {},
     "output_type": "execute_result"
    },
    {
     "data": {
      "image/png": "[encoded data removed]",
      "text/plain": [
       "<Figure size 432x288 with 1 Axes>"
      ]
     },
     "metadata": {
      "needs_background": "light"
     },
     "output_type": "display_data"
    }
   ],
   "source": [
    "rg_df.plot(kind='hist', y='radius_of_gyration')"
   ]
  },
  {
   "cell_type": "code",
   "execution_count": 115,
   "metadata": {
    "id": "RbhuaVPRTIjq"
   },
   "outputs": [
    {
     "data": {
      "image/png": "[encoded data removed]",
      "text/plain": [
       "<Figure size 432x432 with 1 Axes>"
      ]
     },
     "metadata": {
      "needs_background": "light"
     },
     "output_type": "display_data"
    }
   ],
   "source": [
    "# let's plot the distribution\n",
    "fig = plt.figure(figsize=(6, 6))\n",
    "rg_list = list(rg_df.radius_of_gyration[rg_df.radius_of_gyration >= 1.0])\n",
    "plt.hist(rg_list)\n",
    "plt.xlabel('$r_g$ [km]', fontsize=20);plt.ylabel('P($r_g$)', fontsize=20)\n",
    "plt.grid(alpha=0.2)\n",
    "plt.show()"
   ]
  },
  {
   "cell_type": "code",
   "execution_count": 116,
   "metadata": {},
   "outputs": [],
   "source": [
    "rg_df = rg_df[rg_df['radius_of_gyration'] > 1]\n"
   ]
  },
  {
   "cell_type": "code",
   "execution_count": 117,
   "metadata": {},
   "outputs": [],
   "source": [
    "x, y = zip(*lbpdf(1.5, list(rg_df['radius_of_gyration'])))"
   ]
  },
  {
   "cell_type": "code",
   "execution_count": 118,
   "metadata": {},
   "outputs": [
    {
     "data": {
      "image/png": "[encoded data removed]",
      "text/plain": [
       "<Figure size 432x432 with 1 Axes>"
      ]
     },
     "metadata": {
      "needs_background": "light"
     },
     "output_type": "display_data"
    }
   ],
   "source": [
    "# let's plot the distribution\n",
    "fig = plt.figure(figsize=(6, 6))\n",
    "plt.plot(x, y, marker='o', linewidth=2)\n",
    "plt.loglog()\n",
    "plt.xlabel('$r_g$ [km]', fontsize=15)\n",
    "plt.ylabel('$P(r_g)$', fontsize=15)\n",
    "plt.grid(alpha=0.15)\n",
    "plt.show()"
   ]
  },
  {
   "cell_type": "markdown",
   "metadata": {},
   "source": [
    "<a id=\"krg\"></a>\n",
    "### $k$-radius of gyration $r_g^{(k)}$\n",
    "recurrent distance traveled by an individual:\n",
    "\n",
    "$$r_g^{(k)} = \\sqrt{\\frac{1}{N_k} \\sum_{i=1}^k (\\mathbf{r}_i - \\mathbf{r}_{cm}^{(k)})^2}$$\n",
    "\n",
    "$r_{cm}^{(k)}$ is the position vector of the center of mass of the set $k$ most visited locations"
   ]
  },
  {
   "cell_type": "code",
   "execution_count": 119,
   "metadata": {},
   "outputs": [],
   "source": [
    "from skmob.measures.individual import k_radius_of_gyration"
   ]
  },
  {
   "cell_type": "code",
   "execution_count": 120,
   "metadata": {},
   "outputs": [
    {
     "name": "stderr",
     "output_type": "stream",
     "text": [
      "  0%|          | 0/2757 [00:00<?, ?it/s]"
     ]
    },
    {
     "name": "stderr",
     "output_type": "stream",
     "text": [
      "100%|██████████| 2757/2757 [00:11<00:00, 247.69it/s]\n"
     ]
    }
   ],
   "source": [
    "krg_df = k_radius_of_gyration(tdf, k=2)"
   ]
  },
  {
   "cell_type": "code",
   "execution_count": 121,
   "metadata": {},
   "outputs": [
    {
     "data": {
      "text/html": [
       "<div>\n",
       "<style scoped>\n",
       "    .dataframe tbody tr th:only-of-type {\n",
       "        vertical-align: middle;\n",
       "    }\n",
       "\n",
       "    .dataframe tbody tr th {\n",
       "        vertical-align: top;\n",
       "    }\n",
       "\n",
       "    .dataframe thead th {\n",
       "        text-align: right;\n",
       "    }\n",
       "</style>\n",
       "<table border=\"1\" class=\"dataframe\">\n",
       "  <thead>\n",
       "    <tr style=\"text-align: right;\">\n",
       "      <th></th>\n",
       "      <th>uid</th>\n",
       "      <th>2k_radius_of_gyration</th>\n",
       "    </tr>\n",
       "  </thead>\n",
       "  <tbody>\n",
       "    <tr>\n",
       "      <th>0</th>\n",
       "      <td>0</td>\n",
       "      <td>7.858833</td>\n",
       "    </tr>\n",
       "    <tr>\n",
       "      <th>1</th>\n",
       "      <td>1</td>\n",
       "      <td>4.069300</td>\n",
       "    </tr>\n",
       "    <tr>\n",
       "      <th>2</th>\n",
       "      <td>2</td>\n",
       "      <td>5.878727</td>\n",
       "    </tr>\n",
       "    <tr>\n",
       "      <th>3</th>\n",
       "      <td>3</td>\n",
       "      <td>10.622092</td>\n",
       "    </tr>\n",
       "    <tr>\n",
       "      <th>4</th>\n",
       "      <td>4</td>\n",
       "      <td>0.740360</td>\n",
       "    </tr>\n",
       "  </tbody>\n",
       "</table>\n",
       "</div>"
      ],
      "text/plain": [
       "   uid  2k_radius_of_gyration\n",
       "0    0               7.858833\n",
       "1    1               4.069300\n",
       "2    2               5.878727\n",
       "3    3              10.622092\n",
       "4    4               0.740360"
      ]
     },
     "execution_count": 121,
     "metadata": {},
     "output_type": "execute_result"
    }
   ],
   "source": [
    "krg_df.head()"
   ]
  },
  {
   "cell_type": "code",
   "execution_count": 122,
   "metadata": {},
   "outputs": [
    {
     "data": {
      "text/html": [
       "<div>\n",
       "<style scoped>\n",
       "    .dataframe tbody tr th:only-of-type {\n",
       "        vertical-align: middle;\n",
       "    }\n",
       "\n",
       "    .dataframe tbody tr th {\n",
       "        vertical-align: top;\n",
       "    }\n",
       "\n",
       "    .dataframe thead th {\n",
       "        text-align: right;\n",
       "    }\n",
       "</style>\n",
       "<table border=\"1\" class=\"dataframe\">\n",
       "  <thead>\n",
       "    <tr style=\"text-align: right;\">\n",
       "      <th></th>\n",
       "      <th>uid</th>\n",
       "      <th>radius_of_gyration</th>\n",
       "      <th>2k_radius_of_gyration</th>\n",
       "    </tr>\n",
       "  </thead>\n",
       "  <tbody>\n",
       "    <tr>\n",
       "      <th>0</th>\n",
       "      <td>0</td>\n",
       "      <td>1564.436792</td>\n",
       "      <td>7.858833</td>\n",
       "    </tr>\n",
       "    <tr>\n",
       "      <th>1</th>\n",
       "      <td>1</td>\n",
       "      <td>2467.773523</td>\n",
       "      <td>4.069300</td>\n",
       "    </tr>\n",
       "    <tr>\n",
       "      <th>2</th>\n",
       "      <td>2</td>\n",
       "      <td>1439.649774</td>\n",
       "      <td>5.878727</td>\n",
       "    </tr>\n",
       "    <tr>\n",
       "      <th>3</th>\n",
       "      <td>3</td>\n",
       "      <td>1752.604191</td>\n",
       "      <td>10.622092</td>\n",
       "    </tr>\n",
       "    <tr>\n",
       "      <th>4</th>\n",
       "      <td>4</td>\n",
       "      <td>5380.503250</td>\n",
       "      <td>0.740360</td>\n",
       "    </tr>\n",
       "  </tbody>\n",
       "</table>\n",
       "</div>"
      ],
      "text/plain": [
       "   uid  radius_of_gyration  2k_radius_of_gyration\n",
       "0    0         1564.436792               7.858833\n",
       "1    1         2467.773523               4.069300\n",
       "2    2         1439.649774               5.878727\n",
       "3    3         1752.604191              10.622092\n",
       "4    4         5380.503250               0.740360"
      ]
     },
     "execution_count": 122,
     "metadata": {},
     "output_type": "execute_result"
    }
   ],
   "source": [
    "rgs_df = pd.merge(rg_df, krg_df, on='uid')\n",
    "rgs_df.head()"
   ]
  },
  {
   "cell_type": "code",
   "execution_count": 123,
   "metadata": {},
   "outputs": [
    {
     "data": {
      "image/png": "[encoded data removed]",
      "text/plain": [
       "<Figure size 432x432 with 1 Axes>"
      ]
     },
     "metadata": {
      "needs_background": "light"
     },
     "output_type": "display_data"
    }
   ],
   "source": [
    "fig = plt.figure(figsize=(6, 6))\n",
    "plt.scatter(rgs_df['radius_of_gyration'], rgs_df['2k_radius_of_gyration'], marker='o')\n",
    "plt.xlabel('$r_g$ [km]', fontsize=15)\n",
    "plt.ylabel('$r_g^{(k)}$', fontsize=15)\n",
    "plt.grid(alpha=0.15)\n",
    "plt.plot([0, 15000], [0, 15000], color=\"black\")\n",
    "plt.show()"
   ]
  },
  {
   "cell_type": "markdown",
   "metadata": {
    "id": "7aXf1g5ddVHB"
   },
   "source": [
    "<a id='locfreq'></a>\n",
    "### Location frequency\n",
    "- compute the frequency of visiting each location\n",
    "- use the function `location_frequency`"
   ]
  },
  {
   "cell_type": "code",
   "execution_count": 124,
   "metadata": {
    "id": "yKlQd5_Kddni"
   },
   "outputs": [],
   "source": [
    "from skmob.measures.individual import location_frequency"
   ]
  },
  {
   "cell_type": "code",
   "execution_count": 125,
   "metadata": {
    "id": "FY5-hKtxdhnI"
   },
   "outputs": [
    {
     "name": "stderr",
     "output_type": "stream",
     "text": [
      "  0%|          | 0/2757 [00:00<?, ?it/s]"
     ]
    },
    {
     "name": "stderr",
     "output_type": "stream",
     "text": [
      "100%|██████████| 2757/2757 [00:04<00:00, 578.06it/s]\n"
     ]
    },
    {
     "data": {
      "text/html": [
       "<div>\n",
       "<style scoped>\n",
       "    .dataframe tbody tr th:only-of-type {\n",
       "        vertical-align: middle;\n",
       "    }\n",
       "\n",
       "    .dataframe tbody tr th {\n",
       "        vertical-align: top;\n",
       "    }\n",
       "\n",
       "    .dataframe thead th {\n",
       "        text-align: right;\n",
       "    }\n",
       "</style>\n",
       "<table border=\"1\" class=\"dataframe\">\n",
       "  <thead>\n",
       "    <tr style=\"text-align: right;\">\n",
       "      <th></th>\n",
       "      <th>uid</th>\n",
       "      <th>lat</th>\n",
       "      <th>lng</th>\n",
       "      <th>location_frequency</th>\n",
       "    </tr>\n",
       "  </thead>\n",
       "  <tbody>\n",
       "    <tr>\n",
       "      <th>0</th>\n",
       "      <td>0</td>\n",
       "      <td>39.762146</td>\n",
       "      <td>-104.982480</td>\n",
       "      <td>0.101953</td>\n",
       "    </tr>\n",
       "    <tr>\n",
       "      <th>1</th>\n",
       "      <td>0</td>\n",
       "      <td>39.891077</td>\n",
       "      <td>-105.068532</td>\n",
       "      <td>0.065269</td>\n",
       "    </tr>\n",
       "    <tr>\n",
       "      <th>2</th>\n",
       "      <td>0</td>\n",
       "      <td>39.739154</td>\n",
       "      <td>-104.984703</td>\n",
       "      <td>0.060029</td>\n",
       "    </tr>\n",
       "    <tr>\n",
       "      <th>3</th>\n",
       "      <td>0</td>\n",
       "      <td>39.891586</td>\n",
       "      <td>-105.068463</td>\n",
       "      <td>0.034302</td>\n",
       "    </tr>\n",
       "    <tr>\n",
       "      <th>4</th>\n",
       "      <td>0</td>\n",
       "      <td>39.827022</td>\n",
       "      <td>-105.143191</td>\n",
       "      <td>0.025250</td>\n",
       "    </tr>\n",
       "  </tbody>\n",
       "</table>\n",
       "</div>"
      ],
      "text/plain": [
       "   uid        lat         lng  location_frequency\n",
       "0    0  39.762146 -104.982480            0.101953\n",
       "1    0  39.891077 -105.068532            0.065269\n",
       "2    0  39.739154 -104.984703            0.060029\n",
       "3    0  39.891586 -105.068463            0.034302\n",
       "4    0  39.827022 -105.143191            0.025250"
      ]
     },
     "execution_count": 125,
     "metadata": {},
     "output_type": "execute_result"
    }
   ],
   "source": [
    "lf_df = location_frequency(tdf, normalize=True).reset_index()\n",
    "lf_df.head()"
   ]
  },
  {
   "cell_type": "code",
   "execution_count": 126,
   "metadata": {
    "id": "lG6vS0Fsduyp"
   },
   "outputs": [
    {
     "data": {
      "text/html": [
       "<div>\n",
       "<style scoped>\n",
       "    .dataframe tbody tr th:only-of-type {\n",
       "        vertical-align: middle;\n",
       "    }\n",
       "\n",
       "    .dataframe tbody tr th {\n",
       "        vertical-align: top;\n",
       "    }\n",
       "\n",
       "    .dataframe thead th {\n",
       "        text-align: right;\n",
       "    }\n",
       "</style>\n",
       "<table border=\"1\" class=\"dataframe\">\n",
       "  <thead>\n",
       "    <tr style=\"text-align: right;\">\n",
       "      <th></th>\n",
       "      <th>uid</th>\n",
       "      <th>lat</th>\n",
       "      <th>lng</th>\n",
       "      <th>location_frequency</th>\n",
       "    </tr>\n",
       "  </thead>\n",
       "  <tbody>\n",
       "    <tr>\n",
       "      <th>542</th>\n",
       "      <td>1</td>\n",
       "      <td>37.630490</td>\n",
       "      <td>-122.411084</td>\n",
       "      <td>0.245455</td>\n",
       "    </tr>\n",
       "    <tr>\n",
       "      <th>543</th>\n",
       "      <td>1</td>\n",
       "      <td>37.580304</td>\n",
       "      <td>-122.343679</td>\n",
       "      <td>0.222314</td>\n",
       "    </tr>\n",
       "    <tr>\n",
       "      <th>544</th>\n",
       "      <td>1</td>\n",
       "      <td>37.584103</td>\n",
       "      <td>-122.366083</td>\n",
       "      <td>0.205785</td>\n",
       "    </tr>\n",
       "    <tr>\n",
       "      <th>545</th>\n",
       "      <td>1</td>\n",
       "      <td>37.613825</td>\n",
       "      <td>-122.486919</td>\n",
       "      <td>0.041322</td>\n",
       "    </tr>\n",
       "    <tr>\n",
       "      <th>546</th>\n",
       "      <td>1</td>\n",
       "      <td>0.000000</td>\n",
       "      <td>0.000000</td>\n",
       "      <td>0.038017</td>\n",
       "    </tr>\n",
       "  </tbody>\n",
       "</table>\n",
       "</div>"
      ],
      "text/plain": [
       "     uid        lat         lng  location_frequency\n",
       "542    1  37.630490 -122.411084            0.245455\n",
       "543    1  37.580304 -122.343679            0.222314\n",
       "544    1  37.584103 -122.366083            0.205785\n",
       "545    1  37.613825 -122.486919            0.041322\n",
       "546    1   0.000000    0.000000            0.038017"
      ]
     },
     "execution_count": 126,
     "metadata": {},
     "output_type": "execute_result"
    }
   ],
   "source": [
    "a_user_lf_df = lf_df[lf_df['uid'] == 1]\n",
    "a_user_lf_df.head()"
   ]
  },
  {
   "cell_type": "code",
   "execution_count": 127,
   "metadata": {},
   "outputs": [
    {
     "data": {
      "text/plain": [
       "1.0"
      ]
     },
     "execution_count": 127,
     "metadata": {},
     "output_type": "execute_result"
    }
   ],
   "source": [
    "#check: the locationf req is calculated per each user\n",
    "a_user_lf_df['location_frequency'].sum()"
   ]
  },
  {
   "cell_type": "code",
   "execution_count": 128,
   "metadata": {},
   "outputs": [
    {
     "name": "stdout",
     "output_type": "stream",
     "text": [
      "2756.9999999999995\n",
      "2757\n"
     ]
    }
   ],
   "source": [
    "# double check...\n",
    "print(lf_df['location_frequency'].sum())\n",
    "print(tdf['uid'].nunique())"
   ]
  },
  {
   "cell_type": "code",
   "execution_count": 129,
   "metadata": {
    "id": "5niniszjePwi"
   },
   "outputs": [
    {
     "data": {
      "image/png": "[encoded data removed]",
      "text/plain": [
       "<Figure size 432x288 with 1 Axes>"
      ]
     },
     "metadata": {
      "needs_background": "light"
     },
     "output_type": "display_data"
    }
   ],
   "source": [
    "a_user_lf_df.plot(y='location_frequency', linewidth=2, marker='o')\n",
    "plt.loglog()\n",
    "plt.xlabel('location rank', fontsize=15)\n",
    "plt.ylabel('location frequency', fontsize=15)\n",
    "plt.grid(alpha=0.2)\n",
    "plt.show()"
   ]
  },
  {
   "cell_type": "markdown",
   "metadata": {},
   "source": [
    "From `skmob` documentation:\n",
    "\n",
    "as_ranks : boolean, optional\n",
    "        if True, return a list where element $i$ indicates the average visitation frequency of the $i$-th most frequent location. The default is False."
   ]
  },
  {
   "cell_type": "code",
   "execution_count": 130,
   "metadata": {
    "id": "wYKbrjbVkFRd"
   },
   "outputs": [
    {
     "name": "stderr",
     "output_type": "stream",
     "text": [
      "  0%|          | 0/2757 [00:00<?, ?it/s]"
     ]
    },
    {
     "name": "stderr",
     "output_type": "stream",
     "text": [
      "100%|██████████| 2757/2757 [00:05<00:00, 543.49it/s]\n"
     ]
    },
    {
     "data": {
      "text/plain": [
       "list"
      ]
     },
     "execution_count": 130,
     "metadata": {},
     "output_type": "execute_result"
    }
   ],
   "source": [
    "new_lf_df = location_frequency(tdf, as_ranks=True)\n",
    "type(new_lf_df)"
   ]
  },
  {
   "cell_type": "code",
   "execution_count": 131,
   "metadata": {},
   "outputs": [
    {
     "data": {
      "text/plain": [
       "[0.38349229794748263,\n",
       " 0.15006857422467806,\n",
       " 0.08003044853153182,\n",
       " 0.05460792609782499,\n",
       " 0.041225410891224674,\n",
       " 0.03348335756473763,\n",
       " 0.028155636540070486,\n",
       " 0.024390045551966655,\n",
       " 0.021827217008450285,\n",
       " 0.019422576316987572,\n",
       " 0.017905268883078324,\n",
       " 0.01648313033065224,\n",
       " 0.015134168510750301,\n",
       " 0.014097655528047613,\n",
       " 0.013299505060738332,\n",
       " 0.012526829013464153,\n",
       " 0.011831104831818528,\n",
       " 0.01130251200150891,\n",
       " 0.010787541072968788,\n",
       " 0.010223687869973994,\n",
       " 0.00970622914222722,\n",
       " 0.009305433902368253,\n",
       " 0.008859282535992595,\n",
       " 0.008580994461349925,\n",
       " 0.00826885610858178,\n",
       " 0.00798256240021237,\n",
       " 0.007733983652083938,\n",
       " 0.007472029057531096,\n",
       " 0.0071913472666170096,\n",
       " 0.0070155088413186165,\n",
       " 0.006827737016956377,\n",
       " 0.006598986618182634,\n",
       " 0.0063678234541273224,\n",
       " 0.006229804220675777,\n",
       " 0.006048615845993413,\n",
       " 0.005915865463972316,\n",
       " 0.00577950705783234,\n",
       " 0.00568520307771083,\n",
       " 0.005521341051221435,\n",
       " 0.005350600742116163,\n",
       " 0.005274175940628704,\n",
       " 0.005160589501370595,\n",
       " 0.005067307751425697,\n",
       " 0.004886510739415299,\n",
       " 0.004787526248529297,\n",
       " 0.00468976579558743,\n",
       " 0.0045997350400980965,\n",
       " 0.004504274106098404,\n",
       " 0.004433029782523497,\n",
       " 0.004346360604597073,\n",
       " 0.00425874407390078,\n",
       " 0.004220026307881599,\n",
       " 0.004132552282547029,\n",
       " 0.004054417017974418,\n",
       " 0.003974281511990384,\n",
       " 0.003910540138576024,\n",
       " 0.0037987693581342198,\n",
       " 0.0037397684846728284,\n",
       " 0.0037132085444262566,\n",
       " 0.0036345482640686073,\n",
       " 0.0035875908775085995,\n",
       " 0.0035336523533454327,\n",
       " 0.0034469572273096525,\n",
       " 0.0034084347689730364,\n",
       " 0.003368771694209442,\n",
       " 0.0032938242145812016,\n",
       " 0.0032518368643200844,\n",
       " 0.0031985069562749237,\n",
       " 0.003160165648663408,\n",
       " 0.0031090443050389494,\n",
       " 0.003061345110895057,\n",
       " 0.002994850813410477,\n",
       " 0.002940761778816536,\n",
       " 0.002896917126612868,\n",
       " 0.002875745610121838,\n",
       " 0.0028346943993933726,\n",
       " 0.002792081708034207,\n",
       " 0.0027733101576834724,\n",
       " 0.0027447899199400105,\n",
       " 0.002718433777702633,\n",
       " 0.00266530478817896,\n",
       " 0.00261706383160196,\n",
       " 0.00260202660394922,\n",
       " 0.002586903300201314,\n",
       " 0.002543828302747556,\n",
       " 0.0025040740565310774,\n",
       " 0.0024618153456919525,\n",
       " 0.0024295156277267735,\n",
       " 0.002403627906064705,\n",
       " 0.0023864772364918887,\n",
       " 0.002361659146903883,\n",
       " 0.002335456702688334,\n",
       " 0.0023207566654326983,\n",
       " 0.002284603242097294,\n",
       " 0.0022694595232592507,\n",
       " 0.0022329955772422416,\n",
       " 0.002209452603381485,\n",
       " 0.002199219390386902,\n",
       " 0.0021584657899765478,\n",
       " 0.0021409004687830144,\n",
       " 0.0021248545724122394,\n",
       " 0.002106172781214952,\n",
       " 0.002083917983882383,\n",
       " 0.0020638074162536543,\n",
       " 0.002051328849790337,\n",
       " 0.0020496306737854035,\n",
       " 0.0020395502954037507,\n",
       " 0.00202026803719077,\n",
       " 0.002001882436086232,\n",
       " 0.00197386845872332,\n",
       " 0.0019588367825015694,\n",
       " 0.0019341340281600016,\n",
       " 0.0019255616433833317,\n",
       " 0.0019110867625135367,\n",
       " 0.0018943851749875975,\n",
       " 0.0018784001544784848,\n",
       " 0.0018560501783619265,\n",
       " 0.0018449643056820757,\n",
       " 0.0018374660900112914,\n",
       " 0.0018085039247306603,\n",
       " 0.0017992365043359043,\n",
       " 0.001787536407632923,\n",
       " 0.0017657471187404585,\n",
       " 0.0017453119973964894,\n",
       " 0.0017353535142868959,\n",
       " 0.0017236568970973906,\n",
       " 0.0017146179348613453,\n",
       " 0.0016995474474169783,\n",
       " 0.0016805947930555198,\n",
       " 0.0016701256027608908,\n",
       " 0.0016615015713351445,\n",
       " 0.0016447670128467175,\n",
       " 0.001630533556668497,\n",
       " 0.0016276565800738827,\n",
       " 0.0016141787767653324,\n",
       " 0.0016072980814998308,\n",
       " 0.0015962334373572174,\n",
       " 0.001567446178673274,\n",
       " 0.0015641123196460667,\n",
       " 0.0015629851830799904,\n",
       " 0.0015345724293734945,\n",
       " 0.0015240463802037624,\n",
       " 0.0015150077118419637,\n",
       " 0.0015114772170037052,\n",
       " 0.0015039371478690726,\n",
       " 0.0014948033113119194,\n",
       " 0.0014859917883093042,\n",
       " 0.0014783254820600834,\n",
       " 0.0014674502528841215,\n",
       " 0.0014615974066944154,\n",
       " 0.0014627520925318608,\n",
       " 0.0014572356166759539,\n",
       " 0.0014433322650026289,\n",
       " 0.0014336541252295508,\n",
       " 0.0014222933286676177,\n",
       " 0.0014117315639342693,\n",
       " 0.0013942979011822942,\n",
       " 0.0013684234223816137,\n",
       " 0.0013655554210418106,\n",
       " 0.0013576997951204048,\n",
       " 0.0013398343428433334,\n",
       " 0.0013363836872187645,\n",
       " 0.0013269045908239577,\n",
       " 0.001325999243375626,\n",
       " 0.0013248349634827398,\n",
       " 0.001320840377921371,\n",
       " 0.0013159246824385057,\n",
       " 0.0013080917800094732,\n",
       " 0.0013034076432302854,\n",
       " 0.0013007794855564663,\n",
       " 0.001289040998864751,\n",
       " 0.0012757963704071891,\n",
       " 0.0012765803823723352,\n",
       " 0.0012713642673384444,\n",
       " 0.0012540263098816114,\n",
       " 0.0012464371915366828,\n",
       " 0.0012347968070213955,\n",
       " 0.0012160160228227746,\n",
       " 0.0011954391012703855,\n",
       " 0.0011912804327781858,\n",
       " 0.001178990076408089,\n",
       " 0.0011617243482296925,\n",
       " 0.001156422943864274,\n",
       " 0.001155024338525933,\n",
       " 0.0011520523211772903,\n",
       " 0.0011494715274990176,\n",
       " 0.0011455725745560693,\n",
       " 0.0011460674719729201,\n",
       " 0.001131009826947801,\n",
       " 0.0011347623733704792,\n",
       " 0.0011231960698404582,\n",
       " 0.0011182631605213733,\n",
       " 0.001117427677574369,\n",
       " 0.001110632235042231,\n",
       " 0.0011027767434574798,\n",
       " 0.0010924945677053348,\n",
       " 0.0010901586853062843,\n",
       " 0.001083989126416801,\n",
       " 0.0010852921424555396,\n",
       " 0.0010852921424555396,\n",
       " 0.0010769876295166846,\n",
       " 0.0010725784584408467,\n",
       " 0.001071108734748901,\n",
       " 0.0010662230633040103,\n",
       " 0.0010603516283199603,\n",
       " 0.001060554600179489,\n",
       " 0.001058673313531015,\n",
       " 0.0010556402531731138,\n",
       " 0.001049034604004916,\n",
       " 0.0010450653838438462,\n",
       " 0.0010363713880309677,\n",
       " 0.0010363713880309677,\n",
       " 0.0010318770049212674,\n",
       " 0.0010212199606936454,\n",
       " 0.0010224878367401902,\n",
       " 0.0010087228685517285,\n",
       " 0.0010042097552763049,\n",
       " 0.0010030631300829342,\n",
       " 0.000997187605071783,\n",
       " 0.0009922089979318952,\n",
       " 0.0009807710768778512,\n",
       " 0.0009727379407752755,\n",
       " 0.0009669888740447534,\n",
       " 0.0009635026781024829,\n",
       " 0.0009584762607164903,\n",
       " 0.0009550553540289107,\n",
       " 0.0009550553540289107,\n",
       " 0.0009550649741787236,\n",
       " 0.0009550649741787236,\n",
       " 0.0009494056453906142,\n",
       " 0.0009405507797660593,\n",
       " 0.0009389936787851289,\n",
       " 0.0009294959794300568,\n",
       " 0.0009141357326776099,\n",
       " 0.0009141357326776099,\n",
       " 0.0009151840806556743,\n",
       " 0.0009108936964974008,\n",
       " 0.0009125720873093965,\n",
       " 0.0009035466927845599,\n",
       " 0.0008993186299759929,\n",
       " 0.0008913258517990807,\n",
       " 0.0008861712214026698,\n",
       " 0.0008832997210437324,\n",
       " 0.0008750965107870653,\n",
       " 0.0008667179369955227,\n",
       " 0.0008632477777740156,\n",
       " 0.0008632477777740156,\n",
       " 0.0008611956748815766,\n",
       " 0.0008577138379612824,\n",
       " 0.0008488446441652985,\n",
       " 0.0008488446441652985,\n",
       " 0.0008488446441652985,\n",
       " 0.000844644318386445,\n",
       " 0.000844644318386445,\n",
       " 0.0008448410716505236,\n",
       " 0.0008428147291986493,\n",
       " 0.000835777107611032,\n",
       " 0.000835298806693371,\n",
       " 0.000835298806693371,\n",
       " 0.0008278156682753552,\n",
       " 0.0008235658494820719,\n",
       " 0.0008248338971162676,\n",
       " 0.0008248338971162676,\n",
       " 0.000822850551521354,\n",
       " 0.0008240047279783042,\n",
       " 0.000819672864666511,\n",
       " 0.0008124964735890429,\n",
       " 0.000810112663957131,\n",
       " 0.000809606373141207,\n",
       " 0.000809606373141207,\n",
       " 0.0008009673416455027,\n",
       " 0.0007974994607223441,\n",
       " 0.0007953039891021079,\n",
       " 0.000791005206517336,\n",
       " 0.0007889431976208853,\n",
       " 0.0007881018469178895,\n",
       " 0.0007769976958778977,\n",
       " 0.0007769976958778977,\n",
       " 0.0007784233225114874,\n",
       " 0.0007784233225114874,\n",
       " 0.0007798625265415875,\n",
       " 0.0007733809992065854,\n",
       " 0.0007660087872816969,\n",
       " 0.000765725323587305,\n",
       " 0.000765725323587305,\n",
       " 0.0007653475431150247,\n",
       " 0.0007603143708001942,\n",
       " 0.0007582154078507177,\n",
       " 0.0007565916103848926,\n",
       " 0.0007505492296790283,\n",
       " 0.0007411026214723571,\n",
       " 0.0007416705997969651,\n",
       " 0.0007418618622871704,\n",
       " 0.0007401177208782023,\n",
       " 0.0007376245770238018,\n",
       " 0.0007340954594007782,\n",
       " 0.0007354600360315205,\n",
       " 0.0007354600360315205,\n",
       " 0.0007352164723933902,\n",
       " 0.000732430028892632,\n",
       " 0.0007260422550149257,\n",
       " 0.0007263035384568824,\n",
       " 0.0007185016844310523,\n",
       " 0.0007150175471724421,\n",
       " 0.0007132068547945529,\n",
       " 0.0007070601445328084,\n",
       " 0.0007030517485103716,\n",
       " 0.0007030517485103716,\n",
       " 0.0007027471451077717,\n",
       " 0.0007027471451077717,\n",
       " 0.0007013306211039427,\n",
       " 0.0006985573411073002,\n",
       " 0.0006937633576698721,\n",
       " 0.0006950357137019154,\n",
       " 0.0006946166089301372,\n",
       " 0.0006894376615704583,\n",
       " 0.0006917011530300572,\n",
       " 0.0006930072783442366,\n",
       " 0.0006943293320159058,\n",
       " 0.0006923122998419304,\n",
       " 0.0006923122998419304,\n",
       " 0.0006852499113958398,\n",
       " 0.0006808170097511429,\n",
       " 0.00068082952952411,\n",
       " 0.000681242368112844,\n",
       " 0.0006808002297276424,\n",
       " 0.0006687326915647607,\n",
       " 0.0006687326915647607,\n",
       " 0.0006696522747702754,\n",
       " 0.0006709864940708256,\n",
       " 0.0006677024218212363,\n",
       " 0.0006657254875812382,\n",
       " 0.0006648702667628007,\n",
       " 0.0006628646516249734,\n",
       " 0.0006556127674592229,\n",
       " 0.0006556127674592229,\n",
       " 0.0006556127674592229,\n",
       " 0.0006568943552539996,\n",
       " 0.0006595132520520216,\n",
       " 0.0006533976097162818,\n",
       " 0.0006533976097162818,\n",
       " 0.0006519760472873934,\n",
       " 0.0006519760472873934,\n",
       " 0.0006519760472873934,\n",
       " 0.0006472759156837085,\n",
       " 0.0006444136644640908,\n",
       " 0.0006365338697090977,\n",
       " 0.000635345067028689,\n",
       " 0.000635345067028689,\n",
       " 0.0006365884622696123,\n",
       " 0.0006365884622696123,\n",
       " 0.0006365884622696123,\n",
       " 0.0006314679850293805,\n",
       " 0.0006309095582058988,\n",
       " 0.0006309095582058988,\n",
       " 0.0006309095582058988,\n",
       " 0.0006309095582058988,\n",
       " 0.0006309095582058988,\n",
       " 0.0006309095582058988,\n",
       " 0.0006270380909197974,\n",
       " 0.0006235496197064565,\n",
       " 0.000617400039900148,\n",
       " 0.0006183326108167575,\n",
       " 0.0006183326108167575,\n",
       " 0.0006183326108167575,\n",
       " 0.0006194540400236151,\n",
       " 0.0006174156083364071,\n",
       " 0.0006174156083364071,\n",
       " 0.000614451313256367,\n",
       " 0.000614451313256367,\n",
       " 0.0006128830978600434,\n",
       " 0.0006128830978600434,\n",
       " 0.0006128830978600434,\n",
       " 0.0006141257580570394,\n",
       " 0.0006141257580570394,\n",
       " 0.0006141257580570394,\n",
       " 0.0006146202687764997,\n",
       " 0.0006159594646998786,\n",
       " 0.0006151080003171838,\n",
       " 0.0006151080003171838,\n",
       " 0.0006151080003171838,\n",
       " 0.0006153448361052988,\n",
       " 0.0006166958493083555,\n",
       " 0.0006166958493083555,\n",
       " 0.0006139327977477062,\n",
       " 0.0006053275780723299,\n",
       " 0.0006053275780723299,\n",
       " 0.0006035572860182011,\n",
       " 0.0006048703459133323,\n",
       " 0.0006042969580293153,\n",
       " 0.0006042969580293153,\n",
       " 0.0005996324287088739,\n",
       " 0.0006009597615316523,\n",
       " 0.0005990199412568641,\n",
       " 0.0005990199412568641,\n",
       " 0.0006008827754754727,\n",
       " 0.0006008827754754727,\n",
       " 0.0006008827754754727,\n",
       " 0.0006008827754754727,\n",
       " 0.0006022997334218931,\n",
       " 0.0006037492651142084,\n",
       " 0.0006037492651142084,\n",
       " 0.0006022820820655449,\n",
       " 0.0006020024260750559,\n",
       " 0.0006007827579500557,\n",
       " 0.0006007827579500557,\n",
       " 0.0006007827579500557,\n",
       " 0.000600567049191618,\n",
       " 0.000600567049191618,\n",
       " 0.0006021414361916326,\n",
       " 0.0006028014444383004,\n",
       " 0.0006028014444383004,\n",
       " 0.0006028014444383004,\n",
       " 0.0006061333120237694,\n",
       " 0.0006061333120237694,\n",
       " 0.0006061333120237694,\n",
       " 0.000599535303370044,\n",
       " 0.0006012249585368874,\n",
       " 0.0005946088300874476,\n",
       " 0.0005962766942268417,\n",
       " 0.0005962766942268417,\n",
       " 0.0005962766942268417,\n",
       " 0.0005962766942268417,\n",
       " 0.0005962766942268417,\n",
       " 0.0005962766942268417,\n",
       " 0.0005962766942268417,\n",
       " 0.0005962766942268417,\n",
       " 0.0005962766942268417,\n",
       " 0.0005912024357741084,\n",
       " 0.0005866668314808747,\n",
       " 0.0005828737761409671,\n",
       " 0.0005828737761409671,\n",
       " 0.0005828737761409671,\n",
       " 0.0005828737761409671,\n",
       " 0.0005828737761409671,\n",
       " 0.0005828737761409671,\n",
       " 0.0005828737761409671,\n",
       " 0.0005828737761409671,\n",
       " 0.0005845635093835508,\n",
       " 0.0005859255365120401,\n",
       " 0.0005859255365120401,\n",
       " 0.0005859255365120401,\n",
       " 0.0005859255365120401,\n",
       " 0.0005859255365120401,\n",
       " 0.0005838476970674886,\n",
       " 0.0005855565418433142,\n",
       " 0.0005855565418433142,\n",
       " 0.0005827542047331622,\n",
       " 0.0005827542047331622,\n",
       " 0.0005827542047331622,\n",
       " 0.0005827542047331622,\n",
       " 0.0005827542047331622,\n",
       " 0.0005827542047331622,\n",
       " 0.0005827542047331622,\n",
       " 0.0005863063290179184,\n",
       " 0.0005844653001426021,\n",
       " 0.0005844653001426021,\n",
       " 0.0005844653001426021,\n",
       " 0.0005844653001426021,\n",
       " 0.0005844653001426021,\n",
       " 0.0005863321074521216,\n",
       " 0.0005863321074521216,\n",
       " 0.0005781902116518567,\n",
       " 0.0005800116354993812,\n",
       " 0.0005800116354993812,\n",
       " 0.0005818992929413615,\n",
       " 0.0005754004683496176,\n",
       " 0.0005627602882721896,\n",
       " 0.0005479917697658049,\n",
       " 0.000550762503598932,\n",
       " 0.0005523160875032748,\n",
       " 0.0005523160875032748,\n",
       " 0.0005523160875032748,\n",
       " 0.0005523160875032748,\n",
       " 0.0005517871944139907,\n",
       " 0.0005534671214856244,\n",
       " 0.0005534671214856244,\n",
       " 0.0005548225751445289,\n",
       " 0.0005548225751445289,\n",
       " 0.0005566512286085765,\n",
       " 0.0005566512286085765,\n",
       " 0.0005566512286085765,\n",
       " 0.0005566512286085765,\n",
       " 0.0005566512286085765,\n",
       " 0.0005475694411006864,\n",
       " 0.0005475694411006864,\n",
       " 0.0005475694411006864,\n",
       " 0.0005433017847226261,\n",
       " 0.0005368683165304436,\n",
       " 0.0005368683165304436,\n",
       " 0.0005368683165304436,\n",
       " 0.0005368683165304436,\n",
       " 0.0005363589220742427,\n",
       " 0.0005363589220742427,\n",
       " 0.0005363589220742427,\n",
       " 0.0005363589220742427,\n",
       " 0.0005363589220742427,\n",
       " 0.0005363589220742427,\n",
       " 0.0005363589220742427,\n",
       " 0.0005363589220742427,\n",
       " 0.0005363589220742427,\n",
       " 0.0005363589220742427,\n",
       " 0.0005379850962873176,\n",
       " 0.0005379850962873176,\n",
       " 0.0005397016135122298,\n",
       " 0.0005397016135122298,\n",
       " 0.0005397016135122298,\n",
       " 0.0005389338813851409,\n",
       " 0.0005389338813851409,\n",
       " 0.0005389338813851409,\n",
       " 0.0005389338813851409,\n",
       " 0.0005389338813851409,\n",
       " 0.0005389338813851409,\n",
       " 0.0005389338813851409,\n",
       " 0.0005389338813851409,\n",
       " 0.0005389338813851409,\n",
       " 0.0005389338813851409,\n",
       " 0.0005389338813851409,\n",
       " 0.0005389338813851409,\n",
       " 0.0005336709046689865,\n",
       " 0.0005336709046689865,\n",
       " 0.0005336709046689865,\n",
       " 0.000535412735835002,\n",
       " 0.000535412735835002,\n",
       " 0.0005372634314488934,\n",
       " 0.0005372634314488934,\n",
       " 0.0005372634314488934,\n",
       " 0.0005372634314488934,\n",
       " 0.0005372634314488934,\n",
       " 0.0005372634314488934,\n",
       " 0.0005372634314488934,\n",
       " 0.0005372634314488934,\n",
       " 0.0005413349617994545,\n",
       " 0.0005413349617994545,\n",
       " 0.0005403335932605606,\n",
       " 0.0005427092642631563,\n",
       " 0.0005427092642631563,\n",
       " 0.0005427092642631563,\n",
       " 0.0005427092642631563,\n",
       " 0.0005427092642631563,\n",
       " 0.0005427092642631563,\n",
       " 0.0005427092642631563,\n",
       " 0.0005452589535966919,\n",
       " 0.0005452589535966919,\n",
       " 0.0005452589535966919,\n",
       " 0.0005452589535966919,\n",
       " 0.0005452589535966919,\n",
       " 0.0005452589535966919,\n",
       " 0.0005480216926929405,\n",
       " 0.0005480216926929405,\n",
       " 0.0005510146600472099,\n",
       " 0.0005510146600472099,\n",
       " 0.0005510146600472099,\n",
       " 0.0005510146600472099,\n",
       " 0.0005510146600472099,\n",
       " 0.0005510146600472099,\n",
       " 0.0005510146600472099,\n",
       " 0.0005510146600472099,\n",
       " 0.0005542678854322851,\n",
       " 0.0005542678854322851,\n",
       " 0.0005543765902387096,\n",
       " 0.0005543765902387096,\n",
       " 0.0005543765902387096,\n",
       " 0.0005543765902387096,\n",
       " 0.0005543765902387096,\n",
       " 0.0005543765902387096,\n",
       " 0.0005534239260228946,\n",
       " 0.0005572855985145155,\n",
       " 0.0005572855985145155,\n",
       " 0.0005572855985145155,\n",
       " 0.0005572855985145155,\n",
       " 0.0005572855985145155,\n",
       " 0.0005316199942566038,\n",
       " 0.0005316199942566038,\n",
       " 0.0005316199942566038,\n",
       " 0.0005346994119269443,\n",
       " 0.0005346994119269443,\n",
       " 0.0005346994119269443,\n",
       " 0.0005381411140290897,\n",
       " 0.0005381411140290897,\n",
       " 0.0005381411140290897,\n",
       " 0.0005381411140290897,\n",
       " 0.0005381411140290897,\n",
       " 0.0005381411140290897,\n",
       " 0.0005116787798097539,\n",
       " 0.0005116787798097539,\n",
       " 0.0005116787798097539,\n",
       " 0.0005116787798097539,\n",
       " 0.0005035163378634417,\n",
       " 0.0005054681851257963,\n",
       " 0.0005044317870872912,\n",
       " 0.0005044317870872912,\n",
       " 0.0005044317870872912,\n",
       " 0.0005044317870872912,\n",
       " 0.0005044317870872912,\n",
       " 0.0005044317870872912,\n",
       " 0.0005044317870872912,\n",
       " 0.0005044317870872912,\n",
       " 0.0005067852296620259,\n",
       " 0.0005067852296620259,\n",
       " 0.0005067852296620259,\n",
       " 0.0005067852296620259,\n",
       " 0.0005067852296620259,\n",
       " 0.0005067852296620259,\n",
       " 0.0005067852296620259,\n",
       " 0.0005067852296620259,\n",
       " 0.0005067852296620259,\n",
       " 0.0005095665708867122,\n",
       " 0.0005095665708867122,\n",
       " 0.0005095665708867122,\n",
       " 0.0005095665708867122,\n",
       " 0.0005095665708867122,\n",
       " 0.0005095665708867122,\n",
       " 0.0005095665708867122,\n",
       " 0.0005051828848652561,\n",
       " 0.0005051828848652561,\n",
       " 0.0005051828848652561,\n",
       " 0.0005051828848652561,\n",
       " 0.0005051828848652561,\n",
       " 0.0005051828848652561,\n",
       " 0.0005051828848652561,\n",
       " 0.0005051828848652561,\n",
       " 0.0005051828848652561,\n",
       " 0.0005051828848652561,\n",
       " 0.0005051828848652561,\n",
       " 0.0005051828848652561,\n",
       " 0.0005051828848652561,\n",
       " 0.0005051828848652561,\n",
       " 0.0005051828848652561,\n",
       " 0.0005051828848652561,\n",
       " 0.0005051828848652561,\n",
       " 0.0005051828848652561,\n",
       " 0.0005051828848652561,\n",
       " 0.0005084042636068983,\n",
       " 0.0005084042636068983,\n",
       " 0.0005084042636068983,\n",
       " 0.0005084042636068983,\n",
       " 0.0005084042636068983,\n",
       " 0.0005084042636068983,\n",
       " 0.0005084042636068983,\n",
       " 0.0005084042636068983,\n",
       " 0.0005084042636068983,\n",
       " 0.0005084042636068983,\n",
       " 0.0005084042636068983,\n",
       " 0.0005084042636068983,\n",
       " 0.000512430987033951,\n",
       " 0.000512430987033951,\n",
       " 0.000512430987033951,\n",
       " 0.000512430987033951,\n",
       " 0.000512430987033951,\n",
       " 0.000512430987033951,\n",
       " 0.000512430987033951,\n",
       " 0.000512430987033951,\n",
       " 0.000512430987033951,\n",
       " 0.000512430987033951,\n",
       " 0.000512430987033951,\n",
       " 0.000512430987033951,\n",
       " 0.000512430987033951,\n",
       " 0.000512430987033951,\n",
       " 0.000512430987033951,\n",
       " 0.000512430987033951,\n",
       " 0.000512430987033951,\n",
       " 0.000512430987033951,\n",
       " 0.000512430987033951,\n",
       " 0.000512430987033951,\n",
       " 0.000512430987033951,\n",
       " 0.000512430987033951,\n",
       " 0.000512430987033951,\n",
       " 0.000512430987033951,\n",
       " 0.000512430987033951,\n",
       " 0.000512430987033951,\n",
       " 0.000512430987033951,\n",
       " 0.000512430987033951,\n",
       " 0.000512430987033951,\n",
       " 0.0004962379526409826,\n",
       " 0.0004962379526409826,\n",
       " 0.0004962379526409826,\n",
       " 0.0004962379526409826,\n",
       " 0.0004962379526409826,\n",
       " 0.0004962379526409826,\n",
       " 0.0004962379526409826,\n",
       " 0.0004962379526409826,\n",
       " 0.0004962379526409826,\n",
       " 0.0004962379526409826,\n",
       " 0.0004962379526409826,\n",
       " 0.0004962379526409826,\n",
       " 0.0004962379526409826,\n",
       " 0.0004962379526409826,\n",
       " 0.0004962379526409826,\n",
       " 0.0004962379526409826,\n",
       " 0.0004962379526409826,\n",
       " 0.0004962379526409826,\n",
       " 0.0004962379526409826,\n",
       " 0.0004962379526409826,\n",
       " 0.0004962379526409826,\n",
       " 0.0004995791987160669,\n",
       " 0.0004995791987160669,\n",
       " 0.0004995791987160669,\n",
       " 0.0004995791987160669,\n",
       " 0.0004995791987160669,\n",
       " 0.0004995791987160669,\n",
       " 0.0004995791987160669,\n",
       " 0.0004995791987160669,\n",
       " 0.0004995791987160669,\n",
       " 0.000504256943221185,\n",
       " 0.000504256943221185,\n",
       " 0.000504256943221185,\n",
       " 0.000504256943221185,\n",
       " 0.000504256943221185,\n",
       " 0.000504256943221185,\n",
       " 0.000504256943221185,\n",
       " 0.0004761904761904762,\n",
       " 0.0004761904761904762,\n",
       " 0.0004761904761904762,\n",
       " 0.0004761904761904762,\n",
       " 0.0004761904761904762,\n",
       " 0.0004761904761904762,\n",
       " 0.0004761904761904762,\n",
       " 0.0004761904761904762,\n",
       " 0.0004761904761904762,\n",
       " 0.0004761904761904762,\n",
       " 0.0004761904761904762,\n",
       " 0.0004761904761904762,\n",
       " 0.0004761904761904762,\n",
       " 0.0004761904761904762,\n",
       " 0.0004761904761904762,\n",
       " 0.0004761904761904762,\n",
       " 0.0004761904761904762,\n",
       " 0.0004761904761904762,\n",
       " 0.0004761904761904762,\n",
       " 0.0004761904761904762,\n",
       " 0.0004761904761904762,\n",
       " 0.0004761904761904762,\n",
       " 0.0004761904761904762,\n",
       " 0.0004761904761904762,\n",
       " 0.0004761904761904762,\n",
       " 0.0004761904761904762,\n",
       " 0.0004761904761904762,\n",
       " 0.0004761904761904762,\n",
       " 0.0004761904761904762,\n",
       " 0.0004761904761904762,\n",
       " 0.0004761904761904762,\n",
       " 0.0004761904761904762,\n",
       " 0.0004761904761904762,\n",
       " 0.0004761904761904762,\n",
       " 0.0004761904761904762,\n",
       " 0.0004761904761904762,\n",
       " 0.0004761904761904762,\n",
       " 0.0004761904761904762,\n",
       " 0.0004761904761904762,\n",
       " 0.0004761904761904762,\n",
       " 0.0004761904761904762,\n",
       " 0.0004761904761904762,\n",
       " 0.0004761904761904762,\n",
       " 0.0004761904761904762,\n",
       " 0.0004761904761904762,\n",
       " 0.0004761904761904762,\n",
       " 0.0004761904761904762,\n",
       " 0.0004761904761904762,\n",
       " 0.0004761904761904762,\n",
       " 0.0004761904761904762,\n",
       " 0.0004761904761904762,\n",
       " 0.0004761904761904762,\n",
       " 0.0004761904761904762,\n",
       " 0.0004761904761904762,\n",
       " 0.0004761904761904762,\n",
       " 0.0004761904761904762,\n",
       " 0.0004761904761904762,\n",
       " 0.0004761904761904762,\n",
       " 0.0004761904761904762,\n",
       " 0.0004761904761904762,\n",
       " 0.0004761904761904762,\n",
       " 0.0004761904761904762,\n",
       " 0.0004761904761904762,\n",
       " 0.0004761904761904762,\n",
       " 0.0004761904761904762,\n",
       " 0.0004761904761904762,\n",
       " 0.0004761904761904762,\n",
       " 0.0004761904761904762,\n",
       " 0.0004761904761904762,\n",
       " 0.0004761904761904762,\n",
       " 0.0004761904761904762,\n",
       " 0.0004761904761904762,\n",
       " 0.0004761904761904762,\n",
       " 0.0004761904761904762,\n",
       " 0.0004761904761904762,\n",
       " 0.0004761904761904762,\n",
       " 0.0004761904761904762,\n",
       " 0.0004761904761904762,\n",
       " 0.0004761904761904762,\n",
       " 0.0004761904761904762,\n",
       " 0.0004761904761904762,\n",
       " 0.0004761904761904762,\n",
       " 0.0004761904761904762,\n",
       " 0.0004761904761904762,\n",
       " 0.0004761904761904762,\n",
       " 0.0004761904761904762,\n",
       " 0.0004761904761904762,\n",
       " 0.0004761904761904762,\n",
       " 0.0004761904761904762,\n",
       " 0.0004761904761904762,\n",
       " 0.0004761904761904762,\n",
       " 0.0004761904761904762,\n",
       " 0.0004761904761904762,\n",
       " 0.0004761904761904762,\n",
       " 0.0004761904761904762,\n",
       " 0.0004761904761904762,\n",
       " 0.0004761904761904762,\n",
       " 0.0004761904761904762,\n",
       " 0.0004761904761904762,\n",
       " 0.0004761904761904762,\n",
       " 0.0004761904761904762,\n",
       " 0.0004761904761904762,\n",
       " 0.0004761904761904762,\n",
       " 0.0004761904761904762,\n",
       " 0.0004761904761904762,\n",
       " 0.0004761904761904762,\n",
       " 0.0004761904761904762,\n",
       " 0.0004761904761904762,\n",
       " 0.0004761904761904762,\n",
       " 0.0004761904761904762,\n",
       " 0.0004761904761904762,\n",
       " 0.0004761904761904762,\n",
       " 0.0004761904761904762,\n",
       " 0.0004761904761904762,\n",
       " 0.0004761904761904762,\n",
       " 0.0004761904761904762,\n",
       " 0.0004761904761904762,\n",
       " 0.0004761904761904762,\n",
       " 0.0004761904761904762,\n",
       " 0.0004761904761904762,\n",
       " 0.0004761904761904762,\n",
       " 0.0004761904761904762,\n",
       " 0.0004761904761904762,\n",
       " 0.0004761904761904762,\n",
       " 0.0004761904761904762,\n",
       " 0.0004761904761904762,\n",
       " 0.0004761904761904762,\n",
       " 0.0004761904761904762,\n",
       " 0.0004761904761904762,\n",
       " 0.0004761904761904762,\n",
       " 0.0004761904761904762,\n",
       " 0.0004761904761904762,\n",
       " 0.0004761904761904762,\n",
       " 0.0004761904761904762,\n",
       " 0.0004761904761904762,\n",
       " 0.0004761904761904762,\n",
       " 0.0004761904761904762,\n",
       " 0.0004761904761904762,\n",
       " 0.0004761904761904762,\n",
       " 0.0004761904761904762,\n",
       " 0.0004761904761904762,\n",
       " 0.0004761904761904762,\n",
       " 0.0004761904761904762,\n",
       " 0.0004761904761904762,\n",
       " 0.0004761904761904762,\n",
       " 0.0004761904761904762,\n",
       " 0.0004761904761904762,\n",
       " 0.0004761904761904762,\n",
       " 0.0004761904761904762,\n",
       " 0.0004761904761904762,\n",
       " 0.0004761904761904762,\n",
       " 0.0004761904761904762,\n",
       " 0.0004761904761904762,\n",
       " 0.0004761904761904762,\n",
       " 0.0004761904761904762,\n",
       " 0.0004761904761904762,\n",
       " 0.0004761904761904762,\n",
       " 0.0004761904761904762,\n",
       " 0.0004761904761904762,\n",
       " 0.0004761904761904762,\n",
       " 0.0004761904761904762,\n",
       " 0.0004761904761904762,\n",
       " 0.0004761904761904762,\n",
       " 0.0004761904761904762,\n",
       " 0.0004761904761904762,\n",
       " 0.0004761904761904762,\n",
       " 0.0004761904761904762,\n",
       " 0.0004761904761904762,\n",
       " 0.0004761904761904762,\n",
       " 0.0004761904761904762,\n",
       " 0.0004761904761904762,\n",
       " 0.0004761904761904762,\n",
       " 0.0004761904761904762,\n",
       " 0.0004761904761904762,\n",
       " 0.0004761904761904762,\n",
       " 0.0004761904761904762,\n",
       " 0.0004761904761904762,\n",
       " 0.0004761904761904762,\n",
       " 0.0004761904761904762,\n",
       " 0.0004761904761904762,\n",
       " 0.0004761904761904762,\n",
       " 0.0004761904761904762,\n",
       " 0.0004761904761904762,\n",
       " 0.0004761904761904762,\n",
       " 0.0004761904761904762,\n",
       " 0.0004761904761904762,\n",
       " 0.0004761904761904762,\n",
       " 0.0004761904761904762,\n",
       " 0.0004761904761904762,\n",
       " 0.0004761904761904762,\n",
       " 0.0004761904761904762,\n",
       " 0.0004761904761904762,\n",
       " 0.0004761904761904762,\n",
       " 0.0004761904761904762,\n",
       " 0.0004761904761904762,\n",
       " 0.0004761904761904762,\n",
       " 0.0004761904761904762,\n",
       " 0.0004761904761904762,\n",
       " 0.0004761904761904762,\n",
       " 0.0004761904761904762,\n",
       " 0.0004761904761904762,\n",
       " 0.0004761904761904762,\n",
       " 0.0004761904761904762,\n",
       " 0.0004761904761904762,\n",
       " 0.0004761904761904762,\n",
       " 0.0004761904761904762,\n",
       " 0.0004761904761904762,\n",
       " 0.0004761904761904762,\n",
       " 0.0004761904761904762,\n",
       " 0.0004761904761904762,\n",
       " 0.0004761904761904762,\n",
       " 0.0004761904761904762,\n",
       " 0.0004761904761904762,\n",
       " 0.0004761904761904762,\n",
       " 0.0004761904761904762,\n",
       " 0.0004761904761904762,\n",
       " 0.0004761904761904762,\n",
       " 0.0004761904761904762,\n",
       " 0.0004761904761904762,\n",
       " 0.0004761904761904762,\n",
       " 0.0004761904761904762,\n",
       " 0.0004761904761904762,\n",
       " 0.0004761904761904762,\n",
       " 0.0004761904761904762,\n",
       " 0.0004761904761904762,\n",
       " 0.0004761904761904762,\n",
       " 0.0004761904761904762,\n",
       " 0.0004761904761904762,\n",
       " 0.0004761904761904762,\n",
       " 0.0004761904761904762,\n",
       " 0.0004761904761904762,\n",
       " 0.0004761904761904762,\n",
       " 0.0004761904761904762,\n",
       " 0.0004761904761904762,\n",
       " 0.0004761904761904762,\n",
       " 0.0004761904761904762,\n",
       " 0.0004761904761904762,\n",
       " 0.0004761904761904762,\n",
       " 0.0004761904761904762,\n",
       " 0.0004761904761904762,\n",
       " 0.0004761904761904762,\n",
       " 0.0004761904761904762,\n",
       " 0.0004761904761904762,\n",
       " 0.0004761904761904762,\n",
       " 0.0004761904761904762,\n",
       " 0.0004761904761904762,\n",
       " 0.0004761904761904762,\n",
       " 0.0004761904761904762,\n",
       " 0.0004761904761904762,\n",
       " 0.0004761904761904762,\n",
       " 0.0004761904761904762,\n",
       " 0.0004761904761904762,\n",
       " 0.0004761904761904762,\n",
       " 0.0004761904761904762,\n",
       " 0.0004761904761904762,\n",
       " 0.0004761904761904762,\n",
       " 0.0004761904761904762,\n",
       " 0.0004761904761904762,\n",
       " 0.0004761904761904762,\n",
       " 0.0004761904761904762,\n",
       " 0.0004761904761904762,\n",
       " 0.0004761904761904762,\n",
       " 0.0004761904761904762,\n",
       " 0.0004761904761904762,\n",
       " 0.0004761904761904762,\n",
       " 0.0004761904761904762,\n",
       " 0.0004761904761904762,\n",
       " 0.0004761904761904762,\n",
       " 0.0004761904761904762,\n",
       " 0.0004761904761904762,\n",
       " 0.0004761904761904762,\n",
       " 0.0004761904761904762,\n",
       " 0.0004761904761904762,\n",
       " 0.0004761904761904762,\n",
       " 0.0004761904761904762,\n",
       " 0.0004761904761904762,\n",
       " 0.0004761904761904762,\n",
       " 0.0004761904761904762,\n",
       " 0.0004761904761904762,\n",
       " 0.0004761904761904762,\n",
       " 0.0004761904761904762,\n",
       " 0.0004761904761904762,\n",
       " 0.0004761904761904762,\n",
       " 0.0004761904761904762,\n",
       " 0.0004761904761904762,\n",
       " 0.0004761904761904762,\n",
       " 0.0004761904761904762,\n",
       " 0.0004761904761904762,\n",
       " 0.0004761904761904762,\n",
       " ...]"
      ]
     },
     "execution_count": 131,
     "metadata": {},
     "output_type": "execute_result"
    }
   ],
   "source": [
    "new_lf_df"
   ]
  },
  {
   "cell_type": "code",
   "execution_count": 132,
   "metadata": {
    "id": "OZruL_KUkZYr"
   },
   "outputs": [
    {
     "data": {
      "image/png": "[encoded data removed]",
      "text/plain": [
       "<Figure size 432x288 with 1 Axes>"
      ]
     },
     "metadata": {
      "needs_background": "light"
     },
     "output_type": "display_data"
    }
   ],
   "source": [
    "plt.hist(new_lf_df)\n",
    "plt.show()\n",
    "\n",
    "\n",
    "#a lot of different not-frequent places, a few very frequent places"
   ]
  },
  {
   "cell_type": "markdown",
   "metadata": {},
   "source": [
    "<a id=\"uncentropy\"></a>\n",
    "### Uncorrelated entropy\n",
    "\n",
    "The predictability of an individual considering the spatial dimension only:\n",
    "\n",
    "$$ S^{unc} = - \\sum_{i=1}^N p_i \\log_2(p_i)$$"
   ]
  },
  {
   "cell_type": "code",
   "execution_count": 133,
   "metadata": {},
   "outputs": [],
   "source": [
    "from skmob.measures.individual import uncorrelated_entropy"
   ]
  },
  {
   "cell_type": "code",
   "execution_count": 134,
   "metadata": {},
   "outputs": [
    {
     "name": "stderr",
     "output_type": "stream",
     "text": [
      "  0%|          | 0/2757 [00:00<?, ?it/s]"
     ]
    },
    {
     "name": "stderr",
     "output_type": "stream",
     "text": [
      "100%|██████████| 2757/2757 [00:05<00:00, 463.22it/s]\n"
     ]
    },
    {
     "data": {
      "text/html": [
       "<div>\n",
       "<style scoped>\n",
       "    .dataframe tbody tr th:only-of-type {\n",
       "        vertical-align: middle;\n",
       "    }\n",
       "\n",
       "    .dataframe tbody tr th {\n",
       "        vertical-align: top;\n",
       "    }\n",
       "\n",
       "    .dataframe thead th {\n",
       "        text-align: right;\n",
       "    }\n",
       "</style>\n",
       "<table border=\"1\" class=\"dataframe\">\n",
       "  <thead>\n",
       "    <tr style=\"text-align: right;\">\n",
       "      <th></th>\n",
       "      <th>uid</th>\n",
       "      <th>norm_uncorrelated_entropy</th>\n",
       "    </tr>\n",
       "  </thead>\n",
       "  <tbody>\n",
       "    <tr>\n",
       "      <th>0</th>\n",
       "      <td>0</td>\n",
       "      <td>0.819430</td>\n",
       "    </tr>\n",
       "    <tr>\n",
       "      <th>1</th>\n",
       "      <td>1</td>\n",
       "      <td>0.552972</td>\n",
       "    </tr>\n",
       "    <tr>\n",
       "      <th>2</th>\n",
       "      <td>2</td>\n",
       "      <td>0.764304</td>\n",
       "    </tr>\n",
       "    <tr>\n",
       "      <th>3</th>\n",
       "      <td>3</td>\n",
       "      <td>0.794553</td>\n",
       "    </tr>\n",
       "    <tr>\n",
       "      <th>4</th>\n",
       "      <td>4</td>\n",
       "      <td>0.756421</td>\n",
       "    </tr>\n",
       "  </tbody>\n",
       "</table>\n",
       "</div>"
      ],
      "text/plain": [
       "   uid  norm_uncorrelated_entropy\n",
       "0    0                   0.819430\n",
       "1    1                   0.552972\n",
       "2    2                   0.764304\n",
       "3    3                   0.794553\n",
       "4    4                   0.756421"
      ]
     },
     "execution_count": 134,
     "metadata": {},
     "output_type": "execute_result"
    }
   ],
   "source": [
    "s_unc_df = uncorrelated_entropy(tdf, normalize=True)\n",
    "s_unc_df.head()"
   ]
  },
  {
   "cell_type": "code",
   "execution_count": 135,
   "metadata": {},
   "outputs": [
    {
     "data": {
      "image/png": "[encoded data removed]",
      "text/plain": [
       "<Figure size 432x288 with 1 Axes>"
      ]
     },
     "metadata": {
      "needs_background": "light"
     },
     "output_type": "display_data"
    }
   ],
   "source": [
    "plt.hist(s_unc_df['norm_uncorrelated_entropy'])\n",
    "plt.xlabel('$S^{unc}$', fontsize=15)\n",
    "plt.ylabel('$P(S^{unc})$', fontsize=15)\n",
    "plt.grid(alpha=0.2)\n",
    "plt.show()\n",
    "\n",
    "#a lot of very predictable users, a few very unpredictable users: In the few unpredictble some of them are very unpredictable.\n",
    "#EPR?"
   ]
  },
  {
   "cell_type": "markdown",
   "metadata": {
    "id": "9HGzfu-AaJBq",
    "tags": []
   },
   "source": [
    "<a id=\"IMN\"></a>\n",
    "### Individual mobility network\n",
    "it is a network where:\n",
    "\n",
    "- nodes represent locations visited by the individual\n",
    "- directed edges represent trips between the locations made by the individual"
   ]
  },
  {
   "cell_type": "code",
   "execution_count": 136,
   "metadata": {
    "id": "xI5H711CaNm9"
   },
   "outputs": [],
   "source": [
    "from skmob.measures.individual import individual_mobility_network"
   ]
  },
  {
   "cell_type": "code",
   "execution_count": 137,
   "metadata": {
    "id": "WO2nq6XQaQYS"
   },
   "outputs": [
    {
     "name": "stderr",
     "output_type": "stream",
     "text": [
      "  0%|          | 0/2757 [00:00<?, ?it/s]"
     ]
    },
    {
     "name": "stderr",
     "output_type": "stream",
     "text": [
      "100%|██████████| 2757/2757 [00:05<00:00, 496.99it/s]\n"
     ]
    },
    {
     "data": {
      "text/html": [
       "<div>\n",
       "<style scoped>\n",
       "    .dataframe tbody tr th:only-of-type {\n",
       "        vertical-align: middle;\n",
       "    }\n",
       "\n",
       "    .dataframe tbody tr th {\n",
       "        vertical-align: top;\n",
       "    }\n",
       "\n",
       "    .dataframe thead th {\n",
       "        text-align: right;\n",
       "    }\n",
       "</style>\n",
       "<table border=\"1\" class=\"dataframe\">\n",
       "  <thead>\n",
       "    <tr style=\"text-align: right;\">\n",
       "      <th></th>\n",
       "      <th>uid</th>\n",
       "      <th>lat_origin</th>\n",
       "      <th>lng_origin</th>\n",
       "      <th>lat_dest</th>\n",
       "      <th>lng_dest</th>\n",
       "      <th>n_trips</th>\n",
       "    </tr>\n",
       "  </thead>\n",
       "  <tbody>\n",
       "    <tr>\n",
       "      <th>0</th>\n",
       "      <td>0</td>\n",
       "      <td>37.774929</td>\n",
       "      <td>-122.419415</td>\n",
       "      <td>37.600747</td>\n",
       "      <td>-122.382376</td>\n",
       "      <td>1</td>\n",
       "    </tr>\n",
       "    <tr>\n",
       "      <th>1</th>\n",
       "      <td>0</td>\n",
       "      <td>37.600747</td>\n",
       "      <td>-122.382376</td>\n",
       "      <td>37.615223</td>\n",
       "      <td>-122.389979</td>\n",
       "      <td>1</td>\n",
       "    </tr>\n",
       "    <tr>\n",
       "      <th>2</th>\n",
       "      <td>0</td>\n",
       "      <td>37.600747</td>\n",
       "      <td>-122.382376</td>\n",
       "      <td>37.580304</td>\n",
       "      <td>-122.343679</td>\n",
       "      <td>1</td>\n",
       "    </tr>\n",
       "    <tr>\n",
       "      <th>3</th>\n",
       "      <td>0</td>\n",
       "      <td>37.615223</td>\n",
       "      <td>-122.389979</td>\n",
       "      <td>39.878664</td>\n",
       "      <td>-104.682105</td>\n",
       "      <td>1</td>\n",
       "    </tr>\n",
       "    <tr>\n",
       "      <th>4</th>\n",
       "      <td>0</td>\n",
       "      <td>37.615223</td>\n",
       "      <td>-122.389979</td>\n",
       "      <td>37.580304</td>\n",
       "      <td>-122.343679</td>\n",
       "      <td>1</td>\n",
       "    </tr>\n",
       "  </tbody>\n",
       "</table>\n",
       "</div>"
      ],
      "text/plain": [
       "   uid  lat_origin  lng_origin   lat_dest    lng_dest n_trips\n",
       "0    0   37.774929 -122.419415  37.600747 -122.382376       1\n",
       "1    0   37.600747 -122.382376  37.615223 -122.389979       1\n",
       "2    0   37.600747 -122.382376  37.580304 -122.343679       1\n",
       "3    0   37.615223 -122.389979  39.878664 -104.682105       1\n",
       "4    0   37.615223 -122.389979  37.580304 -122.343679       1"
      ]
     },
     "execution_count": 137,
     "metadata": {},
     "output_type": "execute_result"
    }
   ],
   "source": [
    "imn_df = individual_mobility_network(tdf)\n",
    "imn_df.head()"
   ]
  },
  {
   "cell_type": "code",
   "execution_count": 138,
   "metadata": {
    "id": "tsviV5zBaXH1"
   },
   "outputs": [
    {
     "data": {
      "text/html": [
       "<div>\n",
       "<style scoped>\n",
       "    .dataframe tbody tr th:only-of-type {\n",
       "        vertical-align: middle;\n",
       "    }\n",
       "\n",
       "    .dataframe tbody tr th {\n",
       "        vertical-align: top;\n",
       "    }\n",
       "\n",
       "    .dataframe thead th {\n",
       "        text-align: right;\n",
       "    }\n",
       "</style>\n",
       "<table border=\"1\" class=\"dataframe\">\n",
       "  <thead>\n",
       "    <tr style=\"text-align: right;\">\n",
       "      <th></th>\n",
       "      <th>uid</th>\n",
       "      <th>lat_origin</th>\n",
       "      <th>lng_origin</th>\n",
       "      <th>lat_dest</th>\n",
       "      <th>lng_dest</th>\n",
       "      <th>n_trips</th>\n",
       "    </tr>\n",
       "  </thead>\n",
       "  <tbody>\n",
       "    <tr>\n",
       "      <th>1686</th>\n",
       "      <td>2</td>\n",
       "      <td>39.758302</td>\n",
       "      <td>-104.936129</td>\n",
       "      <td>39.802002</td>\n",
       "      <td>-105.095430</td>\n",
       "      <td>69</td>\n",
       "    </tr>\n",
       "    <tr>\n",
       "      <th>1452</th>\n",
       "      <td>2</td>\n",
       "      <td>39.802002</td>\n",
       "      <td>-105.095430</td>\n",
       "      <td>39.758302</td>\n",
       "      <td>-104.936129</td>\n",
       "      <td>59</td>\n",
       "    </tr>\n",
       "    <tr>\n",
       "      <th>1493</th>\n",
       "      <td>2</td>\n",
       "      <td>39.739154</td>\n",
       "      <td>-104.984703</td>\n",
       "      <td>39.802002</td>\n",
       "      <td>-105.095430</td>\n",
       "      <td>52</td>\n",
       "    </tr>\n",
       "    <tr>\n",
       "      <th>1446</th>\n",
       "      <td>2</td>\n",
       "      <td>39.802002</td>\n",
       "      <td>-105.095430</td>\n",
       "      <td>39.739154</td>\n",
       "      <td>-104.984703</td>\n",
       "      <td>51</td>\n",
       "    </tr>\n",
       "    <tr>\n",
       "      <th>1535</th>\n",
       "      <td>2</td>\n",
       "      <td>39.739154</td>\n",
       "      <td>-104.984703</td>\n",
       "      <td>39.818040</td>\n",
       "      <td>-105.081949</td>\n",
       "      <td>23</td>\n",
       "    </tr>\n",
       "  </tbody>\n",
       "</table>\n",
       "</div>"
      ],
      "text/plain": [
       "      uid  lat_origin  lng_origin   lat_dest    lng_dest n_trips\n",
       "1686    2   39.758302 -104.936129  39.802002 -105.095430      69\n",
       "1452    2   39.802002 -105.095430  39.758302 -104.936129      59\n",
       "1493    2   39.739154 -104.984703  39.802002 -105.095430      52\n",
       "1446    2   39.802002 -105.095430  39.739154 -104.984703      51\n",
       "1535    2   39.739154 -104.984703  39.818040 -105.081949      23"
      ]
     },
     "execution_count": 138,
     "metadata": {},
     "output_type": "execute_result"
    }
   ],
   "source": [
    "an_imn = imn_df[imn_df.uid == 2]\n",
    "an_imn.sort_values(by='n_trips', ascending=False).head()"
   ]
  },
  {
   "cell_type": "code",
   "execution_count": 139,
   "metadata": {
    "id": "X67ptsabasLm"
   },
   "outputs": [],
   "source": [
    "import networkx as nx\n",
    "from tqdm import tqdm"
   ]
  },
  {
   "cell_type": "code",
   "execution_count": 140,
   "metadata": {
    "id": "4DbI13u1cPYZ"
   },
   "outputs": [
    {
     "name": "stdout",
     "output_type": "stream",
     "text": [
      "1054\n"
     ]
    },
    {
     "data": {
      "text/html": [
       "<div>\n",
       "<style scoped>\n",
       "    .dataframe tbody tr th:only-of-type {\n",
       "        vertical-align: middle;\n",
       "    }\n",
       "\n",
       "    .dataframe tbody tr th {\n",
       "        vertical-align: top;\n",
       "    }\n",
       "\n",
       "    .dataframe thead th {\n",
       "        text-align: right;\n",
       "    }\n",
       "</style>\n",
       "<table border=\"1\" class=\"dataframe\">\n",
       "  <thead>\n",
       "    <tr style=\"text-align: right;\">\n",
       "      <th></th>\n",
       "      <th>uid</th>\n",
       "      <th>lat_origin</th>\n",
       "      <th>lng_origin</th>\n",
       "      <th>lat_dest</th>\n",
       "      <th>lng_dest</th>\n",
       "      <th>n_trips</th>\n",
       "    </tr>\n",
       "  </thead>\n",
       "  <tbody>\n",
       "    <tr>\n",
       "      <th>2413</th>\n",
       "      <td>3</td>\n",
       "      <td>29.894691</td>\n",
       "      <td>-81.314517</td>\n",
       "      <td>37.758839</td>\n",
       "      <td>-122.388345</td>\n",
       "      <td>1</td>\n",
       "    </tr>\n",
       "    <tr>\n",
       "      <th>2414</th>\n",
       "      <td>3</td>\n",
       "      <td>29.894691</td>\n",
       "      <td>-81.314517</td>\n",
       "      <td>29.800407</td>\n",
       "      <td>-81.319127</td>\n",
       "      <td>1</td>\n",
       "    </tr>\n",
       "    <tr>\n",
       "      <th>2415</th>\n",
       "      <td>3</td>\n",
       "      <td>37.758839</td>\n",
       "      <td>-122.388345</td>\n",
       "      <td>37.795105</td>\n",
       "      <td>-122.393861</td>\n",
       "      <td>1</td>\n",
       "    </tr>\n",
       "    <tr>\n",
       "      <th>2416</th>\n",
       "      <td>3</td>\n",
       "      <td>37.795105</td>\n",
       "      <td>-122.393861</td>\n",
       "      <td>37.752539</td>\n",
       "      <td>-122.434248</td>\n",
       "      <td>1</td>\n",
       "    </tr>\n",
       "    <tr>\n",
       "      <th>2417</th>\n",
       "      <td>3</td>\n",
       "      <td>37.795105</td>\n",
       "      <td>-122.393861</td>\n",
       "      <td>37.806327</td>\n",
       "      <td>-122.405041</td>\n",
       "      <td>1</td>\n",
       "    </tr>\n",
       "  </tbody>\n",
       "</table>\n",
       "</div>"
      ],
      "text/plain": [
       "      uid  lat_origin  lng_origin   lat_dest    lng_dest n_trips\n",
       "2413    3   29.894691  -81.314517  37.758839 -122.388345       1\n",
       "2414    3   29.894691  -81.314517  29.800407  -81.319127       1\n",
       "2415    3   37.758839 -122.388345  37.795105 -122.393861       1\n",
       "2416    3   37.795105 -122.393861  37.752539 -122.434248       1\n",
       "2417    3   37.795105 -122.393861  37.806327 -122.405041       1"
      ]
     },
     "execution_count": 140,
     "metadata": {},
     "output_type": "execute_result"
    }
   ],
   "source": [
    "a_user_imn_df = imn_df[imn_df['uid'] == 3]\n",
    "print(len(a_user_imn_df))\n",
    "a_user_imn_df.head()"
   ]
  },
  {
   "cell_type": "code",
   "execution_count": 141,
   "metadata": {
    "id": "_OMqRetJauhp"
   },
   "outputs": [],
   "source": [
    "g = nx.DiGraph()"
   ]
  },
  {
   "cell_type": "code",
   "execution_count": 142,
   "metadata": {
    "id": "JcLqysAga1fk"
   },
   "outputs": [],
   "source": [
    "for i, row in a_user_imn_df.iterrows():\n",
    "    origin = (row['lat_origin'], row['lng_origin'])\n",
    "    destination = (row['lat_dest'], row['lng_dest'])\n",
    "    g.add_edge(origin, destination, weight=row['n_trips'])"
   ]
  },
  {
   "cell_type": "code",
   "execution_count": 143,
   "metadata": {
    "id": "ThJEIPlocnVS"
   },
   "outputs": [
    {
     "data": {
      "image/png": "[encoded data removed]",
      "text/plain": [
       "<Figure size 432x288 with 1 Axes>"
      ]
     },
     "metadata": {},
     "output_type": "display_data"
    }
   ],
   "source": [
    "nx.draw(g, node_size=3, node_color=\"skyblue\")"
   ]
  },
  {
   "cell_type": "code",
   "execution_count": 144,
   "metadata": {},
   "outputs": [
    {
     "data": {
      "text/plain": [
       "[((37.74817, -122.459192), 147),\n",
       " ((37.580304, -122.343679), 139),\n",
       " ((37.776736, -122.394744), 128),\n",
       " ((37.776804, -122.393692), 85),\n",
       " ((37.579361, -122.346108), 39),\n",
       " ((37.753798, -122.455423), 33),\n",
       " ((37.751597, -122.447749), 21),\n",
       " ((37.775566, -122.393478), 17),\n",
       " ((0.0, 0.0), 16),\n",
       " ((37.740104, -122.438231), 13),\n",
       " ((37.579409, -122.345916), 12),\n",
       " ((37.78757, -122.403391), 11),\n",
       " ((37.739761, -122.467074), 11),\n",
       " ((37.584103, -122.366083), 10),\n",
       " ((37.785091, -122.411155), 9),\n",
       " ((37.577765, -122.348001), 9),\n",
       " ((37.753709, -122.454319), 9),\n",
       " ((37.768756, -122.428293), 7),\n",
       " ((37.774929, -122.419415), 7),\n",
       " ((37.784971, -122.407012), 6),\n",
       " ((43.678534, -72.261838), 6),\n",
       " ((43.669169, -72.022158), 6),\n",
       " ((37.787196, -122.397776), 5),\n",
       " ((37.769006, -122.427672), 5),\n",
       " ((37.787428, -122.403346), 5),\n",
       " ((37.741299, -122.465981), 5),\n",
       " ((37.748, -122.463), 5),\n",
       " ((37.787305, -122.398037), 5),\n",
       " ((37.745056, -122.452445), 5),\n",
       " ((37.744731, -122.45299), 5),\n",
       " ((37.615223, -122.389979), 5),\n",
       " ((37.76583, -122.43557), 4),\n",
       " ((37.579938, -122.34627), 4),\n",
       " ((37.578379, -122.347524), 4),\n",
       " ((37.577199, -122.349073), 4),\n",
       " ((37.776803, -122.393728), 4),\n",
       " ((37.777251, -122.395152), 4),\n",
       " ((37.785845, -122.406522), 4),\n",
       " ((37.752015, -122.456203), 4),\n",
       " ((37.773228, -122.421512), 4),\n",
       " ((38.944444, -77.455833), 4),\n",
       " ((43.702275, -72.289386), 4),\n",
       " ((43.624204, -72.325826), 4),\n",
       " ((37.782776, -122.401932), 3),\n",
       " ((37.784454, -122.407425), 3),\n",
       " ((37.767154, -122.42905), 3),\n",
       " ((37.783743, -122.402127), 3),\n",
       " ((37.769954, -122.424832), 3),\n",
       " ((37.778204, -122.415479), 3),\n",
       " ((37.586018, -122.364827), 3),\n",
       " ((37.769928, -122.422366), 3),\n",
       " ((37.579373, -122.344684), 3),\n",
       " ((37.578249, -122.34712), 3),\n",
       " ((37.597025, -122.386329), 3),\n",
       " ((37.579747, -122.345222), 3),\n",
       " ((37.7375, -122.472778), 3),\n",
       " ((37.789803, -122.389757), 3),\n",
       " ((37.778783, -122.390719), 3),\n",
       " ((37.773098, -122.421697), 3),\n",
       " ((37.786083, -122.406298), 3),\n",
       " ((37.740352, -122.466414), 3),\n",
       " ((37.73898, -122.467795), 3),\n",
       " ((37.879167, -122.513611), 3),\n",
       " ((37.787585, -122.421868), 3),\n",
       " ((37.77648, -122.394067), 3),\n",
       " ((37.76135, -122.425978), 3),\n",
       " ((37.765842, -122.409566), 3),\n",
       " ((37.774955, -122.419055), 3),\n",
       " ((41.978611, -87.904722), 3),\n",
       " ((25.779434, -80.132497), 3),\n",
       " ((37.761538, -122.425718), 3),\n",
       " ((43.701331, -72.289402), 3),\n",
       " ((43.62616, -72.32437), 3),\n",
       " ((43.632856, -72.318603), 3),\n",
       " ((43.642867, -72.252068), 3),\n",
       " ((29.894691, -81.314517), 2),\n",
       " ((29.800407, -81.319127), 2),\n",
       " ((37.795105, -122.393861), 2),\n",
       " ((37.773164, -122.40329), 2),\n",
       " ((37.799469, -122.439251), 2),\n",
       " ((37.752681, -122.418428), 2),\n",
       " ((37.771781, -122.401662), 2),\n",
       " ((37.786751, -122.408467), 2),\n",
       " ((37.785478, -122.399714), 2),\n",
       " ((35.509765, -115.432993), 2),\n",
       " ((30.491352, -81.68345), 2),\n",
       " ((38.952742, -77.447758), 2),\n",
       " ((37.774857, -122.437614), 2),\n",
       " ((37.795574, -122.421686), 2),\n",
       " ((37.578351, -122.346785), 2),\n",
       " ((37.579335, -122.345959), 2),\n",
       " ((37.787383, -122.403334), 2),\n",
       " ((37.786846, -122.412625), 2),\n",
       " ((37.780592, -122.388872), 2),\n",
       " ((37.796595, -122.408582), 2),\n",
       " ((37.78211, -122.388445), 2),\n",
       " ((37.788646, -122.401669), 2),\n",
       " ((37.778793, -122.392664), 2),\n",
       " ((37.787695, -122.408276), 2),\n",
       " ((37.784159, -122.411014), 2),\n",
       " ((37.740167, -122.466406), 2),\n",
       " ((37.75978, -122.42601), 2),\n",
       " ((37.787402, -122.398996), 2),\n",
       " ((37.447962, -122.159724), 2),\n",
       " ((37.787263, -122.416288), 2),\n",
       " ((37.784058, -122.411588), 2),\n",
       " ((37.773364, -122.421481), 2),\n",
       " ((37.772448, -122.422504), 2),\n",
       " ((37.74846, -122.452401), 2),\n",
       " ((37.76713, -122.428892), 2),\n",
       " ((33.9425, -118.407222), 2),\n",
       " ((25.791858, -80.128803), 2),\n",
       " ((37.759765, -122.427064), 2),\n",
       " ((37.775678, -122.393479), 2),\n",
       " ((37.772058, -122.431027), 2),\n",
       " ((37.761114, -122.434559), 2),\n",
       " ((37.779375, -122.390443), 2),\n",
       " ((37.747528, -122.458757), 2),\n",
       " ((37.75882, -122.4272), 2),\n",
       " ((37.752707, -122.410979), 2),\n",
       " ((30.493155, -81.681002), 2),\n",
       " ((40.0, -82.883333), 2),\n",
       " ((43.676196, -72.262488), 2),\n",
       " ((43.702184, -72.289401), 2),\n",
       " ((43.701664, -72.289358), 2),\n",
       " ((43.621432, -72.326949), 2),\n",
       " ((43.67726, -72.258967), 2),\n",
       " ((43.701404, -72.290726), 2),\n",
       " ((43.642811, -72.252435), 2),\n",
       " ((43.637999, -72.273048), 2),\n",
       " ((42.702517, -71.440793), 2),\n",
       " ((37.758839, -122.388345), 1),\n",
       " ((37.752539, -122.434248), 1),\n",
       " ((37.806327, -122.405041), 1),\n",
       " ((37.764671, -122.404182), 1),\n",
       " ((37.778539, -122.415132), 1),\n",
       " ((37.786072, -122.405342), 1),\n",
       " ((37.784894, -122.410896), 1),\n",
       " ((37.776224, -122.394001), 1),\n",
       " ((37.797933, -122.405661), 1),\n",
       " ((37.781629, -122.394283), 1),\n",
       " ((37.391076, -122.08071), 1),\n",
       " ((38.111374, -122.568316), 1),\n",
       " ((37.784697, -122.404477), 1),\n",
       " ((37.807506, -122.421577), 1),\n",
       " ((37.787011, -122.408683), 1),\n",
       " ((37.564882, -122.307722), 1),\n",
       " ((37.760534, -122.388474), 1),\n",
       " ((37.774633, -122.436045), 1),\n",
       " ((37.772026, -122.431276), 1),\n",
       " ((39.170374, -119.760847), 1),\n",
       " ((37.782544, -122.392465), 1),\n",
       " ((39.146343, -119.767592), 1),\n",
       " ((38.477079, -122.728802), 1),\n",
       " ((37.765047, -122.431945), 1),\n",
       " ((37.770488, -122.411106), 1),\n",
       " ((37.781224, -122.399966), 1),\n",
       " ((37.790813, -122.403674), 1),\n",
       " ((29.960007, -81.509506), 1),\n",
       " ((30.332201, -81.596746), 1),\n",
       " ((37.787036, -122.398719), 1),\n",
       " ((37.777176, -122.399261), 1),\n",
       " ((37.784668, -122.406418), 1),\n",
       " ((37.787196, -122.397775), 1),\n",
       " ((37.781035, -122.394758), 1),\n",
       " ((30.268295, -97.741364), 1),\n",
       " ((37.787051, -122.41003), 1),\n",
       " ((32.737152, -117.177719), 1),\n",
       " ((37.995471, -122.2865), 1),\n",
       " ((37.987794, -122.327833), 1),\n",
       " ((37.433313, -122.439589), 1),\n",
       " ((37.55204, -122.305737), 1),\n",
       " ((37.492022, -122.21797), 1),\n",
       " ((37.579854, -122.348244), 1),\n",
       " ((37.415892, -122.146323), 1),\n",
       " ((37.579663, -122.345006), 1),\n",
       " ((37.482345, -122.179864), 1),\n",
       " ((37.384257, -121.972776), 1),\n",
       " ((37.339516, -121.905803), 1),\n",
       " ((37.327842, -121.840675), 1),\n",
       " ((37.096252, -121.151841), 1),\n",
       " ((37.049526, -120.963229), 1),\n",
       " ((36.64696, -120.630203), 1),\n",
       " ((36.19965, -120.177244), 1),\n",
       " ((35.616175, -119.66429), 1),\n",
       " ((34.985341, -118.946623), 1),\n",
       " ((34.888403, -118.907092), 1),\n",
       " ((34.455731, -118.620955), 1),\n",
       " ((34.314702, -118.48767), 1),\n",
       " ((33.805293, -118.133711), 1),\n",
       " ((33.803626, -117.923748), 1),\n",
       " ((33.807426, -117.927408), 1),\n",
       " ((33.802197, -117.92807), 1),\n",
       " ((33.784113, -117.914353), 1),\n",
       " ((33.988169, -118.449816), 1),\n",
       " ((34.006274, -118.495788), 1),\n",
       " ((34.098314, -118.312825), 1),\n",
       " ((34.097276, -118.337161), 1),\n",
       " ((34.101588, -118.340854), 1),\n",
       " ((34.083364, -118.386548), 1),\n",
       " ((34.035145, -118.335484), 1),\n",
       " ((34.034033, -118.148609), 1),\n",
       " ((34.121098, -117.810225), 1),\n",
       " ((34.127334, -117.499086), 1),\n",
       " ((34.150308, -117.473408), 1),\n",
       " ((34.841926, -117.088147), 1),\n",
       " ((34.947811, -116.865018), 1),\n",
       " ((35.183125, -116.158069), 1),\n",
       " ((35.655989, -115.379542), 1),\n",
       " ((34.9996, -117.650865), 1),\n",
       " ((35.959985, -115.181348), 1),\n",
       " ((36.100397, -115.179968), 1),\n",
       " ((36.014052, -114.737033), 1),\n",
       " ((36.100791, -115.111284), 1),\n",
       " ((36.150371, -115.152306), 1),\n",
       " ((36.110585, -115.155215), 1),\n",
       " ((36.105753, -115.15515), 1),\n",
       " ((35.204569, -118.5313), 1),\n",
       " ((35.39324, -118.967399), 1),\n",
       " ((35.030408, -120.477525), 1),\n",
       " ((35.147939, -120.645884), 1),\n",
       " ((35.156901, -120.678056), 1),\n",
       " ((35.859531, -120.802224), 1),\n",
       " ((37.485714, -122.196757), 1),\n",
       " ((37.79313, -122.446511), 1),\n",
       " ((37.445305, -122.162006), 1),\n",
       " ((37.31929, -121.94828), 1),\n",
       " ((37.843932, -122.251868), 1),\n",
       " ((37.869467, -122.253525), 1),\n",
       " ((37.380469, -122.014939), 1),\n",
       " ((37.382391, -121.977913), 1),\n",
       " ((37.876403, -122.306655), 1),\n",
       " ((38.859966, -121.952091), 1),\n",
       " ((39.667227, -122.204544), 1),\n",
       " ((40.391582, -122.283116), 1),\n",
       " ((41.22267, -122.275058), 1),\n",
       " ((42.387811, -122.929965), 1),\n",
       " ((43.149635, -123.371854), 1),\n",
       " ((44.045314, -123.0497), 1),\n",
       " ((45.383569, -122.755726), 1),\n",
       " ((45.512734, -122.655559), 1),\n",
       " ((46.591666, -122.899052), 1),\n",
       " ((47.189628, -122.451147), 1),\n",
       " ((47.38388, -122.292065), 1),\n",
       " ((47.463167, -122.245423), 1),\n",
       " ((47.61167, -122.339793), 1),\n",
       " ((47.194873, -122.462861), 1),\n",
       " ((47.036744, -122.903157), 1),\n",
       " ((44.052445, -123.09377), 1),\n",
       " ((43.768454, -123.065841), 1),\n",
       " ((42.771594, -123.303549), 1),\n",
       " ((42.500315, -123.368411), 1),\n",
       " ((42.425147, -123.115235), 1),\n",
       " ((42.083982, -122.600987), 1),\n",
       " ((41.134737, -121.871969), 1),\n",
       " ((41.477967, -122.45688), 1),\n",
       " ((40.700234, -122.340721), 1),\n",
       " ((40.127448, -122.219033), 1),\n",
       " ((38.705975, -121.956726), 1),\n",
       " ((38.257629, -122.041717), 1),\n",
       " ((37.355531, -122.126087), 1),\n",
       " ((33.928746, -118.230217), 1),\n",
       " ((33.942187, -118.242956), 1),\n",
       " ((33.929673, -118.377179), 1),\n",
       " ((37.12437, -122.12239), 1),\n",
       " ((37.747867, -122.394772), 1),\n",
       " ((37.764317, -122.388967), 1),\n",
       " ((37.332085, -121.920708), 1),\n",
       " ((37.598622, -122.372767), 1),\n",
       " ((37.577059, -122.350818), 1),\n",
       " ((37.786706, -122.411105), 1),\n",
       " ((37.752563, -122.412814), 1),\n",
       " ((37.779478, -122.417032), 1),\n",
       " ((37.68893, -122.397199), 1),\n",
       " ((37.577733, -122.348247), 1),\n",
       " ((37.600289, -122.383851), 1),\n",
       " ((37.565956, -122.322845), 1),\n",
       " ((37.577516, -122.34819), 1),\n",
       " ((37.596665, -122.38645), 1),\n",
       " ((37.578781, -122.345633), 1),\n",
       " ((37.579738, -122.345601), 1),\n",
       " ((37.579696, -122.345511), 1),\n",
       " ((37.777314, -122.419791), 1),\n",
       " ((37.331684, -122.030801), 1),\n",
       " ((37.972392, -122.521852), 1),\n",
       " ((37.578818, -122.345645), 1),\n",
       " ((37.682554, -122.394714), 1),\n",
       " ((37.567568, -122.324588), 1),\n",
       " ((37.579032, -122.344851), 1),\n",
       " ((37.788922, -122.407182), 1),\n",
       " ((37.578379, -122.348967), 1),\n",
       " ((37.698386, -122.480649), 1),\n",
       " ((37.789531, -122.405356), 1),\n",
       " ((37.65922, -122.405178), 1),\n",
       " ((37.773085, -122.42168), 1),\n",
       " ((37.586591, -122.364345), 1),\n",
       " ((37.761973, -122.435085), 1),\n",
       " ((37.788414, -122.398219), 1),\n",
       " ((37.78505, -122.399817), 1),\n",
       " ((37.7753, -122.398058), 1),\n",
       " ((37.767386, -122.406618), 1),\n",
       " ((37.76791, -122.394186), 1),\n",
       " ((37.775666, -122.394716), 1),\n",
       " ((37.78096, -122.420354), 1),\n",
       " ((37.774693, -122.438025), 1),\n",
       " ((37.785569, -122.401154), 1),\n",
       " ((37.428991, -121.919878), 1),\n",
       " ((37.78413, -122.403864), 1),\n",
       " ((37.787458, -122.40131), 1),\n",
       " ((37.787666, -122.403425), 1),\n",
       " ((37.787091, -122.3988), 1),\n",
       " ((37.789524, -122.405359), 1),\n",
       " ((37.791174, -122.398126), 1),\n",
       " ((37.798255, -122.407351), 1),\n",
       " ((37.797533, -122.431855), 1),\n",
       " ((37.739462, -122.467409), 1),\n",
       " ((37.740726, -122.46588), 1),\n",
       " ((37.739312, -122.46752), 1),\n",
       " ((37.78036, -122.475237), 1),\n",
       " ((37.753473, -122.447521), 1),\n",
       " ((37.764235, -122.43339), 1),\n",
       " ((37.740275, -122.466491), 1),\n",
       " ((37.761458, -122.423943), 1),\n",
       " ((37.786583, -122.401664), 1),\n",
       " ((37.752631, -122.415346), 1),\n",
       " ((37.787429, -122.399384), 1),\n",
       " ((37.782545, -122.407708), 1),\n",
       " ((37.789508, -122.420606), 1),\n",
       " ((37.786097, -122.410225), 1),\n",
       " ((37.786498, -122.397027), 1),\n",
       " ((37.762024, -122.435087), 1),\n",
       " ((37.785043, -122.413455), 1),\n",
       " ((37.782912, -122.40669), 1),\n",
       " ((37.780812, -122.399648), 1),\n",
       " ((37.760999, -122.433358), 1),\n",
       " ((37.787111, -122.419719), 1),\n",
       " ((38.411285, -122.840967), 1),\n",
       " ((38.408868, -122.839925), 1),\n",
       " ((37.768753, -122.427507), 1),\n",
       " ((37.774627, -122.419891), 1),\n",
       " ((37.4468, -122.16066), 1),\n",
       " ((37.447058, -122.1609), 1),\n",
       " ((37.424106, -122.166076), 1),\n",
       " ((37.321316, -121.9478), 1),\n",
       " ((37.32094, -121.947865), 1),\n",
       " ((37.322876, -121.949578), 1),\n",
       " ((37.394944, -122.078348), 1),\n",
       " ((37.740036, -122.466752), 1),\n",
       " ((37.787177, -122.403166), 1),\n",
       " ((37.784121, -122.410913), 1),\n",
       " ((37.787136, -122.410323), 1),\n",
       " ((37.708216, -122.40189), 1),\n",
       " ((37.786499, -122.409517), 1),\n",
       " ((37.789321, -122.420826), 1),\n",
       " ((37.778317, -122.417371), 1),\n",
       " ((37.784508, -122.404274), 1),\n",
       " ((37.770681, -122.425225), 1),\n",
       " ((37.767158, -122.428932), 1),\n",
       " ((37.782054, -122.410932), 1),\n",
       " ((37.770011, -122.422245), 1),\n",
       " ((37.578202, -122.347644), 1),\n",
       " ((37.79443, -122.394862), 1),\n",
       " ((37.635589, -122.420453), 1),\n",
       " ((37.576802, -122.346871), 1),\n",
       " ((37.798499, -122.424422), 1),\n",
       " ((34.101551, -118.340148), 1),\n",
       " ((39.762352, -104.982366), 1),\n",
       " ((37.742512, -122.489799), 1),\n",
       " ((37.750607, -122.461525), 1),\n",
       " ((37.746302, -122.426689), 1),\n",
       " ((37.77651, -122.438048), 1),\n",
       " ((37.77986, -122.39028), 1),\n",
       " ((37.753717, -122.453601), 1),\n",
       " ((37.764763, -122.424141), 1),\n",
       " ((37.752059, -122.451582), 1),\n",
       " ((37.766943, -122.429675), 1),\n",
       " ((37.742367, -122.455766), 1),\n",
       " ((37.764092, -122.464922), 1),\n",
       " ((37.78929, -122.401389), 1),\n",
       " ((37.600264, -122.3826), 1),\n",
       " ((37.728557, -122.476766), 1),\n",
       " ((37.781246, -122.399063), 1),\n",
       " ((37.910853, -122.307656), 1),\n",
       " ((37.810406, -122.410541), 1),\n",
       " ((37.738272, -122.468825), 1),\n",
       " ((37.760349, -122.509301), 1),\n",
       " ((37.761363, -122.434683), 1),\n",
       " ((37.775947, -122.393609), 1),\n",
       " ((37.667089, -122.395209), 1),\n",
       " ((37.577781, -122.347947), 1),\n",
       " ((37.783612, -122.388162), 1),\n",
       " ((37.752484, -122.414191), 1),\n",
       " ((37.771792, -122.407587), 1),\n",
       " ((37.776712, -122.424334), 1),\n",
       " ((37.765461, -122.40786), 1),\n",
       " ((37.754598, -122.463649), 1),\n",
       " ((37.769757, -122.4247), 1),\n",
       " ((37.787634, -122.413632), 1),\n",
       " ((37.566137, -122.32148), 1),\n",
       " ((37.786779, -122.412649), 1),\n",
       " ((37.830513, -122.292863), 1),\n",
       " ((37.770976, -122.407849), 1),\n",
       " ((37.598385, -122.376036), 1),\n",
       " ((33.945289, -118.399503), 1),\n",
       " ((42.36646, -71.02018), 1),\n",
       " ((26.0725, -80.152778), 1),\n",
       " ((25.774467, -80.139828), 1),\n",
       " ((37.598547, -122.387194), 1),\n",
       " ((37.761049, -122.432559), 1),\n",
       " ((37.78368, -122.398777), 1),\n",
       " ((37.772721, -122.422175), 1),\n",
       " ((37.763784, -122.509677), 1),\n",
       " ((25.801326, -80.188911), 1),\n",
       " ((25.785165, -80.129763), 1),\n",
       " ((25.7684, -80.133263), 1),\n",
       " ((25.778331, -80.131106), 1),\n",
       " ((25.786787, -80.129524), 1),\n",
       " ((25.790654, -80.130045), 1),\n",
       " ((25.790555, -80.136303), 1),\n",
       " ((25.790654, -80.130046), 1),\n",
       " ((25.787029, -80.130573), 1),\n",
       " ((25.787758, -80.131714), 1),\n",
       " ((25.986827, -80.119386), 1),\n",
       " ((25.778581, -80.132114), 1),\n",
       " ((25.776077, -80.131595), 1),\n",
       " ((25.776172, -80.131574), 1),\n",
       " ((25.778659, -80.1332), 1),\n",
       " ((25.771588, -80.134731), 1),\n",
       " ((25.778985, -80.133129), 1),\n",
       " ((25.777942, -80.13116), 1),\n",
       " ((25.784496, -80.188903), 1),\n",
       " ((28.034408, -80.621918), 1),\n",
       " ((29.827912, -81.37728), 1),\n",
       " ((37.712429, -122.411494), 1),\n",
       " ((37.761233, -122.430739), 1),\n",
       " ((37.744358, -122.453584), 1),\n",
       " ((37.597133, -122.38642), 1),\n",
       " ((37.760911, -122.434814), 1),\n",
       " ((37.778464, -122.392257), 1),\n",
       " ((37.765728, -122.408811), 1),\n",
       " ((37.770638, -122.407693), 1),\n",
       " ((37.762849, -122.434458), 1),\n",
       " ((37.764886, -122.387393), 1),\n",
       " ((37.723175, -122.453907), 1),\n",
       " ((37.785496, -122.430335), 1),\n",
       " ((37.578279, -122.347529), 1),\n",
       " ((37.781117, -122.463763), 1),\n",
       " ((37.781904, -122.446218), 1),\n",
       " ((37.782495, -122.407597), 1),\n",
       " ((37.770432, -122.421784), 1),\n",
       " ((37.773108, -122.403157), 1),\n",
       " ((37.786764, -122.412761), 1),\n",
       " ((37.787096, -122.410458), 1),\n",
       " ((37.797344, -122.431639), 1),\n",
       " ((37.577721, -122.340812), 1),\n",
       " ((37.654656, -122.40775), 1),\n",
       " ((37.712266, -122.402621), 1),\n",
       " ((37.580352, -122.34406), 1),\n",
       " ((37.594217, -122.364454), 1),\n",
       " ((37.767093, -122.429806), 1),\n",
       " ((37.763188, -122.389089), 1),\n",
       " ((37.79461, -122.396592), 1),\n",
       " ((37.771092, -122.40253), 1),\n",
       " ((37.764068, -122.465903), 1),\n",
       " ((37.721311, -122.418239), 1),\n",
       " ((37.760886, -122.419284), 1),\n",
       " ((37.636043, -122.418771), 1),\n",
       " ((37.782728, -122.388596), 1),\n",
       " ((37.788277, -122.402675), 1),\n",
       " ((37.57678, -122.35144), 1),\n",
       " ((37.789483, -122.388703), 1),\n",
       " ((37.765415, -122.402643), 1),\n",
       " ((37.745247, -122.452112), 1),\n",
       " ((37.744663, -122.453104), 1),\n",
       " ((37.787684, -122.413492), 1),\n",
       " ((37.751554, -122.460106), 1),\n",
       " ((37.786318, -122.405092), 1),\n",
       " ((37.761132, -122.43059), 1),\n",
       " ((37.775677, -122.389328), 1),\n",
       " ((37.777353, -122.390275), 1),\n",
       " ((37.766982, -122.410636), 1),\n",
       " ((37.771256, -122.410913), 1),\n",
       " ((37.762354, -122.39779), 1),\n",
       " ((37.764923, -122.387343), 1),\n",
       " ((37.775766, -122.385586), 1),\n",
       " ((37.776215, -122.43448), 1),\n",
       " ((37.777481, -122.433408), 1),\n",
       " ((37.780587, -122.432151), 1),\n",
       " ((37.799767, -122.436152), 1),\n",
       " ((37.78413, -122.433153), 1),\n",
       " ((37.776312, -122.432822), 1),\n",
       " ((37.784882, -122.404744), 1),\n",
       " ((37.633383, -122.494226), 1),\n",
       " ((37.785649, -122.399279), 1),\n",
       " ((37.738725, -122.468268), 1),\n",
       " ((37.771995, -122.431684), 1),\n",
       " ((37.766315, -122.41053), 1),\n",
       " ((37.770028, -122.422098), 1),\n",
       " ((37.764138, -122.465968), 1),\n",
       " ((37.76385, -122.466341), 1),\n",
       " ((37.762479, -122.466609), 1),\n",
       " ((37.580655, -122.344044), 1),\n",
       " ((37.772326, -122.422643), 1),\n",
       " ((37.787202, -122.397736), 1),\n",
       " ((37.759858, -122.426007), 1),\n",
       " ((37.762117, -122.435296), 1),\n",
       " ((37.565844, -122.319927), 1),\n",
       " ((37.748203, -122.449211), 1),\n",
       " ((37.628145, -122.426425), 1),\n",
       " ((37.41605, -122.151801), 1),\n",
       " ((37.752081, -122.420905), 1),\n",
       " ((37.697266, -122.484562), 1),\n",
       " ((37.776712, -122.511926), 1),\n",
       " ((37.762344, -122.462631), 1),\n",
       " ((37.79, -122.47), 1),\n",
       " ((37.818882, -122.478393), 1),\n",
       " ((37.835277, -122.484105), 1),\n",
       " ((37.828733, -122.479855), 1),\n",
       " ((37.837488, -122.479414), 1),\n",
       " ((37.721117, -122.437163), 1),\n",
       " ((37.780039, -122.483118), 1),\n",
       " ((37.780151, -122.48515), 1),\n",
       " ((37.784758, -122.500412), 1),\n",
       " ((37.764594, -122.426862), 1),\n",
       " ((37.760978, -122.433301), 1),\n",
       " ((37.784209, -122.401574), 1),\n",
       " ((37.785057, -122.407321), 1),\n",
       " ((37.779293, -122.398131), 1),\n",
       " ((37.785997, -122.396829), 1),\n",
       " ((37.774082, -122.395681), 1),\n",
       " ((37.753684, -122.450908), 1),\n",
       " ((37.781479, -122.398796), 1),\n",
       " ((37.779533, -122.398061), 1),\n",
       " ((37.807883, -122.418311), 1),\n",
       " ((37.807959, -122.418022), 1),\n",
       " ((37.605662, -122.396242), 1),\n",
       " ((37.739015, -122.415557), 1),\n",
       " ((37.789151, -122.421987), 1),\n",
       " ((37.797691, -122.430553), 1),\n",
       " ((37.74315, -122.473922), 1),\n",
       " ((37.807691, -122.412498), 1),\n",
       " ((41.985999, -87.885595), 1),\n",
       " ((41.921738, -87.712336), 1),\n",
       " ((29.990341, -81.467321), 1),\n",
       " ((29.923585, -81.412764), 1),\n",
       " ((29.922066, -81.417435), 1),\n",
       " ((29.924674, -81.413497), 1),\n",
       " ((29.91634, -81.361296), 1),\n",
       " ((29.895263, -81.313762), 1),\n",
       " ((29.890749, -81.31374), 1),\n",
       " ((29.858525, -81.281322), 1),\n",
       " ((29.869878, -81.32306), 1),\n",
       " ((29.918861, -81.413455), 1),\n",
       " ((29.914669, -81.411742), 1),\n",
       " ((29.844644, -81.266099), 1),\n",
       " ((38.959761, -77.449351), 1),\n",
       " ((36.084631, -115.149751), 1),\n",
       " ((37.789844, -122.403565), 1),\n",
       " ((37.793233, -122.399749), 1),\n",
       " ((37.787471, -122.407359), 1),\n",
       " ((37.754976, -122.446652), 1),\n",
       " ((42.351822, -71.055788), 1),\n",
       " ((43.660425, -72.244264), 1),\n",
       " ((43.702293, -72.289535), 1),\n",
       " ((43.647527, -72.310244), 1),\n",
       " ((43.677153, -72.262434), 1),\n",
       " ((43.697757, -72.281079), 1),\n",
       " ((43.702404, -72.288643), 1),\n",
       " ((43.630966, -72.157654), 1),\n",
       " ((43.647165, -72.334039), 1),\n",
       " ((43.633106, -72.318265), 1),\n",
       " ((43.632156, -72.319732), 1),\n",
       " ((43.642819, -72.120728), 1),\n",
       " ((43.700922, -72.287485), 1),\n",
       " ((43.640627, -72.143976), 1),\n",
       " ((43.608922, -72.192944), 1),\n",
       " ((43.642736, -72.251865), 1),\n",
       " ((43.62395, -72.326655), 1),\n",
       " ((43.646582, -72.253719), 1),\n",
       " ((43.665554, -72.041626), 1),\n",
       " ((42.942524, -71.471898), 1),\n",
       " ((42.038239, -72.616262), 1),\n",
       " ((43.699763, -72.287547), 1),\n",
       " ((43.629345, -72.32212), 1),\n",
       " ((43.650906, -72.241412), 1),\n",
       " ((43.699824, -72.289545), 1),\n",
       " ((43.644018, -72.141292), 1),\n",
       " ((42.460372, -71.348948), 1),\n",
       " ((42.455669, -71.355854), 1),\n",
       " ((42.455129, -71.356989), 1),\n",
       " ((42.540962, -70.94432), 1),\n",
       " ((42.70125, -71.436615), 1),\n",
       " ((42.767425, -71.225022), 1),\n",
       " ((43.689026, -72.049507), 1),\n",
       " ((43.642108, -72.12448), 1),\n",
       " ((42.460077, -71.34952), 1),\n",
       " ((43.700745, -72.288226), 1),\n",
       " ((42.928187, -71.438109), 1),\n",
       " ((43.678735, -72.262689), 1),\n",
       " ((43.642762, -72.252435), 1),\n",
       " ((42.008137, -87.932972), 1),\n",
       " ((39.968768, -83.003765), 1),\n",
       " ((38.958138, -77.448705), 1),\n",
       " ((39.969281, -83.003997), 1),\n",
       " ((39.961176, -82.998794), 1),\n",
       " ((36.096582, -115.172813), 1),\n",
       " ((36.096146, -115.173075), 1),\n",
       " ((36.127536, -115.168015), 1),\n",
       " ((36.112303, -115.1748), 1),\n",
       " ((36.101583, -115.18208), 1),\n",
       " ((36.121071, -115.175604), 1),\n",
       " ((36.053911, -115.172091), 1),\n",
       " ((36.117798, -115.172926), 1),\n",
       " ((38.94511, -77.451706), 0)]"
      ]
     },
     "execution_count": 144,
     "metadata": {},
     "output_type": "execute_result"
    }
   ],
   "source": [
    "#calculate weighted out degree in g per each node\n",
    "out_degree = dict(g.out_degree(weight='weight'))\n",
    "#sort the dict by value\n",
    "out_degree = sorted(out_degree.items(), key=lambda x: x[1], reverse=True)\n",
    "\n",
    "out_degree"
   ]
  },
  {
   "cell_type": "code",
   "execution_count": 145,
   "metadata": {},
   "outputs": [
    {
     "name": "stderr",
     "output_type": "stream",
     "text": [
      "100%|██████████| 1/1 [00:00<00:00, 232.13it/s]\n"
     ]
    },
    {
     "data": {
      "text/html": [
       "<div>\n",
       "<style scoped>\n",
       "    .dataframe tbody tr th:only-of-type {\n",
       "        vertical-align: middle;\n",
       "    }\n",
       "\n",
       "    .dataframe tbody tr th {\n",
       "        vertical-align: top;\n",
       "    }\n",
       "\n",
       "    .dataframe thead th {\n",
       "        text-align: right;\n",
       "    }\n",
       "</style>\n",
       "<table border=\"1\" class=\"dataframe\">\n",
       "  <thead>\n",
       "    <tr style=\"text-align: right;\">\n",
       "      <th></th>\n",
       "      <th>uid</th>\n",
       "      <th>lat</th>\n",
       "      <th>lng</th>\n",
       "    </tr>\n",
       "  </thead>\n",
       "  <tbody>\n",
       "    <tr>\n",
       "      <th>0</th>\n",
       "      <td>3</td>\n",
       "      <td>37.74817</td>\n",
       "      <td>-122.459192</td>\n",
       "    </tr>\n",
       "  </tbody>\n",
       "</table>\n",
       "</div>"
      ],
      "text/plain": [
       "   uid       lat         lng\n",
       "0    3  37.74817 -122.459192"
      ]
     },
     "execution_count": 145,
     "metadata": {},
     "output_type": "execute_result"
    }
   ],
   "source": [
    "from skmob.measures.individual import home_location\n",
    "\n",
    "hl_df = home_location(tdf[tdf['uid'] == 3])\n",
    "\n",
    "hl_df.head()"
   ]
  },
  {
   "cell_type": "code",
   "execution_count": 146,
   "metadata": {},
   "outputs": [
    {
     "name": "stdout",
     "output_type": "stream",
     "text": [
      "(37.74817, -122.459192)\n",
      "(37.74817, -122.459192)\n"
     ]
    }
   ],
   "source": [
    "print(out_degree[0][0])\n",
    "print((hl_df['lat'].values[0], hl_df['lng'].values[0]))"
   ]
  },
  {
   "cell_type": "markdown",
   "metadata": {
    "id": "OsRuNUb2mK6M"
   },
   "source": [
    "You may custommize the visualization of the network: https://www.python-graph-gallery.com/321-custom-networkx-graph-appearance"
   ]
  },
  {
   "cell_type": "markdown",
   "metadata": {
    "id": "rSY8Li0WiPNA"
   },
   "source": [
    "## Collective measures\n",
    "are computed on the trajectories of all individual together and quantify standard collective mobility patterns"
   ]
  },
  {
   "cell_type": "markdown",
   "metadata": {
    "id": "YHxOj_cnia5Q"
   },
   "source": [
    "<a id=\"visits_per_location\"></a>\n",
    "### Visits per location\n",
    "number of visits to a location made by the population of individuals"
   ]
  },
  {
   "cell_type": "code",
   "execution_count": 147,
   "metadata": {
    "id": "dl0sPx5QidWP"
   },
   "outputs": [],
   "source": [
    "from skmob.measures.collective import visits_per_location"
   ]
  },
  {
   "cell_type": "code",
   "execution_count": 148,
   "metadata": {
    "id": "iFb1qaQvifro"
   },
   "outputs": [
    {
     "data": {
      "text/html": [
       "<div>\n",
       "<style scoped>\n",
       "    .dataframe tbody tr th:only-of-type {\n",
       "        vertical-align: middle;\n",
       "    }\n",
       "\n",
       "    .dataframe tbody tr th {\n",
       "        vertical-align: top;\n",
       "    }\n",
       "\n",
       "    .dataframe thead th {\n",
       "        text-align: right;\n",
       "    }\n",
       "</style>\n",
       "<table border=\"1\" class=\"dataframe\">\n",
       "  <thead>\n",
       "    <tr style=\"text-align: right;\">\n",
       "      <th></th>\n",
       "      <th>lat</th>\n",
       "      <th>lng</th>\n",
       "      <th>n_visits</th>\n",
       "    </tr>\n",
       "  </thead>\n",
       "  <tbody>\n",
       "    <tr>\n",
       "      <th>0</th>\n",
       "      <td>0.000000</td>\n",
       "      <td>0.000000</td>\n",
       "      <td>20397</td>\n",
       "    </tr>\n",
       "    <tr>\n",
       "      <th>1</th>\n",
       "      <td>39.739154</td>\n",
       "      <td>-104.984703</td>\n",
       "      <td>11949</td>\n",
       "    </tr>\n",
       "    <tr>\n",
       "      <th>2</th>\n",
       "      <td>40.014986</td>\n",
       "      <td>-105.270546</td>\n",
       "      <td>5893</td>\n",
       "    </tr>\n",
       "    <tr>\n",
       "      <th>3</th>\n",
       "      <td>37.774929</td>\n",
       "      <td>-122.419415</td>\n",
       "      <td>4993</td>\n",
       "    </tr>\n",
       "    <tr>\n",
       "      <th>4</th>\n",
       "      <td>40.714269</td>\n",
       "      <td>-74.005973</td>\n",
       "      <td>3626</td>\n",
       "    </tr>\n",
       "  </tbody>\n",
       "</table>\n",
       "</div>"
      ],
      "text/plain": [
       "         lat         lng  n_visits\n",
       "0   0.000000    0.000000     20397\n",
       "1  39.739154 -104.984703     11949\n",
       "2  40.014986 -105.270546      5893\n",
       "3  37.774929 -122.419415      4993\n",
       "4  40.714269  -74.005973      3626"
      ]
     },
     "execution_count": 148,
     "metadata": {},
     "output_type": "execute_result"
    }
   ],
   "source": [
    "vpl_df = visits_per_location(tdf)\n",
    "vpl_df.head()"
   ]
  },
  {
   "cell_type": "code",
   "execution_count": 149,
   "metadata": {
    "id": "MTJONYjwikX1"
   },
   "outputs": [
    {
     "data": {
      "text/plain": [
       "Text(0.5, 0, 'number of visits')"
      ]
     },
     "execution_count": 149,
     "metadata": {},
     "output_type": "execute_result"
    },
    {
     "data": {
      "image/png": "[encoded data removed]",
      "text/plain": [
       "<Figure size 432x288 with 1 Axes>"
      ]
     },
     "metadata": {
      "needs_background": "light"
     },
     "output_type": "display_data"
    }
   ],
   "source": [
    "vpl_df.plot(kind='hist', y='n_visits', bins=50)\n",
    "plt.xlabel('number of visits', fontsize=15)"
   ]
  },
  {
   "cell_type": "code",
   "execution_count": 150,
   "metadata": {},
   "outputs": [
    {
     "data": {
      "image/png": "[encoded data removed]",
      "text/plain": [
       "<Figure size 432x288 with 1 Axes>"
      ]
     },
     "metadata": {
      "needs_background": "light"
     },
     "output_type": "display_data"
    }
   ],
   "source": [
    "vpl_df['n_visits'].plot()\n",
    "plt.loglog()\n",
    "plt.show()"
   ]
  },
  {
   "cell_type": "markdown",
   "metadata": {
    "id": "Wm4Syua6i6VS"
   },
   "source": [
    "<a id=\"homes_per_location\"></a>\n",
    "### Homes per location\n",
    "Compute the number of home locations in each location "
   ]
  },
  {
   "cell_type": "code",
   "execution_count": 151,
   "metadata": {
    "id": "r2jxhLh9jCin"
   },
   "outputs": [],
   "source": [
    "from skmob.measures.collective import homes_per_location"
   ]
  },
  {
   "cell_type": "code",
   "execution_count": 152,
   "metadata": {
    "id": "sPhJbVMkjHWM"
   },
   "outputs": [
    {
     "name": "stderr",
     "output_type": "stream",
     "text": [
      "  0%|          | 0/2757 [00:00<?, ?it/s]"
     ]
    },
    {
     "name": "stderr",
     "output_type": "stream",
     "text": [
      "100%|██████████| 2757/2757 [00:06<00:00, 457.31it/s]\n"
     ]
    },
    {
     "data": {
      "text/html": [
       "<div>\n",
       "<style scoped>\n",
       "    .dataframe tbody tr th:only-of-type {\n",
       "        vertical-align: middle;\n",
       "    }\n",
       "\n",
       "    .dataframe tbody tr th {\n",
       "        vertical-align: top;\n",
       "    }\n",
       "\n",
       "    .dataframe thead th {\n",
       "        text-align: right;\n",
       "    }\n",
       "</style>\n",
       "<table border=\"1\" class=\"dataframe\">\n",
       "  <thead>\n",
       "    <tr style=\"text-align: right;\">\n",
       "      <th></th>\n",
       "      <th>lat</th>\n",
       "      <th>lng</th>\n",
       "      <th>n_homes</th>\n",
       "    </tr>\n",
       "  </thead>\n",
       "  <tbody>\n",
       "    <tr>\n",
       "      <th>0</th>\n",
       "      <td>39.739154</td>\n",
       "      <td>-104.984703</td>\n",
       "      <td>99</td>\n",
       "    </tr>\n",
       "    <tr>\n",
       "      <th>1</th>\n",
       "      <td>40.014986</td>\n",
       "      <td>-105.270546</td>\n",
       "      <td>51</td>\n",
       "    </tr>\n",
       "    <tr>\n",
       "      <th>2</th>\n",
       "      <td>37.774929</td>\n",
       "      <td>-122.419415</td>\n",
       "      <td>46</td>\n",
       "    </tr>\n",
       "    <tr>\n",
       "      <th>3</th>\n",
       "      <td>0.000000</td>\n",
       "      <td>0.000000</td>\n",
       "      <td>44</td>\n",
       "    </tr>\n",
       "    <tr>\n",
       "      <th>4</th>\n",
       "      <td>30.267153</td>\n",
       "      <td>-97.743061</td>\n",
       "      <td>23</td>\n",
       "    </tr>\n",
       "  </tbody>\n",
       "</table>\n",
       "</div>"
      ],
      "text/plain": [
       "         lat         lng  n_homes\n",
       "0  39.739154 -104.984703       99\n",
       "1  40.014986 -105.270546       51\n",
       "2  37.774929 -122.419415       46\n",
       "3   0.000000    0.000000       44\n",
       "4  30.267153  -97.743061       23"
      ]
     },
     "execution_count": 152,
     "metadata": {},
     "output_type": "execute_result"
    }
   ],
   "source": [
    "hpl_df = homes_per_location(tdf)\n",
    "hpl_df.head()"
   ]
  },
  {
   "cell_type": "code",
   "execution_count": 153,
   "metadata": {
    "id": "c7hSUxncjcBC"
   },
   "outputs": [
    {
     "data": {
      "text/plain": [
       "<AxesSubplot:ylabel='Frequency'>"
      ]
     },
     "execution_count": 153,
     "metadata": {},
     "output_type": "execute_result"
    },
    {
     "data": {
      "image/png": "[encoded data removed]",
      "text/plain": [
       "<Figure size 432x288 with 1 Axes>"
      ]
     },
     "metadata": {
      "needs_background": "light"
     },
     "output_type": "display_data"
    }
   ],
   "source": [
    "hpl_df.plot(kind='hist', y='n_homes', bins=50)"
   ]
  },
  {
   "cell_type": "markdown",
   "metadata": {},
   "source": [
    "<a id=\"visits_per_time_unit\"></a>\n",
    "### Visits per time unit"
   ]
  },
  {
   "cell_type": "code",
   "execution_count": 154,
   "metadata": {},
   "outputs": [],
   "source": [
    "from skmob.measures.collective import visits_per_time_unit"
   ]
  },
  {
   "cell_type": "code",
   "execution_count": 155,
   "metadata": {},
   "outputs": [
    {
     "data": {
      "image/png": "[encoded data removed]",
      "text/plain": [
       "<Figure size 432x288 with 1 Axes>"
      ]
     },
     "metadata": {
      "needs_background": "light"
     },
     "output_type": "display_data"
    }
   ],
   "source": [
    "visits_per_time_unit(tdf, time_unit='1w').plot()\n",
    "plt.show()"
   ]
  },
  {
   "cell_type": "markdown",
   "metadata": {
    "id": "A3HaGrrwFzwP"
   },
   "source": [
    "<a id=\"models\"></a>\n",
    "## Mobility models\n",
    "\n",
    "https://scikit-mobility.github.io/scikit-mobility/reference/models.html#\n",
    "\n",
    "We want to simulate the mobility of **500** individuals moving in **New York City** for **30 days** with four different generative models:\n",
    "1. Density-EPR (d-epr)\n",
    "2. Spatial-EPR (s-epr)\n",
    "3. Ditras\n",
    "4. STS-EPR"
   ]
  },
  {
   "cell_type": "code",
   "execution_count": 156,
   "metadata": {},
   "outputs": [],
   "source": [
    "# set the dates to simulates 30 days\n",
    "\n",
    "start = pd.to_datetime('2022/10/01 00:00:00')\n",
    "end = pd.to_datetime('2022/10/30 00:00:00')"
   ]
  },
  {
   "cell_type": "code",
   "execution_count": 157,
   "metadata": {},
   "outputs": [],
   "source": [
    "# get a tessellation of NYC\n",
    "\n",
    "tessellation = tiler.get(\"squared\", base_shape=\"New York City\", meters=3000)"
   ]
  },
  {
   "cell_type": "code",
   "execution_count": 159,
   "metadata": {},
   "outputs": [
    {
     "data": {
      "text/html": [
       "<div>\n",
       "<style scoped>\n",
       "    .dataframe tbody tr th:only-of-type {\n",
       "        vertical-align: middle;\n",
       "    }\n",
       "\n",
       "    .dataframe tbody tr th {\n",
       "        vertical-align: top;\n",
       "    }\n",
       "\n",
       "    .dataframe thead th {\n",
       "        text-align: right;\n",
       "    }\n",
       "</style>\n",
       "<table border=\"1\" class=\"dataframe\">\n",
       "  <thead>\n",
       "    <tr style=\"text-align: right;\">\n",
       "      <th></th>\n",
       "      <th>tile_ID</th>\n",
       "      <th>geometry</th>\n",
       "    </tr>\n",
       "  </thead>\n",
       "  <tbody>\n",
       "    <tr>\n",
       "      <th>0</th>\n",
       "      <td>0</td>\n",
       "      <td>POLYGON ((-74.25884 40.47658, -74.25884 40.497...</td>\n",
       "    </tr>\n",
       "    <tr>\n",
       "      <th>1</th>\n",
       "      <td>1</td>\n",
       "      <td>POLYGON ((-74.25884 40.49707, -74.25884 40.517...</td>\n",
       "    </tr>\n",
       "    <tr>\n",
       "      <th>2</th>\n",
       "      <td>2</td>\n",
       "      <td>POLYGON ((-74.25884 40.51756, -74.25884 40.538...</td>\n",
       "    </tr>\n",
       "    <tr>\n",
       "      <th>3</th>\n",
       "      <td>3</td>\n",
       "      <td>POLYGON ((-74.25884 40.53805, -74.25884 40.558...</td>\n",
       "    </tr>\n",
       "    <tr>\n",
       "      <th>4</th>\n",
       "      <td>4</td>\n",
       "      <td>POLYGON ((-74.25884 40.55853, -74.25884 40.579...</td>\n",
       "    </tr>\n",
       "    <tr>\n",
       "      <th>...</th>\n",
       "      <td>...</td>\n",
       "      <td>...</td>\n",
       "    </tr>\n",
       "    <tr>\n",
       "      <th>279</th>\n",
       "      <td>279</td>\n",
       "      <td>POLYGON ((-73.74680 40.74254, -73.74680 40.762...</td>\n",
       "    </tr>\n",
       "    <tr>\n",
       "      <th>280</th>\n",
       "      <td>280</td>\n",
       "      <td>POLYGON ((-73.74680 40.76296, -73.74680 40.783...</td>\n",
       "    </tr>\n",
       "    <tr>\n",
       "      <th>281</th>\n",
       "      <td>281</td>\n",
       "      <td>POLYGON ((-73.71985 40.72212, -73.71985 40.742...</td>\n",
       "    </tr>\n",
       "    <tr>\n",
       "      <th>282</th>\n",
       "      <td>282</td>\n",
       "      <td>POLYGON ((-73.71985 40.74254, -73.71985 40.762...</td>\n",
       "    </tr>\n",
       "    <tr>\n",
       "      <th>283</th>\n",
       "      <td>283</td>\n",
       "      <td>POLYGON ((-73.71985 40.76296, -73.71985 40.783...</td>\n",
       "    </tr>\n",
       "  </tbody>\n",
       "</table>\n",
       "<p>284 rows × 2 columns</p>\n",
       "</div>"
      ],
      "text/plain": [
       "    tile_ID                                           geometry\n",
       "0         0  POLYGON ((-74.25884 40.47658, -74.25884 40.497...\n",
       "1         1  POLYGON ((-74.25884 40.49707, -74.25884 40.517...\n",
       "2         2  POLYGON ((-74.25884 40.51756, -74.25884 40.538...\n",
       "3         3  POLYGON ((-74.25884 40.53805, -74.25884 40.558...\n",
       "4         4  POLYGON ((-74.25884 40.55853, -74.25884 40.579...\n",
       "..      ...                                                ...\n",
       "279     279  POLYGON ((-73.74680 40.74254, -73.74680 40.762...\n",
       "280     280  POLYGON ((-73.74680 40.76296, -73.74680 40.783...\n",
       "281     281  POLYGON ((-73.71985 40.72212, -73.71985 40.742...\n",
       "282     282  POLYGON ((-73.71985 40.74254, -73.71985 40.762...\n",
       "283     283  POLYGON ((-73.71985 40.76296, -73.71985 40.783...\n",
       "\n",
       "[284 rows x 2 columns]"
      ]
     },
     "execution_count": 159,
     "metadata": {},
     "output_type": "execute_result"
    }
   ],
   "source": [
    "tessellation"
   ]
  },
  {
   "cell_type": "markdown",
   "metadata": {},
   "source": [
    "Load real mobility traces of people moving in New York City"
   ]
  },
  {
   "cell_type": "code",
   "execution_count": 160,
   "metadata": {},
   "outputs": [
    {
     "name": "stdout",
     "output_type": "stream",
     "text": [
      "CPU times: user 1.03 s, sys: 243 ms, total: 1.28 s\n",
      "Wall time: 1.31 s\n"
     ]
    }
   ],
   "source": [
    "%%time\n",
    "\n",
    "tdf_nyc = tdf.mapping(tessellation, remove_na=True)"
   ]
  },
  {
   "cell_type": "code",
   "execution_count": 161,
   "metadata": {},
   "outputs": [
    {
     "data": {
      "text/html": [
       "<div>\n",
       "<style scoped>\n",
       "    .dataframe tbody tr th:only-of-type {\n",
       "        vertical-align: middle;\n",
       "    }\n",
       "\n",
       "    .dataframe tbody tr th {\n",
       "        vertical-align: top;\n",
       "    }\n",
       "\n",
       "    .dataframe thead th {\n",
       "        text-align: right;\n",
       "    }\n",
       "</style>\n",
       "<table border=\"1\" class=\"dataframe\">\n",
       "  <thead>\n",
       "    <tr style=\"text-align: right;\">\n",
       "      <th></th>\n",
       "      <th>uid</th>\n",
       "      <th>datetime</th>\n",
       "      <th>lat</th>\n",
       "      <th>lng</th>\n",
       "      <th>location id</th>\n",
       "      <th>tile_ID</th>\n",
       "    </tr>\n",
       "  </thead>\n",
       "  <tbody>\n",
       "    <tr>\n",
       "      <th>766</th>\n",
       "      <td>0</td>\n",
       "      <td>2010-01-19 19:29:02+00:00</td>\n",
       "      <td>40.766667</td>\n",
       "      <td>-73.866667</td>\n",
       "      <td>79c0489f2044e230bccf9df2fcf2ca89</td>\n",
       "      <td>186</td>\n",
       "    </tr>\n",
       "    <tr>\n",
       "      <th>767</th>\n",
       "      <td>0</td>\n",
       "      <td>2010-01-19 18:20:24+00:00</td>\n",
       "      <td>40.766667</td>\n",
       "      <td>-73.866667</td>\n",
       "      <td>79c0489f2044e230bccf9df2fcf2ca89</td>\n",
       "      <td>186</td>\n",
       "    </tr>\n",
       "    <tr>\n",
       "      <th>768</th>\n",
       "      <td>0</td>\n",
       "      <td>2010-01-19 16:19:10+00:00</td>\n",
       "      <td>40.757257</td>\n",
       "      <td>-73.983874</td>\n",
       "      <td>09b0e551693b7f074cb77da4f4da8809</td>\n",
       "      <td>105</td>\n",
       "    </tr>\n",
       "    <tr>\n",
       "      <th>769</th>\n",
       "      <td>0</td>\n",
       "      <td>2010-01-19 04:21:55+00:00</td>\n",
       "      <td>40.755981</td>\n",
       "      <td>-73.984650</td>\n",
       "      <td>0a47083ab012e3af999b431a38318ff6</td>\n",
       "      <td>105</td>\n",
       "    </tr>\n",
       "    <tr>\n",
       "      <th>770</th>\n",
       "      <td>0</td>\n",
       "      <td>2010-01-19 03:56:03+00:00</td>\n",
       "      <td>40.755981</td>\n",
       "      <td>-73.984650</td>\n",
       "      <td>0a47083ab012e3af999b431a38318ff6</td>\n",
       "      <td>105</td>\n",
       "    </tr>\n",
       "    <tr>\n",
       "      <th>...</th>\n",
       "      <td>...</td>\n",
       "      <td>...</td>\n",
       "      <td>...</td>\n",
       "      <td>...</td>\n",
       "      <td>...</td>\n",
       "      <td>...</td>\n",
       "    </tr>\n",
       "    <tr>\n",
       "      <th>995191</th>\n",
       "      <td>2900</td>\n",
       "      <td>2008-11-15 20:04:20+00:00</td>\n",
       "      <td>40.735994</td>\n",
       "      <td>-74.005102</td>\n",
       "      <td>bb90df0c8cde11ddaed6003048c0801e</td>\n",
       "      <td>89</td>\n",
       "    </tr>\n",
       "    <tr>\n",
       "      <th>995192</th>\n",
       "      <td>2900</td>\n",
       "      <td>2008-11-15 19:17:16+00:00</td>\n",
       "      <td>40.724376</td>\n",
       "      <td>-73.997962</td>\n",
       "      <td>a052db76b34111dda3d7003048c10834</td>\n",
       "      <td>89</td>\n",
       "    </tr>\n",
       "    <tr>\n",
       "      <th>995193</th>\n",
       "      <td>2900</td>\n",
       "      <td>2008-11-15 09:48:04+00:00</td>\n",
       "      <td>40.690856</td>\n",
       "      <td>-73.996652</td>\n",
       "      <td>188522d4b2f211ddacce003048c0801e</td>\n",
       "      <td>87</td>\n",
       "    </tr>\n",
       "    <tr>\n",
       "      <th>995194</th>\n",
       "      <td>2900</td>\n",
       "      <td>2008-11-15 08:09:41+00:00</td>\n",
       "      <td>40.691147</td>\n",
       "      <td>-73.995010</td>\n",
       "      <td>5b83512cb2e411dd9170003048c0801e</td>\n",
       "      <td>87</td>\n",
       "    </tr>\n",
       "    <tr>\n",
       "      <th>995195</th>\n",
       "      <td>2900</td>\n",
       "      <td>2008-11-15 07:58:22+00:00</td>\n",
       "      <td>40.710815</td>\n",
       "      <td>-74.015644</td>\n",
       "      <td>c7236c16b2e211ddaf8c003048c0801e</td>\n",
       "      <td>88</td>\n",
       "    </tr>\n",
       "  </tbody>\n",
       "</table>\n",
       "<p>21331 rows × 6 columns</p>\n",
       "</div>"
      ],
      "text/plain": [
       "         uid                  datetime        lat        lng  \\\n",
       "766        0 2010-01-19 19:29:02+00:00  40.766667 -73.866667   \n",
       "767        0 2010-01-19 18:20:24+00:00  40.766667 -73.866667   \n",
       "768        0 2010-01-19 16:19:10+00:00  40.757257 -73.983874   \n",
       "769        0 2010-01-19 04:21:55+00:00  40.755981 -73.984650   \n",
       "770        0 2010-01-19 03:56:03+00:00  40.755981 -73.984650   \n",
       "...      ...                       ...        ...        ...   \n",
       "995191  2900 2008-11-15 20:04:20+00:00  40.735994 -74.005102   \n",
       "995192  2900 2008-11-15 19:17:16+00:00  40.724376 -73.997962   \n",
       "995193  2900 2008-11-15 09:48:04+00:00  40.690856 -73.996652   \n",
       "995194  2900 2008-11-15 08:09:41+00:00  40.691147 -73.995010   \n",
       "995195  2900 2008-11-15 07:58:22+00:00  40.710815 -74.015644   \n",
       "\n",
       "                             location id tile_ID  \n",
       "766     79c0489f2044e230bccf9df2fcf2ca89     186  \n",
       "767     79c0489f2044e230bccf9df2fcf2ca89     186  \n",
       "768     09b0e551693b7f074cb77da4f4da8809     105  \n",
       "769     0a47083ab012e3af999b431a38318ff6     105  \n",
       "770     0a47083ab012e3af999b431a38318ff6     105  \n",
       "...                                  ...     ...  \n",
       "995191  bb90df0c8cde11ddaed6003048c0801e      89  \n",
       "995192  a052db76b34111dda3d7003048c10834      89  \n",
       "995193  188522d4b2f211ddacce003048c0801e      87  \n",
       "995194  5b83512cb2e411dd9170003048c0801e      87  \n",
       "995195  c7236c16b2e211ddaf8c003048c0801e      88  \n",
       "\n",
       "[21331 rows x 6 columns]"
      ]
     },
     "execution_count": 161,
     "metadata": {},
     "output_type": "execute_result"
    }
   ],
   "source": [
    "tdf_nyc\n",
    "#pay attention to the last column: the tessellation id"
   ]
  },
  {
   "cell_type": "code",
   "execution_count": 162,
   "metadata": {},
   "outputs": [
    {
     "data": {
      "text/html": [
       "<div style=\"width:100%;\"><div style=\"position:relative;width:100%;height:0;padding-bottom:60%;\"><span style=\"color:#565656\">Make this Notebook Trusted to load map: File -> Trust Notebook</span><iframe srcdoc=\"&lt;!DOCTYPE html&gt;\n",
       "&lt;head&gt;    \n",
       "    &lt;meta http-equiv=&quot;content-type&quot; content=&quot;text/html; charset=UTF-8&quot; /&gt;\n",
       "    \n",
       "        &lt;script&gt;\n",
       "            L_NO_TOUCH = false;\n",
       "            L_DISABLE_3D = false;\n",
       "        &lt;/script&gt;\n",
       "    \n",
       "    &lt;style&gt;html, body {width: 100%;height: 100%;margin: 0;padding: 0;}&lt;/style&gt;\n",
       "    &lt;style&gt;#map {position:absolute;top:0;bottom:0;right:0;left:0;}&lt;/style&gt;\n",
       "    &lt;script src=&quot;https://cdn.jsdelivr.net/npm/leaflet@1.6.0/dist/leaflet.js&quot;&gt;&lt;/script&gt;\n",
       "    &lt;script src=&quot;https://code.jquery.com/jquery-1.12.4.min.js&quot;&gt;&lt;/script&gt;\n",
       "    &lt;script src=&quot;https://maxcdn.bootstrapcdn.com/bootstrap/3.2.0/js/bootstrap.min.js&quot;&gt;&lt;/script&gt;\n",
       "    &lt;script src=&quot;https://cdnjs.cloudflare.com/ajax/libs/Leaflet.awesome-markers/2.0.2/leaflet.awesome-markers.js&quot;&gt;&lt;/script&gt;\n",
       "    &lt;link rel=&quot;stylesheet&quot; href=&quot;https://cdn.jsdelivr.net/npm/leaflet@1.6.0/dist/leaflet.css&quot;/&gt;\n",
       "    &lt;link rel=&quot;stylesheet&quot; href=&quot;https://maxcdn.bootstrapcdn.com/bootstrap/3.2.0/css/bootstrap.min.css&quot;/&gt;\n",
       "    &lt;link rel=&quot;stylesheet&quot; href=&quot;https://maxcdn.bootstrapcdn.com/bootstrap/3.2.0/css/bootstrap-theme.min.css&quot;/&gt;\n",
       "    &lt;link rel=&quot;stylesheet&quot; href=&quot;https://maxcdn.bootstrapcdn.com/font-awesome/4.6.3/css/font-awesome.min.css&quot;/&gt;\n",
       "    &lt;link rel=&quot;stylesheet&quot; href=&quot;https://cdnjs.cloudflare.com/ajax/libs/Leaflet.awesome-markers/2.0.2/leaflet.awesome-markers.css&quot;/&gt;\n",
       "    &lt;link rel=&quot;stylesheet&quot; href=&quot;https://cdn.jsdelivr.net/gh/python-visualization/folium/folium/templates/leaflet.awesome.rotate.min.css&quot;/&gt;\n",
       "    \n",
       "            &lt;meta name=&quot;viewport&quot; content=&quot;width=device-width,\n",
       "                initial-scale=1.0, maximum-scale=1.0, user-scalable=no&quot; /&gt;\n",
       "            &lt;style&gt;\n",
       "                #map_45cf5770b344d65d878885d38c805949 {\n",
       "                    position: relative;\n",
       "                    width: 100.0%;\n",
       "                    height: 100.0%;\n",
       "                    left: 0.0%;\n",
       "                    top: 0.0%;\n",
       "                }\n",
       "            &lt;/style&gt;\n",
       "        \n",
       "    &lt;script src=&quot;https://cdn.jsdelivr.net/gh/python-visualization/folium@master/folium/templates/leaflet_heat.min.js&quot;&gt;&lt;/script&gt;\n",
       "&lt;/head&gt;\n",
       "&lt;body&gt;    \n",
       "    \n",
       "            &lt;div class=&quot;folium-map&quot; id=&quot;map_45cf5770b344d65d878885d38c805949&quot; &gt;&lt;/div&gt;\n",
       "        \n",
       "&lt;/body&gt;\n",
       "&lt;script&gt;    \n",
       "    \n",
       "            var map_45cf5770b344d65d878885d38c805949 = L.map(\n",
       "                &quot;map_45cf5770b344d65d878885d38c805949&quot;,\n",
       "                {\n",
       "                    center: [40.7314745, -73.989799],\n",
       "                    crs: L.CRS.EPSG3857,\n",
       "                    zoom: 8,\n",
       "                    zoomControl: true,\n",
       "                    preferCanvas: false,\n",
       "                }\n",
       "            );\n",
       "            L.control.scale().addTo(map_45cf5770b344d65d878885d38c805949);\n",
       "\n",
       "            \n",
       "\n",
       "        \n",
       "    \n",
       "            var tile_layer_3b77e5134b701c27d8ad74703d2dfdda = L.tileLayer(\n",
       "                &quot;https://cartodb-basemaps-{s}.global.ssl.fastly.net/light_all/{z}/{x}/{y}.png&quot;,\n",
       "                {&quot;attribution&quot;: &quot;\\u0026copy; \\u003ca href=\\&quot;http://www.openstreetmap.org/copyright\\&quot;\\u003eOpenStreetMap\\u003c/a\\u003e contributors \\u0026copy; \\u003ca href=\\&quot;http://cartodb.com/attributions\\&quot;\\u003eCartoDB\\u003c/a\\u003e, CartoDB \\u003ca href =\\&quot;http://cartodb.com/attributions\\&quot;\\u003eattributions\\u003c/a\\u003e&quot;, &quot;detectRetina&quot;: false, &quot;maxNativeZoom&quot;: 18, &quot;maxZoom&quot;: 18, &quot;minZoom&quot;: 0, &quot;noWrap&quot;: false, &quot;opacity&quot;: 1, &quot;subdomains&quot;: &quot;abc&quot;, &quot;tms&quot;: false}\n",
       "            ).addTo(map_45cf5770b344d65d878885d38c805949);\n",
       "        \n",
       "    \n",
       "            var heat_map_80cd0e7bbdf20f3a98e698e1bb389b44 = L.heatLayer(\n",
       "                [[40.766667, -73.866667], [40.758448, -73.978898], [40.724573, -73.998785], [40.760364, -73.984662], [40.75846, -73.978924], [40.777458, -73.877282], [40.711963, -74.00801], [40.760302, -73.983822], [40.703882, -73.99063], [40.782069, -73.98038], [40.774399, -73.965604], [40.757644, -74.002962], [40.723142, -73.994825], [40.767414, -73.970689], [40.714269, -74.005973], [40.688213, -73.905856], [40.757929, -73.985506], [40.650104, -73.949582], [40.714269, -74.005973], [40.758634, -73.972943], [40.753474, -73.986697], [40.750915, -73.994369], [40.724845, -73.998431], [40.642334, -73.78817], [40.757703, -73.985817], [40.680912, -73.999086], [40.677458, -73.998279], [40.686699, -73.998188], [40.747356, -73.987499], [40.747356, -73.987499], [40.686699, -73.998188], [40.747356, -73.987499], [40.747356, -73.987499], [40.759277, -73.984358], [40.684979, -73.991672], [40.810121, -73.949841], [40.701929, -73.994605], [40.747356, -73.987499], [40.686699, -73.998188], [40.752928, -73.984053], [40.686699, -73.998188], [40.685703, -74.002379], [40.686699, -73.998188], [40.747356, -73.987499], [40.675234, -73.971043], [40.694599, -73.990638], [40.804426, -73.947687], [40.741563, -73.990392], [40.774108, -73.969408], [40.757769, -73.989014], [40.763275, -73.980736], [40.828209, -73.925669], [40.734024, -73.990295], [40.752797, -73.978059], [40.766667, -73.866667], [40.714269, -74.005973], [40.75571, -73.986397], [40.761325, -73.989977], [40.770972, -73.946722], [40.760103, -73.958283], [40.731836, -73.989799], [40.757773, -73.989006], [40.756489, -73.987995], [40.754013, -73.972855], [40.732517, -73.998667], [40.76538, -73.817356], [40.727504, -73.980064], [40.714269, -74.005973], [40.750915, -73.994369], [40.743991, -74.032363], [40.75866, -73.993244], [40.750756, -74.024516], [40.714269, -74.005973], [40.714269, -74.005973], [40.750394, -73.992295], [40.750756, -74.024516], [40.736846, -73.988768], [40.784826, -73.956369], [40.739391, -74.006451], [40.722725, -74.001861], [40.714269, -74.005973], [40.714269, -74.005973], [40.714269, -74.005973], [40.714269, -74.005973], [40.714269, -74.005973], [40.714269, -74.005973], [40.714269, -74.005973], [40.706678, -73.997455], [40.759238, -73.985155], [40.758448, -73.978898], [40.75644, -74.003551], [40.727916, -73.981953], [40.704253, -73.930113], [40.726543, -73.940649], [40.714269, -74.005973], [40.716471, -73.988478], [40.719801, -73.988218], [40.796429, -73.921285], [40.796429, -73.921285], [40.829544, -73.926487], [40.751721, -74.004016], [40.772628, -73.915853], [40.738542, -73.98996], [40.714269, -74.005973], [40.761614, -73.99922], [40.871193, -73.951282], [40.737953, -74.0016], [40.788618, -73.974359], [40.732685, -74.003344], [40.726008, -74.00532], [40.723424, -74.000661], [40.729463, -73.998517], [40.746997, -74.037724], [40.760682, -73.976466], [40.733569, -74.003436], [40.743863, -73.987183], [40.714269, -74.005973], [40.714269, -74.005973], [40.714269, -74.005973], [40.721963, -74.004142], [40.779741, -73.973421], [40.740497, -74.005238], [40.858811, -73.958439], [40.714269, -74.005973], [40.771465, -74.013569], [40.740437, -74.005233], [40.793424, -73.922259], [40.740384, -74.006175], [40.714269, -74.005973], [40.724332, -73.987931], [40.667439, -73.991407], [40.724442, -73.999607], [40.722036, -73.986806], [40.736778, -73.989298], [40.761017, -73.987486], [40.719972, -73.988069], [40.734802, -73.992084], [40.67351, -73.991632], [40.603868, -74.006107], [40.594452, -73.981424], [40.720114, -74.005092], [40.673183, -73.991111], [40.718991, -73.997098], [40.684428, -73.977721], [40.728592, -73.978779], [40.8484, -73.938956], [40.728883, -73.98895], [40.75058, -73.99358], [40.757703, -73.985817], [40.721702, -73.958028], [40.577726, -73.960574], [40.710033, -73.96266], [40.718231, -74.000671], [40.74373, -73.986911], [40.751521, -73.993963], [40.666944, -73.961642], [40.746635, -74.006895], [40.720428, -74.00341], [40.687965, -73.969804], [40.734132, -73.988645], [40.82697, -73.92786], [40.82697, -73.92786], [40.850656, -73.866524], [40.850998, -73.950211], [40.64248, -73.788071], [40.720292, -73.993424], [40.749176, -73.992584], [40.786608, -73.977768], [40.735, -73.988421], [40.727792, -73.984799], [40.685102, -73.977871], [40.757611, -73.979402], [40.680502, -73.994656], [40.758759, -73.979355], [40.686718, -73.979509], [40.688242, -73.988092], [40.686415, -73.9779], [40.779292, -73.974502], [40.687459, -73.989972], [40.758703, -73.978574], [40.727112, -73.985602], [40.725464, -73.982025], [40.735384, -73.991117], [40.729791, -73.988654], [40.716194, -73.987518], [40.714063, -73.954344], [40.687102, -73.975443], [40.641808, -73.783596], [40.577883, -73.994028], [40.716675, -74.009176], [40.758083, -73.987674], [40.730981, -73.988831], [40.766976, -73.986046], [40.757584, -73.985642], [40.770401, -73.982006], [40.764204, -73.955331], [40.762796, -73.973823], [40.753286, -73.98433], [40.776676, -73.950404], [40.714269, -74.005973], [40.739069, -74.004119], [40.742224, -73.980973], [40.828209, -73.925669], [40.744094, -73.987721], [40.756073, -73.98583], [40.742135, -74.001189], [40.714269, -74.005973], [40.759477, -73.989871], [40.719141, -74.000266], [40.810505, -73.961923], [40.691928, -73.98156], [40.678991, -73.973744], [40.751763, -73.976767], [40.706813, -74.004674], [40.753876, -73.97464], [40.71814, -73.989593], [40.652326, -73.827357], [40.725946, -73.994617], [40.673393, -73.976076], [40.763286, -73.981658], [40.70789, -74.00709], [40.636552, -73.978212], [40.736482, -73.978787], [40.639663, -73.967837], [40.652326, -73.827357], [40.710509, -73.965597], [40.70806, -73.921344], [40.712967, -73.957438], [40.734659, -73.992124], [40.70806, -73.921344], [40.70806, -73.921344], [40.735428, -73.991587], [40.70806, -73.921344], [40.738096, -73.990794], [40.713489, -73.961945], [40.797473, -73.93892], [40.720097, -73.959794], [40.704985, -74.015815], [40.705351, -74.017218], [40.755915, -73.986204], [40.675431, -73.971248], [40.675431, -73.971248], [40.675431, -73.971248], [40.712058, -74.012752], [40.685266, -73.979927], [40.724941, -73.99219], [40.650143, -74.005075], [40.742679, -74.000808], [40.706911, -73.990434], [40.763131, -73.984154], [40.677594, -73.997863], [40.742679, -74.000808], [40.66283, -73.988972], [40.650143, -74.005075], [40.738746, -73.994711], [40.738746, -73.994711], [40.742679, -74.000808], [40.751624, -74.004346], [40.650143, -74.005075], [40.742679, -74.000808], [40.650143, -74.005075], [40.749482, -73.994247], [40.742679, -74.000808], [40.706911, -73.990434], [40.742679, -74.000808], [40.738746, -73.994711], [40.751386, -74.003235], [40.742679, -74.000808], [40.742679, -74.000808], [40.706911, -73.990434], [40.72805, -74.007203], [40.738746, -73.994711], [40.742679, -74.000808], [40.742679, -74.000808], [40.742679, -74.000808], [40.742679, -74.000808], [40.738746, -73.994711], [40.738746, -73.994711], [40.738746, -73.994711], [40.742679, -74.000808], [40.738746, -73.994711], [40.738746, -73.994711], [40.742679, -74.000808], [40.738746, -73.994711], [40.649777, -74.009028], [40.742133, -73.998558], [40.738746, -73.994711], [40.742679, -74.000808], [40.742679, -74.000808], [40.737112, -73.990872], [40.742679, -74.000808], [40.751447, -74.003384], [40.75162, -74.004371], [40.738746, -73.994711], [40.706911, -73.990434], [40.692319, -73.988723], [40.738746, -73.994711], [40.742679, -74.000808], [40.706911, -73.990434], [40.650143, -74.005075], [40.75162, -74.004371], [40.74156, -73.991747], [40.737112, -73.990872], [40.706911, -73.990434], [40.738746, -73.994711], [40.705052, -74.017347], [40.733306, -74.002179], [40.650143, -74.005075], [40.650143, -74.005075], [40.706678, -73.997455], [40.706911, -73.990434], [40.742679, -74.000808], [40.650143, -74.005075], [40.749462, -73.994241], [40.749462, -73.994241], [40.650143, -74.005075], [40.650143, -74.005075], [40.650143, -74.005075], [40.742679, -74.000808], [40.706911, -73.990434], [40.650143, -74.005075], [40.711504, -74.010538], [40.67428, -73.996849], [40.742679, -74.000808], [40.650143, -74.005075], [40.738746, -73.994711], [40.742133, -73.998558], [40.738746, -73.994711], [40.650143, -74.005075], [40.67428, -73.996849], [40.742679, -74.000808], [40.738746, -73.994711], [40.739855, -74.007162], [40.721405, -73.986938], [40.724312, -73.992501], [40.714269, -74.005973], [40.721405, -73.986938], [40.726456, -73.984894], [40.733281, -73.998234], [40.721405, -73.986938], [40.719782, -73.987], [40.714269, -74.005973], [40.714269, -74.005973], [40.696254, -73.983326], [40.746626, -73.993812], [40.714269, -74.005973], [40.714269, -74.005973], [40.749957, -73.995488], [40.714269, -74.005973], [40.714269, -74.005973], [40.714269, -74.005973], [40.752898, -73.996373], [40.750927, -73.990494], [40.714269, -74.005973], [40.764055, -73.982462], [40.714269, -74.005973], [40.785817, -73.977354], [40.728592, -74.005306], [40.714269, -74.005973], [40.714269, -74.005973], [40.727421, -73.988148], [40.714269, -74.005973], [40.752898, -73.996373], [40.76318, -73.983551], [40.733288, -73.998265], [40.76318, -73.983551], [40.750386, -73.987683], [40.714269, -74.005973], [40.720654, -73.989983], [40.763, -73.983032], [40.76318, -73.983551], [40.76318, -73.983551], [40.76318, -73.983551], [40.714269, -74.005973], [40.712111, -74.009535], [40.723758, -73.991684], [40.732815, -73.997081], [40.762991, -73.9832], [40.76318, -73.983551], [40.651097, -73.889933], [40.702667, -73.987041], [40.714269, -74.005973], [40.714269, -74.005973], [40.722344, -73.997288], [40.763465, -73.979089], [40.714269, -74.005973], [40.761287, -73.990391], [40.714269, -74.005973], [40.723855, -73.998105], [40.721405, -73.986938], [40.763867, -73.988284], [40.714269, -74.005973], [40.714269, -74.005973], [40.721405, -73.986938], [40.785315, -73.975495], [40.714269, -74.005973], [40.714269, -74.005973], [40.729505, -73.990088], [40.714269, -74.005973], [40.764533, -73.983251], [40.723758, -73.991684], [40.746626, -73.993812], [40.76318, -73.983551], [40.714269, -74.005973], [40.714269, -74.005973], [40.76318, -73.983551], [40.651097, -73.889933], [40.710799, -73.933658], [40.706663, -73.930821], [40.714269, -74.005973], [40.714269, -74.005973], [40.710225, -73.935242], [40.76318, -73.983551], [40.714269, -74.005973], [40.76318, -73.983551], [40.771234, -73.981844], [40.710799, -73.933658], [40.76318, -73.983551], [40.714269, -74.005973], [40.714269, -74.005973], [40.687383, -73.97251], [40.693851, -73.989746], [40.671281, -73.963856], [40.714269, -74.005973], [40.714269, -74.005973], [40.714269, -74.005973], [40.714269, -74.005973], [40.774625, -73.958731], [40.714269, -74.005973], [40.714269, -74.005973], [40.714269, -74.005973], [40.714269, -74.005973], [40.714269, -74.005973], [40.714269, -74.005973], [40.714269, -74.005973], [40.714269, -74.005973], [40.73545, -73.989929], [40.714269, -74.005973], [40.714269, -74.005973], [40.714269, -74.005973], [40.714269, -74.005973], [40.714269, -74.005973], [40.714269, -74.005973], [40.714269, -74.005973], [40.714269, -74.005973], [40.714269, -74.005973], [40.714269, -74.005973], [40.714269, -74.005973], [40.714269, -74.005973], [40.714269, -74.005973], [40.714269, -74.005973], [40.714269, -74.005973], [40.714269, -74.005973], [40.714269, -74.005973], [40.714269, -74.005973], [40.714269, -74.005973], [40.714269, -74.005973], [40.714269, -74.005973], [40.714269, -74.005973], [40.714269, -74.005973], [40.714269, -74.005973], [40.714269, -74.005973], [40.714269, -74.005973], [40.714269, -74.005973], [40.714269, -74.005973], [40.714269, -74.005973], [40.714269, -74.005973], [40.714269, -74.005973], [40.714269, -74.005973], [40.714269, -74.005973], [40.714269, -74.005973], [40.714269, -74.005973], [40.714269, -74.005973], [40.714269, -74.005973], [40.714269, -74.005973], [40.714269, -74.005973], [40.714269, -74.005973], [40.714269, -74.005973], [40.714269, -74.005973], [40.714269, -74.005973], [40.714269, -74.005973], [40.714269, -74.005973], [40.714269, -74.005973], [40.714269, -74.005973], [40.714269, -74.005973], [40.714269, -74.005973], [40.714269, -74.005973], [40.714269, -74.005973], [40.744884, -73.983063], [40.714269, -74.005973], [40.769004, -73.982277], [40.762844, -73.982007], [40.72757, -74.02144], [40.666173, -73.982179], [40.761213, -73.865136], [40.714269, -74.005973], [40.759871, -73.980249], [40.726598, -73.985674], [40.846114, -73.936079], [40.736519, -73.991299], [40.770397, -73.957614], [40.641808, -73.783596], [40.722268, -73.988371], [40.777774, -73.873189], [40.763861, -73.973002], [40.71959, -73.960593], [40.722348, -73.987341], [40.714269, -74.005973], [40.714269, -74.005973], [40.675431, -73.971248], [40.756073, -73.990663], [40.759816, -73.965755], [40.757584, -73.985642], [40.754401, -73.977084], [40.757872, -73.982544], [40.74317, -73.953962], [40.7561, -73.970536], [40.777774, -73.873189], [40.777774, -73.873189], [40.730072, -73.994229], [40.76126, -73.984162], [40.688953, -74.043753], [40.757546, -73.984509], [40.675431, -73.971248], [40.714269, -74.005973], [40.675431, -73.971248], [40.675431, -73.971248], [40.675431, -73.971248], [40.749706, -73.9916], [40.716623, -73.959082], [40.777864, -73.982179], [40.75473, -73.977783], [40.727397, -73.979813], [40.777237, -73.946472], [40.75058, -73.99358], [40.73289, -74.007495], [40.619598, -73.989706], [40.738996, -73.989104], [40.577883, -73.994028], [40.749789, -73.992008], [40.763999, -73.978481], [40.742772, -74.007424], [40.757584, -73.985642], [40.728132, -73.987562], [40.728132, -73.987562], [40.728132, -73.987562], [40.728132, -73.987562], [40.728132, -73.987562], [40.728132, -73.987562], [40.728132, -73.987562], [40.742901, -73.992778], [40.742901, -73.992778], [40.742901, -73.992778], [40.742901, -73.992778], [40.742901, -73.992778], [40.742901, -73.992778], [40.742901, -73.992778], [40.742901, -73.992778], [40.742901, -73.992778], [40.748716, -74.007412], [40.714269, -74.005973], [40.728122, -73.9884], [40.736722, -73.990573], [40.762238, -73.985962], [40.727208, -73.986225], [40.77621, -73.87041], [40.760602, -73.984572], [40.760202, -73.968086], [40.714269, -74.005973], [40.727685, -73.979263], [40.730869, -73.986118], [40.737144, -73.991035], [40.721224, -73.983936], [40.739563, -73.984833], [40.735275, -73.990067], [40.714269, -74.005973], [40.740663, -73.998113], [40.743356, -74.001331], [40.736642, -73.990728], [40.746193, -73.982196], [40.76318, -73.983551], [40.743991, -74.032363], [40.754037, -73.984725], [40.743991, -74.032363], [40.743991, -74.032363], [40.73545, -73.989929], [40.715601, -74.009906], [40.714269, -74.005973], [40.748832, -74.038706], [40.714269, -74.005973], [40.707778, -73.96], [40.743991, -74.032363], [40.714269, -74.005973], [40.743991, -74.032363], [40.675431, -73.971248], [40.714269, -74.005973], [40.714269, -74.005973], [40.675431, -73.971248], [40.733537, -73.999228], [40.743991, -74.032363], [40.65062, -73.783691], [40.753587, -73.980828], [40.743991, -74.032363], [40.722112, -73.996568], [40.756544, -73.988185], [40.716675, -74.009176], [40.771083, -73.956275], [40.714269, -74.005973], [40.714269, -74.005973], [40.743991, -74.032363], [40.706615, -74.011463], [40.713825, -73.956248], [40.706818, -74.014008], [40.77725, -73.872611], [40.683511, -74.032184], [40.720584, -74.001473], [40.717047, -73.990947], [40.694944, -73.994854], [40.714269, -74.005973], [40.666991, -73.981512], [40.731976, -73.988122], [40.719373, -74.004826], [40.725427, -74.003795], [40.737348, -73.992687], [40.755344, -73.84321], [40.709603, -74.008478], [40.641819, -73.783595], [40.757383, -73.986025], [40.756544, -73.988185], [40.715969, -73.99528], [40.729869, -73.980408], [40.72966, -73.991608], [40.743991, -74.032363], [40.747772, -73.986801], [40.750061, -73.975388], [40.769226, -73.86644], [40.739321, -73.986703], [40.769719, -73.958115], [40.739691, -73.990539], [40.742222, -73.988026], [40.720949, -73.987894], [40.714269, -74.005973], [40.64371, -73.79001], [40.61566, -73.729576], [40.75091, -73.977776], [40.847755, -73.935702], [40.905939, -73.904351], [40.847755, -73.935702], [40.878285, -73.921307], [40.826878, -73.922742], [40.786998, -73.975505], [40.728459, -73.999224], [40.691406, -73.95876], [40.76398, -73.984246], [40.71631, -73.998366], [40.725869, -73.994462], [40.759384, -73.991257], [40.743602, -73.98026], [40.743225, -73.97644], [40.745092, -73.994065], [40.731694, -73.985878], [40.721432, -73.985543], [40.729138, -73.98725], [40.729321, -73.986982], [40.70276, -73.986668], [40.74222, -74.004489], [40.740439, -74.001814], [40.73139, -73.986056], [40.753102, -73.972111], [40.756073, -73.990663], [40.711613, -73.944381], [40.729291, -73.993671], [40.730476, -73.993094], [40.723436, -73.982903], [40.745552, -73.946404], [40.728504, -73.987072], [40.766398, -73.982157], [40.730476, -73.993094], [40.731575, -74.003379], [40.732963, -73.985624], [40.730585, -73.992411], [40.772012, -73.981084], [40.725567, -73.98724], [40.734102, -73.995826], [40.757929, -73.985506], [40.725766, -73.99032], [40.784985, -73.977363], [40.687395, -73.973667], [40.753796, -73.984076], [40.752164, -73.981777], [40.72645, -73.988834], [40.754586, -73.986755], [40.754586, -73.986755], [40.75316, -73.987087], [40.753024, -73.979101], [40.757703, -73.985817], [40.757703, -73.985817], [40.757703, -73.985817], [40.75091, -73.977776], [40.757703, -73.985817], [40.757745, -73.985795], [40.757745, -73.985795], [40.757745, -73.985795], [40.761257, -73.99425], [40.64362, -73.989839], [40.64362, -73.989839], [40.646378, -73.985123], [40.702446, -73.987358], [40.645468, -73.999192], [40.772112, -73.930121], [40.756618, -73.983766], [40.763638, -73.967673], [40.726813, -73.993281], [40.772112, -73.930121], [40.747356, -73.987499], [40.76153, -73.924472], [40.714269, -74.005973], [40.772046, -73.930137], [40.772046, -73.930137], [40.772046, -73.930137], [40.714269, -74.005973], [40.714269, -74.005973], [40.714269, -74.005973], [40.642334, -73.78817], [40.756489, -73.987972], [40.769552, -73.886755], [40.714269, -74.005973], [40.714269, -74.005973], [40.714269, -74.005973], [40.762739, -73.975517], [40.665829, -73.966417], [40.633993, -74.014584], [40.621212, -74.03295], [40.621212, -74.03295], [40.621212, -74.03295], [40.621212, -74.03295], [40.618715, -74.033196], [40.714269, -74.005973], [40.618715, -74.033196], [40.756148, -73.99803], [40.756148, -73.99803], [40.756148, -73.99803], [40.748915, -73.937387], [40.766502, -73.920436], [40.721859, -73.957772], [40.714269, -74.005973], [40.76019, -73.918013], [40.765493, -73.919192], [40.771386, -73.927009], [40.750354, -73.992491], [40.766845, -73.921326], [40.767183, -73.922046], [40.755933, -73.921503], [40.775533, -73.911354], [40.752462, -73.994106], [40.752462, -73.994106], [40.716794, -73.967121], [40.675431, -73.971248], [40.740672, -73.992632], [40.675431, -73.971248], [40.675431, -73.971248], [40.675431, -73.971248], [40.718796, -73.959273], [40.675431, -73.971248], [40.705336, -73.933308], [40.740672, -73.992632], [40.718447, -73.960145], [40.740672, -73.992632], [40.734968, -73.993265], [40.675431, -73.971248], [40.675431, -73.971248], [40.70298, -73.93318], [40.727982, -73.988145], [40.702158, -73.982861], [40.714982, -73.951755], [40.675431, -73.971248], [40.705336, -73.933308], [40.675431, -73.971248], [40.77912, -73.984975], [40.718404, -73.958597], [40.705336, -73.933308], [40.747673, -73.986736], [40.745869, -73.991984], [40.702718, -73.933791], [40.732115, -73.984338], [40.762194, -73.986157], [40.762194, -73.986157], [40.675431, -73.971248], [40.737946, -74.003442], [40.722082, -73.996603], [40.675431, -73.971248], [40.705336, -73.933308], [40.705336, -73.933308], [40.723435, -73.982393], [40.705336, -73.933308], [40.675431, -73.971248], [40.768475, -73.980652], [40.762843, -73.981983], [40.740572, -73.995732], [40.757389, -73.993403], [40.748247, -74.03142], [40.759706, -73.988199], [40.76224, -74.00931], [40.743991, -74.032363], [40.75058, -73.99358], [40.750287, -73.978458], [40.750287, -73.978458], [40.743991, -74.032363], [40.812683, -73.955734], [40.699689, -74.002526], [40.717021, -73.956322], [40.72937, -73.985802], [40.726397, -73.983371], [40.714269, -74.005973], [40.714269, -74.005973], [40.675431, -73.971248], [40.777422, -73.988886], [40.748356, -73.984633], [40.724831, -73.998968], [40.729909, -74.003039], [40.729286, -74.002808], [40.778942, -73.981008], [40.781784, -73.976166], [40.782547, -73.964172], [40.750029, -73.994588], [40.764421, -73.97888], [40.795792, -73.972926], [40.75474, -73.994889], [40.777742, -73.873209], [40.923694, -73.855261], [40.734332, -74.010112], [40.75256, -73.99435], [40.798345, -73.963158], [40.755821, -73.986411], [40.714269, -74.005973], [40.757929, -73.985506], [40.714269, -74.005973], [40.757929, -73.985506], [40.757929, -73.985506], [40.757929, -73.985506], [40.714269, -74.005973], [40.752164, -73.967602], [40.81, -73.9625], [40.779423, -73.963429], [40.755647, -73.982027], [40.764405, -73.975723], [40.704989, -74.015431], [40.714269, -74.005973], [40.704989, -74.015431], [40.762426, -73.977107], [40.762426, -73.977107], [40.757633, -73.97703], [40.758132, -73.976845], [40.763451, -73.727317], [40.721658, -73.987276], [40.738458, -74.003828], [40.742286, -73.991394], [40.745079, -73.995162], [40.754247, -73.977385], [40.736174, -74.008608], [40.666896, -73.94581], [40.758123, -73.979434], [40.765127, -73.979131], [40.765127, -73.979131], [40.675431, -73.971248], [40.695084, -73.995767], [40.764829, -73.980265], [40.764954, -73.980309], [40.765153, -73.98051], [40.764546, -73.980445], [40.694169, -73.99063], [40.694169, -73.99063], [40.767192, -73.99181], [40.694169, -73.99063], [40.683549, -73.976272], [40.767192, -73.99181], [40.696068, -73.990066], [40.765002, -73.979871], [40.680195, -73.94594], [40.7025, -74.0125], [40.669612, -73.950246], [40.688354, -73.982504], [40.666288, -73.956671], [40.733334, -74.000109], [40.60886, -73.9239], [40.690452, -73.991999], [40.750561, -73.986754], [40.695931, -73.984693], [40.733334, -74.000109], [40.690103, -73.986939], [40.689927, -73.981397], [40.734145, -73.990796], [40.690529, -73.991982], [40.655776, -73.943985], [40.67686, -73.977486], [40.67686, -73.977486], [40.741579, -73.987472], [40.735351, -73.989945], [40.741579, -73.987472], [40.741579, -73.987472], [40.684428, -73.977721], [40.690452, -73.991999], [40.741551, -73.986527], [40.756639, -73.986333], [40.676956, -73.972294], [40.676956, -73.972294], [40.663291, -73.961105], [40.741551, -73.986527], [40.690524, -73.991963], [40.741551, -73.986527], [40.741551, -73.986527], [40.67686, -73.977486], [40.647852, -73.958155], [40.673468, -73.970509], [40.654922, -73.961772], [40.775363, -73.982037], [40.587865, -73.955261], [40.73006, -74.002561], [40.744201, -74.006296], [40.741795, -74.004936], [40.828169, -73.925723], [40.762839, -73.993162], [40.762843, -73.981983], [40.775501, -73.870473], [40.731559, -73.989172], [40.756439, -73.986252], [40.626888, -73.751221], [40.734665, -73.917689], [40.756805, -74.002167], [40.7587, -73.978586], [40.731222, -73.995808], [40.720374, -74.005848], [40.728121, -74.001654], [40.733168, -74.003106], [40.768649, -73.987458], [40.747777, -73.847866], [40.780086, -73.968716], [40.729795, -73.989143], [40.781646, -73.82665], [40.728935, -73.988428], [40.671558, -73.962589], [40.74711, -73.985511], [40.815695, -73.916771], [40.85375, -73.912269], [40.731709, -74.000954], [40.714269, -74.005973], [40.662994, -73.997604], [40.690811, -73.955505], [40.689873, -73.951509], [40.730148, -74.008514], [40.698835, -73.957821], [40.753476, -73.988141], [40.763566, -73.975338], [40.813108, -73.962687], [40.714269, -74.005973], [40.741179, -73.993182], [40.743511, -74.000008], [40.673221, -73.986424], [40.756815, -73.988804], [40.752737, -73.978726], [40.754203, -73.984165], [40.873606, -73.907795], [40.646497, -73.778882], [40.772575, -73.97725], [40.761202, -73.984177], [40.763429, -73.965219], [40.754295, -73.965861], [40.739335, -74.007065], [40.758631, -73.972752], [40.756481, -74.003559], [40.714269, -74.005973], [40.759907, -73.821305], [40.782465, -73.980697], [40.714269, -74.005973], [40.723703, -73.983481], [40.714492, -73.79259], [40.719903, -74.043129], [40.735733, -73.991943], [40.740786, -74.004507], [40.757229, -73.98285], [40.641808, -73.783596], [40.714269, -74.005973], [40.683242, -73.94389], [40.777774, -73.873189], [40.731105, -73.990393], [40.711449, -74.010551], [40.758758, -73.978698], [40.751705, -73.990093], [40.704529, -74.014185], [40.744308, -73.974718], [40.743991, -74.032363], [40.756049, -73.990627], [40.743991, -74.032363], [40.743991, -74.032363], [40.7371, -73.989369], [40.736168, -74.030479], [40.731871, -74.002895], [40.749069, -73.990883], [40.779322, -73.945263], [40.750606, -73.992856], [40.737206, -73.990644], [40.766156, -73.986752], [40.695195, -73.990902], [40.715842, -73.990448], [40.816146, -73.952803], [40.690628, -73.995713], [40.762018, -73.949895], [40.752949, -73.983561], [40.676139, -73.983451], [40.721733, -73.98747], [40.759186, -73.990434], [40.633333, -73.783333], [40.714108, -73.955975], [40.759322, -73.991307], [40.731836, -73.989799], [40.727442, -73.984326]],\n",
       "                {&quot;blur&quot;: 15, &quot;maxZoom&quot;: 18, &quot;minOpacity&quot;: 0.5, &quot;radius&quot;: 25}\n",
       "            ).addTo(map_45cf5770b344d65d878885d38c805949);\n",
       "        \n",
       "&lt;/script&gt;\" style=\"position:absolute;width:100%;height:100%;left:0;top:0;border:none !important;\" allowfullscreen webkitallowfullscreen mozallowfullscreen></iframe></div></div>"
      ],
      "text/plain": [
       "<folium.folium.Map at 0x1b5fcdfa0>"
      ]
     },
     "execution_count": 162,
     "metadata": {},
     "output_type": "execute_result"
    }
   ],
   "source": [
    "plot_points_heatmap(tdf_nyc, map_f=None, zoom=8, radius=25, blur=15)"
   ]
  },
  {
   "cell_type": "markdown",
   "metadata": {},
   "source": [
    "**Weighted tessellation** <br>\n",
    "We map each point with the corresponding tile to compute a weighted tessellation at each tile is associated its relevance, namely the popularity of a location among real individuals. The overall number of visits to a location is usually used as an estimation of its relevance."
   ]
  },
  {
   "cell_type": "code",
   "execution_count": 163,
   "metadata": {},
   "outputs": [
    {
     "data": {
      "text/html": [
       "<div>\n",
       "<style scoped>\n",
       "    .dataframe tbody tr th:only-of-type {\n",
       "        vertical-align: middle;\n",
       "    }\n",
       "\n",
       "    .dataframe tbody tr th {\n",
       "        vertical-align: top;\n",
       "    }\n",
       "\n",
       "    .dataframe thead th {\n",
       "        text-align: right;\n",
       "    }\n",
       "</style>\n",
       "<table border=\"1\" class=\"dataframe\">\n",
       "  <thead>\n",
       "    <tr style=\"text-align: right;\">\n",
       "      <th></th>\n",
       "      <th>tile_ID</th>\n",
       "      <th>uid</th>\n",
       "      <th>datetime</th>\n",
       "      <th>lat</th>\n",
       "      <th>lng</th>\n",
       "      <th>location id</th>\n",
       "    </tr>\n",
       "  </thead>\n",
       "  <tbody>\n",
       "    <tr>\n",
       "      <th>0</th>\n",
       "      <td>10</td>\n",
       "      <td>1</td>\n",
       "      <td>1970-01-01 00:00:00.000000001</td>\n",
       "      <td>1.0</td>\n",
       "      <td>1.0</td>\n",
       "      <td>1</td>\n",
       "    </tr>\n",
       "    <tr>\n",
       "      <th>1</th>\n",
       "      <td>100</td>\n",
       "      <td>17</td>\n",
       "      <td>1970-01-01 00:00:00.000000017</td>\n",
       "      <td>17.0</td>\n",
       "      <td>17.0</td>\n",
       "      <td>17</td>\n",
       "    </tr>\n",
       "    <tr>\n",
       "      <th>2</th>\n",
       "      <td>101</td>\n",
       "      <td>742</td>\n",
       "      <td>1970-01-01 00:00:00.000000742</td>\n",
       "      <td>742.0</td>\n",
       "      <td>742.0</td>\n",
       "      <td>742</td>\n",
       "    </tr>\n",
       "    <tr>\n",
       "      <th>3</th>\n",
       "      <td>102</td>\n",
       "      <td>434</td>\n",
       "      <td>1970-01-01 00:00:00.000000434</td>\n",
       "      <td>434.0</td>\n",
       "      <td>434.0</td>\n",
       "      <td>434</td>\n",
       "    </tr>\n",
       "    <tr>\n",
       "      <th>4</th>\n",
       "      <td>103</td>\n",
       "      <td>393</td>\n",
       "      <td>1970-01-01 00:00:00.000000393</td>\n",
       "      <td>393.0</td>\n",
       "      <td>393.0</td>\n",
       "      <td>393</td>\n",
       "    </tr>\n",
       "  </tbody>\n",
       "</table>\n",
       "</div>"
      ],
      "text/plain": [
       "  tile_ID  uid                      datetime    lat    lng  location id\n",
       "0      10    1 1970-01-01 00:00:00.000000001    1.0    1.0            1\n",
       "1     100   17 1970-01-01 00:00:00.000000017   17.0   17.0           17\n",
       "2     101  742 1970-01-01 00:00:00.000000742  742.0  742.0          742\n",
       "3     102  434 1970-01-01 00:00:00.000000434  434.0  434.0          434\n",
       "4     103  393 1970-01-01 00:00:00.000000393  393.0  393.0          393"
      ]
     },
     "execution_count": 163,
     "metadata": {},
     "output_type": "execute_result"
    }
   ],
   "source": [
    "visits_per_tile = tdf_nyc.groupby(\"tile_ID\", as_index=False).count()\n",
    "visits_per_tile.head()\n",
    "#every column is counting the number of trajectories. Let's picl an integer one, uid"
   ]
  },
  {
   "cell_type": "code",
   "execution_count": 164,
   "metadata": {},
   "outputs": [
    {
     "data": {
      "text/html": [
       "<div>\n",
       "<style scoped>\n",
       "    .dataframe tbody tr th:only-of-type {\n",
       "        vertical-align: middle;\n",
       "    }\n",
       "\n",
       "    .dataframe tbody tr th {\n",
       "        vertical-align: top;\n",
       "    }\n",
       "\n",
       "    .dataframe thead th {\n",
       "        text-align: right;\n",
       "    }\n",
       "</style>\n",
       "<table border=\"1\" class=\"dataframe\">\n",
       "  <thead>\n",
       "    <tr style=\"text-align: right;\">\n",
       "      <th></th>\n",
       "      <th>tile_ID</th>\n",
       "      <th>relevance</th>\n",
       "    </tr>\n",
       "  </thead>\n",
       "  <tbody>\n",
       "    <tr>\n",
       "      <th>0</th>\n",
       "      <td>10</td>\n",
       "      <td>1</td>\n",
       "    </tr>\n",
       "    <tr>\n",
       "      <th>1</th>\n",
       "      <td>100</td>\n",
       "      <td>17</td>\n",
       "    </tr>\n",
       "    <tr>\n",
       "      <th>2</th>\n",
       "      <td>101</td>\n",
       "      <td>742</td>\n",
       "    </tr>\n",
       "    <tr>\n",
       "      <th>3</th>\n",
       "      <td>102</td>\n",
       "      <td>434</td>\n",
       "    </tr>\n",
       "    <tr>\n",
       "      <th>4</th>\n",
       "      <td>103</td>\n",
       "      <td>393</td>\n",
       "    </tr>\n",
       "  </tbody>\n",
       "</table>\n",
       "</div>"
      ],
      "text/plain": [
       "  tile_ID  relevance\n",
       "0      10          1\n",
       "1     100         17\n",
       "2     101        742\n",
       "3     102        434\n",
       "4     103        393"
      ]
     },
     "execution_count": 164,
     "metadata": {},
     "output_type": "execute_result"
    }
   ],
   "source": [
    "visits_per_tile = visits_per_tile[[\"tile_ID\", \"uid\"]]\n",
    "visits_per_tile[\"relevance\"] = visits_per_tile[\"uid\"]\n",
    "visits_per_tile = visits_per_tile[[\"tile_ID\", \"relevance\"]]\n",
    "visits_per_tile.head()"
   ]
  },
  {
   "cell_type": "code",
   "execution_count": 165,
   "metadata": {},
   "outputs": [
    {
     "data": {
      "text/html": [
       "<div>\n",
       "<style scoped>\n",
       "    .dataframe tbody tr th:only-of-type {\n",
       "        vertical-align: middle;\n",
       "    }\n",
       "\n",
       "    .dataframe tbody tr th {\n",
       "        vertical-align: top;\n",
       "    }\n",
       "\n",
       "    .dataframe thead th {\n",
       "        text-align: right;\n",
       "    }\n",
       "</style>\n",
       "<table border=\"1\" class=\"dataframe\">\n",
       "  <thead>\n",
       "    <tr style=\"text-align: right;\">\n",
       "      <th></th>\n",
       "      <th>geometry</th>\n",
       "      <th>relevance</th>\n",
       "    </tr>\n",
       "    <tr>\n",
       "      <th>tile_ID</th>\n",
       "      <th></th>\n",
       "      <th></th>\n",
       "    </tr>\n",
       "  </thead>\n",
       "  <tbody>\n",
       "    <tr>\n",
       "      <th>9</th>\n",
       "      <td>POLYGON ((-74.23189 40.55853, -74.23189 40.579...</td>\n",
       "      <td>2.0</td>\n",
       "    </tr>\n",
       "    <tr>\n",
       "      <th>10</th>\n",
       "      <td>POLYGON ((-74.23189 40.57900, -74.23189 40.599...</td>\n",
       "      <td>1.0</td>\n",
       "    </tr>\n",
       "    <tr>\n",
       "      <th>24</th>\n",
       "      <td>POLYGON ((-74.17799 40.55853, -74.17799 40.579...</td>\n",
       "      <td>1.0</td>\n",
       "    </tr>\n",
       "    <tr>\n",
       "      <th>25</th>\n",
       "      <td>POLYGON ((-74.17799 40.57900, -74.17799 40.599...</td>\n",
       "      <td>5.0</td>\n",
       "    </tr>\n",
       "    <tr>\n",
       "      <th>26</th>\n",
       "      <td>POLYGON ((-74.17799 40.59946, -74.17799 40.619...</td>\n",
       "      <td>2.0</td>\n",
       "    </tr>\n",
       "    <tr>\n",
       "      <th>...</th>\n",
       "      <td>...</td>\n",
       "      <td>...</td>\n",
       "    </tr>\n",
       "    <tr>\n",
       "      <th>277</th>\n",
       "      <td>POLYGON ((-73.74680 40.70170, -73.74680 40.722...</td>\n",
       "      <td>2.0</td>\n",
       "    </tr>\n",
       "    <tr>\n",
       "      <th>278</th>\n",
       "      <td>POLYGON ((-73.74680 40.72212, -73.74680 40.742...</td>\n",
       "      <td>1.0</td>\n",
       "    </tr>\n",
       "    <tr>\n",
       "      <th>279</th>\n",
       "      <td>POLYGON ((-73.74680 40.74254, -73.74680 40.762...</td>\n",
       "      <td>8.0</td>\n",
       "    </tr>\n",
       "    <tr>\n",
       "      <th>280</th>\n",
       "      <td>POLYGON ((-73.74680 40.76296, -73.74680 40.783...</td>\n",
       "      <td>2.0</td>\n",
       "    </tr>\n",
       "    <tr>\n",
       "      <th>282</th>\n",
       "      <td>POLYGON ((-73.71985 40.74254, -73.71985 40.762...</td>\n",
       "      <td>3.0</td>\n",
       "    </tr>\n",
       "  </tbody>\n",
       "</table>\n",
       "<p>152 rows × 2 columns</p>\n",
       "</div>"
      ],
      "text/plain": [
       "                                                  geometry  relevance\n",
       "tile_ID                                                              \n",
       "9        POLYGON ((-74.23189 40.55853, -74.23189 40.579...        2.0\n",
       "10       POLYGON ((-74.23189 40.57900, -74.23189 40.599...        1.0\n",
       "24       POLYGON ((-74.17799 40.55853, -74.17799 40.579...        1.0\n",
       "25       POLYGON ((-74.17799 40.57900, -74.17799 40.599...        5.0\n",
       "26       POLYGON ((-74.17799 40.59946, -74.17799 40.619...        2.0\n",
       "...                                                    ...        ...\n",
       "277      POLYGON ((-73.74680 40.70170, -73.74680 40.722...        2.0\n",
       "278      POLYGON ((-73.74680 40.72212, -73.74680 40.742...        1.0\n",
       "279      POLYGON ((-73.74680 40.74254, -73.74680 40.762...        8.0\n",
       "280      POLYGON ((-73.74680 40.76296, -73.74680 40.783...        2.0\n",
       "282      POLYGON ((-73.71985 40.74254, -73.71985 40.762...        3.0\n",
       "\n",
       "[152 rows x 2 columns]"
      ]
     },
     "execution_count": 165,
     "metadata": {},
     "output_type": "execute_result"
    }
   ],
   "source": [
    "#pick only the one in tessellation\n",
    "weighted_tessellation = tessellation.set_index(\"tile_ID\").join(visits_per_tile.set_index(\"tile_ID\"))\n",
    "weighted_tessellation = weighted_tessellation.fillna(0)\n",
    "\n",
    "weighted_tessellation_pos = weighted_tessellation[weighted_tessellation[\"relevance\"]>0] #some relevances are 0\n",
    "\n",
    "weighted_tessellation_pos"
   ]
  },
  {
   "cell_type": "markdown",
   "metadata": {},
   "source": [
    "### The EPR model"
   ]
  },
  {
   "cell_type": "markdown",
   "metadata": {},
   "source": [
    "$S$ is the number of distinct locations previously visited by the agent <br>\n",
    "$\\rho$ controls the agent’s tendency to explore a new location during the next (default 0.6) <br>\n",
    "$\\gamma$ controls the agent’s tendency to explore a new location during the next (default 0.21) <br>\n",
    "\n",
    "\n",
    "<div>\n",
    "<img src=\"https://media.springernature.com/full/springer-static/image/art%3A10.1038%2Fnphys1760/MediaObjects/41567_2010_Article_BFnphys1760_Fig2_HTML.jpg?as=webp\" width=\"400\"/>\n",
    "</div>\n"
   ]
  },
  {
   "cell_type": "markdown",
   "metadata": {},
   "source": [
    "### 1. Density-EPR (d-epr)\n",
    "\n",
    "\n",
    "<b>exploration choice:</b> $p_{ij} = \\frac{1}{N} \\frac{n_i n_j}{r_{ij}^2}$  <br>\n",
    "<b>return choice: $\\Pi_i = f_i$</b>\n",
    "\n",
    "$n_{i (j)}$ is the location relevance <br>\n",
    "$r_{ij}$ is the geographic distance between $i$ and $j$. <br> \n",
    "$f_i$ is the visitation frequency of location $i$."
   ]
  },
  {
   "cell_type": "code",
   "execution_count": 167,
   "metadata": {},
   "outputs": [
    {
     "name": "stderr",
     "output_type": "stream",
     "text": [
      "100%|██████████| 500/500 [00:47<00:00, 10.58it/s]\n"
     ]
    }
   ],
   "source": [
    "from skmob.models.epr import DensityEPR\n",
    "\n",
    "depr = DensityEPR()\n",
    "\n",
    "traj_depr = depr.generate(start, end, weighted_tessellation_pos, relevance_column='relevance', \n",
    "                          n_agents=500, show_progress=True)"
   ]
  },
  {
   "cell_type": "markdown",
   "metadata": {},
   "source": [
    "### 2. Spatial-EPR (s-epr)\n",
    "\n",
    "<b>exploration choice:</b> $p_{ij} = \\frac{1}{r_{ij}^2}$  <br>\n",
    "<b>return choice: $\\Pi_i = f_i$</b>\n",
    "\n",
    "$r_{ij}$ is the geographic distance between $i$ and $j$. <br> \n",
    "$f_i$ is the visitation frequency of location $i$."
   ]
  },
  {
   "cell_type": "code",
   "execution_count": 168,
   "metadata": {},
   "outputs": [
    {
     "name": "stderr",
     "output_type": "stream",
     "text": [
      "  0%|          | 0/500 [00:00<?, ?it/s]"
     ]
    },
    {
     "name": "stderr",
     "output_type": "stream",
     "text": [
      "100%|██████████| 500/500 [00:48<00:00, 10.32it/s]\n"
     ]
    }
   ],
   "source": [
    "from skmob.models.epr import SpatialEPR\n",
    "\n",
    "sepr = SpatialEPR()\n",
    "\n",
    "#we don't need the relevance column\n",
    "traj_sepr = sepr.generate(start, end, weighted_tessellation_pos, n_agents=500, show_progress=True)"
   ]
  },
  {
   "cell_type": "markdown",
   "metadata": {},
   "source": [
    "### 3. Ditras\n",
    "\n",
    "**Mobility Diary Generation**: In the first phase, DITRAS generates a mobility diary which captures the temporal patterns of human mobility.\n",
    "\n",
    "**Trajectory Generation**: In the second phase, DITRAS transforms the mobility diary into a mobility trajectory which captures the spatial patterns of human movements usign the d-EPR model.\n",
    "\n",
    "\n",
    "<img src=\"https://raw.githubusercontent.com/jonpappalord/DITRAS/master/DITRAS_schema.png\" width=\"400\"/>\n",
    "\n"
   ]
  },
  {
   "cell_type": "code",
   "execution_count": 169,
   "metadata": {},
   "outputs": [
    {
     "name": "stderr",
     "output_type": "stream",
     "text": [
      " 73%|███████▎  | 365/500 [01:43<00:38,  3.52it/s]\n"
     ]
    }
   ],
   "source": [
    "# fit the mobility diary generator\n",
    "\n",
    "from skmob.models.markov_diary_generator import MarkovDiaryGenerator\n",
    "from skmob.preprocessing import compression, detection, clustering\n",
    "\n",
    "ctdf = compression.compress(tdf_nyc)\n",
    "stdf = detection.stay_locations(ctdf)\n",
    "cstdf = clustering.cluster(stdf)\n",
    "\n",
    "mdg_nyc = MarkovDiaryGenerator()\n",
    "\n",
    "mdg_nyc.fit(cstdf, 500, lid=\"cluster\")"
   ]
  },
  {
   "cell_type": "code",
   "execution_count": 170,
   "metadata": {},
   "outputs": [
    {
     "name": "stderr",
     "output_type": "stream",
     "text": [
      "100%|██████████| 500/500 [00:07<00:00, 69.97it/s]\n"
     ]
    }
   ],
   "source": [
    "from skmob.models.epr import Ditras\n",
    "\n",
    "ditras = Ditras(mdg_nyc)\n",
    "\n",
    "traj_ditras = ditras.generate(start, end, weighted_tessellation_pos, relevance_column='relevance', n_agents=500, \n",
    "                              show_progress=True)"
   ]
  },
  {
   "cell_type": "markdown",
   "metadata": {},
   "source": [
    "### 4. STS-EPR\n",
    "<div>\n",
    "<img src=\"https://i.ibb.co/8X6strg/Cattura.png\" width=\"800\"/>\n",
    "</div>\n"
   ]
  },
  {
   "cell_type": "code",
   "execution_count": 171,
   "metadata": {},
   "outputs": [
    {
     "name": "stderr",
     "output_type": "stream",
     "text": [
      "100%|██████████| 696/696 [00:13<00:00, 50.86it/s] \n"
     ]
    }
   ],
   "source": [
    "from skmob.models.sts_epr import STS_epr\n",
    "\n",
    "sts_epr = STS_epr()\n",
    "\n",
    "traj_sts = sts_epr.generate(start, end, social_graph=\"random\", n_agents=500, rsl=True,\n",
    "                                    spatial_tessellation=weighted_tessellation_pos,\n",
    "                                    diary_generator=mdg_nyc, show_progress=True, relevance_column='relevance')"
   ]
  },
  {
   "cell_type": "markdown",
   "metadata": {},
   "source": [
    "### Analysis of the Synthetic Trajectories"
   ]
  },
  {
   "cell_type": "code",
   "execution_count": 172,
   "metadata": {},
   "outputs": [],
   "source": [
    "synt_dict = {\"depr\": traj_depr, \"sepr\": traj_sepr, \"ditras\": traj_ditras, \"sts-epr\": traj_sts}"
   ]
  },
  {
   "cell_type": "markdown",
   "metadata": {},
   "source": [
    "#### 1. Compare the Jump Length of synthetic and real trajectories"
   ]
  },
  {
   "cell_type": "code",
   "execution_count": 173,
   "metadata": {},
   "outputs": [],
   "source": [
    "# real\n",
    "jl_list_real = jump_lengths(tdf_nyc, merge=True, show_progress=False)\n",
    "x_real, y_real = zip(*lbpdf(3, [r for r in jl_list_real if r > 1.0]))\n",
    "\n",
    "\n",
    "# synth\n",
    "jl_dist = []\n",
    "for model in synt_dict:\n",
    "    jl_list = jump_lengths(synt_dict[model], merge=True, show_progress=False)\n",
    "    x, y = zip(*lbpdf(3, [r for r in jl_list if r > 1.0]))\n",
    "    jl_dist.append((model,x,y))"
   ]
  },
  {
   "cell_type": "code",
   "execution_count": 177,
   "metadata": {},
   "outputs": [
    {
     "data": {
      "image/png": "[encoded data removed]",
      "text/plain": [
       "<Figure size 432x432 with 1 Axes>"
      ]
     },
     "metadata": {
      "needs_background": "light"
     },
     "output_type": "display_data"
    }
   ],
   "source": [
    "# let's plot the distribution of jump lengths\n",
    "\n",
    "fig = plt.figure(figsize=(6, 6))\n",
    "\n",
    "for m, x, y in jl_dist:\n",
    "     plt.plot(x, y, linewidth=2, label=m)\n",
    "        \n",
    "# real\n",
    "plt.plot(x_real, y_real, marker='o', linewidth=2, label=\"real\", color=\"black\", linestyle=\"dashed\")\n",
    "    \n",
    "plt.loglog()\n",
    "plt.legend()\n",
    "plt.xlabel('$r$ [km]', fontsize=15)\n",
    "plt.ylabel('$P(r)$', fontsize=15)\n",
    "plt.grid(alpha=0.15)\n",
    "plt.show()"
   ]
  },
  {
   "cell_type": "markdown",
   "metadata": {},
   "source": [
    "#### 2. $k$-radius of gyration $r_g^{(k)}$ vs. radius of gyration $r_g$"
   ]
  },
  {
   "cell_type": "code",
   "execution_count": 178,
   "metadata": {},
   "outputs": [
    {
     "data": {
      "image/png": "[encoded data removed]",
      "text/plain": [
       "<Figure size 432x432 with 1 Axes>"
      ]
     },
     "metadata": {
      "needs_background": "light"
     },
     "output_type": "display_data"
    }
   ],
   "source": [
    "# compute rg and k-rg for real data\n",
    "\n",
    "rg_real = list(radius_of_gyration(tdf_nyc, show_progress=False)[\"radius_of_gyration\"])\n",
    "k2rg_real = list(k_radius_of_gyration(tdf_nyc, k=2, show_progress=False)[\"2k_radius_of_gyration\"])\n",
    "\n",
    "fig = plt.figure(figsize=(6, 6))\n",
    "plt.title(\"Real\")\n",
    "plt.scatter(rg_real, k2rg_real, marker='o')\n",
    "plt.xlabel('$r_g$ [km]', fontsize=15)\n",
    "plt.ylabel('$r_g^{(k)}$', fontsize=15)\n",
    "plt.grid(alpha=0.15)\n",
    "plt.plot([0, 25], [0, 25], color=\"black\")\n",
    "plt.show()"
   ]
  },
  {
   "cell_type": "code",
   "execution_count": 91,
   "metadata": {},
   "outputs": [
    {
     "data": {
      "image/png": "[encoded data removed]",
      "text/plain": [
       "<Figure size 432x432 with 1 Axes>"
      ]
     },
     "metadata": {
      "needs_background": "light"
     },
     "output_type": "display_data"
    }
   ],
   "source": [
    "# compute rg and k-rg for sepr\n",
    "\n",
    "synt_data = synt_dict[\"sepr\"]\n",
    "\n",
    "rg_syn = list(radius_of_gyration(synt_data, show_progress=False)[\"radius_of_gyration\"])\n",
    "k2rg_syn = list(k_radius_of_gyration(synt_data, k=2, show_progress=False)[\"2k_radius_of_gyration\"])\n",
    "\n",
    "fig = plt.figure(figsize=(6, 6))\n",
    "plt.title(\"depr\")\n",
    "plt.scatter(rg_syn, k2rg_syn, marker='o')\n",
    "plt.xlabel('$r_g$ [km]', fontsize=15)\n",
    "plt.ylabel('$r_g^{(k)}$', fontsize=15)\n",
    "plt.grid(alpha=0.15)\n",
    "plt.plot([0, 25], [0, 25], color=\"black\")\n",
    "plt.show()"
   ]
  },
  {
   "cell_type": "code",
   "execution_count": 179,
   "metadata": {},
   "outputs": [
    {
     "data": {
      "image/png": "[encoded data removed]",
      "text/plain": [
       "<Figure size 432x432 with 1 Axes>"
      ]
     },
     "metadata": {
      "needs_background": "light"
     },
     "output_type": "display_data"
    }
   ],
   "source": [
    "# compute rg and k-rg for depr\n",
    "\n",
    "synt_data = synt_dict[\"depr\"]\n",
    "\n",
    "rg_syn = list(radius_of_gyration(synt_data, show_progress=False)[\"radius_of_gyration\"])\n",
    "k2rg_syn = list(k_radius_of_gyration(synt_data, k=2, show_progress=False)[\"2k_radius_of_gyration\"])\n",
    "\n",
    "fig = plt.figure(figsize=(6, 6))\n",
    "plt.title(\"depr\")\n",
    "plt.scatter(rg_syn, k2rg_syn, marker='o')\n",
    "plt.xlabel('$r_g$ [km]', fontsize=15)\n",
    "plt.ylabel('$r_g^{(k)}$', fontsize=15)\n",
    "plt.grid(alpha=0.15)\n",
    "plt.plot([0, 25], [0, 25], color=\"black\")\n",
    "plt.show()"
   ]
  },
  {
   "cell_type": "code",
   "execution_count": 93,
   "metadata": {},
   "outputs": [
    {
     "data": {
      "image/png": "[encoded data removed]",
      "text/plain": [
       "<Figure size 432x432 with 1 Axes>"
      ]
     },
     "metadata": {
      "needs_background": "light"
     },
     "output_type": "display_data"
    }
   ],
   "source": [
    "# compute rg and k-rg for sts-epr\n",
    "\n",
    "synt_data = synt_dict[\"sts-epr\"]\n",
    "\n",
    "rg_syn = list(radius_of_gyration(synt_data, show_progress=False)[\"radius_of_gyration\"])\n",
    "k2rg_syn = list(k_radius_of_gyration(synt_data, k=2, show_progress=False)[\"2k_radius_of_gyration\"])\n",
    "\n",
    "fig = plt.figure(figsize=(6, 6))\n",
    "plt.title(\"sts-epr\")\n",
    "plt.scatter(rg_syn, k2rg_syn, marker='o')\n",
    "plt.xlabel('$r_g$ [km]', fontsize=15)\n",
    "plt.ylabel('$r_g^{(k)}$', fontsize=15)\n",
    "plt.grid(alpha=0.15)\n",
    "plt.plot([0, 25], [0, 25], color=\"black\")\n",
    "plt.show()"
   ]
  },
  {
   "cell_type": "code",
   "execution_count": null,
   "metadata": {},
   "outputs": [],
   "source": []
  }
 ],
 "metadata": {
  "colab": {
   "collapsed_sections": [],
   "name": "skmob05-measures.ipynb",
   "private_outputs": true,
   "provenance": []
  },
  "kernelspec": {
   "display_name": "Python 3 (ipykernel)",
   "language": "python",
   "name": "python3"
  },
  "language_info": {
   "codemirror_mode": {
    "name": "ipython",
    "version": 3
   },
   "file_extension": ".py",
   "mimetype": "text/x-python",
   "name": "python",
   "nbconvert_exporter": "python",
   "pygments_lexer": "ipython3",
   "version": "3.9.13"
  }
 },
 "nbformat": 4,
 "nbformat_minor": 4
}
