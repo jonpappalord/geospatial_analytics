{
 "cells": [
  {
   "cell_type": "markdown",
   "metadata": {
    "id": "SU7Vegp-BtOh"
   },
   "source": [
    "Author: Luca Pappalardo\n",
    "</br>Geospatial Analytics, Master degree in Data Science and Business Informatics, University of Pisa"
   ]
  },
  {
   "cell_type": "markdown",
   "metadata": {},
   "source": [
    "# Geospatial Analytics - Lesson 5: Mobility laws and models\n",
    "- Individual measures\n",
    "    1. [Jump length](#jumplength)\n",
    "    2. [Max distance](#maxdistance)\n",
    "    3. [Distance straight line](#straightline)\n",
    "    4. [Max distance from home](#distfromhome)\n",
    "    5. [Radius of gyration](#rg)\n",
    "    6. [$k$-radius of gyration](#krg)\n",
    "    7. [Location Frequency](#locfreq)\n",
    "    8. [Uncorrelated entropy](#uncentropy)\n",
    "    9. [Individual mobility network](#IMN)\n",
    "- Collective measures\n",
    "    1. [Visits per location](#visits_per_location)\n",
    "    2. [Homes per location](#homes_per_location)\n",
    "    3. [Visits per time unit](#visits_per_time_unit)\n",
    "- [Mobility models](#models)"
   ]
  },
  {
   "cell_type": "code",
   "execution_count": 1,
   "metadata": {},
   "outputs": [],
   "source": [
    "import warnings\n",
    "warnings.filterwarnings('ignore')"
   ]
  },
  {
   "cell_type": "code",
   "execution_count": 2,
   "metadata": {
    "id": "zbWyIQ6WDKoN"
   },
   "outputs": [],
   "source": [
    "# import the library\n",
    "import skmob\n",
    "import pandas as pd\n",
    "from tqdm import tqdm\n",
    "import folium\n",
    "from folium.plugins import HeatMap\n",
    "import matplotlib.pyplot as plt\n",
    "from stats_utils import *\n",
    "from skmob.utils.plot import *\n",
    "from skmob.data.load import *\n",
    "from skmob.tessellation.tilers import tiler"
   ]
  },
  {
   "cell_type": "markdown",
   "metadata": {
    "id": "ZzhoKcDUc2bv"
   },
   "source": [
    "## Measures\n",
    "We can compute on a `TrajDataFrame` two types of measures:\n",
    "\n",
    "- *individual measures*, describing features related to the mobility patterns of a single individual\n",
    "- *collective measures*, describing the mobility patterns of an entire population of individuals\n",
    "\n",
    "https://scikit-mobility.github.io/scikit-mobility/reference/measures.html"
   ]
  },
  {
   "cell_type": "markdown",
   "metadata": {
    "id": "AJpM6eePSIBT"
   },
   "source": [
    "## Loading the data\n",
    "We load data of checkins made by users on Brightkite, a location-based social network (LBSN).\n",
    "\n",
    "The dataset is freely available at the SNAP website: https://snap.stanford.edu/data/loc-brightkite.html"
   ]
  },
  {
   "cell_type": "code",
   "execution_count": 3,
   "metadata": {
    "id": "kOmhcTJ7AlSe"
   },
   "outputs": [
    {
     "data": {
      "text/html": [
       "<div>\n",
       "<style scoped>\n",
       "    .dataframe tbody tr th:only-of-type {\n",
       "        vertical-align: middle;\n",
       "    }\n",
       "\n",
       "    .dataframe tbody tr th {\n",
       "        vertical-align: top;\n",
       "    }\n",
       "\n",
       "    .dataframe thead th {\n",
       "        text-align: right;\n",
       "    }\n",
       "</style>\n",
       "<table border=\"1\" class=\"dataframe\">\n",
       "  <thead>\n",
       "    <tr style=\"text-align: right;\">\n",
       "      <th></th>\n",
       "      <th>user</th>\n",
       "      <th>check-in_time</th>\n",
       "      <th>latitude</th>\n",
       "      <th>longitude</th>\n",
       "      <th>location id</th>\n",
       "    </tr>\n",
       "  </thead>\n",
       "  <tbody>\n",
       "    <tr>\n",
       "      <th>0</th>\n",
       "      <td>0</td>\n",
       "      <td>2010-10-16T06:02:04Z</td>\n",
       "      <td>39.891383</td>\n",
       "      <td>-105.070814</td>\n",
       "      <td>7a0f88982aa015062b95e3b4843f9ca2</td>\n",
       "    </tr>\n",
       "    <tr>\n",
       "      <th>1</th>\n",
       "      <td>0</td>\n",
       "      <td>2010-10-16T03:48:54Z</td>\n",
       "      <td>39.891077</td>\n",
       "      <td>-105.068532</td>\n",
       "      <td>dd7cd3d264c2d063832db506fba8bf79</td>\n",
       "    </tr>\n",
       "    <tr>\n",
       "      <th>2</th>\n",
       "      <td>0</td>\n",
       "      <td>2010-10-14T18:25:51Z</td>\n",
       "      <td>39.750469</td>\n",
       "      <td>-104.999073</td>\n",
       "      <td>9848afcc62e500a01cf6fbf24b797732f8963683</td>\n",
       "    </tr>\n",
       "    <tr>\n",
       "      <th>3</th>\n",
       "      <td>0</td>\n",
       "      <td>2010-10-14T00:21:47Z</td>\n",
       "      <td>39.752713</td>\n",
       "      <td>-104.996337</td>\n",
       "      <td>2ef143e12038c870038df53e0478cefc</td>\n",
       "    </tr>\n",
       "    <tr>\n",
       "      <th>4</th>\n",
       "      <td>0</td>\n",
       "      <td>2010-10-13T23:31:51Z</td>\n",
       "      <td>39.752508</td>\n",
       "      <td>-104.996637</td>\n",
       "      <td>424eb3dd143292f9e013efa00486c907</td>\n",
       "    </tr>\n",
       "  </tbody>\n",
       "</table>\n",
       "</div>"
      ],
      "text/plain": [
       "   user         check-in_time   latitude   longitude  \\\n",
       "0     0  2010-10-16T06:02:04Z  39.891383 -105.070814   \n",
       "1     0  2010-10-16T03:48:54Z  39.891077 -105.068532   \n",
       "2     0  2010-10-14T18:25:51Z  39.750469 -104.999073   \n",
       "3     0  2010-10-14T00:21:47Z  39.752713 -104.996337   \n",
       "4     0  2010-10-13T23:31:51Z  39.752508 -104.996637   \n",
       "\n",
       "                                location id  \n",
       "0          7a0f88982aa015062b95e3b4843f9ca2  \n",
       "1          dd7cd3d264c2d063832db506fba8bf79  \n",
       "2  9848afcc62e500a01cf6fbf24b797732f8963683  \n",
       "3          2ef143e12038c870038df53e0478cefc  \n",
       "4          424eb3dd143292f9e013efa00486c907  "
      ]
     },
     "execution_count": 3,
     "metadata": {},
     "output_type": "execute_result"
    }
   ],
   "source": [
    "# download the dataset using pandas\n",
    "url = \"https://snap.stanford.edu/data/loc-brightkite_totalCheckins.txt.gz\"\n",
    "df = pd.read_csv(url, sep='\\t', header=0, nrows=1000000, \n",
    "                 names=['user', 'check-in_time', \"latitude\", \"longitude\", \n",
    "                        \"location id\"])\n",
    "df.head()"
   ]
  },
  {
   "cell_type": "code",
   "execution_count": 4,
   "metadata": {
    "id": "g5RH3WaaSWPb"
   },
   "outputs": [
    {
     "name": "stdout",
     "output_type": "stream",
     "text": [
      "(1000000, 5)\n"
     ]
    },
    {
     "data": {
      "text/html": [
       "<div>\n",
       "<style scoped>\n",
       "    .dataframe tbody tr th:only-of-type {\n",
       "        vertical-align: middle;\n",
       "    }\n",
       "\n",
       "    .dataframe tbody tr th {\n",
       "        vertical-align: top;\n",
       "    }\n",
       "\n",
       "    .dataframe thead th {\n",
       "        text-align: right;\n",
       "    }\n",
       "</style>\n",
       "<table border=\"1\" class=\"dataframe\">\n",
       "  <thead>\n",
       "    <tr style=\"text-align: right;\">\n",
       "      <th></th>\n",
       "      <th>uid</th>\n",
       "      <th>datetime</th>\n",
       "      <th>lat</th>\n",
       "      <th>lng</th>\n",
       "      <th>location id</th>\n",
       "    </tr>\n",
       "  </thead>\n",
       "  <tbody>\n",
       "    <tr>\n",
       "      <th>0</th>\n",
       "      <td>0</td>\n",
       "      <td>2010-10-16 06:02:04+00:00</td>\n",
       "      <td>39.891383</td>\n",
       "      <td>-105.070814</td>\n",
       "      <td>7a0f88982aa015062b95e3b4843f9ca2</td>\n",
       "    </tr>\n",
       "    <tr>\n",
       "      <th>1</th>\n",
       "      <td>0</td>\n",
       "      <td>2010-10-16 03:48:54+00:00</td>\n",
       "      <td>39.891077</td>\n",
       "      <td>-105.068532</td>\n",
       "      <td>dd7cd3d264c2d063832db506fba8bf79</td>\n",
       "    </tr>\n",
       "    <tr>\n",
       "      <th>2</th>\n",
       "      <td>0</td>\n",
       "      <td>2010-10-14 18:25:51+00:00</td>\n",
       "      <td>39.750469</td>\n",
       "      <td>-104.999073</td>\n",
       "      <td>9848afcc62e500a01cf6fbf24b797732f8963683</td>\n",
       "    </tr>\n",
       "    <tr>\n",
       "      <th>3</th>\n",
       "      <td>0</td>\n",
       "      <td>2010-10-14 00:21:47+00:00</td>\n",
       "      <td>39.752713</td>\n",
       "      <td>-104.996337</td>\n",
       "      <td>2ef143e12038c870038df53e0478cefc</td>\n",
       "    </tr>\n",
       "    <tr>\n",
       "      <th>4</th>\n",
       "      <td>0</td>\n",
       "      <td>2010-10-13 23:31:51+00:00</td>\n",
       "      <td>39.752508</td>\n",
       "      <td>-104.996637</td>\n",
       "      <td>424eb3dd143292f9e013efa00486c907</td>\n",
       "    </tr>\n",
       "  </tbody>\n",
       "</table>\n",
       "</div>"
      ],
      "text/plain": [
       "   uid                  datetime        lat         lng  \\\n",
       "0    0 2010-10-16 06:02:04+00:00  39.891383 -105.070814   \n",
       "1    0 2010-10-16 03:48:54+00:00  39.891077 -105.068532   \n",
       "2    0 2010-10-14 18:25:51+00:00  39.750469 -104.999073   \n",
       "3    0 2010-10-14 00:21:47+00:00  39.752713 -104.996337   \n",
       "4    0 2010-10-13 23:31:51+00:00  39.752508 -104.996637   \n",
       "\n",
       "                                location id  \n",
       "0          7a0f88982aa015062b95e3b4843f9ca2  \n",
       "1          dd7cd3d264c2d063832db506fba8bf79  \n",
       "2  9848afcc62e500a01cf6fbf24b797732f8963683  \n",
       "3          2ef143e12038c870038df53e0478cefc  \n",
       "4          424eb3dd143292f9e013efa00486c907  "
      ]
     },
     "execution_count": 4,
     "metadata": {},
     "output_type": "execute_result"
    }
   ],
   "source": [
    "# convert the pandas DataFrame into an skmob TrajDataFrame\n",
    "tdf = skmob.TrajDataFrame(df, latitude='latitude', \n",
    "            longitude='longitude', datetime='check-in_time', user_id='user')\n",
    "print(tdf.shape)\n",
    "tdf.head()"
   ]
  },
  {
   "cell_type": "code",
   "execution_count": 5,
   "metadata": {
    "id": "Vf0IvOq1Sh8_"
   },
   "outputs": [
    {
     "name": "stdout",
     "output_type": "stream",
     "text": [
      "number of users:\t 2757\n",
      "number of records:\t 1000000\n"
     ]
    }
   ],
   "source": [
    "print(\"number of users:\\t\", len(tdf.uid.unique()))\n",
    "print(\"number of records:\\t\", len(tdf))"
   ]
  },
  {
   "cell_type": "code",
   "execution_count": 6,
   "metadata": {},
   "outputs": [],
   "source": [
    "plot_points_heatmap(tdf, map_f=None, max_points=1000, \n",
    "                        tiles='cartodbpositron', zoom=2,\n",
    "                       min_opacity=0.5, radius=25, blur=15,\n",
    "                       gradient=None);"
   ]
  },
  {
   "cell_type": "markdown",
   "metadata": {
    "id": "-jQhIQdBc8DD"
   },
   "source": [
    "## Individual measures\n",
    "Computed on the trajectories, quantify standard mobility patterns."
   ]
  },
  {
   "cell_type": "markdown",
   "metadata": {
    "id": "VUUoyOcAXbaT"
   },
   "source": [
    "<a id='jumplength'></a>\n",
    "### Jump lengths\n",
    "- a jump length is the distance between two consecutive visits of an individual\n",
    "- given a `TrajDataFrame`, skmob computes the lengths for each individual independently\n",
    "- use the `jump_lengths` function"
   ]
  },
  {
   "cell_type": "code",
   "execution_count": 7,
   "metadata": {
    "id": "mlD1WE6GXmTj"
   },
   "outputs": [],
   "source": [
    "from skmob.measures.individual import jump_lengths"
   ]
  },
  {
   "cell_type": "code",
   "execution_count": 8,
   "metadata": {
    "id": "SIVTveC-XpEC"
   },
   "outputs": [
    {
     "name": "stderr",
     "output_type": "stream",
     "text": [
      "100%|█████████████████████████████████████████████████████████████████████████████| 2757/2757 [00:06<00:00, 404.34it/s]\n"
     ]
    },
    {
     "data": {
      "text/html": [
       "<div>\n",
       "<style scoped>\n",
       "    .dataframe tbody tr th:only-of-type {\n",
       "        vertical-align: middle;\n",
       "    }\n",
       "\n",
       "    .dataframe tbody tr th {\n",
       "        vertical-align: top;\n",
       "    }\n",
       "\n",
       "    .dataframe thead th {\n",
       "        text-align: right;\n",
       "    }\n",
       "</style>\n",
       "<table border=\"1\" class=\"dataframe\">\n",
       "  <thead>\n",
       "    <tr style=\"text-align: right;\">\n",
       "      <th></th>\n",
       "      <th>uid</th>\n",
       "      <th>jump_lengths</th>\n",
       "    </tr>\n",
       "  </thead>\n",
       "  <tbody>\n",
       "    <tr>\n",
       "      <th>0</th>\n",
       "      <td>0</td>\n",
       "      <td>[19.64046732887831, 0.0, 0.0, 1.74343110103816...</td>\n",
       "    </tr>\n",
       "    <tr>\n",
       "      <th>1</th>\n",
       "      <td>1</td>\n",
       "      <td>[6.505330424378811, 46.754366003759536, 53.928...</td>\n",
       "    </tr>\n",
       "    <tr>\n",
       "      <th>2</th>\n",
       "      <td>2</td>\n",
       "      <td>[0.0, 0.0, 0.0, 0.0, 3.641009719594163, 0.0, 5...</td>\n",
       "    </tr>\n",
       "    <tr>\n",
       "      <th>3</th>\n",
       "      <td>3</td>\n",
       "      <td>[3861.270630079885, 4.061631313492122, 5.91632...</td>\n",
       "    </tr>\n",
       "    <tr>\n",
       "      <th>4</th>\n",
       "      <td>4</td>\n",
       "      <td>[15511.92758595804, 0.0, 15511.92758595804, 1....</td>\n",
       "    </tr>\n",
       "  </tbody>\n",
       "</table>\n",
       "</div>"
      ],
      "text/plain": [
       "   uid                                       jump_lengths\n",
       "0    0  [19.64046732887831, 0.0, 0.0, 1.74343110103816...\n",
       "1    1  [6.505330424378811, 46.754366003759536, 53.928...\n",
       "2    2  [0.0, 0.0, 0.0, 0.0, 3.641009719594163, 0.0, 5...\n",
       "3    3  [3861.270630079885, 4.061631313492122, 5.91632...\n",
       "4    4  [15511.92758595804, 0.0, 15511.92758595804, 1...."
      ]
     },
     "execution_count": 8,
     "metadata": {},
     "output_type": "execute_result"
    }
   ],
   "source": [
    "jl_df = jump_lengths(tdf) # disable progress bar with show_progress=False\n",
    "jl_df.head()"
   ]
  },
  {
   "cell_type": "code",
   "execution_count": 9,
   "metadata": {
    "id": "ev6PBGSEXxln"
   },
   "outputs": [
    {
     "name": "stderr",
     "output_type": "stream",
     "text": [
      "100%|█████████████████████████████████████████████████████████████████████████████| 2757/2757 [00:07<00:00, 375.58it/s]\n"
     ]
    }
   ],
   "source": [
    "# merge=True put all distances of the individuals into a single list\n",
    "jl_list = jump_lengths(tdf, merge=True)"
   ]
  },
  {
   "cell_type": "code",
   "execution_count": 10,
   "metadata": {
    "id": "ra6Ak9r6X4YM"
   },
   "outputs": [
    {
     "data": {
      "text/plain": [
       "list"
      ]
     },
     "execution_count": 10,
     "metadata": {},
     "output_type": "execute_result"
    }
   ],
   "source": [
    "type(jl_list)"
   ]
  },
  {
   "cell_type": "code",
   "execution_count": 11,
   "metadata": {
    "id": "YJhUAiVSX5Nz"
   },
   "outputs": [
    {
     "data": {
      "text/plain": [
       "997243"
      ]
     },
     "execution_count": 11,
     "metadata": {},
     "output_type": "execute_result"
    }
   ],
   "source": [
    "len(jl_list)"
   ]
  },
  {
   "cell_type": "code",
   "execution_count": 12,
   "metadata": {
    "id": "fVEBXv_DX79o"
   },
   "outputs": [
    {
     "data": {
      "text/plain": [
       "[19.64046732887831,\n",
       " 0.0,\n",
       " 0.0,\n",
       " 1.743431101038163,\n",
       " 1553.5011134765616,\n",
       " 0.0,\n",
       " 30.14517724008101,\n",
       " 0.0,\n",
       " 2.563647571198179,\n",
       " 1.9309489380903868]"
      ]
     },
     "execution_count": 12,
     "metadata": {},
     "output_type": "execute_result"
    }
   ],
   "source": [
    "jl_list[:10]"
   ]
  },
  {
   "cell_type": "code",
   "execution_count": 13,
   "metadata": {
    "id": "odPE7vQNYCP7"
   },
   "outputs": [
    {
     "data": {
      "image/png": "[encoded data removed]",
      "text/plain": [
       "<Figure size 432x432 with 1 Axes>"
      ]
     },
     "metadata": {
      "needs_background": "light"
     },
     "output_type": "display_data"
    }
   ],
   "source": [
    "# let's plot the distribution of jump lengths\n",
    "fig = plt.figure(figsize=(6, 6))\n",
    "d_list = [dist for dist in jl_list[:10000] if dist >= 1]\n",
    "plt.hist(d_list)\n",
    "plt.xlabel('r [km]', fontsize=15)\n",
    "plt.ylabel('P(r)', fontsize=15)\n",
    "plt.grid(alpha=0.15)\n",
    "plt.show()"
   ]
  },
  {
   "cell_type": "code",
   "execution_count": 14,
   "metadata": {},
   "outputs": [],
   "source": [
    "x, y = zip(*lbpdf(1.5, [r for r in jl_list if r > 1.0]))"
   ]
  },
  {
   "cell_type": "code",
   "execution_count": 15,
   "metadata": {},
   "outputs": [
    {
     "data": {
      "image/png": "[encoded data removed]",
      "text/plain": [
       "<Figure size 432x432 with 1 Axes>"
      ]
     },
     "metadata": {
      "needs_background": "light"
     },
     "output_type": "display_data"
    }
   ],
   "source": [
    "# let's plot the distribution of jump lengths\n",
    "fig = plt.figure(figsize=(6, 6))\n",
    "plt.plot(x, y, marker='o', linewidth=2)\n",
    "plt.loglog()\n",
    "plt.xlabel('$r$ [km]', fontsize=15)\n",
    "plt.ylabel('$P(r)$', fontsize=15)\n",
    "plt.grid(alpha=0.15)\n",
    "plt.show()"
   ]
  },
  {
   "cell_type": "markdown",
   "metadata": {
    "id": "1JrDp9h2YYPB"
   },
   "source": [
    "<a id=\"maxdistance\"></a>\n",
    "### Max distance\n",
    "- maximum distance traveled by each individual \n",
    "- use function `maximum_distance`"
   ]
  },
  {
   "cell_type": "code",
   "execution_count": 16,
   "metadata": {},
   "outputs": [],
   "source": [
    "from skmob.measures.individual import maximum_distance"
   ]
  },
  {
   "cell_type": "code",
   "execution_count": 17,
   "metadata": {
    "id": "lkkTOMxrYmMk"
   },
   "outputs": [
    {
     "name": "stderr",
     "output_type": "stream",
     "text": [
      "100%|█████████████████████████████████████████████████████████████████████████████| 2757/2757 [00:06<00:00, 409.10it/s]\n"
     ]
    },
    {
     "data": {
      "text/html": [
       "<div>\n",
       "<style scoped>\n",
       "    .dataframe tbody tr th:only-of-type {\n",
       "        vertical-align: middle;\n",
       "    }\n",
       "\n",
       "    .dataframe tbody tr th {\n",
       "        vertical-align: top;\n",
       "    }\n",
       "\n",
       "    .dataframe thead th {\n",
       "        text-align: right;\n",
       "    }\n",
       "</style>\n",
       "<table border=\"1\" class=\"dataframe\">\n",
       "  <thead>\n",
       "    <tr style=\"text-align: right;\">\n",
       "      <th></th>\n",
       "      <th>uid</th>\n",
       "      <th>maximum_distance</th>\n",
       "    </tr>\n",
       "  </thead>\n",
       "  <tbody>\n",
       "    <tr>\n",
       "      <th>0</th>\n",
       "      <td>0</td>\n",
       "      <td>11294.436420</td>\n",
       "    </tr>\n",
       "    <tr>\n",
       "      <th>1</th>\n",
       "      <td>1</td>\n",
       "      <td>12804.895064</td>\n",
       "    </tr>\n",
       "    <tr>\n",
       "      <th>2</th>\n",
       "      <td>2</td>\n",
       "      <td>11286.745660</td>\n",
       "    </tr>\n",
       "    <tr>\n",
       "      <th>3</th>\n",
       "      <td>3</td>\n",
       "      <td>12803.259219</td>\n",
       "    </tr>\n",
       "    <tr>\n",
       "      <th>4</th>\n",
       "      <td>4</td>\n",
       "      <td>15511.927586</td>\n",
       "    </tr>\n",
       "  </tbody>\n",
       "</table>\n",
       "</div>"
      ],
      "text/plain": [
       "   uid  maximum_distance\n",
       "0    0      11294.436420\n",
       "1    1      12804.895064\n",
       "2    2      11286.745660\n",
       "3    3      12803.259219\n",
       "4    4      15511.927586"
      ]
     },
     "execution_count": 17,
     "metadata": {},
     "output_type": "execute_result"
    }
   ],
   "source": [
    "md_df = maximum_distance(tdf)\n",
    "md_df.head()"
   ]
  },
  {
   "cell_type": "code",
   "execution_count": 18,
   "metadata": {
    "id": "u3lQEj84YsS8"
   },
   "outputs": [
    {
     "data": {
      "image/png": "[encoded data removed]",
      "text/plain": [
       "<Figure size 432x432 with 1 Axes>"
      ]
     },
     "metadata": {
      "needs_background": "light"
     },
     "output_type": "display_data"
    }
   ],
   "source": [
    "# let's plot the distribution\n",
    "fig = plt.figure(figsize=(6, 6))\n",
    "plt.hist(md_df['maximum_distance'], bins=50, rwidth=0.8)\n",
    "plt.xlabel('max $r$', fontsize=15)\n",
    "plt.ylabel('# users', fontsize=15)\n",
    "plt.show()"
   ]
  },
  {
   "cell_type": "code",
   "execution_count": 19,
   "metadata": {},
   "outputs": [],
   "source": [
    "md_df = md_df[md_df['maximum_distance'] > 1]"
   ]
  },
  {
   "cell_type": "code",
   "execution_count": 20,
   "metadata": {},
   "outputs": [],
   "source": [
    "x, y = zip(*lbpdf(1.5, list(md_df['maximum_distance'])))"
   ]
  },
  {
   "cell_type": "code",
   "execution_count": 21,
   "metadata": {},
   "outputs": [
    {
     "data": {
      "image/png": "[encoded data removed]",
      "text/plain": [
       "<Figure size 432x432 with 1 Axes>"
      ]
     },
     "metadata": {
      "needs_background": "light"
     },
     "output_type": "display_data"
    }
   ],
   "source": [
    "# let's plot the distribution of max distance\n",
    "fig = plt.figure(figsize=(6, 6))\n",
    "plt.plot(x, y, marker='o', linewidth=2)\n",
    "plt.loglog()\n",
    "plt.xlabel('max r [km]', fontsize=15)\n",
    "plt.ylabel('P(max r)', fontsize=15)\n",
    "plt.grid(alpha=0.15)\n",
    "plt.show()"
   ]
  },
  {
   "cell_type": "markdown",
   "metadata": {
    "id": "tBpGnszzY9y9"
   },
   "source": [
    "<a id=\"straightline\"></a>\n",
    "### Distance straight line\n",
    "- distance straight line traveled by each individual\n",
    "- use function `distance_straight_line`"
   ]
  },
  {
   "cell_type": "code",
   "execution_count": 22,
   "metadata": {},
   "outputs": [],
   "source": [
    "from skmob.measures.individual import distance_straight_line"
   ]
  },
  {
   "cell_type": "code",
   "execution_count": 23,
   "metadata": {
    "id": "Za3f40fHZJ3H"
   },
   "outputs": [
    {
     "name": "stderr",
     "output_type": "stream",
     "text": [
      "100%|█████████████████████████████████████████████████████████████████████████████| 2757/2757 [00:06<00:00, 406.06it/s]\n"
     ]
    },
    {
     "data": {
      "text/html": [
       "<div>\n",
       "<style scoped>\n",
       "    .dataframe tbody tr th:only-of-type {\n",
       "        vertical-align: middle;\n",
       "    }\n",
       "\n",
       "    .dataframe tbody tr th {\n",
       "        vertical-align: top;\n",
       "    }\n",
       "\n",
       "    .dataframe thead th {\n",
       "        text-align: right;\n",
       "    }\n",
       "</style>\n",
       "<table border=\"1\" class=\"dataframe\">\n",
       "  <thead>\n",
       "    <tr style=\"text-align: right;\">\n",
       "      <th></th>\n",
       "      <th>uid</th>\n",
       "      <th>distance_straight_line</th>\n",
       "    </tr>\n",
       "  </thead>\n",
       "  <tbody>\n",
       "    <tr>\n",
       "      <th>0</th>\n",
       "      <td>0</td>\n",
       "      <td>374530.954882</td>\n",
       "    </tr>\n",
       "    <tr>\n",
       "      <th>1</th>\n",
       "      <td>1</td>\n",
       "      <td>774346.816009</td>\n",
       "    </tr>\n",
       "    <tr>\n",
       "      <th>2</th>\n",
       "      <td>2</td>\n",
       "      <td>88710.682464</td>\n",
       "    </tr>\n",
       "    <tr>\n",
       "      <th>3</th>\n",
       "      <td>3</td>\n",
       "      <td>470986.771764</td>\n",
       "    </tr>\n",
       "    <tr>\n",
       "      <th>4</th>\n",
       "      <td>4</td>\n",
       "      <td>214623.524252</td>\n",
       "    </tr>\n",
       "  </tbody>\n",
       "</table>\n",
       "</div>"
      ],
      "text/plain": [
       "   uid  distance_straight_line\n",
       "0    0           374530.954882\n",
       "1    1           774346.816009\n",
       "2    2            88710.682464\n",
       "3    3           470986.771764\n",
       "4    4           214623.524252"
      ]
     },
     "execution_count": 23,
     "metadata": {},
     "output_type": "execute_result"
    }
   ],
   "source": [
    "dsl_df = distance_straight_line(tdf)\n",
    "dsl_df.head()"
   ]
  },
  {
   "cell_type": "code",
   "execution_count": 24,
   "metadata": {
    "id": "Ik2jFoYXZVTf"
   },
   "outputs": [
    {
     "data": {
      "image/png": "[encoded data removed]",
      "text/plain": [
       "<Figure size 432x288 with 1 Axes>"
      ]
     },
     "metadata": {
      "needs_background": "light"
     },
     "output_type": "display_data"
    }
   ],
   "source": [
    "# let's plot the distribution\n",
    "fig = plt.figure()\n",
    "plt.hist(dsl_df['distance_straight_line'], bins=50, rwidth=0.8)\n",
    "plt.xlabel('sld', fontsize=15)\n",
    "plt.ylabel('# users', fontsize=15)\n",
    "plt.show()"
   ]
  },
  {
   "cell_type": "code",
   "execution_count": 25,
   "metadata": {},
   "outputs": [],
   "source": [
    "dsl_df = dsl_df[dsl_df['distance_straight_line'] > 1]"
   ]
  },
  {
   "cell_type": "code",
   "execution_count": 26,
   "metadata": {},
   "outputs": [],
   "source": [
    "x, y = zip(*lbpdf(1.5, list(dsl_df['distance_straight_line'])))"
   ]
  },
  {
   "cell_type": "code",
   "execution_count": 27,
   "metadata": {},
   "outputs": [
    {
     "data": {
      "image/png": "[encoded data removed]",
      "text/plain": [
       "<Figure size 432x432 with 1 Axes>"
      ]
     },
     "metadata": {
      "needs_background": "light"
     },
     "output_type": "display_data"
    }
   ],
   "source": [
    "# let's plot the distribution \n",
    "fig = plt.figure(figsize=(6, 6))\n",
    "plt.plot(x, y, marker='o', linewidth=2)\n",
    "plt.loglog()\n",
    "plt.xlabel('r straight line[km]', fontsize=15)\n",
    "plt.ylabel('P(r straight line)', fontsize=15)\n",
    "plt.grid(alpha=0.15)\n",
    "plt.show()"
   ]
  },
  {
   "cell_type": "markdown",
   "metadata": {
    "id": "36eHrNsLZh3I"
   },
   "source": [
    "<a id=\"distfromhome\"></a>\n",
    "### Max distance from home\n",
    "- compute the maximum distance traveled by an individual from their home\n",
    "- use the function `max_distance_from_home`"
   ]
  },
  {
   "cell_type": "code",
   "execution_count": 28,
   "metadata": {},
   "outputs": [],
   "source": [
    "from skmob.measures.individual import max_distance_from_home"
   ]
  },
  {
   "cell_type": "code",
   "execution_count": 29,
   "metadata": {
    "id": "x1PQt40IZsmi"
   },
   "outputs": [
    {
     "name": "stderr",
     "output_type": "stream",
     "text": [
      "100%|█████████████████████████████████████████████████████████████████████████████| 2757/2757 [00:16<00:00, 168.94it/s]\n"
     ]
    },
    {
     "data": {
      "text/html": [
       "<div>\n",
       "<style scoped>\n",
       "    .dataframe tbody tr th:only-of-type {\n",
       "        vertical-align: middle;\n",
       "    }\n",
       "\n",
       "    .dataframe tbody tr th {\n",
       "        vertical-align: top;\n",
       "    }\n",
       "\n",
       "    .dataframe thead th {\n",
       "        text-align: right;\n",
       "    }\n",
       "</style>\n",
       "<table border=\"1\" class=\"dataframe\">\n",
       "  <thead>\n",
       "    <tr style=\"text-align: right;\">\n",
       "      <th></th>\n",
       "      <th>uid</th>\n",
       "      <th>max_distance_from_home</th>\n",
       "    </tr>\n",
       "  </thead>\n",
       "  <tbody>\n",
       "    <tr>\n",
       "      <th>0</th>\n",
       "      <td>0</td>\n",
       "      <td>11286.942949</td>\n",
       "    </tr>\n",
       "    <tr>\n",
       "      <th>1</th>\n",
       "      <td>1</td>\n",
       "      <td>12800.547682</td>\n",
       "    </tr>\n",
       "    <tr>\n",
       "      <th>2</th>\n",
       "      <td>2</td>\n",
       "      <td>11282.748348</td>\n",
       "    </tr>\n",
       "    <tr>\n",
       "      <th>3</th>\n",
       "      <td>3</td>\n",
       "      <td>12799.754644</td>\n",
       "    </tr>\n",
       "    <tr>\n",
       "      <th>4</th>\n",
       "      <td>4</td>\n",
       "      <td>15512.788707</td>\n",
       "    </tr>\n",
       "  </tbody>\n",
       "</table>\n",
       "</div>"
      ],
      "text/plain": [
       "   uid  max_distance_from_home\n",
       "0    0            11286.942949\n",
       "1    1            12800.547682\n",
       "2    2            11282.748348\n",
       "3    3            12799.754644\n",
       "4    4            15512.788707"
      ]
     },
     "execution_count": 29,
     "metadata": {},
     "output_type": "execute_result"
    }
   ],
   "source": [
    "mdh_df = max_distance_from_home(tdf)\n",
    "mdh_df.head()"
   ]
  },
  {
   "cell_type": "code",
   "execution_count": 30,
   "metadata": {
    "id": "Jq5K5edOZ1kh"
   },
   "outputs": [
    {
     "data": {
      "image/png": "[encoded data removed]",
      "text/plain": [
       "<Figure size 432x288 with 1 Axes>"
      ]
     },
     "metadata": {
      "needs_background": "light"
     },
     "output_type": "display_data"
    }
   ],
   "source": [
    "# let's plot the distribution\n",
    "fig = plt.figure()\n",
    "plt.hist(mdh_df['max_distance_from_home'], bins=50, rwidth=0.8)\n",
    "plt.xlabel('mdh', fontsize=15)\n",
    "plt.ylabel('# users', fontsize=15)\n",
    "plt.show()"
   ]
  },
  {
   "cell_type": "code",
   "execution_count": 31,
   "metadata": {},
   "outputs": [],
   "source": [
    "mdh_df = mdh_df[mdh_df['max_distance_from_home'] > 1]"
   ]
  },
  {
   "cell_type": "code",
   "execution_count": 32,
   "metadata": {},
   "outputs": [],
   "source": [
    "x, y = zip(*lbpdf(1.5, list(mdh_df['max_distance_from_home'])))"
   ]
  },
  {
   "cell_type": "code",
   "execution_count": 33,
   "metadata": {},
   "outputs": [
    {
     "data": {
      "image/png": "[encoded data removed]",
      "text/plain": [
       "<Figure size 432x432 with 1 Axes>"
      ]
     },
     "metadata": {
      "needs_background": "light"
     },
     "output_type": "display_data"
    }
   ],
   "source": [
    "# let's plot the distribution \n",
    "fig = plt.figure(figsize=(6, 6))\n",
    "plt.plot(x, y, marker='o', linewidth=2)\n",
    "plt.loglog()\n",
    "plt.xlabel('r from home [km]', fontsize=15)\n",
    "plt.ylabel('P(r from home)', fontsize=15)\n",
    "plt.grid(alpha=0.15)\n",
    "plt.show()"
   ]
  },
  {
   "cell_type": "markdown",
   "metadata": {
    "id": "GDrwtindS1rU"
   },
   "source": [
    "<a id=\"rg\"></a>\n",
    "### Radius of gyration $r_g$\n",
    "characteristic distance traveled by an individual:\n",
    "\n",
    "$$r_g = \\sqrt{\\frac{1}{N} \\sum_{i=1}^N (\\mathbf{r}_i - \\mathbf{r}_{cm})^2}$$\n",
    "\n",
    "$r_{cm}$ is the position vector of the center of mass of the set of locations visited by the individual"
   ]
  },
  {
   "cell_type": "code",
   "execution_count": 34,
   "metadata": {
    "id": "HLaJ7OQ7S-vm"
   },
   "outputs": [],
   "source": [
    "from skmob.measures.individual import radius_of_gyration"
   ]
  },
  {
   "cell_type": "code",
   "execution_count": 35,
   "metadata": {
    "id": "wgwhr7ZWTBKO"
   },
   "outputs": [
    {
     "name": "stderr",
     "output_type": "stream",
     "text": [
      "100%|█████████████████████████████████████████████████████████████████████████████| 2757/2757 [00:05<00:00, 460.39it/s]\n"
     ]
    },
    {
     "data": {
      "text/html": [
       "<div>\n",
       "<style scoped>\n",
       "    .dataframe tbody tr th:only-of-type {\n",
       "        vertical-align: middle;\n",
       "    }\n",
       "\n",
       "    .dataframe tbody tr th {\n",
       "        vertical-align: top;\n",
       "    }\n",
       "\n",
       "    .dataframe thead th {\n",
       "        text-align: right;\n",
       "    }\n",
       "</style>\n",
       "<table border=\"1\" class=\"dataframe\">\n",
       "  <thead>\n",
       "    <tr style=\"text-align: right;\">\n",
       "      <th></th>\n",
       "      <th>uid</th>\n",
       "      <th>radius_of_gyration</th>\n",
       "    </tr>\n",
       "  </thead>\n",
       "  <tbody>\n",
       "    <tr>\n",
       "      <th>0</th>\n",
       "      <td>0</td>\n",
       "      <td>1564.436792</td>\n",
       "    </tr>\n",
       "    <tr>\n",
       "      <th>1</th>\n",
       "      <td>1</td>\n",
       "      <td>2467.773523</td>\n",
       "    </tr>\n",
       "    <tr>\n",
       "      <th>2</th>\n",
       "      <td>2</td>\n",
       "      <td>1439.649774</td>\n",
       "    </tr>\n",
       "    <tr>\n",
       "      <th>3</th>\n",
       "      <td>3</td>\n",
       "      <td>1752.604191</td>\n",
       "    </tr>\n",
       "    <tr>\n",
       "      <th>4</th>\n",
       "      <td>4</td>\n",
       "      <td>5380.503250</td>\n",
       "    </tr>\n",
       "  </tbody>\n",
       "</table>\n",
       "</div>"
      ],
      "text/plain": [
       "   uid  radius_of_gyration\n",
       "0    0         1564.436792\n",
       "1    1         2467.773523\n",
       "2    2         1439.649774\n",
       "3    3         1752.604191\n",
       "4    4         5380.503250"
      ]
     },
     "execution_count": 35,
     "metadata": {},
     "output_type": "execute_result"
    }
   ],
   "source": [
    "rg_df = radius_of_gyration(tdf)\n",
    "rg_df.head()"
   ]
  },
  {
   "cell_type": "code",
   "execution_count": 36,
   "metadata": {
    "id": "7eIA1v4RfpzY"
   },
   "outputs": [
    {
     "data": {
      "text/plain": [
       "pandas.core.frame.DataFrame"
      ]
     },
     "execution_count": 36,
     "metadata": {},
     "output_type": "execute_result"
    }
   ],
   "source": [
    "type(rg_df)"
   ]
  },
  {
   "cell_type": "code",
   "execution_count": 37,
   "metadata": {
    "id": "T075wp8sgO28"
   },
   "outputs": [
    {
     "data": {
      "text/plain": [
       "<AxesSubplot:ylabel='Frequency'>"
      ]
     },
     "execution_count": 37,
     "metadata": {},
     "output_type": "execute_result"
    },
    {
     "data": {
      "image/png": "[encoded data removed]",
      "text/plain": [
       "<Figure size 432x288 with 1 Axes>"
      ]
     },
     "metadata": {
      "needs_background": "light"
     },
     "output_type": "display_data"
    }
   ],
   "source": [
    "rg_df.plot(kind='hist', y='radius_of_gyration')"
   ]
  },
  {
   "cell_type": "code",
   "execution_count": 38,
   "metadata": {
    "id": "RbhuaVPRTIjq"
   },
   "outputs": [
    {
     "data": {
      "image/png": "[encoded data removed]",
      "text/plain": [
       "<Figure size 432x432 with 1 Axes>"
      ]
     },
     "metadata": {
      "needs_background": "light"
     },
     "output_type": "display_data"
    }
   ],
   "source": [
    "# let's plot the distribution\n",
    "fig = plt.figure(figsize=(6, 6))\n",
    "rg_list = list(rg_df.radius_of_gyration[rg_df.radius_of_gyration >= 1.0])\n",
    "plt.hist(rg_list)\n",
    "plt.xlabel('$r_g$ [km]', fontsize=20);plt.ylabel('P($r_g$)', fontsize=20)\n",
    "plt.grid(alpha=0.2)\n",
    "plt.show()"
   ]
  },
  {
   "cell_type": "code",
   "execution_count": 39,
   "metadata": {},
   "outputs": [],
   "source": [
    "rg_df = rg_df[rg_df['radius_of_gyration'] > 1]"
   ]
  },
  {
   "cell_type": "code",
   "execution_count": 40,
   "metadata": {},
   "outputs": [],
   "source": [
    "x, y = zip(*lbpdf(1.5, list(rg_df['radius_of_gyration'])))"
   ]
  },
  {
   "cell_type": "code",
   "execution_count": 41,
   "metadata": {},
   "outputs": [
    {
     "data": {
      "image/png": "[encoded data removed]",
      "text/plain": [
       "<Figure size 432x432 with 1 Axes>"
      ]
     },
     "metadata": {
      "needs_background": "light"
     },
     "output_type": "display_data"
    }
   ],
   "source": [
    "# let's plot the distribution\n",
    "fig = plt.figure(figsize=(6, 6))\n",
    "plt.plot(x, y, marker='o', linewidth=2)\n",
    "plt.loglog()\n",
    "plt.xlabel('$r_g$ [km]', fontsize=15)\n",
    "plt.ylabel('$P(r_g)$', fontsize=15)\n",
    "plt.grid(alpha=0.15)\n",
    "plt.show()"
   ]
  },
  {
   "cell_type": "markdown",
   "metadata": {},
   "source": [
    "<a id=\"krg\"></a>\n",
    "### $k$-radius of gyration $r_g^{(k)}$\n",
    "recurrent distance traveled by an individual:\n",
    "\n",
    "$$r_g^{(k)} = \\sqrt{\\frac{1}{N_k} \\sum_{i=1}^k (\\mathbf{r}_i - \\mathbf{r}_{cm}^{(k)})^2}$$\n",
    "\n",
    "$r_{cm}^{(k)}$ is the position vector of the center of mass of the set $k$ most visited locations"
   ]
  },
  {
   "cell_type": "code",
   "execution_count": 42,
   "metadata": {},
   "outputs": [],
   "source": [
    "from skmob.measures.individual import k_radius_of_gyration"
   ]
  },
  {
   "cell_type": "code",
   "execution_count": 43,
   "metadata": {},
   "outputs": [
    {
     "name": "stderr",
     "output_type": "stream",
     "text": [
      "100%|█████████████████████████████████████████████████████████████████████████████| 2757/2757 [00:11<00:00, 244.16it/s]\n"
     ]
    }
   ],
   "source": [
    "krg_df = k_radius_of_gyration(tdf, k=2)"
   ]
  },
  {
   "cell_type": "code",
   "execution_count": 44,
   "metadata": {},
   "outputs": [
    {
     "data": {
      "text/html": [
       "<div>\n",
       "<style scoped>\n",
       "    .dataframe tbody tr th:only-of-type {\n",
       "        vertical-align: middle;\n",
       "    }\n",
       "\n",
       "    .dataframe tbody tr th {\n",
       "        vertical-align: top;\n",
       "    }\n",
       "\n",
       "    .dataframe thead th {\n",
       "        text-align: right;\n",
       "    }\n",
       "</style>\n",
       "<table border=\"1\" class=\"dataframe\">\n",
       "  <thead>\n",
       "    <tr style=\"text-align: right;\">\n",
       "      <th></th>\n",
       "      <th>uid</th>\n",
       "      <th>2k_radius_of_gyration</th>\n",
       "    </tr>\n",
       "  </thead>\n",
       "  <tbody>\n",
       "    <tr>\n",
       "      <th>0</th>\n",
       "      <td>0</td>\n",
       "      <td>7.858833</td>\n",
       "    </tr>\n",
       "    <tr>\n",
       "      <th>1</th>\n",
       "      <td>1</td>\n",
       "      <td>4.069300</td>\n",
       "    </tr>\n",
       "    <tr>\n",
       "      <th>2</th>\n",
       "      <td>2</td>\n",
       "      <td>5.878727</td>\n",
       "    </tr>\n",
       "    <tr>\n",
       "      <th>3</th>\n",
       "      <td>3</td>\n",
       "      <td>10.622092</td>\n",
       "    </tr>\n",
       "    <tr>\n",
       "      <th>4</th>\n",
       "      <td>4</td>\n",
       "      <td>0.740360</td>\n",
       "    </tr>\n",
       "  </tbody>\n",
       "</table>\n",
       "</div>"
      ],
      "text/plain": [
       "   uid  2k_radius_of_gyration\n",
       "0    0               7.858833\n",
       "1    1               4.069300\n",
       "2    2               5.878727\n",
       "3    3              10.622092\n",
       "4    4               0.740360"
      ]
     },
     "execution_count": 44,
     "metadata": {},
     "output_type": "execute_result"
    }
   ],
   "source": [
    "krg_df.head()"
   ]
  },
  {
   "cell_type": "code",
   "execution_count": 45,
   "metadata": {},
   "outputs": [
    {
     "data": {
      "text/html": [
       "<div>\n",
       "<style scoped>\n",
       "    .dataframe tbody tr th:only-of-type {\n",
       "        vertical-align: middle;\n",
       "    }\n",
       "\n",
       "    .dataframe tbody tr th {\n",
       "        vertical-align: top;\n",
       "    }\n",
       "\n",
       "    .dataframe thead th {\n",
       "        text-align: right;\n",
       "    }\n",
       "</style>\n",
       "<table border=\"1\" class=\"dataframe\">\n",
       "  <thead>\n",
       "    <tr style=\"text-align: right;\">\n",
       "      <th></th>\n",
       "      <th>uid</th>\n",
       "      <th>radius_of_gyration</th>\n",
       "      <th>2k_radius_of_gyration</th>\n",
       "    </tr>\n",
       "  </thead>\n",
       "  <tbody>\n",
       "    <tr>\n",
       "      <th>0</th>\n",
       "      <td>0</td>\n",
       "      <td>1564.436792</td>\n",
       "      <td>7.858833</td>\n",
       "    </tr>\n",
       "    <tr>\n",
       "      <th>1</th>\n",
       "      <td>1</td>\n",
       "      <td>2467.773523</td>\n",
       "      <td>4.069300</td>\n",
       "    </tr>\n",
       "    <tr>\n",
       "      <th>2</th>\n",
       "      <td>2</td>\n",
       "      <td>1439.649774</td>\n",
       "      <td>5.878727</td>\n",
       "    </tr>\n",
       "    <tr>\n",
       "      <th>3</th>\n",
       "      <td>3</td>\n",
       "      <td>1752.604191</td>\n",
       "      <td>10.622092</td>\n",
       "    </tr>\n",
       "    <tr>\n",
       "      <th>4</th>\n",
       "      <td>4</td>\n",
       "      <td>5380.503250</td>\n",
       "      <td>0.740360</td>\n",
       "    </tr>\n",
       "  </tbody>\n",
       "</table>\n",
       "</div>"
      ],
      "text/plain": [
       "   uid  radius_of_gyration  2k_radius_of_gyration\n",
       "0    0         1564.436792               7.858833\n",
       "1    1         2467.773523               4.069300\n",
       "2    2         1439.649774               5.878727\n",
       "3    3         1752.604191              10.622092\n",
       "4    4         5380.503250               0.740360"
      ]
     },
     "execution_count": 45,
     "metadata": {},
     "output_type": "execute_result"
    }
   ],
   "source": [
    "rgs_df = pd.merge(rg_df, krg_df, on='uid')\n",
    "rgs_df.head()"
   ]
  },
  {
   "cell_type": "code",
   "execution_count": 46,
   "metadata": {},
   "outputs": [
    {
     "data": {
      "image/png": "[encoded data removed]",
      "text/plain": [
       "<Figure size 432x432 with 1 Axes>"
      ]
     },
     "metadata": {
      "needs_background": "light"
     },
     "output_type": "display_data"
    }
   ],
   "source": [
    "fig = plt.figure(figsize=(6, 6))\n",
    "plt.scatter(rgs_df['radius_of_gyration'], rgs_df['2k_radius_of_gyration'], marker='o')\n",
    "plt.xlabel('$r_g$ [km]', fontsize=15)\n",
    "plt.ylabel('$r_g^{(k)}$', fontsize=15)\n",
    "plt.grid(alpha=0.15)\n",
    "plt.plot([0, 15000], [0, 15000], color=\"black\")\n",
    "plt.show()"
   ]
  },
  {
   "cell_type": "markdown",
   "metadata": {
    "id": "7aXf1g5ddVHB"
   },
   "source": [
    "<a id='locfreq'></a>\n",
    "### Location frequency\n",
    "- compute the frequency of visiting each location\n",
    "- use the function `location_frequency`"
   ]
  },
  {
   "cell_type": "code",
   "execution_count": 47,
   "metadata": {
    "id": "yKlQd5_Kddni"
   },
   "outputs": [],
   "source": [
    "from skmob.measures.individual import location_frequency"
   ]
  },
  {
   "cell_type": "code",
   "execution_count": 48,
   "metadata": {
    "id": "FY5-hKtxdhnI"
   },
   "outputs": [
    {
     "name": "stderr",
     "output_type": "stream",
     "text": [
      "100%|█████████████████████████████████████████████████████████████████████████████| 2757/2757 [00:04<00:00, 629.60it/s]\n"
     ]
    },
    {
     "data": {
      "text/html": [
       "<div>\n",
       "<style scoped>\n",
       "    .dataframe tbody tr th:only-of-type {\n",
       "        vertical-align: middle;\n",
       "    }\n",
       "\n",
       "    .dataframe tbody tr th {\n",
       "        vertical-align: top;\n",
       "    }\n",
       "\n",
       "    .dataframe thead th {\n",
       "        text-align: right;\n",
       "    }\n",
       "</style>\n",
       "<table border=\"1\" class=\"dataframe\">\n",
       "  <thead>\n",
       "    <tr style=\"text-align: right;\">\n",
       "      <th></th>\n",
       "      <th>uid</th>\n",
       "      <th>lat</th>\n",
       "      <th>lng</th>\n",
       "      <th>location_frequency</th>\n",
       "    </tr>\n",
       "  </thead>\n",
       "  <tbody>\n",
       "    <tr>\n",
       "      <th>0</th>\n",
       "      <td>0</td>\n",
       "      <td>39.762146</td>\n",
       "      <td>-104.982480</td>\n",
       "      <td>0.101953</td>\n",
       "    </tr>\n",
       "    <tr>\n",
       "      <th>1</th>\n",
       "      <td>0</td>\n",
       "      <td>39.891077</td>\n",
       "      <td>-105.068532</td>\n",
       "      <td>0.065269</td>\n",
       "    </tr>\n",
       "    <tr>\n",
       "      <th>2</th>\n",
       "      <td>0</td>\n",
       "      <td>39.739154</td>\n",
       "      <td>-104.984703</td>\n",
       "      <td>0.060029</td>\n",
       "    </tr>\n",
       "    <tr>\n",
       "      <th>3</th>\n",
       "      <td>0</td>\n",
       "      <td>39.891586</td>\n",
       "      <td>-105.068463</td>\n",
       "      <td>0.034302</td>\n",
       "    </tr>\n",
       "    <tr>\n",
       "      <th>4</th>\n",
       "      <td>0</td>\n",
       "      <td>39.827022</td>\n",
       "      <td>-105.143191</td>\n",
       "      <td>0.025250</td>\n",
       "    </tr>\n",
       "  </tbody>\n",
       "</table>\n",
       "</div>"
      ],
      "text/plain": [
       "   uid        lat         lng  location_frequency\n",
       "0    0  39.762146 -104.982480            0.101953\n",
       "1    0  39.891077 -105.068532            0.065269\n",
       "2    0  39.739154 -104.984703            0.060029\n",
       "3    0  39.891586 -105.068463            0.034302\n",
       "4    0  39.827022 -105.143191            0.025250"
      ]
     },
     "execution_count": 48,
     "metadata": {},
     "output_type": "execute_result"
    }
   ],
   "source": [
    "lf_df = location_frequency(tdf, normalize=True).reset_index()\n",
    "lf_df.head()"
   ]
  },
  {
   "cell_type": "code",
   "execution_count": 49,
   "metadata": {
    "id": "lG6vS0Fsduyp"
   },
   "outputs": [
    {
     "data": {
      "text/html": [
       "<div>\n",
       "<style scoped>\n",
       "    .dataframe tbody tr th:only-of-type {\n",
       "        vertical-align: middle;\n",
       "    }\n",
       "\n",
       "    .dataframe tbody tr th {\n",
       "        vertical-align: top;\n",
       "    }\n",
       "\n",
       "    .dataframe thead th {\n",
       "        text-align: right;\n",
       "    }\n",
       "</style>\n",
       "<table border=\"1\" class=\"dataframe\">\n",
       "  <thead>\n",
       "    <tr style=\"text-align: right;\">\n",
       "      <th></th>\n",
       "      <th>uid</th>\n",
       "      <th>lat</th>\n",
       "      <th>lng</th>\n",
       "      <th>location_frequency</th>\n",
       "    </tr>\n",
       "  </thead>\n",
       "  <tbody>\n",
       "    <tr>\n",
       "      <th>542</th>\n",
       "      <td>1</td>\n",
       "      <td>37.630490</td>\n",
       "      <td>-122.411084</td>\n",
       "      <td>0.245455</td>\n",
       "    </tr>\n",
       "    <tr>\n",
       "      <th>543</th>\n",
       "      <td>1</td>\n",
       "      <td>37.580304</td>\n",
       "      <td>-122.343679</td>\n",
       "      <td>0.222314</td>\n",
       "    </tr>\n",
       "    <tr>\n",
       "      <th>544</th>\n",
       "      <td>1</td>\n",
       "      <td>37.584103</td>\n",
       "      <td>-122.366083</td>\n",
       "      <td>0.205785</td>\n",
       "    </tr>\n",
       "    <tr>\n",
       "      <th>545</th>\n",
       "      <td>1</td>\n",
       "      <td>37.613825</td>\n",
       "      <td>-122.486919</td>\n",
       "      <td>0.041322</td>\n",
       "    </tr>\n",
       "    <tr>\n",
       "      <th>546</th>\n",
       "      <td>1</td>\n",
       "      <td>0.000000</td>\n",
       "      <td>0.000000</td>\n",
       "      <td>0.038017</td>\n",
       "    </tr>\n",
       "  </tbody>\n",
       "</table>\n",
       "</div>"
      ],
      "text/plain": [
       "     uid        lat         lng  location_frequency\n",
       "542    1  37.630490 -122.411084            0.245455\n",
       "543    1  37.580304 -122.343679            0.222314\n",
       "544    1  37.584103 -122.366083            0.205785\n",
       "545    1  37.613825 -122.486919            0.041322\n",
       "546    1   0.000000    0.000000            0.038017"
      ]
     },
     "execution_count": 49,
     "metadata": {},
     "output_type": "execute_result"
    }
   ],
   "source": [
    "a_user_lf_df = lf_df[lf_df['uid'] == 1]\n",
    "a_user_lf_df.head()"
   ]
  },
  {
   "cell_type": "code",
   "execution_count": 50,
   "metadata": {
    "id": "5niniszjePwi"
   },
   "outputs": [
    {
     "data": {
      "image/png": "[encoded data removed]",
      "text/plain": [
       "<Figure size 432x288 with 1 Axes>"
      ]
     },
     "metadata": {
      "needs_background": "light"
     },
     "output_type": "display_data"
    }
   ],
   "source": [
    "a_user_lf_df.plot(y='location_frequency', linewidth=2, marker='o')\n",
    "plt.loglog()\n",
    "plt.xlabel('location rank', fontsize=15)\n",
    "plt.ylabel('location frequency', fontsize=15)\n",
    "plt.grid(alpha=0.2)\n",
    "plt.show()"
   ]
  },
  {
   "cell_type": "code",
   "execution_count": 51,
   "metadata": {
    "id": "wYKbrjbVkFRd"
   },
   "outputs": [
    {
     "name": "stderr",
     "output_type": "stream",
     "text": [
      "100%|█████████████████████████████████████████████████████████████████████████████| 2757/2757 [00:04<00:00, 638.49it/s]\n"
     ]
    },
    {
     "data": {
      "text/plain": [
       "list"
      ]
     },
     "execution_count": 51,
     "metadata": {},
     "output_type": "execute_result"
    }
   ],
   "source": [
    "new_lf_df = location_frequency(tdf, as_ranks=True)\n",
    "type(new_lf_df)"
   ]
  },
  {
   "cell_type": "code",
   "execution_count": 52,
   "metadata": {
    "id": "OZruL_KUkZYr"
   },
   "outputs": [
    {
     "data": {
      "image/png": "[encoded data removed]",
      "text/plain": [
       "<Figure size 432x288 with 1 Axes>"
      ]
     },
     "metadata": {
      "needs_background": "light"
     },
     "output_type": "display_data"
    }
   ],
   "source": [
    "plt.hist(new_lf_df)\n",
    "plt.show()"
   ]
  },
  {
   "cell_type": "markdown",
   "metadata": {},
   "source": [
    "<a id=\"uncentropy\"></a>\n",
    "### Uncorrelated entropy\n",
    "\n",
    "The predictability of an individual considering the spatial dimension only:\n",
    "\n",
    "$$ S^{unc} = - \\sum_{i=1}^N p_i \\log_2(p_i)$$"
   ]
  },
  {
   "cell_type": "code",
   "execution_count": 53,
   "metadata": {},
   "outputs": [],
   "source": [
    "from skmob.measures.individual import uncorrelated_entropy"
   ]
  },
  {
   "cell_type": "code",
   "execution_count": 54,
   "metadata": {},
   "outputs": [
    {
     "name": "stderr",
     "output_type": "stream",
     "text": [
      "100%|█████████████████████████████████████████████████████████████████████████████| 2757/2757 [00:06<00:00, 415.68it/s]\n"
     ]
    },
    {
     "data": {
      "text/html": [
       "<div>\n",
       "<style scoped>\n",
       "    .dataframe tbody tr th:only-of-type {\n",
       "        vertical-align: middle;\n",
       "    }\n",
       "\n",
       "    .dataframe tbody tr th {\n",
       "        vertical-align: top;\n",
       "    }\n",
       "\n",
       "    .dataframe thead th {\n",
       "        text-align: right;\n",
       "    }\n",
       "</style>\n",
       "<table border=\"1\" class=\"dataframe\">\n",
       "  <thead>\n",
       "    <tr style=\"text-align: right;\">\n",
       "      <th></th>\n",
       "      <th>uid</th>\n",
       "      <th>norm_uncorrelated_entropy</th>\n",
       "    </tr>\n",
       "  </thead>\n",
       "  <tbody>\n",
       "    <tr>\n",
       "      <th>0</th>\n",
       "      <td>0</td>\n",
       "      <td>0.819430</td>\n",
       "    </tr>\n",
       "    <tr>\n",
       "      <th>1</th>\n",
       "      <td>1</td>\n",
       "      <td>0.552972</td>\n",
       "    </tr>\n",
       "    <tr>\n",
       "      <th>2</th>\n",
       "      <td>2</td>\n",
       "      <td>0.764304</td>\n",
       "    </tr>\n",
       "    <tr>\n",
       "      <th>3</th>\n",
       "      <td>3</td>\n",
       "      <td>0.794553</td>\n",
       "    </tr>\n",
       "    <tr>\n",
       "      <th>4</th>\n",
       "      <td>4</td>\n",
       "      <td>0.756421</td>\n",
       "    </tr>\n",
       "  </tbody>\n",
       "</table>\n",
       "</div>"
      ],
      "text/plain": [
       "   uid  norm_uncorrelated_entropy\n",
       "0    0                   0.819430\n",
       "1    1                   0.552972\n",
       "2    2                   0.764304\n",
       "3    3                   0.794553\n",
       "4    4                   0.756421"
      ]
     },
     "execution_count": 54,
     "metadata": {},
     "output_type": "execute_result"
    }
   ],
   "source": [
    "s_unc_df = uncorrelated_entropy(tdf, normalize=True)\n",
    "s_unc_df.head()"
   ]
  },
  {
   "cell_type": "code",
   "execution_count": 55,
   "metadata": {},
   "outputs": [
    {
     "data": {
      "image/png": "[encoded data removed]",
      "text/plain": [
       "<Figure size 432x288 with 1 Axes>"
      ]
     },
     "metadata": {
      "needs_background": "light"
     },
     "output_type": "display_data"
    }
   ],
   "source": [
    "plt.hist(s_unc_df['norm_uncorrelated_entropy'])\n",
    "plt.xlabel('$S^{unc}$', fontsize=15)\n",
    "plt.ylabel('$P(S^{unc})$', fontsize=15)\n",
    "plt.grid(alpha=0.2)\n",
    "plt.show()"
   ]
  },
  {
   "cell_type": "markdown",
   "metadata": {
    "id": "9HGzfu-AaJBq",
    "tags": []
   },
   "source": [
    "<a id=\"IMN\"></a>\n",
    "### Individual mobility network\n",
    "it is a network where:\n",
    "\n",
    "- nodes represent locations visited by the individual\n",
    "- directed edges represent trips between the locations made by the individual"
   ]
  },
  {
   "cell_type": "code",
   "execution_count": 56,
   "metadata": {
    "id": "xI5H711CaNm9"
   },
   "outputs": [],
   "source": [
    "from skmob.measures.individual import individual_mobility_network"
   ]
  },
  {
   "cell_type": "code",
   "execution_count": 57,
   "metadata": {
    "id": "WO2nq6XQaQYS"
   },
   "outputs": [
    {
     "name": "stderr",
     "output_type": "stream",
     "text": [
      "100%|█████████████████████████████████████████████████████████████████████████████| 2757/2757 [00:06<00:00, 408.66it/s]\n"
     ]
    },
    {
     "data": {
      "text/html": [
       "<div>\n",
       "<style scoped>\n",
       "    .dataframe tbody tr th:only-of-type {\n",
       "        vertical-align: middle;\n",
       "    }\n",
       "\n",
       "    .dataframe tbody tr th {\n",
       "        vertical-align: top;\n",
       "    }\n",
       "\n",
       "    .dataframe thead th {\n",
       "        text-align: right;\n",
       "    }\n",
       "</style>\n",
       "<table border=\"1\" class=\"dataframe\">\n",
       "  <thead>\n",
       "    <tr style=\"text-align: right;\">\n",
       "      <th></th>\n",
       "      <th>uid</th>\n",
       "      <th>lat_origin</th>\n",
       "      <th>lng_origin</th>\n",
       "      <th>lat_dest</th>\n",
       "      <th>lng_dest</th>\n",
       "      <th>n_trips</th>\n",
       "    </tr>\n",
       "  </thead>\n",
       "  <tbody>\n",
       "    <tr>\n",
       "      <th>0</th>\n",
       "      <td>0</td>\n",
       "      <td>37.774929</td>\n",
       "      <td>-122.419415</td>\n",
       "      <td>37.600747</td>\n",
       "      <td>-122.382376</td>\n",
       "      <td>1</td>\n",
       "    </tr>\n",
       "    <tr>\n",
       "      <th>1</th>\n",
       "      <td>0</td>\n",
       "      <td>37.600747</td>\n",
       "      <td>-122.382376</td>\n",
       "      <td>37.615223</td>\n",
       "      <td>-122.389979</td>\n",
       "      <td>1</td>\n",
       "    </tr>\n",
       "    <tr>\n",
       "      <th>2</th>\n",
       "      <td>0</td>\n",
       "      <td>37.600747</td>\n",
       "      <td>-122.382376</td>\n",
       "      <td>37.580304</td>\n",
       "      <td>-122.343679</td>\n",
       "      <td>1</td>\n",
       "    </tr>\n",
       "    <tr>\n",
       "      <th>3</th>\n",
       "      <td>0</td>\n",
       "      <td>37.615223</td>\n",
       "      <td>-122.389979</td>\n",
       "      <td>39.878664</td>\n",
       "      <td>-104.682105</td>\n",
       "      <td>1</td>\n",
       "    </tr>\n",
       "    <tr>\n",
       "      <th>4</th>\n",
       "      <td>0</td>\n",
       "      <td>37.615223</td>\n",
       "      <td>-122.389979</td>\n",
       "      <td>37.580304</td>\n",
       "      <td>-122.343679</td>\n",
       "      <td>1</td>\n",
       "    </tr>\n",
       "  </tbody>\n",
       "</table>\n",
       "</div>"
      ],
      "text/plain": [
       "   uid lat_origin  lng_origin   lat_dest    lng_dest n_trips\n",
       "0    0  37.774929 -122.419415  37.600747 -122.382376       1\n",
       "1    0  37.600747 -122.382376  37.615223 -122.389979       1\n",
       "2    0  37.600747 -122.382376  37.580304 -122.343679       1\n",
       "3    0  37.615223 -122.389979  39.878664 -104.682105       1\n",
       "4    0  37.615223 -122.389979  37.580304 -122.343679       1"
      ]
     },
     "execution_count": 57,
     "metadata": {},
     "output_type": "execute_result"
    }
   ],
   "source": [
    "imn_df = individual_mobility_network(tdf)\n",
    "imn_df.head()"
   ]
  },
  {
   "cell_type": "code",
   "execution_count": 58,
   "metadata": {
    "id": "tsviV5zBaXH1"
   },
   "outputs": [
    {
     "data": {
      "text/html": [
       "<div>\n",
       "<style scoped>\n",
       "    .dataframe tbody tr th:only-of-type {\n",
       "        vertical-align: middle;\n",
       "    }\n",
       "\n",
       "    .dataframe tbody tr th {\n",
       "        vertical-align: top;\n",
       "    }\n",
       "\n",
       "    .dataframe thead th {\n",
       "        text-align: right;\n",
       "    }\n",
       "</style>\n",
       "<table border=\"1\" class=\"dataframe\">\n",
       "  <thead>\n",
       "    <tr style=\"text-align: right;\">\n",
       "      <th></th>\n",
       "      <th>uid</th>\n",
       "      <th>lat_origin</th>\n",
       "      <th>lng_origin</th>\n",
       "      <th>lat_dest</th>\n",
       "      <th>lng_dest</th>\n",
       "      <th>n_trips</th>\n",
       "    </tr>\n",
       "  </thead>\n",
       "  <tbody>\n",
       "    <tr>\n",
       "      <th>1686</th>\n",
       "      <td>2</td>\n",
       "      <td>39.758302</td>\n",
       "      <td>-104.936129</td>\n",
       "      <td>39.802002</td>\n",
       "      <td>-105.09543</td>\n",
       "      <td>69</td>\n",
       "    </tr>\n",
       "    <tr>\n",
       "      <th>1452</th>\n",
       "      <td>2</td>\n",
       "      <td>39.802002</td>\n",
       "      <td>-105.09543</td>\n",
       "      <td>39.758302</td>\n",
       "      <td>-104.936129</td>\n",
       "      <td>59</td>\n",
       "    </tr>\n",
       "    <tr>\n",
       "      <th>1493</th>\n",
       "      <td>2</td>\n",
       "      <td>39.739154</td>\n",
       "      <td>-104.984703</td>\n",
       "      <td>39.802002</td>\n",
       "      <td>-105.09543</td>\n",
       "      <td>52</td>\n",
       "    </tr>\n",
       "    <tr>\n",
       "      <th>1446</th>\n",
       "      <td>2</td>\n",
       "      <td>39.802002</td>\n",
       "      <td>-105.09543</td>\n",
       "      <td>39.739154</td>\n",
       "      <td>-104.984703</td>\n",
       "      <td>51</td>\n",
       "    </tr>\n",
       "    <tr>\n",
       "      <th>1535</th>\n",
       "      <td>2</td>\n",
       "      <td>39.739154</td>\n",
       "      <td>-104.984703</td>\n",
       "      <td>39.81804</td>\n",
       "      <td>-105.081949</td>\n",
       "      <td>23</td>\n",
       "    </tr>\n",
       "  </tbody>\n",
       "</table>\n",
       "</div>"
      ],
      "text/plain": [
       "      uid lat_origin  lng_origin   lat_dest    lng_dest n_trips\n",
       "1686    2  39.758302 -104.936129  39.802002  -105.09543      69\n",
       "1452    2  39.802002  -105.09543  39.758302 -104.936129      59\n",
       "1493    2  39.739154 -104.984703  39.802002  -105.09543      52\n",
       "1446    2  39.802002  -105.09543  39.739154 -104.984703      51\n",
       "1535    2  39.739154 -104.984703   39.81804 -105.081949      23"
      ]
     },
     "execution_count": 58,
     "metadata": {},
     "output_type": "execute_result"
    }
   ],
   "source": [
    "an_imn = imn_df[imn_df.uid == 2]\n",
    "an_imn.sort_values(by='n_trips', ascending=False).head()"
   ]
  },
  {
   "cell_type": "code",
   "execution_count": 59,
   "metadata": {
    "id": "X67ptsabasLm"
   },
   "outputs": [],
   "source": [
    "import networkx as nx\n",
    "from tqdm import tqdm"
   ]
  },
  {
   "cell_type": "code",
   "execution_count": 60,
   "metadata": {
    "id": "4DbI13u1cPYZ"
   },
   "outputs": [
    {
     "name": "stdout",
     "output_type": "stream",
     "text": [
      "1054\n"
     ]
    },
    {
     "data": {
      "text/html": [
       "<div>\n",
       "<style scoped>\n",
       "    .dataframe tbody tr th:only-of-type {\n",
       "        vertical-align: middle;\n",
       "    }\n",
       "\n",
       "    .dataframe tbody tr th {\n",
       "        vertical-align: top;\n",
       "    }\n",
       "\n",
       "    .dataframe thead th {\n",
       "        text-align: right;\n",
       "    }\n",
       "</style>\n",
       "<table border=\"1\" class=\"dataframe\">\n",
       "  <thead>\n",
       "    <tr style=\"text-align: right;\">\n",
       "      <th></th>\n",
       "      <th>uid</th>\n",
       "      <th>lat_origin</th>\n",
       "      <th>lng_origin</th>\n",
       "      <th>lat_dest</th>\n",
       "      <th>lng_dest</th>\n",
       "      <th>n_trips</th>\n",
       "    </tr>\n",
       "  </thead>\n",
       "  <tbody>\n",
       "    <tr>\n",
       "      <th>2413</th>\n",
       "      <td>3</td>\n",
       "      <td>29.894691</td>\n",
       "      <td>-81.314517</td>\n",
       "      <td>37.758839</td>\n",
       "      <td>-122.388345</td>\n",
       "      <td>1</td>\n",
       "    </tr>\n",
       "    <tr>\n",
       "      <th>2414</th>\n",
       "      <td>3</td>\n",
       "      <td>29.894691</td>\n",
       "      <td>-81.314517</td>\n",
       "      <td>29.800407</td>\n",
       "      <td>-81.319127</td>\n",
       "      <td>1</td>\n",
       "    </tr>\n",
       "    <tr>\n",
       "      <th>2415</th>\n",
       "      <td>3</td>\n",
       "      <td>37.758839</td>\n",
       "      <td>-122.388345</td>\n",
       "      <td>37.795105</td>\n",
       "      <td>-122.393861</td>\n",
       "      <td>1</td>\n",
       "    </tr>\n",
       "    <tr>\n",
       "      <th>2416</th>\n",
       "      <td>3</td>\n",
       "      <td>37.795105</td>\n",
       "      <td>-122.393861</td>\n",
       "      <td>37.752539</td>\n",
       "      <td>-122.434248</td>\n",
       "      <td>1</td>\n",
       "    </tr>\n",
       "    <tr>\n",
       "      <th>2417</th>\n",
       "      <td>3</td>\n",
       "      <td>37.795105</td>\n",
       "      <td>-122.393861</td>\n",
       "      <td>37.806327</td>\n",
       "      <td>-122.405041</td>\n",
       "      <td>1</td>\n",
       "    </tr>\n",
       "  </tbody>\n",
       "</table>\n",
       "</div>"
      ],
      "text/plain": [
       "      uid lat_origin  lng_origin   lat_dest    lng_dest n_trips\n",
       "2413    3  29.894691  -81.314517  37.758839 -122.388345       1\n",
       "2414    3  29.894691  -81.314517  29.800407  -81.319127       1\n",
       "2415    3  37.758839 -122.388345  37.795105 -122.393861       1\n",
       "2416    3  37.795105 -122.393861  37.752539 -122.434248       1\n",
       "2417    3  37.795105 -122.393861  37.806327 -122.405041       1"
      ]
     },
     "execution_count": 60,
     "metadata": {},
     "output_type": "execute_result"
    }
   ],
   "source": [
    "a_user_imn_df = imn_df[imn_df['uid'] == 3]\n",
    "print(len(a_user_imn_df))\n",
    "a_user_imn_df.head()"
   ]
  },
  {
   "cell_type": "code",
   "execution_count": 61,
   "metadata": {
    "id": "_OMqRetJauhp"
   },
   "outputs": [],
   "source": [
    "g = nx.DiGraph()"
   ]
  },
  {
   "cell_type": "code",
   "execution_count": 62,
   "metadata": {
    "id": "JcLqysAga1fk"
   },
   "outputs": [],
   "source": [
    "for i, row in a_user_imn_df.iterrows():\n",
    "    origin = (row['lat_origin'], row['lng_origin'])\n",
    "    destination = (row['lat_dest'], row['lng_dest'])\n",
    "    g.add_edge(origin, destination, weight=row['n_trips'])"
   ]
  },
  {
   "cell_type": "code",
   "execution_count": 63,
   "metadata": {
    "id": "ThJEIPlocnVS"
   },
   "outputs": [
    {
     "data": {
      "image/png": "[encoded data removed]",
      "text/plain": [
       "<Figure size 432x288 with 1 Axes>"
      ]
     },
     "metadata": {},
     "output_type": "display_data"
    }
   ],
   "source": [
    "nx.draw(g, node_size=1, node_color=\"skyblue\")"
   ]
  },
  {
   "cell_type": "markdown",
   "metadata": {
    "id": "OsRuNUb2mK6M"
   },
   "source": [
    "You may custommize the visualization of the network: https://www.python-graph-gallery.com/321-custom-networkx-graph-appearance"
   ]
  },
  {
   "cell_type": "markdown",
   "metadata": {
    "id": "rSY8Li0WiPNA"
   },
   "source": [
    "## Collective measures\n",
    "are computed on the trajectories of all individual together and quantify standard collective mobility patterns"
   ]
  },
  {
   "cell_type": "markdown",
   "metadata": {
    "id": "YHxOj_cnia5Q"
   },
   "source": [
    "<a id=\"visits_per_location\"></a>\n",
    "### Visits per location\n",
    "number of visits to a location made by the population of individuals"
   ]
  },
  {
   "cell_type": "code",
   "execution_count": 64,
   "metadata": {
    "id": "dl0sPx5QidWP"
   },
   "outputs": [],
   "source": [
    "from skmob.measures.collective import visits_per_location"
   ]
  },
  {
   "cell_type": "code",
   "execution_count": 65,
   "metadata": {
    "id": "iFb1qaQvifro"
   },
   "outputs": [
    {
     "data": {
      "text/html": [
       "<div>\n",
       "<style scoped>\n",
       "    .dataframe tbody tr th:only-of-type {\n",
       "        vertical-align: middle;\n",
       "    }\n",
       "\n",
       "    .dataframe tbody tr th {\n",
       "        vertical-align: top;\n",
       "    }\n",
       "\n",
       "    .dataframe thead th {\n",
       "        text-align: right;\n",
       "    }\n",
       "</style>\n",
       "<table border=\"1\" class=\"dataframe\">\n",
       "  <thead>\n",
       "    <tr style=\"text-align: right;\">\n",
       "      <th></th>\n",
       "      <th>lat</th>\n",
       "      <th>lng</th>\n",
       "      <th>n_visits</th>\n",
       "    </tr>\n",
       "  </thead>\n",
       "  <tbody>\n",
       "    <tr>\n",
       "      <th>0</th>\n",
       "      <td>0.000000</td>\n",
       "      <td>0.000000</td>\n",
       "      <td>20397</td>\n",
       "    </tr>\n",
       "    <tr>\n",
       "      <th>1</th>\n",
       "      <td>39.739154</td>\n",
       "      <td>-104.984703</td>\n",
       "      <td>11949</td>\n",
       "    </tr>\n",
       "    <tr>\n",
       "      <th>2</th>\n",
       "      <td>40.014986</td>\n",
       "      <td>-105.270546</td>\n",
       "      <td>5893</td>\n",
       "    </tr>\n",
       "    <tr>\n",
       "      <th>3</th>\n",
       "      <td>37.774929</td>\n",
       "      <td>-122.419415</td>\n",
       "      <td>4993</td>\n",
       "    </tr>\n",
       "    <tr>\n",
       "      <th>4</th>\n",
       "      <td>40.714269</td>\n",
       "      <td>-74.005973</td>\n",
       "      <td>3626</td>\n",
       "    </tr>\n",
       "  </tbody>\n",
       "</table>\n",
       "</div>"
      ],
      "text/plain": [
       "         lat         lng  n_visits\n",
       "0   0.000000    0.000000     20397\n",
       "1  39.739154 -104.984703     11949\n",
       "2  40.014986 -105.270546      5893\n",
       "3  37.774929 -122.419415      4993\n",
       "4  40.714269  -74.005973      3626"
      ]
     },
     "execution_count": 65,
     "metadata": {},
     "output_type": "execute_result"
    }
   ],
   "source": [
    "vpl_df = visits_per_location(tdf)\n",
    "vpl_df.head()"
   ]
  },
  {
   "cell_type": "code",
   "execution_count": 66,
   "metadata": {
    "id": "MTJONYjwikX1"
   },
   "outputs": [
    {
     "data": {
      "text/plain": [
       "Text(0.5, 0, 'number of visits')"
      ]
     },
     "execution_count": 66,
     "metadata": {},
     "output_type": "execute_result"
    },
    {
     "data": {
      "image/png": "[encoded data removed]",
      "text/plain": [
       "<Figure size 432x288 with 1 Axes>"
      ]
     },
     "metadata": {
      "needs_background": "light"
     },
     "output_type": "display_data"
    }
   ],
   "source": [
    "vpl_df.plot(kind='hist', y='n_visits', bins=50)\n",
    "plt.xlabel('number of visits', fontsize=15)"
   ]
  },
  {
   "cell_type": "code",
   "execution_count": 67,
   "metadata": {},
   "outputs": [
    {
     "data": {
      "image/png": "[encoded data removed]",
      "text/plain": [
       "<Figure size 432x288 with 1 Axes>"
      ]
     },
     "metadata": {
      "needs_background": "light"
     },
     "output_type": "display_data"
    }
   ],
   "source": [
    "vpl_df['n_visits'].plot()\n",
    "plt.loglog()\n",
    "plt.show()"
   ]
  },
  {
   "cell_type": "markdown",
   "metadata": {
    "id": "Wm4Syua6i6VS"
   },
   "source": [
    "<a id=\"homes_per_location\"></a>\n",
    "### Homes per location\n",
    "Compute the number of home locations in each location "
   ]
  },
  {
   "cell_type": "code",
   "execution_count": 68,
   "metadata": {
    "id": "r2jxhLh9jCin"
   },
   "outputs": [],
   "source": [
    "from skmob.measures.collective import homes_per_location"
   ]
  },
  {
   "cell_type": "code",
   "execution_count": 69,
   "metadata": {
    "id": "sPhJbVMkjHWM"
   },
   "outputs": [
    {
     "name": "stderr",
     "output_type": "stream",
     "text": [
      "100%|█████████████████████████████████████████████████████████████████████████████| 2757/2757 [00:05<00:00, 471.25it/s]\n"
     ]
    },
    {
     "data": {
      "text/html": [
       "<div>\n",
       "<style scoped>\n",
       "    .dataframe tbody tr th:only-of-type {\n",
       "        vertical-align: middle;\n",
       "    }\n",
       "\n",
       "    .dataframe tbody tr th {\n",
       "        vertical-align: top;\n",
       "    }\n",
       "\n",
       "    .dataframe thead th {\n",
       "        text-align: right;\n",
       "    }\n",
       "</style>\n",
       "<table border=\"1\" class=\"dataframe\">\n",
       "  <thead>\n",
       "    <tr style=\"text-align: right;\">\n",
       "      <th></th>\n",
       "      <th>lat</th>\n",
       "      <th>lng</th>\n",
       "      <th>n_homes</th>\n",
       "    </tr>\n",
       "  </thead>\n",
       "  <tbody>\n",
       "    <tr>\n",
       "      <th>0</th>\n",
       "      <td>39.739154</td>\n",
       "      <td>-104.984703</td>\n",
       "      <td>99</td>\n",
       "    </tr>\n",
       "    <tr>\n",
       "      <th>1</th>\n",
       "      <td>40.014986</td>\n",
       "      <td>-105.270546</td>\n",
       "      <td>51</td>\n",
       "    </tr>\n",
       "    <tr>\n",
       "      <th>2</th>\n",
       "      <td>37.774929</td>\n",
       "      <td>-122.419415</td>\n",
       "      <td>46</td>\n",
       "    </tr>\n",
       "    <tr>\n",
       "      <th>3</th>\n",
       "      <td>0.000000</td>\n",
       "      <td>0.000000</td>\n",
       "      <td>44</td>\n",
       "    </tr>\n",
       "    <tr>\n",
       "      <th>4</th>\n",
       "      <td>30.267153</td>\n",
       "      <td>-97.743061</td>\n",
       "      <td>23</td>\n",
       "    </tr>\n",
       "  </tbody>\n",
       "</table>\n",
       "</div>"
      ],
      "text/plain": [
       "         lat         lng  n_homes\n",
       "0  39.739154 -104.984703       99\n",
       "1  40.014986 -105.270546       51\n",
       "2  37.774929 -122.419415       46\n",
       "3   0.000000    0.000000       44\n",
       "4  30.267153  -97.743061       23"
      ]
     },
     "execution_count": 69,
     "metadata": {},
     "output_type": "execute_result"
    }
   ],
   "source": [
    "hpl_df = homes_per_location(tdf)\n",
    "hpl_df.head()"
   ]
  },
  {
   "cell_type": "code",
   "execution_count": 70,
   "metadata": {
    "id": "c7hSUxncjcBC"
   },
   "outputs": [
    {
     "data": {
      "text/plain": [
       "<AxesSubplot:ylabel='Frequency'>"
      ]
     },
     "execution_count": 70,
     "metadata": {},
     "output_type": "execute_result"
    },
    {
     "data": {
      "image/png": "[encoded data removed]",
      "text/plain": [
       "<Figure size 432x288 with 1 Axes>"
      ]
     },
     "metadata": {
      "needs_background": "light"
     },
     "output_type": "display_data"
    }
   ],
   "source": [
    "hpl_df.plot(kind='hist', y='n_homes', bins=50)"
   ]
  },
  {
   "cell_type": "markdown",
   "metadata": {},
   "source": [
    "<a id=\"visits_per_time_unit\"></a>\n",
    "### Visits per time unit"
   ]
  },
  {
   "cell_type": "code",
   "execution_count": 71,
   "metadata": {},
   "outputs": [],
   "source": [
    "from skmob.measures.collective import visits_per_time_unit"
   ]
  },
  {
   "cell_type": "code",
   "execution_count": 72,
   "metadata": {},
   "outputs": [
    {
     "data": {
      "image/png": "[encoded data removed]",
      "text/plain": [
       "<Figure size 432x288 with 1 Axes>"
      ]
     },
     "metadata": {
      "needs_background": "light"
     },
     "output_type": "display_data"
    }
   ],
   "source": [
    "visits_per_time_unit(tdf, time_unit='1w').plot()\n",
    "plt.show()"
   ]
  },
  {
   "cell_type": "markdown",
   "metadata": {
    "id": "A3HaGrrwFzwP"
   },
   "source": [
    "<a id=\"models\"></a>\n",
    "## Mobility models\n",
    "\n",
    "https://scikit-mobility.github.io/scikit-mobility/reference/models.html#\n",
    "\n",
    "We want to simulate the mobility of **500** individuals moving in **New York City** for **30 days** with four different generative models:\n",
    "1. Density-EPR (d-epr)\n",
    "2. Spatial-EPR (s-epr)\n",
    "3. Ditras\n",
    "4. STS-EPR"
   ]
  },
  {
   "cell_type": "code",
   "execution_count": 73,
   "metadata": {},
   "outputs": [],
   "source": [
    "# set the dates to simulates 30 days\n",
    "\n",
    "start = pd.to_datetime('2022/10/01 00:00:00')\n",
    "end = pd.to_datetime('2022/10/30 00:00:00')"
   ]
  },
  {
   "cell_type": "code",
   "execution_count": 74,
   "metadata": {},
   "outputs": [],
   "source": [
    "# get a tessellation of NYC\n",
    "\n",
    "tessellation = tiler.get(\"squared\", base_shape=\"New York City\", meters=3000)"
   ]
  },
  {
   "cell_type": "markdown",
   "metadata": {},
   "source": [
    "Load real mobility traces of people moving in New York City"
   ]
  },
  {
   "cell_type": "code",
   "execution_count": 75,
   "metadata": {},
   "outputs": [
    {
     "name": "stdout",
     "output_type": "stream",
     "text": [
      "Wall time: 48 s\n"
     ]
    }
   ],
   "source": [
    "%%time\n",
    "\n",
    "tdf_nyc = tdf.mapping(tessellation, remove_na=True)"
   ]
  },
  {
   "cell_type": "code",
   "execution_count": 76,
   "metadata": {},
   "outputs": [
    {
     "data": {
      "text/html": [
       "<div style=\"width:100%;\"><div style=\"position:relative;width:100%;height:0;padding-bottom:60%;\"><span style=\"color:#565656\">Make this Notebook Trusted to load map: File -> Trust Notebook</span><iframe src=\"about:blank\" style=\"position:absolute;width:100%;height:100%;left:0;top:0;border:none !important;\" data-html=%3C%21DOCTYPE%20html%3E%0A%3Chead%3E%20%20%20%20%0A%20%20%20%20%3Cmeta%20http-equiv%3D%22content-type%22%20content%3D%22text/html%3B%20charset%3DUTF-8%22%20/%3E%0A%20%20%20%20%0A%20%20%20%20%20%20%20%20%3Cscript%3E%0A%20%20%20%20%20%20%20%20%20%20%20%20L_NO_TOUCH%20%3D%20false%3B%0A%20%20%20%20%20%20%20%20%20%20%20%20L_DISABLE_3D%20%3D%20false%3B%0A%20%20%20%20%20%20%20%20%3C/script%3E%0A%20%20%20%20%0A%20%20%20%20%3Cstyle%3Ehtml%2C%20body%20%7Bwidth%3A%20100%25%3Bheight%3A%20100%25%3Bmargin%3A%200%3Bpadding%3A%200%3B%7D%3C/style%3E%0A%20%20%20%20%3Cstyle%3E%23map%20%7Bposition%3Aabsolute%3Btop%3A0%3Bbottom%3A0%3Bright%3A0%3Bleft%3A0%3B%7D%3C/style%3E%0A%20%20%20%20%3Cscript%20src%3D%22https%3A//cdn.jsdelivr.net/npm/leaflet%401.6.0/dist/leaflet.js%22%3E%3C/script%3E%0A%20%20%20%20%3Cscript%20src%3D%22https%3A//code.jquery.com/jquery-1.12.4.min.js%22%3E%3C/script%3E%0A%20%20%20%20%3Cscript%20src%3D%22https%3A//maxcdn.bootstrapcdn.com/bootstrap/3.2.0/js/bootstrap.min.js%22%3E%3C/script%3E%0A%20%20%20%20%3Cscript%20src%3D%22https%3A//cdnjs.cloudflare.com/ajax/libs/Leaflet.awesome-markers/2.0.2/leaflet.awesome-markers.js%22%3E%3C/script%3E%0A%20%20%20%20%3Clink%20rel%3D%22stylesheet%22%20href%3D%22https%3A//cdn.jsdelivr.net/npm/leaflet%401.6.0/dist/leaflet.css%22/%3E%0A%20%20%20%20%3Clink%20rel%3D%22stylesheet%22%20href%3D%22https%3A//maxcdn.bootstrapcdn.com/bootstrap/3.2.0/css/bootstrap.min.css%22/%3E%0A%20%20%20%20%3Clink%20rel%3D%22stylesheet%22%20href%3D%22https%3A//maxcdn.bootstrapcdn.com/bootstrap/3.2.0/css/bootstrap-theme.min.css%22/%3E%0A%20%20%20%20%3Clink%20rel%3D%22stylesheet%22%20href%3D%22https%3A//maxcdn.bootstrapcdn.com/font-awesome/4.6.3/css/font-awesome.min.css%22/%3E%0A%20%20%20%20%3Clink%20rel%3D%22stylesheet%22%20href%3D%22https%3A//cdnjs.cloudflare.com/ajax/libs/Leaflet.awesome-markers/2.0.2/leaflet.awesome-markers.css%22/%3E%0A%20%20%20%20%3Clink%20rel%3D%22stylesheet%22%20href%3D%22https%3A//cdn.jsdelivr.net/gh/python-visualization/folium/folium/templates/leaflet.awesome.rotate.min.css%22/%3E%0A%20%20%20%20%0A%20%20%20%20%20%20%20%20%20%20%20%20%3Cmeta%20name%3D%22viewport%22%20content%3D%22width%3Ddevice-width%2C%0A%20%20%20%20%20%20%20%20%20%20%20%20%20%20%20%20initial-scale%3D1.0%2C%20maximum-scale%3D1.0%2C%20user-scalable%3Dno%22%20/%3E%0A%20%20%20%20%20%20%20%20%20%20%20%20%3Cstyle%3E%0A%20%20%20%20%20%20%20%20%20%20%20%20%20%20%20%20%23map_695d08c0c17c4522a7cbeb955ba4b2ba%20%7B%0A%20%20%20%20%20%20%20%20%20%20%20%20%20%20%20%20%20%20%20%20position%3A%20relative%3B%0A%20%20%20%20%20%20%20%20%20%20%20%20%20%20%20%20%20%20%20%20width%3A%20100.0%25%3B%0A%20%20%20%20%20%20%20%20%20%20%20%20%20%20%20%20%20%20%20%20height%3A%20100.0%25%3B%0A%20%20%20%20%20%20%20%20%20%20%20%20%20%20%20%20%20%20%20%20left%3A%200.0%25%3B%0A%20%20%20%20%20%20%20%20%20%20%20%20%20%20%20%20%20%20%20%20top%3A%200.0%25%3B%0A%20%20%20%20%20%20%20%20%20%20%20%20%20%20%20%20%7D%0A%20%20%20%20%20%20%20%20%20%20%20%20%3C/style%3E%0A%20%20%20%20%20%20%20%20%0A%20%20%20%20%3Cscript%20src%3D%22https%3A//cdn.jsdelivr.net/gh/python-visualization/folium%40master/folium/templates/leaflet_heat.min.js%22%3E%3C/script%3E%0A%3C/head%3E%0A%3Cbody%3E%20%20%20%20%0A%20%20%20%20%0A%20%20%20%20%20%20%20%20%20%20%20%20%3Cdiv%20class%3D%22folium-map%22%20id%3D%22map_695d08c0c17c4522a7cbeb955ba4b2ba%22%20%3E%3C/div%3E%0A%20%20%20%20%20%20%20%20%0A%3C/body%3E%0A%3Cscript%3E%20%20%20%20%0A%20%20%20%20%0A%20%20%20%20%20%20%20%20%20%20%20%20var%20map_695d08c0c17c4522a7cbeb955ba4b2ba%20%3D%20L.map%28%0A%20%20%20%20%20%20%20%20%20%20%20%20%20%20%20%20%22map_695d08c0c17c4522a7cbeb955ba4b2ba%22%2C%0A%20%20%20%20%20%20%20%20%20%20%20%20%20%20%20%20%7B%0A%20%20%20%20%20%20%20%20%20%20%20%20%20%20%20%20%20%20%20%20center%3A%20%5B40.7314745%2C%20-73.989799%5D%2C%0A%20%20%20%20%20%20%20%20%20%20%20%20%20%20%20%20%20%20%20%20crs%3A%20L.CRS.EPSG3857%2C%0A%20%20%20%20%20%20%20%20%20%20%20%20%20%20%20%20%20%20%20%20zoom%3A%208%2C%0A%20%20%20%20%20%20%20%20%20%20%20%20%20%20%20%20%20%20%20%20zoomControl%3A%20true%2C%0A%20%20%20%20%20%20%20%20%20%20%20%20%20%20%20%20%20%20%20%20preferCanvas%3A%20false%2C%0A%20%20%20%20%20%20%20%20%20%20%20%20%20%20%20%20%7D%0A%20%20%20%20%20%20%20%20%20%20%20%20%29%3B%0A%20%20%20%20%20%20%20%20%20%20%20%20L.control.scale%28%29.addTo%28map_695d08c0c17c4522a7cbeb955ba4b2ba%29%3B%0A%0A%20%20%20%20%20%20%20%20%20%20%20%20%0A%0A%20%20%20%20%20%20%20%20%0A%20%20%20%20%0A%20%20%20%20%20%20%20%20%20%20%20%20var%20tile_layer_a2c0f3f2d65b481aa3b045a5c3ce1515%20%3D%20L.tileLayer%28%0A%20%20%20%20%20%20%20%20%20%20%20%20%20%20%20%20%22https%3A//cartodb-basemaps-%7Bs%7D.global.ssl.fastly.net/light_all/%7Bz%7D/%7Bx%7D/%7By%7D.png%22%2C%0A%20%20%20%20%20%20%20%20%20%20%20%20%20%20%20%20%7B%22attribution%22%3A%20%22%5Cu0026copy%3B%20%5Cu003ca%20href%3D%5C%22http%3A//www.openstreetmap.org/copyright%5C%22%5Cu003eOpenStreetMap%5Cu003c/a%5Cu003e%20contributors%20%5Cu0026copy%3B%20%5Cu003ca%20href%3D%5C%22http%3A//cartodb.com/attributions%5C%22%5Cu003eCartoDB%5Cu003c/a%5Cu003e%2C%20CartoDB%20%5Cu003ca%20href%20%3D%5C%22http%3A//cartodb.com/attributions%5C%22%5Cu003eattributions%5Cu003c/a%5Cu003e%22%2C%20%22detectRetina%22%3A%20false%2C%20%22maxNativeZoom%22%3A%2018%2C%20%22maxZoom%22%3A%2018%2C%20%22minZoom%22%3A%200%2C%20%22noWrap%22%3A%20false%2C%20%22opacity%22%3A%201%2C%20%22subdomains%22%3A%20%22abc%22%2C%20%22tms%22%3A%20false%7D%0A%20%20%20%20%20%20%20%20%20%20%20%20%29.addTo%28map_695d08c0c17c4522a7cbeb955ba4b2ba%29%3B%0A%20%20%20%20%20%20%20%20%0A%20%20%20%20%0A%20%20%20%20%20%20%20%20%20%20%20%20var%20heat_map_488e43a68c6044a9905d71493cf7b5fb%20%3D%20L.heatLayer%28%0A%20%20%20%20%20%20%20%20%20%20%20%20%20%20%20%20%5B%5B40.766667%2C%20-73.866667%5D%2C%20%5B40.758448%2C%20-73.978898%5D%2C%20%5B40.724573%2C%20-73.998785%5D%2C%20%5B40.760364%2C%20-73.984662%5D%2C%20%5B40.75846%2C%20-73.978924%5D%2C%20%5B40.777458%2C%20-73.877282%5D%2C%20%5B40.711963%2C%20-74.00801%5D%2C%20%5B40.760302%2C%20-73.983822%5D%2C%20%5B40.703882%2C%20-73.99063%5D%2C%20%5B40.782069%2C%20-73.98038%5D%2C%20%5B40.774399%2C%20-73.965604%5D%2C%20%5B40.757644%2C%20-74.002962%5D%2C%20%5B40.723142%2C%20-73.994825%5D%2C%20%5B40.767414%2C%20-73.970689%5D%2C%20%5B40.714269%2C%20-74.005973%5D%2C%20%5B40.688213%2C%20-73.905856%5D%2C%20%5B40.757929%2C%20-73.985506%5D%2C%20%5B40.650104%2C%20-73.949582%5D%2C%20%5B40.714269%2C%20-74.005973%5D%2C%20%5B40.758634%2C%20-73.972943%5D%2C%20%5B40.753474%2C%20-73.986697%5D%2C%20%5B40.750915%2C%20-73.994369%5D%2C%20%5B40.724845%2C%20-73.998431%5D%2C%20%5B40.642334%2C%20-73.78817%5D%2C%20%5B40.757703%2C%20-73.985817%5D%2C%20%5B40.680912%2C%20-73.999086%5D%2C%20%5B40.677458%2C%20-73.998279%5D%2C%20%5B40.686699%2C%20-73.998188%5D%2C%20%5B40.747356%2C%20-73.987499%5D%2C%20%5B40.747356%2C%20-73.987499%5D%2C%20%5B40.686699%2C%20-73.998188%5D%2C%20%5B40.747356%2C%20-73.987499%5D%2C%20%5B40.747356%2C%20-73.987499%5D%2C%20%5B40.759277%2C%20-73.984358%5D%2C%20%5B40.684979%2C%20-73.991672%5D%2C%20%5B40.810121%2C%20-73.949841%5D%2C%20%5B40.701929%2C%20-73.994605%5D%2C%20%5B40.747356%2C%20-73.987499%5D%2C%20%5B40.686699%2C%20-73.998188%5D%2C%20%5B40.752928%2C%20-73.984053%5D%2C%20%5B40.686699%2C%20-73.998188%5D%2C%20%5B40.685703%2C%20-74.002379%5D%2C%20%5B40.686699%2C%20-73.998188%5D%2C%20%5B40.747356%2C%20-73.987499%5D%2C%20%5B40.675234%2C%20-73.971043%5D%2C%20%5B40.694599%2C%20-73.990638%5D%2C%20%5B40.804426%2C%20-73.947687%5D%2C%20%5B40.741563%2C%20-73.990392%5D%2C%20%5B40.774108%2C%20-73.969408%5D%2C%20%5B40.757769%2C%20-73.989014%5D%2C%20%5B40.763275%2C%20-73.980736%5D%2C%20%5B40.828209%2C%20-73.925669%5D%2C%20%5B40.734024%2C%20-73.990295%5D%2C%20%5B40.752797%2C%20-73.978059%5D%2C%20%5B40.766667%2C%20-73.866667%5D%2C%20%5B40.714269%2C%20-74.005973%5D%2C%20%5B40.75571%2C%20-73.986397%5D%2C%20%5B40.761325%2C%20-73.989977%5D%2C%20%5B40.770972%2C%20-73.946722%5D%2C%20%5B40.760103%2C%20-73.958283%5D%2C%20%5B40.731836%2C%20-73.989799%5D%2C%20%5B40.757773%2C%20-73.989006%5D%2C%20%5B40.756489%2C%20-73.987995%5D%2C%20%5B40.754013%2C%20-73.972855%5D%2C%20%5B40.732517%2C%20-73.998667%5D%2C%20%5B40.76538%2C%20-73.817356%5D%2C%20%5B40.727504%2C%20-73.980064%5D%2C%20%5B40.714269%2C%20-74.005973%5D%2C%20%5B40.750915%2C%20-73.994369%5D%2C%20%5B40.743991%2C%20-74.032363%5D%2C%20%5B40.75866%2C%20-73.993244%5D%2C%20%5B40.750756%2C%20-74.024516%5D%2C%20%5B40.714269%2C%20-74.005973%5D%2C%20%5B40.714269%2C%20-74.005973%5D%2C%20%5B40.750394%2C%20-73.992295%5D%2C%20%5B40.750756%2C%20-74.024516%5D%2C%20%5B40.736846%2C%20-73.988768%5D%2C%20%5B40.784826%2C%20-73.956369%5D%2C%20%5B40.739391%2C%20-74.006451%5D%2C%20%5B40.722725%2C%20-74.001861%5D%2C%20%5B40.714269%2C%20-74.005973%5D%2C%20%5B40.714269%2C%20-74.005973%5D%2C%20%5B40.714269%2C%20-74.005973%5D%2C%20%5B40.714269%2C%20-74.005973%5D%2C%20%5B40.714269%2C%20-74.005973%5D%2C%20%5B40.714269%2C%20-74.005973%5D%2C%20%5B40.714269%2C%20-74.005973%5D%2C%20%5B40.706678%2C%20-73.997455%5D%2C%20%5B40.759238%2C%20-73.985155%5D%2C%20%5B40.758448%2C%20-73.978898%5D%2C%20%5B40.75644%2C%20-74.003551%5D%2C%20%5B40.727916%2C%20-73.981953%5D%2C%20%5B40.704253%2C%20-73.930113%5D%2C%20%5B40.726543%2C%20-73.940649%5D%2C%20%5B40.714269%2C%20-74.005973%5D%2C%20%5B40.716471%2C%20-73.988478%5D%2C%20%5B40.719801%2C%20-73.988218%5D%2C%20%5B40.796429%2C%20-73.921285%5D%2C%20%5B40.796429%2C%20-73.921285%5D%2C%20%5B40.829544%2C%20-73.926487%5D%2C%20%5B40.751721%2C%20-74.004016%5D%2C%20%5B40.772628%2C%20-73.915853%5D%2C%20%5B40.738542%2C%20-73.98996%5D%2C%20%5B40.714269%2C%20-74.005973%5D%2C%20%5B40.761614%2C%20-73.99922%5D%2C%20%5B40.871193%2C%20-73.951282%5D%2C%20%5B40.737953%2C%20-74.0016%5D%2C%20%5B40.788618%2C%20-73.974359%5D%2C%20%5B40.732685%2C%20-74.003344%5D%2C%20%5B40.726008%2C%20-74.00532%5D%2C%20%5B40.723424%2C%20-74.000661%5D%2C%20%5B40.729463%2C%20-73.998517%5D%2C%20%5B40.746997%2C%20-74.037724%5D%2C%20%5B40.760682%2C%20-73.976466%5D%2C%20%5B40.733569%2C%20-74.003436%5D%2C%20%5B40.743863%2C%20-73.987183%5D%2C%20%5B40.714269%2C%20-74.005973%5D%2C%20%5B40.714269%2C%20-74.005973%5D%2C%20%5B40.714269%2C%20-74.005973%5D%2C%20%5B40.721963%2C%20-74.004142%5D%2C%20%5B40.779741%2C%20-73.973421%5D%2C%20%5B40.740497%2C%20-74.005238%5D%2C%20%5B40.858811%2C%20-73.958439%5D%2C%20%5B40.714269%2C%20-74.005973%5D%2C%20%5B40.771465%2C%20-74.013569%5D%2C%20%5B40.740437%2C%20-74.005233%5D%2C%20%5B40.793424%2C%20-73.922259%5D%2C%20%5B40.740384%2C%20-74.006175%5D%2C%20%5B40.714269%2C%20-74.005973%5D%2C%20%5B40.724332%2C%20-73.987931%5D%2C%20%5B40.667439%2C%20-73.991407%5D%2C%20%5B40.724442%2C%20-73.999607%5D%2C%20%5B40.722036%2C%20-73.986806%5D%2C%20%5B40.736778%2C%20-73.989298%5D%2C%20%5B40.761017%2C%20-73.987486%5D%2C%20%5B40.719972%2C%20-73.988069%5D%2C%20%5B40.734802%2C%20-73.992084%5D%2C%20%5B40.67351%2C%20-73.991632%5D%2C%20%5B40.603868%2C%20-74.006107%5D%2C%20%5B40.594452%2C%20-73.981424%5D%2C%20%5B40.720114%2C%20-74.005092%5D%2C%20%5B40.673183%2C%20-73.991111%5D%2C%20%5B40.718991%2C%20-73.997098%5D%2C%20%5B40.684428%2C%20-73.977721%5D%2C%20%5B40.728592%2C%20-73.978779%5D%2C%20%5B40.8484%2C%20-73.938956%5D%2C%20%5B40.728883%2C%20-73.98895%5D%2C%20%5B40.75058%2C%20-73.99358%5D%2C%20%5B40.757703%2C%20-73.985817%5D%2C%20%5B40.721702%2C%20-73.958028%5D%2C%20%5B40.577726%2C%20-73.960574%5D%2C%20%5B40.710033%2C%20-73.96266%5D%2C%20%5B40.718231%2C%20-74.000671%5D%2C%20%5B40.74373%2C%20-73.986911%5D%2C%20%5B40.751521%2C%20-73.993963%5D%2C%20%5B40.666944%2C%20-73.961642%5D%2C%20%5B40.746635%2C%20-74.006895%5D%2C%20%5B40.720428%2C%20-74.00341%5D%2C%20%5B40.687965%2C%20-73.969804%5D%2C%20%5B40.734132%2C%20-73.988645%5D%2C%20%5B40.82697%2C%20-73.92786%5D%2C%20%5B40.82697%2C%20-73.92786%5D%2C%20%5B40.850656%2C%20-73.866524%5D%2C%20%5B40.850998%2C%20-73.950211%5D%2C%20%5B40.64248%2C%20-73.788071%5D%2C%20%5B40.720292%2C%20-73.993424%5D%2C%20%5B40.749176%2C%20-73.992584%5D%2C%20%5B40.786608%2C%20-73.977768%5D%2C%20%5B40.735%2C%20-73.988421%5D%2C%20%5B40.727792%2C%20-73.984799%5D%2C%20%5B40.685102%2C%20-73.977871%5D%2C%20%5B40.757611%2C%20-73.979402%5D%2C%20%5B40.680502%2C%20-73.994656%5D%2C%20%5B40.758759%2C%20-73.979355%5D%2C%20%5B40.686718%2C%20-73.979509%5D%2C%20%5B40.688242%2C%20-73.988092%5D%2C%20%5B40.686415%2C%20-73.9779%5D%2C%20%5B40.779292%2C%20-73.974502%5D%2C%20%5B40.687459%2C%20-73.989972%5D%2C%20%5B40.758703%2C%20-73.978574%5D%2C%20%5B40.727112%2C%20-73.985602%5D%2C%20%5B40.725464%2C%20-73.982025%5D%2C%20%5B40.735384%2C%20-73.991117%5D%2C%20%5B40.729791%2C%20-73.988654%5D%2C%20%5B40.716194%2C%20-73.987518%5D%2C%20%5B40.714063%2C%20-73.954344%5D%2C%20%5B40.687102%2C%20-73.975443%5D%2C%20%5B40.641808%2C%20-73.783596%5D%2C%20%5B40.577883%2C%20-73.994028%5D%2C%20%5B40.716675%2C%20-74.009176%5D%2C%20%5B40.758083%2C%20-73.987674%5D%2C%20%5B40.730981%2C%20-73.988831%5D%2C%20%5B40.766976%2C%20-73.986046%5D%2C%20%5B40.757584%2C%20-73.985642%5D%2C%20%5B40.770401%2C%20-73.982006%5D%2C%20%5B40.764204%2C%20-73.955331%5D%2C%20%5B40.762796%2C%20-73.973823%5D%2C%20%5B40.753286%2C%20-73.98433%5D%2C%20%5B40.776676%2C%20-73.950404%5D%2C%20%5B40.714269%2C%20-74.005973%5D%2C%20%5B40.739069%2C%20-74.004119%5D%2C%20%5B40.742224%2C%20-73.980973%5D%2C%20%5B40.828209%2C%20-73.925669%5D%2C%20%5B40.744094%2C%20-73.987721%5D%2C%20%5B40.756073%2C%20-73.98583%5D%2C%20%5B40.742135%2C%20-74.001189%5D%2C%20%5B40.714269%2C%20-74.005973%5D%2C%20%5B40.759477%2C%20-73.989871%5D%2C%20%5B40.719141%2C%20-74.000266%5D%2C%20%5B40.810505%2C%20-73.961923%5D%2C%20%5B40.691928%2C%20-73.98156%5D%2C%20%5B40.678991%2C%20-73.973744%5D%2C%20%5B40.751763%2C%20-73.976767%5D%2C%20%5B40.706813%2C%20-74.004674%5D%2C%20%5B40.753876%2C%20-73.97464%5D%2C%20%5B40.71814%2C%20-73.989593%5D%2C%20%5B40.652326%2C%20-73.827357%5D%2C%20%5B40.725946%2C%20-73.994617%5D%2C%20%5B40.673393%2C%20-73.976076%5D%2C%20%5B40.763286%2C%20-73.981658%5D%2C%20%5B40.70789%2C%20-74.00709%5D%2C%20%5B40.636552%2C%20-73.978212%5D%2C%20%5B40.736482%2C%20-73.978787%5D%2C%20%5B40.639663%2C%20-73.967837%5D%2C%20%5B40.652326%2C%20-73.827357%5D%2C%20%5B40.710509%2C%20-73.965597%5D%2C%20%5B40.70806%2C%20-73.921344%5D%2C%20%5B40.712967%2C%20-73.957438%5D%2C%20%5B40.734659%2C%20-73.992124%5D%2C%20%5B40.70806%2C%20-73.921344%5D%2C%20%5B40.70806%2C%20-73.921344%5D%2C%20%5B40.735428%2C%20-73.991587%5D%2C%20%5B40.70806%2C%20-73.921344%5D%2C%20%5B40.738096%2C%20-73.990794%5D%2C%20%5B40.713489%2C%20-73.961945%5D%2C%20%5B40.797473%2C%20-73.93892%5D%2C%20%5B40.720097%2C%20-73.959794%5D%2C%20%5B40.704985%2C%20-74.015815%5D%2C%20%5B40.705351%2C%20-74.017218%5D%2C%20%5B40.755915%2C%20-73.986204%5D%2C%20%5B40.675431%2C%20-73.971248%5D%2C%20%5B40.675431%2C%20-73.971248%5D%2C%20%5B40.675431%2C%20-73.971248%5D%2C%20%5B40.712058%2C%20-74.012752%5D%2C%20%5B40.685266%2C%20-73.979927%5D%2C%20%5B40.724941%2C%20-73.99219%5D%2C%20%5B40.650143%2C%20-74.005075%5D%2C%20%5B40.742679%2C%20-74.000808%5D%2C%20%5B40.706911%2C%20-73.990434%5D%2C%20%5B40.763131%2C%20-73.984154%5D%2C%20%5B40.677594%2C%20-73.997863%5D%2C%20%5B40.742679%2C%20-74.000808%5D%2C%20%5B40.66283%2C%20-73.988972%5D%2C%20%5B40.650143%2C%20-74.005075%5D%2C%20%5B40.738746%2C%20-73.994711%5D%2C%20%5B40.738746%2C%20-73.994711%5D%2C%20%5B40.742679%2C%20-74.000808%5D%2C%20%5B40.751624%2C%20-74.004346%5D%2C%20%5B40.650143%2C%20-74.005075%5D%2C%20%5B40.742679%2C%20-74.000808%5D%2C%20%5B40.650143%2C%20-74.005075%5D%2C%20%5B40.749482%2C%20-73.994247%5D%2C%20%5B40.742679%2C%20-74.000808%5D%2C%20%5B40.706911%2C%20-73.990434%5D%2C%20%5B40.742679%2C%20-74.000808%5D%2C%20%5B40.738746%2C%20-73.994711%5D%2C%20%5B40.751386%2C%20-74.003235%5D%2C%20%5B40.742679%2C%20-74.000808%5D%2C%20%5B40.742679%2C%20-74.000808%5D%2C%20%5B40.706911%2C%20-73.990434%5D%2C%20%5B40.72805%2C%20-74.007203%5D%2C%20%5B40.738746%2C%20-73.994711%5D%2C%20%5B40.742679%2C%20-74.000808%5D%2C%20%5B40.742679%2C%20-74.000808%5D%2C%20%5B40.742679%2C%20-74.000808%5D%2C%20%5B40.742679%2C%20-74.000808%5D%2C%20%5B40.738746%2C%20-73.994711%5D%2C%20%5B40.738746%2C%20-73.994711%5D%2C%20%5B40.738746%2C%20-73.994711%5D%2C%20%5B40.742679%2C%20-74.000808%5D%2C%20%5B40.738746%2C%20-73.994711%5D%2C%20%5B40.738746%2C%20-73.994711%5D%2C%20%5B40.742679%2C%20-74.000808%5D%2C%20%5B40.738746%2C%20-73.994711%5D%2C%20%5B40.649777%2C%20-74.009028%5D%2C%20%5B40.742133%2C%20-73.998558%5D%2C%20%5B40.738746%2C%20-73.994711%5D%2C%20%5B40.742679%2C%20-74.000808%5D%2C%20%5B40.742679%2C%20-74.000808%5D%2C%20%5B40.737112%2C%20-73.990872%5D%2C%20%5B40.742679%2C%20-74.000808%5D%2C%20%5B40.751447%2C%20-74.003384%5D%2C%20%5B40.75162%2C%20-74.004371%5D%2C%20%5B40.738746%2C%20-73.994711%5D%2C%20%5B40.706911%2C%20-73.990434%5D%2C%20%5B40.692319%2C%20-73.988723%5D%2C%20%5B40.738746%2C%20-73.994711%5D%2C%20%5B40.742679%2C%20-74.000808%5D%2C%20%5B40.706911%2C%20-73.990434%5D%2C%20%5B40.650143%2C%20-74.005075%5D%2C%20%5B40.75162%2C%20-74.004371%5D%2C%20%5B40.74156%2C%20-73.991747%5D%2C%20%5B40.737112%2C%20-73.990872%5D%2C%20%5B40.706911%2C%20-73.990434%5D%2C%20%5B40.738746%2C%20-73.994711%5D%2C%20%5B40.705052%2C%20-74.017347%5D%2C%20%5B40.733306%2C%20-74.002179%5D%2C%20%5B40.650143%2C%20-74.005075%5D%2C%20%5B40.650143%2C%20-74.005075%5D%2C%20%5B40.706678%2C%20-73.997455%5D%2C%20%5B40.706911%2C%20-73.990434%5D%2C%20%5B40.742679%2C%20-74.000808%5D%2C%20%5B40.650143%2C%20-74.005075%5D%2C%20%5B40.749462%2C%20-73.994241%5D%2C%20%5B40.749462%2C%20-73.994241%5D%2C%20%5B40.650143%2C%20-74.005075%5D%2C%20%5B40.650143%2C%20-74.005075%5D%2C%20%5B40.650143%2C%20-74.005075%5D%2C%20%5B40.742679%2C%20-74.000808%5D%2C%20%5B40.706911%2C%20-73.990434%5D%2C%20%5B40.650143%2C%20-74.005075%5D%2C%20%5B40.711504%2C%20-74.010538%5D%2C%20%5B40.67428%2C%20-73.996849%5D%2C%20%5B40.742679%2C%20-74.000808%5D%2C%20%5B40.650143%2C%20-74.005075%5D%2C%20%5B40.738746%2C%20-73.994711%5D%2C%20%5B40.742133%2C%20-73.998558%5D%2C%20%5B40.738746%2C%20-73.994711%5D%2C%20%5B40.650143%2C%20-74.005075%5D%2C%20%5B40.67428%2C%20-73.996849%5D%2C%20%5B40.742679%2C%20-74.000808%5D%2C%20%5B40.738746%2C%20-73.994711%5D%2C%20%5B40.739855%2C%20-74.007162%5D%2C%20%5B40.721405%2C%20-73.986938%5D%2C%20%5B40.724312%2C%20-73.992501%5D%2C%20%5B40.714269%2C%20-74.005973%5D%2C%20%5B40.721405%2C%20-73.986938%5D%2C%20%5B40.726456%2C%20-73.984894%5D%2C%20%5B40.733281%2C%20-73.998234%5D%2C%20%5B40.721405%2C%20-73.986938%5D%2C%20%5B40.719782%2C%20-73.987%5D%2C%20%5B40.714269%2C%20-74.005973%5D%2C%20%5B40.714269%2C%20-74.005973%5D%2C%20%5B40.696254%2C%20-73.983326%5D%2C%20%5B40.746626%2C%20-73.993812%5D%2C%20%5B40.714269%2C%20-74.005973%5D%2C%20%5B40.714269%2C%20-74.005973%5D%2C%20%5B40.749957%2C%20-73.995488%5D%2C%20%5B40.714269%2C%20-74.005973%5D%2C%20%5B40.714269%2C%20-74.005973%5D%2C%20%5B40.714269%2C%20-74.005973%5D%2C%20%5B40.752898%2C%20-73.996373%5D%2C%20%5B40.750927%2C%20-73.990494%5D%2C%20%5B40.714269%2C%20-74.005973%5D%2C%20%5B40.764055%2C%20-73.982462%5D%2C%20%5B40.714269%2C%20-74.005973%5D%2C%20%5B40.785817%2C%20-73.977354%5D%2C%20%5B40.728592%2C%20-74.005306%5D%2C%20%5B40.714269%2C%20-74.005973%5D%2C%20%5B40.714269%2C%20-74.005973%5D%2C%20%5B40.727421%2C%20-73.988148%5D%2C%20%5B40.714269%2C%20-74.005973%5D%2C%20%5B40.752898%2C%20-73.996373%5D%2C%20%5B40.76318%2C%20-73.983551%5D%2C%20%5B40.733288%2C%20-73.998265%5D%2C%20%5B40.76318%2C%20-73.983551%5D%2C%20%5B40.750386%2C%20-73.987683%5D%2C%20%5B40.714269%2C%20-74.005973%5D%2C%20%5B40.720654%2C%20-73.989983%5D%2C%20%5B40.763%2C%20-73.983032%5D%2C%20%5B40.76318%2C%20-73.983551%5D%2C%20%5B40.76318%2C%20-73.983551%5D%2C%20%5B40.76318%2C%20-73.983551%5D%2C%20%5B40.714269%2C%20-74.005973%5D%2C%20%5B40.712111%2C%20-74.009535%5D%2C%20%5B40.723758%2C%20-73.991684%5D%2C%20%5B40.732815%2C%20-73.997081%5D%2C%20%5B40.762991%2C%20-73.9832%5D%2C%20%5B40.76318%2C%20-73.983551%5D%2C%20%5B40.651097%2C%20-73.889933%5D%2C%20%5B40.702667%2C%20-73.987041%5D%2C%20%5B40.714269%2C%20-74.005973%5D%2C%20%5B40.714269%2C%20-74.005973%5D%2C%20%5B40.722344%2C%20-73.997288%5D%2C%20%5B40.763465%2C%20-73.979089%5D%2C%20%5B40.714269%2C%20-74.005973%5D%2C%20%5B40.761287%2C%20-73.990391%5D%2C%20%5B40.714269%2C%20-74.005973%5D%2C%20%5B40.723855%2C%20-73.998105%5D%2C%20%5B40.721405%2C%20-73.986938%5D%2C%20%5B40.763867%2C%20-73.988284%5D%2C%20%5B40.714269%2C%20-74.005973%5D%2C%20%5B40.714269%2C%20-74.005973%5D%2C%20%5B40.721405%2C%20-73.986938%5D%2C%20%5B40.785315%2C%20-73.975495%5D%2C%20%5B40.714269%2C%20-74.005973%5D%2C%20%5B40.714269%2C%20-74.005973%5D%2C%20%5B40.729505%2C%20-73.990088%5D%2C%20%5B40.714269%2C%20-74.005973%5D%2C%20%5B40.764533%2C%20-73.983251%5D%2C%20%5B40.723758%2C%20-73.991684%5D%2C%20%5B40.746626%2C%20-73.993812%5D%2C%20%5B40.76318%2C%20-73.983551%5D%2C%20%5B40.714269%2C%20-74.005973%5D%2C%20%5B40.714269%2C%20-74.005973%5D%2C%20%5B40.76318%2C%20-73.983551%5D%2C%20%5B40.651097%2C%20-73.889933%5D%2C%20%5B40.710799%2C%20-73.933658%5D%2C%20%5B40.706663%2C%20-73.930821%5D%2C%20%5B40.714269%2C%20-74.005973%5D%2C%20%5B40.714269%2C%20-74.005973%5D%2C%20%5B40.710225%2C%20-73.935242%5D%2C%20%5B40.76318%2C%20-73.983551%5D%2C%20%5B40.714269%2C%20-74.005973%5D%2C%20%5B40.76318%2C%20-73.983551%5D%2C%20%5B40.771234%2C%20-73.981844%5D%2C%20%5B40.710799%2C%20-73.933658%5D%2C%20%5B40.76318%2C%20-73.983551%5D%2C%20%5B40.714269%2C%20-74.005973%5D%2C%20%5B40.714269%2C%20-74.005973%5D%2C%20%5B40.687383%2C%20-73.97251%5D%2C%20%5B40.693851%2C%20-73.989746%5D%2C%20%5B40.671281%2C%20-73.963856%5D%2C%20%5B40.714269%2C%20-74.005973%5D%2C%20%5B40.714269%2C%20-74.005973%5D%2C%20%5B40.714269%2C%20-74.005973%5D%2C%20%5B40.714269%2C%20-74.005973%5D%2C%20%5B40.774625%2C%20-73.958731%5D%2C%20%5B40.714269%2C%20-74.005973%5D%2C%20%5B40.714269%2C%20-74.005973%5D%2C%20%5B40.714269%2C%20-74.005973%5D%2C%20%5B40.714269%2C%20-74.005973%5D%2C%20%5B40.714269%2C%20-74.005973%5D%2C%20%5B40.714269%2C%20-74.005973%5D%2C%20%5B40.714269%2C%20-74.005973%5D%2C%20%5B40.714269%2C%20-74.005973%5D%2C%20%5B40.73545%2C%20-73.989929%5D%2C%20%5B40.714269%2C%20-74.005973%5D%2C%20%5B40.714269%2C%20-74.005973%5D%2C%20%5B40.714269%2C%20-74.005973%5D%2C%20%5B40.714269%2C%20-74.005973%5D%2C%20%5B40.714269%2C%20-74.005973%5D%2C%20%5B40.714269%2C%20-74.005973%5D%2C%20%5B40.714269%2C%20-74.005973%5D%2C%20%5B40.714269%2C%20-74.005973%5D%2C%20%5B40.714269%2C%20-74.005973%5D%2C%20%5B40.714269%2C%20-74.005973%5D%2C%20%5B40.714269%2C%20-74.005973%5D%2C%20%5B40.714269%2C%20-74.005973%5D%2C%20%5B40.714269%2C%20-74.005973%5D%2C%20%5B40.714269%2C%20-74.005973%5D%2C%20%5B40.714269%2C%20-74.005973%5D%2C%20%5B40.714269%2C%20-74.005973%5D%2C%20%5B40.714269%2C%20-74.005973%5D%2C%20%5B40.714269%2C%20-74.005973%5D%2C%20%5B40.714269%2C%20-74.005973%5D%2C%20%5B40.714269%2C%20-74.005973%5D%2C%20%5B40.714269%2C%20-74.005973%5D%2C%20%5B40.714269%2C%20-74.005973%5D%2C%20%5B40.714269%2C%20-74.005973%5D%2C%20%5B40.714269%2C%20-74.005973%5D%2C%20%5B40.714269%2C%20-74.005973%5D%2C%20%5B40.714269%2C%20-74.005973%5D%2C%20%5B40.714269%2C%20-74.005973%5D%2C%20%5B40.714269%2C%20-74.005973%5D%2C%20%5B40.714269%2C%20-74.005973%5D%2C%20%5B40.714269%2C%20-74.005973%5D%2C%20%5B40.714269%2C%20-74.005973%5D%2C%20%5B40.714269%2C%20-74.005973%5D%2C%20%5B40.714269%2C%20-74.005973%5D%2C%20%5B40.714269%2C%20-74.005973%5D%2C%20%5B40.714269%2C%20-74.005973%5D%2C%20%5B40.714269%2C%20-74.005973%5D%2C%20%5B40.714269%2C%20-74.005973%5D%2C%20%5B40.714269%2C%20-74.005973%5D%2C%20%5B40.714269%2C%20-74.005973%5D%2C%20%5B40.714269%2C%20-74.005973%5D%2C%20%5B40.714269%2C%20-74.005973%5D%2C%20%5B40.714269%2C%20-74.005973%5D%2C%20%5B40.714269%2C%20-74.005973%5D%2C%20%5B40.714269%2C%20-74.005973%5D%2C%20%5B40.714269%2C%20-74.005973%5D%2C%20%5B40.714269%2C%20-74.005973%5D%2C%20%5B40.714269%2C%20-74.005973%5D%2C%20%5B40.714269%2C%20-74.005973%5D%2C%20%5B40.714269%2C%20-74.005973%5D%2C%20%5B40.714269%2C%20-74.005973%5D%2C%20%5B40.714269%2C%20-74.005973%5D%2C%20%5B40.744884%2C%20-73.983063%5D%2C%20%5B40.714269%2C%20-74.005973%5D%2C%20%5B40.769004%2C%20-73.982277%5D%2C%20%5B40.762844%2C%20-73.982007%5D%2C%20%5B40.72757%2C%20-74.02144%5D%2C%20%5B40.666173%2C%20-73.982179%5D%2C%20%5B40.761213%2C%20-73.865136%5D%2C%20%5B40.714269%2C%20-74.005973%5D%2C%20%5B40.759871%2C%20-73.980249%5D%2C%20%5B40.726598%2C%20-73.985674%5D%2C%20%5B40.846114%2C%20-73.936079%5D%2C%20%5B40.736519%2C%20-73.991299%5D%2C%20%5B40.770397%2C%20-73.957614%5D%2C%20%5B40.641808%2C%20-73.783596%5D%2C%20%5B40.722268%2C%20-73.988371%5D%2C%20%5B40.777774%2C%20-73.873189%5D%2C%20%5B40.763861%2C%20-73.973002%5D%2C%20%5B40.71959%2C%20-73.960593%5D%2C%20%5B40.722348%2C%20-73.987341%5D%2C%20%5B40.714269%2C%20-74.005973%5D%2C%20%5B40.714269%2C%20-74.005973%5D%2C%20%5B40.675431%2C%20-73.971248%5D%2C%20%5B40.756073%2C%20-73.990663%5D%2C%20%5B40.759816%2C%20-73.965755%5D%2C%20%5B40.757584%2C%20-73.985642%5D%2C%20%5B40.754401%2C%20-73.977084%5D%2C%20%5B40.757872%2C%20-73.982544%5D%2C%20%5B40.74317%2C%20-73.953962%5D%2C%20%5B40.7561%2C%20-73.970536%5D%2C%20%5B40.777774%2C%20-73.873189%5D%2C%20%5B40.777774%2C%20-73.873189%5D%2C%20%5B40.730072%2C%20-73.994229%5D%2C%20%5B40.76126%2C%20-73.984162%5D%2C%20%5B40.688953%2C%20-74.043753%5D%2C%20%5B40.757546%2C%20-73.984509%5D%2C%20%5B40.675431%2C%20-73.971248%5D%2C%20%5B40.714269%2C%20-74.005973%5D%2C%20%5B40.675431%2C%20-73.971248%5D%2C%20%5B40.675431%2C%20-73.971248%5D%2C%20%5B40.675431%2C%20-73.971248%5D%2C%20%5B40.749706%2C%20-73.9916%5D%2C%20%5B40.716623%2C%20-73.959082%5D%2C%20%5B40.777864%2C%20-73.982179%5D%2C%20%5B40.75473%2C%20-73.977783%5D%2C%20%5B40.727397%2C%20-73.979813%5D%2C%20%5B40.777237%2C%20-73.946472%5D%2C%20%5B40.75058%2C%20-73.99358%5D%2C%20%5B40.73289%2C%20-74.007495%5D%2C%20%5B40.619598%2C%20-73.989706%5D%2C%20%5B40.738996%2C%20-73.989104%5D%2C%20%5B40.577883%2C%20-73.994028%5D%2C%20%5B40.749789%2C%20-73.992008%5D%2C%20%5B40.763999%2C%20-73.978481%5D%2C%20%5B40.742772%2C%20-74.007424%5D%2C%20%5B40.757584%2C%20-73.985642%5D%2C%20%5B40.728132%2C%20-73.987562%5D%2C%20%5B40.728132%2C%20-73.987562%5D%2C%20%5B40.728132%2C%20-73.987562%5D%2C%20%5B40.728132%2C%20-73.987562%5D%2C%20%5B40.728132%2C%20-73.987562%5D%2C%20%5B40.728132%2C%20-73.987562%5D%2C%20%5B40.728132%2C%20-73.987562%5D%2C%20%5B40.742901%2C%20-73.992778%5D%2C%20%5B40.742901%2C%20-73.992778%5D%2C%20%5B40.742901%2C%20-73.992778%5D%2C%20%5B40.742901%2C%20-73.992778%5D%2C%20%5B40.742901%2C%20-73.992778%5D%2C%20%5B40.742901%2C%20-73.992778%5D%2C%20%5B40.742901%2C%20-73.992778%5D%2C%20%5B40.742901%2C%20-73.992778%5D%2C%20%5B40.742901%2C%20-73.992778%5D%2C%20%5B40.748716%2C%20-74.007412%5D%2C%20%5B40.714269%2C%20-74.005973%5D%2C%20%5B40.728122%2C%20-73.9884%5D%2C%20%5B40.736722%2C%20-73.990573%5D%2C%20%5B40.762238%2C%20-73.985962%5D%2C%20%5B40.727208%2C%20-73.986225%5D%2C%20%5B40.77621%2C%20-73.87041%5D%2C%20%5B40.760602%2C%20-73.984572%5D%2C%20%5B40.760202%2C%20-73.968086%5D%2C%20%5B40.714269%2C%20-74.005973%5D%2C%20%5B40.727685%2C%20-73.979263%5D%2C%20%5B40.730869%2C%20-73.986118%5D%2C%20%5B40.737144%2C%20-73.991035%5D%2C%20%5B40.721224%2C%20-73.983936%5D%2C%20%5B40.739563%2C%20-73.984833%5D%2C%20%5B40.735275%2C%20-73.990067%5D%2C%20%5B40.714269%2C%20-74.005973%5D%2C%20%5B40.740663%2C%20-73.998113%5D%2C%20%5B40.743356%2C%20-74.001331%5D%2C%20%5B40.736642%2C%20-73.990728%5D%2C%20%5B40.746193%2C%20-73.982196%5D%2C%20%5B40.76318%2C%20-73.983551%5D%2C%20%5B40.743991%2C%20-74.032363%5D%2C%20%5B40.754037%2C%20-73.984725%5D%2C%20%5B40.743991%2C%20-74.032363%5D%2C%20%5B40.743991%2C%20-74.032363%5D%2C%20%5B40.73545%2C%20-73.989929%5D%2C%20%5B40.715601%2C%20-74.009906%5D%2C%20%5B40.714269%2C%20-74.005973%5D%2C%20%5B40.748832%2C%20-74.038706%5D%2C%20%5B40.714269%2C%20-74.005973%5D%2C%20%5B40.707778%2C%20-73.96%5D%2C%20%5B40.743991%2C%20-74.032363%5D%2C%20%5B40.714269%2C%20-74.005973%5D%2C%20%5B40.743991%2C%20-74.032363%5D%2C%20%5B40.675431%2C%20-73.971248%5D%2C%20%5B40.714269%2C%20-74.005973%5D%2C%20%5B40.714269%2C%20-74.005973%5D%2C%20%5B40.675431%2C%20-73.971248%5D%2C%20%5B40.733537%2C%20-73.999228%5D%2C%20%5B40.743991%2C%20-74.032363%5D%2C%20%5B40.65062%2C%20-73.783691%5D%2C%20%5B40.753587%2C%20-73.980828%5D%2C%20%5B40.743991%2C%20-74.032363%5D%2C%20%5B40.722112%2C%20-73.996568%5D%2C%20%5B40.756544%2C%20-73.988185%5D%2C%20%5B40.716675%2C%20-74.009176%5D%2C%20%5B40.771083%2C%20-73.956275%5D%2C%20%5B40.714269%2C%20-74.005973%5D%2C%20%5B40.714269%2C%20-74.005973%5D%2C%20%5B40.743991%2C%20-74.032363%5D%2C%20%5B40.706615%2C%20-74.011463%5D%2C%20%5B40.713825%2C%20-73.956248%5D%2C%20%5B40.706818%2C%20-74.014008%5D%2C%20%5B40.77725%2C%20-73.872611%5D%2C%20%5B40.683511%2C%20-74.032184%5D%2C%20%5B40.720584%2C%20-74.001473%5D%2C%20%5B40.717047%2C%20-73.990947%5D%2C%20%5B40.694944%2C%20-73.994854%5D%2C%20%5B40.714269%2C%20-74.005973%5D%2C%20%5B40.666991%2C%20-73.981512%5D%2C%20%5B40.731976%2C%20-73.988122%5D%2C%20%5B40.719373%2C%20-74.004826%5D%2C%20%5B40.725427%2C%20-74.003795%5D%2C%20%5B40.737348%2C%20-73.992687%5D%2C%20%5B40.755344%2C%20-73.84321%5D%2C%20%5B40.709603%2C%20-74.008478%5D%2C%20%5B40.641819%2C%20-73.783595%5D%2C%20%5B40.757383%2C%20-73.986025%5D%2C%20%5B40.756544%2C%20-73.988185%5D%2C%20%5B40.715969%2C%20-73.99528%5D%2C%20%5B40.729869%2C%20-73.980408%5D%2C%20%5B40.72966%2C%20-73.991608%5D%2C%20%5B40.743991%2C%20-74.032363%5D%2C%20%5B40.747772%2C%20-73.986801%5D%2C%20%5B40.750061%2C%20-73.975388%5D%2C%20%5B40.769226%2C%20-73.86644%5D%2C%20%5B40.739321%2C%20-73.986703%5D%2C%20%5B40.769719%2C%20-73.958115%5D%2C%20%5B40.739691%2C%20-73.990539%5D%2C%20%5B40.742222%2C%20-73.988026%5D%2C%20%5B40.720949%2C%20-73.987894%5D%2C%20%5B40.714269%2C%20-74.005973%5D%2C%20%5B40.64371%2C%20-73.79001%5D%2C%20%5B40.61566%2C%20-73.729576%5D%2C%20%5B40.75091%2C%20-73.977776%5D%2C%20%5B40.847755%2C%20-73.935702%5D%2C%20%5B40.905939%2C%20-73.904351%5D%2C%20%5B40.847755%2C%20-73.935702%5D%2C%20%5B40.878285%2C%20-73.921307%5D%2C%20%5B40.826878%2C%20-73.922742%5D%2C%20%5B40.786998%2C%20-73.975505%5D%2C%20%5B40.728459%2C%20-73.999224%5D%2C%20%5B40.691406%2C%20-73.95876%5D%2C%20%5B40.76398%2C%20-73.984246%5D%2C%20%5B40.71631%2C%20-73.998366%5D%2C%20%5B40.725869%2C%20-73.994462%5D%2C%20%5B40.759384%2C%20-73.991257%5D%2C%20%5B40.743602%2C%20-73.98026%5D%2C%20%5B40.743225%2C%20-73.97644%5D%2C%20%5B40.745092%2C%20-73.994065%5D%2C%20%5B40.731694%2C%20-73.985878%5D%2C%20%5B40.721432%2C%20-73.985543%5D%2C%20%5B40.729138%2C%20-73.98725%5D%2C%20%5B40.729321%2C%20-73.986982%5D%2C%20%5B40.70276%2C%20-73.986668%5D%2C%20%5B40.74222%2C%20-74.004489%5D%2C%20%5B40.740439%2C%20-74.001814%5D%2C%20%5B40.73139%2C%20-73.986056%5D%2C%20%5B40.753102%2C%20-73.972111%5D%2C%20%5B40.756073%2C%20-73.990663%5D%2C%20%5B40.711613%2C%20-73.944381%5D%2C%20%5B40.729291%2C%20-73.993671%5D%2C%20%5B40.730476%2C%20-73.993094%5D%2C%20%5B40.723436%2C%20-73.982903%5D%2C%20%5B40.745552%2C%20-73.946404%5D%2C%20%5B40.728504%2C%20-73.987072%5D%2C%20%5B40.766398%2C%20-73.982157%5D%2C%20%5B40.730476%2C%20-73.993094%5D%2C%20%5B40.731575%2C%20-74.003379%5D%2C%20%5B40.732963%2C%20-73.985624%5D%2C%20%5B40.730585%2C%20-73.992411%5D%2C%20%5B40.772012%2C%20-73.981084%5D%2C%20%5B40.725567%2C%20-73.98724%5D%2C%20%5B40.734102%2C%20-73.995826%5D%2C%20%5B40.757929%2C%20-73.985506%5D%2C%20%5B40.725766%2C%20-73.99032%5D%2C%20%5B40.784985%2C%20-73.977363%5D%2C%20%5B40.687395%2C%20-73.973667%5D%2C%20%5B40.753796%2C%20-73.984076%5D%2C%20%5B40.752164%2C%20-73.981777%5D%2C%20%5B40.72645%2C%20-73.988834%5D%2C%20%5B40.754586%2C%20-73.986755%5D%2C%20%5B40.754586%2C%20-73.986755%5D%2C%20%5B40.75316%2C%20-73.987087%5D%2C%20%5B40.753024%2C%20-73.979101%5D%2C%20%5B40.757703%2C%20-73.985817%5D%2C%20%5B40.757703%2C%20-73.985817%5D%2C%20%5B40.757703%2C%20-73.985817%5D%2C%20%5B40.75091%2C%20-73.977776%5D%2C%20%5B40.757703%2C%20-73.985817%5D%2C%20%5B40.757745%2C%20-73.985795%5D%2C%20%5B40.757745%2C%20-73.985795%5D%2C%20%5B40.757745%2C%20-73.985795%5D%2C%20%5B40.761257%2C%20-73.99425%5D%2C%20%5B40.64362%2C%20-73.989839%5D%2C%20%5B40.64362%2C%20-73.989839%5D%2C%20%5B40.646378%2C%20-73.985123%5D%2C%20%5B40.702446%2C%20-73.987358%5D%2C%20%5B40.645468%2C%20-73.999192%5D%2C%20%5B40.772112%2C%20-73.930121%5D%2C%20%5B40.756618%2C%20-73.983766%5D%2C%20%5B40.763638%2C%20-73.967673%5D%2C%20%5B40.726813%2C%20-73.993281%5D%2C%20%5B40.772112%2C%20-73.930121%5D%2C%20%5B40.747356%2C%20-73.987499%5D%2C%20%5B40.76153%2C%20-73.924472%5D%2C%20%5B40.714269%2C%20-74.005973%5D%2C%20%5B40.772046%2C%20-73.930137%5D%2C%20%5B40.772046%2C%20-73.930137%5D%2C%20%5B40.772046%2C%20-73.930137%5D%2C%20%5B40.714269%2C%20-74.005973%5D%2C%20%5B40.714269%2C%20-74.005973%5D%2C%20%5B40.714269%2C%20-74.005973%5D%2C%20%5B40.642334%2C%20-73.78817%5D%2C%20%5B40.756489%2C%20-73.987972%5D%2C%20%5B40.769552%2C%20-73.886755%5D%2C%20%5B40.714269%2C%20-74.005973%5D%2C%20%5B40.714269%2C%20-74.005973%5D%2C%20%5B40.714269%2C%20-74.005973%5D%2C%20%5B40.762739%2C%20-73.975517%5D%2C%20%5B40.665829%2C%20-73.966417%5D%2C%20%5B40.633993%2C%20-74.014584%5D%2C%20%5B40.621212%2C%20-74.03295%5D%2C%20%5B40.621212%2C%20-74.03295%5D%2C%20%5B40.621212%2C%20-74.03295%5D%2C%20%5B40.621212%2C%20-74.03295%5D%2C%20%5B40.618715%2C%20-74.033196%5D%2C%20%5B40.714269%2C%20-74.005973%5D%2C%20%5B40.618715%2C%20-74.033196%5D%2C%20%5B40.756148%2C%20-73.99803%5D%2C%20%5B40.756148%2C%20-73.99803%5D%2C%20%5B40.756148%2C%20-73.99803%5D%2C%20%5B40.748915%2C%20-73.937387%5D%2C%20%5B40.766502%2C%20-73.920436%5D%2C%20%5B40.721859%2C%20-73.957772%5D%2C%20%5B40.714269%2C%20-74.005973%5D%2C%20%5B40.76019%2C%20-73.918013%5D%2C%20%5B40.765493%2C%20-73.919192%5D%2C%20%5B40.771386%2C%20-73.927009%5D%2C%20%5B40.750354%2C%20-73.992491%5D%2C%20%5B40.766845%2C%20-73.921326%5D%2C%20%5B40.767183%2C%20-73.922046%5D%2C%20%5B40.755933%2C%20-73.921503%5D%2C%20%5B40.775533%2C%20-73.911354%5D%2C%20%5B40.752462%2C%20-73.994106%5D%2C%20%5B40.752462%2C%20-73.994106%5D%2C%20%5B40.716794%2C%20-73.967121%5D%2C%20%5B40.675431%2C%20-73.971248%5D%2C%20%5B40.740672%2C%20-73.992632%5D%2C%20%5B40.675431%2C%20-73.971248%5D%2C%20%5B40.675431%2C%20-73.971248%5D%2C%20%5B40.675431%2C%20-73.971248%5D%2C%20%5B40.718796%2C%20-73.959273%5D%2C%20%5B40.675431%2C%20-73.971248%5D%2C%20%5B40.705336%2C%20-73.933308%5D%2C%20%5B40.740672%2C%20-73.992632%5D%2C%20%5B40.718447%2C%20-73.960145%5D%2C%20%5B40.740672%2C%20-73.992632%5D%2C%20%5B40.734968%2C%20-73.993265%5D%2C%20%5B40.675431%2C%20-73.971248%5D%2C%20%5B40.675431%2C%20-73.971248%5D%2C%20%5B40.70298%2C%20-73.93318%5D%2C%20%5B40.727982%2C%20-73.988145%5D%2C%20%5B40.702158%2C%20-73.982861%5D%2C%20%5B40.714982%2C%20-73.951755%5D%2C%20%5B40.675431%2C%20-73.971248%5D%2C%20%5B40.705336%2C%20-73.933308%5D%2C%20%5B40.675431%2C%20-73.971248%5D%2C%20%5B40.77912%2C%20-73.984975%5D%2C%20%5B40.718404%2C%20-73.958597%5D%2C%20%5B40.705336%2C%20-73.933308%5D%2C%20%5B40.747673%2C%20-73.986736%5D%2C%20%5B40.745869%2C%20-73.991984%5D%2C%20%5B40.702718%2C%20-73.933791%5D%2C%20%5B40.732115%2C%20-73.984338%5D%2C%20%5B40.762194%2C%20-73.986157%5D%2C%20%5B40.762194%2C%20-73.986157%5D%2C%20%5B40.675431%2C%20-73.971248%5D%2C%20%5B40.737946%2C%20-74.003442%5D%2C%20%5B40.722082%2C%20-73.996603%5D%2C%20%5B40.675431%2C%20-73.971248%5D%2C%20%5B40.705336%2C%20-73.933308%5D%2C%20%5B40.705336%2C%20-73.933308%5D%2C%20%5B40.723435%2C%20-73.982393%5D%2C%20%5B40.705336%2C%20-73.933308%5D%2C%20%5B40.675431%2C%20-73.971248%5D%2C%20%5B40.768475%2C%20-73.980652%5D%2C%20%5B40.762843%2C%20-73.981983%5D%2C%20%5B40.740572%2C%20-73.995732%5D%2C%20%5B40.757389%2C%20-73.993403%5D%2C%20%5B40.748247%2C%20-74.03142%5D%2C%20%5B40.759706%2C%20-73.988199%5D%2C%20%5B40.76224%2C%20-74.00931%5D%2C%20%5B40.743991%2C%20-74.032363%5D%2C%20%5B40.75058%2C%20-73.99358%5D%2C%20%5B40.750287%2C%20-73.978458%5D%2C%20%5B40.750287%2C%20-73.978458%5D%2C%20%5B40.743991%2C%20-74.032363%5D%2C%20%5B40.812683%2C%20-73.955734%5D%2C%20%5B40.699689%2C%20-74.002526%5D%2C%20%5B40.717021%2C%20-73.956322%5D%2C%20%5B40.72937%2C%20-73.985802%5D%2C%20%5B40.726397%2C%20-73.983371%5D%2C%20%5B40.714269%2C%20-74.005973%5D%2C%20%5B40.714269%2C%20-74.005973%5D%2C%20%5B40.675431%2C%20-73.971248%5D%2C%20%5B40.777422%2C%20-73.988886%5D%2C%20%5B40.748356%2C%20-73.984633%5D%2C%20%5B40.724831%2C%20-73.998968%5D%2C%20%5B40.729909%2C%20-74.003039%5D%2C%20%5B40.729286%2C%20-74.002808%5D%2C%20%5B40.778942%2C%20-73.981008%5D%2C%20%5B40.781784%2C%20-73.976166%5D%2C%20%5B40.782547%2C%20-73.964172%5D%2C%20%5B40.750029%2C%20-73.994588%5D%2C%20%5B40.764421%2C%20-73.97888%5D%2C%20%5B40.795792%2C%20-73.972926%5D%2C%20%5B40.75474%2C%20-73.994889%5D%2C%20%5B40.777742%2C%20-73.873209%5D%2C%20%5B40.923694%2C%20-73.855261%5D%2C%20%5B40.734332%2C%20-74.010112%5D%2C%20%5B40.75256%2C%20-73.99435%5D%2C%20%5B40.798345%2C%20-73.963158%5D%2C%20%5B40.755821%2C%20-73.986411%5D%2C%20%5B40.714269%2C%20-74.005973%5D%2C%20%5B40.757929%2C%20-73.985506%5D%2C%20%5B40.714269%2C%20-74.005973%5D%2C%20%5B40.757929%2C%20-73.985506%5D%2C%20%5B40.757929%2C%20-73.985506%5D%2C%20%5B40.757929%2C%20-73.985506%5D%2C%20%5B40.714269%2C%20-74.005973%5D%2C%20%5B40.752164%2C%20-73.967602%5D%2C%20%5B40.81%2C%20-73.9625%5D%2C%20%5B40.779423%2C%20-73.963429%5D%2C%20%5B40.755647%2C%20-73.982027%5D%2C%20%5B40.764405%2C%20-73.975723%5D%2C%20%5B40.704989%2C%20-74.015431%5D%2C%20%5B40.714269%2C%20-74.005973%5D%2C%20%5B40.704989%2C%20-74.015431%5D%2C%20%5B40.762426%2C%20-73.977107%5D%2C%20%5B40.762426%2C%20-73.977107%5D%2C%20%5B40.757633%2C%20-73.97703%5D%2C%20%5B40.758132%2C%20-73.976845%5D%2C%20%5B40.763451%2C%20-73.727317%5D%2C%20%5B40.721658%2C%20-73.987276%5D%2C%20%5B40.738458%2C%20-74.003828%5D%2C%20%5B40.742286%2C%20-73.991394%5D%2C%20%5B40.745079%2C%20-73.995162%5D%2C%20%5B40.754247%2C%20-73.977385%5D%2C%20%5B40.736174%2C%20-74.008608%5D%2C%20%5B40.666896%2C%20-73.94581%5D%2C%20%5B40.758123%2C%20-73.979434%5D%2C%20%5B40.765127%2C%20-73.979131%5D%2C%20%5B40.765127%2C%20-73.979131%5D%2C%20%5B40.675431%2C%20-73.971248%5D%2C%20%5B40.695084%2C%20-73.995767%5D%2C%20%5B40.764829%2C%20-73.980265%5D%2C%20%5B40.764954%2C%20-73.980309%5D%2C%20%5B40.765153%2C%20-73.98051%5D%2C%20%5B40.764546%2C%20-73.980445%5D%2C%20%5B40.694169%2C%20-73.99063%5D%2C%20%5B40.694169%2C%20-73.99063%5D%2C%20%5B40.767192%2C%20-73.99181%5D%2C%20%5B40.694169%2C%20-73.99063%5D%2C%20%5B40.683549%2C%20-73.976272%5D%2C%20%5B40.767192%2C%20-73.99181%5D%2C%20%5B40.696068%2C%20-73.990066%5D%2C%20%5B40.765002%2C%20-73.979871%5D%2C%20%5B40.680195%2C%20-73.94594%5D%2C%20%5B40.7025%2C%20-74.0125%5D%2C%20%5B40.669612%2C%20-73.950246%5D%2C%20%5B40.688354%2C%20-73.982504%5D%2C%20%5B40.666288%2C%20-73.956671%5D%2C%20%5B40.733334%2C%20-74.000109%5D%2C%20%5B40.60886%2C%20-73.9239%5D%2C%20%5B40.690452%2C%20-73.991999%5D%2C%20%5B40.750561%2C%20-73.986754%5D%2C%20%5B40.695931%2C%20-73.984693%5D%2C%20%5B40.733334%2C%20-74.000109%5D%2C%20%5B40.690103%2C%20-73.986939%5D%2C%20%5B40.689927%2C%20-73.981397%5D%2C%20%5B40.734145%2C%20-73.990796%5D%2C%20%5B40.690529%2C%20-73.991982%5D%2C%20%5B40.655776%2C%20-73.943985%5D%2C%20%5B40.67686%2C%20-73.977486%5D%2C%20%5B40.67686%2C%20-73.977486%5D%2C%20%5B40.741579%2C%20-73.987472%5D%2C%20%5B40.735351%2C%20-73.989945%5D%2C%20%5B40.741579%2C%20-73.987472%5D%2C%20%5B40.741579%2C%20-73.987472%5D%2C%20%5B40.684428%2C%20-73.977721%5D%2C%20%5B40.690452%2C%20-73.991999%5D%2C%20%5B40.741551%2C%20-73.986527%5D%2C%20%5B40.756639%2C%20-73.986333%5D%2C%20%5B40.676956%2C%20-73.972294%5D%2C%20%5B40.676956%2C%20-73.972294%5D%2C%20%5B40.663291%2C%20-73.961105%5D%2C%20%5B40.741551%2C%20-73.986527%5D%2C%20%5B40.690524%2C%20-73.991963%5D%2C%20%5B40.741551%2C%20-73.986527%5D%2C%20%5B40.741551%2C%20-73.986527%5D%2C%20%5B40.67686%2C%20-73.977486%5D%2C%20%5B40.647852%2C%20-73.958155%5D%2C%20%5B40.673468%2C%20-73.970509%5D%2C%20%5B40.654922%2C%20-73.961772%5D%2C%20%5B40.775363%2C%20-73.982037%5D%2C%20%5B40.587865%2C%20-73.955261%5D%2C%20%5B40.73006%2C%20-74.002561%5D%2C%20%5B40.744201%2C%20-74.006296%5D%2C%20%5B40.741795%2C%20-74.004936%5D%2C%20%5B40.828169%2C%20-73.925723%5D%2C%20%5B40.762839%2C%20-73.993162%5D%2C%20%5B40.762843%2C%20-73.981983%5D%2C%20%5B40.775501%2C%20-73.870473%5D%2C%20%5B40.731559%2C%20-73.989172%5D%2C%20%5B40.756439%2C%20-73.986252%5D%2C%20%5B40.626888%2C%20-73.751221%5D%2C%20%5B40.734665%2C%20-73.917689%5D%2C%20%5B40.756805%2C%20-74.002167%5D%2C%20%5B40.7587%2C%20-73.978586%5D%2C%20%5B40.731222%2C%20-73.995808%5D%2C%20%5B40.720374%2C%20-74.005848%5D%2C%20%5B40.728121%2C%20-74.001654%5D%2C%20%5B40.733168%2C%20-74.003106%5D%2C%20%5B40.768649%2C%20-73.987458%5D%2C%20%5B40.747777%2C%20-73.847866%5D%2C%20%5B40.780086%2C%20-73.968716%5D%2C%20%5B40.729795%2C%20-73.989143%5D%2C%20%5B40.781646%2C%20-73.82665%5D%2C%20%5B40.728935%2C%20-73.988428%5D%2C%20%5B40.671558%2C%20-73.962589%5D%2C%20%5B40.74711%2C%20-73.985511%5D%2C%20%5B40.815695%2C%20-73.916771%5D%2C%20%5B40.85375%2C%20-73.912269%5D%2C%20%5B40.731709%2C%20-74.000954%5D%2C%20%5B40.714269%2C%20-74.005973%5D%2C%20%5B40.662994%2C%20-73.997604%5D%2C%20%5B40.690811%2C%20-73.955505%5D%2C%20%5B40.689873%2C%20-73.951509%5D%2C%20%5B40.730148%2C%20-74.008514%5D%2C%20%5B40.698835%2C%20-73.957821%5D%2C%20%5B40.753476%2C%20-73.988141%5D%2C%20%5B40.763566%2C%20-73.975338%5D%2C%20%5B40.813108%2C%20-73.962687%5D%2C%20%5B40.714269%2C%20-74.005973%5D%2C%20%5B40.741179%2C%20-73.993182%5D%2C%20%5B40.743511%2C%20-74.000008%5D%2C%20%5B40.673221%2C%20-73.986424%5D%2C%20%5B40.756815%2C%20-73.988804%5D%2C%20%5B40.752737%2C%20-73.978726%5D%2C%20%5B40.754203%2C%20-73.984165%5D%2C%20%5B40.873606%2C%20-73.907795%5D%2C%20%5B40.646497%2C%20-73.778882%5D%2C%20%5B40.772575%2C%20-73.97725%5D%2C%20%5B40.761202%2C%20-73.984177%5D%2C%20%5B40.763429%2C%20-73.965219%5D%2C%20%5B40.754295%2C%20-73.965861%5D%2C%20%5B40.739335%2C%20-74.007065%5D%2C%20%5B40.758631%2C%20-73.972752%5D%2C%20%5B40.756481%2C%20-74.003559%5D%2C%20%5B40.714269%2C%20-74.005973%5D%2C%20%5B40.759907%2C%20-73.821305%5D%2C%20%5B40.782465%2C%20-73.980697%5D%2C%20%5B40.714269%2C%20-74.005973%5D%2C%20%5B40.723703%2C%20-73.983481%5D%2C%20%5B40.714492%2C%20-73.79259%5D%2C%20%5B40.719903%2C%20-74.043129%5D%2C%20%5B40.735733%2C%20-73.991943%5D%2C%20%5B40.740786%2C%20-74.004507%5D%2C%20%5B40.757229%2C%20-73.98285%5D%2C%20%5B40.641808%2C%20-73.783596%5D%2C%20%5B40.714269%2C%20-74.005973%5D%2C%20%5B40.683242%2C%20-73.94389%5D%2C%20%5B40.777774%2C%20-73.873189%5D%2C%20%5B40.731105%2C%20-73.990393%5D%2C%20%5B40.711449%2C%20-74.010551%5D%2C%20%5B40.758758%2C%20-73.978698%5D%2C%20%5B40.751705%2C%20-73.990093%5D%2C%20%5B40.704529%2C%20-74.014185%5D%2C%20%5B40.744308%2C%20-73.974718%5D%2C%20%5B40.743991%2C%20-74.032363%5D%2C%20%5B40.756049%2C%20-73.990627%5D%2C%20%5B40.743991%2C%20-74.032363%5D%2C%20%5B40.743991%2C%20-74.032363%5D%2C%20%5B40.7371%2C%20-73.989369%5D%2C%20%5B40.736168%2C%20-74.030479%5D%2C%20%5B40.731871%2C%20-74.002895%5D%2C%20%5B40.749069%2C%20-73.990883%5D%2C%20%5B40.779322%2C%20-73.945263%5D%2C%20%5B40.750606%2C%20-73.992856%5D%2C%20%5B40.737206%2C%20-73.990644%5D%2C%20%5B40.766156%2C%20-73.986752%5D%2C%20%5B40.695195%2C%20-73.990902%5D%2C%20%5B40.715842%2C%20-73.990448%5D%2C%20%5B40.816146%2C%20-73.952803%5D%2C%20%5B40.690628%2C%20-73.995713%5D%2C%20%5B40.762018%2C%20-73.949895%5D%2C%20%5B40.752949%2C%20-73.983561%5D%2C%20%5B40.676139%2C%20-73.983451%5D%2C%20%5B40.721733%2C%20-73.98747%5D%2C%20%5B40.759186%2C%20-73.990434%5D%2C%20%5B40.633333%2C%20-73.783333%5D%2C%20%5B40.714108%2C%20-73.955975%5D%2C%20%5B40.759322%2C%20-73.991307%5D%2C%20%5B40.731836%2C%20-73.989799%5D%2C%20%5B40.727442%2C%20-73.984326%5D%5D%2C%0A%20%20%20%20%20%20%20%20%20%20%20%20%20%20%20%20%7B%22blur%22%3A%2015%2C%20%22maxZoom%22%3A%2018%2C%20%22minOpacity%22%3A%200.5%2C%20%22radius%22%3A%2025%7D%0A%20%20%20%20%20%20%20%20%20%20%20%20%29.addTo%28map_695d08c0c17c4522a7cbeb955ba4b2ba%29%3B%0A%20%20%20%20%20%20%20%20%0A%3C/script%3E onload=\"this.contentDocument.open();this.contentDocument.write(    decodeURIComponent(this.getAttribute('data-html')));this.contentDocument.close();\" allowfullscreen webkitallowfullscreen mozallowfullscreen></iframe></div></div>"
      ],
      "text/plain": [
       "<folium.folium.Map at 0x1edeb55c1f0>"
      ]
     },
     "execution_count": 76,
     "metadata": {},
     "output_type": "execute_result"
    }
   ],
   "source": [
    "plot_points_heatmap(tdf_nyc, map_f=None, zoom=8, radius=25, blur=15)"
   ]
  },
  {
   "cell_type": "markdown",
   "metadata": {},
   "source": [
    "**Weighted tessellation** <br>\n",
    "We map each point with the corresponding tile to compute a weighted tessellation at each tile is associated its relevance, namely the popularity of a location among real individuals. The overall number of visits to a location is usually used as an estimation of its relevance."
   ]
  },
  {
   "cell_type": "code",
   "execution_count": 77,
   "metadata": {},
   "outputs": [
    {
     "data": {
      "text/html": [
       "<div>\n",
       "<style scoped>\n",
       "    .dataframe tbody tr th:only-of-type {\n",
       "        vertical-align: middle;\n",
       "    }\n",
       "\n",
       "    .dataframe tbody tr th {\n",
       "        vertical-align: top;\n",
       "    }\n",
       "\n",
       "    .dataframe thead th {\n",
       "        text-align: right;\n",
       "    }\n",
       "</style>\n",
       "<table border=\"1\" class=\"dataframe\">\n",
       "  <thead>\n",
       "    <tr style=\"text-align: right;\">\n",
       "      <th></th>\n",
       "      <th>tile_ID</th>\n",
       "      <th>relevance</th>\n",
       "    </tr>\n",
       "  </thead>\n",
       "  <tbody>\n",
       "    <tr>\n",
       "      <th>0</th>\n",
       "      <td>10</td>\n",
       "      <td>1</td>\n",
       "    </tr>\n",
       "    <tr>\n",
       "      <th>1</th>\n",
       "      <td>100</td>\n",
       "      <td>17</td>\n",
       "    </tr>\n",
       "    <tr>\n",
       "      <th>2</th>\n",
       "      <td>101</td>\n",
       "      <td>742</td>\n",
       "    </tr>\n",
       "    <tr>\n",
       "      <th>3</th>\n",
       "      <td>102</td>\n",
       "      <td>434</td>\n",
       "    </tr>\n",
       "    <tr>\n",
       "      <th>4</th>\n",
       "      <td>103</td>\n",
       "      <td>393</td>\n",
       "    </tr>\n",
       "  </tbody>\n",
       "</table>\n",
       "</div>"
      ],
      "text/plain": [
       "  tile_ID  relevance\n",
       "0      10          1\n",
       "1     100         17\n",
       "2     101        742\n",
       "3     102        434\n",
       "4     103        393"
      ]
     },
     "execution_count": 77,
     "metadata": {},
     "output_type": "execute_result"
    }
   ],
   "source": [
    "visits_per_tile = tdf_nyc.groupby(\"tile_ID\", as_index=False).count()\n",
    "visits_per_tile = visits_per_tile[[\"tile_ID\", \"uid\"]]\n",
    "visits_per_tile[\"relevance\"] = visits_per_tile[\"uid\"]\n",
    "visits_per_tile = visits_per_tile[[\"tile_ID\", \"relevance\"]]\n",
    "visits_per_tile.head()"
   ]
  },
  {
   "cell_type": "code",
   "execution_count": 78,
   "metadata": {},
   "outputs": [
    {
     "data": {
      "text/html": [
       "<div>\n",
       "<style scoped>\n",
       "    .dataframe tbody tr th:only-of-type {\n",
       "        vertical-align: middle;\n",
       "    }\n",
       "\n",
       "    .dataframe tbody tr th {\n",
       "        vertical-align: top;\n",
       "    }\n",
       "\n",
       "    .dataframe thead th {\n",
       "        text-align: right;\n",
       "    }\n",
       "</style>\n",
       "<table border=\"1\" class=\"dataframe\">\n",
       "  <thead>\n",
       "    <tr style=\"text-align: right;\">\n",
       "      <th></th>\n",
       "      <th>geometry</th>\n",
       "      <th>relevance</th>\n",
       "    </tr>\n",
       "    <tr>\n",
       "      <th>tile_ID</th>\n",
       "      <th></th>\n",
       "      <th></th>\n",
       "    </tr>\n",
       "  </thead>\n",
       "  <tbody>\n",
       "    <tr>\n",
       "      <th>42</th>\n",
       "      <td>POLYGON ((-74.12410 40.55853, -74.12410 40.579...</td>\n",
       "      <td>5.0</td>\n",
       "    </tr>\n",
       "    <tr>\n",
       "      <th>44</th>\n",
       "      <td>POLYGON ((-74.12410 40.59946, -74.12410 40.619...</td>\n",
       "      <td>3.0</td>\n",
       "    </tr>\n",
       "    <tr>\n",
       "      <th>46</th>\n",
       "      <td>POLYGON ((-74.12410 40.64038, -74.12410 40.660...</td>\n",
       "      <td>1.0</td>\n",
       "    </tr>\n",
       "    <tr>\n",
       "      <th>50</th>\n",
       "      <td>POLYGON ((-74.09715 40.55853, -74.09715 40.579...</td>\n",
       "      <td>1.0</td>\n",
       "    </tr>\n",
       "    <tr>\n",
       "      <th>51</th>\n",
       "      <td>POLYGON ((-74.09715 40.57900, -74.09715 40.599...</td>\n",
       "      <td>2.0</td>\n",
       "    </tr>\n",
       "  </tbody>\n",
       "</table>\n",
       "</div>"
      ],
      "text/plain": [
       "                                                  geometry  relevance\n",
       "tile_ID                                                              \n",
       "42       POLYGON ((-74.12410 40.55853, -74.12410 40.579...        5.0\n",
       "44       POLYGON ((-74.12410 40.59946, -74.12410 40.619...        3.0\n",
       "46       POLYGON ((-74.12410 40.64038, -74.12410 40.660...        1.0\n",
       "50       POLYGON ((-74.09715 40.55853, -74.09715 40.579...        1.0\n",
       "51       POLYGON ((-74.09715 40.57900, -74.09715 40.599...        2.0"
      ]
     },
     "execution_count": 78,
     "metadata": {},
     "output_type": "execute_result"
    }
   ],
   "source": [
    "weighted_tessellation = tessellation.set_index(\"tile_ID\").join(visits_per_tile.set_index(\"tile_ID\"))\n",
    "weighted_tessellation = weighted_tessellation.fillna(0)\n",
    "\n",
    "weighted_tessellation_pos = weighted_tessellation[weighted_tessellation[\"relevance\"]>0]\n",
    "\n",
    "weighted_tessellation_pos[6:11]"
   ]
  },
  {
   "cell_type": "markdown",
   "metadata": {},
   "source": [
    "### The EPR model"
   ]
  },
  {
   "cell_type": "markdown",
   "metadata": {},
   "source": [
    "$S$ is the number of distinct locations previously visited by the agent <br>\n",
    "$\\rho$ controls the agent’s tendency to explore a new location during the next (default 0.6) <br>\n",
    "$\\gamma$ controls the agent’s tendency to explore a new location during the next (default 0.21) <br>\n",
    "\n",
    "\n",
    "<div>\n",
    "<img src=\"https://media.springernature.com/full/springer-static/image/art%3A10.1038%2Fnphys1760/MediaObjects/41567_2010_Article_BFnphys1760_Fig2_HTML.jpg?as=webp\" width=\"400\"/>\n",
    "</div>\n"
   ]
  },
  {
   "cell_type": "markdown",
   "metadata": {},
   "source": [
    "### 1. Density-EPR (d-epr)\n",
    "\n",
    "\n",
    "<b>exploration choice:</b> $p_{ij} = \\frac{1}{N} \\frac{n_i n_j}{r_{ij}^2}$  <br>\n",
    "<b>return choice: $\\Pi_i = f_i$</b>\n",
    "\n",
    "$n_{i (j)}$ is the location relevance <br>\n",
    "$r_{ij}$ is the geographic distance between $i$ and $j$. <br> \n",
    "$f_i$ is the visitation frequency of location $i$."
   ]
  },
  {
   "cell_type": "code",
   "execution_count": 79,
   "metadata": {},
   "outputs": [
    {
     "name": "stderr",
     "output_type": "stream",
     "text": [
      "100%|████████████████████████████████████████████████████████████████████████████████| 500/500 [00:50<00:00, 10.00it/s]\n"
     ]
    }
   ],
   "source": [
    "from skmob.models.epr import DensityEPR\n",
    "\n",
    "depr = DensityEPR()\n",
    "\n",
    "traj_depr = depr.generate(start, end, weighted_tessellation_pos, relevance_column='relevance', \n",
    "                          n_agents=500, show_progress=True)"
   ]
  },
  {
   "cell_type": "markdown",
   "metadata": {},
   "source": [
    "### 2. Spatial-EPR (s-epr)\n",
    "\n",
    "<b>exploration choice:</b> $p_{ij} = \\frac{1}{r_{ij}^2}$  <br>\n",
    "<b>return choice: $\\Pi_i = f_i$</b>\n",
    "\n",
    "$r_{ij}$ is the geographic distance between $i$ and $j$. <br> \n",
    "$f_i$ is the visitation frequency of location $i$."
   ]
  },
  {
   "cell_type": "code",
   "execution_count": 80,
   "metadata": {},
   "outputs": [
    {
     "name": "stderr",
     "output_type": "stream",
     "text": [
      "100%|████████████████████████████████████████████████████████████████████████████████| 500/500 [00:56<00:00,  8.81it/s]\n"
     ]
    }
   ],
   "source": [
    "from skmob.models.epr import SpatialEPR\n",
    "\n",
    "sepr = SpatialEPR()\n",
    "\n",
    "traj_sepr = sepr.generate(start, end, weighted_tessellation_pos, n_agents=500, show_progress=True)"
   ]
  },
  {
   "cell_type": "markdown",
   "metadata": {},
   "source": [
    "### 3. Ditras\n",
    "\n",
    "**Mobility Diary Generation**: In the first phase, DITRAS generates a mobility diary which captures the temporal patterns of human mobility.\n",
    "\n",
    "**Trajectory Generation**: In the second phase, DITRAS transforms the mobility diary into a mobility trajectory which captures the spatial patterns of human movements usign the d-EPR model.\n",
    "\n",
    "\n",
    "<img src=\"https://raw.githubusercontent.com/jonpappalord/DITRAS/master/DITRAS_schema.png\" width=\"400\"/>\n",
    "\n"
   ]
  },
  {
   "cell_type": "code",
   "execution_count": 81,
   "metadata": {},
   "outputs": [
    {
     "name": "stderr",
     "output_type": "stream",
     "text": [
      " 73%|██████████████████████████████████████████████████████████▍                     | 365/500 [01:21<00:30,  4.46it/s]\n"
     ]
    }
   ],
   "source": [
    "# fit the mobility diary generator\n",
    "\n",
    "from skmob.models.markov_diary_generator import MarkovDiaryGenerator\n",
    "from skmob.preprocessing import compression, detection, clustering\n",
    "\n",
    "ctdf = compression.compress(tdf_nyc)\n",
    "stdf = detection.stay_locations(ctdf)\n",
    "cstdf = clustering.cluster(stdf)\n",
    "\n",
    "mdg_nyc = MarkovDiaryGenerator()\n",
    "\n",
    "mdg_nyc.fit(cstdf, 500, lid=\"cluster\")"
   ]
  },
  {
   "cell_type": "code",
   "execution_count": 82,
   "metadata": {},
   "outputs": [
    {
     "name": "stderr",
     "output_type": "stream",
     "text": [
      "100%|████████████████████████████████████████████████████████████████████████████████| 500/500 [00:06<00:00, 82.67it/s]\n"
     ]
    }
   ],
   "source": [
    "from skmob.models.epr import Ditras\n",
    "\n",
    "ditras = Ditras(mdg_nyc)\n",
    "\n",
    "traj_ditras = ditras.generate(start, end, weighted_tessellation_pos, relevance_column='relevance', n_agents=500, \n",
    "                              show_progress=True)"
   ]
  },
  {
   "cell_type": "markdown",
   "metadata": {},
   "source": [
    "### 4. STS-EPR\n",
    "<div>\n",
    "<img src=\"https://i.ibb.co/8X6strg/Cattura.png\" width=\"800\"/>\n",
    "</div>\n"
   ]
  },
  {
   "cell_type": "code",
   "execution_count": 83,
   "metadata": {},
   "outputs": [
    {
     "name": "stderr",
     "output_type": "stream",
     "text": [
      "100%|████████████████████████████████████████████████████████████████████████████████| 696/696 [00:13<00:00, 53.28it/s]\n"
     ]
    }
   ],
   "source": [
    "from skmob.models.sts_epr import STS_epr\n",
    "\n",
    "sts_epr = STS_epr()\n",
    "\n",
    "traj_sts = sts_epr.generate(start, end, social_graph=\"random\", n_agents=500, rsl=True,\n",
    "                                    spatial_tessellation=weighted_tessellation_pos,\n",
    "                                    diary_generator=mdg_nyc, show_progress=True, relevance_column='relevance')"
   ]
  },
  {
   "cell_type": "markdown",
   "metadata": {},
   "source": [
    "### Analysis of the Synthetic Trajectories"
   ]
  },
  {
   "cell_type": "code",
   "execution_count": 84,
   "metadata": {},
   "outputs": [],
   "source": [
    "synt_dict = {\"depr\": traj_depr, \"sepr\": traj_sepr, \"ditras\": traj_ditras, \"sts-epr\": traj_sts}"
   ]
  },
  {
   "cell_type": "markdown",
   "metadata": {},
   "source": [
    "#### 1. Compare the Jump Length of synthetic and real trajectories"
   ]
  },
  {
   "cell_type": "code",
   "execution_count": 93,
   "metadata": {},
   "outputs": [],
   "source": [
    "# real\n",
    "jl_list_real = jump_lengths(tdf_nyc, merge=True, show_progress=False)\n",
    "x_real, y_real = zip(*lbpdf(3, [r for r in jl_list_real if r > 1.0]))\n",
    "\n",
    "\n",
    "# synth\n",
    "jl_dist = []\n",
    "for model in synt_dict:\n",
    "    jl_list = jump_lengths(synt_dict[model], merge=True, show_progress=False)\n",
    "    x, y = zip(*lbpdf(3, [r for r in jl_list if r > 1.0]))\n",
    "    jl_dist.append((model,x,y))"
   ]
  },
  {
   "cell_type": "code",
   "execution_count": 94,
   "metadata": {},
   "outputs": [
    {
     "data": {
      "image/png": "[encoded data removed]",
      "text/plain": [
       "<Figure size 432x432 with 1 Axes>"
      ]
     },
     "metadata": {
      "needs_background": "light"
     },
     "output_type": "display_data"
    }
   ],
   "source": [
    "# let's plot the distribution of jump lengths\n",
    "\n",
    "fig = plt.figure(figsize=(6, 6))\n",
    "\n",
    "for m, x, y in jl_dist:\n",
    "     plt.plot(x, y, linewidth=2, label=m)\n",
    "        \n",
    "# real\n",
    "plt.plot(x_real, y_real, marker='o', linewidth=2, label=\"real\", color=\"black\", linestyle=\"dashed\")\n",
    "    \n",
    "plt.loglog()\n",
    "plt.legend()\n",
    "plt.xlabel('$r$ [km]', fontsize=15)\n",
    "plt.ylabel('$P(r)$', fontsize=15)\n",
    "plt.grid(alpha=0.15)\n",
    "plt.show()"
   ]
  },
  {
   "cell_type": "markdown",
   "metadata": {},
   "source": [
    "#### 2. $k$-radius of gyration $r_g^{(k)}$ vs. radius of gyration $r_g$"
   ]
  },
  {
   "cell_type": "code",
   "execution_count": 95,
   "metadata": {},
   "outputs": [
    {
     "data": {
      "image/png": "[encoded data removed]",
      "text/plain": [
       "<Figure size 432x432 with 1 Axes>"
      ]
     },
     "metadata": {
      "needs_background": "light"
     },
     "output_type": "display_data"
    }
   ],
   "source": [
    "# compute rg and k-rg for real data\n",
    "\n",
    "rg_real = list(radius_of_gyration(tdf_nyc, show_progress=False)[\"radius_of_gyration\"])\n",
    "k2rg_real = list(k_radius_of_gyration(tdf_nyc, k=2, show_progress=False)[\"2k_radius_of_gyration\"])\n",
    "\n",
    "fig = plt.figure(figsize=(6, 6))\n",
    "plt.title(\"Real\")\n",
    "plt.scatter(rg_real, k2rg_real, marker='o')\n",
    "plt.xlabel('$r_g$ [km]', fontsize=15)\n",
    "plt.ylabel('$r_g^{(k)}$', fontsize=15)\n",
    "plt.grid(alpha=0.15)\n",
    "plt.plot([0, 25], [0, 25], color=\"black\")\n",
    "plt.show()"
   ]
  },
  {
   "cell_type": "code",
   "execution_count": 96,
   "metadata": {},
   "outputs": [
    {
     "data": {
      "image/png": "[encoded data removed]",
      "text/plain": [
       "<Figure size 432x432 with 1 Axes>"
      ]
     },
     "metadata": {
      "needs_background": "light"
     },
     "output_type": "display_data"
    }
   ],
   "source": [
    "# compute rg and k-rg for sepr\n",
    "\n",
    "synt_data = synt_dict[\"sepr\"]\n",
    "\n",
    "rg_syn = list(radius_of_gyration(synt_data, show_progress=False)[\"radius_of_gyration\"])\n",
    "k2rg_syn = list(k_radius_of_gyration(synt_data, k=2, show_progress=False)[\"2k_radius_of_gyration\"])\n",
    "\n",
    "fig = plt.figure(figsize=(6, 6))\n",
    "plt.title(\"depr\")\n",
    "plt.scatter(rg_syn, k2rg_syn, marker='o')\n",
    "plt.xlabel('$r_g$ [km]', fontsize=15)\n",
    "plt.ylabel('$r_g^{(k)}$', fontsize=15)\n",
    "plt.grid(alpha=0.15)\n",
    "plt.plot([0, 25], [0, 25], color=\"black\")\n",
    "plt.show()"
   ]
  },
  {
   "cell_type": "code",
   "execution_count": 89,
   "metadata": {},
   "outputs": [
    {
     "data": {
      "image/png": "[encoded data removed]",
      "text/plain": [
       "<Figure size 432x432 with 1 Axes>"
      ]
     },
     "metadata": {
      "needs_background": "light"
     },
     "output_type": "display_data"
    }
   ],
   "source": [
    "# compute rg and k-rg for depr\n",
    "\n",
    "synt_data = synt_dict[\"depr\"]\n",
    "\n",
    "rg_syn = list(radius_of_gyration(synt_data, show_progress=False)[\"radius_of_gyration\"])\n",
    "k2rg_syn = list(k_radius_of_gyration(synt_data, k=2, show_progress=False)[\"2k_radius_of_gyration\"])\n",
    "\n",
    "fig = plt.figure(figsize=(6, 6))\n",
    "plt.title(\"depr\")\n",
    "plt.scatter(rg_syn, k2rg_syn, marker='o')\n",
    "plt.xlabel('$r_g$ [km]', fontsize=15)\n",
    "plt.ylabel('$r_g^{(k)}$', fontsize=15)\n",
    "plt.grid(alpha=0.15)\n",
    "plt.plot([0, 25], [0, 25], color=\"black\")\n",
    "plt.show()"
   ]
  },
  {
   "cell_type": "code",
   "execution_count": 97,
   "metadata": {},
   "outputs": [
    {
     "data": {
      "image/png": "[encoded data removed]",
      "text/plain": [
       "<Figure size 432x432 with 1 Axes>"
      ]
     },
     "metadata": {
      "needs_background": "light"
     },
     "output_type": "display_data"
    }
   ],
   "source": [
    "# compute rg and k-rg for sts-epr\n",
    "\n",
    "synt_data = synt_dict[\"sts-epr\"]\n",
    "\n",
    "rg_syn = list(radius_of_gyration(synt_data, show_progress=False)[\"radius_of_gyration\"])\n",
    "k2rg_syn = list(k_radius_of_gyration(synt_data, k=2, show_progress=False)[\"2k_radius_of_gyration\"])\n",
    "\n",
    "fig = plt.figure(figsize=(6, 6))\n",
    "plt.title(\"sts-epr\")\n",
    "plt.scatter(rg_syn, k2rg_syn, marker='o')\n",
    "plt.xlabel('$r_g$ [km]', fontsize=15)\n",
    "plt.ylabel('$r_g^{(k)}$', fontsize=15)\n",
    "plt.grid(alpha=0.15)\n",
    "plt.plot([0, 25], [0, 25], color=\"black\")\n",
    "plt.show()"
   ]
  }
 ],
 "metadata": {
  "colab": {
   "collapsed_sections": [],
   "name": "skmob05-measures.ipynb",
   "private_outputs": true,
   "provenance": []
  },
  "kernelspec": {
   "display_name": "Python 3 (ipykernel)",
   "language": "python",
   "name": "python3"
  },
  "language_info": {
   "codemirror_mode": {
    "name": "ipython",
    "version": 3
   },
   "file_extension": ".py",
   "mimetype": "text/x-python",
   "name": "python",
   "nbconvert_exporter": "python",
   "pygments_lexer": "ipython3",
   "version": "3.9.7"
  }
 },
 "nbformat": 4,
 "nbformat_minor": 4
}
