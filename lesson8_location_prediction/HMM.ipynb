{
 "cells": [
  {
   "cell_type": "markdown",
   "id": "2e0659fc",
   "metadata": {},
   "source": [
    "# Using hmmlearn to fit a HMM model"
   ]
  },
  {
   "cell_type": "markdown",
   "id": "438be3dd",
   "metadata": {},
   "source": [
    "## Modeling numerical values\n",
    "The basic HMM model can use different types of emission probabilities. In our example we adopt a simple Gaussian emissions model (GaussianHMM), i.e. for a given state all the observations are generated as a Gaussian variable with a given means and variance (to be given as input or to be learned from the input data). Alternatives for numerical sequence data include mixtures of Gaussians (GMMHMM).\n",
    "\n",
    "Taken from https://waterprogramming.wordpress.com/2018/07/03/fitting-hidden-markov-models-part-ii-sample-python-script/"
   ]
  },
  {
   "cell_type": "code",
   "execution_count": null,
   "id": "4f510185",
   "metadata": {},
   "outputs": [],
   "source": [
    "import matplotlib.pyplot as plt\n",
    "from hmmlearn.hmm import GaussianHMM, GMMHMM\n",
    "import numpy as np\n",
    "plt.rcParams[\"figure.figsize\"] = (20,3)\n",
    "\n",
    "ff = np.loadtxt('water_temp_ok_2.txt')\n",
    "\n",
    "plt.plot(ff)\n",
    "plt.grid()\n",
    "plt.show()"
   ]
  },
  {
   "cell_type": "code",
   "execution_count": null,
   "id": "70a3bf48",
   "metadata": {},
   "outputs": [],
   "source": [
    "dataset = np.reshape(ff,[len(ff),1])\n",
    "model = GaussianHMM(n_components=5, n_iter=1000).fit(dataset)"
   ]
  },
  {
   "cell_type": "code",
   "execution_count": null,
   "id": "09b0cae5",
   "metadata": {},
   "outputs": [],
   "source": [
    "print(\"Initial state probabilities:\\n\", model.startprob_)\n",
    "print()\n",
    "print(\"Mean value for each state:\\n\", model.means_)\n",
    "print()\n",
    "print(\"State-to-state transition matrix (%):\\n\", model.transmat_*100)\n"
   ]
  },
  {
   "cell_type": "code",
   "execution_count": null,
   "id": "c74a2382",
   "metadata": {},
   "outputs": [],
   "source": [
    "plt.plot(range(len(ff)), ff)\n",
    "for i in range(len(model.means_)):\n",
    "    plt.plot(np.repeat(model.means_[i][0],len(ff)))\n",
    "plt.grid()\n",
    "plt.show()"
   ]
  },
  {
   "cell_type": "code",
   "execution_count": null,
   "id": "f3042a88",
   "metadata": {},
   "outputs": [],
   "source": [
    "pred = model.predict(dataset)"
   ]
  },
  {
   "cell_type": "code",
   "execution_count": null,
   "id": "6c5a5898",
   "metadata": {},
   "outputs": [],
   "source": [
    "plt.plot(ff)\n",
    "for i in range(len(model.means_)):\n",
    "    plt.plot(np.repeat(model.means_[i][0],len(ff)))\n",
    "plt.grid()\n",
    "plt.show()\n",
    "plt.plot(pred*(max(ff)-min(ff))/len(model.means_))\n",
    "plt.show()"
   ]
  },
  {
   "cell_type": "code",
   "execution_count": null,
   "id": "2d890518",
   "metadata": {},
   "outputs": [],
   "source": [
    "samples = model.sample(len(dataset))\n",
    "plt.plot(samples[0])\n",
    "plt.plot(ff)\n",
    "plt.grid()\n",
    "plt.title('Generated timeseries vs. Original one')\n",
    "plt.show()\n",
    "plt.plot(samples[1])\n",
    "plt.title('Sequence of generated states')\n",
    "plt.show()\n"
   ]
  },
  {
   "cell_type": "markdown",
   "id": "6eeb9fc5",
   "metadata": {},
   "source": [
    "## HMM on discrete values\n",
    "Discrete values (strings, symbols, tags, etc.) should be converted to integers -- more exactly, the values should be consecutive integers, starting from 0.\n",
    "We use the simple emission model CategoricalHMM, which associates a probability p(o|s) for each observation \"o\" and state \"s\"."
   ]
  },
  {
   "cell_type": "code",
   "execution_count": null,
   "id": "9e2d419b",
   "metadata": {},
   "outputs": [],
   "source": [
    "from hmmlearn.hmm import CategoricalHMM\n",
    "\n",
    "dataset2 = np.array([np.ndarray.round(ff/3).astype(int)]).T\n",
    "print(f\"Distinct values after discretization: {np.unique(dataset2)}\")\n",
    "plt.plot(dataset2)\n",
    "plt.grid()\n",
    "plt.show()"
   ]
  },
  {
   "cell_type": "code",
   "execution_count": null,
   "id": "c4326092",
   "metadata": {},
   "outputs": [],
   "source": [
    "dataset3 = np.reshape(dataset2, (1,-1))\n",
    "model = CategoricalHMM(n_components=5, n_iter=1000)\n",
    "model2 = model.fit(dataset3)"
   ]
  },
  {
   "cell_type": "code",
   "execution_count": null,
   "id": "477b16d6",
   "metadata": {},
   "outputs": [],
   "source": [
    "model2.transmat_"
   ]
  },
  {
   "cell_type": "code",
   "execution_count": null,
   "id": "c4f474ba",
   "metadata": {},
   "outputs": [],
   "source": [
    "samples = model2.sample(len(dataset2))\n",
    "plt.plot(samples[0])\n",
    "plt.plot(ff)\n",
    "plt.grid()\n",
    "plt.show()\n",
    "plt.plot(samples[1])\n",
    "plt.show()"
   ]
  },
  {
   "cell_type": "markdown",
   "id": "7d73db52",
   "metadata": {},
   "source": [
    "## Example on Flickr dataset\n",
    "Use CategoricalHMM on a processed dataset of Flickr photos. Each line of the input file contains the ordered list of attractions photographed by a user in Venice. Here is a sample of a few lines:\n",
    "\n",
    "Palazzo_Santa_Maria_del_Giglio  Palazzo_Ducale .\n",
    "\n",
    "Opera_Santa_Maria_Della_Carita'  Palazzo_Ducale .\n",
    "\n",
    "Palazzo_Ducale  Torre_dell'orologio .\n",
    "\n",
    "Chiesa_di_San_Trovaso  Museo_Correr  Campo_San_Benedetto .\n"
   ]
  },
  {
   "cell_type": "code",
   "execution_count": null,
   "id": "56cdb11e",
   "metadata": {},
   "outputs": [],
   "source": [
    "fvenice = open('sequences_of_poits.text')\n",
    "POIs = [st for st in fvenice.read().replace('\\n',' ').split(' ') if st != '' ]"
   ]
  },
  {
   "cell_type": "markdown",
   "id": "0fc578b4",
   "metadata": {},
   "source": [
    "Map strings to integers and concatenate sequences. Notice: \".\" is preserved as special POI."
   ]
  },
  {
   "cell_type": "code",
   "execution_count": null,
   "id": "f27690df",
   "metadata": {},
   "outputs": [],
   "source": [
    "seq_POI = []\n",
    "dict_POI = {}\n",
    "list_POI = []\n",
    "for p in POIs:\n",
    "    if p not in dict_POI:\n",
    "        dict_POI[p] = len(dict_POI)\n",
    "        list_POI.append(p)\n",
    "    seq_POI.append([dict_POI[p]])"
   ]
  },
  {
   "cell_type": "markdown",
   "id": "c479ef86",
   "metadata": {},
   "source": [
    "Learn the parameters from input sequence"
   ]
  },
  {
   "cell_type": "code",
   "execution_count": null,
   "id": "c45141f2",
   "metadata": {},
   "outputs": [],
   "source": [
    "model_POI = CategoricalHMM(n_components=5, n_iter=1000).fit(seq_POI)"
   ]
  },
  {
   "cell_type": "code",
   "execution_count": null,
   "id": "e8a6d112",
   "metadata": {},
   "outputs": [],
   "source": [
    "[ list_POI[i[0]] for i in model_POI.sample(20)[0] ]"
   ]
  },
  {
   "cell_type": "code",
   "execution_count": null,
   "id": "c13dae1b",
   "metadata": {},
   "outputs": [],
   "source": [
    "model_POI.transmat_"
   ]
  },
  {
   "cell_type": "code",
   "execution_count": null,
   "id": "cd2793e1",
   "metadata": {},
   "outputs": [],
   "source": [
    "model_POI.emissionprob_"
   ]
  },
  {
   "cell_type": "markdown",
   "id": "050381d8",
   "metadata": {},
   "source": [
    "Show the 5 most important POIs for each hidden state"
   ]
  },
  {
   "cell_type": "code",
   "execution_count": null,
   "id": "e7128ccb",
   "metadata": {},
   "outputs": [],
   "source": [
    "for j,s in enumerate(model_POI.emissionprob_):\n",
    "    top5 = sorted(list(zip(s,list_POI)), key=lambda k: -k[0])[:5]\n",
    "    #print([(i[1], int(i[0]*100)) for i in top5])\n",
    "    print(f\"state S_{j}:\")\n",
    "    for i in top5:\n",
    "        print(f\"\\t{i[1]} ({int(i[0]*100)}\\%)\")"
   ]
  }
 ],
 "metadata": {
  "kernelspec": {
   "display_name": "Python 3 (ipykernel)",
   "language": "python",
   "name": "python3"
  },
  "language_info": {
   "codemirror_mode": {
    "name": "ipython",
    "version": 3
   },
   "file_extension": ".py",
   "mimetype": "text/x-python",
   "name": "python",
   "nbconvert_exporter": "python",
   "pygments_lexer": "ipython3",
   "version": "3.9.12"
  }
 },
 "nbformat": 4,
 "nbformat_minor": 5
}
